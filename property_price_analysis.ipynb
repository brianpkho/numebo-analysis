{
 "cells": [
  {
   "cell_type": "markdown",
   "metadata": {},
   "source": [
    "# Property Price Index Analysis"
   ]
  },
  {
   "cell_type": "markdown",
   "metadata": {},
   "source": [
    "About Property Value and Investment Indexes\n",
    "\n",
    "Note that there is no standard formula to calculate property price indexes. The formulas differ from Case-Shiller Index, UK Housing Price Index, etc.\n",
    "\n",
    "**Price to Income Ratio** is a fundamental measure for apartment purchase affordability, where a lower ratio indicates better affordability. It is typically calculated as the ratio of median apartment prices to median familial disposable income, expressed as years of income (although variations are used also elsewhere). Our formula assumes and uses:\n",
    "\n",
    "- net disposable family income, as defined as 1.5 * the average net salary (50% is the assumed percentage of women in the workforce)\n",
    "- median apartment size is 90 square meters\n",
    "- price per square meter (the formula uses) is the average price of square meter in the city center and outside of the city center\n",
    "\n",
    "**Mortgage as Percentage of Income** is a ratio of the actual monthly cost of the mortgage to take-home family income (lower is better). The average monthly salary is used to estimate family income. It assumes a 100% mortgage is taken on 20 years for the house(or apt) of 90 square meters which price per square meter is the average of prices in the city center and outside of the city center.\n",
    "\n",
    "**Loan Affordability Index** is an inverse of mortgage as percentage of income. The used formula is : `(100 / mortgage as percentage of income)` (higher is better).\n",
    "\n",
    "**Price to Rent Ratio** is the average cost of ownership divided by the received rent income (if buying to let) or the estimated rent that would be paid if renting (if buying to reside). Lower values suggest that it is better to buy rather than rent, and higher values suggest that it is better to rent rather than buy. Our formula to estimate rent per square meter assumes 1 bedroom apt has 50 square meters and 3 bedroom apartment has 110 square meters. It doesn't take into account taxes or maintenance fees.\n",
    "\n",
    "**Gross Rental Yield** is the total yearly gross rent divided by the house price (expressed in percentages). Higher is better."
   ]
  },
  {
   "cell_type": "code",
   "execution_count": 57,
   "metadata": {},
   "outputs": [],
   "source": [
    "import pandas as pd\n",
    "import json\n",
    "\n",
    "# Set display option to show all rows\n",
    "pd.set_option(\"display.max_rows\", 100)\n",
    "pd.set_option(\"display.max_columns\", 100)"
   ]
  },
  {
   "cell_type": "code",
   "execution_count": 58,
   "metadata": {},
   "outputs": [],
   "source": [
    "property_price_df = pd.read_json('data/property_price.json')\n"
   ]
  },
  {
   "cell_type": "code",
   "execution_count": 59,
   "metadata": {},
   "outputs": [],
   "source": [
    "crime_rate_df = pd.read_json(\"data/crime_rates.json\")"
   ]
  },
  {
   "cell_type": "code",
   "execution_count": 114,
   "metadata": {},
   "outputs": [],
   "source": [
    "cost_of_living_df = pd.read_json(\"data/cost_of_living.json\")\n",
    "cost_of_living_df = cost_of_living_df.drop(columns=[\"Cost of Living Details\"])"
   ]
  },
  {
   "cell_type": "code",
   "execution_count": 115,
   "metadata": {},
   "outputs": [
    {
     "data": {
      "text/html": [
       "<div>\n",
       "<style scoped>\n",
       "    .dataframe tbody tr th:only-of-type {\n",
       "        vertical-align: middle;\n",
       "    }\n",
       "\n",
       "    .dataframe tbody tr th {\n",
       "        vertical-align: top;\n",
       "    }\n",
       "\n",
       "    .dataframe thead th {\n",
       "        text-align: right;\n",
       "    }\n",
       "</style>\n",
       "<table border=\"1\" class=\"dataframe\">\n",
       "  <thead>\n",
       "    <tr style=\"text-align: right;\">\n",
       "      <th></th>\n",
       "      <th>Year</th>\n",
       "      <th>City</th>\n",
       "      <th>Cost of Living Index</th>\n",
       "      <th>Rent Index</th>\n",
       "      <th>Cost of Living Plus Rent Index</th>\n",
       "      <th>Groceries Index</th>\n",
       "      <th>Restaurant Index</th>\n",
       "      <th>Local Purchasing Power Index</th>\n",
       "    </tr>\n",
       "  </thead>\n",
       "  <tbody>\n",
       "    <tr>\n",
       "      <th>0</th>\n",
       "      <td>2024</td>\n",
       "      <td>Bern, Switzerland</td>\n",
       "      <td>110.5</td>\n",
       "      <td>42.3</td>\n",
       "      <td>78.2</td>\n",
       "      <td>108.3</td>\n",
       "      <td>96.5</td>\n",
       "      <td>130.7</td>\n",
       "    </tr>\n",
       "    <tr>\n",
       "      <th>1</th>\n",
       "      <td>2024</td>\n",
       "      <td>San Jose, CA, United States</td>\n",
       "      <td>90.5</td>\n",
       "      <td>72.2</td>\n",
       "      <td>81.8</td>\n",
       "      <td>90.4</td>\n",
       "      <td>83.5</td>\n",
       "      <td>139.7</td>\n",
       "    </tr>\n",
       "    <tr>\n",
       "      <th>2</th>\n",
       "      <td>2024</td>\n",
       "      <td>New York, NY, United States</td>\n",
       "      <td>100.0</td>\n",
       "      <td>100.0</td>\n",
       "      <td>100.0</td>\n",
       "      <td>100.0</td>\n",
       "      <td>100.0</td>\n",
       "      <td>100.0</td>\n",
       "    </tr>\n",
       "    <tr>\n",
       "      <th>3</th>\n",
       "      <td>2024</td>\n",
       "      <td>Geneva, Switzerland</td>\n",
       "      <td>109.8</td>\n",
       "      <td>66.8</td>\n",
       "      <td>89.4</td>\n",
       "      <td>114.0</td>\n",
       "      <td>107.3</td>\n",
       "      <td>112.2</td>\n",
       "    </tr>\n",
       "    <tr>\n",
       "      <th>4</th>\n",
       "      <td>2024</td>\n",
       "      <td>Lausanne, Switzerland</td>\n",
       "      <td>117.7</td>\n",
       "      <td>46.4</td>\n",
       "      <td>83.9</td>\n",
       "      <td>123.3</td>\n",
       "      <td>106.2</td>\n",
       "      <td>106.7</td>\n",
       "    </tr>\n",
       "  </tbody>\n",
       "</table>\n",
       "</div>"
      ],
      "text/plain": [
       "   Year                         City  Cost of Living Index  Rent Index  \\\n",
       "0  2024            Bern, Switzerland                 110.5        42.3   \n",
       "1  2024  San Jose, CA, United States                  90.5        72.2   \n",
       "2  2024  New York, NY, United States                 100.0       100.0   \n",
       "3  2024          Geneva, Switzerland                 109.8        66.8   \n",
       "4  2024        Lausanne, Switzerland                 117.7        46.4   \n",
       "\n",
       "   Cost of Living Plus Rent Index  Groceries Index  Restaurant Index  \\\n",
       "0                            78.2            108.3              96.5   \n",
       "1                            81.8             90.4              83.5   \n",
       "2                           100.0            100.0             100.0   \n",
       "3                            89.4            114.0             107.3   \n",
       "4                            83.9            123.3             106.2   \n",
       "\n",
       "   Local Purchasing Power Index  \n",
       "0                         130.7  \n",
       "1                         139.7  \n",
       "2                         100.0  \n",
       "3                         112.2  \n",
       "4                         106.7  "
      ]
     },
     "execution_count": 115,
     "metadata": {},
     "output_type": "execute_result"
    }
   ],
   "source": [
    "cost_of_living_df.head()"
   ]
  },
  {
   "cell_type": "code",
   "execution_count": 117,
   "metadata": {},
   "outputs": [],
   "source": [
    "merged_df = pd.merge(property_price_df, crime_rate_df, on=['City', 'Year'], how='left')\n",
    "merged_df = pd.merge(merged_df, cost_of_living_index, on=[\"City\", \"Year\"], how=\"left\")"
   ]
  },
  {
   "cell_type": "code",
   "execution_count": 119,
   "metadata": {},
   "outputs": [],
   "source": [
    "united_states_canada_only = merged_df[merged_df[\"City\"].str.contains(\"United States\") | merged_df[\"City\"].str.contains(\"Canada\")]"
   ]
  },
  {
   "cell_type": "code",
   "execution_count": 120,
   "metadata": {},
   "outputs": [],
   "source": [
    "yearly_property_price_df = {}\n",
    "\n",
    "for year in united_states_canada_only[\"Year\"].unique():\n",
    "    yearly_property_price_df[year] = (\n",
    "        united_states_canada_only[united_states_canada_only[\"Year\"] == year]\n",
    "        .sort_values(by=\"Price to Income Ratio\", ascending=True)\n",
    "        .reset_index(drop=True)\n",
    "    )"
   ]
  },
  {
   "cell_type": "code",
   "execution_count": null,
   "metadata": {},
   "outputs": [],
   "source": [
    "yearly_property_price_df[\"2024-mid\"].head(20)"
   ]
  },
  {
   "cell_type": "markdown",
   "metadata": {},
   "source": [
    "# Plot the data into a graph"
   ]
  },
  {
   "cell_type": "code",
   "execution_count": 133,
   "metadata": {},
   "outputs": [],
   "source": [
    "def plot_graph(df, city):\n",
    "    fig = make_subplots(rows=4, cols=4, start_cell=\"top-left\", subplot_titles=df.columns[1:])\n",
    "    fig.update_layout(title=city, height=1500, width= 1500)\n",
    "    curr_row = 1\n",
    "    curr_col = 1\n",
    "    for col in df.columns[1:]:\n",
    "        fig.add_trace(\n",
    "            go.Scatter(x=df[\"Year\"], y=df[col], mode=\"lines+markers\", name=col),\n",
    "            row=curr_row,\n",
    "            col=curr_col,\n",
    "        )\n",
    "        fig.update_xaxes(title_text=\"Year\", row=curr_row, col=curr_col)\n",
    "        fig.update_yaxes(title_text=col, row=curr_row, col=curr_col)\n",
    "        curr_col += 1\n",
    "        if curr_col == 5:\n",
    "            curr_row += 1\n",
    "            curr_col = 1\n",
    "            \n",
    "    fig.show()\n",
    "    pio.write_image(fig, f\"plots/{city}.png\")"
   ]
  },
  {
   "cell_type": "code",
   "execution_count": 138,
   "metadata": {},
   "outputs": [],
   "source": [
    "import plotly.express as px\n",
    "import plotly.io as pio\n",
    "import plotly.graph_objects as go\n",
    "from plotly.subplots import make_subplots\n",
    "\n",
    "cities = yearly_property_price_df[\"2024-mid\"].head(10)['City'].tolist()"
   ]
  },
  {
   "cell_type": "code",
   "execution_count": 139,
   "metadata": {},
   "outputs": [
    {
     "data": {
      "application/vnd.plotly.v1+json": {
       "config": {
        "plotlyServerURL": "https://plot.ly"
       },
       "data": [
        {
         "mode": "lines+markers",
         "name": "Price to Income Ratio",
         "type": "scatter",
         "x": [
          "2011",
          "2012",
          "2013",
          "2014",
          "2014-mid",
          "2015",
          "2015-mid",
          "2016",
          "2017",
          "2017-mid",
          "2018",
          "2018-mid",
          "2019",
          "2019-mid",
          "2020",
          "2020-mid",
          "2021",
          "2021-mid",
          "2022",
          "2024-mid"
         ],
         "xaxis": "x",
         "y": [
          2.6,
          3,
          1.9,
          1.2,
          1.3,
          1.4,
          1.9,
          1.3,
          1.2,
          1,
          1,
          1.6,
          1.7,
          1.5,
          1.7,
          1.5,
          1.6,
          1.3,
          1.4,
          1.2
         ],
         "yaxis": "y"
        },
        {
         "mode": "lines+markers",
         "name": "Gross Rental Yield City Centre",
         "type": "scatter",
         "x": [
          "2011",
          "2012",
          "2013",
          "2014",
          "2014-mid",
          "2015",
          "2015-mid",
          "2016",
          "2017",
          "2017-mid",
          "2018",
          "2018-mid",
          "2019",
          "2019-mid",
          "2020",
          "2020-mid",
          "2021",
          "2021-mid",
          "2022",
          "2024-mid"
         ],
         "xaxis": "x2",
         "y": [
          12,
          11.6,
          10.4,
          19.1,
          19.2,
          22.6,
          20.6,
          20.5,
          27.4,
          32.9,
          40.8,
          35.6,
          36.6,
          42.7,
          42.6,
          39.8,
          29.7,
          22.7,
          19.3,
          32.9
         ],
         "yaxis": "y2"
        },
        {
         "mode": "lines+markers",
         "name": "Gross Rental Yield Outside Centre",
         "type": "scatter",
         "x": [
          "2011",
          "2012",
          "2013",
          "2014",
          "2014-mid",
          "2015",
          "2015-mid",
          "2016",
          "2017",
          "2017-mid",
          "2018",
          "2018-mid",
          "2019",
          "2019-mid",
          "2020",
          "2020-mid",
          "2021",
          "2021-mid",
          "2022",
          "2024-mid"
         ],
         "xaxis": "x3",
         "y": [
          14.5,
          10.6,
          12.9,
          17.4,
          17.7,
          18.3,
          13.7,
          18.3,
          23.4,
          26.9,
          27.5,
          24.7,
          20.3,
          25.6,
          22.7,
          26.4,
          43.2,
          30.5,
          31.3,
          21.8
         ],
         "yaxis": "y3"
        },
        {
         "mode": "lines+markers",
         "name": "Price to Rent Ratio City Centre",
         "type": "scatter",
         "x": [
          "2011",
          "2012",
          "2013",
          "2014",
          "2014-mid",
          "2015",
          "2015-mid",
          "2016",
          "2017",
          "2017-mid",
          "2018",
          "2018-mid",
          "2019",
          "2019-mid",
          "2020",
          "2020-mid",
          "2021",
          "2021-mid",
          "2022",
          "2024-mid"
         ],
         "xaxis": "x4",
         "y": [
          8.4,
          8.6,
          9.7,
          5.2,
          5.2,
          4.4,
          4.9,
          4.9,
          3.7,
          3,
          2.4,
          2.8,
          2.7,
          2.3,
          2.3,
          2.5,
          3.4,
          4.4,
          5.2,
          3
         ],
         "yaxis": "y4"
        },
        {
         "mode": "lines+markers",
         "name": "Price to Rent Ratio Outside City Centre",
         "type": "scatter",
         "x": [
          "2011",
          "2012",
          "2013",
          "2014",
          "2014-mid",
          "2015",
          "2015-mid",
          "2016",
          "2017",
          "2017-mid",
          "2018",
          "2018-mid",
          "2019",
          "2019-mid",
          "2020",
          "2020-mid",
          "2021",
          "2021-mid",
          "2022",
          "2024-mid"
         ],
         "xaxis": "x5",
         "y": [
          6.9,
          9.5,
          7.8,
          5.7,
          5.6,
          5.5,
          7.3,
          5.5,
          4.3,
          3.7,
          3.6,
          4,
          4.9,
          3.9,
          4.4,
          3.8,
          2.3,
          3.3,
          3.2,
          4.6
         ],
         "yaxis": "y5"
        },
        {
         "mode": "lines+markers",
         "name": "Mortgage as a Percentage of Income",
         "type": "scatter",
         "x": [
          "2011",
          "2012",
          "2013",
          "2014",
          "2014-mid",
          "2015",
          "2015-mid",
          "2016",
          "2017",
          "2017-mid",
          "2018",
          "2018-mid",
          "2019",
          "2019-mid",
          "2020",
          "2020-mid",
          "2021",
          "2021-mid",
          "2022",
          "2024-mid"
         ],
         "xaxis": "x6",
         "y": [
          "23.1",
          "25.2",
          "14.4",
          "9.5",
          "10.1",
          "10.4",
          "13.9",
          "9.5",
          "8.9",
          "7.5",
          "7.5",
          "12.0",
          "12.7",
          "11.4",
          "12.6",
          "11.3",
          "11.3",
          "9.2",
          "9.6",
          "10.9"
         ],
         "yaxis": "y6"
        },
        {
         "mode": "lines+markers",
         "name": "Affordability Index",
         "type": "scatter",
         "x": [
          "2011",
          "2012",
          "2013",
          "2014",
          "2014-mid",
          "2015",
          "2015-mid",
          "2016",
          "2017",
          "2017-mid",
          "2018",
          "2018-mid",
          "2019",
          "2019-mid",
          "2020",
          "2020-mid",
          "2021",
          "2021-mid",
          "2022",
          "2024-mid"
         ],
         "xaxis": "x7",
         "y": [
          "4.3",
          "4.0",
          "6.9",
          "10.5",
          "9.9",
          "9.6",
          "7.2",
          "10.5",
          "11.2",
          "13.4",
          "13.4",
          "8.4",
          "7.9",
          "8.8",
          "7.9",
          "8.8",
          "8.9",
          "10.9",
          "10.4",
          "9.2"
         ],
         "yaxis": "y7"
        },
        {
         "mode": "lines+markers",
         "name": "Crime Index",
         "type": "scatter",
         "x": [
          "2011",
          "2012",
          "2013",
          "2014",
          "2014-mid",
          "2015",
          "2015-mid",
          "2016",
          "2017",
          "2017-mid",
          "2018",
          "2018-mid",
          "2019",
          "2019-mid",
          "2020",
          "2020-mid",
          "2021",
          "2021-mid",
          "2022",
          "2024-mid"
         ],
         "xaxis": "x8",
         "y": [
          null,
          null,
          null,
          77.7,
          75.7,
          74.6,
          76.5,
          76.2,
          72.1,
          72.4,
          71.4,
          71.2,
          71.8,
          71.9,
          72.6,
          73.8,
          73.5,
          73.6,
          74.8,
          74.3
         ],
         "yaxis": "y8"
        },
        {
         "mode": "lines+markers",
         "name": "Safety Index",
         "type": "scatter",
         "x": [
          "2011",
          "2012",
          "2013",
          "2014",
          "2014-mid",
          "2015",
          "2015-mid",
          "2016",
          "2017",
          "2017-mid",
          "2018",
          "2018-mid",
          "2019",
          "2019-mid",
          "2020",
          "2020-mid",
          "2021",
          "2021-mid",
          "2022",
          "2024-mid"
         ],
         "xaxis": "x9",
         "y": [
          null,
          null,
          null,
          22.3,
          24.3,
          25.4,
          23.5,
          23.8,
          27.9,
          27.6,
          28.6,
          28.8,
          28.2,
          28.1,
          27.4,
          26.2,
          26.5,
          26.4,
          25.2,
          25.7
         ],
         "yaxis": "y9"
        },
        {
         "mode": "lines+markers",
         "name": "Cost of Living Index",
         "type": "scatter",
         "x": [
          "2011",
          "2012",
          "2013",
          "2014",
          "2014-mid",
          "2015",
          "2015-mid",
          "2016",
          "2017",
          "2017-mid",
          "2018",
          "2018-mid",
          "2019",
          "2019-mid",
          "2020",
          "2020-mid",
          "2021",
          "2021-mid",
          "2022",
          "2024-mid"
         ],
         "xaxis": "x10",
         "y": [
          null,
          null,
          null,
          null,
          null,
          null,
          null,
          null,
          null,
          null,
          null,
          null,
          null,
          null,
          null,
          null,
          null,
          null,
          null,
          null
         ],
         "yaxis": "y10"
        },
        {
         "mode": "lines+markers",
         "name": "Rent Index",
         "type": "scatter",
         "x": [
          "2011",
          "2012",
          "2013",
          "2014",
          "2014-mid",
          "2015",
          "2015-mid",
          "2016",
          "2017",
          "2017-mid",
          "2018",
          "2018-mid",
          "2019",
          "2019-mid",
          "2020",
          "2020-mid",
          "2021",
          "2021-mid",
          "2022",
          "2024-mid"
         ],
         "xaxis": "x11",
         "y": [
          null,
          null,
          null,
          null,
          null,
          null,
          null,
          null,
          null,
          null,
          null,
          null,
          null,
          null,
          null,
          null,
          null,
          null,
          null,
          null
         ],
         "yaxis": "y11"
        },
        {
         "mode": "lines+markers",
         "name": "Cost of Living Plus Rent Index",
         "type": "scatter",
         "x": [
          "2011",
          "2012",
          "2013",
          "2014",
          "2014-mid",
          "2015",
          "2015-mid",
          "2016",
          "2017",
          "2017-mid",
          "2018",
          "2018-mid",
          "2019",
          "2019-mid",
          "2020",
          "2020-mid",
          "2021",
          "2021-mid",
          "2022",
          "2024-mid"
         ],
         "xaxis": "x12",
         "y": [
          null,
          null,
          null,
          null,
          null,
          null,
          null,
          null,
          null,
          null,
          null,
          null,
          null,
          null,
          null,
          null,
          null,
          null,
          null,
          null
         ],
         "yaxis": "y12"
        },
        {
         "mode": "lines+markers",
         "name": "Groceries Index",
         "type": "scatter",
         "x": [
          "2011",
          "2012",
          "2013",
          "2014",
          "2014-mid",
          "2015",
          "2015-mid",
          "2016",
          "2017",
          "2017-mid",
          "2018",
          "2018-mid",
          "2019",
          "2019-mid",
          "2020",
          "2020-mid",
          "2021",
          "2021-mid",
          "2022",
          "2024-mid"
         ],
         "xaxis": "x13",
         "y": [
          null,
          null,
          null,
          null,
          null,
          null,
          null,
          null,
          null,
          null,
          null,
          null,
          null,
          null,
          null,
          null,
          null,
          null,
          null,
          null
         ],
         "yaxis": "y13"
        },
        {
         "mode": "lines+markers",
         "name": "Restaurant Index",
         "type": "scatter",
         "x": [
          "2011",
          "2012",
          "2013",
          "2014",
          "2014-mid",
          "2015",
          "2015-mid",
          "2016",
          "2017",
          "2017-mid",
          "2018",
          "2018-mid",
          "2019",
          "2019-mid",
          "2020",
          "2020-mid",
          "2021",
          "2021-mid",
          "2022",
          "2024-mid"
         ],
         "xaxis": "x14",
         "y": [
          null,
          null,
          null,
          null,
          null,
          null,
          null,
          null,
          null,
          null,
          null,
          null,
          null,
          null,
          null,
          null,
          null,
          null,
          null,
          null
         ],
         "yaxis": "y14"
        },
        {
         "mode": "lines+markers",
         "name": "Local Purchasing Power Index",
         "type": "scatter",
         "x": [
          "2011",
          "2012",
          "2013",
          "2014",
          "2014-mid",
          "2015",
          "2015-mid",
          "2016",
          "2017",
          "2017-mid",
          "2018",
          "2018-mid",
          "2019",
          "2019-mid",
          "2020",
          "2020-mid",
          "2021",
          "2021-mid",
          "2022",
          "2024-mid"
         ],
         "xaxis": "x15",
         "y": [
          null,
          null,
          null,
          null,
          null,
          null,
          null,
          null,
          null,
          null,
          null,
          null,
          null,
          null,
          null,
          null,
          null,
          null,
          null,
          null
         ],
         "yaxis": "y15"
        }
       ],
       "layout": {
        "annotations": [
         {
          "font": {
           "size": 16
          },
          "showarrow": false,
          "text": "Price to Income Ratio",
          "x": 0.10625,
          "xanchor": "center",
          "xref": "paper",
          "y": 1,
          "yanchor": "bottom",
          "yref": "paper"
         },
         {
          "font": {
           "size": 16
          },
          "showarrow": false,
          "text": "Gross Rental Yield City Centre",
          "x": 0.36875,
          "xanchor": "center",
          "xref": "paper",
          "y": 1,
          "yanchor": "bottom",
          "yref": "paper"
         },
         {
          "font": {
           "size": 16
          },
          "showarrow": false,
          "text": "Gross Rental Yield Outside Centre",
          "x": 0.6312500000000001,
          "xanchor": "center",
          "xref": "paper",
          "y": 1,
          "yanchor": "bottom",
          "yref": "paper"
         },
         {
          "font": {
           "size": 16
          },
          "showarrow": false,
          "text": "Price to Rent Ratio City Centre",
          "x": 0.89375,
          "xanchor": "center",
          "xref": "paper",
          "y": 1,
          "yanchor": "bottom",
          "yref": "paper"
         },
         {
          "font": {
           "size": 16
          },
          "showarrow": false,
          "text": "Price to Rent Ratio Outside City Centre",
          "x": 0.10625,
          "xanchor": "center",
          "xref": "paper",
          "y": 0.71875,
          "yanchor": "bottom",
          "yref": "paper"
         },
         {
          "font": {
           "size": 16
          },
          "showarrow": false,
          "text": "Mortgage as a Percentage of Income",
          "x": 0.36875,
          "xanchor": "center",
          "xref": "paper",
          "y": 0.71875,
          "yanchor": "bottom",
          "yref": "paper"
         },
         {
          "font": {
           "size": 16
          },
          "showarrow": false,
          "text": "Affordability Index",
          "x": 0.6312500000000001,
          "xanchor": "center",
          "xref": "paper",
          "y": 0.71875,
          "yanchor": "bottom",
          "yref": "paper"
         },
         {
          "font": {
           "size": 16
          },
          "showarrow": false,
          "text": "Crime Index",
          "x": 0.89375,
          "xanchor": "center",
          "xref": "paper",
          "y": 0.71875,
          "yanchor": "bottom",
          "yref": "paper"
         },
         {
          "font": {
           "size": 16
          },
          "showarrow": false,
          "text": "Safety Index",
          "x": 0.10625,
          "xanchor": "center",
          "xref": "paper",
          "y": 0.4375,
          "yanchor": "bottom",
          "yref": "paper"
         },
         {
          "font": {
           "size": 16
          },
          "showarrow": false,
          "text": "Cost of Living Index",
          "x": 0.36875,
          "xanchor": "center",
          "xref": "paper",
          "y": 0.4375,
          "yanchor": "bottom",
          "yref": "paper"
         },
         {
          "font": {
           "size": 16
          },
          "showarrow": false,
          "text": "Rent Index",
          "x": 0.6312500000000001,
          "xanchor": "center",
          "xref": "paper",
          "y": 0.4375,
          "yanchor": "bottom",
          "yref": "paper"
         },
         {
          "font": {
           "size": 16
          },
          "showarrow": false,
          "text": "Cost of Living Plus Rent Index",
          "x": 0.89375,
          "xanchor": "center",
          "xref": "paper",
          "y": 0.4375,
          "yanchor": "bottom",
          "yref": "paper"
         },
         {
          "font": {
           "size": 16
          },
          "showarrow": false,
          "text": "Groceries Index",
          "x": 0.10625,
          "xanchor": "center",
          "xref": "paper",
          "y": 0.15625,
          "yanchor": "bottom",
          "yref": "paper"
         },
         {
          "font": {
           "size": 16
          },
          "showarrow": false,
          "text": "Restaurant Index",
          "x": 0.36875,
          "xanchor": "center",
          "xref": "paper",
          "y": 0.15625,
          "yanchor": "bottom",
          "yref": "paper"
         },
         {
          "font": {
           "size": 16
          },
          "showarrow": false,
          "text": "Local Purchasing Power Index",
          "x": 0.6312500000000001,
          "xanchor": "center",
          "xref": "paper",
          "y": 0.15625,
          "yanchor": "bottom",
          "yref": "paper"
         }
        ],
        "height": 1500,
        "template": {
         "data": {
          "bar": [
           {
            "error_x": {
             "color": "#2a3f5f"
            },
            "error_y": {
             "color": "#2a3f5f"
            },
            "marker": {
             "line": {
              "color": "#E5ECF6",
              "width": 0.5
             },
             "pattern": {
              "fillmode": "overlay",
              "size": 10,
              "solidity": 0.2
             }
            },
            "type": "bar"
           }
          ],
          "barpolar": [
           {
            "marker": {
             "line": {
              "color": "#E5ECF6",
              "width": 0.5
             },
             "pattern": {
              "fillmode": "overlay",
              "size": 10,
              "solidity": 0.2
             }
            },
            "type": "barpolar"
           }
          ],
          "carpet": [
           {
            "aaxis": {
             "endlinecolor": "#2a3f5f",
             "gridcolor": "white",
             "linecolor": "white",
             "minorgridcolor": "white",
             "startlinecolor": "#2a3f5f"
            },
            "baxis": {
             "endlinecolor": "#2a3f5f",
             "gridcolor": "white",
             "linecolor": "white",
             "minorgridcolor": "white",
             "startlinecolor": "#2a3f5f"
            },
            "type": "carpet"
           }
          ],
          "choropleth": [
           {
            "colorbar": {
             "outlinewidth": 0,
             "ticks": ""
            },
            "type": "choropleth"
           }
          ],
          "contour": [
           {
            "colorbar": {
             "outlinewidth": 0,
             "ticks": ""
            },
            "colorscale": [
             [
              0,
              "#0d0887"
             ],
             [
              0.1111111111111111,
              "#46039f"
             ],
             [
              0.2222222222222222,
              "#7201a8"
             ],
             [
              0.3333333333333333,
              "#9c179e"
             ],
             [
              0.4444444444444444,
              "#bd3786"
             ],
             [
              0.5555555555555556,
              "#d8576b"
             ],
             [
              0.6666666666666666,
              "#ed7953"
             ],
             [
              0.7777777777777778,
              "#fb9f3a"
             ],
             [
              0.8888888888888888,
              "#fdca26"
             ],
             [
              1,
              "#f0f921"
             ]
            ],
            "type": "contour"
           }
          ],
          "contourcarpet": [
           {
            "colorbar": {
             "outlinewidth": 0,
             "ticks": ""
            },
            "type": "contourcarpet"
           }
          ],
          "heatmap": [
           {
            "colorbar": {
             "outlinewidth": 0,
             "ticks": ""
            },
            "colorscale": [
             [
              0,
              "#0d0887"
             ],
             [
              0.1111111111111111,
              "#46039f"
             ],
             [
              0.2222222222222222,
              "#7201a8"
             ],
             [
              0.3333333333333333,
              "#9c179e"
             ],
             [
              0.4444444444444444,
              "#bd3786"
             ],
             [
              0.5555555555555556,
              "#d8576b"
             ],
             [
              0.6666666666666666,
              "#ed7953"
             ],
             [
              0.7777777777777778,
              "#fb9f3a"
             ],
             [
              0.8888888888888888,
              "#fdca26"
             ],
             [
              1,
              "#f0f921"
             ]
            ],
            "type": "heatmap"
           }
          ],
          "heatmapgl": [
           {
            "colorbar": {
             "outlinewidth": 0,
             "ticks": ""
            },
            "colorscale": [
             [
              0,
              "#0d0887"
             ],
             [
              0.1111111111111111,
              "#46039f"
             ],
             [
              0.2222222222222222,
              "#7201a8"
             ],
             [
              0.3333333333333333,
              "#9c179e"
             ],
             [
              0.4444444444444444,
              "#bd3786"
             ],
             [
              0.5555555555555556,
              "#d8576b"
             ],
             [
              0.6666666666666666,
              "#ed7953"
             ],
             [
              0.7777777777777778,
              "#fb9f3a"
             ],
             [
              0.8888888888888888,
              "#fdca26"
             ],
             [
              1,
              "#f0f921"
             ]
            ],
            "type": "heatmapgl"
           }
          ],
          "histogram": [
           {
            "marker": {
             "pattern": {
              "fillmode": "overlay",
              "size": 10,
              "solidity": 0.2
             }
            },
            "type": "histogram"
           }
          ],
          "histogram2d": [
           {
            "colorbar": {
             "outlinewidth": 0,
             "ticks": ""
            },
            "colorscale": [
             [
              0,
              "#0d0887"
             ],
             [
              0.1111111111111111,
              "#46039f"
             ],
             [
              0.2222222222222222,
              "#7201a8"
             ],
             [
              0.3333333333333333,
              "#9c179e"
             ],
             [
              0.4444444444444444,
              "#bd3786"
             ],
             [
              0.5555555555555556,
              "#d8576b"
             ],
             [
              0.6666666666666666,
              "#ed7953"
             ],
             [
              0.7777777777777778,
              "#fb9f3a"
             ],
             [
              0.8888888888888888,
              "#fdca26"
             ],
             [
              1,
              "#f0f921"
             ]
            ],
            "type": "histogram2d"
           }
          ],
          "histogram2dcontour": [
           {
            "colorbar": {
             "outlinewidth": 0,
             "ticks": ""
            },
            "colorscale": [
             [
              0,
              "#0d0887"
             ],
             [
              0.1111111111111111,
              "#46039f"
             ],
             [
              0.2222222222222222,
              "#7201a8"
             ],
             [
              0.3333333333333333,
              "#9c179e"
             ],
             [
              0.4444444444444444,
              "#bd3786"
             ],
             [
              0.5555555555555556,
              "#d8576b"
             ],
             [
              0.6666666666666666,
              "#ed7953"
             ],
             [
              0.7777777777777778,
              "#fb9f3a"
             ],
             [
              0.8888888888888888,
              "#fdca26"
             ],
             [
              1,
              "#f0f921"
             ]
            ],
            "type": "histogram2dcontour"
           }
          ],
          "mesh3d": [
           {
            "colorbar": {
             "outlinewidth": 0,
             "ticks": ""
            },
            "type": "mesh3d"
           }
          ],
          "parcoords": [
           {
            "line": {
             "colorbar": {
              "outlinewidth": 0,
              "ticks": ""
             }
            },
            "type": "parcoords"
           }
          ],
          "pie": [
           {
            "automargin": true,
            "type": "pie"
           }
          ],
          "scatter": [
           {
            "fillpattern": {
             "fillmode": "overlay",
             "size": 10,
             "solidity": 0.2
            },
            "type": "scatter"
           }
          ],
          "scatter3d": [
           {
            "line": {
             "colorbar": {
              "outlinewidth": 0,
              "ticks": ""
             }
            },
            "marker": {
             "colorbar": {
              "outlinewidth": 0,
              "ticks": ""
             }
            },
            "type": "scatter3d"
           }
          ],
          "scattercarpet": [
           {
            "marker": {
             "colorbar": {
              "outlinewidth": 0,
              "ticks": ""
             }
            },
            "type": "scattercarpet"
           }
          ],
          "scattergeo": [
           {
            "marker": {
             "colorbar": {
              "outlinewidth": 0,
              "ticks": ""
             }
            },
            "type": "scattergeo"
           }
          ],
          "scattergl": [
           {
            "marker": {
             "colorbar": {
              "outlinewidth": 0,
              "ticks": ""
             }
            },
            "type": "scattergl"
           }
          ],
          "scattermapbox": [
           {
            "marker": {
             "colorbar": {
              "outlinewidth": 0,
              "ticks": ""
             }
            },
            "type": "scattermapbox"
           }
          ],
          "scatterpolar": [
           {
            "marker": {
             "colorbar": {
              "outlinewidth": 0,
              "ticks": ""
             }
            },
            "type": "scatterpolar"
           }
          ],
          "scatterpolargl": [
           {
            "marker": {
             "colorbar": {
              "outlinewidth": 0,
              "ticks": ""
             }
            },
            "type": "scatterpolargl"
           }
          ],
          "scatterternary": [
           {
            "marker": {
             "colorbar": {
              "outlinewidth": 0,
              "ticks": ""
             }
            },
            "type": "scatterternary"
           }
          ],
          "surface": [
           {
            "colorbar": {
             "outlinewidth": 0,
             "ticks": ""
            },
            "colorscale": [
             [
              0,
              "#0d0887"
             ],
             [
              0.1111111111111111,
              "#46039f"
             ],
             [
              0.2222222222222222,
              "#7201a8"
             ],
             [
              0.3333333333333333,
              "#9c179e"
             ],
             [
              0.4444444444444444,
              "#bd3786"
             ],
             [
              0.5555555555555556,
              "#d8576b"
             ],
             [
              0.6666666666666666,
              "#ed7953"
             ],
             [
              0.7777777777777778,
              "#fb9f3a"
             ],
             [
              0.8888888888888888,
              "#fdca26"
             ],
             [
              1,
              "#f0f921"
             ]
            ],
            "type": "surface"
           }
          ],
          "table": [
           {
            "cells": {
             "fill": {
              "color": "#EBF0F8"
             },
             "line": {
              "color": "white"
             }
            },
            "header": {
             "fill": {
              "color": "#C8D4E3"
             },
             "line": {
              "color": "white"
             }
            },
            "type": "table"
           }
          ]
         },
         "layout": {
          "annotationdefaults": {
           "arrowcolor": "#2a3f5f",
           "arrowhead": 0,
           "arrowwidth": 1
          },
          "autotypenumbers": "strict",
          "coloraxis": {
           "colorbar": {
            "outlinewidth": 0,
            "ticks": ""
           }
          },
          "colorscale": {
           "diverging": [
            [
             0,
             "#8e0152"
            ],
            [
             0.1,
             "#c51b7d"
            ],
            [
             0.2,
             "#de77ae"
            ],
            [
             0.3,
             "#f1b6da"
            ],
            [
             0.4,
             "#fde0ef"
            ],
            [
             0.5,
             "#f7f7f7"
            ],
            [
             0.6,
             "#e6f5d0"
            ],
            [
             0.7,
             "#b8e186"
            ],
            [
             0.8,
             "#7fbc41"
            ],
            [
             0.9,
             "#4d9221"
            ],
            [
             1,
             "#276419"
            ]
           ],
           "sequential": [
            [
             0,
             "#0d0887"
            ],
            [
             0.1111111111111111,
             "#46039f"
            ],
            [
             0.2222222222222222,
             "#7201a8"
            ],
            [
             0.3333333333333333,
             "#9c179e"
            ],
            [
             0.4444444444444444,
             "#bd3786"
            ],
            [
             0.5555555555555556,
             "#d8576b"
            ],
            [
             0.6666666666666666,
             "#ed7953"
            ],
            [
             0.7777777777777778,
             "#fb9f3a"
            ],
            [
             0.8888888888888888,
             "#fdca26"
            ],
            [
             1,
             "#f0f921"
            ]
           ],
           "sequentialminus": [
            [
             0,
             "#0d0887"
            ],
            [
             0.1111111111111111,
             "#46039f"
            ],
            [
             0.2222222222222222,
             "#7201a8"
            ],
            [
             0.3333333333333333,
             "#9c179e"
            ],
            [
             0.4444444444444444,
             "#bd3786"
            ],
            [
             0.5555555555555556,
             "#d8576b"
            ],
            [
             0.6666666666666666,
             "#ed7953"
            ],
            [
             0.7777777777777778,
             "#fb9f3a"
            ],
            [
             0.8888888888888888,
             "#fdca26"
            ],
            [
             1,
             "#f0f921"
            ]
           ]
          },
          "colorway": [
           "#636efa",
           "#EF553B",
           "#00cc96",
           "#ab63fa",
           "#FFA15A",
           "#19d3f3",
           "#FF6692",
           "#B6E880",
           "#FF97FF",
           "#FECB52"
          ],
          "font": {
           "color": "#2a3f5f"
          },
          "geo": {
           "bgcolor": "white",
           "lakecolor": "white",
           "landcolor": "#E5ECF6",
           "showlakes": true,
           "showland": true,
           "subunitcolor": "white"
          },
          "hoverlabel": {
           "align": "left"
          },
          "hovermode": "closest",
          "mapbox": {
           "style": "light"
          },
          "paper_bgcolor": "white",
          "plot_bgcolor": "#E5ECF6",
          "polar": {
           "angularaxis": {
            "gridcolor": "white",
            "linecolor": "white",
            "ticks": ""
           },
           "bgcolor": "#E5ECF6",
           "radialaxis": {
            "gridcolor": "white",
            "linecolor": "white",
            "ticks": ""
           }
          },
          "scene": {
           "xaxis": {
            "backgroundcolor": "#E5ECF6",
            "gridcolor": "white",
            "gridwidth": 2,
            "linecolor": "white",
            "showbackground": true,
            "ticks": "",
            "zerolinecolor": "white"
           },
           "yaxis": {
            "backgroundcolor": "#E5ECF6",
            "gridcolor": "white",
            "gridwidth": 2,
            "linecolor": "white",
            "showbackground": true,
            "ticks": "",
            "zerolinecolor": "white"
           },
           "zaxis": {
            "backgroundcolor": "#E5ECF6",
            "gridcolor": "white",
            "gridwidth": 2,
            "linecolor": "white",
            "showbackground": true,
            "ticks": "",
            "zerolinecolor": "white"
           }
          },
          "shapedefaults": {
           "line": {
            "color": "#2a3f5f"
           }
          },
          "ternary": {
           "aaxis": {
            "gridcolor": "white",
            "linecolor": "white",
            "ticks": ""
           },
           "baxis": {
            "gridcolor": "white",
            "linecolor": "white",
            "ticks": ""
           },
           "bgcolor": "#E5ECF6",
           "caxis": {
            "gridcolor": "white",
            "linecolor": "white",
            "ticks": ""
           }
          },
          "title": {
           "x": 0.05
          },
          "xaxis": {
           "automargin": true,
           "gridcolor": "white",
           "linecolor": "white",
           "ticks": "",
           "title": {
            "standoff": 15
           },
           "zerolinecolor": "white",
           "zerolinewidth": 2
          },
          "yaxis": {
           "automargin": true,
           "gridcolor": "white",
           "linecolor": "white",
           "ticks": "",
           "title": {
            "standoff": 15
           },
           "zerolinecolor": "white",
           "zerolinewidth": 2
          }
         }
        },
        "title": {
         "text": "Detroit, MI, United States"
        },
        "width": 1500,
        "xaxis": {
         "anchor": "y",
         "domain": [
          0,
          0.2125
         ],
         "title": {
          "text": "Year"
         }
        },
        "xaxis10": {
         "anchor": "y10",
         "domain": [
          0.2625,
          0.475
         ],
         "title": {
          "text": "Year"
         }
        },
        "xaxis11": {
         "anchor": "y11",
         "domain": [
          0.525,
          0.7375
         ],
         "title": {
          "text": "Year"
         }
        },
        "xaxis12": {
         "anchor": "y12",
         "domain": [
          0.7875,
          1
         ],
         "title": {
          "text": "Year"
         }
        },
        "xaxis13": {
         "anchor": "y13",
         "domain": [
          0,
          0.2125
         ],
         "title": {
          "text": "Year"
         }
        },
        "xaxis14": {
         "anchor": "y14",
         "domain": [
          0.2625,
          0.475
         ],
         "title": {
          "text": "Year"
         }
        },
        "xaxis15": {
         "anchor": "y15",
         "domain": [
          0.525,
          0.7375
         ],
         "title": {
          "text": "Year"
         }
        },
        "xaxis16": {
         "anchor": "y16",
         "domain": [
          0.7875,
          1
         ]
        },
        "xaxis2": {
         "anchor": "y2",
         "domain": [
          0.2625,
          0.475
         ],
         "title": {
          "text": "Year"
         }
        },
        "xaxis3": {
         "anchor": "y3",
         "domain": [
          0.525,
          0.7375
         ],
         "title": {
          "text": "Year"
         }
        },
        "xaxis4": {
         "anchor": "y4",
         "domain": [
          0.7875,
          1
         ],
         "title": {
          "text": "Year"
         }
        },
        "xaxis5": {
         "anchor": "y5",
         "domain": [
          0,
          0.2125
         ],
         "title": {
          "text": "Year"
         }
        },
        "xaxis6": {
         "anchor": "y6",
         "domain": [
          0.2625,
          0.475
         ],
         "title": {
          "text": "Year"
         }
        },
        "xaxis7": {
         "anchor": "y7",
         "domain": [
          0.525,
          0.7375
         ],
         "title": {
          "text": "Year"
         }
        },
        "xaxis8": {
         "anchor": "y8",
         "domain": [
          0.7875,
          1
         ],
         "title": {
          "text": "Year"
         }
        },
        "xaxis9": {
         "anchor": "y9",
         "domain": [
          0,
          0.2125
         ],
         "title": {
          "text": "Year"
         }
        },
        "yaxis": {
         "anchor": "x",
         "domain": [
          0.84375,
          1
         ],
         "title": {
          "text": "Price to Income Ratio"
         }
        },
        "yaxis10": {
         "anchor": "x10",
         "domain": [
          0.28125,
          0.4375
         ],
         "title": {
          "text": "Cost of Living Index"
         }
        },
        "yaxis11": {
         "anchor": "x11",
         "domain": [
          0.28125,
          0.4375
         ],
         "title": {
          "text": "Rent Index"
         }
        },
        "yaxis12": {
         "anchor": "x12",
         "domain": [
          0.28125,
          0.4375
         ],
         "title": {
          "text": "Cost of Living Plus Rent Index"
         }
        },
        "yaxis13": {
         "anchor": "x13",
         "domain": [
          0,
          0.15625
         ],
         "title": {
          "text": "Groceries Index"
         }
        },
        "yaxis14": {
         "anchor": "x14",
         "domain": [
          0,
          0.15625
         ],
         "title": {
          "text": "Restaurant Index"
         }
        },
        "yaxis15": {
         "anchor": "x15",
         "domain": [
          0,
          0.15625
         ],
         "title": {
          "text": "Local Purchasing Power Index"
         }
        },
        "yaxis16": {
         "anchor": "x16",
         "domain": [
          0,
          0.15625
         ]
        },
        "yaxis2": {
         "anchor": "x2",
         "domain": [
          0.84375,
          1
         ],
         "title": {
          "text": "Gross Rental Yield City Centre"
         }
        },
        "yaxis3": {
         "anchor": "x3",
         "domain": [
          0.84375,
          1
         ],
         "title": {
          "text": "Gross Rental Yield Outside Centre"
         }
        },
        "yaxis4": {
         "anchor": "x4",
         "domain": [
          0.84375,
          1
         ],
         "title": {
          "text": "Price to Rent Ratio City Centre"
         }
        },
        "yaxis5": {
         "anchor": "x5",
         "domain": [
          0.5625,
          0.71875
         ],
         "title": {
          "text": "Price to Rent Ratio Outside City Centre"
         }
        },
        "yaxis6": {
         "anchor": "x6",
         "domain": [
          0.5625,
          0.71875
         ],
         "title": {
          "text": "Mortgage as a Percentage of Income"
         }
        },
        "yaxis7": {
         "anchor": "x7",
         "domain": [
          0.5625,
          0.71875
         ],
         "title": {
          "text": "Affordability Index"
         }
        },
        "yaxis8": {
         "anchor": "x8",
         "domain": [
          0.5625,
          0.71875
         ],
         "title": {
          "text": "Crime Index"
         }
        },
        "yaxis9": {
         "anchor": "x9",
         "domain": [
          0.28125,
          0.4375
         ],
         "title": {
          "text": "Safety Index"
         }
        }
       }
      },
      "text/html": [
       "<div>                            <div id=\"7425255e-46ba-4add-a3d6-c2751c2f3451\" class=\"plotly-graph-div\" style=\"height:1500px; width:1500px;\"></div>            <script type=\"text/javascript\">                require([\"plotly\"], function(Plotly) {                    window.PLOTLYENV=window.PLOTLYENV || {};                                    if (document.getElementById(\"7425255e-46ba-4add-a3d6-c2751c2f3451\")) {                    Plotly.newPlot(                        \"7425255e-46ba-4add-a3d6-c2751c2f3451\",                        [{\"mode\":\"lines+markers\",\"name\":\"Price to Income Ratio\",\"x\":[\"2011\",\"2012\",\"2013\",\"2014\",\"2014-mid\",\"2015\",\"2015-mid\",\"2016\",\"2017\",\"2017-mid\",\"2018\",\"2018-mid\",\"2019\",\"2019-mid\",\"2020\",\"2020-mid\",\"2021\",\"2021-mid\",\"2022\",\"2024-mid\"],\"y\":[2.6,3.0,1.9,1.2,1.3,1.4,1.9,1.3,1.2,1.0,1.0,1.6,1.7,1.5,1.7,1.5,1.6,1.3,1.4,1.2],\"type\":\"scatter\",\"xaxis\":\"x\",\"yaxis\":\"y\"},{\"mode\":\"lines+markers\",\"name\":\"Gross Rental Yield City Centre\",\"x\":[\"2011\",\"2012\",\"2013\",\"2014\",\"2014-mid\",\"2015\",\"2015-mid\",\"2016\",\"2017\",\"2017-mid\",\"2018\",\"2018-mid\",\"2019\",\"2019-mid\",\"2020\",\"2020-mid\",\"2021\",\"2021-mid\",\"2022\",\"2024-mid\"],\"y\":[12.0,11.6,10.4,19.1,19.2,22.6,20.6,20.5,27.4,32.9,40.8,35.6,36.6,42.7,42.6,39.8,29.7,22.7,19.3,32.9],\"type\":\"scatter\",\"xaxis\":\"x2\",\"yaxis\":\"y2\"},{\"mode\":\"lines+markers\",\"name\":\"Gross Rental Yield Outside Centre\",\"x\":[\"2011\",\"2012\",\"2013\",\"2014\",\"2014-mid\",\"2015\",\"2015-mid\",\"2016\",\"2017\",\"2017-mid\",\"2018\",\"2018-mid\",\"2019\",\"2019-mid\",\"2020\",\"2020-mid\",\"2021\",\"2021-mid\",\"2022\",\"2024-mid\"],\"y\":[14.5,10.6,12.9,17.4,17.7,18.3,13.7,18.3,23.4,26.9,27.5,24.7,20.3,25.6,22.7,26.4,43.2,30.5,31.3,21.8],\"type\":\"scatter\",\"xaxis\":\"x3\",\"yaxis\":\"y3\"},{\"mode\":\"lines+markers\",\"name\":\"Price to Rent Ratio City Centre\",\"x\":[\"2011\",\"2012\",\"2013\",\"2014\",\"2014-mid\",\"2015\",\"2015-mid\",\"2016\",\"2017\",\"2017-mid\",\"2018\",\"2018-mid\",\"2019\",\"2019-mid\",\"2020\",\"2020-mid\",\"2021\",\"2021-mid\",\"2022\",\"2024-mid\"],\"y\":[8.4,8.6,9.7,5.2,5.2,4.4,4.9,4.9,3.7,3.0,2.4,2.8,2.7,2.3,2.3,2.5,3.4,4.4,5.2,3.0],\"type\":\"scatter\",\"xaxis\":\"x4\",\"yaxis\":\"y4\"},{\"mode\":\"lines+markers\",\"name\":\"Price to Rent Ratio Outside City Centre\",\"x\":[\"2011\",\"2012\",\"2013\",\"2014\",\"2014-mid\",\"2015\",\"2015-mid\",\"2016\",\"2017\",\"2017-mid\",\"2018\",\"2018-mid\",\"2019\",\"2019-mid\",\"2020\",\"2020-mid\",\"2021\",\"2021-mid\",\"2022\",\"2024-mid\"],\"y\":[6.9,9.5,7.8,5.7,5.6,5.5,7.3,5.5,4.3,3.7,3.6,4.0,4.9,3.9,4.4,3.8,2.3,3.3,3.2,4.6],\"type\":\"scatter\",\"xaxis\":\"x5\",\"yaxis\":\"y5\"},{\"mode\":\"lines+markers\",\"name\":\"Mortgage as a Percentage of Income\",\"x\":[\"2011\",\"2012\",\"2013\",\"2014\",\"2014-mid\",\"2015\",\"2015-mid\",\"2016\",\"2017\",\"2017-mid\",\"2018\",\"2018-mid\",\"2019\",\"2019-mid\",\"2020\",\"2020-mid\",\"2021\",\"2021-mid\",\"2022\",\"2024-mid\"],\"y\":[\"23.1\",\"25.2\",\"14.4\",\"9.5\",\"10.1\",\"10.4\",\"13.9\",\"9.5\",\"8.9\",\"7.5\",\"7.5\",\"12.0\",\"12.7\",\"11.4\",\"12.6\",\"11.3\",\"11.3\",\"9.2\",\"9.6\",\"10.9\"],\"type\":\"scatter\",\"xaxis\":\"x6\",\"yaxis\":\"y6\"},{\"mode\":\"lines+markers\",\"name\":\"Affordability Index\",\"x\":[\"2011\",\"2012\",\"2013\",\"2014\",\"2014-mid\",\"2015\",\"2015-mid\",\"2016\",\"2017\",\"2017-mid\",\"2018\",\"2018-mid\",\"2019\",\"2019-mid\",\"2020\",\"2020-mid\",\"2021\",\"2021-mid\",\"2022\",\"2024-mid\"],\"y\":[\"4.3\",\"4.0\",\"6.9\",\"10.5\",\"9.9\",\"9.6\",\"7.2\",\"10.5\",\"11.2\",\"13.4\",\"13.4\",\"8.4\",\"7.9\",\"8.8\",\"7.9\",\"8.8\",\"8.9\",\"10.9\",\"10.4\",\"9.2\"],\"type\":\"scatter\",\"xaxis\":\"x7\",\"yaxis\":\"y7\"},{\"mode\":\"lines+markers\",\"name\":\"Crime Index\",\"x\":[\"2011\",\"2012\",\"2013\",\"2014\",\"2014-mid\",\"2015\",\"2015-mid\",\"2016\",\"2017\",\"2017-mid\",\"2018\",\"2018-mid\",\"2019\",\"2019-mid\",\"2020\",\"2020-mid\",\"2021\",\"2021-mid\",\"2022\",\"2024-mid\"],\"y\":[null,null,null,77.7,75.7,74.6,76.5,76.2,72.1,72.4,71.4,71.2,71.8,71.9,72.6,73.8,73.5,73.6,74.8,74.3],\"type\":\"scatter\",\"xaxis\":\"x8\",\"yaxis\":\"y8\"},{\"mode\":\"lines+markers\",\"name\":\"Safety Index\",\"x\":[\"2011\",\"2012\",\"2013\",\"2014\",\"2014-mid\",\"2015\",\"2015-mid\",\"2016\",\"2017\",\"2017-mid\",\"2018\",\"2018-mid\",\"2019\",\"2019-mid\",\"2020\",\"2020-mid\",\"2021\",\"2021-mid\",\"2022\",\"2024-mid\"],\"y\":[null,null,null,22.3,24.3,25.4,23.5,23.8,27.9,27.6,28.6,28.8,28.2,28.1,27.4,26.2,26.5,26.4,25.2,25.7],\"type\":\"scatter\",\"xaxis\":\"x9\",\"yaxis\":\"y9\"},{\"mode\":\"lines+markers\",\"name\":\"Cost of Living Index\",\"x\":[\"2011\",\"2012\",\"2013\",\"2014\",\"2014-mid\",\"2015\",\"2015-mid\",\"2016\",\"2017\",\"2017-mid\",\"2018\",\"2018-mid\",\"2019\",\"2019-mid\",\"2020\",\"2020-mid\",\"2021\",\"2021-mid\",\"2022\",\"2024-mid\"],\"y\":[null,null,null,null,null,null,null,null,null,null,null,null,null,null,null,null,null,null,null,null],\"type\":\"scatter\",\"xaxis\":\"x10\",\"yaxis\":\"y10\"},{\"mode\":\"lines+markers\",\"name\":\"Rent Index\",\"x\":[\"2011\",\"2012\",\"2013\",\"2014\",\"2014-mid\",\"2015\",\"2015-mid\",\"2016\",\"2017\",\"2017-mid\",\"2018\",\"2018-mid\",\"2019\",\"2019-mid\",\"2020\",\"2020-mid\",\"2021\",\"2021-mid\",\"2022\",\"2024-mid\"],\"y\":[null,null,null,null,null,null,null,null,null,null,null,null,null,null,null,null,null,null,null,null],\"type\":\"scatter\",\"xaxis\":\"x11\",\"yaxis\":\"y11\"},{\"mode\":\"lines+markers\",\"name\":\"Cost of Living Plus Rent Index\",\"x\":[\"2011\",\"2012\",\"2013\",\"2014\",\"2014-mid\",\"2015\",\"2015-mid\",\"2016\",\"2017\",\"2017-mid\",\"2018\",\"2018-mid\",\"2019\",\"2019-mid\",\"2020\",\"2020-mid\",\"2021\",\"2021-mid\",\"2022\",\"2024-mid\"],\"y\":[null,null,null,null,null,null,null,null,null,null,null,null,null,null,null,null,null,null,null,null],\"type\":\"scatter\",\"xaxis\":\"x12\",\"yaxis\":\"y12\"},{\"mode\":\"lines+markers\",\"name\":\"Groceries Index\",\"x\":[\"2011\",\"2012\",\"2013\",\"2014\",\"2014-mid\",\"2015\",\"2015-mid\",\"2016\",\"2017\",\"2017-mid\",\"2018\",\"2018-mid\",\"2019\",\"2019-mid\",\"2020\",\"2020-mid\",\"2021\",\"2021-mid\",\"2022\",\"2024-mid\"],\"y\":[null,null,null,null,null,null,null,null,null,null,null,null,null,null,null,null,null,null,null,null],\"type\":\"scatter\",\"xaxis\":\"x13\",\"yaxis\":\"y13\"},{\"mode\":\"lines+markers\",\"name\":\"Restaurant Index\",\"x\":[\"2011\",\"2012\",\"2013\",\"2014\",\"2014-mid\",\"2015\",\"2015-mid\",\"2016\",\"2017\",\"2017-mid\",\"2018\",\"2018-mid\",\"2019\",\"2019-mid\",\"2020\",\"2020-mid\",\"2021\",\"2021-mid\",\"2022\",\"2024-mid\"],\"y\":[null,null,null,null,null,null,null,null,null,null,null,null,null,null,null,null,null,null,null,null],\"type\":\"scatter\",\"xaxis\":\"x14\",\"yaxis\":\"y14\"},{\"mode\":\"lines+markers\",\"name\":\"Local Purchasing Power Index\",\"x\":[\"2011\",\"2012\",\"2013\",\"2014\",\"2014-mid\",\"2015\",\"2015-mid\",\"2016\",\"2017\",\"2017-mid\",\"2018\",\"2018-mid\",\"2019\",\"2019-mid\",\"2020\",\"2020-mid\",\"2021\",\"2021-mid\",\"2022\",\"2024-mid\"],\"y\":[null,null,null,null,null,null,null,null,null,null,null,null,null,null,null,null,null,null,null,null],\"type\":\"scatter\",\"xaxis\":\"x15\",\"yaxis\":\"y15\"}],                        {\"template\":{\"data\":{\"histogram2dcontour\":[{\"type\":\"histogram2dcontour\",\"colorbar\":{\"outlinewidth\":0,\"ticks\":\"\"},\"colorscale\":[[0.0,\"#0d0887\"],[0.1111111111111111,\"#46039f\"],[0.2222222222222222,\"#7201a8\"],[0.3333333333333333,\"#9c179e\"],[0.4444444444444444,\"#bd3786\"],[0.5555555555555556,\"#d8576b\"],[0.6666666666666666,\"#ed7953\"],[0.7777777777777778,\"#fb9f3a\"],[0.8888888888888888,\"#fdca26\"],[1.0,\"#f0f921\"]]}],\"choropleth\":[{\"type\":\"choropleth\",\"colorbar\":{\"outlinewidth\":0,\"ticks\":\"\"}}],\"histogram2d\":[{\"type\":\"histogram2d\",\"colorbar\":{\"outlinewidth\":0,\"ticks\":\"\"},\"colorscale\":[[0.0,\"#0d0887\"],[0.1111111111111111,\"#46039f\"],[0.2222222222222222,\"#7201a8\"],[0.3333333333333333,\"#9c179e\"],[0.4444444444444444,\"#bd3786\"],[0.5555555555555556,\"#d8576b\"],[0.6666666666666666,\"#ed7953\"],[0.7777777777777778,\"#fb9f3a\"],[0.8888888888888888,\"#fdca26\"],[1.0,\"#f0f921\"]]}],\"heatmap\":[{\"type\":\"heatmap\",\"colorbar\":{\"outlinewidth\":0,\"ticks\":\"\"},\"colorscale\":[[0.0,\"#0d0887\"],[0.1111111111111111,\"#46039f\"],[0.2222222222222222,\"#7201a8\"],[0.3333333333333333,\"#9c179e\"],[0.4444444444444444,\"#bd3786\"],[0.5555555555555556,\"#d8576b\"],[0.6666666666666666,\"#ed7953\"],[0.7777777777777778,\"#fb9f3a\"],[0.8888888888888888,\"#fdca26\"],[1.0,\"#f0f921\"]]}],\"heatmapgl\":[{\"type\":\"heatmapgl\",\"colorbar\":{\"outlinewidth\":0,\"ticks\":\"\"},\"colorscale\":[[0.0,\"#0d0887\"],[0.1111111111111111,\"#46039f\"],[0.2222222222222222,\"#7201a8\"],[0.3333333333333333,\"#9c179e\"],[0.4444444444444444,\"#bd3786\"],[0.5555555555555556,\"#d8576b\"],[0.6666666666666666,\"#ed7953\"],[0.7777777777777778,\"#fb9f3a\"],[0.8888888888888888,\"#fdca26\"],[1.0,\"#f0f921\"]]}],\"contourcarpet\":[{\"type\":\"contourcarpet\",\"colorbar\":{\"outlinewidth\":0,\"ticks\":\"\"}}],\"contour\":[{\"type\":\"contour\",\"colorbar\":{\"outlinewidth\":0,\"ticks\":\"\"},\"colorscale\":[[0.0,\"#0d0887\"],[0.1111111111111111,\"#46039f\"],[0.2222222222222222,\"#7201a8\"],[0.3333333333333333,\"#9c179e\"],[0.4444444444444444,\"#bd3786\"],[0.5555555555555556,\"#d8576b\"],[0.6666666666666666,\"#ed7953\"],[0.7777777777777778,\"#fb9f3a\"],[0.8888888888888888,\"#fdca26\"],[1.0,\"#f0f921\"]]}],\"surface\":[{\"type\":\"surface\",\"colorbar\":{\"outlinewidth\":0,\"ticks\":\"\"},\"colorscale\":[[0.0,\"#0d0887\"],[0.1111111111111111,\"#46039f\"],[0.2222222222222222,\"#7201a8\"],[0.3333333333333333,\"#9c179e\"],[0.4444444444444444,\"#bd3786\"],[0.5555555555555556,\"#d8576b\"],[0.6666666666666666,\"#ed7953\"],[0.7777777777777778,\"#fb9f3a\"],[0.8888888888888888,\"#fdca26\"],[1.0,\"#f0f921\"]]}],\"mesh3d\":[{\"type\":\"mesh3d\",\"colorbar\":{\"outlinewidth\":0,\"ticks\":\"\"}}],\"scatter\":[{\"fillpattern\":{\"fillmode\":\"overlay\",\"size\":10,\"solidity\":0.2},\"type\":\"scatter\"}],\"parcoords\":[{\"type\":\"parcoords\",\"line\":{\"colorbar\":{\"outlinewidth\":0,\"ticks\":\"\"}}}],\"scatterpolargl\":[{\"type\":\"scatterpolargl\",\"marker\":{\"colorbar\":{\"outlinewidth\":0,\"ticks\":\"\"}}}],\"bar\":[{\"error_x\":{\"color\":\"#2a3f5f\"},\"error_y\":{\"color\":\"#2a3f5f\"},\"marker\":{\"line\":{\"color\":\"#E5ECF6\",\"width\":0.5},\"pattern\":{\"fillmode\":\"overlay\",\"size\":10,\"solidity\":0.2}},\"type\":\"bar\"}],\"scattergeo\":[{\"type\":\"scattergeo\",\"marker\":{\"colorbar\":{\"outlinewidth\":0,\"ticks\":\"\"}}}],\"scatterpolar\":[{\"type\":\"scatterpolar\",\"marker\":{\"colorbar\":{\"outlinewidth\":0,\"ticks\":\"\"}}}],\"histogram\":[{\"marker\":{\"pattern\":{\"fillmode\":\"overlay\",\"size\":10,\"solidity\":0.2}},\"type\":\"histogram\"}],\"scattergl\":[{\"type\":\"scattergl\",\"marker\":{\"colorbar\":{\"outlinewidth\":0,\"ticks\":\"\"}}}],\"scatter3d\":[{\"type\":\"scatter3d\",\"line\":{\"colorbar\":{\"outlinewidth\":0,\"ticks\":\"\"}},\"marker\":{\"colorbar\":{\"outlinewidth\":0,\"ticks\":\"\"}}}],\"scattermapbox\":[{\"type\":\"scattermapbox\",\"marker\":{\"colorbar\":{\"outlinewidth\":0,\"ticks\":\"\"}}}],\"scatterternary\":[{\"type\":\"scatterternary\",\"marker\":{\"colorbar\":{\"outlinewidth\":0,\"ticks\":\"\"}}}],\"scattercarpet\":[{\"type\":\"scattercarpet\",\"marker\":{\"colorbar\":{\"outlinewidth\":0,\"ticks\":\"\"}}}],\"carpet\":[{\"aaxis\":{\"endlinecolor\":\"#2a3f5f\",\"gridcolor\":\"white\",\"linecolor\":\"white\",\"minorgridcolor\":\"white\",\"startlinecolor\":\"#2a3f5f\"},\"baxis\":{\"endlinecolor\":\"#2a3f5f\",\"gridcolor\":\"white\",\"linecolor\":\"white\",\"minorgridcolor\":\"white\",\"startlinecolor\":\"#2a3f5f\"},\"type\":\"carpet\"}],\"table\":[{\"cells\":{\"fill\":{\"color\":\"#EBF0F8\"},\"line\":{\"color\":\"white\"}},\"header\":{\"fill\":{\"color\":\"#C8D4E3\"},\"line\":{\"color\":\"white\"}},\"type\":\"table\"}],\"barpolar\":[{\"marker\":{\"line\":{\"color\":\"#E5ECF6\",\"width\":0.5},\"pattern\":{\"fillmode\":\"overlay\",\"size\":10,\"solidity\":0.2}},\"type\":\"barpolar\"}],\"pie\":[{\"automargin\":true,\"type\":\"pie\"}]},\"layout\":{\"autotypenumbers\":\"strict\",\"colorway\":[\"#636efa\",\"#EF553B\",\"#00cc96\",\"#ab63fa\",\"#FFA15A\",\"#19d3f3\",\"#FF6692\",\"#B6E880\",\"#FF97FF\",\"#FECB52\"],\"font\":{\"color\":\"#2a3f5f\"},\"hovermode\":\"closest\",\"hoverlabel\":{\"align\":\"left\"},\"paper_bgcolor\":\"white\",\"plot_bgcolor\":\"#E5ECF6\",\"polar\":{\"bgcolor\":\"#E5ECF6\",\"angularaxis\":{\"gridcolor\":\"white\",\"linecolor\":\"white\",\"ticks\":\"\"},\"radialaxis\":{\"gridcolor\":\"white\",\"linecolor\":\"white\",\"ticks\":\"\"}},\"ternary\":{\"bgcolor\":\"#E5ECF6\",\"aaxis\":{\"gridcolor\":\"white\",\"linecolor\":\"white\",\"ticks\":\"\"},\"baxis\":{\"gridcolor\":\"white\",\"linecolor\":\"white\",\"ticks\":\"\"},\"caxis\":{\"gridcolor\":\"white\",\"linecolor\":\"white\",\"ticks\":\"\"}},\"coloraxis\":{\"colorbar\":{\"outlinewidth\":0,\"ticks\":\"\"}},\"colorscale\":{\"sequential\":[[0.0,\"#0d0887\"],[0.1111111111111111,\"#46039f\"],[0.2222222222222222,\"#7201a8\"],[0.3333333333333333,\"#9c179e\"],[0.4444444444444444,\"#bd3786\"],[0.5555555555555556,\"#d8576b\"],[0.6666666666666666,\"#ed7953\"],[0.7777777777777778,\"#fb9f3a\"],[0.8888888888888888,\"#fdca26\"],[1.0,\"#f0f921\"]],\"sequentialminus\":[[0.0,\"#0d0887\"],[0.1111111111111111,\"#46039f\"],[0.2222222222222222,\"#7201a8\"],[0.3333333333333333,\"#9c179e\"],[0.4444444444444444,\"#bd3786\"],[0.5555555555555556,\"#d8576b\"],[0.6666666666666666,\"#ed7953\"],[0.7777777777777778,\"#fb9f3a\"],[0.8888888888888888,\"#fdca26\"],[1.0,\"#f0f921\"]],\"diverging\":[[0,\"#8e0152\"],[0.1,\"#c51b7d\"],[0.2,\"#de77ae\"],[0.3,\"#f1b6da\"],[0.4,\"#fde0ef\"],[0.5,\"#f7f7f7\"],[0.6,\"#e6f5d0\"],[0.7,\"#b8e186\"],[0.8,\"#7fbc41\"],[0.9,\"#4d9221\"],[1,\"#276419\"]]},\"xaxis\":{\"gridcolor\":\"white\",\"linecolor\":\"white\",\"ticks\":\"\",\"title\":{\"standoff\":15},\"zerolinecolor\":\"white\",\"automargin\":true,\"zerolinewidth\":2},\"yaxis\":{\"gridcolor\":\"white\",\"linecolor\":\"white\",\"ticks\":\"\",\"title\":{\"standoff\":15},\"zerolinecolor\":\"white\",\"automargin\":true,\"zerolinewidth\":2},\"scene\":{\"xaxis\":{\"backgroundcolor\":\"#E5ECF6\",\"gridcolor\":\"white\",\"linecolor\":\"white\",\"showbackground\":true,\"ticks\":\"\",\"zerolinecolor\":\"white\",\"gridwidth\":2},\"yaxis\":{\"backgroundcolor\":\"#E5ECF6\",\"gridcolor\":\"white\",\"linecolor\":\"white\",\"showbackground\":true,\"ticks\":\"\",\"zerolinecolor\":\"white\",\"gridwidth\":2},\"zaxis\":{\"backgroundcolor\":\"#E5ECF6\",\"gridcolor\":\"white\",\"linecolor\":\"white\",\"showbackground\":true,\"ticks\":\"\",\"zerolinecolor\":\"white\",\"gridwidth\":2}},\"shapedefaults\":{\"line\":{\"color\":\"#2a3f5f\"}},\"annotationdefaults\":{\"arrowcolor\":\"#2a3f5f\",\"arrowhead\":0,\"arrowwidth\":1},\"geo\":{\"bgcolor\":\"white\",\"landcolor\":\"#E5ECF6\",\"subunitcolor\":\"white\",\"showland\":true,\"showlakes\":true,\"lakecolor\":\"white\"},\"title\":{\"x\":0.05},\"mapbox\":{\"style\":\"light\"}}},\"xaxis\":{\"anchor\":\"y\",\"domain\":[0.0,0.2125],\"title\":{\"text\":\"Year\"}},\"yaxis\":{\"anchor\":\"x\",\"domain\":[0.84375,1.0],\"title\":{\"text\":\"Price to Income Ratio\"}},\"xaxis2\":{\"anchor\":\"y2\",\"domain\":[0.2625,0.475],\"title\":{\"text\":\"Year\"}},\"yaxis2\":{\"anchor\":\"x2\",\"domain\":[0.84375,1.0],\"title\":{\"text\":\"Gross Rental Yield City Centre\"}},\"xaxis3\":{\"anchor\":\"y3\",\"domain\":[0.525,0.7375],\"title\":{\"text\":\"Year\"}},\"yaxis3\":{\"anchor\":\"x3\",\"domain\":[0.84375,1.0],\"title\":{\"text\":\"Gross Rental Yield Outside Centre\"}},\"xaxis4\":{\"anchor\":\"y4\",\"domain\":[0.7875,1.0],\"title\":{\"text\":\"Year\"}},\"yaxis4\":{\"anchor\":\"x4\",\"domain\":[0.84375,1.0],\"title\":{\"text\":\"Price to Rent Ratio City Centre\"}},\"xaxis5\":{\"anchor\":\"y5\",\"domain\":[0.0,0.2125],\"title\":{\"text\":\"Year\"}},\"yaxis5\":{\"anchor\":\"x5\",\"domain\":[0.5625,0.71875],\"title\":{\"text\":\"Price to Rent Ratio Outside City Centre\"}},\"xaxis6\":{\"anchor\":\"y6\",\"domain\":[0.2625,0.475],\"title\":{\"text\":\"Year\"}},\"yaxis6\":{\"anchor\":\"x6\",\"domain\":[0.5625,0.71875],\"title\":{\"text\":\"Mortgage as a Percentage of Income\"}},\"xaxis7\":{\"anchor\":\"y7\",\"domain\":[0.525,0.7375],\"title\":{\"text\":\"Year\"}},\"yaxis7\":{\"anchor\":\"x7\",\"domain\":[0.5625,0.71875],\"title\":{\"text\":\"Affordability Index\"}},\"xaxis8\":{\"anchor\":\"y8\",\"domain\":[0.7875,1.0],\"title\":{\"text\":\"Year\"}},\"yaxis8\":{\"anchor\":\"x8\",\"domain\":[0.5625,0.71875],\"title\":{\"text\":\"Crime Index\"}},\"xaxis9\":{\"anchor\":\"y9\",\"domain\":[0.0,0.2125],\"title\":{\"text\":\"Year\"}},\"yaxis9\":{\"anchor\":\"x9\",\"domain\":[0.28125,0.4375],\"title\":{\"text\":\"Safety Index\"}},\"xaxis10\":{\"anchor\":\"y10\",\"domain\":[0.2625,0.475],\"title\":{\"text\":\"Year\"}},\"yaxis10\":{\"anchor\":\"x10\",\"domain\":[0.28125,0.4375],\"title\":{\"text\":\"Cost of Living Index\"}},\"xaxis11\":{\"anchor\":\"y11\",\"domain\":[0.525,0.7375],\"title\":{\"text\":\"Year\"}},\"yaxis11\":{\"anchor\":\"x11\",\"domain\":[0.28125,0.4375],\"title\":{\"text\":\"Rent Index\"}},\"xaxis12\":{\"anchor\":\"y12\",\"domain\":[0.7875,1.0],\"title\":{\"text\":\"Year\"}},\"yaxis12\":{\"anchor\":\"x12\",\"domain\":[0.28125,0.4375],\"title\":{\"text\":\"Cost of Living Plus Rent Index\"}},\"xaxis13\":{\"anchor\":\"y13\",\"domain\":[0.0,0.2125],\"title\":{\"text\":\"Year\"}},\"yaxis13\":{\"anchor\":\"x13\",\"domain\":[0.0,0.15625],\"title\":{\"text\":\"Groceries Index\"}},\"xaxis14\":{\"anchor\":\"y14\",\"domain\":[0.2625,0.475],\"title\":{\"text\":\"Year\"}},\"yaxis14\":{\"anchor\":\"x14\",\"domain\":[0.0,0.15625],\"title\":{\"text\":\"Restaurant Index\"}},\"xaxis15\":{\"anchor\":\"y15\",\"domain\":[0.525,0.7375],\"title\":{\"text\":\"Year\"}},\"yaxis15\":{\"anchor\":\"x15\",\"domain\":[0.0,0.15625],\"title\":{\"text\":\"Local Purchasing Power Index\"}},\"xaxis16\":{\"anchor\":\"y16\",\"domain\":[0.7875,1.0]},\"yaxis16\":{\"anchor\":\"x16\",\"domain\":[0.0,0.15625]},\"annotations\":[{\"font\":{\"size\":16},\"showarrow\":false,\"text\":\"Price to Income Ratio\",\"x\":0.10625,\"xanchor\":\"center\",\"xref\":\"paper\",\"y\":1.0,\"yanchor\":\"bottom\",\"yref\":\"paper\"},{\"font\":{\"size\":16},\"showarrow\":false,\"text\":\"Gross Rental Yield City Centre\",\"x\":0.36875,\"xanchor\":\"center\",\"xref\":\"paper\",\"y\":1.0,\"yanchor\":\"bottom\",\"yref\":\"paper\"},{\"font\":{\"size\":16},\"showarrow\":false,\"text\":\"Gross Rental Yield Outside Centre\",\"x\":0.6312500000000001,\"xanchor\":\"center\",\"xref\":\"paper\",\"y\":1.0,\"yanchor\":\"bottom\",\"yref\":\"paper\"},{\"font\":{\"size\":16},\"showarrow\":false,\"text\":\"Price to Rent Ratio City Centre\",\"x\":0.89375,\"xanchor\":\"center\",\"xref\":\"paper\",\"y\":1.0,\"yanchor\":\"bottom\",\"yref\":\"paper\"},{\"font\":{\"size\":16},\"showarrow\":false,\"text\":\"Price to Rent Ratio Outside City Centre\",\"x\":0.10625,\"xanchor\":\"center\",\"xref\":\"paper\",\"y\":0.71875,\"yanchor\":\"bottom\",\"yref\":\"paper\"},{\"font\":{\"size\":16},\"showarrow\":false,\"text\":\"Mortgage as a Percentage of Income\",\"x\":0.36875,\"xanchor\":\"center\",\"xref\":\"paper\",\"y\":0.71875,\"yanchor\":\"bottom\",\"yref\":\"paper\"},{\"font\":{\"size\":16},\"showarrow\":false,\"text\":\"Affordability Index\",\"x\":0.6312500000000001,\"xanchor\":\"center\",\"xref\":\"paper\",\"y\":0.71875,\"yanchor\":\"bottom\",\"yref\":\"paper\"},{\"font\":{\"size\":16},\"showarrow\":false,\"text\":\"Crime Index\",\"x\":0.89375,\"xanchor\":\"center\",\"xref\":\"paper\",\"y\":0.71875,\"yanchor\":\"bottom\",\"yref\":\"paper\"},{\"font\":{\"size\":16},\"showarrow\":false,\"text\":\"Safety Index\",\"x\":0.10625,\"xanchor\":\"center\",\"xref\":\"paper\",\"y\":0.4375,\"yanchor\":\"bottom\",\"yref\":\"paper\"},{\"font\":{\"size\":16},\"showarrow\":false,\"text\":\"Cost of Living Index\",\"x\":0.36875,\"xanchor\":\"center\",\"xref\":\"paper\",\"y\":0.4375,\"yanchor\":\"bottom\",\"yref\":\"paper\"},{\"font\":{\"size\":16},\"showarrow\":false,\"text\":\"Rent Index\",\"x\":0.6312500000000001,\"xanchor\":\"center\",\"xref\":\"paper\",\"y\":0.4375,\"yanchor\":\"bottom\",\"yref\":\"paper\"},{\"font\":{\"size\":16},\"showarrow\":false,\"text\":\"Cost of Living Plus Rent Index\",\"x\":0.89375,\"xanchor\":\"center\",\"xref\":\"paper\",\"y\":0.4375,\"yanchor\":\"bottom\",\"yref\":\"paper\"},{\"font\":{\"size\":16},\"showarrow\":false,\"text\":\"Groceries Index\",\"x\":0.10625,\"xanchor\":\"center\",\"xref\":\"paper\",\"y\":0.15625,\"yanchor\":\"bottom\",\"yref\":\"paper\"},{\"font\":{\"size\":16},\"showarrow\":false,\"text\":\"Restaurant Index\",\"x\":0.36875,\"xanchor\":\"center\",\"xref\":\"paper\",\"y\":0.15625,\"yanchor\":\"bottom\",\"yref\":\"paper\"},{\"font\":{\"size\":16},\"showarrow\":false,\"text\":\"Local Purchasing Power Index\",\"x\":0.6312500000000001,\"xanchor\":\"center\",\"xref\":\"paper\",\"y\":0.15625,\"yanchor\":\"bottom\",\"yref\":\"paper\"}],\"title\":{\"text\":\"Detroit, MI, United States\"},\"height\":1500,\"width\":1500},                        {\"responsive\": true}                    ).then(function(){\n",
       "                            \n",
       "var gd = document.getElementById('7425255e-46ba-4add-a3d6-c2751c2f3451');\n",
       "var x = new MutationObserver(function (mutations, observer) {{\n",
       "        var display = window.getComputedStyle(gd).display;\n",
       "        if (!display || display === 'none') {{\n",
       "            console.log([gd, 'removed!']);\n",
       "            Plotly.purge(gd);\n",
       "            observer.disconnect();\n",
       "        }}\n",
       "}});\n",
       "\n",
       "// Listen for the removal of the full notebook cells\n",
       "var notebookContainer = gd.closest('#notebook-container');\n",
       "if (notebookContainer) {{\n",
       "    x.observe(notebookContainer, {childList: true});\n",
       "}}\n",
       "\n",
       "// Listen for the clearing of the current output cell\n",
       "var outputEl = gd.closest('.output');\n",
       "if (outputEl) {{\n",
       "    x.observe(outputEl, {childList: true});\n",
       "}}\n",
       "\n",
       "                        })                };                });            </script>        </div>"
      ]
     },
     "metadata": {},
     "output_type": "display_data"
    },
    {
     "data": {
      "application/vnd.plotly.v1+json": {
       "config": {
        "plotlyServerURL": "https://plot.ly"
       },
       "data": [
        {
         "mode": "lines+markers",
         "name": "Price to Income Ratio",
         "type": "scatter",
         "x": [
          "2013",
          "2014",
          "2014-mid",
          "2015",
          "2015-mid",
          "2019-mid",
          "2020",
          "2020-mid",
          "2021",
          "2021-mid",
          "2022",
          "2024-mid"
         ],
         "xaxis": "x",
         "y": [
          1.7,
          1.9,
          1.7,
          1.4,
          1.2,
          2.1,
          2.1,
          1.7,
          1.6,
          1.6,
          1.7,
          1.8
         ],
         "yaxis": "y"
        },
        {
         "mode": "lines+markers",
         "name": "Gross Rental Yield City Centre",
         "type": "scatter",
         "x": [
          "2013",
          "2014",
          "2014-mid",
          "2015",
          "2015-mid",
          "2019-mid",
          "2020",
          "2020-mid",
          "2021",
          "2021-mid",
          "2022",
          "2024-mid"
         ],
         "xaxis": "x2",
         "y": [
          15,
          18.8,
          18.9,
          33,
          31.8,
          16.9,
          15.9,
          15.1,
          13.7,
          13,
          13.4,
          23
         ],
         "yaxis": "y2"
        },
        {
         "mode": "lines+markers",
         "name": "Gross Rental Yield Outside Centre",
         "type": "scatter",
         "x": [
          "2013",
          "2014",
          "2014-mid",
          "2015",
          "2015-mid",
          "2019-mid",
          "2020",
          "2020-mid",
          "2021",
          "2021-mid",
          "2022",
          "2024-mid"
         ],
         "xaxis": "x3",
         "y": [
          23.5,
          22.8,
          22.8,
          20.8,
          20.6,
          22.4,
          21,
          22.4,
          27.1,
          26.9,
          27.3,
          20.4
         ],
         "yaxis": "y3"
        },
        {
         "mode": "lines+markers",
         "name": "Price to Rent Ratio City Centre",
         "type": "scatter",
         "x": [
          "2013",
          "2014",
          "2014-mid",
          "2015",
          "2015-mid",
          "2019-mid",
          "2020",
          "2020-mid",
          "2021",
          "2021-mid",
          "2022",
          "2024-mid"
         ],
         "xaxis": "x4",
         "y": [
          6.7,
          5.3,
          5.3,
          3,
          3.1,
          5.9,
          6.3,
          6.6,
          7.3,
          7.7,
          7.4,
          4.3
         ],
         "yaxis": "y4"
        },
        {
         "mode": "lines+markers",
         "name": "Price to Rent Ratio Outside City Centre",
         "type": "scatter",
         "x": [
          "2013",
          "2014",
          "2014-mid",
          "2015",
          "2015-mid",
          "2019-mid",
          "2020",
          "2020-mid",
          "2021",
          "2021-mid",
          "2022",
          "2024-mid"
         ],
         "xaxis": "x5",
         "y": [
          4.3,
          4.4,
          4.4,
          4.8,
          4.8,
          4.5,
          4.8,
          4.5,
          3.7,
          3.7,
          3.7,
          4.9
         ],
         "yaxis": "y5"
        },
        {
         "mode": "lines+markers",
         "name": "Mortgage as a Percentage of Income",
         "type": "scatter",
         "x": [
          "2013",
          "2014",
          "2014-mid",
          "2015",
          "2015-mid",
          "2019-mid",
          "2020",
          "2020-mid",
          "2021",
          "2021-mid",
          "2022",
          "2024-mid"
         ],
         "xaxis": "x6",
         "y": [
          "12.3",
          "15.3",
          "13.5",
          "11.2",
          "9.0",
          "15.6",
          "15.8",
          "12.5",
          "12.4",
          "11.9",
          "11.7",
          "16.1"
         ],
         "yaxis": "y6"
        },
        {
         "mode": "lines+markers",
         "name": "Affordability Index",
         "type": "scatter",
         "x": [
          "2013",
          "2014",
          "2014-mid",
          "2015",
          "2015-mid",
          "2019-mid",
          "2020",
          "2020-mid",
          "2021",
          "2021-mid",
          "2022",
          "2024-mid"
         ],
         "xaxis": "x7",
         "y": [
          "8.1",
          "6.5",
          "7.4",
          "9.0",
          "11.1",
          "6.4",
          "6.3",
          "8.0",
          "8.1",
          "8.4",
          "8.5",
          "6.2"
         ],
         "yaxis": "y7"
        },
        {
         "mode": "lines+markers",
         "name": "Crime Index",
         "type": "scatter",
         "x": [
          "2013",
          "2014",
          "2014-mid",
          "2015",
          "2015-mid",
          "2019-mid",
          "2020",
          "2020-mid",
          "2021",
          "2021-mid",
          "2022",
          "2024-mid"
         ],
         "xaxis": "x8",
         "y": [
          null,
          null,
          68.8,
          null,
          75.9,
          null,
          null,
          null,
          null,
          null,
          63.4,
          null
         ],
         "yaxis": "y8"
        },
        {
         "mode": "lines+markers",
         "name": "Safety Index",
         "type": "scatter",
         "x": [
          "2013",
          "2014",
          "2014-mid",
          "2015",
          "2015-mid",
          "2019-mid",
          "2020",
          "2020-mid",
          "2021",
          "2021-mid",
          "2022",
          "2024-mid"
         ],
         "xaxis": "x9",
         "y": [
          null,
          null,
          31.2,
          null,
          24.1,
          null,
          null,
          null,
          null,
          null,
          36.6,
          null
         ],
         "yaxis": "y9"
        },
        {
         "mode": "lines+markers",
         "name": "Cost of Living Index",
         "type": "scatter",
         "x": [
          "2013",
          "2014",
          "2014-mid",
          "2015",
          "2015-mid",
          "2019-mid",
          "2020",
          "2020-mid",
          "2021",
          "2021-mid",
          "2022",
          "2024-mid"
         ],
         "xaxis": "x10",
         "y": [
          null,
          null,
          null,
          null,
          null,
          null,
          null,
          null,
          null,
          null,
          null,
          null
         ],
         "yaxis": "y10"
        },
        {
         "mode": "lines+markers",
         "name": "Rent Index",
         "type": "scatter",
         "x": [
          "2013",
          "2014",
          "2014-mid",
          "2015",
          "2015-mid",
          "2019-mid",
          "2020",
          "2020-mid",
          "2021",
          "2021-mid",
          "2022",
          "2024-mid"
         ],
         "xaxis": "x11",
         "y": [
          null,
          null,
          null,
          null,
          null,
          null,
          null,
          null,
          null,
          null,
          null,
          null
         ],
         "yaxis": "y11"
        },
        {
         "mode": "lines+markers",
         "name": "Cost of Living Plus Rent Index",
         "type": "scatter",
         "x": [
          "2013",
          "2014",
          "2014-mid",
          "2015",
          "2015-mid",
          "2019-mid",
          "2020",
          "2020-mid",
          "2021",
          "2021-mid",
          "2022",
          "2024-mid"
         ],
         "xaxis": "x12",
         "y": [
          null,
          null,
          null,
          null,
          null,
          null,
          null,
          null,
          null,
          null,
          null,
          null
         ],
         "yaxis": "y12"
        },
        {
         "mode": "lines+markers",
         "name": "Groceries Index",
         "type": "scatter",
         "x": [
          "2013",
          "2014",
          "2014-mid",
          "2015",
          "2015-mid",
          "2019-mid",
          "2020",
          "2020-mid",
          "2021",
          "2021-mid",
          "2022",
          "2024-mid"
         ],
         "xaxis": "x13",
         "y": [
          null,
          null,
          null,
          null,
          null,
          null,
          null,
          null,
          null,
          null,
          null,
          null
         ],
         "yaxis": "y13"
        },
        {
         "mode": "lines+markers",
         "name": "Restaurant Index",
         "type": "scatter",
         "x": [
          "2013",
          "2014",
          "2014-mid",
          "2015",
          "2015-mid",
          "2019-mid",
          "2020",
          "2020-mid",
          "2021",
          "2021-mid",
          "2022",
          "2024-mid"
         ],
         "xaxis": "x14",
         "y": [
          null,
          null,
          null,
          null,
          null,
          null,
          null,
          null,
          null,
          null,
          null,
          null
         ],
         "yaxis": "y14"
        },
        {
         "mode": "lines+markers",
         "name": "Local Purchasing Power Index",
         "type": "scatter",
         "x": [
          "2013",
          "2014",
          "2014-mid",
          "2015",
          "2015-mid",
          "2019-mid",
          "2020",
          "2020-mid",
          "2021",
          "2021-mid",
          "2022",
          "2024-mid"
         ],
         "xaxis": "x15",
         "y": [
          null,
          null,
          null,
          null,
          null,
          null,
          null,
          null,
          null,
          null,
          null,
          null
         ],
         "yaxis": "y15"
        }
       ],
       "layout": {
        "annotations": [
         {
          "font": {
           "size": 16
          },
          "showarrow": false,
          "text": "Price to Income Ratio",
          "x": 0.10625,
          "xanchor": "center",
          "xref": "paper",
          "y": 1,
          "yanchor": "bottom",
          "yref": "paper"
         },
         {
          "font": {
           "size": 16
          },
          "showarrow": false,
          "text": "Gross Rental Yield City Centre",
          "x": 0.36875,
          "xanchor": "center",
          "xref": "paper",
          "y": 1,
          "yanchor": "bottom",
          "yref": "paper"
         },
         {
          "font": {
           "size": 16
          },
          "showarrow": false,
          "text": "Gross Rental Yield Outside Centre",
          "x": 0.6312500000000001,
          "xanchor": "center",
          "xref": "paper",
          "y": 1,
          "yanchor": "bottom",
          "yref": "paper"
         },
         {
          "font": {
           "size": 16
          },
          "showarrow": false,
          "text": "Price to Rent Ratio City Centre",
          "x": 0.89375,
          "xanchor": "center",
          "xref": "paper",
          "y": 1,
          "yanchor": "bottom",
          "yref": "paper"
         },
         {
          "font": {
           "size": 16
          },
          "showarrow": false,
          "text": "Price to Rent Ratio Outside City Centre",
          "x": 0.10625,
          "xanchor": "center",
          "xref": "paper",
          "y": 0.71875,
          "yanchor": "bottom",
          "yref": "paper"
         },
         {
          "font": {
           "size": 16
          },
          "showarrow": false,
          "text": "Mortgage as a Percentage of Income",
          "x": 0.36875,
          "xanchor": "center",
          "xref": "paper",
          "y": 0.71875,
          "yanchor": "bottom",
          "yref": "paper"
         },
         {
          "font": {
           "size": 16
          },
          "showarrow": false,
          "text": "Affordability Index",
          "x": 0.6312500000000001,
          "xanchor": "center",
          "xref": "paper",
          "y": 0.71875,
          "yanchor": "bottom",
          "yref": "paper"
         },
         {
          "font": {
           "size": 16
          },
          "showarrow": false,
          "text": "Crime Index",
          "x": 0.89375,
          "xanchor": "center",
          "xref": "paper",
          "y": 0.71875,
          "yanchor": "bottom",
          "yref": "paper"
         },
         {
          "font": {
           "size": 16
          },
          "showarrow": false,
          "text": "Safety Index",
          "x": 0.10625,
          "xanchor": "center",
          "xref": "paper",
          "y": 0.4375,
          "yanchor": "bottom",
          "yref": "paper"
         },
         {
          "font": {
           "size": 16
          },
          "showarrow": false,
          "text": "Cost of Living Index",
          "x": 0.36875,
          "xanchor": "center",
          "xref": "paper",
          "y": 0.4375,
          "yanchor": "bottom",
          "yref": "paper"
         },
         {
          "font": {
           "size": 16
          },
          "showarrow": false,
          "text": "Rent Index",
          "x": 0.6312500000000001,
          "xanchor": "center",
          "xref": "paper",
          "y": 0.4375,
          "yanchor": "bottom",
          "yref": "paper"
         },
         {
          "font": {
           "size": 16
          },
          "showarrow": false,
          "text": "Cost of Living Plus Rent Index",
          "x": 0.89375,
          "xanchor": "center",
          "xref": "paper",
          "y": 0.4375,
          "yanchor": "bottom",
          "yref": "paper"
         },
         {
          "font": {
           "size": 16
          },
          "showarrow": false,
          "text": "Groceries Index",
          "x": 0.10625,
          "xanchor": "center",
          "xref": "paper",
          "y": 0.15625,
          "yanchor": "bottom",
          "yref": "paper"
         },
         {
          "font": {
           "size": 16
          },
          "showarrow": false,
          "text": "Restaurant Index",
          "x": 0.36875,
          "xanchor": "center",
          "xref": "paper",
          "y": 0.15625,
          "yanchor": "bottom",
          "yref": "paper"
         },
         {
          "font": {
           "size": 16
          },
          "showarrow": false,
          "text": "Local Purchasing Power Index",
          "x": 0.6312500000000001,
          "xanchor": "center",
          "xref": "paper",
          "y": 0.15625,
          "yanchor": "bottom",
          "yref": "paper"
         }
        ],
        "height": 1500,
        "template": {
         "data": {
          "bar": [
           {
            "error_x": {
             "color": "#2a3f5f"
            },
            "error_y": {
             "color": "#2a3f5f"
            },
            "marker": {
             "line": {
              "color": "#E5ECF6",
              "width": 0.5
             },
             "pattern": {
              "fillmode": "overlay",
              "size": 10,
              "solidity": 0.2
             }
            },
            "type": "bar"
           }
          ],
          "barpolar": [
           {
            "marker": {
             "line": {
              "color": "#E5ECF6",
              "width": 0.5
             },
             "pattern": {
              "fillmode": "overlay",
              "size": 10,
              "solidity": 0.2
             }
            },
            "type": "barpolar"
           }
          ],
          "carpet": [
           {
            "aaxis": {
             "endlinecolor": "#2a3f5f",
             "gridcolor": "white",
             "linecolor": "white",
             "minorgridcolor": "white",
             "startlinecolor": "#2a3f5f"
            },
            "baxis": {
             "endlinecolor": "#2a3f5f",
             "gridcolor": "white",
             "linecolor": "white",
             "minorgridcolor": "white",
             "startlinecolor": "#2a3f5f"
            },
            "type": "carpet"
           }
          ],
          "choropleth": [
           {
            "colorbar": {
             "outlinewidth": 0,
             "ticks": ""
            },
            "type": "choropleth"
           }
          ],
          "contour": [
           {
            "colorbar": {
             "outlinewidth": 0,
             "ticks": ""
            },
            "colorscale": [
             [
              0,
              "#0d0887"
             ],
             [
              0.1111111111111111,
              "#46039f"
             ],
             [
              0.2222222222222222,
              "#7201a8"
             ],
             [
              0.3333333333333333,
              "#9c179e"
             ],
             [
              0.4444444444444444,
              "#bd3786"
             ],
             [
              0.5555555555555556,
              "#d8576b"
             ],
             [
              0.6666666666666666,
              "#ed7953"
             ],
             [
              0.7777777777777778,
              "#fb9f3a"
             ],
             [
              0.8888888888888888,
              "#fdca26"
             ],
             [
              1,
              "#f0f921"
             ]
            ],
            "type": "contour"
           }
          ],
          "contourcarpet": [
           {
            "colorbar": {
             "outlinewidth": 0,
             "ticks": ""
            },
            "type": "contourcarpet"
           }
          ],
          "heatmap": [
           {
            "colorbar": {
             "outlinewidth": 0,
             "ticks": ""
            },
            "colorscale": [
             [
              0,
              "#0d0887"
             ],
             [
              0.1111111111111111,
              "#46039f"
             ],
             [
              0.2222222222222222,
              "#7201a8"
             ],
             [
              0.3333333333333333,
              "#9c179e"
             ],
             [
              0.4444444444444444,
              "#bd3786"
             ],
             [
              0.5555555555555556,
              "#d8576b"
             ],
             [
              0.6666666666666666,
              "#ed7953"
             ],
             [
              0.7777777777777778,
              "#fb9f3a"
             ],
             [
              0.8888888888888888,
              "#fdca26"
             ],
             [
              1,
              "#f0f921"
             ]
            ],
            "type": "heatmap"
           }
          ],
          "heatmapgl": [
           {
            "colorbar": {
             "outlinewidth": 0,
             "ticks": ""
            },
            "colorscale": [
             [
              0,
              "#0d0887"
             ],
             [
              0.1111111111111111,
              "#46039f"
             ],
             [
              0.2222222222222222,
              "#7201a8"
             ],
             [
              0.3333333333333333,
              "#9c179e"
             ],
             [
              0.4444444444444444,
              "#bd3786"
             ],
             [
              0.5555555555555556,
              "#d8576b"
             ],
             [
              0.6666666666666666,
              "#ed7953"
             ],
             [
              0.7777777777777778,
              "#fb9f3a"
             ],
             [
              0.8888888888888888,
              "#fdca26"
             ],
             [
              1,
              "#f0f921"
             ]
            ],
            "type": "heatmapgl"
           }
          ],
          "histogram": [
           {
            "marker": {
             "pattern": {
              "fillmode": "overlay",
              "size": 10,
              "solidity": 0.2
             }
            },
            "type": "histogram"
           }
          ],
          "histogram2d": [
           {
            "colorbar": {
             "outlinewidth": 0,
             "ticks": ""
            },
            "colorscale": [
             [
              0,
              "#0d0887"
             ],
             [
              0.1111111111111111,
              "#46039f"
             ],
             [
              0.2222222222222222,
              "#7201a8"
             ],
             [
              0.3333333333333333,
              "#9c179e"
             ],
             [
              0.4444444444444444,
              "#bd3786"
             ],
             [
              0.5555555555555556,
              "#d8576b"
             ],
             [
              0.6666666666666666,
              "#ed7953"
             ],
             [
              0.7777777777777778,
              "#fb9f3a"
             ],
             [
              0.8888888888888888,
              "#fdca26"
             ],
             [
              1,
              "#f0f921"
             ]
            ],
            "type": "histogram2d"
           }
          ],
          "histogram2dcontour": [
           {
            "colorbar": {
             "outlinewidth": 0,
             "ticks": ""
            },
            "colorscale": [
             [
              0,
              "#0d0887"
             ],
             [
              0.1111111111111111,
              "#46039f"
             ],
             [
              0.2222222222222222,
              "#7201a8"
             ],
             [
              0.3333333333333333,
              "#9c179e"
             ],
             [
              0.4444444444444444,
              "#bd3786"
             ],
             [
              0.5555555555555556,
              "#d8576b"
             ],
             [
              0.6666666666666666,
              "#ed7953"
             ],
             [
              0.7777777777777778,
              "#fb9f3a"
             ],
             [
              0.8888888888888888,
              "#fdca26"
             ],
             [
              1,
              "#f0f921"
             ]
            ],
            "type": "histogram2dcontour"
           }
          ],
          "mesh3d": [
           {
            "colorbar": {
             "outlinewidth": 0,
             "ticks": ""
            },
            "type": "mesh3d"
           }
          ],
          "parcoords": [
           {
            "line": {
             "colorbar": {
              "outlinewidth": 0,
              "ticks": ""
             }
            },
            "type": "parcoords"
           }
          ],
          "pie": [
           {
            "automargin": true,
            "type": "pie"
           }
          ],
          "scatter": [
           {
            "fillpattern": {
             "fillmode": "overlay",
             "size": 10,
             "solidity": 0.2
            },
            "type": "scatter"
           }
          ],
          "scatter3d": [
           {
            "line": {
             "colorbar": {
              "outlinewidth": 0,
              "ticks": ""
             }
            },
            "marker": {
             "colorbar": {
              "outlinewidth": 0,
              "ticks": ""
             }
            },
            "type": "scatter3d"
           }
          ],
          "scattercarpet": [
           {
            "marker": {
             "colorbar": {
              "outlinewidth": 0,
              "ticks": ""
             }
            },
            "type": "scattercarpet"
           }
          ],
          "scattergeo": [
           {
            "marker": {
             "colorbar": {
              "outlinewidth": 0,
              "ticks": ""
             }
            },
            "type": "scattergeo"
           }
          ],
          "scattergl": [
           {
            "marker": {
             "colorbar": {
              "outlinewidth": 0,
              "ticks": ""
             }
            },
            "type": "scattergl"
           }
          ],
          "scattermapbox": [
           {
            "marker": {
             "colorbar": {
              "outlinewidth": 0,
              "ticks": ""
             }
            },
            "type": "scattermapbox"
           }
          ],
          "scatterpolar": [
           {
            "marker": {
             "colorbar": {
              "outlinewidth": 0,
              "ticks": ""
             }
            },
            "type": "scatterpolar"
           }
          ],
          "scatterpolargl": [
           {
            "marker": {
             "colorbar": {
              "outlinewidth": 0,
              "ticks": ""
             }
            },
            "type": "scatterpolargl"
           }
          ],
          "scatterternary": [
           {
            "marker": {
             "colorbar": {
              "outlinewidth": 0,
              "ticks": ""
             }
            },
            "type": "scatterternary"
           }
          ],
          "surface": [
           {
            "colorbar": {
             "outlinewidth": 0,
             "ticks": ""
            },
            "colorscale": [
             [
              0,
              "#0d0887"
             ],
             [
              0.1111111111111111,
              "#46039f"
             ],
             [
              0.2222222222222222,
              "#7201a8"
             ],
             [
              0.3333333333333333,
              "#9c179e"
             ],
             [
              0.4444444444444444,
              "#bd3786"
             ],
             [
              0.5555555555555556,
              "#d8576b"
             ],
             [
              0.6666666666666666,
              "#ed7953"
             ],
             [
              0.7777777777777778,
              "#fb9f3a"
             ],
             [
              0.8888888888888888,
              "#fdca26"
             ],
             [
              1,
              "#f0f921"
             ]
            ],
            "type": "surface"
           }
          ],
          "table": [
           {
            "cells": {
             "fill": {
              "color": "#EBF0F8"
             },
             "line": {
              "color": "white"
             }
            },
            "header": {
             "fill": {
              "color": "#C8D4E3"
             },
             "line": {
              "color": "white"
             }
            },
            "type": "table"
           }
          ]
         },
         "layout": {
          "annotationdefaults": {
           "arrowcolor": "#2a3f5f",
           "arrowhead": 0,
           "arrowwidth": 1
          },
          "autotypenumbers": "strict",
          "coloraxis": {
           "colorbar": {
            "outlinewidth": 0,
            "ticks": ""
           }
          },
          "colorscale": {
           "diverging": [
            [
             0,
             "#8e0152"
            ],
            [
             0.1,
             "#c51b7d"
            ],
            [
             0.2,
             "#de77ae"
            ],
            [
             0.3,
             "#f1b6da"
            ],
            [
             0.4,
             "#fde0ef"
            ],
            [
             0.5,
             "#f7f7f7"
            ],
            [
             0.6,
             "#e6f5d0"
            ],
            [
             0.7,
             "#b8e186"
            ],
            [
             0.8,
             "#7fbc41"
            ],
            [
             0.9,
             "#4d9221"
            ],
            [
             1,
             "#276419"
            ]
           ],
           "sequential": [
            [
             0,
             "#0d0887"
            ],
            [
             0.1111111111111111,
             "#46039f"
            ],
            [
             0.2222222222222222,
             "#7201a8"
            ],
            [
             0.3333333333333333,
             "#9c179e"
            ],
            [
             0.4444444444444444,
             "#bd3786"
            ],
            [
             0.5555555555555556,
             "#d8576b"
            ],
            [
             0.6666666666666666,
             "#ed7953"
            ],
            [
             0.7777777777777778,
             "#fb9f3a"
            ],
            [
             0.8888888888888888,
             "#fdca26"
            ],
            [
             1,
             "#f0f921"
            ]
           ],
           "sequentialminus": [
            [
             0,
             "#0d0887"
            ],
            [
             0.1111111111111111,
             "#46039f"
            ],
            [
             0.2222222222222222,
             "#7201a8"
            ],
            [
             0.3333333333333333,
             "#9c179e"
            ],
            [
             0.4444444444444444,
             "#bd3786"
            ],
            [
             0.5555555555555556,
             "#d8576b"
            ],
            [
             0.6666666666666666,
             "#ed7953"
            ],
            [
             0.7777777777777778,
             "#fb9f3a"
            ],
            [
             0.8888888888888888,
             "#fdca26"
            ],
            [
             1,
             "#f0f921"
            ]
           ]
          },
          "colorway": [
           "#636efa",
           "#EF553B",
           "#00cc96",
           "#ab63fa",
           "#FFA15A",
           "#19d3f3",
           "#FF6692",
           "#B6E880",
           "#FF97FF",
           "#FECB52"
          ],
          "font": {
           "color": "#2a3f5f"
          },
          "geo": {
           "bgcolor": "white",
           "lakecolor": "white",
           "landcolor": "#E5ECF6",
           "showlakes": true,
           "showland": true,
           "subunitcolor": "white"
          },
          "hoverlabel": {
           "align": "left"
          },
          "hovermode": "closest",
          "mapbox": {
           "style": "light"
          },
          "paper_bgcolor": "white",
          "plot_bgcolor": "#E5ECF6",
          "polar": {
           "angularaxis": {
            "gridcolor": "white",
            "linecolor": "white",
            "ticks": ""
           },
           "bgcolor": "#E5ECF6",
           "radialaxis": {
            "gridcolor": "white",
            "linecolor": "white",
            "ticks": ""
           }
          },
          "scene": {
           "xaxis": {
            "backgroundcolor": "#E5ECF6",
            "gridcolor": "white",
            "gridwidth": 2,
            "linecolor": "white",
            "showbackground": true,
            "ticks": "",
            "zerolinecolor": "white"
           },
           "yaxis": {
            "backgroundcolor": "#E5ECF6",
            "gridcolor": "white",
            "gridwidth": 2,
            "linecolor": "white",
            "showbackground": true,
            "ticks": "",
            "zerolinecolor": "white"
           },
           "zaxis": {
            "backgroundcolor": "#E5ECF6",
            "gridcolor": "white",
            "gridwidth": 2,
            "linecolor": "white",
            "showbackground": true,
            "ticks": "",
            "zerolinecolor": "white"
           }
          },
          "shapedefaults": {
           "line": {
            "color": "#2a3f5f"
           }
          },
          "ternary": {
           "aaxis": {
            "gridcolor": "white",
            "linecolor": "white",
            "ticks": ""
           },
           "baxis": {
            "gridcolor": "white",
            "linecolor": "white",
            "ticks": ""
           },
           "bgcolor": "#E5ECF6",
           "caxis": {
            "gridcolor": "white",
            "linecolor": "white",
            "ticks": ""
           }
          },
          "title": {
           "x": 0.05
          },
          "xaxis": {
           "automargin": true,
           "gridcolor": "white",
           "linecolor": "white",
           "ticks": "",
           "title": {
            "standoff": 15
           },
           "zerolinecolor": "white",
           "zerolinewidth": 2
          },
          "yaxis": {
           "automargin": true,
           "gridcolor": "white",
           "linecolor": "white",
           "ticks": "",
           "title": {
            "standoff": 15
           },
           "zerolinecolor": "white",
           "zerolinewidth": 2
          }
         }
        },
        "title": {
         "text": "Rochester, NY, United States"
        },
        "width": 1500,
        "xaxis": {
         "anchor": "y",
         "domain": [
          0,
          0.2125
         ],
         "title": {
          "text": "Year"
         }
        },
        "xaxis10": {
         "anchor": "y10",
         "domain": [
          0.2625,
          0.475
         ],
         "title": {
          "text": "Year"
         }
        },
        "xaxis11": {
         "anchor": "y11",
         "domain": [
          0.525,
          0.7375
         ],
         "title": {
          "text": "Year"
         }
        },
        "xaxis12": {
         "anchor": "y12",
         "domain": [
          0.7875,
          1
         ],
         "title": {
          "text": "Year"
         }
        },
        "xaxis13": {
         "anchor": "y13",
         "domain": [
          0,
          0.2125
         ],
         "title": {
          "text": "Year"
         }
        },
        "xaxis14": {
         "anchor": "y14",
         "domain": [
          0.2625,
          0.475
         ],
         "title": {
          "text": "Year"
         }
        },
        "xaxis15": {
         "anchor": "y15",
         "domain": [
          0.525,
          0.7375
         ],
         "title": {
          "text": "Year"
         }
        },
        "xaxis16": {
         "anchor": "y16",
         "domain": [
          0.7875,
          1
         ]
        },
        "xaxis2": {
         "anchor": "y2",
         "domain": [
          0.2625,
          0.475
         ],
         "title": {
          "text": "Year"
         }
        },
        "xaxis3": {
         "anchor": "y3",
         "domain": [
          0.525,
          0.7375
         ],
         "title": {
          "text": "Year"
         }
        },
        "xaxis4": {
         "anchor": "y4",
         "domain": [
          0.7875,
          1
         ],
         "title": {
          "text": "Year"
         }
        },
        "xaxis5": {
         "anchor": "y5",
         "domain": [
          0,
          0.2125
         ],
         "title": {
          "text": "Year"
         }
        },
        "xaxis6": {
         "anchor": "y6",
         "domain": [
          0.2625,
          0.475
         ],
         "title": {
          "text": "Year"
         }
        },
        "xaxis7": {
         "anchor": "y7",
         "domain": [
          0.525,
          0.7375
         ],
         "title": {
          "text": "Year"
         }
        },
        "xaxis8": {
         "anchor": "y8",
         "domain": [
          0.7875,
          1
         ],
         "title": {
          "text": "Year"
         }
        },
        "xaxis9": {
         "anchor": "y9",
         "domain": [
          0,
          0.2125
         ],
         "title": {
          "text": "Year"
         }
        },
        "yaxis": {
         "anchor": "x",
         "domain": [
          0.84375,
          1
         ],
         "title": {
          "text": "Price to Income Ratio"
         }
        },
        "yaxis10": {
         "anchor": "x10",
         "domain": [
          0.28125,
          0.4375
         ],
         "title": {
          "text": "Cost of Living Index"
         }
        },
        "yaxis11": {
         "anchor": "x11",
         "domain": [
          0.28125,
          0.4375
         ],
         "title": {
          "text": "Rent Index"
         }
        },
        "yaxis12": {
         "anchor": "x12",
         "domain": [
          0.28125,
          0.4375
         ],
         "title": {
          "text": "Cost of Living Plus Rent Index"
         }
        },
        "yaxis13": {
         "anchor": "x13",
         "domain": [
          0,
          0.15625
         ],
         "title": {
          "text": "Groceries Index"
         }
        },
        "yaxis14": {
         "anchor": "x14",
         "domain": [
          0,
          0.15625
         ],
         "title": {
          "text": "Restaurant Index"
         }
        },
        "yaxis15": {
         "anchor": "x15",
         "domain": [
          0,
          0.15625
         ],
         "title": {
          "text": "Local Purchasing Power Index"
         }
        },
        "yaxis16": {
         "anchor": "x16",
         "domain": [
          0,
          0.15625
         ]
        },
        "yaxis2": {
         "anchor": "x2",
         "domain": [
          0.84375,
          1
         ],
         "title": {
          "text": "Gross Rental Yield City Centre"
         }
        },
        "yaxis3": {
         "anchor": "x3",
         "domain": [
          0.84375,
          1
         ],
         "title": {
          "text": "Gross Rental Yield Outside Centre"
         }
        },
        "yaxis4": {
         "anchor": "x4",
         "domain": [
          0.84375,
          1
         ],
         "title": {
          "text": "Price to Rent Ratio City Centre"
         }
        },
        "yaxis5": {
         "anchor": "x5",
         "domain": [
          0.5625,
          0.71875
         ],
         "title": {
          "text": "Price to Rent Ratio Outside City Centre"
         }
        },
        "yaxis6": {
         "anchor": "x6",
         "domain": [
          0.5625,
          0.71875
         ],
         "title": {
          "text": "Mortgage as a Percentage of Income"
         }
        },
        "yaxis7": {
         "anchor": "x7",
         "domain": [
          0.5625,
          0.71875
         ],
         "title": {
          "text": "Affordability Index"
         }
        },
        "yaxis8": {
         "anchor": "x8",
         "domain": [
          0.5625,
          0.71875
         ],
         "title": {
          "text": "Crime Index"
         }
        },
        "yaxis9": {
         "anchor": "x9",
         "domain": [
          0.28125,
          0.4375
         ],
         "title": {
          "text": "Safety Index"
         }
        }
       }
      },
      "text/html": [
       "<div>                            <div id=\"37e0129f-2041-4e3b-85b0-b7cc0f01ced5\" class=\"plotly-graph-div\" style=\"height:1500px; width:1500px;\"></div>            <script type=\"text/javascript\">                require([\"plotly\"], function(Plotly) {                    window.PLOTLYENV=window.PLOTLYENV || {};                                    if (document.getElementById(\"37e0129f-2041-4e3b-85b0-b7cc0f01ced5\")) {                    Plotly.newPlot(                        \"37e0129f-2041-4e3b-85b0-b7cc0f01ced5\",                        [{\"mode\":\"lines+markers\",\"name\":\"Price to Income Ratio\",\"x\":[\"2013\",\"2014\",\"2014-mid\",\"2015\",\"2015-mid\",\"2019-mid\",\"2020\",\"2020-mid\",\"2021\",\"2021-mid\",\"2022\",\"2024-mid\"],\"y\":[1.7,1.9,1.7,1.4,1.2,2.1,2.1,1.7,1.6,1.6,1.7,1.8],\"type\":\"scatter\",\"xaxis\":\"x\",\"yaxis\":\"y\"},{\"mode\":\"lines+markers\",\"name\":\"Gross Rental Yield City Centre\",\"x\":[\"2013\",\"2014\",\"2014-mid\",\"2015\",\"2015-mid\",\"2019-mid\",\"2020\",\"2020-mid\",\"2021\",\"2021-mid\",\"2022\",\"2024-mid\"],\"y\":[15.0,18.8,18.9,33.0,31.8,16.9,15.9,15.1,13.7,13.0,13.4,23.0],\"type\":\"scatter\",\"xaxis\":\"x2\",\"yaxis\":\"y2\"},{\"mode\":\"lines+markers\",\"name\":\"Gross Rental Yield Outside Centre\",\"x\":[\"2013\",\"2014\",\"2014-mid\",\"2015\",\"2015-mid\",\"2019-mid\",\"2020\",\"2020-mid\",\"2021\",\"2021-mid\",\"2022\",\"2024-mid\"],\"y\":[23.5,22.8,22.8,20.8,20.6,22.4,21.0,22.4,27.1,26.9,27.3,20.4],\"type\":\"scatter\",\"xaxis\":\"x3\",\"yaxis\":\"y3\"},{\"mode\":\"lines+markers\",\"name\":\"Price to Rent Ratio City Centre\",\"x\":[\"2013\",\"2014\",\"2014-mid\",\"2015\",\"2015-mid\",\"2019-mid\",\"2020\",\"2020-mid\",\"2021\",\"2021-mid\",\"2022\",\"2024-mid\"],\"y\":[6.7,5.3,5.3,3.0,3.1,5.9,6.3,6.6,7.3,7.7,7.4,4.3],\"type\":\"scatter\",\"xaxis\":\"x4\",\"yaxis\":\"y4\"},{\"mode\":\"lines+markers\",\"name\":\"Price to Rent Ratio Outside City Centre\",\"x\":[\"2013\",\"2014\",\"2014-mid\",\"2015\",\"2015-mid\",\"2019-mid\",\"2020\",\"2020-mid\",\"2021\",\"2021-mid\",\"2022\",\"2024-mid\"],\"y\":[4.3,4.4,4.4,4.8,4.8,4.5,4.8,4.5,3.7,3.7,3.7,4.9],\"type\":\"scatter\",\"xaxis\":\"x5\",\"yaxis\":\"y5\"},{\"mode\":\"lines+markers\",\"name\":\"Mortgage as a Percentage of Income\",\"x\":[\"2013\",\"2014\",\"2014-mid\",\"2015\",\"2015-mid\",\"2019-mid\",\"2020\",\"2020-mid\",\"2021\",\"2021-mid\",\"2022\",\"2024-mid\"],\"y\":[\"12.3\",\"15.3\",\"13.5\",\"11.2\",\"9.0\",\"15.6\",\"15.8\",\"12.5\",\"12.4\",\"11.9\",\"11.7\",\"16.1\"],\"type\":\"scatter\",\"xaxis\":\"x6\",\"yaxis\":\"y6\"},{\"mode\":\"lines+markers\",\"name\":\"Affordability Index\",\"x\":[\"2013\",\"2014\",\"2014-mid\",\"2015\",\"2015-mid\",\"2019-mid\",\"2020\",\"2020-mid\",\"2021\",\"2021-mid\",\"2022\",\"2024-mid\"],\"y\":[\"8.1\",\"6.5\",\"7.4\",\"9.0\",\"11.1\",\"6.4\",\"6.3\",\"8.0\",\"8.1\",\"8.4\",\"8.5\",\"6.2\"],\"type\":\"scatter\",\"xaxis\":\"x7\",\"yaxis\":\"y7\"},{\"mode\":\"lines+markers\",\"name\":\"Crime Index\",\"x\":[\"2013\",\"2014\",\"2014-mid\",\"2015\",\"2015-mid\",\"2019-mid\",\"2020\",\"2020-mid\",\"2021\",\"2021-mid\",\"2022\",\"2024-mid\"],\"y\":[null,null,68.8,null,75.9,null,null,null,null,null,63.4,null],\"type\":\"scatter\",\"xaxis\":\"x8\",\"yaxis\":\"y8\"},{\"mode\":\"lines+markers\",\"name\":\"Safety Index\",\"x\":[\"2013\",\"2014\",\"2014-mid\",\"2015\",\"2015-mid\",\"2019-mid\",\"2020\",\"2020-mid\",\"2021\",\"2021-mid\",\"2022\",\"2024-mid\"],\"y\":[null,null,31.2,null,24.1,null,null,null,null,null,36.6,null],\"type\":\"scatter\",\"xaxis\":\"x9\",\"yaxis\":\"y9\"},{\"mode\":\"lines+markers\",\"name\":\"Cost of Living Index\",\"x\":[\"2013\",\"2014\",\"2014-mid\",\"2015\",\"2015-mid\",\"2019-mid\",\"2020\",\"2020-mid\",\"2021\",\"2021-mid\",\"2022\",\"2024-mid\"],\"y\":[null,null,null,null,null,null,null,null,null,null,null,null],\"type\":\"scatter\",\"xaxis\":\"x10\",\"yaxis\":\"y10\"},{\"mode\":\"lines+markers\",\"name\":\"Rent Index\",\"x\":[\"2013\",\"2014\",\"2014-mid\",\"2015\",\"2015-mid\",\"2019-mid\",\"2020\",\"2020-mid\",\"2021\",\"2021-mid\",\"2022\",\"2024-mid\"],\"y\":[null,null,null,null,null,null,null,null,null,null,null,null],\"type\":\"scatter\",\"xaxis\":\"x11\",\"yaxis\":\"y11\"},{\"mode\":\"lines+markers\",\"name\":\"Cost of Living Plus Rent Index\",\"x\":[\"2013\",\"2014\",\"2014-mid\",\"2015\",\"2015-mid\",\"2019-mid\",\"2020\",\"2020-mid\",\"2021\",\"2021-mid\",\"2022\",\"2024-mid\"],\"y\":[null,null,null,null,null,null,null,null,null,null,null,null],\"type\":\"scatter\",\"xaxis\":\"x12\",\"yaxis\":\"y12\"},{\"mode\":\"lines+markers\",\"name\":\"Groceries Index\",\"x\":[\"2013\",\"2014\",\"2014-mid\",\"2015\",\"2015-mid\",\"2019-mid\",\"2020\",\"2020-mid\",\"2021\",\"2021-mid\",\"2022\",\"2024-mid\"],\"y\":[null,null,null,null,null,null,null,null,null,null,null,null],\"type\":\"scatter\",\"xaxis\":\"x13\",\"yaxis\":\"y13\"},{\"mode\":\"lines+markers\",\"name\":\"Restaurant Index\",\"x\":[\"2013\",\"2014\",\"2014-mid\",\"2015\",\"2015-mid\",\"2019-mid\",\"2020\",\"2020-mid\",\"2021\",\"2021-mid\",\"2022\",\"2024-mid\"],\"y\":[null,null,null,null,null,null,null,null,null,null,null,null],\"type\":\"scatter\",\"xaxis\":\"x14\",\"yaxis\":\"y14\"},{\"mode\":\"lines+markers\",\"name\":\"Local Purchasing Power Index\",\"x\":[\"2013\",\"2014\",\"2014-mid\",\"2015\",\"2015-mid\",\"2019-mid\",\"2020\",\"2020-mid\",\"2021\",\"2021-mid\",\"2022\",\"2024-mid\"],\"y\":[null,null,null,null,null,null,null,null,null,null,null,null],\"type\":\"scatter\",\"xaxis\":\"x15\",\"yaxis\":\"y15\"}],                        {\"template\":{\"data\":{\"histogram2dcontour\":[{\"type\":\"histogram2dcontour\",\"colorbar\":{\"outlinewidth\":0,\"ticks\":\"\"},\"colorscale\":[[0.0,\"#0d0887\"],[0.1111111111111111,\"#46039f\"],[0.2222222222222222,\"#7201a8\"],[0.3333333333333333,\"#9c179e\"],[0.4444444444444444,\"#bd3786\"],[0.5555555555555556,\"#d8576b\"],[0.6666666666666666,\"#ed7953\"],[0.7777777777777778,\"#fb9f3a\"],[0.8888888888888888,\"#fdca26\"],[1.0,\"#f0f921\"]]}],\"choropleth\":[{\"type\":\"choropleth\",\"colorbar\":{\"outlinewidth\":0,\"ticks\":\"\"}}],\"histogram2d\":[{\"type\":\"histogram2d\",\"colorbar\":{\"outlinewidth\":0,\"ticks\":\"\"},\"colorscale\":[[0.0,\"#0d0887\"],[0.1111111111111111,\"#46039f\"],[0.2222222222222222,\"#7201a8\"],[0.3333333333333333,\"#9c179e\"],[0.4444444444444444,\"#bd3786\"],[0.5555555555555556,\"#d8576b\"],[0.6666666666666666,\"#ed7953\"],[0.7777777777777778,\"#fb9f3a\"],[0.8888888888888888,\"#fdca26\"],[1.0,\"#f0f921\"]]}],\"heatmap\":[{\"type\":\"heatmap\",\"colorbar\":{\"outlinewidth\":0,\"ticks\":\"\"},\"colorscale\":[[0.0,\"#0d0887\"],[0.1111111111111111,\"#46039f\"],[0.2222222222222222,\"#7201a8\"],[0.3333333333333333,\"#9c179e\"],[0.4444444444444444,\"#bd3786\"],[0.5555555555555556,\"#d8576b\"],[0.6666666666666666,\"#ed7953\"],[0.7777777777777778,\"#fb9f3a\"],[0.8888888888888888,\"#fdca26\"],[1.0,\"#f0f921\"]]}],\"heatmapgl\":[{\"type\":\"heatmapgl\",\"colorbar\":{\"outlinewidth\":0,\"ticks\":\"\"},\"colorscale\":[[0.0,\"#0d0887\"],[0.1111111111111111,\"#46039f\"],[0.2222222222222222,\"#7201a8\"],[0.3333333333333333,\"#9c179e\"],[0.4444444444444444,\"#bd3786\"],[0.5555555555555556,\"#d8576b\"],[0.6666666666666666,\"#ed7953\"],[0.7777777777777778,\"#fb9f3a\"],[0.8888888888888888,\"#fdca26\"],[1.0,\"#f0f921\"]]}],\"contourcarpet\":[{\"type\":\"contourcarpet\",\"colorbar\":{\"outlinewidth\":0,\"ticks\":\"\"}}],\"contour\":[{\"type\":\"contour\",\"colorbar\":{\"outlinewidth\":0,\"ticks\":\"\"},\"colorscale\":[[0.0,\"#0d0887\"],[0.1111111111111111,\"#46039f\"],[0.2222222222222222,\"#7201a8\"],[0.3333333333333333,\"#9c179e\"],[0.4444444444444444,\"#bd3786\"],[0.5555555555555556,\"#d8576b\"],[0.6666666666666666,\"#ed7953\"],[0.7777777777777778,\"#fb9f3a\"],[0.8888888888888888,\"#fdca26\"],[1.0,\"#f0f921\"]]}],\"surface\":[{\"type\":\"surface\",\"colorbar\":{\"outlinewidth\":0,\"ticks\":\"\"},\"colorscale\":[[0.0,\"#0d0887\"],[0.1111111111111111,\"#46039f\"],[0.2222222222222222,\"#7201a8\"],[0.3333333333333333,\"#9c179e\"],[0.4444444444444444,\"#bd3786\"],[0.5555555555555556,\"#d8576b\"],[0.6666666666666666,\"#ed7953\"],[0.7777777777777778,\"#fb9f3a\"],[0.8888888888888888,\"#fdca26\"],[1.0,\"#f0f921\"]]}],\"mesh3d\":[{\"type\":\"mesh3d\",\"colorbar\":{\"outlinewidth\":0,\"ticks\":\"\"}}],\"scatter\":[{\"fillpattern\":{\"fillmode\":\"overlay\",\"size\":10,\"solidity\":0.2},\"type\":\"scatter\"}],\"parcoords\":[{\"type\":\"parcoords\",\"line\":{\"colorbar\":{\"outlinewidth\":0,\"ticks\":\"\"}}}],\"scatterpolargl\":[{\"type\":\"scatterpolargl\",\"marker\":{\"colorbar\":{\"outlinewidth\":0,\"ticks\":\"\"}}}],\"bar\":[{\"error_x\":{\"color\":\"#2a3f5f\"},\"error_y\":{\"color\":\"#2a3f5f\"},\"marker\":{\"line\":{\"color\":\"#E5ECF6\",\"width\":0.5},\"pattern\":{\"fillmode\":\"overlay\",\"size\":10,\"solidity\":0.2}},\"type\":\"bar\"}],\"scattergeo\":[{\"type\":\"scattergeo\",\"marker\":{\"colorbar\":{\"outlinewidth\":0,\"ticks\":\"\"}}}],\"scatterpolar\":[{\"type\":\"scatterpolar\",\"marker\":{\"colorbar\":{\"outlinewidth\":0,\"ticks\":\"\"}}}],\"histogram\":[{\"marker\":{\"pattern\":{\"fillmode\":\"overlay\",\"size\":10,\"solidity\":0.2}},\"type\":\"histogram\"}],\"scattergl\":[{\"type\":\"scattergl\",\"marker\":{\"colorbar\":{\"outlinewidth\":0,\"ticks\":\"\"}}}],\"scatter3d\":[{\"type\":\"scatter3d\",\"line\":{\"colorbar\":{\"outlinewidth\":0,\"ticks\":\"\"}},\"marker\":{\"colorbar\":{\"outlinewidth\":0,\"ticks\":\"\"}}}],\"scattermapbox\":[{\"type\":\"scattermapbox\",\"marker\":{\"colorbar\":{\"outlinewidth\":0,\"ticks\":\"\"}}}],\"scatterternary\":[{\"type\":\"scatterternary\",\"marker\":{\"colorbar\":{\"outlinewidth\":0,\"ticks\":\"\"}}}],\"scattercarpet\":[{\"type\":\"scattercarpet\",\"marker\":{\"colorbar\":{\"outlinewidth\":0,\"ticks\":\"\"}}}],\"carpet\":[{\"aaxis\":{\"endlinecolor\":\"#2a3f5f\",\"gridcolor\":\"white\",\"linecolor\":\"white\",\"minorgridcolor\":\"white\",\"startlinecolor\":\"#2a3f5f\"},\"baxis\":{\"endlinecolor\":\"#2a3f5f\",\"gridcolor\":\"white\",\"linecolor\":\"white\",\"minorgridcolor\":\"white\",\"startlinecolor\":\"#2a3f5f\"},\"type\":\"carpet\"}],\"table\":[{\"cells\":{\"fill\":{\"color\":\"#EBF0F8\"},\"line\":{\"color\":\"white\"}},\"header\":{\"fill\":{\"color\":\"#C8D4E3\"},\"line\":{\"color\":\"white\"}},\"type\":\"table\"}],\"barpolar\":[{\"marker\":{\"line\":{\"color\":\"#E5ECF6\",\"width\":0.5},\"pattern\":{\"fillmode\":\"overlay\",\"size\":10,\"solidity\":0.2}},\"type\":\"barpolar\"}],\"pie\":[{\"automargin\":true,\"type\":\"pie\"}]},\"layout\":{\"autotypenumbers\":\"strict\",\"colorway\":[\"#636efa\",\"#EF553B\",\"#00cc96\",\"#ab63fa\",\"#FFA15A\",\"#19d3f3\",\"#FF6692\",\"#B6E880\",\"#FF97FF\",\"#FECB52\"],\"font\":{\"color\":\"#2a3f5f\"},\"hovermode\":\"closest\",\"hoverlabel\":{\"align\":\"left\"},\"paper_bgcolor\":\"white\",\"plot_bgcolor\":\"#E5ECF6\",\"polar\":{\"bgcolor\":\"#E5ECF6\",\"angularaxis\":{\"gridcolor\":\"white\",\"linecolor\":\"white\",\"ticks\":\"\"},\"radialaxis\":{\"gridcolor\":\"white\",\"linecolor\":\"white\",\"ticks\":\"\"}},\"ternary\":{\"bgcolor\":\"#E5ECF6\",\"aaxis\":{\"gridcolor\":\"white\",\"linecolor\":\"white\",\"ticks\":\"\"},\"baxis\":{\"gridcolor\":\"white\",\"linecolor\":\"white\",\"ticks\":\"\"},\"caxis\":{\"gridcolor\":\"white\",\"linecolor\":\"white\",\"ticks\":\"\"}},\"coloraxis\":{\"colorbar\":{\"outlinewidth\":0,\"ticks\":\"\"}},\"colorscale\":{\"sequential\":[[0.0,\"#0d0887\"],[0.1111111111111111,\"#46039f\"],[0.2222222222222222,\"#7201a8\"],[0.3333333333333333,\"#9c179e\"],[0.4444444444444444,\"#bd3786\"],[0.5555555555555556,\"#d8576b\"],[0.6666666666666666,\"#ed7953\"],[0.7777777777777778,\"#fb9f3a\"],[0.8888888888888888,\"#fdca26\"],[1.0,\"#f0f921\"]],\"sequentialminus\":[[0.0,\"#0d0887\"],[0.1111111111111111,\"#46039f\"],[0.2222222222222222,\"#7201a8\"],[0.3333333333333333,\"#9c179e\"],[0.4444444444444444,\"#bd3786\"],[0.5555555555555556,\"#d8576b\"],[0.6666666666666666,\"#ed7953\"],[0.7777777777777778,\"#fb9f3a\"],[0.8888888888888888,\"#fdca26\"],[1.0,\"#f0f921\"]],\"diverging\":[[0,\"#8e0152\"],[0.1,\"#c51b7d\"],[0.2,\"#de77ae\"],[0.3,\"#f1b6da\"],[0.4,\"#fde0ef\"],[0.5,\"#f7f7f7\"],[0.6,\"#e6f5d0\"],[0.7,\"#b8e186\"],[0.8,\"#7fbc41\"],[0.9,\"#4d9221\"],[1,\"#276419\"]]},\"xaxis\":{\"gridcolor\":\"white\",\"linecolor\":\"white\",\"ticks\":\"\",\"title\":{\"standoff\":15},\"zerolinecolor\":\"white\",\"automargin\":true,\"zerolinewidth\":2},\"yaxis\":{\"gridcolor\":\"white\",\"linecolor\":\"white\",\"ticks\":\"\",\"title\":{\"standoff\":15},\"zerolinecolor\":\"white\",\"automargin\":true,\"zerolinewidth\":2},\"scene\":{\"xaxis\":{\"backgroundcolor\":\"#E5ECF6\",\"gridcolor\":\"white\",\"linecolor\":\"white\",\"showbackground\":true,\"ticks\":\"\",\"zerolinecolor\":\"white\",\"gridwidth\":2},\"yaxis\":{\"backgroundcolor\":\"#E5ECF6\",\"gridcolor\":\"white\",\"linecolor\":\"white\",\"showbackground\":true,\"ticks\":\"\",\"zerolinecolor\":\"white\",\"gridwidth\":2},\"zaxis\":{\"backgroundcolor\":\"#E5ECF6\",\"gridcolor\":\"white\",\"linecolor\":\"white\",\"showbackground\":true,\"ticks\":\"\",\"zerolinecolor\":\"white\",\"gridwidth\":2}},\"shapedefaults\":{\"line\":{\"color\":\"#2a3f5f\"}},\"annotationdefaults\":{\"arrowcolor\":\"#2a3f5f\",\"arrowhead\":0,\"arrowwidth\":1},\"geo\":{\"bgcolor\":\"white\",\"landcolor\":\"#E5ECF6\",\"subunitcolor\":\"white\",\"showland\":true,\"showlakes\":true,\"lakecolor\":\"white\"},\"title\":{\"x\":0.05},\"mapbox\":{\"style\":\"light\"}}},\"xaxis\":{\"anchor\":\"y\",\"domain\":[0.0,0.2125],\"title\":{\"text\":\"Year\"}},\"yaxis\":{\"anchor\":\"x\",\"domain\":[0.84375,1.0],\"title\":{\"text\":\"Price to Income Ratio\"}},\"xaxis2\":{\"anchor\":\"y2\",\"domain\":[0.2625,0.475],\"title\":{\"text\":\"Year\"}},\"yaxis2\":{\"anchor\":\"x2\",\"domain\":[0.84375,1.0],\"title\":{\"text\":\"Gross Rental Yield City Centre\"}},\"xaxis3\":{\"anchor\":\"y3\",\"domain\":[0.525,0.7375],\"title\":{\"text\":\"Year\"}},\"yaxis3\":{\"anchor\":\"x3\",\"domain\":[0.84375,1.0],\"title\":{\"text\":\"Gross Rental Yield Outside Centre\"}},\"xaxis4\":{\"anchor\":\"y4\",\"domain\":[0.7875,1.0],\"title\":{\"text\":\"Year\"}},\"yaxis4\":{\"anchor\":\"x4\",\"domain\":[0.84375,1.0],\"title\":{\"text\":\"Price to Rent Ratio City Centre\"}},\"xaxis5\":{\"anchor\":\"y5\",\"domain\":[0.0,0.2125],\"title\":{\"text\":\"Year\"}},\"yaxis5\":{\"anchor\":\"x5\",\"domain\":[0.5625,0.71875],\"title\":{\"text\":\"Price to Rent Ratio Outside City Centre\"}},\"xaxis6\":{\"anchor\":\"y6\",\"domain\":[0.2625,0.475],\"title\":{\"text\":\"Year\"}},\"yaxis6\":{\"anchor\":\"x6\",\"domain\":[0.5625,0.71875],\"title\":{\"text\":\"Mortgage as a Percentage of Income\"}},\"xaxis7\":{\"anchor\":\"y7\",\"domain\":[0.525,0.7375],\"title\":{\"text\":\"Year\"}},\"yaxis7\":{\"anchor\":\"x7\",\"domain\":[0.5625,0.71875],\"title\":{\"text\":\"Affordability Index\"}},\"xaxis8\":{\"anchor\":\"y8\",\"domain\":[0.7875,1.0],\"title\":{\"text\":\"Year\"}},\"yaxis8\":{\"anchor\":\"x8\",\"domain\":[0.5625,0.71875],\"title\":{\"text\":\"Crime Index\"}},\"xaxis9\":{\"anchor\":\"y9\",\"domain\":[0.0,0.2125],\"title\":{\"text\":\"Year\"}},\"yaxis9\":{\"anchor\":\"x9\",\"domain\":[0.28125,0.4375],\"title\":{\"text\":\"Safety Index\"}},\"xaxis10\":{\"anchor\":\"y10\",\"domain\":[0.2625,0.475],\"title\":{\"text\":\"Year\"}},\"yaxis10\":{\"anchor\":\"x10\",\"domain\":[0.28125,0.4375],\"title\":{\"text\":\"Cost of Living Index\"}},\"xaxis11\":{\"anchor\":\"y11\",\"domain\":[0.525,0.7375],\"title\":{\"text\":\"Year\"}},\"yaxis11\":{\"anchor\":\"x11\",\"domain\":[0.28125,0.4375],\"title\":{\"text\":\"Rent Index\"}},\"xaxis12\":{\"anchor\":\"y12\",\"domain\":[0.7875,1.0],\"title\":{\"text\":\"Year\"}},\"yaxis12\":{\"anchor\":\"x12\",\"domain\":[0.28125,0.4375],\"title\":{\"text\":\"Cost of Living Plus Rent Index\"}},\"xaxis13\":{\"anchor\":\"y13\",\"domain\":[0.0,0.2125],\"title\":{\"text\":\"Year\"}},\"yaxis13\":{\"anchor\":\"x13\",\"domain\":[0.0,0.15625],\"title\":{\"text\":\"Groceries Index\"}},\"xaxis14\":{\"anchor\":\"y14\",\"domain\":[0.2625,0.475],\"title\":{\"text\":\"Year\"}},\"yaxis14\":{\"anchor\":\"x14\",\"domain\":[0.0,0.15625],\"title\":{\"text\":\"Restaurant Index\"}},\"xaxis15\":{\"anchor\":\"y15\",\"domain\":[0.525,0.7375],\"title\":{\"text\":\"Year\"}},\"yaxis15\":{\"anchor\":\"x15\",\"domain\":[0.0,0.15625],\"title\":{\"text\":\"Local Purchasing Power Index\"}},\"xaxis16\":{\"anchor\":\"y16\",\"domain\":[0.7875,1.0]},\"yaxis16\":{\"anchor\":\"x16\",\"domain\":[0.0,0.15625]},\"annotations\":[{\"font\":{\"size\":16},\"showarrow\":false,\"text\":\"Price to Income Ratio\",\"x\":0.10625,\"xanchor\":\"center\",\"xref\":\"paper\",\"y\":1.0,\"yanchor\":\"bottom\",\"yref\":\"paper\"},{\"font\":{\"size\":16},\"showarrow\":false,\"text\":\"Gross Rental Yield City Centre\",\"x\":0.36875,\"xanchor\":\"center\",\"xref\":\"paper\",\"y\":1.0,\"yanchor\":\"bottom\",\"yref\":\"paper\"},{\"font\":{\"size\":16},\"showarrow\":false,\"text\":\"Gross Rental Yield Outside Centre\",\"x\":0.6312500000000001,\"xanchor\":\"center\",\"xref\":\"paper\",\"y\":1.0,\"yanchor\":\"bottom\",\"yref\":\"paper\"},{\"font\":{\"size\":16},\"showarrow\":false,\"text\":\"Price to Rent Ratio City Centre\",\"x\":0.89375,\"xanchor\":\"center\",\"xref\":\"paper\",\"y\":1.0,\"yanchor\":\"bottom\",\"yref\":\"paper\"},{\"font\":{\"size\":16},\"showarrow\":false,\"text\":\"Price to Rent Ratio Outside City Centre\",\"x\":0.10625,\"xanchor\":\"center\",\"xref\":\"paper\",\"y\":0.71875,\"yanchor\":\"bottom\",\"yref\":\"paper\"},{\"font\":{\"size\":16},\"showarrow\":false,\"text\":\"Mortgage as a Percentage of Income\",\"x\":0.36875,\"xanchor\":\"center\",\"xref\":\"paper\",\"y\":0.71875,\"yanchor\":\"bottom\",\"yref\":\"paper\"},{\"font\":{\"size\":16},\"showarrow\":false,\"text\":\"Affordability Index\",\"x\":0.6312500000000001,\"xanchor\":\"center\",\"xref\":\"paper\",\"y\":0.71875,\"yanchor\":\"bottom\",\"yref\":\"paper\"},{\"font\":{\"size\":16},\"showarrow\":false,\"text\":\"Crime Index\",\"x\":0.89375,\"xanchor\":\"center\",\"xref\":\"paper\",\"y\":0.71875,\"yanchor\":\"bottom\",\"yref\":\"paper\"},{\"font\":{\"size\":16},\"showarrow\":false,\"text\":\"Safety Index\",\"x\":0.10625,\"xanchor\":\"center\",\"xref\":\"paper\",\"y\":0.4375,\"yanchor\":\"bottom\",\"yref\":\"paper\"},{\"font\":{\"size\":16},\"showarrow\":false,\"text\":\"Cost of Living Index\",\"x\":0.36875,\"xanchor\":\"center\",\"xref\":\"paper\",\"y\":0.4375,\"yanchor\":\"bottom\",\"yref\":\"paper\"},{\"font\":{\"size\":16},\"showarrow\":false,\"text\":\"Rent Index\",\"x\":0.6312500000000001,\"xanchor\":\"center\",\"xref\":\"paper\",\"y\":0.4375,\"yanchor\":\"bottom\",\"yref\":\"paper\"},{\"font\":{\"size\":16},\"showarrow\":false,\"text\":\"Cost of Living Plus Rent Index\",\"x\":0.89375,\"xanchor\":\"center\",\"xref\":\"paper\",\"y\":0.4375,\"yanchor\":\"bottom\",\"yref\":\"paper\"},{\"font\":{\"size\":16},\"showarrow\":false,\"text\":\"Groceries Index\",\"x\":0.10625,\"xanchor\":\"center\",\"xref\":\"paper\",\"y\":0.15625,\"yanchor\":\"bottom\",\"yref\":\"paper\"},{\"font\":{\"size\":16},\"showarrow\":false,\"text\":\"Restaurant Index\",\"x\":0.36875,\"xanchor\":\"center\",\"xref\":\"paper\",\"y\":0.15625,\"yanchor\":\"bottom\",\"yref\":\"paper\"},{\"font\":{\"size\":16},\"showarrow\":false,\"text\":\"Local Purchasing Power Index\",\"x\":0.6312500000000001,\"xanchor\":\"center\",\"xref\":\"paper\",\"y\":0.15625,\"yanchor\":\"bottom\",\"yref\":\"paper\"}],\"title\":{\"text\":\"Rochester, NY, United States\"},\"height\":1500,\"width\":1500},                        {\"responsive\": true}                    ).then(function(){\n",
       "                            \n",
       "var gd = document.getElementById('37e0129f-2041-4e3b-85b0-b7cc0f01ced5');\n",
       "var x = new MutationObserver(function (mutations, observer) {{\n",
       "        var display = window.getComputedStyle(gd).display;\n",
       "        if (!display || display === 'none') {{\n",
       "            console.log([gd, 'removed!']);\n",
       "            Plotly.purge(gd);\n",
       "            observer.disconnect();\n",
       "        }}\n",
       "}});\n",
       "\n",
       "// Listen for the removal of the full notebook cells\n",
       "var notebookContainer = gd.closest('#notebook-container');\n",
       "if (notebookContainer) {{\n",
       "    x.observe(notebookContainer, {childList: true});\n",
       "}}\n",
       "\n",
       "// Listen for the clearing of the current output cell\n",
       "var outputEl = gd.closest('.output');\n",
       "if (outputEl) {{\n",
       "    x.observe(outputEl, {childList: true});\n",
       "}}\n",
       "\n",
       "                        })                };                });            </script>        </div>"
      ]
     },
     "metadata": {},
     "output_type": "display_data"
    },
    {
     "data": {
      "application/vnd.plotly.v1+json": {
       "config": {
        "plotlyServerURL": "https://plot.ly"
       },
       "data": [
        {
         "mode": "lines+markers",
         "name": "Price to Income Ratio",
         "type": "scatter",
         "x": [
          "2012",
          "2013",
          "2014",
          "2014-mid",
          "2015",
          "2015-mid",
          "2016",
          "2017-mid",
          "2018",
          "2018-mid",
          "2019",
          "2019-mid",
          "2020",
          "2020-mid",
          "2021",
          "2021-mid",
          "2022",
          "2022-mid",
          "2024-mid"
         ],
         "xaxis": "x",
         "y": [
          1.4,
          1.8,
          1.5,
          1.4,
          1.6,
          1.7,
          2.4,
          2.2,
          2.3,
          2,
          2.3,
          2.3,
          2.3,
          2.2,
          2.2,
          1.8,
          2.1,
          2.1,
          1.8
         ],
         "yaxis": "y"
        },
        {
         "mode": "lines+markers",
         "name": "Gross Rental Yield City Centre",
         "type": "scatter",
         "x": [
          "2012",
          "2013",
          "2014",
          "2014-mid",
          "2015",
          "2015-mid",
          "2016",
          "2017-mid",
          "2018",
          "2018-mid",
          "2019",
          "2019-mid",
          "2020",
          "2020-mid",
          "2021",
          "2021-mid",
          "2022",
          "2022-mid",
          "2024-mid"
         ],
         "xaxis": "x2",
         "y": [
          4,
          10.1,
          13.6,
          13.6,
          18.2,
          19.8,
          15.7,
          18.3,
          19.8,
          19.2,
          15.6,
          14.9,
          13.7,
          11.7,
          10.6,
          10.6,
          11.9,
          11.4,
          16.1
         ],
         "yaxis": "y2"
        },
        {
         "mode": "lines+markers",
         "name": "Gross Rental Yield Outside Centre",
         "type": "scatter",
         "x": [
          "2012",
          "2013",
          "2014",
          "2014-mid",
          "2015",
          "2015-mid",
          "2016",
          "2017-mid",
          "2018",
          "2018-mid",
          "2019",
          "2019-mid",
          "2020",
          "2020-mid",
          "2021",
          "2021-mid",
          "2022",
          "2022-mid",
          "2024-mid"
         ],
         "xaxis": "x3",
         "y": [
          22.5,
          16,
          16.1,
          16.6,
          20.4,
          23.9,
          16.2,
          18.7,
          23.2,
          21.4,
          17.1,
          15.6,
          14.7,
          16.7,
          17.7,
          18,
          18.8,
          20.8,
          14.8
         ],
         "yaxis": "y3"
        },
        {
         "mode": "lines+markers",
         "name": "Price to Rent Ratio City Centre",
         "type": "scatter",
         "x": [
          "2012",
          "2013",
          "2014",
          "2014-mid",
          "2015",
          "2015-mid",
          "2016",
          "2017-mid",
          "2018",
          "2018-mid",
          "2019",
          "2019-mid",
          "2020",
          "2020-mid",
          "2021",
          "2021-mid",
          "2022",
          "2022-mid",
          "2024-mid"
         ],
         "xaxis": "x4",
         "y": [
          25.1,
          9.9,
          7.4,
          7.4,
          5.5,
          5,
          6.4,
          5.5,
          5.1,
          5.2,
          6.4,
          6.7,
          7.3,
          8.5,
          9.4,
          9.4,
          8.4,
          8.8,
          6.2
         ],
         "yaxis": "y4"
        },
        {
         "mode": "lines+markers",
         "name": "Price to Rent Ratio Outside City Centre",
         "type": "scatter",
         "x": [
          "2012",
          "2013",
          "2014",
          "2014-mid",
          "2015",
          "2015-mid",
          "2016",
          "2017-mid",
          "2018",
          "2018-mid",
          "2019",
          "2019-mid",
          "2020",
          "2020-mid",
          "2021",
          "2021-mid",
          "2022",
          "2022-mid",
          "2024-mid"
         ],
         "xaxis": "x5",
         "y": [
          4.4,
          6.2,
          6.2,
          6,
          4.9,
          4.2,
          6.2,
          5.3,
          4.3,
          4.7,
          5.8,
          6.4,
          6.8,
          6,
          5.6,
          5.6,
          5.3,
          4.8,
          6.7
         ],
         "yaxis": "y5"
        },
        {
         "mode": "lines+markers",
         "name": "Mortgage as a Percentage of Income",
         "type": "scatter",
         "x": [
          "2012",
          "2013",
          "2014",
          "2014-mid",
          "2015",
          "2015-mid",
          "2016",
          "2017-mid",
          "2018",
          "2018-mid",
          "2019",
          "2019-mid",
          "2020",
          "2020-mid",
          "2021",
          "2021-mid",
          "2022",
          "2022-mid",
          "2024-mid"
         ],
         "xaxis": "x6",
         "y": [
          "12.7",
          "14.8",
          "11.5",
          "10.8",
          "12.1",
          "13.2",
          "16.8",
          "15.5",
          "16.5",
          "15.0",
          "16.8",
          "16.8",
          "17.0",
          "16.4",
          "15.8",
          "13.2",
          "14.6",
          "17.0",
          "16.6"
         ],
         "yaxis": "y6"
        },
        {
         "mode": "lines+markers",
         "name": "Affordability Index",
         "type": "scatter",
         "x": [
          "2012",
          "2013",
          "2014",
          "2014-mid",
          "2015",
          "2015-mid",
          "2016",
          "2017-mid",
          "2018",
          "2018-mid",
          "2019",
          "2019-mid",
          "2020",
          "2020-mid",
          "2021",
          "2021-mid",
          "2022",
          "2022-mid",
          "2024-mid"
         ],
         "xaxis": "x7",
         "y": [
          "7.9",
          "6.7",
          "8.7",
          "9.3",
          "8.3",
          "7.6",
          "6.0",
          "6.4",
          "6.1",
          "6.7",
          "5.9",
          "6.0",
          "5.9",
          "6.1",
          "6.3",
          "7.6",
          "6.8",
          "5.9",
          "6.0"
         ],
         "yaxis": "y7"
        },
        {
         "mode": "lines+markers",
         "name": "Crime Index",
         "type": "scatter",
         "x": [
          "2012",
          "2013",
          "2014",
          "2014-mid",
          "2015",
          "2015-mid",
          "2016",
          "2017-mid",
          "2018",
          "2018-mid",
          "2019",
          "2019-mid",
          "2020",
          "2020-mid",
          "2021",
          "2021-mid",
          "2022",
          "2022-mid",
          "2024-mid"
         ],
         "xaxis": "x8",
         "y": [
          null,
          null,
          null,
          50.6,
          52.3,
          57.2,
          null,
          50.7,
          null,
          null,
          55.2,
          58,
          56.9,
          57.2,
          57.6,
          56.9,
          57.6,
          57.7,
          60.2
         ],
         "yaxis": "y8"
        },
        {
         "mode": "lines+markers",
         "name": "Safety Index",
         "type": "scatter",
         "x": [
          "2012",
          "2013",
          "2014",
          "2014-mid",
          "2015",
          "2015-mid",
          "2016",
          "2017-mid",
          "2018",
          "2018-mid",
          "2019",
          "2019-mid",
          "2020",
          "2020-mid",
          "2021",
          "2021-mid",
          "2022",
          "2022-mid",
          "2024-mid"
         ],
         "xaxis": "x9",
         "y": [
          null,
          null,
          null,
          49.4,
          47.7,
          42.8,
          null,
          49.3,
          null,
          null,
          44.8,
          42,
          43.1,
          42.8,
          42.4,
          43.1,
          42.4,
          42.3,
          39.8
         ],
         "yaxis": "y9"
        },
        {
         "mode": "lines+markers",
         "name": "Cost of Living Index",
         "type": "scatter",
         "x": [
          "2012",
          "2013",
          "2014",
          "2014-mid",
          "2015",
          "2015-mid",
          "2016",
          "2017-mid",
          "2018",
          "2018-mid",
          "2019",
          "2019-mid",
          "2020",
          "2020-mid",
          "2021",
          "2021-mid",
          "2022",
          "2022-mid",
          "2024-mid"
         ],
         "xaxis": "x10",
         "y": [
          null,
          null,
          null,
          null,
          null,
          null,
          null,
          null,
          null,
          null,
          null,
          null,
          null,
          null,
          null,
          null,
          null,
          null,
          null
         ],
         "yaxis": "y10"
        },
        {
         "mode": "lines+markers",
         "name": "Rent Index",
         "type": "scatter",
         "x": [
          "2012",
          "2013",
          "2014",
          "2014-mid",
          "2015",
          "2015-mid",
          "2016",
          "2017-mid",
          "2018",
          "2018-mid",
          "2019",
          "2019-mid",
          "2020",
          "2020-mid",
          "2021",
          "2021-mid",
          "2022",
          "2022-mid",
          "2024-mid"
         ],
         "xaxis": "x11",
         "y": [
          null,
          null,
          null,
          null,
          null,
          null,
          null,
          null,
          null,
          null,
          null,
          null,
          null,
          null,
          null,
          null,
          null,
          null,
          null
         ],
         "yaxis": "y11"
        },
        {
         "mode": "lines+markers",
         "name": "Cost of Living Plus Rent Index",
         "type": "scatter",
         "x": [
          "2012",
          "2013",
          "2014",
          "2014-mid",
          "2015",
          "2015-mid",
          "2016",
          "2017-mid",
          "2018",
          "2018-mid",
          "2019",
          "2019-mid",
          "2020",
          "2020-mid",
          "2021",
          "2021-mid",
          "2022",
          "2022-mid",
          "2024-mid"
         ],
         "xaxis": "x12",
         "y": [
          null,
          null,
          null,
          null,
          null,
          null,
          null,
          null,
          null,
          null,
          null,
          null,
          null,
          null,
          null,
          null,
          null,
          null,
          null
         ],
         "yaxis": "y12"
        },
        {
         "mode": "lines+markers",
         "name": "Groceries Index",
         "type": "scatter",
         "x": [
          "2012",
          "2013",
          "2014",
          "2014-mid",
          "2015",
          "2015-mid",
          "2016",
          "2017-mid",
          "2018",
          "2018-mid",
          "2019",
          "2019-mid",
          "2020",
          "2020-mid",
          "2021",
          "2021-mid",
          "2022",
          "2022-mid",
          "2024-mid"
         ],
         "xaxis": "x13",
         "y": [
          null,
          null,
          null,
          null,
          null,
          null,
          null,
          null,
          null,
          null,
          null,
          null,
          null,
          null,
          null,
          null,
          null,
          null,
          null
         ],
         "yaxis": "y13"
        },
        {
         "mode": "lines+markers",
         "name": "Restaurant Index",
         "type": "scatter",
         "x": [
          "2012",
          "2013",
          "2014",
          "2014-mid",
          "2015",
          "2015-mid",
          "2016",
          "2017-mid",
          "2018",
          "2018-mid",
          "2019",
          "2019-mid",
          "2020",
          "2020-mid",
          "2021",
          "2021-mid",
          "2022",
          "2022-mid",
          "2024-mid"
         ],
         "xaxis": "x14",
         "y": [
          null,
          null,
          null,
          null,
          null,
          null,
          null,
          null,
          null,
          null,
          null,
          null,
          null,
          null,
          null,
          null,
          null,
          null,
          null
         ],
         "yaxis": "y14"
        },
        {
         "mode": "lines+markers",
         "name": "Local Purchasing Power Index",
         "type": "scatter",
         "x": [
          "2012",
          "2013",
          "2014",
          "2014-mid",
          "2015",
          "2015-mid",
          "2016",
          "2017-mid",
          "2018",
          "2018-mid",
          "2019",
          "2019-mid",
          "2020",
          "2020-mid",
          "2021",
          "2021-mid",
          "2022",
          "2022-mid",
          "2024-mid"
         ],
         "xaxis": "x15",
         "y": [
          null,
          null,
          null,
          null,
          null,
          null,
          null,
          null,
          null,
          null,
          null,
          null,
          null,
          null,
          null,
          null,
          null,
          null,
          null
         ],
         "yaxis": "y15"
        }
       ],
       "layout": {
        "annotations": [
         {
          "font": {
           "size": 16
          },
          "showarrow": false,
          "text": "Price to Income Ratio",
          "x": 0.10625,
          "xanchor": "center",
          "xref": "paper",
          "y": 1,
          "yanchor": "bottom",
          "yref": "paper"
         },
         {
          "font": {
           "size": 16
          },
          "showarrow": false,
          "text": "Gross Rental Yield City Centre",
          "x": 0.36875,
          "xanchor": "center",
          "xref": "paper",
          "y": 1,
          "yanchor": "bottom",
          "yref": "paper"
         },
         {
          "font": {
           "size": 16
          },
          "showarrow": false,
          "text": "Gross Rental Yield Outside Centre",
          "x": 0.6312500000000001,
          "xanchor": "center",
          "xref": "paper",
          "y": 1,
          "yanchor": "bottom",
          "yref": "paper"
         },
         {
          "font": {
           "size": 16
          },
          "showarrow": false,
          "text": "Price to Rent Ratio City Centre",
          "x": 0.89375,
          "xanchor": "center",
          "xref": "paper",
          "y": 1,
          "yanchor": "bottom",
          "yref": "paper"
         },
         {
          "font": {
           "size": 16
          },
          "showarrow": false,
          "text": "Price to Rent Ratio Outside City Centre",
          "x": 0.10625,
          "xanchor": "center",
          "xref": "paper",
          "y": 0.71875,
          "yanchor": "bottom",
          "yref": "paper"
         },
         {
          "font": {
           "size": 16
          },
          "showarrow": false,
          "text": "Mortgage as a Percentage of Income",
          "x": 0.36875,
          "xanchor": "center",
          "xref": "paper",
          "y": 0.71875,
          "yanchor": "bottom",
          "yref": "paper"
         },
         {
          "font": {
           "size": 16
          },
          "showarrow": false,
          "text": "Affordability Index",
          "x": 0.6312500000000001,
          "xanchor": "center",
          "xref": "paper",
          "y": 0.71875,
          "yanchor": "bottom",
          "yref": "paper"
         },
         {
          "font": {
           "size": 16
          },
          "showarrow": false,
          "text": "Crime Index",
          "x": 0.89375,
          "xanchor": "center",
          "xref": "paper",
          "y": 0.71875,
          "yanchor": "bottom",
          "yref": "paper"
         },
         {
          "font": {
           "size": 16
          },
          "showarrow": false,
          "text": "Safety Index",
          "x": 0.10625,
          "xanchor": "center",
          "xref": "paper",
          "y": 0.4375,
          "yanchor": "bottom",
          "yref": "paper"
         },
         {
          "font": {
           "size": 16
          },
          "showarrow": false,
          "text": "Cost of Living Index",
          "x": 0.36875,
          "xanchor": "center",
          "xref": "paper",
          "y": 0.4375,
          "yanchor": "bottom",
          "yref": "paper"
         },
         {
          "font": {
           "size": 16
          },
          "showarrow": false,
          "text": "Rent Index",
          "x": 0.6312500000000001,
          "xanchor": "center",
          "xref": "paper",
          "y": 0.4375,
          "yanchor": "bottom",
          "yref": "paper"
         },
         {
          "font": {
           "size": 16
          },
          "showarrow": false,
          "text": "Cost of Living Plus Rent Index",
          "x": 0.89375,
          "xanchor": "center",
          "xref": "paper",
          "y": 0.4375,
          "yanchor": "bottom",
          "yref": "paper"
         },
         {
          "font": {
           "size": 16
          },
          "showarrow": false,
          "text": "Groceries Index",
          "x": 0.10625,
          "xanchor": "center",
          "xref": "paper",
          "y": 0.15625,
          "yanchor": "bottom",
          "yref": "paper"
         },
         {
          "font": {
           "size": 16
          },
          "showarrow": false,
          "text": "Restaurant Index",
          "x": 0.36875,
          "xanchor": "center",
          "xref": "paper",
          "y": 0.15625,
          "yanchor": "bottom",
          "yref": "paper"
         },
         {
          "font": {
           "size": 16
          },
          "showarrow": false,
          "text": "Local Purchasing Power Index",
          "x": 0.6312500000000001,
          "xanchor": "center",
          "xref": "paper",
          "y": 0.15625,
          "yanchor": "bottom",
          "yref": "paper"
         }
        ],
        "height": 1500,
        "template": {
         "data": {
          "bar": [
           {
            "error_x": {
             "color": "#2a3f5f"
            },
            "error_y": {
             "color": "#2a3f5f"
            },
            "marker": {
             "line": {
              "color": "#E5ECF6",
              "width": 0.5
             },
             "pattern": {
              "fillmode": "overlay",
              "size": 10,
              "solidity": 0.2
             }
            },
            "type": "bar"
           }
          ],
          "barpolar": [
           {
            "marker": {
             "line": {
              "color": "#E5ECF6",
              "width": 0.5
             },
             "pattern": {
              "fillmode": "overlay",
              "size": 10,
              "solidity": 0.2
             }
            },
            "type": "barpolar"
           }
          ],
          "carpet": [
           {
            "aaxis": {
             "endlinecolor": "#2a3f5f",
             "gridcolor": "white",
             "linecolor": "white",
             "minorgridcolor": "white",
             "startlinecolor": "#2a3f5f"
            },
            "baxis": {
             "endlinecolor": "#2a3f5f",
             "gridcolor": "white",
             "linecolor": "white",
             "minorgridcolor": "white",
             "startlinecolor": "#2a3f5f"
            },
            "type": "carpet"
           }
          ],
          "choropleth": [
           {
            "colorbar": {
             "outlinewidth": 0,
             "ticks": ""
            },
            "type": "choropleth"
           }
          ],
          "contour": [
           {
            "colorbar": {
             "outlinewidth": 0,
             "ticks": ""
            },
            "colorscale": [
             [
              0,
              "#0d0887"
             ],
             [
              0.1111111111111111,
              "#46039f"
             ],
             [
              0.2222222222222222,
              "#7201a8"
             ],
             [
              0.3333333333333333,
              "#9c179e"
             ],
             [
              0.4444444444444444,
              "#bd3786"
             ],
             [
              0.5555555555555556,
              "#d8576b"
             ],
             [
              0.6666666666666666,
              "#ed7953"
             ],
             [
              0.7777777777777778,
              "#fb9f3a"
             ],
             [
              0.8888888888888888,
              "#fdca26"
             ],
             [
              1,
              "#f0f921"
             ]
            ],
            "type": "contour"
           }
          ],
          "contourcarpet": [
           {
            "colorbar": {
             "outlinewidth": 0,
             "ticks": ""
            },
            "type": "contourcarpet"
           }
          ],
          "heatmap": [
           {
            "colorbar": {
             "outlinewidth": 0,
             "ticks": ""
            },
            "colorscale": [
             [
              0,
              "#0d0887"
             ],
             [
              0.1111111111111111,
              "#46039f"
             ],
             [
              0.2222222222222222,
              "#7201a8"
             ],
             [
              0.3333333333333333,
              "#9c179e"
             ],
             [
              0.4444444444444444,
              "#bd3786"
             ],
             [
              0.5555555555555556,
              "#d8576b"
             ],
             [
              0.6666666666666666,
              "#ed7953"
             ],
             [
              0.7777777777777778,
              "#fb9f3a"
             ],
             [
              0.8888888888888888,
              "#fdca26"
             ],
             [
              1,
              "#f0f921"
             ]
            ],
            "type": "heatmap"
           }
          ],
          "heatmapgl": [
           {
            "colorbar": {
             "outlinewidth": 0,
             "ticks": ""
            },
            "colorscale": [
             [
              0,
              "#0d0887"
             ],
             [
              0.1111111111111111,
              "#46039f"
             ],
             [
              0.2222222222222222,
              "#7201a8"
             ],
             [
              0.3333333333333333,
              "#9c179e"
             ],
             [
              0.4444444444444444,
              "#bd3786"
             ],
             [
              0.5555555555555556,
              "#d8576b"
             ],
             [
              0.6666666666666666,
              "#ed7953"
             ],
             [
              0.7777777777777778,
              "#fb9f3a"
             ],
             [
              0.8888888888888888,
              "#fdca26"
             ],
             [
              1,
              "#f0f921"
             ]
            ],
            "type": "heatmapgl"
           }
          ],
          "histogram": [
           {
            "marker": {
             "pattern": {
              "fillmode": "overlay",
              "size": 10,
              "solidity": 0.2
             }
            },
            "type": "histogram"
           }
          ],
          "histogram2d": [
           {
            "colorbar": {
             "outlinewidth": 0,
             "ticks": ""
            },
            "colorscale": [
             [
              0,
              "#0d0887"
             ],
             [
              0.1111111111111111,
              "#46039f"
             ],
             [
              0.2222222222222222,
              "#7201a8"
             ],
             [
              0.3333333333333333,
              "#9c179e"
             ],
             [
              0.4444444444444444,
              "#bd3786"
             ],
             [
              0.5555555555555556,
              "#d8576b"
             ],
             [
              0.6666666666666666,
              "#ed7953"
             ],
             [
              0.7777777777777778,
              "#fb9f3a"
             ],
             [
              0.8888888888888888,
              "#fdca26"
             ],
             [
              1,
              "#f0f921"
             ]
            ],
            "type": "histogram2d"
           }
          ],
          "histogram2dcontour": [
           {
            "colorbar": {
             "outlinewidth": 0,
             "ticks": ""
            },
            "colorscale": [
             [
              0,
              "#0d0887"
             ],
             [
              0.1111111111111111,
              "#46039f"
             ],
             [
              0.2222222222222222,
              "#7201a8"
             ],
             [
              0.3333333333333333,
              "#9c179e"
             ],
             [
              0.4444444444444444,
              "#bd3786"
             ],
             [
              0.5555555555555556,
              "#d8576b"
             ],
             [
              0.6666666666666666,
              "#ed7953"
             ],
             [
              0.7777777777777778,
              "#fb9f3a"
             ],
             [
              0.8888888888888888,
              "#fdca26"
             ],
             [
              1,
              "#f0f921"
             ]
            ],
            "type": "histogram2dcontour"
           }
          ],
          "mesh3d": [
           {
            "colorbar": {
             "outlinewidth": 0,
             "ticks": ""
            },
            "type": "mesh3d"
           }
          ],
          "parcoords": [
           {
            "line": {
             "colorbar": {
              "outlinewidth": 0,
              "ticks": ""
             }
            },
            "type": "parcoords"
           }
          ],
          "pie": [
           {
            "automargin": true,
            "type": "pie"
           }
          ],
          "scatter": [
           {
            "fillpattern": {
             "fillmode": "overlay",
             "size": 10,
             "solidity": 0.2
            },
            "type": "scatter"
           }
          ],
          "scatter3d": [
           {
            "line": {
             "colorbar": {
              "outlinewidth": 0,
              "ticks": ""
             }
            },
            "marker": {
             "colorbar": {
              "outlinewidth": 0,
              "ticks": ""
             }
            },
            "type": "scatter3d"
           }
          ],
          "scattercarpet": [
           {
            "marker": {
             "colorbar": {
              "outlinewidth": 0,
              "ticks": ""
             }
            },
            "type": "scattercarpet"
           }
          ],
          "scattergeo": [
           {
            "marker": {
             "colorbar": {
              "outlinewidth": 0,
              "ticks": ""
             }
            },
            "type": "scattergeo"
           }
          ],
          "scattergl": [
           {
            "marker": {
             "colorbar": {
              "outlinewidth": 0,
              "ticks": ""
             }
            },
            "type": "scattergl"
           }
          ],
          "scattermapbox": [
           {
            "marker": {
             "colorbar": {
              "outlinewidth": 0,
              "ticks": ""
             }
            },
            "type": "scattermapbox"
           }
          ],
          "scatterpolar": [
           {
            "marker": {
             "colorbar": {
              "outlinewidth": 0,
              "ticks": ""
             }
            },
            "type": "scatterpolar"
           }
          ],
          "scatterpolargl": [
           {
            "marker": {
             "colorbar": {
              "outlinewidth": 0,
              "ticks": ""
             }
            },
            "type": "scatterpolargl"
           }
          ],
          "scatterternary": [
           {
            "marker": {
             "colorbar": {
              "outlinewidth": 0,
              "ticks": ""
             }
            },
            "type": "scatterternary"
           }
          ],
          "surface": [
           {
            "colorbar": {
             "outlinewidth": 0,
             "ticks": ""
            },
            "colorscale": [
             [
              0,
              "#0d0887"
             ],
             [
              0.1111111111111111,
              "#46039f"
             ],
             [
              0.2222222222222222,
              "#7201a8"
             ],
             [
              0.3333333333333333,
              "#9c179e"
             ],
             [
              0.4444444444444444,
              "#bd3786"
             ],
             [
              0.5555555555555556,
              "#d8576b"
             ],
             [
              0.6666666666666666,
              "#ed7953"
             ],
             [
              0.7777777777777778,
              "#fb9f3a"
             ],
             [
              0.8888888888888888,
              "#fdca26"
             ],
             [
              1,
              "#f0f921"
             ]
            ],
            "type": "surface"
           }
          ],
          "table": [
           {
            "cells": {
             "fill": {
              "color": "#EBF0F8"
             },
             "line": {
              "color": "white"
             }
            },
            "header": {
             "fill": {
              "color": "#C8D4E3"
             },
             "line": {
              "color": "white"
             }
            },
            "type": "table"
           }
          ]
         },
         "layout": {
          "annotationdefaults": {
           "arrowcolor": "#2a3f5f",
           "arrowhead": 0,
           "arrowwidth": 1
          },
          "autotypenumbers": "strict",
          "coloraxis": {
           "colorbar": {
            "outlinewidth": 0,
            "ticks": ""
           }
          },
          "colorscale": {
           "diverging": [
            [
             0,
             "#8e0152"
            ],
            [
             0.1,
             "#c51b7d"
            ],
            [
             0.2,
             "#de77ae"
            ],
            [
             0.3,
             "#f1b6da"
            ],
            [
             0.4,
             "#fde0ef"
            ],
            [
             0.5,
             "#f7f7f7"
            ],
            [
             0.6,
             "#e6f5d0"
            ],
            [
             0.7,
             "#b8e186"
            ],
            [
             0.8,
             "#7fbc41"
            ],
            [
             0.9,
             "#4d9221"
            ],
            [
             1,
             "#276419"
            ]
           ],
           "sequential": [
            [
             0,
             "#0d0887"
            ],
            [
             0.1111111111111111,
             "#46039f"
            ],
            [
             0.2222222222222222,
             "#7201a8"
            ],
            [
             0.3333333333333333,
             "#9c179e"
            ],
            [
             0.4444444444444444,
             "#bd3786"
            ],
            [
             0.5555555555555556,
             "#d8576b"
            ],
            [
             0.6666666666666666,
             "#ed7953"
            ],
            [
             0.7777777777777778,
             "#fb9f3a"
            ],
            [
             0.8888888888888888,
             "#fdca26"
            ],
            [
             1,
             "#f0f921"
            ]
           ],
           "sequentialminus": [
            [
             0,
             "#0d0887"
            ],
            [
             0.1111111111111111,
             "#46039f"
            ],
            [
             0.2222222222222222,
             "#7201a8"
            ],
            [
             0.3333333333333333,
             "#9c179e"
            ],
            [
             0.4444444444444444,
             "#bd3786"
            ],
            [
             0.5555555555555556,
             "#d8576b"
            ],
            [
             0.6666666666666666,
             "#ed7953"
            ],
            [
             0.7777777777777778,
             "#fb9f3a"
            ],
            [
             0.8888888888888888,
             "#fdca26"
            ],
            [
             1,
             "#f0f921"
            ]
           ]
          },
          "colorway": [
           "#636efa",
           "#EF553B",
           "#00cc96",
           "#ab63fa",
           "#FFA15A",
           "#19d3f3",
           "#FF6692",
           "#B6E880",
           "#FF97FF",
           "#FECB52"
          ],
          "font": {
           "color": "#2a3f5f"
          },
          "geo": {
           "bgcolor": "white",
           "lakecolor": "white",
           "landcolor": "#E5ECF6",
           "showlakes": true,
           "showland": true,
           "subunitcolor": "white"
          },
          "hoverlabel": {
           "align": "left"
          },
          "hovermode": "closest",
          "mapbox": {
           "style": "light"
          },
          "paper_bgcolor": "white",
          "plot_bgcolor": "#E5ECF6",
          "polar": {
           "angularaxis": {
            "gridcolor": "white",
            "linecolor": "white",
            "ticks": ""
           },
           "bgcolor": "#E5ECF6",
           "radialaxis": {
            "gridcolor": "white",
            "linecolor": "white",
            "ticks": ""
           }
          },
          "scene": {
           "xaxis": {
            "backgroundcolor": "#E5ECF6",
            "gridcolor": "white",
            "gridwidth": 2,
            "linecolor": "white",
            "showbackground": true,
            "ticks": "",
            "zerolinecolor": "white"
           },
           "yaxis": {
            "backgroundcolor": "#E5ECF6",
            "gridcolor": "white",
            "gridwidth": 2,
            "linecolor": "white",
            "showbackground": true,
            "ticks": "",
            "zerolinecolor": "white"
           },
           "zaxis": {
            "backgroundcolor": "#E5ECF6",
            "gridcolor": "white",
            "gridwidth": 2,
            "linecolor": "white",
            "showbackground": true,
            "ticks": "",
            "zerolinecolor": "white"
           }
          },
          "shapedefaults": {
           "line": {
            "color": "#2a3f5f"
           }
          },
          "ternary": {
           "aaxis": {
            "gridcolor": "white",
            "linecolor": "white",
            "ticks": ""
           },
           "baxis": {
            "gridcolor": "white",
            "linecolor": "white",
            "ticks": ""
           },
           "bgcolor": "#E5ECF6",
           "caxis": {
            "gridcolor": "white",
            "linecolor": "white",
            "ticks": ""
           }
          },
          "title": {
           "x": 0.05
          },
          "xaxis": {
           "automargin": true,
           "gridcolor": "white",
           "linecolor": "white",
           "ticks": "",
           "title": {
            "standoff": 15
           },
           "zerolinecolor": "white",
           "zerolinewidth": 2
          },
          "yaxis": {
           "automargin": true,
           "gridcolor": "white",
           "linecolor": "white",
           "ticks": "",
           "title": {
            "standoff": 15
           },
           "zerolinecolor": "white",
           "zerolinewidth": 2
          }
         }
        },
        "title": {
         "text": "Indianapolis, IN, United States"
        },
        "width": 1500,
        "xaxis": {
         "anchor": "y",
         "domain": [
          0,
          0.2125
         ],
         "title": {
          "text": "Year"
         }
        },
        "xaxis10": {
         "anchor": "y10",
         "domain": [
          0.2625,
          0.475
         ],
         "title": {
          "text": "Year"
         }
        },
        "xaxis11": {
         "anchor": "y11",
         "domain": [
          0.525,
          0.7375
         ],
         "title": {
          "text": "Year"
         }
        },
        "xaxis12": {
         "anchor": "y12",
         "domain": [
          0.7875,
          1
         ],
         "title": {
          "text": "Year"
         }
        },
        "xaxis13": {
         "anchor": "y13",
         "domain": [
          0,
          0.2125
         ],
         "title": {
          "text": "Year"
         }
        },
        "xaxis14": {
         "anchor": "y14",
         "domain": [
          0.2625,
          0.475
         ],
         "title": {
          "text": "Year"
         }
        },
        "xaxis15": {
         "anchor": "y15",
         "domain": [
          0.525,
          0.7375
         ],
         "title": {
          "text": "Year"
         }
        },
        "xaxis16": {
         "anchor": "y16",
         "domain": [
          0.7875,
          1
         ]
        },
        "xaxis2": {
         "anchor": "y2",
         "domain": [
          0.2625,
          0.475
         ],
         "title": {
          "text": "Year"
         }
        },
        "xaxis3": {
         "anchor": "y3",
         "domain": [
          0.525,
          0.7375
         ],
         "title": {
          "text": "Year"
         }
        },
        "xaxis4": {
         "anchor": "y4",
         "domain": [
          0.7875,
          1
         ],
         "title": {
          "text": "Year"
         }
        },
        "xaxis5": {
         "anchor": "y5",
         "domain": [
          0,
          0.2125
         ],
         "title": {
          "text": "Year"
         }
        },
        "xaxis6": {
         "anchor": "y6",
         "domain": [
          0.2625,
          0.475
         ],
         "title": {
          "text": "Year"
         }
        },
        "xaxis7": {
         "anchor": "y7",
         "domain": [
          0.525,
          0.7375
         ],
         "title": {
          "text": "Year"
         }
        },
        "xaxis8": {
         "anchor": "y8",
         "domain": [
          0.7875,
          1
         ],
         "title": {
          "text": "Year"
         }
        },
        "xaxis9": {
         "anchor": "y9",
         "domain": [
          0,
          0.2125
         ],
         "title": {
          "text": "Year"
         }
        },
        "yaxis": {
         "anchor": "x",
         "domain": [
          0.84375,
          1
         ],
         "title": {
          "text": "Price to Income Ratio"
         }
        },
        "yaxis10": {
         "anchor": "x10",
         "domain": [
          0.28125,
          0.4375
         ],
         "title": {
          "text": "Cost of Living Index"
         }
        },
        "yaxis11": {
         "anchor": "x11",
         "domain": [
          0.28125,
          0.4375
         ],
         "title": {
          "text": "Rent Index"
         }
        },
        "yaxis12": {
         "anchor": "x12",
         "domain": [
          0.28125,
          0.4375
         ],
         "title": {
          "text": "Cost of Living Plus Rent Index"
         }
        },
        "yaxis13": {
         "anchor": "x13",
         "domain": [
          0,
          0.15625
         ],
         "title": {
          "text": "Groceries Index"
         }
        },
        "yaxis14": {
         "anchor": "x14",
         "domain": [
          0,
          0.15625
         ],
         "title": {
          "text": "Restaurant Index"
         }
        },
        "yaxis15": {
         "anchor": "x15",
         "domain": [
          0,
          0.15625
         ],
         "title": {
          "text": "Local Purchasing Power Index"
         }
        },
        "yaxis16": {
         "anchor": "x16",
         "domain": [
          0,
          0.15625
         ]
        },
        "yaxis2": {
         "anchor": "x2",
         "domain": [
          0.84375,
          1
         ],
         "title": {
          "text": "Gross Rental Yield City Centre"
         }
        },
        "yaxis3": {
         "anchor": "x3",
         "domain": [
          0.84375,
          1
         ],
         "title": {
          "text": "Gross Rental Yield Outside Centre"
         }
        },
        "yaxis4": {
         "anchor": "x4",
         "domain": [
          0.84375,
          1
         ],
         "title": {
          "text": "Price to Rent Ratio City Centre"
         }
        },
        "yaxis5": {
         "anchor": "x5",
         "domain": [
          0.5625,
          0.71875
         ],
         "title": {
          "text": "Price to Rent Ratio Outside City Centre"
         }
        },
        "yaxis6": {
         "anchor": "x6",
         "domain": [
          0.5625,
          0.71875
         ],
         "title": {
          "text": "Mortgage as a Percentage of Income"
         }
        },
        "yaxis7": {
         "anchor": "x7",
         "domain": [
          0.5625,
          0.71875
         ],
         "title": {
          "text": "Affordability Index"
         }
        },
        "yaxis8": {
         "anchor": "x8",
         "domain": [
          0.5625,
          0.71875
         ],
         "title": {
          "text": "Crime Index"
         }
        },
        "yaxis9": {
         "anchor": "x9",
         "domain": [
          0.28125,
          0.4375
         ],
         "title": {
          "text": "Safety Index"
         }
        }
       }
      },
      "text/html": [
       "<div>                            <div id=\"26ea886a-3d8f-4b55-a8b2-df4b92651a6c\" class=\"plotly-graph-div\" style=\"height:1500px; width:1500px;\"></div>            <script type=\"text/javascript\">                require([\"plotly\"], function(Plotly) {                    window.PLOTLYENV=window.PLOTLYENV || {};                                    if (document.getElementById(\"26ea886a-3d8f-4b55-a8b2-df4b92651a6c\")) {                    Plotly.newPlot(                        \"26ea886a-3d8f-4b55-a8b2-df4b92651a6c\",                        [{\"mode\":\"lines+markers\",\"name\":\"Price to Income Ratio\",\"x\":[\"2012\",\"2013\",\"2014\",\"2014-mid\",\"2015\",\"2015-mid\",\"2016\",\"2017-mid\",\"2018\",\"2018-mid\",\"2019\",\"2019-mid\",\"2020\",\"2020-mid\",\"2021\",\"2021-mid\",\"2022\",\"2022-mid\",\"2024-mid\"],\"y\":[1.4,1.8,1.5,1.4,1.6,1.7,2.4,2.2,2.3,2.0,2.3,2.3,2.3,2.2,2.2,1.8,2.1,2.1,1.8],\"type\":\"scatter\",\"xaxis\":\"x\",\"yaxis\":\"y\"},{\"mode\":\"lines+markers\",\"name\":\"Gross Rental Yield City Centre\",\"x\":[\"2012\",\"2013\",\"2014\",\"2014-mid\",\"2015\",\"2015-mid\",\"2016\",\"2017-mid\",\"2018\",\"2018-mid\",\"2019\",\"2019-mid\",\"2020\",\"2020-mid\",\"2021\",\"2021-mid\",\"2022\",\"2022-mid\",\"2024-mid\"],\"y\":[4.0,10.1,13.6,13.6,18.2,19.8,15.7,18.3,19.8,19.2,15.6,14.9,13.7,11.7,10.6,10.6,11.9,11.4,16.1],\"type\":\"scatter\",\"xaxis\":\"x2\",\"yaxis\":\"y2\"},{\"mode\":\"lines+markers\",\"name\":\"Gross Rental Yield Outside Centre\",\"x\":[\"2012\",\"2013\",\"2014\",\"2014-mid\",\"2015\",\"2015-mid\",\"2016\",\"2017-mid\",\"2018\",\"2018-mid\",\"2019\",\"2019-mid\",\"2020\",\"2020-mid\",\"2021\",\"2021-mid\",\"2022\",\"2022-mid\",\"2024-mid\"],\"y\":[22.5,16.0,16.1,16.6,20.4,23.9,16.2,18.7,23.2,21.4,17.1,15.6,14.7,16.7,17.7,18.0,18.8,20.8,14.8],\"type\":\"scatter\",\"xaxis\":\"x3\",\"yaxis\":\"y3\"},{\"mode\":\"lines+markers\",\"name\":\"Price to Rent Ratio City Centre\",\"x\":[\"2012\",\"2013\",\"2014\",\"2014-mid\",\"2015\",\"2015-mid\",\"2016\",\"2017-mid\",\"2018\",\"2018-mid\",\"2019\",\"2019-mid\",\"2020\",\"2020-mid\",\"2021\",\"2021-mid\",\"2022\",\"2022-mid\",\"2024-mid\"],\"y\":[25.1,9.9,7.4,7.4,5.5,5.0,6.4,5.5,5.1,5.2,6.4,6.7,7.3,8.5,9.4,9.4,8.4,8.8,6.2],\"type\":\"scatter\",\"xaxis\":\"x4\",\"yaxis\":\"y4\"},{\"mode\":\"lines+markers\",\"name\":\"Price to Rent Ratio Outside City Centre\",\"x\":[\"2012\",\"2013\",\"2014\",\"2014-mid\",\"2015\",\"2015-mid\",\"2016\",\"2017-mid\",\"2018\",\"2018-mid\",\"2019\",\"2019-mid\",\"2020\",\"2020-mid\",\"2021\",\"2021-mid\",\"2022\",\"2022-mid\",\"2024-mid\"],\"y\":[4.4,6.2,6.2,6.0,4.9,4.2,6.2,5.3,4.3,4.7,5.8,6.4,6.8,6.0,5.6,5.6,5.3,4.8,6.7],\"type\":\"scatter\",\"xaxis\":\"x5\",\"yaxis\":\"y5\"},{\"mode\":\"lines+markers\",\"name\":\"Mortgage as a Percentage of Income\",\"x\":[\"2012\",\"2013\",\"2014\",\"2014-mid\",\"2015\",\"2015-mid\",\"2016\",\"2017-mid\",\"2018\",\"2018-mid\",\"2019\",\"2019-mid\",\"2020\",\"2020-mid\",\"2021\",\"2021-mid\",\"2022\",\"2022-mid\",\"2024-mid\"],\"y\":[\"12.7\",\"14.8\",\"11.5\",\"10.8\",\"12.1\",\"13.2\",\"16.8\",\"15.5\",\"16.5\",\"15.0\",\"16.8\",\"16.8\",\"17.0\",\"16.4\",\"15.8\",\"13.2\",\"14.6\",\"17.0\",\"16.6\"],\"type\":\"scatter\",\"xaxis\":\"x6\",\"yaxis\":\"y6\"},{\"mode\":\"lines+markers\",\"name\":\"Affordability Index\",\"x\":[\"2012\",\"2013\",\"2014\",\"2014-mid\",\"2015\",\"2015-mid\",\"2016\",\"2017-mid\",\"2018\",\"2018-mid\",\"2019\",\"2019-mid\",\"2020\",\"2020-mid\",\"2021\",\"2021-mid\",\"2022\",\"2022-mid\",\"2024-mid\"],\"y\":[\"7.9\",\"6.7\",\"8.7\",\"9.3\",\"8.3\",\"7.6\",\"6.0\",\"6.4\",\"6.1\",\"6.7\",\"5.9\",\"6.0\",\"5.9\",\"6.1\",\"6.3\",\"7.6\",\"6.8\",\"5.9\",\"6.0\"],\"type\":\"scatter\",\"xaxis\":\"x7\",\"yaxis\":\"y7\"},{\"mode\":\"lines+markers\",\"name\":\"Crime Index\",\"x\":[\"2012\",\"2013\",\"2014\",\"2014-mid\",\"2015\",\"2015-mid\",\"2016\",\"2017-mid\",\"2018\",\"2018-mid\",\"2019\",\"2019-mid\",\"2020\",\"2020-mid\",\"2021\",\"2021-mid\",\"2022\",\"2022-mid\",\"2024-mid\"],\"y\":[null,null,null,50.6,52.3,57.2,null,50.7,null,null,55.2,58.0,56.9,57.2,57.6,56.9,57.6,57.7,60.2],\"type\":\"scatter\",\"xaxis\":\"x8\",\"yaxis\":\"y8\"},{\"mode\":\"lines+markers\",\"name\":\"Safety Index\",\"x\":[\"2012\",\"2013\",\"2014\",\"2014-mid\",\"2015\",\"2015-mid\",\"2016\",\"2017-mid\",\"2018\",\"2018-mid\",\"2019\",\"2019-mid\",\"2020\",\"2020-mid\",\"2021\",\"2021-mid\",\"2022\",\"2022-mid\",\"2024-mid\"],\"y\":[null,null,null,49.4,47.7,42.8,null,49.3,null,null,44.8,42.0,43.1,42.8,42.4,43.1,42.4,42.3,39.8],\"type\":\"scatter\",\"xaxis\":\"x9\",\"yaxis\":\"y9\"},{\"mode\":\"lines+markers\",\"name\":\"Cost of Living Index\",\"x\":[\"2012\",\"2013\",\"2014\",\"2014-mid\",\"2015\",\"2015-mid\",\"2016\",\"2017-mid\",\"2018\",\"2018-mid\",\"2019\",\"2019-mid\",\"2020\",\"2020-mid\",\"2021\",\"2021-mid\",\"2022\",\"2022-mid\",\"2024-mid\"],\"y\":[null,null,null,null,null,null,null,null,null,null,null,null,null,null,null,null,null,null,null],\"type\":\"scatter\",\"xaxis\":\"x10\",\"yaxis\":\"y10\"},{\"mode\":\"lines+markers\",\"name\":\"Rent Index\",\"x\":[\"2012\",\"2013\",\"2014\",\"2014-mid\",\"2015\",\"2015-mid\",\"2016\",\"2017-mid\",\"2018\",\"2018-mid\",\"2019\",\"2019-mid\",\"2020\",\"2020-mid\",\"2021\",\"2021-mid\",\"2022\",\"2022-mid\",\"2024-mid\"],\"y\":[null,null,null,null,null,null,null,null,null,null,null,null,null,null,null,null,null,null,null],\"type\":\"scatter\",\"xaxis\":\"x11\",\"yaxis\":\"y11\"},{\"mode\":\"lines+markers\",\"name\":\"Cost of Living Plus Rent Index\",\"x\":[\"2012\",\"2013\",\"2014\",\"2014-mid\",\"2015\",\"2015-mid\",\"2016\",\"2017-mid\",\"2018\",\"2018-mid\",\"2019\",\"2019-mid\",\"2020\",\"2020-mid\",\"2021\",\"2021-mid\",\"2022\",\"2022-mid\",\"2024-mid\"],\"y\":[null,null,null,null,null,null,null,null,null,null,null,null,null,null,null,null,null,null,null],\"type\":\"scatter\",\"xaxis\":\"x12\",\"yaxis\":\"y12\"},{\"mode\":\"lines+markers\",\"name\":\"Groceries Index\",\"x\":[\"2012\",\"2013\",\"2014\",\"2014-mid\",\"2015\",\"2015-mid\",\"2016\",\"2017-mid\",\"2018\",\"2018-mid\",\"2019\",\"2019-mid\",\"2020\",\"2020-mid\",\"2021\",\"2021-mid\",\"2022\",\"2022-mid\",\"2024-mid\"],\"y\":[null,null,null,null,null,null,null,null,null,null,null,null,null,null,null,null,null,null,null],\"type\":\"scatter\",\"xaxis\":\"x13\",\"yaxis\":\"y13\"},{\"mode\":\"lines+markers\",\"name\":\"Restaurant Index\",\"x\":[\"2012\",\"2013\",\"2014\",\"2014-mid\",\"2015\",\"2015-mid\",\"2016\",\"2017-mid\",\"2018\",\"2018-mid\",\"2019\",\"2019-mid\",\"2020\",\"2020-mid\",\"2021\",\"2021-mid\",\"2022\",\"2022-mid\",\"2024-mid\"],\"y\":[null,null,null,null,null,null,null,null,null,null,null,null,null,null,null,null,null,null,null],\"type\":\"scatter\",\"xaxis\":\"x14\",\"yaxis\":\"y14\"},{\"mode\":\"lines+markers\",\"name\":\"Local Purchasing Power Index\",\"x\":[\"2012\",\"2013\",\"2014\",\"2014-mid\",\"2015\",\"2015-mid\",\"2016\",\"2017-mid\",\"2018\",\"2018-mid\",\"2019\",\"2019-mid\",\"2020\",\"2020-mid\",\"2021\",\"2021-mid\",\"2022\",\"2022-mid\",\"2024-mid\"],\"y\":[null,null,null,null,null,null,null,null,null,null,null,null,null,null,null,null,null,null,null],\"type\":\"scatter\",\"xaxis\":\"x15\",\"yaxis\":\"y15\"}],                        {\"template\":{\"data\":{\"histogram2dcontour\":[{\"type\":\"histogram2dcontour\",\"colorbar\":{\"outlinewidth\":0,\"ticks\":\"\"},\"colorscale\":[[0.0,\"#0d0887\"],[0.1111111111111111,\"#46039f\"],[0.2222222222222222,\"#7201a8\"],[0.3333333333333333,\"#9c179e\"],[0.4444444444444444,\"#bd3786\"],[0.5555555555555556,\"#d8576b\"],[0.6666666666666666,\"#ed7953\"],[0.7777777777777778,\"#fb9f3a\"],[0.8888888888888888,\"#fdca26\"],[1.0,\"#f0f921\"]]}],\"choropleth\":[{\"type\":\"choropleth\",\"colorbar\":{\"outlinewidth\":0,\"ticks\":\"\"}}],\"histogram2d\":[{\"type\":\"histogram2d\",\"colorbar\":{\"outlinewidth\":0,\"ticks\":\"\"},\"colorscale\":[[0.0,\"#0d0887\"],[0.1111111111111111,\"#46039f\"],[0.2222222222222222,\"#7201a8\"],[0.3333333333333333,\"#9c179e\"],[0.4444444444444444,\"#bd3786\"],[0.5555555555555556,\"#d8576b\"],[0.6666666666666666,\"#ed7953\"],[0.7777777777777778,\"#fb9f3a\"],[0.8888888888888888,\"#fdca26\"],[1.0,\"#f0f921\"]]}],\"heatmap\":[{\"type\":\"heatmap\",\"colorbar\":{\"outlinewidth\":0,\"ticks\":\"\"},\"colorscale\":[[0.0,\"#0d0887\"],[0.1111111111111111,\"#46039f\"],[0.2222222222222222,\"#7201a8\"],[0.3333333333333333,\"#9c179e\"],[0.4444444444444444,\"#bd3786\"],[0.5555555555555556,\"#d8576b\"],[0.6666666666666666,\"#ed7953\"],[0.7777777777777778,\"#fb9f3a\"],[0.8888888888888888,\"#fdca26\"],[1.0,\"#f0f921\"]]}],\"heatmapgl\":[{\"type\":\"heatmapgl\",\"colorbar\":{\"outlinewidth\":0,\"ticks\":\"\"},\"colorscale\":[[0.0,\"#0d0887\"],[0.1111111111111111,\"#46039f\"],[0.2222222222222222,\"#7201a8\"],[0.3333333333333333,\"#9c179e\"],[0.4444444444444444,\"#bd3786\"],[0.5555555555555556,\"#d8576b\"],[0.6666666666666666,\"#ed7953\"],[0.7777777777777778,\"#fb9f3a\"],[0.8888888888888888,\"#fdca26\"],[1.0,\"#f0f921\"]]}],\"contourcarpet\":[{\"type\":\"contourcarpet\",\"colorbar\":{\"outlinewidth\":0,\"ticks\":\"\"}}],\"contour\":[{\"type\":\"contour\",\"colorbar\":{\"outlinewidth\":0,\"ticks\":\"\"},\"colorscale\":[[0.0,\"#0d0887\"],[0.1111111111111111,\"#46039f\"],[0.2222222222222222,\"#7201a8\"],[0.3333333333333333,\"#9c179e\"],[0.4444444444444444,\"#bd3786\"],[0.5555555555555556,\"#d8576b\"],[0.6666666666666666,\"#ed7953\"],[0.7777777777777778,\"#fb9f3a\"],[0.8888888888888888,\"#fdca26\"],[1.0,\"#f0f921\"]]}],\"surface\":[{\"type\":\"surface\",\"colorbar\":{\"outlinewidth\":0,\"ticks\":\"\"},\"colorscale\":[[0.0,\"#0d0887\"],[0.1111111111111111,\"#46039f\"],[0.2222222222222222,\"#7201a8\"],[0.3333333333333333,\"#9c179e\"],[0.4444444444444444,\"#bd3786\"],[0.5555555555555556,\"#d8576b\"],[0.6666666666666666,\"#ed7953\"],[0.7777777777777778,\"#fb9f3a\"],[0.8888888888888888,\"#fdca26\"],[1.0,\"#f0f921\"]]}],\"mesh3d\":[{\"type\":\"mesh3d\",\"colorbar\":{\"outlinewidth\":0,\"ticks\":\"\"}}],\"scatter\":[{\"fillpattern\":{\"fillmode\":\"overlay\",\"size\":10,\"solidity\":0.2},\"type\":\"scatter\"}],\"parcoords\":[{\"type\":\"parcoords\",\"line\":{\"colorbar\":{\"outlinewidth\":0,\"ticks\":\"\"}}}],\"scatterpolargl\":[{\"type\":\"scatterpolargl\",\"marker\":{\"colorbar\":{\"outlinewidth\":0,\"ticks\":\"\"}}}],\"bar\":[{\"error_x\":{\"color\":\"#2a3f5f\"},\"error_y\":{\"color\":\"#2a3f5f\"},\"marker\":{\"line\":{\"color\":\"#E5ECF6\",\"width\":0.5},\"pattern\":{\"fillmode\":\"overlay\",\"size\":10,\"solidity\":0.2}},\"type\":\"bar\"}],\"scattergeo\":[{\"type\":\"scattergeo\",\"marker\":{\"colorbar\":{\"outlinewidth\":0,\"ticks\":\"\"}}}],\"scatterpolar\":[{\"type\":\"scatterpolar\",\"marker\":{\"colorbar\":{\"outlinewidth\":0,\"ticks\":\"\"}}}],\"histogram\":[{\"marker\":{\"pattern\":{\"fillmode\":\"overlay\",\"size\":10,\"solidity\":0.2}},\"type\":\"histogram\"}],\"scattergl\":[{\"type\":\"scattergl\",\"marker\":{\"colorbar\":{\"outlinewidth\":0,\"ticks\":\"\"}}}],\"scatter3d\":[{\"type\":\"scatter3d\",\"line\":{\"colorbar\":{\"outlinewidth\":0,\"ticks\":\"\"}},\"marker\":{\"colorbar\":{\"outlinewidth\":0,\"ticks\":\"\"}}}],\"scattermapbox\":[{\"type\":\"scattermapbox\",\"marker\":{\"colorbar\":{\"outlinewidth\":0,\"ticks\":\"\"}}}],\"scatterternary\":[{\"type\":\"scatterternary\",\"marker\":{\"colorbar\":{\"outlinewidth\":0,\"ticks\":\"\"}}}],\"scattercarpet\":[{\"type\":\"scattercarpet\",\"marker\":{\"colorbar\":{\"outlinewidth\":0,\"ticks\":\"\"}}}],\"carpet\":[{\"aaxis\":{\"endlinecolor\":\"#2a3f5f\",\"gridcolor\":\"white\",\"linecolor\":\"white\",\"minorgridcolor\":\"white\",\"startlinecolor\":\"#2a3f5f\"},\"baxis\":{\"endlinecolor\":\"#2a3f5f\",\"gridcolor\":\"white\",\"linecolor\":\"white\",\"minorgridcolor\":\"white\",\"startlinecolor\":\"#2a3f5f\"},\"type\":\"carpet\"}],\"table\":[{\"cells\":{\"fill\":{\"color\":\"#EBF0F8\"},\"line\":{\"color\":\"white\"}},\"header\":{\"fill\":{\"color\":\"#C8D4E3\"},\"line\":{\"color\":\"white\"}},\"type\":\"table\"}],\"barpolar\":[{\"marker\":{\"line\":{\"color\":\"#E5ECF6\",\"width\":0.5},\"pattern\":{\"fillmode\":\"overlay\",\"size\":10,\"solidity\":0.2}},\"type\":\"barpolar\"}],\"pie\":[{\"automargin\":true,\"type\":\"pie\"}]},\"layout\":{\"autotypenumbers\":\"strict\",\"colorway\":[\"#636efa\",\"#EF553B\",\"#00cc96\",\"#ab63fa\",\"#FFA15A\",\"#19d3f3\",\"#FF6692\",\"#B6E880\",\"#FF97FF\",\"#FECB52\"],\"font\":{\"color\":\"#2a3f5f\"},\"hovermode\":\"closest\",\"hoverlabel\":{\"align\":\"left\"},\"paper_bgcolor\":\"white\",\"plot_bgcolor\":\"#E5ECF6\",\"polar\":{\"bgcolor\":\"#E5ECF6\",\"angularaxis\":{\"gridcolor\":\"white\",\"linecolor\":\"white\",\"ticks\":\"\"},\"radialaxis\":{\"gridcolor\":\"white\",\"linecolor\":\"white\",\"ticks\":\"\"}},\"ternary\":{\"bgcolor\":\"#E5ECF6\",\"aaxis\":{\"gridcolor\":\"white\",\"linecolor\":\"white\",\"ticks\":\"\"},\"baxis\":{\"gridcolor\":\"white\",\"linecolor\":\"white\",\"ticks\":\"\"},\"caxis\":{\"gridcolor\":\"white\",\"linecolor\":\"white\",\"ticks\":\"\"}},\"coloraxis\":{\"colorbar\":{\"outlinewidth\":0,\"ticks\":\"\"}},\"colorscale\":{\"sequential\":[[0.0,\"#0d0887\"],[0.1111111111111111,\"#46039f\"],[0.2222222222222222,\"#7201a8\"],[0.3333333333333333,\"#9c179e\"],[0.4444444444444444,\"#bd3786\"],[0.5555555555555556,\"#d8576b\"],[0.6666666666666666,\"#ed7953\"],[0.7777777777777778,\"#fb9f3a\"],[0.8888888888888888,\"#fdca26\"],[1.0,\"#f0f921\"]],\"sequentialminus\":[[0.0,\"#0d0887\"],[0.1111111111111111,\"#46039f\"],[0.2222222222222222,\"#7201a8\"],[0.3333333333333333,\"#9c179e\"],[0.4444444444444444,\"#bd3786\"],[0.5555555555555556,\"#d8576b\"],[0.6666666666666666,\"#ed7953\"],[0.7777777777777778,\"#fb9f3a\"],[0.8888888888888888,\"#fdca26\"],[1.0,\"#f0f921\"]],\"diverging\":[[0,\"#8e0152\"],[0.1,\"#c51b7d\"],[0.2,\"#de77ae\"],[0.3,\"#f1b6da\"],[0.4,\"#fde0ef\"],[0.5,\"#f7f7f7\"],[0.6,\"#e6f5d0\"],[0.7,\"#b8e186\"],[0.8,\"#7fbc41\"],[0.9,\"#4d9221\"],[1,\"#276419\"]]},\"xaxis\":{\"gridcolor\":\"white\",\"linecolor\":\"white\",\"ticks\":\"\",\"title\":{\"standoff\":15},\"zerolinecolor\":\"white\",\"automargin\":true,\"zerolinewidth\":2},\"yaxis\":{\"gridcolor\":\"white\",\"linecolor\":\"white\",\"ticks\":\"\",\"title\":{\"standoff\":15},\"zerolinecolor\":\"white\",\"automargin\":true,\"zerolinewidth\":2},\"scene\":{\"xaxis\":{\"backgroundcolor\":\"#E5ECF6\",\"gridcolor\":\"white\",\"linecolor\":\"white\",\"showbackground\":true,\"ticks\":\"\",\"zerolinecolor\":\"white\",\"gridwidth\":2},\"yaxis\":{\"backgroundcolor\":\"#E5ECF6\",\"gridcolor\":\"white\",\"linecolor\":\"white\",\"showbackground\":true,\"ticks\":\"\",\"zerolinecolor\":\"white\",\"gridwidth\":2},\"zaxis\":{\"backgroundcolor\":\"#E5ECF6\",\"gridcolor\":\"white\",\"linecolor\":\"white\",\"showbackground\":true,\"ticks\":\"\",\"zerolinecolor\":\"white\",\"gridwidth\":2}},\"shapedefaults\":{\"line\":{\"color\":\"#2a3f5f\"}},\"annotationdefaults\":{\"arrowcolor\":\"#2a3f5f\",\"arrowhead\":0,\"arrowwidth\":1},\"geo\":{\"bgcolor\":\"white\",\"landcolor\":\"#E5ECF6\",\"subunitcolor\":\"white\",\"showland\":true,\"showlakes\":true,\"lakecolor\":\"white\"},\"title\":{\"x\":0.05},\"mapbox\":{\"style\":\"light\"}}},\"xaxis\":{\"anchor\":\"y\",\"domain\":[0.0,0.2125],\"title\":{\"text\":\"Year\"}},\"yaxis\":{\"anchor\":\"x\",\"domain\":[0.84375,1.0],\"title\":{\"text\":\"Price to Income Ratio\"}},\"xaxis2\":{\"anchor\":\"y2\",\"domain\":[0.2625,0.475],\"title\":{\"text\":\"Year\"}},\"yaxis2\":{\"anchor\":\"x2\",\"domain\":[0.84375,1.0],\"title\":{\"text\":\"Gross Rental Yield City Centre\"}},\"xaxis3\":{\"anchor\":\"y3\",\"domain\":[0.525,0.7375],\"title\":{\"text\":\"Year\"}},\"yaxis3\":{\"anchor\":\"x3\",\"domain\":[0.84375,1.0],\"title\":{\"text\":\"Gross Rental Yield Outside Centre\"}},\"xaxis4\":{\"anchor\":\"y4\",\"domain\":[0.7875,1.0],\"title\":{\"text\":\"Year\"}},\"yaxis4\":{\"anchor\":\"x4\",\"domain\":[0.84375,1.0],\"title\":{\"text\":\"Price to Rent Ratio City Centre\"}},\"xaxis5\":{\"anchor\":\"y5\",\"domain\":[0.0,0.2125],\"title\":{\"text\":\"Year\"}},\"yaxis5\":{\"anchor\":\"x5\",\"domain\":[0.5625,0.71875],\"title\":{\"text\":\"Price to Rent Ratio Outside City Centre\"}},\"xaxis6\":{\"anchor\":\"y6\",\"domain\":[0.2625,0.475],\"title\":{\"text\":\"Year\"}},\"yaxis6\":{\"anchor\":\"x6\",\"domain\":[0.5625,0.71875],\"title\":{\"text\":\"Mortgage as a Percentage of Income\"}},\"xaxis7\":{\"anchor\":\"y7\",\"domain\":[0.525,0.7375],\"title\":{\"text\":\"Year\"}},\"yaxis7\":{\"anchor\":\"x7\",\"domain\":[0.5625,0.71875],\"title\":{\"text\":\"Affordability Index\"}},\"xaxis8\":{\"anchor\":\"y8\",\"domain\":[0.7875,1.0],\"title\":{\"text\":\"Year\"}},\"yaxis8\":{\"anchor\":\"x8\",\"domain\":[0.5625,0.71875],\"title\":{\"text\":\"Crime Index\"}},\"xaxis9\":{\"anchor\":\"y9\",\"domain\":[0.0,0.2125],\"title\":{\"text\":\"Year\"}},\"yaxis9\":{\"anchor\":\"x9\",\"domain\":[0.28125,0.4375],\"title\":{\"text\":\"Safety Index\"}},\"xaxis10\":{\"anchor\":\"y10\",\"domain\":[0.2625,0.475],\"title\":{\"text\":\"Year\"}},\"yaxis10\":{\"anchor\":\"x10\",\"domain\":[0.28125,0.4375],\"title\":{\"text\":\"Cost of Living Index\"}},\"xaxis11\":{\"anchor\":\"y11\",\"domain\":[0.525,0.7375],\"title\":{\"text\":\"Year\"}},\"yaxis11\":{\"anchor\":\"x11\",\"domain\":[0.28125,0.4375],\"title\":{\"text\":\"Rent Index\"}},\"xaxis12\":{\"anchor\":\"y12\",\"domain\":[0.7875,1.0],\"title\":{\"text\":\"Year\"}},\"yaxis12\":{\"anchor\":\"x12\",\"domain\":[0.28125,0.4375],\"title\":{\"text\":\"Cost of Living Plus Rent Index\"}},\"xaxis13\":{\"anchor\":\"y13\",\"domain\":[0.0,0.2125],\"title\":{\"text\":\"Year\"}},\"yaxis13\":{\"anchor\":\"x13\",\"domain\":[0.0,0.15625],\"title\":{\"text\":\"Groceries Index\"}},\"xaxis14\":{\"anchor\":\"y14\",\"domain\":[0.2625,0.475],\"title\":{\"text\":\"Year\"}},\"yaxis14\":{\"anchor\":\"x14\",\"domain\":[0.0,0.15625],\"title\":{\"text\":\"Restaurant Index\"}},\"xaxis15\":{\"anchor\":\"y15\",\"domain\":[0.525,0.7375],\"title\":{\"text\":\"Year\"}},\"yaxis15\":{\"anchor\":\"x15\",\"domain\":[0.0,0.15625],\"title\":{\"text\":\"Local Purchasing Power Index\"}},\"xaxis16\":{\"anchor\":\"y16\",\"domain\":[0.7875,1.0]},\"yaxis16\":{\"anchor\":\"x16\",\"domain\":[0.0,0.15625]},\"annotations\":[{\"font\":{\"size\":16},\"showarrow\":false,\"text\":\"Price to Income Ratio\",\"x\":0.10625,\"xanchor\":\"center\",\"xref\":\"paper\",\"y\":1.0,\"yanchor\":\"bottom\",\"yref\":\"paper\"},{\"font\":{\"size\":16},\"showarrow\":false,\"text\":\"Gross Rental Yield City Centre\",\"x\":0.36875,\"xanchor\":\"center\",\"xref\":\"paper\",\"y\":1.0,\"yanchor\":\"bottom\",\"yref\":\"paper\"},{\"font\":{\"size\":16},\"showarrow\":false,\"text\":\"Gross Rental Yield Outside Centre\",\"x\":0.6312500000000001,\"xanchor\":\"center\",\"xref\":\"paper\",\"y\":1.0,\"yanchor\":\"bottom\",\"yref\":\"paper\"},{\"font\":{\"size\":16},\"showarrow\":false,\"text\":\"Price to Rent Ratio City Centre\",\"x\":0.89375,\"xanchor\":\"center\",\"xref\":\"paper\",\"y\":1.0,\"yanchor\":\"bottom\",\"yref\":\"paper\"},{\"font\":{\"size\":16},\"showarrow\":false,\"text\":\"Price to Rent Ratio Outside City Centre\",\"x\":0.10625,\"xanchor\":\"center\",\"xref\":\"paper\",\"y\":0.71875,\"yanchor\":\"bottom\",\"yref\":\"paper\"},{\"font\":{\"size\":16},\"showarrow\":false,\"text\":\"Mortgage as a Percentage of Income\",\"x\":0.36875,\"xanchor\":\"center\",\"xref\":\"paper\",\"y\":0.71875,\"yanchor\":\"bottom\",\"yref\":\"paper\"},{\"font\":{\"size\":16},\"showarrow\":false,\"text\":\"Affordability Index\",\"x\":0.6312500000000001,\"xanchor\":\"center\",\"xref\":\"paper\",\"y\":0.71875,\"yanchor\":\"bottom\",\"yref\":\"paper\"},{\"font\":{\"size\":16},\"showarrow\":false,\"text\":\"Crime Index\",\"x\":0.89375,\"xanchor\":\"center\",\"xref\":\"paper\",\"y\":0.71875,\"yanchor\":\"bottom\",\"yref\":\"paper\"},{\"font\":{\"size\":16},\"showarrow\":false,\"text\":\"Safety Index\",\"x\":0.10625,\"xanchor\":\"center\",\"xref\":\"paper\",\"y\":0.4375,\"yanchor\":\"bottom\",\"yref\":\"paper\"},{\"font\":{\"size\":16},\"showarrow\":false,\"text\":\"Cost of Living Index\",\"x\":0.36875,\"xanchor\":\"center\",\"xref\":\"paper\",\"y\":0.4375,\"yanchor\":\"bottom\",\"yref\":\"paper\"},{\"font\":{\"size\":16},\"showarrow\":false,\"text\":\"Rent Index\",\"x\":0.6312500000000001,\"xanchor\":\"center\",\"xref\":\"paper\",\"y\":0.4375,\"yanchor\":\"bottom\",\"yref\":\"paper\"},{\"font\":{\"size\":16},\"showarrow\":false,\"text\":\"Cost of Living Plus Rent Index\",\"x\":0.89375,\"xanchor\":\"center\",\"xref\":\"paper\",\"y\":0.4375,\"yanchor\":\"bottom\",\"yref\":\"paper\"},{\"font\":{\"size\":16},\"showarrow\":false,\"text\":\"Groceries Index\",\"x\":0.10625,\"xanchor\":\"center\",\"xref\":\"paper\",\"y\":0.15625,\"yanchor\":\"bottom\",\"yref\":\"paper\"},{\"font\":{\"size\":16},\"showarrow\":false,\"text\":\"Restaurant Index\",\"x\":0.36875,\"xanchor\":\"center\",\"xref\":\"paper\",\"y\":0.15625,\"yanchor\":\"bottom\",\"yref\":\"paper\"},{\"font\":{\"size\":16},\"showarrow\":false,\"text\":\"Local Purchasing Power Index\",\"x\":0.6312500000000001,\"xanchor\":\"center\",\"xref\":\"paper\",\"y\":0.15625,\"yanchor\":\"bottom\",\"yref\":\"paper\"}],\"title\":{\"text\":\"Indianapolis, IN, United States\"},\"height\":1500,\"width\":1500},                        {\"responsive\": true}                    ).then(function(){\n",
       "                            \n",
       "var gd = document.getElementById('26ea886a-3d8f-4b55-a8b2-df4b92651a6c');\n",
       "var x = new MutationObserver(function (mutations, observer) {{\n",
       "        var display = window.getComputedStyle(gd).display;\n",
       "        if (!display || display === 'none') {{\n",
       "            console.log([gd, 'removed!']);\n",
       "            Plotly.purge(gd);\n",
       "            observer.disconnect();\n",
       "        }}\n",
       "}});\n",
       "\n",
       "// Listen for the removal of the full notebook cells\n",
       "var notebookContainer = gd.closest('#notebook-container');\n",
       "if (notebookContainer) {{\n",
       "    x.observe(notebookContainer, {childList: true});\n",
       "}}\n",
       "\n",
       "// Listen for the clearing of the current output cell\n",
       "var outputEl = gd.closest('.output');\n",
       "if (outputEl) {{\n",
       "    x.observe(outputEl, {childList: true});\n",
       "}}\n",
       "\n",
       "                        })                };                });            </script>        </div>"
      ]
     },
     "metadata": {},
     "output_type": "display_data"
    },
    {
     "data": {
      "application/vnd.plotly.v1+json": {
       "config": {
        "plotlyServerURL": "https://plot.ly"
       },
       "data": [
        {
         "mode": "lines+markers",
         "name": "Price to Income Ratio",
         "type": "scatter",
         "x": [
          "2011",
          "2012",
          "2013",
          "2014",
          "2014-mid",
          "2015",
          "2015-mid",
          "2016",
          "2017-mid",
          "2018",
          "2018-mid",
          "2019",
          "2020",
          "2020-mid",
          "2021",
          "2021-mid",
          "2022",
          "2024-mid"
         ],
         "xaxis": "x",
         "y": [
          2.1,
          2.3,
          3.2,
          0.7,
          1,
          1.6,
          1.6,
          1.7,
          1.2,
          1.2,
          1.6,
          1.4,
          1.3,
          1.3,
          1.4,
          1.2,
          1.2,
          1.9
         ],
         "yaxis": "y"
        },
        {
         "mode": "lines+markers",
         "name": "Gross Rental Yield City Centre",
         "type": "scatter",
         "x": [
          "2011",
          "2012",
          "2013",
          "2014",
          "2014-mid",
          "2015",
          "2015-mid",
          "2016",
          "2017-mid",
          "2018",
          "2018-mid",
          "2019",
          "2020",
          "2020-mid",
          "2021",
          "2021-mid",
          "2022",
          "2024-mid"
         ],
         "xaxis": "x2",
         "y": [
          13.4,
          12.8,
          9.5,
          12.8,
          17.4,
          23.2,
          24.4,
          21.5,
          19.8,
          19,
          17.5,
          17.9,
          17.9,
          18.5,
          19.1,
          19.9,
          21.1,
          16.4
         ],
         "yaxis": "y2"
        },
        {
         "mode": "lines+markers",
         "name": "Gross Rental Yield Outside Centre",
         "type": "scatter",
         "x": [
          "2011",
          "2012",
          "2013",
          "2014",
          "2014-mid",
          "2015",
          "2015-mid",
          "2016",
          "2017-mid",
          "2018",
          "2018-mid",
          "2019",
          "2020",
          "2020-mid",
          "2021",
          "2021-mid",
          "2022",
          "2024-mid"
         ],
         "xaxis": "x3",
         "y": [
          28.6,
          30,
          24.6,
          27.5,
          20.9,
          23.7,
          22.6,
          18.1,
          24.4,
          24.4,
          25.9,
          27.2,
          30.7,
          31.2,
          33.5,
          36.6,
          40.4,
          15.9
         ],
         "yaxis": "y3"
        },
        {
         "mode": "lines+markers",
         "name": "Price to Rent Ratio City Centre",
         "type": "scatter",
         "x": [
          "2011",
          "2012",
          "2013",
          "2014",
          "2014-mid",
          "2015",
          "2015-mid",
          "2016",
          "2017-mid",
          "2018",
          "2018-mid",
          "2019",
          "2020",
          "2020-mid",
          "2021",
          "2021-mid",
          "2022",
          "2024-mid"
         ],
         "xaxis": "x4",
         "y": [
          7.5,
          7.8,
          10.6,
          7.8,
          5.8,
          4.3,
          4.1,
          4.7,
          5,
          5.3,
          5.7,
          5.6,
          5.6,
          5.4,
          5.2,
          5,
          4.7,
          6.1
         ],
         "yaxis": "y4"
        },
        {
         "mode": "lines+markers",
         "name": "Price to Rent Ratio Outside City Centre",
         "type": "scatter",
         "x": [
          "2011",
          "2012",
          "2013",
          "2014",
          "2014-mid",
          "2015",
          "2015-mid",
          "2016",
          "2017-mid",
          "2018",
          "2018-mid",
          "2019",
          "2020",
          "2020-mid",
          "2021",
          "2021-mid",
          "2022",
          "2024-mid"
         ],
         "xaxis": "x5",
         "y": [
          3.5,
          3.3,
          4.1,
          3.6,
          4.8,
          4.2,
          4.4,
          5.5,
          4.1,
          4.1,
          3.9,
          3.7,
          3.3,
          3.2,
          3,
          2.7,
          2.5,
          6.3
         ],
         "yaxis": "y5"
        },
        {
         "mode": "lines+markers",
         "name": "Mortgage as a Percentage of Income",
         "type": "scatter",
         "x": [
          "2011",
          "2012",
          "2013",
          "2014",
          "2014-mid",
          "2015",
          "2015-mid",
          "2016",
          "2017-mid",
          "2018",
          "2018-mid",
          "2019",
          "2020",
          "2020-mid",
          "2021",
          "2021-mid",
          "2022",
          "2024-mid"
         ],
         "xaxis": "x6",
         "y": [
          "17.1",
          "18.6",
          "24.4",
          "5.0",
          "7.4",
          "11.8",
          "12.3",
          "13.9",
          "8.9",
          "8.6",
          "11.7",
          "10.6",
          "10.0",
          "9.3",
          "10.0",
          "8.9",
          "8.5",
          "17.0"
         ],
         "yaxis": "y6"
        },
        {
         "mode": "lines+markers",
         "name": "Affordability Index",
         "type": "scatter",
         "x": [
          "2011",
          "2012",
          "2013",
          "2014",
          "2014-mid",
          "2015",
          "2015-mid",
          "2016",
          "2017-mid",
          "2018",
          "2018-mid",
          "2019",
          "2020",
          "2020-mid",
          "2021",
          "2021-mid",
          "2022",
          "2024-mid"
         ],
         "xaxis": "x7",
         "y": [
          "5.9",
          "5.4",
          "4.1",
          "20.0",
          "13.6",
          "8.5",
          "8.1",
          "7.2",
          "11.2",
          "11.7",
          "8.5",
          "9.4",
          "10.0",
          "10.8",
          "10.0",
          "11.3",
          "11.7",
          "5.9"
         ],
         "yaxis": "y7"
        },
        {
         "mode": "lines+markers",
         "name": "Crime Index",
         "type": "scatter",
         "x": [
          "2011",
          "2012",
          "2013",
          "2014",
          "2014-mid",
          "2015",
          "2015-mid",
          "2016",
          "2017-mid",
          "2018",
          "2018-mid",
          "2019",
          "2020",
          "2020-mid",
          "2021",
          "2021-mid",
          "2022",
          "2024-mid"
         ],
         "xaxis": "x8",
         "y": [
          null,
          null,
          null,
          null,
          74.5,
          74.5,
          71.9,
          null,
          null,
          null,
          null,
          null,
          74.8,
          75.6,
          74.8,
          73.5,
          73.9,
          76.5
         ],
         "yaxis": "y8"
        },
        {
         "mode": "lines+markers",
         "name": "Safety Index",
         "type": "scatter",
         "x": [
          "2011",
          "2012",
          "2013",
          "2014",
          "2014-mid",
          "2015",
          "2015-mid",
          "2016",
          "2017-mid",
          "2018",
          "2018-mid",
          "2019",
          "2020",
          "2020-mid",
          "2021",
          "2021-mid",
          "2022",
          "2024-mid"
         ],
         "xaxis": "x9",
         "y": [
          null,
          null,
          null,
          null,
          25.5,
          25.5,
          28.1,
          null,
          null,
          null,
          null,
          null,
          25.2,
          24.4,
          25.2,
          26.5,
          26.1,
          23.5
         ],
         "yaxis": "y9"
        },
        {
         "mode": "lines+markers",
         "name": "Cost of Living Index",
         "type": "scatter",
         "x": [
          "2011",
          "2012",
          "2013",
          "2014",
          "2014-mid",
          "2015",
          "2015-mid",
          "2016",
          "2017-mid",
          "2018",
          "2018-mid",
          "2019",
          "2020",
          "2020-mid",
          "2021",
          "2021-mid",
          "2022",
          "2024-mid"
         ],
         "xaxis": "x10",
         "y": [
          null,
          null,
          null,
          null,
          null,
          null,
          null,
          null,
          null,
          null,
          null,
          null,
          null,
          null,
          null,
          null,
          null,
          null
         ],
         "yaxis": "y10"
        },
        {
         "mode": "lines+markers",
         "name": "Rent Index",
         "type": "scatter",
         "x": [
          "2011",
          "2012",
          "2013",
          "2014",
          "2014-mid",
          "2015",
          "2015-mid",
          "2016",
          "2017-mid",
          "2018",
          "2018-mid",
          "2019",
          "2020",
          "2020-mid",
          "2021",
          "2021-mid",
          "2022",
          "2024-mid"
         ],
         "xaxis": "x11",
         "y": [
          null,
          null,
          null,
          null,
          null,
          null,
          null,
          null,
          null,
          null,
          null,
          null,
          null,
          null,
          null,
          null,
          null,
          null
         ],
         "yaxis": "y11"
        },
        {
         "mode": "lines+markers",
         "name": "Cost of Living Plus Rent Index",
         "type": "scatter",
         "x": [
          "2011",
          "2012",
          "2013",
          "2014",
          "2014-mid",
          "2015",
          "2015-mid",
          "2016",
          "2017-mid",
          "2018",
          "2018-mid",
          "2019",
          "2020",
          "2020-mid",
          "2021",
          "2021-mid",
          "2022",
          "2024-mid"
         ],
         "xaxis": "x12",
         "y": [
          null,
          null,
          null,
          null,
          null,
          null,
          null,
          null,
          null,
          null,
          null,
          null,
          null,
          null,
          null,
          null,
          null,
          null
         ],
         "yaxis": "y12"
        },
        {
         "mode": "lines+markers",
         "name": "Groceries Index",
         "type": "scatter",
         "x": [
          "2011",
          "2012",
          "2013",
          "2014",
          "2014-mid",
          "2015",
          "2015-mid",
          "2016",
          "2017-mid",
          "2018",
          "2018-mid",
          "2019",
          "2020",
          "2020-mid",
          "2021",
          "2021-mid",
          "2022",
          "2024-mid"
         ],
         "xaxis": "x13",
         "y": [
          null,
          null,
          null,
          null,
          null,
          null,
          null,
          null,
          null,
          null,
          null,
          null,
          null,
          null,
          null,
          null,
          null,
          null
         ],
         "yaxis": "y13"
        },
        {
         "mode": "lines+markers",
         "name": "Restaurant Index",
         "type": "scatter",
         "x": [
          "2011",
          "2012",
          "2013",
          "2014",
          "2014-mid",
          "2015",
          "2015-mid",
          "2016",
          "2017-mid",
          "2018",
          "2018-mid",
          "2019",
          "2020",
          "2020-mid",
          "2021",
          "2021-mid",
          "2022",
          "2024-mid"
         ],
         "xaxis": "x14",
         "y": [
          null,
          null,
          null,
          null,
          null,
          null,
          null,
          null,
          null,
          null,
          null,
          null,
          null,
          null,
          null,
          null,
          null,
          null
         ],
         "yaxis": "y14"
        },
        {
         "mode": "lines+markers",
         "name": "Local Purchasing Power Index",
         "type": "scatter",
         "x": [
          "2011",
          "2012",
          "2013",
          "2014",
          "2014-mid",
          "2015",
          "2015-mid",
          "2016",
          "2017-mid",
          "2018",
          "2018-mid",
          "2019",
          "2020",
          "2020-mid",
          "2021",
          "2021-mid",
          "2022",
          "2024-mid"
         ],
         "xaxis": "x15",
         "y": [
          null,
          null,
          null,
          null,
          null,
          null,
          null,
          null,
          null,
          null,
          null,
          null,
          null,
          null,
          null,
          null,
          null,
          null
         ],
         "yaxis": "y15"
        }
       ],
       "layout": {
        "annotations": [
         {
          "font": {
           "size": 16
          },
          "showarrow": false,
          "text": "Price to Income Ratio",
          "x": 0.10625,
          "xanchor": "center",
          "xref": "paper",
          "y": 1,
          "yanchor": "bottom",
          "yref": "paper"
         },
         {
          "font": {
           "size": 16
          },
          "showarrow": false,
          "text": "Gross Rental Yield City Centre",
          "x": 0.36875,
          "xanchor": "center",
          "xref": "paper",
          "y": 1,
          "yanchor": "bottom",
          "yref": "paper"
         },
         {
          "font": {
           "size": 16
          },
          "showarrow": false,
          "text": "Gross Rental Yield Outside Centre",
          "x": 0.6312500000000001,
          "xanchor": "center",
          "xref": "paper",
          "y": 1,
          "yanchor": "bottom",
          "yref": "paper"
         },
         {
          "font": {
           "size": 16
          },
          "showarrow": false,
          "text": "Price to Rent Ratio City Centre",
          "x": 0.89375,
          "xanchor": "center",
          "xref": "paper",
          "y": 1,
          "yanchor": "bottom",
          "yref": "paper"
         },
         {
          "font": {
           "size": 16
          },
          "showarrow": false,
          "text": "Price to Rent Ratio Outside City Centre",
          "x": 0.10625,
          "xanchor": "center",
          "xref": "paper",
          "y": 0.71875,
          "yanchor": "bottom",
          "yref": "paper"
         },
         {
          "font": {
           "size": 16
          },
          "showarrow": false,
          "text": "Mortgage as a Percentage of Income",
          "x": 0.36875,
          "xanchor": "center",
          "xref": "paper",
          "y": 0.71875,
          "yanchor": "bottom",
          "yref": "paper"
         },
         {
          "font": {
           "size": 16
          },
          "showarrow": false,
          "text": "Affordability Index",
          "x": 0.6312500000000001,
          "xanchor": "center",
          "xref": "paper",
          "y": 0.71875,
          "yanchor": "bottom",
          "yref": "paper"
         },
         {
          "font": {
           "size": 16
          },
          "showarrow": false,
          "text": "Crime Index",
          "x": 0.89375,
          "xanchor": "center",
          "xref": "paper",
          "y": 0.71875,
          "yanchor": "bottom",
          "yref": "paper"
         },
         {
          "font": {
           "size": 16
          },
          "showarrow": false,
          "text": "Safety Index",
          "x": 0.10625,
          "xanchor": "center",
          "xref": "paper",
          "y": 0.4375,
          "yanchor": "bottom",
          "yref": "paper"
         },
         {
          "font": {
           "size": 16
          },
          "showarrow": false,
          "text": "Cost of Living Index",
          "x": 0.36875,
          "xanchor": "center",
          "xref": "paper",
          "y": 0.4375,
          "yanchor": "bottom",
          "yref": "paper"
         },
         {
          "font": {
           "size": 16
          },
          "showarrow": false,
          "text": "Rent Index",
          "x": 0.6312500000000001,
          "xanchor": "center",
          "xref": "paper",
          "y": 0.4375,
          "yanchor": "bottom",
          "yref": "paper"
         },
         {
          "font": {
           "size": 16
          },
          "showarrow": false,
          "text": "Cost of Living Plus Rent Index",
          "x": 0.89375,
          "xanchor": "center",
          "xref": "paper",
          "y": 0.4375,
          "yanchor": "bottom",
          "yref": "paper"
         },
         {
          "font": {
           "size": 16
          },
          "showarrow": false,
          "text": "Groceries Index",
          "x": 0.10625,
          "xanchor": "center",
          "xref": "paper",
          "y": 0.15625,
          "yanchor": "bottom",
          "yref": "paper"
         },
         {
          "font": {
           "size": 16
          },
          "showarrow": false,
          "text": "Restaurant Index",
          "x": 0.36875,
          "xanchor": "center",
          "xref": "paper",
          "y": 0.15625,
          "yanchor": "bottom",
          "yref": "paper"
         },
         {
          "font": {
           "size": 16
          },
          "showarrow": false,
          "text": "Local Purchasing Power Index",
          "x": 0.6312500000000001,
          "xanchor": "center",
          "xref": "paper",
          "y": 0.15625,
          "yanchor": "bottom",
          "yref": "paper"
         }
        ],
        "height": 1500,
        "template": {
         "data": {
          "bar": [
           {
            "error_x": {
             "color": "#2a3f5f"
            },
            "error_y": {
             "color": "#2a3f5f"
            },
            "marker": {
             "line": {
              "color": "#E5ECF6",
              "width": 0.5
             },
             "pattern": {
              "fillmode": "overlay",
              "size": 10,
              "solidity": 0.2
             }
            },
            "type": "bar"
           }
          ],
          "barpolar": [
           {
            "marker": {
             "line": {
              "color": "#E5ECF6",
              "width": 0.5
             },
             "pattern": {
              "fillmode": "overlay",
              "size": 10,
              "solidity": 0.2
             }
            },
            "type": "barpolar"
           }
          ],
          "carpet": [
           {
            "aaxis": {
             "endlinecolor": "#2a3f5f",
             "gridcolor": "white",
             "linecolor": "white",
             "minorgridcolor": "white",
             "startlinecolor": "#2a3f5f"
            },
            "baxis": {
             "endlinecolor": "#2a3f5f",
             "gridcolor": "white",
             "linecolor": "white",
             "minorgridcolor": "white",
             "startlinecolor": "#2a3f5f"
            },
            "type": "carpet"
           }
          ],
          "choropleth": [
           {
            "colorbar": {
             "outlinewidth": 0,
             "ticks": ""
            },
            "type": "choropleth"
           }
          ],
          "contour": [
           {
            "colorbar": {
             "outlinewidth": 0,
             "ticks": ""
            },
            "colorscale": [
             [
              0,
              "#0d0887"
             ],
             [
              0.1111111111111111,
              "#46039f"
             ],
             [
              0.2222222222222222,
              "#7201a8"
             ],
             [
              0.3333333333333333,
              "#9c179e"
             ],
             [
              0.4444444444444444,
              "#bd3786"
             ],
             [
              0.5555555555555556,
              "#d8576b"
             ],
             [
              0.6666666666666666,
              "#ed7953"
             ],
             [
              0.7777777777777778,
              "#fb9f3a"
             ],
             [
              0.8888888888888888,
              "#fdca26"
             ],
             [
              1,
              "#f0f921"
             ]
            ],
            "type": "contour"
           }
          ],
          "contourcarpet": [
           {
            "colorbar": {
             "outlinewidth": 0,
             "ticks": ""
            },
            "type": "contourcarpet"
           }
          ],
          "heatmap": [
           {
            "colorbar": {
             "outlinewidth": 0,
             "ticks": ""
            },
            "colorscale": [
             [
              0,
              "#0d0887"
             ],
             [
              0.1111111111111111,
              "#46039f"
             ],
             [
              0.2222222222222222,
              "#7201a8"
             ],
             [
              0.3333333333333333,
              "#9c179e"
             ],
             [
              0.4444444444444444,
              "#bd3786"
             ],
             [
              0.5555555555555556,
              "#d8576b"
             ],
             [
              0.6666666666666666,
              "#ed7953"
             ],
             [
              0.7777777777777778,
              "#fb9f3a"
             ],
             [
              0.8888888888888888,
              "#fdca26"
             ],
             [
              1,
              "#f0f921"
             ]
            ],
            "type": "heatmap"
           }
          ],
          "heatmapgl": [
           {
            "colorbar": {
             "outlinewidth": 0,
             "ticks": ""
            },
            "colorscale": [
             [
              0,
              "#0d0887"
             ],
             [
              0.1111111111111111,
              "#46039f"
             ],
             [
              0.2222222222222222,
              "#7201a8"
             ],
             [
              0.3333333333333333,
              "#9c179e"
             ],
             [
              0.4444444444444444,
              "#bd3786"
             ],
             [
              0.5555555555555556,
              "#d8576b"
             ],
             [
              0.6666666666666666,
              "#ed7953"
             ],
             [
              0.7777777777777778,
              "#fb9f3a"
             ],
             [
              0.8888888888888888,
              "#fdca26"
             ],
             [
              1,
              "#f0f921"
             ]
            ],
            "type": "heatmapgl"
           }
          ],
          "histogram": [
           {
            "marker": {
             "pattern": {
              "fillmode": "overlay",
              "size": 10,
              "solidity": 0.2
             }
            },
            "type": "histogram"
           }
          ],
          "histogram2d": [
           {
            "colorbar": {
             "outlinewidth": 0,
             "ticks": ""
            },
            "colorscale": [
             [
              0,
              "#0d0887"
             ],
             [
              0.1111111111111111,
              "#46039f"
             ],
             [
              0.2222222222222222,
              "#7201a8"
             ],
             [
              0.3333333333333333,
              "#9c179e"
             ],
             [
              0.4444444444444444,
              "#bd3786"
             ],
             [
              0.5555555555555556,
              "#d8576b"
             ],
             [
              0.6666666666666666,
              "#ed7953"
             ],
             [
              0.7777777777777778,
              "#fb9f3a"
             ],
             [
              0.8888888888888888,
              "#fdca26"
             ],
             [
              1,
              "#f0f921"
             ]
            ],
            "type": "histogram2d"
           }
          ],
          "histogram2dcontour": [
           {
            "colorbar": {
             "outlinewidth": 0,
             "ticks": ""
            },
            "colorscale": [
             [
              0,
              "#0d0887"
             ],
             [
              0.1111111111111111,
              "#46039f"
             ],
             [
              0.2222222222222222,
              "#7201a8"
             ],
             [
              0.3333333333333333,
              "#9c179e"
             ],
             [
              0.4444444444444444,
              "#bd3786"
             ],
             [
              0.5555555555555556,
              "#d8576b"
             ],
             [
              0.6666666666666666,
              "#ed7953"
             ],
             [
              0.7777777777777778,
              "#fb9f3a"
             ],
             [
              0.8888888888888888,
              "#fdca26"
             ],
             [
              1,
              "#f0f921"
             ]
            ],
            "type": "histogram2dcontour"
           }
          ],
          "mesh3d": [
           {
            "colorbar": {
             "outlinewidth": 0,
             "ticks": ""
            },
            "type": "mesh3d"
           }
          ],
          "parcoords": [
           {
            "line": {
             "colorbar": {
              "outlinewidth": 0,
              "ticks": ""
             }
            },
            "type": "parcoords"
           }
          ],
          "pie": [
           {
            "automargin": true,
            "type": "pie"
           }
          ],
          "scatter": [
           {
            "fillpattern": {
             "fillmode": "overlay",
             "size": 10,
             "solidity": 0.2
            },
            "type": "scatter"
           }
          ],
          "scatter3d": [
           {
            "line": {
             "colorbar": {
              "outlinewidth": 0,
              "ticks": ""
             }
            },
            "marker": {
             "colorbar": {
              "outlinewidth": 0,
              "ticks": ""
             }
            },
            "type": "scatter3d"
           }
          ],
          "scattercarpet": [
           {
            "marker": {
             "colorbar": {
              "outlinewidth": 0,
              "ticks": ""
             }
            },
            "type": "scattercarpet"
           }
          ],
          "scattergeo": [
           {
            "marker": {
             "colorbar": {
              "outlinewidth": 0,
              "ticks": ""
             }
            },
            "type": "scattergeo"
           }
          ],
          "scattergl": [
           {
            "marker": {
             "colorbar": {
              "outlinewidth": 0,
              "ticks": ""
             }
            },
            "type": "scattergl"
           }
          ],
          "scattermapbox": [
           {
            "marker": {
             "colorbar": {
              "outlinewidth": 0,
              "ticks": ""
             }
            },
            "type": "scattermapbox"
           }
          ],
          "scatterpolar": [
           {
            "marker": {
             "colorbar": {
              "outlinewidth": 0,
              "ticks": ""
             }
            },
            "type": "scatterpolar"
           }
          ],
          "scatterpolargl": [
           {
            "marker": {
             "colorbar": {
              "outlinewidth": 0,
              "ticks": ""
             }
            },
            "type": "scatterpolargl"
           }
          ],
          "scatterternary": [
           {
            "marker": {
             "colorbar": {
              "outlinewidth": 0,
              "ticks": ""
             }
            },
            "type": "scatterternary"
           }
          ],
          "surface": [
           {
            "colorbar": {
             "outlinewidth": 0,
             "ticks": ""
            },
            "colorscale": [
             [
              0,
              "#0d0887"
             ],
             [
              0.1111111111111111,
              "#46039f"
             ],
             [
              0.2222222222222222,
              "#7201a8"
             ],
             [
              0.3333333333333333,
              "#9c179e"
             ],
             [
              0.4444444444444444,
              "#bd3786"
             ],
             [
              0.5555555555555556,
              "#d8576b"
             ],
             [
              0.6666666666666666,
              "#ed7953"
             ],
             [
              0.7777777777777778,
              "#fb9f3a"
             ],
             [
              0.8888888888888888,
              "#fdca26"
             ],
             [
              1,
              "#f0f921"
             ]
            ],
            "type": "surface"
           }
          ],
          "table": [
           {
            "cells": {
             "fill": {
              "color": "#EBF0F8"
             },
             "line": {
              "color": "white"
             }
            },
            "header": {
             "fill": {
              "color": "#C8D4E3"
             },
             "line": {
              "color": "white"
             }
            },
            "type": "table"
           }
          ]
         },
         "layout": {
          "annotationdefaults": {
           "arrowcolor": "#2a3f5f",
           "arrowhead": 0,
           "arrowwidth": 1
          },
          "autotypenumbers": "strict",
          "coloraxis": {
           "colorbar": {
            "outlinewidth": 0,
            "ticks": ""
           }
          },
          "colorscale": {
           "diverging": [
            [
             0,
             "#8e0152"
            ],
            [
             0.1,
             "#c51b7d"
            ],
            [
             0.2,
             "#de77ae"
            ],
            [
             0.3,
             "#f1b6da"
            ],
            [
             0.4,
             "#fde0ef"
            ],
            [
             0.5,
             "#f7f7f7"
            ],
            [
             0.6,
             "#e6f5d0"
            ],
            [
             0.7,
             "#b8e186"
            ],
            [
             0.8,
             "#7fbc41"
            ],
            [
             0.9,
             "#4d9221"
            ],
            [
             1,
             "#276419"
            ]
           ],
           "sequential": [
            [
             0,
             "#0d0887"
            ],
            [
             0.1111111111111111,
             "#46039f"
            ],
            [
             0.2222222222222222,
             "#7201a8"
            ],
            [
             0.3333333333333333,
             "#9c179e"
            ],
            [
             0.4444444444444444,
             "#bd3786"
            ],
            [
             0.5555555555555556,
             "#d8576b"
            ],
            [
             0.6666666666666666,
             "#ed7953"
            ],
            [
             0.7777777777777778,
             "#fb9f3a"
            ],
            [
             0.8888888888888888,
             "#fdca26"
            ],
            [
             1,
             "#f0f921"
            ]
           ],
           "sequentialminus": [
            [
             0,
             "#0d0887"
            ],
            [
             0.1111111111111111,
             "#46039f"
            ],
            [
             0.2222222222222222,
             "#7201a8"
            ],
            [
             0.3333333333333333,
             "#9c179e"
            ],
            [
             0.4444444444444444,
             "#bd3786"
            ],
            [
             0.5555555555555556,
             "#d8576b"
            ],
            [
             0.6666666666666666,
             "#ed7953"
            ],
            [
             0.7777777777777778,
             "#fb9f3a"
            ],
            [
             0.8888888888888888,
             "#fdca26"
            ],
            [
             1,
             "#f0f921"
            ]
           ]
          },
          "colorway": [
           "#636efa",
           "#EF553B",
           "#00cc96",
           "#ab63fa",
           "#FFA15A",
           "#19d3f3",
           "#FF6692",
           "#B6E880",
           "#FF97FF",
           "#FECB52"
          ],
          "font": {
           "color": "#2a3f5f"
          },
          "geo": {
           "bgcolor": "white",
           "lakecolor": "white",
           "landcolor": "#E5ECF6",
           "showlakes": true,
           "showland": true,
           "subunitcolor": "white"
          },
          "hoverlabel": {
           "align": "left"
          },
          "hovermode": "closest",
          "mapbox": {
           "style": "light"
          },
          "paper_bgcolor": "white",
          "plot_bgcolor": "#E5ECF6",
          "polar": {
           "angularaxis": {
            "gridcolor": "white",
            "linecolor": "white",
            "ticks": ""
           },
           "bgcolor": "#E5ECF6",
           "radialaxis": {
            "gridcolor": "white",
            "linecolor": "white",
            "ticks": ""
           }
          },
          "scene": {
           "xaxis": {
            "backgroundcolor": "#E5ECF6",
            "gridcolor": "white",
            "gridwidth": 2,
            "linecolor": "white",
            "showbackground": true,
            "ticks": "",
            "zerolinecolor": "white"
           },
           "yaxis": {
            "backgroundcolor": "#E5ECF6",
            "gridcolor": "white",
            "gridwidth": 2,
            "linecolor": "white",
            "showbackground": true,
            "ticks": "",
            "zerolinecolor": "white"
           },
           "zaxis": {
            "backgroundcolor": "#E5ECF6",
            "gridcolor": "white",
            "gridwidth": 2,
            "linecolor": "white",
            "showbackground": true,
            "ticks": "",
            "zerolinecolor": "white"
           }
          },
          "shapedefaults": {
           "line": {
            "color": "#2a3f5f"
           }
          },
          "ternary": {
           "aaxis": {
            "gridcolor": "white",
            "linecolor": "white",
            "ticks": ""
           },
           "baxis": {
            "gridcolor": "white",
            "linecolor": "white",
            "ticks": ""
           },
           "bgcolor": "#E5ECF6",
           "caxis": {
            "gridcolor": "white",
            "linecolor": "white",
            "ticks": ""
           }
          },
          "title": {
           "x": 0.05
          },
          "xaxis": {
           "automargin": true,
           "gridcolor": "white",
           "linecolor": "white",
           "ticks": "",
           "title": {
            "standoff": 15
           },
           "zerolinecolor": "white",
           "zerolinewidth": 2
          },
          "yaxis": {
           "automargin": true,
           "gridcolor": "white",
           "linecolor": "white",
           "ticks": "",
           "title": {
            "standoff": 15
           },
           "zerolinecolor": "white",
           "zerolinewidth": 2
          }
         }
        },
        "title": {
         "text": "Memphis, TN, United States"
        },
        "width": 1500,
        "xaxis": {
         "anchor": "y",
         "domain": [
          0,
          0.2125
         ],
         "title": {
          "text": "Year"
         }
        },
        "xaxis10": {
         "anchor": "y10",
         "domain": [
          0.2625,
          0.475
         ],
         "title": {
          "text": "Year"
         }
        },
        "xaxis11": {
         "anchor": "y11",
         "domain": [
          0.525,
          0.7375
         ],
         "title": {
          "text": "Year"
         }
        },
        "xaxis12": {
         "anchor": "y12",
         "domain": [
          0.7875,
          1
         ],
         "title": {
          "text": "Year"
         }
        },
        "xaxis13": {
         "anchor": "y13",
         "domain": [
          0,
          0.2125
         ],
         "title": {
          "text": "Year"
         }
        },
        "xaxis14": {
         "anchor": "y14",
         "domain": [
          0.2625,
          0.475
         ],
         "title": {
          "text": "Year"
         }
        },
        "xaxis15": {
         "anchor": "y15",
         "domain": [
          0.525,
          0.7375
         ],
         "title": {
          "text": "Year"
         }
        },
        "xaxis16": {
         "anchor": "y16",
         "domain": [
          0.7875,
          1
         ]
        },
        "xaxis2": {
         "anchor": "y2",
         "domain": [
          0.2625,
          0.475
         ],
         "title": {
          "text": "Year"
         }
        },
        "xaxis3": {
         "anchor": "y3",
         "domain": [
          0.525,
          0.7375
         ],
         "title": {
          "text": "Year"
         }
        },
        "xaxis4": {
         "anchor": "y4",
         "domain": [
          0.7875,
          1
         ],
         "title": {
          "text": "Year"
         }
        },
        "xaxis5": {
         "anchor": "y5",
         "domain": [
          0,
          0.2125
         ],
         "title": {
          "text": "Year"
         }
        },
        "xaxis6": {
         "anchor": "y6",
         "domain": [
          0.2625,
          0.475
         ],
         "title": {
          "text": "Year"
         }
        },
        "xaxis7": {
         "anchor": "y7",
         "domain": [
          0.525,
          0.7375
         ],
         "title": {
          "text": "Year"
         }
        },
        "xaxis8": {
         "anchor": "y8",
         "domain": [
          0.7875,
          1
         ],
         "title": {
          "text": "Year"
         }
        },
        "xaxis9": {
         "anchor": "y9",
         "domain": [
          0,
          0.2125
         ],
         "title": {
          "text": "Year"
         }
        },
        "yaxis": {
         "anchor": "x",
         "domain": [
          0.84375,
          1
         ],
         "title": {
          "text": "Price to Income Ratio"
         }
        },
        "yaxis10": {
         "anchor": "x10",
         "domain": [
          0.28125,
          0.4375
         ],
         "title": {
          "text": "Cost of Living Index"
         }
        },
        "yaxis11": {
         "anchor": "x11",
         "domain": [
          0.28125,
          0.4375
         ],
         "title": {
          "text": "Rent Index"
         }
        },
        "yaxis12": {
         "anchor": "x12",
         "domain": [
          0.28125,
          0.4375
         ],
         "title": {
          "text": "Cost of Living Plus Rent Index"
         }
        },
        "yaxis13": {
         "anchor": "x13",
         "domain": [
          0,
          0.15625
         ],
         "title": {
          "text": "Groceries Index"
         }
        },
        "yaxis14": {
         "anchor": "x14",
         "domain": [
          0,
          0.15625
         ],
         "title": {
          "text": "Restaurant Index"
         }
        },
        "yaxis15": {
         "anchor": "x15",
         "domain": [
          0,
          0.15625
         ],
         "title": {
          "text": "Local Purchasing Power Index"
         }
        },
        "yaxis16": {
         "anchor": "x16",
         "domain": [
          0,
          0.15625
         ]
        },
        "yaxis2": {
         "anchor": "x2",
         "domain": [
          0.84375,
          1
         ],
         "title": {
          "text": "Gross Rental Yield City Centre"
         }
        },
        "yaxis3": {
         "anchor": "x3",
         "domain": [
          0.84375,
          1
         ],
         "title": {
          "text": "Gross Rental Yield Outside Centre"
         }
        },
        "yaxis4": {
         "anchor": "x4",
         "domain": [
          0.84375,
          1
         ],
         "title": {
          "text": "Price to Rent Ratio City Centre"
         }
        },
        "yaxis5": {
         "anchor": "x5",
         "domain": [
          0.5625,
          0.71875
         ],
         "title": {
          "text": "Price to Rent Ratio Outside City Centre"
         }
        },
        "yaxis6": {
         "anchor": "x6",
         "domain": [
          0.5625,
          0.71875
         ],
         "title": {
          "text": "Mortgage as a Percentage of Income"
         }
        },
        "yaxis7": {
         "anchor": "x7",
         "domain": [
          0.5625,
          0.71875
         ],
         "title": {
          "text": "Affordability Index"
         }
        },
        "yaxis8": {
         "anchor": "x8",
         "domain": [
          0.5625,
          0.71875
         ],
         "title": {
          "text": "Crime Index"
         }
        },
        "yaxis9": {
         "anchor": "x9",
         "domain": [
          0.28125,
          0.4375
         ],
         "title": {
          "text": "Safety Index"
         }
        }
       }
      },
      "text/html": [
       "<div>                            <div id=\"b230a28e-f912-49ff-bb94-a3ef3a558350\" class=\"plotly-graph-div\" style=\"height:1500px; width:1500px;\"></div>            <script type=\"text/javascript\">                require([\"plotly\"], function(Plotly) {                    window.PLOTLYENV=window.PLOTLYENV || {};                                    if (document.getElementById(\"b230a28e-f912-49ff-bb94-a3ef3a558350\")) {                    Plotly.newPlot(                        \"b230a28e-f912-49ff-bb94-a3ef3a558350\",                        [{\"mode\":\"lines+markers\",\"name\":\"Price to Income Ratio\",\"x\":[\"2011\",\"2012\",\"2013\",\"2014\",\"2014-mid\",\"2015\",\"2015-mid\",\"2016\",\"2017-mid\",\"2018\",\"2018-mid\",\"2019\",\"2020\",\"2020-mid\",\"2021\",\"2021-mid\",\"2022\",\"2024-mid\"],\"y\":[2.1,2.3,3.2,0.7,1.0,1.6,1.6,1.7,1.2,1.2,1.6,1.4,1.3,1.3,1.4,1.2,1.2,1.9],\"type\":\"scatter\",\"xaxis\":\"x\",\"yaxis\":\"y\"},{\"mode\":\"lines+markers\",\"name\":\"Gross Rental Yield City Centre\",\"x\":[\"2011\",\"2012\",\"2013\",\"2014\",\"2014-mid\",\"2015\",\"2015-mid\",\"2016\",\"2017-mid\",\"2018\",\"2018-mid\",\"2019\",\"2020\",\"2020-mid\",\"2021\",\"2021-mid\",\"2022\",\"2024-mid\"],\"y\":[13.4,12.8,9.5,12.8,17.4,23.2,24.4,21.5,19.8,19.0,17.5,17.9,17.9,18.5,19.1,19.9,21.1,16.4],\"type\":\"scatter\",\"xaxis\":\"x2\",\"yaxis\":\"y2\"},{\"mode\":\"lines+markers\",\"name\":\"Gross Rental Yield Outside Centre\",\"x\":[\"2011\",\"2012\",\"2013\",\"2014\",\"2014-mid\",\"2015\",\"2015-mid\",\"2016\",\"2017-mid\",\"2018\",\"2018-mid\",\"2019\",\"2020\",\"2020-mid\",\"2021\",\"2021-mid\",\"2022\",\"2024-mid\"],\"y\":[28.6,30.0,24.6,27.5,20.9,23.7,22.6,18.1,24.4,24.4,25.9,27.2,30.7,31.2,33.5,36.6,40.4,15.9],\"type\":\"scatter\",\"xaxis\":\"x3\",\"yaxis\":\"y3\"},{\"mode\":\"lines+markers\",\"name\":\"Price to Rent Ratio City Centre\",\"x\":[\"2011\",\"2012\",\"2013\",\"2014\",\"2014-mid\",\"2015\",\"2015-mid\",\"2016\",\"2017-mid\",\"2018\",\"2018-mid\",\"2019\",\"2020\",\"2020-mid\",\"2021\",\"2021-mid\",\"2022\",\"2024-mid\"],\"y\":[7.5,7.8,10.6,7.8,5.8,4.3,4.1,4.7,5.0,5.3,5.7,5.6,5.6,5.4,5.2,5.0,4.7,6.1],\"type\":\"scatter\",\"xaxis\":\"x4\",\"yaxis\":\"y4\"},{\"mode\":\"lines+markers\",\"name\":\"Price to Rent Ratio Outside City Centre\",\"x\":[\"2011\",\"2012\",\"2013\",\"2014\",\"2014-mid\",\"2015\",\"2015-mid\",\"2016\",\"2017-mid\",\"2018\",\"2018-mid\",\"2019\",\"2020\",\"2020-mid\",\"2021\",\"2021-mid\",\"2022\",\"2024-mid\"],\"y\":[3.5,3.3,4.1,3.6,4.8,4.2,4.4,5.5,4.1,4.1,3.9,3.7,3.3,3.2,3.0,2.7,2.5,6.3],\"type\":\"scatter\",\"xaxis\":\"x5\",\"yaxis\":\"y5\"},{\"mode\":\"lines+markers\",\"name\":\"Mortgage as a Percentage of Income\",\"x\":[\"2011\",\"2012\",\"2013\",\"2014\",\"2014-mid\",\"2015\",\"2015-mid\",\"2016\",\"2017-mid\",\"2018\",\"2018-mid\",\"2019\",\"2020\",\"2020-mid\",\"2021\",\"2021-mid\",\"2022\",\"2024-mid\"],\"y\":[\"17.1\",\"18.6\",\"24.4\",\"5.0\",\"7.4\",\"11.8\",\"12.3\",\"13.9\",\"8.9\",\"8.6\",\"11.7\",\"10.6\",\"10.0\",\"9.3\",\"10.0\",\"8.9\",\"8.5\",\"17.0\"],\"type\":\"scatter\",\"xaxis\":\"x6\",\"yaxis\":\"y6\"},{\"mode\":\"lines+markers\",\"name\":\"Affordability Index\",\"x\":[\"2011\",\"2012\",\"2013\",\"2014\",\"2014-mid\",\"2015\",\"2015-mid\",\"2016\",\"2017-mid\",\"2018\",\"2018-mid\",\"2019\",\"2020\",\"2020-mid\",\"2021\",\"2021-mid\",\"2022\",\"2024-mid\"],\"y\":[\"5.9\",\"5.4\",\"4.1\",\"20.0\",\"13.6\",\"8.5\",\"8.1\",\"7.2\",\"11.2\",\"11.7\",\"8.5\",\"9.4\",\"10.0\",\"10.8\",\"10.0\",\"11.3\",\"11.7\",\"5.9\"],\"type\":\"scatter\",\"xaxis\":\"x7\",\"yaxis\":\"y7\"},{\"mode\":\"lines+markers\",\"name\":\"Crime Index\",\"x\":[\"2011\",\"2012\",\"2013\",\"2014\",\"2014-mid\",\"2015\",\"2015-mid\",\"2016\",\"2017-mid\",\"2018\",\"2018-mid\",\"2019\",\"2020\",\"2020-mid\",\"2021\",\"2021-mid\",\"2022\",\"2024-mid\"],\"y\":[null,null,null,null,74.5,74.5,71.9,null,null,null,null,null,74.8,75.6,74.8,73.5,73.9,76.5],\"type\":\"scatter\",\"xaxis\":\"x8\",\"yaxis\":\"y8\"},{\"mode\":\"lines+markers\",\"name\":\"Safety Index\",\"x\":[\"2011\",\"2012\",\"2013\",\"2014\",\"2014-mid\",\"2015\",\"2015-mid\",\"2016\",\"2017-mid\",\"2018\",\"2018-mid\",\"2019\",\"2020\",\"2020-mid\",\"2021\",\"2021-mid\",\"2022\",\"2024-mid\"],\"y\":[null,null,null,null,25.5,25.5,28.1,null,null,null,null,null,25.2,24.4,25.2,26.5,26.1,23.5],\"type\":\"scatter\",\"xaxis\":\"x9\",\"yaxis\":\"y9\"},{\"mode\":\"lines+markers\",\"name\":\"Cost of Living Index\",\"x\":[\"2011\",\"2012\",\"2013\",\"2014\",\"2014-mid\",\"2015\",\"2015-mid\",\"2016\",\"2017-mid\",\"2018\",\"2018-mid\",\"2019\",\"2020\",\"2020-mid\",\"2021\",\"2021-mid\",\"2022\",\"2024-mid\"],\"y\":[null,null,null,null,null,null,null,null,null,null,null,null,null,null,null,null,null,null],\"type\":\"scatter\",\"xaxis\":\"x10\",\"yaxis\":\"y10\"},{\"mode\":\"lines+markers\",\"name\":\"Rent Index\",\"x\":[\"2011\",\"2012\",\"2013\",\"2014\",\"2014-mid\",\"2015\",\"2015-mid\",\"2016\",\"2017-mid\",\"2018\",\"2018-mid\",\"2019\",\"2020\",\"2020-mid\",\"2021\",\"2021-mid\",\"2022\",\"2024-mid\"],\"y\":[null,null,null,null,null,null,null,null,null,null,null,null,null,null,null,null,null,null],\"type\":\"scatter\",\"xaxis\":\"x11\",\"yaxis\":\"y11\"},{\"mode\":\"lines+markers\",\"name\":\"Cost of Living Plus Rent Index\",\"x\":[\"2011\",\"2012\",\"2013\",\"2014\",\"2014-mid\",\"2015\",\"2015-mid\",\"2016\",\"2017-mid\",\"2018\",\"2018-mid\",\"2019\",\"2020\",\"2020-mid\",\"2021\",\"2021-mid\",\"2022\",\"2024-mid\"],\"y\":[null,null,null,null,null,null,null,null,null,null,null,null,null,null,null,null,null,null],\"type\":\"scatter\",\"xaxis\":\"x12\",\"yaxis\":\"y12\"},{\"mode\":\"lines+markers\",\"name\":\"Groceries Index\",\"x\":[\"2011\",\"2012\",\"2013\",\"2014\",\"2014-mid\",\"2015\",\"2015-mid\",\"2016\",\"2017-mid\",\"2018\",\"2018-mid\",\"2019\",\"2020\",\"2020-mid\",\"2021\",\"2021-mid\",\"2022\",\"2024-mid\"],\"y\":[null,null,null,null,null,null,null,null,null,null,null,null,null,null,null,null,null,null],\"type\":\"scatter\",\"xaxis\":\"x13\",\"yaxis\":\"y13\"},{\"mode\":\"lines+markers\",\"name\":\"Restaurant Index\",\"x\":[\"2011\",\"2012\",\"2013\",\"2014\",\"2014-mid\",\"2015\",\"2015-mid\",\"2016\",\"2017-mid\",\"2018\",\"2018-mid\",\"2019\",\"2020\",\"2020-mid\",\"2021\",\"2021-mid\",\"2022\",\"2024-mid\"],\"y\":[null,null,null,null,null,null,null,null,null,null,null,null,null,null,null,null,null,null],\"type\":\"scatter\",\"xaxis\":\"x14\",\"yaxis\":\"y14\"},{\"mode\":\"lines+markers\",\"name\":\"Local Purchasing Power Index\",\"x\":[\"2011\",\"2012\",\"2013\",\"2014\",\"2014-mid\",\"2015\",\"2015-mid\",\"2016\",\"2017-mid\",\"2018\",\"2018-mid\",\"2019\",\"2020\",\"2020-mid\",\"2021\",\"2021-mid\",\"2022\",\"2024-mid\"],\"y\":[null,null,null,null,null,null,null,null,null,null,null,null,null,null,null,null,null,null],\"type\":\"scatter\",\"xaxis\":\"x15\",\"yaxis\":\"y15\"}],                        {\"template\":{\"data\":{\"histogram2dcontour\":[{\"type\":\"histogram2dcontour\",\"colorbar\":{\"outlinewidth\":0,\"ticks\":\"\"},\"colorscale\":[[0.0,\"#0d0887\"],[0.1111111111111111,\"#46039f\"],[0.2222222222222222,\"#7201a8\"],[0.3333333333333333,\"#9c179e\"],[0.4444444444444444,\"#bd3786\"],[0.5555555555555556,\"#d8576b\"],[0.6666666666666666,\"#ed7953\"],[0.7777777777777778,\"#fb9f3a\"],[0.8888888888888888,\"#fdca26\"],[1.0,\"#f0f921\"]]}],\"choropleth\":[{\"type\":\"choropleth\",\"colorbar\":{\"outlinewidth\":0,\"ticks\":\"\"}}],\"histogram2d\":[{\"type\":\"histogram2d\",\"colorbar\":{\"outlinewidth\":0,\"ticks\":\"\"},\"colorscale\":[[0.0,\"#0d0887\"],[0.1111111111111111,\"#46039f\"],[0.2222222222222222,\"#7201a8\"],[0.3333333333333333,\"#9c179e\"],[0.4444444444444444,\"#bd3786\"],[0.5555555555555556,\"#d8576b\"],[0.6666666666666666,\"#ed7953\"],[0.7777777777777778,\"#fb9f3a\"],[0.8888888888888888,\"#fdca26\"],[1.0,\"#f0f921\"]]}],\"heatmap\":[{\"type\":\"heatmap\",\"colorbar\":{\"outlinewidth\":0,\"ticks\":\"\"},\"colorscale\":[[0.0,\"#0d0887\"],[0.1111111111111111,\"#46039f\"],[0.2222222222222222,\"#7201a8\"],[0.3333333333333333,\"#9c179e\"],[0.4444444444444444,\"#bd3786\"],[0.5555555555555556,\"#d8576b\"],[0.6666666666666666,\"#ed7953\"],[0.7777777777777778,\"#fb9f3a\"],[0.8888888888888888,\"#fdca26\"],[1.0,\"#f0f921\"]]}],\"heatmapgl\":[{\"type\":\"heatmapgl\",\"colorbar\":{\"outlinewidth\":0,\"ticks\":\"\"},\"colorscale\":[[0.0,\"#0d0887\"],[0.1111111111111111,\"#46039f\"],[0.2222222222222222,\"#7201a8\"],[0.3333333333333333,\"#9c179e\"],[0.4444444444444444,\"#bd3786\"],[0.5555555555555556,\"#d8576b\"],[0.6666666666666666,\"#ed7953\"],[0.7777777777777778,\"#fb9f3a\"],[0.8888888888888888,\"#fdca26\"],[1.0,\"#f0f921\"]]}],\"contourcarpet\":[{\"type\":\"contourcarpet\",\"colorbar\":{\"outlinewidth\":0,\"ticks\":\"\"}}],\"contour\":[{\"type\":\"contour\",\"colorbar\":{\"outlinewidth\":0,\"ticks\":\"\"},\"colorscale\":[[0.0,\"#0d0887\"],[0.1111111111111111,\"#46039f\"],[0.2222222222222222,\"#7201a8\"],[0.3333333333333333,\"#9c179e\"],[0.4444444444444444,\"#bd3786\"],[0.5555555555555556,\"#d8576b\"],[0.6666666666666666,\"#ed7953\"],[0.7777777777777778,\"#fb9f3a\"],[0.8888888888888888,\"#fdca26\"],[1.0,\"#f0f921\"]]}],\"surface\":[{\"type\":\"surface\",\"colorbar\":{\"outlinewidth\":0,\"ticks\":\"\"},\"colorscale\":[[0.0,\"#0d0887\"],[0.1111111111111111,\"#46039f\"],[0.2222222222222222,\"#7201a8\"],[0.3333333333333333,\"#9c179e\"],[0.4444444444444444,\"#bd3786\"],[0.5555555555555556,\"#d8576b\"],[0.6666666666666666,\"#ed7953\"],[0.7777777777777778,\"#fb9f3a\"],[0.8888888888888888,\"#fdca26\"],[1.0,\"#f0f921\"]]}],\"mesh3d\":[{\"type\":\"mesh3d\",\"colorbar\":{\"outlinewidth\":0,\"ticks\":\"\"}}],\"scatter\":[{\"fillpattern\":{\"fillmode\":\"overlay\",\"size\":10,\"solidity\":0.2},\"type\":\"scatter\"}],\"parcoords\":[{\"type\":\"parcoords\",\"line\":{\"colorbar\":{\"outlinewidth\":0,\"ticks\":\"\"}}}],\"scatterpolargl\":[{\"type\":\"scatterpolargl\",\"marker\":{\"colorbar\":{\"outlinewidth\":0,\"ticks\":\"\"}}}],\"bar\":[{\"error_x\":{\"color\":\"#2a3f5f\"},\"error_y\":{\"color\":\"#2a3f5f\"},\"marker\":{\"line\":{\"color\":\"#E5ECF6\",\"width\":0.5},\"pattern\":{\"fillmode\":\"overlay\",\"size\":10,\"solidity\":0.2}},\"type\":\"bar\"}],\"scattergeo\":[{\"type\":\"scattergeo\",\"marker\":{\"colorbar\":{\"outlinewidth\":0,\"ticks\":\"\"}}}],\"scatterpolar\":[{\"type\":\"scatterpolar\",\"marker\":{\"colorbar\":{\"outlinewidth\":0,\"ticks\":\"\"}}}],\"histogram\":[{\"marker\":{\"pattern\":{\"fillmode\":\"overlay\",\"size\":10,\"solidity\":0.2}},\"type\":\"histogram\"}],\"scattergl\":[{\"type\":\"scattergl\",\"marker\":{\"colorbar\":{\"outlinewidth\":0,\"ticks\":\"\"}}}],\"scatter3d\":[{\"type\":\"scatter3d\",\"line\":{\"colorbar\":{\"outlinewidth\":0,\"ticks\":\"\"}},\"marker\":{\"colorbar\":{\"outlinewidth\":0,\"ticks\":\"\"}}}],\"scattermapbox\":[{\"type\":\"scattermapbox\",\"marker\":{\"colorbar\":{\"outlinewidth\":0,\"ticks\":\"\"}}}],\"scatterternary\":[{\"type\":\"scatterternary\",\"marker\":{\"colorbar\":{\"outlinewidth\":0,\"ticks\":\"\"}}}],\"scattercarpet\":[{\"type\":\"scattercarpet\",\"marker\":{\"colorbar\":{\"outlinewidth\":0,\"ticks\":\"\"}}}],\"carpet\":[{\"aaxis\":{\"endlinecolor\":\"#2a3f5f\",\"gridcolor\":\"white\",\"linecolor\":\"white\",\"minorgridcolor\":\"white\",\"startlinecolor\":\"#2a3f5f\"},\"baxis\":{\"endlinecolor\":\"#2a3f5f\",\"gridcolor\":\"white\",\"linecolor\":\"white\",\"minorgridcolor\":\"white\",\"startlinecolor\":\"#2a3f5f\"},\"type\":\"carpet\"}],\"table\":[{\"cells\":{\"fill\":{\"color\":\"#EBF0F8\"},\"line\":{\"color\":\"white\"}},\"header\":{\"fill\":{\"color\":\"#C8D4E3\"},\"line\":{\"color\":\"white\"}},\"type\":\"table\"}],\"barpolar\":[{\"marker\":{\"line\":{\"color\":\"#E5ECF6\",\"width\":0.5},\"pattern\":{\"fillmode\":\"overlay\",\"size\":10,\"solidity\":0.2}},\"type\":\"barpolar\"}],\"pie\":[{\"automargin\":true,\"type\":\"pie\"}]},\"layout\":{\"autotypenumbers\":\"strict\",\"colorway\":[\"#636efa\",\"#EF553B\",\"#00cc96\",\"#ab63fa\",\"#FFA15A\",\"#19d3f3\",\"#FF6692\",\"#B6E880\",\"#FF97FF\",\"#FECB52\"],\"font\":{\"color\":\"#2a3f5f\"},\"hovermode\":\"closest\",\"hoverlabel\":{\"align\":\"left\"},\"paper_bgcolor\":\"white\",\"plot_bgcolor\":\"#E5ECF6\",\"polar\":{\"bgcolor\":\"#E5ECF6\",\"angularaxis\":{\"gridcolor\":\"white\",\"linecolor\":\"white\",\"ticks\":\"\"},\"radialaxis\":{\"gridcolor\":\"white\",\"linecolor\":\"white\",\"ticks\":\"\"}},\"ternary\":{\"bgcolor\":\"#E5ECF6\",\"aaxis\":{\"gridcolor\":\"white\",\"linecolor\":\"white\",\"ticks\":\"\"},\"baxis\":{\"gridcolor\":\"white\",\"linecolor\":\"white\",\"ticks\":\"\"},\"caxis\":{\"gridcolor\":\"white\",\"linecolor\":\"white\",\"ticks\":\"\"}},\"coloraxis\":{\"colorbar\":{\"outlinewidth\":0,\"ticks\":\"\"}},\"colorscale\":{\"sequential\":[[0.0,\"#0d0887\"],[0.1111111111111111,\"#46039f\"],[0.2222222222222222,\"#7201a8\"],[0.3333333333333333,\"#9c179e\"],[0.4444444444444444,\"#bd3786\"],[0.5555555555555556,\"#d8576b\"],[0.6666666666666666,\"#ed7953\"],[0.7777777777777778,\"#fb9f3a\"],[0.8888888888888888,\"#fdca26\"],[1.0,\"#f0f921\"]],\"sequentialminus\":[[0.0,\"#0d0887\"],[0.1111111111111111,\"#46039f\"],[0.2222222222222222,\"#7201a8\"],[0.3333333333333333,\"#9c179e\"],[0.4444444444444444,\"#bd3786\"],[0.5555555555555556,\"#d8576b\"],[0.6666666666666666,\"#ed7953\"],[0.7777777777777778,\"#fb9f3a\"],[0.8888888888888888,\"#fdca26\"],[1.0,\"#f0f921\"]],\"diverging\":[[0,\"#8e0152\"],[0.1,\"#c51b7d\"],[0.2,\"#de77ae\"],[0.3,\"#f1b6da\"],[0.4,\"#fde0ef\"],[0.5,\"#f7f7f7\"],[0.6,\"#e6f5d0\"],[0.7,\"#b8e186\"],[0.8,\"#7fbc41\"],[0.9,\"#4d9221\"],[1,\"#276419\"]]},\"xaxis\":{\"gridcolor\":\"white\",\"linecolor\":\"white\",\"ticks\":\"\",\"title\":{\"standoff\":15},\"zerolinecolor\":\"white\",\"automargin\":true,\"zerolinewidth\":2},\"yaxis\":{\"gridcolor\":\"white\",\"linecolor\":\"white\",\"ticks\":\"\",\"title\":{\"standoff\":15},\"zerolinecolor\":\"white\",\"automargin\":true,\"zerolinewidth\":2},\"scene\":{\"xaxis\":{\"backgroundcolor\":\"#E5ECF6\",\"gridcolor\":\"white\",\"linecolor\":\"white\",\"showbackground\":true,\"ticks\":\"\",\"zerolinecolor\":\"white\",\"gridwidth\":2},\"yaxis\":{\"backgroundcolor\":\"#E5ECF6\",\"gridcolor\":\"white\",\"linecolor\":\"white\",\"showbackground\":true,\"ticks\":\"\",\"zerolinecolor\":\"white\",\"gridwidth\":2},\"zaxis\":{\"backgroundcolor\":\"#E5ECF6\",\"gridcolor\":\"white\",\"linecolor\":\"white\",\"showbackground\":true,\"ticks\":\"\",\"zerolinecolor\":\"white\",\"gridwidth\":2}},\"shapedefaults\":{\"line\":{\"color\":\"#2a3f5f\"}},\"annotationdefaults\":{\"arrowcolor\":\"#2a3f5f\",\"arrowhead\":0,\"arrowwidth\":1},\"geo\":{\"bgcolor\":\"white\",\"landcolor\":\"#E5ECF6\",\"subunitcolor\":\"white\",\"showland\":true,\"showlakes\":true,\"lakecolor\":\"white\"},\"title\":{\"x\":0.05},\"mapbox\":{\"style\":\"light\"}}},\"xaxis\":{\"anchor\":\"y\",\"domain\":[0.0,0.2125],\"title\":{\"text\":\"Year\"}},\"yaxis\":{\"anchor\":\"x\",\"domain\":[0.84375,1.0],\"title\":{\"text\":\"Price to Income Ratio\"}},\"xaxis2\":{\"anchor\":\"y2\",\"domain\":[0.2625,0.475],\"title\":{\"text\":\"Year\"}},\"yaxis2\":{\"anchor\":\"x2\",\"domain\":[0.84375,1.0],\"title\":{\"text\":\"Gross Rental Yield City Centre\"}},\"xaxis3\":{\"anchor\":\"y3\",\"domain\":[0.525,0.7375],\"title\":{\"text\":\"Year\"}},\"yaxis3\":{\"anchor\":\"x3\",\"domain\":[0.84375,1.0],\"title\":{\"text\":\"Gross Rental Yield Outside Centre\"}},\"xaxis4\":{\"anchor\":\"y4\",\"domain\":[0.7875,1.0],\"title\":{\"text\":\"Year\"}},\"yaxis4\":{\"anchor\":\"x4\",\"domain\":[0.84375,1.0],\"title\":{\"text\":\"Price to Rent Ratio City Centre\"}},\"xaxis5\":{\"anchor\":\"y5\",\"domain\":[0.0,0.2125],\"title\":{\"text\":\"Year\"}},\"yaxis5\":{\"anchor\":\"x5\",\"domain\":[0.5625,0.71875],\"title\":{\"text\":\"Price to Rent Ratio Outside City Centre\"}},\"xaxis6\":{\"anchor\":\"y6\",\"domain\":[0.2625,0.475],\"title\":{\"text\":\"Year\"}},\"yaxis6\":{\"anchor\":\"x6\",\"domain\":[0.5625,0.71875],\"title\":{\"text\":\"Mortgage as a Percentage of Income\"}},\"xaxis7\":{\"anchor\":\"y7\",\"domain\":[0.525,0.7375],\"title\":{\"text\":\"Year\"}},\"yaxis7\":{\"anchor\":\"x7\",\"domain\":[0.5625,0.71875],\"title\":{\"text\":\"Affordability Index\"}},\"xaxis8\":{\"anchor\":\"y8\",\"domain\":[0.7875,1.0],\"title\":{\"text\":\"Year\"}},\"yaxis8\":{\"anchor\":\"x8\",\"domain\":[0.5625,0.71875],\"title\":{\"text\":\"Crime Index\"}},\"xaxis9\":{\"anchor\":\"y9\",\"domain\":[0.0,0.2125],\"title\":{\"text\":\"Year\"}},\"yaxis9\":{\"anchor\":\"x9\",\"domain\":[0.28125,0.4375],\"title\":{\"text\":\"Safety Index\"}},\"xaxis10\":{\"anchor\":\"y10\",\"domain\":[0.2625,0.475],\"title\":{\"text\":\"Year\"}},\"yaxis10\":{\"anchor\":\"x10\",\"domain\":[0.28125,0.4375],\"title\":{\"text\":\"Cost of Living Index\"}},\"xaxis11\":{\"anchor\":\"y11\",\"domain\":[0.525,0.7375],\"title\":{\"text\":\"Year\"}},\"yaxis11\":{\"anchor\":\"x11\",\"domain\":[0.28125,0.4375],\"title\":{\"text\":\"Rent Index\"}},\"xaxis12\":{\"anchor\":\"y12\",\"domain\":[0.7875,1.0],\"title\":{\"text\":\"Year\"}},\"yaxis12\":{\"anchor\":\"x12\",\"domain\":[0.28125,0.4375],\"title\":{\"text\":\"Cost of Living Plus Rent Index\"}},\"xaxis13\":{\"anchor\":\"y13\",\"domain\":[0.0,0.2125],\"title\":{\"text\":\"Year\"}},\"yaxis13\":{\"anchor\":\"x13\",\"domain\":[0.0,0.15625],\"title\":{\"text\":\"Groceries Index\"}},\"xaxis14\":{\"anchor\":\"y14\",\"domain\":[0.2625,0.475],\"title\":{\"text\":\"Year\"}},\"yaxis14\":{\"anchor\":\"x14\",\"domain\":[0.0,0.15625],\"title\":{\"text\":\"Restaurant Index\"}},\"xaxis15\":{\"anchor\":\"y15\",\"domain\":[0.525,0.7375],\"title\":{\"text\":\"Year\"}},\"yaxis15\":{\"anchor\":\"x15\",\"domain\":[0.0,0.15625],\"title\":{\"text\":\"Local Purchasing Power Index\"}},\"xaxis16\":{\"anchor\":\"y16\",\"domain\":[0.7875,1.0]},\"yaxis16\":{\"anchor\":\"x16\",\"domain\":[0.0,0.15625]},\"annotations\":[{\"font\":{\"size\":16},\"showarrow\":false,\"text\":\"Price to Income Ratio\",\"x\":0.10625,\"xanchor\":\"center\",\"xref\":\"paper\",\"y\":1.0,\"yanchor\":\"bottom\",\"yref\":\"paper\"},{\"font\":{\"size\":16},\"showarrow\":false,\"text\":\"Gross Rental Yield City Centre\",\"x\":0.36875,\"xanchor\":\"center\",\"xref\":\"paper\",\"y\":1.0,\"yanchor\":\"bottom\",\"yref\":\"paper\"},{\"font\":{\"size\":16},\"showarrow\":false,\"text\":\"Gross Rental Yield Outside Centre\",\"x\":0.6312500000000001,\"xanchor\":\"center\",\"xref\":\"paper\",\"y\":1.0,\"yanchor\":\"bottom\",\"yref\":\"paper\"},{\"font\":{\"size\":16},\"showarrow\":false,\"text\":\"Price to Rent Ratio City Centre\",\"x\":0.89375,\"xanchor\":\"center\",\"xref\":\"paper\",\"y\":1.0,\"yanchor\":\"bottom\",\"yref\":\"paper\"},{\"font\":{\"size\":16},\"showarrow\":false,\"text\":\"Price to Rent Ratio Outside City Centre\",\"x\":0.10625,\"xanchor\":\"center\",\"xref\":\"paper\",\"y\":0.71875,\"yanchor\":\"bottom\",\"yref\":\"paper\"},{\"font\":{\"size\":16},\"showarrow\":false,\"text\":\"Mortgage as a Percentage of Income\",\"x\":0.36875,\"xanchor\":\"center\",\"xref\":\"paper\",\"y\":0.71875,\"yanchor\":\"bottom\",\"yref\":\"paper\"},{\"font\":{\"size\":16},\"showarrow\":false,\"text\":\"Affordability Index\",\"x\":0.6312500000000001,\"xanchor\":\"center\",\"xref\":\"paper\",\"y\":0.71875,\"yanchor\":\"bottom\",\"yref\":\"paper\"},{\"font\":{\"size\":16},\"showarrow\":false,\"text\":\"Crime Index\",\"x\":0.89375,\"xanchor\":\"center\",\"xref\":\"paper\",\"y\":0.71875,\"yanchor\":\"bottom\",\"yref\":\"paper\"},{\"font\":{\"size\":16},\"showarrow\":false,\"text\":\"Safety Index\",\"x\":0.10625,\"xanchor\":\"center\",\"xref\":\"paper\",\"y\":0.4375,\"yanchor\":\"bottom\",\"yref\":\"paper\"},{\"font\":{\"size\":16},\"showarrow\":false,\"text\":\"Cost of Living Index\",\"x\":0.36875,\"xanchor\":\"center\",\"xref\":\"paper\",\"y\":0.4375,\"yanchor\":\"bottom\",\"yref\":\"paper\"},{\"font\":{\"size\":16},\"showarrow\":false,\"text\":\"Rent Index\",\"x\":0.6312500000000001,\"xanchor\":\"center\",\"xref\":\"paper\",\"y\":0.4375,\"yanchor\":\"bottom\",\"yref\":\"paper\"},{\"font\":{\"size\":16},\"showarrow\":false,\"text\":\"Cost of Living Plus Rent Index\",\"x\":0.89375,\"xanchor\":\"center\",\"xref\":\"paper\",\"y\":0.4375,\"yanchor\":\"bottom\",\"yref\":\"paper\"},{\"font\":{\"size\":16},\"showarrow\":false,\"text\":\"Groceries Index\",\"x\":0.10625,\"xanchor\":\"center\",\"xref\":\"paper\",\"y\":0.15625,\"yanchor\":\"bottom\",\"yref\":\"paper\"},{\"font\":{\"size\":16},\"showarrow\":false,\"text\":\"Restaurant Index\",\"x\":0.36875,\"xanchor\":\"center\",\"xref\":\"paper\",\"y\":0.15625,\"yanchor\":\"bottom\",\"yref\":\"paper\"},{\"font\":{\"size\":16},\"showarrow\":false,\"text\":\"Local Purchasing Power Index\",\"x\":0.6312500000000001,\"xanchor\":\"center\",\"xref\":\"paper\",\"y\":0.15625,\"yanchor\":\"bottom\",\"yref\":\"paper\"}],\"title\":{\"text\":\"Memphis, TN, United States\"},\"height\":1500,\"width\":1500},                        {\"responsive\": true}                    ).then(function(){\n",
       "                            \n",
       "var gd = document.getElementById('b230a28e-f912-49ff-bb94-a3ef3a558350');\n",
       "var x = new MutationObserver(function (mutations, observer) {{\n",
       "        var display = window.getComputedStyle(gd).display;\n",
       "        if (!display || display === 'none') {{\n",
       "            console.log([gd, 'removed!']);\n",
       "            Plotly.purge(gd);\n",
       "            observer.disconnect();\n",
       "        }}\n",
       "}});\n",
       "\n",
       "// Listen for the removal of the full notebook cells\n",
       "var notebookContainer = gd.closest('#notebook-container');\n",
       "if (notebookContainer) {{\n",
       "    x.observe(notebookContainer, {childList: true});\n",
       "}}\n",
       "\n",
       "// Listen for the clearing of the current output cell\n",
       "var outputEl = gd.closest('.output');\n",
       "if (outputEl) {{\n",
       "    x.observe(outputEl, {childList: true});\n",
       "}}\n",
       "\n",
       "                        })                };                });            </script>        </div>"
      ]
     },
     "metadata": {},
     "output_type": "display_data"
    },
    {
     "data": {
      "application/vnd.plotly.v1+json": {
       "config": {
        "plotlyServerURL": "https://plot.ly"
       },
       "data": [
        {
         "mode": "lines+markers",
         "name": "Price to Income Ratio",
         "type": "scatter",
         "x": [
          "2011",
          "2012",
          "2013",
          "2014",
          "2014-mid",
          "2015",
          "2015-mid",
          "2016",
          "2017",
          "2017-mid",
          "2018",
          "2018-mid",
          "2019",
          "2019-mid",
          "2020",
          "2020-mid",
          "2021",
          "2021-mid",
          "2022",
          "2024-mid"
         ],
         "xaxis": "x",
         "y": [
          2,
          2,
          1.6,
          2,
          2,
          2.2,
          2.5,
          2.1,
          2,
          2.1,
          2.2,
          2.9,
          3,
          2.8,
          2.8,
          2.8,
          3.3,
          2.3,
          2.5,
          2
         ],
         "yaxis": "y"
        },
        {
         "mode": "lines+markers",
         "name": "Gross Rental Yield City Centre",
         "type": "scatter",
         "x": [
          "2011",
          "2012",
          "2013",
          "2014",
          "2014-mid",
          "2015",
          "2015-mid",
          "2016",
          "2017",
          "2017-mid",
          "2018",
          "2018-mid",
          "2019",
          "2019-mid",
          "2020",
          "2020-mid",
          "2021",
          "2021-mid",
          "2022",
          "2024-mid"
         ],
         "xaxis": "x2",
         "y": [
          15.3,
          13,
          11.2,
          12,
          13.6,
          15.6,
          15.5,
          13.8,
          14.5,
          12,
          13.3,
          12.7,
          13.1,
          12.9,
          12.2,
          11.4,
          9.9,
          9.9,
          10.7,
          20
         ],
         "yaxis": "y2"
        },
        {
         "mode": "lines+markers",
         "name": "Gross Rental Yield Outside Centre",
         "type": "scatter",
         "x": [
          "2011",
          "2012",
          "2013",
          "2014",
          "2014-mid",
          "2015",
          "2015-mid",
          "2016",
          "2017",
          "2017-mid",
          "2018",
          "2018-mid",
          "2019",
          "2019-mid",
          "2020",
          "2020-mid",
          "2021",
          "2021-mid",
          "2022",
          "2024-mid"
         ],
         "xaxis": "x3",
         "y": [
          19.8,
          21.2,
          20.1,
          19.3,
          15.1,
          13.1,
          13.8,
          17.3,
          22.8,
          15.7,
          16.6,
          18.6,
          15.4,
          17,
          16.8,
          16,
          17.6,
          19.2,
          19.9,
          16.8
         ],
         "yaxis": "y3"
        },
        {
         "mode": "lines+markers",
         "name": "Price to Rent Ratio City Centre",
         "type": "scatter",
         "x": [
          "2011",
          "2012",
          "2013",
          "2014",
          "2014-mid",
          "2015",
          "2015-mid",
          "2016",
          "2017",
          "2017-mid",
          "2018",
          "2018-mid",
          "2019",
          "2019-mid",
          "2020",
          "2020-mid",
          "2021",
          "2021-mid",
          "2022",
          "2024-mid"
         ],
         "xaxis": "x4",
         "y": [
          6.6,
          7.7,
          8.9,
          8.3,
          7.3,
          6.4,
          6.5,
          7.3,
          6.9,
          8.4,
          7.5,
          7.9,
          7.6,
          7.8,
          8.2,
          8.8,
          10.1,
          10.1,
          9.3,
          5
         ],
         "yaxis": "y4"
        },
        {
         "mode": "lines+markers",
         "name": "Price to Rent Ratio Outside City Centre",
         "type": "scatter",
         "x": [
          "2011",
          "2012",
          "2013",
          "2014",
          "2014-mid",
          "2015",
          "2015-mid",
          "2016",
          "2017",
          "2017-mid",
          "2018",
          "2018-mid",
          "2019",
          "2019-mid",
          "2020",
          "2020-mid",
          "2021",
          "2021-mid",
          "2022",
          "2024-mid"
         ],
         "xaxis": "x5",
         "y": [
          5,
          4.7,
          5,
          5.2,
          6.6,
          7.6,
          7.3,
          5.8,
          4.4,
          6.4,
          6,
          5.4,
          6.5,
          5.9,
          6,
          6.2,
          5.7,
          5.2,
          5,
          6
         ],
         "yaxis": "y5"
        },
        {
         "mode": "lines+markers",
         "name": "Mortgage as a Percentage of Income",
         "type": "scatter",
         "x": [
          "2011",
          "2012",
          "2013",
          "2014",
          "2014-mid",
          "2015",
          "2015-mid",
          "2016",
          "2017",
          "2017-mid",
          "2018",
          "2018-mid",
          "2019",
          "2019-mid",
          "2020",
          "2020-mid",
          "2021",
          "2021-mid",
          "2022",
          "2024-mid"
         ],
         "xaxis": "x6",
         "y": [
          "16.3",
          "15.7",
          "12.4",
          "17.0",
          "16.1",
          "16.0",
          "19.0",
          "15.3",
          "13.9",
          "15.2",
          "15.7",
          "21.2",
          "21.9",
          "21.0",
          "20.8",
          "21.0",
          "23.9",
          "16.2",
          "16.9",
          "17.8"
         ],
         "yaxis": "y6"
        },
        {
         "mode": "lines+markers",
         "name": "Affordability Index",
         "type": "scatter",
         "x": [
          "2011",
          "2012",
          "2013",
          "2014",
          "2014-mid",
          "2015",
          "2015-mid",
          "2016",
          "2017",
          "2017-mid",
          "2018",
          "2018-mid",
          "2019",
          "2019-mid",
          "2020",
          "2020-mid",
          "2021",
          "2021-mid",
          "2022",
          "2024-mid"
         ],
         "xaxis": "x7",
         "y": [
          "6.1",
          "6.4",
          "8.1",
          "5.9",
          "6.2",
          "6.2",
          "5.3",
          "6.5",
          "7.2",
          "6.6",
          "6.4",
          "4.7",
          "4.6",
          "4.8",
          "4.8",
          "4.8",
          "4.2",
          "6.2",
          "5.9",
          "5.6"
         ],
         "yaxis": "y7"
        },
        {
         "mode": "lines+markers",
         "name": "Crime Index",
         "type": "scatter",
         "x": [
          "2011",
          "2012",
          "2013",
          "2014",
          "2014-mid",
          "2015",
          "2015-mid",
          "2016",
          "2017",
          "2017-mid",
          "2018",
          "2018-mid",
          "2019",
          "2019-mid",
          "2020",
          "2020-mid",
          "2021",
          "2021-mid",
          "2022",
          "2024-mid"
         ],
         "xaxis": "x8",
         "y": [
          null,
          null,
          null,
          52.9,
          55.6,
          62.4,
          60.4,
          56.5,
          63.8,
          65,
          63.3,
          64.7,
          65.3,
          66.1,
          65.6,
          67.2,
          68.5,
          67.2,
          66.9,
          67.6
         ],
         "yaxis": "y8"
        },
        {
         "mode": "lines+markers",
         "name": "Safety Index",
         "type": "scatter",
         "x": [
          "2011",
          "2012",
          "2013",
          "2014",
          "2014-mid",
          "2015",
          "2015-mid",
          "2016",
          "2017",
          "2017-mid",
          "2018",
          "2018-mid",
          "2019",
          "2019-mid",
          "2020",
          "2020-mid",
          "2021",
          "2021-mid",
          "2022",
          "2024-mid"
         ],
         "xaxis": "x9",
         "y": [
          null,
          null,
          null,
          47.1,
          44.4,
          37.6,
          39.6,
          43.5,
          36.2,
          35,
          36.7,
          35.3,
          34.7,
          33.9,
          34.4,
          32.8,
          31.5,
          32.8,
          33.1,
          32.4
         ],
         "yaxis": "y9"
        },
        {
         "mode": "lines+markers",
         "name": "Cost of Living Index",
         "type": "scatter",
         "x": [
          "2011",
          "2012",
          "2013",
          "2014",
          "2014-mid",
          "2015",
          "2015-mid",
          "2016",
          "2017",
          "2017-mid",
          "2018",
          "2018-mid",
          "2019",
          "2019-mid",
          "2020",
          "2020-mid",
          "2021",
          "2021-mid",
          "2022",
          "2024-mid"
         ],
         "xaxis": "x10",
         "y": [
          null,
          null,
          null,
          null,
          null,
          null,
          null,
          null,
          null,
          null,
          null,
          null,
          null,
          null,
          null,
          78.6,
          null,
          null,
          null,
          null
         ],
         "yaxis": "y10"
        },
        {
         "mode": "lines+markers",
         "name": "Rent Index",
         "type": "scatter",
         "x": [
          "2011",
          "2012",
          "2013",
          "2014",
          "2014-mid",
          "2015",
          "2015-mid",
          "2016",
          "2017",
          "2017-mid",
          "2018",
          "2018-mid",
          "2019",
          "2019-mid",
          "2020",
          "2020-mid",
          "2021",
          "2021-mid",
          "2022",
          "2024-mid"
         ],
         "xaxis": "x11",
         "y": [
          null,
          null,
          null,
          null,
          null,
          null,
          null,
          null,
          null,
          null,
          null,
          null,
          null,
          null,
          null,
          34,
          null,
          null,
          null,
          null
         ],
         "yaxis": "y11"
        },
        {
         "mode": "lines+markers",
         "name": "Cost of Living Plus Rent Index",
         "type": "scatter",
         "x": [
          "2011",
          "2012",
          "2013",
          "2014",
          "2014-mid",
          "2015",
          "2015-mid",
          "2016",
          "2017",
          "2017-mid",
          "2018",
          "2018-mid",
          "2019",
          "2019-mid",
          "2020",
          "2020-mid",
          "2021",
          "2021-mid",
          "2022",
          "2024-mid"
         ],
         "xaxis": "x12",
         "y": [
          null,
          null,
          null,
          null,
          null,
          null,
          null,
          null,
          null,
          null,
          null,
          null,
          null,
          null,
          null,
          56.9,
          null,
          null,
          null,
          null
         ],
         "yaxis": "y12"
        },
        {
         "mode": "lines+markers",
         "name": "Groceries Index",
         "type": "scatter",
         "x": [
          "2011",
          "2012",
          "2013",
          "2014",
          "2014-mid",
          "2015",
          "2015-mid",
          "2016",
          "2017",
          "2017-mid",
          "2018",
          "2018-mid",
          "2019",
          "2019-mid",
          "2020",
          "2020-mid",
          "2021",
          "2021-mid",
          "2022",
          "2024-mid"
         ],
         "xaxis": "x13",
         "y": [
          null,
          null,
          null,
          null,
          null,
          null,
          null,
          null,
          null,
          null,
          null,
          null,
          null,
          null,
          null,
          79.6,
          null,
          null,
          null,
          null
         ],
         "yaxis": "y13"
        },
        {
         "mode": "lines+markers",
         "name": "Restaurant Index",
         "type": "scatter",
         "x": [
          "2011",
          "2012",
          "2013",
          "2014",
          "2014-mid",
          "2015",
          "2015-mid",
          "2016",
          "2017",
          "2017-mid",
          "2018",
          "2018-mid",
          "2019",
          "2019-mid",
          "2020",
          "2020-mid",
          "2021",
          "2021-mid",
          "2022",
          "2024-mid"
         ],
         "xaxis": "x14",
         "y": [
          null,
          null,
          null,
          null,
          null,
          null,
          null,
          null,
          null,
          null,
          null,
          null,
          null,
          null,
          null,
          69.6,
          null,
          null,
          null,
          null
         ],
         "yaxis": "y14"
        },
        {
         "mode": "lines+markers",
         "name": "Local Purchasing Power Index",
         "type": "scatter",
         "x": [
          "2011",
          "2012",
          "2013",
          "2014",
          "2014-mid",
          "2015",
          "2015-mid",
          "2016",
          "2017",
          "2017-mid",
          "2018",
          "2018-mid",
          "2019",
          "2019-mid",
          "2020",
          "2020-mid",
          "2021",
          "2021-mid",
          "2022",
          "2024-mid"
         ],
         "xaxis": "x15",
         "y": [
          null,
          null,
          null,
          null,
          null,
          null,
          null,
          null,
          null,
          null,
          null,
          null,
          null,
          null,
          null,
          88.1,
          null,
          null,
          null,
          null
         ],
         "yaxis": "y15"
        }
       ],
       "layout": {
        "annotations": [
         {
          "font": {
           "size": 16
          },
          "showarrow": false,
          "text": "Price to Income Ratio",
          "x": 0.10625,
          "xanchor": "center",
          "xref": "paper",
          "y": 1,
          "yanchor": "bottom",
          "yref": "paper"
         },
         {
          "font": {
           "size": 16
          },
          "showarrow": false,
          "text": "Gross Rental Yield City Centre",
          "x": 0.36875,
          "xanchor": "center",
          "xref": "paper",
          "y": 1,
          "yanchor": "bottom",
          "yref": "paper"
         },
         {
          "font": {
           "size": 16
          },
          "showarrow": false,
          "text": "Gross Rental Yield Outside Centre",
          "x": 0.6312500000000001,
          "xanchor": "center",
          "xref": "paper",
          "y": 1,
          "yanchor": "bottom",
          "yref": "paper"
         },
         {
          "font": {
           "size": 16
          },
          "showarrow": false,
          "text": "Price to Rent Ratio City Centre",
          "x": 0.89375,
          "xanchor": "center",
          "xref": "paper",
          "y": 1,
          "yanchor": "bottom",
          "yref": "paper"
         },
         {
          "font": {
           "size": 16
          },
          "showarrow": false,
          "text": "Price to Rent Ratio Outside City Centre",
          "x": 0.10625,
          "xanchor": "center",
          "xref": "paper",
          "y": 0.71875,
          "yanchor": "bottom",
          "yref": "paper"
         },
         {
          "font": {
           "size": 16
          },
          "showarrow": false,
          "text": "Mortgage as a Percentage of Income",
          "x": 0.36875,
          "xanchor": "center",
          "xref": "paper",
          "y": 0.71875,
          "yanchor": "bottom",
          "yref": "paper"
         },
         {
          "font": {
           "size": 16
          },
          "showarrow": false,
          "text": "Affordability Index",
          "x": 0.6312500000000001,
          "xanchor": "center",
          "xref": "paper",
          "y": 0.71875,
          "yanchor": "bottom",
          "yref": "paper"
         },
         {
          "font": {
           "size": 16
          },
          "showarrow": false,
          "text": "Crime Index",
          "x": 0.89375,
          "xanchor": "center",
          "xref": "paper",
          "y": 0.71875,
          "yanchor": "bottom",
          "yref": "paper"
         },
         {
          "font": {
           "size": 16
          },
          "showarrow": false,
          "text": "Safety Index",
          "x": 0.10625,
          "xanchor": "center",
          "xref": "paper",
          "y": 0.4375,
          "yanchor": "bottom",
          "yref": "paper"
         },
         {
          "font": {
           "size": 16
          },
          "showarrow": false,
          "text": "Cost of Living Index",
          "x": 0.36875,
          "xanchor": "center",
          "xref": "paper",
          "y": 0.4375,
          "yanchor": "bottom",
          "yref": "paper"
         },
         {
          "font": {
           "size": 16
          },
          "showarrow": false,
          "text": "Rent Index",
          "x": 0.6312500000000001,
          "xanchor": "center",
          "xref": "paper",
          "y": 0.4375,
          "yanchor": "bottom",
          "yref": "paper"
         },
         {
          "font": {
           "size": 16
          },
          "showarrow": false,
          "text": "Cost of Living Plus Rent Index",
          "x": 0.89375,
          "xanchor": "center",
          "xref": "paper",
          "y": 0.4375,
          "yanchor": "bottom",
          "yref": "paper"
         },
         {
          "font": {
           "size": 16
          },
          "showarrow": false,
          "text": "Groceries Index",
          "x": 0.10625,
          "xanchor": "center",
          "xref": "paper",
          "y": 0.15625,
          "yanchor": "bottom",
          "yref": "paper"
         },
         {
          "font": {
           "size": 16
          },
          "showarrow": false,
          "text": "Restaurant Index",
          "x": 0.36875,
          "xanchor": "center",
          "xref": "paper",
          "y": 0.15625,
          "yanchor": "bottom",
          "yref": "paper"
         },
         {
          "font": {
           "size": 16
          },
          "showarrow": false,
          "text": "Local Purchasing Power Index",
          "x": 0.6312500000000001,
          "xanchor": "center",
          "xref": "paper",
          "y": 0.15625,
          "yanchor": "bottom",
          "yref": "paper"
         }
        ],
        "height": 1500,
        "template": {
         "data": {
          "bar": [
           {
            "error_x": {
             "color": "#2a3f5f"
            },
            "error_y": {
             "color": "#2a3f5f"
            },
            "marker": {
             "line": {
              "color": "#E5ECF6",
              "width": 0.5
             },
             "pattern": {
              "fillmode": "overlay",
              "size": 10,
              "solidity": 0.2
             }
            },
            "type": "bar"
           }
          ],
          "barpolar": [
           {
            "marker": {
             "line": {
              "color": "#E5ECF6",
              "width": 0.5
             },
             "pattern": {
              "fillmode": "overlay",
              "size": 10,
              "solidity": 0.2
             }
            },
            "type": "barpolar"
           }
          ],
          "carpet": [
           {
            "aaxis": {
             "endlinecolor": "#2a3f5f",
             "gridcolor": "white",
             "linecolor": "white",
             "minorgridcolor": "white",
             "startlinecolor": "#2a3f5f"
            },
            "baxis": {
             "endlinecolor": "#2a3f5f",
             "gridcolor": "white",
             "linecolor": "white",
             "minorgridcolor": "white",
             "startlinecolor": "#2a3f5f"
            },
            "type": "carpet"
           }
          ],
          "choropleth": [
           {
            "colorbar": {
             "outlinewidth": 0,
             "ticks": ""
            },
            "type": "choropleth"
           }
          ],
          "contour": [
           {
            "colorbar": {
             "outlinewidth": 0,
             "ticks": ""
            },
            "colorscale": [
             [
              0,
              "#0d0887"
             ],
             [
              0.1111111111111111,
              "#46039f"
             ],
             [
              0.2222222222222222,
              "#7201a8"
             ],
             [
              0.3333333333333333,
              "#9c179e"
             ],
             [
              0.4444444444444444,
              "#bd3786"
             ],
             [
              0.5555555555555556,
              "#d8576b"
             ],
             [
              0.6666666666666666,
              "#ed7953"
             ],
             [
              0.7777777777777778,
              "#fb9f3a"
             ],
             [
              0.8888888888888888,
              "#fdca26"
             ],
             [
              1,
              "#f0f921"
             ]
            ],
            "type": "contour"
           }
          ],
          "contourcarpet": [
           {
            "colorbar": {
             "outlinewidth": 0,
             "ticks": ""
            },
            "type": "contourcarpet"
           }
          ],
          "heatmap": [
           {
            "colorbar": {
             "outlinewidth": 0,
             "ticks": ""
            },
            "colorscale": [
             [
              0,
              "#0d0887"
             ],
             [
              0.1111111111111111,
              "#46039f"
             ],
             [
              0.2222222222222222,
              "#7201a8"
             ],
             [
              0.3333333333333333,
              "#9c179e"
             ],
             [
              0.4444444444444444,
              "#bd3786"
             ],
             [
              0.5555555555555556,
              "#d8576b"
             ],
             [
              0.6666666666666666,
              "#ed7953"
             ],
             [
              0.7777777777777778,
              "#fb9f3a"
             ],
             [
              0.8888888888888888,
              "#fdca26"
             ],
             [
              1,
              "#f0f921"
             ]
            ],
            "type": "heatmap"
           }
          ],
          "heatmapgl": [
           {
            "colorbar": {
             "outlinewidth": 0,
             "ticks": ""
            },
            "colorscale": [
             [
              0,
              "#0d0887"
             ],
             [
              0.1111111111111111,
              "#46039f"
             ],
             [
              0.2222222222222222,
              "#7201a8"
             ],
             [
              0.3333333333333333,
              "#9c179e"
             ],
             [
              0.4444444444444444,
              "#bd3786"
             ],
             [
              0.5555555555555556,
              "#d8576b"
             ],
             [
              0.6666666666666666,
              "#ed7953"
             ],
             [
              0.7777777777777778,
              "#fb9f3a"
             ],
             [
              0.8888888888888888,
              "#fdca26"
             ],
             [
              1,
              "#f0f921"
             ]
            ],
            "type": "heatmapgl"
           }
          ],
          "histogram": [
           {
            "marker": {
             "pattern": {
              "fillmode": "overlay",
              "size": 10,
              "solidity": 0.2
             }
            },
            "type": "histogram"
           }
          ],
          "histogram2d": [
           {
            "colorbar": {
             "outlinewidth": 0,
             "ticks": ""
            },
            "colorscale": [
             [
              0,
              "#0d0887"
             ],
             [
              0.1111111111111111,
              "#46039f"
             ],
             [
              0.2222222222222222,
              "#7201a8"
             ],
             [
              0.3333333333333333,
              "#9c179e"
             ],
             [
              0.4444444444444444,
              "#bd3786"
             ],
             [
              0.5555555555555556,
              "#d8576b"
             ],
             [
              0.6666666666666666,
              "#ed7953"
             ],
             [
              0.7777777777777778,
              "#fb9f3a"
             ],
             [
              0.8888888888888888,
              "#fdca26"
             ],
             [
              1,
              "#f0f921"
             ]
            ],
            "type": "histogram2d"
           }
          ],
          "histogram2dcontour": [
           {
            "colorbar": {
             "outlinewidth": 0,
             "ticks": ""
            },
            "colorscale": [
             [
              0,
              "#0d0887"
             ],
             [
              0.1111111111111111,
              "#46039f"
             ],
             [
              0.2222222222222222,
              "#7201a8"
             ],
             [
              0.3333333333333333,
              "#9c179e"
             ],
             [
              0.4444444444444444,
              "#bd3786"
             ],
             [
              0.5555555555555556,
              "#d8576b"
             ],
             [
              0.6666666666666666,
              "#ed7953"
             ],
             [
              0.7777777777777778,
              "#fb9f3a"
             ],
             [
              0.8888888888888888,
              "#fdca26"
             ],
             [
              1,
              "#f0f921"
             ]
            ],
            "type": "histogram2dcontour"
           }
          ],
          "mesh3d": [
           {
            "colorbar": {
             "outlinewidth": 0,
             "ticks": ""
            },
            "type": "mesh3d"
           }
          ],
          "parcoords": [
           {
            "line": {
             "colorbar": {
              "outlinewidth": 0,
              "ticks": ""
             }
            },
            "type": "parcoords"
           }
          ],
          "pie": [
           {
            "automargin": true,
            "type": "pie"
           }
          ],
          "scatter": [
           {
            "fillpattern": {
             "fillmode": "overlay",
             "size": 10,
             "solidity": 0.2
            },
            "type": "scatter"
           }
          ],
          "scatter3d": [
           {
            "line": {
             "colorbar": {
              "outlinewidth": 0,
              "ticks": ""
             }
            },
            "marker": {
             "colorbar": {
              "outlinewidth": 0,
              "ticks": ""
             }
            },
            "type": "scatter3d"
           }
          ],
          "scattercarpet": [
           {
            "marker": {
             "colorbar": {
              "outlinewidth": 0,
              "ticks": ""
             }
            },
            "type": "scattercarpet"
           }
          ],
          "scattergeo": [
           {
            "marker": {
             "colorbar": {
              "outlinewidth": 0,
              "ticks": ""
             }
            },
            "type": "scattergeo"
           }
          ],
          "scattergl": [
           {
            "marker": {
             "colorbar": {
              "outlinewidth": 0,
              "ticks": ""
             }
            },
            "type": "scattergl"
           }
          ],
          "scattermapbox": [
           {
            "marker": {
             "colorbar": {
              "outlinewidth": 0,
              "ticks": ""
             }
            },
            "type": "scattermapbox"
           }
          ],
          "scatterpolar": [
           {
            "marker": {
             "colorbar": {
              "outlinewidth": 0,
              "ticks": ""
             }
            },
            "type": "scatterpolar"
           }
          ],
          "scatterpolargl": [
           {
            "marker": {
             "colorbar": {
              "outlinewidth": 0,
              "ticks": ""
             }
            },
            "type": "scatterpolargl"
           }
          ],
          "scatterternary": [
           {
            "marker": {
             "colorbar": {
              "outlinewidth": 0,
              "ticks": ""
             }
            },
            "type": "scatterternary"
           }
          ],
          "surface": [
           {
            "colorbar": {
             "outlinewidth": 0,
             "ticks": ""
            },
            "colorscale": [
             [
              0,
              "#0d0887"
             ],
             [
              0.1111111111111111,
              "#46039f"
             ],
             [
              0.2222222222222222,
              "#7201a8"
             ],
             [
              0.3333333333333333,
              "#9c179e"
             ],
             [
              0.4444444444444444,
              "#bd3786"
             ],
             [
              0.5555555555555556,
              "#d8576b"
             ],
             [
              0.6666666666666666,
              "#ed7953"
             ],
             [
              0.7777777777777778,
              "#fb9f3a"
             ],
             [
              0.8888888888888888,
              "#fdca26"
             ],
             [
              1,
              "#f0f921"
             ]
            ],
            "type": "surface"
           }
          ],
          "table": [
           {
            "cells": {
             "fill": {
              "color": "#EBF0F8"
             },
             "line": {
              "color": "white"
             }
            },
            "header": {
             "fill": {
              "color": "#C8D4E3"
             },
             "line": {
              "color": "white"
             }
            },
            "type": "table"
           }
          ]
         },
         "layout": {
          "annotationdefaults": {
           "arrowcolor": "#2a3f5f",
           "arrowhead": 0,
           "arrowwidth": 1
          },
          "autotypenumbers": "strict",
          "coloraxis": {
           "colorbar": {
            "outlinewidth": 0,
            "ticks": ""
           }
          },
          "colorscale": {
           "diverging": [
            [
             0,
             "#8e0152"
            ],
            [
             0.1,
             "#c51b7d"
            ],
            [
             0.2,
             "#de77ae"
            ],
            [
             0.3,
             "#f1b6da"
            ],
            [
             0.4,
             "#fde0ef"
            ],
            [
             0.5,
             "#f7f7f7"
            ],
            [
             0.6,
             "#e6f5d0"
            ],
            [
             0.7,
             "#b8e186"
            ],
            [
             0.8,
             "#7fbc41"
            ],
            [
             0.9,
             "#4d9221"
            ],
            [
             1,
             "#276419"
            ]
           ],
           "sequential": [
            [
             0,
             "#0d0887"
            ],
            [
             0.1111111111111111,
             "#46039f"
            ],
            [
             0.2222222222222222,
             "#7201a8"
            ],
            [
             0.3333333333333333,
             "#9c179e"
            ],
            [
             0.4444444444444444,
             "#bd3786"
            ],
            [
             0.5555555555555556,
             "#d8576b"
            ],
            [
             0.6666666666666666,
             "#ed7953"
            ],
            [
             0.7777777777777778,
             "#fb9f3a"
            ],
            [
             0.8888888888888888,
             "#fdca26"
            ],
            [
             1,
             "#f0f921"
            ]
           ],
           "sequentialminus": [
            [
             0,
             "#0d0887"
            ],
            [
             0.1111111111111111,
             "#46039f"
            ],
            [
             0.2222222222222222,
             "#7201a8"
            ],
            [
             0.3333333333333333,
             "#9c179e"
            ],
            [
             0.4444444444444444,
             "#bd3786"
            ],
            [
             0.5555555555555556,
             "#d8576b"
            ],
            [
             0.6666666666666666,
             "#ed7953"
            ],
            [
             0.7777777777777778,
             "#fb9f3a"
            ],
            [
             0.8888888888888888,
             "#fdca26"
            ],
            [
             1,
             "#f0f921"
            ]
           ]
          },
          "colorway": [
           "#636efa",
           "#EF553B",
           "#00cc96",
           "#ab63fa",
           "#FFA15A",
           "#19d3f3",
           "#FF6692",
           "#B6E880",
           "#FF97FF",
           "#FECB52"
          ],
          "font": {
           "color": "#2a3f5f"
          },
          "geo": {
           "bgcolor": "white",
           "lakecolor": "white",
           "landcolor": "#E5ECF6",
           "showlakes": true,
           "showland": true,
           "subunitcolor": "white"
          },
          "hoverlabel": {
           "align": "left"
          },
          "hovermode": "closest",
          "mapbox": {
           "style": "light"
          },
          "paper_bgcolor": "white",
          "plot_bgcolor": "#E5ECF6",
          "polar": {
           "angularaxis": {
            "gridcolor": "white",
            "linecolor": "white",
            "ticks": ""
           },
           "bgcolor": "#E5ECF6",
           "radialaxis": {
            "gridcolor": "white",
            "linecolor": "white",
            "ticks": ""
           }
          },
          "scene": {
           "xaxis": {
            "backgroundcolor": "#E5ECF6",
            "gridcolor": "white",
            "gridwidth": 2,
            "linecolor": "white",
            "showbackground": true,
            "ticks": "",
            "zerolinecolor": "white"
           },
           "yaxis": {
            "backgroundcolor": "#E5ECF6",
            "gridcolor": "white",
            "gridwidth": 2,
            "linecolor": "white",
            "showbackground": true,
            "ticks": "",
            "zerolinecolor": "white"
           },
           "zaxis": {
            "backgroundcolor": "#E5ECF6",
            "gridcolor": "white",
            "gridwidth": 2,
            "linecolor": "white",
            "showbackground": true,
            "ticks": "",
            "zerolinecolor": "white"
           }
          },
          "shapedefaults": {
           "line": {
            "color": "#2a3f5f"
           }
          },
          "ternary": {
           "aaxis": {
            "gridcolor": "white",
            "linecolor": "white",
            "ticks": ""
           },
           "baxis": {
            "gridcolor": "white",
            "linecolor": "white",
            "ticks": ""
           },
           "bgcolor": "#E5ECF6",
           "caxis": {
            "gridcolor": "white",
            "linecolor": "white",
            "ticks": ""
           }
          },
          "title": {
           "x": 0.05
          },
          "xaxis": {
           "automargin": true,
           "gridcolor": "white",
           "linecolor": "white",
           "ticks": "",
           "title": {
            "standoff": 15
           },
           "zerolinecolor": "white",
           "zerolinewidth": 2
          },
          "yaxis": {
           "automargin": true,
           "gridcolor": "white",
           "linecolor": "white",
           "ticks": "",
           "title": {
            "standoff": 15
           },
           "zerolinecolor": "white",
           "zerolinewidth": 2
          }
         }
        },
        "title": {
         "text": "Milwaukee, WI, United States"
        },
        "width": 1500,
        "xaxis": {
         "anchor": "y",
         "domain": [
          0,
          0.2125
         ],
         "title": {
          "text": "Year"
         }
        },
        "xaxis10": {
         "anchor": "y10",
         "domain": [
          0.2625,
          0.475
         ],
         "title": {
          "text": "Year"
         }
        },
        "xaxis11": {
         "anchor": "y11",
         "domain": [
          0.525,
          0.7375
         ],
         "title": {
          "text": "Year"
         }
        },
        "xaxis12": {
         "anchor": "y12",
         "domain": [
          0.7875,
          1
         ],
         "title": {
          "text": "Year"
         }
        },
        "xaxis13": {
         "anchor": "y13",
         "domain": [
          0,
          0.2125
         ],
         "title": {
          "text": "Year"
         }
        },
        "xaxis14": {
         "anchor": "y14",
         "domain": [
          0.2625,
          0.475
         ],
         "title": {
          "text": "Year"
         }
        },
        "xaxis15": {
         "anchor": "y15",
         "domain": [
          0.525,
          0.7375
         ],
         "title": {
          "text": "Year"
         }
        },
        "xaxis16": {
         "anchor": "y16",
         "domain": [
          0.7875,
          1
         ]
        },
        "xaxis2": {
         "anchor": "y2",
         "domain": [
          0.2625,
          0.475
         ],
         "title": {
          "text": "Year"
         }
        },
        "xaxis3": {
         "anchor": "y3",
         "domain": [
          0.525,
          0.7375
         ],
         "title": {
          "text": "Year"
         }
        },
        "xaxis4": {
         "anchor": "y4",
         "domain": [
          0.7875,
          1
         ],
         "title": {
          "text": "Year"
         }
        },
        "xaxis5": {
         "anchor": "y5",
         "domain": [
          0,
          0.2125
         ],
         "title": {
          "text": "Year"
         }
        },
        "xaxis6": {
         "anchor": "y6",
         "domain": [
          0.2625,
          0.475
         ],
         "title": {
          "text": "Year"
         }
        },
        "xaxis7": {
         "anchor": "y7",
         "domain": [
          0.525,
          0.7375
         ],
         "title": {
          "text": "Year"
         }
        },
        "xaxis8": {
         "anchor": "y8",
         "domain": [
          0.7875,
          1
         ],
         "title": {
          "text": "Year"
         }
        },
        "xaxis9": {
         "anchor": "y9",
         "domain": [
          0,
          0.2125
         ],
         "title": {
          "text": "Year"
         }
        },
        "yaxis": {
         "anchor": "x",
         "domain": [
          0.84375,
          1
         ],
         "title": {
          "text": "Price to Income Ratio"
         }
        },
        "yaxis10": {
         "anchor": "x10",
         "domain": [
          0.28125,
          0.4375
         ],
         "title": {
          "text": "Cost of Living Index"
         }
        },
        "yaxis11": {
         "anchor": "x11",
         "domain": [
          0.28125,
          0.4375
         ],
         "title": {
          "text": "Rent Index"
         }
        },
        "yaxis12": {
         "anchor": "x12",
         "domain": [
          0.28125,
          0.4375
         ],
         "title": {
          "text": "Cost of Living Plus Rent Index"
         }
        },
        "yaxis13": {
         "anchor": "x13",
         "domain": [
          0,
          0.15625
         ],
         "title": {
          "text": "Groceries Index"
         }
        },
        "yaxis14": {
         "anchor": "x14",
         "domain": [
          0,
          0.15625
         ],
         "title": {
          "text": "Restaurant Index"
         }
        },
        "yaxis15": {
         "anchor": "x15",
         "domain": [
          0,
          0.15625
         ],
         "title": {
          "text": "Local Purchasing Power Index"
         }
        },
        "yaxis16": {
         "anchor": "x16",
         "domain": [
          0,
          0.15625
         ]
        },
        "yaxis2": {
         "anchor": "x2",
         "domain": [
          0.84375,
          1
         ],
         "title": {
          "text": "Gross Rental Yield City Centre"
         }
        },
        "yaxis3": {
         "anchor": "x3",
         "domain": [
          0.84375,
          1
         ],
         "title": {
          "text": "Gross Rental Yield Outside Centre"
         }
        },
        "yaxis4": {
         "anchor": "x4",
         "domain": [
          0.84375,
          1
         ],
         "title": {
          "text": "Price to Rent Ratio City Centre"
         }
        },
        "yaxis5": {
         "anchor": "x5",
         "domain": [
          0.5625,
          0.71875
         ],
         "title": {
          "text": "Price to Rent Ratio Outside City Centre"
         }
        },
        "yaxis6": {
         "anchor": "x6",
         "domain": [
          0.5625,
          0.71875
         ],
         "title": {
          "text": "Mortgage as a Percentage of Income"
         }
        },
        "yaxis7": {
         "anchor": "x7",
         "domain": [
          0.5625,
          0.71875
         ],
         "title": {
          "text": "Affordability Index"
         }
        },
        "yaxis8": {
         "anchor": "x8",
         "domain": [
          0.5625,
          0.71875
         ],
         "title": {
          "text": "Crime Index"
         }
        },
        "yaxis9": {
         "anchor": "x9",
         "domain": [
          0.28125,
          0.4375
         ],
         "title": {
          "text": "Safety Index"
         }
        }
       }
      },
      "text/html": [
       "<div>                            <div id=\"32ad32ba-55f1-46e1-a3ec-48ec1836fd78\" class=\"plotly-graph-div\" style=\"height:1500px; width:1500px;\"></div>            <script type=\"text/javascript\">                require([\"plotly\"], function(Plotly) {                    window.PLOTLYENV=window.PLOTLYENV || {};                                    if (document.getElementById(\"32ad32ba-55f1-46e1-a3ec-48ec1836fd78\")) {                    Plotly.newPlot(                        \"32ad32ba-55f1-46e1-a3ec-48ec1836fd78\",                        [{\"mode\":\"lines+markers\",\"name\":\"Price to Income Ratio\",\"x\":[\"2011\",\"2012\",\"2013\",\"2014\",\"2014-mid\",\"2015\",\"2015-mid\",\"2016\",\"2017\",\"2017-mid\",\"2018\",\"2018-mid\",\"2019\",\"2019-mid\",\"2020\",\"2020-mid\",\"2021\",\"2021-mid\",\"2022\",\"2024-mid\"],\"y\":[2.0,2.0,1.6,2.0,2.0,2.2,2.5,2.1,2.0,2.1,2.2,2.9,3.0,2.8,2.8,2.8,3.3,2.3,2.5,2.0],\"type\":\"scatter\",\"xaxis\":\"x\",\"yaxis\":\"y\"},{\"mode\":\"lines+markers\",\"name\":\"Gross Rental Yield City Centre\",\"x\":[\"2011\",\"2012\",\"2013\",\"2014\",\"2014-mid\",\"2015\",\"2015-mid\",\"2016\",\"2017\",\"2017-mid\",\"2018\",\"2018-mid\",\"2019\",\"2019-mid\",\"2020\",\"2020-mid\",\"2021\",\"2021-mid\",\"2022\",\"2024-mid\"],\"y\":[15.3,13.0,11.2,12.0,13.6,15.6,15.5,13.8,14.5,12.0,13.3,12.7,13.1,12.9,12.2,11.4,9.9,9.9,10.7,20.0],\"type\":\"scatter\",\"xaxis\":\"x2\",\"yaxis\":\"y2\"},{\"mode\":\"lines+markers\",\"name\":\"Gross Rental Yield Outside Centre\",\"x\":[\"2011\",\"2012\",\"2013\",\"2014\",\"2014-mid\",\"2015\",\"2015-mid\",\"2016\",\"2017\",\"2017-mid\",\"2018\",\"2018-mid\",\"2019\",\"2019-mid\",\"2020\",\"2020-mid\",\"2021\",\"2021-mid\",\"2022\",\"2024-mid\"],\"y\":[19.8,21.2,20.1,19.3,15.1,13.1,13.8,17.3,22.8,15.7,16.6,18.6,15.4,17.0,16.8,16.0,17.6,19.2,19.9,16.8],\"type\":\"scatter\",\"xaxis\":\"x3\",\"yaxis\":\"y3\"},{\"mode\":\"lines+markers\",\"name\":\"Price to Rent Ratio City Centre\",\"x\":[\"2011\",\"2012\",\"2013\",\"2014\",\"2014-mid\",\"2015\",\"2015-mid\",\"2016\",\"2017\",\"2017-mid\",\"2018\",\"2018-mid\",\"2019\",\"2019-mid\",\"2020\",\"2020-mid\",\"2021\",\"2021-mid\",\"2022\",\"2024-mid\"],\"y\":[6.6,7.7,8.9,8.3,7.3,6.4,6.5,7.3,6.9,8.4,7.5,7.9,7.6,7.8,8.2,8.8,10.1,10.1,9.3,5.0],\"type\":\"scatter\",\"xaxis\":\"x4\",\"yaxis\":\"y4\"},{\"mode\":\"lines+markers\",\"name\":\"Price to Rent Ratio Outside City Centre\",\"x\":[\"2011\",\"2012\",\"2013\",\"2014\",\"2014-mid\",\"2015\",\"2015-mid\",\"2016\",\"2017\",\"2017-mid\",\"2018\",\"2018-mid\",\"2019\",\"2019-mid\",\"2020\",\"2020-mid\",\"2021\",\"2021-mid\",\"2022\",\"2024-mid\"],\"y\":[5.0,4.7,5.0,5.2,6.6,7.6,7.3,5.8,4.4,6.4,6.0,5.4,6.5,5.9,6.0,6.2,5.7,5.2,5.0,6.0],\"type\":\"scatter\",\"xaxis\":\"x5\",\"yaxis\":\"y5\"},{\"mode\":\"lines+markers\",\"name\":\"Mortgage as a Percentage of Income\",\"x\":[\"2011\",\"2012\",\"2013\",\"2014\",\"2014-mid\",\"2015\",\"2015-mid\",\"2016\",\"2017\",\"2017-mid\",\"2018\",\"2018-mid\",\"2019\",\"2019-mid\",\"2020\",\"2020-mid\",\"2021\",\"2021-mid\",\"2022\",\"2024-mid\"],\"y\":[\"16.3\",\"15.7\",\"12.4\",\"17.0\",\"16.1\",\"16.0\",\"19.0\",\"15.3\",\"13.9\",\"15.2\",\"15.7\",\"21.2\",\"21.9\",\"21.0\",\"20.8\",\"21.0\",\"23.9\",\"16.2\",\"16.9\",\"17.8\"],\"type\":\"scatter\",\"xaxis\":\"x6\",\"yaxis\":\"y6\"},{\"mode\":\"lines+markers\",\"name\":\"Affordability Index\",\"x\":[\"2011\",\"2012\",\"2013\",\"2014\",\"2014-mid\",\"2015\",\"2015-mid\",\"2016\",\"2017\",\"2017-mid\",\"2018\",\"2018-mid\",\"2019\",\"2019-mid\",\"2020\",\"2020-mid\",\"2021\",\"2021-mid\",\"2022\",\"2024-mid\"],\"y\":[\"6.1\",\"6.4\",\"8.1\",\"5.9\",\"6.2\",\"6.2\",\"5.3\",\"6.5\",\"7.2\",\"6.6\",\"6.4\",\"4.7\",\"4.6\",\"4.8\",\"4.8\",\"4.8\",\"4.2\",\"6.2\",\"5.9\",\"5.6\"],\"type\":\"scatter\",\"xaxis\":\"x7\",\"yaxis\":\"y7\"},{\"mode\":\"lines+markers\",\"name\":\"Crime Index\",\"x\":[\"2011\",\"2012\",\"2013\",\"2014\",\"2014-mid\",\"2015\",\"2015-mid\",\"2016\",\"2017\",\"2017-mid\",\"2018\",\"2018-mid\",\"2019\",\"2019-mid\",\"2020\",\"2020-mid\",\"2021\",\"2021-mid\",\"2022\",\"2024-mid\"],\"y\":[null,null,null,52.9,55.6,62.4,60.4,56.5,63.8,65.0,63.3,64.7,65.3,66.1,65.6,67.2,68.5,67.2,66.9,67.6],\"type\":\"scatter\",\"xaxis\":\"x8\",\"yaxis\":\"y8\"},{\"mode\":\"lines+markers\",\"name\":\"Safety Index\",\"x\":[\"2011\",\"2012\",\"2013\",\"2014\",\"2014-mid\",\"2015\",\"2015-mid\",\"2016\",\"2017\",\"2017-mid\",\"2018\",\"2018-mid\",\"2019\",\"2019-mid\",\"2020\",\"2020-mid\",\"2021\",\"2021-mid\",\"2022\",\"2024-mid\"],\"y\":[null,null,null,47.1,44.4,37.6,39.6,43.5,36.2,35.0,36.7,35.3,34.7,33.9,34.4,32.8,31.5,32.8,33.1,32.4],\"type\":\"scatter\",\"xaxis\":\"x9\",\"yaxis\":\"y9\"},{\"mode\":\"lines+markers\",\"name\":\"Cost of Living Index\",\"x\":[\"2011\",\"2012\",\"2013\",\"2014\",\"2014-mid\",\"2015\",\"2015-mid\",\"2016\",\"2017\",\"2017-mid\",\"2018\",\"2018-mid\",\"2019\",\"2019-mid\",\"2020\",\"2020-mid\",\"2021\",\"2021-mid\",\"2022\",\"2024-mid\"],\"y\":[null,null,null,null,null,null,null,null,null,null,null,null,null,null,null,78.6,null,null,null,null],\"type\":\"scatter\",\"xaxis\":\"x10\",\"yaxis\":\"y10\"},{\"mode\":\"lines+markers\",\"name\":\"Rent Index\",\"x\":[\"2011\",\"2012\",\"2013\",\"2014\",\"2014-mid\",\"2015\",\"2015-mid\",\"2016\",\"2017\",\"2017-mid\",\"2018\",\"2018-mid\",\"2019\",\"2019-mid\",\"2020\",\"2020-mid\",\"2021\",\"2021-mid\",\"2022\",\"2024-mid\"],\"y\":[null,null,null,null,null,null,null,null,null,null,null,null,null,null,null,34.0,null,null,null,null],\"type\":\"scatter\",\"xaxis\":\"x11\",\"yaxis\":\"y11\"},{\"mode\":\"lines+markers\",\"name\":\"Cost of Living Plus Rent Index\",\"x\":[\"2011\",\"2012\",\"2013\",\"2014\",\"2014-mid\",\"2015\",\"2015-mid\",\"2016\",\"2017\",\"2017-mid\",\"2018\",\"2018-mid\",\"2019\",\"2019-mid\",\"2020\",\"2020-mid\",\"2021\",\"2021-mid\",\"2022\",\"2024-mid\"],\"y\":[null,null,null,null,null,null,null,null,null,null,null,null,null,null,null,56.9,null,null,null,null],\"type\":\"scatter\",\"xaxis\":\"x12\",\"yaxis\":\"y12\"},{\"mode\":\"lines+markers\",\"name\":\"Groceries Index\",\"x\":[\"2011\",\"2012\",\"2013\",\"2014\",\"2014-mid\",\"2015\",\"2015-mid\",\"2016\",\"2017\",\"2017-mid\",\"2018\",\"2018-mid\",\"2019\",\"2019-mid\",\"2020\",\"2020-mid\",\"2021\",\"2021-mid\",\"2022\",\"2024-mid\"],\"y\":[null,null,null,null,null,null,null,null,null,null,null,null,null,null,null,79.6,null,null,null,null],\"type\":\"scatter\",\"xaxis\":\"x13\",\"yaxis\":\"y13\"},{\"mode\":\"lines+markers\",\"name\":\"Restaurant Index\",\"x\":[\"2011\",\"2012\",\"2013\",\"2014\",\"2014-mid\",\"2015\",\"2015-mid\",\"2016\",\"2017\",\"2017-mid\",\"2018\",\"2018-mid\",\"2019\",\"2019-mid\",\"2020\",\"2020-mid\",\"2021\",\"2021-mid\",\"2022\",\"2024-mid\"],\"y\":[null,null,null,null,null,null,null,null,null,null,null,null,null,null,null,69.6,null,null,null,null],\"type\":\"scatter\",\"xaxis\":\"x14\",\"yaxis\":\"y14\"},{\"mode\":\"lines+markers\",\"name\":\"Local Purchasing Power Index\",\"x\":[\"2011\",\"2012\",\"2013\",\"2014\",\"2014-mid\",\"2015\",\"2015-mid\",\"2016\",\"2017\",\"2017-mid\",\"2018\",\"2018-mid\",\"2019\",\"2019-mid\",\"2020\",\"2020-mid\",\"2021\",\"2021-mid\",\"2022\",\"2024-mid\"],\"y\":[null,null,null,null,null,null,null,null,null,null,null,null,null,null,null,88.1,null,null,null,null],\"type\":\"scatter\",\"xaxis\":\"x15\",\"yaxis\":\"y15\"}],                        {\"template\":{\"data\":{\"histogram2dcontour\":[{\"type\":\"histogram2dcontour\",\"colorbar\":{\"outlinewidth\":0,\"ticks\":\"\"},\"colorscale\":[[0.0,\"#0d0887\"],[0.1111111111111111,\"#46039f\"],[0.2222222222222222,\"#7201a8\"],[0.3333333333333333,\"#9c179e\"],[0.4444444444444444,\"#bd3786\"],[0.5555555555555556,\"#d8576b\"],[0.6666666666666666,\"#ed7953\"],[0.7777777777777778,\"#fb9f3a\"],[0.8888888888888888,\"#fdca26\"],[1.0,\"#f0f921\"]]}],\"choropleth\":[{\"type\":\"choropleth\",\"colorbar\":{\"outlinewidth\":0,\"ticks\":\"\"}}],\"histogram2d\":[{\"type\":\"histogram2d\",\"colorbar\":{\"outlinewidth\":0,\"ticks\":\"\"},\"colorscale\":[[0.0,\"#0d0887\"],[0.1111111111111111,\"#46039f\"],[0.2222222222222222,\"#7201a8\"],[0.3333333333333333,\"#9c179e\"],[0.4444444444444444,\"#bd3786\"],[0.5555555555555556,\"#d8576b\"],[0.6666666666666666,\"#ed7953\"],[0.7777777777777778,\"#fb9f3a\"],[0.8888888888888888,\"#fdca26\"],[1.0,\"#f0f921\"]]}],\"heatmap\":[{\"type\":\"heatmap\",\"colorbar\":{\"outlinewidth\":0,\"ticks\":\"\"},\"colorscale\":[[0.0,\"#0d0887\"],[0.1111111111111111,\"#46039f\"],[0.2222222222222222,\"#7201a8\"],[0.3333333333333333,\"#9c179e\"],[0.4444444444444444,\"#bd3786\"],[0.5555555555555556,\"#d8576b\"],[0.6666666666666666,\"#ed7953\"],[0.7777777777777778,\"#fb9f3a\"],[0.8888888888888888,\"#fdca26\"],[1.0,\"#f0f921\"]]}],\"heatmapgl\":[{\"type\":\"heatmapgl\",\"colorbar\":{\"outlinewidth\":0,\"ticks\":\"\"},\"colorscale\":[[0.0,\"#0d0887\"],[0.1111111111111111,\"#46039f\"],[0.2222222222222222,\"#7201a8\"],[0.3333333333333333,\"#9c179e\"],[0.4444444444444444,\"#bd3786\"],[0.5555555555555556,\"#d8576b\"],[0.6666666666666666,\"#ed7953\"],[0.7777777777777778,\"#fb9f3a\"],[0.8888888888888888,\"#fdca26\"],[1.0,\"#f0f921\"]]}],\"contourcarpet\":[{\"type\":\"contourcarpet\",\"colorbar\":{\"outlinewidth\":0,\"ticks\":\"\"}}],\"contour\":[{\"type\":\"contour\",\"colorbar\":{\"outlinewidth\":0,\"ticks\":\"\"},\"colorscale\":[[0.0,\"#0d0887\"],[0.1111111111111111,\"#46039f\"],[0.2222222222222222,\"#7201a8\"],[0.3333333333333333,\"#9c179e\"],[0.4444444444444444,\"#bd3786\"],[0.5555555555555556,\"#d8576b\"],[0.6666666666666666,\"#ed7953\"],[0.7777777777777778,\"#fb9f3a\"],[0.8888888888888888,\"#fdca26\"],[1.0,\"#f0f921\"]]}],\"surface\":[{\"type\":\"surface\",\"colorbar\":{\"outlinewidth\":0,\"ticks\":\"\"},\"colorscale\":[[0.0,\"#0d0887\"],[0.1111111111111111,\"#46039f\"],[0.2222222222222222,\"#7201a8\"],[0.3333333333333333,\"#9c179e\"],[0.4444444444444444,\"#bd3786\"],[0.5555555555555556,\"#d8576b\"],[0.6666666666666666,\"#ed7953\"],[0.7777777777777778,\"#fb9f3a\"],[0.8888888888888888,\"#fdca26\"],[1.0,\"#f0f921\"]]}],\"mesh3d\":[{\"type\":\"mesh3d\",\"colorbar\":{\"outlinewidth\":0,\"ticks\":\"\"}}],\"scatter\":[{\"fillpattern\":{\"fillmode\":\"overlay\",\"size\":10,\"solidity\":0.2},\"type\":\"scatter\"}],\"parcoords\":[{\"type\":\"parcoords\",\"line\":{\"colorbar\":{\"outlinewidth\":0,\"ticks\":\"\"}}}],\"scatterpolargl\":[{\"type\":\"scatterpolargl\",\"marker\":{\"colorbar\":{\"outlinewidth\":0,\"ticks\":\"\"}}}],\"bar\":[{\"error_x\":{\"color\":\"#2a3f5f\"},\"error_y\":{\"color\":\"#2a3f5f\"},\"marker\":{\"line\":{\"color\":\"#E5ECF6\",\"width\":0.5},\"pattern\":{\"fillmode\":\"overlay\",\"size\":10,\"solidity\":0.2}},\"type\":\"bar\"}],\"scattergeo\":[{\"type\":\"scattergeo\",\"marker\":{\"colorbar\":{\"outlinewidth\":0,\"ticks\":\"\"}}}],\"scatterpolar\":[{\"type\":\"scatterpolar\",\"marker\":{\"colorbar\":{\"outlinewidth\":0,\"ticks\":\"\"}}}],\"histogram\":[{\"marker\":{\"pattern\":{\"fillmode\":\"overlay\",\"size\":10,\"solidity\":0.2}},\"type\":\"histogram\"}],\"scattergl\":[{\"type\":\"scattergl\",\"marker\":{\"colorbar\":{\"outlinewidth\":0,\"ticks\":\"\"}}}],\"scatter3d\":[{\"type\":\"scatter3d\",\"line\":{\"colorbar\":{\"outlinewidth\":0,\"ticks\":\"\"}},\"marker\":{\"colorbar\":{\"outlinewidth\":0,\"ticks\":\"\"}}}],\"scattermapbox\":[{\"type\":\"scattermapbox\",\"marker\":{\"colorbar\":{\"outlinewidth\":0,\"ticks\":\"\"}}}],\"scatterternary\":[{\"type\":\"scatterternary\",\"marker\":{\"colorbar\":{\"outlinewidth\":0,\"ticks\":\"\"}}}],\"scattercarpet\":[{\"type\":\"scattercarpet\",\"marker\":{\"colorbar\":{\"outlinewidth\":0,\"ticks\":\"\"}}}],\"carpet\":[{\"aaxis\":{\"endlinecolor\":\"#2a3f5f\",\"gridcolor\":\"white\",\"linecolor\":\"white\",\"minorgridcolor\":\"white\",\"startlinecolor\":\"#2a3f5f\"},\"baxis\":{\"endlinecolor\":\"#2a3f5f\",\"gridcolor\":\"white\",\"linecolor\":\"white\",\"minorgridcolor\":\"white\",\"startlinecolor\":\"#2a3f5f\"},\"type\":\"carpet\"}],\"table\":[{\"cells\":{\"fill\":{\"color\":\"#EBF0F8\"},\"line\":{\"color\":\"white\"}},\"header\":{\"fill\":{\"color\":\"#C8D4E3\"},\"line\":{\"color\":\"white\"}},\"type\":\"table\"}],\"barpolar\":[{\"marker\":{\"line\":{\"color\":\"#E5ECF6\",\"width\":0.5},\"pattern\":{\"fillmode\":\"overlay\",\"size\":10,\"solidity\":0.2}},\"type\":\"barpolar\"}],\"pie\":[{\"automargin\":true,\"type\":\"pie\"}]},\"layout\":{\"autotypenumbers\":\"strict\",\"colorway\":[\"#636efa\",\"#EF553B\",\"#00cc96\",\"#ab63fa\",\"#FFA15A\",\"#19d3f3\",\"#FF6692\",\"#B6E880\",\"#FF97FF\",\"#FECB52\"],\"font\":{\"color\":\"#2a3f5f\"},\"hovermode\":\"closest\",\"hoverlabel\":{\"align\":\"left\"},\"paper_bgcolor\":\"white\",\"plot_bgcolor\":\"#E5ECF6\",\"polar\":{\"bgcolor\":\"#E5ECF6\",\"angularaxis\":{\"gridcolor\":\"white\",\"linecolor\":\"white\",\"ticks\":\"\"},\"radialaxis\":{\"gridcolor\":\"white\",\"linecolor\":\"white\",\"ticks\":\"\"}},\"ternary\":{\"bgcolor\":\"#E5ECF6\",\"aaxis\":{\"gridcolor\":\"white\",\"linecolor\":\"white\",\"ticks\":\"\"},\"baxis\":{\"gridcolor\":\"white\",\"linecolor\":\"white\",\"ticks\":\"\"},\"caxis\":{\"gridcolor\":\"white\",\"linecolor\":\"white\",\"ticks\":\"\"}},\"coloraxis\":{\"colorbar\":{\"outlinewidth\":0,\"ticks\":\"\"}},\"colorscale\":{\"sequential\":[[0.0,\"#0d0887\"],[0.1111111111111111,\"#46039f\"],[0.2222222222222222,\"#7201a8\"],[0.3333333333333333,\"#9c179e\"],[0.4444444444444444,\"#bd3786\"],[0.5555555555555556,\"#d8576b\"],[0.6666666666666666,\"#ed7953\"],[0.7777777777777778,\"#fb9f3a\"],[0.8888888888888888,\"#fdca26\"],[1.0,\"#f0f921\"]],\"sequentialminus\":[[0.0,\"#0d0887\"],[0.1111111111111111,\"#46039f\"],[0.2222222222222222,\"#7201a8\"],[0.3333333333333333,\"#9c179e\"],[0.4444444444444444,\"#bd3786\"],[0.5555555555555556,\"#d8576b\"],[0.6666666666666666,\"#ed7953\"],[0.7777777777777778,\"#fb9f3a\"],[0.8888888888888888,\"#fdca26\"],[1.0,\"#f0f921\"]],\"diverging\":[[0,\"#8e0152\"],[0.1,\"#c51b7d\"],[0.2,\"#de77ae\"],[0.3,\"#f1b6da\"],[0.4,\"#fde0ef\"],[0.5,\"#f7f7f7\"],[0.6,\"#e6f5d0\"],[0.7,\"#b8e186\"],[0.8,\"#7fbc41\"],[0.9,\"#4d9221\"],[1,\"#276419\"]]},\"xaxis\":{\"gridcolor\":\"white\",\"linecolor\":\"white\",\"ticks\":\"\",\"title\":{\"standoff\":15},\"zerolinecolor\":\"white\",\"automargin\":true,\"zerolinewidth\":2},\"yaxis\":{\"gridcolor\":\"white\",\"linecolor\":\"white\",\"ticks\":\"\",\"title\":{\"standoff\":15},\"zerolinecolor\":\"white\",\"automargin\":true,\"zerolinewidth\":2},\"scene\":{\"xaxis\":{\"backgroundcolor\":\"#E5ECF6\",\"gridcolor\":\"white\",\"linecolor\":\"white\",\"showbackground\":true,\"ticks\":\"\",\"zerolinecolor\":\"white\",\"gridwidth\":2},\"yaxis\":{\"backgroundcolor\":\"#E5ECF6\",\"gridcolor\":\"white\",\"linecolor\":\"white\",\"showbackground\":true,\"ticks\":\"\",\"zerolinecolor\":\"white\",\"gridwidth\":2},\"zaxis\":{\"backgroundcolor\":\"#E5ECF6\",\"gridcolor\":\"white\",\"linecolor\":\"white\",\"showbackground\":true,\"ticks\":\"\",\"zerolinecolor\":\"white\",\"gridwidth\":2}},\"shapedefaults\":{\"line\":{\"color\":\"#2a3f5f\"}},\"annotationdefaults\":{\"arrowcolor\":\"#2a3f5f\",\"arrowhead\":0,\"arrowwidth\":1},\"geo\":{\"bgcolor\":\"white\",\"landcolor\":\"#E5ECF6\",\"subunitcolor\":\"white\",\"showland\":true,\"showlakes\":true,\"lakecolor\":\"white\"},\"title\":{\"x\":0.05},\"mapbox\":{\"style\":\"light\"}}},\"xaxis\":{\"anchor\":\"y\",\"domain\":[0.0,0.2125],\"title\":{\"text\":\"Year\"}},\"yaxis\":{\"anchor\":\"x\",\"domain\":[0.84375,1.0],\"title\":{\"text\":\"Price to Income Ratio\"}},\"xaxis2\":{\"anchor\":\"y2\",\"domain\":[0.2625,0.475],\"title\":{\"text\":\"Year\"}},\"yaxis2\":{\"anchor\":\"x2\",\"domain\":[0.84375,1.0],\"title\":{\"text\":\"Gross Rental Yield City Centre\"}},\"xaxis3\":{\"anchor\":\"y3\",\"domain\":[0.525,0.7375],\"title\":{\"text\":\"Year\"}},\"yaxis3\":{\"anchor\":\"x3\",\"domain\":[0.84375,1.0],\"title\":{\"text\":\"Gross Rental Yield Outside Centre\"}},\"xaxis4\":{\"anchor\":\"y4\",\"domain\":[0.7875,1.0],\"title\":{\"text\":\"Year\"}},\"yaxis4\":{\"anchor\":\"x4\",\"domain\":[0.84375,1.0],\"title\":{\"text\":\"Price to Rent Ratio City Centre\"}},\"xaxis5\":{\"anchor\":\"y5\",\"domain\":[0.0,0.2125],\"title\":{\"text\":\"Year\"}},\"yaxis5\":{\"anchor\":\"x5\",\"domain\":[0.5625,0.71875],\"title\":{\"text\":\"Price to Rent Ratio Outside City Centre\"}},\"xaxis6\":{\"anchor\":\"y6\",\"domain\":[0.2625,0.475],\"title\":{\"text\":\"Year\"}},\"yaxis6\":{\"anchor\":\"x6\",\"domain\":[0.5625,0.71875],\"title\":{\"text\":\"Mortgage as a Percentage of Income\"}},\"xaxis7\":{\"anchor\":\"y7\",\"domain\":[0.525,0.7375],\"title\":{\"text\":\"Year\"}},\"yaxis7\":{\"anchor\":\"x7\",\"domain\":[0.5625,0.71875],\"title\":{\"text\":\"Affordability Index\"}},\"xaxis8\":{\"anchor\":\"y8\",\"domain\":[0.7875,1.0],\"title\":{\"text\":\"Year\"}},\"yaxis8\":{\"anchor\":\"x8\",\"domain\":[0.5625,0.71875],\"title\":{\"text\":\"Crime Index\"}},\"xaxis9\":{\"anchor\":\"y9\",\"domain\":[0.0,0.2125],\"title\":{\"text\":\"Year\"}},\"yaxis9\":{\"anchor\":\"x9\",\"domain\":[0.28125,0.4375],\"title\":{\"text\":\"Safety Index\"}},\"xaxis10\":{\"anchor\":\"y10\",\"domain\":[0.2625,0.475],\"title\":{\"text\":\"Year\"}},\"yaxis10\":{\"anchor\":\"x10\",\"domain\":[0.28125,0.4375],\"title\":{\"text\":\"Cost of Living Index\"}},\"xaxis11\":{\"anchor\":\"y11\",\"domain\":[0.525,0.7375],\"title\":{\"text\":\"Year\"}},\"yaxis11\":{\"anchor\":\"x11\",\"domain\":[0.28125,0.4375],\"title\":{\"text\":\"Rent Index\"}},\"xaxis12\":{\"anchor\":\"y12\",\"domain\":[0.7875,1.0],\"title\":{\"text\":\"Year\"}},\"yaxis12\":{\"anchor\":\"x12\",\"domain\":[0.28125,0.4375],\"title\":{\"text\":\"Cost of Living Plus Rent Index\"}},\"xaxis13\":{\"anchor\":\"y13\",\"domain\":[0.0,0.2125],\"title\":{\"text\":\"Year\"}},\"yaxis13\":{\"anchor\":\"x13\",\"domain\":[0.0,0.15625],\"title\":{\"text\":\"Groceries Index\"}},\"xaxis14\":{\"anchor\":\"y14\",\"domain\":[0.2625,0.475],\"title\":{\"text\":\"Year\"}},\"yaxis14\":{\"anchor\":\"x14\",\"domain\":[0.0,0.15625],\"title\":{\"text\":\"Restaurant Index\"}},\"xaxis15\":{\"anchor\":\"y15\",\"domain\":[0.525,0.7375],\"title\":{\"text\":\"Year\"}},\"yaxis15\":{\"anchor\":\"x15\",\"domain\":[0.0,0.15625],\"title\":{\"text\":\"Local Purchasing Power Index\"}},\"xaxis16\":{\"anchor\":\"y16\",\"domain\":[0.7875,1.0]},\"yaxis16\":{\"anchor\":\"x16\",\"domain\":[0.0,0.15625]},\"annotations\":[{\"font\":{\"size\":16},\"showarrow\":false,\"text\":\"Price to Income Ratio\",\"x\":0.10625,\"xanchor\":\"center\",\"xref\":\"paper\",\"y\":1.0,\"yanchor\":\"bottom\",\"yref\":\"paper\"},{\"font\":{\"size\":16},\"showarrow\":false,\"text\":\"Gross Rental Yield City Centre\",\"x\":0.36875,\"xanchor\":\"center\",\"xref\":\"paper\",\"y\":1.0,\"yanchor\":\"bottom\",\"yref\":\"paper\"},{\"font\":{\"size\":16},\"showarrow\":false,\"text\":\"Gross Rental Yield Outside Centre\",\"x\":0.6312500000000001,\"xanchor\":\"center\",\"xref\":\"paper\",\"y\":1.0,\"yanchor\":\"bottom\",\"yref\":\"paper\"},{\"font\":{\"size\":16},\"showarrow\":false,\"text\":\"Price to Rent Ratio City Centre\",\"x\":0.89375,\"xanchor\":\"center\",\"xref\":\"paper\",\"y\":1.0,\"yanchor\":\"bottom\",\"yref\":\"paper\"},{\"font\":{\"size\":16},\"showarrow\":false,\"text\":\"Price to Rent Ratio Outside City Centre\",\"x\":0.10625,\"xanchor\":\"center\",\"xref\":\"paper\",\"y\":0.71875,\"yanchor\":\"bottom\",\"yref\":\"paper\"},{\"font\":{\"size\":16},\"showarrow\":false,\"text\":\"Mortgage as a Percentage of Income\",\"x\":0.36875,\"xanchor\":\"center\",\"xref\":\"paper\",\"y\":0.71875,\"yanchor\":\"bottom\",\"yref\":\"paper\"},{\"font\":{\"size\":16},\"showarrow\":false,\"text\":\"Affordability Index\",\"x\":0.6312500000000001,\"xanchor\":\"center\",\"xref\":\"paper\",\"y\":0.71875,\"yanchor\":\"bottom\",\"yref\":\"paper\"},{\"font\":{\"size\":16},\"showarrow\":false,\"text\":\"Crime Index\",\"x\":0.89375,\"xanchor\":\"center\",\"xref\":\"paper\",\"y\":0.71875,\"yanchor\":\"bottom\",\"yref\":\"paper\"},{\"font\":{\"size\":16},\"showarrow\":false,\"text\":\"Safety Index\",\"x\":0.10625,\"xanchor\":\"center\",\"xref\":\"paper\",\"y\":0.4375,\"yanchor\":\"bottom\",\"yref\":\"paper\"},{\"font\":{\"size\":16},\"showarrow\":false,\"text\":\"Cost of Living Index\",\"x\":0.36875,\"xanchor\":\"center\",\"xref\":\"paper\",\"y\":0.4375,\"yanchor\":\"bottom\",\"yref\":\"paper\"},{\"font\":{\"size\":16},\"showarrow\":false,\"text\":\"Rent Index\",\"x\":0.6312500000000001,\"xanchor\":\"center\",\"xref\":\"paper\",\"y\":0.4375,\"yanchor\":\"bottom\",\"yref\":\"paper\"},{\"font\":{\"size\":16},\"showarrow\":false,\"text\":\"Cost of Living Plus Rent Index\",\"x\":0.89375,\"xanchor\":\"center\",\"xref\":\"paper\",\"y\":0.4375,\"yanchor\":\"bottom\",\"yref\":\"paper\"},{\"font\":{\"size\":16},\"showarrow\":false,\"text\":\"Groceries Index\",\"x\":0.10625,\"xanchor\":\"center\",\"xref\":\"paper\",\"y\":0.15625,\"yanchor\":\"bottom\",\"yref\":\"paper\"},{\"font\":{\"size\":16},\"showarrow\":false,\"text\":\"Restaurant Index\",\"x\":0.36875,\"xanchor\":\"center\",\"xref\":\"paper\",\"y\":0.15625,\"yanchor\":\"bottom\",\"yref\":\"paper\"},{\"font\":{\"size\":16},\"showarrow\":false,\"text\":\"Local Purchasing Power Index\",\"x\":0.6312500000000001,\"xanchor\":\"center\",\"xref\":\"paper\",\"y\":0.15625,\"yanchor\":\"bottom\",\"yref\":\"paper\"}],\"title\":{\"text\":\"Milwaukee, WI, United States\"},\"height\":1500,\"width\":1500},                        {\"responsive\": true}                    ).then(function(){\n",
       "                            \n",
       "var gd = document.getElementById('32ad32ba-55f1-46e1-a3ec-48ec1836fd78');\n",
       "var x = new MutationObserver(function (mutations, observer) {{\n",
       "        var display = window.getComputedStyle(gd).display;\n",
       "        if (!display || display === 'none') {{\n",
       "            console.log([gd, 'removed!']);\n",
       "            Plotly.purge(gd);\n",
       "            observer.disconnect();\n",
       "        }}\n",
       "}});\n",
       "\n",
       "// Listen for the removal of the full notebook cells\n",
       "var notebookContainer = gd.closest('#notebook-container');\n",
       "if (notebookContainer) {{\n",
       "    x.observe(notebookContainer, {childList: true});\n",
       "}}\n",
       "\n",
       "// Listen for the clearing of the current output cell\n",
       "var outputEl = gd.closest('.output');\n",
       "if (outputEl) {{\n",
       "    x.observe(outputEl, {childList: true});\n",
       "}}\n",
       "\n",
       "                        })                };                });            </script>        </div>"
      ]
     },
     "metadata": {},
     "output_type": "display_data"
    },
    {
     "data": {
      "application/vnd.plotly.v1+json": {
       "config": {
        "plotlyServerURL": "https://plot.ly"
       },
       "data": [
        {
         "mode": "lines+markers",
         "name": "Price to Income Ratio",
         "type": "scatter",
         "x": [
          "2013",
          "2014",
          "2014-mid",
          "2015",
          "2015-mid",
          "2016",
          "2017",
          "2017-mid",
          "2018",
          "2018-mid",
          "2019",
          "2019-mid",
          "2020",
          "2020-mid",
          "2021",
          "2021-mid",
          "2022",
          "2024",
          "2024-mid"
         ],
         "xaxis": "x",
         "y": [
          1.9,
          1.8,
          1.9,
          2.4,
          2.7,
          2.8,
          2.8,
          2.9,
          2.8,
          2.9,
          2.8,
          2.7,
          2.7,
          2.5,
          2.6,
          2.3,
          2.4,
          2.1,
          2.2
         ],
         "yaxis": "y"
        },
        {
         "mode": "lines+markers",
         "name": "Gross Rental Yield City Centre",
         "type": "scatter",
         "x": [
          "2013",
          "2014",
          "2014-mid",
          "2015",
          "2015-mid",
          "2016",
          "2017",
          "2017-mid",
          "2018",
          "2018-mid",
          "2019",
          "2019-mid",
          "2020",
          "2020-mid",
          "2021",
          "2021-mid",
          "2022",
          "2024",
          "2024-mid"
         ],
         "xaxis": "x2",
         "y": [
          13.4,
          12.5,
          10.7,
          10.9,
          8.5,
          12.6,
          13.6,
          13.7,
          12.6,
          11.9,
          12.3,
          12.1,
          12.2,
          12.1,
          11.5,
          11.9,
          11.5,
          18.7,
          17.9
         ],
         "yaxis": "y2"
        },
        {
         "mode": "lines+markers",
         "name": "Gross Rental Yield Outside Centre",
         "type": "scatter",
         "x": [
          "2013",
          "2014",
          "2014-mid",
          "2015",
          "2015-mid",
          "2016",
          "2017",
          "2017-mid",
          "2018",
          "2018-mid",
          "2019",
          "2019-mid",
          "2020",
          "2020-mid",
          "2021",
          "2021-mid",
          "2022",
          "2024",
          "2024-mid"
         ],
         "xaxis": "x3",
         "y": [
          13.2,
          13.7,
          11.8,
          11.9,
          12.3,
          10.8,
          10.9,
          10.6,
          10.1,
          9.7,
          10.1,
          10.4,
          9.9,
          10.4,
          9.8,
          10.4,
          10.4,
          15.2,
          13.6
         ],
         "yaxis": "y3"
        },
        {
         "mode": "lines+markers",
         "name": "Price to Rent Ratio City Centre",
         "type": "scatter",
         "x": [
          "2013",
          "2014",
          "2014-mid",
          "2015",
          "2015-mid",
          "2016",
          "2017",
          "2017-mid",
          "2018",
          "2018-mid",
          "2019",
          "2019-mid",
          "2020",
          "2020-mid",
          "2021",
          "2021-mid",
          "2022",
          "2024",
          "2024-mid"
         ],
         "xaxis": "x4",
         "y": [
          7.4,
          8,
          9.3,
          9.2,
          11.7,
          7.9,
          7.3,
          7.3,
          7.9,
          8.4,
          8.2,
          8.2,
          8.2,
          8.3,
          8.7,
          8.4,
          8.7,
          5.3,
          5.6
         ],
         "yaxis": "y4"
        },
        {
         "mode": "lines+markers",
         "name": "Price to Rent Ratio Outside City Centre",
         "type": "scatter",
         "x": [
          "2013",
          "2014",
          "2014-mid",
          "2015",
          "2015-mid",
          "2016",
          "2017",
          "2017-mid",
          "2018",
          "2018-mid",
          "2019",
          "2019-mid",
          "2020",
          "2020-mid",
          "2021",
          "2021-mid",
          "2022",
          "2024",
          "2024-mid"
         ],
         "xaxis": "x5",
         "y": [
          7.6,
          7.3,
          8.5,
          8.4,
          8.1,
          9.2,
          9.2,
          9.5,
          9.9,
          10.3,
          9.9,
          9.6,
          10.1,
          9.6,
          10.2,
          9.6,
          9.6,
          6.6,
          7.4
         ],
         "yaxis": "y5"
        },
        {
         "mode": "lines+markers",
         "name": "Mortgage as a Percentage of Income",
         "type": "scatter",
         "x": [
          "2013",
          "2014",
          "2014-mid",
          "2015",
          "2015-mid",
          "2016",
          "2017",
          "2017-mid",
          "2018",
          "2018-mid",
          "2019",
          "2019-mid",
          "2020",
          "2020-mid",
          "2021",
          "2021-mid",
          "2022",
          "2024",
          "2024-mid"
         ],
         "xaxis": "x6",
         "y": [
          "13.7",
          "13.6",
          "14.0",
          "18.0",
          "19.9",
          "19.9",
          "20.3",
          "21.0",
          "20.2",
          "21.6",
          "20.9",
          "19.6",
          "19.6",
          "18.0",
          "18.3",
          "16.1",
          "16.8",
          "18.3",
          "20.1"
         ],
         "yaxis": "y6"
        },
        {
         "mode": "lines+markers",
         "name": "Affordability Index",
         "type": "scatter",
         "x": [
          "2013",
          "2014",
          "2014-mid",
          "2015",
          "2015-mid",
          "2016",
          "2017",
          "2017-mid",
          "2018",
          "2018-mid",
          "2019",
          "2019-mid",
          "2020",
          "2020-mid",
          "2021",
          "2021-mid",
          "2022",
          "2024",
          "2024-mid"
         ],
         "xaxis": "x7",
         "y": [
          "7.3",
          "7.3",
          "7.1",
          "5.6",
          "5.0",
          "5.0",
          "4.9",
          "4.8",
          "5.0",
          "4.6",
          "4.8",
          "5.1",
          "5.1",
          "5.6",
          "5.5",
          "6.2",
          "5.9",
          "5.5",
          "5.0"
         ],
         "yaxis": "y7"
        },
        {
         "mode": "lines+markers",
         "name": "Crime Index",
         "type": "scatter",
         "x": [
          "2013",
          "2014",
          "2014-mid",
          "2015",
          "2015-mid",
          "2016",
          "2017",
          "2017-mid",
          "2018",
          "2018-mid",
          "2019",
          "2019-mid",
          "2020",
          "2020-mid",
          "2021",
          "2021-mid",
          "2022",
          "2024",
          "2024-mid"
         ],
         "xaxis": "x8",
         "y": [
          null,
          null,
          null,
          null,
          null,
          null,
          null,
          null,
          null,
          null,
          null,
          null,
          44.8,
          46,
          45.6,
          45.5,
          45.8,
          null,
          null
         ],
         "yaxis": "y8"
        },
        {
         "mode": "lines+markers",
         "name": "Safety Index",
         "type": "scatter",
         "x": [
          "2013",
          "2014",
          "2014-mid",
          "2015",
          "2015-mid",
          "2016",
          "2017",
          "2017-mid",
          "2018",
          "2018-mid",
          "2019",
          "2019-mid",
          "2020",
          "2020-mid",
          "2021",
          "2021-mid",
          "2022",
          "2024",
          "2024-mid"
         ],
         "xaxis": "x9",
         "y": [
          null,
          null,
          null,
          null,
          null,
          null,
          null,
          null,
          null,
          null,
          null,
          null,
          55.2,
          54,
          54.4,
          54.5,
          54.2,
          null,
          null
         ],
         "yaxis": "y9"
        },
        {
         "mode": "lines+markers",
         "name": "Cost of Living Index",
         "type": "scatter",
         "x": [
          "2013",
          "2014",
          "2014-mid",
          "2015",
          "2015-mid",
          "2016",
          "2017",
          "2017-mid",
          "2018",
          "2018-mid",
          "2019",
          "2019-mid",
          "2020",
          "2020-mid",
          "2021",
          "2021-mid",
          "2022",
          "2024",
          "2024-mid"
         ],
         "xaxis": "x10",
         "y": [
          null,
          null,
          null,
          null,
          null,
          null,
          null,
          null,
          null,
          null,
          null,
          null,
          null,
          null,
          null,
          null,
          null,
          null,
          null
         ],
         "yaxis": "y10"
        },
        {
         "mode": "lines+markers",
         "name": "Rent Index",
         "type": "scatter",
         "x": [
          "2013",
          "2014",
          "2014-mid",
          "2015",
          "2015-mid",
          "2016",
          "2017",
          "2017-mid",
          "2018",
          "2018-mid",
          "2019",
          "2019-mid",
          "2020",
          "2020-mid",
          "2021",
          "2021-mid",
          "2022",
          "2024",
          "2024-mid"
         ],
         "xaxis": "x11",
         "y": [
          null,
          null,
          null,
          null,
          null,
          null,
          null,
          null,
          null,
          null,
          null,
          null,
          null,
          null,
          null,
          null,
          null,
          null,
          null
         ],
         "yaxis": "y11"
        },
        {
         "mode": "lines+markers",
         "name": "Cost of Living Plus Rent Index",
         "type": "scatter",
         "x": [
          "2013",
          "2014",
          "2014-mid",
          "2015",
          "2015-mid",
          "2016",
          "2017",
          "2017-mid",
          "2018",
          "2018-mid",
          "2019",
          "2019-mid",
          "2020",
          "2020-mid",
          "2021",
          "2021-mid",
          "2022",
          "2024",
          "2024-mid"
         ],
         "xaxis": "x12",
         "y": [
          null,
          null,
          null,
          null,
          null,
          null,
          null,
          null,
          null,
          null,
          null,
          null,
          null,
          null,
          null,
          null,
          null,
          null,
          null
         ],
         "yaxis": "y12"
        },
        {
         "mode": "lines+markers",
         "name": "Groceries Index",
         "type": "scatter",
         "x": [
          "2013",
          "2014",
          "2014-mid",
          "2015",
          "2015-mid",
          "2016",
          "2017",
          "2017-mid",
          "2018",
          "2018-mid",
          "2019",
          "2019-mid",
          "2020",
          "2020-mid",
          "2021",
          "2021-mid",
          "2022",
          "2024",
          "2024-mid"
         ],
         "xaxis": "x13",
         "y": [
          null,
          null,
          null,
          null,
          null,
          null,
          null,
          null,
          null,
          null,
          null,
          null,
          null,
          null,
          null,
          null,
          null,
          null,
          null
         ],
         "yaxis": "y13"
        },
        {
         "mode": "lines+markers",
         "name": "Restaurant Index",
         "type": "scatter",
         "x": [
          "2013",
          "2014",
          "2014-mid",
          "2015",
          "2015-mid",
          "2016",
          "2017",
          "2017-mid",
          "2018",
          "2018-mid",
          "2019",
          "2019-mid",
          "2020",
          "2020-mid",
          "2021",
          "2021-mid",
          "2022",
          "2024",
          "2024-mid"
         ],
         "xaxis": "x14",
         "y": [
          null,
          null,
          null,
          null,
          null,
          null,
          null,
          null,
          null,
          null,
          null,
          null,
          null,
          null,
          null,
          null,
          null,
          null,
          null
         ],
         "yaxis": "y14"
        },
        {
         "mode": "lines+markers",
         "name": "Local Purchasing Power Index",
         "type": "scatter",
         "x": [
          "2013",
          "2014",
          "2014-mid",
          "2015",
          "2015-mid",
          "2016",
          "2017",
          "2017-mid",
          "2018",
          "2018-mid",
          "2019",
          "2019-mid",
          "2020",
          "2020-mid",
          "2021",
          "2021-mid",
          "2022",
          "2024",
          "2024-mid"
         ],
         "xaxis": "x15",
         "y": [
          null,
          null,
          null,
          null,
          null,
          null,
          null,
          null,
          null,
          null,
          null,
          null,
          null,
          null,
          null,
          null,
          null,
          null,
          null
         ],
         "yaxis": "y15"
        }
       ],
       "layout": {
        "annotations": [
         {
          "font": {
           "size": 16
          },
          "showarrow": false,
          "text": "Price to Income Ratio",
          "x": 0.10625,
          "xanchor": "center",
          "xref": "paper",
          "y": 1,
          "yanchor": "bottom",
          "yref": "paper"
         },
         {
          "font": {
           "size": 16
          },
          "showarrow": false,
          "text": "Gross Rental Yield City Centre",
          "x": 0.36875,
          "xanchor": "center",
          "xref": "paper",
          "y": 1,
          "yanchor": "bottom",
          "yref": "paper"
         },
         {
          "font": {
           "size": 16
          },
          "showarrow": false,
          "text": "Gross Rental Yield Outside Centre",
          "x": 0.6312500000000001,
          "xanchor": "center",
          "xref": "paper",
          "y": 1,
          "yanchor": "bottom",
          "yref": "paper"
         },
         {
          "font": {
           "size": 16
          },
          "showarrow": false,
          "text": "Price to Rent Ratio City Centre",
          "x": 0.89375,
          "xanchor": "center",
          "xref": "paper",
          "y": 1,
          "yanchor": "bottom",
          "yref": "paper"
         },
         {
          "font": {
           "size": 16
          },
          "showarrow": false,
          "text": "Price to Rent Ratio Outside City Centre",
          "x": 0.10625,
          "xanchor": "center",
          "xref": "paper",
          "y": 0.71875,
          "yanchor": "bottom",
          "yref": "paper"
         },
         {
          "font": {
           "size": 16
          },
          "showarrow": false,
          "text": "Mortgage as a Percentage of Income",
          "x": 0.36875,
          "xanchor": "center",
          "xref": "paper",
          "y": 0.71875,
          "yanchor": "bottom",
          "yref": "paper"
         },
         {
          "font": {
           "size": 16
          },
          "showarrow": false,
          "text": "Affordability Index",
          "x": 0.6312500000000001,
          "xanchor": "center",
          "xref": "paper",
          "y": 0.71875,
          "yanchor": "bottom",
          "yref": "paper"
         },
         {
          "font": {
           "size": 16
          },
          "showarrow": false,
          "text": "Crime Index",
          "x": 0.89375,
          "xanchor": "center",
          "xref": "paper",
          "y": 0.71875,
          "yanchor": "bottom",
          "yref": "paper"
         },
         {
          "font": {
           "size": 16
          },
          "showarrow": false,
          "text": "Safety Index",
          "x": 0.10625,
          "xanchor": "center",
          "xref": "paper",
          "y": 0.4375,
          "yanchor": "bottom",
          "yref": "paper"
         },
         {
          "font": {
           "size": 16
          },
          "showarrow": false,
          "text": "Cost of Living Index",
          "x": 0.36875,
          "xanchor": "center",
          "xref": "paper",
          "y": 0.4375,
          "yanchor": "bottom",
          "yref": "paper"
         },
         {
          "font": {
           "size": 16
          },
          "showarrow": false,
          "text": "Rent Index",
          "x": 0.6312500000000001,
          "xanchor": "center",
          "xref": "paper",
          "y": 0.4375,
          "yanchor": "bottom",
          "yref": "paper"
         },
         {
          "font": {
           "size": 16
          },
          "showarrow": false,
          "text": "Cost of Living Plus Rent Index",
          "x": 0.89375,
          "xanchor": "center",
          "xref": "paper",
          "y": 0.4375,
          "yanchor": "bottom",
          "yref": "paper"
         },
         {
          "font": {
           "size": 16
          },
          "showarrow": false,
          "text": "Groceries Index",
          "x": 0.10625,
          "xanchor": "center",
          "xref": "paper",
          "y": 0.15625,
          "yanchor": "bottom",
          "yref": "paper"
         },
         {
          "font": {
           "size": 16
          },
          "showarrow": false,
          "text": "Restaurant Index",
          "x": 0.36875,
          "xanchor": "center",
          "xref": "paper",
          "y": 0.15625,
          "yanchor": "bottom",
          "yref": "paper"
         },
         {
          "font": {
           "size": 16
          },
          "showarrow": false,
          "text": "Local Purchasing Power Index",
          "x": 0.6312500000000001,
          "xanchor": "center",
          "xref": "paper",
          "y": 0.15625,
          "yanchor": "bottom",
          "yref": "paper"
         }
        ],
        "height": 1500,
        "template": {
         "data": {
          "bar": [
           {
            "error_x": {
             "color": "#2a3f5f"
            },
            "error_y": {
             "color": "#2a3f5f"
            },
            "marker": {
             "line": {
              "color": "#E5ECF6",
              "width": 0.5
             },
             "pattern": {
              "fillmode": "overlay",
              "size": 10,
              "solidity": 0.2
             }
            },
            "type": "bar"
           }
          ],
          "barpolar": [
           {
            "marker": {
             "line": {
              "color": "#E5ECF6",
              "width": 0.5
             },
             "pattern": {
              "fillmode": "overlay",
              "size": 10,
              "solidity": 0.2
             }
            },
            "type": "barpolar"
           }
          ],
          "carpet": [
           {
            "aaxis": {
             "endlinecolor": "#2a3f5f",
             "gridcolor": "white",
             "linecolor": "white",
             "minorgridcolor": "white",
             "startlinecolor": "#2a3f5f"
            },
            "baxis": {
             "endlinecolor": "#2a3f5f",
             "gridcolor": "white",
             "linecolor": "white",
             "minorgridcolor": "white",
             "startlinecolor": "#2a3f5f"
            },
            "type": "carpet"
           }
          ],
          "choropleth": [
           {
            "colorbar": {
             "outlinewidth": 0,
             "ticks": ""
            },
            "type": "choropleth"
           }
          ],
          "contour": [
           {
            "colorbar": {
             "outlinewidth": 0,
             "ticks": ""
            },
            "colorscale": [
             [
              0,
              "#0d0887"
             ],
             [
              0.1111111111111111,
              "#46039f"
             ],
             [
              0.2222222222222222,
              "#7201a8"
             ],
             [
              0.3333333333333333,
              "#9c179e"
             ],
             [
              0.4444444444444444,
              "#bd3786"
             ],
             [
              0.5555555555555556,
              "#d8576b"
             ],
             [
              0.6666666666666666,
              "#ed7953"
             ],
             [
              0.7777777777777778,
              "#fb9f3a"
             ],
             [
              0.8888888888888888,
              "#fdca26"
             ],
             [
              1,
              "#f0f921"
             ]
            ],
            "type": "contour"
           }
          ],
          "contourcarpet": [
           {
            "colorbar": {
             "outlinewidth": 0,
             "ticks": ""
            },
            "type": "contourcarpet"
           }
          ],
          "heatmap": [
           {
            "colorbar": {
             "outlinewidth": 0,
             "ticks": ""
            },
            "colorscale": [
             [
              0,
              "#0d0887"
             ],
             [
              0.1111111111111111,
              "#46039f"
             ],
             [
              0.2222222222222222,
              "#7201a8"
             ],
             [
              0.3333333333333333,
              "#9c179e"
             ],
             [
              0.4444444444444444,
              "#bd3786"
             ],
             [
              0.5555555555555556,
              "#d8576b"
             ],
             [
              0.6666666666666666,
              "#ed7953"
             ],
             [
              0.7777777777777778,
              "#fb9f3a"
             ],
             [
              0.8888888888888888,
              "#fdca26"
             ],
             [
              1,
              "#f0f921"
             ]
            ],
            "type": "heatmap"
           }
          ],
          "heatmapgl": [
           {
            "colorbar": {
             "outlinewidth": 0,
             "ticks": ""
            },
            "colorscale": [
             [
              0,
              "#0d0887"
             ],
             [
              0.1111111111111111,
              "#46039f"
             ],
             [
              0.2222222222222222,
              "#7201a8"
             ],
             [
              0.3333333333333333,
              "#9c179e"
             ],
             [
              0.4444444444444444,
              "#bd3786"
             ],
             [
              0.5555555555555556,
              "#d8576b"
             ],
             [
              0.6666666666666666,
              "#ed7953"
             ],
             [
              0.7777777777777778,
              "#fb9f3a"
             ],
             [
              0.8888888888888888,
              "#fdca26"
             ],
             [
              1,
              "#f0f921"
             ]
            ],
            "type": "heatmapgl"
           }
          ],
          "histogram": [
           {
            "marker": {
             "pattern": {
              "fillmode": "overlay",
              "size": 10,
              "solidity": 0.2
             }
            },
            "type": "histogram"
           }
          ],
          "histogram2d": [
           {
            "colorbar": {
             "outlinewidth": 0,
             "ticks": ""
            },
            "colorscale": [
             [
              0,
              "#0d0887"
             ],
             [
              0.1111111111111111,
              "#46039f"
             ],
             [
              0.2222222222222222,
              "#7201a8"
             ],
             [
              0.3333333333333333,
              "#9c179e"
             ],
             [
              0.4444444444444444,
              "#bd3786"
             ],
             [
              0.5555555555555556,
              "#d8576b"
             ],
             [
              0.6666666666666666,
              "#ed7953"
             ],
             [
              0.7777777777777778,
              "#fb9f3a"
             ],
             [
              0.8888888888888888,
              "#fdca26"
             ],
             [
              1,
              "#f0f921"
             ]
            ],
            "type": "histogram2d"
           }
          ],
          "histogram2dcontour": [
           {
            "colorbar": {
             "outlinewidth": 0,
             "ticks": ""
            },
            "colorscale": [
             [
              0,
              "#0d0887"
             ],
             [
              0.1111111111111111,
              "#46039f"
             ],
             [
              0.2222222222222222,
              "#7201a8"
             ],
             [
              0.3333333333333333,
              "#9c179e"
             ],
             [
              0.4444444444444444,
              "#bd3786"
             ],
             [
              0.5555555555555556,
              "#d8576b"
             ],
             [
              0.6666666666666666,
              "#ed7953"
             ],
             [
              0.7777777777777778,
              "#fb9f3a"
             ],
             [
              0.8888888888888888,
              "#fdca26"
             ],
             [
              1,
              "#f0f921"
             ]
            ],
            "type": "histogram2dcontour"
           }
          ],
          "mesh3d": [
           {
            "colorbar": {
             "outlinewidth": 0,
             "ticks": ""
            },
            "type": "mesh3d"
           }
          ],
          "parcoords": [
           {
            "line": {
             "colorbar": {
              "outlinewidth": 0,
              "ticks": ""
             }
            },
            "type": "parcoords"
           }
          ],
          "pie": [
           {
            "automargin": true,
            "type": "pie"
           }
          ],
          "scatter": [
           {
            "fillpattern": {
             "fillmode": "overlay",
             "size": 10,
             "solidity": 0.2
            },
            "type": "scatter"
           }
          ],
          "scatter3d": [
           {
            "line": {
             "colorbar": {
              "outlinewidth": 0,
              "ticks": ""
             }
            },
            "marker": {
             "colorbar": {
              "outlinewidth": 0,
              "ticks": ""
             }
            },
            "type": "scatter3d"
           }
          ],
          "scattercarpet": [
           {
            "marker": {
             "colorbar": {
              "outlinewidth": 0,
              "ticks": ""
             }
            },
            "type": "scattercarpet"
           }
          ],
          "scattergeo": [
           {
            "marker": {
             "colorbar": {
              "outlinewidth": 0,
              "ticks": ""
             }
            },
            "type": "scattergeo"
           }
          ],
          "scattergl": [
           {
            "marker": {
             "colorbar": {
              "outlinewidth": 0,
              "ticks": ""
             }
            },
            "type": "scattergl"
           }
          ],
          "scattermapbox": [
           {
            "marker": {
             "colorbar": {
              "outlinewidth": 0,
              "ticks": ""
             }
            },
            "type": "scattermapbox"
           }
          ],
          "scatterpolar": [
           {
            "marker": {
             "colorbar": {
              "outlinewidth": 0,
              "ticks": ""
             }
            },
            "type": "scatterpolar"
           }
          ],
          "scatterpolargl": [
           {
            "marker": {
             "colorbar": {
              "outlinewidth": 0,
              "ticks": ""
             }
            },
            "type": "scatterpolargl"
           }
          ],
          "scatterternary": [
           {
            "marker": {
             "colorbar": {
              "outlinewidth": 0,
              "ticks": ""
             }
            },
            "type": "scatterternary"
           }
          ],
          "surface": [
           {
            "colorbar": {
             "outlinewidth": 0,
             "ticks": ""
            },
            "colorscale": [
             [
              0,
              "#0d0887"
             ],
             [
              0.1111111111111111,
              "#46039f"
             ],
             [
              0.2222222222222222,
              "#7201a8"
             ],
             [
              0.3333333333333333,
              "#9c179e"
             ],
             [
              0.4444444444444444,
              "#bd3786"
             ],
             [
              0.5555555555555556,
              "#d8576b"
             ],
             [
              0.6666666666666666,
              "#ed7953"
             ],
             [
              0.7777777777777778,
              "#fb9f3a"
             ],
             [
              0.8888888888888888,
              "#fdca26"
             ],
             [
              1,
              "#f0f921"
             ]
            ],
            "type": "surface"
           }
          ],
          "table": [
           {
            "cells": {
             "fill": {
              "color": "#EBF0F8"
             },
             "line": {
              "color": "white"
             }
            },
            "header": {
             "fill": {
              "color": "#C8D4E3"
             },
             "line": {
              "color": "white"
             }
            },
            "type": "table"
           }
          ]
         },
         "layout": {
          "annotationdefaults": {
           "arrowcolor": "#2a3f5f",
           "arrowhead": 0,
           "arrowwidth": 1
          },
          "autotypenumbers": "strict",
          "coloraxis": {
           "colorbar": {
            "outlinewidth": 0,
            "ticks": ""
           }
          },
          "colorscale": {
           "diverging": [
            [
             0,
             "#8e0152"
            ],
            [
             0.1,
             "#c51b7d"
            ],
            [
             0.2,
             "#de77ae"
            ],
            [
             0.3,
             "#f1b6da"
            ],
            [
             0.4,
             "#fde0ef"
            ],
            [
             0.5,
             "#f7f7f7"
            ],
            [
             0.6,
             "#e6f5d0"
            ],
            [
             0.7,
             "#b8e186"
            ],
            [
             0.8,
             "#7fbc41"
            ],
            [
             0.9,
             "#4d9221"
            ],
            [
             1,
             "#276419"
            ]
           ],
           "sequential": [
            [
             0,
             "#0d0887"
            ],
            [
             0.1111111111111111,
             "#46039f"
            ],
            [
             0.2222222222222222,
             "#7201a8"
            ],
            [
             0.3333333333333333,
             "#9c179e"
            ],
            [
             0.4444444444444444,
             "#bd3786"
            ],
            [
             0.5555555555555556,
             "#d8576b"
            ],
            [
             0.6666666666666666,
             "#ed7953"
            ],
            [
             0.7777777777777778,
             "#fb9f3a"
            ],
            [
             0.8888888888888888,
             "#fdca26"
            ],
            [
             1,
             "#f0f921"
            ]
           ],
           "sequentialminus": [
            [
             0,
             "#0d0887"
            ],
            [
             0.1111111111111111,
             "#46039f"
            ],
            [
             0.2222222222222222,
             "#7201a8"
            ],
            [
             0.3333333333333333,
             "#9c179e"
            ],
            [
             0.4444444444444444,
             "#bd3786"
            ],
            [
             0.5555555555555556,
             "#d8576b"
            ],
            [
             0.6666666666666666,
             "#ed7953"
            ],
            [
             0.7777777777777778,
             "#fb9f3a"
            ],
            [
             0.8888888888888888,
             "#fdca26"
            ],
            [
             1,
             "#f0f921"
            ]
           ]
          },
          "colorway": [
           "#636efa",
           "#EF553B",
           "#00cc96",
           "#ab63fa",
           "#FFA15A",
           "#19d3f3",
           "#FF6692",
           "#B6E880",
           "#FF97FF",
           "#FECB52"
          ],
          "font": {
           "color": "#2a3f5f"
          },
          "geo": {
           "bgcolor": "white",
           "lakecolor": "white",
           "landcolor": "#E5ECF6",
           "showlakes": true,
           "showland": true,
           "subunitcolor": "white"
          },
          "hoverlabel": {
           "align": "left"
          },
          "hovermode": "closest",
          "mapbox": {
           "style": "light"
          },
          "paper_bgcolor": "white",
          "plot_bgcolor": "#E5ECF6",
          "polar": {
           "angularaxis": {
            "gridcolor": "white",
            "linecolor": "white",
            "ticks": ""
           },
           "bgcolor": "#E5ECF6",
           "radialaxis": {
            "gridcolor": "white",
            "linecolor": "white",
            "ticks": ""
           }
          },
          "scene": {
           "xaxis": {
            "backgroundcolor": "#E5ECF6",
            "gridcolor": "white",
            "gridwidth": 2,
            "linecolor": "white",
            "showbackground": true,
            "ticks": "",
            "zerolinecolor": "white"
           },
           "yaxis": {
            "backgroundcolor": "#E5ECF6",
            "gridcolor": "white",
            "gridwidth": 2,
            "linecolor": "white",
            "showbackground": true,
            "ticks": "",
            "zerolinecolor": "white"
           },
           "zaxis": {
            "backgroundcolor": "#E5ECF6",
            "gridcolor": "white",
            "gridwidth": 2,
            "linecolor": "white",
            "showbackground": true,
            "ticks": "",
            "zerolinecolor": "white"
           }
          },
          "shapedefaults": {
           "line": {
            "color": "#2a3f5f"
           }
          },
          "ternary": {
           "aaxis": {
            "gridcolor": "white",
            "linecolor": "white",
            "ticks": ""
           },
           "baxis": {
            "gridcolor": "white",
            "linecolor": "white",
            "ticks": ""
           },
           "bgcolor": "#E5ECF6",
           "caxis": {
            "gridcolor": "white",
            "linecolor": "white",
            "ticks": ""
           }
          },
          "title": {
           "x": 0.05
          },
          "xaxis": {
           "automargin": true,
           "gridcolor": "white",
           "linecolor": "white",
           "ticks": "",
           "title": {
            "standoff": 15
           },
           "zerolinecolor": "white",
           "zerolinewidth": 2
          },
          "yaxis": {
           "automargin": true,
           "gridcolor": "white",
           "linecolor": "white",
           "ticks": "",
           "title": {
            "standoff": 15
           },
           "zerolinecolor": "white",
           "zerolinewidth": 2
          }
         }
        },
        "title": {
         "text": "Omaha, NE, United States"
        },
        "width": 1500,
        "xaxis": {
         "anchor": "y",
         "domain": [
          0,
          0.2125
         ],
         "title": {
          "text": "Year"
         }
        },
        "xaxis10": {
         "anchor": "y10",
         "domain": [
          0.2625,
          0.475
         ],
         "title": {
          "text": "Year"
         }
        },
        "xaxis11": {
         "anchor": "y11",
         "domain": [
          0.525,
          0.7375
         ],
         "title": {
          "text": "Year"
         }
        },
        "xaxis12": {
         "anchor": "y12",
         "domain": [
          0.7875,
          1
         ],
         "title": {
          "text": "Year"
         }
        },
        "xaxis13": {
         "anchor": "y13",
         "domain": [
          0,
          0.2125
         ],
         "title": {
          "text": "Year"
         }
        },
        "xaxis14": {
         "anchor": "y14",
         "domain": [
          0.2625,
          0.475
         ],
         "title": {
          "text": "Year"
         }
        },
        "xaxis15": {
         "anchor": "y15",
         "domain": [
          0.525,
          0.7375
         ],
         "title": {
          "text": "Year"
         }
        },
        "xaxis16": {
         "anchor": "y16",
         "domain": [
          0.7875,
          1
         ]
        },
        "xaxis2": {
         "anchor": "y2",
         "domain": [
          0.2625,
          0.475
         ],
         "title": {
          "text": "Year"
         }
        },
        "xaxis3": {
         "anchor": "y3",
         "domain": [
          0.525,
          0.7375
         ],
         "title": {
          "text": "Year"
         }
        },
        "xaxis4": {
         "anchor": "y4",
         "domain": [
          0.7875,
          1
         ],
         "title": {
          "text": "Year"
         }
        },
        "xaxis5": {
         "anchor": "y5",
         "domain": [
          0,
          0.2125
         ],
         "title": {
          "text": "Year"
         }
        },
        "xaxis6": {
         "anchor": "y6",
         "domain": [
          0.2625,
          0.475
         ],
         "title": {
          "text": "Year"
         }
        },
        "xaxis7": {
         "anchor": "y7",
         "domain": [
          0.525,
          0.7375
         ],
         "title": {
          "text": "Year"
         }
        },
        "xaxis8": {
         "anchor": "y8",
         "domain": [
          0.7875,
          1
         ],
         "title": {
          "text": "Year"
         }
        },
        "xaxis9": {
         "anchor": "y9",
         "domain": [
          0,
          0.2125
         ],
         "title": {
          "text": "Year"
         }
        },
        "yaxis": {
         "anchor": "x",
         "domain": [
          0.84375,
          1
         ],
         "title": {
          "text": "Price to Income Ratio"
         }
        },
        "yaxis10": {
         "anchor": "x10",
         "domain": [
          0.28125,
          0.4375
         ],
         "title": {
          "text": "Cost of Living Index"
         }
        },
        "yaxis11": {
         "anchor": "x11",
         "domain": [
          0.28125,
          0.4375
         ],
         "title": {
          "text": "Rent Index"
         }
        },
        "yaxis12": {
         "anchor": "x12",
         "domain": [
          0.28125,
          0.4375
         ],
         "title": {
          "text": "Cost of Living Plus Rent Index"
         }
        },
        "yaxis13": {
         "anchor": "x13",
         "domain": [
          0,
          0.15625
         ],
         "title": {
          "text": "Groceries Index"
         }
        },
        "yaxis14": {
         "anchor": "x14",
         "domain": [
          0,
          0.15625
         ],
         "title": {
          "text": "Restaurant Index"
         }
        },
        "yaxis15": {
         "anchor": "x15",
         "domain": [
          0,
          0.15625
         ],
         "title": {
          "text": "Local Purchasing Power Index"
         }
        },
        "yaxis16": {
         "anchor": "x16",
         "domain": [
          0,
          0.15625
         ]
        },
        "yaxis2": {
         "anchor": "x2",
         "domain": [
          0.84375,
          1
         ],
         "title": {
          "text": "Gross Rental Yield City Centre"
         }
        },
        "yaxis3": {
         "anchor": "x3",
         "domain": [
          0.84375,
          1
         ],
         "title": {
          "text": "Gross Rental Yield Outside Centre"
         }
        },
        "yaxis4": {
         "anchor": "x4",
         "domain": [
          0.84375,
          1
         ],
         "title": {
          "text": "Price to Rent Ratio City Centre"
         }
        },
        "yaxis5": {
         "anchor": "x5",
         "domain": [
          0.5625,
          0.71875
         ],
         "title": {
          "text": "Price to Rent Ratio Outside City Centre"
         }
        },
        "yaxis6": {
         "anchor": "x6",
         "domain": [
          0.5625,
          0.71875
         ],
         "title": {
          "text": "Mortgage as a Percentage of Income"
         }
        },
        "yaxis7": {
         "anchor": "x7",
         "domain": [
          0.5625,
          0.71875
         ],
         "title": {
          "text": "Affordability Index"
         }
        },
        "yaxis8": {
         "anchor": "x8",
         "domain": [
          0.5625,
          0.71875
         ],
         "title": {
          "text": "Crime Index"
         }
        },
        "yaxis9": {
         "anchor": "x9",
         "domain": [
          0.28125,
          0.4375
         ],
         "title": {
          "text": "Safety Index"
         }
        }
       }
      },
      "text/html": [
       "<div>                            <div id=\"9daffbed-e668-4da6-81a5-3a0b141831fe\" class=\"plotly-graph-div\" style=\"height:1500px; width:1500px;\"></div>            <script type=\"text/javascript\">                require([\"plotly\"], function(Plotly) {                    window.PLOTLYENV=window.PLOTLYENV || {};                                    if (document.getElementById(\"9daffbed-e668-4da6-81a5-3a0b141831fe\")) {                    Plotly.newPlot(                        \"9daffbed-e668-4da6-81a5-3a0b141831fe\",                        [{\"mode\":\"lines+markers\",\"name\":\"Price to Income Ratio\",\"x\":[\"2013\",\"2014\",\"2014-mid\",\"2015\",\"2015-mid\",\"2016\",\"2017\",\"2017-mid\",\"2018\",\"2018-mid\",\"2019\",\"2019-mid\",\"2020\",\"2020-mid\",\"2021\",\"2021-mid\",\"2022\",\"2024\",\"2024-mid\"],\"y\":[1.9,1.8,1.9,2.4,2.7,2.8,2.8,2.9,2.8,2.9,2.8,2.7,2.7,2.5,2.6,2.3,2.4,2.1,2.2],\"type\":\"scatter\",\"xaxis\":\"x\",\"yaxis\":\"y\"},{\"mode\":\"lines+markers\",\"name\":\"Gross Rental Yield City Centre\",\"x\":[\"2013\",\"2014\",\"2014-mid\",\"2015\",\"2015-mid\",\"2016\",\"2017\",\"2017-mid\",\"2018\",\"2018-mid\",\"2019\",\"2019-mid\",\"2020\",\"2020-mid\",\"2021\",\"2021-mid\",\"2022\",\"2024\",\"2024-mid\"],\"y\":[13.4,12.5,10.7,10.9,8.5,12.6,13.6,13.7,12.6,11.9,12.3,12.1,12.2,12.1,11.5,11.9,11.5,18.7,17.9],\"type\":\"scatter\",\"xaxis\":\"x2\",\"yaxis\":\"y2\"},{\"mode\":\"lines+markers\",\"name\":\"Gross Rental Yield Outside Centre\",\"x\":[\"2013\",\"2014\",\"2014-mid\",\"2015\",\"2015-mid\",\"2016\",\"2017\",\"2017-mid\",\"2018\",\"2018-mid\",\"2019\",\"2019-mid\",\"2020\",\"2020-mid\",\"2021\",\"2021-mid\",\"2022\",\"2024\",\"2024-mid\"],\"y\":[13.2,13.7,11.8,11.9,12.3,10.8,10.9,10.6,10.1,9.7,10.1,10.4,9.9,10.4,9.8,10.4,10.4,15.2,13.6],\"type\":\"scatter\",\"xaxis\":\"x3\",\"yaxis\":\"y3\"},{\"mode\":\"lines+markers\",\"name\":\"Price to Rent Ratio City Centre\",\"x\":[\"2013\",\"2014\",\"2014-mid\",\"2015\",\"2015-mid\",\"2016\",\"2017\",\"2017-mid\",\"2018\",\"2018-mid\",\"2019\",\"2019-mid\",\"2020\",\"2020-mid\",\"2021\",\"2021-mid\",\"2022\",\"2024\",\"2024-mid\"],\"y\":[7.4,8.0,9.3,9.2,11.7,7.9,7.3,7.3,7.9,8.4,8.2,8.2,8.2,8.3,8.7,8.4,8.7,5.3,5.6],\"type\":\"scatter\",\"xaxis\":\"x4\",\"yaxis\":\"y4\"},{\"mode\":\"lines+markers\",\"name\":\"Price to Rent Ratio Outside City Centre\",\"x\":[\"2013\",\"2014\",\"2014-mid\",\"2015\",\"2015-mid\",\"2016\",\"2017\",\"2017-mid\",\"2018\",\"2018-mid\",\"2019\",\"2019-mid\",\"2020\",\"2020-mid\",\"2021\",\"2021-mid\",\"2022\",\"2024\",\"2024-mid\"],\"y\":[7.6,7.3,8.5,8.4,8.1,9.2,9.2,9.5,9.9,10.3,9.9,9.6,10.1,9.6,10.2,9.6,9.6,6.6,7.4],\"type\":\"scatter\",\"xaxis\":\"x5\",\"yaxis\":\"y5\"},{\"mode\":\"lines+markers\",\"name\":\"Mortgage as a Percentage of Income\",\"x\":[\"2013\",\"2014\",\"2014-mid\",\"2015\",\"2015-mid\",\"2016\",\"2017\",\"2017-mid\",\"2018\",\"2018-mid\",\"2019\",\"2019-mid\",\"2020\",\"2020-mid\",\"2021\",\"2021-mid\",\"2022\",\"2024\",\"2024-mid\"],\"y\":[\"13.7\",\"13.6\",\"14.0\",\"18.0\",\"19.9\",\"19.9\",\"20.3\",\"21.0\",\"20.2\",\"21.6\",\"20.9\",\"19.6\",\"19.6\",\"18.0\",\"18.3\",\"16.1\",\"16.8\",\"18.3\",\"20.1\"],\"type\":\"scatter\",\"xaxis\":\"x6\",\"yaxis\":\"y6\"},{\"mode\":\"lines+markers\",\"name\":\"Affordability Index\",\"x\":[\"2013\",\"2014\",\"2014-mid\",\"2015\",\"2015-mid\",\"2016\",\"2017\",\"2017-mid\",\"2018\",\"2018-mid\",\"2019\",\"2019-mid\",\"2020\",\"2020-mid\",\"2021\",\"2021-mid\",\"2022\",\"2024\",\"2024-mid\"],\"y\":[\"7.3\",\"7.3\",\"7.1\",\"5.6\",\"5.0\",\"5.0\",\"4.9\",\"4.8\",\"5.0\",\"4.6\",\"4.8\",\"5.1\",\"5.1\",\"5.6\",\"5.5\",\"6.2\",\"5.9\",\"5.5\",\"5.0\"],\"type\":\"scatter\",\"xaxis\":\"x7\",\"yaxis\":\"y7\"},{\"mode\":\"lines+markers\",\"name\":\"Crime Index\",\"x\":[\"2013\",\"2014\",\"2014-mid\",\"2015\",\"2015-mid\",\"2016\",\"2017\",\"2017-mid\",\"2018\",\"2018-mid\",\"2019\",\"2019-mid\",\"2020\",\"2020-mid\",\"2021\",\"2021-mid\",\"2022\",\"2024\",\"2024-mid\"],\"y\":[null,null,null,null,null,null,null,null,null,null,null,null,44.8,46.0,45.6,45.5,45.8,null,null],\"type\":\"scatter\",\"xaxis\":\"x8\",\"yaxis\":\"y8\"},{\"mode\":\"lines+markers\",\"name\":\"Safety Index\",\"x\":[\"2013\",\"2014\",\"2014-mid\",\"2015\",\"2015-mid\",\"2016\",\"2017\",\"2017-mid\",\"2018\",\"2018-mid\",\"2019\",\"2019-mid\",\"2020\",\"2020-mid\",\"2021\",\"2021-mid\",\"2022\",\"2024\",\"2024-mid\"],\"y\":[null,null,null,null,null,null,null,null,null,null,null,null,55.2,54.0,54.4,54.5,54.2,null,null],\"type\":\"scatter\",\"xaxis\":\"x9\",\"yaxis\":\"y9\"},{\"mode\":\"lines+markers\",\"name\":\"Cost of Living Index\",\"x\":[\"2013\",\"2014\",\"2014-mid\",\"2015\",\"2015-mid\",\"2016\",\"2017\",\"2017-mid\",\"2018\",\"2018-mid\",\"2019\",\"2019-mid\",\"2020\",\"2020-mid\",\"2021\",\"2021-mid\",\"2022\",\"2024\",\"2024-mid\"],\"y\":[null,null,null,null,null,null,null,null,null,null,null,null,null,null,null,null,null,null,null],\"type\":\"scatter\",\"xaxis\":\"x10\",\"yaxis\":\"y10\"},{\"mode\":\"lines+markers\",\"name\":\"Rent Index\",\"x\":[\"2013\",\"2014\",\"2014-mid\",\"2015\",\"2015-mid\",\"2016\",\"2017\",\"2017-mid\",\"2018\",\"2018-mid\",\"2019\",\"2019-mid\",\"2020\",\"2020-mid\",\"2021\",\"2021-mid\",\"2022\",\"2024\",\"2024-mid\"],\"y\":[null,null,null,null,null,null,null,null,null,null,null,null,null,null,null,null,null,null,null],\"type\":\"scatter\",\"xaxis\":\"x11\",\"yaxis\":\"y11\"},{\"mode\":\"lines+markers\",\"name\":\"Cost of Living Plus Rent Index\",\"x\":[\"2013\",\"2014\",\"2014-mid\",\"2015\",\"2015-mid\",\"2016\",\"2017\",\"2017-mid\",\"2018\",\"2018-mid\",\"2019\",\"2019-mid\",\"2020\",\"2020-mid\",\"2021\",\"2021-mid\",\"2022\",\"2024\",\"2024-mid\"],\"y\":[null,null,null,null,null,null,null,null,null,null,null,null,null,null,null,null,null,null,null],\"type\":\"scatter\",\"xaxis\":\"x12\",\"yaxis\":\"y12\"},{\"mode\":\"lines+markers\",\"name\":\"Groceries Index\",\"x\":[\"2013\",\"2014\",\"2014-mid\",\"2015\",\"2015-mid\",\"2016\",\"2017\",\"2017-mid\",\"2018\",\"2018-mid\",\"2019\",\"2019-mid\",\"2020\",\"2020-mid\",\"2021\",\"2021-mid\",\"2022\",\"2024\",\"2024-mid\"],\"y\":[null,null,null,null,null,null,null,null,null,null,null,null,null,null,null,null,null,null,null],\"type\":\"scatter\",\"xaxis\":\"x13\",\"yaxis\":\"y13\"},{\"mode\":\"lines+markers\",\"name\":\"Restaurant Index\",\"x\":[\"2013\",\"2014\",\"2014-mid\",\"2015\",\"2015-mid\",\"2016\",\"2017\",\"2017-mid\",\"2018\",\"2018-mid\",\"2019\",\"2019-mid\",\"2020\",\"2020-mid\",\"2021\",\"2021-mid\",\"2022\",\"2024\",\"2024-mid\"],\"y\":[null,null,null,null,null,null,null,null,null,null,null,null,null,null,null,null,null,null,null],\"type\":\"scatter\",\"xaxis\":\"x14\",\"yaxis\":\"y14\"},{\"mode\":\"lines+markers\",\"name\":\"Local Purchasing Power Index\",\"x\":[\"2013\",\"2014\",\"2014-mid\",\"2015\",\"2015-mid\",\"2016\",\"2017\",\"2017-mid\",\"2018\",\"2018-mid\",\"2019\",\"2019-mid\",\"2020\",\"2020-mid\",\"2021\",\"2021-mid\",\"2022\",\"2024\",\"2024-mid\"],\"y\":[null,null,null,null,null,null,null,null,null,null,null,null,null,null,null,null,null,null,null],\"type\":\"scatter\",\"xaxis\":\"x15\",\"yaxis\":\"y15\"}],                        {\"template\":{\"data\":{\"histogram2dcontour\":[{\"type\":\"histogram2dcontour\",\"colorbar\":{\"outlinewidth\":0,\"ticks\":\"\"},\"colorscale\":[[0.0,\"#0d0887\"],[0.1111111111111111,\"#46039f\"],[0.2222222222222222,\"#7201a8\"],[0.3333333333333333,\"#9c179e\"],[0.4444444444444444,\"#bd3786\"],[0.5555555555555556,\"#d8576b\"],[0.6666666666666666,\"#ed7953\"],[0.7777777777777778,\"#fb9f3a\"],[0.8888888888888888,\"#fdca26\"],[1.0,\"#f0f921\"]]}],\"choropleth\":[{\"type\":\"choropleth\",\"colorbar\":{\"outlinewidth\":0,\"ticks\":\"\"}}],\"histogram2d\":[{\"type\":\"histogram2d\",\"colorbar\":{\"outlinewidth\":0,\"ticks\":\"\"},\"colorscale\":[[0.0,\"#0d0887\"],[0.1111111111111111,\"#46039f\"],[0.2222222222222222,\"#7201a8\"],[0.3333333333333333,\"#9c179e\"],[0.4444444444444444,\"#bd3786\"],[0.5555555555555556,\"#d8576b\"],[0.6666666666666666,\"#ed7953\"],[0.7777777777777778,\"#fb9f3a\"],[0.8888888888888888,\"#fdca26\"],[1.0,\"#f0f921\"]]}],\"heatmap\":[{\"type\":\"heatmap\",\"colorbar\":{\"outlinewidth\":0,\"ticks\":\"\"},\"colorscale\":[[0.0,\"#0d0887\"],[0.1111111111111111,\"#46039f\"],[0.2222222222222222,\"#7201a8\"],[0.3333333333333333,\"#9c179e\"],[0.4444444444444444,\"#bd3786\"],[0.5555555555555556,\"#d8576b\"],[0.6666666666666666,\"#ed7953\"],[0.7777777777777778,\"#fb9f3a\"],[0.8888888888888888,\"#fdca26\"],[1.0,\"#f0f921\"]]}],\"heatmapgl\":[{\"type\":\"heatmapgl\",\"colorbar\":{\"outlinewidth\":0,\"ticks\":\"\"},\"colorscale\":[[0.0,\"#0d0887\"],[0.1111111111111111,\"#46039f\"],[0.2222222222222222,\"#7201a8\"],[0.3333333333333333,\"#9c179e\"],[0.4444444444444444,\"#bd3786\"],[0.5555555555555556,\"#d8576b\"],[0.6666666666666666,\"#ed7953\"],[0.7777777777777778,\"#fb9f3a\"],[0.8888888888888888,\"#fdca26\"],[1.0,\"#f0f921\"]]}],\"contourcarpet\":[{\"type\":\"contourcarpet\",\"colorbar\":{\"outlinewidth\":0,\"ticks\":\"\"}}],\"contour\":[{\"type\":\"contour\",\"colorbar\":{\"outlinewidth\":0,\"ticks\":\"\"},\"colorscale\":[[0.0,\"#0d0887\"],[0.1111111111111111,\"#46039f\"],[0.2222222222222222,\"#7201a8\"],[0.3333333333333333,\"#9c179e\"],[0.4444444444444444,\"#bd3786\"],[0.5555555555555556,\"#d8576b\"],[0.6666666666666666,\"#ed7953\"],[0.7777777777777778,\"#fb9f3a\"],[0.8888888888888888,\"#fdca26\"],[1.0,\"#f0f921\"]]}],\"surface\":[{\"type\":\"surface\",\"colorbar\":{\"outlinewidth\":0,\"ticks\":\"\"},\"colorscale\":[[0.0,\"#0d0887\"],[0.1111111111111111,\"#46039f\"],[0.2222222222222222,\"#7201a8\"],[0.3333333333333333,\"#9c179e\"],[0.4444444444444444,\"#bd3786\"],[0.5555555555555556,\"#d8576b\"],[0.6666666666666666,\"#ed7953\"],[0.7777777777777778,\"#fb9f3a\"],[0.8888888888888888,\"#fdca26\"],[1.0,\"#f0f921\"]]}],\"mesh3d\":[{\"type\":\"mesh3d\",\"colorbar\":{\"outlinewidth\":0,\"ticks\":\"\"}}],\"scatter\":[{\"fillpattern\":{\"fillmode\":\"overlay\",\"size\":10,\"solidity\":0.2},\"type\":\"scatter\"}],\"parcoords\":[{\"type\":\"parcoords\",\"line\":{\"colorbar\":{\"outlinewidth\":0,\"ticks\":\"\"}}}],\"scatterpolargl\":[{\"type\":\"scatterpolargl\",\"marker\":{\"colorbar\":{\"outlinewidth\":0,\"ticks\":\"\"}}}],\"bar\":[{\"error_x\":{\"color\":\"#2a3f5f\"},\"error_y\":{\"color\":\"#2a3f5f\"},\"marker\":{\"line\":{\"color\":\"#E5ECF6\",\"width\":0.5},\"pattern\":{\"fillmode\":\"overlay\",\"size\":10,\"solidity\":0.2}},\"type\":\"bar\"}],\"scattergeo\":[{\"type\":\"scattergeo\",\"marker\":{\"colorbar\":{\"outlinewidth\":0,\"ticks\":\"\"}}}],\"scatterpolar\":[{\"type\":\"scatterpolar\",\"marker\":{\"colorbar\":{\"outlinewidth\":0,\"ticks\":\"\"}}}],\"histogram\":[{\"marker\":{\"pattern\":{\"fillmode\":\"overlay\",\"size\":10,\"solidity\":0.2}},\"type\":\"histogram\"}],\"scattergl\":[{\"type\":\"scattergl\",\"marker\":{\"colorbar\":{\"outlinewidth\":0,\"ticks\":\"\"}}}],\"scatter3d\":[{\"type\":\"scatter3d\",\"line\":{\"colorbar\":{\"outlinewidth\":0,\"ticks\":\"\"}},\"marker\":{\"colorbar\":{\"outlinewidth\":0,\"ticks\":\"\"}}}],\"scattermapbox\":[{\"type\":\"scattermapbox\",\"marker\":{\"colorbar\":{\"outlinewidth\":0,\"ticks\":\"\"}}}],\"scatterternary\":[{\"type\":\"scatterternary\",\"marker\":{\"colorbar\":{\"outlinewidth\":0,\"ticks\":\"\"}}}],\"scattercarpet\":[{\"type\":\"scattercarpet\",\"marker\":{\"colorbar\":{\"outlinewidth\":0,\"ticks\":\"\"}}}],\"carpet\":[{\"aaxis\":{\"endlinecolor\":\"#2a3f5f\",\"gridcolor\":\"white\",\"linecolor\":\"white\",\"minorgridcolor\":\"white\",\"startlinecolor\":\"#2a3f5f\"},\"baxis\":{\"endlinecolor\":\"#2a3f5f\",\"gridcolor\":\"white\",\"linecolor\":\"white\",\"minorgridcolor\":\"white\",\"startlinecolor\":\"#2a3f5f\"},\"type\":\"carpet\"}],\"table\":[{\"cells\":{\"fill\":{\"color\":\"#EBF0F8\"},\"line\":{\"color\":\"white\"}},\"header\":{\"fill\":{\"color\":\"#C8D4E3\"},\"line\":{\"color\":\"white\"}},\"type\":\"table\"}],\"barpolar\":[{\"marker\":{\"line\":{\"color\":\"#E5ECF6\",\"width\":0.5},\"pattern\":{\"fillmode\":\"overlay\",\"size\":10,\"solidity\":0.2}},\"type\":\"barpolar\"}],\"pie\":[{\"automargin\":true,\"type\":\"pie\"}]},\"layout\":{\"autotypenumbers\":\"strict\",\"colorway\":[\"#636efa\",\"#EF553B\",\"#00cc96\",\"#ab63fa\",\"#FFA15A\",\"#19d3f3\",\"#FF6692\",\"#B6E880\",\"#FF97FF\",\"#FECB52\"],\"font\":{\"color\":\"#2a3f5f\"},\"hovermode\":\"closest\",\"hoverlabel\":{\"align\":\"left\"},\"paper_bgcolor\":\"white\",\"plot_bgcolor\":\"#E5ECF6\",\"polar\":{\"bgcolor\":\"#E5ECF6\",\"angularaxis\":{\"gridcolor\":\"white\",\"linecolor\":\"white\",\"ticks\":\"\"},\"radialaxis\":{\"gridcolor\":\"white\",\"linecolor\":\"white\",\"ticks\":\"\"}},\"ternary\":{\"bgcolor\":\"#E5ECF6\",\"aaxis\":{\"gridcolor\":\"white\",\"linecolor\":\"white\",\"ticks\":\"\"},\"baxis\":{\"gridcolor\":\"white\",\"linecolor\":\"white\",\"ticks\":\"\"},\"caxis\":{\"gridcolor\":\"white\",\"linecolor\":\"white\",\"ticks\":\"\"}},\"coloraxis\":{\"colorbar\":{\"outlinewidth\":0,\"ticks\":\"\"}},\"colorscale\":{\"sequential\":[[0.0,\"#0d0887\"],[0.1111111111111111,\"#46039f\"],[0.2222222222222222,\"#7201a8\"],[0.3333333333333333,\"#9c179e\"],[0.4444444444444444,\"#bd3786\"],[0.5555555555555556,\"#d8576b\"],[0.6666666666666666,\"#ed7953\"],[0.7777777777777778,\"#fb9f3a\"],[0.8888888888888888,\"#fdca26\"],[1.0,\"#f0f921\"]],\"sequentialminus\":[[0.0,\"#0d0887\"],[0.1111111111111111,\"#46039f\"],[0.2222222222222222,\"#7201a8\"],[0.3333333333333333,\"#9c179e\"],[0.4444444444444444,\"#bd3786\"],[0.5555555555555556,\"#d8576b\"],[0.6666666666666666,\"#ed7953\"],[0.7777777777777778,\"#fb9f3a\"],[0.8888888888888888,\"#fdca26\"],[1.0,\"#f0f921\"]],\"diverging\":[[0,\"#8e0152\"],[0.1,\"#c51b7d\"],[0.2,\"#de77ae\"],[0.3,\"#f1b6da\"],[0.4,\"#fde0ef\"],[0.5,\"#f7f7f7\"],[0.6,\"#e6f5d0\"],[0.7,\"#b8e186\"],[0.8,\"#7fbc41\"],[0.9,\"#4d9221\"],[1,\"#276419\"]]},\"xaxis\":{\"gridcolor\":\"white\",\"linecolor\":\"white\",\"ticks\":\"\",\"title\":{\"standoff\":15},\"zerolinecolor\":\"white\",\"automargin\":true,\"zerolinewidth\":2},\"yaxis\":{\"gridcolor\":\"white\",\"linecolor\":\"white\",\"ticks\":\"\",\"title\":{\"standoff\":15},\"zerolinecolor\":\"white\",\"automargin\":true,\"zerolinewidth\":2},\"scene\":{\"xaxis\":{\"backgroundcolor\":\"#E5ECF6\",\"gridcolor\":\"white\",\"linecolor\":\"white\",\"showbackground\":true,\"ticks\":\"\",\"zerolinecolor\":\"white\",\"gridwidth\":2},\"yaxis\":{\"backgroundcolor\":\"#E5ECF6\",\"gridcolor\":\"white\",\"linecolor\":\"white\",\"showbackground\":true,\"ticks\":\"\",\"zerolinecolor\":\"white\",\"gridwidth\":2},\"zaxis\":{\"backgroundcolor\":\"#E5ECF6\",\"gridcolor\":\"white\",\"linecolor\":\"white\",\"showbackground\":true,\"ticks\":\"\",\"zerolinecolor\":\"white\",\"gridwidth\":2}},\"shapedefaults\":{\"line\":{\"color\":\"#2a3f5f\"}},\"annotationdefaults\":{\"arrowcolor\":\"#2a3f5f\",\"arrowhead\":0,\"arrowwidth\":1},\"geo\":{\"bgcolor\":\"white\",\"landcolor\":\"#E5ECF6\",\"subunitcolor\":\"white\",\"showland\":true,\"showlakes\":true,\"lakecolor\":\"white\"},\"title\":{\"x\":0.05},\"mapbox\":{\"style\":\"light\"}}},\"xaxis\":{\"anchor\":\"y\",\"domain\":[0.0,0.2125],\"title\":{\"text\":\"Year\"}},\"yaxis\":{\"anchor\":\"x\",\"domain\":[0.84375,1.0],\"title\":{\"text\":\"Price to Income Ratio\"}},\"xaxis2\":{\"anchor\":\"y2\",\"domain\":[0.2625,0.475],\"title\":{\"text\":\"Year\"}},\"yaxis2\":{\"anchor\":\"x2\",\"domain\":[0.84375,1.0],\"title\":{\"text\":\"Gross Rental Yield City Centre\"}},\"xaxis3\":{\"anchor\":\"y3\",\"domain\":[0.525,0.7375],\"title\":{\"text\":\"Year\"}},\"yaxis3\":{\"anchor\":\"x3\",\"domain\":[0.84375,1.0],\"title\":{\"text\":\"Gross Rental Yield Outside Centre\"}},\"xaxis4\":{\"anchor\":\"y4\",\"domain\":[0.7875,1.0],\"title\":{\"text\":\"Year\"}},\"yaxis4\":{\"anchor\":\"x4\",\"domain\":[0.84375,1.0],\"title\":{\"text\":\"Price to Rent Ratio City Centre\"}},\"xaxis5\":{\"anchor\":\"y5\",\"domain\":[0.0,0.2125],\"title\":{\"text\":\"Year\"}},\"yaxis5\":{\"anchor\":\"x5\",\"domain\":[0.5625,0.71875],\"title\":{\"text\":\"Price to Rent Ratio Outside City Centre\"}},\"xaxis6\":{\"anchor\":\"y6\",\"domain\":[0.2625,0.475],\"title\":{\"text\":\"Year\"}},\"yaxis6\":{\"anchor\":\"x6\",\"domain\":[0.5625,0.71875],\"title\":{\"text\":\"Mortgage as a Percentage of Income\"}},\"xaxis7\":{\"anchor\":\"y7\",\"domain\":[0.525,0.7375],\"title\":{\"text\":\"Year\"}},\"yaxis7\":{\"anchor\":\"x7\",\"domain\":[0.5625,0.71875],\"title\":{\"text\":\"Affordability Index\"}},\"xaxis8\":{\"anchor\":\"y8\",\"domain\":[0.7875,1.0],\"title\":{\"text\":\"Year\"}},\"yaxis8\":{\"anchor\":\"x8\",\"domain\":[0.5625,0.71875],\"title\":{\"text\":\"Crime Index\"}},\"xaxis9\":{\"anchor\":\"y9\",\"domain\":[0.0,0.2125],\"title\":{\"text\":\"Year\"}},\"yaxis9\":{\"anchor\":\"x9\",\"domain\":[0.28125,0.4375],\"title\":{\"text\":\"Safety Index\"}},\"xaxis10\":{\"anchor\":\"y10\",\"domain\":[0.2625,0.475],\"title\":{\"text\":\"Year\"}},\"yaxis10\":{\"anchor\":\"x10\",\"domain\":[0.28125,0.4375],\"title\":{\"text\":\"Cost of Living Index\"}},\"xaxis11\":{\"anchor\":\"y11\",\"domain\":[0.525,0.7375],\"title\":{\"text\":\"Year\"}},\"yaxis11\":{\"anchor\":\"x11\",\"domain\":[0.28125,0.4375],\"title\":{\"text\":\"Rent Index\"}},\"xaxis12\":{\"anchor\":\"y12\",\"domain\":[0.7875,1.0],\"title\":{\"text\":\"Year\"}},\"yaxis12\":{\"anchor\":\"x12\",\"domain\":[0.28125,0.4375],\"title\":{\"text\":\"Cost of Living Plus Rent Index\"}},\"xaxis13\":{\"anchor\":\"y13\",\"domain\":[0.0,0.2125],\"title\":{\"text\":\"Year\"}},\"yaxis13\":{\"anchor\":\"x13\",\"domain\":[0.0,0.15625],\"title\":{\"text\":\"Groceries Index\"}},\"xaxis14\":{\"anchor\":\"y14\",\"domain\":[0.2625,0.475],\"title\":{\"text\":\"Year\"}},\"yaxis14\":{\"anchor\":\"x14\",\"domain\":[0.0,0.15625],\"title\":{\"text\":\"Restaurant Index\"}},\"xaxis15\":{\"anchor\":\"y15\",\"domain\":[0.525,0.7375],\"title\":{\"text\":\"Year\"}},\"yaxis15\":{\"anchor\":\"x15\",\"domain\":[0.0,0.15625],\"title\":{\"text\":\"Local Purchasing Power Index\"}},\"xaxis16\":{\"anchor\":\"y16\",\"domain\":[0.7875,1.0]},\"yaxis16\":{\"anchor\":\"x16\",\"domain\":[0.0,0.15625]},\"annotations\":[{\"font\":{\"size\":16},\"showarrow\":false,\"text\":\"Price to Income Ratio\",\"x\":0.10625,\"xanchor\":\"center\",\"xref\":\"paper\",\"y\":1.0,\"yanchor\":\"bottom\",\"yref\":\"paper\"},{\"font\":{\"size\":16},\"showarrow\":false,\"text\":\"Gross Rental Yield City Centre\",\"x\":0.36875,\"xanchor\":\"center\",\"xref\":\"paper\",\"y\":1.0,\"yanchor\":\"bottom\",\"yref\":\"paper\"},{\"font\":{\"size\":16},\"showarrow\":false,\"text\":\"Gross Rental Yield Outside Centre\",\"x\":0.6312500000000001,\"xanchor\":\"center\",\"xref\":\"paper\",\"y\":1.0,\"yanchor\":\"bottom\",\"yref\":\"paper\"},{\"font\":{\"size\":16},\"showarrow\":false,\"text\":\"Price to Rent Ratio City Centre\",\"x\":0.89375,\"xanchor\":\"center\",\"xref\":\"paper\",\"y\":1.0,\"yanchor\":\"bottom\",\"yref\":\"paper\"},{\"font\":{\"size\":16},\"showarrow\":false,\"text\":\"Price to Rent Ratio Outside City Centre\",\"x\":0.10625,\"xanchor\":\"center\",\"xref\":\"paper\",\"y\":0.71875,\"yanchor\":\"bottom\",\"yref\":\"paper\"},{\"font\":{\"size\":16},\"showarrow\":false,\"text\":\"Mortgage as a Percentage of Income\",\"x\":0.36875,\"xanchor\":\"center\",\"xref\":\"paper\",\"y\":0.71875,\"yanchor\":\"bottom\",\"yref\":\"paper\"},{\"font\":{\"size\":16},\"showarrow\":false,\"text\":\"Affordability Index\",\"x\":0.6312500000000001,\"xanchor\":\"center\",\"xref\":\"paper\",\"y\":0.71875,\"yanchor\":\"bottom\",\"yref\":\"paper\"},{\"font\":{\"size\":16},\"showarrow\":false,\"text\":\"Crime Index\",\"x\":0.89375,\"xanchor\":\"center\",\"xref\":\"paper\",\"y\":0.71875,\"yanchor\":\"bottom\",\"yref\":\"paper\"},{\"font\":{\"size\":16},\"showarrow\":false,\"text\":\"Safety Index\",\"x\":0.10625,\"xanchor\":\"center\",\"xref\":\"paper\",\"y\":0.4375,\"yanchor\":\"bottom\",\"yref\":\"paper\"},{\"font\":{\"size\":16},\"showarrow\":false,\"text\":\"Cost of Living Index\",\"x\":0.36875,\"xanchor\":\"center\",\"xref\":\"paper\",\"y\":0.4375,\"yanchor\":\"bottom\",\"yref\":\"paper\"},{\"font\":{\"size\":16},\"showarrow\":false,\"text\":\"Rent Index\",\"x\":0.6312500000000001,\"xanchor\":\"center\",\"xref\":\"paper\",\"y\":0.4375,\"yanchor\":\"bottom\",\"yref\":\"paper\"},{\"font\":{\"size\":16},\"showarrow\":false,\"text\":\"Cost of Living Plus Rent Index\",\"x\":0.89375,\"xanchor\":\"center\",\"xref\":\"paper\",\"y\":0.4375,\"yanchor\":\"bottom\",\"yref\":\"paper\"},{\"font\":{\"size\":16},\"showarrow\":false,\"text\":\"Groceries Index\",\"x\":0.10625,\"xanchor\":\"center\",\"xref\":\"paper\",\"y\":0.15625,\"yanchor\":\"bottom\",\"yref\":\"paper\"},{\"font\":{\"size\":16},\"showarrow\":false,\"text\":\"Restaurant Index\",\"x\":0.36875,\"xanchor\":\"center\",\"xref\":\"paper\",\"y\":0.15625,\"yanchor\":\"bottom\",\"yref\":\"paper\"},{\"font\":{\"size\":16},\"showarrow\":false,\"text\":\"Local Purchasing Power Index\",\"x\":0.6312500000000001,\"xanchor\":\"center\",\"xref\":\"paper\",\"y\":0.15625,\"yanchor\":\"bottom\",\"yref\":\"paper\"}],\"title\":{\"text\":\"Omaha, NE, United States\"},\"height\":1500,\"width\":1500},                        {\"responsive\": true}                    ).then(function(){\n",
       "                            \n",
       "var gd = document.getElementById('9daffbed-e668-4da6-81a5-3a0b141831fe');\n",
       "var x = new MutationObserver(function (mutations, observer) {{\n",
       "        var display = window.getComputedStyle(gd).display;\n",
       "        if (!display || display === 'none') {{\n",
       "            console.log([gd, 'removed!']);\n",
       "            Plotly.purge(gd);\n",
       "            observer.disconnect();\n",
       "        }}\n",
       "}});\n",
       "\n",
       "// Listen for the removal of the full notebook cells\n",
       "var notebookContainer = gd.closest('#notebook-container');\n",
       "if (notebookContainer) {{\n",
       "    x.observe(notebookContainer, {childList: true});\n",
       "}}\n",
       "\n",
       "// Listen for the clearing of the current output cell\n",
       "var outputEl = gd.closest('.output');\n",
       "if (outputEl) {{\n",
       "    x.observe(outputEl, {childList: true});\n",
       "}}\n",
       "\n",
       "                        })                };                });            </script>        </div>"
      ]
     },
     "metadata": {},
     "output_type": "display_data"
    },
    {
     "data": {
      "application/vnd.plotly.v1+json": {
       "config": {
        "plotlyServerURL": "https://plot.ly"
       },
       "data": [
        {
         "mode": "lines+markers",
         "name": "Price to Income Ratio",
         "type": "scatter",
         "x": [
          "2011",
          "2012",
          "2013",
          "2014",
          "2014-mid",
          "2015",
          "2015-mid",
          "2016-mid",
          "2017",
          "2017-mid",
          "2018",
          "2018-mid",
          "2019",
          "2019-mid",
          "2020",
          "2020-mid",
          "2021",
          "2021-mid",
          "2022",
          "2024-mid"
         ],
         "xaxis": "x",
         "y": [
          2.3,
          2.1,
          1.7,
          1.6,
          1.1,
          1.2,
          3.8,
          2.3,
          2.2,
          2.3,
          2.5,
          2.5,
          2.6,
          2.7,
          2.4,
          2.6,
          2.6,
          2,
          1.9,
          2.3
         ],
         "yaxis": "y"
        },
        {
         "mode": "lines+markers",
         "name": "Gross Rental Yield City Centre",
         "type": "scatter",
         "x": [
          "2011",
          "2012",
          "2013",
          "2014",
          "2014-mid",
          "2015",
          "2015-mid",
          "2016-mid",
          "2017",
          "2017-mid",
          "2018",
          "2018-mid",
          "2019",
          "2019-mid",
          "2020",
          "2020-mid",
          "2021",
          "2021-mid",
          "2022",
          "2024-mid"
         ],
         "xaxis": "x2",
         "y": [
          15.1,
          17.5,
          16.4,
          18.7,
          23.5,
          24.5,
          9.2,
          12.3,
          15.3,
          15.2,
          15.3,
          14.6,
          12.3,
          12.5,
          12.2,
          12.4,
          12.3,
          11.6,
          10.8,
          18.6
         ],
         "yaxis": "y2"
        },
        {
         "mode": "lines+markers",
         "name": "Gross Rental Yield Outside Centre",
         "type": "scatter",
         "x": [
          "2011",
          "2012",
          "2013",
          "2014",
          "2014-mid",
          "2015",
          "2015-mid",
          "2016-mid",
          "2017",
          "2017-mid",
          "2018",
          "2018-mid",
          "2019",
          "2019-mid",
          "2020",
          "2020-mid",
          "2021",
          "2021-mid",
          "2022",
          "2024-mid"
         ],
         "xaxis": "x3",
         "y": [
          19.2,
          20.5,
          15.8,
          16.5,
          32.1,
          33.3,
          14.7,
          21.1,
          20.1,
          21.5,
          20.4,
          18.1,
          17.6,
          16.8,
          16.4,
          17,
          19.5,
          21.5,
          21.6,
          16.6
         ],
         "yaxis": "y3"
        },
        {
         "mode": "lines+markers",
         "name": "Price to Rent Ratio City Centre",
         "type": "scatter",
         "x": [
          "2011",
          "2012",
          "2013",
          "2014",
          "2014-mid",
          "2015",
          "2015-mid",
          "2016-mid",
          "2017",
          "2017-mid",
          "2018",
          "2018-mid",
          "2019",
          "2019-mid",
          "2020",
          "2020-mid",
          "2021",
          "2021-mid",
          "2022",
          "2024-mid"
         ],
         "xaxis": "x4",
         "y": [
          6.6,
          5.7,
          6.1,
          5.4,
          4.2,
          4.1,
          10.8,
          8.1,
          6.5,
          6.6,
          6.5,
          6.8,
          8.1,
          8,
          8.2,
          8,
          8.2,
          8.6,
          9.2,
          5.4
         ],
         "yaxis": "y4"
        },
        {
         "mode": "lines+markers",
         "name": "Price to Rent Ratio Outside City Centre",
         "type": "scatter",
         "x": [
          "2011",
          "2012",
          "2013",
          "2014",
          "2014-mid",
          "2015",
          "2015-mid",
          "2016-mid",
          "2017",
          "2017-mid",
          "2018",
          "2018-mid",
          "2019",
          "2019-mid",
          "2020",
          "2020-mid",
          "2021",
          "2021-mid",
          "2022",
          "2024-mid"
         ],
         "xaxis": "x5",
         "y": [
          5.2,
          4.9,
          6.3,
          6.1,
          3.1,
          3,
          6.8,
          4.7,
          5,
          4.7,
          4.9,
          5.5,
          5.7,
          5.9,
          6.1,
          5.9,
          5.1,
          4.7,
          4.6,
          6
         ],
         "yaxis": "y5"
        },
        {
         "mode": "lines+markers",
         "name": "Mortgage as a Percentage of Income",
         "type": "scatter",
         "x": [
          "2011",
          "2012",
          "2013",
          "2014",
          "2014-mid",
          "2015",
          "2015-mid",
          "2016-mid",
          "2017",
          "2017-mid",
          "2018",
          "2018-mid",
          "2019",
          "2019-mid",
          "2020",
          "2020-mid",
          "2021",
          "2021-mid",
          "2022",
          "2024-mid"
         ],
         "xaxis": "x6",
         "y": [
          "18.4",
          "15.9",
          "12.0",
          "11.7",
          "8.3",
          "8.7",
          "29.1",
          "17.3",
          "16.5",
          "16.4",
          "18.4",
          "18.1",
          "19.0",
          "19.8",
          "18.1",
          "19.5",
          "18.6",
          "14.3",
          "13.7",
          "21.1"
         ],
         "yaxis": "y6"
        },
        {
         "mode": "lines+markers",
         "name": "Affordability Index",
         "type": "scatter",
         "x": [
          "2011",
          "2012",
          "2013",
          "2014",
          "2014-mid",
          "2015",
          "2015-mid",
          "2016-mid",
          "2017",
          "2017-mid",
          "2018",
          "2018-mid",
          "2019",
          "2019-mid",
          "2020",
          "2020-mid",
          "2021",
          "2021-mid",
          "2022",
          "2024-mid"
         ],
         "xaxis": "x7",
         "y": [
          "5.4",
          "6.3",
          "8.3",
          "8.5",
          "12.0",
          "11.5",
          "3.4",
          "5.8",
          "6.1",
          "6.1",
          "5.4",
          "5.5",
          "5.3",
          "5.1",
          "5.5",
          "5.1",
          "5.4",
          "7.0",
          "7.3",
          "4.7"
         ],
         "yaxis": "y7"
        },
        {
         "mode": "lines+markers",
         "name": "Crime Index",
         "type": "scatter",
         "x": [
          "2011",
          "2012",
          "2013",
          "2014",
          "2014-mid",
          "2015",
          "2015-mid",
          "2016-mid",
          "2017",
          "2017-mid",
          "2018",
          "2018-mid",
          "2019",
          "2019-mid",
          "2020",
          "2020-mid",
          "2021",
          "2021-mid",
          "2022",
          "2024-mid"
         ],
         "xaxis": "x8",
         "y": [
          null,
          null,
          null,
          64.3,
          65.2,
          65.2,
          59.3,
          65.6,
          69.2,
          70,
          70.2,
          71.4,
          71.3,
          71.1,
          73.2,
          74.8,
          74.6,
          75,
          75,
          74.7
         ],
         "yaxis": "y8"
        },
        {
         "mode": "lines+markers",
         "name": "Safety Index",
         "type": "scatter",
         "x": [
          "2011",
          "2012",
          "2013",
          "2014",
          "2014-mid",
          "2015",
          "2015-mid",
          "2016-mid",
          "2017",
          "2017-mid",
          "2018",
          "2018-mid",
          "2019",
          "2019-mid",
          "2020",
          "2020-mid",
          "2021",
          "2021-mid",
          "2022",
          "2024-mid"
         ],
         "xaxis": "x9",
         "y": [
          null,
          null,
          null,
          35.7,
          34.8,
          34.8,
          40.7,
          34.4,
          30.8,
          30,
          29.8,
          28.6,
          28.7,
          28.9,
          26.8,
          25.2,
          25.4,
          25,
          25,
          25.3
         ],
         "yaxis": "y9"
        },
        {
         "mode": "lines+markers",
         "name": "Cost of Living Index",
         "type": "scatter",
         "x": [
          "2011",
          "2012",
          "2013",
          "2014",
          "2014-mid",
          "2015",
          "2015-mid",
          "2016-mid",
          "2017",
          "2017-mid",
          "2018",
          "2018-mid",
          "2019",
          "2019-mid",
          "2020",
          "2020-mid",
          "2021",
          "2021-mid",
          "2022",
          "2024-mid"
         ],
         "xaxis": "x10",
         "y": [
          null,
          null,
          null,
          null,
          null,
          null,
          null,
          null,
          null,
          null,
          null,
          null,
          75.2,
          null,
          null,
          null,
          null,
          null,
          null,
          null
         ],
         "yaxis": "y10"
        },
        {
         "mode": "lines+markers",
         "name": "Rent Index",
         "type": "scatter",
         "x": [
          "2011",
          "2012",
          "2013",
          "2014",
          "2014-mid",
          "2015",
          "2015-mid",
          "2016-mid",
          "2017",
          "2017-mid",
          "2018",
          "2018-mid",
          "2019",
          "2019-mid",
          "2020",
          "2020-mid",
          "2021",
          "2021-mid",
          "2022",
          "2024-mid"
         ],
         "xaxis": "x11",
         "y": [
          null,
          null,
          null,
          null,
          null,
          null,
          null,
          null,
          null,
          null,
          null,
          null,
          40,
          null,
          null,
          null,
          null,
          null,
          null,
          null
         ],
         "yaxis": "y11"
        },
        {
         "mode": "lines+markers",
         "name": "Cost of Living Plus Rent Index",
         "type": "scatter",
         "x": [
          "2011",
          "2012",
          "2013",
          "2014",
          "2014-mid",
          "2015",
          "2015-mid",
          "2016-mid",
          "2017",
          "2017-mid",
          "2018",
          "2018-mid",
          "2019",
          "2019-mid",
          "2020",
          "2020-mid",
          "2021",
          "2021-mid",
          "2022",
          "2024-mid"
         ],
         "xaxis": "x12",
         "y": [
          null,
          null,
          null,
          null,
          null,
          null,
          null,
          null,
          null,
          null,
          null,
          null,
          58.3,
          null,
          null,
          null,
          null,
          null,
          null,
          null
         ],
         "yaxis": "y12"
        },
        {
         "mode": "lines+markers",
         "name": "Groceries Index",
         "type": "scatter",
         "x": [
          "2011",
          "2012",
          "2013",
          "2014",
          "2014-mid",
          "2015",
          "2015-mid",
          "2016-mid",
          "2017",
          "2017-mid",
          "2018",
          "2018-mid",
          "2019",
          "2019-mid",
          "2020",
          "2020-mid",
          "2021",
          "2021-mid",
          "2022",
          "2024-mid"
         ],
         "xaxis": "x13",
         "y": [
          null,
          null,
          null,
          null,
          null,
          null,
          null,
          null,
          null,
          null,
          null,
          null,
          73,
          null,
          null,
          null,
          null,
          null,
          null,
          null
         ],
         "yaxis": "y13"
        },
        {
         "mode": "lines+markers",
         "name": "Restaurant Index",
         "type": "scatter",
         "x": [
          "2011",
          "2012",
          "2013",
          "2014",
          "2014-mid",
          "2015",
          "2015-mid",
          "2016-mid",
          "2017",
          "2017-mid",
          "2018",
          "2018-mid",
          "2019",
          "2019-mid",
          "2020",
          "2020-mid",
          "2021",
          "2021-mid",
          "2022",
          "2024-mid"
         ],
         "xaxis": "x14",
         "y": [
          null,
          null,
          null,
          null,
          null,
          null,
          null,
          null,
          null,
          null,
          null,
          null,
          77.3,
          null,
          null,
          null,
          null,
          null,
          null,
          null
         ],
         "yaxis": "y14"
        },
        {
         "mode": "lines+markers",
         "name": "Local Purchasing Power Index",
         "type": "scatter",
         "x": [
          "2011",
          "2012",
          "2013",
          "2014",
          "2014-mid",
          "2015",
          "2015-mid",
          "2016-mid",
          "2017",
          "2017-mid",
          "2018",
          "2018-mid",
          "2019",
          "2019-mid",
          "2020",
          "2020-mid",
          "2021",
          "2021-mid",
          "2022",
          "2024-mid"
         ],
         "xaxis": "x15",
         "y": [
          null,
          null,
          null,
          null,
          null,
          null,
          null,
          null,
          null,
          null,
          null,
          null,
          125.4,
          null,
          null,
          null,
          null,
          null,
          null,
          null
         ],
         "yaxis": "y15"
        }
       ],
       "layout": {
        "annotations": [
         {
          "font": {
           "size": 16
          },
          "showarrow": false,
          "text": "Price to Income Ratio",
          "x": 0.10625,
          "xanchor": "center",
          "xref": "paper",
          "y": 1,
          "yanchor": "bottom",
          "yref": "paper"
         },
         {
          "font": {
           "size": 16
          },
          "showarrow": false,
          "text": "Gross Rental Yield City Centre",
          "x": 0.36875,
          "xanchor": "center",
          "xref": "paper",
          "y": 1,
          "yanchor": "bottom",
          "yref": "paper"
         },
         {
          "font": {
           "size": 16
          },
          "showarrow": false,
          "text": "Gross Rental Yield Outside Centre",
          "x": 0.6312500000000001,
          "xanchor": "center",
          "xref": "paper",
          "y": 1,
          "yanchor": "bottom",
          "yref": "paper"
         },
         {
          "font": {
           "size": 16
          },
          "showarrow": false,
          "text": "Price to Rent Ratio City Centre",
          "x": 0.89375,
          "xanchor": "center",
          "xref": "paper",
          "y": 1,
          "yanchor": "bottom",
          "yref": "paper"
         },
         {
          "font": {
           "size": 16
          },
          "showarrow": false,
          "text": "Price to Rent Ratio Outside City Centre",
          "x": 0.10625,
          "xanchor": "center",
          "xref": "paper",
          "y": 0.71875,
          "yanchor": "bottom",
          "yref": "paper"
         },
         {
          "font": {
           "size": 16
          },
          "showarrow": false,
          "text": "Mortgage as a Percentage of Income",
          "x": 0.36875,
          "xanchor": "center",
          "xref": "paper",
          "y": 0.71875,
          "yanchor": "bottom",
          "yref": "paper"
         },
         {
          "font": {
           "size": 16
          },
          "showarrow": false,
          "text": "Affordability Index",
          "x": 0.6312500000000001,
          "xanchor": "center",
          "xref": "paper",
          "y": 0.71875,
          "yanchor": "bottom",
          "yref": "paper"
         },
         {
          "font": {
           "size": 16
          },
          "showarrow": false,
          "text": "Crime Index",
          "x": 0.89375,
          "xanchor": "center",
          "xref": "paper",
          "y": 0.71875,
          "yanchor": "bottom",
          "yref": "paper"
         },
         {
          "font": {
           "size": 16
          },
          "showarrow": false,
          "text": "Safety Index",
          "x": 0.10625,
          "xanchor": "center",
          "xref": "paper",
          "y": 0.4375,
          "yanchor": "bottom",
          "yref": "paper"
         },
         {
          "font": {
           "size": 16
          },
          "showarrow": false,
          "text": "Cost of Living Index",
          "x": 0.36875,
          "xanchor": "center",
          "xref": "paper",
          "y": 0.4375,
          "yanchor": "bottom",
          "yref": "paper"
         },
         {
          "font": {
           "size": 16
          },
          "showarrow": false,
          "text": "Rent Index",
          "x": 0.6312500000000001,
          "xanchor": "center",
          "xref": "paper",
          "y": 0.4375,
          "yanchor": "bottom",
          "yref": "paper"
         },
         {
          "font": {
           "size": 16
          },
          "showarrow": false,
          "text": "Cost of Living Plus Rent Index",
          "x": 0.89375,
          "xanchor": "center",
          "xref": "paper",
          "y": 0.4375,
          "yanchor": "bottom",
          "yref": "paper"
         },
         {
          "font": {
           "size": 16
          },
          "showarrow": false,
          "text": "Groceries Index",
          "x": 0.10625,
          "xanchor": "center",
          "xref": "paper",
          "y": 0.15625,
          "yanchor": "bottom",
          "yref": "paper"
         },
         {
          "font": {
           "size": 16
          },
          "showarrow": false,
          "text": "Restaurant Index",
          "x": 0.36875,
          "xanchor": "center",
          "xref": "paper",
          "y": 0.15625,
          "yanchor": "bottom",
          "yref": "paper"
         },
         {
          "font": {
           "size": 16
          },
          "showarrow": false,
          "text": "Local Purchasing Power Index",
          "x": 0.6312500000000001,
          "xanchor": "center",
          "xref": "paper",
          "y": 0.15625,
          "yanchor": "bottom",
          "yref": "paper"
         }
        ],
        "height": 1500,
        "template": {
         "data": {
          "bar": [
           {
            "error_x": {
             "color": "#2a3f5f"
            },
            "error_y": {
             "color": "#2a3f5f"
            },
            "marker": {
             "line": {
              "color": "#E5ECF6",
              "width": 0.5
             },
             "pattern": {
              "fillmode": "overlay",
              "size": 10,
              "solidity": 0.2
             }
            },
            "type": "bar"
           }
          ],
          "barpolar": [
           {
            "marker": {
             "line": {
              "color": "#E5ECF6",
              "width": 0.5
             },
             "pattern": {
              "fillmode": "overlay",
              "size": 10,
              "solidity": 0.2
             }
            },
            "type": "barpolar"
           }
          ],
          "carpet": [
           {
            "aaxis": {
             "endlinecolor": "#2a3f5f",
             "gridcolor": "white",
             "linecolor": "white",
             "minorgridcolor": "white",
             "startlinecolor": "#2a3f5f"
            },
            "baxis": {
             "endlinecolor": "#2a3f5f",
             "gridcolor": "white",
             "linecolor": "white",
             "minorgridcolor": "white",
             "startlinecolor": "#2a3f5f"
            },
            "type": "carpet"
           }
          ],
          "choropleth": [
           {
            "colorbar": {
             "outlinewidth": 0,
             "ticks": ""
            },
            "type": "choropleth"
           }
          ],
          "contour": [
           {
            "colorbar": {
             "outlinewidth": 0,
             "ticks": ""
            },
            "colorscale": [
             [
              0,
              "#0d0887"
             ],
             [
              0.1111111111111111,
              "#46039f"
             ],
             [
              0.2222222222222222,
              "#7201a8"
             ],
             [
              0.3333333333333333,
              "#9c179e"
             ],
             [
              0.4444444444444444,
              "#bd3786"
             ],
             [
              0.5555555555555556,
              "#d8576b"
             ],
             [
              0.6666666666666666,
              "#ed7953"
             ],
             [
              0.7777777777777778,
              "#fb9f3a"
             ],
             [
              0.8888888888888888,
              "#fdca26"
             ],
             [
              1,
              "#f0f921"
             ]
            ],
            "type": "contour"
           }
          ],
          "contourcarpet": [
           {
            "colorbar": {
             "outlinewidth": 0,
             "ticks": ""
            },
            "type": "contourcarpet"
           }
          ],
          "heatmap": [
           {
            "colorbar": {
             "outlinewidth": 0,
             "ticks": ""
            },
            "colorscale": [
             [
              0,
              "#0d0887"
             ],
             [
              0.1111111111111111,
              "#46039f"
             ],
             [
              0.2222222222222222,
              "#7201a8"
             ],
             [
              0.3333333333333333,
              "#9c179e"
             ],
             [
              0.4444444444444444,
              "#bd3786"
             ],
             [
              0.5555555555555556,
              "#d8576b"
             ],
             [
              0.6666666666666666,
              "#ed7953"
             ],
             [
              0.7777777777777778,
              "#fb9f3a"
             ],
             [
              0.8888888888888888,
              "#fdca26"
             ],
             [
              1,
              "#f0f921"
             ]
            ],
            "type": "heatmap"
           }
          ],
          "heatmapgl": [
           {
            "colorbar": {
             "outlinewidth": 0,
             "ticks": ""
            },
            "colorscale": [
             [
              0,
              "#0d0887"
             ],
             [
              0.1111111111111111,
              "#46039f"
             ],
             [
              0.2222222222222222,
              "#7201a8"
             ],
             [
              0.3333333333333333,
              "#9c179e"
             ],
             [
              0.4444444444444444,
              "#bd3786"
             ],
             [
              0.5555555555555556,
              "#d8576b"
             ],
             [
              0.6666666666666666,
              "#ed7953"
             ],
             [
              0.7777777777777778,
              "#fb9f3a"
             ],
             [
              0.8888888888888888,
              "#fdca26"
             ],
             [
              1,
              "#f0f921"
             ]
            ],
            "type": "heatmapgl"
           }
          ],
          "histogram": [
           {
            "marker": {
             "pattern": {
              "fillmode": "overlay",
              "size": 10,
              "solidity": 0.2
             }
            },
            "type": "histogram"
           }
          ],
          "histogram2d": [
           {
            "colorbar": {
             "outlinewidth": 0,
             "ticks": ""
            },
            "colorscale": [
             [
              0,
              "#0d0887"
             ],
             [
              0.1111111111111111,
              "#46039f"
             ],
             [
              0.2222222222222222,
              "#7201a8"
             ],
             [
              0.3333333333333333,
              "#9c179e"
             ],
             [
              0.4444444444444444,
              "#bd3786"
             ],
             [
              0.5555555555555556,
              "#d8576b"
             ],
             [
              0.6666666666666666,
              "#ed7953"
             ],
             [
              0.7777777777777778,
              "#fb9f3a"
             ],
             [
              0.8888888888888888,
              "#fdca26"
             ],
             [
              1,
              "#f0f921"
             ]
            ],
            "type": "histogram2d"
           }
          ],
          "histogram2dcontour": [
           {
            "colorbar": {
             "outlinewidth": 0,
             "ticks": ""
            },
            "colorscale": [
             [
              0,
              "#0d0887"
             ],
             [
              0.1111111111111111,
              "#46039f"
             ],
             [
              0.2222222222222222,
              "#7201a8"
             ],
             [
              0.3333333333333333,
              "#9c179e"
             ],
             [
              0.4444444444444444,
              "#bd3786"
             ],
             [
              0.5555555555555556,
              "#d8576b"
             ],
             [
              0.6666666666666666,
              "#ed7953"
             ],
             [
              0.7777777777777778,
              "#fb9f3a"
             ],
             [
              0.8888888888888888,
              "#fdca26"
             ],
             [
              1,
              "#f0f921"
             ]
            ],
            "type": "histogram2dcontour"
           }
          ],
          "mesh3d": [
           {
            "colorbar": {
             "outlinewidth": 0,
             "ticks": ""
            },
            "type": "mesh3d"
           }
          ],
          "parcoords": [
           {
            "line": {
             "colorbar": {
              "outlinewidth": 0,
              "ticks": ""
             }
            },
            "type": "parcoords"
           }
          ],
          "pie": [
           {
            "automargin": true,
            "type": "pie"
           }
          ],
          "scatter": [
           {
            "fillpattern": {
             "fillmode": "overlay",
             "size": 10,
             "solidity": 0.2
            },
            "type": "scatter"
           }
          ],
          "scatter3d": [
           {
            "line": {
             "colorbar": {
              "outlinewidth": 0,
              "ticks": ""
             }
            },
            "marker": {
             "colorbar": {
              "outlinewidth": 0,
              "ticks": ""
             }
            },
            "type": "scatter3d"
           }
          ],
          "scattercarpet": [
           {
            "marker": {
             "colorbar": {
              "outlinewidth": 0,
              "ticks": ""
             }
            },
            "type": "scattercarpet"
           }
          ],
          "scattergeo": [
           {
            "marker": {
             "colorbar": {
              "outlinewidth": 0,
              "ticks": ""
             }
            },
            "type": "scattergeo"
           }
          ],
          "scattergl": [
           {
            "marker": {
             "colorbar": {
              "outlinewidth": 0,
              "ticks": ""
             }
            },
            "type": "scattergl"
           }
          ],
          "scattermapbox": [
           {
            "marker": {
             "colorbar": {
              "outlinewidth": 0,
              "ticks": ""
             }
            },
            "type": "scattermapbox"
           }
          ],
          "scatterpolar": [
           {
            "marker": {
             "colorbar": {
              "outlinewidth": 0,
              "ticks": ""
             }
            },
            "type": "scatterpolar"
           }
          ],
          "scatterpolargl": [
           {
            "marker": {
             "colorbar": {
              "outlinewidth": 0,
              "ticks": ""
             }
            },
            "type": "scatterpolargl"
           }
          ],
          "scatterternary": [
           {
            "marker": {
             "colorbar": {
              "outlinewidth": 0,
              "ticks": ""
             }
            },
            "type": "scatterternary"
           }
          ],
          "surface": [
           {
            "colorbar": {
             "outlinewidth": 0,
             "ticks": ""
            },
            "colorscale": [
             [
              0,
              "#0d0887"
             ],
             [
              0.1111111111111111,
              "#46039f"
             ],
             [
              0.2222222222222222,
              "#7201a8"
             ],
             [
              0.3333333333333333,
              "#9c179e"
             ],
             [
              0.4444444444444444,
              "#bd3786"
             ],
             [
              0.5555555555555556,
              "#d8576b"
             ],
             [
              0.6666666666666666,
              "#ed7953"
             ],
             [
              0.7777777777777778,
              "#fb9f3a"
             ],
             [
              0.8888888888888888,
              "#fdca26"
             ],
             [
              1,
              "#f0f921"
             ]
            ],
            "type": "surface"
           }
          ],
          "table": [
           {
            "cells": {
             "fill": {
              "color": "#EBF0F8"
             },
             "line": {
              "color": "white"
             }
            },
            "header": {
             "fill": {
              "color": "#C8D4E3"
             },
             "line": {
              "color": "white"
             }
            },
            "type": "table"
           }
          ]
         },
         "layout": {
          "annotationdefaults": {
           "arrowcolor": "#2a3f5f",
           "arrowhead": 0,
           "arrowwidth": 1
          },
          "autotypenumbers": "strict",
          "coloraxis": {
           "colorbar": {
            "outlinewidth": 0,
            "ticks": ""
           }
          },
          "colorscale": {
           "diverging": [
            [
             0,
             "#8e0152"
            ],
            [
             0.1,
             "#c51b7d"
            ],
            [
             0.2,
             "#de77ae"
            ],
            [
             0.3,
             "#f1b6da"
            ],
            [
             0.4,
             "#fde0ef"
            ],
            [
             0.5,
             "#f7f7f7"
            ],
            [
             0.6,
             "#e6f5d0"
            ],
            [
             0.7,
             "#b8e186"
            ],
            [
             0.8,
             "#7fbc41"
            ],
            [
             0.9,
             "#4d9221"
            ],
            [
             1,
             "#276419"
            ]
           ],
           "sequential": [
            [
             0,
             "#0d0887"
            ],
            [
             0.1111111111111111,
             "#46039f"
            ],
            [
             0.2222222222222222,
             "#7201a8"
            ],
            [
             0.3333333333333333,
             "#9c179e"
            ],
            [
             0.4444444444444444,
             "#bd3786"
            ],
            [
             0.5555555555555556,
             "#d8576b"
            ],
            [
             0.6666666666666666,
             "#ed7953"
            ],
            [
             0.7777777777777778,
             "#fb9f3a"
            ],
            [
             0.8888888888888888,
             "#fdca26"
            ],
            [
             1,
             "#f0f921"
            ]
           ],
           "sequentialminus": [
            [
             0,
             "#0d0887"
            ],
            [
             0.1111111111111111,
             "#46039f"
            ],
            [
             0.2222222222222222,
             "#7201a8"
            ],
            [
             0.3333333333333333,
             "#9c179e"
            ],
            [
             0.4444444444444444,
             "#bd3786"
            ],
            [
             0.5555555555555556,
             "#d8576b"
            ],
            [
             0.6666666666666666,
             "#ed7953"
            ],
            [
             0.7777777777777778,
             "#fb9f3a"
            ],
            [
             0.8888888888888888,
             "#fdca26"
            ],
            [
             1,
             "#f0f921"
            ]
           ]
          },
          "colorway": [
           "#636efa",
           "#EF553B",
           "#00cc96",
           "#ab63fa",
           "#FFA15A",
           "#19d3f3",
           "#FF6692",
           "#B6E880",
           "#FF97FF",
           "#FECB52"
          ],
          "font": {
           "color": "#2a3f5f"
          },
          "geo": {
           "bgcolor": "white",
           "lakecolor": "white",
           "landcolor": "#E5ECF6",
           "showlakes": true,
           "showland": true,
           "subunitcolor": "white"
          },
          "hoverlabel": {
           "align": "left"
          },
          "hovermode": "closest",
          "mapbox": {
           "style": "light"
          },
          "paper_bgcolor": "white",
          "plot_bgcolor": "#E5ECF6",
          "polar": {
           "angularaxis": {
            "gridcolor": "white",
            "linecolor": "white",
            "ticks": ""
           },
           "bgcolor": "#E5ECF6",
           "radialaxis": {
            "gridcolor": "white",
            "linecolor": "white",
            "ticks": ""
           }
          },
          "scene": {
           "xaxis": {
            "backgroundcolor": "#E5ECF6",
            "gridcolor": "white",
            "gridwidth": 2,
            "linecolor": "white",
            "showbackground": true,
            "ticks": "",
            "zerolinecolor": "white"
           },
           "yaxis": {
            "backgroundcolor": "#E5ECF6",
            "gridcolor": "white",
            "gridwidth": 2,
            "linecolor": "white",
            "showbackground": true,
            "ticks": "",
            "zerolinecolor": "white"
           },
           "zaxis": {
            "backgroundcolor": "#E5ECF6",
            "gridcolor": "white",
            "gridwidth": 2,
            "linecolor": "white",
            "showbackground": true,
            "ticks": "",
            "zerolinecolor": "white"
           }
          },
          "shapedefaults": {
           "line": {
            "color": "#2a3f5f"
           }
          },
          "ternary": {
           "aaxis": {
            "gridcolor": "white",
            "linecolor": "white",
            "ticks": ""
           },
           "baxis": {
            "gridcolor": "white",
            "linecolor": "white",
            "ticks": ""
           },
           "bgcolor": "#E5ECF6",
           "caxis": {
            "gridcolor": "white",
            "linecolor": "white",
            "ticks": ""
           }
          },
          "title": {
           "x": 0.05
          },
          "xaxis": {
           "automargin": true,
           "gridcolor": "white",
           "linecolor": "white",
           "ticks": "",
           "title": {
            "standoff": 15
           },
           "zerolinecolor": "white",
           "zerolinewidth": 2
          },
          "yaxis": {
           "automargin": true,
           "gridcolor": "white",
           "linecolor": "white",
           "ticks": "",
           "title": {
            "standoff": 15
           },
           "zerolinecolor": "white",
           "zerolinewidth": 2
          }
         }
        },
        "title": {
         "text": "Baltimore, MD, United States"
        },
        "width": 1500,
        "xaxis": {
         "anchor": "y",
         "domain": [
          0,
          0.2125
         ],
         "title": {
          "text": "Year"
         }
        },
        "xaxis10": {
         "anchor": "y10",
         "domain": [
          0.2625,
          0.475
         ],
         "title": {
          "text": "Year"
         }
        },
        "xaxis11": {
         "anchor": "y11",
         "domain": [
          0.525,
          0.7375
         ],
         "title": {
          "text": "Year"
         }
        },
        "xaxis12": {
         "anchor": "y12",
         "domain": [
          0.7875,
          1
         ],
         "title": {
          "text": "Year"
         }
        },
        "xaxis13": {
         "anchor": "y13",
         "domain": [
          0,
          0.2125
         ],
         "title": {
          "text": "Year"
         }
        },
        "xaxis14": {
         "anchor": "y14",
         "domain": [
          0.2625,
          0.475
         ],
         "title": {
          "text": "Year"
         }
        },
        "xaxis15": {
         "anchor": "y15",
         "domain": [
          0.525,
          0.7375
         ],
         "title": {
          "text": "Year"
         }
        },
        "xaxis16": {
         "anchor": "y16",
         "domain": [
          0.7875,
          1
         ]
        },
        "xaxis2": {
         "anchor": "y2",
         "domain": [
          0.2625,
          0.475
         ],
         "title": {
          "text": "Year"
         }
        },
        "xaxis3": {
         "anchor": "y3",
         "domain": [
          0.525,
          0.7375
         ],
         "title": {
          "text": "Year"
         }
        },
        "xaxis4": {
         "anchor": "y4",
         "domain": [
          0.7875,
          1
         ],
         "title": {
          "text": "Year"
         }
        },
        "xaxis5": {
         "anchor": "y5",
         "domain": [
          0,
          0.2125
         ],
         "title": {
          "text": "Year"
         }
        },
        "xaxis6": {
         "anchor": "y6",
         "domain": [
          0.2625,
          0.475
         ],
         "title": {
          "text": "Year"
         }
        },
        "xaxis7": {
         "anchor": "y7",
         "domain": [
          0.525,
          0.7375
         ],
         "title": {
          "text": "Year"
         }
        },
        "xaxis8": {
         "anchor": "y8",
         "domain": [
          0.7875,
          1
         ],
         "title": {
          "text": "Year"
         }
        },
        "xaxis9": {
         "anchor": "y9",
         "domain": [
          0,
          0.2125
         ],
         "title": {
          "text": "Year"
         }
        },
        "yaxis": {
         "anchor": "x",
         "domain": [
          0.84375,
          1
         ],
         "title": {
          "text": "Price to Income Ratio"
         }
        },
        "yaxis10": {
         "anchor": "x10",
         "domain": [
          0.28125,
          0.4375
         ],
         "title": {
          "text": "Cost of Living Index"
         }
        },
        "yaxis11": {
         "anchor": "x11",
         "domain": [
          0.28125,
          0.4375
         ],
         "title": {
          "text": "Rent Index"
         }
        },
        "yaxis12": {
         "anchor": "x12",
         "domain": [
          0.28125,
          0.4375
         ],
         "title": {
          "text": "Cost of Living Plus Rent Index"
         }
        },
        "yaxis13": {
         "anchor": "x13",
         "domain": [
          0,
          0.15625
         ],
         "title": {
          "text": "Groceries Index"
         }
        },
        "yaxis14": {
         "anchor": "x14",
         "domain": [
          0,
          0.15625
         ],
         "title": {
          "text": "Restaurant Index"
         }
        },
        "yaxis15": {
         "anchor": "x15",
         "domain": [
          0,
          0.15625
         ],
         "title": {
          "text": "Local Purchasing Power Index"
         }
        },
        "yaxis16": {
         "anchor": "x16",
         "domain": [
          0,
          0.15625
         ]
        },
        "yaxis2": {
         "anchor": "x2",
         "domain": [
          0.84375,
          1
         ],
         "title": {
          "text": "Gross Rental Yield City Centre"
         }
        },
        "yaxis3": {
         "anchor": "x3",
         "domain": [
          0.84375,
          1
         ],
         "title": {
          "text": "Gross Rental Yield Outside Centre"
         }
        },
        "yaxis4": {
         "anchor": "x4",
         "domain": [
          0.84375,
          1
         ],
         "title": {
          "text": "Price to Rent Ratio City Centre"
         }
        },
        "yaxis5": {
         "anchor": "x5",
         "domain": [
          0.5625,
          0.71875
         ],
         "title": {
          "text": "Price to Rent Ratio Outside City Centre"
         }
        },
        "yaxis6": {
         "anchor": "x6",
         "domain": [
          0.5625,
          0.71875
         ],
         "title": {
          "text": "Mortgage as a Percentage of Income"
         }
        },
        "yaxis7": {
         "anchor": "x7",
         "domain": [
          0.5625,
          0.71875
         ],
         "title": {
          "text": "Affordability Index"
         }
        },
        "yaxis8": {
         "anchor": "x8",
         "domain": [
          0.5625,
          0.71875
         ],
         "title": {
          "text": "Crime Index"
         }
        },
        "yaxis9": {
         "anchor": "x9",
         "domain": [
          0.28125,
          0.4375
         ],
         "title": {
          "text": "Safety Index"
         }
        }
       }
      },
      "text/html": [
       "<div>                            <div id=\"0215ca7e-bb6e-4dcd-8144-b5928a8f8bd2\" class=\"plotly-graph-div\" style=\"height:1500px; width:1500px;\"></div>            <script type=\"text/javascript\">                require([\"plotly\"], function(Plotly) {                    window.PLOTLYENV=window.PLOTLYENV || {};                                    if (document.getElementById(\"0215ca7e-bb6e-4dcd-8144-b5928a8f8bd2\")) {                    Plotly.newPlot(                        \"0215ca7e-bb6e-4dcd-8144-b5928a8f8bd2\",                        [{\"mode\":\"lines+markers\",\"name\":\"Price to Income Ratio\",\"x\":[\"2011\",\"2012\",\"2013\",\"2014\",\"2014-mid\",\"2015\",\"2015-mid\",\"2016-mid\",\"2017\",\"2017-mid\",\"2018\",\"2018-mid\",\"2019\",\"2019-mid\",\"2020\",\"2020-mid\",\"2021\",\"2021-mid\",\"2022\",\"2024-mid\"],\"y\":[2.3,2.1,1.7,1.6,1.1,1.2,3.8,2.3,2.2,2.3,2.5,2.5,2.6,2.7,2.4,2.6,2.6,2.0,1.9,2.3],\"type\":\"scatter\",\"xaxis\":\"x\",\"yaxis\":\"y\"},{\"mode\":\"lines+markers\",\"name\":\"Gross Rental Yield City Centre\",\"x\":[\"2011\",\"2012\",\"2013\",\"2014\",\"2014-mid\",\"2015\",\"2015-mid\",\"2016-mid\",\"2017\",\"2017-mid\",\"2018\",\"2018-mid\",\"2019\",\"2019-mid\",\"2020\",\"2020-mid\",\"2021\",\"2021-mid\",\"2022\",\"2024-mid\"],\"y\":[15.1,17.5,16.4,18.7,23.5,24.5,9.2,12.3,15.3,15.2,15.3,14.6,12.3,12.5,12.2,12.4,12.3,11.6,10.8,18.6],\"type\":\"scatter\",\"xaxis\":\"x2\",\"yaxis\":\"y2\"},{\"mode\":\"lines+markers\",\"name\":\"Gross Rental Yield Outside Centre\",\"x\":[\"2011\",\"2012\",\"2013\",\"2014\",\"2014-mid\",\"2015\",\"2015-mid\",\"2016-mid\",\"2017\",\"2017-mid\",\"2018\",\"2018-mid\",\"2019\",\"2019-mid\",\"2020\",\"2020-mid\",\"2021\",\"2021-mid\",\"2022\",\"2024-mid\"],\"y\":[19.2,20.5,15.8,16.5,32.1,33.3,14.7,21.1,20.1,21.5,20.4,18.1,17.6,16.8,16.4,17.0,19.5,21.5,21.6,16.6],\"type\":\"scatter\",\"xaxis\":\"x3\",\"yaxis\":\"y3\"},{\"mode\":\"lines+markers\",\"name\":\"Price to Rent Ratio City Centre\",\"x\":[\"2011\",\"2012\",\"2013\",\"2014\",\"2014-mid\",\"2015\",\"2015-mid\",\"2016-mid\",\"2017\",\"2017-mid\",\"2018\",\"2018-mid\",\"2019\",\"2019-mid\",\"2020\",\"2020-mid\",\"2021\",\"2021-mid\",\"2022\",\"2024-mid\"],\"y\":[6.6,5.7,6.1,5.4,4.2,4.1,10.8,8.1,6.5,6.6,6.5,6.8,8.1,8.0,8.2,8.0,8.2,8.6,9.2,5.4],\"type\":\"scatter\",\"xaxis\":\"x4\",\"yaxis\":\"y4\"},{\"mode\":\"lines+markers\",\"name\":\"Price to Rent Ratio Outside City Centre\",\"x\":[\"2011\",\"2012\",\"2013\",\"2014\",\"2014-mid\",\"2015\",\"2015-mid\",\"2016-mid\",\"2017\",\"2017-mid\",\"2018\",\"2018-mid\",\"2019\",\"2019-mid\",\"2020\",\"2020-mid\",\"2021\",\"2021-mid\",\"2022\",\"2024-mid\"],\"y\":[5.2,4.9,6.3,6.1,3.1,3.0,6.8,4.7,5.0,4.7,4.9,5.5,5.7,5.9,6.1,5.9,5.1,4.7,4.6,6.0],\"type\":\"scatter\",\"xaxis\":\"x5\",\"yaxis\":\"y5\"},{\"mode\":\"lines+markers\",\"name\":\"Mortgage as a Percentage of Income\",\"x\":[\"2011\",\"2012\",\"2013\",\"2014\",\"2014-mid\",\"2015\",\"2015-mid\",\"2016-mid\",\"2017\",\"2017-mid\",\"2018\",\"2018-mid\",\"2019\",\"2019-mid\",\"2020\",\"2020-mid\",\"2021\",\"2021-mid\",\"2022\",\"2024-mid\"],\"y\":[\"18.4\",\"15.9\",\"12.0\",\"11.7\",\"8.3\",\"8.7\",\"29.1\",\"17.3\",\"16.5\",\"16.4\",\"18.4\",\"18.1\",\"19.0\",\"19.8\",\"18.1\",\"19.5\",\"18.6\",\"14.3\",\"13.7\",\"21.1\"],\"type\":\"scatter\",\"xaxis\":\"x6\",\"yaxis\":\"y6\"},{\"mode\":\"lines+markers\",\"name\":\"Affordability Index\",\"x\":[\"2011\",\"2012\",\"2013\",\"2014\",\"2014-mid\",\"2015\",\"2015-mid\",\"2016-mid\",\"2017\",\"2017-mid\",\"2018\",\"2018-mid\",\"2019\",\"2019-mid\",\"2020\",\"2020-mid\",\"2021\",\"2021-mid\",\"2022\",\"2024-mid\"],\"y\":[\"5.4\",\"6.3\",\"8.3\",\"8.5\",\"12.0\",\"11.5\",\"3.4\",\"5.8\",\"6.1\",\"6.1\",\"5.4\",\"5.5\",\"5.3\",\"5.1\",\"5.5\",\"5.1\",\"5.4\",\"7.0\",\"7.3\",\"4.7\"],\"type\":\"scatter\",\"xaxis\":\"x7\",\"yaxis\":\"y7\"},{\"mode\":\"lines+markers\",\"name\":\"Crime Index\",\"x\":[\"2011\",\"2012\",\"2013\",\"2014\",\"2014-mid\",\"2015\",\"2015-mid\",\"2016-mid\",\"2017\",\"2017-mid\",\"2018\",\"2018-mid\",\"2019\",\"2019-mid\",\"2020\",\"2020-mid\",\"2021\",\"2021-mid\",\"2022\",\"2024-mid\"],\"y\":[null,null,null,64.3,65.2,65.2,59.3,65.6,69.2,70.0,70.2,71.4,71.3,71.1,73.2,74.8,74.6,75.0,75.0,74.7],\"type\":\"scatter\",\"xaxis\":\"x8\",\"yaxis\":\"y8\"},{\"mode\":\"lines+markers\",\"name\":\"Safety Index\",\"x\":[\"2011\",\"2012\",\"2013\",\"2014\",\"2014-mid\",\"2015\",\"2015-mid\",\"2016-mid\",\"2017\",\"2017-mid\",\"2018\",\"2018-mid\",\"2019\",\"2019-mid\",\"2020\",\"2020-mid\",\"2021\",\"2021-mid\",\"2022\",\"2024-mid\"],\"y\":[null,null,null,35.7,34.8,34.8,40.7,34.4,30.8,30.0,29.8,28.6,28.7,28.9,26.8,25.2,25.4,25.0,25.0,25.3],\"type\":\"scatter\",\"xaxis\":\"x9\",\"yaxis\":\"y9\"},{\"mode\":\"lines+markers\",\"name\":\"Cost of Living Index\",\"x\":[\"2011\",\"2012\",\"2013\",\"2014\",\"2014-mid\",\"2015\",\"2015-mid\",\"2016-mid\",\"2017\",\"2017-mid\",\"2018\",\"2018-mid\",\"2019\",\"2019-mid\",\"2020\",\"2020-mid\",\"2021\",\"2021-mid\",\"2022\",\"2024-mid\"],\"y\":[null,null,null,null,null,null,null,null,null,null,null,null,75.2,null,null,null,null,null,null,null],\"type\":\"scatter\",\"xaxis\":\"x10\",\"yaxis\":\"y10\"},{\"mode\":\"lines+markers\",\"name\":\"Rent Index\",\"x\":[\"2011\",\"2012\",\"2013\",\"2014\",\"2014-mid\",\"2015\",\"2015-mid\",\"2016-mid\",\"2017\",\"2017-mid\",\"2018\",\"2018-mid\",\"2019\",\"2019-mid\",\"2020\",\"2020-mid\",\"2021\",\"2021-mid\",\"2022\",\"2024-mid\"],\"y\":[null,null,null,null,null,null,null,null,null,null,null,null,40.0,null,null,null,null,null,null,null],\"type\":\"scatter\",\"xaxis\":\"x11\",\"yaxis\":\"y11\"},{\"mode\":\"lines+markers\",\"name\":\"Cost of Living Plus Rent Index\",\"x\":[\"2011\",\"2012\",\"2013\",\"2014\",\"2014-mid\",\"2015\",\"2015-mid\",\"2016-mid\",\"2017\",\"2017-mid\",\"2018\",\"2018-mid\",\"2019\",\"2019-mid\",\"2020\",\"2020-mid\",\"2021\",\"2021-mid\",\"2022\",\"2024-mid\"],\"y\":[null,null,null,null,null,null,null,null,null,null,null,null,58.3,null,null,null,null,null,null,null],\"type\":\"scatter\",\"xaxis\":\"x12\",\"yaxis\":\"y12\"},{\"mode\":\"lines+markers\",\"name\":\"Groceries Index\",\"x\":[\"2011\",\"2012\",\"2013\",\"2014\",\"2014-mid\",\"2015\",\"2015-mid\",\"2016-mid\",\"2017\",\"2017-mid\",\"2018\",\"2018-mid\",\"2019\",\"2019-mid\",\"2020\",\"2020-mid\",\"2021\",\"2021-mid\",\"2022\",\"2024-mid\"],\"y\":[null,null,null,null,null,null,null,null,null,null,null,null,73.0,null,null,null,null,null,null,null],\"type\":\"scatter\",\"xaxis\":\"x13\",\"yaxis\":\"y13\"},{\"mode\":\"lines+markers\",\"name\":\"Restaurant Index\",\"x\":[\"2011\",\"2012\",\"2013\",\"2014\",\"2014-mid\",\"2015\",\"2015-mid\",\"2016-mid\",\"2017\",\"2017-mid\",\"2018\",\"2018-mid\",\"2019\",\"2019-mid\",\"2020\",\"2020-mid\",\"2021\",\"2021-mid\",\"2022\",\"2024-mid\"],\"y\":[null,null,null,null,null,null,null,null,null,null,null,null,77.3,null,null,null,null,null,null,null],\"type\":\"scatter\",\"xaxis\":\"x14\",\"yaxis\":\"y14\"},{\"mode\":\"lines+markers\",\"name\":\"Local Purchasing Power Index\",\"x\":[\"2011\",\"2012\",\"2013\",\"2014\",\"2014-mid\",\"2015\",\"2015-mid\",\"2016-mid\",\"2017\",\"2017-mid\",\"2018\",\"2018-mid\",\"2019\",\"2019-mid\",\"2020\",\"2020-mid\",\"2021\",\"2021-mid\",\"2022\",\"2024-mid\"],\"y\":[null,null,null,null,null,null,null,null,null,null,null,null,125.4,null,null,null,null,null,null,null],\"type\":\"scatter\",\"xaxis\":\"x15\",\"yaxis\":\"y15\"}],                        {\"template\":{\"data\":{\"histogram2dcontour\":[{\"type\":\"histogram2dcontour\",\"colorbar\":{\"outlinewidth\":0,\"ticks\":\"\"},\"colorscale\":[[0.0,\"#0d0887\"],[0.1111111111111111,\"#46039f\"],[0.2222222222222222,\"#7201a8\"],[0.3333333333333333,\"#9c179e\"],[0.4444444444444444,\"#bd3786\"],[0.5555555555555556,\"#d8576b\"],[0.6666666666666666,\"#ed7953\"],[0.7777777777777778,\"#fb9f3a\"],[0.8888888888888888,\"#fdca26\"],[1.0,\"#f0f921\"]]}],\"choropleth\":[{\"type\":\"choropleth\",\"colorbar\":{\"outlinewidth\":0,\"ticks\":\"\"}}],\"histogram2d\":[{\"type\":\"histogram2d\",\"colorbar\":{\"outlinewidth\":0,\"ticks\":\"\"},\"colorscale\":[[0.0,\"#0d0887\"],[0.1111111111111111,\"#46039f\"],[0.2222222222222222,\"#7201a8\"],[0.3333333333333333,\"#9c179e\"],[0.4444444444444444,\"#bd3786\"],[0.5555555555555556,\"#d8576b\"],[0.6666666666666666,\"#ed7953\"],[0.7777777777777778,\"#fb9f3a\"],[0.8888888888888888,\"#fdca26\"],[1.0,\"#f0f921\"]]}],\"heatmap\":[{\"type\":\"heatmap\",\"colorbar\":{\"outlinewidth\":0,\"ticks\":\"\"},\"colorscale\":[[0.0,\"#0d0887\"],[0.1111111111111111,\"#46039f\"],[0.2222222222222222,\"#7201a8\"],[0.3333333333333333,\"#9c179e\"],[0.4444444444444444,\"#bd3786\"],[0.5555555555555556,\"#d8576b\"],[0.6666666666666666,\"#ed7953\"],[0.7777777777777778,\"#fb9f3a\"],[0.8888888888888888,\"#fdca26\"],[1.0,\"#f0f921\"]]}],\"heatmapgl\":[{\"type\":\"heatmapgl\",\"colorbar\":{\"outlinewidth\":0,\"ticks\":\"\"},\"colorscale\":[[0.0,\"#0d0887\"],[0.1111111111111111,\"#46039f\"],[0.2222222222222222,\"#7201a8\"],[0.3333333333333333,\"#9c179e\"],[0.4444444444444444,\"#bd3786\"],[0.5555555555555556,\"#d8576b\"],[0.6666666666666666,\"#ed7953\"],[0.7777777777777778,\"#fb9f3a\"],[0.8888888888888888,\"#fdca26\"],[1.0,\"#f0f921\"]]}],\"contourcarpet\":[{\"type\":\"contourcarpet\",\"colorbar\":{\"outlinewidth\":0,\"ticks\":\"\"}}],\"contour\":[{\"type\":\"contour\",\"colorbar\":{\"outlinewidth\":0,\"ticks\":\"\"},\"colorscale\":[[0.0,\"#0d0887\"],[0.1111111111111111,\"#46039f\"],[0.2222222222222222,\"#7201a8\"],[0.3333333333333333,\"#9c179e\"],[0.4444444444444444,\"#bd3786\"],[0.5555555555555556,\"#d8576b\"],[0.6666666666666666,\"#ed7953\"],[0.7777777777777778,\"#fb9f3a\"],[0.8888888888888888,\"#fdca26\"],[1.0,\"#f0f921\"]]}],\"surface\":[{\"type\":\"surface\",\"colorbar\":{\"outlinewidth\":0,\"ticks\":\"\"},\"colorscale\":[[0.0,\"#0d0887\"],[0.1111111111111111,\"#46039f\"],[0.2222222222222222,\"#7201a8\"],[0.3333333333333333,\"#9c179e\"],[0.4444444444444444,\"#bd3786\"],[0.5555555555555556,\"#d8576b\"],[0.6666666666666666,\"#ed7953\"],[0.7777777777777778,\"#fb9f3a\"],[0.8888888888888888,\"#fdca26\"],[1.0,\"#f0f921\"]]}],\"mesh3d\":[{\"type\":\"mesh3d\",\"colorbar\":{\"outlinewidth\":0,\"ticks\":\"\"}}],\"scatter\":[{\"fillpattern\":{\"fillmode\":\"overlay\",\"size\":10,\"solidity\":0.2},\"type\":\"scatter\"}],\"parcoords\":[{\"type\":\"parcoords\",\"line\":{\"colorbar\":{\"outlinewidth\":0,\"ticks\":\"\"}}}],\"scatterpolargl\":[{\"type\":\"scatterpolargl\",\"marker\":{\"colorbar\":{\"outlinewidth\":0,\"ticks\":\"\"}}}],\"bar\":[{\"error_x\":{\"color\":\"#2a3f5f\"},\"error_y\":{\"color\":\"#2a3f5f\"},\"marker\":{\"line\":{\"color\":\"#E5ECF6\",\"width\":0.5},\"pattern\":{\"fillmode\":\"overlay\",\"size\":10,\"solidity\":0.2}},\"type\":\"bar\"}],\"scattergeo\":[{\"type\":\"scattergeo\",\"marker\":{\"colorbar\":{\"outlinewidth\":0,\"ticks\":\"\"}}}],\"scatterpolar\":[{\"type\":\"scatterpolar\",\"marker\":{\"colorbar\":{\"outlinewidth\":0,\"ticks\":\"\"}}}],\"histogram\":[{\"marker\":{\"pattern\":{\"fillmode\":\"overlay\",\"size\":10,\"solidity\":0.2}},\"type\":\"histogram\"}],\"scattergl\":[{\"type\":\"scattergl\",\"marker\":{\"colorbar\":{\"outlinewidth\":0,\"ticks\":\"\"}}}],\"scatter3d\":[{\"type\":\"scatter3d\",\"line\":{\"colorbar\":{\"outlinewidth\":0,\"ticks\":\"\"}},\"marker\":{\"colorbar\":{\"outlinewidth\":0,\"ticks\":\"\"}}}],\"scattermapbox\":[{\"type\":\"scattermapbox\",\"marker\":{\"colorbar\":{\"outlinewidth\":0,\"ticks\":\"\"}}}],\"scatterternary\":[{\"type\":\"scatterternary\",\"marker\":{\"colorbar\":{\"outlinewidth\":0,\"ticks\":\"\"}}}],\"scattercarpet\":[{\"type\":\"scattercarpet\",\"marker\":{\"colorbar\":{\"outlinewidth\":0,\"ticks\":\"\"}}}],\"carpet\":[{\"aaxis\":{\"endlinecolor\":\"#2a3f5f\",\"gridcolor\":\"white\",\"linecolor\":\"white\",\"minorgridcolor\":\"white\",\"startlinecolor\":\"#2a3f5f\"},\"baxis\":{\"endlinecolor\":\"#2a3f5f\",\"gridcolor\":\"white\",\"linecolor\":\"white\",\"minorgridcolor\":\"white\",\"startlinecolor\":\"#2a3f5f\"},\"type\":\"carpet\"}],\"table\":[{\"cells\":{\"fill\":{\"color\":\"#EBF0F8\"},\"line\":{\"color\":\"white\"}},\"header\":{\"fill\":{\"color\":\"#C8D4E3\"},\"line\":{\"color\":\"white\"}},\"type\":\"table\"}],\"barpolar\":[{\"marker\":{\"line\":{\"color\":\"#E5ECF6\",\"width\":0.5},\"pattern\":{\"fillmode\":\"overlay\",\"size\":10,\"solidity\":0.2}},\"type\":\"barpolar\"}],\"pie\":[{\"automargin\":true,\"type\":\"pie\"}]},\"layout\":{\"autotypenumbers\":\"strict\",\"colorway\":[\"#636efa\",\"#EF553B\",\"#00cc96\",\"#ab63fa\",\"#FFA15A\",\"#19d3f3\",\"#FF6692\",\"#B6E880\",\"#FF97FF\",\"#FECB52\"],\"font\":{\"color\":\"#2a3f5f\"},\"hovermode\":\"closest\",\"hoverlabel\":{\"align\":\"left\"},\"paper_bgcolor\":\"white\",\"plot_bgcolor\":\"#E5ECF6\",\"polar\":{\"bgcolor\":\"#E5ECF6\",\"angularaxis\":{\"gridcolor\":\"white\",\"linecolor\":\"white\",\"ticks\":\"\"},\"radialaxis\":{\"gridcolor\":\"white\",\"linecolor\":\"white\",\"ticks\":\"\"}},\"ternary\":{\"bgcolor\":\"#E5ECF6\",\"aaxis\":{\"gridcolor\":\"white\",\"linecolor\":\"white\",\"ticks\":\"\"},\"baxis\":{\"gridcolor\":\"white\",\"linecolor\":\"white\",\"ticks\":\"\"},\"caxis\":{\"gridcolor\":\"white\",\"linecolor\":\"white\",\"ticks\":\"\"}},\"coloraxis\":{\"colorbar\":{\"outlinewidth\":0,\"ticks\":\"\"}},\"colorscale\":{\"sequential\":[[0.0,\"#0d0887\"],[0.1111111111111111,\"#46039f\"],[0.2222222222222222,\"#7201a8\"],[0.3333333333333333,\"#9c179e\"],[0.4444444444444444,\"#bd3786\"],[0.5555555555555556,\"#d8576b\"],[0.6666666666666666,\"#ed7953\"],[0.7777777777777778,\"#fb9f3a\"],[0.8888888888888888,\"#fdca26\"],[1.0,\"#f0f921\"]],\"sequentialminus\":[[0.0,\"#0d0887\"],[0.1111111111111111,\"#46039f\"],[0.2222222222222222,\"#7201a8\"],[0.3333333333333333,\"#9c179e\"],[0.4444444444444444,\"#bd3786\"],[0.5555555555555556,\"#d8576b\"],[0.6666666666666666,\"#ed7953\"],[0.7777777777777778,\"#fb9f3a\"],[0.8888888888888888,\"#fdca26\"],[1.0,\"#f0f921\"]],\"diverging\":[[0,\"#8e0152\"],[0.1,\"#c51b7d\"],[0.2,\"#de77ae\"],[0.3,\"#f1b6da\"],[0.4,\"#fde0ef\"],[0.5,\"#f7f7f7\"],[0.6,\"#e6f5d0\"],[0.7,\"#b8e186\"],[0.8,\"#7fbc41\"],[0.9,\"#4d9221\"],[1,\"#276419\"]]},\"xaxis\":{\"gridcolor\":\"white\",\"linecolor\":\"white\",\"ticks\":\"\",\"title\":{\"standoff\":15},\"zerolinecolor\":\"white\",\"automargin\":true,\"zerolinewidth\":2},\"yaxis\":{\"gridcolor\":\"white\",\"linecolor\":\"white\",\"ticks\":\"\",\"title\":{\"standoff\":15},\"zerolinecolor\":\"white\",\"automargin\":true,\"zerolinewidth\":2},\"scene\":{\"xaxis\":{\"backgroundcolor\":\"#E5ECF6\",\"gridcolor\":\"white\",\"linecolor\":\"white\",\"showbackground\":true,\"ticks\":\"\",\"zerolinecolor\":\"white\",\"gridwidth\":2},\"yaxis\":{\"backgroundcolor\":\"#E5ECF6\",\"gridcolor\":\"white\",\"linecolor\":\"white\",\"showbackground\":true,\"ticks\":\"\",\"zerolinecolor\":\"white\",\"gridwidth\":2},\"zaxis\":{\"backgroundcolor\":\"#E5ECF6\",\"gridcolor\":\"white\",\"linecolor\":\"white\",\"showbackground\":true,\"ticks\":\"\",\"zerolinecolor\":\"white\",\"gridwidth\":2}},\"shapedefaults\":{\"line\":{\"color\":\"#2a3f5f\"}},\"annotationdefaults\":{\"arrowcolor\":\"#2a3f5f\",\"arrowhead\":0,\"arrowwidth\":1},\"geo\":{\"bgcolor\":\"white\",\"landcolor\":\"#E5ECF6\",\"subunitcolor\":\"white\",\"showland\":true,\"showlakes\":true,\"lakecolor\":\"white\"},\"title\":{\"x\":0.05},\"mapbox\":{\"style\":\"light\"}}},\"xaxis\":{\"anchor\":\"y\",\"domain\":[0.0,0.2125],\"title\":{\"text\":\"Year\"}},\"yaxis\":{\"anchor\":\"x\",\"domain\":[0.84375,1.0],\"title\":{\"text\":\"Price to Income Ratio\"}},\"xaxis2\":{\"anchor\":\"y2\",\"domain\":[0.2625,0.475],\"title\":{\"text\":\"Year\"}},\"yaxis2\":{\"anchor\":\"x2\",\"domain\":[0.84375,1.0],\"title\":{\"text\":\"Gross Rental Yield City Centre\"}},\"xaxis3\":{\"anchor\":\"y3\",\"domain\":[0.525,0.7375],\"title\":{\"text\":\"Year\"}},\"yaxis3\":{\"anchor\":\"x3\",\"domain\":[0.84375,1.0],\"title\":{\"text\":\"Gross Rental Yield Outside Centre\"}},\"xaxis4\":{\"anchor\":\"y4\",\"domain\":[0.7875,1.0],\"title\":{\"text\":\"Year\"}},\"yaxis4\":{\"anchor\":\"x4\",\"domain\":[0.84375,1.0],\"title\":{\"text\":\"Price to Rent Ratio City Centre\"}},\"xaxis5\":{\"anchor\":\"y5\",\"domain\":[0.0,0.2125],\"title\":{\"text\":\"Year\"}},\"yaxis5\":{\"anchor\":\"x5\",\"domain\":[0.5625,0.71875],\"title\":{\"text\":\"Price to Rent Ratio Outside City Centre\"}},\"xaxis6\":{\"anchor\":\"y6\",\"domain\":[0.2625,0.475],\"title\":{\"text\":\"Year\"}},\"yaxis6\":{\"anchor\":\"x6\",\"domain\":[0.5625,0.71875],\"title\":{\"text\":\"Mortgage as a Percentage of Income\"}},\"xaxis7\":{\"anchor\":\"y7\",\"domain\":[0.525,0.7375],\"title\":{\"text\":\"Year\"}},\"yaxis7\":{\"anchor\":\"x7\",\"domain\":[0.5625,0.71875],\"title\":{\"text\":\"Affordability Index\"}},\"xaxis8\":{\"anchor\":\"y8\",\"domain\":[0.7875,1.0],\"title\":{\"text\":\"Year\"}},\"yaxis8\":{\"anchor\":\"x8\",\"domain\":[0.5625,0.71875],\"title\":{\"text\":\"Crime Index\"}},\"xaxis9\":{\"anchor\":\"y9\",\"domain\":[0.0,0.2125],\"title\":{\"text\":\"Year\"}},\"yaxis9\":{\"anchor\":\"x9\",\"domain\":[0.28125,0.4375],\"title\":{\"text\":\"Safety Index\"}},\"xaxis10\":{\"anchor\":\"y10\",\"domain\":[0.2625,0.475],\"title\":{\"text\":\"Year\"}},\"yaxis10\":{\"anchor\":\"x10\",\"domain\":[0.28125,0.4375],\"title\":{\"text\":\"Cost of Living Index\"}},\"xaxis11\":{\"anchor\":\"y11\",\"domain\":[0.525,0.7375],\"title\":{\"text\":\"Year\"}},\"yaxis11\":{\"anchor\":\"x11\",\"domain\":[0.28125,0.4375],\"title\":{\"text\":\"Rent Index\"}},\"xaxis12\":{\"anchor\":\"y12\",\"domain\":[0.7875,1.0],\"title\":{\"text\":\"Year\"}},\"yaxis12\":{\"anchor\":\"x12\",\"domain\":[0.28125,0.4375],\"title\":{\"text\":\"Cost of Living Plus Rent Index\"}},\"xaxis13\":{\"anchor\":\"y13\",\"domain\":[0.0,0.2125],\"title\":{\"text\":\"Year\"}},\"yaxis13\":{\"anchor\":\"x13\",\"domain\":[0.0,0.15625],\"title\":{\"text\":\"Groceries Index\"}},\"xaxis14\":{\"anchor\":\"y14\",\"domain\":[0.2625,0.475],\"title\":{\"text\":\"Year\"}},\"yaxis14\":{\"anchor\":\"x14\",\"domain\":[0.0,0.15625],\"title\":{\"text\":\"Restaurant Index\"}},\"xaxis15\":{\"anchor\":\"y15\",\"domain\":[0.525,0.7375],\"title\":{\"text\":\"Year\"}},\"yaxis15\":{\"anchor\":\"x15\",\"domain\":[0.0,0.15625],\"title\":{\"text\":\"Local Purchasing Power Index\"}},\"xaxis16\":{\"anchor\":\"y16\",\"domain\":[0.7875,1.0]},\"yaxis16\":{\"anchor\":\"x16\",\"domain\":[0.0,0.15625]},\"annotations\":[{\"font\":{\"size\":16},\"showarrow\":false,\"text\":\"Price to Income Ratio\",\"x\":0.10625,\"xanchor\":\"center\",\"xref\":\"paper\",\"y\":1.0,\"yanchor\":\"bottom\",\"yref\":\"paper\"},{\"font\":{\"size\":16},\"showarrow\":false,\"text\":\"Gross Rental Yield City Centre\",\"x\":0.36875,\"xanchor\":\"center\",\"xref\":\"paper\",\"y\":1.0,\"yanchor\":\"bottom\",\"yref\":\"paper\"},{\"font\":{\"size\":16},\"showarrow\":false,\"text\":\"Gross Rental Yield Outside Centre\",\"x\":0.6312500000000001,\"xanchor\":\"center\",\"xref\":\"paper\",\"y\":1.0,\"yanchor\":\"bottom\",\"yref\":\"paper\"},{\"font\":{\"size\":16},\"showarrow\":false,\"text\":\"Price to Rent Ratio City Centre\",\"x\":0.89375,\"xanchor\":\"center\",\"xref\":\"paper\",\"y\":1.0,\"yanchor\":\"bottom\",\"yref\":\"paper\"},{\"font\":{\"size\":16},\"showarrow\":false,\"text\":\"Price to Rent Ratio Outside City Centre\",\"x\":0.10625,\"xanchor\":\"center\",\"xref\":\"paper\",\"y\":0.71875,\"yanchor\":\"bottom\",\"yref\":\"paper\"},{\"font\":{\"size\":16},\"showarrow\":false,\"text\":\"Mortgage as a Percentage of Income\",\"x\":0.36875,\"xanchor\":\"center\",\"xref\":\"paper\",\"y\":0.71875,\"yanchor\":\"bottom\",\"yref\":\"paper\"},{\"font\":{\"size\":16},\"showarrow\":false,\"text\":\"Affordability Index\",\"x\":0.6312500000000001,\"xanchor\":\"center\",\"xref\":\"paper\",\"y\":0.71875,\"yanchor\":\"bottom\",\"yref\":\"paper\"},{\"font\":{\"size\":16},\"showarrow\":false,\"text\":\"Crime Index\",\"x\":0.89375,\"xanchor\":\"center\",\"xref\":\"paper\",\"y\":0.71875,\"yanchor\":\"bottom\",\"yref\":\"paper\"},{\"font\":{\"size\":16},\"showarrow\":false,\"text\":\"Safety Index\",\"x\":0.10625,\"xanchor\":\"center\",\"xref\":\"paper\",\"y\":0.4375,\"yanchor\":\"bottom\",\"yref\":\"paper\"},{\"font\":{\"size\":16},\"showarrow\":false,\"text\":\"Cost of Living Index\",\"x\":0.36875,\"xanchor\":\"center\",\"xref\":\"paper\",\"y\":0.4375,\"yanchor\":\"bottom\",\"yref\":\"paper\"},{\"font\":{\"size\":16},\"showarrow\":false,\"text\":\"Rent Index\",\"x\":0.6312500000000001,\"xanchor\":\"center\",\"xref\":\"paper\",\"y\":0.4375,\"yanchor\":\"bottom\",\"yref\":\"paper\"},{\"font\":{\"size\":16},\"showarrow\":false,\"text\":\"Cost of Living Plus Rent Index\",\"x\":0.89375,\"xanchor\":\"center\",\"xref\":\"paper\",\"y\":0.4375,\"yanchor\":\"bottom\",\"yref\":\"paper\"},{\"font\":{\"size\":16},\"showarrow\":false,\"text\":\"Groceries Index\",\"x\":0.10625,\"xanchor\":\"center\",\"xref\":\"paper\",\"y\":0.15625,\"yanchor\":\"bottom\",\"yref\":\"paper\"},{\"font\":{\"size\":16},\"showarrow\":false,\"text\":\"Restaurant Index\",\"x\":0.36875,\"xanchor\":\"center\",\"xref\":\"paper\",\"y\":0.15625,\"yanchor\":\"bottom\",\"yref\":\"paper\"},{\"font\":{\"size\":16},\"showarrow\":false,\"text\":\"Local Purchasing Power Index\",\"x\":0.6312500000000001,\"xanchor\":\"center\",\"xref\":\"paper\",\"y\":0.15625,\"yanchor\":\"bottom\",\"yref\":\"paper\"}],\"title\":{\"text\":\"Baltimore, MD, United States\"},\"height\":1500,\"width\":1500},                        {\"responsive\": true}                    ).then(function(){\n",
       "                            \n",
       "var gd = document.getElementById('0215ca7e-bb6e-4dcd-8144-b5928a8f8bd2');\n",
       "var x = new MutationObserver(function (mutations, observer) {{\n",
       "        var display = window.getComputedStyle(gd).display;\n",
       "        if (!display || display === 'none') {{\n",
       "            console.log([gd, 'removed!']);\n",
       "            Plotly.purge(gd);\n",
       "            observer.disconnect();\n",
       "        }}\n",
       "}});\n",
       "\n",
       "// Listen for the removal of the full notebook cells\n",
       "var notebookContainer = gd.closest('#notebook-container');\n",
       "if (notebookContainer) {{\n",
       "    x.observe(notebookContainer, {childList: true});\n",
       "}}\n",
       "\n",
       "// Listen for the clearing of the current output cell\n",
       "var outputEl = gd.closest('.output');\n",
       "if (outputEl) {{\n",
       "    x.observe(outputEl, {childList: true});\n",
       "}}\n",
       "\n",
       "                        })                };                });            </script>        </div>"
      ]
     },
     "metadata": {},
     "output_type": "display_data"
    },
    {
     "data": {
      "application/vnd.plotly.v1+json": {
       "config": {
        "plotlyServerURL": "https://plot.ly"
       },
       "data": [
        {
         "mode": "lines+markers",
         "name": "Price to Income Ratio",
         "type": "scatter",
         "x": [
          "2012",
          "2014",
          "2014-mid",
          "2015",
          "2015-mid",
          "2017",
          "2017-mid",
          "2018",
          "2018-mid",
          "2019",
          "2019-mid",
          "2020",
          "2020-mid",
          "2021",
          "2021-mid",
          "2022",
          "2022-mid",
          "2024-mid"
         ],
         "xaxis": "x",
         "y": [
          4.3,
          2.5,
          2.5,
          2.4,
          3.6,
          1.6,
          1.7,
          1.8,
          1.9,
          1.9,
          1.8,
          1.7,
          2,
          2.3,
          2.4,
          1.8,
          2.5,
          2.3
         ],
         "yaxis": "y"
        },
        {
         "mode": "lines+markers",
         "name": "Gross Rental Yield City Centre",
         "type": "scatter",
         "x": [
          "2012",
          "2014",
          "2014-mid",
          "2015",
          "2015-mid",
          "2017",
          "2017-mid",
          "2018",
          "2018-mid",
          "2019",
          "2019-mid",
          "2020",
          "2020-mid",
          "2021",
          "2021-mid",
          "2022",
          "2022-mid",
          "2024-mid"
         ],
         "xaxis": "x2",
         "y": [
          6.5,
          12.6,
          11.5,
          11.5,
          5.7,
          17.2,
          17.3,
          16.3,
          15.1,
          15.5,
          14.3,
          14.1,
          10.6,
          9,
          9.3,
          10.9,
          8.3,
          13.7
         ],
         "yaxis": "y2"
        },
        {
         "mode": "lines+markers",
         "name": "Gross Rental Yield Outside Centre",
         "type": "scatter",
         "x": [
          "2012",
          "2014",
          "2014-mid",
          "2015",
          "2015-mid",
          "2017",
          "2017-mid",
          "2018",
          "2018-mid",
          "2019",
          "2019-mid",
          "2020",
          "2020-mid",
          "2021",
          "2021-mid",
          "2022",
          "2022-mid",
          "2024-mid"
         ],
         "xaxis": "x3",
         "y": [
          6.2,
          15.5,
          14.8,
          15.5,
          12.4,
          19.7,
          19.6,
          21.1,
          19.1,
          19.8,
          20.3,
          20.3,
          23.1,
          23.5,
          23.7,
          22,
          15.4,
          11.5
         ],
         "yaxis": "y3"
        },
        {
         "mode": "lines+markers",
         "name": "Price to Rent Ratio City Centre",
         "type": "scatter",
         "x": [
          "2012",
          "2014",
          "2014-mid",
          "2015",
          "2015-mid",
          "2017",
          "2017-mid",
          "2018",
          "2018-mid",
          "2019",
          "2019-mid",
          "2020",
          "2020-mid",
          "2021",
          "2021-mid",
          "2022",
          "2022-mid",
          "2024-mid"
         ],
         "xaxis": "x4",
         "y": [
          15.4,
          7.9,
          8.7,
          8.7,
          17.4,
          5.8,
          5.8,
          6.1,
          6.6,
          6.5,
          7,
          7.1,
          9.4,
          11.1,
          10.7,
          9.1,
          12.1,
          7.3
         ],
         "yaxis": "y4"
        },
        {
         "mode": "lines+markers",
         "name": "Price to Rent Ratio Outside City Centre",
         "type": "scatter",
         "x": [
          "2012",
          "2014",
          "2014-mid",
          "2015",
          "2015-mid",
          "2017",
          "2017-mid",
          "2018",
          "2018-mid",
          "2019",
          "2019-mid",
          "2020",
          "2020-mid",
          "2021",
          "2021-mid",
          "2022",
          "2022-mid",
          "2024-mid"
         ],
         "xaxis": "x5",
         "y": [
          16.1,
          6.5,
          6.8,
          6.4,
          8,
          5.1,
          5.1,
          4.7,
          5.2,
          5.1,
          4.9,
          4.9,
          4.3,
          4.3,
          4.2,
          4.6,
          6.5,
          8.7
         ],
         "yaxis": "y5"
        },
        {
         "mode": "lines+markers",
         "name": "Mortgage as a Percentage of Income",
         "type": "scatter",
         "x": [
          "2012",
          "2014",
          "2014-mid",
          "2015",
          "2015-mid",
          "2017",
          "2017-mid",
          "2018",
          "2018-mid",
          "2019",
          "2019-mid",
          "2020",
          "2020-mid",
          "2021",
          "2021-mid",
          "2022",
          "2022-mid",
          "2024-mid"
         ],
         "xaxis": "x6",
         "y": [
          "36.9",
          "18.2",
          "18.2",
          "17.6",
          "26.0",
          "11.4",
          "12.4",
          "13.1",
          "13.6",
          "14.0",
          "13.4",
          "12.9",
          "14.7",
          "16.7",
          "16.9",
          "12.6",
          "19.4",
          "20.5"
         ],
         "yaxis": "y6"
        },
        {
         "mode": "lines+markers",
         "name": "Affordability Index",
         "type": "scatter",
         "x": [
          "2012",
          "2014",
          "2014-mid",
          "2015",
          "2015-mid",
          "2017",
          "2017-mid",
          "2018",
          "2018-mid",
          "2019",
          "2019-mid",
          "2020",
          "2020-mid",
          "2021",
          "2021-mid",
          "2022",
          "2022-mid",
          "2024-mid"
         ],
         "xaxis": "x7",
         "y": [
          "2.7",
          "5.5",
          "5.5",
          "5.7",
          "3.8",
          "8.8",
          "8.0",
          "7.6",
          "7.3",
          "7.1",
          "7.5",
          "7.8",
          "6.8",
          "6.0",
          "5.9",
          "7.9",
          "5.2",
          "4.9"
         ],
         "yaxis": "y7"
        },
        {
         "mode": "lines+markers",
         "name": "Crime Index",
         "type": "scatter",
         "x": [
          "2012",
          "2014",
          "2014-mid",
          "2015",
          "2015-mid",
          "2017",
          "2017-mid",
          "2018",
          "2018-mid",
          "2019",
          "2019-mid",
          "2020",
          "2020-mid",
          "2021",
          "2021-mid",
          "2022",
          "2022-mid",
          "2024-mid"
         ],
         "xaxis": "x8",
         "y": [
          null,
          null,
          null,
          null,
          null,
          null,
          null,
          null,
          null,
          null,
          null,
          null,
          null,
          null,
          null,
          null,
          null,
          null
         ],
         "yaxis": "y8"
        },
        {
         "mode": "lines+markers",
         "name": "Safety Index",
         "type": "scatter",
         "x": [
          "2012",
          "2014",
          "2014-mid",
          "2015",
          "2015-mid",
          "2017",
          "2017-mid",
          "2018",
          "2018-mid",
          "2019",
          "2019-mid",
          "2020",
          "2020-mid",
          "2021",
          "2021-mid",
          "2022",
          "2022-mid",
          "2024-mid"
         ],
         "xaxis": "x9",
         "y": [
          null,
          null,
          null,
          null,
          null,
          null,
          null,
          null,
          null,
          null,
          null,
          null,
          null,
          null,
          null,
          null,
          null,
          null
         ],
         "yaxis": "y9"
        },
        {
         "mode": "lines+markers",
         "name": "Cost of Living Index",
         "type": "scatter",
         "x": [
          "2012",
          "2014",
          "2014-mid",
          "2015",
          "2015-mid",
          "2017",
          "2017-mid",
          "2018",
          "2018-mid",
          "2019",
          "2019-mid",
          "2020",
          "2020-mid",
          "2021",
          "2021-mid",
          "2022",
          "2022-mid",
          "2024-mid"
         ],
         "xaxis": "x10",
         "y": [
          null,
          null,
          null,
          null,
          null,
          null,
          null,
          null,
          null,
          null,
          null,
          null,
          null,
          null,
          null,
          null,
          null,
          null
         ],
         "yaxis": "y10"
        },
        {
         "mode": "lines+markers",
         "name": "Rent Index",
         "type": "scatter",
         "x": [
          "2012",
          "2014",
          "2014-mid",
          "2015",
          "2015-mid",
          "2017",
          "2017-mid",
          "2018",
          "2018-mid",
          "2019",
          "2019-mid",
          "2020",
          "2020-mid",
          "2021",
          "2021-mid",
          "2022",
          "2022-mid",
          "2024-mid"
         ],
         "xaxis": "x11",
         "y": [
          null,
          null,
          null,
          null,
          null,
          null,
          null,
          null,
          null,
          null,
          null,
          null,
          null,
          null,
          null,
          null,
          null,
          null
         ],
         "yaxis": "y11"
        },
        {
         "mode": "lines+markers",
         "name": "Cost of Living Plus Rent Index",
         "type": "scatter",
         "x": [
          "2012",
          "2014",
          "2014-mid",
          "2015",
          "2015-mid",
          "2017",
          "2017-mid",
          "2018",
          "2018-mid",
          "2019",
          "2019-mid",
          "2020",
          "2020-mid",
          "2021",
          "2021-mid",
          "2022",
          "2022-mid",
          "2024-mid"
         ],
         "xaxis": "x12",
         "y": [
          null,
          null,
          null,
          null,
          null,
          null,
          null,
          null,
          null,
          null,
          null,
          null,
          null,
          null,
          null,
          null,
          null,
          null
         ],
         "yaxis": "y12"
        },
        {
         "mode": "lines+markers",
         "name": "Groceries Index",
         "type": "scatter",
         "x": [
          "2012",
          "2014",
          "2014-mid",
          "2015",
          "2015-mid",
          "2017",
          "2017-mid",
          "2018",
          "2018-mid",
          "2019",
          "2019-mid",
          "2020",
          "2020-mid",
          "2021",
          "2021-mid",
          "2022",
          "2022-mid",
          "2024-mid"
         ],
         "xaxis": "x13",
         "y": [
          null,
          null,
          null,
          null,
          null,
          null,
          null,
          null,
          null,
          null,
          null,
          null,
          null,
          null,
          null,
          null,
          null,
          null
         ],
         "yaxis": "y13"
        },
        {
         "mode": "lines+markers",
         "name": "Restaurant Index",
         "type": "scatter",
         "x": [
          "2012",
          "2014",
          "2014-mid",
          "2015",
          "2015-mid",
          "2017",
          "2017-mid",
          "2018",
          "2018-mid",
          "2019",
          "2019-mid",
          "2020",
          "2020-mid",
          "2021",
          "2021-mid",
          "2022",
          "2022-mid",
          "2024-mid"
         ],
         "xaxis": "x14",
         "y": [
          null,
          null,
          null,
          null,
          null,
          null,
          null,
          null,
          null,
          null,
          null,
          null,
          null,
          null,
          null,
          null,
          null,
          null
         ],
         "yaxis": "y14"
        },
        {
         "mode": "lines+markers",
         "name": "Local Purchasing Power Index",
         "type": "scatter",
         "x": [
          "2012",
          "2014",
          "2014-mid",
          "2015",
          "2015-mid",
          "2017",
          "2017-mid",
          "2018",
          "2018-mid",
          "2019",
          "2019-mid",
          "2020",
          "2020-mid",
          "2021",
          "2021-mid",
          "2022",
          "2022-mid",
          "2024-mid"
         ],
         "xaxis": "x15",
         "y": [
          null,
          null,
          null,
          null,
          null,
          null,
          null,
          null,
          null,
          null,
          null,
          null,
          null,
          null,
          null,
          null,
          null,
          null
         ],
         "yaxis": "y15"
        }
       ],
       "layout": {
        "annotations": [
         {
          "font": {
           "size": 16
          },
          "showarrow": false,
          "text": "Price to Income Ratio",
          "x": 0.10625,
          "xanchor": "center",
          "xref": "paper",
          "y": 1,
          "yanchor": "bottom",
          "yref": "paper"
         },
         {
          "font": {
           "size": 16
          },
          "showarrow": false,
          "text": "Gross Rental Yield City Centre",
          "x": 0.36875,
          "xanchor": "center",
          "xref": "paper",
          "y": 1,
          "yanchor": "bottom",
          "yref": "paper"
         },
         {
          "font": {
           "size": 16
          },
          "showarrow": false,
          "text": "Gross Rental Yield Outside Centre",
          "x": 0.6312500000000001,
          "xanchor": "center",
          "xref": "paper",
          "y": 1,
          "yanchor": "bottom",
          "yref": "paper"
         },
         {
          "font": {
           "size": 16
          },
          "showarrow": false,
          "text": "Price to Rent Ratio City Centre",
          "x": 0.89375,
          "xanchor": "center",
          "xref": "paper",
          "y": 1,
          "yanchor": "bottom",
          "yref": "paper"
         },
         {
          "font": {
           "size": 16
          },
          "showarrow": false,
          "text": "Price to Rent Ratio Outside City Centre",
          "x": 0.10625,
          "xanchor": "center",
          "xref": "paper",
          "y": 0.71875,
          "yanchor": "bottom",
          "yref": "paper"
         },
         {
          "font": {
           "size": 16
          },
          "showarrow": false,
          "text": "Mortgage as a Percentage of Income",
          "x": 0.36875,
          "xanchor": "center",
          "xref": "paper",
          "y": 0.71875,
          "yanchor": "bottom",
          "yref": "paper"
         },
         {
          "font": {
           "size": 16
          },
          "showarrow": false,
          "text": "Affordability Index",
          "x": 0.6312500000000001,
          "xanchor": "center",
          "xref": "paper",
          "y": 0.71875,
          "yanchor": "bottom",
          "yref": "paper"
         },
         {
          "font": {
           "size": 16
          },
          "showarrow": false,
          "text": "Crime Index",
          "x": 0.89375,
          "xanchor": "center",
          "xref": "paper",
          "y": 0.71875,
          "yanchor": "bottom",
          "yref": "paper"
         },
         {
          "font": {
           "size": 16
          },
          "showarrow": false,
          "text": "Safety Index",
          "x": 0.10625,
          "xanchor": "center",
          "xref": "paper",
          "y": 0.4375,
          "yanchor": "bottom",
          "yref": "paper"
         },
         {
          "font": {
           "size": 16
          },
          "showarrow": false,
          "text": "Cost of Living Index",
          "x": 0.36875,
          "xanchor": "center",
          "xref": "paper",
          "y": 0.4375,
          "yanchor": "bottom",
          "yref": "paper"
         },
         {
          "font": {
           "size": 16
          },
          "showarrow": false,
          "text": "Rent Index",
          "x": 0.6312500000000001,
          "xanchor": "center",
          "xref": "paper",
          "y": 0.4375,
          "yanchor": "bottom",
          "yref": "paper"
         },
         {
          "font": {
           "size": 16
          },
          "showarrow": false,
          "text": "Cost of Living Plus Rent Index",
          "x": 0.89375,
          "xanchor": "center",
          "xref": "paper",
          "y": 0.4375,
          "yanchor": "bottom",
          "yref": "paper"
         },
         {
          "font": {
           "size": 16
          },
          "showarrow": false,
          "text": "Groceries Index",
          "x": 0.10625,
          "xanchor": "center",
          "xref": "paper",
          "y": 0.15625,
          "yanchor": "bottom",
          "yref": "paper"
         },
         {
          "font": {
           "size": 16
          },
          "showarrow": false,
          "text": "Restaurant Index",
          "x": 0.36875,
          "xanchor": "center",
          "xref": "paper",
          "y": 0.15625,
          "yanchor": "bottom",
          "yref": "paper"
         },
         {
          "font": {
           "size": 16
          },
          "showarrow": false,
          "text": "Local Purchasing Power Index",
          "x": 0.6312500000000001,
          "xanchor": "center",
          "xref": "paper",
          "y": 0.15625,
          "yanchor": "bottom",
          "yref": "paper"
         }
        ],
        "height": 1500,
        "template": {
         "data": {
          "bar": [
           {
            "error_x": {
             "color": "#2a3f5f"
            },
            "error_y": {
             "color": "#2a3f5f"
            },
            "marker": {
             "line": {
              "color": "#E5ECF6",
              "width": 0.5
             },
             "pattern": {
              "fillmode": "overlay",
              "size": 10,
              "solidity": 0.2
             }
            },
            "type": "bar"
           }
          ],
          "barpolar": [
           {
            "marker": {
             "line": {
              "color": "#E5ECF6",
              "width": 0.5
             },
             "pattern": {
              "fillmode": "overlay",
              "size": 10,
              "solidity": 0.2
             }
            },
            "type": "barpolar"
           }
          ],
          "carpet": [
           {
            "aaxis": {
             "endlinecolor": "#2a3f5f",
             "gridcolor": "white",
             "linecolor": "white",
             "minorgridcolor": "white",
             "startlinecolor": "#2a3f5f"
            },
            "baxis": {
             "endlinecolor": "#2a3f5f",
             "gridcolor": "white",
             "linecolor": "white",
             "minorgridcolor": "white",
             "startlinecolor": "#2a3f5f"
            },
            "type": "carpet"
           }
          ],
          "choropleth": [
           {
            "colorbar": {
             "outlinewidth": 0,
             "ticks": ""
            },
            "type": "choropleth"
           }
          ],
          "contour": [
           {
            "colorbar": {
             "outlinewidth": 0,
             "ticks": ""
            },
            "colorscale": [
             [
              0,
              "#0d0887"
             ],
             [
              0.1111111111111111,
              "#46039f"
             ],
             [
              0.2222222222222222,
              "#7201a8"
             ],
             [
              0.3333333333333333,
              "#9c179e"
             ],
             [
              0.4444444444444444,
              "#bd3786"
             ],
             [
              0.5555555555555556,
              "#d8576b"
             ],
             [
              0.6666666666666666,
              "#ed7953"
             ],
             [
              0.7777777777777778,
              "#fb9f3a"
             ],
             [
              0.8888888888888888,
              "#fdca26"
             ],
             [
              1,
              "#f0f921"
             ]
            ],
            "type": "contour"
           }
          ],
          "contourcarpet": [
           {
            "colorbar": {
             "outlinewidth": 0,
             "ticks": ""
            },
            "type": "contourcarpet"
           }
          ],
          "heatmap": [
           {
            "colorbar": {
             "outlinewidth": 0,
             "ticks": ""
            },
            "colorscale": [
             [
              0,
              "#0d0887"
             ],
             [
              0.1111111111111111,
              "#46039f"
             ],
             [
              0.2222222222222222,
              "#7201a8"
             ],
             [
              0.3333333333333333,
              "#9c179e"
             ],
             [
              0.4444444444444444,
              "#bd3786"
             ],
             [
              0.5555555555555556,
              "#d8576b"
             ],
             [
              0.6666666666666666,
              "#ed7953"
             ],
             [
              0.7777777777777778,
              "#fb9f3a"
             ],
             [
              0.8888888888888888,
              "#fdca26"
             ],
             [
              1,
              "#f0f921"
             ]
            ],
            "type": "heatmap"
           }
          ],
          "heatmapgl": [
           {
            "colorbar": {
             "outlinewidth": 0,
             "ticks": ""
            },
            "colorscale": [
             [
              0,
              "#0d0887"
             ],
             [
              0.1111111111111111,
              "#46039f"
             ],
             [
              0.2222222222222222,
              "#7201a8"
             ],
             [
              0.3333333333333333,
              "#9c179e"
             ],
             [
              0.4444444444444444,
              "#bd3786"
             ],
             [
              0.5555555555555556,
              "#d8576b"
             ],
             [
              0.6666666666666666,
              "#ed7953"
             ],
             [
              0.7777777777777778,
              "#fb9f3a"
             ],
             [
              0.8888888888888888,
              "#fdca26"
             ],
             [
              1,
              "#f0f921"
             ]
            ],
            "type": "heatmapgl"
           }
          ],
          "histogram": [
           {
            "marker": {
             "pattern": {
              "fillmode": "overlay",
              "size": 10,
              "solidity": 0.2
             }
            },
            "type": "histogram"
           }
          ],
          "histogram2d": [
           {
            "colorbar": {
             "outlinewidth": 0,
             "ticks": ""
            },
            "colorscale": [
             [
              0,
              "#0d0887"
             ],
             [
              0.1111111111111111,
              "#46039f"
             ],
             [
              0.2222222222222222,
              "#7201a8"
             ],
             [
              0.3333333333333333,
              "#9c179e"
             ],
             [
              0.4444444444444444,
              "#bd3786"
             ],
             [
              0.5555555555555556,
              "#d8576b"
             ],
             [
              0.6666666666666666,
              "#ed7953"
             ],
             [
              0.7777777777777778,
              "#fb9f3a"
             ],
             [
              0.8888888888888888,
              "#fdca26"
             ],
             [
              1,
              "#f0f921"
             ]
            ],
            "type": "histogram2d"
           }
          ],
          "histogram2dcontour": [
           {
            "colorbar": {
             "outlinewidth": 0,
             "ticks": ""
            },
            "colorscale": [
             [
              0,
              "#0d0887"
             ],
             [
              0.1111111111111111,
              "#46039f"
             ],
             [
              0.2222222222222222,
              "#7201a8"
             ],
             [
              0.3333333333333333,
              "#9c179e"
             ],
             [
              0.4444444444444444,
              "#bd3786"
             ],
             [
              0.5555555555555556,
              "#d8576b"
             ],
             [
              0.6666666666666666,
              "#ed7953"
             ],
             [
              0.7777777777777778,
              "#fb9f3a"
             ],
             [
              0.8888888888888888,
              "#fdca26"
             ],
             [
              1,
              "#f0f921"
             ]
            ],
            "type": "histogram2dcontour"
           }
          ],
          "mesh3d": [
           {
            "colorbar": {
             "outlinewidth": 0,
             "ticks": ""
            },
            "type": "mesh3d"
           }
          ],
          "parcoords": [
           {
            "line": {
             "colorbar": {
              "outlinewidth": 0,
              "ticks": ""
             }
            },
            "type": "parcoords"
           }
          ],
          "pie": [
           {
            "automargin": true,
            "type": "pie"
           }
          ],
          "scatter": [
           {
            "fillpattern": {
             "fillmode": "overlay",
             "size": 10,
             "solidity": 0.2
            },
            "type": "scatter"
           }
          ],
          "scatter3d": [
           {
            "line": {
             "colorbar": {
              "outlinewidth": 0,
              "ticks": ""
             }
            },
            "marker": {
             "colorbar": {
              "outlinewidth": 0,
              "ticks": ""
             }
            },
            "type": "scatter3d"
           }
          ],
          "scattercarpet": [
           {
            "marker": {
             "colorbar": {
              "outlinewidth": 0,
              "ticks": ""
             }
            },
            "type": "scattercarpet"
           }
          ],
          "scattergeo": [
           {
            "marker": {
             "colorbar": {
              "outlinewidth": 0,
              "ticks": ""
             }
            },
            "type": "scattergeo"
           }
          ],
          "scattergl": [
           {
            "marker": {
             "colorbar": {
              "outlinewidth": 0,
              "ticks": ""
             }
            },
            "type": "scattergl"
           }
          ],
          "scattermapbox": [
           {
            "marker": {
             "colorbar": {
              "outlinewidth": 0,
              "ticks": ""
             }
            },
            "type": "scattermapbox"
           }
          ],
          "scatterpolar": [
           {
            "marker": {
             "colorbar": {
              "outlinewidth": 0,
              "ticks": ""
             }
            },
            "type": "scatterpolar"
           }
          ],
          "scatterpolargl": [
           {
            "marker": {
             "colorbar": {
              "outlinewidth": 0,
              "ticks": ""
             }
            },
            "type": "scatterpolargl"
           }
          ],
          "scatterternary": [
           {
            "marker": {
             "colorbar": {
              "outlinewidth": 0,
              "ticks": ""
             }
            },
            "type": "scatterternary"
           }
          ],
          "surface": [
           {
            "colorbar": {
             "outlinewidth": 0,
             "ticks": ""
            },
            "colorscale": [
             [
              0,
              "#0d0887"
             ],
             [
              0.1111111111111111,
              "#46039f"
             ],
             [
              0.2222222222222222,
              "#7201a8"
             ],
             [
              0.3333333333333333,
              "#9c179e"
             ],
             [
              0.4444444444444444,
              "#bd3786"
             ],
             [
              0.5555555555555556,
              "#d8576b"
             ],
             [
              0.6666666666666666,
              "#ed7953"
             ],
             [
              0.7777777777777778,
              "#fb9f3a"
             ],
             [
              0.8888888888888888,
              "#fdca26"
             ],
             [
              1,
              "#f0f921"
             ]
            ],
            "type": "surface"
           }
          ],
          "table": [
           {
            "cells": {
             "fill": {
              "color": "#EBF0F8"
             },
             "line": {
              "color": "white"
             }
            },
            "header": {
             "fill": {
              "color": "#C8D4E3"
             },
             "line": {
              "color": "white"
             }
            },
            "type": "table"
           }
          ]
         },
         "layout": {
          "annotationdefaults": {
           "arrowcolor": "#2a3f5f",
           "arrowhead": 0,
           "arrowwidth": 1
          },
          "autotypenumbers": "strict",
          "coloraxis": {
           "colorbar": {
            "outlinewidth": 0,
            "ticks": ""
           }
          },
          "colorscale": {
           "diverging": [
            [
             0,
             "#8e0152"
            ],
            [
             0.1,
             "#c51b7d"
            ],
            [
             0.2,
             "#de77ae"
            ],
            [
             0.3,
             "#f1b6da"
            ],
            [
             0.4,
             "#fde0ef"
            ],
            [
             0.5,
             "#f7f7f7"
            ],
            [
             0.6,
             "#e6f5d0"
            ],
            [
             0.7,
             "#b8e186"
            ],
            [
             0.8,
             "#7fbc41"
            ],
            [
             0.9,
             "#4d9221"
            ],
            [
             1,
             "#276419"
            ]
           ],
           "sequential": [
            [
             0,
             "#0d0887"
            ],
            [
             0.1111111111111111,
             "#46039f"
            ],
            [
             0.2222222222222222,
             "#7201a8"
            ],
            [
             0.3333333333333333,
             "#9c179e"
            ],
            [
             0.4444444444444444,
             "#bd3786"
            ],
            [
             0.5555555555555556,
             "#d8576b"
            ],
            [
             0.6666666666666666,
             "#ed7953"
            ],
            [
             0.7777777777777778,
             "#fb9f3a"
            ],
            [
             0.8888888888888888,
             "#fdca26"
            ],
            [
             1,
             "#f0f921"
            ]
           ],
           "sequentialminus": [
            [
             0,
             "#0d0887"
            ],
            [
             0.1111111111111111,
             "#46039f"
            ],
            [
             0.2222222222222222,
             "#7201a8"
            ],
            [
             0.3333333333333333,
             "#9c179e"
            ],
            [
             0.4444444444444444,
             "#bd3786"
            ],
            [
             0.5555555555555556,
             "#d8576b"
            ],
            [
             0.6666666666666666,
             "#ed7953"
            ],
            [
             0.7777777777777778,
             "#fb9f3a"
            ],
            [
             0.8888888888888888,
             "#fdca26"
            ],
            [
             1,
             "#f0f921"
            ]
           ]
          },
          "colorway": [
           "#636efa",
           "#EF553B",
           "#00cc96",
           "#ab63fa",
           "#FFA15A",
           "#19d3f3",
           "#FF6692",
           "#B6E880",
           "#FF97FF",
           "#FECB52"
          ],
          "font": {
           "color": "#2a3f5f"
          },
          "geo": {
           "bgcolor": "white",
           "lakecolor": "white",
           "landcolor": "#E5ECF6",
           "showlakes": true,
           "showland": true,
           "subunitcolor": "white"
          },
          "hoverlabel": {
           "align": "left"
          },
          "hovermode": "closest",
          "mapbox": {
           "style": "light"
          },
          "paper_bgcolor": "white",
          "plot_bgcolor": "#E5ECF6",
          "polar": {
           "angularaxis": {
            "gridcolor": "white",
            "linecolor": "white",
            "ticks": ""
           },
           "bgcolor": "#E5ECF6",
           "radialaxis": {
            "gridcolor": "white",
            "linecolor": "white",
            "ticks": ""
           }
          },
          "scene": {
           "xaxis": {
            "backgroundcolor": "#E5ECF6",
            "gridcolor": "white",
            "gridwidth": 2,
            "linecolor": "white",
            "showbackground": true,
            "ticks": "",
            "zerolinecolor": "white"
           },
           "yaxis": {
            "backgroundcolor": "#E5ECF6",
            "gridcolor": "white",
            "gridwidth": 2,
            "linecolor": "white",
            "showbackground": true,
            "ticks": "",
            "zerolinecolor": "white"
           },
           "zaxis": {
            "backgroundcolor": "#E5ECF6",
            "gridcolor": "white",
            "gridwidth": 2,
            "linecolor": "white",
            "showbackground": true,
            "ticks": "",
            "zerolinecolor": "white"
           }
          },
          "shapedefaults": {
           "line": {
            "color": "#2a3f5f"
           }
          },
          "ternary": {
           "aaxis": {
            "gridcolor": "white",
            "linecolor": "white",
            "ticks": ""
           },
           "baxis": {
            "gridcolor": "white",
            "linecolor": "white",
            "ticks": ""
           },
           "bgcolor": "#E5ECF6",
           "caxis": {
            "gridcolor": "white",
            "linecolor": "white",
            "ticks": ""
           }
          },
          "title": {
           "x": 0.05
          },
          "xaxis": {
           "automargin": true,
           "gridcolor": "white",
           "linecolor": "white",
           "ticks": "",
           "title": {
            "standoff": 15
           },
           "zerolinecolor": "white",
           "zerolinewidth": 2
          },
          "yaxis": {
           "automargin": true,
           "gridcolor": "white",
           "linecolor": "white",
           "ticks": "",
           "title": {
            "standoff": 15
           },
           "zerolinecolor": "white",
           "zerolinewidth": 2
          }
         }
        },
        "title": {
         "text": "Tulsa, OK, United States"
        },
        "width": 1500,
        "xaxis": {
         "anchor": "y",
         "domain": [
          0,
          0.2125
         ],
         "title": {
          "text": "Year"
         }
        },
        "xaxis10": {
         "anchor": "y10",
         "domain": [
          0.2625,
          0.475
         ],
         "title": {
          "text": "Year"
         }
        },
        "xaxis11": {
         "anchor": "y11",
         "domain": [
          0.525,
          0.7375
         ],
         "title": {
          "text": "Year"
         }
        },
        "xaxis12": {
         "anchor": "y12",
         "domain": [
          0.7875,
          1
         ],
         "title": {
          "text": "Year"
         }
        },
        "xaxis13": {
         "anchor": "y13",
         "domain": [
          0,
          0.2125
         ],
         "title": {
          "text": "Year"
         }
        },
        "xaxis14": {
         "anchor": "y14",
         "domain": [
          0.2625,
          0.475
         ],
         "title": {
          "text": "Year"
         }
        },
        "xaxis15": {
         "anchor": "y15",
         "domain": [
          0.525,
          0.7375
         ],
         "title": {
          "text": "Year"
         }
        },
        "xaxis16": {
         "anchor": "y16",
         "domain": [
          0.7875,
          1
         ]
        },
        "xaxis2": {
         "anchor": "y2",
         "domain": [
          0.2625,
          0.475
         ],
         "title": {
          "text": "Year"
         }
        },
        "xaxis3": {
         "anchor": "y3",
         "domain": [
          0.525,
          0.7375
         ],
         "title": {
          "text": "Year"
         }
        },
        "xaxis4": {
         "anchor": "y4",
         "domain": [
          0.7875,
          1
         ],
         "title": {
          "text": "Year"
         }
        },
        "xaxis5": {
         "anchor": "y5",
         "domain": [
          0,
          0.2125
         ],
         "title": {
          "text": "Year"
         }
        },
        "xaxis6": {
         "anchor": "y6",
         "domain": [
          0.2625,
          0.475
         ],
         "title": {
          "text": "Year"
         }
        },
        "xaxis7": {
         "anchor": "y7",
         "domain": [
          0.525,
          0.7375
         ],
         "title": {
          "text": "Year"
         }
        },
        "xaxis8": {
         "anchor": "y8",
         "domain": [
          0.7875,
          1
         ],
         "title": {
          "text": "Year"
         }
        },
        "xaxis9": {
         "anchor": "y9",
         "domain": [
          0,
          0.2125
         ],
         "title": {
          "text": "Year"
         }
        },
        "yaxis": {
         "anchor": "x",
         "domain": [
          0.84375,
          1
         ],
         "title": {
          "text": "Price to Income Ratio"
         }
        },
        "yaxis10": {
         "anchor": "x10",
         "domain": [
          0.28125,
          0.4375
         ],
         "title": {
          "text": "Cost of Living Index"
         }
        },
        "yaxis11": {
         "anchor": "x11",
         "domain": [
          0.28125,
          0.4375
         ],
         "title": {
          "text": "Rent Index"
         }
        },
        "yaxis12": {
         "anchor": "x12",
         "domain": [
          0.28125,
          0.4375
         ],
         "title": {
          "text": "Cost of Living Plus Rent Index"
         }
        },
        "yaxis13": {
         "anchor": "x13",
         "domain": [
          0,
          0.15625
         ],
         "title": {
          "text": "Groceries Index"
         }
        },
        "yaxis14": {
         "anchor": "x14",
         "domain": [
          0,
          0.15625
         ],
         "title": {
          "text": "Restaurant Index"
         }
        },
        "yaxis15": {
         "anchor": "x15",
         "domain": [
          0,
          0.15625
         ],
         "title": {
          "text": "Local Purchasing Power Index"
         }
        },
        "yaxis16": {
         "anchor": "x16",
         "domain": [
          0,
          0.15625
         ]
        },
        "yaxis2": {
         "anchor": "x2",
         "domain": [
          0.84375,
          1
         ],
         "title": {
          "text": "Gross Rental Yield City Centre"
         }
        },
        "yaxis3": {
         "anchor": "x3",
         "domain": [
          0.84375,
          1
         ],
         "title": {
          "text": "Gross Rental Yield Outside Centre"
         }
        },
        "yaxis4": {
         "anchor": "x4",
         "domain": [
          0.84375,
          1
         ],
         "title": {
          "text": "Price to Rent Ratio City Centre"
         }
        },
        "yaxis5": {
         "anchor": "x5",
         "domain": [
          0.5625,
          0.71875
         ],
         "title": {
          "text": "Price to Rent Ratio Outside City Centre"
         }
        },
        "yaxis6": {
         "anchor": "x6",
         "domain": [
          0.5625,
          0.71875
         ],
         "title": {
          "text": "Mortgage as a Percentage of Income"
         }
        },
        "yaxis7": {
         "anchor": "x7",
         "domain": [
          0.5625,
          0.71875
         ],
         "title": {
          "text": "Affordability Index"
         }
        },
        "yaxis8": {
         "anchor": "x8",
         "domain": [
          0.5625,
          0.71875
         ],
         "title": {
          "text": "Crime Index"
         }
        },
        "yaxis9": {
         "anchor": "x9",
         "domain": [
          0.28125,
          0.4375
         ],
         "title": {
          "text": "Safety Index"
         }
        }
       }
      },
      "text/html": [
       "<div>                            <div id=\"6e14f567-f252-40ae-a726-18b8a6d2b8ce\" class=\"plotly-graph-div\" style=\"height:1500px; width:1500px;\"></div>            <script type=\"text/javascript\">                require([\"plotly\"], function(Plotly) {                    window.PLOTLYENV=window.PLOTLYENV || {};                                    if (document.getElementById(\"6e14f567-f252-40ae-a726-18b8a6d2b8ce\")) {                    Plotly.newPlot(                        \"6e14f567-f252-40ae-a726-18b8a6d2b8ce\",                        [{\"mode\":\"lines+markers\",\"name\":\"Price to Income Ratio\",\"x\":[\"2012\",\"2014\",\"2014-mid\",\"2015\",\"2015-mid\",\"2017\",\"2017-mid\",\"2018\",\"2018-mid\",\"2019\",\"2019-mid\",\"2020\",\"2020-mid\",\"2021\",\"2021-mid\",\"2022\",\"2022-mid\",\"2024-mid\"],\"y\":[4.3,2.5,2.5,2.4,3.6,1.6,1.7,1.8,1.9,1.9,1.8,1.7,2.0,2.3,2.4,1.8,2.5,2.3],\"type\":\"scatter\",\"xaxis\":\"x\",\"yaxis\":\"y\"},{\"mode\":\"lines+markers\",\"name\":\"Gross Rental Yield City Centre\",\"x\":[\"2012\",\"2014\",\"2014-mid\",\"2015\",\"2015-mid\",\"2017\",\"2017-mid\",\"2018\",\"2018-mid\",\"2019\",\"2019-mid\",\"2020\",\"2020-mid\",\"2021\",\"2021-mid\",\"2022\",\"2022-mid\",\"2024-mid\"],\"y\":[6.5,12.6,11.5,11.5,5.7,17.2,17.3,16.3,15.1,15.5,14.3,14.1,10.6,9.0,9.3,10.9,8.3,13.7],\"type\":\"scatter\",\"xaxis\":\"x2\",\"yaxis\":\"y2\"},{\"mode\":\"lines+markers\",\"name\":\"Gross Rental Yield Outside Centre\",\"x\":[\"2012\",\"2014\",\"2014-mid\",\"2015\",\"2015-mid\",\"2017\",\"2017-mid\",\"2018\",\"2018-mid\",\"2019\",\"2019-mid\",\"2020\",\"2020-mid\",\"2021\",\"2021-mid\",\"2022\",\"2022-mid\",\"2024-mid\"],\"y\":[6.2,15.5,14.8,15.5,12.4,19.7,19.6,21.1,19.1,19.8,20.3,20.3,23.1,23.5,23.7,22.0,15.4,11.5],\"type\":\"scatter\",\"xaxis\":\"x3\",\"yaxis\":\"y3\"},{\"mode\":\"lines+markers\",\"name\":\"Price to Rent Ratio City Centre\",\"x\":[\"2012\",\"2014\",\"2014-mid\",\"2015\",\"2015-mid\",\"2017\",\"2017-mid\",\"2018\",\"2018-mid\",\"2019\",\"2019-mid\",\"2020\",\"2020-mid\",\"2021\",\"2021-mid\",\"2022\",\"2022-mid\",\"2024-mid\"],\"y\":[15.4,7.9,8.7,8.7,17.4,5.8,5.8,6.1,6.6,6.5,7.0,7.1,9.4,11.1,10.7,9.1,12.1,7.3],\"type\":\"scatter\",\"xaxis\":\"x4\",\"yaxis\":\"y4\"},{\"mode\":\"lines+markers\",\"name\":\"Price to Rent Ratio Outside City Centre\",\"x\":[\"2012\",\"2014\",\"2014-mid\",\"2015\",\"2015-mid\",\"2017\",\"2017-mid\",\"2018\",\"2018-mid\",\"2019\",\"2019-mid\",\"2020\",\"2020-mid\",\"2021\",\"2021-mid\",\"2022\",\"2022-mid\",\"2024-mid\"],\"y\":[16.1,6.5,6.8,6.4,8.0,5.1,5.1,4.7,5.2,5.1,4.9,4.9,4.3,4.3,4.2,4.6,6.5,8.7],\"type\":\"scatter\",\"xaxis\":\"x5\",\"yaxis\":\"y5\"},{\"mode\":\"lines+markers\",\"name\":\"Mortgage as a Percentage of Income\",\"x\":[\"2012\",\"2014\",\"2014-mid\",\"2015\",\"2015-mid\",\"2017\",\"2017-mid\",\"2018\",\"2018-mid\",\"2019\",\"2019-mid\",\"2020\",\"2020-mid\",\"2021\",\"2021-mid\",\"2022\",\"2022-mid\",\"2024-mid\"],\"y\":[\"36.9\",\"18.2\",\"18.2\",\"17.6\",\"26.0\",\"11.4\",\"12.4\",\"13.1\",\"13.6\",\"14.0\",\"13.4\",\"12.9\",\"14.7\",\"16.7\",\"16.9\",\"12.6\",\"19.4\",\"20.5\"],\"type\":\"scatter\",\"xaxis\":\"x6\",\"yaxis\":\"y6\"},{\"mode\":\"lines+markers\",\"name\":\"Affordability Index\",\"x\":[\"2012\",\"2014\",\"2014-mid\",\"2015\",\"2015-mid\",\"2017\",\"2017-mid\",\"2018\",\"2018-mid\",\"2019\",\"2019-mid\",\"2020\",\"2020-mid\",\"2021\",\"2021-mid\",\"2022\",\"2022-mid\",\"2024-mid\"],\"y\":[\"2.7\",\"5.5\",\"5.5\",\"5.7\",\"3.8\",\"8.8\",\"8.0\",\"7.6\",\"7.3\",\"7.1\",\"7.5\",\"7.8\",\"6.8\",\"6.0\",\"5.9\",\"7.9\",\"5.2\",\"4.9\"],\"type\":\"scatter\",\"xaxis\":\"x7\",\"yaxis\":\"y7\"},{\"mode\":\"lines+markers\",\"name\":\"Crime Index\",\"x\":[\"2012\",\"2014\",\"2014-mid\",\"2015\",\"2015-mid\",\"2017\",\"2017-mid\",\"2018\",\"2018-mid\",\"2019\",\"2019-mid\",\"2020\",\"2020-mid\",\"2021\",\"2021-mid\",\"2022\",\"2022-mid\",\"2024-mid\"],\"y\":[null,null,null,null,null,null,null,null,null,null,null,null,null,null,null,null,null,null],\"type\":\"scatter\",\"xaxis\":\"x8\",\"yaxis\":\"y8\"},{\"mode\":\"lines+markers\",\"name\":\"Safety Index\",\"x\":[\"2012\",\"2014\",\"2014-mid\",\"2015\",\"2015-mid\",\"2017\",\"2017-mid\",\"2018\",\"2018-mid\",\"2019\",\"2019-mid\",\"2020\",\"2020-mid\",\"2021\",\"2021-mid\",\"2022\",\"2022-mid\",\"2024-mid\"],\"y\":[null,null,null,null,null,null,null,null,null,null,null,null,null,null,null,null,null,null],\"type\":\"scatter\",\"xaxis\":\"x9\",\"yaxis\":\"y9\"},{\"mode\":\"lines+markers\",\"name\":\"Cost of Living Index\",\"x\":[\"2012\",\"2014\",\"2014-mid\",\"2015\",\"2015-mid\",\"2017\",\"2017-mid\",\"2018\",\"2018-mid\",\"2019\",\"2019-mid\",\"2020\",\"2020-mid\",\"2021\",\"2021-mid\",\"2022\",\"2022-mid\",\"2024-mid\"],\"y\":[null,null,null,null,null,null,null,null,null,null,null,null,null,null,null,null,null,null],\"type\":\"scatter\",\"xaxis\":\"x10\",\"yaxis\":\"y10\"},{\"mode\":\"lines+markers\",\"name\":\"Rent Index\",\"x\":[\"2012\",\"2014\",\"2014-mid\",\"2015\",\"2015-mid\",\"2017\",\"2017-mid\",\"2018\",\"2018-mid\",\"2019\",\"2019-mid\",\"2020\",\"2020-mid\",\"2021\",\"2021-mid\",\"2022\",\"2022-mid\",\"2024-mid\"],\"y\":[null,null,null,null,null,null,null,null,null,null,null,null,null,null,null,null,null,null],\"type\":\"scatter\",\"xaxis\":\"x11\",\"yaxis\":\"y11\"},{\"mode\":\"lines+markers\",\"name\":\"Cost of Living Plus Rent Index\",\"x\":[\"2012\",\"2014\",\"2014-mid\",\"2015\",\"2015-mid\",\"2017\",\"2017-mid\",\"2018\",\"2018-mid\",\"2019\",\"2019-mid\",\"2020\",\"2020-mid\",\"2021\",\"2021-mid\",\"2022\",\"2022-mid\",\"2024-mid\"],\"y\":[null,null,null,null,null,null,null,null,null,null,null,null,null,null,null,null,null,null],\"type\":\"scatter\",\"xaxis\":\"x12\",\"yaxis\":\"y12\"},{\"mode\":\"lines+markers\",\"name\":\"Groceries Index\",\"x\":[\"2012\",\"2014\",\"2014-mid\",\"2015\",\"2015-mid\",\"2017\",\"2017-mid\",\"2018\",\"2018-mid\",\"2019\",\"2019-mid\",\"2020\",\"2020-mid\",\"2021\",\"2021-mid\",\"2022\",\"2022-mid\",\"2024-mid\"],\"y\":[null,null,null,null,null,null,null,null,null,null,null,null,null,null,null,null,null,null],\"type\":\"scatter\",\"xaxis\":\"x13\",\"yaxis\":\"y13\"},{\"mode\":\"lines+markers\",\"name\":\"Restaurant Index\",\"x\":[\"2012\",\"2014\",\"2014-mid\",\"2015\",\"2015-mid\",\"2017\",\"2017-mid\",\"2018\",\"2018-mid\",\"2019\",\"2019-mid\",\"2020\",\"2020-mid\",\"2021\",\"2021-mid\",\"2022\",\"2022-mid\",\"2024-mid\"],\"y\":[null,null,null,null,null,null,null,null,null,null,null,null,null,null,null,null,null,null],\"type\":\"scatter\",\"xaxis\":\"x14\",\"yaxis\":\"y14\"},{\"mode\":\"lines+markers\",\"name\":\"Local Purchasing Power Index\",\"x\":[\"2012\",\"2014\",\"2014-mid\",\"2015\",\"2015-mid\",\"2017\",\"2017-mid\",\"2018\",\"2018-mid\",\"2019\",\"2019-mid\",\"2020\",\"2020-mid\",\"2021\",\"2021-mid\",\"2022\",\"2022-mid\",\"2024-mid\"],\"y\":[null,null,null,null,null,null,null,null,null,null,null,null,null,null,null,null,null,null],\"type\":\"scatter\",\"xaxis\":\"x15\",\"yaxis\":\"y15\"}],                        {\"template\":{\"data\":{\"histogram2dcontour\":[{\"type\":\"histogram2dcontour\",\"colorbar\":{\"outlinewidth\":0,\"ticks\":\"\"},\"colorscale\":[[0.0,\"#0d0887\"],[0.1111111111111111,\"#46039f\"],[0.2222222222222222,\"#7201a8\"],[0.3333333333333333,\"#9c179e\"],[0.4444444444444444,\"#bd3786\"],[0.5555555555555556,\"#d8576b\"],[0.6666666666666666,\"#ed7953\"],[0.7777777777777778,\"#fb9f3a\"],[0.8888888888888888,\"#fdca26\"],[1.0,\"#f0f921\"]]}],\"choropleth\":[{\"type\":\"choropleth\",\"colorbar\":{\"outlinewidth\":0,\"ticks\":\"\"}}],\"histogram2d\":[{\"type\":\"histogram2d\",\"colorbar\":{\"outlinewidth\":0,\"ticks\":\"\"},\"colorscale\":[[0.0,\"#0d0887\"],[0.1111111111111111,\"#46039f\"],[0.2222222222222222,\"#7201a8\"],[0.3333333333333333,\"#9c179e\"],[0.4444444444444444,\"#bd3786\"],[0.5555555555555556,\"#d8576b\"],[0.6666666666666666,\"#ed7953\"],[0.7777777777777778,\"#fb9f3a\"],[0.8888888888888888,\"#fdca26\"],[1.0,\"#f0f921\"]]}],\"heatmap\":[{\"type\":\"heatmap\",\"colorbar\":{\"outlinewidth\":0,\"ticks\":\"\"},\"colorscale\":[[0.0,\"#0d0887\"],[0.1111111111111111,\"#46039f\"],[0.2222222222222222,\"#7201a8\"],[0.3333333333333333,\"#9c179e\"],[0.4444444444444444,\"#bd3786\"],[0.5555555555555556,\"#d8576b\"],[0.6666666666666666,\"#ed7953\"],[0.7777777777777778,\"#fb9f3a\"],[0.8888888888888888,\"#fdca26\"],[1.0,\"#f0f921\"]]}],\"heatmapgl\":[{\"type\":\"heatmapgl\",\"colorbar\":{\"outlinewidth\":0,\"ticks\":\"\"},\"colorscale\":[[0.0,\"#0d0887\"],[0.1111111111111111,\"#46039f\"],[0.2222222222222222,\"#7201a8\"],[0.3333333333333333,\"#9c179e\"],[0.4444444444444444,\"#bd3786\"],[0.5555555555555556,\"#d8576b\"],[0.6666666666666666,\"#ed7953\"],[0.7777777777777778,\"#fb9f3a\"],[0.8888888888888888,\"#fdca26\"],[1.0,\"#f0f921\"]]}],\"contourcarpet\":[{\"type\":\"contourcarpet\",\"colorbar\":{\"outlinewidth\":0,\"ticks\":\"\"}}],\"contour\":[{\"type\":\"contour\",\"colorbar\":{\"outlinewidth\":0,\"ticks\":\"\"},\"colorscale\":[[0.0,\"#0d0887\"],[0.1111111111111111,\"#46039f\"],[0.2222222222222222,\"#7201a8\"],[0.3333333333333333,\"#9c179e\"],[0.4444444444444444,\"#bd3786\"],[0.5555555555555556,\"#d8576b\"],[0.6666666666666666,\"#ed7953\"],[0.7777777777777778,\"#fb9f3a\"],[0.8888888888888888,\"#fdca26\"],[1.0,\"#f0f921\"]]}],\"surface\":[{\"type\":\"surface\",\"colorbar\":{\"outlinewidth\":0,\"ticks\":\"\"},\"colorscale\":[[0.0,\"#0d0887\"],[0.1111111111111111,\"#46039f\"],[0.2222222222222222,\"#7201a8\"],[0.3333333333333333,\"#9c179e\"],[0.4444444444444444,\"#bd3786\"],[0.5555555555555556,\"#d8576b\"],[0.6666666666666666,\"#ed7953\"],[0.7777777777777778,\"#fb9f3a\"],[0.8888888888888888,\"#fdca26\"],[1.0,\"#f0f921\"]]}],\"mesh3d\":[{\"type\":\"mesh3d\",\"colorbar\":{\"outlinewidth\":0,\"ticks\":\"\"}}],\"scatter\":[{\"fillpattern\":{\"fillmode\":\"overlay\",\"size\":10,\"solidity\":0.2},\"type\":\"scatter\"}],\"parcoords\":[{\"type\":\"parcoords\",\"line\":{\"colorbar\":{\"outlinewidth\":0,\"ticks\":\"\"}}}],\"scatterpolargl\":[{\"type\":\"scatterpolargl\",\"marker\":{\"colorbar\":{\"outlinewidth\":0,\"ticks\":\"\"}}}],\"bar\":[{\"error_x\":{\"color\":\"#2a3f5f\"},\"error_y\":{\"color\":\"#2a3f5f\"},\"marker\":{\"line\":{\"color\":\"#E5ECF6\",\"width\":0.5},\"pattern\":{\"fillmode\":\"overlay\",\"size\":10,\"solidity\":0.2}},\"type\":\"bar\"}],\"scattergeo\":[{\"type\":\"scattergeo\",\"marker\":{\"colorbar\":{\"outlinewidth\":0,\"ticks\":\"\"}}}],\"scatterpolar\":[{\"type\":\"scatterpolar\",\"marker\":{\"colorbar\":{\"outlinewidth\":0,\"ticks\":\"\"}}}],\"histogram\":[{\"marker\":{\"pattern\":{\"fillmode\":\"overlay\",\"size\":10,\"solidity\":0.2}},\"type\":\"histogram\"}],\"scattergl\":[{\"type\":\"scattergl\",\"marker\":{\"colorbar\":{\"outlinewidth\":0,\"ticks\":\"\"}}}],\"scatter3d\":[{\"type\":\"scatter3d\",\"line\":{\"colorbar\":{\"outlinewidth\":0,\"ticks\":\"\"}},\"marker\":{\"colorbar\":{\"outlinewidth\":0,\"ticks\":\"\"}}}],\"scattermapbox\":[{\"type\":\"scattermapbox\",\"marker\":{\"colorbar\":{\"outlinewidth\":0,\"ticks\":\"\"}}}],\"scatterternary\":[{\"type\":\"scatterternary\",\"marker\":{\"colorbar\":{\"outlinewidth\":0,\"ticks\":\"\"}}}],\"scattercarpet\":[{\"type\":\"scattercarpet\",\"marker\":{\"colorbar\":{\"outlinewidth\":0,\"ticks\":\"\"}}}],\"carpet\":[{\"aaxis\":{\"endlinecolor\":\"#2a3f5f\",\"gridcolor\":\"white\",\"linecolor\":\"white\",\"minorgridcolor\":\"white\",\"startlinecolor\":\"#2a3f5f\"},\"baxis\":{\"endlinecolor\":\"#2a3f5f\",\"gridcolor\":\"white\",\"linecolor\":\"white\",\"minorgridcolor\":\"white\",\"startlinecolor\":\"#2a3f5f\"},\"type\":\"carpet\"}],\"table\":[{\"cells\":{\"fill\":{\"color\":\"#EBF0F8\"},\"line\":{\"color\":\"white\"}},\"header\":{\"fill\":{\"color\":\"#C8D4E3\"},\"line\":{\"color\":\"white\"}},\"type\":\"table\"}],\"barpolar\":[{\"marker\":{\"line\":{\"color\":\"#E5ECF6\",\"width\":0.5},\"pattern\":{\"fillmode\":\"overlay\",\"size\":10,\"solidity\":0.2}},\"type\":\"barpolar\"}],\"pie\":[{\"automargin\":true,\"type\":\"pie\"}]},\"layout\":{\"autotypenumbers\":\"strict\",\"colorway\":[\"#636efa\",\"#EF553B\",\"#00cc96\",\"#ab63fa\",\"#FFA15A\",\"#19d3f3\",\"#FF6692\",\"#B6E880\",\"#FF97FF\",\"#FECB52\"],\"font\":{\"color\":\"#2a3f5f\"},\"hovermode\":\"closest\",\"hoverlabel\":{\"align\":\"left\"},\"paper_bgcolor\":\"white\",\"plot_bgcolor\":\"#E5ECF6\",\"polar\":{\"bgcolor\":\"#E5ECF6\",\"angularaxis\":{\"gridcolor\":\"white\",\"linecolor\":\"white\",\"ticks\":\"\"},\"radialaxis\":{\"gridcolor\":\"white\",\"linecolor\":\"white\",\"ticks\":\"\"}},\"ternary\":{\"bgcolor\":\"#E5ECF6\",\"aaxis\":{\"gridcolor\":\"white\",\"linecolor\":\"white\",\"ticks\":\"\"},\"baxis\":{\"gridcolor\":\"white\",\"linecolor\":\"white\",\"ticks\":\"\"},\"caxis\":{\"gridcolor\":\"white\",\"linecolor\":\"white\",\"ticks\":\"\"}},\"coloraxis\":{\"colorbar\":{\"outlinewidth\":0,\"ticks\":\"\"}},\"colorscale\":{\"sequential\":[[0.0,\"#0d0887\"],[0.1111111111111111,\"#46039f\"],[0.2222222222222222,\"#7201a8\"],[0.3333333333333333,\"#9c179e\"],[0.4444444444444444,\"#bd3786\"],[0.5555555555555556,\"#d8576b\"],[0.6666666666666666,\"#ed7953\"],[0.7777777777777778,\"#fb9f3a\"],[0.8888888888888888,\"#fdca26\"],[1.0,\"#f0f921\"]],\"sequentialminus\":[[0.0,\"#0d0887\"],[0.1111111111111111,\"#46039f\"],[0.2222222222222222,\"#7201a8\"],[0.3333333333333333,\"#9c179e\"],[0.4444444444444444,\"#bd3786\"],[0.5555555555555556,\"#d8576b\"],[0.6666666666666666,\"#ed7953\"],[0.7777777777777778,\"#fb9f3a\"],[0.8888888888888888,\"#fdca26\"],[1.0,\"#f0f921\"]],\"diverging\":[[0,\"#8e0152\"],[0.1,\"#c51b7d\"],[0.2,\"#de77ae\"],[0.3,\"#f1b6da\"],[0.4,\"#fde0ef\"],[0.5,\"#f7f7f7\"],[0.6,\"#e6f5d0\"],[0.7,\"#b8e186\"],[0.8,\"#7fbc41\"],[0.9,\"#4d9221\"],[1,\"#276419\"]]},\"xaxis\":{\"gridcolor\":\"white\",\"linecolor\":\"white\",\"ticks\":\"\",\"title\":{\"standoff\":15},\"zerolinecolor\":\"white\",\"automargin\":true,\"zerolinewidth\":2},\"yaxis\":{\"gridcolor\":\"white\",\"linecolor\":\"white\",\"ticks\":\"\",\"title\":{\"standoff\":15},\"zerolinecolor\":\"white\",\"automargin\":true,\"zerolinewidth\":2},\"scene\":{\"xaxis\":{\"backgroundcolor\":\"#E5ECF6\",\"gridcolor\":\"white\",\"linecolor\":\"white\",\"showbackground\":true,\"ticks\":\"\",\"zerolinecolor\":\"white\",\"gridwidth\":2},\"yaxis\":{\"backgroundcolor\":\"#E5ECF6\",\"gridcolor\":\"white\",\"linecolor\":\"white\",\"showbackground\":true,\"ticks\":\"\",\"zerolinecolor\":\"white\",\"gridwidth\":2},\"zaxis\":{\"backgroundcolor\":\"#E5ECF6\",\"gridcolor\":\"white\",\"linecolor\":\"white\",\"showbackground\":true,\"ticks\":\"\",\"zerolinecolor\":\"white\",\"gridwidth\":2}},\"shapedefaults\":{\"line\":{\"color\":\"#2a3f5f\"}},\"annotationdefaults\":{\"arrowcolor\":\"#2a3f5f\",\"arrowhead\":0,\"arrowwidth\":1},\"geo\":{\"bgcolor\":\"white\",\"landcolor\":\"#E5ECF6\",\"subunitcolor\":\"white\",\"showland\":true,\"showlakes\":true,\"lakecolor\":\"white\"},\"title\":{\"x\":0.05},\"mapbox\":{\"style\":\"light\"}}},\"xaxis\":{\"anchor\":\"y\",\"domain\":[0.0,0.2125],\"title\":{\"text\":\"Year\"}},\"yaxis\":{\"anchor\":\"x\",\"domain\":[0.84375,1.0],\"title\":{\"text\":\"Price to Income Ratio\"}},\"xaxis2\":{\"anchor\":\"y2\",\"domain\":[0.2625,0.475],\"title\":{\"text\":\"Year\"}},\"yaxis2\":{\"anchor\":\"x2\",\"domain\":[0.84375,1.0],\"title\":{\"text\":\"Gross Rental Yield City Centre\"}},\"xaxis3\":{\"anchor\":\"y3\",\"domain\":[0.525,0.7375],\"title\":{\"text\":\"Year\"}},\"yaxis3\":{\"anchor\":\"x3\",\"domain\":[0.84375,1.0],\"title\":{\"text\":\"Gross Rental Yield Outside Centre\"}},\"xaxis4\":{\"anchor\":\"y4\",\"domain\":[0.7875,1.0],\"title\":{\"text\":\"Year\"}},\"yaxis4\":{\"anchor\":\"x4\",\"domain\":[0.84375,1.0],\"title\":{\"text\":\"Price to Rent Ratio City Centre\"}},\"xaxis5\":{\"anchor\":\"y5\",\"domain\":[0.0,0.2125],\"title\":{\"text\":\"Year\"}},\"yaxis5\":{\"anchor\":\"x5\",\"domain\":[0.5625,0.71875],\"title\":{\"text\":\"Price to Rent Ratio Outside City Centre\"}},\"xaxis6\":{\"anchor\":\"y6\",\"domain\":[0.2625,0.475],\"title\":{\"text\":\"Year\"}},\"yaxis6\":{\"anchor\":\"x6\",\"domain\":[0.5625,0.71875],\"title\":{\"text\":\"Mortgage as a Percentage of Income\"}},\"xaxis7\":{\"anchor\":\"y7\",\"domain\":[0.525,0.7375],\"title\":{\"text\":\"Year\"}},\"yaxis7\":{\"anchor\":\"x7\",\"domain\":[0.5625,0.71875],\"title\":{\"text\":\"Affordability Index\"}},\"xaxis8\":{\"anchor\":\"y8\",\"domain\":[0.7875,1.0],\"title\":{\"text\":\"Year\"}},\"yaxis8\":{\"anchor\":\"x8\",\"domain\":[0.5625,0.71875],\"title\":{\"text\":\"Crime Index\"}},\"xaxis9\":{\"anchor\":\"y9\",\"domain\":[0.0,0.2125],\"title\":{\"text\":\"Year\"}},\"yaxis9\":{\"anchor\":\"x9\",\"domain\":[0.28125,0.4375],\"title\":{\"text\":\"Safety Index\"}},\"xaxis10\":{\"anchor\":\"y10\",\"domain\":[0.2625,0.475],\"title\":{\"text\":\"Year\"}},\"yaxis10\":{\"anchor\":\"x10\",\"domain\":[0.28125,0.4375],\"title\":{\"text\":\"Cost of Living Index\"}},\"xaxis11\":{\"anchor\":\"y11\",\"domain\":[0.525,0.7375],\"title\":{\"text\":\"Year\"}},\"yaxis11\":{\"anchor\":\"x11\",\"domain\":[0.28125,0.4375],\"title\":{\"text\":\"Rent Index\"}},\"xaxis12\":{\"anchor\":\"y12\",\"domain\":[0.7875,1.0],\"title\":{\"text\":\"Year\"}},\"yaxis12\":{\"anchor\":\"x12\",\"domain\":[0.28125,0.4375],\"title\":{\"text\":\"Cost of Living Plus Rent Index\"}},\"xaxis13\":{\"anchor\":\"y13\",\"domain\":[0.0,0.2125],\"title\":{\"text\":\"Year\"}},\"yaxis13\":{\"anchor\":\"x13\",\"domain\":[0.0,0.15625],\"title\":{\"text\":\"Groceries Index\"}},\"xaxis14\":{\"anchor\":\"y14\",\"domain\":[0.2625,0.475],\"title\":{\"text\":\"Year\"}},\"yaxis14\":{\"anchor\":\"x14\",\"domain\":[0.0,0.15625],\"title\":{\"text\":\"Restaurant Index\"}},\"xaxis15\":{\"anchor\":\"y15\",\"domain\":[0.525,0.7375],\"title\":{\"text\":\"Year\"}},\"yaxis15\":{\"anchor\":\"x15\",\"domain\":[0.0,0.15625],\"title\":{\"text\":\"Local Purchasing Power Index\"}},\"xaxis16\":{\"anchor\":\"y16\",\"domain\":[0.7875,1.0]},\"yaxis16\":{\"anchor\":\"x16\",\"domain\":[0.0,0.15625]},\"annotations\":[{\"font\":{\"size\":16},\"showarrow\":false,\"text\":\"Price to Income Ratio\",\"x\":0.10625,\"xanchor\":\"center\",\"xref\":\"paper\",\"y\":1.0,\"yanchor\":\"bottom\",\"yref\":\"paper\"},{\"font\":{\"size\":16},\"showarrow\":false,\"text\":\"Gross Rental Yield City Centre\",\"x\":0.36875,\"xanchor\":\"center\",\"xref\":\"paper\",\"y\":1.0,\"yanchor\":\"bottom\",\"yref\":\"paper\"},{\"font\":{\"size\":16},\"showarrow\":false,\"text\":\"Gross Rental Yield Outside Centre\",\"x\":0.6312500000000001,\"xanchor\":\"center\",\"xref\":\"paper\",\"y\":1.0,\"yanchor\":\"bottom\",\"yref\":\"paper\"},{\"font\":{\"size\":16},\"showarrow\":false,\"text\":\"Price to Rent Ratio City Centre\",\"x\":0.89375,\"xanchor\":\"center\",\"xref\":\"paper\",\"y\":1.0,\"yanchor\":\"bottom\",\"yref\":\"paper\"},{\"font\":{\"size\":16},\"showarrow\":false,\"text\":\"Price to Rent Ratio Outside City Centre\",\"x\":0.10625,\"xanchor\":\"center\",\"xref\":\"paper\",\"y\":0.71875,\"yanchor\":\"bottom\",\"yref\":\"paper\"},{\"font\":{\"size\":16},\"showarrow\":false,\"text\":\"Mortgage as a Percentage of Income\",\"x\":0.36875,\"xanchor\":\"center\",\"xref\":\"paper\",\"y\":0.71875,\"yanchor\":\"bottom\",\"yref\":\"paper\"},{\"font\":{\"size\":16},\"showarrow\":false,\"text\":\"Affordability Index\",\"x\":0.6312500000000001,\"xanchor\":\"center\",\"xref\":\"paper\",\"y\":0.71875,\"yanchor\":\"bottom\",\"yref\":\"paper\"},{\"font\":{\"size\":16},\"showarrow\":false,\"text\":\"Crime Index\",\"x\":0.89375,\"xanchor\":\"center\",\"xref\":\"paper\",\"y\":0.71875,\"yanchor\":\"bottom\",\"yref\":\"paper\"},{\"font\":{\"size\":16},\"showarrow\":false,\"text\":\"Safety Index\",\"x\":0.10625,\"xanchor\":\"center\",\"xref\":\"paper\",\"y\":0.4375,\"yanchor\":\"bottom\",\"yref\":\"paper\"},{\"font\":{\"size\":16},\"showarrow\":false,\"text\":\"Cost of Living Index\",\"x\":0.36875,\"xanchor\":\"center\",\"xref\":\"paper\",\"y\":0.4375,\"yanchor\":\"bottom\",\"yref\":\"paper\"},{\"font\":{\"size\":16},\"showarrow\":false,\"text\":\"Rent Index\",\"x\":0.6312500000000001,\"xanchor\":\"center\",\"xref\":\"paper\",\"y\":0.4375,\"yanchor\":\"bottom\",\"yref\":\"paper\"},{\"font\":{\"size\":16},\"showarrow\":false,\"text\":\"Cost of Living Plus Rent Index\",\"x\":0.89375,\"xanchor\":\"center\",\"xref\":\"paper\",\"y\":0.4375,\"yanchor\":\"bottom\",\"yref\":\"paper\"},{\"font\":{\"size\":16},\"showarrow\":false,\"text\":\"Groceries Index\",\"x\":0.10625,\"xanchor\":\"center\",\"xref\":\"paper\",\"y\":0.15625,\"yanchor\":\"bottom\",\"yref\":\"paper\"},{\"font\":{\"size\":16},\"showarrow\":false,\"text\":\"Restaurant Index\",\"x\":0.36875,\"xanchor\":\"center\",\"xref\":\"paper\",\"y\":0.15625,\"yanchor\":\"bottom\",\"yref\":\"paper\"},{\"font\":{\"size\":16},\"showarrow\":false,\"text\":\"Local Purchasing Power Index\",\"x\":0.6312500000000001,\"xanchor\":\"center\",\"xref\":\"paper\",\"y\":0.15625,\"yanchor\":\"bottom\",\"yref\":\"paper\"}],\"title\":{\"text\":\"Tulsa, OK, United States\"},\"height\":1500,\"width\":1500},                        {\"responsive\": true}                    ).then(function(){\n",
       "                            \n",
       "var gd = document.getElementById('6e14f567-f252-40ae-a726-18b8a6d2b8ce');\n",
       "var x = new MutationObserver(function (mutations, observer) {{\n",
       "        var display = window.getComputedStyle(gd).display;\n",
       "        if (!display || display === 'none') {{\n",
       "            console.log([gd, 'removed!']);\n",
       "            Plotly.purge(gd);\n",
       "            observer.disconnect();\n",
       "        }}\n",
       "}});\n",
       "\n",
       "// Listen for the removal of the full notebook cells\n",
       "var notebookContainer = gd.closest('#notebook-container');\n",
       "if (notebookContainer) {{\n",
       "    x.observe(notebookContainer, {childList: true});\n",
       "}}\n",
       "\n",
       "// Listen for the clearing of the current output cell\n",
       "var outputEl = gd.closest('.output');\n",
       "if (outputEl) {{\n",
       "    x.observe(outputEl, {childList: true});\n",
       "}}\n",
       "\n",
       "                        })                };                });            </script>        </div>"
      ]
     },
     "metadata": {},
     "output_type": "display_data"
    },
    {
     "data": {
      "application/vnd.plotly.v1+json": {
       "config": {
        "plotlyServerURL": "https://plot.ly"
       },
       "data": [
        {
         "mode": "lines+markers",
         "name": "Price to Income Ratio",
         "type": "scatter",
         "x": [
          "2010",
          "2011",
          "2012",
          "2013",
          "2014",
          "2014-mid",
          "2015",
          "2015-mid",
          "2016",
          "2016-mid",
          "2017",
          "2017-mid",
          "2018",
          "2018-mid",
          "2019",
          "2019-mid",
          "2020",
          "2020-mid",
          "2021",
          "2021-mid",
          "2022",
          "2022-mid",
          "2023",
          "2023-mid",
          "2024",
          "2024-mid"
         ],
         "xaxis": "x",
         "y": [
          3.3,
          4.1,
          3.7,
          1.7,
          1.5,
          2.7,
          2.8,
          3.1,
          3.4,
          3,
          2.7,
          2.6,
          2.6,
          2.8,
          2.9,
          2.7,
          2.9,
          3.1,
          3.8,
          3.8,
          3.8,
          3.3,
          3.3,
          2.7,
          5.7,
          2.4
         ],
         "yaxis": "y"
        },
        {
         "mode": "lines+markers",
         "name": "Gross Rental Yield City Centre",
         "type": "scatter",
         "x": [
          "2010",
          "2011",
          "2012",
          "2013",
          "2014",
          "2014-mid",
          "2015",
          "2015-mid",
          "2016",
          "2016-mid",
          "2017",
          "2017-mid",
          "2018",
          "2018-mid",
          "2019",
          "2019-mid",
          "2020",
          "2020-mid",
          "2021",
          "2021-mid",
          "2022",
          "2022-mid",
          "2023",
          "2023-mid",
          "2024",
          "2024-mid"
         ],
         "xaxis": "x2",
         "y": [
          8.5,
          6.2,
          7,
          13.4,
          13.4,
          9.9,
          9.8,
          11.2,
          11.2,
          10.6,
          10.4,
          10.4,
          11.1,
          11,
          10.4,
          9.9,
          9.5,
          9.2,
          6.7,
          6.1,
          6.1,
          8.8,
          10.3,
          13.1,
          4.6,
          12.9
         ],
         "yaxis": "y2"
        },
        {
         "mode": "lines+markers",
         "name": "Gross Rental Yield Outside Centre",
         "type": "scatter",
         "x": [
          "2010",
          "2011",
          "2012",
          "2013",
          "2014",
          "2014-mid",
          "2015",
          "2015-mid",
          "2016",
          "2016-mid",
          "2017",
          "2017-mid",
          "2018",
          "2018-mid",
          "2019",
          "2019-mid",
          "2020",
          "2020-mid",
          "2021",
          "2021-mid",
          "2022",
          "2022-mid",
          "2023",
          "2023-mid",
          "2024",
          "2024-mid"
         ],
         "xaxis": "x3",
         "y": [
          9,
          14.5,
          16.7,
          21.4,
          20.8,
          8.1,
          7.9,
          10.2,
          11.6,
          14.8,
          15.5,
          16.5,
          18.9,
          16.9,
          15,
          16,
          13.6,
          12,
          13.4,
          12.8,
          13.6,
          14.3,
          13.5,
          14,
          6.4,
          12.6
         ],
         "yaxis": "y3"
        },
        {
         "mode": "lines+markers",
         "name": "Price to Rent Ratio City Centre",
         "type": "scatter",
         "x": [
          "2010",
          "2011",
          "2012",
          "2013",
          "2014",
          "2014-mid",
          "2015",
          "2015-mid",
          "2016",
          "2016-mid",
          "2017",
          "2017-mid",
          "2018",
          "2018-mid",
          "2019",
          "2019-mid",
          "2020",
          "2020-mid",
          "2021",
          "2021-mid",
          "2022",
          "2022-mid",
          "2023",
          "2023-mid",
          "2024",
          "2024-mid"
         ],
         "xaxis": "x4",
         "y": [
          11.8,
          16.2,
          14.3,
          7.5,
          7.4,
          10.1,
          10.2,
          9,
          8.9,
          9.4,
          9.6,
          9.6,
          9,
          9.1,
          9.6,
          10.1,
          10.6,
          10.9,
          14.9,
          16.3,
          16.5,
          11.3,
          9.7,
          7.6,
          21.5,
          7.7
         ],
         "yaxis": "y4"
        },
        {
         "mode": "lines+markers",
         "name": "Price to Rent Ratio Outside City Centre",
         "type": "scatter",
         "x": [
          "2010",
          "2011",
          "2012",
          "2013",
          "2014",
          "2014-mid",
          "2015",
          "2015-mid",
          "2016",
          "2016-mid",
          "2017",
          "2017-mid",
          "2018",
          "2018-mid",
          "2019",
          "2019-mid",
          "2020",
          "2020-mid",
          "2021",
          "2021-mid",
          "2022",
          "2022-mid",
          "2023",
          "2023-mid",
          "2024",
          "2024-mid"
         ],
         "xaxis": "x5",
         "y": [
          11.1,
          6.9,
          6,
          4.7,
          4.8,
          12.4,
          12.6,
          9.8,
          8.6,
          6.7,
          6.5,
          6.1,
          5.3,
          5.9,
          6.7,
          6.3,
          7.3,
          8.3,
          7.4,
          7.8,
          7.4,
          7,
          7.4,
          7.1,
          15.5,
          7.9
         ],
         "yaxis": "y5"
        },
        {
         "mode": "lines+markers",
         "name": "Mortgage as a Percentage of Income",
         "type": "scatter",
         "x": [
          "2010",
          "2011",
          "2012",
          "2013",
          "2014",
          "2014-mid",
          "2015",
          "2015-mid",
          "2016",
          "2016-mid",
          "2017",
          "2017-mid",
          "2018",
          "2018-mid",
          "2019",
          "2019-mid",
          "2020",
          "2020-mid",
          "2021",
          "2021-mid",
          "2022",
          "2022-mid",
          "2023",
          "2023-mid",
          "2024",
          "2024-mid"
         ],
         "xaxis": "x6",
         "y": [
          "28.8",
          "32.7",
          "28.5",
          "12.5",
          "10.9",
          "19.2",
          "20.1",
          "22.8",
          "24.7",
          "21.7",
          "19.6",
          "18.7",
          "18.4",
          "20.1",
          "21.7",
          "20.3",
          "21.2",
          "22.5",
          "27.5",
          "26.9",
          "26.3",
          "25.1",
          "25.6",
          "23.4",
          "52.3",
          "22.0"
         ],
         "yaxis": "y6"
        },
        {
         "mode": "lines+markers",
         "name": "Affordability Index",
         "type": "scatter",
         "x": [
          "2010",
          "2011",
          "2012",
          "2013",
          "2014",
          "2014-mid",
          "2015",
          "2015-mid",
          "2016",
          "2016-mid",
          "2017",
          "2017-mid",
          "2018",
          "2018-mid",
          "2019",
          "2019-mid",
          "2020",
          "2020-mid",
          "2021",
          "2021-mid",
          "2022",
          "2022-mid",
          "2023",
          "2023-mid",
          "2024",
          "2024-mid"
         ],
         "xaxis": "x7",
         "y": [
          "3.5",
          "3.1",
          "3.5",
          "8.0",
          "9.2",
          "5.2",
          "5.0",
          "4.4",
          "4.0",
          "4.6",
          "5.1",
          "5.3",
          "5.4",
          "5.0",
          "4.6",
          "4.9",
          "4.7",
          "4.5",
          "3.6",
          "3.7",
          "3.8",
          "4.0",
          "3.9",
          "4.3",
          "1.9",
          "4.6"
         ],
         "yaxis": "y7"
        },
        {
         "mode": "lines+markers",
         "name": "Crime Index",
         "type": "scatter",
         "x": [
          "2010",
          "2011",
          "2012",
          "2013",
          "2014",
          "2014-mid",
          "2015",
          "2015-mid",
          "2016",
          "2016-mid",
          "2017",
          "2017-mid",
          "2018",
          "2018-mid",
          "2019",
          "2019-mid",
          "2020",
          "2020-mid",
          "2021",
          "2021-mid",
          "2022",
          "2022-mid",
          "2023",
          "2023-mid",
          "2024",
          "2024-mid"
         ],
         "xaxis": "x8",
         "y": [
          null,
          null,
          null,
          null,
          null,
          56.5,
          59.9,
          64.1,
          64,
          64.5,
          64.8,
          64.7,
          65,
          66.2,
          63.6,
          62.6,
          62.2,
          62.6,
          62,
          62.4,
          63,
          62.8,
          63.5,
          63.9,
          64,
          64
         ],
         "yaxis": "y8"
        },
        {
         "mode": "lines+markers",
         "name": "Safety Index",
         "type": "scatter",
         "x": [
          "2010",
          "2011",
          "2012",
          "2013",
          "2014",
          "2014-mid",
          "2015",
          "2015-mid",
          "2016",
          "2016-mid",
          "2017",
          "2017-mid",
          "2018",
          "2018-mid",
          "2019",
          "2019-mid",
          "2020",
          "2020-mid",
          "2021",
          "2021-mid",
          "2022",
          "2022-mid",
          "2023",
          "2023-mid",
          "2024",
          "2024-mid"
         ],
         "xaxis": "x9",
         "y": [
          null,
          null,
          null,
          null,
          null,
          43.5,
          40.1,
          35.9,
          36,
          35.5,
          35.2,
          35.3,
          35,
          33.8,
          36.4,
          37.4,
          37.8,
          37.4,
          38,
          37.6,
          37,
          37.2,
          36.5,
          36.1,
          36,
          36
         ],
         "yaxis": "y9"
        },
        {
         "mode": "lines+markers",
         "name": "Cost of Living Index",
         "type": "scatter",
         "x": [
          "2010",
          "2011",
          "2012",
          "2013",
          "2014",
          "2014-mid",
          "2015",
          "2015-mid",
          "2016",
          "2016-mid",
          "2017",
          "2017-mid",
          "2018",
          "2018-mid",
          "2019",
          "2019-mid",
          "2020",
          "2020-mid",
          "2021",
          "2021-mid",
          "2022",
          "2022-mid",
          "2023",
          "2023-mid",
          "2024",
          "2024-mid"
         ],
         "xaxis": "x10",
         "y": [
          null,
          null,
          null,
          null,
          null,
          null,
          null,
          null,
          null,
          null,
          null,
          null,
          null,
          null,
          null,
          null,
          null,
          null,
          null,
          null,
          null,
          null,
          null,
          null,
          80.3,
          null
         ],
         "yaxis": "y10"
        },
        {
         "mode": "lines+markers",
         "name": "Rent Index",
         "type": "scatter",
         "x": [
          "2010",
          "2011",
          "2012",
          "2013",
          "2014",
          "2014-mid",
          "2015",
          "2015-mid",
          "2016",
          "2016-mid",
          "2017",
          "2017-mid",
          "2018",
          "2018-mid",
          "2019",
          "2019-mid",
          "2020",
          "2020-mid",
          "2021",
          "2021-mid",
          "2022",
          "2022-mid",
          "2023",
          "2023-mid",
          "2024",
          "2024-mid"
         ],
         "xaxis": "x11",
         "y": [
          null,
          null,
          null,
          null,
          null,
          null,
          null,
          null,
          null,
          null,
          null,
          null,
          null,
          null,
          null,
          null,
          null,
          null,
          null,
          null,
          null,
          null,
          null,
          null,
          47.4,
          null
         ],
         "yaxis": "y11"
        },
        {
         "mode": "lines+markers",
         "name": "Cost of Living Plus Rent Index",
         "type": "scatter",
         "x": [
          "2010",
          "2011",
          "2012",
          "2013",
          "2014",
          "2014-mid",
          "2015",
          "2015-mid",
          "2016",
          "2016-mid",
          "2017",
          "2017-mid",
          "2018",
          "2018-mid",
          "2019",
          "2019-mid",
          "2020",
          "2020-mid",
          "2021",
          "2021-mid",
          "2022",
          "2022-mid",
          "2023",
          "2023-mid",
          "2024",
          "2024-mid"
         ],
         "xaxis": "x12",
         "y": [
          null,
          null,
          null,
          null,
          null,
          null,
          null,
          null,
          null,
          null,
          null,
          null,
          null,
          null,
          null,
          null,
          null,
          null,
          null,
          null,
          null,
          null,
          null,
          null,
          64.7,
          null
         ],
         "yaxis": "y12"
        },
        {
         "mode": "lines+markers",
         "name": "Groceries Index",
         "type": "scatter",
         "x": [
          "2010",
          "2011",
          "2012",
          "2013",
          "2014",
          "2014-mid",
          "2015",
          "2015-mid",
          "2016",
          "2016-mid",
          "2017",
          "2017-mid",
          "2018",
          "2018-mid",
          "2019",
          "2019-mid",
          "2020",
          "2020-mid",
          "2021",
          "2021-mid",
          "2022",
          "2022-mid",
          "2023",
          "2023-mid",
          "2024",
          "2024-mid"
         ],
         "xaxis": "x13",
         "y": [
          null,
          null,
          null,
          null,
          null,
          null,
          null,
          null,
          null,
          null,
          null,
          null,
          null,
          null,
          null,
          null,
          null,
          null,
          null,
          null,
          null,
          null,
          null,
          null,
          81,
          null
         ],
         "yaxis": "y13"
        },
        {
         "mode": "lines+markers",
         "name": "Restaurant Index",
         "type": "scatter",
         "x": [
          "2010",
          "2011",
          "2012",
          "2013",
          "2014",
          "2014-mid",
          "2015",
          "2015-mid",
          "2016",
          "2016-mid",
          "2017",
          "2017-mid",
          "2018",
          "2018-mid",
          "2019",
          "2019-mid",
          "2020",
          "2020-mid",
          "2021",
          "2021-mid",
          "2022",
          "2022-mid",
          "2023",
          "2023-mid",
          "2024",
          "2024-mid"
         ],
         "xaxis": "x14",
         "y": [
          null,
          null,
          null,
          null,
          null,
          null,
          null,
          null,
          null,
          null,
          null,
          null,
          null,
          null,
          null,
          null,
          null,
          null,
          null,
          null,
          null,
          null,
          null,
          null,
          78,
          null
         ],
         "yaxis": "y14"
        },
        {
         "mode": "lines+markers",
         "name": "Local Purchasing Power Index",
         "type": "scatter",
         "x": [
          "2010",
          "2011",
          "2012",
          "2013",
          "2014",
          "2014-mid",
          "2015",
          "2015-mid",
          "2016",
          "2016-mid",
          "2017",
          "2017-mid",
          "2018",
          "2018-mid",
          "2019",
          "2019-mid",
          "2020",
          "2020-mid",
          "2021",
          "2021-mid",
          "2022",
          "2022-mid",
          "2023",
          "2023-mid",
          "2024",
          "2024-mid"
         ],
         "xaxis": "x15",
         "y": [
          null,
          null,
          null,
          null,
          null,
          null,
          null,
          null,
          null,
          null,
          null,
          null,
          null,
          null,
          null,
          null,
          null,
          null,
          null,
          null,
          null,
          null,
          null,
          null,
          139.2,
          null
         ],
         "yaxis": "y15"
        }
       ],
       "layout": {
        "annotations": [
         {
          "font": {
           "size": 16
          },
          "showarrow": false,
          "text": "Price to Income Ratio",
          "x": 0.10625,
          "xanchor": "center",
          "xref": "paper",
          "y": 1,
          "yanchor": "bottom",
          "yref": "paper"
         },
         {
          "font": {
           "size": 16
          },
          "showarrow": false,
          "text": "Gross Rental Yield City Centre",
          "x": 0.36875,
          "xanchor": "center",
          "xref": "paper",
          "y": 1,
          "yanchor": "bottom",
          "yref": "paper"
         },
         {
          "font": {
           "size": 16
          },
          "showarrow": false,
          "text": "Gross Rental Yield Outside Centre",
          "x": 0.6312500000000001,
          "xanchor": "center",
          "xref": "paper",
          "y": 1,
          "yanchor": "bottom",
          "yref": "paper"
         },
         {
          "font": {
           "size": 16
          },
          "showarrow": false,
          "text": "Price to Rent Ratio City Centre",
          "x": 0.89375,
          "xanchor": "center",
          "xref": "paper",
          "y": 1,
          "yanchor": "bottom",
          "yref": "paper"
         },
         {
          "font": {
           "size": 16
          },
          "showarrow": false,
          "text": "Price to Rent Ratio Outside City Centre",
          "x": 0.10625,
          "xanchor": "center",
          "xref": "paper",
          "y": 0.71875,
          "yanchor": "bottom",
          "yref": "paper"
         },
         {
          "font": {
           "size": 16
          },
          "showarrow": false,
          "text": "Mortgage as a Percentage of Income",
          "x": 0.36875,
          "xanchor": "center",
          "xref": "paper",
          "y": 0.71875,
          "yanchor": "bottom",
          "yref": "paper"
         },
         {
          "font": {
           "size": 16
          },
          "showarrow": false,
          "text": "Affordability Index",
          "x": 0.6312500000000001,
          "xanchor": "center",
          "xref": "paper",
          "y": 0.71875,
          "yanchor": "bottom",
          "yref": "paper"
         },
         {
          "font": {
           "size": 16
          },
          "showarrow": false,
          "text": "Crime Index",
          "x": 0.89375,
          "xanchor": "center",
          "xref": "paper",
          "y": 0.71875,
          "yanchor": "bottom",
          "yref": "paper"
         },
         {
          "font": {
           "size": 16
          },
          "showarrow": false,
          "text": "Safety Index",
          "x": 0.10625,
          "xanchor": "center",
          "xref": "paper",
          "y": 0.4375,
          "yanchor": "bottom",
          "yref": "paper"
         },
         {
          "font": {
           "size": 16
          },
          "showarrow": false,
          "text": "Cost of Living Index",
          "x": 0.36875,
          "xanchor": "center",
          "xref": "paper",
          "y": 0.4375,
          "yanchor": "bottom",
          "yref": "paper"
         },
         {
          "font": {
           "size": 16
          },
          "showarrow": false,
          "text": "Rent Index",
          "x": 0.6312500000000001,
          "xanchor": "center",
          "xref": "paper",
          "y": 0.4375,
          "yanchor": "bottom",
          "yref": "paper"
         },
         {
          "font": {
           "size": 16
          },
          "showarrow": false,
          "text": "Cost of Living Plus Rent Index",
          "x": 0.89375,
          "xanchor": "center",
          "xref": "paper",
          "y": 0.4375,
          "yanchor": "bottom",
          "yref": "paper"
         },
         {
          "font": {
           "size": 16
          },
          "showarrow": false,
          "text": "Groceries Index",
          "x": 0.10625,
          "xanchor": "center",
          "xref": "paper",
          "y": 0.15625,
          "yanchor": "bottom",
          "yref": "paper"
         },
         {
          "font": {
           "size": 16
          },
          "showarrow": false,
          "text": "Restaurant Index",
          "x": 0.36875,
          "xanchor": "center",
          "xref": "paper",
          "y": 0.15625,
          "yanchor": "bottom",
          "yref": "paper"
         },
         {
          "font": {
           "size": 16
          },
          "showarrow": false,
          "text": "Local Purchasing Power Index",
          "x": 0.6312500000000001,
          "xanchor": "center",
          "xref": "paper",
          "y": 0.15625,
          "yanchor": "bottom",
          "yref": "paper"
         }
        ],
        "height": 1500,
        "template": {
         "data": {
          "bar": [
           {
            "error_x": {
             "color": "#2a3f5f"
            },
            "error_y": {
             "color": "#2a3f5f"
            },
            "marker": {
             "line": {
              "color": "#E5ECF6",
              "width": 0.5
             },
             "pattern": {
              "fillmode": "overlay",
              "size": 10,
              "solidity": 0.2
             }
            },
            "type": "bar"
           }
          ],
          "barpolar": [
           {
            "marker": {
             "line": {
              "color": "#E5ECF6",
              "width": 0.5
             },
             "pattern": {
              "fillmode": "overlay",
              "size": 10,
              "solidity": 0.2
             }
            },
            "type": "barpolar"
           }
          ],
          "carpet": [
           {
            "aaxis": {
             "endlinecolor": "#2a3f5f",
             "gridcolor": "white",
             "linecolor": "white",
             "minorgridcolor": "white",
             "startlinecolor": "#2a3f5f"
            },
            "baxis": {
             "endlinecolor": "#2a3f5f",
             "gridcolor": "white",
             "linecolor": "white",
             "minorgridcolor": "white",
             "startlinecolor": "#2a3f5f"
            },
            "type": "carpet"
           }
          ],
          "choropleth": [
           {
            "colorbar": {
             "outlinewidth": 0,
             "ticks": ""
            },
            "type": "choropleth"
           }
          ],
          "contour": [
           {
            "colorbar": {
             "outlinewidth": 0,
             "ticks": ""
            },
            "colorscale": [
             [
              0,
              "#0d0887"
             ],
             [
              0.1111111111111111,
              "#46039f"
             ],
             [
              0.2222222222222222,
              "#7201a8"
             ],
             [
              0.3333333333333333,
              "#9c179e"
             ],
             [
              0.4444444444444444,
              "#bd3786"
             ],
             [
              0.5555555555555556,
              "#d8576b"
             ],
             [
              0.6666666666666666,
              "#ed7953"
             ],
             [
              0.7777777777777778,
              "#fb9f3a"
             ],
             [
              0.8888888888888888,
              "#fdca26"
             ],
             [
              1,
              "#f0f921"
             ]
            ],
            "type": "contour"
           }
          ],
          "contourcarpet": [
           {
            "colorbar": {
             "outlinewidth": 0,
             "ticks": ""
            },
            "type": "contourcarpet"
           }
          ],
          "heatmap": [
           {
            "colorbar": {
             "outlinewidth": 0,
             "ticks": ""
            },
            "colorscale": [
             [
              0,
              "#0d0887"
             ],
             [
              0.1111111111111111,
              "#46039f"
             ],
             [
              0.2222222222222222,
              "#7201a8"
             ],
             [
              0.3333333333333333,
              "#9c179e"
             ],
             [
              0.4444444444444444,
              "#bd3786"
             ],
             [
              0.5555555555555556,
              "#d8576b"
             ],
             [
              0.6666666666666666,
              "#ed7953"
             ],
             [
              0.7777777777777778,
              "#fb9f3a"
             ],
             [
              0.8888888888888888,
              "#fdca26"
             ],
             [
              1,
              "#f0f921"
             ]
            ],
            "type": "heatmap"
           }
          ],
          "heatmapgl": [
           {
            "colorbar": {
             "outlinewidth": 0,
             "ticks": ""
            },
            "colorscale": [
             [
              0,
              "#0d0887"
             ],
             [
              0.1111111111111111,
              "#46039f"
             ],
             [
              0.2222222222222222,
              "#7201a8"
             ],
             [
              0.3333333333333333,
              "#9c179e"
             ],
             [
              0.4444444444444444,
              "#bd3786"
             ],
             [
              0.5555555555555556,
              "#d8576b"
             ],
             [
              0.6666666666666666,
              "#ed7953"
             ],
             [
              0.7777777777777778,
              "#fb9f3a"
             ],
             [
              0.8888888888888888,
              "#fdca26"
             ],
             [
              1,
              "#f0f921"
             ]
            ],
            "type": "heatmapgl"
           }
          ],
          "histogram": [
           {
            "marker": {
             "pattern": {
              "fillmode": "overlay",
              "size": 10,
              "solidity": 0.2
             }
            },
            "type": "histogram"
           }
          ],
          "histogram2d": [
           {
            "colorbar": {
             "outlinewidth": 0,
             "ticks": ""
            },
            "colorscale": [
             [
              0,
              "#0d0887"
             ],
             [
              0.1111111111111111,
              "#46039f"
             ],
             [
              0.2222222222222222,
              "#7201a8"
             ],
             [
              0.3333333333333333,
              "#9c179e"
             ],
             [
              0.4444444444444444,
              "#bd3786"
             ],
             [
              0.5555555555555556,
              "#d8576b"
             ],
             [
              0.6666666666666666,
              "#ed7953"
             ],
             [
              0.7777777777777778,
              "#fb9f3a"
             ],
             [
              0.8888888888888888,
              "#fdca26"
             ],
             [
              1,
              "#f0f921"
             ]
            ],
            "type": "histogram2d"
           }
          ],
          "histogram2dcontour": [
           {
            "colorbar": {
             "outlinewidth": 0,
             "ticks": ""
            },
            "colorscale": [
             [
              0,
              "#0d0887"
             ],
             [
              0.1111111111111111,
              "#46039f"
             ],
             [
              0.2222222222222222,
              "#7201a8"
             ],
             [
              0.3333333333333333,
              "#9c179e"
             ],
             [
              0.4444444444444444,
              "#bd3786"
             ],
             [
              0.5555555555555556,
              "#d8576b"
             ],
             [
              0.6666666666666666,
              "#ed7953"
             ],
             [
              0.7777777777777778,
              "#fb9f3a"
             ],
             [
              0.8888888888888888,
              "#fdca26"
             ],
             [
              1,
              "#f0f921"
             ]
            ],
            "type": "histogram2dcontour"
           }
          ],
          "mesh3d": [
           {
            "colorbar": {
             "outlinewidth": 0,
             "ticks": ""
            },
            "type": "mesh3d"
           }
          ],
          "parcoords": [
           {
            "line": {
             "colorbar": {
              "outlinewidth": 0,
              "ticks": ""
             }
            },
            "type": "parcoords"
           }
          ],
          "pie": [
           {
            "automargin": true,
            "type": "pie"
           }
          ],
          "scatter": [
           {
            "fillpattern": {
             "fillmode": "overlay",
             "size": 10,
             "solidity": 0.2
            },
            "type": "scatter"
           }
          ],
          "scatter3d": [
           {
            "line": {
             "colorbar": {
              "outlinewidth": 0,
              "ticks": ""
             }
            },
            "marker": {
             "colorbar": {
              "outlinewidth": 0,
              "ticks": ""
             }
            },
            "type": "scatter3d"
           }
          ],
          "scattercarpet": [
           {
            "marker": {
             "colorbar": {
              "outlinewidth": 0,
              "ticks": ""
             }
            },
            "type": "scattercarpet"
           }
          ],
          "scattergeo": [
           {
            "marker": {
             "colorbar": {
              "outlinewidth": 0,
              "ticks": ""
             }
            },
            "type": "scattergeo"
           }
          ],
          "scattergl": [
           {
            "marker": {
             "colorbar": {
              "outlinewidth": 0,
              "ticks": ""
             }
            },
            "type": "scattergl"
           }
          ],
          "scattermapbox": [
           {
            "marker": {
             "colorbar": {
              "outlinewidth": 0,
              "ticks": ""
             }
            },
            "type": "scattermapbox"
           }
          ],
          "scatterpolar": [
           {
            "marker": {
             "colorbar": {
              "outlinewidth": 0,
              "ticks": ""
             }
            },
            "type": "scatterpolar"
           }
          ],
          "scatterpolargl": [
           {
            "marker": {
             "colorbar": {
              "outlinewidth": 0,
              "ticks": ""
             }
            },
            "type": "scatterpolargl"
           }
          ],
          "scatterternary": [
           {
            "marker": {
             "colorbar": {
              "outlinewidth": 0,
              "ticks": ""
             }
            },
            "type": "scatterternary"
           }
          ],
          "surface": [
           {
            "colorbar": {
             "outlinewidth": 0,
             "ticks": ""
            },
            "colorscale": [
             [
              0,
              "#0d0887"
             ],
             [
              0.1111111111111111,
              "#46039f"
             ],
             [
              0.2222222222222222,
              "#7201a8"
             ],
             [
              0.3333333333333333,
              "#9c179e"
             ],
             [
              0.4444444444444444,
              "#bd3786"
             ],
             [
              0.5555555555555556,
              "#d8576b"
             ],
             [
              0.6666666666666666,
              "#ed7953"
             ],
             [
              0.7777777777777778,
              "#fb9f3a"
             ],
             [
              0.8888888888888888,
              "#fdca26"
             ],
             [
              1,
              "#f0f921"
             ]
            ],
            "type": "surface"
           }
          ],
          "table": [
           {
            "cells": {
             "fill": {
              "color": "#EBF0F8"
             },
             "line": {
              "color": "white"
             }
            },
            "header": {
             "fill": {
              "color": "#C8D4E3"
             },
             "line": {
              "color": "white"
             }
            },
            "type": "table"
           }
          ]
         },
         "layout": {
          "annotationdefaults": {
           "arrowcolor": "#2a3f5f",
           "arrowhead": 0,
           "arrowwidth": 1
          },
          "autotypenumbers": "strict",
          "coloraxis": {
           "colorbar": {
            "outlinewidth": 0,
            "ticks": ""
           }
          },
          "colorscale": {
           "diverging": [
            [
             0,
             "#8e0152"
            ],
            [
             0.1,
             "#c51b7d"
            ],
            [
             0.2,
             "#de77ae"
            ],
            [
             0.3,
             "#f1b6da"
            ],
            [
             0.4,
             "#fde0ef"
            ],
            [
             0.5,
             "#f7f7f7"
            ],
            [
             0.6,
             "#e6f5d0"
            ],
            [
             0.7,
             "#b8e186"
            ],
            [
             0.8,
             "#7fbc41"
            ],
            [
             0.9,
             "#4d9221"
            ],
            [
             1,
             "#276419"
            ]
           ],
           "sequential": [
            [
             0,
             "#0d0887"
            ],
            [
             0.1111111111111111,
             "#46039f"
            ],
            [
             0.2222222222222222,
             "#7201a8"
            ],
            [
             0.3333333333333333,
             "#9c179e"
            ],
            [
             0.4444444444444444,
             "#bd3786"
            ],
            [
             0.5555555555555556,
             "#d8576b"
            ],
            [
             0.6666666666666666,
             "#ed7953"
            ],
            [
             0.7777777777777778,
             "#fb9f3a"
            ],
            [
             0.8888888888888888,
             "#fdca26"
            ],
            [
             1,
             "#f0f921"
            ]
           ],
           "sequentialminus": [
            [
             0,
             "#0d0887"
            ],
            [
             0.1111111111111111,
             "#46039f"
            ],
            [
             0.2222222222222222,
             "#7201a8"
            ],
            [
             0.3333333333333333,
             "#9c179e"
            ],
            [
             0.4444444444444444,
             "#bd3786"
            ],
            [
             0.5555555555555556,
             "#d8576b"
            ],
            [
             0.6666666666666666,
             "#ed7953"
            ],
            [
             0.7777777777777778,
             "#fb9f3a"
            ],
            [
             0.8888888888888888,
             "#fdca26"
            ],
            [
             1,
             "#f0f921"
            ]
           ]
          },
          "colorway": [
           "#636efa",
           "#EF553B",
           "#00cc96",
           "#ab63fa",
           "#FFA15A",
           "#19d3f3",
           "#FF6692",
           "#B6E880",
           "#FF97FF",
           "#FECB52"
          ],
          "font": {
           "color": "#2a3f5f"
          },
          "geo": {
           "bgcolor": "white",
           "lakecolor": "white",
           "landcolor": "#E5ECF6",
           "showlakes": true,
           "showland": true,
           "subunitcolor": "white"
          },
          "hoverlabel": {
           "align": "left"
          },
          "hovermode": "closest",
          "mapbox": {
           "style": "light"
          },
          "paper_bgcolor": "white",
          "plot_bgcolor": "#E5ECF6",
          "polar": {
           "angularaxis": {
            "gridcolor": "white",
            "linecolor": "white",
            "ticks": ""
           },
           "bgcolor": "#E5ECF6",
           "radialaxis": {
            "gridcolor": "white",
            "linecolor": "white",
            "ticks": ""
           }
          },
          "scene": {
           "xaxis": {
            "backgroundcolor": "#E5ECF6",
            "gridcolor": "white",
            "gridwidth": 2,
            "linecolor": "white",
            "showbackground": true,
            "ticks": "",
            "zerolinecolor": "white"
           },
           "yaxis": {
            "backgroundcolor": "#E5ECF6",
            "gridcolor": "white",
            "gridwidth": 2,
            "linecolor": "white",
            "showbackground": true,
            "ticks": "",
            "zerolinecolor": "white"
           },
           "zaxis": {
            "backgroundcolor": "#E5ECF6",
            "gridcolor": "white",
            "gridwidth": 2,
            "linecolor": "white",
            "showbackground": true,
            "ticks": "",
            "zerolinecolor": "white"
           }
          },
          "shapedefaults": {
           "line": {
            "color": "#2a3f5f"
           }
          },
          "ternary": {
           "aaxis": {
            "gridcolor": "white",
            "linecolor": "white",
            "ticks": ""
           },
           "baxis": {
            "gridcolor": "white",
            "linecolor": "white",
            "ticks": ""
           },
           "bgcolor": "#E5ECF6",
           "caxis": {
            "gridcolor": "white",
            "linecolor": "white",
            "ticks": ""
           }
          },
          "title": {
           "x": 0.05
          },
          "xaxis": {
           "automargin": true,
           "gridcolor": "white",
           "linecolor": "white",
           "ticks": "",
           "title": {
            "standoff": 15
           },
           "zerolinecolor": "white",
           "zerolinewidth": 2
          },
          "yaxis": {
           "automargin": true,
           "gridcolor": "white",
           "linecolor": "white",
           "ticks": "",
           "title": {
            "standoff": 15
           },
           "zerolinecolor": "white",
           "zerolinewidth": 2
          }
         }
        },
        "title": {
         "text": "Atlanta, GA, United States"
        },
        "width": 1500,
        "xaxis": {
         "anchor": "y",
         "domain": [
          0,
          0.2125
         ],
         "title": {
          "text": "Year"
         }
        },
        "xaxis10": {
         "anchor": "y10",
         "domain": [
          0.2625,
          0.475
         ],
         "title": {
          "text": "Year"
         }
        },
        "xaxis11": {
         "anchor": "y11",
         "domain": [
          0.525,
          0.7375
         ],
         "title": {
          "text": "Year"
         }
        },
        "xaxis12": {
         "anchor": "y12",
         "domain": [
          0.7875,
          1
         ],
         "title": {
          "text": "Year"
         }
        },
        "xaxis13": {
         "anchor": "y13",
         "domain": [
          0,
          0.2125
         ],
         "title": {
          "text": "Year"
         }
        },
        "xaxis14": {
         "anchor": "y14",
         "domain": [
          0.2625,
          0.475
         ],
         "title": {
          "text": "Year"
         }
        },
        "xaxis15": {
         "anchor": "y15",
         "domain": [
          0.525,
          0.7375
         ],
         "title": {
          "text": "Year"
         }
        },
        "xaxis16": {
         "anchor": "y16",
         "domain": [
          0.7875,
          1
         ]
        },
        "xaxis2": {
         "anchor": "y2",
         "domain": [
          0.2625,
          0.475
         ],
         "title": {
          "text": "Year"
         }
        },
        "xaxis3": {
         "anchor": "y3",
         "domain": [
          0.525,
          0.7375
         ],
         "title": {
          "text": "Year"
         }
        },
        "xaxis4": {
         "anchor": "y4",
         "domain": [
          0.7875,
          1
         ],
         "title": {
          "text": "Year"
         }
        },
        "xaxis5": {
         "anchor": "y5",
         "domain": [
          0,
          0.2125
         ],
         "title": {
          "text": "Year"
         }
        },
        "xaxis6": {
         "anchor": "y6",
         "domain": [
          0.2625,
          0.475
         ],
         "title": {
          "text": "Year"
         }
        },
        "xaxis7": {
         "anchor": "y7",
         "domain": [
          0.525,
          0.7375
         ],
         "title": {
          "text": "Year"
         }
        },
        "xaxis8": {
         "anchor": "y8",
         "domain": [
          0.7875,
          1
         ],
         "title": {
          "text": "Year"
         }
        },
        "xaxis9": {
         "anchor": "y9",
         "domain": [
          0,
          0.2125
         ],
         "title": {
          "text": "Year"
         }
        },
        "yaxis": {
         "anchor": "x",
         "domain": [
          0.84375,
          1
         ],
         "title": {
          "text": "Price to Income Ratio"
         }
        },
        "yaxis10": {
         "anchor": "x10",
         "domain": [
          0.28125,
          0.4375
         ],
         "title": {
          "text": "Cost of Living Index"
         }
        },
        "yaxis11": {
         "anchor": "x11",
         "domain": [
          0.28125,
          0.4375
         ],
         "title": {
          "text": "Rent Index"
         }
        },
        "yaxis12": {
         "anchor": "x12",
         "domain": [
          0.28125,
          0.4375
         ],
         "title": {
          "text": "Cost of Living Plus Rent Index"
         }
        },
        "yaxis13": {
         "anchor": "x13",
         "domain": [
          0,
          0.15625
         ],
         "title": {
          "text": "Groceries Index"
         }
        },
        "yaxis14": {
         "anchor": "x14",
         "domain": [
          0,
          0.15625
         ],
         "title": {
          "text": "Restaurant Index"
         }
        },
        "yaxis15": {
         "anchor": "x15",
         "domain": [
          0,
          0.15625
         ],
         "title": {
          "text": "Local Purchasing Power Index"
         }
        },
        "yaxis16": {
         "anchor": "x16",
         "domain": [
          0,
          0.15625
         ]
        },
        "yaxis2": {
         "anchor": "x2",
         "domain": [
          0.84375,
          1
         ],
         "title": {
          "text": "Gross Rental Yield City Centre"
         }
        },
        "yaxis3": {
         "anchor": "x3",
         "domain": [
          0.84375,
          1
         ],
         "title": {
          "text": "Gross Rental Yield Outside Centre"
         }
        },
        "yaxis4": {
         "anchor": "x4",
         "domain": [
          0.84375,
          1
         ],
         "title": {
          "text": "Price to Rent Ratio City Centre"
         }
        },
        "yaxis5": {
         "anchor": "x5",
         "domain": [
          0.5625,
          0.71875
         ],
         "title": {
          "text": "Price to Rent Ratio Outside City Centre"
         }
        },
        "yaxis6": {
         "anchor": "x6",
         "domain": [
          0.5625,
          0.71875
         ],
         "title": {
          "text": "Mortgage as a Percentage of Income"
         }
        },
        "yaxis7": {
         "anchor": "x7",
         "domain": [
          0.5625,
          0.71875
         ],
         "title": {
          "text": "Affordability Index"
         }
        },
        "yaxis8": {
         "anchor": "x8",
         "domain": [
          0.5625,
          0.71875
         ],
         "title": {
          "text": "Crime Index"
         }
        },
        "yaxis9": {
         "anchor": "x9",
         "domain": [
          0.28125,
          0.4375
         ],
         "title": {
          "text": "Safety Index"
         }
        }
       }
      },
      "text/html": [
       "<div>                            <div id=\"4e4a943a-d046-4300-af6e-198448b14478\" class=\"plotly-graph-div\" style=\"height:1500px; width:1500px;\"></div>            <script type=\"text/javascript\">                require([\"plotly\"], function(Plotly) {                    window.PLOTLYENV=window.PLOTLYENV || {};                                    if (document.getElementById(\"4e4a943a-d046-4300-af6e-198448b14478\")) {                    Plotly.newPlot(                        \"4e4a943a-d046-4300-af6e-198448b14478\",                        [{\"mode\":\"lines+markers\",\"name\":\"Price to Income Ratio\",\"x\":[\"2010\",\"2011\",\"2012\",\"2013\",\"2014\",\"2014-mid\",\"2015\",\"2015-mid\",\"2016\",\"2016-mid\",\"2017\",\"2017-mid\",\"2018\",\"2018-mid\",\"2019\",\"2019-mid\",\"2020\",\"2020-mid\",\"2021\",\"2021-mid\",\"2022\",\"2022-mid\",\"2023\",\"2023-mid\",\"2024\",\"2024-mid\"],\"y\":[3.3,4.1,3.7,1.7,1.5,2.7,2.8,3.1,3.4,3.0,2.7,2.6,2.6,2.8,2.9,2.7,2.9,3.1,3.8,3.8,3.8,3.3,3.3,2.7,5.7,2.4],\"type\":\"scatter\",\"xaxis\":\"x\",\"yaxis\":\"y\"},{\"mode\":\"lines+markers\",\"name\":\"Gross Rental Yield City Centre\",\"x\":[\"2010\",\"2011\",\"2012\",\"2013\",\"2014\",\"2014-mid\",\"2015\",\"2015-mid\",\"2016\",\"2016-mid\",\"2017\",\"2017-mid\",\"2018\",\"2018-mid\",\"2019\",\"2019-mid\",\"2020\",\"2020-mid\",\"2021\",\"2021-mid\",\"2022\",\"2022-mid\",\"2023\",\"2023-mid\",\"2024\",\"2024-mid\"],\"y\":[8.5,6.2,7.0,13.4,13.4,9.9,9.8,11.2,11.2,10.6,10.4,10.4,11.1,11.0,10.4,9.9,9.5,9.2,6.7,6.1,6.1,8.8,10.3,13.1,4.6,12.9],\"type\":\"scatter\",\"xaxis\":\"x2\",\"yaxis\":\"y2\"},{\"mode\":\"lines+markers\",\"name\":\"Gross Rental Yield Outside Centre\",\"x\":[\"2010\",\"2011\",\"2012\",\"2013\",\"2014\",\"2014-mid\",\"2015\",\"2015-mid\",\"2016\",\"2016-mid\",\"2017\",\"2017-mid\",\"2018\",\"2018-mid\",\"2019\",\"2019-mid\",\"2020\",\"2020-mid\",\"2021\",\"2021-mid\",\"2022\",\"2022-mid\",\"2023\",\"2023-mid\",\"2024\",\"2024-mid\"],\"y\":[9.0,14.5,16.7,21.4,20.8,8.1,7.9,10.2,11.6,14.8,15.5,16.5,18.9,16.9,15.0,16.0,13.6,12.0,13.4,12.8,13.6,14.3,13.5,14.0,6.4,12.6],\"type\":\"scatter\",\"xaxis\":\"x3\",\"yaxis\":\"y3\"},{\"mode\":\"lines+markers\",\"name\":\"Price to Rent Ratio City Centre\",\"x\":[\"2010\",\"2011\",\"2012\",\"2013\",\"2014\",\"2014-mid\",\"2015\",\"2015-mid\",\"2016\",\"2016-mid\",\"2017\",\"2017-mid\",\"2018\",\"2018-mid\",\"2019\",\"2019-mid\",\"2020\",\"2020-mid\",\"2021\",\"2021-mid\",\"2022\",\"2022-mid\",\"2023\",\"2023-mid\",\"2024\",\"2024-mid\"],\"y\":[11.8,16.2,14.3,7.5,7.4,10.1,10.2,9.0,8.9,9.4,9.6,9.6,9.0,9.1,9.6,10.1,10.6,10.9,14.9,16.3,16.5,11.3,9.7,7.6,21.5,7.7],\"type\":\"scatter\",\"xaxis\":\"x4\",\"yaxis\":\"y4\"},{\"mode\":\"lines+markers\",\"name\":\"Price to Rent Ratio Outside City Centre\",\"x\":[\"2010\",\"2011\",\"2012\",\"2013\",\"2014\",\"2014-mid\",\"2015\",\"2015-mid\",\"2016\",\"2016-mid\",\"2017\",\"2017-mid\",\"2018\",\"2018-mid\",\"2019\",\"2019-mid\",\"2020\",\"2020-mid\",\"2021\",\"2021-mid\",\"2022\",\"2022-mid\",\"2023\",\"2023-mid\",\"2024\",\"2024-mid\"],\"y\":[11.1,6.9,6.0,4.7,4.8,12.4,12.6,9.8,8.6,6.7,6.5,6.1,5.3,5.9,6.7,6.3,7.3,8.3,7.4,7.8,7.4,7.0,7.4,7.1,15.5,7.9],\"type\":\"scatter\",\"xaxis\":\"x5\",\"yaxis\":\"y5\"},{\"mode\":\"lines+markers\",\"name\":\"Mortgage as a Percentage of Income\",\"x\":[\"2010\",\"2011\",\"2012\",\"2013\",\"2014\",\"2014-mid\",\"2015\",\"2015-mid\",\"2016\",\"2016-mid\",\"2017\",\"2017-mid\",\"2018\",\"2018-mid\",\"2019\",\"2019-mid\",\"2020\",\"2020-mid\",\"2021\",\"2021-mid\",\"2022\",\"2022-mid\",\"2023\",\"2023-mid\",\"2024\",\"2024-mid\"],\"y\":[\"28.8\",\"32.7\",\"28.5\",\"12.5\",\"10.9\",\"19.2\",\"20.1\",\"22.8\",\"24.7\",\"21.7\",\"19.6\",\"18.7\",\"18.4\",\"20.1\",\"21.7\",\"20.3\",\"21.2\",\"22.5\",\"27.5\",\"26.9\",\"26.3\",\"25.1\",\"25.6\",\"23.4\",\"52.3\",\"22.0\"],\"type\":\"scatter\",\"xaxis\":\"x6\",\"yaxis\":\"y6\"},{\"mode\":\"lines+markers\",\"name\":\"Affordability Index\",\"x\":[\"2010\",\"2011\",\"2012\",\"2013\",\"2014\",\"2014-mid\",\"2015\",\"2015-mid\",\"2016\",\"2016-mid\",\"2017\",\"2017-mid\",\"2018\",\"2018-mid\",\"2019\",\"2019-mid\",\"2020\",\"2020-mid\",\"2021\",\"2021-mid\",\"2022\",\"2022-mid\",\"2023\",\"2023-mid\",\"2024\",\"2024-mid\"],\"y\":[\"3.5\",\"3.1\",\"3.5\",\"8.0\",\"9.2\",\"5.2\",\"5.0\",\"4.4\",\"4.0\",\"4.6\",\"5.1\",\"5.3\",\"5.4\",\"5.0\",\"4.6\",\"4.9\",\"4.7\",\"4.5\",\"3.6\",\"3.7\",\"3.8\",\"4.0\",\"3.9\",\"4.3\",\"1.9\",\"4.6\"],\"type\":\"scatter\",\"xaxis\":\"x7\",\"yaxis\":\"y7\"},{\"mode\":\"lines+markers\",\"name\":\"Crime Index\",\"x\":[\"2010\",\"2011\",\"2012\",\"2013\",\"2014\",\"2014-mid\",\"2015\",\"2015-mid\",\"2016\",\"2016-mid\",\"2017\",\"2017-mid\",\"2018\",\"2018-mid\",\"2019\",\"2019-mid\",\"2020\",\"2020-mid\",\"2021\",\"2021-mid\",\"2022\",\"2022-mid\",\"2023\",\"2023-mid\",\"2024\",\"2024-mid\"],\"y\":[null,null,null,null,null,56.5,59.9,64.1,64.0,64.5,64.8,64.7,65.0,66.2,63.6,62.6,62.2,62.6,62.0,62.4,63.0,62.8,63.5,63.9,64.0,64.0],\"type\":\"scatter\",\"xaxis\":\"x8\",\"yaxis\":\"y8\"},{\"mode\":\"lines+markers\",\"name\":\"Safety Index\",\"x\":[\"2010\",\"2011\",\"2012\",\"2013\",\"2014\",\"2014-mid\",\"2015\",\"2015-mid\",\"2016\",\"2016-mid\",\"2017\",\"2017-mid\",\"2018\",\"2018-mid\",\"2019\",\"2019-mid\",\"2020\",\"2020-mid\",\"2021\",\"2021-mid\",\"2022\",\"2022-mid\",\"2023\",\"2023-mid\",\"2024\",\"2024-mid\"],\"y\":[null,null,null,null,null,43.5,40.1,35.9,36.0,35.5,35.2,35.3,35.0,33.8,36.4,37.4,37.8,37.4,38.0,37.6,37.0,37.2,36.5,36.1,36.0,36.0],\"type\":\"scatter\",\"xaxis\":\"x9\",\"yaxis\":\"y9\"},{\"mode\":\"lines+markers\",\"name\":\"Cost of Living Index\",\"x\":[\"2010\",\"2011\",\"2012\",\"2013\",\"2014\",\"2014-mid\",\"2015\",\"2015-mid\",\"2016\",\"2016-mid\",\"2017\",\"2017-mid\",\"2018\",\"2018-mid\",\"2019\",\"2019-mid\",\"2020\",\"2020-mid\",\"2021\",\"2021-mid\",\"2022\",\"2022-mid\",\"2023\",\"2023-mid\",\"2024\",\"2024-mid\"],\"y\":[null,null,null,null,null,null,null,null,null,null,null,null,null,null,null,null,null,null,null,null,null,null,null,null,80.3,null],\"type\":\"scatter\",\"xaxis\":\"x10\",\"yaxis\":\"y10\"},{\"mode\":\"lines+markers\",\"name\":\"Rent Index\",\"x\":[\"2010\",\"2011\",\"2012\",\"2013\",\"2014\",\"2014-mid\",\"2015\",\"2015-mid\",\"2016\",\"2016-mid\",\"2017\",\"2017-mid\",\"2018\",\"2018-mid\",\"2019\",\"2019-mid\",\"2020\",\"2020-mid\",\"2021\",\"2021-mid\",\"2022\",\"2022-mid\",\"2023\",\"2023-mid\",\"2024\",\"2024-mid\"],\"y\":[null,null,null,null,null,null,null,null,null,null,null,null,null,null,null,null,null,null,null,null,null,null,null,null,47.4,null],\"type\":\"scatter\",\"xaxis\":\"x11\",\"yaxis\":\"y11\"},{\"mode\":\"lines+markers\",\"name\":\"Cost of Living Plus Rent Index\",\"x\":[\"2010\",\"2011\",\"2012\",\"2013\",\"2014\",\"2014-mid\",\"2015\",\"2015-mid\",\"2016\",\"2016-mid\",\"2017\",\"2017-mid\",\"2018\",\"2018-mid\",\"2019\",\"2019-mid\",\"2020\",\"2020-mid\",\"2021\",\"2021-mid\",\"2022\",\"2022-mid\",\"2023\",\"2023-mid\",\"2024\",\"2024-mid\"],\"y\":[null,null,null,null,null,null,null,null,null,null,null,null,null,null,null,null,null,null,null,null,null,null,null,null,64.7,null],\"type\":\"scatter\",\"xaxis\":\"x12\",\"yaxis\":\"y12\"},{\"mode\":\"lines+markers\",\"name\":\"Groceries Index\",\"x\":[\"2010\",\"2011\",\"2012\",\"2013\",\"2014\",\"2014-mid\",\"2015\",\"2015-mid\",\"2016\",\"2016-mid\",\"2017\",\"2017-mid\",\"2018\",\"2018-mid\",\"2019\",\"2019-mid\",\"2020\",\"2020-mid\",\"2021\",\"2021-mid\",\"2022\",\"2022-mid\",\"2023\",\"2023-mid\",\"2024\",\"2024-mid\"],\"y\":[null,null,null,null,null,null,null,null,null,null,null,null,null,null,null,null,null,null,null,null,null,null,null,null,81.0,null],\"type\":\"scatter\",\"xaxis\":\"x13\",\"yaxis\":\"y13\"},{\"mode\":\"lines+markers\",\"name\":\"Restaurant Index\",\"x\":[\"2010\",\"2011\",\"2012\",\"2013\",\"2014\",\"2014-mid\",\"2015\",\"2015-mid\",\"2016\",\"2016-mid\",\"2017\",\"2017-mid\",\"2018\",\"2018-mid\",\"2019\",\"2019-mid\",\"2020\",\"2020-mid\",\"2021\",\"2021-mid\",\"2022\",\"2022-mid\",\"2023\",\"2023-mid\",\"2024\",\"2024-mid\"],\"y\":[null,null,null,null,null,null,null,null,null,null,null,null,null,null,null,null,null,null,null,null,null,null,null,null,78.0,null],\"type\":\"scatter\",\"xaxis\":\"x14\",\"yaxis\":\"y14\"},{\"mode\":\"lines+markers\",\"name\":\"Local Purchasing Power Index\",\"x\":[\"2010\",\"2011\",\"2012\",\"2013\",\"2014\",\"2014-mid\",\"2015\",\"2015-mid\",\"2016\",\"2016-mid\",\"2017\",\"2017-mid\",\"2018\",\"2018-mid\",\"2019\",\"2019-mid\",\"2020\",\"2020-mid\",\"2021\",\"2021-mid\",\"2022\",\"2022-mid\",\"2023\",\"2023-mid\",\"2024\",\"2024-mid\"],\"y\":[null,null,null,null,null,null,null,null,null,null,null,null,null,null,null,null,null,null,null,null,null,null,null,null,139.2,null],\"type\":\"scatter\",\"xaxis\":\"x15\",\"yaxis\":\"y15\"}],                        {\"template\":{\"data\":{\"histogram2dcontour\":[{\"type\":\"histogram2dcontour\",\"colorbar\":{\"outlinewidth\":0,\"ticks\":\"\"},\"colorscale\":[[0.0,\"#0d0887\"],[0.1111111111111111,\"#46039f\"],[0.2222222222222222,\"#7201a8\"],[0.3333333333333333,\"#9c179e\"],[0.4444444444444444,\"#bd3786\"],[0.5555555555555556,\"#d8576b\"],[0.6666666666666666,\"#ed7953\"],[0.7777777777777778,\"#fb9f3a\"],[0.8888888888888888,\"#fdca26\"],[1.0,\"#f0f921\"]]}],\"choropleth\":[{\"type\":\"choropleth\",\"colorbar\":{\"outlinewidth\":0,\"ticks\":\"\"}}],\"histogram2d\":[{\"type\":\"histogram2d\",\"colorbar\":{\"outlinewidth\":0,\"ticks\":\"\"},\"colorscale\":[[0.0,\"#0d0887\"],[0.1111111111111111,\"#46039f\"],[0.2222222222222222,\"#7201a8\"],[0.3333333333333333,\"#9c179e\"],[0.4444444444444444,\"#bd3786\"],[0.5555555555555556,\"#d8576b\"],[0.6666666666666666,\"#ed7953\"],[0.7777777777777778,\"#fb9f3a\"],[0.8888888888888888,\"#fdca26\"],[1.0,\"#f0f921\"]]}],\"heatmap\":[{\"type\":\"heatmap\",\"colorbar\":{\"outlinewidth\":0,\"ticks\":\"\"},\"colorscale\":[[0.0,\"#0d0887\"],[0.1111111111111111,\"#46039f\"],[0.2222222222222222,\"#7201a8\"],[0.3333333333333333,\"#9c179e\"],[0.4444444444444444,\"#bd3786\"],[0.5555555555555556,\"#d8576b\"],[0.6666666666666666,\"#ed7953\"],[0.7777777777777778,\"#fb9f3a\"],[0.8888888888888888,\"#fdca26\"],[1.0,\"#f0f921\"]]}],\"heatmapgl\":[{\"type\":\"heatmapgl\",\"colorbar\":{\"outlinewidth\":0,\"ticks\":\"\"},\"colorscale\":[[0.0,\"#0d0887\"],[0.1111111111111111,\"#46039f\"],[0.2222222222222222,\"#7201a8\"],[0.3333333333333333,\"#9c179e\"],[0.4444444444444444,\"#bd3786\"],[0.5555555555555556,\"#d8576b\"],[0.6666666666666666,\"#ed7953\"],[0.7777777777777778,\"#fb9f3a\"],[0.8888888888888888,\"#fdca26\"],[1.0,\"#f0f921\"]]}],\"contourcarpet\":[{\"type\":\"contourcarpet\",\"colorbar\":{\"outlinewidth\":0,\"ticks\":\"\"}}],\"contour\":[{\"type\":\"contour\",\"colorbar\":{\"outlinewidth\":0,\"ticks\":\"\"},\"colorscale\":[[0.0,\"#0d0887\"],[0.1111111111111111,\"#46039f\"],[0.2222222222222222,\"#7201a8\"],[0.3333333333333333,\"#9c179e\"],[0.4444444444444444,\"#bd3786\"],[0.5555555555555556,\"#d8576b\"],[0.6666666666666666,\"#ed7953\"],[0.7777777777777778,\"#fb9f3a\"],[0.8888888888888888,\"#fdca26\"],[1.0,\"#f0f921\"]]}],\"surface\":[{\"type\":\"surface\",\"colorbar\":{\"outlinewidth\":0,\"ticks\":\"\"},\"colorscale\":[[0.0,\"#0d0887\"],[0.1111111111111111,\"#46039f\"],[0.2222222222222222,\"#7201a8\"],[0.3333333333333333,\"#9c179e\"],[0.4444444444444444,\"#bd3786\"],[0.5555555555555556,\"#d8576b\"],[0.6666666666666666,\"#ed7953\"],[0.7777777777777778,\"#fb9f3a\"],[0.8888888888888888,\"#fdca26\"],[1.0,\"#f0f921\"]]}],\"mesh3d\":[{\"type\":\"mesh3d\",\"colorbar\":{\"outlinewidth\":0,\"ticks\":\"\"}}],\"scatter\":[{\"fillpattern\":{\"fillmode\":\"overlay\",\"size\":10,\"solidity\":0.2},\"type\":\"scatter\"}],\"parcoords\":[{\"type\":\"parcoords\",\"line\":{\"colorbar\":{\"outlinewidth\":0,\"ticks\":\"\"}}}],\"scatterpolargl\":[{\"type\":\"scatterpolargl\",\"marker\":{\"colorbar\":{\"outlinewidth\":0,\"ticks\":\"\"}}}],\"bar\":[{\"error_x\":{\"color\":\"#2a3f5f\"},\"error_y\":{\"color\":\"#2a3f5f\"},\"marker\":{\"line\":{\"color\":\"#E5ECF6\",\"width\":0.5},\"pattern\":{\"fillmode\":\"overlay\",\"size\":10,\"solidity\":0.2}},\"type\":\"bar\"}],\"scattergeo\":[{\"type\":\"scattergeo\",\"marker\":{\"colorbar\":{\"outlinewidth\":0,\"ticks\":\"\"}}}],\"scatterpolar\":[{\"type\":\"scatterpolar\",\"marker\":{\"colorbar\":{\"outlinewidth\":0,\"ticks\":\"\"}}}],\"histogram\":[{\"marker\":{\"pattern\":{\"fillmode\":\"overlay\",\"size\":10,\"solidity\":0.2}},\"type\":\"histogram\"}],\"scattergl\":[{\"type\":\"scattergl\",\"marker\":{\"colorbar\":{\"outlinewidth\":0,\"ticks\":\"\"}}}],\"scatter3d\":[{\"type\":\"scatter3d\",\"line\":{\"colorbar\":{\"outlinewidth\":0,\"ticks\":\"\"}},\"marker\":{\"colorbar\":{\"outlinewidth\":0,\"ticks\":\"\"}}}],\"scattermapbox\":[{\"type\":\"scattermapbox\",\"marker\":{\"colorbar\":{\"outlinewidth\":0,\"ticks\":\"\"}}}],\"scatterternary\":[{\"type\":\"scatterternary\",\"marker\":{\"colorbar\":{\"outlinewidth\":0,\"ticks\":\"\"}}}],\"scattercarpet\":[{\"type\":\"scattercarpet\",\"marker\":{\"colorbar\":{\"outlinewidth\":0,\"ticks\":\"\"}}}],\"carpet\":[{\"aaxis\":{\"endlinecolor\":\"#2a3f5f\",\"gridcolor\":\"white\",\"linecolor\":\"white\",\"minorgridcolor\":\"white\",\"startlinecolor\":\"#2a3f5f\"},\"baxis\":{\"endlinecolor\":\"#2a3f5f\",\"gridcolor\":\"white\",\"linecolor\":\"white\",\"minorgridcolor\":\"white\",\"startlinecolor\":\"#2a3f5f\"},\"type\":\"carpet\"}],\"table\":[{\"cells\":{\"fill\":{\"color\":\"#EBF0F8\"},\"line\":{\"color\":\"white\"}},\"header\":{\"fill\":{\"color\":\"#C8D4E3\"},\"line\":{\"color\":\"white\"}},\"type\":\"table\"}],\"barpolar\":[{\"marker\":{\"line\":{\"color\":\"#E5ECF6\",\"width\":0.5},\"pattern\":{\"fillmode\":\"overlay\",\"size\":10,\"solidity\":0.2}},\"type\":\"barpolar\"}],\"pie\":[{\"automargin\":true,\"type\":\"pie\"}]},\"layout\":{\"autotypenumbers\":\"strict\",\"colorway\":[\"#636efa\",\"#EF553B\",\"#00cc96\",\"#ab63fa\",\"#FFA15A\",\"#19d3f3\",\"#FF6692\",\"#B6E880\",\"#FF97FF\",\"#FECB52\"],\"font\":{\"color\":\"#2a3f5f\"},\"hovermode\":\"closest\",\"hoverlabel\":{\"align\":\"left\"},\"paper_bgcolor\":\"white\",\"plot_bgcolor\":\"#E5ECF6\",\"polar\":{\"bgcolor\":\"#E5ECF6\",\"angularaxis\":{\"gridcolor\":\"white\",\"linecolor\":\"white\",\"ticks\":\"\"},\"radialaxis\":{\"gridcolor\":\"white\",\"linecolor\":\"white\",\"ticks\":\"\"}},\"ternary\":{\"bgcolor\":\"#E5ECF6\",\"aaxis\":{\"gridcolor\":\"white\",\"linecolor\":\"white\",\"ticks\":\"\"},\"baxis\":{\"gridcolor\":\"white\",\"linecolor\":\"white\",\"ticks\":\"\"},\"caxis\":{\"gridcolor\":\"white\",\"linecolor\":\"white\",\"ticks\":\"\"}},\"coloraxis\":{\"colorbar\":{\"outlinewidth\":0,\"ticks\":\"\"}},\"colorscale\":{\"sequential\":[[0.0,\"#0d0887\"],[0.1111111111111111,\"#46039f\"],[0.2222222222222222,\"#7201a8\"],[0.3333333333333333,\"#9c179e\"],[0.4444444444444444,\"#bd3786\"],[0.5555555555555556,\"#d8576b\"],[0.6666666666666666,\"#ed7953\"],[0.7777777777777778,\"#fb9f3a\"],[0.8888888888888888,\"#fdca26\"],[1.0,\"#f0f921\"]],\"sequentialminus\":[[0.0,\"#0d0887\"],[0.1111111111111111,\"#46039f\"],[0.2222222222222222,\"#7201a8\"],[0.3333333333333333,\"#9c179e\"],[0.4444444444444444,\"#bd3786\"],[0.5555555555555556,\"#d8576b\"],[0.6666666666666666,\"#ed7953\"],[0.7777777777777778,\"#fb9f3a\"],[0.8888888888888888,\"#fdca26\"],[1.0,\"#f0f921\"]],\"diverging\":[[0,\"#8e0152\"],[0.1,\"#c51b7d\"],[0.2,\"#de77ae\"],[0.3,\"#f1b6da\"],[0.4,\"#fde0ef\"],[0.5,\"#f7f7f7\"],[0.6,\"#e6f5d0\"],[0.7,\"#b8e186\"],[0.8,\"#7fbc41\"],[0.9,\"#4d9221\"],[1,\"#276419\"]]},\"xaxis\":{\"gridcolor\":\"white\",\"linecolor\":\"white\",\"ticks\":\"\",\"title\":{\"standoff\":15},\"zerolinecolor\":\"white\",\"automargin\":true,\"zerolinewidth\":2},\"yaxis\":{\"gridcolor\":\"white\",\"linecolor\":\"white\",\"ticks\":\"\",\"title\":{\"standoff\":15},\"zerolinecolor\":\"white\",\"automargin\":true,\"zerolinewidth\":2},\"scene\":{\"xaxis\":{\"backgroundcolor\":\"#E5ECF6\",\"gridcolor\":\"white\",\"linecolor\":\"white\",\"showbackground\":true,\"ticks\":\"\",\"zerolinecolor\":\"white\",\"gridwidth\":2},\"yaxis\":{\"backgroundcolor\":\"#E5ECF6\",\"gridcolor\":\"white\",\"linecolor\":\"white\",\"showbackground\":true,\"ticks\":\"\",\"zerolinecolor\":\"white\",\"gridwidth\":2},\"zaxis\":{\"backgroundcolor\":\"#E5ECF6\",\"gridcolor\":\"white\",\"linecolor\":\"white\",\"showbackground\":true,\"ticks\":\"\",\"zerolinecolor\":\"white\",\"gridwidth\":2}},\"shapedefaults\":{\"line\":{\"color\":\"#2a3f5f\"}},\"annotationdefaults\":{\"arrowcolor\":\"#2a3f5f\",\"arrowhead\":0,\"arrowwidth\":1},\"geo\":{\"bgcolor\":\"white\",\"landcolor\":\"#E5ECF6\",\"subunitcolor\":\"white\",\"showland\":true,\"showlakes\":true,\"lakecolor\":\"white\"},\"title\":{\"x\":0.05},\"mapbox\":{\"style\":\"light\"}}},\"xaxis\":{\"anchor\":\"y\",\"domain\":[0.0,0.2125],\"title\":{\"text\":\"Year\"}},\"yaxis\":{\"anchor\":\"x\",\"domain\":[0.84375,1.0],\"title\":{\"text\":\"Price to Income Ratio\"}},\"xaxis2\":{\"anchor\":\"y2\",\"domain\":[0.2625,0.475],\"title\":{\"text\":\"Year\"}},\"yaxis2\":{\"anchor\":\"x2\",\"domain\":[0.84375,1.0],\"title\":{\"text\":\"Gross Rental Yield City Centre\"}},\"xaxis3\":{\"anchor\":\"y3\",\"domain\":[0.525,0.7375],\"title\":{\"text\":\"Year\"}},\"yaxis3\":{\"anchor\":\"x3\",\"domain\":[0.84375,1.0],\"title\":{\"text\":\"Gross Rental Yield Outside Centre\"}},\"xaxis4\":{\"anchor\":\"y4\",\"domain\":[0.7875,1.0],\"title\":{\"text\":\"Year\"}},\"yaxis4\":{\"anchor\":\"x4\",\"domain\":[0.84375,1.0],\"title\":{\"text\":\"Price to Rent Ratio City Centre\"}},\"xaxis5\":{\"anchor\":\"y5\",\"domain\":[0.0,0.2125],\"title\":{\"text\":\"Year\"}},\"yaxis5\":{\"anchor\":\"x5\",\"domain\":[0.5625,0.71875],\"title\":{\"text\":\"Price to Rent Ratio Outside City Centre\"}},\"xaxis6\":{\"anchor\":\"y6\",\"domain\":[0.2625,0.475],\"title\":{\"text\":\"Year\"}},\"yaxis6\":{\"anchor\":\"x6\",\"domain\":[0.5625,0.71875],\"title\":{\"text\":\"Mortgage as a Percentage of Income\"}},\"xaxis7\":{\"anchor\":\"y7\",\"domain\":[0.525,0.7375],\"title\":{\"text\":\"Year\"}},\"yaxis7\":{\"anchor\":\"x7\",\"domain\":[0.5625,0.71875],\"title\":{\"text\":\"Affordability Index\"}},\"xaxis8\":{\"anchor\":\"y8\",\"domain\":[0.7875,1.0],\"title\":{\"text\":\"Year\"}},\"yaxis8\":{\"anchor\":\"x8\",\"domain\":[0.5625,0.71875],\"title\":{\"text\":\"Crime Index\"}},\"xaxis9\":{\"anchor\":\"y9\",\"domain\":[0.0,0.2125],\"title\":{\"text\":\"Year\"}},\"yaxis9\":{\"anchor\":\"x9\",\"domain\":[0.28125,0.4375],\"title\":{\"text\":\"Safety Index\"}},\"xaxis10\":{\"anchor\":\"y10\",\"domain\":[0.2625,0.475],\"title\":{\"text\":\"Year\"}},\"yaxis10\":{\"anchor\":\"x10\",\"domain\":[0.28125,0.4375],\"title\":{\"text\":\"Cost of Living Index\"}},\"xaxis11\":{\"anchor\":\"y11\",\"domain\":[0.525,0.7375],\"title\":{\"text\":\"Year\"}},\"yaxis11\":{\"anchor\":\"x11\",\"domain\":[0.28125,0.4375],\"title\":{\"text\":\"Rent Index\"}},\"xaxis12\":{\"anchor\":\"y12\",\"domain\":[0.7875,1.0],\"title\":{\"text\":\"Year\"}},\"yaxis12\":{\"anchor\":\"x12\",\"domain\":[0.28125,0.4375],\"title\":{\"text\":\"Cost of Living Plus Rent Index\"}},\"xaxis13\":{\"anchor\":\"y13\",\"domain\":[0.0,0.2125],\"title\":{\"text\":\"Year\"}},\"yaxis13\":{\"anchor\":\"x13\",\"domain\":[0.0,0.15625],\"title\":{\"text\":\"Groceries Index\"}},\"xaxis14\":{\"anchor\":\"y14\",\"domain\":[0.2625,0.475],\"title\":{\"text\":\"Year\"}},\"yaxis14\":{\"anchor\":\"x14\",\"domain\":[0.0,0.15625],\"title\":{\"text\":\"Restaurant Index\"}},\"xaxis15\":{\"anchor\":\"y15\",\"domain\":[0.525,0.7375],\"title\":{\"text\":\"Year\"}},\"yaxis15\":{\"anchor\":\"x15\",\"domain\":[0.0,0.15625],\"title\":{\"text\":\"Local Purchasing Power Index\"}},\"xaxis16\":{\"anchor\":\"y16\",\"domain\":[0.7875,1.0]},\"yaxis16\":{\"anchor\":\"x16\",\"domain\":[0.0,0.15625]},\"annotations\":[{\"font\":{\"size\":16},\"showarrow\":false,\"text\":\"Price to Income Ratio\",\"x\":0.10625,\"xanchor\":\"center\",\"xref\":\"paper\",\"y\":1.0,\"yanchor\":\"bottom\",\"yref\":\"paper\"},{\"font\":{\"size\":16},\"showarrow\":false,\"text\":\"Gross Rental Yield City Centre\",\"x\":0.36875,\"xanchor\":\"center\",\"xref\":\"paper\",\"y\":1.0,\"yanchor\":\"bottom\",\"yref\":\"paper\"},{\"font\":{\"size\":16},\"showarrow\":false,\"text\":\"Gross Rental Yield Outside Centre\",\"x\":0.6312500000000001,\"xanchor\":\"center\",\"xref\":\"paper\",\"y\":1.0,\"yanchor\":\"bottom\",\"yref\":\"paper\"},{\"font\":{\"size\":16},\"showarrow\":false,\"text\":\"Price to Rent Ratio City Centre\",\"x\":0.89375,\"xanchor\":\"center\",\"xref\":\"paper\",\"y\":1.0,\"yanchor\":\"bottom\",\"yref\":\"paper\"},{\"font\":{\"size\":16},\"showarrow\":false,\"text\":\"Price to Rent Ratio Outside City Centre\",\"x\":0.10625,\"xanchor\":\"center\",\"xref\":\"paper\",\"y\":0.71875,\"yanchor\":\"bottom\",\"yref\":\"paper\"},{\"font\":{\"size\":16},\"showarrow\":false,\"text\":\"Mortgage as a Percentage of Income\",\"x\":0.36875,\"xanchor\":\"center\",\"xref\":\"paper\",\"y\":0.71875,\"yanchor\":\"bottom\",\"yref\":\"paper\"},{\"font\":{\"size\":16},\"showarrow\":false,\"text\":\"Affordability Index\",\"x\":0.6312500000000001,\"xanchor\":\"center\",\"xref\":\"paper\",\"y\":0.71875,\"yanchor\":\"bottom\",\"yref\":\"paper\"},{\"font\":{\"size\":16},\"showarrow\":false,\"text\":\"Crime Index\",\"x\":0.89375,\"xanchor\":\"center\",\"xref\":\"paper\",\"y\":0.71875,\"yanchor\":\"bottom\",\"yref\":\"paper\"},{\"font\":{\"size\":16},\"showarrow\":false,\"text\":\"Safety Index\",\"x\":0.10625,\"xanchor\":\"center\",\"xref\":\"paper\",\"y\":0.4375,\"yanchor\":\"bottom\",\"yref\":\"paper\"},{\"font\":{\"size\":16},\"showarrow\":false,\"text\":\"Cost of Living Index\",\"x\":0.36875,\"xanchor\":\"center\",\"xref\":\"paper\",\"y\":0.4375,\"yanchor\":\"bottom\",\"yref\":\"paper\"},{\"font\":{\"size\":16},\"showarrow\":false,\"text\":\"Rent Index\",\"x\":0.6312500000000001,\"xanchor\":\"center\",\"xref\":\"paper\",\"y\":0.4375,\"yanchor\":\"bottom\",\"yref\":\"paper\"},{\"font\":{\"size\":16},\"showarrow\":false,\"text\":\"Cost of Living Plus Rent Index\",\"x\":0.89375,\"xanchor\":\"center\",\"xref\":\"paper\",\"y\":0.4375,\"yanchor\":\"bottom\",\"yref\":\"paper\"},{\"font\":{\"size\":16},\"showarrow\":false,\"text\":\"Groceries Index\",\"x\":0.10625,\"xanchor\":\"center\",\"xref\":\"paper\",\"y\":0.15625,\"yanchor\":\"bottom\",\"yref\":\"paper\"},{\"font\":{\"size\":16},\"showarrow\":false,\"text\":\"Restaurant Index\",\"x\":0.36875,\"xanchor\":\"center\",\"xref\":\"paper\",\"y\":0.15625,\"yanchor\":\"bottom\",\"yref\":\"paper\"},{\"font\":{\"size\":16},\"showarrow\":false,\"text\":\"Local Purchasing Power Index\",\"x\":0.6312500000000001,\"xanchor\":\"center\",\"xref\":\"paper\",\"y\":0.15625,\"yanchor\":\"bottom\",\"yref\":\"paper\"}],\"title\":{\"text\":\"Atlanta, GA, United States\"},\"height\":1500,\"width\":1500},                        {\"responsive\": true}                    ).then(function(){\n",
       "                            \n",
       "var gd = document.getElementById('4e4a943a-d046-4300-af6e-198448b14478');\n",
       "var x = new MutationObserver(function (mutations, observer) {{\n",
       "        var display = window.getComputedStyle(gd).display;\n",
       "        if (!display || display === 'none') {{\n",
       "            console.log([gd, 'removed!']);\n",
       "            Plotly.purge(gd);\n",
       "            observer.disconnect();\n",
       "        }}\n",
       "}});\n",
       "\n",
       "// Listen for the removal of the full notebook cells\n",
       "var notebookContainer = gd.closest('#notebook-container');\n",
       "if (notebookContainer) {{\n",
       "    x.observe(notebookContainer, {childList: true});\n",
       "}}\n",
       "\n",
       "// Listen for the clearing of the current output cell\n",
       "var outputEl = gd.closest('.output');\n",
       "if (outputEl) {{\n",
       "    x.observe(outputEl, {childList: true});\n",
       "}}\n",
       "\n",
       "                        })                };                });            </script>        </div>"
      ]
     },
     "metadata": {},
     "output_type": "display_data"
    },
    {
     "data": {
      "application/vnd.plotly.v1+json": {
       "config": {
        "plotlyServerURL": "https://plot.ly"
       },
       "data": [
        {
         "mode": "lines+markers",
         "name": "Price to Income Ratio",
         "type": "scatter",
         "x": [
          "2011",
          "2012",
          "2013",
          "2014",
          "2014-mid",
          "2015",
          "2015-mid",
          "2016",
          "2016-mid",
          "2017",
          "2017-mid",
          "2018",
          "2018-mid",
          "2019",
          "2019-mid",
          "2020",
          "2020-mid",
          "2021",
          "2021-mid",
          "2022",
          "2022-mid",
          "2023",
          "2023-mid",
          "2024",
          "2024-mid"
         ],
         "xaxis": "x",
         "y": [
          1.6,
          1.7,
          2.1,
          2.6,
          2.7,
          2.7,
          3,
          3.3,
          2.5,
          1.9,
          1.9,
          2.3,
          2.2,
          2.2,
          2.1,
          2.1,
          2.2,
          2.2,
          2.3,
          2,
          2.2,
          2.4,
          2.1,
          4.6,
          2.5
         ],
         "yaxis": "y"
        },
        {
         "mode": "lines+markers",
         "name": "Gross Rental Yield City Centre",
         "type": "scatter",
         "x": [
          "2011",
          "2012",
          "2013",
          "2014",
          "2014-mid",
          "2015",
          "2015-mid",
          "2016",
          "2016-mid",
          "2017",
          "2017-mid",
          "2018",
          "2018-mid",
          "2019",
          "2019-mid",
          "2020",
          "2020-mid",
          "2021",
          "2021-mid",
          "2022",
          "2022-mid",
          "2023",
          "2023-mid",
          "2024",
          "2024-mid"
         ],
         "xaxis": "x2",
         "y": [
          14,
          14.5,
          15.8,
          13.7,
          13.4,
          13.4,
          9.9,
          12.3,
          13.4,
          16.1,
          15.3,
          14.7,
          14.4,
          14.8,
          13.9,
          13.5,
          13.2,
          11.3,
          10.3,
          9.6,
          10.6,
          11.9,
          11.8,
          7.1,
          12.6
         ],
         "yaxis": "y2"
        },
        {
         "mode": "lines+markers",
         "name": "Gross Rental Yield Outside Centre",
         "type": "scatter",
         "x": [
          "2011",
          "2012",
          "2013",
          "2014",
          "2014-mid",
          "2015",
          "2015-mid",
          "2016",
          "2016-mid",
          "2017",
          "2017-mid",
          "2018",
          "2018-mid",
          "2019",
          "2019-mid",
          "2020",
          "2020-mid",
          "2021",
          "2021-mid",
          "2022",
          "2022-mid",
          "2023",
          "2023-mid",
          "2024",
          "2024-mid"
         ],
         "xaxis": "x3",
         "y": [
          15.9,
          17.2,
          16.4,
          13.9,
          13.9,
          13.9,
          12.3,
          14.3,
          17,
          19.2,
          17.8,
          17.7,
          18.7,
          18.6,
          18.2,
          17.6,
          16.7,
          16.2,
          15.1,
          16.4,
          14.9,
          14.7,
          15.7,
          5.9,
          13.7
         ],
         "yaxis": "y3"
        },
        {
         "mode": "lines+markers",
         "name": "Price to Rent Ratio City Centre",
         "type": "scatter",
         "x": [
          "2011",
          "2012",
          "2013",
          "2014",
          "2014-mid",
          "2015",
          "2015-mid",
          "2016",
          "2016-mid",
          "2017",
          "2017-mid",
          "2018",
          "2018-mid",
          "2019",
          "2019-mid",
          "2020",
          "2020-mid",
          "2021",
          "2021-mid",
          "2022",
          "2022-mid",
          "2023",
          "2023-mid",
          "2024",
          "2024-mid"
         ],
         "xaxis": "x4",
         "y": [
          7.1,
          6.9,
          6.3,
          7.3,
          7.5,
          7.5,
          10.1,
          8.2,
          7.5,
          6.2,
          6.5,
          6.8,
          7,
          6.8,
          7.2,
          7.4,
          7.6,
          8.9,
          9.7,
          10.4,
          9.4,
          8.4,
          8.5,
          14.1,
          7.9
         ],
         "yaxis": "y4"
        },
        {
         "mode": "lines+markers",
         "name": "Price to Rent Ratio Outside City Centre",
         "type": "scatter",
         "x": [
          "2011",
          "2012",
          "2013",
          "2014",
          "2014-mid",
          "2015",
          "2015-mid",
          "2016",
          "2016-mid",
          "2017",
          "2017-mid",
          "2018",
          "2018-mid",
          "2019",
          "2019-mid",
          "2020",
          "2020-mid",
          "2021",
          "2021-mid",
          "2022",
          "2022-mid",
          "2023",
          "2023-mid",
          "2024",
          "2024-mid"
         ],
         "xaxis": "x5",
         "y": [
          6.3,
          5.8,
          6.1,
          7.2,
          7.2,
          7.2,
          8.1,
          7,
          5.9,
          5.2,
          5.6,
          5.6,
          5.3,
          5.4,
          5.5,
          5.7,
          6,
          6.2,
          6.6,
          6.1,
          6.7,
          6.8,
          6.4,
          17,
          7.3
         ],
         "yaxis": "y5"
        },
        {
         "mode": "lines+markers",
         "name": "Mortgage as a Percentage of Income",
         "type": "scatter",
         "x": [
          "2011",
          "2012",
          "2013",
          "2014",
          "2014-mid",
          "2015",
          "2015-mid",
          "2016",
          "2016-mid",
          "2017",
          "2017-mid",
          "2018",
          "2018-mid",
          "2019",
          "2019-mid",
          "2020",
          "2020-mid",
          "2021",
          "2021-mid",
          "2022",
          "2022-mid",
          "2023",
          "2023-mid",
          "2024",
          "2024-mid"
         ],
         "xaxis": "x6",
         "y": [
          "13.1",
          "13.4",
          "15.8",
          "19.4",
          "20.3",
          "20.0",
          "22.1",
          "23.8",
          "18.3",
          "13.8",
          "13.4",
          "16.2",
          "16.2",
          "16.2",
          "15.6",
          "15.6",
          "16.0",
          "15.7",
          "15.5",
          "13.6",
          "17.0",
          "18.6",
          "19.2",
          "42.1",
          "22.1"
         ],
         "yaxis": "y6"
        },
        {
         "mode": "lines+markers",
         "name": "Affordability Index",
         "type": "scatter",
         "x": [
          "2011",
          "2012",
          "2013",
          "2014",
          "2014-mid",
          "2015",
          "2015-mid",
          "2016",
          "2016-mid",
          "2017",
          "2017-mid",
          "2018",
          "2018-mid",
          "2019",
          "2019-mid",
          "2020",
          "2020-mid",
          "2021",
          "2021-mid",
          "2022",
          "2022-mid",
          "2023",
          "2023-mid",
          "2024",
          "2024-mid"
         ],
         "xaxis": "x7",
         "y": [
          "7.6",
          "7.4",
          "6.3",
          "5.2",
          "4.9",
          "5.0",
          "4.5",
          "4.2",
          "5.5",
          "7.3",
          "7.5",
          "6.2",
          "6.2",
          "6.2",
          "6.4",
          "6.4",
          "6.2",
          "6.4",
          "6.5",
          "7.4",
          "5.9",
          "5.4",
          "5.2",
          "2.4",
          "4.5"
         ],
         "yaxis": "y7"
        },
        {
         "mode": "lines+markers",
         "name": "Crime Index",
         "type": "scatter",
         "x": [
          "2011",
          "2012",
          "2013",
          "2014",
          "2014-mid",
          "2015",
          "2015-mid",
          "2016",
          "2016-mid",
          "2017",
          "2017-mid",
          "2018",
          "2018-mid",
          "2019",
          "2019-mid",
          "2020",
          "2020-mid",
          "2021",
          "2021-mid",
          "2022",
          "2022-mid",
          "2023",
          "2023-mid",
          "2024",
          "2024-mid"
         ],
         "xaxis": "x8",
         "y": [
          null,
          null,
          null,
          56.8,
          58,
          59.2,
          60.2,
          59.3,
          62.6,
          62.7,
          62.6,
          60.9,
          59.1,
          60.9,
          62.2,
          63.3,
          64.1,
          63.9,
          63.9,
          63.8,
          64.3,
          63.8,
          63.8,
          63.3,
          63.6
         ],
         "yaxis": "y8"
        },
        {
         "mode": "lines+markers",
         "name": "Safety Index",
         "type": "scatter",
         "x": [
          "2011",
          "2012",
          "2013",
          "2014",
          "2014-mid",
          "2015",
          "2015-mid",
          "2016",
          "2016-mid",
          "2017",
          "2017-mid",
          "2018",
          "2018-mid",
          "2019",
          "2019-mid",
          "2020",
          "2020-mid",
          "2021",
          "2021-mid",
          "2022",
          "2022-mid",
          "2023",
          "2023-mid",
          "2024",
          "2024-mid"
         ],
         "xaxis": "x9",
         "y": [
          null,
          null,
          null,
          43.2,
          42,
          40.8,
          39.8,
          40.7,
          37.4,
          37.3,
          37.4,
          39.1,
          40.9,
          39.1,
          37.8,
          36.7,
          35.9,
          36.1,
          36.1,
          36.2,
          35.7,
          36.2,
          36.2,
          36.7,
          36.4
         ],
         "yaxis": "y9"
        },
        {
         "mode": "lines+markers",
         "name": "Cost of Living Index",
         "type": "scatter",
         "x": [
          "2011",
          "2012",
          "2013",
          "2014",
          "2014-mid",
          "2015",
          "2015-mid",
          "2016",
          "2016-mid",
          "2017",
          "2017-mid",
          "2018",
          "2018-mid",
          "2019",
          "2019-mid",
          "2020",
          "2020-mid",
          "2021",
          "2021-mid",
          "2022",
          "2022-mid",
          "2023",
          "2023-mid",
          "2024",
          "2024-mid"
         ],
         "xaxis": "x10",
         "y": [
          null,
          null,
          null,
          null,
          null,
          null,
          null,
          null,
          null,
          null,
          null,
          null,
          null,
          null,
          null,
          null,
          null,
          null,
          null,
          null,
          null,
          null,
          null,
          null,
          65.1
         ],
         "yaxis": "y10"
        },
        {
         "mode": "lines+markers",
         "name": "Rent Index",
         "type": "scatter",
         "x": [
          "2011",
          "2012",
          "2013",
          "2014",
          "2014-mid",
          "2015",
          "2015-mid",
          "2016",
          "2016-mid",
          "2017",
          "2017-mid",
          "2018",
          "2018-mid",
          "2019",
          "2019-mid",
          "2020",
          "2020-mid",
          "2021",
          "2021-mid",
          "2022",
          "2022-mid",
          "2023",
          "2023-mid",
          "2024",
          "2024-mid"
         ],
         "xaxis": "x11",
         "y": [
          null,
          null,
          null,
          null,
          null,
          null,
          null,
          null,
          null,
          null,
          null,
          null,
          null,
          null,
          null,
          null,
          null,
          null,
          null,
          null,
          null,
          null,
          null,
          null,
          39.2
         ],
         "yaxis": "y11"
        },
        {
         "mode": "lines+markers",
         "name": "Cost of Living Plus Rent Index",
         "type": "scatter",
         "x": [
          "2011",
          "2012",
          "2013",
          "2014",
          "2014-mid",
          "2015",
          "2015-mid",
          "2016",
          "2016-mid",
          "2017",
          "2017-mid",
          "2018",
          "2018-mid",
          "2019",
          "2019-mid",
          "2020",
          "2020-mid",
          "2021",
          "2021-mid",
          "2022",
          "2022-mid",
          "2023",
          "2023-mid",
          "2024",
          "2024-mid"
         ],
         "xaxis": "x12",
         "y": [
          null,
          null,
          null,
          null,
          null,
          null,
          null,
          null,
          null,
          null,
          null,
          null,
          null,
          null,
          null,
          null,
          null,
          null,
          null,
          null,
          null,
          null,
          null,
          null,
          52.7
         ],
         "yaxis": "y12"
        },
        {
         "mode": "lines+markers",
         "name": "Groceries Index",
         "type": "scatter",
         "x": [
          "2011",
          "2012",
          "2013",
          "2014",
          "2014-mid",
          "2015",
          "2015-mid",
          "2016",
          "2016-mid",
          "2017",
          "2017-mid",
          "2018",
          "2018-mid",
          "2019",
          "2019-mid",
          "2020",
          "2020-mid",
          "2021",
          "2021-mid",
          "2022",
          "2022-mid",
          "2023",
          "2023-mid",
          "2024",
          "2024-mid"
         ],
         "xaxis": "x13",
         "y": [
          null,
          null,
          null,
          null,
          null,
          null,
          null,
          null,
          null,
          null,
          null,
          null,
          null,
          null,
          null,
          null,
          null,
          null,
          null,
          null,
          null,
          null,
          null,
          null,
          66.8
         ],
         "yaxis": "y13"
        },
        {
         "mode": "lines+markers",
         "name": "Restaurant Index",
         "type": "scatter",
         "x": [
          "2011",
          "2012",
          "2013",
          "2014",
          "2014-mid",
          "2015",
          "2015-mid",
          "2016",
          "2016-mid",
          "2017",
          "2017-mid",
          "2018",
          "2018-mid",
          "2019",
          "2019-mid",
          "2020",
          "2020-mid",
          "2021",
          "2021-mid",
          "2022",
          "2022-mid",
          "2023",
          "2023-mid",
          "2024",
          "2024-mid"
         ],
         "xaxis": "x14",
         "y": [
          null,
          null,
          null,
          null,
          null,
          null,
          null,
          null,
          null,
          null,
          null,
          null,
          null,
          null,
          null,
          null,
          null,
          null,
          null,
          null,
          null,
          null,
          null,
          null,
          60.7
         ],
         "yaxis": "y14"
        },
        {
         "mode": "lines+markers",
         "name": "Local Purchasing Power Index",
         "type": "scatter",
         "x": [
          "2011",
          "2012",
          "2013",
          "2014",
          "2014-mid",
          "2015",
          "2015-mid",
          "2016",
          "2016-mid",
          "2017",
          "2017-mid",
          "2018",
          "2018-mid",
          "2019",
          "2019-mid",
          "2020",
          "2020-mid",
          "2021",
          "2021-mid",
          "2022",
          "2022-mid",
          "2023",
          "2023-mid",
          "2024",
          "2024-mid"
         ],
         "xaxis": "x15",
         "y": [
          null,
          null,
          null,
          null,
          null,
          null,
          null,
          null,
          null,
          null,
          null,
          null,
          null,
          null,
          null,
          null,
          null,
          null,
          null,
          null,
          null,
          null,
          null,
          null,
          162.9
         ],
         "yaxis": "y15"
        }
       ],
       "layout": {
        "annotations": [
         {
          "font": {
           "size": 16
          },
          "showarrow": false,
          "text": "Price to Income Ratio",
          "x": 0.10625,
          "xanchor": "center",
          "xref": "paper",
          "y": 1,
          "yanchor": "bottom",
          "yref": "paper"
         },
         {
          "font": {
           "size": 16
          },
          "showarrow": false,
          "text": "Gross Rental Yield City Centre",
          "x": 0.36875,
          "xanchor": "center",
          "xref": "paper",
          "y": 1,
          "yanchor": "bottom",
          "yref": "paper"
         },
         {
          "font": {
           "size": 16
          },
          "showarrow": false,
          "text": "Gross Rental Yield Outside Centre",
          "x": 0.6312500000000001,
          "xanchor": "center",
          "xref": "paper",
          "y": 1,
          "yanchor": "bottom",
          "yref": "paper"
         },
         {
          "font": {
           "size": 16
          },
          "showarrow": false,
          "text": "Price to Rent Ratio City Centre",
          "x": 0.89375,
          "xanchor": "center",
          "xref": "paper",
          "y": 1,
          "yanchor": "bottom",
          "yref": "paper"
         },
         {
          "font": {
           "size": 16
          },
          "showarrow": false,
          "text": "Price to Rent Ratio Outside City Centre",
          "x": 0.10625,
          "xanchor": "center",
          "xref": "paper",
          "y": 0.71875,
          "yanchor": "bottom",
          "yref": "paper"
         },
         {
          "font": {
           "size": 16
          },
          "showarrow": false,
          "text": "Mortgage as a Percentage of Income",
          "x": 0.36875,
          "xanchor": "center",
          "xref": "paper",
          "y": 0.71875,
          "yanchor": "bottom",
          "yref": "paper"
         },
         {
          "font": {
           "size": 16
          },
          "showarrow": false,
          "text": "Affordability Index",
          "x": 0.6312500000000001,
          "xanchor": "center",
          "xref": "paper",
          "y": 0.71875,
          "yanchor": "bottom",
          "yref": "paper"
         },
         {
          "font": {
           "size": 16
          },
          "showarrow": false,
          "text": "Crime Index",
          "x": 0.89375,
          "xanchor": "center",
          "xref": "paper",
          "y": 0.71875,
          "yanchor": "bottom",
          "yref": "paper"
         },
         {
          "font": {
           "size": 16
          },
          "showarrow": false,
          "text": "Safety Index",
          "x": 0.10625,
          "xanchor": "center",
          "xref": "paper",
          "y": 0.4375,
          "yanchor": "bottom",
          "yref": "paper"
         },
         {
          "font": {
           "size": 16
          },
          "showarrow": false,
          "text": "Cost of Living Index",
          "x": 0.36875,
          "xanchor": "center",
          "xref": "paper",
          "y": 0.4375,
          "yanchor": "bottom",
          "yref": "paper"
         },
         {
          "font": {
           "size": 16
          },
          "showarrow": false,
          "text": "Rent Index",
          "x": 0.6312500000000001,
          "xanchor": "center",
          "xref": "paper",
          "y": 0.4375,
          "yanchor": "bottom",
          "yref": "paper"
         },
         {
          "font": {
           "size": 16
          },
          "showarrow": false,
          "text": "Cost of Living Plus Rent Index",
          "x": 0.89375,
          "xanchor": "center",
          "xref": "paper",
          "y": 0.4375,
          "yanchor": "bottom",
          "yref": "paper"
         },
         {
          "font": {
           "size": 16
          },
          "showarrow": false,
          "text": "Groceries Index",
          "x": 0.10625,
          "xanchor": "center",
          "xref": "paper",
          "y": 0.15625,
          "yanchor": "bottom",
          "yref": "paper"
         },
         {
          "font": {
           "size": 16
          },
          "showarrow": false,
          "text": "Restaurant Index",
          "x": 0.36875,
          "xanchor": "center",
          "xref": "paper",
          "y": 0.15625,
          "yanchor": "bottom",
          "yref": "paper"
         },
         {
          "font": {
           "size": 16
          },
          "showarrow": false,
          "text": "Local Purchasing Power Index",
          "x": 0.6312500000000001,
          "xanchor": "center",
          "xref": "paper",
          "y": 0.15625,
          "yanchor": "bottom",
          "yref": "paper"
         }
        ],
        "height": 1500,
        "template": {
         "data": {
          "bar": [
           {
            "error_x": {
             "color": "#2a3f5f"
            },
            "error_y": {
             "color": "#2a3f5f"
            },
            "marker": {
             "line": {
              "color": "#E5ECF6",
              "width": 0.5
             },
             "pattern": {
              "fillmode": "overlay",
              "size": 10,
              "solidity": 0.2
             }
            },
            "type": "bar"
           }
          ],
          "barpolar": [
           {
            "marker": {
             "line": {
              "color": "#E5ECF6",
              "width": 0.5
             },
             "pattern": {
              "fillmode": "overlay",
              "size": 10,
              "solidity": 0.2
             }
            },
            "type": "barpolar"
           }
          ],
          "carpet": [
           {
            "aaxis": {
             "endlinecolor": "#2a3f5f",
             "gridcolor": "white",
             "linecolor": "white",
             "minorgridcolor": "white",
             "startlinecolor": "#2a3f5f"
            },
            "baxis": {
             "endlinecolor": "#2a3f5f",
             "gridcolor": "white",
             "linecolor": "white",
             "minorgridcolor": "white",
             "startlinecolor": "#2a3f5f"
            },
            "type": "carpet"
           }
          ],
          "choropleth": [
           {
            "colorbar": {
             "outlinewidth": 0,
             "ticks": ""
            },
            "type": "choropleth"
           }
          ],
          "contour": [
           {
            "colorbar": {
             "outlinewidth": 0,
             "ticks": ""
            },
            "colorscale": [
             [
              0,
              "#0d0887"
             ],
             [
              0.1111111111111111,
              "#46039f"
             ],
             [
              0.2222222222222222,
              "#7201a8"
             ],
             [
              0.3333333333333333,
              "#9c179e"
             ],
             [
              0.4444444444444444,
              "#bd3786"
             ],
             [
              0.5555555555555556,
              "#d8576b"
             ],
             [
              0.6666666666666666,
              "#ed7953"
             ],
             [
              0.7777777777777778,
              "#fb9f3a"
             ],
             [
              0.8888888888888888,
              "#fdca26"
             ],
             [
              1,
              "#f0f921"
             ]
            ],
            "type": "contour"
           }
          ],
          "contourcarpet": [
           {
            "colorbar": {
             "outlinewidth": 0,
             "ticks": ""
            },
            "type": "contourcarpet"
           }
          ],
          "heatmap": [
           {
            "colorbar": {
             "outlinewidth": 0,
             "ticks": ""
            },
            "colorscale": [
             [
              0,
              "#0d0887"
             ],
             [
              0.1111111111111111,
              "#46039f"
             ],
             [
              0.2222222222222222,
              "#7201a8"
             ],
             [
              0.3333333333333333,
              "#9c179e"
             ],
             [
              0.4444444444444444,
              "#bd3786"
             ],
             [
              0.5555555555555556,
              "#d8576b"
             ],
             [
              0.6666666666666666,
              "#ed7953"
             ],
             [
              0.7777777777777778,
              "#fb9f3a"
             ],
             [
              0.8888888888888888,
              "#fdca26"
             ],
             [
              1,
              "#f0f921"
             ]
            ],
            "type": "heatmap"
           }
          ],
          "heatmapgl": [
           {
            "colorbar": {
             "outlinewidth": 0,
             "ticks": ""
            },
            "colorscale": [
             [
              0,
              "#0d0887"
             ],
             [
              0.1111111111111111,
              "#46039f"
             ],
             [
              0.2222222222222222,
              "#7201a8"
             ],
             [
              0.3333333333333333,
              "#9c179e"
             ],
             [
              0.4444444444444444,
              "#bd3786"
             ],
             [
              0.5555555555555556,
              "#d8576b"
             ],
             [
              0.6666666666666666,
              "#ed7953"
             ],
             [
              0.7777777777777778,
              "#fb9f3a"
             ],
             [
              0.8888888888888888,
              "#fdca26"
             ],
             [
              1,
              "#f0f921"
             ]
            ],
            "type": "heatmapgl"
           }
          ],
          "histogram": [
           {
            "marker": {
             "pattern": {
              "fillmode": "overlay",
              "size": 10,
              "solidity": 0.2
             }
            },
            "type": "histogram"
           }
          ],
          "histogram2d": [
           {
            "colorbar": {
             "outlinewidth": 0,
             "ticks": ""
            },
            "colorscale": [
             [
              0,
              "#0d0887"
             ],
             [
              0.1111111111111111,
              "#46039f"
             ],
             [
              0.2222222222222222,
              "#7201a8"
             ],
             [
              0.3333333333333333,
              "#9c179e"
             ],
             [
              0.4444444444444444,
              "#bd3786"
             ],
             [
              0.5555555555555556,
              "#d8576b"
             ],
             [
              0.6666666666666666,
              "#ed7953"
             ],
             [
              0.7777777777777778,
              "#fb9f3a"
             ],
             [
              0.8888888888888888,
              "#fdca26"
             ],
             [
              1,
              "#f0f921"
             ]
            ],
            "type": "histogram2d"
           }
          ],
          "histogram2dcontour": [
           {
            "colorbar": {
             "outlinewidth": 0,
             "ticks": ""
            },
            "colorscale": [
             [
              0,
              "#0d0887"
             ],
             [
              0.1111111111111111,
              "#46039f"
             ],
             [
              0.2222222222222222,
              "#7201a8"
             ],
             [
              0.3333333333333333,
              "#9c179e"
             ],
             [
              0.4444444444444444,
              "#bd3786"
             ],
             [
              0.5555555555555556,
              "#d8576b"
             ],
             [
              0.6666666666666666,
              "#ed7953"
             ],
             [
              0.7777777777777778,
              "#fb9f3a"
             ],
             [
              0.8888888888888888,
              "#fdca26"
             ],
             [
              1,
              "#f0f921"
             ]
            ],
            "type": "histogram2dcontour"
           }
          ],
          "mesh3d": [
           {
            "colorbar": {
             "outlinewidth": 0,
             "ticks": ""
            },
            "type": "mesh3d"
           }
          ],
          "parcoords": [
           {
            "line": {
             "colorbar": {
              "outlinewidth": 0,
              "ticks": ""
             }
            },
            "type": "parcoords"
           }
          ],
          "pie": [
           {
            "automargin": true,
            "type": "pie"
           }
          ],
          "scatter": [
           {
            "fillpattern": {
             "fillmode": "overlay",
             "size": 10,
             "solidity": 0.2
            },
            "type": "scatter"
           }
          ],
          "scatter3d": [
           {
            "line": {
             "colorbar": {
              "outlinewidth": 0,
              "ticks": ""
             }
            },
            "marker": {
             "colorbar": {
              "outlinewidth": 0,
              "ticks": ""
             }
            },
            "type": "scatter3d"
           }
          ],
          "scattercarpet": [
           {
            "marker": {
             "colorbar": {
              "outlinewidth": 0,
              "ticks": ""
             }
            },
            "type": "scattercarpet"
           }
          ],
          "scattergeo": [
           {
            "marker": {
             "colorbar": {
              "outlinewidth": 0,
              "ticks": ""
             }
            },
            "type": "scattergeo"
           }
          ],
          "scattergl": [
           {
            "marker": {
             "colorbar": {
              "outlinewidth": 0,
              "ticks": ""
             }
            },
            "type": "scattergl"
           }
          ],
          "scattermapbox": [
           {
            "marker": {
             "colorbar": {
              "outlinewidth": 0,
              "ticks": ""
             }
            },
            "type": "scattermapbox"
           }
          ],
          "scatterpolar": [
           {
            "marker": {
             "colorbar": {
              "outlinewidth": 0,
              "ticks": ""
             }
            },
            "type": "scatterpolar"
           }
          ],
          "scatterpolargl": [
           {
            "marker": {
             "colorbar": {
              "outlinewidth": 0,
              "ticks": ""
             }
            },
            "type": "scatterpolargl"
           }
          ],
          "scatterternary": [
           {
            "marker": {
             "colorbar": {
              "outlinewidth": 0,
              "ticks": ""
             }
            },
            "type": "scatterternary"
           }
          ],
          "surface": [
           {
            "colorbar": {
             "outlinewidth": 0,
             "ticks": ""
            },
            "colorscale": [
             [
              0,
              "#0d0887"
             ],
             [
              0.1111111111111111,
              "#46039f"
             ],
             [
              0.2222222222222222,
              "#7201a8"
             ],
             [
              0.3333333333333333,
              "#9c179e"
             ],
             [
              0.4444444444444444,
              "#bd3786"
             ],
             [
              0.5555555555555556,
              "#d8576b"
             ],
             [
              0.6666666666666666,
              "#ed7953"
             ],
             [
              0.7777777777777778,
              "#fb9f3a"
             ],
             [
              0.8888888888888888,
              "#fdca26"
             ],
             [
              1,
              "#f0f921"
             ]
            ],
            "type": "surface"
           }
          ],
          "table": [
           {
            "cells": {
             "fill": {
              "color": "#EBF0F8"
             },
             "line": {
              "color": "white"
             }
            },
            "header": {
             "fill": {
              "color": "#C8D4E3"
             },
             "line": {
              "color": "white"
             }
            },
            "type": "table"
           }
          ]
         },
         "layout": {
          "annotationdefaults": {
           "arrowcolor": "#2a3f5f",
           "arrowhead": 0,
           "arrowwidth": 1
          },
          "autotypenumbers": "strict",
          "coloraxis": {
           "colorbar": {
            "outlinewidth": 0,
            "ticks": ""
           }
          },
          "colorscale": {
           "diverging": [
            [
             0,
             "#8e0152"
            ],
            [
             0.1,
             "#c51b7d"
            ],
            [
             0.2,
             "#de77ae"
            ],
            [
             0.3,
             "#f1b6da"
            ],
            [
             0.4,
             "#fde0ef"
            ],
            [
             0.5,
             "#f7f7f7"
            ],
            [
             0.6,
             "#e6f5d0"
            ],
            [
             0.7,
             "#b8e186"
            ],
            [
             0.8,
             "#7fbc41"
            ],
            [
             0.9,
             "#4d9221"
            ],
            [
             1,
             "#276419"
            ]
           ],
           "sequential": [
            [
             0,
             "#0d0887"
            ],
            [
             0.1111111111111111,
             "#46039f"
            ],
            [
             0.2222222222222222,
             "#7201a8"
            ],
            [
             0.3333333333333333,
             "#9c179e"
            ],
            [
             0.4444444444444444,
             "#bd3786"
            ],
            [
             0.5555555555555556,
             "#d8576b"
            ],
            [
             0.6666666666666666,
             "#ed7953"
            ],
            [
             0.7777777777777778,
             "#fb9f3a"
            ],
            [
             0.8888888888888888,
             "#fdca26"
            ],
            [
             1,
             "#f0f921"
            ]
           ],
           "sequentialminus": [
            [
             0,
             "#0d0887"
            ],
            [
             0.1111111111111111,
             "#46039f"
            ],
            [
             0.2222222222222222,
             "#7201a8"
            ],
            [
             0.3333333333333333,
             "#9c179e"
            ],
            [
             0.4444444444444444,
             "#bd3786"
            ],
            [
             0.5555555555555556,
             "#d8576b"
            ],
            [
             0.6666666666666666,
             "#ed7953"
            ],
            [
             0.7777777777777778,
             "#fb9f3a"
            ],
            [
             0.8888888888888888,
             "#fdca26"
            ],
            [
             1,
             "#f0f921"
            ]
           ]
          },
          "colorway": [
           "#636efa",
           "#EF553B",
           "#00cc96",
           "#ab63fa",
           "#FFA15A",
           "#19d3f3",
           "#FF6692",
           "#B6E880",
           "#FF97FF",
           "#FECB52"
          ],
          "font": {
           "color": "#2a3f5f"
          },
          "geo": {
           "bgcolor": "white",
           "lakecolor": "white",
           "landcolor": "#E5ECF6",
           "showlakes": true,
           "showland": true,
           "subunitcolor": "white"
          },
          "hoverlabel": {
           "align": "left"
          },
          "hovermode": "closest",
          "mapbox": {
           "style": "light"
          },
          "paper_bgcolor": "white",
          "plot_bgcolor": "#E5ECF6",
          "polar": {
           "angularaxis": {
            "gridcolor": "white",
            "linecolor": "white",
            "ticks": ""
           },
           "bgcolor": "#E5ECF6",
           "radialaxis": {
            "gridcolor": "white",
            "linecolor": "white",
            "ticks": ""
           }
          },
          "scene": {
           "xaxis": {
            "backgroundcolor": "#E5ECF6",
            "gridcolor": "white",
            "gridwidth": 2,
            "linecolor": "white",
            "showbackground": true,
            "ticks": "",
            "zerolinecolor": "white"
           },
           "yaxis": {
            "backgroundcolor": "#E5ECF6",
            "gridcolor": "white",
            "gridwidth": 2,
            "linecolor": "white",
            "showbackground": true,
            "ticks": "",
            "zerolinecolor": "white"
           },
           "zaxis": {
            "backgroundcolor": "#E5ECF6",
            "gridcolor": "white",
            "gridwidth": 2,
            "linecolor": "white",
            "showbackground": true,
            "ticks": "",
            "zerolinecolor": "white"
           }
          },
          "shapedefaults": {
           "line": {
            "color": "#2a3f5f"
           }
          },
          "ternary": {
           "aaxis": {
            "gridcolor": "white",
            "linecolor": "white",
            "ticks": ""
           },
           "baxis": {
            "gridcolor": "white",
            "linecolor": "white",
            "ticks": ""
           },
           "bgcolor": "#E5ECF6",
           "caxis": {
            "gridcolor": "white",
            "linecolor": "white",
            "ticks": ""
           }
          },
          "title": {
           "x": 0.05
          },
          "xaxis": {
           "automargin": true,
           "gridcolor": "white",
           "linecolor": "white",
           "ticks": "",
           "title": {
            "standoff": 15
           },
           "zerolinecolor": "white",
           "zerolinewidth": 2
          },
          "yaxis": {
           "automargin": true,
           "gridcolor": "white",
           "linecolor": "white",
           "ticks": "",
           "title": {
            "standoff": 15
           },
           "zerolinecolor": "white",
           "zerolinewidth": 2
          }
         }
        },
        "title": {
         "text": "Houston, TX, United States"
        },
        "width": 1500,
        "xaxis": {
         "anchor": "y",
         "domain": [
          0,
          0.2125
         ],
         "title": {
          "text": "Year"
         }
        },
        "xaxis10": {
         "anchor": "y10",
         "domain": [
          0.2625,
          0.475
         ],
         "title": {
          "text": "Year"
         }
        },
        "xaxis11": {
         "anchor": "y11",
         "domain": [
          0.525,
          0.7375
         ],
         "title": {
          "text": "Year"
         }
        },
        "xaxis12": {
         "anchor": "y12",
         "domain": [
          0.7875,
          1
         ],
         "title": {
          "text": "Year"
         }
        },
        "xaxis13": {
         "anchor": "y13",
         "domain": [
          0,
          0.2125
         ],
         "title": {
          "text": "Year"
         }
        },
        "xaxis14": {
         "anchor": "y14",
         "domain": [
          0.2625,
          0.475
         ],
         "title": {
          "text": "Year"
         }
        },
        "xaxis15": {
         "anchor": "y15",
         "domain": [
          0.525,
          0.7375
         ],
         "title": {
          "text": "Year"
         }
        },
        "xaxis16": {
         "anchor": "y16",
         "domain": [
          0.7875,
          1
         ]
        },
        "xaxis2": {
         "anchor": "y2",
         "domain": [
          0.2625,
          0.475
         ],
         "title": {
          "text": "Year"
         }
        },
        "xaxis3": {
         "anchor": "y3",
         "domain": [
          0.525,
          0.7375
         ],
         "title": {
          "text": "Year"
         }
        },
        "xaxis4": {
         "anchor": "y4",
         "domain": [
          0.7875,
          1
         ],
         "title": {
          "text": "Year"
         }
        },
        "xaxis5": {
         "anchor": "y5",
         "domain": [
          0,
          0.2125
         ],
         "title": {
          "text": "Year"
         }
        },
        "xaxis6": {
         "anchor": "y6",
         "domain": [
          0.2625,
          0.475
         ],
         "title": {
          "text": "Year"
         }
        },
        "xaxis7": {
         "anchor": "y7",
         "domain": [
          0.525,
          0.7375
         ],
         "title": {
          "text": "Year"
         }
        },
        "xaxis8": {
         "anchor": "y8",
         "domain": [
          0.7875,
          1
         ],
         "title": {
          "text": "Year"
         }
        },
        "xaxis9": {
         "anchor": "y9",
         "domain": [
          0,
          0.2125
         ],
         "title": {
          "text": "Year"
         }
        },
        "yaxis": {
         "anchor": "x",
         "domain": [
          0.84375,
          1
         ],
         "title": {
          "text": "Price to Income Ratio"
         }
        },
        "yaxis10": {
         "anchor": "x10",
         "domain": [
          0.28125,
          0.4375
         ],
         "title": {
          "text": "Cost of Living Index"
         }
        },
        "yaxis11": {
         "anchor": "x11",
         "domain": [
          0.28125,
          0.4375
         ],
         "title": {
          "text": "Rent Index"
         }
        },
        "yaxis12": {
         "anchor": "x12",
         "domain": [
          0.28125,
          0.4375
         ],
         "title": {
          "text": "Cost of Living Plus Rent Index"
         }
        },
        "yaxis13": {
         "anchor": "x13",
         "domain": [
          0,
          0.15625
         ],
         "title": {
          "text": "Groceries Index"
         }
        },
        "yaxis14": {
         "anchor": "x14",
         "domain": [
          0,
          0.15625
         ],
         "title": {
          "text": "Restaurant Index"
         }
        },
        "yaxis15": {
         "anchor": "x15",
         "domain": [
          0,
          0.15625
         ],
         "title": {
          "text": "Local Purchasing Power Index"
         }
        },
        "yaxis16": {
         "anchor": "x16",
         "domain": [
          0,
          0.15625
         ]
        },
        "yaxis2": {
         "anchor": "x2",
         "domain": [
          0.84375,
          1
         ],
         "title": {
          "text": "Gross Rental Yield City Centre"
         }
        },
        "yaxis3": {
         "anchor": "x3",
         "domain": [
          0.84375,
          1
         ],
         "title": {
          "text": "Gross Rental Yield Outside Centre"
         }
        },
        "yaxis4": {
         "anchor": "x4",
         "domain": [
          0.84375,
          1
         ],
         "title": {
          "text": "Price to Rent Ratio City Centre"
         }
        },
        "yaxis5": {
         "anchor": "x5",
         "domain": [
          0.5625,
          0.71875
         ],
         "title": {
          "text": "Price to Rent Ratio Outside City Centre"
         }
        },
        "yaxis6": {
         "anchor": "x6",
         "domain": [
          0.5625,
          0.71875
         ],
         "title": {
          "text": "Mortgage as a Percentage of Income"
         }
        },
        "yaxis7": {
         "anchor": "x7",
         "domain": [
          0.5625,
          0.71875
         ],
         "title": {
          "text": "Affordability Index"
         }
        },
        "yaxis8": {
         "anchor": "x8",
         "domain": [
          0.5625,
          0.71875
         ],
         "title": {
          "text": "Crime Index"
         }
        },
        "yaxis9": {
         "anchor": "x9",
         "domain": [
          0.28125,
          0.4375
         ],
         "title": {
          "text": "Safety Index"
         }
        }
       }
      },
      "text/html": [
       "<div>                            <div id=\"f8480748-4e25-465c-a2f3-3003c1716efd\" class=\"plotly-graph-div\" style=\"height:1500px; width:1500px;\"></div>            <script type=\"text/javascript\">                require([\"plotly\"], function(Plotly) {                    window.PLOTLYENV=window.PLOTLYENV || {};                                    if (document.getElementById(\"f8480748-4e25-465c-a2f3-3003c1716efd\")) {                    Plotly.newPlot(                        \"f8480748-4e25-465c-a2f3-3003c1716efd\",                        [{\"mode\":\"lines+markers\",\"name\":\"Price to Income Ratio\",\"x\":[\"2011\",\"2012\",\"2013\",\"2014\",\"2014-mid\",\"2015\",\"2015-mid\",\"2016\",\"2016-mid\",\"2017\",\"2017-mid\",\"2018\",\"2018-mid\",\"2019\",\"2019-mid\",\"2020\",\"2020-mid\",\"2021\",\"2021-mid\",\"2022\",\"2022-mid\",\"2023\",\"2023-mid\",\"2024\",\"2024-mid\"],\"y\":[1.6,1.7,2.1,2.6,2.7,2.7,3.0,3.3,2.5,1.9,1.9,2.3,2.2,2.2,2.1,2.1,2.2,2.2,2.3,2.0,2.2,2.4,2.1,4.6,2.5],\"type\":\"scatter\",\"xaxis\":\"x\",\"yaxis\":\"y\"},{\"mode\":\"lines+markers\",\"name\":\"Gross Rental Yield City Centre\",\"x\":[\"2011\",\"2012\",\"2013\",\"2014\",\"2014-mid\",\"2015\",\"2015-mid\",\"2016\",\"2016-mid\",\"2017\",\"2017-mid\",\"2018\",\"2018-mid\",\"2019\",\"2019-mid\",\"2020\",\"2020-mid\",\"2021\",\"2021-mid\",\"2022\",\"2022-mid\",\"2023\",\"2023-mid\",\"2024\",\"2024-mid\"],\"y\":[14.0,14.5,15.8,13.7,13.4,13.4,9.9,12.3,13.4,16.1,15.3,14.7,14.4,14.8,13.9,13.5,13.2,11.3,10.3,9.6,10.6,11.9,11.8,7.1,12.6],\"type\":\"scatter\",\"xaxis\":\"x2\",\"yaxis\":\"y2\"},{\"mode\":\"lines+markers\",\"name\":\"Gross Rental Yield Outside Centre\",\"x\":[\"2011\",\"2012\",\"2013\",\"2014\",\"2014-mid\",\"2015\",\"2015-mid\",\"2016\",\"2016-mid\",\"2017\",\"2017-mid\",\"2018\",\"2018-mid\",\"2019\",\"2019-mid\",\"2020\",\"2020-mid\",\"2021\",\"2021-mid\",\"2022\",\"2022-mid\",\"2023\",\"2023-mid\",\"2024\",\"2024-mid\"],\"y\":[15.9,17.2,16.4,13.9,13.9,13.9,12.3,14.3,17.0,19.2,17.8,17.7,18.7,18.6,18.2,17.6,16.7,16.2,15.1,16.4,14.9,14.7,15.7,5.9,13.7],\"type\":\"scatter\",\"xaxis\":\"x3\",\"yaxis\":\"y3\"},{\"mode\":\"lines+markers\",\"name\":\"Price to Rent Ratio City Centre\",\"x\":[\"2011\",\"2012\",\"2013\",\"2014\",\"2014-mid\",\"2015\",\"2015-mid\",\"2016\",\"2016-mid\",\"2017\",\"2017-mid\",\"2018\",\"2018-mid\",\"2019\",\"2019-mid\",\"2020\",\"2020-mid\",\"2021\",\"2021-mid\",\"2022\",\"2022-mid\",\"2023\",\"2023-mid\",\"2024\",\"2024-mid\"],\"y\":[7.1,6.9,6.3,7.3,7.5,7.5,10.1,8.2,7.5,6.2,6.5,6.8,7.0,6.8,7.2,7.4,7.6,8.9,9.7,10.4,9.4,8.4,8.5,14.1,7.9],\"type\":\"scatter\",\"xaxis\":\"x4\",\"yaxis\":\"y4\"},{\"mode\":\"lines+markers\",\"name\":\"Price to Rent Ratio Outside City Centre\",\"x\":[\"2011\",\"2012\",\"2013\",\"2014\",\"2014-mid\",\"2015\",\"2015-mid\",\"2016\",\"2016-mid\",\"2017\",\"2017-mid\",\"2018\",\"2018-mid\",\"2019\",\"2019-mid\",\"2020\",\"2020-mid\",\"2021\",\"2021-mid\",\"2022\",\"2022-mid\",\"2023\",\"2023-mid\",\"2024\",\"2024-mid\"],\"y\":[6.3,5.8,6.1,7.2,7.2,7.2,8.1,7.0,5.9,5.2,5.6,5.6,5.3,5.4,5.5,5.7,6.0,6.2,6.6,6.1,6.7,6.8,6.4,17.0,7.3],\"type\":\"scatter\",\"xaxis\":\"x5\",\"yaxis\":\"y5\"},{\"mode\":\"lines+markers\",\"name\":\"Mortgage as a Percentage of Income\",\"x\":[\"2011\",\"2012\",\"2013\",\"2014\",\"2014-mid\",\"2015\",\"2015-mid\",\"2016\",\"2016-mid\",\"2017\",\"2017-mid\",\"2018\",\"2018-mid\",\"2019\",\"2019-mid\",\"2020\",\"2020-mid\",\"2021\",\"2021-mid\",\"2022\",\"2022-mid\",\"2023\",\"2023-mid\",\"2024\",\"2024-mid\"],\"y\":[\"13.1\",\"13.4\",\"15.8\",\"19.4\",\"20.3\",\"20.0\",\"22.1\",\"23.8\",\"18.3\",\"13.8\",\"13.4\",\"16.2\",\"16.2\",\"16.2\",\"15.6\",\"15.6\",\"16.0\",\"15.7\",\"15.5\",\"13.6\",\"17.0\",\"18.6\",\"19.2\",\"42.1\",\"22.1\"],\"type\":\"scatter\",\"xaxis\":\"x6\",\"yaxis\":\"y6\"},{\"mode\":\"lines+markers\",\"name\":\"Affordability Index\",\"x\":[\"2011\",\"2012\",\"2013\",\"2014\",\"2014-mid\",\"2015\",\"2015-mid\",\"2016\",\"2016-mid\",\"2017\",\"2017-mid\",\"2018\",\"2018-mid\",\"2019\",\"2019-mid\",\"2020\",\"2020-mid\",\"2021\",\"2021-mid\",\"2022\",\"2022-mid\",\"2023\",\"2023-mid\",\"2024\",\"2024-mid\"],\"y\":[\"7.6\",\"7.4\",\"6.3\",\"5.2\",\"4.9\",\"5.0\",\"4.5\",\"4.2\",\"5.5\",\"7.3\",\"7.5\",\"6.2\",\"6.2\",\"6.2\",\"6.4\",\"6.4\",\"6.2\",\"6.4\",\"6.5\",\"7.4\",\"5.9\",\"5.4\",\"5.2\",\"2.4\",\"4.5\"],\"type\":\"scatter\",\"xaxis\":\"x7\",\"yaxis\":\"y7\"},{\"mode\":\"lines+markers\",\"name\":\"Crime Index\",\"x\":[\"2011\",\"2012\",\"2013\",\"2014\",\"2014-mid\",\"2015\",\"2015-mid\",\"2016\",\"2016-mid\",\"2017\",\"2017-mid\",\"2018\",\"2018-mid\",\"2019\",\"2019-mid\",\"2020\",\"2020-mid\",\"2021\",\"2021-mid\",\"2022\",\"2022-mid\",\"2023\",\"2023-mid\",\"2024\",\"2024-mid\"],\"y\":[null,null,null,56.8,58.0,59.2,60.2,59.3,62.6,62.7,62.6,60.9,59.1,60.9,62.2,63.3,64.1,63.9,63.9,63.8,64.3,63.8,63.8,63.3,63.6],\"type\":\"scatter\",\"xaxis\":\"x8\",\"yaxis\":\"y8\"},{\"mode\":\"lines+markers\",\"name\":\"Safety Index\",\"x\":[\"2011\",\"2012\",\"2013\",\"2014\",\"2014-mid\",\"2015\",\"2015-mid\",\"2016\",\"2016-mid\",\"2017\",\"2017-mid\",\"2018\",\"2018-mid\",\"2019\",\"2019-mid\",\"2020\",\"2020-mid\",\"2021\",\"2021-mid\",\"2022\",\"2022-mid\",\"2023\",\"2023-mid\",\"2024\",\"2024-mid\"],\"y\":[null,null,null,43.2,42.0,40.8,39.8,40.7,37.4,37.3,37.4,39.1,40.9,39.1,37.8,36.7,35.9,36.1,36.1,36.2,35.7,36.2,36.2,36.7,36.4],\"type\":\"scatter\",\"xaxis\":\"x9\",\"yaxis\":\"y9\"},{\"mode\":\"lines+markers\",\"name\":\"Cost of Living Index\",\"x\":[\"2011\",\"2012\",\"2013\",\"2014\",\"2014-mid\",\"2015\",\"2015-mid\",\"2016\",\"2016-mid\",\"2017\",\"2017-mid\",\"2018\",\"2018-mid\",\"2019\",\"2019-mid\",\"2020\",\"2020-mid\",\"2021\",\"2021-mid\",\"2022\",\"2022-mid\",\"2023\",\"2023-mid\",\"2024\",\"2024-mid\"],\"y\":[null,null,null,null,null,null,null,null,null,null,null,null,null,null,null,null,null,null,null,null,null,null,null,null,65.1],\"type\":\"scatter\",\"xaxis\":\"x10\",\"yaxis\":\"y10\"},{\"mode\":\"lines+markers\",\"name\":\"Rent Index\",\"x\":[\"2011\",\"2012\",\"2013\",\"2014\",\"2014-mid\",\"2015\",\"2015-mid\",\"2016\",\"2016-mid\",\"2017\",\"2017-mid\",\"2018\",\"2018-mid\",\"2019\",\"2019-mid\",\"2020\",\"2020-mid\",\"2021\",\"2021-mid\",\"2022\",\"2022-mid\",\"2023\",\"2023-mid\",\"2024\",\"2024-mid\"],\"y\":[null,null,null,null,null,null,null,null,null,null,null,null,null,null,null,null,null,null,null,null,null,null,null,null,39.2],\"type\":\"scatter\",\"xaxis\":\"x11\",\"yaxis\":\"y11\"},{\"mode\":\"lines+markers\",\"name\":\"Cost of Living Plus Rent Index\",\"x\":[\"2011\",\"2012\",\"2013\",\"2014\",\"2014-mid\",\"2015\",\"2015-mid\",\"2016\",\"2016-mid\",\"2017\",\"2017-mid\",\"2018\",\"2018-mid\",\"2019\",\"2019-mid\",\"2020\",\"2020-mid\",\"2021\",\"2021-mid\",\"2022\",\"2022-mid\",\"2023\",\"2023-mid\",\"2024\",\"2024-mid\"],\"y\":[null,null,null,null,null,null,null,null,null,null,null,null,null,null,null,null,null,null,null,null,null,null,null,null,52.7],\"type\":\"scatter\",\"xaxis\":\"x12\",\"yaxis\":\"y12\"},{\"mode\":\"lines+markers\",\"name\":\"Groceries Index\",\"x\":[\"2011\",\"2012\",\"2013\",\"2014\",\"2014-mid\",\"2015\",\"2015-mid\",\"2016\",\"2016-mid\",\"2017\",\"2017-mid\",\"2018\",\"2018-mid\",\"2019\",\"2019-mid\",\"2020\",\"2020-mid\",\"2021\",\"2021-mid\",\"2022\",\"2022-mid\",\"2023\",\"2023-mid\",\"2024\",\"2024-mid\"],\"y\":[null,null,null,null,null,null,null,null,null,null,null,null,null,null,null,null,null,null,null,null,null,null,null,null,66.8],\"type\":\"scatter\",\"xaxis\":\"x13\",\"yaxis\":\"y13\"},{\"mode\":\"lines+markers\",\"name\":\"Restaurant Index\",\"x\":[\"2011\",\"2012\",\"2013\",\"2014\",\"2014-mid\",\"2015\",\"2015-mid\",\"2016\",\"2016-mid\",\"2017\",\"2017-mid\",\"2018\",\"2018-mid\",\"2019\",\"2019-mid\",\"2020\",\"2020-mid\",\"2021\",\"2021-mid\",\"2022\",\"2022-mid\",\"2023\",\"2023-mid\",\"2024\",\"2024-mid\"],\"y\":[null,null,null,null,null,null,null,null,null,null,null,null,null,null,null,null,null,null,null,null,null,null,null,null,60.7],\"type\":\"scatter\",\"xaxis\":\"x14\",\"yaxis\":\"y14\"},{\"mode\":\"lines+markers\",\"name\":\"Local Purchasing Power Index\",\"x\":[\"2011\",\"2012\",\"2013\",\"2014\",\"2014-mid\",\"2015\",\"2015-mid\",\"2016\",\"2016-mid\",\"2017\",\"2017-mid\",\"2018\",\"2018-mid\",\"2019\",\"2019-mid\",\"2020\",\"2020-mid\",\"2021\",\"2021-mid\",\"2022\",\"2022-mid\",\"2023\",\"2023-mid\",\"2024\",\"2024-mid\"],\"y\":[null,null,null,null,null,null,null,null,null,null,null,null,null,null,null,null,null,null,null,null,null,null,null,null,162.9],\"type\":\"scatter\",\"xaxis\":\"x15\",\"yaxis\":\"y15\"}],                        {\"template\":{\"data\":{\"histogram2dcontour\":[{\"type\":\"histogram2dcontour\",\"colorbar\":{\"outlinewidth\":0,\"ticks\":\"\"},\"colorscale\":[[0.0,\"#0d0887\"],[0.1111111111111111,\"#46039f\"],[0.2222222222222222,\"#7201a8\"],[0.3333333333333333,\"#9c179e\"],[0.4444444444444444,\"#bd3786\"],[0.5555555555555556,\"#d8576b\"],[0.6666666666666666,\"#ed7953\"],[0.7777777777777778,\"#fb9f3a\"],[0.8888888888888888,\"#fdca26\"],[1.0,\"#f0f921\"]]}],\"choropleth\":[{\"type\":\"choropleth\",\"colorbar\":{\"outlinewidth\":0,\"ticks\":\"\"}}],\"histogram2d\":[{\"type\":\"histogram2d\",\"colorbar\":{\"outlinewidth\":0,\"ticks\":\"\"},\"colorscale\":[[0.0,\"#0d0887\"],[0.1111111111111111,\"#46039f\"],[0.2222222222222222,\"#7201a8\"],[0.3333333333333333,\"#9c179e\"],[0.4444444444444444,\"#bd3786\"],[0.5555555555555556,\"#d8576b\"],[0.6666666666666666,\"#ed7953\"],[0.7777777777777778,\"#fb9f3a\"],[0.8888888888888888,\"#fdca26\"],[1.0,\"#f0f921\"]]}],\"heatmap\":[{\"type\":\"heatmap\",\"colorbar\":{\"outlinewidth\":0,\"ticks\":\"\"},\"colorscale\":[[0.0,\"#0d0887\"],[0.1111111111111111,\"#46039f\"],[0.2222222222222222,\"#7201a8\"],[0.3333333333333333,\"#9c179e\"],[0.4444444444444444,\"#bd3786\"],[0.5555555555555556,\"#d8576b\"],[0.6666666666666666,\"#ed7953\"],[0.7777777777777778,\"#fb9f3a\"],[0.8888888888888888,\"#fdca26\"],[1.0,\"#f0f921\"]]}],\"heatmapgl\":[{\"type\":\"heatmapgl\",\"colorbar\":{\"outlinewidth\":0,\"ticks\":\"\"},\"colorscale\":[[0.0,\"#0d0887\"],[0.1111111111111111,\"#46039f\"],[0.2222222222222222,\"#7201a8\"],[0.3333333333333333,\"#9c179e\"],[0.4444444444444444,\"#bd3786\"],[0.5555555555555556,\"#d8576b\"],[0.6666666666666666,\"#ed7953\"],[0.7777777777777778,\"#fb9f3a\"],[0.8888888888888888,\"#fdca26\"],[1.0,\"#f0f921\"]]}],\"contourcarpet\":[{\"type\":\"contourcarpet\",\"colorbar\":{\"outlinewidth\":0,\"ticks\":\"\"}}],\"contour\":[{\"type\":\"contour\",\"colorbar\":{\"outlinewidth\":0,\"ticks\":\"\"},\"colorscale\":[[0.0,\"#0d0887\"],[0.1111111111111111,\"#46039f\"],[0.2222222222222222,\"#7201a8\"],[0.3333333333333333,\"#9c179e\"],[0.4444444444444444,\"#bd3786\"],[0.5555555555555556,\"#d8576b\"],[0.6666666666666666,\"#ed7953\"],[0.7777777777777778,\"#fb9f3a\"],[0.8888888888888888,\"#fdca26\"],[1.0,\"#f0f921\"]]}],\"surface\":[{\"type\":\"surface\",\"colorbar\":{\"outlinewidth\":0,\"ticks\":\"\"},\"colorscale\":[[0.0,\"#0d0887\"],[0.1111111111111111,\"#46039f\"],[0.2222222222222222,\"#7201a8\"],[0.3333333333333333,\"#9c179e\"],[0.4444444444444444,\"#bd3786\"],[0.5555555555555556,\"#d8576b\"],[0.6666666666666666,\"#ed7953\"],[0.7777777777777778,\"#fb9f3a\"],[0.8888888888888888,\"#fdca26\"],[1.0,\"#f0f921\"]]}],\"mesh3d\":[{\"type\":\"mesh3d\",\"colorbar\":{\"outlinewidth\":0,\"ticks\":\"\"}}],\"scatter\":[{\"fillpattern\":{\"fillmode\":\"overlay\",\"size\":10,\"solidity\":0.2},\"type\":\"scatter\"}],\"parcoords\":[{\"type\":\"parcoords\",\"line\":{\"colorbar\":{\"outlinewidth\":0,\"ticks\":\"\"}}}],\"scatterpolargl\":[{\"type\":\"scatterpolargl\",\"marker\":{\"colorbar\":{\"outlinewidth\":0,\"ticks\":\"\"}}}],\"bar\":[{\"error_x\":{\"color\":\"#2a3f5f\"},\"error_y\":{\"color\":\"#2a3f5f\"},\"marker\":{\"line\":{\"color\":\"#E5ECF6\",\"width\":0.5},\"pattern\":{\"fillmode\":\"overlay\",\"size\":10,\"solidity\":0.2}},\"type\":\"bar\"}],\"scattergeo\":[{\"type\":\"scattergeo\",\"marker\":{\"colorbar\":{\"outlinewidth\":0,\"ticks\":\"\"}}}],\"scatterpolar\":[{\"type\":\"scatterpolar\",\"marker\":{\"colorbar\":{\"outlinewidth\":0,\"ticks\":\"\"}}}],\"histogram\":[{\"marker\":{\"pattern\":{\"fillmode\":\"overlay\",\"size\":10,\"solidity\":0.2}},\"type\":\"histogram\"}],\"scattergl\":[{\"type\":\"scattergl\",\"marker\":{\"colorbar\":{\"outlinewidth\":0,\"ticks\":\"\"}}}],\"scatter3d\":[{\"type\":\"scatter3d\",\"line\":{\"colorbar\":{\"outlinewidth\":0,\"ticks\":\"\"}},\"marker\":{\"colorbar\":{\"outlinewidth\":0,\"ticks\":\"\"}}}],\"scattermapbox\":[{\"type\":\"scattermapbox\",\"marker\":{\"colorbar\":{\"outlinewidth\":0,\"ticks\":\"\"}}}],\"scatterternary\":[{\"type\":\"scatterternary\",\"marker\":{\"colorbar\":{\"outlinewidth\":0,\"ticks\":\"\"}}}],\"scattercarpet\":[{\"type\":\"scattercarpet\",\"marker\":{\"colorbar\":{\"outlinewidth\":0,\"ticks\":\"\"}}}],\"carpet\":[{\"aaxis\":{\"endlinecolor\":\"#2a3f5f\",\"gridcolor\":\"white\",\"linecolor\":\"white\",\"minorgridcolor\":\"white\",\"startlinecolor\":\"#2a3f5f\"},\"baxis\":{\"endlinecolor\":\"#2a3f5f\",\"gridcolor\":\"white\",\"linecolor\":\"white\",\"minorgridcolor\":\"white\",\"startlinecolor\":\"#2a3f5f\"},\"type\":\"carpet\"}],\"table\":[{\"cells\":{\"fill\":{\"color\":\"#EBF0F8\"},\"line\":{\"color\":\"white\"}},\"header\":{\"fill\":{\"color\":\"#C8D4E3\"},\"line\":{\"color\":\"white\"}},\"type\":\"table\"}],\"barpolar\":[{\"marker\":{\"line\":{\"color\":\"#E5ECF6\",\"width\":0.5},\"pattern\":{\"fillmode\":\"overlay\",\"size\":10,\"solidity\":0.2}},\"type\":\"barpolar\"}],\"pie\":[{\"automargin\":true,\"type\":\"pie\"}]},\"layout\":{\"autotypenumbers\":\"strict\",\"colorway\":[\"#636efa\",\"#EF553B\",\"#00cc96\",\"#ab63fa\",\"#FFA15A\",\"#19d3f3\",\"#FF6692\",\"#B6E880\",\"#FF97FF\",\"#FECB52\"],\"font\":{\"color\":\"#2a3f5f\"},\"hovermode\":\"closest\",\"hoverlabel\":{\"align\":\"left\"},\"paper_bgcolor\":\"white\",\"plot_bgcolor\":\"#E5ECF6\",\"polar\":{\"bgcolor\":\"#E5ECF6\",\"angularaxis\":{\"gridcolor\":\"white\",\"linecolor\":\"white\",\"ticks\":\"\"},\"radialaxis\":{\"gridcolor\":\"white\",\"linecolor\":\"white\",\"ticks\":\"\"}},\"ternary\":{\"bgcolor\":\"#E5ECF6\",\"aaxis\":{\"gridcolor\":\"white\",\"linecolor\":\"white\",\"ticks\":\"\"},\"baxis\":{\"gridcolor\":\"white\",\"linecolor\":\"white\",\"ticks\":\"\"},\"caxis\":{\"gridcolor\":\"white\",\"linecolor\":\"white\",\"ticks\":\"\"}},\"coloraxis\":{\"colorbar\":{\"outlinewidth\":0,\"ticks\":\"\"}},\"colorscale\":{\"sequential\":[[0.0,\"#0d0887\"],[0.1111111111111111,\"#46039f\"],[0.2222222222222222,\"#7201a8\"],[0.3333333333333333,\"#9c179e\"],[0.4444444444444444,\"#bd3786\"],[0.5555555555555556,\"#d8576b\"],[0.6666666666666666,\"#ed7953\"],[0.7777777777777778,\"#fb9f3a\"],[0.8888888888888888,\"#fdca26\"],[1.0,\"#f0f921\"]],\"sequentialminus\":[[0.0,\"#0d0887\"],[0.1111111111111111,\"#46039f\"],[0.2222222222222222,\"#7201a8\"],[0.3333333333333333,\"#9c179e\"],[0.4444444444444444,\"#bd3786\"],[0.5555555555555556,\"#d8576b\"],[0.6666666666666666,\"#ed7953\"],[0.7777777777777778,\"#fb9f3a\"],[0.8888888888888888,\"#fdca26\"],[1.0,\"#f0f921\"]],\"diverging\":[[0,\"#8e0152\"],[0.1,\"#c51b7d\"],[0.2,\"#de77ae\"],[0.3,\"#f1b6da\"],[0.4,\"#fde0ef\"],[0.5,\"#f7f7f7\"],[0.6,\"#e6f5d0\"],[0.7,\"#b8e186\"],[0.8,\"#7fbc41\"],[0.9,\"#4d9221\"],[1,\"#276419\"]]},\"xaxis\":{\"gridcolor\":\"white\",\"linecolor\":\"white\",\"ticks\":\"\",\"title\":{\"standoff\":15},\"zerolinecolor\":\"white\",\"automargin\":true,\"zerolinewidth\":2},\"yaxis\":{\"gridcolor\":\"white\",\"linecolor\":\"white\",\"ticks\":\"\",\"title\":{\"standoff\":15},\"zerolinecolor\":\"white\",\"automargin\":true,\"zerolinewidth\":2},\"scene\":{\"xaxis\":{\"backgroundcolor\":\"#E5ECF6\",\"gridcolor\":\"white\",\"linecolor\":\"white\",\"showbackground\":true,\"ticks\":\"\",\"zerolinecolor\":\"white\",\"gridwidth\":2},\"yaxis\":{\"backgroundcolor\":\"#E5ECF6\",\"gridcolor\":\"white\",\"linecolor\":\"white\",\"showbackground\":true,\"ticks\":\"\",\"zerolinecolor\":\"white\",\"gridwidth\":2},\"zaxis\":{\"backgroundcolor\":\"#E5ECF6\",\"gridcolor\":\"white\",\"linecolor\":\"white\",\"showbackground\":true,\"ticks\":\"\",\"zerolinecolor\":\"white\",\"gridwidth\":2}},\"shapedefaults\":{\"line\":{\"color\":\"#2a3f5f\"}},\"annotationdefaults\":{\"arrowcolor\":\"#2a3f5f\",\"arrowhead\":0,\"arrowwidth\":1},\"geo\":{\"bgcolor\":\"white\",\"landcolor\":\"#E5ECF6\",\"subunitcolor\":\"white\",\"showland\":true,\"showlakes\":true,\"lakecolor\":\"white\"},\"title\":{\"x\":0.05},\"mapbox\":{\"style\":\"light\"}}},\"xaxis\":{\"anchor\":\"y\",\"domain\":[0.0,0.2125],\"title\":{\"text\":\"Year\"}},\"yaxis\":{\"anchor\":\"x\",\"domain\":[0.84375,1.0],\"title\":{\"text\":\"Price to Income Ratio\"}},\"xaxis2\":{\"anchor\":\"y2\",\"domain\":[0.2625,0.475],\"title\":{\"text\":\"Year\"}},\"yaxis2\":{\"anchor\":\"x2\",\"domain\":[0.84375,1.0],\"title\":{\"text\":\"Gross Rental Yield City Centre\"}},\"xaxis3\":{\"anchor\":\"y3\",\"domain\":[0.525,0.7375],\"title\":{\"text\":\"Year\"}},\"yaxis3\":{\"anchor\":\"x3\",\"domain\":[0.84375,1.0],\"title\":{\"text\":\"Gross Rental Yield Outside Centre\"}},\"xaxis4\":{\"anchor\":\"y4\",\"domain\":[0.7875,1.0],\"title\":{\"text\":\"Year\"}},\"yaxis4\":{\"anchor\":\"x4\",\"domain\":[0.84375,1.0],\"title\":{\"text\":\"Price to Rent Ratio City Centre\"}},\"xaxis5\":{\"anchor\":\"y5\",\"domain\":[0.0,0.2125],\"title\":{\"text\":\"Year\"}},\"yaxis5\":{\"anchor\":\"x5\",\"domain\":[0.5625,0.71875],\"title\":{\"text\":\"Price to Rent Ratio Outside City Centre\"}},\"xaxis6\":{\"anchor\":\"y6\",\"domain\":[0.2625,0.475],\"title\":{\"text\":\"Year\"}},\"yaxis6\":{\"anchor\":\"x6\",\"domain\":[0.5625,0.71875],\"title\":{\"text\":\"Mortgage as a Percentage of Income\"}},\"xaxis7\":{\"anchor\":\"y7\",\"domain\":[0.525,0.7375],\"title\":{\"text\":\"Year\"}},\"yaxis7\":{\"anchor\":\"x7\",\"domain\":[0.5625,0.71875],\"title\":{\"text\":\"Affordability Index\"}},\"xaxis8\":{\"anchor\":\"y8\",\"domain\":[0.7875,1.0],\"title\":{\"text\":\"Year\"}},\"yaxis8\":{\"anchor\":\"x8\",\"domain\":[0.5625,0.71875],\"title\":{\"text\":\"Crime Index\"}},\"xaxis9\":{\"anchor\":\"y9\",\"domain\":[0.0,0.2125],\"title\":{\"text\":\"Year\"}},\"yaxis9\":{\"anchor\":\"x9\",\"domain\":[0.28125,0.4375],\"title\":{\"text\":\"Safety Index\"}},\"xaxis10\":{\"anchor\":\"y10\",\"domain\":[0.2625,0.475],\"title\":{\"text\":\"Year\"}},\"yaxis10\":{\"anchor\":\"x10\",\"domain\":[0.28125,0.4375],\"title\":{\"text\":\"Cost of Living Index\"}},\"xaxis11\":{\"anchor\":\"y11\",\"domain\":[0.525,0.7375],\"title\":{\"text\":\"Year\"}},\"yaxis11\":{\"anchor\":\"x11\",\"domain\":[0.28125,0.4375],\"title\":{\"text\":\"Rent Index\"}},\"xaxis12\":{\"anchor\":\"y12\",\"domain\":[0.7875,1.0],\"title\":{\"text\":\"Year\"}},\"yaxis12\":{\"anchor\":\"x12\",\"domain\":[0.28125,0.4375],\"title\":{\"text\":\"Cost of Living Plus Rent Index\"}},\"xaxis13\":{\"anchor\":\"y13\",\"domain\":[0.0,0.2125],\"title\":{\"text\":\"Year\"}},\"yaxis13\":{\"anchor\":\"x13\",\"domain\":[0.0,0.15625],\"title\":{\"text\":\"Groceries Index\"}},\"xaxis14\":{\"anchor\":\"y14\",\"domain\":[0.2625,0.475],\"title\":{\"text\":\"Year\"}},\"yaxis14\":{\"anchor\":\"x14\",\"domain\":[0.0,0.15625],\"title\":{\"text\":\"Restaurant Index\"}},\"xaxis15\":{\"anchor\":\"y15\",\"domain\":[0.525,0.7375],\"title\":{\"text\":\"Year\"}},\"yaxis15\":{\"anchor\":\"x15\",\"domain\":[0.0,0.15625],\"title\":{\"text\":\"Local Purchasing Power Index\"}},\"xaxis16\":{\"anchor\":\"y16\",\"domain\":[0.7875,1.0]},\"yaxis16\":{\"anchor\":\"x16\",\"domain\":[0.0,0.15625]},\"annotations\":[{\"font\":{\"size\":16},\"showarrow\":false,\"text\":\"Price to Income Ratio\",\"x\":0.10625,\"xanchor\":\"center\",\"xref\":\"paper\",\"y\":1.0,\"yanchor\":\"bottom\",\"yref\":\"paper\"},{\"font\":{\"size\":16},\"showarrow\":false,\"text\":\"Gross Rental Yield City Centre\",\"x\":0.36875,\"xanchor\":\"center\",\"xref\":\"paper\",\"y\":1.0,\"yanchor\":\"bottom\",\"yref\":\"paper\"},{\"font\":{\"size\":16},\"showarrow\":false,\"text\":\"Gross Rental Yield Outside Centre\",\"x\":0.6312500000000001,\"xanchor\":\"center\",\"xref\":\"paper\",\"y\":1.0,\"yanchor\":\"bottom\",\"yref\":\"paper\"},{\"font\":{\"size\":16},\"showarrow\":false,\"text\":\"Price to Rent Ratio City Centre\",\"x\":0.89375,\"xanchor\":\"center\",\"xref\":\"paper\",\"y\":1.0,\"yanchor\":\"bottom\",\"yref\":\"paper\"},{\"font\":{\"size\":16},\"showarrow\":false,\"text\":\"Price to Rent Ratio Outside City Centre\",\"x\":0.10625,\"xanchor\":\"center\",\"xref\":\"paper\",\"y\":0.71875,\"yanchor\":\"bottom\",\"yref\":\"paper\"},{\"font\":{\"size\":16},\"showarrow\":false,\"text\":\"Mortgage as a Percentage of Income\",\"x\":0.36875,\"xanchor\":\"center\",\"xref\":\"paper\",\"y\":0.71875,\"yanchor\":\"bottom\",\"yref\":\"paper\"},{\"font\":{\"size\":16},\"showarrow\":false,\"text\":\"Affordability Index\",\"x\":0.6312500000000001,\"xanchor\":\"center\",\"xref\":\"paper\",\"y\":0.71875,\"yanchor\":\"bottom\",\"yref\":\"paper\"},{\"font\":{\"size\":16},\"showarrow\":false,\"text\":\"Crime Index\",\"x\":0.89375,\"xanchor\":\"center\",\"xref\":\"paper\",\"y\":0.71875,\"yanchor\":\"bottom\",\"yref\":\"paper\"},{\"font\":{\"size\":16},\"showarrow\":false,\"text\":\"Safety Index\",\"x\":0.10625,\"xanchor\":\"center\",\"xref\":\"paper\",\"y\":0.4375,\"yanchor\":\"bottom\",\"yref\":\"paper\"},{\"font\":{\"size\":16},\"showarrow\":false,\"text\":\"Cost of Living Index\",\"x\":0.36875,\"xanchor\":\"center\",\"xref\":\"paper\",\"y\":0.4375,\"yanchor\":\"bottom\",\"yref\":\"paper\"},{\"font\":{\"size\":16},\"showarrow\":false,\"text\":\"Rent Index\",\"x\":0.6312500000000001,\"xanchor\":\"center\",\"xref\":\"paper\",\"y\":0.4375,\"yanchor\":\"bottom\",\"yref\":\"paper\"},{\"font\":{\"size\":16},\"showarrow\":false,\"text\":\"Cost of Living Plus Rent Index\",\"x\":0.89375,\"xanchor\":\"center\",\"xref\":\"paper\",\"y\":0.4375,\"yanchor\":\"bottom\",\"yref\":\"paper\"},{\"font\":{\"size\":16},\"showarrow\":false,\"text\":\"Groceries Index\",\"x\":0.10625,\"xanchor\":\"center\",\"xref\":\"paper\",\"y\":0.15625,\"yanchor\":\"bottom\",\"yref\":\"paper\"},{\"font\":{\"size\":16},\"showarrow\":false,\"text\":\"Restaurant Index\",\"x\":0.36875,\"xanchor\":\"center\",\"xref\":\"paper\",\"y\":0.15625,\"yanchor\":\"bottom\",\"yref\":\"paper\"},{\"font\":{\"size\":16},\"showarrow\":false,\"text\":\"Local Purchasing Power Index\",\"x\":0.6312500000000001,\"xanchor\":\"center\",\"xref\":\"paper\",\"y\":0.15625,\"yanchor\":\"bottom\",\"yref\":\"paper\"}],\"title\":{\"text\":\"Houston, TX, United States\"},\"height\":1500,\"width\":1500},                        {\"responsive\": true}                    ).then(function(){\n",
       "                            \n",
       "var gd = document.getElementById('f8480748-4e25-465c-a2f3-3003c1716efd');\n",
       "var x = new MutationObserver(function (mutations, observer) {{\n",
       "        var display = window.getComputedStyle(gd).display;\n",
       "        if (!display || display === 'none') {{\n",
       "            console.log([gd, 'removed!']);\n",
       "            Plotly.purge(gd);\n",
       "            observer.disconnect();\n",
       "        }}\n",
       "}});\n",
       "\n",
       "// Listen for the removal of the full notebook cells\n",
       "var notebookContainer = gd.closest('#notebook-container');\n",
       "if (notebookContainer) {{\n",
       "    x.observe(notebookContainer, {childList: true});\n",
       "}}\n",
       "\n",
       "// Listen for the clearing of the current output cell\n",
       "var outputEl = gd.closest('.output');\n",
       "if (outputEl) {{\n",
       "    x.observe(outputEl, {childList: true});\n",
       "}}\n",
       "\n",
       "                        })                };                });            </script>        </div>"
      ]
     },
     "metadata": {},
     "output_type": "display_data"
    }
   ],
   "source": [
    "for city in cities:\n",
    "    selected_city_df = merged_df[merged_df[\"City\"] == city].sort_values(\n",
    "        \"Year\", ascending=True\n",
    "    )\n",
    "    selected_city_df.drop(columns=[\"City\"], inplace=True)\n",
    "    plot_graph(selected_city_df, city)"
   ]
  },
  {
   "cell_type": "markdown",
   "metadata": {},
   "source": [
    "As an investor:\n",
    "- Price to income ratio:\n",
    "    - Higher the ratio:\n",
    "        - Potential appreciation: High price-to-income ratios often occur in desirable areas with strong demand (e.g., large cities), which could lead to property appreciation over time.\n",
    "        - Limited rental pool: The higher prices may mean fewer local residents can afford to buy homes, increasing the demand for rentals. However, if rents can't rise with property prices, this could limit your rental income.\n",
    "        - Risk of market correction: In extreme cases, a high ratio can signal a housing bubble, increasing the risk of price drops in the future.\n",
    "    - Lower the ratio:\n",
    "        - Limited appreciation: These markets may not see as much property value appreciation compared to high-ratio markets, making it better for investors focused on income rather than capital gains\n",
    "        - Better cash flow: Properties with lower price-to-income ratios might be more affordable to purchase and could still offer strong rental income. This leads to better cash flow.\n",
    "        - Steadier rental demand: In markets with a low ratio, more people may be able to afford to rent or buy, which could keep rental demand steady.\n",
    "- Price to rent ratio:\n",
    "    - The higher the ratio: indicates that property prices are rising faster than rents\n",
    "    - The lower the ratio: Generally more favorable for investors focused on cash flow, as you’re getting more rental income for the price of the property.\n",
    "- Gross rental yield:\n",
    "    - Higher the yield: The better the cash flow\n",
    "    - Lower the yield: The lower the cash flow\n",
    "    - Industry Benchmark: A gross rental yield of 5-8% is often considered reasonable for residential properties, though this can vary widely by market. For example, urban areas with high appreciation potential may have yields under 5%, while properties in more affordable or emerging markets may have yields above 8%.\n",
    "- Mortgage as a percentage of income:\n",
    "    - Low Mortgage-to-Income Ratio:\n",
    "        - More cash flow, less risk, less leverage\n",
    "    - High mortgage-to-income ratio:\n",
    "        - Less cash flow, more risk, more leverage"
   ]
  }
 ],
 "metadata": {
  "kernelspec": {
   "display_name": "numbeo",
   "language": "python",
   "name": "python3"
  },
  "language_info": {
   "codemirror_mode": {
    "name": "ipython",
    "version": 3
   },
   "file_extension": ".py",
   "mimetype": "text/x-python",
   "name": "python",
   "nbconvert_exporter": "python",
   "pygments_lexer": "ipython3",
   "version": "3.10.12"
  }
 },
 "nbformat": 4,
 "nbformat_minor": 2
}
