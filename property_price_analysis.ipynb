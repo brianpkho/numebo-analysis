{
 "cells": [
  {
   "cell_type": "markdown",
   "metadata": {},
   "source": [
    "# Property Price Index Analysis"
   ]
  },
  {
   "cell_type": "markdown",
   "metadata": {},
   "source": [
    "About Property Value and Investment Indexes\n",
    "\n",
    "Note that there is no standard formula to calculate property price indexes. The formulas differ from Case-Shiller Index, UK Housing Price Index, etc.\n",
    "\n",
    "**Price to Income Ratio** is a fundamental measure for apartment purchase affordability, where a lower ratio indicates better affordability. It is typically calculated as the ratio of median apartment prices to median familial disposable income, expressed as years of income (although variations are used also elsewhere). Our formula assumes and uses:\n",
    "\n",
    "- net disposable family income, as defined as 1.5 * the average net salary (50% is the assumed percentage of women in the workforce)\n",
    "- median apartment size is 90 square meters\n",
    "- price per square meter (the formula uses) is the average price of square meter in the city center and outside of the city center\n",
    "\n",
    "**Mortgage as Percentage of Income** is a ratio of the actual monthly cost of the mortgage to take-home family income (lower is better). The average monthly salary is used to estimate family income. It assumes a 100% mortgage is taken on 20 years for the house(or apt) of 90 square meters which price per square meter is the average of prices in the city center and outside of the city center.\n",
    "\n",
    "**Loan Affordability Index** is an inverse of mortgage as percentage of income. The used formula is : `(100 / mortgage as percentage of income)` (higher is better).\n",
    "\n",
    "**Price to Rent Ratio** is the average cost of ownership divided by the received rent income (if buying to let) or the estimated rent that would be paid if renting (if buying to reside). Lower values suggest that it is better to buy rather than rent, and higher values suggest that it is better to rent rather than buy. Our formula to estimate rent per square meter assumes 1 bedroom apt has 50 square meters and 3 bedroom apartment has 110 square meters. It doesn't take into account taxes or maintenance fees.\n",
    "\n",
    "**Gross Rental Yield** is the total yearly gross rent divided by the house price (expressed in percentages). Higher is better."
   ]
  },
  {
   "cell_type": "code",
   "execution_count": 8,
   "metadata": {},
   "outputs": [],
   "source": [
    "import pandas as pd\n",
    "import json\n",
    "\n",
    "# Set display option to show all rows\n",
    "pd.set_option(\"display.max_rows\", 100)\n",
    "pd.set_option(\"display.max_columns\", 100)"
   ]
  },
  {
   "cell_type": "code",
   "execution_count": 9,
   "metadata": {},
   "outputs": [],
   "source": [
    "property_price_df = pd.read_json('data/property_price.json')\n"
   ]
  },
  {
   "cell_type": "code",
   "execution_count": 10,
   "metadata": {},
   "outputs": [],
   "source": [
    "crime_rate_df = pd.read_json(\"data/crime_rates.json\")"
   ]
  },
  {
   "cell_type": "code",
   "execution_count": 14,
   "metadata": {},
   "outputs": [],
   "source": [
    "cost_of_living_df = pd.read_json(\"data/cost_of_living.json\")\n",
    "cost_of_living_index = cost_of_living_df.drop(columns=[\"Cost of Living Details\"])"
   ]
  },
  {
   "cell_type": "code",
   "execution_count": 15,
   "metadata": {},
   "outputs": [
    {
     "data": {
      "text/html": [
       "<div>\n",
       "<style scoped>\n",
       "    .dataframe tbody tr th:only-of-type {\n",
       "        vertical-align: middle;\n",
       "    }\n",
       "\n",
       "    .dataframe tbody tr th {\n",
       "        vertical-align: top;\n",
       "    }\n",
       "\n",
       "    .dataframe thead th {\n",
       "        text-align: right;\n",
       "    }\n",
       "</style>\n",
       "<table border=\"1\" class=\"dataframe\">\n",
       "  <thead>\n",
       "    <tr style=\"text-align: right;\">\n",
       "      <th></th>\n",
       "      <th>Year</th>\n",
       "      <th>City</th>\n",
       "      <th>Cost of Living Index</th>\n",
       "      <th>Rent Index</th>\n",
       "      <th>Cost of Living Plus Rent Index</th>\n",
       "      <th>Groceries Index</th>\n",
       "      <th>Restaurant Index</th>\n",
       "      <th>Local Purchasing Power Index</th>\n",
       "    </tr>\n",
       "  </thead>\n",
       "  <tbody>\n",
       "    <tr>\n",
       "      <th>0</th>\n",
       "      <td>2024</td>\n",
       "      <td>Bern, Switzerland</td>\n",
       "      <td>110.5</td>\n",
       "      <td>42.3</td>\n",
       "      <td>78.2</td>\n",
       "      <td>108.3</td>\n",
       "      <td>96.5</td>\n",
       "      <td>130.7</td>\n",
       "    </tr>\n",
       "    <tr>\n",
       "      <th>1</th>\n",
       "      <td>2024</td>\n",
       "      <td>San Jose, CA, United States</td>\n",
       "      <td>90.5</td>\n",
       "      <td>72.2</td>\n",
       "      <td>81.8</td>\n",
       "      <td>90.4</td>\n",
       "      <td>83.5</td>\n",
       "      <td>139.7</td>\n",
       "    </tr>\n",
       "    <tr>\n",
       "      <th>2</th>\n",
       "      <td>2024</td>\n",
       "      <td>New York, NY, United States</td>\n",
       "      <td>100.0</td>\n",
       "      <td>100.0</td>\n",
       "      <td>100.0</td>\n",
       "      <td>100.0</td>\n",
       "      <td>100.0</td>\n",
       "      <td>100.0</td>\n",
       "    </tr>\n",
       "    <tr>\n",
       "      <th>3</th>\n",
       "      <td>2024</td>\n",
       "      <td>Geneva, Switzerland</td>\n",
       "      <td>109.8</td>\n",
       "      <td>66.8</td>\n",
       "      <td>89.4</td>\n",
       "      <td>114.0</td>\n",
       "      <td>107.3</td>\n",
       "      <td>112.2</td>\n",
       "    </tr>\n",
       "    <tr>\n",
       "      <th>4</th>\n",
       "      <td>2024</td>\n",
       "      <td>Lausanne, Switzerland</td>\n",
       "      <td>117.7</td>\n",
       "      <td>46.4</td>\n",
       "      <td>83.9</td>\n",
       "      <td>123.3</td>\n",
       "      <td>106.2</td>\n",
       "      <td>106.7</td>\n",
       "    </tr>\n",
       "  </tbody>\n",
       "</table>\n",
       "</div>"
      ],
      "text/plain": [
       "   Year                         City  Cost of Living Index  Rent Index  \\\n",
       "0  2024            Bern, Switzerland                 110.5        42.3   \n",
       "1  2024  San Jose, CA, United States                  90.5        72.2   \n",
       "2  2024  New York, NY, United States                 100.0       100.0   \n",
       "3  2024          Geneva, Switzerland                 109.8        66.8   \n",
       "4  2024        Lausanne, Switzerland                 117.7        46.4   \n",
       "\n",
       "   Cost of Living Plus Rent Index  Groceries Index  Restaurant Index  \\\n",
       "0                            78.2            108.3              96.5   \n",
       "1                            81.8             90.4              83.5   \n",
       "2                           100.0            100.0             100.0   \n",
       "3                            89.4            114.0             107.3   \n",
       "4                            83.9            123.3             106.2   \n",
       "\n",
       "   Local Purchasing Power Index  \n",
       "0                         130.7  \n",
       "1                         139.7  \n",
       "2                         100.0  \n",
       "3                         112.2  \n",
       "4                         106.7  "
      ]
     },
     "execution_count": 15,
     "metadata": {},
     "output_type": "execute_result"
    }
   ],
   "source": [
    "cost_of_living_index.head()"
   ]
  },
  {
   "cell_type": "code",
   "execution_count": 16,
   "metadata": {},
   "outputs": [],
   "source": [
    "merged_df = pd.merge(property_price_df, crime_rate_df, on=['City', 'Year'], how='left')\n",
    "merged_df = pd.merge(merged_df, cost_of_living_index, on=[\"City\", \"Year\"], how=\"left\")"
   ]
  },
  {
   "cell_type": "code",
   "execution_count": 17,
   "metadata": {},
   "outputs": [],
   "source": [
    "united_states_canada_only = merged_df[merged_df[\"City\"].str.contains(\"United States\") | merged_df[\"City\"].str.contains(\"Canada\")]"
   ]
  },
  {
   "cell_type": "code",
   "execution_count": 18,
   "metadata": {},
   "outputs": [],
   "source": [
    "yearly_property_price_df = {}\n",
    "\n",
    "for year in united_states_canada_only[\"Year\"].unique():\n",
    "    yearly_property_price_df[year] = (\n",
    "        united_states_canada_only[united_states_canada_only[\"Year\"] == year]\n",
    "        .sort_values(by=\"Price to Income Ratio\", ascending=True)\n",
    "        .reset_index(drop=True)\n",
    "    )"
   ]
  },
  {
   "cell_type": "code",
   "execution_count": 19,
   "metadata": {},
   "outputs": [
    {
     "data": {
      "text/html": [
       "<div>\n",
       "<style scoped>\n",
       "    .dataframe tbody tr th:only-of-type {\n",
       "        vertical-align: middle;\n",
       "    }\n",
       "\n",
       "    .dataframe tbody tr th {\n",
       "        vertical-align: top;\n",
       "    }\n",
       "\n",
       "    .dataframe thead th {\n",
       "        text-align: right;\n",
       "    }\n",
       "</style>\n",
       "<table border=\"1\" class=\"dataframe\">\n",
       "  <thead>\n",
       "    <tr style=\"text-align: right;\">\n",
       "      <th></th>\n",
       "      <th>Year</th>\n",
       "      <th>City</th>\n",
       "      <th>Price to Income Ratio</th>\n",
       "      <th>Gross Rental Yield City Centre</th>\n",
       "      <th>Gross Rental Yield Outside Centre</th>\n",
       "      <th>Price to Rent Ratio City Centre</th>\n",
       "      <th>Price to Rent Ratio Outside City Centre</th>\n",
       "      <th>Mortgage as a Percentage of Income</th>\n",
       "      <th>Affordability Index</th>\n",
       "      <th>Crime Index</th>\n",
       "      <th>Safety Index</th>\n",
       "      <th>Cost of Living Index</th>\n",
       "      <th>Rent Index</th>\n",
       "      <th>Cost of Living Plus Rent Index</th>\n",
       "      <th>Groceries Index</th>\n",
       "      <th>Restaurant Index</th>\n",
       "      <th>Local Purchasing Power Index</th>\n",
       "    </tr>\n",
       "  </thead>\n",
       "  <tbody>\n",
       "    <tr>\n",
       "      <th>0</th>\n",
       "      <td>2024-mid</td>\n",
       "      <td>Detroit, MI, United States</td>\n",
       "      <td>1.2</td>\n",
       "      <td>32.9</td>\n",
       "      <td>21.8</td>\n",
       "      <td>3.0</td>\n",
       "      <td>4.6</td>\n",
       "      <td>10.9</td>\n",
       "      <td>9.2</td>\n",
       "      <td>74.3</td>\n",
       "      <td>25.7</td>\n",
       "      <td>NaN</td>\n",
       "      <td>NaN</td>\n",
       "      <td>NaN</td>\n",
       "      <td>NaN</td>\n",
       "      <td>NaN</td>\n",
       "      <td>NaN</td>\n",
       "    </tr>\n",
       "    <tr>\n",
       "      <th>1</th>\n",
       "      <td>2024-mid</td>\n",
       "      <td>Rochester, NY, United States</td>\n",
       "      <td>1.8</td>\n",
       "      <td>23.0</td>\n",
       "      <td>20.4</td>\n",
       "      <td>4.3</td>\n",
       "      <td>4.9</td>\n",
       "      <td>16.1</td>\n",
       "      <td>6.2</td>\n",
       "      <td>NaN</td>\n",
       "      <td>NaN</td>\n",
       "      <td>NaN</td>\n",
       "      <td>NaN</td>\n",
       "      <td>NaN</td>\n",
       "      <td>NaN</td>\n",
       "      <td>NaN</td>\n",
       "      <td>NaN</td>\n",
       "    </tr>\n",
       "    <tr>\n",
       "      <th>2</th>\n",
       "      <td>2024-mid</td>\n",
       "      <td>Indianapolis, IN, United States</td>\n",
       "      <td>1.8</td>\n",
       "      <td>16.1</td>\n",
       "      <td>14.8</td>\n",
       "      <td>6.2</td>\n",
       "      <td>6.7</td>\n",
       "      <td>16.6</td>\n",
       "      <td>6.0</td>\n",
       "      <td>60.2</td>\n",
       "      <td>39.8</td>\n",
       "      <td>NaN</td>\n",
       "      <td>NaN</td>\n",
       "      <td>NaN</td>\n",
       "      <td>NaN</td>\n",
       "      <td>NaN</td>\n",
       "      <td>NaN</td>\n",
       "    </tr>\n",
       "    <tr>\n",
       "      <th>3</th>\n",
       "      <td>2024-mid</td>\n",
       "      <td>Memphis, TN, United States</td>\n",
       "      <td>1.9</td>\n",
       "      <td>16.4</td>\n",
       "      <td>15.9</td>\n",
       "      <td>6.1</td>\n",
       "      <td>6.3</td>\n",
       "      <td>17.0</td>\n",
       "      <td>5.9</td>\n",
       "      <td>76.5</td>\n",
       "      <td>23.5</td>\n",
       "      <td>NaN</td>\n",
       "      <td>NaN</td>\n",
       "      <td>NaN</td>\n",
       "      <td>NaN</td>\n",
       "      <td>NaN</td>\n",
       "      <td>NaN</td>\n",
       "    </tr>\n",
       "    <tr>\n",
       "      <th>4</th>\n",
       "      <td>2024-mid</td>\n",
       "      <td>Milwaukee, WI, United States</td>\n",
       "      <td>2.0</td>\n",
       "      <td>20.0</td>\n",
       "      <td>16.8</td>\n",
       "      <td>5.0</td>\n",
       "      <td>6.0</td>\n",
       "      <td>17.8</td>\n",
       "      <td>5.6</td>\n",
       "      <td>67.6</td>\n",
       "      <td>32.4</td>\n",
       "      <td>NaN</td>\n",
       "      <td>NaN</td>\n",
       "      <td>NaN</td>\n",
       "      <td>NaN</td>\n",
       "      <td>NaN</td>\n",
       "      <td>NaN</td>\n",
       "    </tr>\n",
       "    <tr>\n",
       "      <th>5</th>\n",
       "      <td>2024-mid</td>\n",
       "      <td>Omaha, NE, United States</td>\n",
       "      <td>2.2</td>\n",
       "      <td>17.9</td>\n",
       "      <td>13.6</td>\n",
       "      <td>5.6</td>\n",
       "      <td>7.4</td>\n",
       "      <td>20.1</td>\n",
       "      <td>5.0</td>\n",
       "      <td>NaN</td>\n",
       "      <td>NaN</td>\n",
       "      <td>NaN</td>\n",
       "      <td>NaN</td>\n",
       "      <td>NaN</td>\n",
       "      <td>NaN</td>\n",
       "      <td>NaN</td>\n",
       "      <td>NaN</td>\n",
       "    </tr>\n",
       "    <tr>\n",
       "      <th>6</th>\n",
       "      <td>2024-mid</td>\n",
       "      <td>Baltimore, MD, United States</td>\n",
       "      <td>2.3</td>\n",
       "      <td>18.6</td>\n",
       "      <td>16.6</td>\n",
       "      <td>5.4</td>\n",
       "      <td>6.0</td>\n",
       "      <td>21.1</td>\n",
       "      <td>4.7</td>\n",
       "      <td>74.7</td>\n",
       "      <td>25.3</td>\n",
       "      <td>NaN</td>\n",
       "      <td>NaN</td>\n",
       "      <td>NaN</td>\n",
       "      <td>NaN</td>\n",
       "      <td>NaN</td>\n",
       "      <td>NaN</td>\n",
       "    </tr>\n",
       "    <tr>\n",
       "      <th>7</th>\n",
       "      <td>2024-mid</td>\n",
       "      <td>Tulsa, OK, United States</td>\n",
       "      <td>2.3</td>\n",
       "      <td>13.7</td>\n",
       "      <td>11.5</td>\n",
       "      <td>7.3</td>\n",
       "      <td>8.7</td>\n",
       "      <td>20.5</td>\n",
       "      <td>4.9</td>\n",
       "      <td>NaN</td>\n",
       "      <td>NaN</td>\n",
       "      <td>NaN</td>\n",
       "      <td>NaN</td>\n",
       "      <td>NaN</td>\n",
       "      <td>NaN</td>\n",
       "      <td>NaN</td>\n",
       "      <td>NaN</td>\n",
       "    </tr>\n",
       "    <tr>\n",
       "      <th>8</th>\n",
       "      <td>2024-mid</td>\n",
       "      <td>Atlanta, GA, United States</td>\n",
       "      <td>2.4</td>\n",
       "      <td>12.9</td>\n",
       "      <td>12.6</td>\n",
       "      <td>7.7</td>\n",
       "      <td>7.9</td>\n",
       "      <td>22.0</td>\n",
       "      <td>4.6</td>\n",
       "      <td>64.0</td>\n",
       "      <td>36.0</td>\n",
       "      <td>NaN</td>\n",
       "      <td>NaN</td>\n",
       "      <td>NaN</td>\n",
       "      <td>NaN</td>\n",
       "      <td>NaN</td>\n",
       "      <td>NaN</td>\n",
       "    </tr>\n",
       "    <tr>\n",
       "      <th>9</th>\n",
       "      <td>2024-mid</td>\n",
       "      <td>Houston, TX, United States</td>\n",
       "      <td>2.5</td>\n",
       "      <td>12.6</td>\n",
       "      <td>13.7</td>\n",
       "      <td>7.9</td>\n",
       "      <td>7.3</td>\n",
       "      <td>22.1</td>\n",
       "      <td>4.5</td>\n",
       "      <td>63.6</td>\n",
       "      <td>36.4</td>\n",
       "      <td>65.1</td>\n",
       "      <td>39.2</td>\n",
       "      <td>52.7</td>\n",
       "      <td>66.8</td>\n",
       "      <td>60.7</td>\n",
       "      <td>162.9</td>\n",
       "    </tr>\n",
       "    <tr>\n",
       "      <th>10</th>\n",
       "      <td>2024-mid</td>\n",
       "      <td>Albuquerque, NM, United States</td>\n",
       "      <td>2.8</td>\n",
       "      <td>12.7</td>\n",
       "      <td>11.5</td>\n",
       "      <td>7.9</td>\n",
       "      <td>8.7</td>\n",
       "      <td>25.4</td>\n",
       "      <td>3.9</td>\n",
       "      <td>71.7</td>\n",
       "      <td>28.3</td>\n",
       "      <td>NaN</td>\n",
       "      <td>NaN</td>\n",
       "      <td>NaN</td>\n",
       "      <td>NaN</td>\n",
       "      <td>NaN</td>\n",
       "      <td>NaN</td>\n",
       "    </tr>\n",
       "    <tr>\n",
       "      <th>11</th>\n",
       "      <td>2024-mid</td>\n",
       "      <td>Colorado Springs, CO, United States</td>\n",
       "      <td>2.8</td>\n",
       "      <td>13.4</td>\n",
       "      <td>11.6</td>\n",
       "      <td>7.4</td>\n",
       "      <td>8.6</td>\n",
       "      <td>25.0</td>\n",
       "      <td>4.0</td>\n",
       "      <td>NaN</td>\n",
       "      <td>NaN</td>\n",
       "      <td>NaN</td>\n",
       "      <td>NaN</td>\n",
       "      <td>NaN</td>\n",
       "      <td>NaN</td>\n",
       "      <td>NaN</td>\n",
       "      <td>NaN</td>\n",
       "    </tr>\n",
       "    <tr>\n",
       "      <th>12</th>\n",
       "      <td>2024-mid</td>\n",
       "      <td>Kansas City, MO, United States</td>\n",
       "      <td>2.8</td>\n",
       "      <td>10.6</td>\n",
       "      <td>11.8</td>\n",
       "      <td>9.4</td>\n",
       "      <td>8.5</td>\n",
       "      <td>25.3</td>\n",
       "      <td>4.0</td>\n",
       "      <td>NaN</td>\n",
       "      <td>NaN</td>\n",
       "      <td>NaN</td>\n",
       "      <td>NaN</td>\n",
       "      <td>NaN</td>\n",
       "      <td>NaN</td>\n",
       "      <td>NaN</td>\n",
       "      <td>NaN</td>\n",
       "    </tr>\n",
       "    <tr>\n",
       "      <th>13</th>\n",
       "      <td>2024-mid</td>\n",
       "      <td>Anchorage, AK, United States</td>\n",
       "      <td>2.9</td>\n",
       "      <td>10.5</td>\n",
       "      <td>10.0</td>\n",
       "      <td>9.5</td>\n",
       "      <td>10.0</td>\n",
       "      <td>25.9</td>\n",
       "      <td>3.9</td>\n",
       "      <td>NaN</td>\n",
       "      <td>NaN</td>\n",
       "      <td>NaN</td>\n",
       "      <td>NaN</td>\n",
       "      <td>NaN</td>\n",
       "      <td>NaN</td>\n",
       "      <td>NaN</td>\n",
       "      <td>NaN</td>\n",
       "    </tr>\n",
       "    <tr>\n",
       "      <th>14</th>\n",
       "      <td>2024-mid</td>\n",
       "      <td>Spokane, WA, United States</td>\n",
       "      <td>3.0</td>\n",
       "      <td>12.5</td>\n",
       "      <td>11.8</td>\n",
       "      <td>8.0</td>\n",
       "      <td>8.5</td>\n",
       "      <td>27.3</td>\n",
       "      <td>3.7</td>\n",
       "      <td>NaN</td>\n",
       "      <td>NaN</td>\n",
       "      <td>NaN</td>\n",
       "      <td>NaN</td>\n",
       "      <td>NaN</td>\n",
       "      <td>NaN</td>\n",
       "      <td>NaN</td>\n",
       "      <td>NaN</td>\n",
       "    </tr>\n",
       "    <tr>\n",
       "      <th>15</th>\n",
       "      <td>2024-mid</td>\n",
       "      <td>Madison, WI, United States</td>\n",
       "      <td>3.3</td>\n",
       "      <td>11.2</td>\n",
       "      <td>11.3</td>\n",
       "      <td>9.0</td>\n",
       "      <td>8.9</td>\n",
       "      <td>29.6</td>\n",
       "      <td>3.4</td>\n",
       "      <td>NaN</td>\n",
       "      <td>NaN</td>\n",
       "      <td>NaN</td>\n",
       "      <td>NaN</td>\n",
       "      <td>NaN</td>\n",
       "      <td>NaN</td>\n",
       "      <td>NaN</td>\n",
       "      <td>NaN</td>\n",
       "    </tr>\n",
       "    <tr>\n",
       "      <th>16</th>\n",
       "      <td>2024-mid</td>\n",
       "      <td>Austin, TX, United States</td>\n",
       "      <td>3.3</td>\n",
       "      <td>11.0</td>\n",
       "      <td>12.2</td>\n",
       "      <td>9.1</td>\n",
       "      <td>8.2</td>\n",
       "      <td>29.9</td>\n",
       "      <td>3.4</td>\n",
       "      <td>41.2</td>\n",
       "      <td>58.8</td>\n",
       "      <td>66.8</td>\n",
       "      <td>53.9</td>\n",
       "      <td>60.6</td>\n",
       "      <td>69.7</td>\n",
       "      <td>66.3</td>\n",
       "      <td>166.0</td>\n",
       "    </tr>\n",
       "    <tr>\n",
       "      <th>17</th>\n",
       "      <td>2024-mid</td>\n",
       "      <td>New Orleans, LA, United States</td>\n",
       "      <td>3.3</td>\n",
       "      <td>13.6</td>\n",
       "      <td>11.0</td>\n",
       "      <td>7.4</td>\n",
       "      <td>9.1</td>\n",
       "      <td>29.8</td>\n",
       "      <td>3.4</td>\n",
       "      <td>67.4</td>\n",
       "      <td>32.6</td>\n",
       "      <td>NaN</td>\n",
       "      <td>NaN</td>\n",
       "      <td>NaN</td>\n",
       "      <td>NaN</td>\n",
       "      <td>NaN</td>\n",
       "      <td>NaN</td>\n",
       "    </tr>\n",
       "    <tr>\n",
       "      <th>18</th>\n",
       "      <td>2024-mid</td>\n",
       "      <td>Las Vegas, NV, United States</td>\n",
       "      <td>3.3</td>\n",
       "      <td>10.6</td>\n",
       "      <td>10.7</td>\n",
       "      <td>9.4</td>\n",
       "      <td>9.4</td>\n",
       "      <td>30.2</td>\n",
       "      <td>3.3</td>\n",
       "      <td>55.5</td>\n",
       "      <td>44.5</td>\n",
       "      <td>68.5</td>\n",
       "      <td>37.8</td>\n",
       "      <td>53.7</td>\n",
       "      <td>69.1</td>\n",
       "      <td>68.1</td>\n",
       "      <td>142.4</td>\n",
       "    </tr>\n",
       "    <tr>\n",
       "      <th>19</th>\n",
       "      <td>2024-mid</td>\n",
       "      <td>Tucson, AZ, United States</td>\n",
       "      <td>3.4</td>\n",
       "      <td>11.0</td>\n",
       "      <td>10.0</td>\n",
       "      <td>9.1</td>\n",
       "      <td>10.0</td>\n",
       "      <td>30.7</td>\n",
       "      <td>3.3</td>\n",
       "      <td>NaN</td>\n",
       "      <td>NaN</td>\n",
       "      <td>NaN</td>\n",
       "      <td>NaN</td>\n",
       "      <td>NaN</td>\n",
       "      <td>NaN</td>\n",
       "      <td>NaN</td>\n",
       "      <td>NaN</td>\n",
       "    </tr>\n",
       "  </tbody>\n",
       "</table>\n",
       "</div>"
      ],
      "text/plain": [
       "        Year                                 City  Price to Income Ratio  \\\n",
       "0   2024-mid           Detroit, MI, United States                    1.2   \n",
       "1   2024-mid         Rochester, NY, United States                    1.8   \n",
       "2   2024-mid      Indianapolis, IN, United States                    1.8   \n",
       "3   2024-mid           Memphis, TN, United States                    1.9   \n",
       "4   2024-mid         Milwaukee, WI, United States                    2.0   \n",
       "5   2024-mid             Omaha, NE, United States                    2.2   \n",
       "6   2024-mid         Baltimore, MD, United States                    2.3   \n",
       "7   2024-mid             Tulsa, OK, United States                    2.3   \n",
       "8   2024-mid           Atlanta, GA, United States                    2.4   \n",
       "9   2024-mid           Houston, TX, United States                    2.5   \n",
       "10  2024-mid       Albuquerque, NM, United States                    2.8   \n",
       "11  2024-mid  Colorado Springs, CO, United States                    2.8   \n",
       "12  2024-mid       Kansas City, MO, United States                    2.8   \n",
       "13  2024-mid         Anchorage, AK, United States                    2.9   \n",
       "14  2024-mid           Spokane, WA, United States                    3.0   \n",
       "15  2024-mid           Madison, WI, United States                    3.3   \n",
       "16  2024-mid            Austin, TX, United States                    3.3   \n",
       "17  2024-mid       New Orleans, LA, United States                    3.3   \n",
       "18  2024-mid         Las Vegas, NV, United States                    3.3   \n",
       "19  2024-mid            Tucson, AZ, United States                    3.4   \n",
       "\n",
       "    Gross Rental Yield City Centre  Gross Rental Yield Outside Centre  \\\n",
       "0                             32.9                               21.8   \n",
       "1                             23.0                               20.4   \n",
       "2                             16.1                               14.8   \n",
       "3                             16.4                               15.9   \n",
       "4                             20.0                               16.8   \n",
       "5                             17.9                               13.6   \n",
       "6                             18.6                               16.6   \n",
       "7                             13.7                               11.5   \n",
       "8                             12.9                               12.6   \n",
       "9                             12.6                               13.7   \n",
       "10                            12.7                               11.5   \n",
       "11                            13.4                               11.6   \n",
       "12                            10.6                               11.8   \n",
       "13                            10.5                               10.0   \n",
       "14                            12.5                               11.8   \n",
       "15                            11.2                               11.3   \n",
       "16                            11.0                               12.2   \n",
       "17                            13.6                               11.0   \n",
       "18                            10.6                               10.7   \n",
       "19                            11.0                               10.0   \n",
       "\n",
       "    Price to Rent Ratio City Centre  Price to Rent Ratio Outside City Centre  \\\n",
       "0                               3.0                                      4.6   \n",
       "1                               4.3                                      4.9   \n",
       "2                               6.2                                      6.7   \n",
       "3                               6.1                                      6.3   \n",
       "4                               5.0                                      6.0   \n",
       "5                               5.6                                      7.4   \n",
       "6                               5.4                                      6.0   \n",
       "7                               7.3                                      8.7   \n",
       "8                               7.7                                      7.9   \n",
       "9                               7.9                                      7.3   \n",
       "10                              7.9                                      8.7   \n",
       "11                              7.4                                      8.6   \n",
       "12                              9.4                                      8.5   \n",
       "13                              9.5                                     10.0   \n",
       "14                              8.0                                      8.5   \n",
       "15                              9.0                                      8.9   \n",
       "16                              9.1                                      8.2   \n",
       "17                              7.4                                      9.1   \n",
       "18                              9.4                                      9.4   \n",
       "19                              9.1                                     10.0   \n",
       "\n",
       "   Mortgage as a Percentage of Income Affordability Index  Crime Index  \\\n",
       "0                                10.9                 9.2         74.3   \n",
       "1                                16.1                 6.2          NaN   \n",
       "2                                16.6                 6.0         60.2   \n",
       "3                                17.0                 5.9         76.5   \n",
       "4                                17.8                 5.6         67.6   \n",
       "5                                20.1                 5.0          NaN   \n",
       "6                                21.1                 4.7         74.7   \n",
       "7                                20.5                 4.9          NaN   \n",
       "8                                22.0                 4.6         64.0   \n",
       "9                                22.1                 4.5         63.6   \n",
       "10                               25.4                 3.9         71.7   \n",
       "11                               25.0                 4.0          NaN   \n",
       "12                               25.3                 4.0          NaN   \n",
       "13                               25.9                 3.9          NaN   \n",
       "14                               27.3                 3.7          NaN   \n",
       "15                               29.6                 3.4          NaN   \n",
       "16                               29.9                 3.4         41.2   \n",
       "17                               29.8                 3.4         67.4   \n",
       "18                               30.2                 3.3         55.5   \n",
       "19                               30.7                 3.3          NaN   \n",
       "\n",
       "    Safety Index  Cost of Living Index  Rent Index  \\\n",
       "0           25.7                   NaN         NaN   \n",
       "1            NaN                   NaN         NaN   \n",
       "2           39.8                   NaN         NaN   \n",
       "3           23.5                   NaN         NaN   \n",
       "4           32.4                   NaN         NaN   \n",
       "5            NaN                   NaN         NaN   \n",
       "6           25.3                   NaN         NaN   \n",
       "7            NaN                   NaN         NaN   \n",
       "8           36.0                   NaN         NaN   \n",
       "9           36.4                  65.1        39.2   \n",
       "10          28.3                   NaN         NaN   \n",
       "11           NaN                   NaN         NaN   \n",
       "12           NaN                   NaN         NaN   \n",
       "13           NaN                   NaN         NaN   \n",
       "14           NaN                   NaN         NaN   \n",
       "15           NaN                   NaN         NaN   \n",
       "16          58.8                  66.8        53.9   \n",
       "17          32.6                   NaN         NaN   \n",
       "18          44.5                  68.5        37.8   \n",
       "19           NaN                   NaN         NaN   \n",
       "\n",
       "    Cost of Living Plus Rent Index  Groceries Index  Restaurant Index  \\\n",
       "0                              NaN              NaN               NaN   \n",
       "1                              NaN              NaN               NaN   \n",
       "2                              NaN              NaN               NaN   \n",
       "3                              NaN              NaN               NaN   \n",
       "4                              NaN              NaN               NaN   \n",
       "5                              NaN              NaN               NaN   \n",
       "6                              NaN              NaN               NaN   \n",
       "7                              NaN              NaN               NaN   \n",
       "8                              NaN              NaN               NaN   \n",
       "9                             52.7             66.8              60.7   \n",
       "10                             NaN              NaN               NaN   \n",
       "11                             NaN              NaN               NaN   \n",
       "12                             NaN              NaN               NaN   \n",
       "13                             NaN              NaN               NaN   \n",
       "14                             NaN              NaN               NaN   \n",
       "15                             NaN              NaN               NaN   \n",
       "16                            60.6             69.7              66.3   \n",
       "17                             NaN              NaN               NaN   \n",
       "18                            53.7             69.1              68.1   \n",
       "19                             NaN              NaN               NaN   \n",
       "\n",
       "    Local Purchasing Power Index  \n",
       "0                            NaN  \n",
       "1                            NaN  \n",
       "2                            NaN  \n",
       "3                            NaN  \n",
       "4                            NaN  \n",
       "5                            NaN  \n",
       "6                            NaN  \n",
       "7                            NaN  \n",
       "8                            NaN  \n",
       "9                          162.9  \n",
       "10                           NaN  \n",
       "11                           NaN  \n",
       "12                           NaN  \n",
       "13                           NaN  \n",
       "14                           NaN  \n",
       "15                           NaN  \n",
       "16                         166.0  \n",
       "17                           NaN  \n",
       "18                         142.4  \n",
       "19                           NaN  "
      ]
     },
     "execution_count": 19,
     "metadata": {},
     "output_type": "execute_result"
    }
   ],
   "source": [
    "yearly_property_price_df[\"2024-mid\"].head(20)"
   ]
  },
  {
   "cell_type": "markdown",
   "metadata": {},
   "source": [
    "# Plot the data into a graph"
   ]
  },
  {
   "cell_type": "code",
   "execution_count": 20,
   "metadata": {},
   "outputs": [],
   "source": [
    "def plot_graph(df, city):\n",
    "    fig = make_subplots(rows=4, cols=4, start_cell=\"top-left\", subplot_titles=df.columns[1:])\n",
    "    fig.update_layout(title=city, height=1500, width= 1500)\n",
    "    curr_row = 1\n",
    "    curr_col = 1\n",
    "    for col in df.columns[1:]:\n",
    "        fig.add_trace(\n",
    "            go.Scatter(x=df[\"Year\"], y=df[col], mode=\"lines+markers\", name=col),\n",
    "            row=curr_row,\n",
    "            col=curr_col,\n",
    "        )\n",
    "        fig.update_xaxes(title_text=\"Year\", row=curr_row, col=curr_col)\n",
    "        fig.update_yaxes(title_text=col, row=curr_row, col=curr_col)\n",
    "        curr_col += 1\n",
    "        if curr_col == 5:\n",
    "            curr_row += 1\n",
    "            curr_col = 1\n",
    "            \n",
    "    fig.show()\n",
    "    pio.write_image(fig, f\"plots/{city}.png\")"
   ]
  },
  {
   "cell_type": "code",
   "execution_count": 25,
   "metadata": {},
   "outputs": [],
   "source": [
    "import plotly.express as px\n",
    "import plotly.io as pio\n",
    "import plotly.graph_objects as go\n",
    "from plotly.subplots import make_subplots\n",
    "\n",
    "cities = yearly_property_price_df[\"2024-mid\"].head(10)['City'].tolist() + ['Toronto, Canada', \"New York, NY, United States\", \"Vancouver, Canada\"]"
   ]
  },
  {
   "cell_type": "code",
   "execution_count": 26,
   "metadata": {},
   "outputs": [
    {
     "data": {
      "application/vnd.plotly.v1+json": {
       "config": {
        "plotlyServerURL": "https://plot.ly"
       },
       "data": [
        {
         "mode": "lines+markers",
         "name": "Price to Income Ratio",
         "type": "scatter",
         "x": [
          "2011",
          "2012",
          "2013",
          "2014",
          "2014-mid",
          "2015",
          "2015-mid",
          "2016",
          "2017",
          "2017-mid",
          "2018",
          "2018-mid",
          "2019",
          "2019-mid",
          "2020",
          "2020-mid",
          "2021",
          "2021-mid",
          "2022",
          "2024-mid"
         ],
         "xaxis": "x",
         "y": [
          2.6,
          3,
          1.9,
          1.2,
          1.3,
          1.4,
          1.9,
          1.3,
          1.2,
          1,
          1,
          1.6,
          1.7,
          1.5,
          1.7,
          1.5,
          1.6,
          1.3,
          1.4,
          1.2
         ],
         "yaxis": "y"
        },
        {
         "mode": "lines+markers",
         "name": "Gross Rental Yield City Centre",
         "type": "scatter",
         "x": [
          "2011",
          "2012",
          "2013",
          "2014",
          "2014-mid",
          "2015",
          "2015-mid",
          "2016",
          "2017",
          "2017-mid",
          "2018",
          "2018-mid",
          "2019",
          "2019-mid",
          "2020",
          "2020-mid",
          "2021",
          "2021-mid",
          "2022",
          "2024-mid"
         ],
         "xaxis": "x2",
         "y": [
          12,
          11.6,
          10.4,
          19.1,
          19.2,
          22.6,
          20.6,
          20.5,
          27.4,
          32.9,
          40.8,
          35.6,
          36.6,
          42.7,
          42.6,
          39.8,
          29.7,
          22.7,
          19.3,
          32.9
         ],
         "yaxis": "y2"
        },
        {
         "mode": "lines+markers",
         "name": "Gross Rental Yield Outside Centre",
         "type": "scatter",
         "x": [
          "2011",
          "2012",
          "2013",
          "2014",
          "2014-mid",
          "2015",
          "2015-mid",
          "2016",
          "2017",
          "2017-mid",
          "2018",
          "2018-mid",
          "2019",
          "2019-mid",
          "2020",
          "2020-mid",
          "2021",
          "2021-mid",
          "2022",
          "2024-mid"
         ],
         "xaxis": "x3",
         "y": [
          14.5,
          10.6,
          12.9,
          17.4,
          17.7,
          18.3,
          13.7,
          18.3,
          23.4,
          26.9,
          27.5,
          24.7,
          20.3,
          25.6,
          22.7,
          26.4,
          43.2,
          30.5,
          31.3,
          21.8
         ],
         "yaxis": "y3"
        },
        {
         "mode": "lines+markers",
         "name": "Price to Rent Ratio City Centre",
         "type": "scatter",
         "x": [
          "2011",
          "2012",
          "2013",
          "2014",
          "2014-mid",
          "2015",
          "2015-mid",
          "2016",
          "2017",
          "2017-mid",
          "2018",
          "2018-mid",
          "2019",
          "2019-mid",
          "2020",
          "2020-mid",
          "2021",
          "2021-mid",
          "2022",
          "2024-mid"
         ],
         "xaxis": "x4",
         "y": [
          8.4,
          8.6,
          9.7,
          5.2,
          5.2,
          4.4,
          4.9,
          4.9,
          3.7,
          3,
          2.4,
          2.8,
          2.7,
          2.3,
          2.3,
          2.5,
          3.4,
          4.4,
          5.2,
          3
         ],
         "yaxis": "y4"
        },
        {
         "mode": "lines+markers",
         "name": "Price to Rent Ratio Outside City Centre",
         "type": "scatter",
         "x": [
          "2011",
          "2012",
          "2013",
          "2014",
          "2014-mid",
          "2015",
          "2015-mid",
          "2016",
          "2017",
          "2017-mid",
          "2018",
          "2018-mid",
          "2019",
          "2019-mid",
          "2020",
          "2020-mid",
          "2021",
          "2021-mid",
          "2022",
          "2024-mid"
         ],
         "xaxis": "x5",
         "y": [
          6.9,
          9.5,
          7.8,
          5.7,
          5.6,
          5.5,
          7.3,
          5.5,
          4.3,
          3.7,
          3.6,
          4,
          4.9,
          3.9,
          4.4,
          3.8,
          2.3,
          3.3,
          3.2,
          4.6
         ],
         "yaxis": "y5"
        },
        {
         "mode": "lines+markers",
         "name": "Mortgage as a Percentage of Income",
         "type": "scatter",
         "x": [
          "2011",
          "2012",
          "2013",
          "2014",
          "2014-mid",
          "2015",
          "2015-mid",
          "2016",
          "2017",
          "2017-mid",
          "2018",
          "2018-mid",
          "2019",
          "2019-mid",
          "2020",
          "2020-mid",
          "2021",
          "2021-mid",
          "2022",
          "2024-mid"
         ],
         "xaxis": "x6",
         "y": [
          "23.1",
          "25.2",
          "14.4",
          "9.5",
          "10.1",
          "10.4",
          "13.9",
          "9.5",
          "8.9",
          "7.5",
          "7.5",
          "12.0",
          "12.7",
          "11.4",
          "12.6",
          "11.3",
          "11.3",
          "9.2",
          "9.6",
          "10.9"
         ],
         "yaxis": "y6"
        },
        {
         "mode": "lines+markers",
         "name": "Affordability Index",
         "type": "scatter",
         "x": [
          "2011",
          "2012",
          "2013",
          "2014",
          "2014-mid",
          "2015",
          "2015-mid",
          "2016",
          "2017",
          "2017-mid",
          "2018",
          "2018-mid",
          "2019",
          "2019-mid",
          "2020",
          "2020-mid",
          "2021",
          "2021-mid",
          "2022",
          "2024-mid"
         ],
         "xaxis": "x7",
         "y": [
          "4.3",
          "4.0",
          "6.9",
          "10.5",
          "9.9",
          "9.6",
          "7.2",
          "10.5",
          "11.2",
          "13.4",
          "13.4",
          "8.4",
          "7.9",
          "8.8",
          "7.9",
          "8.8",
          "8.9",
          "10.9",
          "10.4",
          "9.2"
         ],
         "yaxis": "y7"
        },
        {
         "mode": "lines+markers",
         "name": "Crime Index",
         "type": "scatter",
         "x": [
          "2011",
          "2012",
          "2013",
          "2014",
          "2014-mid",
          "2015",
          "2015-mid",
          "2016",
          "2017",
          "2017-mid",
          "2018",
          "2018-mid",
          "2019",
          "2019-mid",
          "2020",
          "2020-mid",
          "2021",
          "2021-mid",
          "2022",
          "2024-mid"
         ],
         "xaxis": "x8",
         "y": [
          null,
          null,
          null,
          77.7,
          75.7,
          74.6,
          76.5,
          76.2,
          72.1,
          72.4,
          71.4,
          71.2,
          71.8,
          71.9,
          72.6,
          73.8,
          73.5,
          73.6,
          74.8,
          74.3
         ],
         "yaxis": "y8"
        },
        {
         "mode": "lines+markers",
         "name": "Safety Index",
         "type": "scatter",
         "x": [
          "2011",
          "2012",
          "2013",
          "2014",
          "2014-mid",
          "2015",
          "2015-mid",
          "2016",
          "2017",
          "2017-mid",
          "2018",
          "2018-mid",
          "2019",
          "2019-mid",
          "2020",
          "2020-mid",
          "2021",
          "2021-mid",
          "2022",
          "2024-mid"
         ],
         "xaxis": "x9",
         "y": [
          null,
          null,
          null,
          22.3,
          24.3,
          25.4,
          23.5,
          23.8,
          27.9,
          27.6,
          28.6,
          28.8,
          28.2,
          28.1,
          27.4,
          26.2,
          26.5,
          26.4,
          25.2,
          25.7
         ],
         "yaxis": "y9"
        },
        {
         "mode": "lines+markers",
         "name": "Cost of Living Index",
         "type": "scatter",
         "x": [
          "2011",
          "2012",
          "2013",
          "2014",
          "2014-mid",
          "2015",
          "2015-mid",
          "2016",
          "2017",
          "2017-mid",
          "2018",
          "2018-mid",
          "2019",
          "2019-mid",
          "2020",
          "2020-mid",
          "2021",
          "2021-mid",
          "2022",
          "2024-mid"
         ],
         "xaxis": "x10",
         "y": [
          null,
          null,
          null,
          null,
          null,
          null,
          null,
          null,
          null,
          null,
          null,
          null,
          null,
          null,
          null,
          null,
          null,
          null,
          null,
          null
         ],
         "yaxis": "y10"
        },
        {
         "mode": "lines+markers",
         "name": "Rent Index",
         "type": "scatter",
         "x": [
          "2011",
          "2012",
          "2013",
          "2014",
          "2014-mid",
          "2015",
          "2015-mid",
          "2016",
          "2017",
          "2017-mid",
          "2018",
          "2018-mid",
          "2019",
          "2019-mid",
          "2020",
          "2020-mid",
          "2021",
          "2021-mid",
          "2022",
          "2024-mid"
         ],
         "xaxis": "x11",
         "y": [
          null,
          null,
          null,
          null,
          null,
          null,
          null,
          null,
          null,
          null,
          null,
          null,
          null,
          null,
          null,
          null,
          null,
          null,
          null,
          null
         ],
         "yaxis": "y11"
        },
        {
         "mode": "lines+markers",
         "name": "Cost of Living Plus Rent Index",
         "type": "scatter",
         "x": [
          "2011",
          "2012",
          "2013",
          "2014",
          "2014-mid",
          "2015",
          "2015-mid",
          "2016",
          "2017",
          "2017-mid",
          "2018",
          "2018-mid",
          "2019",
          "2019-mid",
          "2020",
          "2020-mid",
          "2021",
          "2021-mid",
          "2022",
          "2024-mid"
         ],
         "xaxis": "x12",
         "y": [
          null,
          null,
          null,
          null,
          null,
          null,
          null,
          null,
          null,
          null,
          null,
          null,
          null,
          null,
          null,
          null,
          null,
          null,
          null,
          null
         ],
         "yaxis": "y12"
        },
        {
         "mode": "lines+markers",
         "name": "Groceries Index",
         "type": "scatter",
         "x": [
          "2011",
          "2012",
          "2013",
          "2014",
          "2014-mid",
          "2015",
          "2015-mid",
          "2016",
          "2017",
          "2017-mid",
          "2018",
          "2018-mid",
          "2019",
          "2019-mid",
          "2020",
          "2020-mid",
          "2021",
          "2021-mid",
          "2022",
          "2024-mid"
         ],
         "xaxis": "x13",
         "y": [
          null,
          null,
          null,
          null,
          null,
          null,
          null,
          null,
          null,
          null,
          null,
          null,
          null,
          null,
          null,
          null,
          null,
          null,
          null,
          null
         ],
         "yaxis": "y13"
        },
        {
         "mode": "lines+markers",
         "name": "Restaurant Index",
         "type": "scatter",
         "x": [
          "2011",
          "2012",
          "2013",
          "2014",
          "2014-mid",
          "2015",
          "2015-mid",
          "2016",
          "2017",
          "2017-mid",
          "2018",
          "2018-mid",
          "2019",
          "2019-mid",
          "2020",
          "2020-mid",
          "2021",
          "2021-mid",
          "2022",
          "2024-mid"
         ],
         "xaxis": "x14",
         "y": [
          null,
          null,
          null,
          null,
          null,
          null,
          null,
          null,
          null,
          null,
          null,
          null,
          null,
          null,
          null,
          null,
          null,
          null,
          null,
          null
         ],
         "yaxis": "y14"
        },
        {
         "mode": "lines+markers",
         "name": "Local Purchasing Power Index",
         "type": "scatter",
         "x": [
          "2011",
          "2012",
          "2013",
          "2014",
          "2014-mid",
          "2015",
          "2015-mid",
          "2016",
          "2017",
          "2017-mid",
          "2018",
          "2018-mid",
          "2019",
          "2019-mid",
          "2020",
          "2020-mid",
          "2021",
          "2021-mid",
          "2022",
          "2024-mid"
         ],
         "xaxis": "x15",
         "y": [
          null,
          null,
          null,
          null,
          null,
          null,
          null,
          null,
          null,
          null,
          null,
          null,
          null,
          null,
          null,
          null,
          null,
          null,
          null,
          null
         ],
         "yaxis": "y15"
        }
       ],
       "layout": {
        "annotations": [
         {
          "font": {
           "size": 16
          },
          "showarrow": false,
          "text": "Price to Income Ratio",
          "x": 0.10625,
          "xanchor": "center",
          "xref": "paper",
          "y": 1,
          "yanchor": "bottom",
          "yref": "paper"
         },
         {
          "font": {
           "size": 16
          },
          "showarrow": false,
          "text": "Gross Rental Yield City Centre",
          "x": 0.36875,
          "xanchor": "center",
          "xref": "paper",
          "y": 1,
          "yanchor": "bottom",
          "yref": "paper"
         },
         {
          "font": {
           "size": 16
          },
          "showarrow": false,
          "text": "Gross Rental Yield Outside Centre",
          "x": 0.6312500000000001,
          "xanchor": "center",
          "xref": "paper",
          "y": 1,
          "yanchor": "bottom",
          "yref": "paper"
         },
         {
          "font": {
           "size": 16
          },
          "showarrow": false,
          "text": "Price to Rent Ratio City Centre",
          "x": 0.89375,
          "xanchor": "center",
          "xref": "paper",
          "y": 1,
          "yanchor": "bottom",
          "yref": "paper"
         },
         {
          "font": {
           "size": 16
          },
          "showarrow": false,
          "text": "Price to Rent Ratio Outside City Centre",
          "x": 0.10625,
          "xanchor": "center",
          "xref": "paper",
          "y": 0.71875,
          "yanchor": "bottom",
          "yref": "paper"
         },
         {
          "font": {
           "size": 16
          },
          "showarrow": false,
          "text": "Mortgage as a Percentage of Income",
          "x": 0.36875,
          "xanchor": "center",
          "xref": "paper",
          "y": 0.71875,
          "yanchor": "bottom",
          "yref": "paper"
         },
         {
          "font": {
           "size": 16
          },
          "showarrow": false,
          "text": "Affordability Index",
          "x": 0.6312500000000001,
          "xanchor": "center",
          "xref": "paper",
          "y": 0.71875,
          "yanchor": "bottom",
          "yref": "paper"
         },
         {
          "font": {
           "size": 16
          },
          "showarrow": false,
          "text": "Crime Index",
          "x": 0.89375,
          "xanchor": "center",
          "xref": "paper",
          "y": 0.71875,
          "yanchor": "bottom",
          "yref": "paper"
         },
         {
          "font": {
           "size": 16
          },
          "showarrow": false,
          "text": "Safety Index",
          "x": 0.10625,
          "xanchor": "center",
          "xref": "paper",
          "y": 0.4375,
          "yanchor": "bottom",
          "yref": "paper"
         },
         {
          "font": {
           "size": 16
          },
          "showarrow": false,
          "text": "Cost of Living Index",
          "x": 0.36875,
          "xanchor": "center",
          "xref": "paper",
          "y": 0.4375,
          "yanchor": "bottom",
          "yref": "paper"
         },
         {
          "font": {
           "size": 16
          },
          "showarrow": false,
          "text": "Rent Index",
          "x": 0.6312500000000001,
          "xanchor": "center",
          "xref": "paper",
          "y": 0.4375,
          "yanchor": "bottom",
          "yref": "paper"
         },
         {
          "font": {
           "size": 16
          },
          "showarrow": false,
          "text": "Cost of Living Plus Rent Index",
          "x": 0.89375,
          "xanchor": "center",
          "xref": "paper",
          "y": 0.4375,
          "yanchor": "bottom",
          "yref": "paper"
         },
         {
          "font": {
           "size": 16
          },
          "showarrow": false,
          "text": "Groceries Index",
          "x": 0.10625,
          "xanchor": "center",
          "xref": "paper",
          "y": 0.15625,
          "yanchor": "bottom",
          "yref": "paper"
         },
         {
          "font": {
           "size": 16
          },
          "showarrow": false,
          "text": "Restaurant Index",
          "x": 0.36875,
          "xanchor": "center",
          "xref": "paper",
          "y": 0.15625,
          "yanchor": "bottom",
          "yref": "paper"
         },
         {
          "font": {
           "size": 16
          },
          "showarrow": false,
          "text": "Local Purchasing Power Index",
          "x": 0.6312500000000001,
          "xanchor": "center",
          "xref": "paper",
          "y": 0.15625,
          "yanchor": "bottom",
          "yref": "paper"
         }
        ],
        "height": 1500,
        "template": {
         "data": {
          "bar": [
           {
            "error_x": {
             "color": "#2a3f5f"
            },
            "error_y": {
             "color": "#2a3f5f"
            },
            "marker": {
             "line": {
              "color": "#E5ECF6",
              "width": 0.5
             },
             "pattern": {
              "fillmode": "overlay",
              "size": 10,
              "solidity": 0.2
             }
            },
            "type": "bar"
           }
          ],
          "barpolar": [
           {
            "marker": {
             "line": {
              "color": "#E5ECF6",
              "width": 0.5
             },
             "pattern": {
              "fillmode": "overlay",
              "size": 10,
              "solidity": 0.2
             }
            },
            "type": "barpolar"
           }
          ],
          "carpet": [
           {
            "aaxis": {
             "endlinecolor": "#2a3f5f",
             "gridcolor": "white",
             "linecolor": "white",
             "minorgridcolor": "white",
             "startlinecolor": "#2a3f5f"
            },
            "baxis": {
             "endlinecolor": "#2a3f5f",
             "gridcolor": "white",
             "linecolor": "white",
             "minorgridcolor": "white",
             "startlinecolor": "#2a3f5f"
            },
            "type": "carpet"
           }
          ],
          "choropleth": [
           {
            "colorbar": {
             "outlinewidth": 0,
             "ticks": ""
            },
            "type": "choropleth"
           }
          ],
          "contour": [
           {
            "colorbar": {
             "outlinewidth": 0,
             "ticks": ""
            },
            "colorscale": [
             [
              0,
              "#0d0887"
             ],
             [
              0.1111111111111111,
              "#46039f"
             ],
             [
              0.2222222222222222,
              "#7201a8"
             ],
             [
              0.3333333333333333,
              "#9c179e"
             ],
             [
              0.4444444444444444,
              "#bd3786"
             ],
             [
              0.5555555555555556,
              "#d8576b"
             ],
             [
              0.6666666666666666,
              "#ed7953"
             ],
             [
              0.7777777777777778,
              "#fb9f3a"
             ],
             [
              0.8888888888888888,
              "#fdca26"
             ],
             [
              1,
              "#f0f921"
             ]
            ],
            "type": "contour"
           }
          ],
          "contourcarpet": [
           {
            "colorbar": {
             "outlinewidth": 0,
             "ticks": ""
            },
            "type": "contourcarpet"
           }
          ],
          "heatmap": [
           {
            "colorbar": {
             "outlinewidth": 0,
             "ticks": ""
            },
            "colorscale": [
             [
              0,
              "#0d0887"
             ],
             [
              0.1111111111111111,
              "#46039f"
             ],
             [
              0.2222222222222222,
              "#7201a8"
             ],
             [
              0.3333333333333333,
              "#9c179e"
             ],
             [
              0.4444444444444444,
              "#bd3786"
             ],
             [
              0.5555555555555556,
              "#d8576b"
             ],
             [
              0.6666666666666666,
              "#ed7953"
             ],
             [
              0.7777777777777778,
              "#fb9f3a"
             ],
             [
              0.8888888888888888,
              "#fdca26"
             ],
             [
              1,
              "#f0f921"
             ]
            ],
            "type": "heatmap"
           }
          ],
          "heatmapgl": [
           {
            "colorbar": {
             "outlinewidth": 0,
             "ticks": ""
            },
            "colorscale": [
             [
              0,
              "#0d0887"
             ],
             [
              0.1111111111111111,
              "#46039f"
             ],
             [
              0.2222222222222222,
              "#7201a8"
             ],
             [
              0.3333333333333333,
              "#9c179e"
             ],
             [
              0.4444444444444444,
              "#bd3786"
             ],
             [
              0.5555555555555556,
              "#d8576b"
             ],
             [
              0.6666666666666666,
              "#ed7953"
             ],
             [
              0.7777777777777778,
              "#fb9f3a"
             ],
             [
              0.8888888888888888,
              "#fdca26"
             ],
             [
              1,
              "#f0f921"
             ]
            ],
            "type": "heatmapgl"
           }
          ],
          "histogram": [
           {
            "marker": {
             "pattern": {
              "fillmode": "overlay",
              "size": 10,
              "solidity": 0.2
             }
            },
            "type": "histogram"
           }
          ],
          "histogram2d": [
           {
            "colorbar": {
             "outlinewidth": 0,
             "ticks": ""
            },
            "colorscale": [
             [
              0,
              "#0d0887"
             ],
             [
              0.1111111111111111,
              "#46039f"
             ],
             [
              0.2222222222222222,
              "#7201a8"
             ],
             [
              0.3333333333333333,
              "#9c179e"
             ],
             [
              0.4444444444444444,
              "#bd3786"
             ],
             [
              0.5555555555555556,
              "#d8576b"
             ],
             [
              0.6666666666666666,
              "#ed7953"
             ],
             [
              0.7777777777777778,
              "#fb9f3a"
             ],
             [
              0.8888888888888888,
              "#fdca26"
             ],
             [
              1,
              "#f0f921"
             ]
            ],
            "type": "histogram2d"
           }
          ],
          "histogram2dcontour": [
           {
            "colorbar": {
             "outlinewidth": 0,
             "ticks": ""
            },
            "colorscale": [
             [
              0,
              "#0d0887"
             ],
             [
              0.1111111111111111,
              "#46039f"
             ],
             [
              0.2222222222222222,
              "#7201a8"
             ],
             [
              0.3333333333333333,
              "#9c179e"
             ],
             [
              0.4444444444444444,
              "#bd3786"
             ],
             [
              0.5555555555555556,
              "#d8576b"
             ],
             [
              0.6666666666666666,
              "#ed7953"
             ],
             [
              0.7777777777777778,
              "#fb9f3a"
             ],
             [
              0.8888888888888888,
              "#fdca26"
             ],
             [
              1,
              "#f0f921"
             ]
            ],
            "type": "histogram2dcontour"
           }
          ],
          "mesh3d": [
           {
            "colorbar": {
             "outlinewidth": 0,
             "ticks": ""
            },
            "type": "mesh3d"
           }
          ],
          "parcoords": [
           {
            "line": {
             "colorbar": {
              "outlinewidth": 0,
              "ticks": ""
             }
            },
            "type": "parcoords"
           }
          ],
          "pie": [
           {
            "automargin": true,
            "type": "pie"
           }
          ],
          "scatter": [
           {
            "fillpattern": {
             "fillmode": "overlay",
             "size": 10,
             "solidity": 0.2
            },
            "type": "scatter"
           }
          ],
          "scatter3d": [
           {
            "line": {
             "colorbar": {
              "outlinewidth": 0,
              "ticks": ""
             }
            },
            "marker": {
             "colorbar": {
              "outlinewidth": 0,
              "ticks": ""
             }
            },
            "type": "scatter3d"
           }
          ],
          "scattercarpet": [
           {
            "marker": {
             "colorbar": {
              "outlinewidth": 0,
              "ticks": ""
             }
            },
            "type": "scattercarpet"
           }
          ],
          "scattergeo": [
           {
            "marker": {
             "colorbar": {
              "outlinewidth": 0,
              "ticks": ""
             }
            },
            "type": "scattergeo"
           }
          ],
          "scattergl": [
           {
            "marker": {
             "colorbar": {
              "outlinewidth": 0,
              "ticks": ""
             }
            },
            "type": "scattergl"
           }
          ],
          "scattermapbox": [
           {
            "marker": {
             "colorbar": {
              "outlinewidth": 0,
              "ticks": ""
             }
            },
            "type": "scattermapbox"
           }
          ],
          "scatterpolar": [
           {
            "marker": {
             "colorbar": {
              "outlinewidth": 0,
              "ticks": ""
             }
            },
            "type": "scatterpolar"
           }
          ],
          "scatterpolargl": [
           {
            "marker": {
             "colorbar": {
              "outlinewidth": 0,
              "ticks": ""
             }
            },
            "type": "scatterpolargl"
           }
          ],
          "scatterternary": [
           {
            "marker": {
             "colorbar": {
              "outlinewidth": 0,
              "ticks": ""
             }
            },
            "type": "scatterternary"
           }
          ],
          "surface": [
           {
            "colorbar": {
             "outlinewidth": 0,
             "ticks": ""
            },
            "colorscale": [
             [
              0,
              "#0d0887"
             ],
             [
              0.1111111111111111,
              "#46039f"
             ],
             [
              0.2222222222222222,
              "#7201a8"
             ],
             [
              0.3333333333333333,
              "#9c179e"
             ],
             [
              0.4444444444444444,
              "#bd3786"
             ],
             [
              0.5555555555555556,
              "#d8576b"
             ],
             [
              0.6666666666666666,
              "#ed7953"
             ],
             [
              0.7777777777777778,
              "#fb9f3a"
             ],
             [
              0.8888888888888888,
              "#fdca26"
             ],
             [
              1,
              "#f0f921"
             ]
            ],
            "type": "surface"
           }
          ],
          "table": [
           {
            "cells": {
             "fill": {
              "color": "#EBF0F8"
             },
             "line": {
              "color": "white"
             }
            },
            "header": {
             "fill": {
              "color": "#C8D4E3"
             },
             "line": {
              "color": "white"
             }
            },
            "type": "table"
           }
          ]
         },
         "layout": {
          "annotationdefaults": {
           "arrowcolor": "#2a3f5f",
           "arrowhead": 0,
           "arrowwidth": 1
          },
          "autotypenumbers": "strict",
          "coloraxis": {
           "colorbar": {
            "outlinewidth": 0,
            "ticks": ""
           }
          },
          "colorscale": {
           "diverging": [
            [
             0,
             "#8e0152"
            ],
            [
             0.1,
             "#c51b7d"
            ],
            [
             0.2,
             "#de77ae"
            ],
            [
             0.3,
             "#f1b6da"
            ],
            [
             0.4,
             "#fde0ef"
            ],
            [
             0.5,
             "#f7f7f7"
            ],
            [
             0.6,
             "#e6f5d0"
            ],
            [
             0.7,
             "#b8e186"
            ],
            [
             0.8,
             "#7fbc41"
            ],
            [
             0.9,
             "#4d9221"
            ],
            [
             1,
             "#276419"
            ]
           ],
           "sequential": [
            [
             0,
             "#0d0887"
            ],
            [
             0.1111111111111111,
             "#46039f"
            ],
            [
             0.2222222222222222,
             "#7201a8"
            ],
            [
             0.3333333333333333,
             "#9c179e"
            ],
            [
             0.4444444444444444,
             "#bd3786"
            ],
            [
             0.5555555555555556,
             "#d8576b"
            ],
            [
             0.6666666666666666,
             "#ed7953"
            ],
            [
             0.7777777777777778,
             "#fb9f3a"
            ],
            [
             0.8888888888888888,
             "#fdca26"
            ],
            [
             1,
             "#f0f921"
            ]
           ],
           "sequentialminus": [
            [
             0,
             "#0d0887"
            ],
            [
             0.1111111111111111,
             "#46039f"
            ],
            [
             0.2222222222222222,
             "#7201a8"
            ],
            [
             0.3333333333333333,
             "#9c179e"
            ],
            [
             0.4444444444444444,
             "#bd3786"
            ],
            [
             0.5555555555555556,
             "#d8576b"
            ],
            [
             0.6666666666666666,
             "#ed7953"
            ],
            [
             0.7777777777777778,
             "#fb9f3a"
            ],
            [
             0.8888888888888888,
             "#fdca26"
            ],
            [
             1,
             "#f0f921"
            ]
           ]
          },
          "colorway": [
           "#636efa",
           "#EF553B",
           "#00cc96",
           "#ab63fa",
           "#FFA15A",
           "#19d3f3",
           "#FF6692",
           "#B6E880",
           "#FF97FF",
           "#FECB52"
          ],
          "font": {
           "color": "#2a3f5f"
          },
          "geo": {
           "bgcolor": "white",
           "lakecolor": "white",
           "landcolor": "#E5ECF6",
           "showlakes": true,
           "showland": true,
           "subunitcolor": "white"
          },
          "hoverlabel": {
           "align": "left"
          },
          "hovermode": "closest",
          "mapbox": {
           "style": "light"
          },
          "paper_bgcolor": "white",
          "plot_bgcolor": "#E5ECF6",
          "polar": {
           "angularaxis": {
            "gridcolor": "white",
            "linecolor": "white",
            "ticks": ""
           },
           "bgcolor": "#E5ECF6",
           "radialaxis": {
            "gridcolor": "white",
            "linecolor": "white",
            "ticks": ""
           }
          },
          "scene": {
           "xaxis": {
            "backgroundcolor": "#E5ECF6",
            "gridcolor": "white",
            "gridwidth": 2,
            "linecolor": "white",
            "showbackground": true,
            "ticks": "",
            "zerolinecolor": "white"
           },
           "yaxis": {
            "backgroundcolor": "#E5ECF6",
            "gridcolor": "white",
            "gridwidth": 2,
            "linecolor": "white",
            "showbackground": true,
            "ticks": "",
            "zerolinecolor": "white"
           },
           "zaxis": {
            "backgroundcolor": "#E5ECF6",
            "gridcolor": "white",
            "gridwidth": 2,
            "linecolor": "white",
            "showbackground": true,
            "ticks": "",
            "zerolinecolor": "white"
           }
          },
          "shapedefaults": {
           "line": {
            "color": "#2a3f5f"
           }
          },
          "ternary": {
           "aaxis": {
            "gridcolor": "white",
            "linecolor": "white",
            "ticks": ""
           },
           "baxis": {
            "gridcolor": "white",
            "linecolor": "white",
            "ticks": ""
           },
           "bgcolor": "#E5ECF6",
           "caxis": {
            "gridcolor": "white",
            "linecolor": "white",
            "ticks": ""
           }
          },
          "title": {
           "x": 0.05
          },
          "xaxis": {
           "automargin": true,
           "gridcolor": "white",
           "linecolor": "white",
           "ticks": "",
           "title": {
            "standoff": 15
           },
           "zerolinecolor": "white",
           "zerolinewidth": 2
          },
          "yaxis": {
           "automargin": true,
           "gridcolor": "white",
           "linecolor": "white",
           "ticks": "",
           "title": {
            "standoff": 15
           },
           "zerolinecolor": "white",
           "zerolinewidth": 2
          }
         }
        },
        "title": {
         "text": "Detroit, MI, United States"
        },
        "width": 1500,
        "xaxis": {
         "anchor": "y",
         "domain": [
          0,
          0.2125
         ],
         "title": {
          "text": "Year"
         }
        },
        "xaxis10": {
         "anchor": "y10",
         "domain": [
          0.2625,
          0.475
         ],
         "title": {
          "text": "Year"
         }
        },
        "xaxis11": {
         "anchor": "y11",
         "domain": [
          0.525,
          0.7375
         ],
         "title": {
          "text": "Year"
         }
        },
        "xaxis12": {
         "anchor": "y12",
         "domain": [
          0.7875,
          1
         ],
         "title": {
          "text": "Year"
         }
        },
        "xaxis13": {
         "anchor": "y13",
         "domain": [
          0,
          0.2125
         ],
         "title": {
          "text": "Year"
         }
        },
        "xaxis14": {
         "anchor": "y14",
         "domain": [
          0.2625,
          0.475
         ],
         "title": {
          "text": "Year"
         }
        },
        "xaxis15": {
         "anchor": "y15",
         "domain": [
          0.525,
          0.7375
         ],
         "title": {
          "text": "Year"
         }
        },
        "xaxis16": {
         "anchor": "y16",
         "domain": [
          0.7875,
          1
         ]
        },
        "xaxis2": {
         "anchor": "y2",
         "domain": [
          0.2625,
          0.475
         ],
         "title": {
          "text": "Year"
         }
        },
        "xaxis3": {
         "anchor": "y3",
         "domain": [
          0.525,
          0.7375
         ],
         "title": {
          "text": "Year"
         }
        },
        "xaxis4": {
         "anchor": "y4",
         "domain": [
          0.7875,
          1
         ],
         "title": {
          "text": "Year"
         }
        },
        "xaxis5": {
         "anchor": "y5",
         "domain": [
          0,
          0.2125
         ],
         "title": {
          "text": "Year"
         }
        },
        "xaxis6": {
         "anchor": "y6",
         "domain": [
          0.2625,
          0.475
         ],
         "title": {
          "text": "Year"
         }
        },
        "xaxis7": {
         "anchor": "y7",
         "domain": [
          0.525,
          0.7375
         ],
         "title": {
          "text": "Year"
         }
        },
        "xaxis8": {
         "anchor": "y8",
         "domain": [
          0.7875,
          1
         ],
         "title": {
          "text": "Year"
         }
        },
        "xaxis9": {
         "anchor": "y9",
         "domain": [
          0,
          0.2125
         ],
         "title": {
          "text": "Year"
         }
        },
        "yaxis": {
         "anchor": "x",
         "domain": [
          0.84375,
          1
         ],
         "title": {
          "text": "Price to Income Ratio"
         }
        },
        "yaxis10": {
         "anchor": "x10",
         "domain": [
          0.28125,
          0.4375
         ],
         "title": {
          "text": "Cost of Living Index"
         }
        },
        "yaxis11": {
         "anchor": "x11",
         "domain": [
          0.28125,
          0.4375
         ],
         "title": {
          "text": "Rent Index"
         }
        },
        "yaxis12": {
         "anchor": "x12",
         "domain": [
          0.28125,
          0.4375
         ],
         "title": {
          "text": "Cost of Living Plus Rent Index"
         }
        },
        "yaxis13": {
         "anchor": "x13",
         "domain": [
          0,
          0.15625
         ],
         "title": {
          "text": "Groceries Index"
         }
        },
        "yaxis14": {
         "anchor": "x14",
         "domain": [
          0,
          0.15625
         ],
         "title": {
          "text": "Restaurant Index"
         }
        },
        "yaxis15": {
         "anchor": "x15",
         "domain": [
          0,
          0.15625
         ],
         "title": {
          "text": "Local Purchasing Power Index"
         }
        },
        "yaxis16": {
         "anchor": "x16",
         "domain": [
          0,
          0.15625
         ]
        },
        "yaxis2": {
         "anchor": "x2",
         "domain": [
          0.84375,
          1
         ],
         "title": {
          "text": "Gross Rental Yield City Centre"
         }
        },
        "yaxis3": {
         "anchor": "x3",
         "domain": [
          0.84375,
          1
         ],
         "title": {
          "text": "Gross Rental Yield Outside Centre"
         }
        },
        "yaxis4": {
         "anchor": "x4",
         "domain": [
          0.84375,
          1
         ],
         "title": {
          "text": "Price to Rent Ratio City Centre"
         }
        },
        "yaxis5": {
         "anchor": "x5",
         "domain": [
          0.5625,
          0.71875
         ],
         "title": {
          "text": "Price to Rent Ratio Outside City Centre"
         }
        },
        "yaxis6": {
         "anchor": "x6",
         "domain": [
          0.5625,
          0.71875
         ],
         "title": {
          "text": "Mortgage as a Percentage of Income"
         }
        },
        "yaxis7": {
         "anchor": "x7",
         "domain": [
          0.5625,
          0.71875
         ],
         "title": {
          "text": "Affordability Index"
         }
        },
        "yaxis8": {
         "anchor": "x8",
         "domain": [
          0.5625,
          0.71875
         ],
         "title": {
          "text": "Crime Index"
         }
        },
        "yaxis9": {
         "anchor": "x9",
         "domain": [
          0.28125,
          0.4375
         ],
         "title": {
          "text": "Safety Index"
         }
        }
       }
      },
      "text/html": [
       "<div>                            <div id=\"bd7faeb4-5861-453a-b003-100b089fe1e3\" class=\"plotly-graph-div\" style=\"height:1500px; width:1500px;\"></div>            <script type=\"text/javascript\">                require([\"plotly\"], function(Plotly) {                    window.PLOTLYENV=window.PLOTLYENV || {};                                    if (document.getElementById(\"bd7faeb4-5861-453a-b003-100b089fe1e3\")) {                    Plotly.newPlot(                        \"bd7faeb4-5861-453a-b003-100b089fe1e3\",                        [{\"mode\":\"lines+markers\",\"name\":\"Price to Income Ratio\",\"x\":[\"2011\",\"2012\",\"2013\",\"2014\",\"2014-mid\",\"2015\",\"2015-mid\",\"2016\",\"2017\",\"2017-mid\",\"2018\",\"2018-mid\",\"2019\",\"2019-mid\",\"2020\",\"2020-mid\",\"2021\",\"2021-mid\",\"2022\",\"2024-mid\"],\"y\":[2.6,3.0,1.9,1.2,1.3,1.4,1.9,1.3,1.2,1.0,1.0,1.6,1.7,1.5,1.7,1.5,1.6,1.3,1.4,1.2],\"type\":\"scatter\",\"xaxis\":\"x\",\"yaxis\":\"y\"},{\"mode\":\"lines+markers\",\"name\":\"Gross Rental Yield City Centre\",\"x\":[\"2011\",\"2012\",\"2013\",\"2014\",\"2014-mid\",\"2015\",\"2015-mid\",\"2016\",\"2017\",\"2017-mid\",\"2018\",\"2018-mid\",\"2019\",\"2019-mid\",\"2020\",\"2020-mid\",\"2021\",\"2021-mid\",\"2022\",\"2024-mid\"],\"y\":[12.0,11.6,10.4,19.1,19.2,22.6,20.6,20.5,27.4,32.9,40.8,35.6,36.6,42.7,42.6,39.8,29.7,22.7,19.3,32.9],\"type\":\"scatter\",\"xaxis\":\"x2\",\"yaxis\":\"y2\"},{\"mode\":\"lines+markers\",\"name\":\"Gross Rental Yield Outside Centre\",\"x\":[\"2011\",\"2012\",\"2013\",\"2014\",\"2014-mid\",\"2015\",\"2015-mid\",\"2016\",\"2017\",\"2017-mid\",\"2018\",\"2018-mid\",\"2019\",\"2019-mid\",\"2020\",\"2020-mid\",\"2021\",\"2021-mid\",\"2022\",\"2024-mid\"],\"y\":[14.5,10.6,12.9,17.4,17.7,18.3,13.7,18.3,23.4,26.9,27.5,24.7,20.3,25.6,22.7,26.4,43.2,30.5,31.3,21.8],\"type\":\"scatter\",\"xaxis\":\"x3\",\"yaxis\":\"y3\"},{\"mode\":\"lines+markers\",\"name\":\"Price to Rent Ratio City Centre\",\"x\":[\"2011\",\"2012\",\"2013\",\"2014\",\"2014-mid\",\"2015\",\"2015-mid\",\"2016\",\"2017\",\"2017-mid\",\"2018\",\"2018-mid\",\"2019\",\"2019-mid\",\"2020\",\"2020-mid\",\"2021\",\"2021-mid\",\"2022\",\"2024-mid\"],\"y\":[8.4,8.6,9.7,5.2,5.2,4.4,4.9,4.9,3.7,3.0,2.4,2.8,2.7,2.3,2.3,2.5,3.4,4.4,5.2,3.0],\"type\":\"scatter\",\"xaxis\":\"x4\",\"yaxis\":\"y4\"},{\"mode\":\"lines+markers\",\"name\":\"Price to Rent Ratio Outside City Centre\",\"x\":[\"2011\",\"2012\",\"2013\",\"2014\",\"2014-mid\",\"2015\",\"2015-mid\",\"2016\",\"2017\",\"2017-mid\",\"2018\",\"2018-mid\",\"2019\",\"2019-mid\",\"2020\",\"2020-mid\",\"2021\",\"2021-mid\",\"2022\",\"2024-mid\"],\"y\":[6.9,9.5,7.8,5.7,5.6,5.5,7.3,5.5,4.3,3.7,3.6,4.0,4.9,3.9,4.4,3.8,2.3,3.3,3.2,4.6],\"type\":\"scatter\",\"xaxis\":\"x5\",\"yaxis\":\"y5\"},{\"mode\":\"lines+markers\",\"name\":\"Mortgage as a Percentage of Income\",\"x\":[\"2011\",\"2012\",\"2013\",\"2014\",\"2014-mid\",\"2015\",\"2015-mid\",\"2016\",\"2017\",\"2017-mid\",\"2018\",\"2018-mid\",\"2019\",\"2019-mid\",\"2020\",\"2020-mid\",\"2021\",\"2021-mid\",\"2022\",\"2024-mid\"],\"y\":[\"23.1\",\"25.2\",\"14.4\",\"9.5\",\"10.1\",\"10.4\",\"13.9\",\"9.5\",\"8.9\",\"7.5\",\"7.5\",\"12.0\",\"12.7\",\"11.4\",\"12.6\",\"11.3\",\"11.3\",\"9.2\",\"9.6\",\"10.9\"],\"type\":\"scatter\",\"xaxis\":\"x6\",\"yaxis\":\"y6\"},{\"mode\":\"lines+markers\",\"name\":\"Affordability Index\",\"x\":[\"2011\",\"2012\",\"2013\",\"2014\",\"2014-mid\",\"2015\",\"2015-mid\",\"2016\",\"2017\",\"2017-mid\",\"2018\",\"2018-mid\",\"2019\",\"2019-mid\",\"2020\",\"2020-mid\",\"2021\",\"2021-mid\",\"2022\",\"2024-mid\"],\"y\":[\"4.3\",\"4.0\",\"6.9\",\"10.5\",\"9.9\",\"9.6\",\"7.2\",\"10.5\",\"11.2\",\"13.4\",\"13.4\",\"8.4\",\"7.9\",\"8.8\",\"7.9\",\"8.8\",\"8.9\",\"10.9\",\"10.4\",\"9.2\"],\"type\":\"scatter\",\"xaxis\":\"x7\",\"yaxis\":\"y7\"},{\"mode\":\"lines+markers\",\"name\":\"Crime Index\",\"x\":[\"2011\",\"2012\",\"2013\",\"2014\",\"2014-mid\",\"2015\",\"2015-mid\",\"2016\",\"2017\",\"2017-mid\",\"2018\",\"2018-mid\",\"2019\",\"2019-mid\",\"2020\",\"2020-mid\",\"2021\",\"2021-mid\",\"2022\",\"2024-mid\"],\"y\":[null,null,null,77.7,75.7,74.6,76.5,76.2,72.1,72.4,71.4,71.2,71.8,71.9,72.6,73.8,73.5,73.6,74.8,74.3],\"type\":\"scatter\",\"xaxis\":\"x8\",\"yaxis\":\"y8\"},{\"mode\":\"lines+markers\",\"name\":\"Safety Index\",\"x\":[\"2011\",\"2012\",\"2013\",\"2014\",\"2014-mid\",\"2015\",\"2015-mid\",\"2016\",\"2017\",\"2017-mid\",\"2018\",\"2018-mid\",\"2019\",\"2019-mid\",\"2020\",\"2020-mid\",\"2021\",\"2021-mid\",\"2022\",\"2024-mid\"],\"y\":[null,null,null,22.3,24.3,25.4,23.5,23.8,27.9,27.6,28.6,28.8,28.2,28.1,27.4,26.2,26.5,26.4,25.2,25.7],\"type\":\"scatter\",\"xaxis\":\"x9\",\"yaxis\":\"y9\"},{\"mode\":\"lines+markers\",\"name\":\"Cost of Living Index\",\"x\":[\"2011\",\"2012\",\"2013\",\"2014\",\"2014-mid\",\"2015\",\"2015-mid\",\"2016\",\"2017\",\"2017-mid\",\"2018\",\"2018-mid\",\"2019\",\"2019-mid\",\"2020\",\"2020-mid\",\"2021\",\"2021-mid\",\"2022\",\"2024-mid\"],\"y\":[null,null,null,null,null,null,null,null,null,null,null,null,null,null,null,null,null,null,null,null],\"type\":\"scatter\",\"xaxis\":\"x10\",\"yaxis\":\"y10\"},{\"mode\":\"lines+markers\",\"name\":\"Rent Index\",\"x\":[\"2011\",\"2012\",\"2013\",\"2014\",\"2014-mid\",\"2015\",\"2015-mid\",\"2016\",\"2017\",\"2017-mid\",\"2018\",\"2018-mid\",\"2019\",\"2019-mid\",\"2020\",\"2020-mid\",\"2021\",\"2021-mid\",\"2022\",\"2024-mid\"],\"y\":[null,null,null,null,null,null,null,null,null,null,null,null,null,null,null,null,null,null,null,null],\"type\":\"scatter\",\"xaxis\":\"x11\",\"yaxis\":\"y11\"},{\"mode\":\"lines+markers\",\"name\":\"Cost of Living Plus Rent Index\",\"x\":[\"2011\",\"2012\",\"2013\",\"2014\",\"2014-mid\",\"2015\",\"2015-mid\",\"2016\",\"2017\",\"2017-mid\",\"2018\",\"2018-mid\",\"2019\",\"2019-mid\",\"2020\",\"2020-mid\",\"2021\",\"2021-mid\",\"2022\",\"2024-mid\"],\"y\":[null,null,null,null,null,null,null,null,null,null,null,null,null,null,null,null,null,null,null,null],\"type\":\"scatter\",\"xaxis\":\"x12\",\"yaxis\":\"y12\"},{\"mode\":\"lines+markers\",\"name\":\"Groceries Index\",\"x\":[\"2011\",\"2012\",\"2013\",\"2014\",\"2014-mid\",\"2015\",\"2015-mid\",\"2016\",\"2017\",\"2017-mid\",\"2018\",\"2018-mid\",\"2019\",\"2019-mid\",\"2020\",\"2020-mid\",\"2021\",\"2021-mid\",\"2022\",\"2024-mid\"],\"y\":[null,null,null,null,null,null,null,null,null,null,null,null,null,null,null,null,null,null,null,null],\"type\":\"scatter\",\"xaxis\":\"x13\",\"yaxis\":\"y13\"},{\"mode\":\"lines+markers\",\"name\":\"Restaurant Index\",\"x\":[\"2011\",\"2012\",\"2013\",\"2014\",\"2014-mid\",\"2015\",\"2015-mid\",\"2016\",\"2017\",\"2017-mid\",\"2018\",\"2018-mid\",\"2019\",\"2019-mid\",\"2020\",\"2020-mid\",\"2021\",\"2021-mid\",\"2022\",\"2024-mid\"],\"y\":[null,null,null,null,null,null,null,null,null,null,null,null,null,null,null,null,null,null,null,null],\"type\":\"scatter\",\"xaxis\":\"x14\",\"yaxis\":\"y14\"},{\"mode\":\"lines+markers\",\"name\":\"Local Purchasing Power Index\",\"x\":[\"2011\",\"2012\",\"2013\",\"2014\",\"2014-mid\",\"2015\",\"2015-mid\",\"2016\",\"2017\",\"2017-mid\",\"2018\",\"2018-mid\",\"2019\",\"2019-mid\",\"2020\",\"2020-mid\",\"2021\",\"2021-mid\",\"2022\",\"2024-mid\"],\"y\":[null,null,null,null,null,null,null,null,null,null,null,null,null,null,null,null,null,null,null,null],\"type\":\"scatter\",\"xaxis\":\"x15\",\"yaxis\":\"y15\"}],                        {\"template\":{\"data\":{\"histogram2dcontour\":[{\"type\":\"histogram2dcontour\",\"colorbar\":{\"outlinewidth\":0,\"ticks\":\"\"},\"colorscale\":[[0.0,\"#0d0887\"],[0.1111111111111111,\"#46039f\"],[0.2222222222222222,\"#7201a8\"],[0.3333333333333333,\"#9c179e\"],[0.4444444444444444,\"#bd3786\"],[0.5555555555555556,\"#d8576b\"],[0.6666666666666666,\"#ed7953\"],[0.7777777777777778,\"#fb9f3a\"],[0.8888888888888888,\"#fdca26\"],[1.0,\"#f0f921\"]]}],\"choropleth\":[{\"type\":\"choropleth\",\"colorbar\":{\"outlinewidth\":0,\"ticks\":\"\"}}],\"histogram2d\":[{\"type\":\"histogram2d\",\"colorbar\":{\"outlinewidth\":0,\"ticks\":\"\"},\"colorscale\":[[0.0,\"#0d0887\"],[0.1111111111111111,\"#46039f\"],[0.2222222222222222,\"#7201a8\"],[0.3333333333333333,\"#9c179e\"],[0.4444444444444444,\"#bd3786\"],[0.5555555555555556,\"#d8576b\"],[0.6666666666666666,\"#ed7953\"],[0.7777777777777778,\"#fb9f3a\"],[0.8888888888888888,\"#fdca26\"],[1.0,\"#f0f921\"]]}],\"heatmap\":[{\"type\":\"heatmap\",\"colorbar\":{\"outlinewidth\":0,\"ticks\":\"\"},\"colorscale\":[[0.0,\"#0d0887\"],[0.1111111111111111,\"#46039f\"],[0.2222222222222222,\"#7201a8\"],[0.3333333333333333,\"#9c179e\"],[0.4444444444444444,\"#bd3786\"],[0.5555555555555556,\"#d8576b\"],[0.6666666666666666,\"#ed7953\"],[0.7777777777777778,\"#fb9f3a\"],[0.8888888888888888,\"#fdca26\"],[1.0,\"#f0f921\"]]}],\"heatmapgl\":[{\"type\":\"heatmapgl\",\"colorbar\":{\"outlinewidth\":0,\"ticks\":\"\"},\"colorscale\":[[0.0,\"#0d0887\"],[0.1111111111111111,\"#46039f\"],[0.2222222222222222,\"#7201a8\"],[0.3333333333333333,\"#9c179e\"],[0.4444444444444444,\"#bd3786\"],[0.5555555555555556,\"#d8576b\"],[0.6666666666666666,\"#ed7953\"],[0.7777777777777778,\"#fb9f3a\"],[0.8888888888888888,\"#fdca26\"],[1.0,\"#f0f921\"]]}],\"contourcarpet\":[{\"type\":\"contourcarpet\",\"colorbar\":{\"outlinewidth\":0,\"ticks\":\"\"}}],\"contour\":[{\"type\":\"contour\",\"colorbar\":{\"outlinewidth\":0,\"ticks\":\"\"},\"colorscale\":[[0.0,\"#0d0887\"],[0.1111111111111111,\"#46039f\"],[0.2222222222222222,\"#7201a8\"],[0.3333333333333333,\"#9c179e\"],[0.4444444444444444,\"#bd3786\"],[0.5555555555555556,\"#d8576b\"],[0.6666666666666666,\"#ed7953\"],[0.7777777777777778,\"#fb9f3a\"],[0.8888888888888888,\"#fdca26\"],[1.0,\"#f0f921\"]]}],\"surface\":[{\"type\":\"surface\",\"colorbar\":{\"outlinewidth\":0,\"ticks\":\"\"},\"colorscale\":[[0.0,\"#0d0887\"],[0.1111111111111111,\"#46039f\"],[0.2222222222222222,\"#7201a8\"],[0.3333333333333333,\"#9c179e\"],[0.4444444444444444,\"#bd3786\"],[0.5555555555555556,\"#d8576b\"],[0.6666666666666666,\"#ed7953\"],[0.7777777777777778,\"#fb9f3a\"],[0.8888888888888888,\"#fdca26\"],[1.0,\"#f0f921\"]]}],\"mesh3d\":[{\"type\":\"mesh3d\",\"colorbar\":{\"outlinewidth\":0,\"ticks\":\"\"}}],\"scatter\":[{\"fillpattern\":{\"fillmode\":\"overlay\",\"size\":10,\"solidity\":0.2},\"type\":\"scatter\"}],\"parcoords\":[{\"type\":\"parcoords\",\"line\":{\"colorbar\":{\"outlinewidth\":0,\"ticks\":\"\"}}}],\"scatterpolargl\":[{\"type\":\"scatterpolargl\",\"marker\":{\"colorbar\":{\"outlinewidth\":0,\"ticks\":\"\"}}}],\"bar\":[{\"error_x\":{\"color\":\"#2a3f5f\"},\"error_y\":{\"color\":\"#2a3f5f\"},\"marker\":{\"line\":{\"color\":\"#E5ECF6\",\"width\":0.5},\"pattern\":{\"fillmode\":\"overlay\",\"size\":10,\"solidity\":0.2}},\"type\":\"bar\"}],\"scattergeo\":[{\"type\":\"scattergeo\",\"marker\":{\"colorbar\":{\"outlinewidth\":0,\"ticks\":\"\"}}}],\"scatterpolar\":[{\"type\":\"scatterpolar\",\"marker\":{\"colorbar\":{\"outlinewidth\":0,\"ticks\":\"\"}}}],\"histogram\":[{\"marker\":{\"pattern\":{\"fillmode\":\"overlay\",\"size\":10,\"solidity\":0.2}},\"type\":\"histogram\"}],\"scattergl\":[{\"type\":\"scattergl\",\"marker\":{\"colorbar\":{\"outlinewidth\":0,\"ticks\":\"\"}}}],\"scatter3d\":[{\"type\":\"scatter3d\",\"line\":{\"colorbar\":{\"outlinewidth\":0,\"ticks\":\"\"}},\"marker\":{\"colorbar\":{\"outlinewidth\":0,\"ticks\":\"\"}}}],\"scattermapbox\":[{\"type\":\"scattermapbox\",\"marker\":{\"colorbar\":{\"outlinewidth\":0,\"ticks\":\"\"}}}],\"scatterternary\":[{\"type\":\"scatterternary\",\"marker\":{\"colorbar\":{\"outlinewidth\":0,\"ticks\":\"\"}}}],\"scattercarpet\":[{\"type\":\"scattercarpet\",\"marker\":{\"colorbar\":{\"outlinewidth\":0,\"ticks\":\"\"}}}],\"carpet\":[{\"aaxis\":{\"endlinecolor\":\"#2a3f5f\",\"gridcolor\":\"white\",\"linecolor\":\"white\",\"minorgridcolor\":\"white\",\"startlinecolor\":\"#2a3f5f\"},\"baxis\":{\"endlinecolor\":\"#2a3f5f\",\"gridcolor\":\"white\",\"linecolor\":\"white\",\"minorgridcolor\":\"white\",\"startlinecolor\":\"#2a3f5f\"},\"type\":\"carpet\"}],\"table\":[{\"cells\":{\"fill\":{\"color\":\"#EBF0F8\"},\"line\":{\"color\":\"white\"}},\"header\":{\"fill\":{\"color\":\"#C8D4E3\"},\"line\":{\"color\":\"white\"}},\"type\":\"table\"}],\"barpolar\":[{\"marker\":{\"line\":{\"color\":\"#E5ECF6\",\"width\":0.5},\"pattern\":{\"fillmode\":\"overlay\",\"size\":10,\"solidity\":0.2}},\"type\":\"barpolar\"}],\"pie\":[{\"automargin\":true,\"type\":\"pie\"}]},\"layout\":{\"autotypenumbers\":\"strict\",\"colorway\":[\"#636efa\",\"#EF553B\",\"#00cc96\",\"#ab63fa\",\"#FFA15A\",\"#19d3f3\",\"#FF6692\",\"#B6E880\",\"#FF97FF\",\"#FECB52\"],\"font\":{\"color\":\"#2a3f5f\"},\"hovermode\":\"closest\",\"hoverlabel\":{\"align\":\"left\"},\"paper_bgcolor\":\"white\",\"plot_bgcolor\":\"#E5ECF6\",\"polar\":{\"bgcolor\":\"#E5ECF6\",\"angularaxis\":{\"gridcolor\":\"white\",\"linecolor\":\"white\",\"ticks\":\"\"},\"radialaxis\":{\"gridcolor\":\"white\",\"linecolor\":\"white\",\"ticks\":\"\"}},\"ternary\":{\"bgcolor\":\"#E5ECF6\",\"aaxis\":{\"gridcolor\":\"white\",\"linecolor\":\"white\",\"ticks\":\"\"},\"baxis\":{\"gridcolor\":\"white\",\"linecolor\":\"white\",\"ticks\":\"\"},\"caxis\":{\"gridcolor\":\"white\",\"linecolor\":\"white\",\"ticks\":\"\"}},\"coloraxis\":{\"colorbar\":{\"outlinewidth\":0,\"ticks\":\"\"}},\"colorscale\":{\"sequential\":[[0.0,\"#0d0887\"],[0.1111111111111111,\"#46039f\"],[0.2222222222222222,\"#7201a8\"],[0.3333333333333333,\"#9c179e\"],[0.4444444444444444,\"#bd3786\"],[0.5555555555555556,\"#d8576b\"],[0.6666666666666666,\"#ed7953\"],[0.7777777777777778,\"#fb9f3a\"],[0.8888888888888888,\"#fdca26\"],[1.0,\"#f0f921\"]],\"sequentialminus\":[[0.0,\"#0d0887\"],[0.1111111111111111,\"#46039f\"],[0.2222222222222222,\"#7201a8\"],[0.3333333333333333,\"#9c179e\"],[0.4444444444444444,\"#bd3786\"],[0.5555555555555556,\"#d8576b\"],[0.6666666666666666,\"#ed7953\"],[0.7777777777777778,\"#fb9f3a\"],[0.8888888888888888,\"#fdca26\"],[1.0,\"#f0f921\"]],\"diverging\":[[0,\"#8e0152\"],[0.1,\"#c51b7d\"],[0.2,\"#de77ae\"],[0.3,\"#f1b6da\"],[0.4,\"#fde0ef\"],[0.5,\"#f7f7f7\"],[0.6,\"#e6f5d0\"],[0.7,\"#b8e186\"],[0.8,\"#7fbc41\"],[0.9,\"#4d9221\"],[1,\"#276419\"]]},\"xaxis\":{\"gridcolor\":\"white\",\"linecolor\":\"white\",\"ticks\":\"\",\"title\":{\"standoff\":15},\"zerolinecolor\":\"white\",\"automargin\":true,\"zerolinewidth\":2},\"yaxis\":{\"gridcolor\":\"white\",\"linecolor\":\"white\",\"ticks\":\"\",\"title\":{\"standoff\":15},\"zerolinecolor\":\"white\",\"automargin\":true,\"zerolinewidth\":2},\"scene\":{\"xaxis\":{\"backgroundcolor\":\"#E5ECF6\",\"gridcolor\":\"white\",\"linecolor\":\"white\",\"showbackground\":true,\"ticks\":\"\",\"zerolinecolor\":\"white\",\"gridwidth\":2},\"yaxis\":{\"backgroundcolor\":\"#E5ECF6\",\"gridcolor\":\"white\",\"linecolor\":\"white\",\"showbackground\":true,\"ticks\":\"\",\"zerolinecolor\":\"white\",\"gridwidth\":2},\"zaxis\":{\"backgroundcolor\":\"#E5ECF6\",\"gridcolor\":\"white\",\"linecolor\":\"white\",\"showbackground\":true,\"ticks\":\"\",\"zerolinecolor\":\"white\",\"gridwidth\":2}},\"shapedefaults\":{\"line\":{\"color\":\"#2a3f5f\"}},\"annotationdefaults\":{\"arrowcolor\":\"#2a3f5f\",\"arrowhead\":0,\"arrowwidth\":1},\"geo\":{\"bgcolor\":\"white\",\"landcolor\":\"#E5ECF6\",\"subunitcolor\":\"white\",\"showland\":true,\"showlakes\":true,\"lakecolor\":\"white\"},\"title\":{\"x\":0.05},\"mapbox\":{\"style\":\"light\"}}},\"xaxis\":{\"anchor\":\"y\",\"domain\":[0.0,0.2125],\"title\":{\"text\":\"Year\"}},\"yaxis\":{\"anchor\":\"x\",\"domain\":[0.84375,1.0],\"title\":{\"text\":\"Price to Income Ratio\"}},\"xaxis2\":{\"anchor\":\"y2\",\"domain\":[0.2625,0.475],\"title\":{\"text\":\"Year\"}},\"yaxis2\":{\"anchor\":\"x2\",\"domain\":[0.84375,1.0],\"title\":{\"text\":\"Gross Rental Yield City Centre\"}},\"xaxis3\":{\"anchor\":\"y3\",\"domain\":[0.525,0.7375],\"title\":{\"text\":\"Year\"}},\"yaxis3\":{\"anchor\":\"x3\",\"domain\":[0.84375,1.0],\"title\":{\"text\":\"Gross Rental Yield Outside Centre\"}},\"xaxis4\":{\"anchor\":\"y4\",\"domain\":[0.7875,1.0],\"title\":{\"text\":\"Year\"}},\"yaxis4\":{\"anchor\":\"x4\",\"domain\":[0.84375,1.0],\"title\":{\"text\":\"Price to Rent Ratio City Centre\"}},\"xaxis5\":{\"anchor\":\"y5\",\"domain\":[0.0,0.2125],\"title\":{\"text\":\"Year\"}},\"yaxis5\":{\"anchor\":\"x5\",\"domain\":[0.5625,0.71875],\"title\":{\"text\":\"Price to Rent Ratio Outside City Centre\"}},\"xaxis6\":{\"anchor\":\"y6\",\"domain\":[0.2625,0.475],\"title\":{\"text\":\"Year\"}},\"yaxis6\":{\"anchor\":\"x6\",\"domain\":[0.5625,0.71875],\"title\":{\"text\":\"Mortgage as a Percentage of Income\"}},\"xaxis7\":{\"anchor\":\"y7\",\"domain\":[0.525,0.7375],\"title\":{\"text\":\"Year\"}},\"yaxis7\":{\"anchor\":\"x7\",\"domain\":[0.5625,0.71875],\"title\":{\"text\":\"Affordability Index\"}},\"xaxis8\":{\"anchor\":\"y8\",\"domain\":[0.7875,1.0],\"title\":{\"text\":\"Year\"}},\"yaxis8\":{\"anchor\":\"x8\",\"domain\":[0.5625,0.71875],\"title\":{\"text\":\"Crime Index\"}},\"xaxis9\":{\"anchor\":\"y9\",\"domain\":[0.0,0.2125],\"title\":{\"text\":\"Year\"}},\"yaxis9\":{\"anchor\":\"x9\",\"domain\":[0.28125,0.4375],\"title\":{\"text\":\"Safety Index\"}},\"xaxis10\":{\"anchor\":\"y10\",\"domain\":[0.2625,0.475],\"title\":{\"text\":\"Year\"}},\"yaxis10\":{\"anchor\":\"x10\",\"domain\":[0.28125,0.4375],\"title\":{\"text\":\"Cost of Living Index\"}},\"xaxis11\":{\"anchor\":\"y11\",\"domain\":[0.525,0.7375],\"title\":{\"text\":\"Year\"}},\"yaxis11\":{\"anchor\":\"x11\",\"domain\":[0.28125,0.4375],\"title\":{\"text\":\"Rent Index\"}},\"xaxis12\":{\"anchor\":\"y12\",\"domain\":[0.7875,1.0],\"title\":{\"text\":\"Year\"}},\"yaxis12\":{\"anchor\":\"x12\",\"domain\":[0.28125,0.4375],\"title\":{\"text\":\"Cost of Living Plus Rent Index\"}},\"xaxis13\":{\"anchor\":\"y13\",\"domain\":[0.0,0.2125],\"title\":{\"text\":\"Year\"}},\"yaxis13\":{\"anchor\":\"x13\",\"domain\":[0.0,0.15625],\"title\":{\"text\":\"Groceries Index\"}},\"xaxis14\":{\"anchor\":\"y14\",\"domain\":[0.2625,0.475],\"title\":{\"text\":\"Year\"}},\"yaxis14\":{\"anchor\":\"x14\",\"domain\":[0.0,0.15625],\"title\":{\"text\":\"Restaurant Index\"}},\"xaxis15\":{\"anchor\":\"y15\",\"domain\":[0.525,0.7375],\"title\":{\"text\":\"Year\"}},\"yaxis15\":{\"anchor\":\"x15\",\"domain\":[0.0,0.15625],\"title\":{\"text\":\"Local Purchasing Power Index\"}},\"xaxis16\":{\"anchor\":\"y16\",\"domain\":[0.7875,1.0]},\"yaxis16\":{\"anchor\":\"x16\",\"domain\":[0.0,0.15625]},\"annotations\":[{\"font\":{\"size\":16},\"showarrow\":false,\"text\":\"Price to Income Ratio\",\"x\":0.10625,\"xanchor\":\"center\",\"xref\":\"paper\",\"y\":1.0,\"yanchor\":\"bottom\",\"yref\":\"paper\"},{\"font\":{\"size\":16},\"showarrow\":false,\"text\":\"Gross Rental Yield City Centre\",\"x\":0.36875,\"xanchor\":\"center\",\"xref\":\"paper\",\"y\":1.0,\"yanchor\":\"bottom\",\"yref\":\"paper\"},{\"font\":{\"size\":16},\"showarrow\":false,\"text\":\"Gross Rental Yield Outside Centre\",\"x\":0.6312500000000001,\"xanchor\":\"center\",\"xref\":\"paper\",\"y\":1.0,\"yanchor\":\"bottom\",\"yref\":\"paper\"},{\"font\":{\"size\":16},\"showarrow\":false,\"text\":\"Price to Rent Ratio City Centre\",\"x\":0.89375,\"xanchor\":\"center\",\"xref\":\"paper\",\"y\":1.0,\"yanchor\":\"bottom\",\"yref\":\"paper\"},{\"font\":{\"size\":16},\"showarrow\":false,\"text\":\"Price to Rent Ratio Outside City Centre\",\"x\":0.10625,\"xanchor\":\"center\",\"xref\":\"paper\",\"y\":0.71875,\"yanchor\":\"bottom\",\"yref\":\"paper\"},{\"font\":{\"size\":16},\"showarrow\":false,\"text\":\"Mortgage as a Percentage of Income\",\"x\":0.36875,\"xanchor\":\"center\",\"xref\":\"paper\",\"y\":0.71875,\"yanchor\":\"bottom\",\"yref\":\"paper\"},{\"font\":{\"size\":16},\"showarrow\":false,\"text\":\"Affordability Index\",\"x\":0.6312500000000001,\"xanchor\":\"center\",\"xref\":\"paper\",\"y\":0.71875,\"yanchor\":\"bottom\",\"yref\":\"paper\"},{\"font\":{\"size\":16},\"showarrow\":false,\"text\":\"Crime Index\",\"x\":0.89375,\"xanchor\":\"center\",\"xref\":\"paper\",\"y\":0.71875,\"yanchor\":\"bottom\",\"yref\":\"paper\"},{\"font\":{\"size\":16},\"showarrow\":false,\"text\":\"Safety Index\",\"x\":0.10625,\"xanchor\":\"center\",\"xref\":\"paper\",\"y\":0.4375,\"yanchor\":\"bottom\",\"yref\":\"paper\"},{\"font\":{\"size\":16},\"showarrow\":false,\"text\":\"Cost of Living Index\",\"x\":0.36875,\"xanchor\":\"center\",\"xref\":\"paper\",\"y\":0.4375,\"yanchor\":\"bottom\",\"yref\":\"paper\"},{\"font\":{\"size\":16},\"showarrow\":false,\"text\":\"Rent Index\",\"x\":0.6312500000000001,\"xanchor\":\"center\",\"xref\":\"paper\",\"y\":0.4375,\"yanchor\":\"bottom\",\"yref\":\"paper\"},{\"font\":{\"size\":16},\"showarrow\":false,\"text\":\"Cost of Living Plus Rent Index\",\"x\":0.89375,\"xanchor\":\"center\",\"xref\":\"paper\",\"y\":0.4375,\"yanchor\":\"bottom\",\"yref\":\"paper\"},{\"font\":{\"size\":16},\"showarrow\":false,\"text\":\"Groceries Index\",\"x\":0.10625,\"xanchor\":\"center\",\"xref\":\"paper\",\"y\":0.15625,\"yanchor\":\"bottom\",\"yref\":\"paper\"},{\"font\":{\"size\":16},\"showarrow\":false,\"text\":\"Restaurant Index\",\"x\":0.36875,\"xanchor\":\"center\",\"xref\":\"paper\",\"y\":0.15625,\"yanchor\":\"bottom\",\"yref\":\"paper\"},{\"font\":{\"size\":16},\"showarrow\":false,\"text\":\"Local Purchasing Power Index\",\"x\":0.6312500000000001,\"xanchor\":\"center\",\"xref\":\"paper\",\"y\":0.15625,\"yanchor\":\"bottom\",\"yref\":\"paper\"}],\"title\":{\"text\":\"Detroit, MI, United States\"},\"height\":1500,\"width\":1500},                        {\"responsive\": true}                    ).then(function(){\n",
       "                            \n",
       "var gd = document.getElementById('bd7faeb4-5861-453a-b003-100b089fe1e3');\n",
       "var x = new MutationObserver(function (mutations, observer) {{\n",
       "        var display = window.getComputedStyle(gd).display;\n",
       "        if (!display || display === 'none') {{\n",
       "            console.log([gd, 'removed!']);\n",
       "            Plotly.purge(gd);\n",
       "            observer.disconnect();\n",
       "        }}\n",
       "}});\n",
       "\n",
       "// Listen for the removal of the full notebook cells\n",
       "var notebookContainer = gd.closest('#notebook-container');\n",
       "if (notebookContainer) {{\n",
       "    x.observe(notebookContainer, {childList: true});\n",
       "}}\n",
       "\n",
       "// Listen for the clearing of the current output cell\n",
       "var outputEl = gd.closest('.output');\n",
       "if (outputEl) {{\n",
       "    x.observe(outputEl, {childList: true});\n",
       "}}\n",
       "\n",
       "                        })                };                });            </script>        </div>"
      ]
     },
     "metadata": {},
     "output_type": "display_data"
    },
    {
     "data": {
      "application/vnd.plotly.v1+json": {
       "config": {
        "plotlyServerURL": "https://plot.ly"
       },
       "data": [
        {
         "mode": "lines+markers",
         "name": "Price to Income Ratio",
         "type": "scatter",
         "x": [
          "2013",
          "2014",
          "2014-mid",
          "2015",
          "2015-mid",
          "2019-mid",
          "2020",
          "2020-mid",
          "2021",
          "2021-mid",
          "2022",
          "2024-mid"
         ],
         "xaxis": "x",
         "y": [
          1.7,
          1.9,
          1.7,
          1.4,
          1.2,
          2.1,
          2.1,
          1.7,
          1.6,
          1.6,
          1.7,
          1.8
         ],
         "yaxis": "y"
        },
        {
         "mode": "lines+markers",
         "name": "Gross Rental Yield City Centre",
         "type": "scatter",
         "x": [
          "2013",
          "2014",
          "2014-mid",
          "2015",
          "2015-mid",
          "2019-mid",
          "2020",
          "2020-mid",
          "2021",
          "2021-mid",
          "2022",
          "2024-mid"
         ],
         "xaxis": "x2",
         "y": [
          15,
          18.8,
          18.9,
          33,
          31.8,
          16.9,
          15.9,
          15.1,
          13.7,
          13,
          13.4,
          23
         ],
         "yaxis": "y2"
        },
        {
         "mode": "lines+markers",
         "name": "Gross Rental Yield Outside Centre",
         "type": "scatter",
         "x": [
          "2013",
          "2014",
          "2014-mid",
          "2015",
          "2015-mid",
          "2019-mid",
          "2020",
          "2020-mid",
          "2021",
          "2021-mid",
          "2022",
          "2024-mid"
         ],
         "xaxis": "x3",
         "y": [
          23.5,
          22.8,
          22.8,
          20.8,
          20.6,
          22.4,
          21,
          22.4,
          27.1,
          26.9,
          27.3,
          20.4
         ],
         "yaxis": "y3"
        },
        {
         "mode": "lines+markers",
         "name": "Price to Rent Ratio City Centre",
         "type": "scatter",
         "x": [
          "2013",
          "2014",
          "2014-mid",
          "2015",
          "2015-mid",
          "2019-mid",
          "2020",
          "2020-mid",
          "2021",
          "2021-mid",
          "2022",
          "2024-mid"
         ],
         "xaxis": "x4",
         "y": [
          6.7,
          5.3,
          5.3,
          3,
          3.1,
          5.9,
          6.3,
          6.6,
          7.3,
          7.7,
          7.4,
          4.3
         ],
         "yaxis": "y4"
        },
        {
         "mode": "lines+markers",
         "name": "Price to Rent Ratio Outside City Centre",
         "type": "scatter",
         "x": [
          "2013",
          "2014",
          "2014-mid",
          "2015",
          "2015-mid",
          "2019-mid",
          "2020",
          "2020-mid",
          "2021",
          "2021-mid",
          "2022",
          "2024-mid"
         ],
         "xaxis": "x5",
         "y": [
          4.3,
          4.4,
          4.4,
          4.8,
          4.8,
          4.5,
          4.8,
          4.5,
          3.7,
          3.7,
          3.7,
          4.9
         ],
         "yaxis": "y5"
        },
        {
         "mode": "lines+markers",
         "name": "Mortgage as a Percentage of Income",
         "type": "scatter",
         "x": [
          "2013",
          "2014",
          "2014-mid",
          "2015",
          "2015-mid",
          "2019-mid",
          "2020",
          "2020-mid",
          "2021",
          "2021-mid",
          "2022",
          "2024-mid"
         ],
         "xaxis": "x6",
         "y": [
          "12.3",
          "15.3",
          "13.5",
          "11.2",
          "9.0",
          "15.6",
          "15.8",
          "12.5",
          "12.4",
          "11.9",
          "11.7",
          "16.1"
         ],
         "yaxis": "y6"
        },
        {
         "mode": "lines+markers",
         "name": "Affordability Index",
         "type": "scatter",
         "x": [
          "2013",
          "2014",
          "2014-mid",
          "2015",
          "2015-mid",
          "2019-mid",
          "2020",
          "2020-mid",
          "2021",
          "2021-mid",
          "2022",
          "2024-mid"
         ],
         "xaxis": "x7",
         "y": [
          "8.1",
          "6.5",
          "7.4",
          "9.0",
          "11.1",
          "6.4",
          "6.3",
          "8.0",
          "8.1",
          "8.4",
          "8.5",
          "6.2"
         ],
         "yaxis": "y7"
        },
        {
         "mode": "lines+markers",
         "name": "Crime Index",
         "type": "scatter",
         "x": [
          "2013",
          "2014",
          "2014-mid",
          "2015",
          "2015-mid",
          "2019-mid",
          "2020",
          "2020-mid",
          "2021",
          "2021-mid",
          "2022",
          "2024-mid"
         ],
         "xaxis": "x8",
         "y": [
          null,
          null,
          68.8,
          null,
          75.9,
          null,
          null,
          null,
          null,
          null,
          63.4,
          null
         ],
         "yaxis": "y8"
        },
        {
         "mode": "lines+markers",
         "name": "Safety Index",
         "type": "scatter",
         "x": [
          "2013",
          "2014",
          "2014-mid",
          "2015",
          "2015-mid",
          "2019-mid",
          "2020",
          "2020-mid",
          "2021",
          "2021-mid",
          "2022",
          "2024-mid"
         ],
         "xaxis": "x9",
         "y": [
          null,
          null,
          31.2,
          null,
          24.1,
          null,
          null,
          null,
          null,
          null,
          36.6,
          null
         ],
         "yaxis": "y9"
        },
        {
         "mode": "lines+markers",
         "name": "Cost of Living Index",
         "type": "scatter",
         "x": [
          "2013",
          "2014",
          "2014-mid",
          "2015",
          "2015-mid",
          "2019-mid",
          "2020",
          "2020-mid",
          "2021",
          "2021-mid",
          "2022",
          "2024-mid"
         ],
         "xaxis": "x10",
         "y": [
          null,
          null,
          null,
          null,
          null,
          null,
          null,
          null,
          null,
          null,
          null,
          null
         ],
         "yaxis": "y10"
        },
        {
         "mode": "lines+markers",
         "name": "Rent Index",
         "type": "scatter",
         "x": [
          "2013",
          "2014",
          "2014-mid",
          "2015",
          "2015-mid",
          "2019-mid",
          "2020",
          "2020-mid",
          "2021",
          "2021-mid",
          "2022",
          "2024-mid"
         ],
         "xaxis": "x11",
         "y": [
          null,
          null,
          null,
          null,
          null,
          null,
          null,
          null,
          null,
          null,
          null,
          null
         ],
         "yaxis": "y11"
        },
        {
         "mode": "lines+markers",
         "name": "Cost of Living Plus Rent Index",
         "type": "scatter",
         "x": [
          "2013",
          "2014",
          "2014-mid",
          "2015",
          "2015-mid",
          "2019-mid",
          "2020",
          "2020-mid",
          "2021",
          "2021-mid",
          "2022",
          "2024-mid"
         ],
         "xaxis": "x12",
         "y": [
          null,
          null,
          null,
          null,
          null,
          null,
          null,
          null,
          null,
          null,
          null,
          null
         ],
         "yaxis": "y12"
        },
        {
         "mode": "lines+markers",
         "name": "Groceries Index",
         "type": "scatter",
         "x": [
          "2013",
          "2014",
          "2014-mid",
          "2015",
          "2015-mid",
          "2019-mid",
          "2020",
          "2020-mid",
          "2021",
          "2021-mid",
          "2022",
          "2024-mid"
         ],
         "xaxis": "x13",
         "y": [
          null,
          null,
          null,
          null,
          null,
          null,
          null,
          null,
          null,
          null,
          null,
          null
         ],
         "yaxis": "y13"
        },
        {
         "mode": "lines+markers",
         "name": "Restaurant Index",
         "type": "scatter",
         "x": [
          "2013",
          "2014",
          "2014-mid",
          "2015",
          "2015-mid",
          "2019-mid",
          "2020",
          "2020-mid",
          "2021",
          "2021-mid",
          "2022",
          "2024-mid"
         ],
         "xaxis": "x14",
         "y": [
          null,
          null,
          null,
          null,
          null,
          null,
          null,
          null,
          null,
          null,
          null,
          null
         ],
         "yaxis": "y14"
        },
        {
         "mode": "lines+markers",
         "name": "Local Purchasing Power Index",
         "type": "scatter",
         "x": [
          "2013",
          "2014",
          "2014-mid",
          "2015",
          "2015-mid",
          "2019-mid",
          "2020",
          "2020-mid",
          "2021",
          "2021-mid",
          "2022",
          "2024-mid"
         ],
         "xaxis": "x15",
         "y": [
          null,
          null,
          null,
          null,
          null,
          null,
          null,
          null,
          null,
          null,
          null,
          null
         ],
         "yaxis": "y15"
        }
       ],
       "layout": {
        "annotations": [
         {
          "font": {
           "size": 16
          },
          "showarrow": false,
          "text": "Price to Income Ratio",
          "x": 0.10625,
          "xanchor": "center",
          "xref": "paper",
          "y": 1,
          "yanchor": "bottom",
          "yref": "paper"
         },
         {
          "font": {
           "size": 16
          },
          "showarrow": false,
          "text": "Gross Rental Yield City Centre",
          "x": 0.36875,
          "xanchor": "center",
          "xref": "paper",
          "y": 1,
          "yanchor": "bottom",
          "yref": "paper"
         },
         {
          "font": {
           "size": 16
          },
          "showarrow": false,
          "text": "Gross Rental Yield Outside Centre",
          "x": 0.6312500000000001,
          "xanchor": "center",
          "xref": "paper",
          "y": 1,
          "yanchor": "bottom",
          "yref": "paper"
         },
         {
          "font": {
           "size": 16
          },
          "showarrow": false,
          "text": "Price to Rent Ratio City Centre",
          "x": 0.89375,
          "xanchor": "center",
          "xref": "paper",
          "y": 1,
          "yanchor": "bottom",
          "yref": "paper"
         },
         {
          "font": {
           "size": 16
          },
          "showarrow": false,
          "text": "Price to Rent Ratio Outside City Centre",
          "x": 0.10625,
          "xanchor": "center",
          "xref": "paper",
          "y": 0.71875,
          "yanchor": "bottom",
          "yref": "paper"
         },
         {
          "font": {
           "size": 16
          },
          "showarrow": false,
          "text": "Mortgage as a Percentage of Income",
          "x": 0.36875,
          "xanchor": "center",
          "xref": "paper",
          "y": 0.71875,
          "yanchor": "bottom",
          "yref": "paper"
         },
         {
          "font": {
           "size": 16
          },
          "showarrow": false,
          "text": "Affordability Index",
          "x": 0.6312500000000001,
          "xanchor": "center",
          "xref": "paper",
          "y": 0.71875,
          "yanchor": "bottom",
          "yref": "paper"
         },
         {
          "font": {
           "size": 16
          },
          "showarrow": false,
          "text": "Crime Index",
          "x": 0.89375,
          "xanchor": "center",
          "xref": "paper",
          "y": 0.71875,
          "yanchor": "bottom",
          "yref": "paper"
         },
         {
          "font": {
           "size": 16
          },
          "showarrow": false,
          "text": "Safety Index",
          "x": 0.10625,
          "xanchor": "center",
          "xref": "paper",
          "y": 0.4375,
          "yanchor": "bottom",
          "yref": "paper"
         },
         {
          "font": {
           "size": 16
          },
          "showarrow": false,
          "text": "Cost of Living Index",
          "x": 0.36875,
          "xanchor": "center",
          "xref": "paper",
          "y": 0.4375,
          "yanchor": "bottom",
          "yref": "paper"
         },
         {
          "font": {
           "size": 16
          },
          "showarrow": false,
          "text": "Rent Index",
          "x": 0.6312500000000001,
          "xanchor": "center",
          "xref": "paper",
          "y": 0.4375,
          "yanchor": "bottom",
          "yref": "paper"
         },
         {
          "font": {
           "size": 16
          },
          "showarrow": false,
          "text": "Cost of Living Plus Rent Index",
          "x": 0.89375,
          "xanchor": "center",
          "xref": "paper",
          "y": 0.4375,
          "yanchor": "bottom",
          "yref": "paper"
         },
         {
          "font": {
           "size": 16
          },
          "showarrow": false,
          "text": "Groceries Index",
          "x": 0.10625,
          "xanchor": "center",
          "xref": "paper",
          "y": 0.15625,
          "yanchor": "bottom",
          "yref": "paper"
         },
         {
          "font": {
           "size": 16
          },
          "showarrow": false,
          "text": "Restaurant Index",
          "x": 0.36875,
          "xanchor": "center",
          "xref": "paper",
          "y": 0.15625,
          "yanchor": "bottom",
          "yref": "paper"
         },
         {
          "font": {
           "size": 16
          },
          "showarrow": false,
          "text": "Local Purchasing Power Index",
          "x": 0.6312500000000001,
          "xanchor": "center",
          "xref": "paper",
          "y": 0.15625,
          "yanchor": "bottom",
          "yref": "paper"
         }
        ],
        "height": 1500,
        "template": {
         "data": {
          "bar": [
           {
            "error_x": {
             "color": "#2a3f5f"
            },
            "error_y": {
             "color": "#2a3f5f"
            },
            "marker": {
             "line": {
              "color": "#E5ECF6",
              "width": 0.5
             },
             "pattern": {
              "fillmode": "overlay",
              "size": 10,
              "solidity": 0.2
             }
            },
            "type": "bar"
           }
          ],
          "barpolar": [
           {
            "marker": {
             "line": {
              "color": "#E5ECF6",
              "width": 0.5
             },
             "pattern": {
              "fillmode": "overlay",
              "size": 10,
              "solidity": 0.2
             }
            },
            "type": "barpolar"
           }
          ],
          "carpet": [
           {
            "aaxis": {
             "endlinecolor": "#2a3f5f",
             "gridcolor": "white",
             "linecolor": "white",
             "minorgridcolor": "white",
             "startlinecolor": "#2a3f5f"
            },
            "baxis": {
             "endlinecolor": "#2a3f5f",
             "gridcolor": "white",
             "linecolor": "white",
             "minorgridcolor": "white",
             "startlinecolor": "#2a3f5f"
            },
            "type": "carpet"
           }
          ],
          "choropleth": [
           {
            "colorbar": {
             "outlinewidth": 0,
             "ticks": ""
            },
            "type": "choropleth"
           }
          ],
          "contour": [
           {
            "colorbar": {
             "outlinewidth": 0,
             "ticks": ""
            },
            "colorscale": [
             [
              0,
              "#0d0887"
             ],
             [
              0.1111111111111111,
              "#46039f"
             ],
             [
              0.2222222222222222,
              "#7201a8"
             ],
             [
              0.3333333333333333,
              "#9c179e"
             ],
             [
              0.4444444444444444,
              "#bd3786"
             ],
             [
              0.5555555555555556,
              "#d8576b"
             ],
             [
              0.6666666666666666,
              "#ed7953"
             ],
             [
              0.7777777777777778,
              "#fb9f3a"
             ],
             [
              0.8888888888888888,
              "#fdca26"
             ],
             [
              1,
              "#f0f921"
             ]
            ],
            "type": "contour"
           }
          ],
          "contourcarpet": [
           {
            "colorbar": {
             "outlinewidth": 0,
             "ticks": ""
            },
            "type": "contourcarpet"
           }
          ],
          "heatmap": [
           {
            "colorbar": {
             "outlinewidth": 0,
             "ticks": ""
            },
            "colorscale": [
             [
              0,
              "#0d0887"
             ],
             [
              0.1111111111111111,
              "#46039f"
             ],
             [
              0.2222222222222222,
              "#7201a8"
             ],
             [
              0.3333333333333333,
              "#9c179e"
             ],
             [
              0.4444444444444444,
              "#bd3786"
             ],
             [
              0.5555555555555556,
              "#d8576b"
             ],
             [
              0.6666666666666666,
              "#ed7953"
             ],
             [
              0.7777777777777778,
              "#fb9f3a"
             ],
             [
              0.8888888888888888,
              "#fdca26"
             ],
             [
              1,
              "#f0f921"
             ]
            ],
            "type": "heatmap"
           }
          ],
          "heatmapgl": [
           {
            "colorbar": {
             "outlinewidth": 0,
             "ticks": ""
            },
            "colorscale": [
             [
              0,
              "#0d0887"
             ],
             [
              0.1111111111111111,
              "#46039f"
             ],
             [
              0.2222222222222222,
              "#7201a8"
             ],
             [
              0.3333333333333333,
              "#9c179e"
             ],
             [
              0.4444444444444444,
              "#bd3786"
             ],
             [
              0.5555555555555556,
              "#d8576b"
             ],
             [
              0.6666666666666666,
              "#ed7953"
             ],
             [
              0.7777777777777778,
              "#fb9f3a"
             ],
             [
              0.8888888888888888,
              "#fdca26"
             ],
             [
              1,
              "#f0f921"
             ]
            ],
            "type": "heatmapgl"
           }
          ],
          "histogram": [
           {
            "marker": {
             "pattern": {
              "fillmode": "overlay",
              "size": 10,
              "solidity": 0.2
             }
            },
            "type": "histogram"
           }
          ],
          "histogram2d": [
           {
            "colorbar": {
             "outlinewidth": 0,
             "ticks": ""
            },
            "colorscale": [
             [
              0,
              "#0d0887"
             ],
             [
              0.1111111111111111,
              "#46039f"
             ],
             [
              0.2222222222222222,
              "#7201a8"
             ],
             [
              0.3333333333333333,
              "#9c179e"
             ],
             [
              0.4444444444444444,
              "#bd3786"
             ],
             [
              0.5555555555555556,
              "#d8576b"
             ],
             [
              0.6666666666666666,
              "#ed7953"
             ],
             [
              0.7777777777777778,
              "#fb9f3a"
             ],
             [
              0.8888888888888888,
              "#fdca26"
             ],
             [
              1,
              "#f0f921"
             ]
            ],
            "type": "histogram2d"
           }
          ],
          "histogram2dcontour": [
           {
            "colorbar": {
             "outlinewidth": 0,
             "ticks": ""
            },
            "colorscale": [
             [
              0,
              "#0d0887"
             ],
             [
              0.1111111111111111,
              "#46039f"
             ],
             [
              0.2222222222222222,
              "#7201a8"
             ],
             [
              0.3333333333333333,
              "#9c179e"
             ],
             [
              0.4444444444444444,
              "#bd3786"
             ],
             [
              0.5555555555555556,
              "#d8576b"
             ],
             [
              0.6666666666666666,
              "#ed7953"
             ],
             [
              0.7777777777777778,
              "#fb9f3a"
             ],
             [
              0.8888888888888888,
              "#fdca26"
             ],
             [
              1,
              "#f0f921"
             ]
            ],
            "type": "histogram2dcontour"
           }
          ],
          "mesh3d": [
           {
            "colorbar": {
             "outlinewidth": 0,
             "ticks": ""
            },
            "type": "mesh3d"
           }
          ],
          "parcoords": [
           {
            "line": {
             "colorbar": {
              "outlinewidth": 0,
              "ticks": ""
             }
            },
            "type": "parcoords"
           }
          ],
          "pie": [
           {
            "automargin": true,
            "type": "pie"
           }
          ],
          "scatter": [
           {
            "fillpattern": {
             "fillmode": "overlay",
             "size": 10,
             "solidity": 0.2
            },
            "type": "scatter"
           }
          ],
          "scatter3d": [
           {
            "line": {
             "colorbar": {
              "outlinewidth": 0,
              "ticks": ""
             }
            },
            "marker": {
             "colorbar": {
              "outlinewidth": 0,
              "ticks": ""
             }
            },
            "type": "scatter3d"
           }
          ],
          "scattercarpet": [
           {
            "marker": {
             "colorbar": {
              "outlinewidth": 0,
              "ticks": ""
             }
            },
            "type": "scattercarpet"
           }
          ],
          "scattergeo": [
           {
            "marker": {
             "colorbar": {
              "outlinewidth": 0,
              "ticks": ""
             }
            },
            "type": "scattergeo"
           }
          ],
          "scattergl": [
           {
            "marker": {
             "colorbar": {
              "outlinewidth": 0,
              "ticks": ""
             }
            },
            "type": "scattergl"
           }
          ],
          "scattermapbox": [
           {
            "marker": {
             "colorbar": {
              "outlinewidth": 0,
              "ticks": ""
             }
            },
            "type": "scattermapbox"
           }
          ],
          "scatterpolar": [
           {
            "marker": {
             "colorbar": {
              "outlinewidth": 0,
              "ticks": ""
             }
            },
            "type": "scatterpolar"
           }
          ],
          "scatterpolargl": [
           {
            "marker": {
             "colorbar": {
              "outlinewidth": 0,
              "ticks": ""
             }
            },
            "type": "scatterpolargl"
           }
          ],
          "scatterternary": [
           {
            "marker": {
             "colorbar": {
              "outlinewidth": 0,
              "ticks": ""
             }
            },
            "type": "scatterternary"
           }
          ],
          "surface": [
           {
            "colorbar": {
             "outlinewidth": 0,
             "ticks": ""
            },
            "colorscale": [
             [
              0,
              "#0d0887"
             ],
             [
              0.1111111111111111,
              "#46039f"
             ],
             [
              0.2222222222222222,
              "#7201a8"
             ],
             [
              0.3333333333333333,
              "#9c179e"
             ],
             [
              0.4444444444444444,
              "#bd3786"
             ],
             [
              0.5555555555555556,
              "#d8576b"
             ],
             [
              0.6666666666666666,
              "#ed7953"
             ],
             [
              0.7777777777777778,
              "#fb9f3a"
             ],
             [
              0.8888888888888888,
              "#fdca26"
             ],
             [
              1,
              "#f0f921"
             ]
            ],
            "type": "surface"
           }
          ],
          "table": [
           {
            "cells": {
             "fill": {
              "color": "#EBF0F8"
             },
             "line": {
              "color": "white"
             }
            },
            "header": {
             "fill": {
              "color": "#C8D4E3"
             },
             "line": {
              "color": "white"
             }
            },
            "type": "table"
           }
          ]
         },
         "layout": {
          "annotationdefaults": {
           "arrowcolor": "#2a3f5f",
           "arrowhead": 0,
           "arrowwidth": 1
          },
          "autotypenumbers": "strict",
          "coloraxis": {
           "colorbar": {
            "outlinewidth": 0,
            "ticks": ""
           }
          },
          "colorscale": {
           "diverging": [
            [
             0,
             "#8e0152"
            ],
            [
             0.1,
             "#c51b7d"
            ],
            [
             0.2,
             "#de77ae"
            ],
            [
             0.3,
             "#f1b6da"
            ],
            [
             0.4,
             "#fde0ef"
            ],
            [
             0.5,
             "#f7f7f7"
            ],
            [
             0.6,
             "#e6f5d0"
            ],
            [
             0.7,
             "#b8e186"
            ],
            [
             0.8,
             "#7fbc41"
            ],
            [
             0.9,
             "#4d9221"
            ],
            [
             1,
             "#276419"
            ]
           ],
           "sequential": [
            [
             0,
             "#0d0887"
            ],
            [
             0.1111111111111111,
             "#46039f"
            ],
            [
             0.2222222222222222,
             "#7201a8"
            ],
            [
             0.3333333333333333,
             "#9c179e"
            ],
            [
             0.4444444444444444,
             "#bd3786"
            ],
            [
             0.5555555555555556,
             "#d8576b"
            ],
            [
             0.6666666666666666,
             "#ed7953"
            ],
            [
             0.7777777777777778,
             "#fb9f3a"
            ],
            [
             0.8888888888888888,
             "#fdca26"
            ],
            [
             1,
             "#f0f921"
            ]
           ],
           "sequentialminus": [
            [
             0,
             "#0d0887"
            ],
            [
             0.1111111111111111,
             "#46039f"
            ],
            [
             0.2222222222222222,
             "#7201a8"
            ],
            [
             0.3333333333333333,
             "#9c179e"
            ],
            [
             0.4444444444444444,
             "#bd3786"
            ],
            [
             0.5555555555555556,
             "#d8576b"
            ],
            [
             0.6666666666666666,
             "#ed7953"
            ],
            [
             0.7777777777777778,
             "#fb9f3a"
            ],
            [
             0.8888888888888888,
             "#fdca26"
            ],
            [
             1,
             "#f0f921"
            ]
           ]
          },
          "colorway": [
           "#636efa",
           "#EF553B",
           "#00cc96",
           "#ab63fa",
           "#FFA15A",
           "#19d3f3",
           "#FF6692",
           "#B6E880",
           "#FF97FF",
           "#FECB52"
          ],
          "font": {
           "color": "#2a3f5f"
          },
          "geo": {
           "bgcolor": "white",
           "lakecolor": "white",
           "landcolor": "#E5ECF6",
           "showlakes": true,
           "showland": true,
           "subunitcolor": "white"
          },
          "hoverlabel": {
           "align": "left"
          },
          "hovermode": "closest",
          "mapbox": {
           "style": "light"
          },
          "paper_bgcolor": "white",
          "plot_bgcolor": "#E5ECF6",
          "polar": {
           "angularaxis": {
            "gridcolor": "white",
            "linecolor": "white",
            "ticks": ""
           },
           "bgcolor": "#E5ECF6",
           "radialaxis": {
            "gridcolor": "white",
            "linecolor": "white",
            "ticks": ""
           }
          },
          "scene": {
           "xaxis": {
            "backgroundcolor": "#E5ECF6",
            "gridcolor": "white",
            "gridwidth": 2,
            "linecolor": "white",
            "showbackground": true,
            "ticks": "",
            "zerolinecolor": "white"
           },
           "yaxis": {
            "backgroundcolor": "#E5ECF6",
            "gridcolor": "white",
            "gridwidth": 2,
            "linecolor": "white",
            "showbackground": true,
            "ticks": "",
            "zerolinecolor": "white"
           },
           "zaxis": {
            "backgroundcolor": "#E5ECF6",
            "gridcolor": "white",
            "gridwidth": 2,
            "linecolor": "white",
            "showbackground": true,
            "ticks": "",
            "zerolinecolor": "white"
           }
          },
          "shapedefaults": {
           "line": {
            "color": "#2a3f5f"
           }
          },
          "ternary": {
           "aaxis": {
            "gridcolor": "white",
            "linecolor": "white",
            "ticks": ""
           },
           "baxis": {
            "gridcolor": "white",
            "linecolor": "white",
            "ticks": ""
           },
           "bgcolor": "#E5ECF6",
           "caxis": {
            "gridcolor": "white",
            "linecolor": "white",
            "ticks": ""
           }
          },
          "title": {
           "x": 0.05
          },
          "xaxis": {
           "automargin": true,
           "gridcolor": "white",
           "linecolor": "white",
           "ticks": "",
           "title": {
            "standoff": 15
           },
           "zerolinecolor": "white",
           "zerolinewidth": 2
          },
          "yaxis": {
           "automargin": true,
           "gridcolor": "white",
           "linecolor": "white",
           "ticks": "",
           "title": {
            "standoff": 15
           },
           "zerolinecolor": "white",
           "zerolinewidth": 2
          }
         }
        },
        "title": {
         "text": "Rochester, NY, United States"
        },
        "width": 1500,
        "xaxis": {
         "anchor": "y",
         "domain": [
          0,
          0.2125
         ],
         "title": {
          "text": "Year"
         }
        },
        "xaxis10": {
         "anchor": "y10",
         "domain": [
          0.2625,
          0.475
         ],
         "title": {
          "text": "Year"
         }
        },
        "xaxis11": {
         "anchor": "y11",
         "domain": [
          0.525,
          0.7375
         ],
         "title": {
          "text": "Year"
         }
        },
        "xaxis12": {
         "anchor": "y12",
         "domain": [
          0.7875,
          1
         ],
         "title": {
          "text": "Year"
         }
        },
        "xaxis13": {
         "anchor": "y13",
         "domain": [
          0,
          0.2125
         ],
         "title": {
          "text": "Year"
         }
        },
        "xaxis14": {
         "anchor": "y14",
         "domain": [
          0.2625,
          0.475
         ],
         "title": {
          "text": "Year"
         }
        },
        "xaxis15": {
         "anchor": "y15",
         "domain": [
          0.525,
          0.7375
         ],
         "title": {
          "text": "Year"
         }
        },
        "xaxis16": {
         "anchor": "y16",
         "domain": [
          0.7875,
          1
         ]
        },
        "xaxis2": {
         "anchor": "y2",
         "domain": [
          0.2625,
          0.475
         ],
         "title": {
          "text": "Year"
         }
        },
        "xaxis3": {
         "anchor": "y3",
         "domain": [
          0.525,
          0.7375
         ],
         "title": {
          "text": "Year"
         }
        },
        "xaxis4": {
         "anchor": "y4",
         "domain": [
          0.7875,
          1
         ],
         "title": {
          "text": "Year"
         }
        },
        "xaxis5": {
         "anchor": "y5",
         "domain": [
          0,
          0.2125
         ],
         "title": {
          "text": "Year"
         }
        },
        "xaxis6": {
         "anchor": "y6",
         "domain": [
          0.2625,
          0.475
         ],
         "title": {
          "text": "Year"
         }
        },
        "xaxis7": {
         "anchor": "y7",
         "domain": [
          0.525,
          0.7375
         ],
         "title": {
          "text": "Year"
         }
        },
        "xaxis8": {
         "anchor": "y8",
         "domain": [
          0.7875,
          1
         ],
         "title": {
          "text": "Year"
         }
        },
        "xaxis9": {
         "anchor": "y9",
         "domain": [
          0,
          0.2125
         ],
         "title": {
          "text": "Year"
         }
        },
        "yaxis": {
         "anchor": "x",
         "domain": [
          0.84375,
          1
         ],
         "title": {
          "text": "Price to Income Ratio"
         }
        },
        "yaxis10": {
         "anchor": "x10",
         "domain": [
          0.28125,
          0.4375
         ],
         "title": {
          "text": "Cost of Living Index"
         }
        },
        "yaxis11": {
         "anchor": "x11",
         "domain": [
          0.28125,
          0.4375
         ],
         "title": {
          "text": "Rent Index"
         }
        },
        "yaxis12": {
         "anchor": "x12",
         "domain": [
          0.28125,
          0.4375
         ],
         "title": {
          "text": "Cost of Living Plus Rent Index"
         }
        },
        "yaxis13": {
         "anchor": "x13",
         "domain": [
          0,
          0.15625
         ],
         "title": {
          "text": "Groceries Index"
         }
        },
        "yaxis14": {
         "anchor": "x14",
         "domain": [
          0,
          0.15625
         ],
         "title": {
          "text": "Restaurant Index"
         }
        },
        "yaxis15": {
         "anchor": "x15",
         "domain": [
          0,
          0.15625
         ],
         "title": {
          "text": "Local Purchasing Power Index"
         }
        },
        "yaxis16": {
         "anchor": "x16",
         "domain": [
          0,
          0.15625
         ]
        },
        "yaxis2": {
         "anchor": "x2",
         "domain": [
          0.84375,
          1
         ],
         "title": {
          "text": "Gross Rental Yield City Centre"
         }
        },
        "yaxis3": {
         "anchor": "x3",
         "domain": [
          0.84375,
          1
         ],
         "title": {
          "text": "Gross Rental Yield Outside Centre"
         }
        },
        "yaxis4": {
         "anchor": "x4",
         "domain": [
          0.84375,
          1
         ],
         "title": {
          "text": "Price to Rent Ratio City Centre"
         }
        },
        "yaxis5": {
         "anchor": "x5",
         "domain": [
          0.5625,
          0.71875
         ],
         "title": {
          "text": "Price to Rent Ratio Outside City Centre"
         }
        },
        "yaxis6": {
         "anchor": "x6",
         "domain": [
          0.5625,
          0.71875
         ],
         "title": {
          "text": "Mortgage as a Percentage of Income"
         }
        },
        "yaxis7": {
         "anchor": "x7",
         "domain": [
          0.5625,
          0.71875
         ],
         "title": {
          "text": "Affordability Index"
         }
        },
        "yaxis8": {
         "anchor": "x8",
         "domain": [
          0.5625,
          0.71875
         ],
         "title": {
          "text": "Crime Index"
         }
        },
        "yaxis9": {
         "anchor": "x9",
         "domain": [
          0.28125,
          0.4375
         ],
         "title": {
          "text": "Safety Index"
         }
        }
       }
      },
      "text/html": [
       "<div>                            <div id=\"398e8dbe-cf14-4ecb-8f73-bc0b9b6ad46b\" class=\"plotly-graph-div\" style=\"height:1500px; width:1500px;\"></div>            <script type=\"text/javascript\">                require([\"plotly\"], function(Plotly) {                    window.PLOTLYENV=window.PLOTLYENV || {};                                    if (document.getElementById(\"398e8dbe-cf14-4ecb-8f73-bc0b9b6ad46b\")) {                    Plotly.newPlot(                        \"398e8dbe-cf14-4ecb-8f73-bc0b9b6ad46b\",                        [{\"mode\":\"lines+markers\",\"name\":\"Price to Income Ratio\",\"x\":[\"2013\",\"2014\",\"2014-mid\",\"2015\",\"2015-mid\",\"2019-mid\",\"2020\",\"2020-mid\",\"2021\",\"2021-mid\",\"2022\",\"2024-mid\"],\"y\":[1.7,1.9,1.7,1.4,1.2,2.1,2.1,1.7,1.6,1.6,1.7,1.8],\"type\":\"scatter\",\"xaxis\":\"x\",\"yaxis\":\"y\"},{\"mode\":\"lines+markers\",\"name\":\"Gross Rental Yield City Centre\",\"x\":[\"2013\",\"2014\",\"2014-mid\",\"2015\",\"2015-mid\",\"2019-mid\",\"2020\",\"2020-mid\",\"2021\",\"2021-mid\",\"2022\",\"2024-mid\"],\"y\":[15.0,18.8,18.9,33.0,31.8,16.9,15.9,15.1,13.7,13.0,13.4,23.0],\"type\":\"scatter\",\"xaxis\":\"x2\",\"yaxis\":\"y2\"},{\"mode\":\"lines+markers\",\"name\":\"Gross Rental Yield Outside Centre\",\"x\":[\"2013\",\"2014\",\"2014-mid\",\"2015\",\"2015-mid\",\"2019-mid\",\"2020\",\"2020-mid\",\"2021\",\"2021-mid\",\"2022\",\"2024-mid\"],\"y\":[23.5,22.8,22.8,20.8,20.6,22.4,21.0,22.4,27.1,26.9,27.3,20.4],\"type\":\"scatter\",\"xaxis\":\"x3\",\"yaxis\":\"y3\"},{\"mode\":\"lines+markers\",\"name\":\"Price to Rent Ratio City Centre\",\"x\":[\"2013\",\"2014\",\"2014-mid\",\"2015\",\"2015-mid\",\"2019-mid\",\"2020\",\"2020-mid\",\"2021\",\"2021-mid\",\"2022\",\"2024-mid\"],\"y\":[6.7,5.3,5.3,3.0,3.1,5.9,6.3,6.6,7.3,7.7,7.4,4.3],\"type\":\"scatter\",\"xaxis\":\"x4\",\"yaxis\":\"y4\"},{\"mode\":\"lines+markers\",\"name\":\"Price to Rent Ratio Outside City Centre\",\"x\":[\"2013\",\"2014\",\"2014-mid\",\"2015\",\"2015-mid\",\"2019-mid\",\"2020\",\"2020-mid\",\"2021\",\"2021-mid\",\"2022\",\"2024-mid\"],\"y\":[4.3,4.4,4.4,4.8,4.8,4.5,4.8,4.5,3.7,3.7,3.7,4.9],\"type\":\"scatter\",\"xaxis\":\"x5\",\"yaxis\":\"y5\"},{\"mode\":\"lines+markers\",\"name\":\"Mortgage as a Percentage of Income\",\"x\":[\"2013\",\"2014\",\"2014-mid\",\"2015\",\"2015-mid\",\"2019-mid\",\"2020\",\"2020-mid\",\"2021\",\"2021-mid\",\"2022\",\"2024-mid\"],\"y\":[\"12.3\",\"15.3\",\"13.5\",\"11.2\",\"9.0\",\"15.6\",\"15.8\",\"12.5\",\"12.4\",\"11.9\",\"11.7\",\"16.1\"],\"type\":\"scatter\",\"xaxis\":\"x6\",\"yaxis\":\"y6\"},{\"mode\":\"lines+markers\",\"name\":\"Affordability Index\",\"x\":[\"2013\",\"2014\",\"2014-mid\",\"2015\",\"2015-mid\",\"2019-mid\",\"2020\",\"2020-mid\",\"2021\",\"2021-mid\",\"2022\",\"2024-mid\"],\"y\":[\"8.1\",\"6.5\",\"7.4\",\"9.0\",\"11.1\",\"6.4\",\"6.3\",\"8.0\",\"8.1\",\"8.4\",\"8.5\",\"6.2\"],\"type\":\"scatter\",\"xaxis\":\"x7\",\"yaxis\":\"y7\"},{\"mode\":\"lines+markers\",\"name\":\"Crime Index\",\"x\":[\"2013\",\"2014\",\"2014-mid\",\"2015\",\"2015-mid\",\"2019-mid\",\"2020\",\"2020-mid\",\"2021\",\"2021-mid\",\"2022\",\"2024-mid\"],\"y\":[null,null,68.8,null,75.9,null,null,null,null,null,63.4,null],\"type\":\"scatter\",\"xaxis\":\"x8\",\"yaxis\":\"y8\"},{\"mode\":\"lines+markers\",\"name\":\"Safety Index\",\"x\":[\"2013\",\"2014\",\"2014-mid\",\"2015\",\"2015-mid\",\"2019-mid\",\"2020\",\"2020-mid\",\"2021\",\"2021-mid\",\"2022\",\"2024-mid\"],\"y\":[null,null,31.2,null,24.1,null,null,null,null,null,36.6,null],\"type\":\"scatter\",\"xaxis\":\"x9\",\"yaxis\":\"y9\"},{\"mode\":\"lines+markers\",\"name\":\"Cost of Living Index\",\"x\":[\"2013\",\"2014\",\"2014-mid\",\"2015\",\"2015-mid\",\"2019-mid\",\"2020\",\"2020-mid\",\"2021\",\"2021-mid\",\"2022\",\"2024-mid\"],\"y\":[null,null,null,null,null,null,null,null,null,null,null,null],\"type\":\"scatter\",\"xaxis\":\"x10\",\"yaxis\":\"y10\"},{\"mode\":\"lines+markers\",\"name\":\"Rent Index\",\"x\":[\"2013\",\"2014\",\"2014-mid\",\"2015\",\"2015-mid\",\"2019-mid\",\"2020\",\"2020-mid\",\"2021\",\"2021-mid\",\"2022\",\"2024-mid\"],\"y\":[null,null,null,null,null,null,null,null,null,null,null,null],\"type\":\"scatter\",\"xaxis\":\"x11\",\"yaxis\":\"y11\"},{\"mode\":\"lines+markers\",\"name\":\"Cost of Living Plus Rent Index\",\"x\":[\"2013\",\"2014\",\"2014-mid\",\"2015\",\"2015-mid\",\"2019-mid\",\"2020\",\"2020-mid\",\"2021\",\"2021-mid\",\"2022\",\"2024-mid\"],\"y\":[null,null,null,null,null,null,null,null,null,null,null,null],\"type\":\"scatter\",\"xaxis\":\"x12\",\"yaxis\":\"y12\"},{\"mode\":\"lines+markers\",\"name\":\"Groceries Index\",\"x\":[\"2013\",\"2014\",\"2014-mid\",\"2015\",\"2015-mid\",\"2019-mid\",\"2020\",\"2020-mid\",\"2021\",\"2021-mid\",\"2022\",\"2024-mid\"],\"y\":[null,null,null,null,null,null,null,null,null,null,null,null],\"type\":\"scatter\",\"xaxis\":\"x13\",\"yaxis\":\"y13\"},{\"mode\":\"lines+markers\",\"name\":\"Restaurant Index\",\"x\":[\"2013\",\"2014\",\"2014-mid\",\"2015\",\"2015-mid\",\"2019-mid\",\"2020\",\"2020-mid\",\"2021\",\"2021-mid\",\"2022\",\"2024-mid\"],\"y\":[null,null,null,null,null,null,null,null,null,null,null,null],\"type\":\"scatter\",\"xaxis\":\"x14\",\"yaxis\":\"y14\"},{\"mode\":\"lines+markers\",\"name\":\"Local Purchasing Power Index\",\"x\":[\"2013\",\"2014\",\"2014-mid\",\"2015\",\"2015-mid\",\"2019-mid\",\"2020\",\"2020-mid\",\"2021\",\"2021-mid\",\"2022\",\"2024-mid\"],\"y\":[null,null,null,null,null,null,null,null,null,null,null,null],\"type\":\"scatter\",\"xaxis\":\"x15\",\"yaxis\":\"y15\"}],                        {\"template\":{\"data\":{\"histogram2dcontour\":[{\"type\":\"histogram2dcontour\",\"colorbar\":{\"outlinewidth\":0,\"ticks\":\"\"},\"colorscale\":[[0.0,\"#0d0887\"],[0.1111111111111111,\"#46039f\"],[0.2222222222222222,\"#7201a8\"],[0.3333333333333333,\"#9c179e\"],[0.4444444444444444,\"#bd3786\"],[0.5555555555555556,\"#d8576b\"],[0.6666666666666666,\"#ed7953\"],[0.7777777777777778,\"#fb9f3a\"],[0.8888888888888888,\"#fdca26\"],[1.0,\"#f0f921\"]]}],\"choropleth\":[{\"type\":\"choropleth\",\"colorbar\":{\"outlinewidth\":0,\"ticks\":\"\"}}],\"histogram2d\":[{\"type\":\"histogram2d\",\"colorbar\":{\"outlinewidth\":0,\"ticks\":\"\"},\"colorscale\":[[0.0,\"#0d0887\"],[0.1111111111111111,\"#46039f\"],[0.2222222222222222,\"#7201a8\"],[0.3333333333333333,\"#9c179e\"],[0.4444444444444444,\"#bd3786\"],[0.5555555555555556,\"#d8576b\"],[0.6666666666666666,\"#ed7953\"],[0.7777777777777778,\"#fb9f3a\"],[0.8888888888888888,\"#fdca26\"],[1.0,\"#f0f921\"]]}],\"heatmap\":[{\"type\":\"heatmap\",\"colorbar\":{\"outlinewidth\":0,\"ticks\":\"\"},\"colorscale\":[[0.0,\"#0d0887\"],[0.1111111111111111,\"#46039f\"],[0.2222222222222222,\"#7201a8\"],[0.3333333333333333,\"#9c179e\"],[0.4444444444444444,\"#bd3786\"],[0.5555555555555556,\"#d8576b\"],[0.6666666666666666,\"#ed7953\"],[0.7777777777777778,\"#fb9f3a\"],[0.8888888888888888,\"#fdca26\"],[1.0,\"#f0f921\"]]}],\"heatmapgl\":[{\"type\":\"heatmapgl\",\"colorbar\":{\"outlinewidth\":0,\"ticks\":\"\"},\"colorscale\":[[0.0,\"#0d0887\"],[0.1111111111111111,\"#46039f\"],[0.2222222222222222,\"#7201a8\"],[0.3333333333333333,\"#9c179e\"],[0.4444444444444444,\"#bd3786\"],[0.5555555555555556,\"#d8576b\"],[0.6666666666666666,\"#ed7953\"],[0.7777777777777778,\"#fb9f3a\"],[0.8888888888888888,\"#fdca26\"],[1.0,\"#f0f921\"]]}],\"contourcarpet\":[{\"type\":\"contourcarpet\",\"colorbar\":{\"outlinewidth\":0,\"ticks\":\"\"}}],\"contour\":[{\"type\":\"contour\",\"colorbar\":{\"outlinewidth\":0,\"ticks\":\"\"},\"colorscale\":[[0.0,\"#0d0887\"],[0.1111111111111111,\"#46039f\"],[0.2222222222222222,\"#7201a8\"],[0.3333333333333333,\"#9c179e\"],[0.4444444444444444,\"#bd3786\"],[0.5555555555555556,\"#d8576b\"],[0.6666666666666666,\"#ed7953\"],[0.7777777777777778,\"#fb9f3a\"],[0.8888888888888888,\"#fdca26\"],[1.0,\"#f0f921\"]]}],\"surface\":[{\"type\":\"surface\",\"colorbar\":{\"outlinewidth\":0,\"ticks\":\"\"},\"colorscale\":[[0.0,\"#0d0887\"],[0.1111111111111111,\"#46039f\"],[0.2222222222222222,\"#7201a8\"],[0.3333333333333333,\"#9c179e\"],[0.4444444444444444,\"#bd3786\"],[0.5555555555555556,\"#d8576b\"],[0.6666666666666666,\"#ed7953\"],[0.7777777777777778,\"#fb9f3a\"],[0.8888888888888888,\"#fdca26\"],[1.0,\"#f0f921\"]]}],\"mesh3d\":[{\"type\":\"mesh3d\",\"colorbar\":{\"outlinewidth\":0,\"ticks\":\"\"}}],\"scatter\":[{\"fillpattern\":{\"fillmode\":\"overlay\",\"size\":10,\"solidity\":0.2},\"type\":\"scatter\"}],\"parcoords\":[{\"type\":\"parcoords\",\"line\":{\"colorbar\":{\"outlinewidth\":0,\"ticks\":\"\"}}}],\"scatterpolargl\":[{\"type\":\"scatterpolargl\",\"marker\":{\"colorbar\":{\"outlinewidth\":0,\"ticks\":\"\"}}}],\"bar\":[{\"error_x\":{\"color\":\"#2a3f5f\"},\"error_y\":{\"color\":\"#2a3f5f\"},\"marker\":{\"line\":{\"color\":\"#E5ECF6\",\"width\":0.5},\"pattern\":{\"fillmode\":\"overlay\",\"size\":10,\"solidity\":0.2}},\"type\":\"bar\"}],\"scattergeo\":[{\"type\":\"scattergeo\",\"marker\":{\"colorbar\":{\"outlinewidth\":0,\"ticks\":\"\"}}}],\"scatterpolar\":[{\"type\":\"scatterpolar\",\"marker\":{\"colorbar\":{\"outlinewidth\":0,\"ticks\":\"\"}}}],\"histogram\":[{\"marker\":{\"pattern\":{\"fillmode\":\"overlay\",\"size\":10,\"solidity\":0.2}},\"type\":\"histogram\"}],\"scattergl\":[{\"type\":\"scattergl\",\"marker\":{\"colorbar\":{\"outlinewidth\":0,\"ticks\":\"\"}}}],\"scatter3d\":[{\"type\":\"scatter3d\",\"line\":{\"colorbar\":{\"outlinewidth\":0,\"ticks\":\"\"}},\"marker\":{\"colorbar\":{\"outlinewidth\":0,\"ticks\":\"\"}}}],\"scattermapbox\":[{\"type\":\"scattermapbox\",\"marker\":{\"colorbar\":{\"outlinewidth\":0,\"ticks\":\"\"}}}],\"scatterternary\":[{\"type\":\"scatterternary\",\"marker\":{\"colorbar\":{\"outlinewidth\":0,\"ticks\":\"\"}}}],\"scattercarpet\":[{\"type\":\"scattercarpet\",\"marker\":{\"colorbar\":{\"outlinewidth\":0,\"ticks\":\"\"}}}],\"carpet\":[{\"aaxis\":{\"endlinecolor\":\"#2a3f5f\",\"gridcolor\":\"white\",\"linecolor\":\"white\",\"minorgridcolor\":\"white\",\"startlinecolor\":\"#2a3f5f\"},\"baxis\":{\"endlinecolor\":\"#2a3f5f\",\"gridcolor\":\"white\",\"linecolor\":\"white\",\"minorgridcolor\":\"white\",\"startlinecolor\":\"#2a3f5f\"},\"type\":\"carpet\"}],\"table\":[{\"cells\":{\"fill\":{\"color\":\"#EBF0F8\"},\"line\":{\"color\":\"white\"}},\"header\":{\"fill\":{\"color\":\"#C8D4E3\"},\"line\":{\"color\":\"white\"}},\"type\":\"table\"}],\"barpolar\":[{\"marker\":{\"line\":{\"color\":\"#E5ECF6\",\"width\":0.5},\"pattern\":{\"fillmode\":\"overlay\",\"size\":10,\"solidity\":0.2}},\"type\":\"barpolar\"}],\"pie\":[{\"automargin\":true,\"type\":\"pie\"}]},\"layout\":{\"autotypenumbers\":\"strict\",\"colorway\":[\"#636efa\",\"#EF553B\",\"#00cc96\",\"#ab63fa\",\"#FFA15A\",\"#19d3f3\",\"#FF6692\",\"#B6E880\",\"#FF97FF\",\"#FECB52\"],\"font\":{\"color\":\"#2a3f5f\"},\"hovermode\":\"closest\",\"hoverlabel\":{\"align\":\"left\"},\"paper_bgcolor\":\"white\",\"plot_bgcolor\":\"#E5ECF6\",\"polar\":{\"bgcolor\":\"#E5ECF6\",\"angularaxis\":{\"gridcolor\":\"white\",\"linecolor\":\"white\",\"ticks\":\"\"},\"radialaxis\":{\"gridcolor\":\"white\",\"linecolor\":\"white\",\"ticks\":\"\"}},\"ternary\":{\"bgcolor\":\"#E5ECF6\",\"aaxis\":{\"gridcolor\":\"white\",\"linecolor\":\"white\",\"ticks\":\"\"},\"baxis\":{\"gridcolor\":\"white\",\"linecolor\":\"white\",\"ticks\":\"\"},\"caxis\":{\"gridcolor\":\"white\",\"linecolor\":\"white\",\"ticks\":\"\"}},\"coloraxis\":{\"colorbar\":{\"outlinewidth\":0,\"ticks\":\"\"}},\"colorscale\":{\"sequential\":[[0.0,\"#0d0887\"],[0.1111111111111111,\"#46039f\"],[0.2222222222222222,\"#7201a8\"],[0.3333333333333333,\"#9c179e\"],[0.4444444444444444,\"#bd3786\"],[0.5555555555555556,\"#d8576b\"],[0.6666666666666666,\"#ed7953\"],[0.7777777777777778,\"#fb9f3a\"],[0.8888888888888888,\"#fdca26\"],[1.0,\"#f0f921\"]],\"sequentialminus\":[[0.0,\"#0d0887\"],[0.1111111111111111,\"#46039f\"],[0.2222222222222222,\"#7201a8\"],[0.3333333333333333,\"#9c179e\"],[0.4444444444444444,\"#bd3786\"],[0.5555555555555556,\"#d8576b\"],[0.6666666666666666,\"#ed7953\"],[0.7777777777777778,\"#fb9f3a\"],[0.8888888888888888,\"#fdca26\"],[1.0,\"#f0f921\"]],\"diverging\":[[0,\"#8e0152\"],[0.1,\"#c51b7d\"],[0.2,\"#de77ae\"],[0.3,\"#f1b6da\"],[0.4,\"#fde0ef\"],[0.5,\"#f7f7f7\"],[0.6,\"#e6f5d0\"],[0.7,\"#b8e186\"],[0.8,\"#7fbc41\"],[0.9,\"#4d9221\"],[1,\"#276419\"]]},\"xaxis\":{\"gridcolor\":\"white\",\"linecolor\":\"white\",\"ticks\":\"\",\"title\":{\"standoff\":15},\"zerolinecolor\":\"white\",\"automargin\":true,\"zerolinewidth\":2},\"yaxis\":{\"gridcolor\":\"white\",\"linecolor\":\"white\",\"ticks\":\"\",\"title\":{\"standoff\":15},\"zerolinecolor\":\"white\",\"automargin\":true,\"zerolinewidth\":2},\"scene\":{\"xaxis\":{\"backgroundcolor\":\"#E5ECF6\",\"gridcolor\":\"white\",\"linecolor\":\"white\",\"showbackground\":true,\"ticks\":\"\",\"zerolinecolor\":\"white\",\"gridwidth\":2},\"yaxis\":{\"backgroundcolor\":\"#E5ECF6\",\"gridcolor\":\"white\",\"linecolor\":\"white\",\"showbackground\":true,\"ticks\":\"\",\"zerolinecolor\":\"white\",\"gridwidth\":2},\"zaxis\":{\"backgroundcolor\":\"#E5ECF6\",\"gridcolor\":\"white\",\"linecolor\":\"white\",\"showbackground\":true,\"ticks\":\"\",\"zerolinecolor\":\"white\",\"gridwidth\":2}},\"shapedefaults\":{\"line\":{\"color\":\"#2a3f5f\"}},\"annotationdefaults\":{\"arrowcolor\":\"#2a3f5f\",\"arrowhead\":0,\"arrowwidth\":1},\"geo\":{\"bgcolor\":\"white\",\"landcolor\":\"#E5ECF6\",\"subunitcolor\":\"white\",\"showland\":true,\"showlakes\":true,\"lakecolor\":\"white\"},\"title\":{\"x\":0.05},\"mapbox\":{\"style\":\"light\"}}},\"xaxis\":{\"anchor\":\"y\",\"domain\":[0.0,0.2125],\"title\":{\"text\":\"Year\"}},\"yaxis\":{\"anchor\":\"x\",\"domain\":[0.84375,1.0],\"title\":{\"text\":\"Price to Income Ratio\"}},\"xaxis2\":{\"anchor\":\"y2\",\"domain\":[0.2625,0.475],\"title\":{\"text\":\"Year\"}},\"yaxis2\":{\"anchor\":\"x2\",\"domain\":[0.84375,1.0],\"title\":{\"text\":\"Gross Rental Yield City Centre\"}},\"xaxis3\":{\"anchor\":\"y3\",\"domain\":[0.525,0.7375],\"title\":{\"text\":\"Year\"}},\"yaxis3\":{\"anchor\":\"x3\",\"domain\":[0.84375,1.0],\"title\":{\"text\":\"Gross Rental Yield Outside Centre\"}},\"xaxis4\":{\"anchor\":\"y4\",\"domain\":[0.7875,1.0],\"title\":{\"text\":\"Year\"}},\"yaxis4\":{\"anchor\":\"x4\",\"domain\":[0.84375,1.0],\"title\":{\"text\":\"Price to Rent Ratio City Centre\"}},\"xaxis5\":{\"anchor\":\"y5\",\"domain\":[0.0,0.2125],\"title\":{\"text\":\"Year\"}},\"yaxis5\":{\"anchor\":\"x5\",\"domain\":[0.5625,0.71875],\"title\":{\"text\":\"Price to Rent Ratio Outside City Centre\"}},\"xaxis6\":{\"anchor\":\"y6\",\"domain\":[0.2625,0.475],\"title\":{\"text\":\"Year\"}},\"yaxis6\":{\"anchor\":\"x6\",\"domain\":[0.5625,0.71875],\"title\":{\"text\":\"Mortgage as a Percentage of Income\"}},\"xaxis7\":{\"anchor\":\"y7\",\"domain\":[0.525,0.7375],\"title\":{\"text\":\"Year\"}},\"yaxis7\":{\"anchor\":\"x7\",\"domain\":[0.5625,0.71875],\"title\":{\"text\":\"Affordability Index\"}},\"xaxis8\":{\"anchor\":\"y8\",\"domain\":[0.7875,1.0],\"title\":{\"text\":\"Year\"}},\"yaxis8\":{\"anchor\":\"x8\",\"domain\":[0.5625,0.71875],\"title\":{\"text\":\"Crime Index\"}},\"xaxis9\":{\"anchor\":\"y9\",\"domain\":[0.0,0.2125],\"title\":{\"text\":\"Year\"}},\"yaxis9\":{\"anchor\":\"x9\",\"domain\":[0.28125,0.4375],\"title\":{\"text\":\"Safety Index\"}},\"xaxis10\":{\"anchor\":\"y10\",\"domain\":[0.2625,0.475],\"title\":{\"text\":\"Year\"}},\"yaxis10\":{\"anchor\":\"x10\",\"domain\":[0.28125,0.4375],\"title\":{\"text\":\"Cost of Living Index\"}},\"xaxis11\":{\"anchor\":\"y11\",\"domain\":[0.525,0.7375],\"title\":{\"text\":\"Year\"}},\"yaxis11\":{\"anchor\":\"x11\",\"domain\":[0.28125,0.4375],\"title\":{\"text\":\"Rent Index\"}},\"xaxis12\":{\"anchor\":\"y12\",\"domain\":[0.7875,1.0],\"title\":{\"text\":\"Year\"}},\"yaxis12\":{\"anchor\":\"x12\",\"domain\":[0.28125,0.4375],\"title\":{\"text\":\"Cost of Living Plus Rent Index\"}},\"xaxis13\":{\"anchor\":\"y13\",\"domain\":[0.0,0.2125],\"title\":{\"text\":\"Year\"}},\"yaxis13\":{\"anchor\":\"x13\",\"domain\":[0.0,0.15625],\"title\":{\"text\":\"Groceries Index\"}},\"xaxis14\":{\"anchor\":\"y14\",\"domain\":[0.2625,0.475],\"title\":{\"text\":\"Year\"}},\"yaxis14\":{\"anchor\":\"x14\",\"domain\":[0.0,0.15625],\"title\":{\"text\":\"Restaurant Index\"}},\"xaxis15\":{\"anchor\":\"y15\",\"domain\":[0.525,0.7375],\"title\":{\"text\":\"Year\"}},\"yaxis15\":{\"anchor\":\"x15\",\"domain\":[0.0,0.15625],\"title\":{\"text\":\"Local Purchasing Power Index\"}},\"xaxis16\":{\"anchor\":\"y16\",\"domain\":[0.7875,1.0]},\"yaxis16\":{\"anchor\":\"x16\",\"domain\":[0.0,0.15625]},\"annotations\":[{\"font\":{\"size\":16},\"showarrow\":false,\"text\":\"Price to Income Ratio\",\"x\":0.10625,\"xanchor\":\"center\",\"xref\":\"paper\",\"y\":1.0,\"yanchor\":\"bottom\",\"yref\":\"paper\"},{\"font\":{\"size\":16},\"showarrow\":false,\"text\":\"Gross Rental Yield City Centre\",\"x\":0.36875,\"xanchor\":\"center\",\"xref\":\"paper\",\"y\":1.0,\"yanchor\":\"bottom\",\"yref\":\"paper\"},{\"font\":{\"size\":16},\"showarrow\":false,\"text\":\"Gross Rental Yield Outside Centre\",\"x\":0.6312500000000001,\"xanchor\":\"center\",\"xref\":\"paper\",\"y\":1.0,\"yanchor\":\"bottom\",\"yref\":\"paper\"},{\"font\":{\"size\":16},\"showarrow\":false,\"text\":\"Price to Rent Ratio City Centre\",\"x\":0.89375,\"xanchor\":\"center\",\"xref\":\"paper\",\"y\":1.0,\"yanchor\":\"bottom\",\"yref\":\"paper\"},{\"font\":{\"size\":16},\"showarrow\":false,\"text\":\"Price to Rent Ratio Outside City Centre\",\"x\":0.10625,\"xanchor\":\"center\",\"xref\":\"paper\",\"y\":0.71875,\"yanchor\":\"bottom\",\"yref\":\"paper\"},{\"font\":{\"size\":16},\"showarrow\":false,\"text\":\"Mortgage as a Percentage of Income\",\"x\":0.36875,\"xanchor\":\"center\",\"xref\":\"paper\",\"y\":0.71875,\"yanchor\":\"bottom\",\"yref\":\"paper\"},{\"font\":{\"size\":16},\"showarrow\":false,\"text\":\"Affordability Index\",\"x\":0.6312500000000001,\"xanchor\":\"center\",\"xref\":\"paper\",\"y\":0.71875,\"yanchor\":\"bottom\",\"yref\":\"paper\"},{\"font\":{\"size\":16},\"showarrow\":false,\"text\":\"Crime Index\",\"x\":0.89375,\"xanchor\":\"center\",\"xref\":\"paper\",\"y\":0.71875,\"yanchor\":\"bottom\",\"yref\":\"paper\"},{\"font\":{\"size\":16},\"showarrow\":false,\"text\":\"Safety Index\",\"x\":0.10625,\"xanchor\":\"center\",\"xref\":\"paper\",\"y\":0.4375,\"yanchor\":\"bottom\",\"yref\":\"paper\"},{\"font\":{\"size\":16},\"showarrow\":false,\"text\":\"Cost of Living Index\",\"x\":0.36875,\"xanchor\":\"center\",\"xref\":\"paper\",\"y\":0.4375,\"yanchor\":\"bottom\",\"yref\":\"paper\"},{\"font\":{\"size\":16},\"showarrow\":false,\"text\":\"Rent Index\",\"x\":0.6312500000000001,\"xanchor\":\"center\",\"xref\":\"paper\",\"y\":0.4375,\"yanchor\":\"bottom\",\"yref\":\"paper\"},{\"font\":{\"size\":16},\"showarrow\":false,\"text\":\"Cost of Living Plus Rent Index\",\"x\":0.89375,\"xanchor\":\"center\",\"xref\":\"paper\",\"y\":0.4375,\"yanchor\":\"bottom\",\"yref\":\"paper\"},{\"font\":{\"size\":16},\"showarrow\":false,\"text\":\"Groceries Index\",\"x\":0.10625,\"xanchor\":\"center\",\"xref\":\"paper\",\"y\":0.15625,\"yanchor\":\"bottom\",\"yref\":\"paper\"},{\"font\":{\"size\":16},\"showarrow\":false,\"text\":\"Restaurant Index\",\"x\":0.36875,\"xanchor\":\"center\",\"xref\":\"paper\",\"y\":0.15625,\"yanchor\":\"bottom\",\"yref\":\"paper\"},{\"font\":{\"size\":16},\"showarrow\":false,\"text\":\"Local Purchasing Power Index\",\"x\":0.6312500000000001,\"xanchor\":\"center\",\"xref\":\"paper\",\"y\":0.15625,\"yanchor\":\"bottom\",\"yref\":\"paper\"}],\"title\":{\"text\":\"Rochester, NY, United States\"},\"height\":1500,\"width\":1500},                        {\"responsive\": true}                    ).then(function(){\n",
       "                            \n",
       "var gd = document.getElementById('398e8dbe-cf14-4ecb-8f73-bc0b9b6ad46b');\n",
       "var x = new MutationObserver(function (mutations, observer) {{\n",
       "        var display = window.getComputedStyle(gd).display;\n",
       "        if (!display || display === 'none') {{\n",
       "            console.log([gd, 'removed!']);\n",
       "            Plotly.purge(gd);\n",
       "            observer.disconnect();\n",
       "        }}\n",
       "}});\n",
       "\n",
       "// Listen for the removal of the full notebook cells\n",
       "var notebookContainer = gd.closest('#notebook-container');\n",
       "if (notebookContainer) {{\n",
       "    x.observe(notebookContainer, {childList: true});\n",
       "}}\n",
       "\n",
       "// Listen for the clearing of the current output cell\n",
       "var outputEl = gd.closest('.output');\n",
       "if (outputEl) {{\n",
       "    x.observe(outputEl, {childList: true});\n",
       "}}\n",
       "\n",
       "                        })                };                });            </script>        </div>"
      ]
     },
     "metadata": {},
     "output_type": "display_data"
    },
    {
     "data": {
      "application/vnd.plotly.v1+json": {
       "config": {
        "plotlyServerURL": "https://plot.ly"
       },
       "data": [
        {
         "mode": "lines+markers",
         "name": "Price to Income Ratio",
         "type": "scatter",
         "x": [
          "2012",
          "2013",
          "2014",
          "2014-mid",
          "2015",
          "2015-mid",
          "2016",
          "2017-mid",
          "2018",
          "2018-mid",
          "2019",
          "2019-mid",
          "2020",
          "2020-mid",
          "2021",
          "2021-mid",
          "2022",
          "2022-mid",
          "2024-mid"
         ],
         "xaxis": "x",
         "y": [
          1.4,
          1.8,
          1.5,
          1.4,
          1.6,
          1.7,
          2.4,
          2.2,
          2.3,
          2,
          2.3,
          2.3,
          2.3,
          2.2,
          2.2,
          1.8,
          2.1,
          2.1,
          1.8
         ],
         "yaxis": "y"
        },
        {
         "mode": "lines+markers",
         "name": "Gross Rental Yield City Centre",
         "type": "scatter",
         "x": [
          "2012",
          "2013",
          "2014",
          "2014-mid",
          "2015",
          "2015-mid",
          "2016",
          "2017-mid",
          "2018",
          "2018-mid",
          "2019",
          "2019-mid",
          "2020",
          "2020-mid",
          "2021",
          "2021-mid",
          "2022",
          "2022-mid",
          "2024-mid"
         ],
         "xaxis": "x2",
         "y": [
          4,
          10.1,
          13.6,
          13.6,
          18.2,
          19.8,
          15.7,
          18.3,
          19.8,
          19.2,
          15.6,
          14.9,
          13.7,
          11.7,
          10.6,
          10.6,
          11.9,
          11.4,
          16.1
         ],
         "yaxis": "y2"
        },
        {
         "mode": "lines+markers",
         "name": "Gross Rental Yield Outside Centre",
         "type": "scatter",
         "x": [
          "2012",
          "2013",
          "2014",
          "2014-mid",
          "2015",
          "2015-mid",
          "2016",
          "2017-mid",
          "2018",
          "2018-mid",
          "2019",
          "2019-mid",
          "2020",
          "2020-mid",
          "2021",
          "2021-mid",
          "2022",
          "2022-mid",
          "2024-mid"
         ],
         "xaxis": "x3",
         "y": [
          22.5,
          16,
          16.1,
          16.6,
          20.4,
          23.9,
          16.2,
          18.7,
          23.2,
          21.4,
          17.1,
          15.6,
          14.7,
          16.7,
          17.7,
          18,
          18.8,
          20.8,
          14.8
         ],
         "yaxis": "y3"
        },
        {
         "mode": "lines+markers",
         "name": "Price to Rent Ratio City Centre",
         "type": "scatter",
         "x": [
          "2012",
          "2013",
          "2014",
          "2014-mid",
          "2015",
          "2015-mid",
          "2016",
          "2017-mid",
          "2018",
          "2018-mid",
          "2019",
          "2019-mid",
          "2020",
          "2020-mid",
          "2021",
          "2021-mid",
          "2022",
          "2022-mid",
          "2024-mid"
         ],
         "xaxis": "x4",
         "y": [
          25.1,
          9.9,
          7.4,
          7.4,
          5.5,
          5,
          6.4,
          5.5,
          5.1,
          5.2,
          6.4,
          6.7,
          7.3,
          8.5,
          9.4,
          9.4,
          8.4,
          8.8,
          6.2
         ],
         "yaxis": "y4"
        },
        {
         "mode": "lines+markers",
         "name": "Price to Rent Ratio Outside City Centre",
         "type": "scatter",
         "x": [
          "2012",
          "2013",
          "2014",
          "2014-mid",
          "2015",
          "2015-mid",
          "2016",
          "2017-mid",
          "2018",
          "2018-mid",
          "2019",
          "2019-mid",
          "2020",
          "2020-mid",
          "2021",
          "2021-mid",
          "2022",
          "2022-mid",
          "2024-mid"
         ],
         "xaxis": "x5",
         "y": [
          4.4,
          6.2,
          6.2,
          6,
          4.9,
          4.2,
          6.2,
          5.3,
          4.3,
          4.7,
          5.8,
          6.4,
          6.8,
          6,
          5.6,
          5.6,
          5.3,
          4.8,
          6.7
         ],
         "yaxis": "y5"
        },
        {
         "mode": "lines+markers",
         "name": "Mortgage as a Percentage of Income",
         "type": "scatter",
         "x": [
          "2012",
          "2013",
          "2014",
          "2014-mid",
          "2015",
          "2015-mid",
          "2016",
          "2017-mid",
          "2018",
          "2018-mid",
          "2019",
          "2019-mid",
          "2020",
          "2020-mid",
          "2021",
          "2021-mid",
          "2022",
          "2022-mid",
          "2024-mid"
         ],
         "xaxis": "x6",
         "y": [
          "12.7",
          "14.8",
          "11.5",
          "10.8",
          "12.1",
          "13.2",
          "16.8",
          "15.5",
          "16.5",
          "15.0",
          "16.8",
          "16.8",
          "17.0",
          "16.4",
          "15.8",
          "13.2",
          "14.6",
          "17.0",
          "16.6"
         ],
         "yaxis": "y6"
        },
        {
         "mode": "lines+markers",
         "name": "Affordability Index",
         "type": "scatter",
         "x": [
          "2012",
          "2013",
          "2014",
          "2014-mid",
          "2015",
          "2015-mid",
          "2016",
          "2017-mid",
          "2018",
          "2018-mid",
          "2019",
          "2019-mid",
          "2020",
          "2020-mid",
          "2021",
          "2021-mid",
          "2022",
          "2022-mid",
          "2024-mid"
         ],
         "xaxis": "x7",
         "y": [
          "7.9",
          "6.7",
          "8.7",
          "9.3",
          "8.3",
          "7.6",
          "6.0",
          "6.4",
          "6.1",
          "6.7",
          "5.9",
          "6.0",
          "5.9",
          "6.1",
          "6.3",
          "7.6",
          "6.8",
          "5.9",
          "6.0"
         ],
         "yaxis": "y7"
        },
        {
         "mode": "lines+markers",
         "name": "Crime Index",
         "type": "scatter",
         "x": [
          "2012",
          "2013",
          "2014",
          "2014-mid",
          "2015",
          "2015-mid",
          "2016",
          "2017-mid",
          "2018",
          "2018-mid",
          "2019",
          "2019-mid",
          "2020",
          "2020-mid",
          "2021",
          "2021-mid",
          "2022",
          "2022-mid",
          "2024-mid"
         ],
         "xaxis": "x8",
         "y": [
          null,
          null,
          null,
          50.6,
          52.3,
          57.2,
          null,
          50.7,
          null,
          null,
          55.2,
          58,
          56.9,
          57.2,
          57.6,
          56.9,
          57.6,
          57.7,
          60.2
         ],
         "yaxis": "y8"
        },
        {
         "mode": "lines+markers",
         "name": "Safety Index",
         "type": "scatter",
         "x": [
          "2012",
          "2013",
          "2014",
          "2014-mid",
          "2015",
          "2015-mid",
          "2016",
          "2017-mid",
          "2018",
          "2018-mid",
          "2019",
          "2019-mid",
          "2020",
          "2020-mid",
          "2021",
          "2021-mid",
          "2022",
          "2022-mid",
          "2024-mid"
         ],
         "xaxis": "x9",
         "y": [
          null,
          null,
          null,
          49.4,
          47.7,
          42.8,
          null,
          49.3,
          null,
          null,
          44.8,
          42,
          43.1,
          42.8,
          42.4,
          43.1,
          42.4,
          42.3,
          39.8
         ],
         "yaxis": "y9"
        },
        {
         "mode": "lines+markers",
         "name": "Cost of Living Index",
         "type": "scatter",
         "x": [
          "2012",
          "2013",
          "2014",
          "2014-mid",
          "2015",
          "2015-mid",
          "2016",
          "2017-mid",
          "2018",
          "2018-mid",
          "2019",
          "2019-mid",
          "2020",
          "2020-mid",
          "2021",
          "2021-mid",
          "2022",
          "2022-mid",
          "2024-mid"
         ],
         "xaxis": "x10",
         "y": [
          null,
          null,
          null,
          null,
          null,
          null,
          null,
          null,
          null,
          null,
          null,
          null,
          null,
          null,
          null,
          null,
          null,
          null,
          null
         ],
         "yaxis": "y10"
        },
        {
         "mode": "lines+markers",
         "name": "Rent Index",
         "type": "scatter",
         "x": [
          "2012",
          "2013",
          "2014",
          "2014-mid",
          "2015",
          "2015-mid",
          "2016",
          "2017-mid",
          "2018",
          "2018-mid",
          "2019",
          "2019-mid",
          "2020",
          "2020-mid",
          "2021",
          "2021-mid",
          "2022",
          "2022-mid",
          "2024-mid"
         ],
         "xaxis": "x11",
         "y": [
          null,
          null,
          null,
          null,
          null,
          null,
          null,
          null,
          null,
          null,
          null,
          null,
          null,
          null,
          null,
          null,
          null,
          null,
          null
         ],
         "yaxis": "y11"
        },
        {
         "mode": "lines+markers",
         "name": "Cost of Living Plus Rent Index",
         "type": "scatter",
         "x": [
          "2012",
          "2013",
          "2014",
          "2014-mid",
          "2015",
          "2015-mid",
          "2016",
          "2017-mid",
          "2018",
          "2018-mid",
          "2019",
          "2019-mid",
          "2020",
          "2020-mid",
          "2021",
          "2021-mid",
          "2022",
          "2022-mid",
          "2024-mid"
         ],
         "xaxis": "x12",
         "y": [
          null,
          null,
          null,
          null,
          null,
          null,
          null,
          null,
          null,
          null,
          null,
          null,
          null,
          null,
          null,
          null,
          null,
          null,
          null
         ],
         "yaxis": "y12"
        },
        {
         "mode": "lines+markers",
         "name": "Groceries Index",
         "type": "scatter",
         "x": [
          "2012",
          "2013",
          "2014",
          "2014-mid",
          "2015",
          "2015-mid",
          "2016",
          "2017-mid",
          "2018",
          "2018-mid",
          "2019",
          "2019-mid",
          "2020",
          "2020-mid",
          "2021",
          "2021-mid",
          "2022",
          "2022-mid",
          "2024-mid"
         ],
         "xaxis": "x13",
         "y": [
          null,
          null,
          null,
          null,
          null,
          null,
          null,
          null,
          null,
          null,
          null,
          null,
          null,
          null,
          null,
          null,
          null,
          null,
          null
         ],
         "yaxis": "y13"
        },
        {
         "mode": "lines+markers",
         "name": "Restaurant Index",
         "type": "scatter",
         "x": [
          "2012",
          "2013",
          "2014",
          "2014-mid",
          "2015",
          "2015-mid",
          "2016",
          "2017-mid",
          "2018",
          "2018-mid",
          "2019",
          "2019-mid",
          "2020",
          "2020-mid",
          "2021",
          "2021-mid",
          "2022",
          "2022-mid",
          "2024-mid"
         ],
         "xaxis": "x14",
         "y": [
          null,
          null,
          null,
          null,
          null,
          null,
          null,
          null,
          null,
          null,
          null,
          null,
          null,
          null,
          null,
          null,
          null,
          null,
          null
         ],
         "yaxis": "y14"
        },
        {
         "mode": "lines+markers",
         "name": "Local Purchasing Power Index",
         "type": "scatter",
         "x": [
          "2012",
          "2013",
          "2014",
          "2014-mid",
          "2015",
          "2015-mid",
          "2016",
          "2017-mid",
          "2018",
          "2018-mid",
          "2019",
          "2019-mid",
          "2020",
          "2020-mid",
          "2021",
          "2021-mid",
          "2022",
          "2022-mid",
          "2024-mid"
         ],
         "xaxis": "x15",
         "y": [
          null,
          null,
          null,
          null,
          null,
          null,
          null,
          null,
          null,
          null,
          null,
          null,
          null,
          null,
          null,
          null,
          null,
          null,
          null
         ],
         "yaxis": "y15"
        }
       ],
       "layout": {
        "annotations": [
         {
          "font": {
           "size": 16
          },
          "showarrow": false,
          "text": "Price to Income Ratio",
          "x": 0.10625,
          "xanchor": "center",
          "xref": "paper",
          "y": 1,
          "yanchor": "bottom",
          "yref": "paper"
         },
         {
          "font": {
           "size": 16
          },
          "showarrow": false,
          "text": "Gross Rental Yield City Centre",
          "x": 0.36875,
          "xanchor": "center",
          "xref": "paper",
          "y": 1,
          "yanchor": "bottom",
          "yref": "paper"
         },
         {
          "font": {
           "size": 16
          },
          "showarrow": false,
          "text": "Gross Rental Yield Outside Centre",
          "x": 0.6312500000000001,
          "xanchor": "center",
          "xref": "paper",
          "y": 1,
          "yanchor": "bottom",
          "yref": "paper"
         },
         {
          "font": {
           "size": 16
          },
          "showarrow": false,
          "text": "Price to Rent Ratio City Centre",
          "x": 0.89375,
          "xanchor": "center",
          "xref": "paper",
          "y": 1,
          "yanchor": "bottom",
          "yref": "paper"
         },
         {
          "font": {
           "size": 16
          },
          "showarrow": false,
          "text": "Price to Rent Ratio Outside City Centre",
          "x": 0.10625,
          "xanchor": "center",
          "xref": "paper",
          "y": 0.71875,
          "yanchor": "bottom",
          "yref": "paper"
         },
         {
          "font": {
           "size": 16
          },
          "showarrow": false,
          "text": "Mortgage as a Percentage of Income",
          "x": 0.36875,
          "xanchor": "center",
          "xref": "paper",
          "y": 0.71875,
          "yanchor": "bottom",
          "yref": "paper"
         },
         {
          "font": {
           "size": 16
          },
          "showarrow": false,
          "text": "Affordability Index",
          "x": 0.6312500000000001,
          "xanchor": "center",
          "xref": "paper",
          "y": 0.71875,
          "yanchor": "bottom",
          "yref": "paper"
         },
         {
          "font": {
           "size": 16
          },
          "showarrow": false,
          "text": "Crime Index",
          "x": 0.89375,
          "xanchor": "center",
          "xref": "paper",
          "y": 0.71875,
          "yanchor": "bottom",
          "yref": "paper"
         },
         {
          "font": {
           "size": 16
          },
          "showarrow": false,
          "text": "Safety Index",
          "x": 0.10625,
          "xanchor": "center",
          "xref": "paper",
          "y": 0.4375,
          "yanchor": "bottom",
          "yref": "paper"
         },
         {
          "font": {
           "size": 16
          },
          "showarrow": false,
          "text": "Cost of Living Index",
          "x": 0.36875,
          "xanchor": "center",
          "xref": "paper",
          "y": 0.4375,
          "yanchor": "bottom",
          "yref": "paper"
         },
         {
          "font": {
           "size": 16
          },
          "showarrow": false,
          "text": "Rent Index",
          "x": 0.6312500000000001,
          "xanchor": "center",
          "xref": "paper",
          "y": 0.4375,
          "yanchor": "bottom",
          "yref": "paper"
         },
         {
          "font": {
           "size": 16
          },
          "showarrow": false,
          "text": "Cost of Living Plus Rent Index",
          "x": 0.89375,
          "xanchor": "center",
          "xref": "paper",
          "y": 0.4375,
          "yanchor": "bottom",
          "yref": "paper"
         },
         {
          "font": {
           "size": 16
          },
          "showarrow": false,
          "text": "Groceries Index",
          "x": 0.10625,
          "xanchor": "center",
          "xref": "paper",
          "y": 0.15625,
          "yanchor": "bottom",
          "yref": "paper"
         },
         {
          "font": {
           "size": 16
          },
          "showarrow": false,
          "text": "Restaurant Index",
          "x": 0.36875,
          "xanchor": "center",
          "xref": "paper",
          "y": 0.15625,
          "yanchor": "bottom",
          "yref": "paper"
         },
         {
          "font": {
           "size": 16
          },
          "showarrow": false,
          "text": "Local Purchasing Power Index",
          "x": 0.6312500000000001,
          "xanchor": "center",
          "xref": "paper",
          "y": 0.15625,
          "yanchor": "bottom",
          "yref": "paper"
         }
        ],
        "height": 1500,
        "template": {
         "data": {
          "bar": [
           {
            "error_x": {
             "color": "#2a3f5f"
            },
            "error_y": {
             "color": "#2a3f5f"
            },
            "marker": {
             "line": {
              "color": "#E5ECF6",
              "width": 0.5
             },
             "pattern": {
              "fillmode": "overlay",
              "size": 10,
              "solidity": 0.2
             }
            },
            "type": "bar"
           }
          ],
          "barpolar": [
           {
            "marker": {
             "line": {
              "color": "#E5ECF6",
              "width": 0.5
             },
             "pattern": {
              "fillmode": "overlay",
              "size": 10,
              "solidity": 0.2
             }
            },
            "type": "barpolar"
           }
          ],
          "carpet": [
           {
            "aaxis": {
             "endlinecolor": "#2a3f5f",
             "gridcolor": "white",
             "linecolor": "white",
             "minorgridcolor": "white",
             "startlinecolor": "#2a3f5f"
            },
            "baxis": {
             "endlinecolor": "#2a3f5f",
             "gridcolor": "white",
             "linecolor": "white",
             "minorgridcolor": "white",
             "startlinecolor": "#2a3f5f"
            },
            "type": "carpet"
           }
          ],
          "choropleth": [
           {
            "colorbar": {
             "outlinewidth": 0,
             "ticks": ""
            },
            "type": "choropleth"
           }
          ],
          "contour": [
           {
            "colorbar": {
             "outlinewidth": 0,
             "ticks": ""
            },
            "colorscale": [
             [
              0,
              "#0d0887"
             ],
             [
              0.1111111111111111,
              "#46039f"
             ],
             [
              0.2222222222222222,
              "#7201a8"
             ],
             [
              0.3333333333333333,
              "#9c179e"
             ],
             [
              0.4444444444444444,
              "#bd3786"
             ],
             [
              0.5555555555555556,
              "#d8576b"
             ],
             [
              0.6666666666666666,
              "#ed7953"
             ],
             [
              0.7777777777777778,
              "#fb9f3a"
             ],
             [
              0.8888888888888888,
              "#fdca26"
             ],
             [
              1,
              "#f0f921"
             ]
            ],
            "type": "contour"
           }
          ],
          "contourcarpet": [
           {
            "colorbar": {
             "outlinewidth": 0,
             "ticks": ""
            },
            "type": "contourcarpet"
           }
          ],
          "heatmap": [
           {
            "colorbar": {
             "outlinewidth": 0,
             "ticks": ""
            },
            "colorscale": [
             [
              0,
              "#0d0887"
             ],
             [
              0.1111111111111111,
              "#46039f"
             ],
             [
              0.2222222222222222,
              "#7201a8"
             ],
             [
              0.3333333333333333,
              "#9c179e"
             ],
             [
              0.4444444444444444,
              "#bd3786"
             ],
             [
              0.5555555555555556,
              "#d8576b"
             ],
             [
              0.6666666666666666,
              "#ed7953"
             ],
             [
              0.7777777777777778,
              "#fb9f3a"
             ],
             [
              0.8888888888888888,
              "#fdca26"
             ],
             [
              1,
              "#f0f921"
             ]
            ],
            "type": "heatmap"
           }
          ],
          "heatmapgl": [
           {
            "colorbar": {
             "outlinewidth": 0,
             "ticks": ""
            },
            "colorscale": [
             [
              0,
              "#0d0887"
             ],
             [
              0.1111111111111111,
              "#46039f"
             ],
             [
              0.2222222222222222,
              "#7201a8"
             ],
             [
              0.3333333333333333,
              "#9c179e"
             ],
             [
              0.4444444444444444,
              "#bd3786"
             ],
             [
              0.5555555555555556,
              "#d8576b"
             ],
             [
              0.6666666666666666,
              "#ed7953"
             ],
             [
              0.7777777777777778,
              "#fb9f3a"
             ],
             [
              0.8888888888888888,
              "#fdca26"
             ],
             [
              1,
              "#f0f921"
             ]
            ],
            "type": "heatmapgl"
           }
          ],
          "histogram": [
           {
            "marker": {
             "pattern": {
              "fillmode": "overlay",
              "size": 10,
              "solidity": 0.2
             }
            },
            "type": "histogram"
           }
          ],
          "histogram2d": [
           {
            "colorbar": {
             "outlinewidth": 0,
             "ticks": ""
            },
            "colorscale": [
             [
              0,
              "#0d0887"
             ],
             [
              0.1111111111111111,
              "#46039f"
             ],
             [
              0.2222222222222222,
              "#7201a8"
             ],
             [
              0.3333333333333333,
              "#9c179e"
             ],
             [
              0.4444444444444444,
              "#bd3786"
             ],
             [
              0.5555555555555556,
              "#d8576b"
             ],
             [
              0.6666666666666666,
              "#ed7953"
             ],
             [
              0.7777777777777778,
              "#fb9f3a"
             ],
             [
              0.8888888888888888,
              "#fdca26"
             ],
             [
              1,
              "#f0f921"
             ]
            ],
            "type": "histogram2d"
           }
          ],
          "histogram2dcontour": [
           {
            "colorbar": {
             "outlinewidth": 0,
             "ticks": ""
            },
            "colorscale": [
             [
              0,
              "#0d0887"
             ],
             [
              0.1111111111111111,
              "#46039f"
             ],
             [
              0.2222222222222222,
              "#7201a8"
             ],
             [
              0.3333333333333333,
              "#9c179e"
             ],
             [
              0.4444444444444444,
              "#bd3786"
             ],
             [
              0.5555555555555556,
              "#d8576b"
             ],
             [
              0.6666666666666666,
              "#ed7953"
             ],
             [
              0.7777777777777778,
              "#fb9f3a"
             ],
             [
              0.8888888888888888,
              "#fdca26"
             ],
             [
              1,
              "#f0f921"
             ]
            ],
            "type": "histogram2dcontour"
           }
          ],
          "mesh3d": [
           {
            "colorbar": {
             "outlinewidth": 0,
             "ticks": ""
            },
            "type": "mesh3d"
           }
          ],
          "parcoords": [
           {
            "line": {
             "colorbar": {
              "outlinewidth": 0,
              "ticks": ""
             }
            },
            "type": "parcoords"
           }
          ],
          "pie": [
           {
            "automargin": true,
            "type": "pie"
           }
          ],
          "scatter": [
           {
            "fillpattern": {
             "fillmode": "overlay",
             "size": 10,
             "solidity": 0.2
            },
            "type": "scatter"
           }
          ],
          "scatter3d": [
           {
            "line": {
             "colorbar": {
              "outlinewidth": 0,
              "ticks": ""
             }
            },
            "marker": {
             "colorbar": {
              "outlinewidth": 0,
              "ticks": ""
             }
            },
            "type": "scatter3d"
           }
          ],
          "scattercarpet": [
           {
            "marker": {
             "colorbar": {
              "outlinewidth": 0,
              "ticks": ""
             }
            },
            "type": "scattercarpet"
           }
          ],
          "scattergeo": [
           {
            "marker": {
             "colorbar": {
              "outlinewidth": 0,
              "ticks": ""
             }
            },
            "type": "scattergeo"
           }
          ],
          "scattergl": [
           {
            "marker": {
             "colorbar": {
              "outlinewidth": 0,
              "ticks": ""
             }
            },
            "type": "scattergl"
           }
          ],
          "scattermapbox": [
           {
            "marker": {
             "colorbar": {
              "outlinewidth": 0,
              "ticks": ""
             }
            },
            "type": "scattermapbox"
           }
          ],
          "scatterpolar": [
           {
            "marker": {
             "colorbar": {
              "outlinewidth": 0,
              "ticks": ""
             }
            },
            "type": "scatterpolar"
           }
          ],
          "scatterpolargl": [
           {
            "marker": {
             "colorbar": {
              "outlinewidth": 0,
              "ticks": ""
             }
            },
            "type": "scatterpolargl"
           }
          ],
          "scatterternary": [
           {
            "marker": {
             "colorbar": {
              "outlinewidth": 0,
              "ticks": ""
             }
            },
            "type": "scatterternary"
           }
          ],
          "surface": [
           {
            "colorbar": {
             "outlinewidth": 0,
             "ticks": ""
            },
            "colorscale": [
             [
              0,
              "#0d0887"
             ],
             [
              0.1111111111111111,
              "#46039f"
             ],
             [
              0.2222222222222222,
              "#7201a8"
             ],
             [
              0.3333333333333333,
              "#9c179e"
             ],
             [
              0.4444444444444444,
              "#bd3786"
             ],
             [
              0.5555555555555556,
              "#d8576b"
             ],
             [
              0.6666666666666666,
              "#ed7953"
             ],
             [
              0.7777777777777778,
              "#fb9f3a"
             ],
             [
              0.8888888888888888,
              "#fdca26"
             ],
             [
              1,
              "#f0f921"
             ]
            ],
            "type": "surface"
           }
          ],
          "table": [
           {
            "cells": {
             "fill": {
              "color": "#EBF0F8"
             },
             "line": {
              "color": "white"
             }
            },
            "header": {
             "fill": {
              "color": "#C8D4E3"
             },
             "line": {
              "color": "white"
             }
            },
            "type": "table"
           }
          ]
         },
         "layout": {
          "annotationdefaults": {
           "arrowcolor": "#2a3f5f",
           "arrowhead": 0,
           "arrowwidth": 1
          },
          "autotypenumbers": "strict",
          "coloraxis": {
           "colorbar": {
            "outlinewidth": 0,
            "ticks": ""
           }
          },
          "colorscale": {
           "diverging": [
            [
             0,
             "#8e0152"
            ],
            [
             0.1,
             "#c51b7d"
            ],
            [
             0.2,
             "#de77ae"
            ],
            [
             0.3,
             "#f1b6da"
            ],
            [
             0.4,
             "#fde0ef"
            ],
            [
             0.5,
             "#f7f7f7"
            ],
            [
             0.6,
             "#e6f5d0"
            ],
            [
             0.7,
             "#b8e186"
            ],
            [
             0.8,
             "#7fbc41"
            ],
            [
             0.9,
             "#4d9221"
            ],
            [
             1,
             "#276419"
            ]
           ],
           "sequential": [
            [
             0,
             "#0d0887"
            ],
            [
             0.1111111111111111,
             "#46039f"
            ],
            [
             0.2222222222222222,
             "#7201a8"
            ],
            [
             0.3333333333333333,
             "#9c179e"
            ],
            [
             0.4444444444444444,
             "#bd3786"
            ],
            [
             0.5555555555555556,
             "#d8576b"
            ],
            [
             0.6666666666666666,
             "#ed7953"
            ],
            [
             0.7777777777777778,
             "#fb9f3a"
            ],
            [
             0.8888888888888888,
             "#fdca26"
            ],
            [
             1,
             "#f0f921"
            ]
           ],
           "sequentialminus": [
            [
             0,
             "#0d0887"
            ],
            [
             0.1111111111111111,
             "#46039f"
            ],
            [
             0.2222222222222222,
             "#7201a8"
            ],
            [
             0.3333333333333333,
             "#9c179e"
            ],
            [
             0.4444444444444444,
             "#bd3786"
            ],
            [
             0.5555555555555556,
             "#d8576b"
            ],
            [
             0.6666666666666666,
             "#ed7953"
            ],
            [
             0.7777777777777778,
             "#fb9f3a"
            ],
            [
             0.8888888888888888,
             "#fdca26"
            ],
            [
             1,
             "#f0f921"
            ]
           ]
          },
          "colorway": [
           "#636efa",
           "#EF553B",
           "#00cc96",
           "#ab63fa",
           "#FFA15A",
           "#19d3f3",
           "#FF6692",
           "#B6E880",
           "#FF97FF",
           "#FECB52"
          ],
          "font": {
           "color": "#2a3f5f"
          },
          "geo": {
           "bgcolor": "white",
           "lakecolor": "white",
           "landcolor": "#E5ECF6",
           "showlakes": true,
           "showland": true,
           "subunitcolor": "white"
          },
          "hoverlabel": {
           "align": "left"
          },
          "hovermode": "closest",
          "mapbox": {
           "style": "light"
          },
          "paper_bgcolor": "white",
          "plot_bgcolor": "#E5ECF6",
          "polar": {
           "angularaxis": {
            "gridcolor": "white",
            "linecolor": "white",
            "ticks": ""
           },
           "bgcolor": "#E5ECF6",
           "radialaxis": {
            "gridcolor": "white",
            "linecolor": "white",
            "ticks": ""
           }
          },
          "scene": {
           "xaxis": {
            "backgroundcolor": "#E5ECF6",
            "gridcolor": "white",
            "gridwidth": 2,
            "linecolor": "white",
            "showbackground": true,
            "ticks": "",
            "zerolinecolor": "white"
           },
           "yaxis": {
            "backgroundcolor": "#E5ECF6",
            "gridcolor": "white",
            "gridwidth": 2,
            "linecolor": "white",
            "showbackground": true,
            "ticks": "",
            "zerolinecolor": "white"
           },
           "zaxis": {
            "backgroundcolor": "#E5ECF6",
            "gridcolor": "white",
            "gridwidth": 2,
            "linecolor": "white",
            "showbackground": true,
            "ticks": "",
            "zerolinecolor": "white"
           }
          },
          "shapedefaults": {
           "line": {
            "color": "#2a3f5f"
           }
          },
          "ternary": {
           "aaxis": {
            "gridcolor": "white",
            "linecolor": "white",
            "ticks": ""
           },
           "baxis": {
            "gridcolor": "white",
            "linecolor": "white",
            "ticks": ""
           },
           "bgcolor": "#E5ECF6",
           "caxis": {
            "gridcolor": "white",
            "linecolor": "white",
            "ticks": ""
           }
          },
          "title": {
           "x": 0.05
          },
          "xaxis": {
           "automargin": true,
           "gridcolor": "white",
           "linecolor": "white",
           "ticks": "",
           "title": {
            "standoff": 15
           },
           "zerolinecolor": "white",
           "zerolinewidth": 2
          },
          "yaxis": {
           "automargin": true,
           "gridcolor": "white",
           "linecolor": "white",
           "ticks": "",
           "title": {
            "standoff": 15
           },
           "zerolinecolor": "white",
           "zerolinewidth": 2
          }
         }
        },
        "title": {
         "text": "Indianapolis, IN, United States"
        },
        "width": 1500,
        "xaxis": {
         "anchor": "y",
         "domain": [
          0,
          0.2125
         ],
         "title": {
          "text": "Year"
         }
        },
        "xaxis10": {
         "anchor": "y10",
         "domain": [
          0.2625,
          0.475
         ],
         "title": {
          "text": "Year"
         }
        },
        "xaxis11": {
         "anchor": "y11",
         "domain": [
          0.525,
          0.7375
         ],
         "title": {
          "text": "Year"
         }
        },
        "xaxis12": {
         "anchor": "y12",
         "domain": [
          0.7875,
          1
         ],
         "title": {
          "text": "Year"
         }
        },
        "xaxis13": {
         "anchor": "y13",
         "domain": [
          0,
          0.2125
         ],
         "title": {
          "text": "Year"
         }
        },
        "xaxis14": {
         "anchor": "y14",
         "domain": [
          0.2625,
          0.475
         ],
         "title": {
          "text": "Year"
         }
        },
        "xaxis15": {
         "anchor": "y15",
         "domain": [
          0.525,
          0.7375
         ],
         "title": {
          "text": "Year"
         }
        },
        "xaxis16": {
         "anchor": "y16",
         "domain": [
          0.7875,
          1
         ]
        },
        "xaxis2": {
         "anchor": "y2",
         "domain": [
          0.2625,
          0.475
         ],
         "title": {
          "text": "Year"
         }
        },
        "xaxis3": {
         "anchor": "y3",
         "domain": [
          0.525,
          0.7375
         ],
         "title": {
          "text": "Year"
         }
        },
        "xaxis4": {
         "anchor": "y4",
         "domain": [
          0.7875,
          1
         ],
         "title": {
          "text": "Year"
         }
        },
        "xaxis5": {
         "anchor": "y5",
         "domain": [
          0,
          0.2125
         ],
         "title": {
          "text": "Year"
         }
        },
        "xaxis6": {
         "anchor": "y6",
         "domain": [
          0.2625,
          0.475
         ],
         "title": {
          "text": "Year"
         }
        },
        "xaxis7": {
         "anchor": "y7",
         "domain": [
          0.525,
          0.7375
         ],
         "title": {
          "text": "Year"
         }
        },
        "xaxis8": {
         "anchor": "y8",
         "domain": [
          0.7875,
          1
         ],
         "title": {
          "text": "Year"
         }
        },
        "xaxis9": {
         "anchor": "y9",
         "domain": [
          0,
          0.2125
         ],
         "title": {
          "text": "Year"
         }
        },
        "yaxis": {
         "anchor": "x",
         "domain": [
          0.84375,
          1
         ],
         "title": {
          "text": "Price to Income Ratio"
         }
        },
        "yaxis10": {
         "anchor": "x10",
         "domain": [
          0.28125,
          0.4375
         ],
         "title": {
          "text": "Cost of Living Index"
         }
        },
        "yaxis11": {
         "anchor": "x11",
         "domain": [
          0.28125,
          0.4375
         ],
         "title": {
          "text": "Rent Index"
         }
        },
        "yaxis12": {
         "anchor": "x12",
         "domain": [
          0.28125,
          0.4375
         ],
         "title": {
          "text": "Cost of Living Plus Rent Index"
         }
        },
        "yaxis13": {
         "anchor": "x13",
         "domain": [
          0,
          0.15625
         ],
         "title": {
          "text": "Groceries Index"
         }
        },
        "yaxis14": {
         "anchor": "x14",
         "domain": [
          0,
          0.15625
         ],
         "title": {
          "text": "Restaurant Index"
         }
        },
        "yaxis15": {
         "anchor": "x15",
         "domain": [
          0,
          0.15625
         ],
         "title": {
          "text": "Local Purchasing Power Index"
         }
        },
        "yaxis16": {
         "anchor": "x16",
         "domain": [
          0,
          0.15625
         ]
        },
        "yaxis2": {
         "anchor": "x2",
         "domain": [
          0.84375,
          1
         ],
         "title": {
          "text": "Gross Rental Yield City Centre"
         }
        },
        "yaxis3": {
         "anchor": "x3",
         "domain": [
          0.84375,
          1
         ],
         "title": {
          "text": "Gross Rental Yield Outside Centre"
         }
        },
        "yaxis4": {
         "anchor": "x4",
         "domain": [
          0.84375,
          1
         ],
         "title": {
          "text": "Price to Rent Ratio City Centre"
         }
        },
        "yaxis5": {
         "anchor": "x5",
         "domain": [
          0.5625,
          0.71875
         ],
         "title": {
          "text": "Price to Rent Ratio Outside City Centre"
         }
        },
        "yaxis6": {
         "anchor": "x6",
         "domain": [
          0.5625,
          0.71875
         ],
         "title": {
          "text": "Mortgage as a Percentage of Income"
         }
        },
        "yaxis7": {
         "anchor": "x7",
         "domain": [
          0.5625,
          0.71875
         ],
         "title": {
          "text": "Affordability Index"
         }
        },
        "yaxis8": {
         "anchor": "x8",
         "domain": [
          0.5625,
          0.71875
         ],
         "title": {
          "text": "Crime Index"
         }
        },
        "yaxis9": {
         "anchor": "x9",
         "domain": [
          0.28125,
          0.4375
         ],
         "title": {
          "text": "Safety Index"
         }
        }
       }
      },
      "text/html": [
       "<div>                            <div id=\"5935420a-494d-428c-8e46-43f19b04798f\" class=\"plotly-graph-div\" style=\"height:1500px; width:1500px;\"></div>            <script type=\"text/javascript\">                require([\"plotly\"], function(Plotly) {                    window.PLOTLYENV=window.PLOTLYENV || {};                                    if (document.getElementById(\"5935420a-494d-428c-8e46-43f19b04798f\")) {                    Plotly.newPlot(                        \"5935420a-494d-428c-8e46-43f19b04798f\",                        [{\"mode\":\"lines+markers\",\"name\":\"Price to Income Ratio\",\"x\":[\"2012\",\"2013\",\"2014\",\"2014-mid\",\"2015\",\"2015-mid\",\"2016\",\"2017-mid\",\"2018\",\"2018-mid\",\"2019\",\"2019-mid\",\"2020\",\"2020-mid\",\"2021\",\"2021-mid\",\"2022\",\"2022-mid\",\"2024-mid\"],\"y\":[1.4,1.8,1.5,1.4,1.6,1.7,2.4,2.2,2.3,2.0,2.3,2.3,2.3,2.2,2.2,1.8,2.1,2.1,1.8],\"type\":\"scatter\",\"xaxis\":\"x\",\"yaxis\":\"y\"},{\"mode\":\"lines+markers\",\"name\":\"Gross Rental Yield City Centre\",\"x\":[\"2012\",\"2013\",\"2014\",\"2014-mid\",\"2015\",\"2015-mid\",\"2016\",\"2017-mid\",\"2018\",\"2018-mid\",\"2019\",\"2019-mid\",\"2020\",\"2020-mid\",\"2021\",\"2021-mid\",\"2022\",\"2022-mid\",\"2024-mid\"],\"y\":[4.0,10.1,13.6,13.6,18.2,19.8,15.7,18.3,19.8,19.2,15.6,14.9,13.7,11.7,10.6,10.6,11.9,11.4,16.1],\"type\":\"scatter\",\"xaxis\":\"x2\",\"yaxis\":\"y2\"},{\"mode\":\"lines+markers\",\"name\":\"Gross Rental Yield Outside Centre\",\"x\":[\"2012\",\"2013\",\"2014\",\"2014-mid\",\"2015\",\"2015-mid\",\"2016\",\"2017-mid\",\"2018\",\"2018-mid\",\"2019\",\"2019-mid\",\"2020\",\"2020-mid\",\"2021\",\"2021-mid\",\"2022\",\"2022-mid\",\"2024-mid\"],\"y\":[22.5,16.0,16.1,16.6,20.4,23.9,16.2,18.7,23.2,21.4,17.1,15.6,14.7,16.7,17.7,18.0,18.8,20.8,14.8],\"type\":\"scatter\",\"xaxis\":\"x3\",\"yaxis\":\"y3\"},{\"mode\":\"lines+markers\",\"name\":\"Price to Rent Ratio City Centre\",\"x\":[\"2012\",\"2013\",\"2014\",\"2014-mid\",\"2015\",\"2015-mid\",\"2016\",\"2017-mid\",\"2018\",\"2018-mid\",\"2019\",\"2019-mid\",\"2020\",\"2020-mid\",\"2021\",\"2021-mid\",\"2022\",\"2022-mid\",\"2024-mid\"],\"y\":[25.1,9.9,7.4,7.4,5.5,5.0,6.4,5.5,5.1,5.2,6.4,6.7,7.3,8.5,9.4,9.4,8.4,8.8,6.2],\"type\":\"scatter\",\"xaxis\":\"x4\",\"yaxis\":\"y4\"},{\"mode\":\"lines+markers\",\"name\":\"Price to Rent Ratio Outside City Centre\",\"x\":[\"2012\",\"2013\",\"2014\",\"2014-mid\",\"2015\",\"2015-mid\",\"2016\",\"2017-mid\",\"2018\",\"2018-mid\",\"2019\",\"2019-mid\",\"2020\",\"2020-mid\",\"2021\",\"2021-mid\",\"2022\",\"2022-mid\",\"2024-mid\"],\"y\":[4.4,6.2,6.2,6.0,4.9,4.2,6.2,5.3,4.3,4.7,5.8,6.4,6.8,6.0,5.6,5.6,5.3,4.8,6.7],\"type\":\"scatter\",\"xaxis\":\"x5\",\"yaxis\":\"y5\"},{\"mode\":\"lines+markers\",\"name\":\"Mortgage as a Percentage of Income\",\"x\":[\"2012\",\"2013\",\"2014\",\"2014-mid\",\"2015\",\"2015-mid\",\"2016\",\"2017-mid\",\"2018\",\"2018-mid\",\"2019\",\"2019-mid\",\"2020\",\"2020-mid\",\"2021\",\"2021-mid\",\"2022\",\"2022-mid\",\"2024-mid\"],\"y\":[\"12.7\",\"14.8\",\"11.5\",\"10.8\",\"12.1\",\"13.2\",\"16.8\",\"15.5\",\"16.5\",\"15.0\",\"16.8\",\"16.8\",\"17.0\",\"16.4\",\"15.8\",\"13.2\",\"14.6\",\"17.0\",\"16.6\"],\"type\":\"scatter\",\"xaxis\":\"x6\",\"yaxis\":\"y6\"},{\"mode\":\"lines+markers\",\"name\":\"Affordability Index\",\"x\":[\"2012\",\"2013\",\"2014\",\"2014-mid\",\"2015\",\"2015-mid\",\"2016\",\"2017-mid\",\"2018\",\"2018-mid\",\"2019\",\"2019-mid\",\"2020\",\"2020-mid\",\"2021\",\"2021-mid\",\"2022\",\"2022-mid\",\"2024-mid\"],\"y\":[\"7.9\",\"6.7\",\"8.7\",\"9.3\",\"8.3\",\"7.6\",\"6.0\",\"6.4\",\"6.1\",\"6.7\",\"5.9\",\"6.0\",\"5.9\",\"6.1\",\"6.3\",\"7.6\",\"6.8\",\"5.9\",\"6.0\"],\"type\":\"scatter\",\"xaxis\":\"x7\",\"yaxis\":\"y7\"},{\"mode\":\"lines+markers\",\"name\":\"Crime Index\",\"x\":[\"2012\",\"2013\",\"2014\",\"2014-mid\",\"2015\",\"2015-mid\",\"2016\",\"2017-mid\",\"2018\",\"2018-mid\",\"2019\",\"2019-mid\",\"2020\",\"2020-mid\",\"2021\",\"2021-mid\",\"2022\",\"2022-mid\",\"2024-mid\"],\"y\":[null,null,null,50.6,52.3,57.2,null,50.7,null,null,55.2,58.0,56.9,57.2,57.6,56.9,57.6,57.7,60.2],\"type\":\"scatter\",\"xaxis\":\"x8\",\"yaxis\":\"y8\"},{\"mode\":\"lines+markers\",\"name\":\"Safety Index\",\"x\":[\"2012\",\"2013\",\"2014\",\"2014-mid\",\"2015\",\"2015-mid\",\"2016\",\"2017-mid\",\"2018\",\"2018-mid\",\"2019\",\"2019-mid\",\"2020\",\"2020-mid\",\"2021\",\"2021-mid\",\"2022\",\"2022-mid\",\"2024-mid\"],\"y\":[null,null,null,49.4,47.7,42.8,null,49.3,null,null,44.8,42.0,43.1,42.8,42.4,43.1,42.4,42.3,39.8],\"type\":\"scatter\",\"xaxis\":\"x9\",\"yaxis\":\"y9\"},{\"mode\":\"lines+markers\",\"name\":\"Cost of Living Index\",\"x\":[\"2012\",\"2013\",\"2014\",\"2014-mid\",\"2015\",\"2015-mid\",\"2016\",\"2017-mid\",\"2018\",\"2018-mid\",\"2019\",\"2019-mid\",\"2020\",\"2020-mid\",\"2021\",\"2021-mid\",\"2022\",\"2022-mid\",\"2024-mid\"],\"y\":[null,null,null,null,null,null,null,null,null,null,null,null,null,null,null,null,null,null,null],\"type\":\"scatter\",\"xaxis\":\"x10\",\"yaxis\":\"y10\"},{\"mode\":\"lines+markers\",\"name\":\"Rent Index\",\"x\":[\"2012\",\"2013\",\"2014\",\"2014-mid\",\"2015\",\"2015-mid\",\"2016\",\"2017-mid\",\"2018\",\"2018-mid\",\"2019\",\"2019-mid\",\"2020\",\"2020-mid\",\"2021\",\"2021-mid\",\"2022\",\"2022-mid\",\"2024-mid\"],\"y\":[null,null,null,null,null,null,null,null,null,null,null,null,null,null,null,null,null,null,null],\"type\":\"scatter\",\"xaxis\":\"x11\",\"yaxis\":\"y11\"},{\"mode\":\"lines+markers\",\"name\":\"Cost of Living Plus Rent Index\",\"x\":[\"2012\",\"2013\",\"2014\",\"2014-mid\",\"2015\",\"2015-mid\",\"2016\",\"2017-mid\",\"2018\",\"2018-mid\",\"2019\",\"2019-mid\",\"2020\",\"2020-mid\",\"2021\",\"2021-mid\",\"2022\",\"2022-mid\",\"2024-mid\"],\"y\":[null,null,null,null,null,null,null,null,null,null,null,null,null,null,null,null,null,null,null],\"type\":\"scatter\",\"xaxis\":\"x12\",\"yaxis\":\"y12\"},{\"mode\":\"lines+markers\",\"name\":\"Groceries Index\",\"x\":[\"2012\",\"2013\",\"2014\",\"2014-mid\",\"2015\",\"2015-mid\",\"2016\",\"2017-mid\",\"2018\",\"2018-mid\",\"2019\",\"2019-mid\",\"2020\",\"2020-mid\",\"2021\",\"2021-mid\",\"2022\",\"2022-mid\",\"2024-mid\"],\"y\":[null,null,null,null,null,null,null,null,null,null,null,null,null,null,null,null,null,null,null],\"type\":\"scatter\",\"xaxis\":\"x13\",\"yaxis\":\"y13\"},{\"mode\":\"lines+markers\",\"name\":\"Restaurant Index\",\"x\":[\"2012\",\"2013\",\"2014\",\"2014-mid\",\"2015\",\"2015-mid\",\"2016\",\"2017-mid\",\"2018\",\"2018-mid\",\"2019\",\"2019-mid\",\"2020\",\"2020-mid\",\"2021\",\"2021-mid\",\"2022\",\"2022-mid\",\"2024-mid\"],\"y\":[null,null,null,null,null,null,null,null,null,null,null,null,null,null,null,null,null,null,null],\"type\":\"scatter\",\"xaxis\":\"x14\",\"yaxis\":\"y14\"},{\"mode\":\"lines+markers\",\"name\":\"Local Purchasing Power Index\",\"x\":[\"2012\",\"2013\",\"2014\",\"2014-mid\",\"2015\",\"2015-mid\",\"2016\",\"2017-mid\",\"2018\",\"2018-mid\",\"2019\",\"2019-mid\",\"2020\",\"2020-mid\",\"2021\",\"2021-mid\",\"2022\",\"2022-mid\",\"2024-mid\"],\"y\":[null,null,null,null,null,null,null,null,null,null,null,null,null,null,null,null,null,null,null],\"type\":\"scatter\",\"xaxis\":\"x15\",\"yaxis\":\"y15\"}],                        {\"template\":{\"data\":{\"histogram2dcontour\":[{\"type\":\"histogram2dcontour\",\"colorbar\":{\"outlinewidth\":0,\"ticks\":\"\"},\"colorscale\":[[0.0,\"#0d0887\"],[0.1111111111111111,\"#46039f\"],[0.2222222222222222,\"#7201a8\"],[0.3333333333333333,\"#9c179e\"],[0.4444444444444444,\"#bd3786\"],[0.5555555555555556,\"#d8576b\"],[0.6666666666666666,\"#ed7953\"],[0.7777777777777778,\"#fb9f3a\"],[0.8888888888888888,\"#fdca26\"],[1.0,\"#f0f921\"]]}],\"choropleth\":[{\"type\":\"choropleth\",\"colorbar\":{\"outlinewidth\":0,\"ticks\":\"\"}}],\"histogram2d\":[{\"type\":\"histogram2d\",\"colorbar\":{\"outlinewidth\":0,\"ticks\":\"\"},\"colorscale\":[[0.0,\"#0d0887\"],[0.1111111111111111,\"#46039f\"],[0.2222222222222222,\"#7201a8\"],[0.3333333333333333,\"#9c179e\"],[0.4444444444444444,\"#bd3786\"],[0.5555555555555556,\"#d8576b\"],[0.6666666666666666,\"#ed7953\"],[0.7777777777777778,\"#fb9f3a\"],[0.8888888888888888,\"#fdca26\"],[1.0,\"#f0f921\"]]}],\"heatmap\":[{\"type\":\"heatmap\",\"colorbar\":{\"outlinewidth\":0,\"ticks\":\"\"},\"colorscale\":[[0.0,\"#0d0887\"],[0.1111111111111111,\"#46039f\"],[0.2222222222222222,\"#7201a8\"],[0.3333333333333333,\"#9c179e\"],[0.4444444444444444,\"#bd3786\"],[0.5555555555555556,\"#d8576b\"],[0.6666666666666666,\"#ed7953\"],[0.7777777777777778,\"#fb9f3a\"],[0.8888888888888888,\"#fdca26\"],[1.0,\"#f0f921\"]]}],\"heatmapgl\":[{\"type\":\"heatmapgl\",\"colorbar\":{\"outlinewidth\":0,\"ticks\":\"\"},\"colorscale\":[[0.0,\"#0d0887\"],[0.1111111111111111,\"#46039f\"],[0.2222222222222222,\"#7201a8\"],[0.3333333333333333,\"#9c179e\"],[0.4444444444444444,\"#bd3786\"],[0.5555555555555556,\"#d8576b\"],[0.6666666666666666,\"#ed7953\"],[0.7777777777777778,\"#fb9f3a\"],[0.8888888888888888,\"#fdca26\"],[1.0,\"#f0f921\"]]}],\"contourcarpet\":[{\"type\":\"contourcarpet\",\"colorbar\":{\"outlinewidth\":0,\"ticks\":\"\"}}],\"contour\":[{\"type\":\"contour\",\"colorbar\":{\"outlinewidth\":0,\"ticks\":\"\"},\"colorscale\":[[0.0,\"#0d0887\"],[0.1111111111111111,\"#46039f\"],[0.2222222222222222,\"#7201a8\"],[0.3333333333333333,\"#9c179e\"],[0.4444444444444444,\"#bd3786\"],[0.5555555555555556,\"#d8576b\"],[0.6666666666666666,\"#ed7953\"],[0.7777777777777778,\"#fb9f3a\"],[0.8888888888888888,\"#fdca26\"],[1.0,\"#f0f921\"]]}],\"surface\":[{\"type\":\"surface\",\"colorbar\":{\"outlinewidth\":0,\"ticks\":\"\"},\"colorscale\":[[0.0,\"#0d0887\"],[0.1111111111111111,\"#46039f\"],[0.2222222222222222,\"#7201a8\"],[0.3333333333333333,\"#9c179e\"],[0.4444444444444444,\"#bd3786\"],[0.5555555555555556,\"#d8576b\"],[0.6666666666666666,\"#ed7953\"],[0.7777777777777778,\"#fb9f3a\"],[0.8888888888888888,\"#fdca26\"],[1.0,\"#f0f921\"]]}],\"mesh3d\":[{\"type\":\"mesh3d\",\"colorbar\":{\"outlinewidth\":0,\"ticks\":\"\"}}],\"scatter\":[{\"fillpattern\":{\"fillmode\":\"overlay\",\"size\":10,\"solidity\":0.2},\"type\":\"scatter\"}],\"parcoords\":[{\"type\":\"parcoords\",\"line\":{\"colorbar\":{\"outlinewidth\":0,\"ticks\":\"\"}}}],\"scatterpolargl\":[{\"type\":\"scatterpolargl\",\"marker\":{\"colorbar\":{\"outlinewidth\":0,\"ticks\":\"\"}}}],\"bar\":[{\"error_x\":{\"color\":\"#2a3f5f\"},\"error_y\":{\"color\":\"#2a3f5f\"},\"marker\":{\"line\":{\"color\":\"#E5ECF6\",\"width\":0.5},\"pattern\":{\"fillmode\":\"overlay\",\"size\":10,\"solidity\":0.2}},\"type\":\"bar\"}],\"scattergeo\":[{\"type\":\"scattergeo\",\"marker\":{\"colorbar\":{\"outlinewidth\":0,\"ticks\":\"\"}}}],\"scatterpolar\":[{\"type\":\"scatterpolar\",\"marker\":{\"colorbar\":{\"outlinewidth\":0,\"ticks\":\"\"}}}],\"histogram\":[{\"marker\":{\"pattern\":{\"fillmode\":\"overlay\",\"size\":10,\"solidity\":0.2}},\"type\":\"histogram\"}],\"scattergl\":[{\"type\":\"scattergl\",\"marker\":{\"colorbar\":{\"outlinewidth\":0,\"ticks\":\"\"}}}],\"scatter3d\":[{\"type\":\"scatter3d\",\"line\":{\"colorbar\":{\"outlinewidth\":0,\"ticks\":\"\"}},\"marker\":{\"colorbar\":{\"outlinewidth\":0,\"ticks\":\"\"}}}],\"scattermapbox\":[{\"type\":\"scattermapbox\",\"marker\":{\"colorbar\":{\"outlinewidth\":0,\"ticks\":\"\"}}}],\"scatterternary\":[{\"type\":\"scatterternary\",\"marker\":{\"colorbar\":{\"outlinewidth\":0,\"ticks\":\"\"}}}],\"scattercarpet\":[{\"type\":\"scattercarpet\",\"marker\":{\"colorbar\":{\"outlinewidth\":0,\"ticks\":\"\"}}}],\"carpet\":[{\"aaxis\":{\"endlinecolor\":\"#2a3f5f\",\"gridcolor\":\"white\",\"linecolor\":\"white\",\"minorgridcolor\":\"white\",\"startlinecolor\":\"#2a3f5f\"},\"baxis\":{\"endlinecolor\":\"#2a3f5f\",\"gridcolor\":\"white\",\"linecolor\":\"white\",\"minorgridcolor\":\"white\",\"startlinecolor\":\"#2a3f5f\"},\"type\":\"carpet\"}],\"table\":[{\"cells\":{\"fill\":{\"color\":\"#EBF0F8\"},\"line\":{\"color\":\"white\"}},\"header\":{\"fill\":{\"color\":\"#C8D4E3\"},\"line\":{\"color\":\"white\"}},\"type\":\"table\"}],\"barpolar\":[{\"marker\":{\"line\":{\"color\":\"#E5ECF6\",\"width\":0.5},\"pattern\":{\"fillmode\":\"overlay\",\"size\":10,\"solidity\":0.2}},\"type\":\"barpolar\"}],\"pie\":[{\"automargin\":true,\"type\":\"pie\"}]},\"layout\":{\"autotypenumbers\":\"strict\",\"colorway\":[\"#636efa\",\"#EF553B\",\"#00cc96\",\"#ab63fa\",\"#FFA15A\",\"#19d3f3\",\"#FF6692\",\"#B6E880\",\"#FF97FF\",\"#FECB52\"],\"font\":{\"color\":\"#2a3f5f\"},\"hovermode\":\"closest\",\"hoverlabel\":{\"align\":\"left\"},\"paper_bgcolor\":\"white\",\"plot_bgcolor\":\"#E5ECF6\",\"polar\":{\"bgcolor\":\"#E5ECF6\",\"angularaxis\":{\"gridcolor\":\"white\",\"linecolor\":\"white\",\"ticks\":\"\"},\"radialaxis\":{\"gridcolor\":\"white\",\"linecolor\":\"white\",\"ticks\":\"\"}},\"ternary\":{\"bgcolor\":\"#E5ECF6\",\"aaxis\":{\"gridcolor\":\"white\",\"linecolor\":\"white\",\"ticks\":\"\"},\"baxis\":{\"gridcolor\":\"white\",\"linecolor\":\"white\",\"ticks\":\"\"},\"caxis\":{\"gridcolor\":\"white\",\"linecolor\":\"white\",\"ticks\":\"\"}},\"coloraxis\":{\"colorbar\":{\"outlinewidth\":0,\"ticks\":\"\"}},\"colorscale\":{\"sequential\":[[0.0,\"#0d0887\"],[0.1111111111111111,\"#46039f\"],[0.2222222222222222,\"#7201a8\"],[0.3333333333333333,\"#9c179e\"],[0.4444444444444444,\"#bd3786\"],[0.5555555555555556,\"#d8576b\"],[0.6666666666666666,\"#ed7953\"],[0.7777777777777778,\"#fb9f3a\"],[0.8888888888888888,\"#fdca26\"],[1.0,\"#f0f921\"]],\"sequentialminus\":[[0.0,\"#0d0887\"],[0.1111111111111111,\"#46039f\"],[0.2222222222222222,\"#7201a8\"],[0.3333333333333333,\"#9c179e\"],[0.4444444444444444,\"#bd3786\"],[0.5555555555555556,\"#d8576b\"],[0.6666666666666666,\"#ed7953\"],[0.7777777777777778,\"#fb9f3a\"],[0.8888888888888888,\"#fdca26\"],[1.0,\"#f0f921\"]],\"diverging\":[[0,\"#8e0152\"],[0.1,\"#c51b7d\"],[0.2,\"#de77ae\"],[0.3,\"#f1b6da\"],[0.4,\"#fde0ef\"],[0.5,\"#f7f7f7\"],[0.6,\"#e6f5d0\"],[0.7,\"#b8e186\"],[0.8,\"#7fbc41\"],[0.9,\"#4d9221\"],[1,\"#276419\"]]},\"xaxis\":{\"gridcolor\":\"white\",\"linecolor\":\"white\",\"ticks\":\"\",\"title\":{\"standoff\":15},\"zerolinecolor\":\"white\",\"automargin\":true,\"zerolinewidth\":2},\"yaxis\":{\"gridcolor\":\"white\",\"linecolor\":\"white\",\"ticks\":\"\",\"title\":{\"standoff\":15},\"zerolinecolor\":\"white\",\"automargin\":true,\"zerolinewidth\":2},\"scene\":{\"xaxis\":{\"backgroundcolor\":\"#E5ECF6\",\"gridcolor\":\"white\",\"linecolor\":\"white\",\"showbackground\":true,\"ticks\":\"\",\"zerolinecolor\":\"white\",\"gridwidth\":2},\"yaxis\":{\"backgroundcolor\":\"#E5ECF6\",\"gridcolor\":\"white\",\"linecolor\":\"white\",\"showbackground\":true,\"ticks\":\"\",\"zerolinecolor\":\"white\",\"gridwidth\":2},\"zaxis\":{\"backgroundcolor\":\"#E5ECF6\",\"gridcolor\":\"white\",\"linecolor\":\"white\",\"showbackground\":true,\"ticks\":\"\",\"zerolinecolor\":\"white\",\"gridwidth\":2}},\"shapedefaults\":{\"line\":{\"color\":\"#2a3f5f\"}},\"annotationdefaults\":{\"arrowcolor\":\"#2a3f5f\",\"arrowhead\":0,\"arrowwidth\":1},\"geo\":{\"bgcolor\":\"white\",\"landcolor\":\"#E5ECF6\",\"subunitcolor\":\"white\",\"showland\":true,\"showlakes\":true,\"lakecolor\":\"white\"},\"title\":{\"x\":0.05},\"mapbox\":{\"style\":\"light\"}}},\"xaxis\":{\"anchor\":\"y\",\"domain\":[0.0,0.2125],\"title\":{\"text\":\"Year\"}},\"yaxis\":{\"anchor\":\"x\",\"domain\":[0.84375,1.0],\"title\":{\"text\":\"Price to Income Ratio\"}},\"xaxis2\":{\"anchor\":\"y2\",\"domain\":[0.2625,0.475],\"title\":{\"text\":\"Year\"}},\"yaxis2\":{\"anchor\":\"x2\",\"domain\":[0.84375,1.0],\"title\":{\"text\":\"Gross Rental Yield City Centre\"}},\"xaxis3\":{\"anchor\":\"y3\",\"domain\":[0.525,0.7375],\"title\":{\"text\":\"Year\"}},\"yaxis3\":{\"anchor\":\"x3\",\"domain\":[0.84375,1.0],\"title\":{\"text\":\"Gross Rental Yield Outside Centre\"}},\"xaxis4\":{\"anchor\":\"y4\",\"domain\":[0.7875,1.0],\"title\":{\"text\":\"Year\"}},\"yaxis4\":{\"anchor\":\"x4\",\"domain\":[0.84375,1.0],\"title\":{\"text\":\"Price to Rent Ratio City Centre\"}},\"xaxis5\":{\"anchor\":\"y5\",\"domain\":[0.0,0.2125],\"title\":{\"text\":\"Year\"}},\"yaxis5\":{\"anchor\":\"x5\",\"domain\":[0.5625,0.71875],\"title\":{\"text\":\"Price to Rent Ratio Outside City Centre\"}},\"xaxis6\":{\"anchor\":\"y6\",\"domain\":[0.2625,0.475],\"title\":{\"text\":\"Year\"}},\"yaxis6\":{\"anchor\":\"x6\",\"domain\":[0.5625,0.71875],\"title\":{\"text\":\"Mortgage as a Percentage of Income\"}},\"xaxis7\":{\"anchor\":\"y7\",\"domain\":[0.525,0.7375],\"title\":{\"text\":\"Year\"}},\"yaxis7\":{\"anchor\":\"x7\",\"domain\":[0.5625,0.71875],\"title\":{\"text\":\"Affordability Index\"}},\"xaxis8\":{\"anchor\":\"y8\",\"domain\":[0.7875,1.0],\"title\":{\"text\":\"Year\"}},\"yaxis8\":{\"anchor\":\"x8\",\"domain\":[0.5625,0.71875],\"title\":{\"text\":\"Crime Index\"}},\"xaxis9\":{\"anchor\":\"y9\",\"domain\":[0.0,0.2125],\"title\":{\"text\":\"Year\"}},\"yaxis9\":{\"anchor\":\"x9\",\"domain\":[0.28125,0.4375],\"title\":{\"text\":\"Safety Index\"}},\"xaxis10\":{\"anchor\":\"y10\",\"domain\":[0.2625,0.475],\"title\":{\"text\":\"Year\"}},\"yaxis10\":{\"anchor\":\"x10\",\"domain\":[0.28125,0.4375],\"title\":{\"text\":\"Cost of Living Index\"}},\"xaxis11\":{\"anchor\":\"y11\",\"domain\":[0.525,0.7375],\"title\":{\"text\":\"Year\"}},\"yaxis11\":{\"anchor\":\"x11\",\"domain\":[0.28125,0.4375],\"title\":{\"text\":\"Rent Index\"}},\"xaxis12\":{\"anchor\":\"y12\",\"domain\":[0.7875,1.0],\"title\":{\"text\":\"Year\"}},\"yaxis12\":{\"anchor\":\"x12\",\"domain\":[0.28125,0.4375],\"title\":{\"text\":\"Cost of Living Plus Rent Index\"}},\"xaxis13\":{\"anchor\":\"y13\",\"domain\":[0.0,0.2125],\"title\":{\"text\":\"Year\"}},\"yaxis13\":{\"anchor\":\"x13\",\"domain\":[0.0,0.15625],\"title\":{\"text\":\"Groceries Index\"}},\"xaxis14\":{\"anchor\":\"y14\",\"domain\":[0.2625,0.475],\"title\":{\"text\":\"Year\"}},\"yaxis14\":{\"anchor\":\"x14\",\"domain\":[0.0,0.15625],\"title\":{\"text\":\"Restaurant Index\"}},\"xaxis15\":{\"anchor\":\"y15\",\"domain\":[0.525,0.7375],\"title\":{\"text\":\"Year\"}},\"yaxis15\":{\"anchor\":\"x15\",\"domain\":[0.0,0.15625],\"title\":{\"text\":\"Local Purchasing Power Index\"}},\"xaxis16\":{\"anchor\":\"y16\",\"domain\":[0.7875,1.0]},\"yaxis16\":{\"anchor\":\"x16\",\"domain\":[0.0,0.15625]},\"annotations\":[{\"font\":{\"size\":16},\"showarrow\":false,\"text\":\"Price to Income Ratio\",\"x\":0.10625,\"xanchor\":\"center\",\"xref\":\"paper\",\"y\":1.0,\"yanchor\":\"bottom\",\"yref\":\"paper\"},{\"font\":{\"size\":16},\"showarrow\":false,\"text\":\"Gross Rental Yield City Centre\",\"x\":0.36875,\"xanchor\":\"center\",\"xref\":\"paper\",\"y\":1.0,\"yanchor\":\"bottom\",\"yref\":\"paper\"},{\"font\":{\"size\":16},\"showarrow\":false,\"text\":\"Gross Rental Yield Outside Centre\",\"x\":0.6312500000000001,\"xanchor\":\"center\",\"xref\":\"paper\",\"y\":1.0,\"yanchor\":\"bottom\",\"yref\":\"paper\"},{\"font\":{\"size\":16},\"showarrow\":false,\"text\":\"Price to Rent Ratio City Centre\",\"x\":0.89375,\"xanchor\":\"center\",\"xref\":\"paper\",\"y\":1.0,\"yanchor\":\"bottom\",\"yref\":\"paper\"},{\"font\":{\"size\":16},\"showarrow\":false,\"text\":\"Price to Rent Ratio Outside City Centre\",\"x\":0.10625,\"xanchor\":\"center\",\"xref\":\"paper\",\"y\":0.71875,\"yanchor\":\"bottom\",\"yref\":\"paper\"},{\"font\":{\"size\":16},\"showarrow\":false,\"text\":\"Mortgage as a Percentage of Income\",\"x\":0.36875,\"xanchor\":\"center\",\"xref\":\"paper\",\"y\":0.71875,\"yanchor\":\"bottom\",\"yref\":\"paper\"},{\"font\":{\"size\":16},\"showarrow\":false,\"text\":\"Affordability Index\",\"x\":0.6312500000000001,\"xanchor\":\"center\",\"xref\":\"paper\",\"y\":0.71875,\"yanchor\":\"bottom\",\"yref\":\"paper\"},{\"font\":{\"size\":16},\"showarrow\":false,\"text\":\"Crime Index\",\"x\":0.89375,\"xanchor\":\"center\",\"xref\":\"paper\",\"y\":0.71875,\"yanchor\":\"bottom\",\"yref\":\"paper\"},{\"font\":{\"size\":16},\"showarrow\":false,\"text\":\"Safety Index\",\"x\":0.10625,\"xanchor\":\"center\",\"xref\":\"paper\",\"y\":0.4375,\"yanchor\":\"bottom\",\"yref\":\"paper\"},{\"font\":{\"size\":16},\"showarrow\":false,\"text\":\"Cost of Living Index\",\"x\":0.36875,\"xanchor\":\"center\",\"xref\":\"paper\",\"y\":0.4375,\"yanchor\":\"bottom\",\"yref\":\"paper\"},{\"font\":{\"size\":16},\"showarrow\":false,\"text\":\"Rent Index\",\"x\":0.6312500000000001,\"xanchor\":\"center\",\"xref\":\"paper\",\"y\":0.4375,\"yanchor\":\"bottom\",\"yref\":\"paper\"},{\"font\":{\"size\":16},\"showarrow\":false,\"text\":\"Cost of Living Plus Rent Index\",\"x\":0.89375,\"xanchor\":\"center\",\"xref\":\"paper\",\"y\":0.4375,\"yanchor\":\"bottom\",\"yref\":\"paper\"},{\"font\":{\"size\":16},\"showarrow\":false,\"text\":\"Groceries Index\",\"x\":0.10625,\"xanchor\":\"center\",\"xref\":\"paper\",\"y\":0.15625,\"yanchor\":\"bottom\",\"yref\":\"paper\"},{\"font\":{\"size\":16},\"showarrow\":false,\"text\":\"Restaurant Index\",\"x\":0.36875,\"xanchor\":\"center\",\"xref\":\"paper\",\"y\":0.15625,\"yanchor\":\"bottom\",\"yref\":\"paper\"},{\"font\":{\"size\":16},\"showarrow\":false,\"text\":\"Local Purchasing Power Index\",\"x\":0.6312500000000001,\"xanchor\":\"center\",\"xref\":\"paper\",\"y\":0.15625,\"yanchor\":\"bottom\",\"yref\":\"paper\"}],\"title\":{\"text\":\"Indianapolis, IN, United States\"},\"height\":1500,\"width\":1500},                        {\"responsive\": true}                    ).then(function(){\n",
       "                            \n",
       "var gd = document.getElementById('5935420a-494d-428c-8e46-43f19b04798f');\n",
       "var x = new MutationObserver(function (mutations, observer) {{\n",
       "        var display = window.getComputedStyle(gd).display;\n",
       "        if (!display || display === 'none') {{\n",
       "            console.log([gd, 'removed!']);\n",
       "            Plotly.purge(gd);\n",
       "            observer.disconnect();\n",
       "        }}\n",
       "}});\n",
       "\n",
       "// Listen for the removal of the full notebook cells\n",
       "var notebookContainer = gd.closest('#notebook-container');\n",
       "if (notebookContainer) {{\n",
       "    x.observe(notebookContainer, {childList: true});\n",
       "}}\n",
       "\n",
       "// Listen for the clearing of the current output cell\n",
       "var outputEl = gd.closest('.output');\n",
       "if (outputEl) {{\n",
       "    x.observe(outputEl, {childList: true});\n",
       "}}\n",
       "\n",
       "                        })                };                });            </script>        </div>"
      ]
     },
     "metadata": {},
     "output_type": "display_data"
    },
    {
     "data": {
      "application/vnd.plotly.v1+json": {
       "config": {
        "plotlyServerURL": "https://plot.ly"
       },
       "data": [
        {
         "mode": "lines+markers",
         "name": "Price to Income Ratio",
         "type": "scatter",
         "x": [
          "2011",
          "2012",
          "2013",
          "2014",
          "2014-mid",
          "2015",
          "2015-mid",
          "2016",
          "2017-mid",
          "2018",
          "2018-mid",
          "2019",
          "2020",
          "2020-mid",
          "2021",
          "2021-mid",
          "2022",
          "2024-mid"
         ],
         "xaxis": "x",
         "y": [
          2.1,
          2.3,
          3.2,
          0.7,
          1,
          1.6,
          1.6,
          1.7,
          1.2,
          1.2,
          1.6,
          1.4,
          1.3,
          1.3,
          1.4,
          1.2,
          1.2,
          1.9
         ],
         "yaxis": "y"
        },
        {
         "mode": "lines+markers",
         "name": "Gross Rental Yield City Centre",
         "type": "scatter",
         "x": [
          "2011",
          "2012",
          "2013",
          "2014",
          "2014-mid",
          "2015",
          "2015-mid",
          "2016",
          "2017-mid",
          "2018",
          "2018-mid",
          "2019",
          "2020",
          "2020-mid",
          "2021",
          "2021-mid",
          "2022",
          "2024-mid"
         ],
         "xaxis": "x2",
         "y": [
          13.4,
          12.8,
          9.5,
          12.8,
          17.4,
          23.2,
          24.4,
          21.5,
          19.8,
          19,
          17.5,
          17.9,
          17.9,
          18.5,
          19.1,
          19.9,
          21.1,
          16.4
         ],
         "yaxis": "y2"
        },
        {
         "mode": "lines+markers",
         "name": "Gross Rental Yield Outside Centre",
         "type": "scatter",
         "x": [
          "2011",
          "2012",
          "2013",
          "2014",
          "2014-mid",
          "2015",
          "2015-mid",
          "2016",
          "2017-mid",
          "2018",
          "2018-mid",
          "2019",
          "2020",
          "2020-mid",
          "2021",
          "2021-mid",
          "2022",
          "2024-mid"
         ],
         "xaxis": "x3",
         "y": [
          28.6,
          30,
          24.6,
          27.5,
          20.9,
          23.7,
          22.6,
          18.1,
          24.4,
          24.4,
          25.9,
          27.2,
          30.7,
          31.2,
          33.5,
          36.6,
          40.4,
          15.9
         ],
         "yaxis": "y3"
        },
        {
         "mode": "lines+markers",
         "name": "Price to Rent Ratio City Centre",
         "type": "scatter",
         "x": [
          "2011",
          "2012",
          "2013",
          "2014",
          "2014-mid",
          "2015",
          "2015-mid",
          "2016",
          "2017-mid",
          "2018",
          "2018-mid",
          "2019",
          "2020",
          "2020-mid",
          "2021",
          "2021-mid",
          "2022",
          "2024-mid"
         ],
         "xaxis": "x4",
         "y": [
          7.5,
          7.8,
          10.6,
          7.8,
          5.8,
          4.3,
          4.1,
          4.7,
          5,
          5.3,
          5.7,
          5.6,
          5.6,
          5.4,
          5.2,
          5,
          4.7,
          6.1
         ],
         "yaxis": "y4"
        },
        {
         "mode": "lines+markers",
         "name": "Price to Rent Ratio Outside City Centre",
         "type": "scatter",
         "x": [
          "2011",
          "2012",
          "2013",
          "2014",
          "2014-mid",
          "2015",
          "2015-mid",
          "2016",
          "2017-mid",
          "2018",
          "2018-mid",
          "2019",
          "2020",
          "2020-mid",
          "2021",
          "2021-mid",
          "2022",
          "2024-mid"
         ],
         "xaxis": "x5",
         "y": [
          3.5,
          3.3,
          4.1,
          3.6,
          4.8,
          4.2,
          4.4,
          5.5,
          4.1,
          4.1,
          3.9,
          3.7,
          3.3,
          3.2,
          3,
          2.7,
          2.5,
          6.3
         ],
         "yaxis": "y5"
        },
        {
         "mode": "lines+markers",
         "name": "Mortgage as a Percentage of Income",
         "type": "scatter",
         "x": [
          "2011",
          "2012",
          "2013",
          "2014",
          "2014-mid",
          "2015",
          "2015-mid",
          "2016",
          "2017-mid",
          "2018",
          "2018-mid",
          "2019",
          "2020",
          "2020-mid",
          "2021",
          "2021-mid",
          "2022",
          "2024-mid"
         ],
         "xaxis": "x6",
         "y": [
          "17.1",
          "18.6",
          "24.4",
          "5.0",
          "7.4",
          "11.8",
          "12.3",
          "13.9",
          "8.9",
          "8.6",
          "11.7",
          "10.6",
          "10.0",
          "9.3",
          "10.0",
          "8.9",
          "8.5",
          "17.0"
         ],
         "yaxis": "y6"
        },
        {
         "mode": "lines+markers",
         "name": "Affordability Index",
         "type": "scatter",
         "x": [
          "2011",
          "2012",
          "2013",
          "2014",
          "2014-mid",
          "2015",
          "2015-mid",
          "2016",
          "2017-mid",
          "2018",
          "2018-mid",
          "2019",
          "2020",
          "2020-mid",
          "2021",
          "2021-mid",
          "2022",
          "2024-mid"
         ],
         "xaxis": "x7",
         "y": [
          "5.9",
          "5.4",
          "4.1",
          "20.0",
          "13.6",
          "8.5",
          "8.1",
          "7.2",
          "11.2",
          "11.7",
          "8.5",
          "9.4",
          "10.0",
          "10.8",
          "10.0",
          "11.3",
          "11.7",
          "5.9"
         ],
         "yaxis": "y7"
        },
        {
         "mode": "lines+markers",
         "name": "Crime Index",
         "type": "scatter",
         "x": [
          "2011",
          "2012",
          "2013",
          "2014",
          "2014-mid",
          "2015",
          "2015-mid",
          "2016",
          "2017-mid",
          "2018",
          "2018-mid",
          "2019",
          "2020",
          "2020-mid",
          "2021",
          "2021-mid",
          "2022",
          "2024-mid"
         ],
         "xaxis": "x8",
         "y": [
          null,
          null,
          null,
          null,
          74.5,
          74.5,
          71.9,
          null,
          null,
          null,
          null,
          null,
          74.8,
          75.6,
          74.8,
          73.5,
          73.9,
          76.5
         ],
         "yaxis": "y8"
        },
        {
         "mode": "lines+markers",
         "name": "Safety Index",
         "type": "scatter",
         "x": [
          "2011",
          "2012",
          "2013",
          "2014",
          "2014-mid",
          "2015",
          "2015-mid",
          "2016",
          "2017-mid",
          "2018",
          "2018-mid",
          "2019",
          "2020",
          "2020-mid",
          "2021",
          "2021-mid",
          "2022",
          "2024-mid"
         ],
         "xaxis": "x9",
         "y": [
          null,
          null,
          null,
          null,
          25.5,
          25.5,
          28.1,
          null,
          null,
          null,
          null,
          null,
          25.2,
          24.4,
          25.2,
          26.5,
          26.1,
          23.5
         ],
         "yaxis": "y9"
        },
        {
         "mode": "lines+markers",
         "name": "Cost of Living Index",
         "type": "scatter",
         "x": [
          "2011",
          "2012",
          "2013",
          "2014",
          "2014-mid",
          "2015",
          "2015-mid",
          "2016",
          "2017-mid",
          "2018",
          "2018-mid",
          "2019",
          "2020",
          "2020-mid",
          "2021",
          "2021-mid",
          "2022",
          "2024-mid"
         ],
         "xaxis": "x10",
         "y": [
          null,
          null,
          null,
          null,
          null,
          null,
          null,
          null,
          null,
          null,
          null,
          null,
          null,
          null,
          null,
          null,
          null,
          null
         ],
         "yaxis": "y10"
        },
        {
         "mode": "lines+markers",
         "name": "Rent Index",
         "type": "scatter",
         "x": [
          "2011",
          "2012",
          "2013",
          "2014",
          "2014-mid",
          "2015",
          "2015-mid",
          "2016",
          "2017-mid",
          "2018",
          "2018-mid",
          "2019",
          "2020",
          "2020-mid",
          "2021",
          "2021-mid",
          "2022",
          "2024-mid"
         ],
         "xaxis": "x11",
         "y": [
          null,
          null,
          null,
          null,
          null,
          null,
          null,
          null,
          null,
          null,
          null,
          null,
          null,
          null,
          null,
          null,
          null,
          null
         ],
         "yaxis": "y11"
        },
        {
         "mode": "lines+markers",
         "name": "Cost of Living Plus Rent Index",
         "type": "scatter",
         "x": [
          "2011",
          "2012",
          "2013",
          "2014",
          "2014-mid",
          "2015",
          "2015-mid",
          "2016",
          "2017-mid",
          "2018",
          "2018-mid",
          "2019",
          "2020",
          "2020-mid",
          "2021",
          "2021-mid",
          "2022",
          "2024-mid"
         ],
         "xaxis": "x12",
         "y": [
          null,
          null,
          null,
          null,
          null,
          null,
          null,
          null,
          null,
          null,
          null,
          null,
          null,
          null,
          null,
          null,
          null,
          null
         ],
         "yaxis": "y12"
        },
        {
         "mode": "lines+markers",
         "name": "Groceries Index",
         "type": "scatter",
         "x": [
          "2011",
          "2012",
          "2013",
          "2014",
          "2014-mid",
          "2015",
          "2015-mid",
          "2016",
          "2017-mid",
          "2018",
          "2018-mid",
          "2019",
          "2020",
          "2020-mid",
          "2021",
          "2021-mid",
          "2022",
          "2024-mid"
         ],
         "xaxis": "x13",
         "y": [
          null,
          null,
          null,
          null,
          null,
          null,
          null,
          null,
          null,
          null,
          null,
          null,
          null,
          null,
          null,
          null,
          null,
          null
         ],
         "yaxis": "y13"
        },
        {
         "mode": "lines+markers",
         "name": "Restaurant Index",
         "type": "scatter",
         "x": [
          "2011",
          "2012",
          "2013",
          "2014",
          "2014-mid",
          "2015",
          "2015-mid",
          "2016",
          "2017-mid",
          "2018",
          "2018-mid",
          "2019",
          "2020",
          "2020-mid",
          "2021",
          "2021-mid",
          "2022",
          "2024-mid"
         ],
         "xaxis": "x14",
         "y": [
          null,
          null,
          null,
          null,
          null,
          null,
          null,
          null,
          null,
          null,
          null,
          null,
          null,
          null,
          null,
          null,
          null,
          null
         ],
         "yaxis": "y14"
        },
        {
         "mode": "lines+markers",
         "name": "Local Purchasing Power Index",
         "type": "scatter",
         "x": [
          "2011",
          "2012",
          "2013",
          "2014",
          "2014-mid",
          "2015",
          "2015-mid",
          "2016",
          "2017-mid",
          "2018",
          "2018-mid",
          "2019",
          "2020",
          "2020-mid",
          "2021",
          "2021-mid",
          "2022",
          "2024-mid"
         ],
         "xaxis": "x15",
         "y": [
          null,
          null,
          null,
          null,
          null,
          null,
          null,
          null,
          null,
          null,
          null,
          null,
          null,
          null,
          null,
          null,
          null,
          null
         ],
         "yaxis": "y15"
        }
       ],
       "layout": {
        "annotations": [
         {
          "font": {
           "size": 16
          },
          "showarrow": false,
          "text": "Price to Income Ratio",
          "x": 0.10625,
          "xanchor": "center",
          "xref": "paper",
          "y": 1,
          "yanchor": "bottom",
          "yref": "paper"
         },
         {
          "font": {
           "size": 16
          },
          "showarrow": false,
          "text": "Gross Rental Yield City Centre",
          "x": 0.36875,
          "xanchor": "center",
          "xref": "paper",
          "y": 1,
          "yanchor": "bottom",
          "yref": "paper"
         },
         {
          "font": {
           "size": 16
          },
          "showarrow": false,
          "text": "Gross Rental Yield Outside Centre",
          "x": 0.6312500000000001,
          "xanchor": "center",
          "xref": "paper",
          "y": 1,
          "yanchor": "bottom",
          "yref": "paper"
         },
         {
          "font": {
           "size": 16
          },
          "showarrow": false,
          "text": "Price to Rent Ratio City Centre",
          "x": 0.89375,
          "xanchor": "center",
          "xref": "paper",
          "y": 1,
          "yanchor": "bottom",
          "yref": "paper"
         },
         {
          "font": {
           "size": 16
          },
          "showarrow": false,
          "text": "Price to Rent Ratio Outside City Centre",
          "x": 0.10625,
          "xanchor": "center",
          "xref": "paper",
          "y": 0.71875,
          "yanchor": "bottom",
          "yref": "paper"
         },
         {
          "font": {
           "size": 16
          },
          "showarrow": false,
          "text": "Mortgage as a Percentage of Income",
          "x": 0.36875,
          "xanchor": "center",
          "xref": "paper",
          "y": 0.71875,
          "yanchor": "bottom",
          "yref": "paper"
         },
         {
          "font": {
           "size": 16
          },
          "showarrow": false,
          "text": "Affordability Index",
          "x": 0.6312500000000001,
          "xanchor": "center",
          "xref": "paper",
          "y": 0.71875,
          "yanchor": "bottom",
          "yref": "paper"
         },
         {
          "font": {
           "size": 16
          },
          "showarrow": false,
          "text": "Crime Index",
          "x": 0.89375,
          "xanchor": "center",
          "xref": "paper",
          "y": 0.71875,
          "yanchor": "bottom",
          "yref": "paper"
         },
         {
          "font": {
           "size": 16
          },
          "showarrow": false,
          "text": "Safety Index",
          "x": 0.10625,
          "xanchor": "center",
          "xref": "paper",
          "y": 0.4375,
          "yanchor": "bottom",
          "yref": "paper"
         },
         {
          "font": {
           "size": 16
          },
          "showarrow": false,
          "text": "Cost of Living Index",
          "x": 0.36875,
          "xanchor": "center",
          "xref": "paper",
          "y": 0.4375,
          "yanchor": "bottom",
          "yref": "paper"
         },
         {
          "font": {
           "size": 16
          },
          "showarrow": false,
          "text": "Rent Index",
          "x": 0.6312500000000001,
          "xanchor": "center",
          "xref": "paper",
          "y": 0.4375,
          "yanchor": "bottom",
          "yref": "paper"
         },
         {
          "font": {
           "size": 16
          },
          "showarrow": false,
          "text": "Cost of Living Plus Rent Index",
          "x": 0.89375,
          "xanchor": "center",
          "xref": "paper",
          "y": 0.4375,
          "yanchor": "bottom",
          "yref": "paper"
         },
         {
          "font": {
           "size": 16
          },
          "showarrow": false,
          "text": "Groceries Index",
          "x": 0.10625,
          "xanchor": "center",
          "xref": "paper",
          "y": 0.15625,
          "yanchor": "bottom",
          "yref": "paper"
         },
         {
          "font": {
           "size": 16
          },
          "showarrow": false,
          "text": "Restaurant Index",
          "x": 0.36875,
          "xanchor": "center",
          "xref": "paper",
          "y": 0.15625,
          "yanchor": "bottom",
          "yref": "paper"
         },
         {
          "font": {
           "size": 16
          },
          "showarrow": false,
          "text": "Local Purchasing Power Index",
          "x": 0.6312500000000001,
          "xanchor": "center",
          "xref": "paper",
          "y": 0.15625,
          "yanchor": "bottom",
          "yref": "paper"
         }
        ],
        "height": 1500,
        "template": {
         "data": {
          "bar": [
           {
            "error_x": {
             "color": "#2a3f5f"
            },
            "error_y": {
             "color": "#2a3f5f"
            },
            "marker": {
             "line": {
              "color": "#E5ECF6",
              "width": 0.5
             },
             "pattern": {
              "fillmode": "overlay",
              "size": 10,
              "solidity": 0.2
             }
            },
            "type": "bar"
           }
          ],
          "barpolar": [
           {
            "marker": {
             "line": {
              "color": "#E5ECF6",
              "width": 0.5
             },
             "pattern": {
              "fillmode": "overlay",
              "size": 10,
              "solidity": 0.2
             }
            },
            "type": "barpolar"
           }
          ],
          "carpet": [
           {
            "aaxis": {
             "endlinecolor": "#2a3f5f",
             "gridcolor": "white",
             "linecolor": "white",
             "minorgridcolor": "white",
             "startlinecolor": "#2a3f5f"
            },
            "baxis": {
             "endlinecolor": "#2a3f5f",
             "gridcolor": "white",
             "linecolor": "white",
             "minorgridcolor": "white",
             "startlinecolor": "#2a3f5f"
            },
            "type": "carpet"
           }
          ],
          "choropleth": [
           {
            "colorbar": {
             "outlinewidth": 0,
             "ticks": ""
            },
            "type": "choropleth"
           }
          ],
          "contour": [
           {
            "colorbar": {
             "outlinewidth": 0,
             "ticks": ""
            },
            "colorscale": [
             [
              0,
              "#0d0887"
             ],
             [
              0.1111111111111111,
              "#46039f"
             ],
             [
              0.2222222222222222,
              "#7201a8"
             ],
             [
              0.3333333333333333,
              "#9c179e"
             ],
             [
              0.4444444444444444,
              "#bd3786"
             ],
             [
              0.5555555555555556,
              "#d8576b"
             ],
             [
              0.6666666666666666,
              "#ed7953"
             ],
             [
              0.7777777777777778,
              "#fb9f3a"
             ],
             [
              0.8888888888888888,
              "#fdca26"
             ],
             [
              1,
              "#f0f921"
             ]
            ],
            "type": "contour"
           }
          ],
          "contourcarpet": [
           {
            "colorbar": {
             "outlinewidth": 0,
             "ticks": ""
            },
            "type": "contourcarpet"
           }
          ],
          "heatmap": [
           {
            "colorbar": {
             "outlinewidth": 0,
             "ticks": ""
            },
            "colorscale": [
             [
              0,
              "#0d0887"
             ],
             [
              0.1111111111111111,
              "#46039f"
             ],
             [
              0.2222222222222222,
              "#7201a8"
             ],
             [
              0.3333333333333333,
              "#9c179e"
             ],
             [
              0.4444444444444444,
              "#bd3786"
             ],
             [
              0.5555555555555556,
              "#d8576b"
             ],
             [
              0.6666666666666666,
              "#ed7953"
             ],
             [
              0.7777777777777778,
              "#fb9f3a"
             ],
             [
              0.8888888888888888,
              "#fdca26"
             ],
             [
              1,
              "#f0f921"
             ]
            ],
            "type": "heatmap"
           }
          ],
          "heatmapgl": [
           {
            "colorbar": {
             "outlinewidth": 0,
             "ticks": ""
            },
            "colorscale": [
             [
              0,
              "#0d0887"
             ],
             [
              0.1111111111111111,
              "#46039f"
             ],
             [
              0.2222222222222222,
              "#7201a8"
             ],
             [
              0.3333333333333333,
              "#9c179e"
             ],
             [
              0.4444444444444444,
              "#bd3786"
             ],
             [
              0.5555555555555556,
              "#d8576b"
             ],
             [
              0.6666666666666666,
              "#ed7953"
             ],
             [
              0.7777777777777778,
              "#fb9f3a"
             ],
             [
              0.8888888888888888,
              "#fdca26"
             ],
             [
              1,
              "#f0f921"
             ]
            ],
            "type": "heatmapgl"
           }
          ],
          "histogram": [
           {
            "marker": {
             "pattern": {
              "fillmode": "overlay",
              "size": 10,
              "solidity": 0.2
             }
            },
            "type": "histogram"
           }
          ],
          "histogram2d": [
           {
            "colorbar": {
             "outlinewidth": 0,
             "ticks": ""
            },
            "colorscale": [
             [
              0,
              "#0d0887"
             ],
             [
              0.1111111111111111,
              "#46039f"
             ],
             [
              0.2222222222222222,
              "#7201a8"
             ],
             [
              0.3333333333333333,
              "#9c179e"
             ],
             [
              0.4444444444444444,
              "#bd3786"
             ],
             [
              0.5555555555555556,
              "#d8576b"
             ],
             [
              0.6666666666666666,
              "#ed7953"
             ],
             [
              0.7777777777777778,
              "#fb9f3a"
             ],
             [
              0.8888888888888888,
              "#fdca26"
             ],
             [
              1,
              "#f0f921"
             ]
            ],
            "type": "histogram2d"
           }
          ],
          "histogram2dcontour": [
           {
            "colorbar": {
             "outlinewidth": 0,
             "ticks": ""
            },
            "colorscale": [
             [
              0,
              "#0d0887"
             ],
             [
              0.1111111111111111,
              "#46039f"
             ],
             [
              0.2222222222222222,
              "#7201a8"
             ],
             [
              0.3333333333333333,
              "#9c179e"
             ],
             [
              0.4444444444444444,
              "#bd3786"
             ],
             [
              0.5555555555555556,
              "#d8576b"
             ],
             [
              0.6666666666666666,
              "#ed7953"
             ],
             [
              0.7777777777777778,
              "#fb9f3a"
             ],
             [
              0.8888888888888888,
              "#fdca26"
             ],
             [
              1,
              "#f0f921"
             ]
            ],
            "type": "histogram2dcontour"
           }
          ],
          "mesh3d": [
           {
            "colorbar": {
             "outlinewidth": 0,
             "ticks": ""
            },
            "type": "mesh3d"
           }
          ],
          "parcoords": [
           {
            "line": {
             "colorbar": {
              "outlinewidth": 0,
              "ticks": ""
             }
            },
            "type": "parcoords"
           }
          ],
          "pie": [
           {
            "automargin": true,
            "type": "pie"
           }
          ],
          "scatter": [
           {
            "fillpattern": {
             "fillmode": "overlay",
             "size": 10,
             "solidity": 0.2
            },
            "type": "scatter"
           }
          ],
          "scatter3d": [
           {
            "line": {
             "colorbar": {
              "outlinewidth": 0,
              "ticks": ""
             }
            },
            "marker": {
             "colorbar": {
              "outlinewidth": 0,
              "ticks": ""
             }
            },
            "type": "scatter3d"
           }
          ],
          "scattercarpet": [
           {
            "marker": {
             "colorbar": {
              "outlinewidth": 0,
              "ticks": ""
             }
            },
            "type": "scattercarpet"
           }
          ],
          "scattergeo": [
           {
            "marker": {
             "colorbar": {
              "outlinewidth": 0,
              "ticks": ""
             }
            },
            "type": "scattergeo"
           }
          ],
          "scattergl": [
           {
            "marker": {
             "colorbar": {
              "outlinewidth": 0,
              "ticks": ""
             }
            },
            "type": "scattergl"
           }
          ],
          "scattermapbox": [
           {
            "marker": {
             "colorbar": {
              "outlinewidth": 0,
              "ticks": ""
             }
            },
            "type": "scattermapbox"
           }
          ],
          "scatterpolar": [
           {
            "marker": {
             "colorbar": {
              "outlinewidth": 0,
              "ticks": ""
             }
            },
            "type": "scatterpolar"
           }
          ],
          "scatterpolargl": [
           {
            "marker": {
             "colorbar": {
              "outlinewidth": 0,
              "ticks": ""
             }
            },
            "type": "scatterpolargl"
           }
          ],
          "scatterternary": [
           {
            "marker": {
             "colorbar": {
              "outlinewidth": 0,
              "ticks": ""
             }
            },
            "type": "scatterternary"
           }
          ],
          "surface": [
           {
            "colorbar": {
             "outlinewidth": 0,
             "ticks": ""
            },
            "colorscale": [
             [
              0,
              "#0d0887"
             ],
             [
              0.1111111111111111,
              "#46039f"
             ],
             [
              0.2222222222222222,
              "#7201a8"
             ],
             [
              0.3333333333333333,
              "#9c179e"
             ],
             [
              0.4444444444444444,
              "#bd3786"
             ],
             [
              0.5555555555555556,
              "#d8576b"
             ],
             [
              0.6666666666666666,
              "#ed7953"
             ],
             [
              0.7777777777777778,
              "#fb9f3a"
             ],
             [
              0.8888888888888888,
              "#fdca26"
             ],
             [
              1,
              "#f0f921"
             ]
            ],
            "type": "surface"
           }
          ],
          "table": [
           {
            "cells": {
             "fill": {
              "color": "#EBF0F8"
             },
             "line": {
              "color": "white"
             }
            },
            "header": {
             "fill": {
              "color": "#C8D4E3"
             },
             "line": {
              "color": "white"
             }
            },
            "type": "table"
           }
          ]
         },
         "layout": {
          "annotationdefaults": {
           "arrowcolor": "#2a3f5f",
           "arrowhead": 0,
           "arrowwidth": 1
          },
          "autotypenumbers": "strict",
          "coloraxis": {
           "colorbar": {
            "outlinewidth": 0,
            "ticks": ""
           }
          },
          "colorscale": {
           "diverging": [
            [
             0,
             "#8e0152"
            ],
            [
             0.1,
             "#c51b7d"
            ],
            [
             0.2,
             "#de77ae"
            ],
            [
             0.3,
             "#f1b6da"
            ],
            [
             0.4,
             "#fde0ef"
            ],
            [
             0.5,
             "#f7f7f7"
            ],
            [
             0.6,
             "#e6f5d0"
            ],
            [
             0.7,
             "#b8e186"
            ],
            [
             0.8,
             "#7fbc41"
            ],
            [
             0.9,
             "#4d9221"
            ],
            [
             1,
             "#276419"
            ]
           ],
           "sequential": [
            [
             0,
             "#0d0887"
            ],
            [
             0.1111111111111111,
             "#46039f"
            ],
            [
             0.2222222222222222,
             "#7201a8"
            ],
            [
             0.3333333333333333,
             "#9c179e"
            ],
            [
             0.4444444444444444,
             "#bd3786"
            ],
            [
             0.5555555555555556,
             "#d8576b"
            ],
            [
             0.6666666666666666,
             "#ed7953"
            ],
            [
             0.7777777777777778,
             "#fb9f3a"
            ],
            [
             0.8888888888888888,
             "#fdca26"
            ],
            [
             1,
             "#f0f921"
            ]
           ],
           "sequentialminus": [
            [
             0,
             "#0d0887"
            ],
            [
             0.1111111111111111,
             "#46039f"
            ],
            [
             0.2222222222222222,
             "#7201a8"
            ],
            [
             0.3333333333333333,
             "#9c179e"
            ],
            [
             0.4444444444444444,
             "#bd3786"
            ],
            [
             0.5555555555555556,
             "#d8576b"
            ],
            [
             0.6666666666666666,
             "#ed7953"
            ],
            [
             0.7777777777777778,
             "#fb9f3a"
            ],
            [
             0.8888888888888888,
             "#fdca26"
            ],
            [
             1,
             "#f0f921"
            ]
           ]
          },
          "colorway": [
           "#636efa",
           "#EF553B",
           "#00cc96",
           "#ab63fa",
           "#FFA15A",
           "#19d3f3",
           "#FF6692",
           "#B6E880",
           "#FF97FF",
           "#FECB52"
          ],
          "font": {
           "color": "#2a3f5f"
          },
          "geo": {
           "bgcolor": "white",
           "lakecolor": "white",
           "landcolor": "#E5ECF6",
           "showlakes": true,
           "showland": true,
           "subunitcolor": "white"
          },
          "hoverlabel": {
           "align": "left"
          },
          "hovermode": "closest",
          "mapbox": {
           "style": "light"
          },
          "paper_bgcolor": "white",
          "plot_bgcolor": "#E5ECF6",
          "polar": {
           "angularaxis": {
            "gridcolor": "white",
            "linecolor": "white",
            "ticks": ""
           },
           "bgcolor": "#E5ECF6",
           "radialaxis": {
            "gridcolor": "white",
            "linecolor": "white",
            "ticks": ""
           }
          },
          "scene": {
           "xaxis": {
            "backgroundcolor": "#E5ECF6",
            "gridcolor": "white",
            "gridwidth": 2,
            "linecolor": "white",
            "showbackground": true,
            "ticks": "",
            "zerolinecolor": "white"
           },
           "yaxis": {
            "backgroundcolor": "#E5ECF6",
            "gridcolor": "white",
            "gridwidth": 2,
            "linecolor": "white",
            "showbackground": true,
            "ticks": "",
            "zerolinecolor": "white"
           },
           "zaxis": {
            "backgroundcolor": "#E5ECF6",
            "gridcolor": "white",
            "gridwidth": 2,
            "linecolor": "white",
            "showbackground": true,
            "ticks": "",
            "zerolinecolor": "white"
           }
          },
          "shapedefaults": {
           "line": {
            "color": "#2a3f5f"
           }
          },
          "ternary": {
           "aaxis": {
            "gridcolor": "white",
            "linecolor": "white",
            "ticks": ""
           },
           "baxis": {
            "gridcolor": "white",
            "linecolor": "white",
            "ticks": ""
           },
           "bgcolor": "#E5ECF6",
           "caxis": {
            "gridcolor": "white",
            "linecolor": "white",
            "ticks": ""
           }
          },
          "title": {
           "x": 0.05
          },
          "xaxis": {
           "automargin": true,
           "gridcolor": "white",
           "linecolor": "white",
           "ticks": "",
           "title": {
            "standoff": 15
           },
           "zerolinecolor": "white",
           "zerolinewidth": 2
          },
          "yaxis": {
           "automargin": true,
           "gridcolor": "white",
           "linecolor": "white",
           "ticks": "",
           "title": {
            "standoff": 15
           },
           "zerolinecolor": "white",
           "zerolinewidth": 2
          }
         }
        },
        "title": {
         "text": "Memphis, TN, United States"
        },
        "width": 1500,
        "xaxis": {
         "anchor": "y",
         "domain": [
          0,
          0.2125
         ],
         "title": {
          "text": "Year"
         }
        },
        "xaxis10": {
         "anchor": "y10",
         "domain": [
          0.2625,
          0.475
         ],
         "title": {
          "text": "Year"
         }
        },
        "xaxis11": {
         "anchor": "y11",
         "domain": [
          0.525,
          0.7375
         ],
         "title": {
          "text": "Year"
         }
        },
        "xaxis12": {
         "anchor": "y12",
         "domain": [
          0.7875,
          1
         ],
         "title": {
          "text": "Year"
         }
        },
        "xaxis13": {
         "anchor": "y13",
         "domain": [
          0,
          0.2125
         ],
         "title": {
          "text": "Year"
         }
        },
        "xaxis14": {
         "anchor": "y14",
         "domain": [
          0.2625,
          0.475
         ],
         "title": {
          "text": "Year"
         }
        },
        "xaxis15": {
         "anchor": "y15",
         "domain": [
          0.525,
          0.7375
         ],
         "title": {
          "text": "Year"
         }
        },
        "xaxis16": {
         "anchor": "y16",
         "domain": [
          0.7875,
          1
         ]
        },
        "xaxis2": {
         "anchor": "y2",
         "domain": [
          0.2625,
          0.475
         ],
         "title": {
          "text": "Year"
         }
        },
        "xaxis3": {
         "anchor": "y3",
         "domain": [
          0.525,
          0.7375
         ],
         "title": {
          "text": "Year"
         }
        },
        "xaxis4": {
         "anchor": "y4",
         "domain": [
          0.7875,
          1
         ],
         "title": {
          "text": "Year"
         }
        },
        "xaxis5": {
         "anchor": "y5",
         "domain": [
          0,
          0.2125
         ],
         "title": {
          "text": "Year"
         }
        },
        "xaxis6": {
         "anchor": "y6",
         "domain": [
          0.2625,
          0.475
         ],
         "title": {
          "text": "Year"
         }
        },
        "xaxis7": {
         "anchor": "y7",
         "domain": [
          0.525,
          0.7375
         ],
         "title": {
          "text": "Year"
         }
        },
        "xaxis8": {
         "anchor": "y8",
         "domain": [
          0.7875,
          1
         ],
         "title": {
          "text": "Year"
         }
        },
        "xaxis9": {
         "anchor": "y9",
         "domain": [
          0,
          0.2125
         ],
         "title": {
          "text": "Year"
         }
        },
        "yaxis": {
         "anchor": "x",
         "domain": [
          0.84375,
          1
         ],
         "title": {
          "text": "Price to Income Ratio"
         }
        },
        "yaxis10": {
         "anchor": "x10",
         "domain": [
          0.28125,
          0.4375
         ],
         "title": {
          "text": "Cost of Living Index"
         }
        },
        "yaxis11": {
         "anchor": "x11",
         "domain": [
          0.28125,
          0.4375
         ],
         "title": {
          "text": "Rent Index"
         }
        },
        "yaxis12": {
         "anchor": "x12",
         "domain": [
          0.28125,
          0.4375
         ],
         "title": {
          "text": "Cost of Living Plus Rent Index"
         }
        },
        "yaxis13": {
         "anchor": "x13",
         "domain": [
          0,
          0.15625
         ],
         "title": {
          "text": "Groceries Index"
         }
        },
        "yaxis14": {
         "anchor": "x14",
         "domain": [
          0,
          0.15625
         ],
         "title": {
          "text": "Restaurant Index"
         }
        },
        "yaxis15": {
         "anchor": "x15",
         "domain": [
          0,
          0.15625
         ],
         "title": {
          "text": "Local Purchasing Power Index"
         }
        },
        "yaxis16": {
         "anchor": "x16",
         "domain": [
          0,
          0.15625
         ]
        },
        "yaxis2": {
         "anchor": "x2",
         "domain": [
          0.84375,
          1
         ],
         "title": {
          "text": "Gross Rental Yield City Centre"
         }
        },
        "yaxis3": {
         "anchor": "x3",
         "domain": [
          0.84375,
          1
         ],
         "title": {
          "text": "Gross Rental Yield Outside Centre"
         }
        },
        "yaxis4": {
         "anchor": "x4",
         "domain": [
          0.84375,
          1
         ],
         "title": {
          "text": "Price to Rent Ratio City Centre"
         }
        },
        "yaxis5": {
         "anchor": "x5",
         "domain": [
          0.5625,
          0.71875
         ],
         "title": {
          "text": "Price to Rent Ratio Outside City Centre"
         }
        },
        "yaxis6": {
         "anchor": "x6",
         "domain": [
          0.5625,
          0.71875
         ],
         "title": {
          "text": "Mortgage as a Percentage of Income"
         }
        },
        "yaxis7": {
         "anchor": "x7",
         "domain": [
          0.5625,
          0.71875
         ],
         "title": {
          "text": "Affordability Index"
         }
        },
        "yaxis8": {
         "anchor": "x8",
         "domain": [
          0.5625,
          0.71875
         ],
         "title": {
          "text": "Crime Index"
         }
        },
        "yaxis9": {
         "anchor": "x9",
         "domain": [
          0.28125,
          0.4375
         ],
         "title": {
          "text": "Safety Index"
         }
        }
       }
      },
      "text/html": [
       "<div>                            <div id=\"20d9585d-b422-4d87-b3ec-54eb1b3cdfa5\" class=\"plotly-graph-div\" style=\"height:1500px; width:1500px;\"></div>            <script type=\"text/javascript\">                require([\"plotly\"], function(Plotly) {                    window.PLOTLYENV=window.PLOTLYENV || {};                                    if (document.getElementById(\"20d9585d-b422-4d87-b3ec-54eb1b3cdfa5\")) {                    Plotly.newPlot(                        \"20d9585d-b422-4d87-b3ec-54eb1b3cdfa5\",                        [{\"mode\":\"lines+markers\",\"name\":\"Price to Income Ratio\",\"x\":[\"2011\",\"2012\",\"2013\",\"2014\",\"2014-mid\",\"2015\",\"2015-mid\",\"2016\",\"2017-mid\",\"2018\",\"2018-mid\",\"2019\",\"2020\",\"2020-mid\",\"2021\",\"2021-mid\",\"2022\",\"2024-mid\"],\"y\":[2.1,2.3,3.2,0.7,1.0,1.6,1.6,1.7,1.2,1.2,1.6,1.4,1.3,1.3,1.4,1.2,1.2,1.9],\"type\":\"scatter\",\"xaxis\":\"x\",\"yaxis\":\"y\"},{\"mode\":\"lines+markers\",\"name\":\"Gross Rental Yield City Centre\",\"x\":[\"2011\",\"2012\",\"2013\",\"2014\",\"2014-mid\",\"2015\",\"2015-mid\",\"2016\",\"2017-mid\",\"2018\",\"2018-mid\",\"2019\",\"2020\",\"2020-mid\",\"2021\",\"2021-mid\",\"2022\",\"2024-mid\"],\"y\":[13.4,12.8,9.5,12.8,17.4,23.2,24.4,21.5,19.8,19.0,17.5,17.9,17.9,18.5,19.1,19.9,21.1,16.4],\"type\":\"scatter\",\"xaxis\":\"x2\",\"yaxis\":\"y2\"},{\"mode\":\"lines+markers\",\"name\":\"Gross Rental Yield Outside Centre\",\"x\":[\"2011\",\"2012\",\"2013\",\"2014\",\"2014-mid\",\"2015\",\"2015-mid\",\"2016\",\"2017-mid\",\"2018\",\"2018-mid\",\"2019\",\"2020\",\"2020-mid\",\"2021\",\"2021-mid\",\"2022\",\"2024-mid\"],\"y\":[28.6,30.0,24.6,27.5,20.9,23.7,22.6,18.1,24.4,24.4,25.9,27.2,30.7,31.2,33.5,36.6,40.4,15.9],\"type\":\"scatter\",\"xaxis\":\"x3\",\"yaxis\":\"y3\"},{\"mode\":\"lines+markers\",\"name\":\"Price to Rent Ratio City Centre\",\"x\":[\"2011\",\"2012\",\"2013\",\"2014\",\"2014-mid\",\"2015\",\"2015-mid\",\"2016\",\"2017-mid\",\"2018\",\"2018-mid\",\"2019\",\"2020\",\"2020-mid\",\"2021\",\"2021-mid\",\"2022\",\"2024-mid\"],\"y\":[7.5,7.8,10.6,7.8,5.8,4.3,4.1,4.7,5.0,5.3,5.7,5.6,5.6,5.4,5.2,5.0,4.7,6.1],\"type\":\"scatter\",\"xaxis\":\"x4\",\"yaxis\":\"y4\"},{\"mode\":\"lines+markers\",\"name\":\"Price to Rent Ratio Outside City Centre\",\"x\":[\"2011\",\"2012\",\"2013\",\"2014\",\"2014-mid\",\"2015\",\"2015-mid\",\"2016\",\"2017-mid\",\"2018\",\"2018-mid\",\"2019\",\"2020\",\"2020-mid\",\"2021\",\"2021-mid\",\"2022\",\"2024-mid\"],\"y\":[3.5,3.3,4.1,3.6,4.8,4.2,4.4,5.5,4.1,4.1,3.9,3.7,3.3,3.2,3.0,2.7,2.5,6.3],\"type\":\"scatter\",\"xaxis\":\"x5\",\"yaxis\":\"y5\"},{\"mode\":\"lines+markers\",\"name\":\"Mortgage as a Percentage of Income\",\"x\":[\"2011\",\"2012\",\"2013\",\"2014\",\"2014-mid\",\"2015\",\"2015-mid\",\"2016\",\"2017-mid\",\"2018\",\"2018-mid\",\"2019\",\"2020\",\"2020-mid\",\"2021\",\"2021-mid\",\"2022\",\"2024-mid\"],\"y\":[\"17.1\",\"18.6\",\"24.4\",\"5.0\",\"7.4\",\"11.8\",\"12.3\",\"13.9\",\"8.9\",\"8.6\",\"11.7\",\"10.6\",\"10.0\",\"9.3\",\"10.0\",\"8.9\",\"8.5\",\"17.0\"],\"type\":\"scatter\",\"xaxis\":\"x6\",\"yaxis\":\"y6\"},{\"mode\":\"lines+markers\",\"name\":\"Affordability Index\",\"x\":[\"2011\",\"2012\",\"2013\",\"2014\",\"2014-mid\",\"2015\",\"2015-mid\",\"2016\",\"2017-mid\",\"2018\",\"2018-mid\",\"2019\",\"2020\",\"2020-mid\",\"2021\",\"2021-mid\",\"2022\",\"2024-mid\"],\"y\":[\"5.9\",\"5.4\",\"4.1\",\"20.0\",\"13.6\",\"8.5\",\"8.1\",\"7.2\",\"11.2\",\"11.7\",\"8.5\",\"9.4\",\"10.0\",\"10.8\",\"10.0\",\"11.3\",\"11.7\",\"5.9\"],\"type\":\"scatter\",\"xaxis\":\"x7\",\"yaxis\":\"y7\"},{\"mode\":\"lines+markers\",\"name\":\"Crime Index\",\"x\":[\"2011\",\"2012\",\"2013\",\"2014\",\"2014-mid\",\"2015\",\"2015-mid\",\"2016\",\"2017-mid\",\"2018\",\"2018-mid\",\"2019\",\"2020\",\"2020-mid\",\"2021\",\"2021-mid\",\"2022\",\"2024-mid\"],\"y\":[null,null,null,null,74.5,74.5,71.9,null,null,null,null,null,74.8,75.6,74.8,73.5,73.9,76.5],\"type\":\"scatter\",\"xaxis\":\"x8\",\"yaxis\":\"y8\"},{\"mode\":\"lines+markers\",\"name\":\"Safety Index\",\"x\":[\"2011\",\"2012\",\"2013\",\"2014\",\"2014-mid\",\"2015\",\"2015-mid\",\"2016\",\"2017-mid\",\"2018\",\"2018-mid\",\"2019\",\"2020\",\"2020-mid\",\"2021\",\"2021-mid\",\"2022\",\"2024-mid\"],\"y\":[null,null,null,null,25.5,25.5,28.1,null,null,null,null,null,25.2,24.4,25.2,26.5,26.1,23.5],\"type\":\"scatter\",\"xaxis\":\"x9\",\"yaxis\":\"y9\"},{\"mode\":\"lines+markers\",\"name\":\"Cost of Living Index\",\"x\":[\"2011\",\"2012\",\"2013\",\"2014\",\"2014-mid\",\"2015\",\"2015-mid\",\"2016\",\"2017-mid\",\"2018\",\"2018-mid\",\"2019\",\"2020\",\"2020-mid\",\"2021\",\"2021-mid\",\"2022\",\"2024-mid\"],\"y\":[null,null,null,null,null,null,null,null,null,null,null,null,null,null,null,null,null,null],\"type\":\"scatter\",\"xaxis\":\"x10\",\"yaxis\":\"y10\"},{\"mode\":\"lines+markers\",\"name\":\"Rent Index\",\"x\":[\"2011\",\"2012\",\"2013\",\"2014\",\"2014-mid\",\"2015\",\"2015-mid\",\"2016\",\"2017-mid\",\"2018\",\"2018-mid\",\"2019\",\"2020\",\"2020-mid\",\"2021\",\"2021-mid\",\"2022\",\"2024-mid\"],\"y\":[null,null,null,null,null,null,null,null,null,null,null,null,null,null,null,null,null,null],\"type\":\"scatter\",\"xaxis\":\"x11\",\"yaxis\":\"y11\"},{\"mode\":\"lines+markers\",\"name\":\"Cost of Living Plus Rent Index\",\"x\":[\"2011\",\"2012\",\"2013\",\"2014\",\"2014-mid\",\"2015\",\"2015-mid\",\"2016\",\"2017-mid\",\"2018\",\"2018-mid\",\"2019\",\"2020\",\"2020-mid\",\"2021\",\"2021-mid\",\"2022\",\"2024-mid\"],\"y\":[null,null,null,null,null,null,null,null,null,null,null,null,null,null,null,null,null,null],\"type\":\"scatter\",\"xaxis\":\"x12\",\"yaxis\":\"y12\"},{\"mode\":\"lines+markers\",\"name\":\"Groceries Index\",\"x\":[\"2011\",\"2012\",\"2013\",\"2014\",\"2014-mid\",\"2015\",\"2015-mid\",\"2016\",\"2017-mid\",\"2018\",\"2018-mid\",\"2019\",\"2020\",\"2020-mid\",\"2021\",\"2021-mid\",\"2022\",\"2024-mid\"],\"y\":[null,null,null,null,null,null,null,null,null,null,null,null,null,null,null,null,null,null],\"type\":\"scatter\",\"xaxis\":\"x13\",\"yaxis\":\"y13\"},{\"mode\":\"lines+markers\",\"name\":\"Restaurant Index\",\"x\":[\"2011\",\"2012\",\"2013\",\"2014\",\"2014-mid\",\"2015\",\"2015-mid\",\"2016\",\"2017-mid\",\"2018\",\"2018-mid\",\"2019\",\"2020\",\"2020-mid\",\"2021\",\"2021-mid\",\"2022\",\"2024-mid\"],\"y\":[null,null,null,null,null,null,null,null,null,null,null,null,null,null,null,null,null,null],\"type\":\"scatter\",\"xaxis\":\"x14\",\"yaxis\":\"y14\"},{\"mode\":\"lines+markers\",\"name\":\"Local Purchasing Power Index\",\"x\":[\"2011\",\"2012\",\"2013\",\"2014\",\"2014-mid\",\"2015\",\"2015-mid\",\"2016\",\"2017-mid\",\"2018\",\"2018-mid\",\"2019\",\"2020\",\"2020-mid\",\"2021\",\"2021-mid\",\"2022\",\"2024-mid\"],\"y\":[null,null,null,null,null,null,null,null,null,null,null,null,null,null,null,null,null,null],\"type\":\"scatter\",\"xaxis\":\"x15\",\"yaxis\":\"y15\"}],                        {\"template\":{\"data\":{\"histogram2dcontour\":[{\"type\":\"histogram2dcontour\",\"colorbar\":{\"outlinewidth\":0,\"ticks\":\"\"},\"colorscale\":[[0.0,\"#0d0887\"],[0.1111111111111111,\"#46039f\"],[0.2222222222222222,\"#7201a8\"],[0.3333333333333333,\"#9c179e\"],[0.4444444444444444,\"#bd3786\"],[0.5555555555555556,\"#d8576b\"],[0.6666666666666666,\"#ed7953\"],[0.7777777777777778,\"#fb9f3a\"],[0.8888888888888888,\"#fdca26\"],[1.0,\"#f0f921\"]]}],\"choropleth\":[{\"type\":\"choropleth\",\"colorbar\":{\"outlinewidth\":0,\"ticks\":\"\"}}],\"histogram2d\":[{\"type\":\"histogram2d\",\"colorbar\":{\"outlinewidth\":0,\"ticks\":\"\"},\"colorscale\":[[0.0,\"#0d0887\"],[0.1111111111111111,\"#46039f\"],[0.2222222222222222,\"#7201a8\"],[0.3333333333333333,\"#9c179e\"],[0.4444444444444444,\"#bd3786\"],[0.5555555555555556,\"#d8576b\"],[0.6666666666666666,\"#ed7953\"],[0.7777777777777778,\"#fb9f3a\"],[0.8888888888888888,\"#fdca26\"],[1.0,\"#f0f921\"]]}],\"heatmap\":[{\"type\":\"heatmap\",\"colorbar\":{\"outlinewidth\":0,\"ticks\":\"\"},\"colorscale\":[[0.0,\"#0d0887\"],[0.1111111111111111,\"#46039f\"],[0.2222222222222222,\"#7201a8\"],[0.3333333333333333,\"#9c179e\"],[0.4444444444444444,\"#bd3786\"],[0.5555555555555556,\"#d8576b\"],[0.6666666666666666,\"#ed7953\"],[0.7777777777777778,\"#fb9f3a\"],[0.8888888888888888,\"#fdca26\"],[1.0,\"#f0f921\"]]}],\"heatmapgl\":[{\"type\":\"heatmapgl\",\"colorbar\":{\"outlinewidth\":0,\"ticks\":\"\"},\"colorscale\":[[0.0,\"#0d0887\"],[0.1111111111111111,\"#46039f\"],[0.2222222222222222,\"#7201a8\"],[0.3333333333333333,\"#9c179e\"],[0.4444444444444444,\"#bd3786\"],[0.5555555555555556,\"#d8576b\"],[0.6666666666666666,\"#ed7953\"],[0.7777777777777778,\"#fb9f3a\"],[0.8888888888888888,\"#fdca26\"],[1.0,\"#f0f921\"]]}],\"contourcarpet\":[{\"type\":\"contourcarpet\",\"colorbar\":{\"outlinewidth\":0,\"ticks\":\"\"}}],\"contour\":[{\"type\":\"contour\",\"colorbar\":{\"outlinewidth\":0,\"ticks\":\"\"},\"colorscale\":[[0.0,\"#0d0887\"],[0.1111111111111111,\"#46039f\"],[0.2222222222222222,\"#7201a8\"],[0.3333333333333333,\"#9c179e\"],[0.4444444444444444,\"#bd3786\"],[0.5555555555555556,\"#d8576b\"],[0.6666666666666666,\"#ed7953\"],[0.7777777777777778,\"#fb9f3a\"],[0.8888888888888888,\"#fdca26\"],[1.0,\"#f0f921\"]]}],\"surface\":[{\"type\":\"surface\",\"colorbar\":{\"outlinewidth\":0,\"ticks\":\"\"},\"colorscale\":[[0.0,\"#0d0887\"],[0.1111111111111111,\"#46039f\"],[0.2222222222222222,\"#7201a8\"],[0.3333333333333333,\"#9c179e\"],[0.4444444444444444,\"#bd3786\"],[0.5555555555555556,\"#d8576b\"],[0.6666666666666666,\"#ed7953\"],[0.7777777777777778,\"#fb9f3a\"],[0.8888888888888888,\"#fdca26\"],[1.0,\"#f0f921\"]]}],\"mesh3d\":[{\"type\":\"mesh3d\",\"colorbar\":{\"outlinewidth\":0,\"ticks\":\"\"}}],\"scatter\":[{\"fillpattern\":{\"fillmode\":\"overlay\",\"size\":10,\"solidity\":0.2},\"type\":\"scatter\"}],\"parcoords\":[{\"type\":\"parcoords\",\"line\":{\"colorbar\":{\"outlinewidth\":0,\"ticks\":\"\"}}}],\"scatterpolargl\":[{\"type\":\"scatterpolargl\",\"marker\":{\"colorbar\":{\"outlinewidth\":0,\"ticks\":\"\"}}}],\"bar\":[{\"error_x\":{\"color\":\"#2a3f5f\"},\"error_y\":{\"color\":\"#2a3f5f\"},\"marker\":{\"line\":{\"color\":\"#E5ECF6\",\"width\":0.5},\"pattern\":{\"fillmode\":\"overlay\",\"size\":10,\"solidity\":0.2}},\"type\":\"bar\"}],\"scattergeo\":[{\"type\":\"scattergeo\",\"marker\":{\"colorbar\":{\"outlinewidth\":0,\"ticks\":\"\"}}}],\"scatterpolar\":[{\"type\":\"scatterpolar\",\"marker\":{\"colorbar\":{\"outlinewidth\":0,\"ticks\":\"\"}}}],\"histogram\":[{\"marker\":{\"pattern\":{\"fillmode\":\"overlay\",\"size\":10,\"solidity\":0.2}},\"type\":\"histogram\"}],\"scattergl\":[{\"type\":\"scattergl\",\"marker\":{\"colorbar\":{\"outlinewidth\":0,\"ticks\":\"\"}}}],\"scatter3d\":[{\"type\":\"scatter3d\",\"line\":{\"colorbar\":{\"outlinewidth\":0,\"ticks\":\"\"}},\"marker\":{\"colorbar\":{\"outlinewidth\":0,\"ticks\":\"\"}}}],\"scattermapbox\":[{\"type\":\"scattermapbox\",\"marker\":{\"colorbar\":{\"outlinewidth\":0,\"ticks\":\"\"}}}],\"scatterternary\":[{\"type\":\"scatterternary\",\"marker\":{\"colorbar\":{\"outlinewidth\":0,\"ticks\":\"\"}}}],\"scattercarpet\":[{\"type\":\"scattercarpet\",\"marker\":{\"colorbar\":{\"outlinewidth\":0,\"ticks\":\"\"}}}],\"carpet\":[{\"aaxis\":{\"endlinecolor\":\"#2a3f5f\",\"gridcolor\":\"white\",\"linecolor\":\"white\",\"minorgridcolor\":\"white\",\"startlinecolor\":\"#2a3f5f\"},\"baxis\":{\"endlinecolor\":\"#2a3f5f\",\"gridcolor\":\"white\",\"linecolor\":\"white\",\"minorgridcolor\":\"white\",\"startlinecolor\":\"#2a3f5f\"},\"type\":\"carpet\"}],\"table\":[{\"cells\":{\"fill\":{\"color\":\"#EBF0F8\"},\"line\":{\"color\":\"white\"}},\"header\":{\"fill\":{\"color\":\"#C8D4E3\"},\"line\":{\"color\":\"white\"}},\"type\":\"table\"}],\"barpolar\":[{\"marker\":{\"line\":{\"color\":\"#E5ECF6\",\"width\":0.5},\"pattern\":{\"fillmode\":\"overlay\",\"size\":10,\"solidity\":0.2}},\"type\":\"barpolar\"}],\"pie\":[{\"automargin\":true,\"type\":\"pie\"}]},\"layout\":{\"autotypenumbers\":\"strict\",\"colorway\":[\"#636efa\",\"#EF553B\",\"#00cc96\",\"#ab63fa\",\"#FFA15A\",\"#19d3f3\",\"#FF6692\",\"#B6E880\",\"#FF97FF\",\"#FECB52\"],\"font\":{\"color\":\"#2a3f5f\"},\"hovermode\":\"closest\",\"hoverlabel\":{\"align\":\"left\"},\"paper_bgcolor\":\"white\",\"plot_bgcolor\":\"#E5ECF6\",\"polar\":{\"bgcolor\":\"#E5ECF6\",\"angularaxis\":{\"gridcolor\":\"white\",\"linecolor\":\"white\",\"ticks\":\"\"},\"radialaxis\":{\"gridcolor\":\"white\",\"linecolor\":\"white\",\"ticks\":\"\"}},\"ternary\":{\"bgcolor\":\"#E5ECF6\",\"aaxis\":{\"gridcolor\":\"white\",\"linecolor\":\"white\",\"ticks\":\"\"},\"baxis\":{\"gridcolor\":\"white\",\"linecolor\":\"white\",\"ticks\":\"\"},\"caxis\":{\"gridcolor\":\"white\",\"linecolor\":\"white\",\"ticks\":\"\"}},\"coloraxis\":{\"colorbar\":{\"outlinewidth\":0,\"ticks\":\"\"}},\"colorscale\":{\"sequential\":[[0.0,\"#0d0887\"],[0.1111111111111111,\"#46039f\"],[0.2222222222222222,\"#7201a8\"],[0.3333333333333333,\"#9c179e\"],[0.4444444444444444,\"#bd3786\"],[0.5555555555555556,\"#d8576b\"],[0.6666666666666666,\"#ed7953\"],[0.7777777777777778,\"#fb9f3a\"],[0.8888888888888888,\"#fdca26\"],[1.0,\"#f0f921\"]],\"sequentialminus\":[[0.0,\"#0d0887\"],[0.1111111111111111,\"#46039f\"],[0.2222222222222222,\"#7201a8\"],[0.3333333333333333,\"#9c179e\"],[0.4444444444444444,\"#bd3786\"],[0.5555555555555556,\"#d8576b\"],[0.6666666666666666,\"#ed7953\"],[0.7777777777777778,\"#fb9f3a\"],[0.8888888888888888,\"#fdca26\"],[1.0,\"#f0f921\"]],\"diverging\":[[0,\"#8e0152\"],[0.1,\"#c51b7d\"],[0.2,\"#de77ae\"],[0.3,\"#f1b6da\"],[0.4,\"#fde0ef\"],[0.5,\"#f7f7f7\"],[0.6,\"#e6f5d0\"],[0.7,\"#b8e186\"],[0.8,\"#7fbc41\"],[0.9,\"#4d9221\"],[1,\"#276419\"]]},\"xaxis\":{\"gridcolor\":\"white\",\"linecolor\":\"white\",\"ticks\":\"\",\"title\":{\"standoff\":15},\"zerolinecolor\":\"white\",\"automargin\":true,\"zerolinewidth\":2},\"yaxis\":{\"gridcolor\":\"white\",\"linecolor\":\"white\",\"ticks\":\"\",\"title\":{\"standoff\":15},\"zerolinecolor\":\"white\",\"automargin\":true,\"zerolinewidth\":2},\"scene\":{\"xaxis\":{\"backgroundcolor\":\"#E5ECF6\",\"gridcolor\":\"white\",\"linecolor\":\"white\",\"showbackground\":true,\"ticks\":\"\",\"zerolinecolor\":\"white\",\"gridwidth\":2},\"yaxis\":{\"backgroundcolor\":\"#E5ECF6\",\"gridcolor\":\"white\",\"linecolor\":\"white\",\"showbackground\":true,\"ticks\":\"\",\"zerolinecolor\":\"white\",\"gridwidth\":2},\"zaxis\":{\"backgroundcolor\":\"#E5ECF6\",\"gridcolor\":\"white\",\"linecolor\":\"white\",\"showbackground\":true,\"ticks\":\"\",\"zerolinecolor\":\"white\",\"gridwidth\":2}},\"shapedefaults\":{\"line\":{\"color\":\"#2a3f5f\"}},\"annotationdefaults\":{\"arrowcolor\":\"#2a3f5f\",\"arrowhead\":0,\"arrowwidth\":1},\"geo\":{\"bgcolor\":\"white\",\"landcolor\":\"#E5ECF6\",\"subunitcolor\":\"white\",\"showland\":true,\"showlakes\":true,\"lakecolor\":\"white\"},\"title\":{\"x\":0.05},\"mapbox\":{\"style\":\"light\"}}},\"xaxis\":{\"anchor\":\"y\",\"domain\":[0.0,0.2125],\"title\":{\"text\":\"Year\"}},\"yaxis\":{\"anchor\":\"x\",\"domain\":[0.84375,1.0],\"title\":{\"text\":\"Price to Income Ratio\"}},\"xaxis2\":{\"anchor\":\"y2\",\"domain\":[0.2625,0.475],\"title\":{\"text\":\"Year\"}},\"yaxis2\":{\"anchor\":\"x2\",\"domain\":[0.84375,1.0],\"title\":{\"text\":\"Gross Rental Yield City Centre\"}},\"xaxis3\":{\"anchor\":\"y3\",\"domain\":[0.525,0.7375],\"title\":{\"text\":\"Year\"}},\"yaxis3\":{\"anchor\":\"x3\",\"domain\":[0.84375,1.0],\"title\":{\"text\":\"Gross Rental Yield Outside Centre\"}},\"xaxis4\":{\"anchor\":\"y4\",\"domain\":[0.7875,1.0],\"title\":{\"text\":\"Year\"}},\"yaxis4\":{\"anchor\":\"x4\",\"domain\":[0.84375,1.0],\"title\":{\"text\":\"Price to Rent Ratio City Centre\"}},\"xaxis5\":{\"anchor\":\"y5\",\"domain\":[0.0,0.2125],\"title\":{\"text\":\"Year\"}},\"yaxis5\":{\"anchor\":\"x5\",\"domain\":[0.5625,0.71875],\"title\":{\"text\":\"Price to Rent Ratio Outside City Centre\"}},\"xaxis6\":{\"anchor\":\"y6\",\"domain\":[0.2625,0.475],\"title\":{\"text\":\"Year\"}},\"yaxis6\":{\"anchor\":\"x6\",\"domain\":[0.5625,0.71875],\"title\":{\"text\":\"Mortgage as a Percentage of Income\"}},\"xaxis7\":{\"anchor\":\"y7\",\"domain\":[0.525,0.7375],\"title\":{\"text\":\"Year\"}},\"yaxis7\":{\"anchor\":\"x7\",\"domain\":[0.5625,0.71875],\"title\":{\"text\":\"Affordability Index\"}},\"xaxis8\":{\"anchor\":\"y8\",\"domain\":[0.7875,1.0],\"title\":{\"text\":\"Year\"}},\"yaxis8\":{\"anchor\":\"x8\",\"domain\":[0.5625,0.71875],\"title\":{\"text\":\"Crime Index\"}},\"xaxis9\":{\"anchor\":\"y9\",\"domain\":[0.0,0.2125],\"title\":{\"text\":\"Year\"}},\"yaxis9\":{\"anchor\":\"x9\",\"domain\":[0.28125,0.4375],\"title\":{\"text\":\"Safety Index\"}},\"xaxis10\":{\"anchor\":\"y10\",\"domain\":[0.2625,0.475],\"title\":{\"text\":\"Year\"}},\"yaxis10\":{\"anchor\":\"x10\",\"domain\":[0.28125,0.4375],\"title\":{\"text\":\"Cost of Living Index\"}},\"xaxis11\":{\"anchor\":\"y11\",\"domain\":[0.525,0.7375],\"title\":{\"text\":\"Year\"}},\"yaxis11\":{\"anchor\":\"x11\",\"domain\":[0.28125,0.4375],\"title\":{\"text\":\"Rent Index\"}},\"xaxis12\":{\"anchor\":\"y12\",\"domain\":[0.7875,1.0],\"title\":{\"text\":\"Year\"}},\"yaxis12\":{\"anchor\":\"x12\",\"domain\":[0.28125,0.4375],\"title\":{\"text\":\"Cost of Living Plus Rent Index\"}},\"xaxis13\":{\"anchor\":\"y13\",\"domain\":[0.0,0.2125],\"title\":{\"text\":\"Year\"}},\"yaxis13\":{\"anchor\":\"x13\",\"domain\":[0.0,0.15625],\"title\":{\"text\":\"Groceries Index\"}},\"xaxis14\":{\"anchor\":\"y14\",\"domain\":[0.2625,0.475],\"title\":{\"text\":\"Year\"}},\"yaxis14\":{\"anchor\":\"x14\",\"domain\":[0.0,0.15625],\"title\":{\"text\":\"Restaurant Index\"}},\"xaxis15\":{\"anchor\":\"y15\",\"domain\":[0.525,0.7375],\"title\":{\"text\":\"Year\"}},\"yaxis15\":{\"anchor\":\"x15\",\"domain\":[0.0,0.15625],\"title\":{\"text\":\"Local Purchasing Power Index\"}},\"xaxis16\":{\"anchor\":\"y16\",\"domain\":[0.7875,1.0]},\"yaxis16\":{\"anchor\":\"x16\",\"domain\":[0.0,0.15625]},\"annotations\":[{\"font\":{\"size\":16},\"showarrow\":false,\"text\":\"Price to Income Ratio\",\"x\":0.10625,\"xanchor\":\"center\",\"xref\":\"paper\",\"y\":1.0,\"yanchor\":\"bottom\",\"yref\":\"paper\"},{\"font\":{\"size\":16},\"showarrow\":false,\"text\":\"Gross Rental Yield City Centre\",\"x\":0.36875,\"xanchor\":\"center\",\"xref\":\"paper\",\"y\":1.0,\"yanchor\":\"bottom\",\"yref\":\"paper\"},{\"font\":{\"size\":16},\"showarrow\":false,\"text\":\"Gross Rental Yield Outside Centre\",\"x\":0.6312500000000001,\"xanchor\":\"center\",\"xref\":\"paper\",\"y\":1.0,\"yanchor\":\"bottom\",\"yref\":\"paper\"},{\"font\":{\"size\":16},\"showarrow\":false,\"text\":\"Price to Rent Ratio City Centre\",\"x\":0.89375,\"xanchor\":\"center\",\"xref\":\"paper\",\"y\":1.0,\"yanchor\":\"bottom\",\"yref\":\"paper\"},{\"font\":{\"size\":16},\"showarrow\":false,\"text\":\"Price to Rent Ratio Outside City Centre\",\"x\":0.10625,\"xanchor\":\"center\",\"xref\":\"paper\",\"y\":0.71875,\"yanchor\":\"bottom\",\"yref\":\"paper\"},{\"font\":{\"size\":16},\"showarrow\":false,\"text\":\"Mortgage as a Percentage of Income\",\"x\":0.36875,\"xanchor\":\"center\",\"xref\":\"paper\",\"y\":0.71875,\"yanchor\":\"bottom\",\"yref\":\"paper\"},{\"font\":{\"size\":16},\"showarrow\":false,\"text\":\"Affordability Index\",\"x\":0.6312500000000001,\"xanchor\":\"center\",\"xref\":\"paper\",\"y\":0.71875,\"yanchor\":\"bottom\",\"yref\":\"paper\"},{\"font\":{\"size\":16},\"showarrow\":false,\"text\":\"Crime Index\",\"x\":0.89375,\"xanchor\":\"center\",\"xref\":\"paper\",\"y\":0.71875,\"yanchor\":\"bottom\",\"yref\":\"paper\"},{\"font\":{\"size\":16},\"showarrow\":false,\"text\":\"Safety Index\",\"x\":0.10625,\"xanchor\":\"center\",\"xref\":\"paper\",\"y\":0.4375,\"yanchor\":\"bottom\",\"yref\":\"paper\"},{\"font\":{\"size\":16},\"showarrow\":false,\"text\":\"Cost of Living Index\",\"x\":0.36875,\"xanchor\":\"center\",\"xref\":\"paper\",\"y\":0.4375,\"yanchor\":\"bottom\",\"yref\":\"paper\"},{\"font\":{\"size\":16},\"showarrow\":false,\"text\":\"Rent Index\",\"x\":0.6312500000000001,\"xanchor\":\"center\",\"xref\":\"paper\",\"y\":0.4375,\"yanchor\":\"bottom\",\"yref\":\"paper\"},{\"font\":{\"size\":16},\"showarrow\":false,\"text\":\"Cost of Living Plus Rent Index\",\"x\":0.89375,\"xanchor\":\"center\",\"xref\":\"paper\",\"y\":0.4375,\"yanchor\":\"bottom\",\"yref\":\"paper\"},{\"font\":{\"size\":16},\"showarrow\":false,\"text\":\"Groceries Index\",\"x\":0.10625,\"xanchor\":\"center\",\"xref\":\"paper\",\"y\":0.15625,\"yanchor\":\"bottom\",\"yref\":\"paper\"},{\"font\":{\"size\":16},\"showarrow\":false,\"text\":\"Restaurant Index\",\"x\":0.36875,\"xanchor\":\"center\",\"xref\":\"paper\",\"y\":0.15625,\"yanchor\":\"bottom\",\"yref\":\"paper\"},{\"font\":{\"size\":16},\"showarrow\":false,\"text\":\"Local Purchasing Power Index\",\"x\":0.6312500000000001,\"xanchor\":\"center\",\"xref\":\"paper\",\"y\":0.15625,\"yanchor\":\"bottom\",\"yref\":\"paper\"}],\"title\":{\"text\":\"Memphis, TN, United States\"},\"height\":1500,\"width\":1500},                        {\"responsive\": true}                    ).then(function(){\n",
       "                            \n",
       "var gd = document.getElementById('20d9585d-b422-4d87-b3ec-54eb1b3cdfa5');\n",
       "var x = new MutationObserver(function (mutations, observer) {{\n",
       "        var display = window.getComputedStyle(gd).display;\n",
       "        if (!display || display === 'none') {{\n",
       "            console.log([gd, 'removed!']);\n",
       "            Plotly.purge(gd);\n",
       "            observer.disconnect();\n",
       "        }}\n",
       "}});\n",
       "\n",
       "// Listen for the removal of the full notebook cells\n",
       "var notebookContainer = gd.closest('#notebook-container');\n",
       "if (notebookContainer) {{\n",
       "    x.observe(notebookContainer, {childList: true});\n",
       "}}\n",
       "\n",
       "// Listen for the clearing of the current output cell\n",
       "var outputEl = gd.closest('.output');\n",
       "if (outputEl) {{\n",
       "    x.observe(outputEl, {childList: true});\n",
       "}}\n",
       "\n",
       "                        })                };                });            </script>        </div>"
      ]
     },
     "metadata": {},
     "output_type": "display_data"
    },
    {
     "data": {
      "application/vnd.plotly.v1+json": {
       "config": {
        "plotlyServerURL": "https://plot.ly"
       },
       "data": [
        {
         "mode": "lines+markers",
         "name": "Price to Income Ratio",
         "type": "scatter",
         "x": [
          "2011",
          "2012",
          "2013",
          "2014",
          "2014-mid",
          "2015",
          "2015-mid",
          "2016",
          "2017",
          "2017-mid",
          "2018",
          "2018-mid",
          "2019",
          "2019-mid",
          "2020",
          "2020-mid",
          "2021",
          "2021-mid",
          "2022",
          "2024-mid"
         ],
         "xaxis": "x",
         "y": [
          2,
          2,
          1.6,
          2,
          2,
          2.2,
          2.5,
          2.1,
          2,
          2.1,
          2.2,
          2.9,
          3,
          2.8,
          2.8,
          2.8,
          3.3,
          2.3,
          2.5,
          2
         ],
         "yaxis": "y"
        },
        {
         "mode": "lines+markers",
         "name": "Gross Rental Yield City Centre",
         "type": "scatter",
         "x": [
          "2011",
          "2012",
          "2013",
          "2014",
          "2014-mid",
          "2015",
          "2015-mid",
          "2016",
          "2017",
          "2017-mid",
          "2018",
          "2018-mid",
          "2019",
          "2019-mid",
          "2020",
          "2020-mid",
          "2021",
          "2021-mid",
          "2022",
          "2024-mid"
         ],
         "xaxis": "x2",
         "y": [
          15.3,
          13,
          11.2,
          12,
          13.6,
          15.6,
          15.5,
          13.8,
          14.5,
          12,
          13.3,
          12.7,
          13.1,
          12.9,
          12.2,
          11.4,
          9.9,
          9.9,
          10.7,
          20
         ],
         "yaxis": "y2"
        },
        {
         "mode": "lines+markers",
         "name": "Gross Rental Yield Outside Centre",
         "type": "scatter",
         "x": [
          "2011",
          "2012",
          "2013",
          "2014",
          "2014-mid",
          "2015",
          "2015-mid",
          "2016",
          "2017",
          "2017-mid",
          "2018",
          "2018-mid",
          "2019",
          "2019-mid",
          "2020",
          "2020-mid",
          "2021",
          "2021-mid",
          "2022",
          "2024-mid"
         ],
         "xaxis": "x3",
         "y": [
          19.8,
          21.2,
          20.1,
          19.3,
          15.1,
          13.1,
          13.8,
          17.3,
          22.8,
          15.7,
          16.6,
          18.6,
          15.4,
          17,
          16.8,
          16,
          17.6,
          19.2,
          19.9,
          16.8
         ],
         "yaxis": "y3"
        },
        {
         "mode": "lines+markers",
         "name": "Price to Rent Ratio City Centre",
         "type": "scatter",
         "x": [
          "2011",
          "2012",
          "2013",
          "2014",
          "2014-mid",
          "2015",
          "2015-mid",
          "2016",
          "2017",
          "2017-mid",
          "2018",
          "2018-mid",
          "2019",
          "2019-mid",
          "2020",
          "2020-mid",
          "2021",
          "2021-mid",
          "2022",
          "2024-mid"
         ],
         "xaxis": "x4",
         "y": [
          6.6,
          7.7,
          8.9,
          8.3,
          7.3,
          6.4,
          6.5,
          7.3,
          6.9,
          8.4,
          7.5,
          7.9,
          7.6,
          7.8,
          8.2,
          8.8,
          10.1,
          10.1,
          9.3,
          5
         ],
         "yaxis": "y4"
        },
        {
         "mode": "lines+markers",
         "name": "Price to Rent Ratio Outside City Centre",
         "type": "scatter",
         "x": [
          "2011",
          "2012",
          "2013",
          "2014",
          "2014-mid",
          "2015",
          "2015-mid",
          "2016",
          "2017",
          "2017-mid",
          "2018",
          "2018-mid",
          "2019",
          "2019-mid",
          "2020",
          "2020-mid",
          "2021",
          "2021-mid",
          "2022",
          "2024-mid"
         ],
         "xaxis": "x5",
         "y": [
          5,
          4.7,
          5,
          5.2,
          6.6,
          7.6,
          7.3,
          5.8,
          4.4,
          6.4,
          6,
          5.4,
          6.5,
          5.9,
          6,
          6.2,
          5.7,
          5.2,
          5,
          6
         ],
         "yaxis": "y5"
        },
        {
         "mode": "lines+markers",
         "name": "Mortgage as a Percentage of Income",
         "type": "scatter",
         "x": [
          "2011",
          "2012",
          "2013",
          "2014",
          "2014-mid",
          "2015",
          "2015-mid",
          "2016",
          "2017",
          "2017-mid",
          "2018",
          "2018-mid",
          "2019",
          "2019-mid",
          "2020",
          "2020-mid",
          "2021",
          "2021-mid",
          "2022",
          "2024-mid"
         ],
         "xaxis": "x6",
         "y": [
          "16.3",
          "15.7",
          "12.4",
          "17.0",
          "16.1",
          "16.0",
          "19.0",
          "15.3",
          "13.9",
          "15.2",
          "15.7",
          "21.2",
          "21.9",
          "21.0",
          "20.8",
          "21.0",
          "23.9",
          "16.2",
          "16.9",
          "17.8"
         ],
         "yaxis": "y6"
        },
        {
         "mode": "lines+markers",
         "name": "Affordability Index",
         "type": "scatter",
         "x": [
          "2011",
          "2012",
          "2013",
          "2014",
          "2014-mid",
          "2015",
          "2015-mid",
          "2016",
          "2017",
          "2017-mid",
          "2018",
          "2018-mid",
          "2019",
          "2019-mid",
          "2020",
          "2020-mid",
          "2021",
          "2021-mid",
          "2022",
          "2024-mid"
         ],
         "xaxis": "x7",
         "y": [
          "6.1",
          "6.4",
          "8.1",
          "5.9",
          "6.2",
          "6.2",
          "5.3",
          "6.5",
          "7.2",
          "6.6",
          "6.4",
          "4.7",
          "4.6",
          "4.8",
          "4.8",
          "4.8",
          "4.2",
          "6.2",
          "5.9",
          "5.6"
         ],
         "yaxis": "y7"
        },
        {
         "mode": "lines+markers",
         "name": "Crime Index",
         "type": "scatter",
         "x": [
          "2011",
          "2012",
          "2013",
          "2014",
          "2014-mid",
          "2015",
          "2015-mid",
          "2016",
          "2017",
          "2017-mid",
          "2018",
          "2018-mid",
          "2019",
          "2019-mid",
          "2020",
          "2020-mid",
          "2021",
          "2021-mid",
          "2022",
          "2024-mid"
         ],
         "xaxis": "x8",
         "y": [
          null,
          null,
          null,
          52.9,
          55.6,
          62.4,
          60.4,
          56.5,
          63.8,
          65,
          63.3,
          64.7,
          65.3,
          66.1,
          65.6,
          67.2,
          68.5,
          67.2,
          66.9,
          67.6
         ],
         "yaxis": "y8"
        },
        {
         "mode": "lines+markers",
         "name": "Safety Index",
         "type": "scatter",
         "x": [
          "2011",
          "2012",
          "2013",
          "2014",
          "2014-mid",
          "2015",
          "2015-mid",
          "2016",
          "2017",
          "2017-mid",
          "2018",
          "2018-mid",
          "2019",
          "2019-mid",
          "2020",
          "2020-mid",
          "2021",
          "2021-mid",
          "2022",
          "2024-mid"
         ],
         "xaxis": "x9",
         "y": [
          null,
          null,
          null,
          47.1,
          44.4,
          37.6,
          39.6,
          43.5,
          36.2,
          35,
          36.7,
          35.3,
          34.7,
          33.9,
          34.4,
          32.8,
          31.5,
          32.8,
          33.1,
          32.4
         ],
         "yaxis": "y9"
        },
        {
         "mode": "lines+markers",
         "name": "Cost of Living Index",
         "type": "scatter",
         "x": [
          "2011",
          "2012",
          "2013",
          "2014",
          "2014-mid",
          "2015",
          "2015-mid",
          "2016",
          "2017",
          "2017-mid",
          "2018",
          "2018-mid",
          "2019",
          "2019-mid",
          "2020",
          "2020-mid",
          "2021",
          "2021-mid",
          "2022",
          "2024-mid"
         ],
         "xaxis": "x10",
         "y": [
          null,
          null,
          null,
          null,
          null,
          null,
          null,
          null,
          null,
          null,
          null,
          null,
          null,
          null,
          null,
          78.6,
          null,
          null,
          null,
          null
         ],
         "yaxis": "y10"
        },
        {
         "mode": "lines+markers",
         "name": "Rent Index",
         "type": "scatter",
         "x": [
          "2011",
          "2012",
          "2013",
          "2014",
          "2014-mid",
          "2015",
          "2015-mid",
          "2016",
          "2017",
          "2017-mid",
          "2018",
          "2018-mid",
          "2019",
          "2019-mid",
          "2020",
          "2020-mid",
          "2021",
          "2021-mid",
          "2022",
          "2024-mid"
         ],
         "xaxis": "x11",
         "y": [
          null,
          null,
          null,
          null,
          null,
          null,
          null,
          null,
          null,
          null,
          null,
          null,
          null,
          null,
          null,
          34,
          null,
          null,
          null,
          null
         ],
         "yaxis": "y11"
        },
        {
         "mode": "lines+markers",
         "name": "Cost of Living Plus Rent Index",
         "type": "scatter",
         "x": [
          "2011",
          "2012",
          "2013",
          "2014",
          "2014-mid",
          "2015",
          "2015-mid",
          "2016",
          "2017",
          "2017-mid",
          "2018",
          "2018-mid",
          "2019",
          "2019-mid",
          "2020",
          "2020-mid",
          "2021",
          "2021-mid",
          "2022",
          "2024-mid"
         ],
         "xaxis": "x12",
         "y": [
          null,
          null,
          null,
          null,
          null,
          null,
          null,
          null,
          null,
          null,
          null,
          null,
          null,
          null,
          null,
          56.9,
          null,
          null,
          null,
          null
         ],
         "yaxis": "y12"
        },
        {
         "mode": "lines+markers",
         "name": "Groceries Index",
         "type": "scatter",
         "x": [
          "2011",
          "2012",
          "2013",
          "2014",
          "2014-mid",
          "2015",
          "2015-mid",
          "2016",
          "2017",
          "2017-mid",
          "2018",
          "2018-mid",
          "2019",
          "2019-mid",
          "2020",
          "2020-mid",
          "2021",
          "2021-mid",
          "2022",
          "2024-mid"
         ],
         "xaxis": "x13",
         "y": [
          null,
          null,
          null,
          null,
          null,
          null,
          null,
          null,
          null,
          null,
          null,
          null,
          null,
          null,
          null,
          79.6,
          null,
          null,
          null,
          null
         ],
         "yaxis": "y13"
        },
        {
         "mode": "lines+markers",
         "name": "Restaurant Index",
         "type": "scatter",
         "x": [
          "2011",
          "2012",
          "2013",
          "2014",
          "2014-mid",
          "2015",
          "2015-mid",
          "2016",
          "2017",
          "2017-mid",
          "2018",
          "2018-mid",
          "2019",
          "2019-mid",
          "2020",
          "2020-mid",
          "2021",
          "2021-mid",
          "2022",
          "2024-mid"
         ],
         "xaxis": "x14",
         "y": [
          null,
          null,
          null,
          null,
          null,
          null,
          null,
          null,
          null,
          null,
          null,
          null,
          null,
          null,
          null,
          69.6,
          null,
          null,
          null,
          null
         ],
         "yaxis": "y14"
        },
        {
         "mode": "lines+markers",
         "name": "Local Purchasing Power Index",
         "type": "scatter",
         "x": [
          "2011",
          "2012",
          "2013",
          "2014",
          "2014-mid",
          "2015",
          "2015-mid",
          "2016",
          "2017",
          "2017-mid",
          "2018",
          "2018-mid",
          "2019",
          "2019-mid",
          "2020",
          "2020-mid",
          "2021",
          "2021-mid",
          "2022",
          "2024-mid"
         ],
         "xaxis": "x15",
         "y": [
          null,
          null,
          null,
          null,
          null,
          null,
          null,
          null,
          null,
          null,
          null,
          null,
          null,
          null,
          null,
          88.1,
          null,
          null,
          null,
          null
         ],
         "yaxis": "y15"
        }
       ],
       "layout": {
        "annotations": [
         {
          "font": {
           "size": 16
          },
          "showarrow": false,
          "text": "Price to Income Ratio",
          "x": 0.10625,
          "xanchor": "center",
          "xref": "paper",
          "y": 1,
          "yanchor": "bottom",
          "yref": "paper"
         },
         {
          "font": {
           "size": 16
          },
          "showarrow": false,
          "text": "Gross Rental Yield City Centre",
          "x": 0.36875,
          "xanchor": "center",
          "xref": "paper",
          "y": 1,
          "yanchor": "bottom",
          "yref": "paper"
         },
         {
          "font": {
           "size": 16
          },
          "showarrow": false,
          "text": "Gross Rental Yield Outside Centre",
          "x": 0.6312500000000001,
          "xanchor": "center",
          "xref": "paper",
          "y": 1,
          "yanchor": "bottom",
          "yref": "paper"
         },
         {
          "font": {
           "size": 16
          },
          "showarrow": false,
          "text": "Price to Rent Ratio City Centre",
          "x": 0.89375,
          "xanchor": "center",
          "xref": "paper",
          "y": 1,
          "yanchor": "bottom",
          "yref": "paper"
         },
         {
          "font": {
           "size": 16
          },
          "showarrow": false,
          "text": "Price to Rent Ratio Outside City Centre",
          "x": 0.10625,
          "xanchor": "center",
          "xref": "paper",
          "y": 0.71875,
          "yanchor": "bottom",
          "yref": "paper"
         },
         {
          "font": {
           "size": 16
          },
          "showarrow": false,
          "text": "Mortgage as a Percentage of Income",
          "x": 0.36875,
          "xanchor": "center",
          "xref": "paper",
          "y": 0.71875,
          "yanchor": "bottom",
          "yref": "paper"
         },
         {
          "font": {
           "size": 16
          },
          "showarrow": false,
          "text": "Affordability Index",
          "x": 0.6312500000000001,
          "xanchor": "center",
          "xref": "paper",
          "y": 0.71875,
          "yanchor": "bottom",
          "yref": "paper"
         },
         {
          "font": {
           "size": 16
          },
          "showarrow": false,
          "text": "Crime Index",
          "x": 0.89375,
          "xanchor": "center",
          "xref": "paper",
          "y": 0.71875,
          "yanchor": "bottom",
          "yref": "paper"
         },
         {
          "font": {
           "size": 16
          },
          "showarrow": false,
          "text": "Safety Index",
          "x": 0.10625,
          "xanchor": "center",
          "xref": "paper",
          "y": 0.4375,
          "yanchor": "bottom",
          "yref": "paper"
         },
         {
          "font": {
           "size": 16
          },
          "showarrow": false,
          "text": "Cost of Living Index",
          "x": 0.36875,
          "xanchor": "center",
          "xref": "paper",
          "y": 0.4375,
          "yanchor": "bottom",
          "yref": "paper"
         },
         {
          "font": {
           "size": 16
          },
          "showarrow": false,
          "text": "Rent Index",
          "x": 0.6312500000000001,
          "xanchor": "center",
          "xref": "paper",
          "y": 0.4375,
          "yanchor": "bottom",
          "yref": "paper"
         },
         {
          "font": {
           "size": 16
          },
          "showarrow": false,
          "text": "Cost of Living Plus Rent Index",
          "x": 0.89375,
          "xanchor": "center",
          "xref": "paper",
          "y": 0.4375,
          "yanchor": "bottom",
          "yref": "paper"
         },
         {
          "font": {
           "size": 16
          },
          "showarrow": false,
          "text": "Groceries Index",
          "x": 0.10625,
          "xanchor": "center",
          "xref": "paper",
          "y": 0.15625,
          "yanchor": "bottom",
          "yref": "paper"
         },
         {
          "font": {
           "size": 16
          },
          "showarrow": false,
          "text": "Restaurant Index",
          "x": 0.36875,
          "xanchor": "center",
          "xref": "paper",
          "y": 0.15625,
          "yanchor": "bottom",
          "yref": "paper"
         },
         {
          "font": {
           "size": 16
          },
          "showarrow": false,
          "text": "Local Purchasing Power Index",
          "x": 0.6312500000000001,
          "xanchor": "center",
          "xref": "paper",
          "y": 0.15625,
          "yanchor": "bottom",
          "yref": "paper"
         }
        ],
        "height": 1500,
        "template": {
         "data": {
          "bar": [
           {
            "error_x": {
             "color": "#2a3f5f"
            },
            "error_y": {
             "color": "#2a3f5f"
            },
            "marker": {
             "line": {
              "color": "#E5ECF6",
              "width": 0.5
             },
             "pattern": {
              "fillmode": "overlay",
              "size": 10,
              "solidity": 0.2
             }
            },
            "type": "bar"
           }
          ],
          "barpolar": [
           {
            "marker": {
             "line": {
              "color": "#E5ECF6",
              "width": 0.5
             },
             "pattern": {
              "fillmode": "overlay",
              "size": 10,
              "solidity": 0.2
             }
            },
            "type": "barpolar"
           }
          ],
          "carpet": [
           {
            "aaxis": {
             "endlinecolor": "#2a3f5f",
             "gridcolor": "white",
             "linecolor": "white",
             "minorgridcolor": "white",
             "startlinecolor": "#2a3f5f"
            },
            "baxis": {
             "endlinecolor": "#2a3f5f",
             "gridcolor": "white",
             "linecolor": "white",
             "minorgridcolor": "white",
             "startlinecolor": "#2a3f5f"
            },
            "type": "carpet"
           }
          ],
          "choropleth": [
           {
            "colorbar": {
             "outlinewidth": 0,
             "ticks": ""
            },
            "type": "choropleth"
           }
          ],
          "contour": [
           {
            "colorbar": {
             "outlinewidth": 0,
             "ticks": ""
            },
            "colorscale": [
             [
              0,
              "#0d0887"
             ],
             [
              0.1111111111111111,
              "#46039f"
             ],
             [
              0.2222222222222222,
              "#7201a8"
             ],
             [
              0.3333333333333333,
              "#9c179e"
             ],
             [
              0.4444444444444444,
              "#bd3786"
             ],
             [
              0.5555555555555556,
              "#d8576b"
             ],
             [
              0.6666666666666666,
              "#ed7953"
             ],
             [
              0.7777777777777778,
              "#fb9f3a"
             ],
             [
              0.8888888888888888,
              "#fdca26"
             ],
             [
              1,
              "#f0f921"
             ]
            ],
            "type": "contour"
           }
          ],
          "contourcarpet": [
           {
            "colorbar": {
             "outlinewidth": 0,
             "ticks": ""
            },
            "type": "contourcarpet"
           }
          ],
          "heatmap": [
           {
            "colorbar": {
             "outlinewidth": 0,
             "ticks": ""
            },
            "colorscale": [
             [
              0,
              "#0d0887"
             ],
             [
              0.1111111111111111,
              "#46039f"
             ],
             [
              0.2222222222222222,
              "#7201a8"
             ],
             [
              0.3333333333333333,
              "#9c179e"
             ],
             [
              0.4444444444444444,
              "#bd3786"
             ],
             [
              0.5555555555555556,
              "#d8576b"
             ],
             [
              0.6666666666666666,
              "#ed7953"
             ],
             [
              0.7777777777777778,
              "#fb9f3a"
             ],
             [
              0.8888888888888888,
              "#fdca26"
             ],
             [
              1,
              "#f0f921"
             ]
            ],
            "type": "heatmap"
           }
          ],
          "heatmapgl": [
           {
            "colorbar": {
             "outlinewidth": 0,
             "ticks": ""
            },
            "colorscale": [
             [
              0,
              "#0d0887"
             ],
             [
              0.1111111111111111,
              "#46039f"
             ],
             [
              0.2222222222222222,
              "#7201a8"
             ],
             [
              0.3333333333333333,
              "#9c179e"
             ],
             [
              0.4444444444444444,
              "#bd3786"
             ],
             [
              0.5555555555555556,
              "#d8576b"
             ],
             [
              0.6666666666666666,
              "#ed7953"
             ],
             [
              0.7777777777777778,
              "#fb9f3a"
             ],
             [
              0.8888888888888888,
              "#fdca26"
             ],
             [
              1,
              "#f0f921"
             ]
            ],
            "type": "heatmapgl"
           }
          ],
          "histogram": [
           {
            "marker": {
             "pattern": {
              "fillmode": "overlay",
              "size": 10,
              "solidity": 0.2
             }
            },
            "type": "histogram"
           }
          ],
          "histogram2d": [
           {
            "colorbar": {
             "outlinewidth": 0,
             "ticks": ""
            },
            "colorscale": [
             [
              0,
              "#0d0887"
             ],
             [
              0.1111111111111111,
              "#46039f"
             ],
             [
              0.2222222222222222,
              "#7201a8"
             ],
             [
              0.3333333333333333,
              "#9c179e"
             ],
             [
              0.4444444444444444,
              "#bd3786"
             ],
             [
              0.5555555555555556,
              "#d8576b"
             ],
             [
              0.6666666666666666,
              "#ed7953"
             ],
             [
              0.7777777777777778,
              "#fb9f3a"
             ],
             [
              0.8888888888888888,
              "#fdca26"
             ],
             [
              1,
              "#f0f921"
             ]
            ],
            "type": "histogram2d"
           }
          ],
          "histogram2dcontour": [
           {
            "colorbar": {
             "outlinewidth": 0,
             "ticks": ""
            },
            "colorscale": [
             [
              0,
              "#0d0887"
             ],
             [
              0.1111111111111111,
              "#46039f"
             ],
             [
              0.2222222222222222,
              "#7201a8"
             ],
             [
              0.3333333333333333,
              "#9c179e"
             ],
             [
              0.4444444444444444,
              "#bd3786"
             ],
             [
              0.5555555555555556,
              "#d8576b"
             ],
             [
              0.6666666666666666,
              "#ed7953"
             ],
             [
              0.7777777777777778,
              "#fb9f3a"
             ],
             [
              0.8888888888888888,
              "#fdca26"
             ],
             [
              1,
              "#f0f921"
             ]
            ],
            "type": "histogram2dcontour"
           }
          ],
          "mesh3d": [
           {
            "colorbar": {
             "outlinewidth": 0,
             "ticks": ""
            },
            "type": "mesh3d"
           }
          ],
          "parcoords": [
           {
            "line": {
             "colorbar": {
              "outlinewidth": 0,
              "ticks": ""
             }
            },
            "type": "parcoords"
           }
          ],
          "pie": [
           {
            "automargin": true,
            "type": "pie"
           }
          ],
          "scatter": [
           {
            "fillpattern": {
             "fillmode": "overlay",
             "size": 10,
             "solidity": 0.2
            },
            "type": "scatter"
           }
          ],
          "scatter3d": [
           {
            "line": {
             "colorbar": {
              "outlinewidth": 0,
              "ticks": ""
             }
            },
            "marker": {
             "colorbar": {
              "outlinewidth": 0,
              "ticks": ""
             }
            },
            "type": "scatter3d"
           }
          ],
          "scattercarpet": [
           {
            "marker": {
             "colorbar": {
              "outlinewidth": 0,
              "ticks": ""
             }
            },
            "type": "scattercarpet"
           }
          ],
          "scattergeo": [
           {
            "marker": {
             "colorbar": {
              "outlinewidth": 0,
              "ticks": ""
             }
            },
            "type": "scattergeo"
           }
          ],
          "scattergl": [
           {
            "marker": {
             "colorbar": {
              "outlinewidth": 0,
              "ticks": ""
             }
            },
            "type": "scattergl"
           }
          ],
          "scattermapbox": [
           {
            "marker": {
             "colorbar": {
              "outlinewidth": 0,
              "ticks": ""
             }
            },
            "type": "scattermapbox"
           }
          ],
          "scatterpolar": [
           {
            "marker": {
             "colorbar": {
              "outlinewidth": 0,
              "ticks": ""
             }
            },
            "type": "scatterpolar"
           }
          ],
          "scatterpolargl": [
           {
            "marker": {
             "colorbar": {
              "outlinewidth": 0,
              "ticks": ""
             }
            },
            "type": "scatterpolargl"
           }
          ],
          "scatterternary": [
           {
            "marker": {
             "colorbar": {
              "outlinewidth": 0,
              "ticks": ""
             }
            },
            "type": "scatterternary"
           }
          ],
          "surface": [
           {
            "colorbar": {
             "outlinewidth": 0,
             "ticks": ""
            },
            "colorscale": [
             [
              0,
              "#0d0887"
             ],
             [
              0.1111111111111111,
              "#46039f"
             ],
             [
              0.2222222222222222,
              "#7201a8"
             ],
             [
              0.3333333333333333,
              "#9c179e"
             ],
             [
              0.4444444444444444,
              "#bd3786"
             ],
             [
              0.5555555555555556,
              "#d8576b"
             ],
             [
              0.6666666666666666,
              "#ed7953"
             ],
             [
              0.7777777777777778,
              "#fb9f3a"
             ],
             [
              0.8888888888888888,
              "#fdca26"
             ],
             [
              1,
              "#f0f921"
             ]
            ],
            "type": "surface"
           }
          ],
          "table": [
           {
            "cells": {
             "fill": {
              "color": "#EBF0F8"
             },
             "line": {
              "color": "white"
             }
            },
            "header": {
             "fill": {
              "color": "#C8D4E3"
             },
             "line": {
              "color": "white"
             }
            },
            "type": "table"
           }
          ]
         },
         "layout": {
          "annotationdefaults": {
           "arrowcolor": "#2a3f5f",
           "arrowhead": 0,
           "arrowwidth": 1
          },
          "autotypenumbers": "strict",
          "coloraxis": {
           "colorbar": {
            "outlinewidth": 0,
            "ticks": ""
           }
          },
          "colorscale": {
           "diverging": [
            [
             0,
             "#8e0152"
            ],
            [
             0.1,
             "#c51b7d"
            ],
            [
             0.2,
             "#de77ae"
            ],
            [
             0.3,
             "#f1b6da"
            ],
            [
             0.4,
             "#fde0ef"
            ],
            [
             0.5,
             "#f7f7f7"
            ],
            [
             0.6,
             "#e6f5d0"
            ],
            [
             0.7,
             "#b8e186"
            ],
            [
             0.8,
             "#7fbc41"
            ],
            [
             0.9,
             "#4d9221"
            ],
            [
             1,
             "#276419"
            ]
           ],
           "sequential": [
            [
             0,
             "#0d0887"
            ],
            [
             0.1111111111111111,
             "#46039f"
            ],
            [
             0.2222222222222222,
             "#7201a8"
            ],
            [
             0.3333333333333333,
             "#9c179e"
            ],
            [
             0.4444444444444444,
             "#bd3786"
            ],
            [
             0.5555555555555556,
             "#d8576b"
            ],
            [
             0.6666666666666666,
             "#ed7953"
            ],
            [
             0.7777777777777778,
             "#fb9f3a"
            ],
            [
             0.8888888888888888,
             "#fdca26"
            ],
            [
             1,
             "#f0f921"
            ]
           ],
           "sequentialminus": [
            [
             0,
             "#0d0887"
            ],
            [
             0.1111111111111111,
             "#46039f"
            ],
            [
             0.2222222222222222,
             "#7201a8"
            ],
            [
             0.3333333333333333,
             "#9c179e"
            ],
            [
             0.4444444444444444,
             "#bd3786"
            ],
            [
             0.5555555555555556,
             "#d8576b"
            ],
            [
             0.6666666666666666,
             "#ed7953"
            ],
            [
             0.7777777777777778,
             "#fb9f3a"
            ],
            [
             0.8888888888888888,
             "#fdca26"
            ],
            [
             1,
             "#f0f921"
            ]
           ]
          },
          "colorway": [
           "#636efa",
           "#EF553B",
           "#00cc96",
           "#ab63fa",
           "#FFA15A",
           "#19d3f3",
           "#FF6692",
           "#B6E880",
           "#FF97FF",
           "#FECB52"
          ],
          "font": {
           "color": "#2a3f5f"
          },
          "geo": {
           "bgcolor": "white",
           "lakecolor": "white",
           "landcolor": "#E5ECF6",
           "showlakes": true,
           "showland": true,
           "subunitcolor": "white"
          },
          "hoverlabel": {
           "align": "left"
          },
          "hovermode": "closest",
          "mapbox": {
           "style": "light"
          },
          "paper_bgcolor": "white",
          "plot_bgcolor": "#E5ECF6",
          "polar": {
           "angularaxis": {
            "gridcolor": "white",
            "linecolor": "white",
            "ticks": ""
           },
           "bgcolor": "#E5ECF6",
           "radialaxis": {
            "gridcolor": "white",
            "linecolor": "white",
            "ticks": ""
           }
          },
          "scene": {
           "xaxis": {
            "backgroundcolor": "#E5ECF6",
            "gridcolor": "white",
            "gridwidth": 2,
            "linecolor": "white",
            "showbackground": true,
            "ticks": "",
            "zerolinecolor": "white"
           },
           "yaxis": {
            "backgroundcolor": "#E5ECF6",
            "gridcolor": "white",
            "gridwidth": 2,
            "linecolor": "white",
            "showbackground": true,
            "ticks": "",
            "zerolinecolor": "white"
           },
           "zaxis": {
            "backgroundcolor": "#E5ECF6",
            "gridcolor": "white",
            "gridwidth": 2,
            "linecolor": "white",
            "showbackground": true,
            "ticks": "",
            "zerolinecolor": "white"
           }
          },
          "shapedefaults": {
           "line": {
            "color": "#2a3f5f"
           }
          },
          "ternary": {
           "aaxis": {
            "gridcolor": "white",
            "linecolor": "white",
            "ticks": ""
           },
           "baxis": {
            "gridcolor": "white",
            "linecolor": "white",
            "ticks": ""
           },
           "bgcolor": "#E5ECF6",
           "caxis": {
            "gridcolor": "white",
            "linecolor": "white",
            "ticks": ""
           }
          },
          "title": {
           "x": 0.05
          },
          "xaxis": {
           "automargin": true,
           "gridcolor": "white",
           "linecolor": "white",
           "ticks": "",
           "title": {
            "standoff": 15
           },
           "zerolinecolor": "white",
           "zerolinewidth": 2
          },
          "yaxis": {
           "automargin": true,
           "gridcolor": "white",
           "linecolor": "white",
           "ticks": "",
           "title": {
            "standoff": 15
           },
           "zerolinecolor": "white",
           "zerolinewidth": 2
          }
         }
        },
        "title": {
         "text": "Milwaukee, WI, United States"
        },
        "width": 1500,
        "xaxis": {
         "anchor": "y",
         "domain": [
          0,
          0.2125
         ],
         "title": {
          "text": "Year"
         }
        },
        "xaxis10": {
         "anchor": "y10",
         "domain": [
          0.2625,
          0.475
         ],
         "title": {
          "text": "Year"
         }
        },
        "xaxis11": {
         "anchor": "y11",
         "domain": [
          0.525,
          0.7375
         ],
         "title": {
          "text": "Year"
         }
        },
        "xaxis12": {
         "anchor": "y12",
         "domain": [
          0.7875,
          1
         ],
         "title": {
          "text": "Year"
         }
        },
        "xaxis13": {
         "anchor": "y13",
         "domain": [
          0,
          0.2125
         ],
         "title": {
          "text": "Year"
         }
        },
        "xaxis14": {
         "anchor": "y14",
         "domain": [
          0.2625,
          0.475
         ],
         "title": {
          "text": "Year"
         }
        },
        "xaxis15": {
         "anchor": "y15",
         "domain": [
          0.525,
          0.7375
         ],
         "title": {
          "text": "Year"
         }
        },
        "xaxis16": {
         "anchor": "y16",
         "domain": [
          0.7875,
          1
         ]
        },
        "xaxis2": {
         "anchor": "y2",
         "domain": [
          0.2625,
          0.475
         ],
         "title": {
          "text": "Year"
         }
        },
        "xaxis3": {
         "anchor": "y3",
         "domain": [
          0.525,
          0.7375
         ],
         "title": {
          "text": "Year"
         }
        },
        "xaxis4": {
         "anchor": "y4",
         "domain": [
          0.7875,
          1
         ],
         "title": {
          "text": "Year"
         }
        },
        "xaxis5": {
         "anchor": "y5",
         "domain": [
          0,
          0.2125
         ],
         "title": {
          "text": "Year"
         }
        },
        "xaxis6": {
         "anchor": "y6",
         "domain": [
          0.2625,
          0.475
         ],
         "title": {
          "text": "Year"
         }
        },
        "xaxis7": {
         "anchor": "y7",
         "domain": [
          0.525,
          0.7375
         ],
         "title": {
          "text": "Year"
         }
        },
        "xaxis8": {
         "anchor": "y8",
         "domain": [
          0.7875,
          1
         ],
         "title": {
          "text": "Year"
         }
        },
        "xaxis9": {
         "anchor": "y9",
         "domain": [
          0,
          0.2125
         ],
         "title": {
          "text": "Year"
         }
        },
        "yaxis": {
         "anchor": "x",
         "domain": [
          0.84375,
          1
         ],
         "title": {
          "text": "Price to Income Ratio"
         }
        },
        "yaxis10": {
         "anchor": "x10",
         "domain": [
          0.28125,
          0.4375
         ],
         "title": {
          "text": "Cost of Living Index"
         }
        },
        "yaxis11": {
         "anchor": "x11",
         "domain": [
          0.28125,
          0.4375
         ],
         "title": {
          "text": "Rent Index"
         }
        },
        "yaxis12": {
         "anchor": "x12",
         "domain": [
          0.28125,
          0.4375
         ],
         "title": {
          "text": "Cost of Living Plus Rent Index"
         }
        },
        "yaxis13": {
         "anchor": "x13",
         "domain": [
          0,
          0.15625
         ],
         "title": {
          "text": "Groceries Index"
         }
        },
        "yaxis14": {
         "anchor": "x14",
         "domain": [
          0,
          0.15625
         ],
         "title": {
          "text": "Restaurant Index"
         }
        },
        "yaxis15": {
         "anchor": "x15",
         "domain": [
          0,
          0.15625
         ],
         "title": {
          "text": "Local Purchasing Power Index"
         }
        },
        "yaxis16": {
         "anchor": "x16",
         "domain": [
          0,
          0.15625
         ]
        },
        "yaxis2": {
         "anchor": "x2",
         "domain": [
          0.84375,
          1
         ],
         "title": {
          "text": "Gross Rental Yield City Centre"
         }
        },
        "yaxis3": {
         "anchor": "x3",
         "domain": [
          0.84375,
          1
         ],
         "title": {
          "text": "Gross Rental Yield Outside Centre"
         }
        },
        "yaxis4": {
         "anchor": "x4",
         "domain": [
          0.84375,
          1
         ],
         "title": {
          "text": "Price to Rent Ratio City Centre"
         }
        },
        "yaxis5": {
         "anchor": "x5",
         "domain": [
          0.5625,
          0.71875
         ],
         "title": {
          "text": "Price to Rent Ratio Outside City Centre"
         }
        },
        "yaxis6": {
         "anchor": "x6",
         "domain": [
          0.5625,
          0.71875
         ],
         "title": {
          "text": "Mortgage as a Percentage of Income"
         }
        },
        "yaxis7": {
         "anchor": "x7",
         "domain": [
          0.5625,
          0.71875
         ],
         "title": {
          "text": "Affordability Index"
         }
        },
        "yaxis8": {
         "anchor": "x8",
         "domain": [
          0.5625,
          0.71875
         ],
         "title": {
          "text": "Crime Index"
         }
        },
        "yaxis9": {
         "anchor": "x9",
         "domain": [
          0.28125,
          0.4375
         ],
         "title": {
          "text": "Safety Index"
         }
        }
       }
      },
      "text/html": [
       "<div>                            <div id=\"c5801f48-2ee2-48a9-bd4a-c81f2d0477cc\" class=\"plotly-graph-div\" style=\"height:1500px; width:1500px;\"></div>            <script type=\"text/javascript\">                require([\"plotly\"], function(Plotly) {                    window.PLOTLYENV=window.PLOTLYENV || {};                                    if (document.getElementById(\"c5801f48-2ee2-48a9-bd4a-c81f2d0477cc\")) {                    Plotly.newPlot(                        \"c5801f48-2ee2-48a9-bd4a-c81f2d0477cc\",                        [{\"mode\":\"lines+markers\",\"name\":\"Price to Income Ratio\",\"x\":[\"2011\",\"2012\",\"2013\",\"2014\",\"2014-mid\",\"2015\",\"2015-mid\",\"2016\",\"2017\",\"2017-mid\",\"2018\",\"2018-mid\",\"2019\",\"2019-mid\",\"2020\",\"2020-mid\",\"2021\",\"2021-mid\",\"2022\",\"2024-mid\"],\"y\":[2.0,2.0,1.6,2.0,2.0,2.2,2.5,2.1,2.0,2.1,2.2,2.9,3.0,2.8,2.8,2.8,3.3,2.3,2.5,2.0],\"type\":\"scatter\",\"xaxis\":\"x\",\"yaxis\":\"y\"},{\"mode\":\"lines+markers\",\"name\":\"Gross Rental Yield City Centre\",\"x\":[\"2011\",\"2012\",\"2013\",\"2014\",\"2014-mid\",\"2015\",\"2015-mid\",\"2016\",\"2017\",\"2017-mid\",\"2018\",\"2018-mid\",\"2019\",\"2019-mid\",\"2020\",\"2020-mid\",\"2021\",\"2021-mid\",\"2022\",\"2024-mid\"],\"y\":[15.3,13.0,11.2,12.0,13.6,15.6,15.5,13.8,14.5,12.0,13.3,12.7,13.1,12.9,12.2,11.4,9.9,9.9,10.7,20.0],\"type\":\"scatter\",\"xaxis\":\"x2\",\"yaxis\":\"y2\"},{\"mode\":\"lines+markers\",\"name\":\"Gross Rental Yield Outside Centre\",\"x\":[\"2011\",\"2012\",\"2013\",\"2014\",\"2014-mid\",\"2015\",\"2015-mid\",\"2016\",\"2017\",\"2017-mid\",\"2018\",\"2018-mid\",\"2019\",\"2019-mid\",\"2020\",\"2020-mid\",\"2021\",\"2021-mid\",\"2022\",\"2024-mid\"],\"y\":[19.8,21.2,20.1,19.3,15.1,13.1,13.8,17.3,22.8,15.7,16.6,18.6,15.4,17.0,16.8,16.0,17.6,19.2,19.9,16.8],\"type\":\"scatter\",\"xaxis\":\"x3\",\"yaxis\":\"y3\"},{\"mode\":\"lines+markers\",\"name\":\"Price to Rent Ratio City Centre\",\"x\":[\"2011\",\"2012\",\"2013\",\"2014\",\"2014-mid\",\"2015\",\"2015-mid\",\"2016\",\"2017\",\"2017-mid\",\"2018\",\"2018-mid\",\"2019\",\"2019-mid\",\"2020\",\"2020-mid\",\"2021\",\"2021-mid\",\"2022\",\"2024-mid\"],\"y\":[6.6,7.7,8.9,8.3,7.3,6.4,6.5,7.3,6.9,8.4,7.5,7.9,7.6,7.8,8.2,8.8,10.1,10.1,9.3,5.0],\"type\":\"scatter\",\"xaxis\":\"x4\",\"yaxis\":\"y4\"},{\"mode\":\"lines+markers\",\"name\":\"Price to Rent Ratio Outside City Centre\",\"x\":[\"2011\",\"2012\",\"2013\",\"2014\",\"2014-mid\",\"2015\",\"2015-mid\",\"2016\",\"2017\",\"2017-mid\",\"2018\",\"2018-mid\",\"2019\",\"2019-mid\",\"2020\",\"2020-mid\",\"2021\",\"2021-mid\",\"2022\",\"2024-mid\"],\"y\":[5.0,4.7,5.0,5.2,6.6,7.6,7.3,5.8,4.4,6.4,6.0,5.4,6.5,5.9,6.0,6.2,5.7,5.2,5.0,6.0],\"type\":\"scatter\",\"xaxis\":\"x5\",\"yaxis\":\"y5\"},{\"mode\":\"lines+markers\",\"name\":\"Mortgage as a Percentage of Income\",\"x\":[\"2011\",\"2012\",\"2013\",\"2014\",\"2014-mid\",\"2015\",\"2015-mid\",\"2016\",\"2017\",\"2017-mid\",\"2018\",\"2018-mid\",\"2019\",\"2019-mid\",\"2020\",\"2020-mid\",\"2021\",\"2021-mid\",\"2022\",\"2024-mid\"],\"y\":[\"16.3\",\"15.7\",\"12.4\",\"17.0\",\"16.1\",\"16.0\",\"19.0\",\"15.3\",\"13.9\",\"15.2\",\"15.7\",\"21.2\",\"21.9\",\"21.0\",\"20.8\",\"21.0\",\"23.9\",\"16.2\",\"16.9\",\"17.8\"],\"type\":\"scatter\",\"xaxis\":\"x6\",\"yaxis\":\"y6\"},{\"mode\":\"lines+markers\",\"name\":\"Affordability Index\",\"x\":[\"2011\",\"2012\",\"2013\",\"2014\",\"2014-mid\",\"2015\",\"2015-mid\",\"2016\",\"2017\",\"2017-mid\",\"2018\",\"2018-mid\",\"2019\",\"2019-mid\",\"2020\",\"2020-mid\",\"2021\",\"2021-mid\",\"2022\",\"2024-mid\"],\"y\":[\"6.1\",\"6.4\",\"8.1\",\"5.9\",\"6.2\",\"6.2\",\"5.3\",\"6.5\",\"7.2\",\"6.6\",\"6.4\",\"4.7\",\"4.6\",\"4.8\",\"4.8\",\"4.8\",\"4.2\",\"6.2\",\"5.9\",\"5.6\"],\"type\":\"scatter\",\"xaxis\":\"x7\",\"yaxis\":\"y7\"},{\"mode\":\"lines+markers\",\"name\":\"Crime Index\",\"x\":[\"2011\",\"2012\",\"2013\",\"2014\",\"2014-mid\",\"2015\",\"2015-mid\",\"2016\",\"2017\",\"2017-mid\",\"2018\",\"2018-mid\",\"2019\",\"2019-mid\",\"2020\",\"2020-mid\",\"2021\",\"2021-mid\",\"2022\",\"2024-mid\"],\"y\":[null,null,null,52.9,55.6,62.4,60.4,56.5,63.8,65.0,63.3,64.7,65.3,66.1,65.6,67.2,68.5,67.2,66.9,67.6],\"type\":\"scatter\",\"xaxis\":\"x8\",\"yaxis\":\"y8\"},{\"mode\":\"lines+markers\",\"name\":\"Safety Index\",\"x\":[\"2011\",\"2012\",\"2013\",\"2014\",\"2014-mid\",\"2015\",\"2015-mid\",\"2016\",\"2017\",\"2017-mid\",\"2018\",\"2018-mid\",\"2019\",\"2019-mid\",\"2020\",\"2020-mid\",\"2021\",\"2021-mid\",\"2022\",\"2024-mid\"],\"y\":[null,null,null,47.1,44.4,37.6,39.6,43.5,36.2,35.0,36.7,35.3,34.7,33.9,34.4,32.8,31.5,32.8,33.1,32.4],\"type\":\"scatter\",\"xaxis\":\"x9\",\"yaxis\":\"y9\"},{\"mode\":\"lines+markers\",\"name\":\"Cost of Living Index\",\"x\":[\"2011\",\"2012\",\"2013\",\"2014\",\"2014-mid\",\"2015\",\"2015-mid\",\"2016\",\"2017\",\"2017-mid\",\"2018\",\"2018-mid\",\"2019\",\"2019-mid\",\"2020\",\"2020-mid\",\"2021\",\"2021-mid\",\"2022\",\"2024-mid\"],\"y\":[null,null,null,null,null,null,null,null,null,null,null,null,null,null,null,78.6,null,null,null,null],\"type\":\"scatter\",\"xaxis\":\"x10\",\"yaxis\":\"y10\"},{\"mode\":\"lines+markers\",\"name\":\"Rent Index\",\"x\":[\"2011\",\"2012\",\"2013\",\"2014\",\"2014-mid\",\"2015\",\"2015-mid\",\"2016\",\"2017\",\"2017-mid\",\"2018\",\"2018-mid\",\"2019\",\"2019-mid\",\"2020\",\"2020-mid\",\"2021\",\"2021-mid\",\"2022\",\"2024-mid\"],\"y\":[null,null,null,null,null,null,null,null,null,null,null,null,null,null,null,34.0,null,null,null,null],\"type\":\"scatter\",\"xaxis\":\"x11\",\"yaxis\":\"y11\"},{\"mode\":\"lines+markers\",\"name\":\"Cost of Living Plus Rent Index\",\"x\":[\"2011\",\"2012\",\"2013\",\"2014\",\"2014-mid\",\"2015\",\"2015-mid\",\"2016\",\"2017\",\"2017-mid\",\"2018\",\"2018-mid\",\"2019\",\"2019-mid\",\"2020\",\"2020-mid\",\"2021\",\"2021-mid\",\"2022\",\"2024-mid\"],\"y\":[null,null,null,null,null,null,null,null,null,null,null,null,null,null,null,56.9,null,null,null,null],\"type\":\"scatter\",\"xaxis\":\"x12\",\"yaxis\":\"y12\"},{\"mode\":\"lines+markers\",\"name\":\"Groceries Index\",\"x\":[\"2011\",\"2012\",\"2013\",\"2014\",\"2014-mid\",\"2015\",\"2015-mid\",\"2016\",\"2017\",\"2017-mid\",\"2018\",\"2018-mid\",\"2019\",\"2019-mid\",\"2020\",\"2020-mid\",\"2021\",\"2021-mid\",\"2022\",\"2024-mid\"],\"y\":[null,null,null,null,null,null,null,null,null,null,null,null,null,null,null,79.6,null,null,null,null],\"type\":\"scatter\",\"xaxis\":\"x13\",\"yaxis\":\"y13\"},{\"mode\":\"lines+markers\",\"name\":\"Restaurant Index\",\"x\":[\"2011\",\"2012\",\"2013\",\"2014\",\"2014-mid\",\"2015\",\"2015-mid\",\"2016\",\"2017\",\"2017-mid\",\"2018\",\"2018-mid\",\"2019\",\"2019-mid\",\"2020\",\"2020-mid\",\"2021\",\"2021-mid\",\"2022\",\"2024-mid\"],\"y\":[null,null,null,null,null,null,null,null,null,null,null,null,null,null,null,69.6,null,null,null,null],\"type\":\"scatter\",\"xaxis\":\"x14\",\"yaxis\":\"y14\"},{\"mode\":\"lines+markers\",\"name\":\"Local Purchasing Power Index\",\"x\":[\"2011\",\"2012\",\"2013\",\"2014\",\"2014-mid\",\"2015\",\"2015-mid\",\"2016\",\"2017\",\"2017-mid\",\"2018\",\"2018-mid\",\"2019\",\"2019-mid\",\"2020\",\"2020-mid\",\"2021\",\"2021-mid\",\"2022\",\"2024-mid\"],\"y\":[null,null,null,null,null,null,null,null,null,null,null,null,null,null,null,88.1,null,null,null,null],\"type\":\"scatter\",\"xaxis\":\"x15\",\"yaxis\":\"y15\"}],                        {\"template\":{\"data\":{\"histogram2dcontour\":[{\"type\":\"histogram2dcontour\",\"colorbar\":{\"outlinewidth\":0,\"ticks\":\"\"},\"colorscale\":[[0.0,\"#0d0887\"],[0.1111111111111111,\"#46039f\"],[0.2222222222222222,\"#7201a8\"],[0.3333333333333333,\"#9c179e\"],[0.4444444444444444,\"#bd3786\"],[0.5555555555555556,\"#d8576b\"],[0.6666666666666666,\"#ed7953\"],[0.7777777777777778,\"#fb9f3a\"],[0.8888888888888888,\"#fdca26\"],[1.0,\"#f0f921\"]]}],\"choropleth\":[{\"type\":\"choropleth\",\"colorbar\":{\"outlinewidth\":0,\"ticks\":\"\"}}],\"histogram2d\":[{\"type\":\"histogram2d\",\"colorbar\":{\"outlinewidth\":0,\"ticks\":\"\"},\"colorscale\":[[0.0,\"#0d0887\"],[0.1111111111111111,\"#46039f\"],[0.2222222222222222,\"#7201a8\"],[0.3333333333333333,\"#9c179e\"],[0.4444444444444444,\"#bd3786\"],[0.5555555555555556,\"#d8576b\"],[0.6666666666666666,\"#ed7953\"],[0.7777777777777778,\"#fb9f3a\"],[0.8888888888888888,\"#fdca26\"],[1.0,\"#f0f921\"]]}],\"heatmap\":[{\"type\":\"heatmap\",\"colorbar\":{\"outlinewidth\":0,\"ticks\":\"\"},\"colorscale\":[[0.0,\"#0d0887\"],[0.1111111111111111,\"#46039f\"],[0.2222222222222222,\"#7201a8\"],[0.3333333333333333,\"#9c179e\"],[0.4444444444444444,\"#bd3786\"],[0.5555555555555556,\"#d8576b\"],[0.6666666666666666,\"#ed7953\"],[0.7777777777777778,\"#fb9f3a\"],[0.8888888888888888,\"#fdca26\"],[1.0,\"#f0f921\"]]}],\"heatmapgl\":[{\"type\":\"heatmapgl\",\"colorbar\":{\"outlinewidth\":0,\"ticks\":\"\"},\"colorscale\":[[0.0,\"#0d0887\"],[0.1111111111111111,\"#46039f\"],[0.2222222222222222,\"#7201a8\"],[0.3333333333333333,\"#9c179e\"],[0.4444444444444444,\"#bd3786\"],[0.5555555555555556,\"#d8576b\"],[0.6666666666666666,\"#ed7953\"],[0.7777777777777778,\"#fb9f3a\"],[0.8888888888888888,\"#fdca26\"],[1.0,\"#f0f921\"]]}],\"contourcarpet\":[{\"type\":\"contourcarpet\",\"colorbar\":{\"outlinewidth\":0,\"ticks\":\"\"}}],\"contour\":[{\"type\":\"contour\",\"colorbar\":{\"outlinewidth\":0,\"ticks\":\"\"},\"colorscale\":[[0.0,\"#0d0887\"],[0.1111111111111111,\"#46039f\"],[0.2222222222222222,\"#7201a8\"],[0.3333333333333333,\"#9c179e\"],[0.4444444444444444,\"#bd3786\"],[0.5555555555555556,\"#d8576b\"],[0.6666666666666666,\"#ed7953\"],[0.7777777777777778,\"#fb9f3a\"],[0.8888888888888888,\"#fdca26\"],[1.0,\"#f0f921\"]]}],\"surface\":[{\"type\":\"surface\",\"colorbar\":{\"outlinewidth\":0,\"ticks\":\"\"},\"colorscale\":[[0.0,\"#0d0887\"],[0.1111111111111111,\"#46039f\"],[0.2222222222222222,\"#7201a8\"],[0.3333333333333333,\"#9c179e\"],[0.4444444444444444,\"#bd3786\"],[0.5555555555555556,\"#d8576b\"],[0.6666666666666666,\"#ed7953\"],[0.7777777777777778,\"#fb9f3a\"],[0.8888888888888888,\"#fdca26\"],[1.0,\"#f0f921\"]]}],\"mesh3d\":[{\"type\":\"mesh3d\",\"colorbar\":{\"outlinewidth\":0,\"ticks\":\"\"}}],\"scatter\":[{\"fillpattern\":{\"fillmode\":\"overlay\",\"size\":10,\"solidity\":0.2},\"type\":\"scatter\"}],\"parcoords\":[{\"type\":\"parcoords\",\"line\":{\"colorbar\":{\"outlinewidth\":0,\"ticks\":\"\"}}}],\"scatterpolargl\":[{\"type\":\"scatterpolargl\",\"marker\":{\"colorbar\":{\"outlinewidth\":0,\"ticks\":\"\"}}}],\"bar\":[{\"error_x\":{\"color\":\"#2a3f5f\"},\"error_y\":{\"color\":\"#2a3f5f\"},\"marker\":{\"line\":{\"color\":\"#E5ECF6\",\"width\":0.5},\"pattern\":{\"fillmode\":\"overlay\",\"size\":10,\"solidity\":0.2}},\"type\":\"bar\"}],\"scattergeo\":[{\"type\":\"scattergeo\",\"marker\":{\"colorbar\":{\"outlinewidth\":0,\"ticks\":\"\"}}}],\"scatterpolar\":[{\"type\":\"scatterpolar\",\"marker\":{\"colorbar\":{\"outlinewidth\":0,\"ticks\":\"\"}}}],\"histogram\":[{\"marker\":{\"pattern\":{\"fillmode\":\"overlay\",\"size\":10,\"solidity\":0.2}},\"type\":\"histogram\"}],\"scattergl\":[{\"type\":\"scattergl\",\"marker\":{\"colorbar\":{\"outlinewidth\":0,\"ticks\":\"\"}}}],\"scatter3d\":[{\"type\":\"scatter3d\",\"line\":{\"colorbar\":{\"outlinewidth\":0,\"ticks\":\"\"}},\"marker\":{\"colorbar\":{\"outlinewidth\":0,\"ticks\":\"\"}}}],\"scattermapbox\":[{\"type\":\"scattermapbox\",\"marker\":{\"colorbar\":{\"outlinewidth\":0,\"ticks\":\"\"}}}],\"scatterternary\":[{\"type\":\"scatterternary\",\"marker\":{\"colorbar\":{\"outlinewidth\":0,\"ticks\":\"\"}}}],\"scattercarpet\":[{\"type\":\"scattercarpet\",\"marker\":{\"colorbar\":{\"outlinewidth\":0,\"ticks\":\"\"}}}],\"carpet\":[{\"aaxis\":{\"endlinecolor\":\"#2a3f5f\",\"gridcolor\":\"white\",\"linecolor\":\"white\",\"minorgridcolor\":\"white\",\"startlinecolor\":\"#2a3f5f\"},\"baxis\":{\"endlinecolor\":\"#2a3f5f\",\"gridcolor\":\"white\",\"linecolor\":\"white\",\"minorgridcolor\":\"white\",\"startlinecolor\":\"#2a3f5f\"},\"type\":\"carpet\"}],\"table\":[{\"cells\":{\"fill\":{\"color\":\"#EBF0F8\"},\"line\":{\"color\":\"white\"}},\"header\":{\"fill\":{\"color\":\"#C8D4E3\"},\"line\":{\"color\":\"white\"}},\"type\":\"table\"}],\"barpolar\":[{\"marker\":{\"line\":{\"color\":\"#E5ECF6\",\"width\":0.5},\"pattern\":{\"fillmode\":\"overlay\",\"size\":10,\"solidity\":0.2}},\"type\":\"barpolar\"}],\"pie\":[{\"automargin\":true,\"type\":\"pie\"}]},\"layout\":{\"autotypenumbers\":\"strict\",\"colorway\":[\"#636efa\",\"#EF553B\",\"#00cc96\",\"#ab63fa\",\"#FFA15A\",\"#19d3f3\",\"#FF6692\",\"#B6E880\",\"#FF97FF\",\"#FECB52\"],\"font\":{\"color\":\"#2a3f5f\"},\"hovermode\":\"closest\",\"hoverlabel\":{\"align\":\"left\"},\"paper_bgcolor\":\"white\",\"plot_bgcolor\":\"#E5ECF6\",\"polar\":{\"bgcolor\":\"#E5ECF6\",\"angularaxis\":{\"gridcolor\":\"white\",\"linecolor\":\"white\",\"ticks\":\"\"},\"radialaxis\":{\"gridcolor\":\"white\",\"linecolor\":\"white\",\"ticks\":\"\"}},\"ternary\":{\"bgcolor\":\"#E5ECF6\",\"aaxis\":{\"gridcolor\":\"white\",\"linecolor\":\"white\",\"ticks\":\"\"},\"baxis\":{\"gridcolor\":\"white\",\"linecolor\":\"white\",\"ticks\":\"\"},\"caxis\":{\"gridcolor\":\"white\",\"linecolor\":\"white\",\"ticks\":\"\"}},\"coloraxis\":{\"colorbar\":{\"outlinewidth\":0,\"ticks\":\"\"}},\"colorscale\":{\"sequential\":[[0.0,\"#0d0887\"],[0.1111111111111111,\"#46039f\"],[0.2222222222222222,\"#7201a8\"],[0.3333333333333333,\"#9c179e\"],[0.4444444444444444,\"#bd3786\"],[0.5555555555555556,\"#d8576b\"],[0.6666666666666666,\"#ed7953\"],[0.7777777777777778,\"#fb9f3a\"],[0.8888888888888888,\"#fdca26\"],[1.0,\"#f0f921\"]],\"sequentialminus\":[[0.0,\"#0d0887\"],[0.1111111111111111,\"#46039f\"],[0.2222222222222222,\"#7201a8\"],[0.3333333333333333,\"#9c179e\"],[0.4444444444444444,\"#bd3786\"],[0.5555555555555556,\"#d8576b\"],[0.6666666666666666,\"#ed7953\"],[0.7777777777777778,\"#fb9f3a\"],[0.8888888888888888,\"#fdca26\"],[1.0,\"#f0f921\"]],\"diverging\":[[0,\"#8e0152\"],[0.1,\"#c51b7d\"],[0.2,\"#de77ae\"],[0.3,\"#f1b6da\"],[0.4,\"#fde0ef\"],[0.5,\"#f7f7f7\"],[0.6,\"#e6f5d0\"],[0.7,\"#b8e186\"],[0.8,\"#7fbc41\"],[0.9,\"#4d9221\"],[1,\"#276419\"]]},\"xaxis\":{\"gridcolor\":\"white\",\"linecolor\":\"white\",\"ticks\":\"\",\"title\":{\"standoff\":15},\"zerolinecolor\":\"white\",\"automargin\":true,\"zerolinewidth\":2},\"yaxis\":{\"gridcolor\":\"white\",\"linecolor\":\"white\",\"ticks\":\"\",\"title\":{\"standoff\":15},\"zerolinecolor\":\"white\",\"automargin\":true,\"zerolinewidth\":2},\"scene\":{\"xaxis\":{\"backgroundcolor\":\"#E5ECF6\",\"gridcolor\":\"white\",\"linecolor\":\"white\",\"showbackground\":true,\"ticks\":\"\",\"zerolinecolor\":\"white\",\"gridwidth\":2},\"yaxis\":{\"backgroundcolor\":\"#E5ECF6\",\"gridcolor\":\"white\",\"linecolor\":\"white\",\"showbackground\":true,\"ticks\":\"\",\"zerolinecolor\":\"white\",\"gridwidth\":2},\"zaxis\":{\"backgroundcolor\":\"#E5ECF6\",\"gridcolor\":\"white\",\"linecolor\":\"white\",\"showbackground\":true,\"ticks\":\"\",\"zerolinecolor\":\"white\",\"gridwidth\":2}},\"shapedefaults\":{\"line\":{\"color\":\"#2a3f5f\"}},\"annotationdefaults\":{\"arrowcolor\":\"#2a3f5f\",\"arrowhead\":0,\"arrowwidth\":1},\"geo\":{\"bgcolor\":\"white\",\"landcolor\":\"#E5ECF6\",\"subunitcolor\":\"white\",\"showland\":true,\"showlakes\":true,\"lakecolor\":\"white\"},\"title\":{\"x\":0.05},\"mapbox\":{\"style\":\"light\"}}},\"xaxis\":{\"anchor\":\"y\",\"domain\":[0.0,0.2125],\"title\":{\"text\":\"Year\"}},\"yaxis\":{\"anchor\":\"x\",\"domain\":[0.84375,1.0],\"title\":{\"text\":\"Price to Income Ratio\"}},\"xaxis2\":{\"anchor\":\"y2\",\"domain\":[0.2625,0.475],\"title\":{\"text\":\"Year\"}},\"yaxis2\":{\"anchor\":\"x2\",\"domain\":[0.84375,1.0],\"title\":{\"text\":\"Gross Rental Yield City Centre\"}},\"xaxis3\":{\"anchor\":\"y3\",\"domain\":[0.525,0.7375],\"title\":{\"text\":\"Year\"}},\"yaxis3\":{\"anchor\":\"x3\",\"domain\":[0.84375,1.0],\"title\":{\"text\":\"Gross Rental Yield Outside Centre\"}},\"xaxis4\":{\"anchor\":\"y4\",\"domain\":[0.7875,1.0],\"title\":{\"text\":\"Year\"}},\"yaxis4\":{\"anchor\":\"x4\",\"domain\":[0.84375,1.0],\"title\":{\"text\":\"Price to Rent Ratio City Centre\"}},\"xaxis5\":{\"anchor\":\"y5\",\"domain\":[0.0,0.2125],\"title\":{\"text\":\"Year\"}},\"yaxis5\":{\"anchor\":\"x5\",\"domain\":[0.5625,0.71875],\"title\":{\"text\":\"Price to Rent Ratio Outside City Centre\"}},\"xaxis6\":{\"anchor\":\"y6\",\"domain\":[0.2625,0.475],\"title\":{\"text\":\"Year\"}},\"yaxis6\":{\"anchor\":\"x6\",\"domain\":[0.5625,0.71875],\"title\":{\"text\":\"Mortgage as a Percentage of Income\"}},\"xaxis7\":{\"anchor\":\"y7\",\"domain\":[0.525,0.7375],\"title\":{\"text\":\"Year\"}},\"yaxis7\":{\"anchor\":\"x7\",\"domain\":[0.5625,0.71875],\"title\":{\"text\":\"Affordability Index\"}},\"xaxis8\":{\"anchor\":\"y8\",\"domain\":[0.7875,1.0],\"title\":{\"text\":\"Year\"}},\"yaxis8\":{\"anchor\":\"x8\",\"domain\":[0.5625,0.71875],\"title\":{\"text\":\"Crime Index\"}},\"xaxis9\":{\"anchor\":\"y9\",\"domain\":[0.0,0.2125],\"title\":{\"text\":\"Year\"}},\"yaxis9\":{\"anchor\":\"x9\",\"domain\":[0.28125,0.4375],\"title\":{\"text\":\"Safety Index\"}},\"xaxis10\":{\"anchor\":\"y10\",\"domain\":[0.2625,0.475],\"title\":{\"text\":\"Year\"}},\"yaxis10\":{\"anchor\":\"x10\",\"domain\":[0.28125,0.4375],\"title\":{\"text\":\"Cost of Living Index\"}},\"xaxis11\":{\"anchor\":\"y11\",\"domain\":[0.525,0.7375],\"title\":{\"text\":\"Year\"}},\"yaxis11\":{\"anchor\":\"x11\",\"domain\":[0.28125,0.4375],\"title\":{\"text\":\"Rent Index\"}},\"xaxis12\":{\"anchor\":\"y12\",\"domain\":[0.7875,1.0],\"title\":{\"text\":\"Year\"}},\"yaxis12\":{\"anchor\":\"x12\",\"domain\":[0.28125,0.4375],\"title\":{\"text\":\"Cost of Living Plus Rent Index\"}},\"xaxis13\":{\"anchor\":\"y13\",\"domain\":[0.0,0.2125],\"title\":{\"text\":\"Year\"}},\"yaxis13\":{\"anchor\":\"x13\",\"domain\":[0.0,0.15625],\"title\":{\"text\":\"Groceries Index\"}},\"xaxis14\":{\"anchor\":\"y14\",\"domain\":[0.2625,0.475],\"title\":{\"text\":\"Year\"}},\"yaxis14\":{\"anchor\":\"x14\",\"domain\":[0.0,0.15625],\"title\":{\"text\":\"Restaurant Index\"}},\"xaxis15\":{\"anchor\":\"y15\",\"domain\":[0.525,0.7375],\"title\":{\"text\":\"Year\"}},\"yaxis15\":{\"anchor\":\"x15\",\"domain\":[0.0,0.15625],\"title\":{\"text\":\"Local Purchasing Power Index\"}},\"xaxis16\":{\"anchor\":\"y16\",\"domain\":[0.7875,1.0]},\"yaxis16\":{\"anchor\":\"x16\",\"domain\":[0.0,0.15625]},\"annotations\":[{\"font\":{\"size\":16},\"showarrow\":false,\"text\":\"Price to Income Ratio\",\"x\":0.10625,\"xanchor\":\"center\",\"xref\":\"paper\",\"y\":1.0,\"yanchor\":\"bottom\",\"yref\":\"paper\"},{\"font\":{\"size\":16},\"showarrow\":false,\"text\":\"Gross Rental Yield City Centre\",\"x\":0.36875,\"xanchor\":\"center\",\"xref\":\"paper\",\"y\":1.0,\"yanchor\":\"bottom\",\"yref\":\"paper\"},{\"font\":{\"size\":16},\"showarrow\":false,\"text\":\"Gross Rental Yield Outside Centre\",\"x\":0.6312500000000001,\"xanchor\":\"center\",\"xref\":\"paper\",\"y\":1.0,\"yanchor\":\"bottom\",\"yref\":\"paper\"},{\"font\":{\"size\":16},\"showarrow\":false,\"text\":\"Price to Rent Ratio City Centre\",\"x\":0.89375,\"xanchor\":\"center\",\"xref\":\"paper\",\"y\":1.0,\"yanchor\":\"bottom\",\"yref\":\"paper\"},{\"font\":{\"size\":16},\"showarrow\":false,\"text\":\"Price to Rent Ratio Outside City Centre\",\"x\":0.10625,\"xanchor\":\"center\",\"xref\":\"paper\",\"y\":0.71875,\"yanchor\":\"bottom\",\"yref\":\"paper\"},{\"font\":{\"size\":16},\"showarrow\":false,\"text\":\"Mortgage as a Percentage of Income\",\"x\":0.36875,\"xanchor\":\"center\",\"xref\":\"paper\",\"y\":0.71875,\"yanchor\":\"bottom\",\"yref\":\"paper\"},{\"font\":{\"size\":16},\"showarrow\":false,\"text\":\"Affordability Index\",\"x\":0.6312500000000001,\"xanchor\":\"center\",\"xref\":\"paper\",\"y\":0.71875,\"yanchor\":\"bottom\",\"yref\":\"paper\"},{\"font\":{\"size\":16},\"showarrow\":false,\"text\":\"Crime Index\",\"x\":0.89375,\"xanchor\":\"center\",\"xref\":\"paper\",\"y\":0.71875,\"yanchor\":\"bottom\",\"yref\":\"paper\"},{\"font\":{\"size\":16},\"showarrow\":false,\"text\":\"Safety Index\",\"x\":0.10625,\"xanchor\":\"center\",\"xref\":\"paper\",\"y\":0.4375,\"yanchor\":\"bottom\",\"yref\":\"paper\"},{\"font\":{\"size\":16},\"showarrow\":false,\"text\":\"Cost of Living Index\",\"x\":0.36875,\"xanchor\":\"center\",\"xref\":\"paper\",\"y\":0.4375,\"yanchor\":\"bottom\",\"yref\":\"paper\"},{\"font\":{\"size\":16},\"showarrow\":false,\"text\":\"Rent Index\",\"x\":0.6312500000000001,\"xanchor\":\"center\",\"xref\":\"paper\",\"y\":0.4375,\"yanchor\":\"bottom\",\"yref\":\"paper\"},{\"font\":{\"size\":16},\"showarrow\":false,\"text\":\"Cost of Living Plus Rent Index\",\"x\":0.89375,\"xanchor\":\"center\",\"xref\":\"paper\",\"y\":0.4375,\"yanchor\":\"bottom\",\"yref\":\"paper\"},{\"font\":{\"size\":16},\"showarrow\":false,\"text\":\"Groceries Index\",\"x\":0.10625,\"xanchor\":\"center\",\"xref\":\"paper\",\"y\":0.15625,\"yanchor\":\"bottom\",\"yref\":\"paper\"},{\"font\":{\"size\":16},\"showarrow\":false,\"text\":\"Restaurant Index\",\"x\":0.36875,\"xanchor\":\"center\",\"xref\":\"paper\",\"y\":0.15625,\"yanchor\":\"bottom\",\"yref\":\"paper\"},{\"font\":{\"size\":16},\"showarrow\":false,\"text\":\"Local Purchasing Power Index\",\"x\":0.6312500000000001,\"xanchor\":\"center\",\"xref\":\"paper\",\"y\":0.15625,\"yanchor\":\"bottom\",\"yref\":\"paper\"}],\"title\":{\"text\":\"Milwaukee, WI, United States\"},\"height\":1500,\"width\":1500},                        {\"responsive\": true}                    ).then(function(){\n",
       "                            \n",
       "var gd = document.getElementById('c5801f48-2ee2-48a9-bd4a-c81f2d0477cc');\n",
       "var x = new MutationObserver(function (mutations, observer) {{\n",
       "        var display = window.getComputedStyle(gd).display;\n",
       "        if (!display || display === 'none') {{\n",
       "            console.log([gd, 'removed!']);\n",
       "            Plotly.purge(gd);\n",
       "            observer.disconnect();\n",
       "        }}\n",
       "}});\n",
       "\n",
       "// Listen for the removal of the full notebook cells\n",
       "var notebookContainer = gd.closest('#notebook-container');\n",
       "if (notebookContainer) {{\n",
       "    x.observe(notebookContainer, {childList: true});\n",
       "}}\n",
       "\n",
       "// Listen for the clearing of the current output cell\n",
       "var outputEl = gd.closest('.output');\n",
       "if (outputEl) {{\n",
       "    x.observe(outputEl, {childList: true});\n",
       "}}\n",
       "\n",
       "                        })                };                });            </script>        </div>"
      ]
     },
     "metadata": {},
     "output_type": "display_data"
    },
    {
     "data": {
      "application/vnd.plotly.v1+json": {
       "config": {
        "plotlyServerURL": "https://plot.ly"
       },
       "data": [
        {
         "mode": "lines+markers",
         "name": "Price to Income Ratio",
         "type": "scatter",
         "x": [
          "2013",
          "2014",
          "2014-mid",
          "2015",
          "2015-mid",
          "2016",
          "2017",
          "2017-mid",
          "2018",
          "2018-mid",
          "2019",
          "2019-mid",
          "2020",
          "2020-mid",
          "2021",
          "2021-mid",
          "2022",
          "2024",
          "2024-mid"
         ],
         "xaxis": "x",
         "y": [
          1.9,
          1.8,
          1.9,
          2.4,
          2.7,
          2.8,
          2.8,
          2.9,
          2.8,
          2.9,
          2.8,
          2.7,
          2.7,
          2.5,
          2.6,
          2.3,
          2.4,
          2.1,
          2.2
         ],
         "yaxis": "y"
        },
        {
         "mode": "lines+markers",
         "name": "Gross Rental Yield City Centre",
         "type": "scatter",
         "x": [
          "2013",
          "2014",
          "2014-mid",
          "2015",
          "2015-mid",
          "2016",
          "2017",
          "2017-mid",
          "2018",
          "2018-mid",
          "2019",
          "2019-mid",
          "2020",
          "2020-mid",
          "2021",
          "2021-mid",
          "2022",
          "2024",
          "2024-mid"
         ],
         "xaxis": "x2",
         "y": [
          13.4,
          12.5,
          10.7,
          10.9,
          8.5,
          12.6,
          13.6,
          13.7,
          12.6,
          11.9,
          12.3,
          12.1,
          12.2,
          12.1,
          11.5,
          11.9,
          11.5,
          18.7,
          17.9
         ],
         "yaxis": "y2"
        },
        {
         "mode": "lines+markers",
         "name": "Gross Rental Yield Outside Centre",
         "type": "scatter",
         "x": [
          "2013",
          "2014",
          "2014-mid",
          "2015",
          "2015-mid",
          "2016",
          "2017",
          "2017-mid",
          "2018",
          "2018-mid",
          "2019",
          "2019-mid",
          "2020",
          "2020-mid",
          "2021",
          "2021-mid",
          "2022",
          "2024",
          "2024-mid"
         ],
         "xaxis": "x3",
         "y": [
          13.2,
          13.7,
          11.8,
          11.9,
          12.3,
          10.8,
          10.9,
          10.6,
          10.1,
          9.7,
          10.1,
          10.4,
          9.9,
          10.4,
          9.8,
          10.4,
          10.4,
          15.2,
          13.6
         ],
         "yaxis": "y3"
        },
        {
         "mode": "lines+markers",
         "name": "Price to Rent Ratio City Centre",
         "type": "scatter",
         "x": [
          "2013",
          "2014",
          "2014-mid",
          "2015",
          "2015-mid",
          "2016",
          "2017",
          "2017-mid",
          "2018",
          "2018-mid",
          "2019",
          "2019-mid",
          "2020",
          "2020-mid",
          "2021",
          "2021-mid",
          "2022",
          "2024",
          "2024-mid"
         ],
         "xaxis": "x4",
         "y": [
          7.4,
          8,
          9.3,
          9.2,
          11.7,
          7.9,
          7.3,
          7.3,
          7.9,
          8.4,
          8.2,
          8.2,
          8.2,
          8.3,
          8.7,
          8.4,
          8.7,
          5.3,
          5.6
         ],
         "yaxis": "y4"
        },
        {
         "mode": "lines+markers",
         "name": "Price to Rent Ratio Outside City Centre",
         "type": "scatter",
         "x": [
          "2013",
          "2014",
          "2014-mid",
          "2015",
          "2015-mid",
          "2016",
          "2017",
          "2017-mid",
          "2018",
          "2018-mid",
          "2019",
          "2019-mid",
          "2020",
          "2020-mid",
          "2021",
          "2021-mid",
          "2022",
          "2024",
          "2024-mid"
         ],
         "xaxis": "x5",
         "y": [
          7.6,
          7.3,
          8.5,
          8.4,
          8.1,
          9.2,
          9.2,
          9.5,
          9.9,
          10.3,
          9.9,
          9.6,
          10.1,
          9.6,
          10.2,
          9.6,
          9.6,
          6.6,
          7.4
         ],
         "yaxis": "y5"
        },
        {
         "mode": "lines+markers",
         "name": "Mortgage as a Percentage of Income",
         "type": "scatter",
         "x": [
          "2013",
          "2014",
          "2014-mid",
          "2015",
          "2015-mid",
          "2016",
          "2017",
          "2017-mid",
          "2018",
          "2018-mid",
          "2019",
          "2019-mid",
          "2020",
          "2020-mid",
          "2021",
          "2021-mid",
          "2022",
          "2024",
          "2024-mid"
         ],
         "xaxis": "x6",
         "y": [
          "13.7",
          "13.6",
          "14.0",
          "18.0",
          "19.9",
          "19.9",
          "20.3",
          "21.0",
          "20.2",
          "21.6",
          "20.9",
          "19.6",
          "19.6",
          "18.0",
          "18.3",
          "16.1",
          "16.8",
          "18.3",
          "20.1"
         ],
         "yaxis": "y6"
        },
        {
         "mode": "lines+markers",
         "name": "Affordability Index",
         "type": "scatter",
         "x": [
          "2013",
          "2014",
          "2014-mid",
          "2015",
          "2015-mid",
          "2016",
          "2017",
          "2017-mid",
          "2018",
          "2018-mid",
          "2019",
          "2019-mid",
          "2020",
          "2020-mid",
          "2021",
          "2021-mid",
          "2022",
          "2024",
          "2024-mid"
         ],
         "xaxis": "x7",
         "y": [
          "7.3",
          "7.3",
          "7.1",
          "5.6",
          "5.0",
          "5.0",
          "4.9",
          "4.8",
          "5.0",
          "4.6",
          "4.8",
          "5.1",
          "5.1",
          "5.6",
          "5.5",
          "6.2",
          "5.9",
          "5.5",
          "5.0"
         ],
         "yaxis": "y7"
        },
        {
         "mode": "lines+markers",
         "name": "Crime Index",
         "type": "scatter",
         "x": [
          "2013",
          "2014",
          "2014-mid",
          "2015",
          "2015-mid",
          "2016",
          "2017",
          "2017-mid",
          "2018",
          "2018-mid",
          "2019",
          "2019-mid",
          "2020",
          "2020-mid",
          "2021",
          "2021-mid",
          "2022",
          "2024",
          "2024-mid"
         ],
         "xaxis": "x8",
         "y": [
          null,
          null,
          null,
          null,
          null,
          null,
          null,
          null,
          null,
          null,
          null,
          null,
          44.8,
          46,
          45.6,
          45.5,
          45.8,
          null,
          null
         ],
         "yaxis": "y8"
        },
        {
         "mode": "lines+markers",
         "name": "Safety Index",
         "type": "scatter",
         "x": [
          "2013",
          "2014",
          "2014-mid",
          "2015",
          "2015-mid",
          "2016",
          "2017",
          "2017-mid",
          "2018",
          "2018-mid",
          "2019",
          "2019-mid",
          "2020",
          "2020-mid",
          "2021",
          "2021-mid",
          "2022",
          "2024",
          "2024-mid"
         ],
         "xaxis": "x9",
         "y": [
          null,
          null,
          null,
          null,
          null,
          null,
          null,
          null,
          null,
          null,
          null,
          null,
          55.2,
          54,
          54.4,
          54.5,
          54.2,
          null,
          null
         ],
         "yaxis": "y9"
        },
        {
         "mode": "lines+markers",
         "name": "Cost of Living Index",
         "type": "scatter",
         "x": [
          "2013",
          "2014",
          "2014-mid",
          "2015",
          "2015-mid",
          "2016",
          "2017",
          "2017-mid",
          "2018",
          "2018-mid",
          "2019",
          "2019-mid",
          "2020",
          "2020-mid",
          "2021",
          "2021-mid",
          "2022",
          "2024",
          "2024-mid"
         ],
         "xaxis": "x10",
         "y": [
          null,
          null,
          null,
          null,
          null,
          null,
          null,
          null,
          null,
          null,
          null,
          null,
          null,
          null,
          null,
          null,
          null,
          null,
          null
         ],
         "yaxis": "y10"
        },
        {
         "mode": "lines+markers",
         "name": "Rent Index",
         "type": "scatter",
         "x": [
          "2013",
          "2014",
          "2014-mid",
          "2015",
          "2015-mid",
          "2016",
          "2017",
          "2017-mid",
          "2018",
          "2018-mid",
          "2019",
          "2019-mid",
          "2020",
          "2020-mid",
          "2021",
          "2021-mid",
          "2022",
          "2024",
          "2024-mid"
         ],
         "xaxis": "x11",
         "y": [
          null,
          null,
          null,
          null,
          null,
          null,
          null,
          null,
          null,
          null,
          null,
          null,
          null,
          null,
          null,
          null,
          null,
          null,
          null
         ],
         "yaxis": "y11"
        },
        {
         "mode": "lines+markers",
         "name": "Cost of Living Plus Rent Index",
         "type": "scatter",
         "x": [
          "2013",
          "2014",
          "2014-mid",
          "2015",
          "2015-mid",
          "2016",
          "2017",
          "2017-mid",
          "2018",
          "2018-mid",
          "2019",
          "2019-mid",
          "2020",
          "2020-mid",
          "2021",
          "2021-mid",
          "2022",
          "2024",
          "2024-mid"
         ],
         "xaxis": "x12",
         "y": [
          null,
          null,
          null,
          null,
          null,
          null,
          null,
          null,
          null,
          null,
          null,
          null,
          null,
          null,
          null,
          null,
          null,
          null,
          null
         ],
         "yaxis": "y12"
        },
        {
         "mode": "lines+markers",
         "name": "Groceries Index",
         "type": "scatter",
         "x": [
          "2013",
          "2014",
          "2014-mid",
          "2015",
          "2015-mid",
          "2016",
          "2017",
          "2017-mid",
          "2018",
          "2018-mid",
          "2019",
          "2019-mid",
          "2020",
          "2020-mid",
          "2021",
          "2021-mid",
          "2022",
          "2024",
          "2024-mid"
         ],
         "xaxis": "x13",
         "y": [
          null,
          null,
          null,
          null,
          null,
          null,
          null,
          null,
          null,
          null,
          null,
          null,
          null,
          null,
          null,
          null,
          null,
          null,
          null
         ],
         "yaxis": "y13"
        },
        {
         "mode": "lines+markers",
         "name": "Restaurant Index",
         "type": "scatter",
         "x": [
          "2013",
          "2014",
          "2014-mid",
          "2015",
          "2015-mid",
          "2016",
          "2017",
          "2017-mid",
          "2018",
          "2018-mid",
          "2019",
          "2019-mid",
          "2020",
          "2020-mid",
          "2021",
          "2021-mid",
          "2022",
          "2024",
          "2024-mid"
         ],
         "xaxis": "x14",
         "y": [
          null,
          null,
          null,
          null,
          null,
          null,
          null,
          null,
          null,
          null,
          null,
          null,
          null,
          null,
          null,
          null,
          null,
          null,
          null
         ],
         "yaxis": "y14"
        },
        {
         "mode": "lines+markers",
         "name": "Local Purchasing Power Index",
         "type": "scatter",
         "x": [
          "2013",
          "2014",
          "2014-mid",
          "2015",
          "2015-mid",
          "2016",
          "2017",
          "2017-mid",
          "2018",
          "2018-mid",
          "2019",
          "2019-mid",
          "2020",
          "2020-mid",
          "2021",
          "2021-mid",
          "2022",
          "2024",
          "2024-mid"
         ],
         "xaxis": "x15",
         "y": [
          null,
          null,
          null,
          null,
          null,
          null,
          null,
          null,
          null,
          null,
          null,
          null,
          null,
          null,
          null,
          null,
          null,
          null,
          null
         ],
         "yaxis": "y15"
        }
       ],
       "layout": {
        "annotations": [
         {
          "font": {
           "size": 16
          },
          "showarrow": false,
          "text": "Price to Income Ratio",
          "x": 0.10625,
          "xanchor": "center",
          "xref": "paper",
          "y": 1,
          "yanchor": "bottom",
          "yref": "paper"
         },
         {
          "font": {
           "size": 16
          },
          "showarrow": false,
          "text": "Gross Rental Yield City Centre",
          "x": 0.36875,
          "xanchor": "center",
          "xref": "paper",
          "y": 1,
          "yanchor": "bottom",
          "yref": "paper"
         },
         {
          "font": {
           "size": 16
          },
          "showarrow": false,
          "text": "Gross Rental Yield Outside Centre",
          "x": 0.6312500000000001,
          "xanchor": "center",
          "xref": "paper",
          "y": 1,
          "yanchor": "bottom",
          "yref": "paper"
         },
         {
          "font": {
           "size": 16
          },
          "showarrow": false,
          "text": "Price to Rent Ratio City Centre",
          "x": 0.89375,
          "xanchor": "center",
          "xref": "paper",
          "y": 1,
          "yanchor": "bottom",
          "yref": "paper"
         },
         {
          "font": {
           "size": 16
          },
          "showarrow": false,
          "text": "Price to Rent Ratio Outside City Centre",
          "x": 0.10625,
          "xanchor": "center",
          "xref": "paper",
          "y": 0.71875,
          "yanchor": "bottom",
          "yref": "paper"
         },
         {
          "font": {
           "size": 16
          },
          "showarrow": false,
          "text": "Mortgage as a Percentage of Income",
          "x": 0.36875,
          "xanchor": "center",
          "xref": "paper",
          "y": 0.71875,
          "yanchor": "bottom",
          "yref": "paper"
         },
         {
          "font": {
           "size": 16
          },
          "showarrow": false,
          "text": "Affordability Index",
          "x": 0.6312500000000001,
          "xanchor": "center",
          "xref": "paper",
          "y": 0.71875,
          "yanchor": "bottom",
          "yref": "paper"
         },
         {
          "font": {
           "size": 16
          },
          "showarrow": false,
          "text": "Crime Index",
          "x": 0.89375,
          "xanchor": "center",
          "xref": "paper",
          "y": 0.71875,
          "yanchor": "bottom",
          "yref": "paper"
         },
         {
          "font": {
           "size": 16
          },
          "showarrow": false,
          "text": "Safety Index",
          "x": 0.10625,
          "xanchor": "center",
          "xref": "paper",
          "y": 0.4375,
          "yanchor": "bottom",
          "yref": "paper"
         },
         {
          "font": {
           "size": 16
          },
          "showarrow": false,
          "text": "Cost of Living Index",
          "x": 0.36875,
          "xanchor": "center",
          "xref": "paper",
          "y": 0.4375,
          "yanchor": "bottom",
          "yref": "paper"
         },
         {
          "font": {
           "size": 16
          },
          "showarrow": false,
          "text": "Rent Index",
          "x": 0.6312500000000001,
          "xanchor": "center",
          "xref": "paper",
          "y": 0.4375,
          "yanchor": "bottom",
          "yref": "paper"
         },
         {
          "font": {
           "size": 16
          },
          "showarrow": false,
          "text": "Cost of Living Plus Rent Index",
          "x": 0.89375,
          "xanchor": "center",
          "xref": "paper",
          "y": 0.4375,
          "yanchor": "bottom",
          "yref": "paper"
         },
         {
          "font": {
           "size": 16
          },
          "showarrow": false,
          "text": "Groceries Index",
          "x": 0.10625,
          "xanchor": "center",
          "xref": "paper",
          "y": 0.15625,
          "yanchor": "bottom",
          "yref": "paper"
         },
         {
          "font": {
           "size": 16
          },
          "showarrow": false,
          "text": "Restaurant Index",
          "x": 0.36875,
          "xanchor": "center",
          "xref": "paper",
          "y": 0.15625,
          "yanchor": "bottom",
          "yref": "paper"
         },
         {
          "font": {
           "size": 16
          },
          "showarrow": false,
          "text": "Local Purchasing Power Index",
          "x": 0.6312500000000001,
          "xanchor": "center",
          "xref": "paper",
          "y": 0.15625,
          "yanchor": "bottom",
          "yref": "paper"
         }
        ],
        "height": 1500,
        "template": {
         "data": {
          "bar": [
           {
            "error_x": {
             "color": "#2a3f5f"
            },
            "error_y": {
             "color": "#2a3f5f"
            },
            "marker": {
             "line": {
              "color": "#E5ECF6",
              "width": 0.5
             },
             "pattern": {
              "fillmode": "overlay",
              "size": 10,
              "solidity": 0.2
             }
            },
            "type": "bar"
           }
          ],
          "barpolar": [
           {
            "marker": {
             "line": {
              "color": "#E5ECF6",
              "width": 0.5
             },
             "pattern": {
              "fillmode": "overlay",
              "size": 10,
              "solidity": 0.2
             }
            },
            "type": "barpolar"
           }
          ],
          "carpet": [
           {
            "aaxis": {
             "endlinecolor": "#2a3f5f",
             "gridcolor": "white",
             "linecolor": "white",
             "minorgridcolor": "white",
             "startlinecolor": "#2a3f5f"
            },
            "baxis": {
             "endlinecolor": "#2a3f5f",
             "gridcolor": "white",
             "linecolor": "white",
             "minorgridcolor": "white",
             "startlinecolor": "#2a3f5f"
            },
            "type": "carpet"
           }
          ],
          "choropleth": [
           {
            "colorbar": {
             "outlinewidth": 0,
             "ticks": ""
            },
            "type": "choropleth"
           }
          ],
          "contour": [
           {
            "colorbar": {
             "outlinewidth": 0,
             "ticks": ""
            },
            "colorscale": [
             [
              0,
              "#0d0887"
             ],
             [
              0.1111111111111111,
              "#46039f"
             ],
             [
              0.2222222222222222,
              "#7201a8"
             ],
             [
              0.3333333333333333,
              "#9c179e"
             ],
             [
              0.4444444444444444,
              "#bd3786"
             ],
             [
              0.5555555555555556,
              "#d8576b"
             ],
             [
              0.6666666666666666,
              "#ed7953"
             ],
             [
              0.7777777777777778,
              "#fb9f3a"
             ],
             [
              0.8888888888888888,
              "#fdca26"
             ],
             [
              1,
              "#f0f921"
             ]
            ],
            "type": "contour"
           }
          ],
          "contourcarpet": [
           {
            "colorbar": {
             "outlinewidth": 0,
             "ticks": ""
            },
            "type": "contourcarpet"
           }
          ],
          "heatmap": [
           {
            "colorbar": {
             "outlinewidth": 0,
             "ticks": ""
            },
            "colorscale": [
             [
              0,
              "#0d0887"
             ],
             [
              0.1111111111111111,
              "#46039f"
             ],
             [
              0.2222222222222222,
              "#7201a8"
             ],
             [
              0.3333333333333333,
              "#9c179e"
             ],
             [
              0.4444444444444444,
              "#bd3786"
             ],
             [
              0.5555555555555556,
              "#d8576b"
             ],
             [
              0.6666666666666666,
              "#ed7953"
             ],
             [
              0.7777777777777778,
              "#fb9f3a"
             ],
             [
              0.8888888888888888,
              "#fdca26"
             ],
             [
              1,
              "#f0f921"
             ]
            ],
            "type": "heatmap"
           }
          ],
          "heatmapgl": [
           {
            "colorbar": {
             "outlinewidth": 0,
             "ticks": ""
            },
            "colorscale": [
             [
              0,
              "#0d0887"
             ],
             [
              0.1111111111111111,
              "#46039f"
             ],
             [
              0.2222222222222222,
              "#7201a8"
             ],
             [
              0.3333333333333333,
              "#9c179e"
             ],
             [
              0.4444444444444444,
              "#bd3786"
             ],
             [
              0.5555555555555556,
              "#d8576b"
             ],
             [
              0.6666666666666666,
              "#ed7953"
             ],
             [
              0.7777777777777778,
              "#fb9f3a"
             ],
             [
              0.8888888888888888,
              "#fdca26"
             ],
             [
              1,
              "#f0f921"
             ]
            ],
            "type": "heatmapgl"
           }
          ],
          "histogram": [
           {
            "marker": {
             "pattern": {
              "fillmode": "overlay",
              "size": 10,
              "solidity": 0.2
             }
            },
            "type": "histogram"
           }
          ],
          "histogram2d": [
           {
            "colorbar": {
             "outlinewidth": 0,
             "ticks": ""
            },
            "colorscale": [
             [
              0,
              "#0d0887"
             ],
             [
              0.1111111111111111,
              "#46039f"
             ],
             [
              0.2222222222222222,
              "#7201a8"
             ],
             [
              0.3333333333333333,
              "#9c179e"
             ],
             [
              0.4444444444444444,
              "#bd3786"
             ],
             [
              0.5555555555555556,
              "#d8576b"
             ],
             [
              0.6666666666666666,
              "#ed7953"
             ],
             [
              0.7777777777777778,
              "#fb9f3a"
             ],
             [
              0.8888888888888888,
              "#fdca26"
             ],
             [
              1,
              "#f0f921"
             ]
            ],
            "type": "histogram2d"
           }
          ],
          "histogram2dcontour": [
           {
            "colorbar": {
             "outlinewidth": 0,
             "ticks": ""
            },
            "colorscale": [
             [
              0,
              "#0d0887"
             ],
             [
              0.1111111111111111,
              "#46039f"
             ],
             [
              0.2222222222222222,
              "#7201a8"
             ],
             [
              0.3333333333333333,
              "#9c179e"
             ],
             [
              0.4444444444444444,
              "#bd3786"
             ],
             [
              0.5555555555555556,
              "#d8576b"
             ],
             [
              0.6666666666666666,
              "#ed7953"
             ],
             [
              0.7777777777777778,
              "#fb9f3a"
             ],
             [
              0.8888888888888888,
              "#fdca26"
             ],
             [
              1,
              "#f0f921"
             ]
            ],
            "type": "histogram2dcontour"
           }
          ],
          "mesh3d": [
           {
            "colorbar": {
             "outlinewidth": 0,
             "ticks": ""
            },
            "type": "mesh3d"
           }
          ],
          "parcoords": [
           {
            "line": {
             "colorbar": {
              "outlinewidth": 0,
              "ticks": ""
             }
            },
            "type": "parcoords"
           }
          ],
          "pie": [
           {
            "automargin": true,
            "type": "pie"
           }
          ],
          "scatter": [
           {
            "fillpattern": {
             "fillmode": "overlay",
             "size": 10,
             "solidity": 0.2
            },
            "type": "scatter"
           }
          ],
          "scatter3d": [
           {
            "line": {
             "colorbar": {
              "outlinewidth": 0,
              "ticks": ""
             }
            },
            "marker": {
             "colorbar": {
              "outlinewidth": 0,
              "ticks": ""
             }
            },
            "type": "scatter3d"
           }
          ],
          "scattercarpet": [
           {
            "marker": {
             "colorbar": {
              "outlinewidth": 0,
              "ticks": ""
             }
            },
            "type": "scattercarpet"
           }
          ],
          "scattergeo": [
           {
            "marker": {
             "colorbar": {
              "outlinewidth": 0,
              "ticks": ""
             }
            },
            "type": "scattergeo"
           }
          ],
          "scattergl": [
           {
            "marker": {
             "colorbar": {
              "outlinewidth": 0,
              "ticks": ""
             }
            },
            "type": "scattergl"
           }
          ],
          "scattermapbox": [
           {
            "marker": {
             "colorbar": {
              "outlinewidth": 0,
              "ticks": ""
             }
            },
            "type": "scattermapbox"
           }
          ],
          "scatterpolar": [
           {
            "marker": {
             "colorbar": {
              "outlinewidth": 0,
              "ticks": ""
             }
            },
            "type": "scatterpolar"
           }
          ],
          "scatterpolargl": [
           {
            "marker": {
             "colorbar": {
              "outlinewidth": 0,
              "ticks": ""
             }
            },
            "type": "scatterpolargl"
           }
          ],
          "scatterternary": [
           {
            "marker": {
             "colorbar": {
              "outlinewidth": 0,
              "ticks": ""
             }
            },
            "type": "scatterternary"
           }
          ],
          "surface": [
           {
            "colorbar": {
             "outlinewidth": 0,
             "ticks": ""
            },
            "colorscale": [
             [
              0,
              "#0d0887"
             ],
             [
              0.1111111111111111,
              "#46039f"
             ],
             [
              0.2222222222222222,
              "#7201a8"
             ],
             [
              0.3333333333333333,
              "#9c179e"
             ],
             [
              0.4444444444444444,
              "#bd3786"
             ],
             [
              0.5555555555555556,
              "#d8576b"
             ],
             [
              0.6666666666666666,
              "#ed7953"
             ],
             [
              0.7777777777777778,
              "#fb9f3a"
             ],
             [
              0.8888888888888888,
              "#fdca26"
             ],
             [
              1,
              "#f0f921"
             ]
            ],
            "type": "surface"
           }
          ],
          "table": [
           {
            "cells": {
             "fill": {
              "color": "#EBF0F8"
             },
             "line": {
              "color": "white"
             }
            },
            "header": {
             "fill": {
              "color": "#C8D4E3"
             },
             "line": {
              "color": "white"
             }
            },
            "type": "table"
           }
          ]
         },
         "layout": {
          "annotationdefaults": {
           "arrowcolor": "#2a3f5f",
           "arrowhead": 0,
           "arrowwidth": 1
          },
          "autotypenumbers": "strict",
          "coloraxis": {
           "colorbar": {
            "outlinewidth": 0,
            "ticks": ""
           }
          },
          "colorscale": {
           "diverging": [
            [
             0,
             "#8e0152"
            ],
            [
             0.1,
             "#c51b7d"
            ],
            [
             0.2,
             "#de77ae"
            ],
            [
             0.3,
             "#f1b6da"
            ],
            [
             0.4,
             "#fde0ef"
            ],
            [
             0.5,
             "#f7f7f7"
            ],
            [
             0.6,
             "#e6f5d0"
            ],
            [
             0.7,
             "#b8e186"
            ],
            [
             0.8,
             "#7fbc41"
            ],
            [
             0.9,
             "#4d9221"
            ],
            [
             1,
             "#276419"
            ]
           ],
           "sequential": [
            [
             0,
             "#0d0887"
            ],
            [
             0.1111111111111111,
             "#46039f"
            ],
            [
             0.2222222222222222,
             "#7201a8"
            ],
            [
             0.3333333333333333,
             "#9c179e"
            ],
            [
             0.4444444444444444,
             "#bd3786"
            ],
            [
             0.5555555555555556,
             "#d8576b"
            ],
            [
             0.6666666666666666,
             "#ed7953"
            ],
            [
             0.7777777777777778,
             "#fb9f3a"
            ],
            [
             0.8888888888888888,
             "#fdca26"
            ],
            [
             1,
             "#f0f921"
            ]
           ],
           "sequentialminus": [
            [
             0,
             "#0d0887"
            ],
            [
             0.1111111111111111,
             "#46039f"
            ],
            [
             0.2222222222222222,
             "#7201a8"
            ],
            [
             0.3333333333333333,
             "#9c179e"
            ],
            [
             0.4444444444444444,
             "#bd3786"
            ],
            [
             0.5555555555555556,
             "#d8576b"
            ],
            [
             0.6666666666666666,
             "#ed7953"
            ],
            [
             0.7777777777777778,
             "#fb9f3a"
            ],
            [
             0.8888888888888888,
             "#fdca26"
            ],
            [
             1,
             "#f0f921"
            ]
           ]
          },
          "colorway": [
           "#636efa",
           "#EF553B",
           "#00cc96",
           "#ab63fa",
           "#FFA15A",
           "#19d3f3",
           "#FF6692",
           "#B6E880",
           "#FF97FF",
           "#FECB52"
          ],
          "font": {
           "color": "#2a3f5f"
          },
          "geo": {
           "bgcolor": "white",
           "lakecolor": "white",
           "landcolor": "#E5ECF6",
           "showlakes": true,
           "showland": true,
           "subunitcolor": "white"
          },
          "hoverlabel": {
           "align": "left"
          },
          "hovermode": "closest",
          "mapbox": {
           "style": "light"
          },
          "paper_bgcolor": "white",
          "plot_bgcolor": "#E5ECF6",
          "polar": {
           "angularaxis": {
            "gridcolor": "white",
            "linecolor": "white",
            "ticks": ""
           },
           "bgcolor": "#E5ECF6",
           "radialaxis": {
            "gridcolor": "white",
            "linecolor": "white",
            "ticks": ""
           }
          },
          "scene": {
           "xaxis": {
            "backgroundcolor": "#E5ECF6",
            "gridcolor": "white",
            "gridwidth": 2,
            "linecolor": "white",
            "showbackground": true,
            "ticks": "",
            "zerolinecolor": "white"
           },
           "yaxis": {
            "backgroundcolor": "#E5ECF6",
            "gridcolor": "white",
            "gridwidth": 2,
            "linecolor": "white",
            "showbackground": true,
            "ticks": "",
            "zerolinecolor": "white"
           },
           "zaxis": {
            "backgroundcolor": "#E5ECF6",
            "gridcolor": "white",
            "gridwidth": 2,
            "linecolor": "white",
            "showbackground": true,
            "ticks": "",
            "zerolinecolor": "white"
           }
          },
          "shapedefaults": {
           "line": {
            "color": "#2a3f5f"
           }
          },
          "ternary": {
           "aaxis": {
            "gridcolor": "white",
            "linecolor": "white",
            "ticks": ""
           },
           "baxis": {
            "gridcolor": "white",
            "linecolor": "white",
            "ticks": ""
           },
           "bgcolor": "#E5ECF6",
           "caxis": {
            "gridcolor": "white",
            "linecolor": "white",
            "ticks": ""
           }
          },
          "title": {
           "x": 0.05
          },
          "xaxis": {
           "automargin": true,
           "gridcolor": "white",
           "linecolor": "white",
           "ticks": "",
           "title": {
            "standoff": 15
           },
           "zerolinecolor": "white",
           "zerolinewidth": 2
          },
          "yaxis": {
           "automargin": true,
           "gridcolor": "white",
           "linecolor": "white",
           "ticks": "",
           "title": {
            "standoff": 15
           },
           "zerolinecolor": "white",
           "zerolinewidth": 2
          }
         }
        },
        "title": {
         "text": "Omaha, NE, United States"
        },
        "width": 1500,
        "xaxis": {
         "anchor": "y",
         "domain": [
          0,
          0.2125
         ],
         "title": {
          "text": "Year"
         }
        },
        "xaxis10": {
         "anchor": "y10",
         "domain": [
          0.2625,
          0.475
         ],
         "title": {
          "text": "Year"
         }
        },
        "xaxis11": {
         "anchor": "y11",
         "domain": [
          0.525,
          0.7375
         ],
         "title": {
          "text": "Year"
         }
        },
        "xaxis12": {
         "anchor": "y12",
         "domain": [
          0.7875,
          1
         ],
         "title": {
          "text": "Year"
         }
        },
        "xaxis13": {
         "anchor": "y13",
         "domain": [
          0,
          0.2125
         ],
         "title": {
          "text": "Year"
         }
        },
        "xaxis14": {
         "anchor": "y14",
         "domain": [
          0.2625,
          0.475
         ],
         "title": {
          "text": "Year"
         }
        },
        "xaxis15": {
         "anchor": "y15",
         "domain": [
          0.525,
          0.7375
         ],
         "title": {
          "text": "Year"
         }
        },
        "xaxis16": {
         "anchor": "y16",
         "domain": [
          0.7875,
          1
         ]
        },
        "xaxis2": {
         "anchor": "y2",
         "domain": [
          0.2625,
          0.475
         ],
         "title": {
          "text": "Year"
         }
        },
        "xaxis3": {
         "anchor": "y3",
         "domain": [
          0.525,
          0.7375
         ],
         "title": {
          "text": "Year"
         }
        },
        "xaxis4": {
         "anchor": "y4",
         "domain": [
          0.7875,
          1
         ],
         "title": {
          "text": "Year"
         }
        },
        "xaxis5": {
         "anchor": "y5",
         "domain": [
          0,
          0.2125
         ],
         "title": {
          "text": "Year"
         }
        },
        "xaxis6": {
         "anchor": "y6",
         "domain": [
          0.2625,
          0.475
         ],
         "title": {
          "text": "Year"
         }
        },
        "xaxis7": {
         "anchor": "y7",
         "domain": [
          0.525,
          0.7375
         ],
         "title": {
          "text": "Year"
         }
        },
        "xaxis8": {
         "anchor": "y8",
         "domain": [
          0.7875,
          1
         ],
         "title": {
          "text": "Year"
         }
        },
        "xaxis9": {
         "anchor": "y9",
         "domain": [
          0,
          0.2125
         ],
         "title": {
          "text": "Year"
         }
        },
        "yaxis": {
         "anchor": "x",
         "domain": [
          0.84375,
          1
         ],
         "title": {
          "text": "Price to Income Ratio"
         }
        },
        "yaxis10": {
         "anchor": "x10",
         "domain": [
          0.28125,
          0.4375
         ],
         "title": {
          "text": "Cost of Living Index"
         }
        },
        "yaxis11": {
         "anchor": "x11",
         "domain": [
          0.28125,
          0.4375
         ],
         "title": {
          "text": "Rent Index"
         }
        },
        "yaxis12": {
         "anchor": "x12",
         "domain": [
          0.28125,
          0.4375
         ],
         "title": {
          "text": "Cost of Living Plus Rent Index"
         }
        },
        "yaxis13": {
         "anchor": "x13",
         "domain": [
          0,
          0.15625
         ],
         "title": {
          "text": "Groceries Index"
         }
        },
        "yaxis14": {
         "anchor": "x14",
         "domain": [
          0,
          0.15625
         ],
         "title": {
          "text": "Restaurant Index"
         }
        },
        "yaxis15": {
         "anchor": "x15",
         "domain": [
          0,
          0.15625
         ],
         "title": {
          "text": "Local Purchasing Power Index"
         }
        },
        "yaxis16": {
         "anchor": "x16",
         "domain": [
          0,
          0.15625
         ]
        },
        "yaxis2": {
         "anchor": "x2",
         "domain": [
          0.84375,
          1
         ],
         "title": {
          "text": "Gross Rental Yield City Centre"
         }
        },
        "yaxis3": {
         "anchor": "x3",
         "domain": [
          0.84375,
          1
         ],
         "title": {
          "text": "Gross Rental Yield Outside Centre"
         }
        },
        "yaxis4": {
         "anchor": "x4",
         "domain": [
          0.84375,
          1
         ],
         "title": {
          "text": "Price to Rent Ratio City Centre"
         }
        },
        "yaxis5": {
         "anchor": "x5",
         "domain": [
          0.5625,
          0.71875
         ],
         "title": {
          "text": "Price to Rent Ratio Outside City Centre"
         }
        },
        "yaxis6": {
         "anchor": "x6",
         "domain": [
          0.5625,
          0.71875
         ],
         "title": {
          "text": "Mortgage as a Percentage of Income"
         }
        },
        "yaxis7": {
         "anchor": "x7",
         "domain": [
          0.5625,
          0.71875
         ],
         "title": {
          "text": "Affordability Index"
         }
        },
        "yaxis8": {
         "anchor": "x8",
         "domain": [
          0.5625,
          0.71875
         ],
         "title": {
          "text": "Crime Index"
         }
        },
        "yaxis9": {
         "anchor": "x9",
         "domain": [
          0.28125,
          0.4375
         ],
         "title": {
          "text": "Safety Index"
         }
        }
       }
      },
      "text/html": [
       "<div>                            <div id=\"fc9e8133-b256-452e-813c-3c452b00bdfb\" class=\"plotly-graph-div\" style=\"height:1500px; width:1500px;\"></div>            <script type=\"text/javascript\">                require([\"plotly\"], function(Plotly) {                    window.PLOTLYENV=window.PLOTLYENV || {};                                    if (document.getElementById(\"fc9e8133-b256-452e-813c-3c452b00bdfb\")) {                    Plotly.newPlot(                        \"fc9e8133-b256-452e-813c-3c452b00bdfb\",                        [{\"mode\":\"lines+markers\",\"name\":\"Price to Income Ratio\",\"x\":[\"2013\",\"2014\",\"2014-mid\",\"2015\",\"2015-mid\",\"2016\",\"2017\",\"2017-mid\",\"2018\",\"2018-mid\",\"2019\",\"2019-mid\",\"2020\",\"2020-mid\",\"2021\",\"2021-mid\",\"2022\",\"2024\",\"2024-mid\"],\"y\":[1.9,1.8,1.9,2.4,2.7,2.8,2.8,2.9,2.8,2.9,2.8,2.7,2.7,2.5,2.6,2.3,2.4,2.1,2.2],\"type\":\"scatter\",\"xaxis\":\"x\",\"yaxis\":\"y\"},{\"mode\":\"lines+markers\",\"name\":\"Gross Rental Yield City Centre\",\"x\":[\"2013\",\"2014\",\"2014-mid\",\"2015\",\"2015-mid\",\"2016\",\"2017\",\"2017-mid\",\"2018\",\"2018-mid\",\"2019\",\"2019-mid\",\"2020\",\"2020-mid\",\"2021\",\"2021-mid\",\"2022\",\"2024\",\"2024-mid\"],\"y\":[13.4,12.5,10.7,10.9,8.5,12.6,13.6,13.7,12.6,11.9,12.3,12.1,12.2,12.1,11.5,11.9,11.5,18.7,17.9],\"type\":\"scatter\",\"xaxis\":\"x2\",\"yaxis\":\"y2\"},{\"mode\":\"lines+markers\",\"name\":\"Gross Rental Yield Outside Centre\",\"x\":[\"2013\",\"2014\",\"2014-mid\",\"2015\",\"2015-mid\",\"2016\",\"2017\",\"2017-mid\",\"2018\",\"2018-mid\",\"2019\",\"2019-mid\",\"2020\",\"2020-mid\",\"2021\",\"2021-mid\",\"2022\",\"2024\",\"2024-mid\"],\"y\":[13.2,13.7,11.8,11.9,12.3,10.8,10.9,10.6,10.1,9.7,10.1,10.4,9.9,10.4,9.8,10.4,10.4,15.2,13.6],\"type\":\"scatter\",\"xaxis\":\"x3\",\"yaxis\":\"y3\"},{\"mode\":\"lines+markers\",\"name\":\"Price to Rent Ratio City Centre\",\"x\":[\"2013\",\"2014\",\"2014-mid\",\"2015\",\"2015-mid\",\"2016\",\"2017\",\"2017-mid\",\"2018\",\"2018-mid\",\"2019\",\"2019-mid\",\"2020\",\"2020-mid\",\"2021\",\"2021-mid\",\"2022\",\"2024\",\"2024-mid\"],\"y\":[7.4,8.0,9.3,9.2,11.7,7.9,7.3,7.3,7.9,8.4,8.2,8.2,8.2,8.3,8.7,8.4,8.7,5.3,5.6],\"type\":\"scatter\",\"xaxis\":\"x4\",\"yaxis\":\"y4\"},{\"mode\":\"lines+markers\",\"name\":\"Price to Rent Ratio Outside City Centre\",\"x\":[\"2013\",\"2014\",\"2014-mid\",\"2015\",\"2015-mid\",\"2016\",\"2017\",\"2017-mid\",\"2018\",\"2018-mid\",\"2019\",\"2019-mid\",\"2020\",\"2020-mid\",\"2021\",\"2021-mid\",\"2022\",\"2024\",\"2024-mid\"],\"y\":[7.6,7.3,8.5,8.4,8.1,9.2,9.2,9.5,9.9,10.3,9.9,9.6,10.1,9.6,10.2,9.6,9.6,6.6,7.4],\"type\":\"scatter\",\"xaxis\":\"x5\",\"yaxis\":\"y5\"},{\"mode\":\"lines+markers\",\"name\":\"Mortgage as a Percentage of Income\",\"x\":[\"2013\",\"2014\",\"2014-mid\",\"2015\",\"2015-mid\",\"2016\",\"2017\",\"2017-mid\",\"2018\",\"2018-mid\",\"2019\",\"2019-mid\",\"2020\",\"2020-mid\",\"2021\",\"2021-mid\",\"2022\",\"2024\",\"2024-mid\"],\"y\":[\"13.7\",\"13.6\",\"14.0\",\"18.0\",\"19.9\",\"19.9\",\"20.3\",\"21.0\",\"20.2\",\"21.6\",\"20.9\",\"19.6\",\"19.6\",\"18.0\",\"18.3\",\"16.1\",\"16.8\",\"18.3\",\"20.1\"],\"type\":\"scatter\",\"xaxis\":\"x6\",\"yaxis\":\"y6\"},{\"mode\":\"lines+markers\",\"name\":\"Affordability Index\",\"x\":[\"2013\",\"2014\",\"2014-mid\",\"2015\",\"2015-mid\",\"2016\",\"2017\",\"2017-mid\",\"2018\",\"2018-mid\",\"2019\",\"2019-mid\",\"2020\",\"2020-mid\",\"2021\",\"2021-mid\",\"2022\",\"2024\",\"2024-mid\"],\"y\":[\"7.3\",\"7.3\",\"7.1\",\"5.6\",\"5.0\",\"5.0\",\"4.9\",\"4.8\",\"5.0\",\"4.6\",\"4.8\",\"5.1\",\"5.1\",\"5.6\",\"5.5\",\"6.2\",\"5.9\",\"5.5\",\"5.0\"],\"type\":\"scatter\",\"xaxis\":\"x7\",\"yaxis\":\"y7\"},{\"mode\":\"lines+markers\",\"name\":\"Crime Index\",\"x\":[\"2013\",\"2014\",\"2014-mid\",\"2015\",\"2015-mid\",\"2016\",\"2017\",\"2017-mid\",\"2018\",\"2018-mid\",\"2019\",\"2019-mid\",\"2020\",\"2020-mid\",\"2021\",\"2021-mid\",\"2022\",\"2024\",\"2024-mid\"],\"y\":[null,null,null,null,null,null,null,null,null,null,null,null,44.8,46.0,45.6,45.5,45.8,null,null],\"type\":\"scatter\",\"xaxis\":\"x8\",\"yaxis\":\"y8\"},{\"mode\":\"lines+markers\",\"name\":\"Safety Index\",\"x\":[\"2013\",\"2014\",\"2014-mid\",\"2015\",\"2015-mid\",\"2016\",\"2017\",\"2017-mid\",\"2018\",\"2018-mid\",\"2019\",\"2019-mid\",\"2020\",\"2020-mid\",\"2021\",\"2021-mid\",\"2022\",\"2024\",\"2024-mid\"],\"y\":[null,null,null,null,null,null,null,null,null,null,null,null,55.2,54.0,54.4,54.5,54.2,null,null],\"type\":\"scatter\",\"xaxis\":\"x9\",\"yaxis\":\"y9\"},{\"mode\":\"lines+markers\",\"name\":\"Cost of Living Index\",\"x\":[\"2013\",\"2014\",\"2014-mid\",\"2015\",\"2015-mid\",\"2016\",\"2017\",\"2017-mid\",\"2018\",\"2018-mid\",\"2019\",\"2019-mid\",\"2020\",\"2020-mid\",\"2021\",\"2021-mid\",\"2022\",\"2024\",\"2024-mid\"],\"y\":[null,null,null,null,null,null,null,null,null,null,null,null,null,null,null,null,null,null,null],\"type\":\"scatter\",\"xaxis\":\"x10\",\"yaxis\":\"y10\"},{\"mode\":\"lines+markers\",\"name\":\"Rent Index\",\"x\":[\"2013\",\"2014\",\"2014-mid\",\"2015\",\"2015-mid\",\"2016\",\"2017\",\"2017-mid\",\"2018\",\"2018-mid\",\"2019\",\"2019-mid\",\"2020\",\"2020-mid\",\"2021\",\"2021-mid\",\"2022\",\"2024\",\"2024-mid\"],\"y\":[null,null,null,null,null,null,null,null,null,null,null,null,null,null,null,null,null,null,null],\"type\":\"scatter\",\"xaxis\":\"x11\",\"yaxis\":\"y11\"},{\"mode\":\"lines+markers\",\"name\":\"Cost of Living Plus Rent Index\",\"x\":[\"2013\",\"2014\",\"2014-mid\",\"2015\",\"2015-mid\",\"2016\",\"2017\",\"2017-mid\",\"2018\",\"2018-mid\",\"2019\",\"2019-mid\",\"2020\",\"2020-mid\",\"2021\",\"2021-mid\",\"2022\",\"2024\",\"2024-mid\"],\"y\":[null,null,null,null,null,null,null,null,null,null,null,null,null,null,null,null,null,null,null],\"type\":\"scatter\",\"xaxis\":\"x12\",\"yaxis\":\"y12\"},{\"mode\":\"lines+markers\",\"name\":\"Groceries Index\",\"x\":[\"2013\",\"2014\",\"2014-mid\",\"2015\",\"2015-mid\",\"2016\",\"2017\",\"2017-mid\",\"2018\",\"2018-mid\",\"2019\",\"2019-mid\",\"2020\",\"2020-mid\",\"2021\",\"2021-mid\",\"2022\",\"2024\",\"2024-mid\"],\"y\":[null,null,null,null,null,null,null,null,null,null,null,null,null,null,null,null,null,null,null],\"type\":\"scatter\",\"xaxis\":\"x13\",\"yaxis\":\"y13\"},{\"mode\":\"lines+markers\",\"name\":\"Restaurant Index\",\"x\":[\"2013\",\"2014\",\"2014-mid\",\"2015\",\"2015-mid\",\"2016\",\"2017\",\"2017-mid\",\"2018\",\"2018-mid\",\"2019\",\"2019-mid\",\"2020\",\"2020-mid\",\"2021\",\"2021-mid\",\"2022\",\"2024\",\"2024-mid\"],\"y\":[null,null,null,null,null,null,null,null,null,null,null,null,null,null,null,null,null,null,null],\"type\":\"scatter\",\"xaxis\":\"x14\",\"yaxis\":\"y14\"},{\"mode\":\"lines+markers\",\"name\":\"Local Purchasing Power Index\",\"x\":[\"2013\",\"2014\",\"2014-mid\",\"2015\",\"2015-mid\",\"2016\",\"2017\",\"2017-mid\",\"2018\",\"2018-mid\",\"2019\",\"2019-mid\",\"2020\",\"2020-mid\",\"2021\",\"2021-mid\",\"2022\",\"2024\",\"2024-mid\"],\"y\":[null,null,null,null,null,null,null,null,null,null,null,null,null,null,null,null,null,null,null],\"type\":\"scatter\",\"xaxis\":\"x15\",\"yaxis\":\"y15\"}],                        {\"template\":{\"data\":{\"histogram2dcontour\":[{\"type\":\"histogram2dcontour\",\"colorbar\":{\"outlinewidth\":0,\"ticks\":\"\"},\"colorscale\":[[0.0,\"#0d0887\"],[0.1111111111111111,\"#46039f\"],[0.2222222222222222,\"#7201a8\"],[0.3333333333333333,\"#9c179e\"],[0.4444444444444444,\"#bd3786\"],[0.5555555555555556,\"#d8576b\"],[0.6666666666666666,\"#ed7953\"],[0.7777777777777778,\"#fb9f3a\"],[0.8888888888888888,\"#fdca26\"],[1.0,\"#f0f921\"]]}],\"choropleth\":[{\"type\":\"choropleth\",\"colorbar\":{\"outlinewidth\":0,\"ticks\":\"\"}}],\"histogram2d\":[{\"type\":\"histogram2d\",\"colorbar\":{\"outlinewidth\":0,\"ticks\":\"\"},\"colorscale\":[[0.0,\"#0d0887\"],[0.1111111111111111,\"#46039f\"],[0.2222222222222222,\"#7201a8\"],[0.3333333333333333,\"#9c179e\"],[0.4444444444444444,\"#bd3786\"],[0.5555555555555556,\"#d8576b\"],[0.6666666666666666,\"#ed7953\"],[0.7777777777777778,\"#fb9f3a\"],[0.8888888888888888,\"#fdca26\"],[1.0,\"#f0f921\"]]}],\"heatmap\":[{\"type\":\"heatmap\",\"colorbar\":{\"outlinewidth\":0,\"ticks\":\"\"},\"colorscale\":[[0.0,\"#0d0887\"],[0.1111111111111111,\"#46039f\"],[0.2222222222222222,\"#7201a8\"],[0.3333333333333333,\"#9c179e\"],[0.4444444444444444,\"#bd3786\"],[0.5555555555555556,\"#d8576b\"],[0.6666666666666666,\"#ed7953\"],[0.7777777777777778,\"#fb9f3a\"],[0.8888888888888888,\"#fdca26\"],[1.0,\"#f0f921\"]]}],\"heatmapgl\":[{\"type\":\"heatmapgl\",\"colorbar\":{\"outlinewidth\":0,\"ticks\":\"\"},\"colorscale\":[[0.0,\"#0d0887\"],[0.1111111111111111,\"#46039f\"],[0.2222222222222222,\"#7201a8\"],[0.3333333333333333,\"#9c179e\"],[0.4444444444444444,\"#bd3786\"],[0.5555555555555556,\"#d8576b\"],[0.6666666666666666,\"#ed7953\"],[0.7777777777777778,\"#fb9f3a\"],[0.8888888888888888,\"#fdca26\"],[1.0,\"#f0f921\"]]}],\"contourcarpet\":[{\"type\":\"contourcarpet\",\"colorbar\":{\"outlinewidth\":0,\"ticks\":\"\"}}],\"contour\":[{\"type\":\"contour\",\"colorbar\":{\"outlinewidth\":0,\"ticks\":\"\"},\"colorscale\":[[0.0,\"#0d0887\"],[0.1111111111111111,\"#46039f\"],[0.2222222222222222,\"#7201a8\"],[0.3333333333333333,\"#9c179e\"],[0.4444444444444444,\"#bd3786\"],[0.5555555555555556,\"#d8576b\"],[0.6666666666666666,\"#ed7953\"],[0.7777777777777778,\"#fb9f3a\"],[0.8888888888888888,\"#fdca26\"],[1.0,\"#f0f921\"]]}],\"surface\":[{\"type\":\"surface\",\"colorbar\":{\"outlinewidth\":0,\"ticks\":\"\"},\"colorscale\":[[0.0,\"#0d0887\"],[0.1111111111111111,\"#46039f\"],[0.2222222222222222,\"#7201a8\"],[0.3333333333333333,\"#9c179e\"],[0.4444444444444444,\"#bd3786\"],[0.5555555555555556,\"#d8576b\"],[0.6666666666666666,\"#ed7953\"],[0.7777777777777778,\"#fb9f3a\"],[0.8888888888888888,\"#fdca26\"],[1.0,\"#f0f921\"]]}],\"mesh3d\":[{\"type\":\"mesh3d\",\"colorbar\":{\"outlinewidth\":0,\"ticks\":\"\"}}],\"scatter\":[{\"fillpattern\":{\"fillmode\":\"overlay\",\"size\":10,\"solidity\":0.2},\"type\":\"scatter\"}],\"parcoords\":[{\"type\":\"parcoords\",\"line\":{\"colorbar\":{\"outlinewidth\":0,\"ticks\":\"\"}}}],\"scatterpolargl\":[{\"type\":\"scatterpolargl\",\"marker\":{\"colorbar\":{\"outlinewidth\":0,\"ticks\":\"\"}}}],\"bar\":[{\"error_x\":{\"color\":\"#2a3f5f\"},\"error_y\":{\"color\":\"#2a3f5f\"},\"marker\":{\"line\":{\"color\":\"#E5ECF6\",\"width\":0.5},\"pattern\":{\"fillmode\":\"overlay\",\"size\":10,\"solidity\":0.2}},\"type\":\"bar\"}],\"scattergeo\":[{\"type\":\"scattergeo\",\"marker\":{\"colorbar\":{\"outlinewidth\":0,\"ticks\":\"\"}}}],\"scatterpolar\":[{\"type\":\"scatterpolar\",\"marker\":{\"colorbar\":{\"outlinewidth\":0,\"ticks\":\"\"}}}],\"histogram\":[{\"marker\":{\"pattern\":{\"fillmode\":\"overlay\",\"size\":10,\"solidity\":0.2}},\"type\":\"histogram\"}],\"scattergl\":[{\"type\":\"scattergl\",\"marker\":{\"colorbar\":{\"outlinewidth\":0,\"ticks\":\"\"}}}],\"scatter3d\":[{\"type\":\"scatter3d\",\"line\":{\"colorbar\":{\"outlinewidth\":0,\"ticks\":\"\"}},\"marker\":{\"colorbar\":{\"outlinewidth\":0,\"ticks\":\"\"}}}],\"scattermapbox\":[{\"type\":\"scattermapbox\",\"marker\":{\"colorbar\":{\"outlinewidth\":0,\"ticks\":\"\"}}}],\"scatterternary\":[{\"type\":\"scatterternary\",\"marker\":{\"colorbar\":{\"outlinewidth\":0,\"ticks\":\"\"}}}],\"scattercarpet\":[{\"type\":\"scattercarpet\",\"marker\":{\"colorbar\":{\"outlinewidth\":0,\"ticks\":\"\"}}}],\"carpet\":[{\"aaxis\":{\"endlinecolor\":\"#2a3f5f\",\"gridcolor\":\"white\",\"linecolor\":\"white\",\"minorgridcolor\":\"white\",\"startlinecolor\":\"#2a3f5f\"},\"baxis\":{\"endlinecolor\":\"#2a3f5f\",\"gridcolor\":\"white\",\"linecolor\":\"white\",\"minorgridcolor\":\"white\",\"startlinecolor\":\"#2a3f5f\"},\"type\":\"carpet\"}],\"table\":[{\"cells\":{\"fill\":{\"color\":\"#EBF0F8\"},\"line\":{\"color\":\"white\"}},\"header\":{\"fill\":{\"color\":\"#C8D4E3\"},\"line\":{\"color\":\"white\"}},\"type\":\"table\"}],\"barpolar\":[{\"marker\":{\"line\":{\"color\":\"#E5ECF6\",\"width\":0.5},\"pattern\":{\"fillmode\":\"overlay\",\"size\":10,\"solidity\":0.2}},\"type\":\"barpolar\"}],\"pie\":[{\"automargin\":true,\"type\":\"pie\"}]},\"layout\":{\"autotypenumbers\":\"strict\",\"colorway\":[\"#636efa\",\"#EF553B\",\"#00cc96\",\"#ab63fa\",\"#FFA15A\",\"#19d3f3\",\"#FF6692\",\"#B6E880\",\"#FF97FF\",\"#FECB52\"],\"font\":{\"color\":\"#2a3f5f\"},\"hovermode\":\"closest\",\"hoverlabel\":{\"align\":\"left\"},\"paper_bgcolor\":\"white\",\"plot_bgcolor\":\"#E5ECF6\",\"polar\":{\"bgcolor\":\"#E5ECF6\",\"angularaxis\":{\"gridcolor\":\"white\",\"linecolor\":\"white\",\"ticks\":\"\"},\"radialaxis\":{\"gridcolor\":\"white\",\"linecolor\":\"white\",\"ticks\":\"\"}},\"ternary\":{\"bgcolor\":\"#E5ECF6\",\"aaxis\":{\"gridcolor\":\"white\",\"linecolor\":\"white\",\"ticks\":\"\"},\"baxis\":{\"gridcolor\":\"white\",\"linecolor\":\"white\",\"ticks\":\"\"},\"caxis\":{\"gridcolor\":\"white\",\"linecolor\":\"white\",\"ticks\":\"\"}},\"coloraxis\":{\"colorbar\":{\"outlinewidth\":0,\"ticks\":\"\"}},\"colorscale\":{\"sequential\":[[0.0,\"#0d0887\"],[0.1111111111111111,\"#46039f\"],[0.2222222222222222,\"#7201a8\"],[0.3333333333333333,\"#9c179e\"],[0.4444444444444444,\"#bd3786\"],[0.5555555555555556,\"#d8576b\"],[0.6666666666666666,\"#ed7953\"],[0.7777777777777778,\"#fb9f3a\"],[0.8888888888888888,\"#fdca26\"],[1.0,\"#f0f921\"]],\"sequentialminus\":[[0.0,\"#0d0887\"],[0.1111111111111111,\"#46039f\"],[0.2222222222222222,\"#7201a8\"],[0.3333333333333333,\"#9c179e\"],[0.4444444444444444,\"#bd3786\"],[0.5555555555555556,\"#d8576b\"],[0.6666666666666666,\"#ed7953\"],[0.7777777777777778,\"#fb9f3a\"],[0.8888888888888888,\"#fdca26\"],[1.0,\"#f0f921\"]],\"diverging\":[[0,\"#8e0152\"],[0.1,\"#c51b7d\"],[0.2,\"#de77ae\"],[0.3,\"#f1b6da\"],[0.4,\"#fde0ef\"],[0.5,\"#f7f7f7\"],[0.6,\"#e6f5d0\"],[0.7,\"#b8e186\"],[0.8,\"#7fbc41\"],[0.9,\"#4d9221\"],[1,\"#276419\"]]},\"xaxis\":{\"gridcolor\":\"white\",\"linecolor\":\"white\",\"ticks\":\"\",\"title\":{\"standoff\":15},\"zerolinecolor\":\"white\",\"automargin\":true,\"zerolinewidth\":2},\"yaxis\":{\"gridcolor\":\"white\",\"linecolor\":\"white\",\"ticks\":\"\",\"title\":{\"standoff\":15},\"zerolinecolor\":\"white\",\"automargin\":true,\"zerolinewidth\":2},\"scene\":{\"xaxis\":{\"backgroundcolor\":\"#E5ECF6\",\"gridcolor\":\"white\",\"linecolor\":\"white\",\"showbackground\":true,\"ticks\":\"\",\"zerolinecolor\":\"white\",\"gridwidth\":2},\"yaxis\":{\"backgroundcolor\":\"#E5ECF6\",\"gridcolor\":\"white\",\"linecolor\":\"white\",\"showbackground\":true,\"ticks\":\"\",\"zerolinecolor\":\"white\",\"gridwidth\":2},\"zaxis\":{\"backgroundcolor\":\"#E5ECF6\",\"gridcolor\":\"white\",\"linecolor\":\"white\",\"showbackground\":true,\"ticks\":\"\",\"zerolinecolor\":\"white\",\"gridwidth\":2}},\"shapedefaults\":{\"line\":{\"color\":\"#2a3f5f\"}},\"annotationdefaults\":{\"arrowcolor\":\"#2a3f5f\",\"arrowhead\":0,\"arrowwidth\":1},\"geo\":{\"bgcolor\":\"white\",\"landcolor\":\"#E5ECF6\",\"subunitcolor\":\"white\",\"showland\":true,\"showlakes\":true,\"lakecolor\":\"white\"},\"title\":{\"x\":0.05},\"mapbox\":{\"style\":\"light\"}}},\"xaxis\":{\"anchor\":\"y\",\"domain\":[0.0,0.2125],\"title\":{\"text\":\"Year\"}},\"yaxis\":{\"anchor\":\"x\",\"domain\":[0.84375,1.0],\"title\":{\"text\":\"Price to Income Ratio\"}},\"xaxis2\":{\"anchor\":\"y2\",\"domain\":[0.2625,0.475],\"title\":{\"text\":\"Year\"}},\"yaxis2\":{\"anchor\":\"x2\",\"domain\":[0.84375,1.0],\"title\":{\"text\":\"Gross Rental Yield City Centre\"}},\"xaxis3\":{\"anchor\":\"y3\",\"domain\":[0.525,0.7375],\"title\":{\"text\":\"Year\"}},\"yaxis3\":{\"anchor\":\"x3\",\"domain\":[0.84375,1.0],\"title\":{\"text\":\"Gross Rental Yield Outside Centre\"}},\"xaxis4\":{\"anchor\":\"y4\",\"domain\":[0.7875,1.0],\"title\":{\"text\":\"Year\"}},\"yaxis4\":{\"anchor\":\"x4\",\"domain\":[0.84375,1.0],\"title\":{\"text\":\"Price to Rent Ratio City Centre\"}},\"xaxis5\":{\"anchor\":\"y5\",\"domain\":[0.0,0.2125],\"title\":{\"text\":\"Year\"}},\"yaxis5\":{\"anchor\":\"x5\",\"domain\":[0.5625,0.71875],\"title\":{\"text\":\"Price to Rent Ratio Outside City Centre\"}},\"xaxis6\":{\"anchor\":\"y6\",\"domain\":[0.2625,0.475],\"title\":{\"text\":\"Year\"}},\"yaxis6\":{\"anchor\":\"x6\",\"domain\":[0.5625,0.71875],\"title\":{\"text\":\"Mortgage as a Percentage of Income\"}},\"xaxis7\":{\"anchor\":\"y7\",\"domain\":[0.525,0.7375],\"title\":{\"text\":\"Year\"}},\"yaxis7\":{\"anchor\":\"x7\",\"domain\":[0.5625,0.71875],\"title\":{\"text\":\"Affordability Index\"}},\"xaxis8\":{\"anchor\":\"y8\",\"domain\":[0.7875,1.0],\"title\":{\"text\":\"Year\"}},\"yaxis8\":{\"anchor\":\"x8\",\"domain\":[0.5625,0.71875],\"title\":{\"text\":\"Crime Index\"}},\"xaxis9\":{\"anchor\":\"y9\",\"domain\":[0.0,0.2125],\"title\":{\"text\":\"Year\"}},\"yaxis9\":{\"anchor\":\"x9\",\"domain\":[0.28125,0.4375],\"title\":{\"text\":\"Safety Index\"}},\"xaxis10\":{\"anchor\":\"y10\",\"domain\":[0.2625,0.475],\"title\":{\"text\":\"Year\"}},\"yaxis10\":{\"anchor\":\"x10\",\"domain\":[0.28125,0.4375],\"title\":{\"text\":\"Cost of Living Index\"}},\"xaxis11\":{\"anchor\":\"y11\",\"domain\":[0.525,0.7375],\"title\":{\"text\":\"Year\"}},\"yaxis11\":{\"anchor\":\"x11\",\"domain\":[0.28125,0.4375],\"title\":{\"text\":\"Rent Index\"}},\"xaxis12\":{\"anchor\":\"y12\",\"domain\":[0.7875,1.0],\"title\":{\"text\":\"Year\"}},\"yaxis12\":{\"anchor\":\"x12\",\"domain\":[0.28125,0.4375],\"title\":{\"text\":\"Cost of Living Plus Rent Index\"}},\"xaxis13\":{\"anchor\":\"y13\",\"domain\":[0.0,0.2125],\"title\":{\"text\":\"Year\"}},\"yaxis13\":{\"anchor\":\"x13\",\"domain\":[0.0,0.15625],\"title\":{\"text\":\"Groceries Index\"}},\"xaxis14\":{\"anchor\":\"y14\",\"domain\":[0.2625,0.475],\"title\":{\"text\":\"Year\"}},\"yaxis14\":{\"anchor\":\"x14\",\"domain\":[0.0,0.15625],\"title\":{\"text\":\"Restaurant Index\"}},\"xaxis15\":{\"anchor\":\"y15\",\"domain\":[0.525,0.7375],\"title\":{\"text\":\"Year\"}},\"yaxis15\":{\"anchor\":\"x15\",\"domain\":[0.0,0.15625],\"title\":{\"text\":\"Local Purchasing Power Index\"}},\"xaxis16\":{\"anchor\":\"y16\",\"domain\":[0.7875,1.0]},\"yaxis16\":{\"anchor\":\"x16\",\"domain\":[0.0,0.15625]},\"annotations\":[{\"font\":{\"size\":16},\"showarrow\":false,\"text\":\"Price to Income Ratio\",\"x\":0.10625,\"xanchor\":\"center\",\"xref\":\"paper\",\"y\":1.0,\"yanchor\":\"bottom\",\"yref\":\"paper\"},{\"font\":{\"size\":16},\"showarrow\":false,\"text\":\"Gross Rental Yield City Centre\",\"x\":0.36875,\"xanchor\":\"center\",\"xref\":\"paper\",\"y\":1.0,\"yanchor\":\"bottom\",\"yref\":\"paper\"},{\"font\":{\"size\":16},\"showarrow\":false,\"text\":\"Gross Rental Yield Outside Centre\",\"x\":0.6312500000000001,\"xanchor\":\"center\",\"xref\":\"paper\",\"y\":1.0,\"yanchor\":\"bottom\",\"yref\":\"paper\"},{\"font\":{\"size\":16},\"showarrow\":false,\"text\":\"Price to Rent Ratio City Centre\",\"x\":0.89375,\"xanchor\":\"center\",\"xref\":\"paper\",\"y\":1.0,\"yanchor\":\"bottom\",\"yref\":\"paper\"},{\"font\":{\"size\":16},\"showarrow\":false,\"text\":\"Price to Rent Ratio Outside City Centre\",\"x\":0.10625,\"xanchor\":\"center\",\"xref\":\"paper\",\"y\":0.71875,\"yanchor\":\"bottom\",\"yref\":\"paper\"},{\"font\":{\"size\":16},\"showarrow\":false,\"text\":\"Mortgage as a Percentage of Income\",\"x\":0.36875,\"xanchor\":\"center\",\"xref\":\"paper\",\"y\":0.71875,\"yanchor\":\"bottom\",\"yref\":\"paper\"},{\"font\":{\"size\":16},\"showarrow\":false,\"text\":\"Affordability Index\",\"x\":0.6312500000000001,\"xanchor\":\"center\",\"xref\":\"paper\",\"y\":0.71875,\"yanchor\":\"bottom\",\"yref\":\"paper\"},{\"font\":{\"size\":16},\"showarrow\":false,\"text\":\"Crime Index\",\"x\":0.89375,\"xanchor\":\"center\",\"xref\":\"paper\",\"y\":0.71875,\"yanchor\":\"bottom\",\"yref\":\"paper\"},{\"font\":{\"size\":16},\"showarrow\":false,\"text\":\"Safety Index\",\"x\":0.10625,\"xanchor\":\"center\",\"xref\":\"paper\",\"y\":0.4375,\"yanchor\":\"bottom\",\"yref\":\"paper\"},{\"font\":{\"size\":16},\"showarrow\":false,\"text\":\"Cost of Living Index\",\"x\":0.36875,\"xanchor\":\"center\",\"xref\":\"paper\",\"y\":0.4375,\"yanchor\":\"bottom\",\"yref\":\"paper\"},{\"font\":{\"size\":16},\"showarrow\":false,\"text\":\"Rent Index\",\"x\":0.6312500000000001,\"xanchor\":\"center\",\"xref\":\"paper\",\"y\":0.4375,\"yanchor\":\"bottom\",\"yref\":\"paper\"},{\"font\":{\"size\":16},\"showarrow\":false,\"text\":\"Cost of Living Plus Rent Index\",\"x\":0.89375,\"xanchor\":\"center\",\"xref\":\"paper\",\"y\":0.4375,\"yanchor\":\"bottom\",\"yref\":\"paper\"},{\"font\":{\"size\":16},\"showarrow\":false,\"text\":\"Groceries Index\",\"x\":0.10625,\"xanchor\":\"center\",\"xref\":\"paper\",\"y\":0.15625,\"yanchor\":\"bottom\",\"yref\":\"paper\"},{\"font\":{\"size\":16},\"showarrow\":false,\"text\":\"Restaurant Index\",\"x\":0.36875,\"xanchor\":\"center\",\"xref\":\"paper\",\"y\":0.15625,\"yanchor\":\"bottom\",\"yref\":\"paper\"},{\"font\":{\"size\":16},\"showarrow\":false,\"text\":\"Local Purchasing Power Index\",\"x\":0.6312500000000001,\"xanchor\":\"center\",\"xref\":\"paper\",\"y\":0.15625,\"yanchor\":\"bottom\",\"yref\":\"paper\"}],\"title\":{\"text\":\"Omaha, NE, United States\"},\"height\":1500,\"width\":1500},                        {\"responsive\": true}                    ).then(function(){\n",
       "                            \n",
       "var gd = document.getElementById('fc9e8133-b256-452e-813c-3c452b00bdfb');\n",
       "var x = new MutationObserver(function (mutations, observer) {{\n",
       "        var display = window.getComputedStyle(gd).display;\n",
       "        if (!display || display === 'none') {{\n",
       "            console.log([gd, 'removed!']);\n",
       "            Plotly.purge(gd);\n",
       "            observer.disconnect();\n",
       "        }}\n",
       "}});\n",
       "\n",
       "// Listen for the removal of the full notebook cells\n",
       "var notebookContainer = gd.closest('#notebook-container');\n",
       "if (notebookContainer) {{\n",
       "    x.observe(notebookContainer, {childList: true});\n",
       "}}\n",
       "\n",
       "// Listen for the clearing of the current output cell\n",
       "var outputEl = gd.closest('.output');\n",
       "if (outputEl) {{\n",
       "    x.observe(outputEl, {childList: true});\n",
       "}}\n",
       "\n",
       "                        })                };                });            </script>        </div>"
      ]
     },
     "metadata": {},
     "output_type": "display_data"
    },
    {
     "data": {
      "application/vnd.plotly.v1+json": {
       "config": {
        "plotlyServerURL": "https://plot.ly"
       },
       "data": [
        {
         "mode": "lines+markers",
         "name": "Price to Income Ratio",
         "type": "scatter",
         "x": [
          "2011",
          "2012",
          "2013",
          "2014",
          "2014-mid",
          "2015",
          "2015-mid",
          "2016-mid",
          "2017",
          "2017-mid",
          "2018",
          "2018-mid",
          "2019",
          "2019-mid",
          "2020",
          "2020-mid",
          "2021",
          "2021-mid",
          "2022",
          "2024-mid"
         ],
         "xaxis": "x",
         "y": [
          2.3,
          2.1,
          1.7,
          1.6,
          1.1,
          1.2,
          3.8,
          2.3,
          2.2,
          2.3,
          2.5,
          2.5,
          2.6,
          2.7,
          2.4,
          2.6,
          2.6,
          2,
          1.9,
          2.3
         ],
         "yaxis": "y"
        },
        {
         "mode": "lines+markers",
         "name": "Gross Rental Yield City Centre",
         "type": "scatter",
         "x": [
          "2011",
          "2012",
          "2013",
          "2014",
          "2014-mid",
          "2015",
          "2015-mid",
          "2016-mid",
          "2017",
          "2017-mid",
          "2018",
          "2018-mid",
          "2019",
          "2019-mid",
          "2020",
          "2020-mid",
          "2021",
          "2021-mid",
          "2022",
          "2024-mid"
         ],
         "xaxis": "x2",
         "y": [
          15.1,
          17.5,
          16.4,
          18.7,
          23.5,
          24.5,
          9.2,
          12.3,
          15.3,
          15.2,
          15.3,
          14.6,
          12.3,
          12.5,
          12.2,
          12.4,
          12.3,
          11.6,
          10.8,
          18.6
         ],
         "yaxis": "y2"
        },
        {
         "mode": "lines+markers",
         "name": "Gross Rental Yield Outside Centre",
         "type": "scatter",
         "x": [
          "2011",
          "2012",
          "2013",
          "2014",
          "2014-mid",
          "2015",
          "2015-mid",
          "2016-mid",
          "2017",
          "2017-mid",
          "2018",
          "2018-mid",
          "2019",
          "2019-mid",
          "2020",
          "2020-mid",
          "2021",
          "2021-mid",
          "2022",
          "2024-mid"
         ],
         "xaxis": "x3",
         "y": [
          19.2,
          20.5,
          15.8,
          16.5,
          32.1,
          33.3,
          14.7,
          21.1,
          20.1,
          21.5,
          20.4,
          18.1,
          17.6,
          16.8,
          16.4,
          17,
          19.5,
          21.5,
          21.6,
          16.6
         ],
         "yaxis": "y3"
        },
        {
         "mode": "lines+markers",
         "name": "Price to Rent Ratio City Centre",
         "type": "scatter",
         "x": [
          "2011",
          "2012",
          "2013",
          "2014",
          "2014-mid",
          "2015",
          "2015-mid",
          "2016-mid",
          "2017",
          "2017-mid",
          "2018",
          "2018-mid",
          "2019",
          "2019-mid",
          "2020",
          "2020-mid",
          "2021",
          "2021-mid",
          "2022",
          "2024-mid"
         ],
         "xaxis": "x4",
         "y": [
          6.6,
          5.7,
          6.1,
          5.4,
          4.2,
          4.1,
          10.8,
          8.1,
          6.5,
          6.6,
          6.5,
          6.8,
          8.1,
          8,
          8.2,
          8,
          8.2,
          8.6,
          9.2,
          5.4
         ],
         "yaxis": "y4"
        },
        {
         "mode": "lines+markers",
         "name": "Price to Rent Ratio Outside City Centre",
         "type": "scatter",
         "x": [
          "2011",
          "2012",
          "2013",
          "2014",
          "2014-mid",
          "2015",
          "2015-mid",
          "2016-mid",
          "2017",
          "2017-mid",
          "2018",
          "2018-mid",
          "2019",
          "2019-mid",
          "2020",
          "2020-mid",
          "2021",
          "2021-mid",
          "2022",
          "2024-mid"
         ],
         "xaxis": "x5",
         "y": [
          5.2,
          4.9,
          6.3,
          6.1,
          3.1,
          3,
          6.8,
          4.7,
          5,
          4.7,
          4.9,
          5.5,
          5.7,
          5.9,
          6.1,
          5.9,
          5.1,
          4.7,
          4.6,
          6
         ],
         "yaxis": "y5"
        },
        {
         "mode": "lines+markers",
         "name": "Mortgage as a Percentage of Income",
         "type": "scatter",
         "x": [
          "2011",
          "2012",
          "2013",
          "2014",
          "2014-mid",
          "2015",
          "2015-mid",
          "2016-mid",
          "2017",
          "2017-mid",
          "2018",
          "2018-mid",
          "2019",
          "2019-mid",
          "2020",
          "2020-mid",
          "2021",
          "2021-mid",
          "2022",
          "2024-mid"
         ],
         "xaxis": "x6",
         "y": [
          "18.4",
          "15.9",
          "12.0",
          "11.7",
          "8.3",
          "8.7",
          "29.1",
          "17.3",
          "16.5",
          "16.4",
          "18.4",
          "18.1",
          "19.0",
          "19.8",
          "18.1",
          "19.5",
          "18.6",
          "14.3",
          "13.7",
          "21.1"
         ],
         "yaxis": "y6"
        },
        {
         "mode": "lines+markers",
         "name": "Affordability Index",
         "type": "scatter",
         "x": [
          "2011",
          "2012",
          "2013",
          "2014",
          "2014-mid",
          "2015",
          "2015-mid",
          "2016-mid",
          "2017",
          "2017-mid",
          "2018",
          "2018-mid",
          "2019",
          "2019-mid",
          "2020",
          "2020-mid",
          "2021",
          "2021-mid",
          "2022",
          "2024-mid"
         ],
         "xaxis": "x7",
         "y": [
          "5.4",
          "6.3",
          "8.3",
          "8.5",
          "12.0",
          "11.5",
          "3.4",
          "5.8",
          "6.1",
          "6.1",
          "5.4",
          "5.5",
          "5.3",
          "5.1",
          "5.5",
          "5.1",
          "5.4",
          "7.0",
          "7.3",
          "4.7"
         ],
         "yaxis": "y7"
        },
        {
         "mode": "lines+markers",
         "name": "Crime Index",
         "type": "scatter",
         "x": [
          "2011",
          "2012",
          "2013",
          "2014",
          "2014-mid",
          "2015",
          "2015-mid",
          "2016-mid",
          "2017",
          "2017-mid",
          "2018",
          "2018-mid",
          "2019",
          "2019-mid",
          "2020",
          "2020-mid",
          "2021",
          "2021-mid",
          "2022",
          "2024-mid"
         ],
         "xaxis": "x8",
         "y": [
          null,
          null,
          null,
          64.3,
          65.2,
          65.2,
          59.3,
          65.6,
          69.2,
          70,
          70.2,
          71.4,
          71.3,
          71.1,
          73.2,
          74.8,
          74.6,
          75,
          75,
          74.7
         ],
         "yaxis": "y8"
        },
        {
         "mode": "lines+markers",
         "name": "Safety Index",
         "type": "scatter",
         "x": [
          "2011",
          "2012",
          "2013",
          "2014",
          "2014-mid",
          "2015",
          "2015-mid",
          "2016-mid",
          "2017",
          "2017-mid",
          "2018",
          "2018-mid",
          "2019",
          "2019-mid",
          "2020",
          "2020-mid",
          "2021",
          "2021-mid",
          "2022",
          "2024-mid"
         ],
         "xaxis": "x9",
         "y": [
          null,
          null,
          null,
          35.7,
          34.8,
          34.8,
          40.7,
          34.4,
          30.8,
          30,
          29.8,
          28.6,
          28.7,
          28.9,
          26.8,
          25.2,
          25.4,
          25,
          25,
          25.3
         ],
         "yaxis": "y9"
        },
        {
         "mode": "lines+markers",
         "name": "Cost of Living Index",
         "type": "scatter",
         "x": [
          "2011",
          "2012",
          "2013",
          "2014",
          "2014-mid",
          "2015",
          "2015-mid",
          "2016-mid",
          "2017",
          "2017-mid",
          "2018",
          "2018-mid",
          "2019",
          "2019-mid",
          "2020",
          "2020-mid",
          "2021",
          "2021-mid",
          "2022",
          "2024-mid"
         ],
         "xaxis": "x10",
         "y": [
          null,
          null,
          null,
          null,
          null,
          null,
          null,
          null,
          null,
          null,
          null,
          null,
          75.2,
          null,
          null,
          null,
          null,
          null,
          null,
          null
         ],
         "yaxis": "y10"
        },
        {
         "mode": "lines+markers",
         "name": "Rent Index",
         "type": "scatter",
         "x": [
          "2011",
          "2012",
          "2013",
          "2014",
          "2014-mid",
          "2015",
          "2015-mid",
          "2016-mid",
          "2017",
          "2017-mid",
          "2018",
          "2018-mid",
          "2019",
          "2019-mid",
          "2020",
          "2020-mid",
          "2021",
          "2021-mid",
          "2022",
          "2024-mid"
         ],
         "xaxis": "x11",
         "y": [
          null,
          null,
          null,
          null,
          null,
          null,
          null,
          null,
          null,
          null,
          null,
          null,
          40,
          null,
          null,
          null,
          null,
          null,
          null,
          null
         ],
         "yaxis": "y11"
        },
        {
         "mode": "lines+markers",
         "name": "Cost of Living Plus Rent Index",
         "type": "scatter",
         "x": [
          "2011",
          "2012",
          "2013",
          "2014",
          "2014-mid",
          "2015",
          "2015-mid",
          "2016-mid",
          "2017",
          "2017-mid",
          "2018",
          "2018-mid",
          "2019",
          "2019-mid",
          "2020",
          "2020-mid",
          "2021",
          "2021-mid",
          "2022",
          "2024-mid"
         ],
         "xaxis": "x12",
         "y": [
          null,
          null,
          null,
          null,
          null,
          null,
          null,
          null,
          null,
          null,
          null,
          null,
          58.3,
          null,
          null,
          null,
          null,
          null,
          null,
          null
         ],
         "yaxis": "y12"
        },
        {
         "mode": "lines+markers",
         "name": "Groceries Index",
         "type": "scatter",
         "x": [
          "2011",
          "2012",
          "2013",
          "2014",
          "2014-mid",
          "2015",
          "2015-mid",
          "2016-mid",
          "2017",
          "2017-mid",
          "2018",
          "2018-mid",
          "2019",
          "2019-mid",
          "2020",
          "2020-mid",
          "2021",
          "2021-mid",
          "2022",
          "2024-mid"
         ],
         "xaxis": "x13",
         "y": [
          null,
          null,
          null,
          null,
          null,
          null,
          null,
          null,
          null,
          null,
          null,
          null,
          73,
          null,
          null,
          null,
          null,
          null,
          null,
          null
         ],
         "yaxis": "y13"
        },
        {
         "mode": "lines+markers",
         "name": "Restaurant Index",
         "type": "scatter",
         "x": [
          "2011",
          "2012",
          "2013",
          "2014",
          "2014-mid",
          "2015",
          "2015-mid",
          "2016-mid",
          "2017",
          "2017-mid",
          "2018",
          "2018-mid",
          "2019",
          "2019-mid",
          "2020",
          "2020-mid",
          "2021",
          "2021-mid",
          "2022",
          "2024-mid"
         ],
         "xaxis": "x14",
         "y": [
          null,
          null,
          null,
          null,
          null,
          null,
          null,
          null,
          null,
          null,
          null,
          null,
          77.3,
          null,
          null,
          null,
          null,
          null,
          null,
          null
         ],
         "yaxis": "y14"
        },
        {
         "mode": "lines+markers",
         "name": "Local Purchasing Power Index",
         "type": "scatter",
         "x": [
          "2011",
          "2012",
          "2013",
          "2014",
          "2014-mid",
          "2015",
          "2015-mid",
          "2016-mid",
          "2017",
          "2017-mid",
          "2018",
          "2018-mid",
          "2019",
          "2019-mid",
          "2020",
          "2020-mid",
          "2021",
          "2021-mid",
          "2022",
          "2024-mid"
         ],
         "xaxis": "x15",
         "y": [
          null,
          null,
          null,
          null,
          null,
          null,
          null,
          null,
          null,
          null,
          null,
          null,
          125.4,
          null,
          null,
          null,
          null,
          null,
          null,
          null
         ],
         "yaxis": "y15"
        }
       ],
       "layout": {
        "annotations": [
         {
          "font": {
           "size": 16
          },
          "showarrow": false,
          "text": "Price to Income Ratio",
          "x": 0.10625,
          "xanchor": "center",
          "xref": "paper",
          "y": 1,
          "yanchor": "bottom",
          "yref": "paper"
         },
         {
          "font": {
           "size": 16
          },
          "showarrow": false,
          "text": "Gross Rental Yield City Centre",
          "x": 0.36875,
          "xanchor": "center",
          "xref": "paper",
          "y": 1,
          "yanchor": "bottom",
          "yref": "paper"
         },
         {
          "font": {
           "size": 16
          },
          "showarrow": false,
          "text": "Gross Rental Yield Outside Centre",
          "x": 0.6312500000000001,
          "xanchor": "center",
          "xref": "paper",
          "y": 1,
          "yanchor": "bottom",
          "yref": "paper"
         },
         {
          "font": {
           "size": 16
          },
          "showarrow": false,
          "text": "Price to Rent Ratio City Centre",
          "x": 0.89375,
          "xanchor": "center",
          "xref": "paper",
          "y": 1,
          "yanchor": "bottom",
          "yref": "paper"
         },
         {
          "font": {
           "size": 16
          },
          "showarrow": false,
          "text": "Price to Rent Ratio Outside City Centre",
          "x": 0.10625,
          "xanchor": "center",
          "xref": "paper",
          "y": 0.71875,
          "yanchor": "bottom",
          "yref": "paper"
         },
         {
          "font": {
           "size": 16
          },
          "showarrow": false,
          "text": "Mortgage as a Percentage of Income",
          "x": 0.36875,
          "xanchor": "center",
          "xref": "paper",
          "y": 0.71875,
          "yanchor": "bottom",
          "yref": "paper"
         },
         {
          "font": {
           "size": 16
          },
          "showarrow": false,
          "text": "Affordability Index",
          "x": 0.6312500000000001,
          "xanchor": "center",
          "xref": "paper",
          "y": 0.71875,
          "yanchor": "bottom",
          "yref": "paper"
         },
         {
          "font": {
           "size": 16
          },
          "showarrow": false,
          "text": "Crime Index",
          "x": 0.89375,
          "xanchor": "center",
          "xref": "paper",
          "y": 0.71875,
          "yanchor": "bottom",
          "yref": "paper"
         },
         {
          "font": {
           "size": 16
          },
          "showarrow": false,
          "text": "Safety Index",
          "x": 0.10625,
          "xanchor": "center",
          "xref": "paper",
          "y": 0.4375,
          "yanchor": "bottom",
          "yref": "paper"
         },
         {
          "font": {
           "size": 16
          },
          "showarrow": false,
          "text": "Cost of Living Index",
          "x": 0.36875,
          "xanchor": "center",
          "xref": "paper",
          "y": 0.4375,
          "yanchor": "bottom",
          "yref": "paper"
         },
         {
          "font": {
           "size": 16
          },
          "showarrow": false,
          "text": "Rent Index",
          "x": 0.6312500000000001,
          "xanchor": "center",
          "xref": "paper",
          "y": 0.4375,
          "yanchor": "bottom",
          "yref": "paper"
         },
         {
          "font": {
           "size": 16
          },
          "showarrow": false,
          "text": "Cost of Living Plus Rent Index",
          "x": 0.89375,
          "xanchor": "center",
          "xref": "paper",
          "y": 0.4375,
          "yanchor": "bottom",
          "yref": "paper"
         },
         {
          "font": {
           "size": 16
          },
          "showarrow": false,
          "text": "Groceries Index",
          "x": 0.10625,
          "xanchor": "center",
          "xref": "paper",
          "y": 0.15625,
          "yanchor": "bottom",
          "yref": "paper"
         },
         {
          "font": {
           "size": 16
          },
          "showarrow": false,
          "text": "Restaurant Index",
          "x": 0.36875,
          "xanchor": "center",
          "xref": "paper",
          "y": 0.15625,
          "yanchor": "bottom",
          "yref": "paper"
         },
         {
          "font": {
           "size": 16
          },
          "showarrow": false,
          "text": "Local Purchasing Power Index",
          "x": 0.6312500000000001,
          "xanchor": "center",
          "xref": "paper",
          "y": 0.15625,
          "yanchor": "bottom",
          "yref": "paper"
         }
        ],
        "height": 1500,
        "template": {
         "data": {
          "bar": [
           {
            "error_x": {
             "color": "#2a3f5f"
            },
            "error_y": {
             "color": "#2a3f5f"
            },
            "marker": {
             "line": {
              "color": "#E5ECF6",
              "width": 0.5
             },
             "pattern": {
              "fillmode": "overlay",
              "size": 10,
              "solidity": 0.2
             }
            },
            "type": "bar"
           }
          ],
          "barpolar": [
           {
            "marker": {
             "line": {
              "color": "#E5ECF6",
              "width": 0.5
             },
             "pattern": {
              "fillmode": "overlay",
              "size": 10,
              "solidity": 0.2
             }
            },
            "type": "barpolar"
           }
          ],
          "carpet": [
           {
            "aaxis": {
             "endlinecolor": "#2a3f5f",
             "gridcolor": "white",
             "linecolor": "white",
             "minorgridcolor": "white",
             "startlinecolor": "#2a3f5f"
            },
            "baxis": {
             "endlinecolor": "#2a3f5f",
             "gridcolor": "white",
             "linecolor": "white",
             "minorgridcolor": "white",
             "startlinecolor": "#2a3f5f"
            },
            "type": "carpet"
           }
          ],
          "choropleth": [
           {
            "colorbar": {
             "outlinewidth": 0,
             "ticks": ""
            },
            "type": "choropleth"
           }
          ],
          "contour": [
           {
            "colorbar": {
             "outlinewidth": 0,
             "ticks": ""
            },
            "colorscale": [
             [
              0,
              "#0d0887"
             ],
             [
              0.1111111111111111,
              "#46039f"
             ],
             [
              0.2222222222222222,
              "#7201a8"
             ],
             [
              0.3333333333333333,
              "#9c179e"
             ],
             [
              0.4444444444444444,
              "#bd3786"
             ],
             [
              0.5555555555555556,
              "#d8576b"
             ],
             [
              0.6666666666666666,
              "#ed7953"
             ],
             [
              0.7777777777777778,
              "#fb9f3a"
             ],
             [
              0.8888888888888888,
              "#fdca26"
             ],
             [
              1,
              "#f0f921"
             ]
            ],
            "type": "contour"
           }
          ],
          "contourcarpet": [
           {
            "colorbar": {
             "outlinewidth": 0,
             "ticks": ""
            },
            "type": "contourcarpet"
           }
          ],
          "heatmap": [
           {
            "colorbar": {
             "outlinewidth": 0,
             "ticks": ""
            },
            "colorscale": [
             [
              0,
              "#0d0887"
             ],
             [
              0.1111111111111111,
              "#46039f"
             ],
             [
              0.2222222222222222,
              "#7201a8"
             ],
             [
              0.3333333333333333,
              "#9c179e"
             ],
             [
              0.4444444444444444,
              "#bd3786"
             ],
             [
              0.5555555555555556,
              "#d8576b"
             ],
             [
              0.6666666666666666,
              "#ed7953"
             ],
             [
              0.7777777777777778,
              "#fb9f3a"
             ],
             [
              0.8888888888888888,
              "#fdca26"
             ],
             [
              1,
              "#f0f921"
             ]
            ],
            "type": "heatmap"
           }
          ],
          "heatmapgl": [
           {
            "colorbar": {
             "outlinewidth": 0,
             "ticks": ""
            },
            "colorscale": [
             [
              0,
              "#0d0887"
             ],
             [
              0.1111111111111111,
              "#46039f"
             ],
             [
              0.2222222222222222,
              "#7201a8"
             ],
             [
              0.3333333333333333,
              "#9c179e"
             ],
             [
              0.4444444444444444,
              "#bd3786"
             ],
             [
              0.5555555555555556,
              "#d8576b"
             ],
             [
              0.6666666666666666,
              "#ed7953"
             ],
             [
              0.7777777777777778,
              "#fb9f3a"
             ],
             [
              0.8888888888888888,
              "#fdca26"
             ],
             [
              1,
              "#f0f921"
             ]
            ],
            "type": "heatmapgl"
           }
          ],
          "histogram": [
           {
            "marker": {
             "pattern": {
              "fillmode": "overlay",
              "size": 10,
              "solidity": 0.2
             }
            },
            "type": "histogram"
           }
          ],
          "histogram2d": [
           {
            "colorbar": {
             "outlinewidth": 0,
             "ticks": ""
            },
            "colorscale": [
             [
              0,
              "#0d0887"
             ],
             [
              0.1111111111111111,
              "#46039f"
             ],
             [
              0.2222222222222222,
              "#7201a8"
             ],
             [
              0.3333333333333333,
              "#9c179e"
             ],
             [
              0.4444444444444444,
              "#bd3786"
             ],
             [
              0.5555555555555556,
              "#d8576b"
             ],
             [
              0.6666666666666666,
              "#ed7953"
             ],
             [
              0.7777777777777778,
              "#fb9f3a"
             ],
             [
              0.8888888888888888,
              "#fdca26"
             ],
             [
              1,
              "#f0f921"
             ]
            ],
            "type": "histogram2d"
           }
          ],
          "histogram2dcontour": [
           {
            "colorbar": {
             "outlinewidth": 0,
             "ticks": ""
            },
            "colorscale": [
             [
              0,
              "#0d0887"
             ],
             [
              0.1111111111111111,
              "#46039f"
             ],
             [
              0.2222222222222222,
              "#7201a8"
             ],
             [
              0.3333333333333333,
              "#9c179e"
             ],
             [
              0.4444444444444444,
              "#bd3786"
             ],
             [
              0.5555555555555556,
              "#d8576b"
             ],
             [
              0.6666666666666666,
              "#ed7953"
             ],
             [
              0.7777777777777778,
              "#fb9f3a"
             ],
             [
              0.8888888888888888,
              "#fdca26"
             ],
             [
              1,
              "#f0f921"
             ]
            ],
            "type": "histogram2dcontour"
           }
          ],
          "mesh3d": [
           {
            "colorbar": {
             "outlinewidth": 0,
             "ticks": ""
            },
            "type": "mesh3d"
           }
          ],
          "parcoords": [
           {
            "line": {
             "colorbar": {
              "outlinewidth": 0,
              "ticks": ""
             }
            },
            "type": "parcoords"
           }
          ],
          "pie": [
           {
            "automargin": true,
            "type": "pie"
           }
          ],
          "scatter": [
           {
            "fillpattern": {
             "fillmode": "overlay",
             "size": 10,
             "solidity": 0.2
            },
            "type": "scatter"
           }
          ],
          "scatter3d": [
           {
            "line": {
             "colorbar": {
              "outlinewidth": 0,
              "ticks": ""
             }
            },
            "marker": {
             "colorbar": {
              "outlinewidth": 0,
              "ticks": ""
             }
            },
            "type": "scatter3d"
           }
          ],
          "scattercarpet": [
           {
            "marker": {
             "colorbar": {
              "outlinewidth": 0,
              "ticks": ""
             }
            },
            "type": "scattercarpet"
           }
          ],
          "scattergeo": [
           {
            "marker": {
             "colorbar": {
              "outlinewidth": 0,
              "ticks": ""
             }
            },
            "type": "scattergeo"
           }
          ],
          "scattergl": [
           {
            "marker": {
             "colorbar": {
              "outlinewidth": 0,
              "ticks": ""
             }
            },
            "type": "scattergl"
           }
          ],
          "scattermapbox": [
           {
            "marker": {
             "colorbar": {
              "outlinewidth": 0,
              "ticks": ""
             }
            },
            "type": "scattermapbox"
           }
          ],
          "scatterpolar": [
           {
            "marker": {
             "colorbar": {
              "outlinewidth": 0,
              "ticks": ""
             }
            },
            "type": "scatterpolar"
           }
          ],
          "scatterpolargl": [
           {
            "marker": {
             "colorbar": {
              "outlinewidth": 0,
              "ticks": ""
             }
            },
            "type": "scatterpolargl"
           }
          ],
          "scatterternary": [
           {
            "marker": {
             "colorbar": {
              "outlinewidth": 0,
              "ticks": ""
             }
            },
            "type": "scatterternary"
           }
          ],
          "surface": [
           {
            "colorbar": {
             "outlinewidth": 0,
             "ticks": ""
            },
            "colorscale": [
             [
              0,
              "#0d0887"
             ],
             [
              0.1111111111111111,
              "#46039f"
             ],
             [
              0.2222222222222222,
              "#7201a8"
             ],
             [
              0.3333333333333333,
              "#9c179e"
             ],
             [
              0.4444444444444444,
              "#bd3786"
             ],
             [
              0.5555555555555556,
              "#d8576b"
             ],
             [
              0.6666666666666666,
              "#ed7953"
             ],
             [
              0.7777777777777778,
              "#fb9f3a"
             ],
             [
              0.8888888888888888,
              "#fdca26"
             ],
             [
              1,
              "#f0f921"
             ]
            ],
            "type": "surface"
           }
          ],
          "table": [
           {
            "cells": {
             "fill": {
              "color": "#EBF0F8"
             },
             "line": {
              "color": "white"
             }
            },
            "header": {
             "fill": {
              "color": "#C8D4E3"
             },
             "line": {
              "color": "white"
             }
            },
            "type": "table"
           }
          ]
         },
         "layout": {
          "annotationdefaults": {
           "arrowcolor": "#2a3f5f",
           "arrowhead": 0,
           "arrowwidth": 1
          },
          "autotypenumbers": "strict",
          "coloraxis": {
           "colorbar": {
            "outlinewidth": 0,
            "ticks": ""
           }
          },
          "colorscale": {
           "diverging": [
            [
             0,
             "#8e0152"
            ],
            [
             0.1,
             "#c51b7d"
            ],
            [
             0.2,
             "#de77ae"
            ],
            [
             0.3,
             "#f1b6da"
            ],
            [
             0.4,
             "#fde0ef"
            ],
            [
             0.5,
             "#f7f7f7"
            ],
            [
             0.6,
             "#e6f5d0"
            ],
            [
             0.7,
             "#b8e186"
            ],
            [
             0.8,
             "#7fbc41"
            ],
            [
             0.9,
             "#4d9221"
            ],
            [
             1,
             "#276419"
            ]
           ],
           "sequential": [
            [
             0,
             "#0d0887"
            ],
            [
             0.1111111111111111,
             "#46039f"
            ],
            [
             0.2222222222222222,
             "#7201a8"
            ],
            [
             0.3333333333333333,
             "#9c179e"
            ],
            [
             0.4444444444444444,
             "#bd3786"
            ],
            [
             0.5555555555555556,
             "#d8576b"
            ],
            [
             0.6666666666666666,
             "#ed7953"
            ],
            [
             0.7777777777777778,
             "#fb9f3a"
            ],
            [
             0.8888888888888888,
             "#fdca26"
            ],
            [
             1,
             "#f0f921"
            ]
           ],
           "sequentialminus": [
            [
             0,
             "#0d0887"
            ],
            [
             0.1111111111111111,
             "#46039f"
            ],
            [
             0.2222222222222222,
             "#7201a8"
            ],
            [
             0.3333333333333333,
             "#9c179e"
            ],
            [
             0.4444444444444444,
             "#bd3786"
            ],
            [
             0.5555555555555556,
             "#d8576b"
            ],
            [
             0.6666666666666666,
             "#ed7953"
            ],
            [
             0.7777777777777778,
             "#fb9f3a"
            ],
            [
             0.8888888888888888,
             "#fdca26"
            ],
            [
             1,
             "#f0f921"
            ]
           ]
          },
          "colorway": [
           "#636efa",
           "#EF553B",
           "#00cc96",
           "#ab63fa",
           "#FFA15A",
           "#19d3f3",
           "#FF6692",
           "#B6E880",
           "#FF97FF",
           "#FECB52"
          ],
          "font": {
           "color": "#2a3f5f"
          },
          "geo": {
           "bgcolor": "white",
           "lakecolor": "white",
           "landcolor": "#E5ECF6",
           "showlakes": true,
           "showland": true,
           "subunitcolor": "white"
          },
          "hoverlabel": {
           "align": "left"
          },
          "hovermode": "closest",
          "mapbox": {
           "style": "light"
          },
          "paper_bgcolor": "white",
          "plot_bgcolor": "#E5ECF6",
          "polar": {
           "angularaxis": {
            "gridcolor": "white",
            "linecolor": "white",
            "ticks": ""
           },
           "bgcolor": "#E5ECF6",
           "radialaxis": {
            "gridcolor": "white",
            "linecolor": "white",
            "ticks": ""
           }
          },
          "scene": {
           "xaxis": {
            "backgroundcolor": "#E5ECF6",
            "gridcolor": "white",
            "gridwidth": 2,
            "linecolor": "white",
            "showbackground": true,
            "ticks": "",
            "zerolinecolor": "white"
           },
           "yaxis": {
            "backgroundcolor": "#E5ECF6",
            "gridcolor": "white",
            "gridwidth": 2,
            "linecolor": "white",
            "showbackground": true,
            "ticks": "",
            "zerolinecolor": "white"
           },
           "zaxis": {
            "backgroundcolor": "#E5ECF6",
            "gridcolor": "white",
            "gridwidth": 2,
            "linecolor": "white",
            "showbackground": true,
            "ticks": "",
            "zerolinecolor": "white"
           }
          },
          "shapedefaults": {
           "line": {
            "color": "#2a3f5f"
           }
          },
          "ternary": {
           "aaxis": {
            "gridcolor": "white",
            "linecolor": "white",
            "ticks": ""
           },
           "baxis": {
            "gridcolor": "white",
            "linecolor": "white",
            "ticks": ""
           },
           "bgcolor": "#E5ECF6",
           "caxis": {
            "gridcolor": "white",
            "linecolor": "white",
            "ticks": ""
           }
          },
          "title": {
           "x": 0.05
          },
          "xaxis": {
           "automargin": true,
           "gridcolor": "white",
           "linecolor": "white",
           "ticks": "",
           "title": {
            "standoff": 15
           },
           "zerolinecolor": "white",
           "zerolinewidth": 2
          },
          "yaxis": {
           "automargin": true,
           "gridcolor": "white",
           "linecolor": "white",
           "ticks": "",
           "title": {
            "standoff": 15
           },
           "zerolinecolor": "white",
           "zerolinewidth": 2
          }
         }
        },
        "title": {
         "text": "Baltimore, MD, United States"
        },
        "width": 1500,
        "xaxis": {
         "anchor": "y",
         "domain": [
          0,
          0.2125
         ],
         "title": {
          "text": "Year"
         }
        },
        "xaxis10": {
         "anchor": "y10",
         "domain": [
          0.2625,
          0.475
         ],
         "title": {
          "text": "Year"
         }
        },
        "xaxis11": {
         "anchor": "y11",
         "domain": [
          0.525,
          0.7375
         ],
         "title": {
          "text": "Year"
         }
        },
        "xaxis12": {
         "anchor": "y12",
         "domain": [
          0.7875,
          1
         ],
         "title": {
          "text": "Year"
         }
        },
        "xaxis13": {
         "anchor": "y13",
         "domain": [
          0,
          0.2125
         ],
         "title": {
          "text": "Year"
         }
        },
        "xaxis14": {
         "anchor": "y14",
         "domain": [
          0.2625,
          0.475
         ],
         "title": {
          "text": "Year"
         }
        },
        "xaxis15": {
         "anchor": "y15",
         "domain": [
          0.525,
          0.7375
         ],
         "title": {
          "text": "Year"
         }
        },
        "xaxis16": {
         "anchor": "y16",
         "domain": [
          0.7875,
          1
         ]
        },
        "xaxis2": {
         "anchor": "y2",
         "domain": [
          0.2625,
          0.475
         ],
         "title": {
          "text": "Year"
         }
        },
        "xaxis3": {
         "anchor": "y3",
         "domain": [
          0.525,
          0.7375
         ],
         "title": {
          "text": "Year"
         }
        },
        "xaxis4": {
         "anchor": "y4",
         "domain": [
          0.7875,
          1
         ],
         "title": {
          "text": "Year"
         }
        },
        "xaxis5": {
         "anchor": "y5",
         "domain": [
          0,
          0.2125
         ],
         "title": {
          "text": "Year"
         }
        },
        "xaxis6": {
         "anchor": "y6",
         "domain": [
          0.2625,
          0.475
         ],
         "title": {
          "text": "Year"
         }
        },
        "xaxis7": {
         "anchor": "y7",
         "domain": [
          0.525,
          0.7375
         ],
         "title": {
          "text": "Year"
         }
        },
        "xaxis8": {
         "anchor": "y8",
         "domain": [
          0.7875,
          1
         ],
         "title": {
          "text": "Year"
         }
        },
        "xaxis9": {
         "anchor": "y9",
         "domain": [
          0,
          0.2125
         ],
         "title": {
          "text": "Year"
         }
        },
        "yaxis": {
         "anchor": "x",
         "domain": [
          0.84375,
          1
         ],
         "title": {
          "text": "Price to Income Ratio"
         }
        },
        "yaxis10": {
         "anchor": "x10",
         "domain": [
          0.28125,
          0.4375
         ],
         "title": {
          "text": "Cost of Living Index"
         }
        },
        "yaxis11": {
         "anchor": "x11",
         "domain": [
          0.28125,
          0.4375
         ],
         "title": {
          "text": "Rent Index"
         }
        },
        "yaxis12": {
         "anchor": "x12",
         "domain": [
          0.28125,
          0.4375
         ],
         "title": {
          "text": "Cost of Living Plus Rent Index"
         }
        },
        "yaxis13": {
         "anchor": "x13",
         "domain": [
          0,
          0.15625
         ],
         "title": {
          "text": "Groceries Index"
         }
        },
        "yaxis14": {
         "anchor": "x14",
         "domain": [
          0,
          0.15625
         ],
         "title": {
          "text": "Restaurant Index"
         }
        },
        "yaxis15": {
         "anchor": "x15",
         "domain": [
          0,
          0.15625
         ],
         "title": {
          "text": "Local Purchasing Power Index"
         }
        },
        "yaxis16": {
         "anchor": "x16",
         "domain": [
          0,
          0.15625
         ]
        },
        "yaxis2": {
         "anchor": "x2",
         "domain": [
          0.84375,
          1
         ],
         "title": {
          "text": "Gross Rental Yield City Centre"
         }
        },
        "yaxis3": {
         "anchor": "x3",
         "domain": [
          0.84375,
          1
         ],
         "title": {
          "text": "Gross Rental Yield Outside Centre"
         }
        },
        "yaxis4": {
         "anchor": "x4",
         "domain": [
          0.84375,
          1
         ],
         "title": {
          "text": "Price to Rent Ratio City Centre"
         }
        },
        "yaxis5": {
         "anchor": "x5",
         "domain": [
          0.5625,
          0.71875
         ],
         "title": {
          "text": "Price to Rent Ratio Outside City Centre"
         }
        },
        "yaxis6": {
         "anchor": "x6",
         "domain": [
          0.5625,
          0.71875
         ],
         "title": {
          "text": "Mortgage as a Percentage of Income"
         }
        },
        "yaxis7": {
         "anchor": "x7",
         "domain": [
          0.5625,
          0.71875
         ],
         "title": {
          "text": "Affordability Index"
         }
        },
        "yaxis8": {
         "anchor": "x8",
         "domain": [
          0.5625,
          0.71875
         ],
         "title": {
          "text": "Crime Index"
         }
        },
        "yaxis9": {
         "anchor": "x9",
         "domain": [
          0.28125,
          0.4375
         ],
         "title": {
          "text": "Safety Index"
         }
        }
       }
      },
      "text/html": [
       "<div>                            <div id=\"073111c4-0f16-4dad-a6e6-02bd15f24641\" class=\"plotly-graph-div\" style=\"height:1500px; width:1500px;\"></div>            <script type=\"text/javascript\">                require([\"plotly\"], function(Plotly) {                    window.PLOTLYENV=window.PLOTLYENV || {};                                    if (document.getElementById(\"073111c4-0f16-4dad-a6e6-02bd15f24641\")) {                    Plotly.newPlot(                        \"073111c4-0f16-4dad-a6e6-02bd15f24641\",                        [{\"mode\":\"lines+markers\",\"name\":\"Price to Income Ratio\",\"x\":[\"2011\",\"2012\",\"2013\",\"2014\",\"2014-mid\",\"2015\",\"2015-mid\",\"2016-mid\",\"2017\",\"2017-mid\",\"2018\",\"2018-mid\",\"2019\",\"2019-mid\",\"2020\",\"2020-mid\",\"2021\",\"2021-mid\",\"2022\",\"2024-mid\"],\"y\":[2.3,2.1,1.7,1.6,1.1,1.2,3.8,2.3,2.2,2.3,2.5,2.5,2.6,2.7,2.4,2.6,2.6,2.0,1.9,2.3],\"type\":\"scatter\",\"xaxis\":\"x\",\"yaxis\":\"y\"},{\"mode\":\"lines+markers\",\"name\":\"Gross Rental Yield City Centre\",\"x\":[\"2011\",\"2012\",\"2013\",\"2014\",\"2014-mid\",\"2015\",\"2015-mid\",\"2016-mid\",\"2017\",\"2017-mid\",\"2018\",\"2018-mid\",\"2019\",\"2019-mid\",\"2020\",\"2020-mid\",\"2021\",\"2021-mid\",\"2022\",\"2024-mid\"],\"y\":[15.1,17.5,16.4,18.7,23.5,24.5,9.2,12.3,15.3,15.2,15.3,14.6,12.3,12.5,12.2,12.4,12.3,11.6,10.8,18.6],\"type\":\"scatter\",\"xaxis\":\"x2\",\"yaxis\":\"y2\"},{\"mode\":\"lines+markers\",\"name\":\"Gross Rental Yield Outside Centre\",\"x\":[\"2011\",\"2012\",\"2013\",\"2014\",\"2014-mid\",\"2015\",\"2015-mid\",\"2016-mid\",\"2017\",\"2017-mid\",\"2018\",\"2018-mid\",\"2019\",\"2019-mid\",\"2020\",\"2020-mid\",\"2021\",\"2021-mid\",\"2022\",\"2024-mid\"],\"y\":[19.2,20.5,15.8,16.5,32.1,33.3,14.7,21.1,20.1,21.5,20.4,18.1,17.6,16.8,16.4,17.0,19.5,21.5,21.6,16.6],\"type\":\"scatter\",\"xaxis\":\"x3\",\"yaxis\":\"y3\"},{\"mode\":\"lines+markers\",\"name\":\"Price to Rent Ratio City Centre\",\"x\":[\"2011\",\"2012\",\"2013\",\"2014\",\"2014-mid\",\"2015\",\"2015-mid\",\"2016-mid\",\"2017\",\"2017-mid\",\"2018\",\"2018-mid\",\"2019\",\"2019-mid\",\"2020\",\"2020-mid\",\"2021\",\"2021-mid\",\"2022\",\"2024-mid\"],\"y\":[6.6,5.7,6.1,5.4,4.2,4.1,10.8,8.1,6.5,6.6,6.5,6.8,8.1,8.0,8.2,8.0,8.2,8.6,9.2,5.4],\"type\":\"scatter\",\"xaxis\":\"x4\",\"yaxis\":\"y4\"},{\"mode\":\"lines+markers\",\"name\":\"Price to Rent Ratio Outside City Centre\",\"x\":[\"2011\",\"2012\",\"2013\",\"2014\",\"2014-mid\",\"2015\",\"2015-mid\",\"2016-mid\",\"2017\",\"2017-mid\",\"2018\",\"2018-mid\",\"2019\",\"2019-mid\",\"2020\",\"2020-mid\",\"2021\",\"2021-mid\",\"2022\",\"2024-mid\"],\"y\":[5.2,4.9,6.3,6.1,3.1,3.0,6.8,4.7,5.0,4.7,4.9,5.5,5.7,5.9,6.1,5.9,5.1,4.7,4.6,6.0],\"type\":\"scatter\",\"xaxis\":\"x5\",\"yaxis\":\"y5\"},{\"mode\":\"lines+markers\",\"name\":\"Mortgage as a Percentage of Income\",\"x\":[\"2011\",\"2012\",\"2013\",\"2014\",\"2014-mid\",\"2015\",\"2015-mid\",\"2016-mid\",\"2017\",\"2017-mid\",\"2018\",\"2018-mid\",\"2019\",\"2019-mid\",\"2020\",\"2020-mid\",\"2021\",\"2021-mid\",\"2022\",\"2024-mid\"],\"y\":[\"18.4\",\"15.9\",\"12.0\",\"11.7\",\"8.3\",\"8.7\",\"29.1\",\"17.3\",\"16.5\",\"16.4\",\"18.4\",\"18.1\",\"19.0\",\"19.8\",\"18.1\",\"19.5\",\"18.6\",\"14.3\",\"13.7\",\"21.1\"],\"type\":\"scatter\",\"xaxis\":\"x6\",\"yaxis\":\"y6\"},{\"mode\":\"lines+markers\",\"name\":\"Affordability Index\",\"x\":[\"2011\",\"2012\",\"2013\",\"2014\",\"2014-mid\",\"2015\",\"2015-mid\",\"2016-mid\",\"2017\",\"2017-mid\",\"2018\",\"2018-mid\",\"2019\",\"2019-mid\",\"2020\",\"2020-mid\",\"2021\",\"2021-mid\",\"2022\",\"2024-mid\"],\"y\":[\"5.4\",\"6.3\",\"8.3\",\"8.5\",\"12.0\",\"11.5\",\"3.4\",\"5.8\",\"6.1\",\"6.1\",\"5.4\",\"5.5\",\"5.3\",\"5.1\",\"5.5\",\"5.1\",\"5.4\",\"7.0\",\"7.3\",\"4.7\"],\"type\":\"scatter\",\"xaxis\":\"x7\",\"yaxis\":\"y7\"},{\"mode\":\"lines+markers\",\"name\":\"Crime Index\",\"x\":[\"2011\",\"2012\",\"2013\",\"2014\",\"2014-mid\",\"2015\",\"2015-mid\",\"2016-mid\",\"2017\",\"2017-mid\",\"2018\",\"2018-mid\",\"2019\",\"2019-mid\",\"2020\",\"2020-mid\",\"2021\",\"2021-mid\",\"2022\",\"2024-mid\"],\"y\":[null,null,null,64.3,65.2,65.2,59.3,65.6,69.2,70.0,70.2,71.4,71.3,71.1,73.2,74.8,74.6,75.0,75.0,74.7],\"type\":\"scatter\",\"xaxis\":\"x8\",\"yaxis\":\"y8\"},{\"mode\":\"lines+markers\",\"name\":\"Safety Index\",\"x\":[\"2011\",\"2012\",\"2013\",\"2014\",\"2014-mid\",\"2015\",\"2015-mid\",\"2016-mid\",\"2017\",\"2017-mid\",\"2018\",\"2018-mid\",\"2019\",\"2019-mid\",\"2020\",\"2020-mid\",\"2021\",\"2021-mid\",\"2022\",\"2024-mid\"],\"y\":[null,null,null,35.7,34.8,34.8,40.7,34.4,30.8,30.0,29.8,28.6,28.7,28.9,26.8,25.2,25.4,25.0,25.0,25.3],\"type\":\"scatter\",\"xaxis\":\"x9\",\"yaxis\":\"y9\"},{\"mode\":\"lines+markers\",\"name\":\"Cost of Living Index\",\"x\":[\"2011\",\"2012\",\"2013\",\"2014\",\"2014-mid\",\"2015\",\"2015-mid\",\"2016-mid\",\"2017\",\"2017-mid\",\"2018\",\"2018-mid\",\"2019\",\"2019-mid\",\"2020\",\"2020-mid\",\"2021\",\"2021-mid\",\"2022\",\"2024-mid\"],\"y\":[null,null,null,null,null,null,null,null,null,null,null,null,75.2,null,null,null,null,null,null,null],\"type\":\"scatter\",\"xaxis\":\"x10\",\"yaxis\":\"y10\"},{\"mode\":\"lines+markers\",\"name\":\"Rent Index\",\"x\":[\"2011\",\"2012\",\"2013\",\"2014\",\"2014-mid\",\"2015\",\"2015-mid\",\"2016-mid\",\"2017\",\"2017-mid\",\"2018\",\"2018-mid\",\"2019\",\"2019-mid\",\"2020\",\"2020-mid\",\"2021\",\"2021-mid\",\"2022\",\"2024-mid\"],\"y\":[null,null,null,null,null,null,null,null,null,null,null,null,40.0,null,null,null,null,null,null,null],\"type\":\"scatter\",\"xaxis\":\"x11\",\"yaxis\":\"y11\"},{\"mode\":\"lines+markers\",\"name\":\"Cost of Living Plus Rent Index\",\"x\":[\"2011\",\"2012\",\"2013\",\"2014\",\"2014-mid\",\"2015\",\"2015-mid\",\"2016-mid\",\"2017\",\"2017-mid\",\"2018\",\"2018-mid\",\"2019\",\"2019-mid\",\"2020\",\"2020-mid\",\"2021\",\"2021-mid\",\"2022\",\"2024-mid\"],\"y\":[null,null,null,null,null,null,null,null,null,null,null,null,58.3,null,null,null,null,null,null,null],\"type\":\"scatter\",\"xaxis\":\"x12\",\"yaxis\":\"y12\"},{\"mode\":\"lines+markers\",\"name\":\"Groceries Index\",\"x\":[\"2011\",\"2012\",\"2013\",\"2014\",\"2014-mid\",\"2015\",\"2015-mid\",\"2016-mid\",\"2017\",\"2017-mid\",\"2018\",\"2018-mid\",\"2019\",\"2019-mid\",\"2020\",\"2020-mid\",\"2021\",\"2021-mid\",\"2022\",\"2024-mid\"],\"y\":[null,null,null,null,null,null,null,null,null,null,null,null,73.0,null,null,null,null,null,null,null],\"type\":\"scatter\",\"xaxis\":\"x13\",\"yaxis\":\"y13\"},{\"mode\":\"lines+markers\",\"name\":\"Restaurant Index\",\"x\":[\"2011\",\"2012\",\"2013\",\"2014\",\"2014-mid\",\"2015\",\"2015-mid\",\"2016-mid\",\"2017\",\"2017-mid\",\"2018\",\"2018-mid\",\"2019\",\"2019-mid\",\"2020\",\"2020-mid\",\"2021\",\"2021-mid\",\"2022\",\"2024-mid\"],\"y\":[null,null,null,null,null,null,null,null,null,null,null,null,77.3,null,null,null,null,null,null,null],\"type\":\"scatter\",\"xaxis\":\"x14\",\"yaxis\":\"y14\"},{\"mode\":\"lines+markers\",\"name\":\"Local Purchasing Power Index\",\"x\":[\"2011\",\"2012\",\"2013\",\"2014\",\"2014-mid\",\"2015\",\"2015-mid\",\"2016-mid\",\"2017\",\"2017-mid\",\"2018\",\"2018-mid\",\"2019\",\"2019-mid\",\"2020\",\"2020-mid\",\"2021\",\"2021-mid\",\"2022\",\"2024-mid\"],\"y\":[null,null,null,null,null,null,null,null,null,null,null,null,125.4,null,null,null,null,null,null,null],\"type\":\"scatter\",\"xaxis\":\"x15\",\"yaxis\":\"y15\"}],                        {\"template\":{\"data\":{\"histogram2dcontour\":[{\"type\":\"histogram2dcontour\",\"colorbar\":{\"outlinewidth\":0,\"ticks\":\"\"},\"colorscale\":[[0.0,\"#0d0887\"],[0.1111111111111111,\"#46039f\"],[0.2222222222222222,\"#7201a8\"],[0.3333333333333333,\"#9c179e\"],[0.4444444444444444,\"#bd3786\"],[0.5555555555555556,\"#d8576b\"],[0.6666666666666666,\"#ed7953\"],[0.7777777777777778,\"#fb9f3a\"],[0.8888888888888888,\"#fdca26\"],[1.0,\"#f0f921\"]]}],\"choropleth\":[{\"type\":\"choropleth\",\"colorbar\":{\"outlinewidth\":0,\"ticks\":\"\"}}],\"histogram2d\":[{\"type\":\"histogram2d\",\"colorbar\":{\"outlinewidth\":0,\"ticks\":\"\"},\"colorscale\":[[0.0,\"#0d0887\"],[0.1111111111111111,\"#46039f\"],[0.2222222222222222,\"#7201a8\"],[0.3333333333333333,\"#9c179e\"],[0.4444444444444444,\"#bd3786\"],[0.5555555555555556,\"#d8576b\"],[0.6666666666666666,\"#ed7953\"],[0.7777777777777778,\"#fb9f3a\"],[0.8888888888888888,\"#fdca26\"],[1.0,\"#f0f921\"]]}],\"heatmap\":[{\"type\":\"heatmap\",\"colorbar\":{\"outlinewidth\":0,\"ticks\":\"\"},\"colorscale\":[[0.0,\"#0d0887\"],[0.1111111111111111,\"#46039f\"],[0.2222222222222222,\"#7201a8\"],[0.3333333333333333,\"#9c179e\"],[0.4444444444444444,\"#bd3786\"],[0.5555555555555556,\"#d8576b\"],[0.6666666666666666,\"#ed7953\"],[0.7777777777777778,\"#fb9f3a\"],[0.8888888888888888,\"#fdca26\"],[1.0,\"#f0f921\"]]}],\"heatmapgl\":[{\"type\":\"heatmapgl\",\"colorbar\":{\"outlinewidth\":0,\"ticks\":\"\"},\"colorscale\":[[0.0,\"#0d0887\"],[0.1111111111111111,\"#46039f\"],[0.2222222222222222,\"#7201a8\"],[0.3333333333333333,\"#9c179e\"],[0.4444444444444444,\"#bd3786\"],[0.5555555555555556,\"#d8576b\"],[0.6666666666666666,\"#ed7953\"],[0.7777777777777778,\"#fb9f3a\"],[0.8888888888888888,\"#fdca26\"],[1.0,\"#f0f921\"]]}],\"contourcarpet\":[{\"type\":\"contourcarpet\",\"colorbar\":{\"outlinewidth\":0,\"ticks\":\"\"}}],\"contour\":[{\"type\":\"contour\",\"colorbar\":{\"outlinewidth\":0,\"ticks\":\"\"},\"colorscale\":[[0.0,\"#0d0887\"],[0.1111111111111111,\"#46039f\"],[0.2222222222222222,\"#7201a8\"],[0.3333333333333333,\"#9c179e\"],[0.4444444444444444,\"#bd3786\"],[0.5555555555555556,\"#d8576b\"],[0.6666666666666666,\"#ed7953\"],[0.7777777777777778,\"#fb9f3a\"],[0.8888888888888888,\"#fdca26\"],[1.0,\"#f0f921\"]]}],\"surface\":[{\"type\":\"surface\",\"colorbar\":{\"outlinewidth\":0,\"ticks\":\"\"},\"colorscale\":[[0.0,\"#0d0887\"],[0.1111111111111111,\"#46039f\"],[0.2222222222222222,\"#7201a8\"],[0.3333333333333333,\"#9c179e\"],[0.4444444444444444,\"#bd3786\"],[0.5555555555555556,\"#d8576b\"],[0.6666666666666666,\"#ed7953\"],[0.7777777777777778,\"#fb9f3a\"],[0.8888888888888888,\"#fdca26\"],[1.0,\"#f0f921\"]]}],\"mesh3d\":[{\"type\":\"mesh3d\",\"colorbar\":{\"outlinewidth\":0,\"ticks\":\"\"}}],\"scatter\":[{\"fillpattern\":{\"fillmode\":\"overlay\",\"size\":10,\"solidity\":0.2},\"type\":\"scatter\"}],\"parcoords\":[{\"type\":\"parcoords\",\"line\":{\"colorbar\":{\"outlinewidth\":0,\"ticks\":\"\"}}}],\"scatterpolargl\":[{\"type\":\"scatterpolargl\",\"marker\":{\"colorbar\":{\"outlinewidth\":0,\"ticks\":\"\"}}}],\"bar\":[{\"error_x\":{\"color\":\"#2a3f5f\"},\"error_y\":{\"color\":\"#2a3f5f\"},\"marker\":{\"line\":{\"color\":\"#E5ECF6\",\"width\":0.5},\"pattern\":{\"fillmode\":\"overlay\",\"size\":10,\"solidity\":0.2}},\"type\":\"bar\"}],\"scattergeo\":[{\"type\":\"scattergeo\",\"marker\":{\"colorbar\":{\"outlinewidth\":0,\"ticks\":\"\"}}}],\"scatterpolar\":[{\"type\":\"scatterpolar\",\"marker\":{\"colorbar\":{\"outlinewidth\":0,\"ticks\":\"\"}}}],\"histogram\":[{\"marker\":{\"pattern\":{\"fillmode\":\"overlay\",\"size\":10,\"solidity\":0.2}},\"type\":\"histogram\"}],\"scattergl\":[{\"type\":\"scattergl\",\"marker\":{\"colorbar\":{\"outlinewidth\":0,\"ticks\":\"\"}}}],\"scatter3d\":[{\"type\":\"scatter3d\",\"line\":{\"colorbar\":{\"outlinewidth\":0,\"ticks\":\"\"}},\"marker\":{\"colorbar\":{\"outlinewidth\":0,\"ticks\":\"\"}}}],\"scattermapbox\":[{\"type\":\"scattermapbox\",\"marker\":{\"colorbar\":{\"outlinewidth\":0,\"ticks\":\"\"}}}],\"scatterternary\":[{\"type\":\"scatterternary\",\"marker\":{\"colorbar\":{\"outlinewidth\":0,\"ticks\":\"\"}}}],\"scattercarpet\":[{\"type\":\"scattercarpet\",\"marker\":{\"colorbar\":{\"outlinewidth\":0,\"ticks\":\"\"}}}],\"carpet\":[{\"aaxis\":{\"endlinecolor\":\"#2a3f5f\",\"gridcolor\":\"white\",\"linecolor\":\"white\",\"minorgridcolor\":\"white\",\"startlinecolor\":\"#2a3f5f\"},\"baxis\":{\"endlinecolor\":\"#2a3f5f\",\"gridcolor\":\"white\",\"linecolor\":\"white\",\"minorgridcolor\":\"white\",\"startlinecolor\":\"#2a3f5f\"},\"type\":\"carpet\"}],\"table\":[{\"cells\":{\"fill\":{\"color\":\"#EBF0F8\"},\"line\":{\"color\":\"white\"}},\"header\":{\"fill\":{\"color\":\"#C8D4E3\"},\"line\":{\"color\":\"white\"}},\"type\":\"table\"}],\"barpolar\":[{\"marker\":{\"line\":{\"color\":\"#E5ECF6\",\"width\":0.5},\"pattern\":{\"fillmode\":\"overlay\",\"size\":10,\"solidity\":0.2}},\"type\":\"barpolar\"}],\"pie\":[{\"automargin\":true,\"type\":\"pie\"}]},\"layout\":{\"autotypenumbers\":\"strict\",\"colorway\":[\"#636efa\",\"#EF553B\",\"#00cc96\",\"#ab63fa\",\"#FFA15A\",\"#19d3f3\",\"#FF6692\",\"#B6E880\",\"#FF97FF\",\"#FECB52\"],\"font\":{\"color\":\"#2a3f5f\"},\"hovermode\":\"closest\",\"hoverlabel\":{\"align\":\"left\"},\"paper_bgcolor\":\"white\",\"plot_bgcolor\":\"#E5ECF6\",\"polar\":{\"bgcolor\":\"#E5ECF6\",\"angularaxis\":{\"gridcolor\":\"white\",\"linecolor\":\"white\",\"ticks\":\"\"},\"radialaxis\":{\"gridcolor\":\"white\",\"linecolor\":\"white\",\"ticks\":\"\"}},\"ternary\":{\"bgcolor\":\"#E5ECF6\",\"aaxis\":{\"gridcolor\":\"white\",\"linecolor\":\"white\",\"ticks\":\"\"},\"baxis\":{\"gridcolor\":\"white\",\"linecolor\":\"white\",\"ticks\":\"\"},\"caxis\":{\"gridcolor\":\"white\",\"linecolor\":\"white\",\"ticks\":\"\"}},\"coloraxis\":{\"colorbar\":{\"outlinewidth\":0,\"ticks\":\"\"}},\"colorscale\":{\"sequential\":[[0.0,\"#0d0887\"],[0.1111111111111111,\"#46039f\"],[0.2222222222222222,\"#7201a8\"],[0.3333333333333333,\"#9c179e\"],[0.4444444444444444,\"#bd3786\"],[0.5555555555555556,\"#d8576b\"],[0.6666666666666666,\"#ed7953\"],[0.7777777777777778,\"#fb9f3a\"],[0.8888888888888888,\"#fdca26\"],[1.0,\"#f0f921\"]],\"sequentialminus\":[[0.0,\"#0d0887\"],[0.1111111111111111,\"#46039f\"],[0.2222222222222222,\"#7201a8\"],[0.3333333333333333,\"#9c179e\"],[0.4444444444444444,\"#bd3786\"],[0.5555555555555556,\"#d8576b\"],[0.6666666666666666,\"#ed7953\"],[0.7777777777777778,\"#fb9f3a\"],[0.8888888888888888,\"#fdca26\"],[1.0,\"#f0f921\"]],\"diverging\":[[0,\"#8e0152\"],[0.1,\"#c51b7d\"],[0.2,\"#de77ae\"],[0.3,\"#f1b6da\"],[0.4,\"#fde0ef\"],[0.5,\"#f7f7f7\"],[0.6,\"#e6f5d0\"],[0.7,\"#b8e186\"],[0.8,\"#7fbc41\"],[0.9,\"#4d9221\"],[1,\"#276419\"]]},\"xaxis\":{\"gridcolor\":\"white\",\"linecolor\":\"white\",\"ticks\":\"\",\"title\":{\"standoff\":15},\"zerolinecolor\":\"white\",\"automargin\":true,\"zerolinewidth\":2},\"yaxis\":{\"gridcolor\":\"white\",\"linecolor\":\"white\",\"ticks\":\"\",\"title\":{\"standoff\":15},\"zerolinecolor\":\"white\",\"automargin\":true,\"zerolinewidth\":2},\"scene\":{\"xaxis\":{\"backgroundcolor\":\"#E5ECF6\",\"gridcolor\":\"white\",\"linecolor\":\"white\",\"showbackground\":true,\"ticks\":\"\",\"zerolinecolor\":\"white\",\"gridwidth\":2},\"yaxis\":{\"backgroundcolor\":\"#E5ECF6\",\"gridcolor\":\"white\",\"linecolor\":\"white\",\"showbackground\":true,\"ticks\":\"\",\"zerolinecolor\":\"white\",\"gridwidth\":2},\"zaxis\":{\"backgroundcolor\":\"#E5ECF6\",\"gridcolor\":\"white\",\"linecolor\":\"white\",\"showbackground\":true,\"ticks\":\"\",\"zerolinecolor\":\"white\",\"gridwidth\":2}},\"shapedefaults\":{\"line\":{\"color\":\"#2a3f5f\"}},\"annotationdefaults\":{\"arrowcolor\":\"#2a3f5f\",\"arrowhead\":0,\"arrowwidth\":1},\"geo\":{\"bgcolor\":\"white\",\"landcolor\":\"#E5ECF6\",\"subunitcolor\":\"white\",\"showland\":true,\"showlakes\":true,\"lakecolor\":\"white\"},\"title\":{\"x\":0.05},\"mapbox\":{\"style\":\"light\"}}},\"xaxis\":{\"anchor\":\"y\",\"domain\":[0.0,0.2125],\"title\":{\"text\":\"Year\"}},\"yaxis\":{\"anchor\":\"x\",\"domain\":[0.84375,1.0],\"title\":{\"text\":\"Price to Income Ratio\"}},\"xaxis2\":{\"anchor\":\"y2\",\"domain\":[0.2625,0.475],\"title\":{\"text\":\"Year\"}},\"yaxis2\":{\"anchor\":\"x2\",\"domain\":[0.84375,1.0],\"title\":{\"text\":\"Gross Rental Yield City Centre\"}},\"xaxis3\":{\"anchor\":\"y3\",\"domain\":[0.525,0.7375],\"title\":{\"text\":\"Year\"}},\"yaxis3\":{\"anchor\":\"x3\",\"domain\":[0.84375,1.0],\"title\":{\"text\":\"Gross Rental Yield Outside Centre\"}},\"xaxis4\":{\"anchor\":\"y4\",\"domain\":[0.7875,1.0],\"title\":{\"text\":\"Year\"}},\"yaxis4\":{\"anchor\":\"x4\",\"domain\":[0.84375,1.0],\"title\":{\"text\":\"Price to Rent Ratio City Centre\"}},\"xaxis5\":{\"anchor\":\"y5\",\"domain\":[0.0,0.2125],\"title\":{\"text\":\"Year\"}},\"yaxis5\":{\"anchor\":\"x5\",\"domain\":[0.5625,0.71875],\"title\":{\"text\":\"Price to Rent Ratio Outside City Centre\"}},\"xaxis6\":{\"anchor\":\"y6\",\"domain\":[0.2625,0.475],\"title\":{\"text\":\"Year\"}},\"yaxis6\":{\"anchor\":\"x6\",\"domain\":[0.5625,0.71875],\"title\":{\"text\":\"Mortgage as a Percentage of Income\"}},\"xaxis7\":{\"anchor\":\"y7\",\"domain\":[0.525,0.7375],\"title\":{\"text\":\"Year\"}},\"yaxis7\":{\"anchor\":\"x7\",\"domain\":[0.5625,0.71875],\"title\":{\"text\":\"Affordability Index\"}},\"xaxis8\":{\"anchor\":\"y8\",\"domain\":[0.7875,1.0],\"title\":{\"text\":\"Year\"}},\"yaxis8\":{\"anchor\":\"x8\",\"domain\":[0.5625,0.71875],\"title\":{\"text\":\"Crime Index\"}},\"xaxis9\":{\"anchor\":\"y9\",\"domain\":[0.0,0.2125],\"title\":{\"text\":\"Year\"}},\"yaxis9\":{\"anchor\":\"x9\",\"domain\":[0.28125,0.4375],\"title\":{\"text\":\"Safety Index\"}},\"xaxis10\":{\"anchor\":\"y10\",\"domain\":[0.2625,0.475],\"title\":{\"text\":\"Year\"}},\"yaxis10\":{\"anchor\":\"x10\",\"domain\":[0.28125,0.4375],\"title\":{\"text\":\"Cost of Living Index\"}},\"xaxis11\":{\"anchor\":\"y11\",\"domain\":[0.525,0.7375],\"title\":{\"text\":\"Year\"}},\"yaxis11\":{\"anchor\":\"x11\",\"domain\":[0.28125,0.4375],\"title\":{\"text\":\"Rent Index\"}},\"xaxis12\":{\"anchor\":\"y12\",\"domain\":[0.7875,1.0],\"title\":{\"text\":\"Year\"}},\"yaxis12\":{\"anchor\":\"x12\",\"domain\":[0.28125,0.4375],\"title\":{\"text\":\"Cost of Living Plus Rent Index\"}},\"xaxis13\":{\"anchor\":\"y13\",\"domain\":[0.0,0.2125],\"title\":{\"text\":\"Year\"}},\"yaxis13\":{\"anchor\":\"x13\",\"domain\":[0.0,0.15625],\"title\":{\"text\":\"Groceries Index\"}},\"xaxis14\":{\"anchor\":\"y14\",\"domain\":[0.2625,0.475],\"title\":{\"text\":\"Year\"}},\"yaxis14\":{\"anchor\":\"x14\",\"domain\":[0.0,0.15625],\"title\":{\"text\":\"Restaurant Index\"}},\"xaxis15\":{\"anchor\":\"y15\",\"domain\":[0.525,0.7375],\"title\":{\"text\":\"Year\"}},\"yaxis15\":{\"anchor\":\"x15\",\"domain\":[0.0,0.15625],\"title\":{\"text\":\"Local Purchasing Power Index\"}},\"xaxis16\":{\"anchor\":\"y16\",\"domain\":[0.7875,1.0]},\"yaxis16\":{\"anchor\":\"x16\",\"domain\":[0.0,0.15625]},\"annotations\":[{\"font\":{\"size\":16},\"showarrow\":false,\"text\":\"Price to Income Ratio\",\"x\":0.10625,\"xanchor\":\"center\",\"xref\":\"paper\",\"y\":1.0,\"yanchor\":\"bottom\",\"yref\":\"paper\"},{\"font\":{\"size\":16},\"showarrow\":false,\"text\":\"Gross Rental Yield City Centre\",\"x\":0.36875,\"xanchor\":\"center\",\"xref\":\"paper\",\"y\":1.0,\"yanchor\":\"bottom\",\"yref\":\"paper\"},{\"font\":{\"size\":16},\"showarrow\":false,\"text\":\"Gross Rental Yield Outside Centre\",\"x\":0.6312500000000001,\"xanchor\":\"center\",\"xref\":\"paper\",\"y\":1.0,\"yanchor\":\"bottom\",\"yref\":\"paper\"},{\"font\":{\"size\":16},\"showarrow\":false,\"text\":\"Price to Rent Ratio City Centre\",\"x\":0.89375,\"xanchor\":\"center\",\"xref\":\"paper\",\"y\":1.0,\"yanchor\":\"bottom\",\"yref\":\"paper\"},{\"font\":{\"size\":16},\"showarrow\":false,\"text\":\"Price to Rent Ratio Outside City Centre\",\"x\":0.10625,\"xanchor\":\"center\",\"xref\":\"paper\",\"y\":0.71875,\"yanchor\":\"bottom\",\"yref\":\"paper\"},{\"font\":{\"size\":16},\"showarrow\":false,\"text\":\"Mortgage as a Percentage of Income\",\"x\":0.36875,\"xanchor\":\"center\",\"xref\":\"paper\",\"y\":0.71875,\"yanchor\":\"bottom\",\"yref\":\"paper\"},{\"font\":{\"size\":16},\"showarrow\":false,\"text\":\"Affordability Index\",\"x\":0.6312500000000001,\"xanchor\":\"center\",\"xref\":\"paper\",\"y\":0.71875,\"yanchor\":\"bottom\",\"yref\":\"paper\"},{\"font\":{\"size\":16},\"showarrow\":false,\"text\":\"Crime Index\",\"x\":0.89375,\"xanchor\":\"center\",\"xref\":\"paper\",\"y\":0.71875,\"yanchor\":\"bottom\",\"yref\":\"paper\"},{\"font\":{\"size\":16},\"showarrow\":false,\"text\":\"Safety Index\",\"x\":0.10625,\"xanchor\":\"center\",\"xref\":\"paper\",\"y\":0.4375,\"yanchor\":\"bottom\",\"yref\":\"paper\"},{\"font\":{\"size\":16},\"showarrow\":false,\"text\":\"Cost of Living Index\",\"x\":0.36875,\"xanchor\":\"center\",\"xref\":\"paper\",\"y\":0.4375,\"yanchor\":\"bottom\",\"yref\":\"paper\"},{\"font\":{\"size\":16},\"showarrow\":false,\"text\":\"Rent Index\",\"x\":0.6312500000000001,\"xanchor\":\"center\",\"xref\":\"paper\",\"y\":0.4375,\"yanchor\":\"bottom\",\"yref\":\"paper\"},{\"font\":{\"size\":16},\"showarrow\":false,\"text\":\"Cost of Living Plus Rent Index\",\"x\":0.89375,\"xanchor\":\"center\",\"xref\":\"paper\",\"y\":0.4375,\"yanchor\":\"bottom\",\"yref\":\"paper\"},{\"font\":{\"size\":16},\"showarrow\":false,\"text\":\"Groceries Index\",\"x\":0.10625,\"xanchor\":\"center\",\"xref\":\"paper\",\"y\":0.15625,\"yanchor\":\"bottom\",\"yref\":\"paper\"},{\"font\":{\"size\":16},\"showarrow\":false,\"text\":\"Restaurant Index\",\"x\":0.36875,\"xanchor\":\"center\",\"xref\":\"paper\",\"y\":0.15625,\"yanchor\":\"bottom\",\"yref\":\"paper\"},{\"font\":{\"size\":16},\"showarrow\":false,\"text\":\"Local Purchasing Power Index\",\"x\":0.6312500000000001,\"xanchor\":\"center\",\"xref\":\"paper\",\"y\":0.15625,\"yanchor\":\"bottom\",\"yref\":\"paper\"}],\"title\":{\"text\":\"Baltimore, MD, United States\"},\"height\":1500,\"width\":1500},                        {\"responsive\": true}                    ).then(function(){\n",
       "                            \n",
       "var gd = document.getElementById('073111c4-0f16-4dad-a6e6-02bd15f24641');\n",
       "var x = new MutationObserver(function (mutations, observer) {{\n",
       "        var display = window.getComputedStyle(gd).display;\n",
       "        if (!display || display === 'none') {{\n",
       "            console.log([gd, 'removed!']);\n",
       "            Plotly.purge(gd);\n",
       "            observer.disconnect();\n",
       "        }}\n",
       "}});\n",
       "\n",
       "// Listen for the removal of the full notebook cells\n",
       "var notebookContainer = gd.closest('#notebook-container');\n",
       "if (notebookContainer) {{\n",
       "    x.observe(notebookContainer, {childList: true});\n",
       "}}\n",
       "\n",
       "// Listen for the clearing of the current output cell\n",
       "var outputEl = gd.closest('.output');\n",
       "if (outputEl) {{\n",
       "    x.observe(outputEl, {childList: true});\n",
       "}}\n",
       "\n",
       "                        })                };                });            </script>        </div>"
      ]
     },
     "metadata": {},
     "output_type": "display_data"
    },
    {
     "data": {
      "application/vnd.plotly.v1+json": {
       "config": {
        "plotlyServerURL": "https://plot.ly"
       },
       "data": [
        {
         "mode": "lines+markers",
         "name": "Price to Income Ratio",
         "type": "scatter",
         "x": [
          "2012",
          "2014",
          "2014-mid",
          "2015",
          "2015-mid",
          "2017",
          "2017-mid",
          "2018",
          "2018-mid",
          "2019",
          "2019-mid",
          "2020",
          "2020-mid",
          "2021",
          "2021-mid",
          "2022",
          "2022-mid",
          "2024-mid"
         ],
         "xaxis": "x",
         "y": [
          4.3,
          2.5,
          2.5,
          2.4,
          3.6,
          1.6,
          1.7,
          1.8,
          1.9,
          1.9,
          1.8,
          1.7,
          2,
          2.3,
          2.4,
          1.8,
          2.5,
          2.3
         ],
         "yaxis": "y"
        },
        {
         "mode": "lines+markers",
         "name": "Gross Rental Yield City Centre",
         "type": "scatter",
         "x": [
          "2012",
          "2014",
          "2014-mid",
          "2015",
          "2015-mid",
          "2017",
          "2017-mid",
          "2018",
          "2018-mid",
          "2019",
          "2019-mid",
          "2020",
          "2020-mid",
          "2021",
          "2021-mid",
          "2022",
          "2022-mid",
          "2024-mid"
         ],
         "xaxis": "x2",
         "y": [
          6.5,
          12.6,
          11.5,
          11.5,
          5.7,
          17.2,
          17.3,
          16.3,
          15.1,
          15.5,
          14.3,
          14.1,
          10.6,
          9,
          9.3,
          10.9,
          8.3,
          13.7
         ],
         "yaxis": "y2"
        },
        {
         "mode": "lines+markers",
         "name": "Gross Rental Yield Outside Centre",
         "type": "scatter",
         "x": [
          "2012",
          "2014",
          "2014-mid",
          "2015",
          "2015-mid",
          "2017",
          "2017-mid",
          "2018",
          "2018-mid",
          "2019",
          "2019-mid",
          "2020",
          "2020-mid",
          "2021",
          "2021-mid",
          "2022",
          "2022-mid",
          "2024-mid"
         ],
         "xaxis": "x3",
         "y": [
          6.2,
          15.5,
          14.8,
          15.5,
          12.4,
          19.7,
          19.6,
          21.1,
          19.1,
          19.8,
          20.3,
          20.3,
          23.1,
          23.5,
          23.7,
          22,
          15.4,
          11.5
         ],
         "yaxis": "y3"
        },
        {
         "mode": "lines+markers",
         "name": "Price to Rent Ratio City Centre",
         "type": "scatter",
         "x": [
          "2012",
          "2014",
          "2014-mid",
          "2015",
          "2015-mid",
          "2017",
          "2017-mid",
          "2018",
          "2018-mid",
          "2019",
          "2019-mid",
          "2020",
          "2020-mid",
          "2021",
          "2021-mid",
          "2022",
          "2022-mid",
          "2024-mid"
         ],
         "xaxis": "x4",
         "y": [
          15.4,
          7.9,
          8.7,
          8.7,
          17.4,
          5.8,
          5.8,
          6.1,
          6.6,
          6.5,
          7,
          7.1,
          9.4,
          11.1,
          10.7,
          9.1,
          12.1,
          7.3
         ],
         "yaxis": "y4"
        },
        {
         "mode": "lines+markers",
         "name": "Price to Rent Ratio Outside City Centre",
         "type": "scatter",
         "x": [
          "2012",
          "2014",
          "2014-mid",
          "2015",
          "2015-mid",
          "2017",
          "2017-mid",
          "2018",
          "2018-mid",
          "2019",
          "2019-mid",
          "2020",
          "2020-mid",
          "2021",
          "2021-mid",
          "2022",
          "2022-mid",
          "2024-mid"
         ],
         "xaxis": "x5",
         "y": [
          16.1,
          6.5,
          6.8,
          6.4,
          8,
          5.1,
          5.1,
          4.7,
          5.2,
          5.1,
          4.9,
          4.9,
          4.3,
          4.3,
          4.2,
          4.6,
          6.5,
          8.7
         ],
         "yaxis": "y5"
        },
        {
         "mode": "lines+markers",
         "name": "Mortgage as a Percentage of Income",
         "type": "scatter",
         "x": [
          "2012",
          "2014",
          "2014-mid",
          "2015",
          "2015-mid",
          "2017",
          "2017-mid",
          "2018",
          "2018-mid",
          "2019",
          "2019-mid",
          "2020",
          "2020-mid",
          "2021",
          "2021-mid",
          "2022",
          "2022-mid",
          "2024-mid"
         ],
         "xaxis": "x6",
         "y": [
          "36.9",
          "18.2",
          "18.2",
          "17.6",
          "26.0",
          "11.4",
          "12.4",
          "13.1",
          "13.6",
          "14.0",
          "13.4",
          "12.9",
          "14.7",
          "16.7",
          "16.9",
          "12.6",
          "19.4",
          "20.5"
         ],
         "yaxis": "y6"
        },
        {
         "mode": "lines+markers",
         "name": "Affordability Index",
         "type": "scatter",
         "x": [
          "2012",
          "2014",
          "2014-mid",
          "2015",
          "2015-mid",
          "2017",
          "2017-mid",
          "2018",
          "2018-mid",
          "2019",
          "2019-mid",
          "2020",
          "2020-mid",
          "2021",
          "2021-mid",
          "2022",
          "2022-mid",
          "2024-mid"
         ],
         "xaxis": "x7",
         "y": [
          "2.7",
          "5.5",
          "5.5",
          "5.7",
          "3.8",
          "8.8",
          "8.0",
          "7.6",
          "7.3",
          "7.1",
          "7.5",
          "7.8",
          "6.8",
          "6.0",
          "5.9",
          "7.9",
          "5.2",
          "4.9"
         ],
         "yaxis": "y7"
        },
        {
         "mode": "lines+markers",
         "name": "Crime Index",
         "type": "scatter",
         "x": [
          "2012",
          "2014",
          "2014-mid",
          "2015",
          "2015-mid",
          "2017",
          "2017-mid",
          "2018",
          "2018-mid",
          "2019",
          "2019-mid",
          "2020",
          "2020-mid",
          "2021",
          "2021-mid",
          "2022",
          "2022-mid",
          "2024-mid"
         ],
         "xaxis": "x8",
         "y": [
          null,
          null,
          null,
          null,
          null,
          null,
          null,
          null,
          null,
          null,
          null,
          null,
          null,
          null,
          null,
          null,
          null,
          null
         ],
         "yaxis": "y8"
        },
        {
         "mode": "lines+markers",
         "name": "Safety Index",
         "type": "scatter",
         "x": [
          "2012",
          "2014",
          "2014-mid",
          "2015",
          "2015-mid",
          "2017",
          "2017-mid",
          "2018",
          "2018-mid",
          "2019",
          "2019-mid",
          "2020",
          "2020-mid",
          "2021",
          "2021-mid",
          "2022",
          "2022-mid",
          "2024-mid"
         ],
         "xaxis": "x9",
         "y": [
          null,
          null,
          null,
          null,
          null,
          null,
          null,
          null,
          null,
          null,
          null,
          null,
          null,
          null,
          null,
          null,
          null,
          null
         ],
         "yaxis": "y9"
        },
        {
         "mode": "lines+markers",
         "name": "Cost of Living Index",
         "type": "scatter",
         "x": [
          "2012",
          "2014",
          "2014-mid",
          "2015",
          "2015-mid",
          "2017",
          "2017-mid",
          "2018",
          "2018-mid",
          "2019",
          "2019-mid",
          "2020",
          "2020-mid",
          "2021",
          "2021-mid",
          "2022",
          "2022-mid",
          "2024-mid"
         ],
         "xaxis": "x10",
         "y": [
          null,
          null,
          null,
          null,
          null,
          null,
          null,
          null,
          null,
          null,
          null,
          null,
          null,
          null,
          null,
          null,
          null,
          null
         ],
         "yaxis": "y10"
        },
        {
         "mode": "lines+markers",
         "name": "Rent Index",
         "type": "scatter",
         "x": [
          "2012",
          "2014",
          "2014-mid",
          "2015",
          "2015-mid",
          "2017",
          "2017-mid",
          "2018",
          "2018-mid",
          "2019",
          "2019-mid",
          "2020",
          "2020-mid",
          "2021",
          "2021-mid",
          "2022",
          "2022-mid",
          "2024-mid"
         ],
         "xaxis": "x11",
         "y": [
          null,
          null,
          null,
          null,
          null,
          null,
          null,
          null,
          null,
          null,
          null,
          null,
          null,
          null,
          null,
          null,
          null,
          null
         ],
         "yaxis": "y11"
        },
        {
         "mode": "lines+markers",
         "name": "Cost of Living Plus Rent Index",
         "type": "scatter",
         "x": [
          "2012",
          "2014",
          "2014-mid",
          "2015",
          "2015-mid",
          "2017",
          "2017-mid",
          "2018",
          "2018-mid",
          "2019",
          "2019-mid",
          "2020",
          "2020-mid",
          "2021",
          "2021-mid",
          "2022",
          "2022-mid",
          "2024-mid"
         ],
         "xaxis": "x12",
         "y": [
          null,
          null,
          null,
          null,
          null,
          null,
          null,
          null,
          null,
          null,
          null,
          null,
          null,
          null,
          null,
          null,
          null,
          null
         ],
         "yaxis": "y12"
        },
        {
         "mode": "lines+markers",
         "name": "Groceries Index",
         "type": "scatter",
         "x": [
          "2012",
          "2014",
          "2014-mid",
          "2015",
          "2015-mid",
          "2017",
          "2017-mid",
          "2018",
          "2018-mid",
          "2019",
          "2019-mid",
          "2020",
          "2020-mid",
          "2021",
          "2021-mid",
          "2022",
          "2022-mid",
          "2024-mid"
         ],
         "xaxis": "x13",
         "y": [
          null,
          null,
          null,
          null,
          null,
          null,
          null,
          null,
          null,
          null,
          null,
          null,
          null,
          null,
          null,
          null,
          null,
          null
         ],
         "yaxis": "y13"
        },
        {
         "mode": "lines+markers",
         "name": "Restaurant Index",
         "type": "scatter",
         "x": [
          "2012",
          "2014",
          "2014-mid",
          "2015",
          "2015-mid",
          "2017",
          "2017-mid",
          "2018",
          "2018-mid",
          "2019",
          "2019-mid",
          "2020",
          "2020-mid",
          "2021",
          "2021-mid",
          "2022",
          "2022-mid",
          "2024-mid"
         ],
         "xaxis": "x14",
         "y": [
          null,
          null,
          null,
          null,
          null,
          null,
          null,
          null,
          null,
          null,
          null,
          null,
          null,
          null,
          null,
          null,
          null,
          null
         ],
         "yaxis": "y14"
        },
        {
         "mode": "lines+markers",
         "name": "Local Purchasing Power Index",
         "type": "scatter",
         "x": [
          "2012",
          "2014",
          "2014-mid",
          "2015",
          "2015-mid",
          "2017",
          "2017-mid",
          "2018",
          "2018-mid",
          "2019",
          "2019-mid",
          "2020",
          "2020-mid",
          "2021",
          "2021-mid",
          "2022",
          "2022-mid",
          "2024-mid"
         ],
         "xaxis": "x15",
         "y": [
          null,
          null,
          null,
          null,
          null,
          null,
          null,
          null,
          null,
          null,
          null,
          null,
          null,
          null,
          null,
          null,
          null,
          null
         ],
         "yaxis": "y15"
        }
       ],
       "layout": {
        "annotations": [
         {
          "font": {
           "size": 16
          },
          "showarrow": false,
          "text": "Price to Income Ratio",
          "x": 0.10625,
          "xanchor": "center",
          "xref": "paper",
          "y": 1,
          "yanchor": "bottom",
          "yref": "paper"
         },
         {
          "font": {
           "size": 16
          },
          "showarrow": false,
          "text": "Gross Rental Yield City Centre",
          "x": 0.36875,
          "xanchor": "center",
          "xref": "paper",
          "y": 1,
          "yanchor": "bottom",
          "yref": "paper"
         },
         {
          "font": {
           "size": 16
          },
          "showarrow": false,
          "text": "Gross Rental Yield Outside Centre",
          "x": 0.6312500000000001,
          "xanchor": "center",
          "xref": "paper",
          "y": 1,
          "yanchor": "bottom",
          "yref": "paper"
         },
         {
          "font": {
           "size": 16
          },
          "showarrow": false,
          "text": "Price to Rent Ratio City Centre",
          "x": 0.89375,
          "xanchor": "center",
          "xref": "paper",
          "y": 1,
          "yanchor": "bottom",
          "yref": "paper"
         },
         {
          "font": {
           "size": 16
          },
          "showarrow": false,
          "text": "Price to Rent Ratio Outside City Centre",
          "x": 0.10625,
          "xanchor": "center",
          "xref": "paper",
          "y": 0.71875,
          "yanchor": "bottom",
          "yref": "paper"
         },
         {
          "font": {
           "size": 16
          },
          "showarrow": false,
          "text": "Mortgage as a Percentage of Income",
          "x": 0.36875,
          "xanchor": "center",
          "xref": "paper",
          "y": 0.71875,
          "yanchor": "bottom",
          "yref": "paper"
         },
         {
          "font": {
           "size": 16
          },
          "showarrow": false,
          "text": "Affordability Index",
          "x": 0.6312500000000001,
          "xanchor": "center",
          "xref": "paper",
          "y": 0.71875,
          "yanchor": "bottom",
          "yref": "paper"
         },
         {
          "font": {
           "size": 16
          },
          "showarrow": false,
          "text": "Crime Index",
          "x": 0.89375,
          "xanchor": "center",
          "xref": "paper",
          "y": 0.71875,
          "yanchor": "bottom",
          "yref": "paper"
         },
         {
          "font": {
           "size": 16
          },
          "showarrow": false,
          "text": "Safety Index",
          "x": 0.10625,
          "xanchor": "center",
          "xref": "paper",
          "y": 0.4375,
          "yanchor": "bottom",
          "yref": "paper"
         },
         {
          "font": {
           "size": 16
          },
          "showarrow": false,
          "text": "Cost of Living Index",
          "x": 0.36875,
          "xanchor": "center",
          "xref": "paper",
          "y": 0.4375,
          "yanchor": "bottom",
          "yref": "paper"
         },
         {
          "font": {
           "size": 16
          },
          "showarrow": false,
          "text": "Rent Index",
          "x": 0.6312500000000001,
          "xanchor": "center",
          "xref": "paper",
          "y": 0.4375,
          "yanchor": "bottom",
          "yref": "paper"
         },
         {
          "font": {
           "size": 16
          },
          "showarrow": false,
          "text": "Cost of Living Plus Rent Index",
          "x": 0.89375,
          "xanchor": "center",
          "xref": "paper",
          "y": 0.4375,
          "yanchor": "bottom",
          "yref": "paper"
         },
         {
          "font": {
           "size": 16
          },
          "showarrow": false,
          "text": "Groceries Index",
          "x": 0.10625,
          "xanchor": "center",
          "xref": "paper",
          "y": 0.15625,
          "yanchor": "bottom",
          "yref": "paper"
         },
         {
          "font": {
           "size": 16
          },
          "showarrow": false,
          "text": "Restaurant Index",
          "x": 0.36875,
          "xanchor": "center",
          "xref": "paper",
          "y": 0.15625,
          "yanchor": "bottom",
          "yref": "paper"
         },
         {
          "font": {
           "size": 16
          },
          "showarrow": false,
          "text": "Local Purchasing Power Index",
          "x": 0.6312500000000001,
          "xanchor": "center",
          "xref": "paper",
          "y": 0.15625,
          "yanchor": "bottom",
          "yref": "paper"
         }
        ],
        "height": 1500,
        "template": {
         "data": {
          "bar": [
           {
            "error_x": {
             "color": "#2a3f5f"
            },
            "error_y": {
             "color": "#2a3f5f"
            },
            "marker": {
             "line": {
              "color": "#E5ECF6",
              "width": 0.5
             },
             "pattern": {
              "fillmode": "overlay",
              "size": 10,
              "solidity": 0.2
             }
            },
            "type": "bar"
           }
          ],
          "barpolar": [
           {
            "marker": {
             "line": {
              "color": "#E5ECF6",
              "width": 0.5
             },
             "pattern": {
              "fillmode": "overlay",
              "size": 10,
              "solidity": 0.2
             }
            },
            "type": "barpolar"
           }
          ],
          "carpet": [
           {
            "aaxis": {
             "endlinecolor": "#2a3f5f",
             "gridcolor": "white",
             "linecolor": "white",
             "minorgridcolor": "white",
             "startlinecolor": "#2a3f5f"
            },
            "baxis": {
             "endlinecolor": "#2a3f5f",
             "gridcolor": "white",
             "linecolor": "white",
             "minorgridcolor": "white",
             "startlinecolor": "#2a3f5f"
            },
            "type": "carpet"
           }
          ],
          "choropleth": [
           {
            "colorbar": {
             "outlinewidth": 0,
             "ticks": ""
            },
            "type": "choropleth"
           }
          ],
          "contour": [
           {
            "colorbar": {
             "outlinewidth": 0,
             "ticks": ""
            },
            "colorscale": [
             [
              0,
              "#0d0887"
             ],
             [
              0.1111111111111111,
              "#46039f"
             ],
             [
              0.2222222222222222,
              "#7201a8"
             ],
             [
              0.3333333333333333,
              "#9c179e"
             ],
             [
              0.4444444444444444,
              "#bd3786"
             ],
             [
              0.5555555555555556,
              "#d8576b"
             ],
             [
              0.6666666666666666,
              "#ed7953"
             ],
             [
              0.7777777777777778,
              "#fb9f3a"
             ],
             [
              0.8888888888888888,
              "#fdca26"
             ],
             [
              1,
              "#f0f921"
             ]
            ],
            "type": "contour"
           }
          ],
          "contourcarpet": [
           {
            "colorbar": {
             "outlinewidth": 0,
             "ticks": ""
            },
            "type": "contourcarpet"
           }
          ],
          "heatmap": [
           {
            "colorbar": {
             "outlinewidth": 0,
             "ticks": ""
            },
            "colorscale": [
             [
              0,
              "#0d0887"
             ],
             [
              0.1111111111111111,
              "#46039f"
             ],
             [
              0.2222222222222222,
              "#7201a8"
             ],
             [
              0.3333333333333333,
              "#9c179e"
             ],
             [
              0.4444444444444444,
              "#bd3786"
             ],
             [
              0.5555555555555556,
              "#d8576b"
             ],
             [
              0.6666666666666666,
              "#ed7953"
             ],
             [
              0.7777777777777778,
              "#fb9f3a"
             ],
             [
              0.8888888888888888,
              "#fdca26"
             ],
             [
              1,
              "#f0f921"
             ]
            ],
            "type": "heatmap"
           }
          ],
          "heatmapgl": [
           {
            "colorbar": {
             "outlinewidth": 0,
             "ticks": ""
            },
            "colorscale": [
             [
              0,
              "#0d0887"
             ],
             [
              0.1111111111111111,
              "#46039f"
             ],
             [
              0.2222222222222222,
              "#7201a8"
             ],
             [
              0.3333333333333333,
              "#9c179e"
             ],
             [
              0.4444444444444444,
              "#bd3786"
             ],
             [
              0.5555555555555556,
              "#d8576b"
             ],
             [
              0.6666666666666666,
              "#ed7953"
             ],
             [
              0.7777777777777778,
              "#fb9f3a"
             ],
             [
              0.8888888888888888,
              "#fdca26"
             ],
             [
              1,
              "#f0f921"
             ]
            ],
            "type": "heatmapgl"
           }
          ],
          "histogram": [
           {
            "marker": {
             "pattern": {
              "fillmode": "overlay",
              "size": 10,
              "solidity": 0.2
             }
            },
            "type": "histogram"
           }
          ],
          "histogram2d": [
           {
            "colorbar": {
             "outlinewidth": 0,
             "ticks": ""
            },
            "colorscale": [
             [
              0,
              "#0d0887"
             ],
             [
              0.1111111111111111,
              "#46039f"
             ],
             [
              0.2222222222222222,
              "#7201a8"
             ],
             [
              0.3333333333333333,
              "#9c179e"
             ],
             [
              0.4444444444444444,
              "#bd3786"
             ],
             [
              0.5555555555555556,
              "#d8576b"
             ],
             [
              0.6666666666666666,
              "#ed7953"
             ],
             [
              0.7777777777777778,
              "#fb9f3a"
             ],
             [
              0.8888888888888888,
              "#fdca26"
             ],
             [
              1,
              "#f0f921"
             ]
            ],
            "type": "histogram2d"
           }
          ],
          "histogram2dcontour": [
           {
            "colorbar": {
             "outlinewidth": 0,
             "ticks": ""
            },
            "colorscale": [
             [
              0,
              "#0d0887"
             ],
             [
              0.1111111111111111,
              "#46039f"
             ],
             [
              0.2222222222222222,
              "#7201a8"
             ],
             [
              0.3333333333333333,
              "#9c179e"
             ],
             [
              0.4444444444444444,
              "#bd3786"
             ],
             [
              0.5555555555555556,
              "#d8576b"
             ],
             [
              0.6666666666666666,
              "#ed7953"
             ],
             [
              0.7777777777777778,
              "#fb9f3a"
             ],
             [
              0.8888888888888888,
              "#fdca26"
             ],
             [
              1,
              "#f0f921"
             ]
            ],
            "type": "histogram2dcontour"
           }
          ],
          "mesh3d": [
           {
            "colorbar": {
             "outlinewidth": 0,
             "ticks": ""
            },
            "type": "mesh3d"
           }
          ],
          "parcoords": [
           {
            "line": {
             "colorbar": {
              "outlinewidth": 0,
              "ticks": ""
             }
            },
            "type": "parcoords"
           }
          ],
          "pie": [
           {
            "automargin": true,
            "type": "pie"
           }
          ],
          "scatter": [
           {
            "fillpattern": {
             "fillmode": "overlay",
             "size": 10,
             "solidity": 0.2
            },
            "type": "scatter"
           }
          ],
          "scatter3d": [
           {
            "line": {
             "colorbar": {
              "outlinewidth": 0,
              "ticks": ""
             }
            },
            "marker": {
             "colorbar": {
              "outlinewidth": 0,
              "ticks": ""
             }
            },
            "type": "scatter3d"
           }
          ],
          "scattercarpet": [
           {
            "marker": {
             "colorbar": {
              "outlinewidth": 0,
              "ticks": ""
             }
            },
            "type": "scattercarpet"
           }
          ],
          "scattergeo": [
           {
            "marker": {
             "colorbar": {
              "outlinewidth": 0,
              "ticks": ""
             }
            },
            "type": "scattergeo"
           }
          ],
          "scattergl": [
           {
            "marker": {
             "colorbar": {
              "outlinewidth": 0,
              "ticks": ""
             }
            },
            "type": "scattergl"
           }
          ],
          "scattermapbox": [
           {
            "marker": {
             "colorbar": {
              "outlinewidth": 0,
              "ticks": ""
             }
            },
            "type": "scattermapbox"
           }
          ],
          "scatterpolar": [
           {
            "marker": {
             "colorbar": {
              "outlinewidth": 0,
              "ticks": ""
             }
            },
            "type": "scatterpolar"
           }
          ],
          "scatterpolargl": [
           {
            "marker": {
             "colorbar": {
              "outlinewidth": 0,
              "ticks": ""
             }
            },
            "type": "scatterpolargl"
           }
          ],
          "scatterternary": [
           {
            "marker": {
             "colorbar": {
              "outlinewidth": 0,
              "ticks": ""
             }
            },
            "type": "scatterternary"
           }
          ],
          "surface": [
           {
            "colorbar": {
             "outlinewidth": 0,
             "ticks": ""
            },
            "colorscale": [
             [
              0,
              "#0d0887"
             ],
             [
              0.1111111111111111,
              "#46039f"
             ],
             [
              0.2222222222222222,
              "#7201a8"
             ],
             [
              0.3333333333333333,
              "#9c179e"
             ],
             [
              0.4444444444444444,
              "#bd3786"
             ],
             [
              0.5555555555555556,
              "#d8576b"
             ],
             [
              0.6666666666666666,
              "#ed7953"
             ],
             [
              0.7777777777777778,
              "#fb9f3a"
             ],
             [
              0.8888888888888888,
              "#fdca26"
             ],
             [
              1,
              "#f0f921"
             ]
            ],
            "type": "surface"
           }
          ],
          "table": [
           {
            "cells": {
             "fill": {
              "color": "#EBF0F8"
             },
             "line": {
              "color": "white"
             }
            },
            "header": {
             "fill": {
              "color": "#C8D4E3"
             },
             "line": {
              "color": "white"
             }
            },
            "type": "table"
           }
          ]
         },
         "layout": {
          "annotationdefaults": {
           "arrowcolor": "#2a3f5f",
           "arrowhead": 0,
           "arrowwidth": 1
          },
          "autotypenumbers": "strict",
          "coloraxis": {
           "colorbar": {
            "outlinewidth": 0,
            "ticks": ""
           }
          },
          "colorscale": {
           "diverging": [
            [
             0,
             "#8e0152"
            ],
            [
             0.1,
             "#c51b7d"
            ],
            [
             0.2,
             "#de77ae"
            ],
            [
             0.3,
             "#f1b6da"
            ],
            [
             0.4,
             "#fde0ef"
            ],
            [
             0.5,
             "#f7f7f7"
            ],
            [
             0.6,
             "#e6f5d0"
            ],
            [
             0.7,
             "#b8e186"
            ],
            [
             0.8,
             "#7fbc41"
            ],
            [
             0.9,
             "#4d9221"
            ],
            [
             1,
             "#276419"
            ]
           ],
           "sequential": [
            [
             0,
             "#0d0887"
            ],
            [
             0.1111111111111111,
             "#46039f"
            ],
            [
             0.2222222222222222,
             "#7201a8"
            ],
            [
             0.3333333333333333,
             "#9c179e"
            ],
            [
             0.4444444444444444,
             "#bd3786"
            ],
            [
             0.5555555555555556,
             "#d8576b"
            ],
            [
             0.6666666666666666,
             "#ed7953"
            ],
            [
             0.7777777777777778,
             "#fb9f3a"
            ],
            [
             0.8888888888888888,
             "#fdca26"
            ],
            [
             1,
             "#f0f921"
            ]
           ],
           "sequentialminus": [
            [
             0,
             "#0d0887"
            ],
            [
             0.1111111111111111,
             "#46039f"
            ],
            [
             0.2222222222222222,
             "#7201a8"
            ],
            [
             0.3333333333333333,
             "#9c179e"
            ],
            [
             0.4444444444444444,
             "#bd3786"
            ],
            [
             0.5555555555555556,
             "#d8576b"
            ],
            [
             0.6666666666666666,
             "#ed7953"
            ],
            [
             0.7777777777777778,
             "#fb9f3a"
            ],
            [
             0.8888888888888888,
             "#fdca26"
            ],
            [
             1,
             "#f0f921"
            ]
           ]
          },
          "colorway": [
           "#636efa",
           "#EF553B",
           "#00cc96",
           "#ab63fa",
           "#FFA15A",
           "#19d3f3",
           "#FF6692",
           "#B6E880",
           "#FF97FF",
           "#FECB52"
          ],
          "font": {
           "color": "#2a3f5f"
          },
          "geo": {
           "bgcolor": "white",
           "lakecolor": "white",
           "landcolor": "#E5ECF6",
           "showlakes": true,
           "showland": true,
           "subunitcolor": "white"
          },
          "hoverlabel": {
           "align": "left"
          },
          "hovermode": "closest",
          "mapbox": {
           "style": "light"
          },
          "paper_bgcolor": "white",
          "plot_bgcolor": "#E5ECF6",
          "polar": {
           "angularaxis": {
            "gridcolor": "white",
            "linecolor": "white",
            "ticks": ""
           },
           "bgcolor": "#E5ECF6",
           "radialaxis": {
            "gridcolor": "white",
            "linecolor": "white",
            "ticks": ""
           }
          },
          "scene": {
           "xaxis": {
            "backgroundcolor": "#E5ECF6",
            "gridcolor": "white",
            "gridwidth": 2,
            "linecolor": "white",
            "showbackground": true,
            "ticks": "",
            "zerolinecolor": "white"
           },
           "yaxis": {
            "backgroundcolor": "#E5ECF6",
            "gridcolor": "white",
            "gridwidth": 2,
            "linecolor": "white",
            "showbackground": true,
            "ticks": "",
            "zerolinecolor": "white"
           },
           "zaxis": {
            "backgroundcolor": "#E5ECF6",
            "gridcolor": "white",
            "gridwidth": 2,
            "linecolor": "white",
            "showbackground": true,
            "ticks": "",
            "zerolinecolor": "white"
           }
          },
          "shapedefaults": {
           "line": {
            "color": "#2a3f5f"
           }
          },
          "ternary": {
           "aaxis": {
            "gridcolor": "white",
            "linecolor": "white",
            "ticks": ""
           },
           "baxis": {
            "gridcolor": "white",
            "linecolor": "white",
            "ticks": ""
           },
           "bgcolor": "#E5ECF6",
           "caxis": {
            "gridcolor": "white",
            "linecolor": "white",
            "ticks": ""
           }
          },
          "title": {
           "x": 0.05
          },
          "xaxis": {
           "automargin": true,
           "gridcolor": "white",
           "linecolor": "white",
           "ticks": "",
           "title": {
            "standoff": 15
           },
           "zerolinecolor": "white",
           "zerolinewidth": 2
          },
          "yaxis": {
           "automargin": true,
           "gridcolor": "white",
           "linecolor": "white",
           "ticks": "",
           "title": {
            "standoff": 15
           },
           "zerolinecolor": "white",
           "zerolinewidth": 2
          }
         }
        },
        "title": {
         "text": "Tulsa, OK, United States"
        },
        "width": 1500,
        "xaxis": {
         "anchor": "y",
         "domain": [
          0,
          0.2125
         ],
         "title": {
          "text": "Year"
         }
        },
        "xaxis10": {
         "anchor": "y10",
         "domain": [
          0.2625,
          0.475
         ],
         "title": {
          "text": "Year"
         }
        },
        "xaxis11": {
         "anchor": "y11",
         "domain": [
          0.525,
          0.7375
         ],
         "title": {
          "text": "Year"
         }
        },
        "xaxis12": {
         "anchor": "y12",
         "domain": [
          0.7875,
          1
         ],
         "title": {
          "text": "Year"
         }
        },
        "xaxis13": {
         "anchor": "y13",
         "domain": [
          0,
          0.2125
         ],
         "title": {
          "text": "Year"
         }
        },
        "xaxis14": {
         "anchor": "y14",
         "domain": [
          0.2625,
          0.475
         ],
         "title": {
          "text": "Year"
         }
        },
        "xaxis15": {
         "anchor": "y15",
         "domain": [
          0.525,
          0.7375
         ],
         "title": {
          "text": "Year"
         }
        },
        "xaxis16": {
         "anchor": "y16",
         "domain": [
          0.7875,
          1
         ]
        },
        "xaxis2": {
         "anchor": "y2",
         "domain": [
          0.2625,
          0.475
         ],
         "title": {
          "text": "Year"
         }
        },
        "xaxis3": {
         "anchor": "y3",
         "domain": [
          0.525,
          0.7375
         ],
         "title": {
          "text": "Year"
         }
        },
        "xaxis4": {
         "anchor": "y4",
         "domain": [
          0.7875,
          1
         ],
         "title": {
          "text": "Year"
         }
        },
        "xaxis5": {
         "anchor": "y5",
         "domain": [
          0,
          0.2125
         ],
         "title": {
          "text": "Year"
         }
        },
        "xaxis6": {
         "anchor": "y6",
         "domain": [
          0.2625,
          0.475
         ],
         "title": {
          "text": "Year"
         }
        },
        "xaxis7": {
         "anchor": "y7",
         "domain": [
          0.525,
          0.7375
         ],
         "title": {
          "text": "Year"
         }
        },
        "xaxis8": {
         "anchor": "y8",
         "domain": [
          0.7875,
          1
         ],
         "title": {
          "text": "Year"
         }
        },
        "xaxis9": {
         "anchor": "y9",
         "domain": [
          0,
          0.2125
         ],
         "title": {
          "text": "Year"
         }
        },
        "yaxis": {
         "anchor": "x",
         "domain": [
          0.84375,
          1
         ],
         "title": {
          "text": "Price to Income Ratio"
         }
        },
        "yaxis10": {
         "anchor": "x10",
         "domain": [
          0.28125,
          0.4375
         ],
         "title": {
          "text": "Cost of Living Index"
         }
        },
        "yaxis11": {
         "anchor": "x11",
         "domain": [
          0.28125,
          0.4375
         ],
         "title": {
          "text": "Rent Index"
         }
        },
        "yaxis12": {
         "anchor": "x12",
         "domain": [
          0.28125,
          0.4375
         ],
         "title": {
          "text": "Cost of Living Plus Rent Index"
         }
        },
        "yaxis13": {
         "anchor": "x13",
         "domain": [
          0,
          0.15625
         ],
         "title": {
          "text": "Groceries Index"
         }
        },
        "yaxis14": {
         "anchor": "x14",
         "domain": [
          0,
          0.15625
         ],
         "title": {
          "text": "Restaurant Index"
         }
        },
        "yaxis15": {
         "anchor": "x15",
         "domain": [
          0,
          0.15625
         ],
         "title": {
          "text": "Local Purchasing Power Index"
         }
        },
        "yaxis16": {
         "anchor": "x16",
         "domain": [
          0,
          0.15625
         ]
        },
        "yaxis2": {
         "anchor": "x2",
         "domain": [
          0.84375,
          1
         ],
         "title": {
          "text": "Gross Rental Yield City Centre"
         }
        },
        "yaxis3": {
         "anchor": "x3",
         "domain": [
          0.84375,
          1
         ],
         "title": {
          "text": "Gross Rental Yield Outside Centre"
         }
        },
        "yaxis4": {
         "anchor": "x4",
         "domain": [
          0.84375,
          1
         ],
         "title": {
          "text": "Price to Rent Ratio City Centre"
         }
        },
        "yaxis5": {
         "anchor": "x5",
         "domain": [
          0.5625,
          0.71875
         ],
         "title": {
          "text": "Price to Rent Ratio Outside City Centre"
         }
        },
        "yaxis6": {
         "anchor": "x6",
         "domain": [
          0.5625,
          0.71875
         ],
         "title": {
          "text": "Mortgage as a Percentage of Income"
         }
        },
        "yaxis7": {
         "anchor": "x7",
         "domain": [
          0.5625,
          0.71875
         ],
         "title": {
          "text": "Affordability Index"
         }
        },
        "yaxis8": {
         "anchor": "x8",
         "domain": [
          0.5625,
          0.71875
         ],
         "title": {
          "text": "Crime Index"
         }
        },
        "yaxis9": {
         "anchor": "x9",
         "domain": [
          0.28125,
          0.4375
         ],
         "title": {
          "text": "Safety Index"
         }
        }
       }
      },
      "text/html": [
       "<div>                            <div id=\"e85e78e7-6d65-4aa3-adb9-9bf7537124bd\" class=\"plotly-graph-div\" style=\"height:1500px; width:1500px;\"></div>            <script type=\"text/javascript\">                require([\"plotly\"], function(Plotly) {                    window.PLOTLYENV=window.PLOTLYENV || {};                                    if (document.getElementById(\"e85e78e7-6d65-4aa3-adb9-9bf7537124bd\")) {                    Plotly.newPlot(                        \"e85e78e7-6d65-4aa3-adb9-9bf7537124bd\",                        [{\"mode\":\"lines+markers\",\"name\":\"Price to Income Ratio\",\"x\":[\"2012\",\"2014\",\"2014-mid\",\"2015\",\"2015-mid\",\"2017\",\"2017-mid\",\"2018\",\"2018-mid\",\"2019\",\"2019-mid\",\"2020\",\"2020-mid\",\"2021\",\"2021-mid\",\"2022\",\"2022-mid\",\"2024-mid\"],\"y\":[4.3,2.5,2.5,2.4,3.6,1.6,1.7,1.8,1.9,1.9,1.8,1.7,2.0,2.3,2.4,1.8,2.5,2.3],\"type\":\"scatter\",\"xaxis\":\"x\",\"yaxis\":\"y\"},{\"mode\":\"lines+markers\",\"name\":\"Gross Rental Yield City Centre\",\"x\":[\"2012\",\"2014\",\"2014-mid\",\"2015\",\"2015-mid\",\"2017\",\"2017-mid\",\"2018\",\"2018-mid\",\"2019\",\"2019-mid\",\"2020\",\"2020-mid\",\"2021\",\"2021-mid\",\"2022\",\"2022-mid\",\"2024-mid\"],\"y\":[6.5,12.6,11.5,11.5,5.7,17.2,17.3,16.3,15.1,15.5,14.3,14.1,10.6,9.0,9.3,10.9,8.3,13.7],\"type\":\"scatter\",\"xaxis\":\"x2\",\"yaxis\":\"y2\"},{\"mode\":\"lines+markers\",\"name\":\"Gross Rental Yield Outside Centre\",\"x\":[\"2012\",\"2014\",\"2014-mid\",\"2015\",\"2015-mid\",\"2017\",\"2017-mid\",\"2018\",\"2018-mid\",\"2019\",\"2019-mid\",\"2020\",\"2020-mid\",\"2021\",\"2021-mid\",\"2022\",\"2022-mid\",\"2024-mid\"],\"y\":[6.2,15.5,14.8,15.5,12.4,19.7,19.6,21.1,19.1,19.8,20.3,20.3,23.1,23.5,23.7,22.0,15.4,11.5],\"type\":\"scatter\",\"xaxis\":\"x3\",\"yaxis\":\"y3\"},{\"mode\":\"lines+markers\",\"name\":\"Price to Rent Ratio City Centre\",\"x\":[\"2012\",\"2014\",\"2014-mid\",\"2015\",\"2015-mid\",\"2017\",\"2017-mid\",\"2018\",\"2018-mid\",\"2019\",\"2019-mid\",\"2020\",\"2020-mid\",\"2021\",\"2021-mid\",\"2022\",\"2022-mid\",\"2024-mid\"],\"y\":[15.4,7.9,8.7,8.7,17.4,5.8,5.8,6.1,6.6,6.5,7.0,7.1,9.4,11.1,10.7,9.1,12.1,7.3],\"type\":\"scatter\",\"xaxis\":\"x4\",\"yaxis\":\"y4\"},{\"mode\":\"lines+markers\",\"name\":\"Price to Rent Ratio Outside City Centre\",\"x\":[\"2012\",\"2014\",\"2014-mid\",\"2015\",\"2015-mid\",\"2017\",\"2017-mid\",\"2018\",\"2018-mid\",\"2019\",\"2019-mid\",\"2020\",\"2020-mid\",\"2021\",\"2021-mid\",\"2022\",\"2022-mid\",\"2024-mid\"],\"y\":[16.1,6.5,6.8,6.4,8.0,5.1,5.1,4.7,5.2,5.1,4.9,4.9,4.3,4.3,4.2,4.6,6.5,8.7],\"type\":\"scatter\",\"xaxis\":\"x5\",\"yaxis\":\"y5\"},{\"mode\":\"lines+markers\",\"name\":\"Mortgage as a Percentage of Income\",\"x\":[\"2012\",\"2014\",\"2014-mid\",\"2015\",\"2015-mid\",\"2017\",\"2017-mid\",\"2018\",\"2018-mid\",\"2019\",\"2019-mid\",\"2020\",\"2020-mid\",\"2021\",\"2021-mid\",\"2022\",\"2022-mid\",\"2024-mid\"],\"y\":[\"36.9\",\"18.2\",\"18.2\",\"17.6\",\"26.0\",\"11.4\",\"12.4\",\"13.1\",\"13.6\",\"14.0\",\"13.4\",\"12.9\",\"14.7\",\"16.7\",\"16.9\",\"12.6\",\"19.4\",\"20.5\"],\"type\":\"scatter\",\"xaxis\":\"x6\",\"yaxis\":\"y6\"},{\"mode\":\"lines+markers\",\"name\":\"Affordability Index\",\"x\":[\"2012\",\"2014\",\"2014-mid\",\"2015\",\"2015-mid\",\"2017\",\"2017-mid\",\"2018\",\"2018-mid\",\"2019\",\"2019-mid\",\"2020\",\"2020-mid\",\"2021\",\"2021-mid\",\"2022\",\"2022-mid\",\"2024-mid\"],\"y\":[\"2.7\",\"5.5\",\"5.5\",\"5.7\",\"3.8\",\"8.8\",\"8.0\",\"7.6\",\"7.3\",\"7.1\",\"7.5\",\"7.8\",\"6.8\",\"6.0\",\"5.9\",\"7.9\",\"5.2\",\"4.9\"],\"type\":\"scatter\",\"xaxis\":\"x7\",\"yaxis\":\"y7\"},{\"mode\":\"lines+markers\",\"name\":\"Crime Index\",\"x\":[\"2012\",\"2014\",\"2014-mid\",\"2015\",\"2015-mid\",\"2017\",\"2017-mid\",\"2018\",\"2018-mid\",\"2019\",\"2019-mid\",\"2020\",\"2020-mid\",\"2021\",\"2021-mid\",\"2022\",\"2022-mid\",\"2024-mid\"],\"y\":[null,null,null,null,null,null,null,null,null,null,null,null,null,null,null,null,null,null],\"type\":\"scatter\",\"xaxis\":\"x8\",\"yaxis\":\"y8\"},{\"mode\":\"lines+markers\",\"name\":\"Safety Index\",\"x\":[\"2012\",\"2014\",\"2014-mid\",\"2015\",\"2015-mid\",\"2017\",\"2017-mid\",\"2018\",\"2018-mid\",\"2019\",\"2019-mid\",\"2020\",\"2020-mid\",\"2021\",\"2021-mid\",\"2022\",\"2022-mid\",\"2024-mid\"],\"y\":[null,null,null,null,null,null,null,null,null,null,null,null,null,null,null,null,null,null],\"type\":\"scatter\",\"xaxis\":\"x9\",\"yaxis\":\"y9\"},{\"mode\":\"lines+markers\",\"name\":\"Cost of Living Index\",\"x\":[\"2012\",\"2014\",\"2014-mid\",\"2015\",\"2015-mid\",\"2017\",\"2017-mid\",\"2018\",\"2018-mid\",\"2019\",\"2019-mid\",\"2020\",\"2020-mid\",\"2021\",\"2021-mid\",\"2022\",\"2022-mid\",\"2024-mid\"],\"y\":[null,null,null,null,null,null,null,null,null,null,null,null,null,null,null,null,null,null],\"type\":\"scatter\",\"xaxis\":\"x10\",\"yaxis\":\"y10\"},{\"mode\":\"lines+markers\",\"name\":\"Rent Index\",\"x\":[\"2012\",\"2014\",\"2014-mid\",\"2015\",\"2015-mid\",\"2017\",\"2017-mid\",\"2018\",\"2018-mid\",\"2019\",\"2019-mid\",\"2020\",\"2020-mid\",\"2021\",\"2021-mid\",\"2022\",\"2022-mid\",\"2024-mid\"],\"y\":[null,null,null,null,null,null,null,null,null,null,null,null,null,null,null,null,null,null],\"type\":\"scatter\",\"xaxis\":\"x11\",\"yaxis\":\"y11\"},{\"mode\":\"lines+markers\",\"name\":\"Cost of Living Plus Rent Index\",\"x\":[\"2012\",\"2014\",\"2014-mid\",\"2015\",\"2015-mid\",\"2017\",\"2017-mid\",\"2018\",\"2018-mid\",\"2019\",\"2019-mid\",\"2020\",\"2020-mid\",\"2021\",\"2021-mid\",\"2022\",\"2022-mid\",\"2024-mid\"],\"y\":[null,null,null,null,null,null,null,null,null,null,null,null,null,null,null,null,null,null],\"type\":\"scatter\",\"xaxis\":\"x12\",\"yaxis\":\"y12\"},{\"mode\":\"lines+markers\",\"name\":\"Groceries Index\",\"x\":[\"2012\",\"2014\",\"2014-mid\",\"2015\",\"2015-mid\",\"2017\",\"2017-mid\",\"2018\",\"2018-mid\",\"2019\",\"2019-mid\",\"2020\",\"2020-mid\",\"2021\",\"2021-mid\",\"2022\",\"2022-mid\",\"2024-mid\"],\"y\":[null,null,null,null,null,null,null,null,null,null,null,null,null,null,null,null,null,null],\"type\":\"scatter\",\"xaxis\":\"x13\",\"yaxis\":\"y13\"},{\"mode\":\"lines+markers\",\"name\":\"Restaurant Index\",\"x\":[\"2012\",\"2014\",\"2014-mid\",\"2015\",\"2015-mid\",\"2017\",\"2017-mid\",\"2018\",\"2018-mid\",\"2019\",\"2019-mid\",\"2020\",\"2020-mid\",\"2021\",\"2021-mid\",\"2022\",\"2022-mid\",\"2024-mid\"],\"y\":[null,null,null,null,null,null,null,null,null,null,null,null,null,null,null,null,null,null],\"type\":\"scatter\",\"xaxis\":\"x14\",\"yaxis\":\"y14\"},{\"mode\":\"lines+markers\",\"name\":\"Local Purchasing Power Index\",\"x\":[\"2012\",\"2014\",\"2014-mid\",\"2015\",\"2015-mid\",\"2017\",\"2017-mid\",\"2018\",\"2018-mid\",\"2019\",\"2019-mid\",\"2020\",\"2020-mid\",\"2021\",\"2021-mid\",\"2022\",\"2022-mid\",\"2024-mid\"],\"y\":[null,null,null,null,null,null,null,null,null,null,null,null,null,null,null,null,null,null],\"type\":\"scatter\",\"xaxis\":\"x15\",\"yaxis\":\"y15\"}],                        {\"template\":{\"data\":{\"histogram2dcontour\":[{\"type\":\"histogram2dcontour\",\"colorbar\":{\"outlinewidth\":0,\"ticks\":\"\"},\"colorscale\":[[0.0,\"#0d0887\"],[0.1111111111111111,\"#46039f\"],[0.2222222222222222,\"#7201a8\"],[0.3333333333333333,\"#9c179e\"],[0.4444444444444444,\"#bd3786\"],[0.5555555555555556,\"#d8576b\"],[0.6666666666666666,\"#ed7953\"],[0.7777777777777778,\"#fb9f3a\"],[0.8888888888888888,\"#fdca26\"],[1.0,\"#f0f921\"]]}],\"choropleth\":[{\"type\":\"choropleth\",\"colorbar\":{\"outlinewidth\":0,\"ticks\":\"\"}}],\"histogram2d\":[{\"type\":\"histogram2d\",\"colorbar\":{\"outlinewidth\":0,\"ticks\":\"\"},\"colorscale\":[[0.0,\"#0d0887\"],[0.1111111111111111,\"#46039f\"],[0.2222222222222222,\"#7201a8\"],[0.3333333333333333,\"#9c179e\"],[0.4444444444444444,\"#bd3786\"],[0.5555555555555556,\"#d8576b\"],[0.6666666666666666,\"#ed7953\"],[0.7777777777777778,\"#fb9f3a\"],[0.8888888888888888,\"#fdca26\"],[1.0,\"#f0f921\"]]}],\"heatmap\":[{\"type\":\"heatmap\",\"colorbar\":{\"outlinewidth\":0,\"ticks\":\"\"},\"colorscale\":[[0.0,\"#0d0887\"],[0.1111111111111111,\"#46039f\"],[0.2222222222222222,\"#7201a8\"],[0.3333333333333333,\"#9c179e\"],[0.4444444444444444,\"#bd3786\"],[0.5555555555555556,\"#d8576b\"],[0.6666666666666666,\"#ed7953\"],[0.7777777777777778,\"#fb9f3a\"],[0.8888888888888888,\"#fdca26\"],[1.0,\"#f0f921\"]]}],\"heatmapgl\":[{\"type\":\"heatmapgl\",\"colorbar\":{\"outlinewidth\":0,\"ticks\":\"\"},\"colorscale\":[[0.0,\"#0d0887\"],[0.1111111111111111,\"#46039f\"],[0.2222222222222222,\"#7201a8\"],[0.3333333333333333,\"#9c179e\"],[0.4444444444444444,\"#bd3786\"],[0.5555555555555556,\"#d8576b\"],[0.6666666666666666,\"#ed7953\"],[0.7777777777777778,\"#fb9f3a\"],[0.8888888888888888,\"#fdca26\"],[1.0,\"#f0f921\"]]}],\"contourcarpet\":[{\"type\":\"contourcarpet\",\"colorbar\":{\"outlinewidth\":0,\"ticks\":\"\"}}],\"contour\":[{\"type\":\"contour\",\"colorbar\":{\"outlinewidth\":0,\"ticks\":\"\"},\"colorscale\":[[0.0,\"#0d0887\"],[0.1111111111111111,\"#46039f\"],[0.2222222222222222,\"#7201a8\"],[0.3333333333333333,\"#9c179e\"],[0.4444444444444444,\"#bd3786\"],[0.5555555555555556,\"#d8576b\"],[0.6666666666666666,\"#ed7953\"],[0.7777777777777778,\"#fb9f3a\"],[0.8888888888888888,\"#fdca26\"],[1.0,\"#f0f921\"]]}],\"surface\":[{\"type\":\"surface\",\"colorbar\":{\"outlinewidth\":0,\"ticks\":\"\"},\"colorscale\":[[0.0,\"#0d0887\"],[0.1111111111111111,\"#46039f\"],[0.2222222222222222,\"#7201a8\"],[0.3333333333333333,\"#9c179e\"],[0.4444444444444444,\"#bd3786\"],[0.5555555555555556,\"#d8576b\"],[0.6666666666666666,\"#ed7953\"],[0.7777777777777778,\"#fb9f3a\"],[0.8888888888888888,\"#fdca26\"],[1.0,\"#f0f921\"]]}],\"mesh3d\":[{\"type\":\"mesh3d\",\"colorbar\":{\"outlinewidth\":0,\"ticks\":\"\"}}],\"scatter\":[{\"fillpattern\":{\"fillmode\":\"overlay\",\"size\":10,\"solidity\":0.2},\"type\":\"scatter\"}],\"parcoords\":[{\"type\":\"parcoords\",\"line\":{\"colorbar\":{\"outlinewidth\":0,\"ticks\":\"\"}}}],\"scatterpolargl\":[{\"type\":\"scatterpolargl\",\"marker\":{\"colorbar\":{\"outlinewidth\":0,\"ticks\":\"\"}}}],\"bar\":[{\"error_x\":{\"color\":\"#2a3f5f\"},\"error_y\":{\"color\":\"#2a3f5f\"},\"marker\":{\"line\":{\"color\":\"#E5ECF6\",\"width\":0.5},\"pattern\":{\"fillmode\":\"overlay\",\"size\":10,\"solidity\":0.2}},\"type\":\"bar\"}],\"scattergeo\":[{\"type\":\"scattergeo\",\"marker\":{\"colorbar\":{\"outlinewidth\":0,\"ticks\":\"\"}}}],\"scatterpolar\":[{\"type\":\"scatterpolar\",\"marker\":{\"colorbar\":{\"outlinewidth\":0,\"ticks\":\"\"}}}],\"histogram\":[{\"marker\":{\"pattern\":{\"fillmode\":\"overlay\",\"size\":10,\"solidity\":0.2}},\"type\":\"histogram\"}],\"scattergl\":[{\"type\":\"scattergl\",\"marker\":{\"colorbar\":{\"outlinewidth\":0,\"ticks\":\"\"}}}],\"scatter3d\":[{\"type\":\"scatter3d\",\"line\":{\"colorbar\":{\"outlinewidth\":0,\"ticks\":\"\"}},\"marker\":{\"colorbar\":{\"outlinewidth\":0,\"ticks\":\"\"}}}],\"scattermapbox\":[{\"type\":\"scattermapbox\",\"marker\":{\"colorbar\":{\"outlinewidth\":0,\"ticks\":\"\"}}}],\"scatterternary\":[{\"type\":\"scatterternary\",\"marker\":{\"colorbar\":{\"outlinewidth\":0,\"ticks\":\"\"}}}],\"scattercarpet\":[{\"type\":\"scattercarpet\",\"marker\":{\"colorbar\":{\"outlinewidth\":0,\"ticks\":\"\"}}}],\"carpet\":[{\"aaxis\":{\"endlinecolor\":\"#2a3f5f\",\"gridcolor\":\"white\",\"linecolor\":\"white\",\"minorgridcolor\":\"white\",\"startlinecolor\":\"#2a3f5f\"},\"baxis\":{\"endlinecolor\":\"#2a3f5f\",\"gridcolor\":\"white\",\"linecolor\":\"white\",\"minorgridcolor\":\"white\",\"startlinecolor\":\"#2a3f5f\"},\"type\":\"carpet\"}],\"table\":[{\"cells\":{\"fill\":{\"color\":\"#EBF0F8\"},\"line\":{\"color\":\"white\"}},\"header\":{\"fill\":{\"color\":\"#C8D4E3\"},\"line\":{\"color\":\"white\"}},\"type\":\"table\"}],\"barpolar\":[{\"marker\":{\"line\":{\"color\":\"#E5ECF6\",\"width\":0.5},\"pattern\":{\"fillmode\":\"overlay\",\"size\":10,\"solidity\":0.2}},\"type\":\"barpolar\"}],\"pie\":[{\"automargin\":true,\"type\":\"pie\"}]},\"layout\":{\"autotypenumbers\":\"strict\",\"colorway\":[\"#636efa\",\"#EF553B\",\"#00cc96\",\"#ab63fa\",\"#FFA15A\",\"#19d3f3\",\"#FF6692\",\"#B6E880\",\"#FF97FF\",\"#FECB52\"],\"font\":{\"color\":\"#2a3f5f\"},\"hovermode\":\"closest\",\"hoverlabel\":{\"align\":\"left\"},\"paper_bgcolor\":\"white\",\"plot_bgcolor\":\"#E5ECF6\",\"polar\":{\"bgcolor\":\"#E5ECF6\",\"angularaxis\":{\"gridcolor\":\"white\",\"linecolor\":\"white\",\"ticks\":\"\"},\"radialaxis\":{\"gridcolor\":\"white\",\"linecolor\":\"white\",\"ticks\":\"\"}},\"ternary\":{\"bgcolor\":\"#E5ECF6\",\"aaxis\":{\"gridcolor\":\"white\",\"linecolor\":\"white\",\"ticks\":\"\"},\"baxis\":{\"gridcolor\":\"white\",\"linecolor\":\"white\",\"ticks\":\"\"},\"caxis\":{\"gridcolor\":\"white\",\"linecolor\":\"white\",\"ticks\":\"\"}},\"coloraxis\":{\"colorbar\":{\"outlinewidth\":0,\"ticks\":\"\"}},\"colorscale\":{\"sequential\":[[0.0,\"#0d0887\"],[0.1111111111111111,\"#46039f\"],[0.2222222222222222,\"#7201a8\"],[0.3333333333333333,\"#9c179e\"],[0.4444444444444444,\"#bd3786\"],[0.5555555555555556,\"#d8576b\"],[0.6666666666666666,\"#ed7953\"],[0.7777777777777778,\"#fb9f3a\"],[0.8888888888888888,\"#fdca26\"],[1.0,\"#f0f921\"]],\"sequentialminus\":[[0.0,\"#0d0887\"],[0.1111111111111111,\"#46039f\"],[0.2222222222222222,\"#7201a8\"],[0.3333333333333333,\"#9c179e\"],[0.4444444444444444,\"#bd3786\"],[0.5555555555555556,\"#d8576b\"],[0.6666666666666666,\"#ed7953\"],[0.7777777777777778,\"#fb9f3a\"],[0.8888888888888888,\"#fdca26\"],[1.0,\"#f0f921\"]],\"diverging\":[[0,\"#8e0152\"],[0.1,\"#c51b7d\"],[0.2,\"#de77ae\"],[0.3,\"#f1b6da\"],[0.4,\"#fde0ef\"],[0.5,\"#f7f7f7\"],[0.6,\"#e6f5d0\"],[0.7,\"#b8e186\"],[0.8,\"#7fbc41\"],[0.9,\"#4d9221\"],[1,\"#276419\"]]},\"xaxis\":{\"gridcolor\":\"white\",\"linecolor\":\"white\",\"ticks\":\"\",\"title\":{\"standoff\":15},\"zerolinecolor\":\"white\",\"automargin\":true,\"zerolinewidth\":2},\"yaxis\":{\"gridcolor\":\"white\",\"linecolor\":\"white\",\"ticks\":\"\",\"title\":{\"standoff\":15},\"zerolinecolor\":\"white\",\"automargin\":true,\"zerolinewidth\":2},\"scene\":{\"xaxis\":{\"backgroundcolor\":\"#E5ECF6\",\"gridcolor\":\"white\",\"linecolor\":\"white\",\"showbackground\":true,\"ticks\":\"\",\"zerolinecolor\":\"white\",\"gridwidth\":2},\"yaxis\":{\"backgroundcolor\":\"#E5ECF6\",\"gridcolor\":\"white\",\"linecolor\":\"white\",\"showbackground\":true,\"ticks\":\"\",\"zerolinecolor\":\"white\",\"gridwidth\":2},\"zaxis\":{\"backgroundcolor\":\"#E5ECF6\",\"gridcolor\":\"white\",\"linecolor\":\"white\",\"showbackground\":true,\"ticks\":\"\",\"zerolinecolor\":\"white\",\"gridwidth\":2}},\"shapedefaults\":{\"line\":{\"color\":\"#2a3f5f\"}},\"annotationdefaults\":{\"arrowcolor\":\"#2a3f5f\",\"arrowhead\":0,\"arrowwidth\":1},\"geo\":{\"bgcolor\":\"white\",\"landcolor\":\"#E5ECF6\",\"subunitcolor\":\"white\",\"showland\":true,\"showlakes\":true,\"lakecolor\":\"white\"},\"title\":{\"x\":0.05},\"mapbox\":{\"style\":\"light\"}}},\"xaxis\":{\"anchor\":\"y\",\"domain\":[0.0,0.2125],\"title\":{\"text\":\"Year\"}},\"yaxis\":{\"anchor\":\"x\",\"domain\":[0.84375,1.0],\"title\":{\"text\":\"Price to Income Ratio\"}},\"xaxis2\":{\"anchor\":\"y2\",\"domain\":[0.2625,0.475],\"title\":{\"text\":\"Year\"}},\"yaxis2\":{\"anchor\":\"x2\",\"domain\":[0.84375,1.0],\"title\":{\"text\":\"Gross Rental Yield City Centre\"}},\"xaxis3\":{\"anchor\":\"y3\",\"domain\":[0.525,0.7375],\"title\":{\"text\":\"Year\"}},\"yaxis3\":{\"anchor\":\"x3\",\"domain\":[0.84375,1.0],\"title\":{\"text\":\"Gross Rental Yield Outside Centre\"}},\"xaxis4\":{\"anchor\":\"y4\",\"domain\":[0.7875,1.0],\"title\":{\"text\":\"Year\"}},\"yaxis4\":{\"anchor\":\"x4\",\"domain\":[0.84375,1.0],\"title\":{\"text\":\"Price to Rent Ratio City Centre\"}},\"xaxis5\":{\"anchor\":\"y5\",\"domain\":[0.0,0.2125],\"title\":{\"text\":\"Year\"}},\"yaxis5\":{\"anchor\":\"x5\",\"domain\":[0.5625,0.71875],\"title\":{\"text\":\"Price to Rent Ratio Outside City Centre\"}},\"xaxis6\":{\"anchor\":\"y6\",\"domain\":[0.2625,0.475],\"title\":{\"text\":\"Year\"}},\"yaxis6\":{\"anchor\":\"x6\",\"domain\":[0.5625,0.71875],\"title\":{\"text\":\"Mortgage as a Percentage of Income\"}},\"xaxis7\":{\"anchor\":\"y7\",\"domain\":[0.525,0.7375],\"title\":{\"text\":\"Year\"}},\"yaxis7\":{\"anchor\":\"x7\",\"domain\":[0.5625,0.71875],\"title\":{\"text\":\"Affordability Index\"}},\"xaxis8\":{\"anchor\":\"y8\",\"domain\":[0.7875,1.0],\"title\":{\"text\":\"Year\"}},\"yaxis8\":{\"anchor\":\"x8\",\"domain\":[0.5625,0.71875],\"title\":{\"text\":\"Crime Index\"}},\"xaxis9\":{\"anchor\":\"y9\",\"domain\":[0.0,0.2125],\"title\":{\"text\":\"Year\"}},\"yaxis9\":{\"anchor\":\"x9\",\"domain\":[0.28125,0.4375],\"title\":{\"text\":\"Safety Index\"}},\"xaxis10\":{\"anchor\":\"y10\",\"domain\":[0.2625,0.475],\"title\":{\"text\":\"Year\"}},\"yaxis10\":{\"anchor\":\"x10\",\"domain\":[0.28125,0.4375],\"title\":{\"text\":\"Cost of Living Index\"}},\"xaxis11\":{\"anchor\":\"y11\",\"domain\":[0.525,0.7375],\"title\":{\"text\":\"Year\"}},\"yaxis11\":{\"anchor\":\"x11\",\"domain\":[0.28125,0.4375],\"title\":{\"text\":\"Rent Index\"}},\"xaxis12\":{\"anchor\":\"y12\",\"domain\":[0.7875,1.0],\"title\":{\"text\":\"Year\"}},\"yaxis12\":{\"anchor\":\"x12\",\"domain\":[0.28125,0.4375],\"title\":{\"text\":\"Cost of Living Plus Rent Index\"}},\"xaxis13\":{\"anchor\":\"y13\",\"domain\":[0.0,0.2125],\"title\":{\"text\":\"Year\"}},\"yaxis13\":{\"anchor\":\"x13\",\"domain\":[0.0,0.15625],\"title\":{\"text\":\"Groceries Index\"}},\"xaxis14\":{\"anchor\":\"y14\",\"domain\":[0.2625,0.475],\"title\":{\"text\":\"Year\"}},\"yaxis14\":{\"anchor\":\"x14\",\"domain\":[0.0,0.15625],\"title\":{\"text\":\"Restaurant Index\"}},\"xaxis15\":{\"anchor\":\"y15\",\"domain\":[0.525,0.7375],\"title\":{\"text\":\"Year\"}},\"yaxis15\":{\"anchor\":\"x15\",\"domain\":[0.0,0.15625],\"title\":{\"text\":\"Local Purchasing Power Index\"}},\"xaxis16\":{\"anchor\":\"y16\",\"domain\":[0.7875,1.0]},\"yaxis16\":{\"anchor\":\"x16\",\"domain\":[0.0,0.15625]},\"annotations\":[{\"font\":{\"size\":16},\"showarrow\":false,\"text\":\"Price to Income Ratio\",\"x\":0.10625,\"xanchor\":\"center\",\"xref\":\"paper\",\"y\":1.0,\"yanchor\":\"bottom\",\"yref\":\"paper\"},{\"font\":{\"size\":16},\"showarrow\":false,\"text\":\"Gross Rental Yield City Centre\",\"x\":0.36875,\"xanchor\":\"center\",\"xref\":\"paper\",\"y\":1.0,\"yanchor\":\"bottom\",\"yref\":\"paper\"},{\"font\":{\"size\":16},\"showarrow\":false,\"text\":\"Gross Rental Yield Outside Centre\",\"x\":0.6312500000000001,\"xanchor\":\"center\",\"xref\":\"paper\",\"y\":1.0,\"yanchor\":\"bottom\",\"yref\":\"paper\"},{\"font\":{\"size\":16},\"showarrow\":false,\"text\":\"Price to Rent Ratio City Centre\",\"x\":0.89375,\"xanchor\":\"center\",\"xref\":\"paper\",\"y\":1.0,\"yanchor\":\"bottom\",\"yref\":\"paper\"},{\"font\":{\"size\":16},\"showarrow\":false,\"text\":\"Price to Rent Ratio Outside City Centre\",\"x\":0.10625,\"xanchor\":\"center\",\"xref\":\"paper\",\"y\":0.71875,\"yanchor\":\"bottom\",\"yref\":\"paper\"},{\"font\":{\"size\":16},\"showarrow\":false,\"text\":\"Mortgage as a Percentage of Income\",\"x\":0.36875,\"xanchor\":\"center\",\"xref\":\"paper\",\"y\":0.71875,\"yanchor\":\"bottom\",\"yref\":\"paper\"},{\"font\":{\"size\":16},\"showarrow\":false,\"text\":\"Affordability Index\",\"x\":0.6312500000000001,\"xanchor\":\"center\",\"xref\":\"paper\",\"y\":0.71875,\"yanchor\":\"bottom\",\"yref\":\"paper\"},{\"font\":{\"size\":16},\"showarrow\":false,\"text\":\"Crime Index\",\"x\":0.89375,\"xanchor\":\"center\",\"xref\":\"paper\",\"y\":0.71875,\"yanchor\":\"bottom\",\"yref\":\"paper\"},{\"font\":{\"size\":16},\"showarrow\":false,\"text\":\"Safety Index\",\"x\":0.10625,\"xanchor\":\"center\",\"xref\":\"paper\",\"y\":0.4375,\"yanchor\":\"bottom\",\"yref\":\"paper\"},{\"font\":{\"size\":16},\"showarrow\":false,\"text\":\"Cost of Living Index\",\"x\":0.36875,\"xanchor\":\"center\",\"xref\":\"paper\",\"y\":0.4375,\"yanchor\":\"bottom\",\"yref\":\"paper\"},{\"font\":{\"size\":16},\"showarrow\":false,\"text\":\"Rent Index\",\"x\":0.6312500000000001,\"xanchor\":\"center\",\"xref\":\"paper\",\"y\":0.4375,\"yanchor\":\"bottom\",\"yref\":\"paper\"},{\"font\":{\"size\":16},\"showarrow\":false,\"text\":\"Cost of Living Plus Rent Index\",\"x\":0.89375,\"xanchor\":\"center\",\"xref\":\"paper\",\"y\":0.4375,\"yanchor\":\"bottom\",\"yref\":\"paper\"},{\"font\":{\"size\":16},\"showarrow\":false,\"text\":\"Groceries Index\",\"x\":0.10625,\"xanchor\":\"center\",\"xref\":\"paper\",\"y\":0.15625,\"yanchor\":\"bottom\",\"yref\":\"paper\"},{\"font\":{\"size\":16},\"showarrow\":false,\"text\":\"Restaurant Index\",\"x\":0.36875,\"xanchor\":\"center\",\"xref\":\"paper\",\"y\":0.15625,\"yanchor\":\"bottom\",\"yref\":\"paper\"},{\"font\":{\"size\":16},\"showarrow\":false,\"text\":\"Local Purchasing Power Index\",\"x\":0.6312500000000001,\"xanchor\":\"center\",\"xref\":\"paper\",\"y\":0.15625,\"yanchor\":\"bottom\",\"yref\":\"paper\"}],\"title\":{\"text\":\"Tulsa, OK, United States\"},\"height\":1500,\"width\":1500},                        {\"responsive\": true}                    ).then(function(){\n",
       "                            \n",
       "var gd = document.getElementById('e85e78e7-6d65-4aa3-adb9-9bf7537124bd');\n",
       "var x = new MutationObserver(function (mutations, observer) {{\n",
       "        var display = window.getComputedStyle(gd).display;\n",
       "        if (!display || display === 'none') {{\n",
       "            console.log([gd, 'removed!']);\n",
       "            Plotly.purge(gd);\n",
       "            observer.disconnect();\n",
       "        }}\n",
       "}});\n",
       "\n",
       "// Listen for the removal of the full notebook cells\n",
       "var notebookContainer = gd.closest('#notebook-container');\n",
       "if (notebookContainer) {{\n",
       "    x.observe(notebookContainer, {childList: true});\n",
       "}}\n",
       "\n",
       "// Listen for the clearing of the current output cell\n",
       "var outputEl = gd.closest('.output');\n",
       "if (outputEl) {{\n",
       "    x.observe(outputEl, {childList: true});\n",
       "}}\n",
       "\n",
       "                        })                };                });            </script>        </div>"
      ]
     },
     "metadata": {},
     "output_type": "display_data"
    },
    {
     "data": {
      "application/vnd.plotly.v1+json": {
       "config": {
        "plotlyServerURL": "https://plot.ly"
       },
       "data": [
        {
         "mode": "lines+markers",
         "name": "Price to Income Ratio",
         "type": "scatter",
         "x": [
          "2010",
          "2011",
          "2012",
          "2013",
          "2014",
          "2014-mid",
          "2015",
          "2015-mid",
          "2016",
          "2016-mid",
          "2017",
          "2017-mid",
          "2018",
          "2018-mid",
          "2019",
          "2019-mid",
          "2020",
          "2020-mid",
          "2021",
          "2021-mid",
          "2022",
          "2022-mid",
          "2023",
          "2023-mid",
          "2024",
          "2024-mid"
         ],
         "xaxis": "x",
         "y": [
          3.3,
          4.1,
          3.7,
          1.7,
          1.5,
          2.7,
          2.8,
          3.1,
          3.4,
          3,
          2.7,
          2.6,
          2.6,
          2.8,
          2.9,
          2.7,
          2.9,
          3.1,
          3.8,
          3.8,
          3.8,
          3.3,
          3.3,
          2.7,
          5.7,
          2.4
         ],
         "yaxis": "y"
        },
        {
         "mode": "lines+markers",
         "name": "Gross Rental Yield City Centre",
         "type": "scatter",
         "x": [
          "2010",
          "2011",
          "2012",
          "2013",
          "2014",
          "2014-mid",
          "2015",
          "2015-mid",
          "2016",
          "2016-mid",
          "2017",
          "2017-mid",
          "2018",
          "2018-mid",
          "2019",
          "2019-mid",
          "2020",
          "2020-mid",
          "2021",
          "2021-mid",
          "2022",
          "2022-mid",
          "2023",
          "2023-mid",
          "2024",
          "2024-mid"
         ],
         "xaxis": "x2",
         "y": [
          8.5,
          6.2,
          7,
          13.4,
          13.4,
          9.9,
          9.8,
          11.2,
          11.2,
          10.6,
          10.4,
          10.4,
          11.1,
          11,
          10.4,
          9.9,
          9.5,
          9.2,
          6.7,
          6.1,
          6.1,
          8.8,
          10.3,
          13.1,
          4.6,
          12.9
         ],
         "yaxis": "y2"
        },
        {
         "mode": "lines+markers",
         "name": "Gross Rental Yield Outside Centre",
         "type": "scatter",
         "x": [
          "2010",
          "2011",
          "2012",
          "2013",
          "2014",
          "2014-mid",
          "2015",
          "2015-mid",
          "2016",
          "2016-mid",
          "2017",
          "2017-mid",
          "2018",
          "2018-mid",
          "2019",
          "2019-mid",
          "2020",
          "2020-mid",
          "2021",
          "2021-mid",
          "2022",
          "2022-mid",
          "2023",
          "2023-mid",
          "2024",
          "2024-mid"
         ],
         "xaxis": "x3",
         "y": [
          9,
          14.5,
          16.7,
          21.4,
          20.8,
          8.1,
          7.9,
          10.2,
          11.6,
          14.8,
          15.5,
          16.5,
          18.9,
          16.9,
          15,
          16,
          13.6,
          12,
          13.4,
          12.8,
          13.6,
          14.3,
          13.5,
          14,
          6.4,
          12.6
         ],
         "yaxis": "y3"
        },
        {
         "mode": "lines+markers",
         "name": "Price to Rent Ratio City Centre",
         "type": "scatter",
         "x": [
          "2010",
          "2011",
          "2012",
          "2013",
          "2014",
          "2014-mid",
          "2015",
          "2015-mid",
          "2016",
          "2016-mid",
          "2017",
          "2017-mid",
          "2018",
          "2018-mid",
          "2019",
          "2019-mid",
          "2020",
          "2020-mid",
          "2021",
          "2021-mid",
          "2022",
          "2022-mid",
          "2023",
          "2023-mid",
          "2024",
          "2024-mid"
         ],
         "xaxis": "x4",
         "y": [
          11.8,
          16.2,
          14.3,
          7.5,
          7.4,
          10.1,
          10.2,
          9,
          8.9,
          9.4,
          9.6,
          9.6,
          9,
          9.1,
          9.6,
          10.1,
          10.6,
          10.9,
          14.9,
          16.3,
          16.5,
          11.3,
          9.7,
          7.6,
          21.5,
          7.7
         ],
         "yaxis": "y4"
        },
        {
         "mode": "lines+markers",
         "name": "Price to Rent Ratio Outside City Centre",
         "type": "scatter",
         "x": [
          "2010",
          "2011",
          "2012",
          "2013",
          "2014",
          "2014-mid",
          "2015",
          "2015-mid",
          "2016",
          "2016-mid",
          "2017",
          "2017-mid",
          "2018",
          "2018-mid",
          "2019",
          "2019-mid",
          "2020",
          "2020-mid",
          "2021",
          "2021-mid",
          "2022",
          "2022-mid",
          "2023",
          "2023-mid",
          "2024",
          "2024-mid"
         ],
         "xaxis": "x5",
         "y": [
          11.1,
          6.9,
          6,
          4.7,
          4.8,
          12.4,
          12.6,
          9.8,
          8.6,
          6.7,
          6.5,
          6.1,
          5.3,
          5.9,
          6.7,
          6.3,
          7.3,
          8.3,
          7.4,
          7.8,
          7.4,
          7,
          7.4,
          7.1,
          15.5,
          7.9
         ],
         "yaxis": "y5"
        },
        {
         "mode": "lines+markers",
         "name": "Mortgage as a Percentage of Income",
         "type": "scatter",
         "x": [
          "2010",
          "2011",
          "2012",
          "2013",
          "2014",
          "2014-mid",
          "2015",
          "2015-mid",
          "2016",
          "2016-mid",
          "2017",
          "2017-mid",
          "2018",
          "2018-mid",
          "2019",
          "2019-mid",
          "2020",
          "2020-mid",
          "2021",
          "2021-mid",
          "2022",
          "2022-mid",
          "2023",
          "2023-mid",
          "2024",
          "2024-mid"
         ],
         "xaxis": "x6",
         "y": [
          "28.8",
          "32.7",
          "28.5",
          "12.5",
          "10.9",
          "19.2",
          "20.1",
          "22.8",
          "24.7",
          "21.7",
          "19.6",
          "18.7",
          "18.4",
          "20.1",
          "21.7",
          "20.3",
          "21.2",
          "22.5",
          "27.5",
          "26.9",
          "26.3",
          "25.1",
          "25.6",
          "23.4",
          "52.3",
          "22.0"
         ],
         "yaxis": "y6"
        },
        {
         "mode": "lines+markers",
         "name": "Affordability Index",
         "type": "scatter",
         "x": [
          "2010",
          "2011",
          "2012",
          "2013",
          "2014",
          "2014-mid",
          "2015",
          "2015-mid",
          "2016",
          "2016-mid",
          "2017",
          "2017-mid",
          "2018",
          "2018-mid",
          "2019",
          "2019-mid",
          "2020",
          "2020-mid",
          "2021",
          "2021-mid",
          "2022",
          "2022-mid",
          "2023",
          "2023-mid",
          "2024",
          "2024-mid"
         ],
         "xaxis": "x7",
         "y": [
          "3.5",
          "3.1",
          "3.5",
          "8.0",
          "9.2",
          "5.2",
          "5.0",
          "4.4",
          "4.0",
          "4.6",
          "5.1",
          "5.3",
          "5.4",
          "5.0",
          "4.6",
          "4.9",
          "4.7",
          "4.5",
          "3.6",
          "3.7",
          "3.8",
          "4.0",
          "3.9",
          "4.3",
          "1.9",
          "4.6"
         ],
         "yaxis": "y7"
        },
        {
         "mode": "lines+markers",
         "name": "Crime Index",
         "type": "scatter",
         "x": [
          "2010",
          "2011",
          "2012",
          "2013",
          "2014",
          "2014-mid",
          "2015",
          "2015-mid",
          "2016",
          "2016-mid",
          "2017",
          "2017-mid",
          "2018",
          "2018-mid",
          "2019",
          "2019-mid",
          "2020",
          "2020-mid",
          "2021",
          "2021-mid",
          "2022",
          "2022-mid",
          "2023",
          "2023-mid",
          "2024",
          "2024-mid"
         ],
         "xaxis": "x8",
         "y": [
          null,
          null,
          null,
          null,
          null,
          56.5,
          59.9,
          64.1,
          64,
          64.5,
          64.8,
          64.7,
          65,
          66.2,
          63.6,
          62.6,
          62.2,
          62.6,
          62,
          62.4,
          63,
          62.8,
          63.5,
          63.9,
          64,
          64
         ],
         "yaxis": "y8"
        },
        {
         "mode": "lines+markers",
         "name": "Safety Index",
         "type": "scatter",
         "x": [
          "2010",
          "2011",
          "2012",
          "2013",
          "2014",
          "2014-mid",
          "2015",
          "2015-mid",
          "2016",
          "2016-mid",
          "2017",
          "2017-mid",
          "2018",
          "2018-mid",
          "2019",
          "2019-mid",
          "2020",
          "2020-mid",
          "2021",
          "2021-mid",
          "2022",
          "2022-mid",
          "2023",
          "2023-mid",
          "2024",
          "2024-mid"
         ],
         "xaxis": "x9",
         "y": [
          null,
          null,
          null,
          null,
          null,
          43.5,
          40.1,
          35.9,
          36,
          35.5,
          35.2,
          35.3,
          35,
          33.8,
          36.4,
          37.4,
          37.8,
          37.4,
          38,
          37.6,
          37,
          37.2,
          36.5,
          36.1,
          36,
          36
         ],
         "yaxis": "y9"
        },
        {
         "mode": "lines+markers",
         "name": "Cost of Living Index",
         "type": "scatter",
         "x": [
          "2010",
          "2011",
          "2012",
          "2013",
          "2014",
          "2014-mid",
          "2015",
          "2015-mid",
          "2016",
          "2016-mid",
          "2017",
          "2017-mid",
          "2018",
          "2018-mid",
          "2019",
          "2019-mid",
          "2020",
          "2020-mid",
          "2021",
          "2021-mid",
          "2022",
          "2022-mid",
          "2023",
          "2023-mid",
          "2024",
          "2024-mid"
         ],
         "xaxis": "x10",
         "y": [
          null,
          null,
          null,
          null,
          null,
          null,
          null,
          null,
          null,
          null,
          null,
          null,
          null,
          null,
          null,
          null,
          null,
          null,
          null,
          null,
          null,
          null,
          null,
          null,
          80.3,
          null
         ],
         "yaxis": "y10"
        },
        {
         "mode": "lines+markers",
         "name": "Rent Index",
         "type": "scatter",
         "x": [
          "2010",
          "2011",
          "2012",
          "2013",
          "2014",
          "2014-mid",
          "2015",
          "2015-mid",
          "2016",
          "2016-mid",
          "2017",
          "2017-mid",
          "2018",
          "2018-mid",
          "2019",
          "2019-mid",
          "2020",
          "2020-mid",
          "2021",
          "2021-mid",
          "2022",
          "2022-mid",
          "2023",
          "2023-mid",
          "2024",
          "2024-mid"
         ],
         "xaxis": "x11",
         "y": [
          null,
          null,
          null,
          null,
          null,
          null,
          null,
          null,
          null,
          null,
          null,
          null,
          null,
          null,
          null,
          null,
          null,
          null,
          null,
          null,
          null,
          null,
          null,
          null,
          47.4,
          null
         ],
         "yaxis": "y11"
        },
        {
         "mode": "lines+markers",
         "name": "Cost of Living Plus Rent Index",
         "type": "scatter",
         "x": [
          "2010",
          "2011",
          "2012",
          "2013",
          "2014",
          "2014-mid",
          "2015",
          "2015-mid",
          "2016",
          "2016-mid",
          "2017",
          "2017-mid",
          "2018",
          "2018-mid",
          "2019",
          "2019-mid",
          "2020",
          "2020-mid",
          "2021",
          "2021-mid",
          "2022",
          "2022-mid",
          "2023",
          "2023-mid",
          "2024",
          "2024-mid"
         ],
         "xaxis": "x12",
         "y": [
          null,
          null,
          null,
          null,
          null,
          null,
          null,
          null,
          null,
          null,
          null,
          null,
          null,
          null,
          null,
          null,
          null,
          null,
          null,
          null,
          null,
          null,
          null,
          null,
          64.7,
          null
         ],
         "yaxis": "y12"
        },
        {
         "mode": "lines+markers",
         "name": "Groceries Index",
         "type": "scatter",
         "x": [
          "2010",
          "2011",
          "2012",
          "2013",
          "2014",
          "2014-mid",
          "2015",
          "2015-mid",
          "2016",
          "2016-mid",
          "2017",
          "2017-mid",
          "2018",
          "2018-mid",
          "2019",
          "2019-mid",
          "2020",
          "2020-mid",
          "2021",
          "2021-mid",
          "2022",
          "2022-mid",
          "2023",
          "2023-mid",
          "2024",
          "2024-mid"
         ],
         "xaxis": "x13",
         "y": [
          null,
          null,
          null,
          null,
          null,
          null,
          null,
          null,
          null,
          null,
          null,
          null,
          null,
          null,
          null,
          null,
          null,
          null,
          null,
          null,
          null,
          null,
          null,
          null,
          81,
          null
         ],
         "yaxis": "y13"
        },
        {
         "mode": "lines+markers",
         "name": "Restaurant Index",
         "type": "scatter",
         "x": [
          "2010",
          "2011",
          "2012",
          "2013",
          "2014",
          "2014-mid",
          "2015",
          "2015-mid",
          "2016",
          "2016-mid",
          "2017",
          "2017-mid",
          "2018",
          "2018-mid",
          "2019",
          "2019-mid",
          "2020",
          "2020-mid",
          "2021",
          "2021-mid",
          "2022",
          "2022-mid",
          "2023",
          "2023-mid",
          "2024",
          "2024-mid"
         ],
         "xaxis": "x14",
         "y": [
          null,
          null,
          null,
          null,
          null,
          null,
          null,
          null,
          null,
          null,
          null,
          null,
          null,
          null,
          null,
          null,
          null,
          null,
          null,
          null,
          null,
          null,
          null,
          null,
          78,
          null
         ],
         "yaxis": "y14"
        },
        {
         "mode": "lines+markers",
         "name": "Local Purchasing Power Index",
         "type": "scatter",
         "x": [
          "2010",
          "2011",
          "2012",
          "2013",
          "2014",
          "2014-mid",
          "2015",
          "2015-mid",
          "2016",
          "2016-mid",
          "2017",
          "2017-mid",
          "2018",
          "2018-mid",
          "2019",
          "2019-mid",
          "2020",
          "2020-mid",
          "2021",
          "2021-mid",
          "2022",
          "2022-mid",
          "2023",
          "2023-mid",
          "2024",
          "2024-mid"
         ],
         "xaxis": "x15",
         "y": [
          null,
          null,
          null,
          null,
          null,
          null,
          null,
          null,
          null,
          null,
          null,
          null,
          null,
          null,
          null,
          null,
          null,
          null,
          null,
          null,
          null,
          null,
          null,
          null,
          139.2,
          null
         ],
         "yaxis": "y15"
        }
       ],
       "layout": {
        "annotations": [
         {
          "font": {
           "size": 16
          },
          "showarrow": false,
          "text": "Price to Income Ratio",
          "x": 0.10625,
          "xanchor": "center",
          "xref": "paper",
          "y": 1,
          "yanchor": "bottom",
          "yref": "paper"
         },
         {
          "font": {
           "size": 16
          },
          "showarrow": false,
          "text": "Gross Rental Yield City Centre",
          "x": 0.36875,
          "xanchor": "center",
          "xref": "paper",
          "y": 1,
          "yanchor": "bottom",
          "yref": "paper"
         },
         {
          "font": {
           "size": 16
          },
          "showarrow": false,
          "text": "Gross Rental Yield Outside Centre",
          "x": 0.6312500000000001,
          "xanchor": "center",
          "xref": "paper",
          "y": 1,
          "yanchor": "bottom",
          "yref": "paper"
         },
         {
          "font": {
           "size": 16
          },
          "showarrow": false,
          "text": "Price to Rent Ratio City Centre",
          "x": 0.89375,
          "xanchor": "center",
          "xref": "paper",
          "y": 1,
          "yanchor": "bottom",
          "yref": "paper"
         },
         {
          "font": {
           "size": 16
          },
          "showarrow": false,
          "text": "Price to Rent Ratio Outside City Centre",
          "x": 0.10625,
          "xanchor": "center",
          "xref": "paper",
          "y": 0.71875,
          "yanchor": "bottom",
          "yref": "paper"
         },
         {
          "font": {
           "size": 16
          },
          "showarrow": false,
          "text": "Mortgage as a Percentage of Income",
          "x": 0.36875,
          "xanchor": "center",
          "xref": "paper",
          "y": 0.71875,
          "yanchor": "bottom",
          "yref": "paper"
         },
         {
          "font": {
           "size": 16
          },
          "showarrow": false,
          "text": "Affordability Index",
          "x": 0.6312500000000001,
          "xanchor": "center",
          "xref": "paper",
          "y": 0.71875,
          "yanchor": "bottom",
          "yref": "paper"
         },
         {
          "font": {
           "size": 16
          },
          "showarrow": false,
          "text": "Crime Index",
          "x": 0.89375,
          "xanchor": "center",
          "xref": "paper",
          "y": 0.71875,
          "yanchor": "bottom",
          "yref": "paper"
         },
         {
          "font": {
           "size": 16
          },
          "showarrow": false,
          "text": "Safety Index",
          "x": 0.10625,
          "xanchor": "center",
          "xref": "paper",
          "y": 0.4375,
          "yanchor": "bottom",
          "yref": "paper"
         },
         {
          "font": {
           "size": 16
          },
          "showarrow": false,
          "text": "Cost of Living Index",
          "x": 0.36875,
          "xanchor": "center",
          "xref": "paper",
          "y": 0.4375,
          "yanchor": "bottom",
          "yref": "paper"
         },
         {
          "font": {
           "size": 16
          },
          "showarrow": false,
          "text": "Rent Index",
          "x": 0.6312500000000001,
          "xanchor": "center",
          "xref": "paper",
          "y": 0.4375,
          "yanchor": "bottom",
          "yref": "paper"
         },
         {
          "font": {
           "size": 16
          },
          "showarrow": false,
          "text": "Cost of Living Plus Rent Index",
          "x": 0.89375,
          "xanchor": "center",
          "xref": "paper",
          "y": 0.4375,
          "yanchor": "bottom",
          "yref": "paper"
         },
         {
          "font": {
           "size": 16
          },
          "showarrow": false,
          "text": "Groceries Index",
          "x": 0.10625,
          "xanchor": "center",
          "xref": "paper",
          "y": 0.15625,
          "yanchor": "bottom",
          "yref": "paper"
         },
         {
          "font": {
           "size": 16
          },
          "showarrow": false,
          "text": "Restaurant Index",
          "x": 0.36875,
          "xanchor": "center",
          "xref": "paper",
          "y": 0.15625,
          "yanchor": "bottom",
          "yref": "paper"
         },
         {
          "font": {
           "size": 16
          },
          "showarrow": false,
          "text": "Local Purchasing Power Index",
          "x": 0.6312500000000001,
          "xanchor": "center",
          "xref": "paper",
          "y": 0.15625,
          "yanchor": "bottom",
          "yref": "paper"
         }
        ],
        "height": 1500,
        "template": {
         "data": {
          "bar": [
           {
            "error_x": {
             "color": "#2a3f5f"
            },
            "error_y": {
             "color": "#2a3f5f"
            },
            "marker": {
             "line": {
              "color": "#E5ECF6",
              "width": 0.5
             },
             "pattern": {
              "fillmode": "overlay",
              "size": 10,
              "solidity": 0.2
             }
            },
            "type": "bar"
           }
          ],
          "barpolar": [
           {
            "marker": {
             "line": {
              "color": "#E5ECF6",
              "width": 0.5
             },
             "pattern": {
              "fillmode": "overlay",
              "size": 10,
              "solidity": 0.2
             }
            },
            "type": "barpolar"
           }
          ],
          "carpet": [
           {
            "aaxis": {
             "endlinecolor": "#2a3f5f",
             "gridcolor": "white",
             "linecolor": "white",
             "minorgridcolor": "white",
             "startlinecolor": "#2a3f5f"
            },
            "baxis": {
             "endlinecolor": "#2a3f5f",
             "gridcolor": "white",
             "linecolor": "white",
             "minorgridcolor": "white",
             "startlinecolor": "#2a3f5f"
            },
            "type": "carpet"
           }
          ],
          "choropleth": [
           {
            "colorbar": {
             "outlinewidth": 0,
             "ticks": ""
            },
            "type": "choropleth"
           }
          ],
          "contour": [
           {
            "colorbar": {
             "outlinewidth": 0,
             "ticks": ""
            },
            "colorscale": [
             [
              0,
              "#0d0887"
             ],
             [
              0.1111111111111111,
              "#46039f"
             ],
             [
              0.2222222222222222,
              "#7201a8"
             ],
             [
              0.3333333333333333,
              "#9c179e"
             ],
             [
              0.4444444444444444,
              "#bd3786"
             ],
             [
              0.5555555555555556,
              "#d8576b"
             ],
             [
              0.6666666666666666,
              "#ed7953"
             ],
             [
              0.7777777777777778,
              "#fb9f3a"
             ],
             [
              0.8888888888888888,
              "#fdca26"
             ],
             [
              1,
              "#f0f921"
             ]
            ],
            "type": "contour"
           }
          ],
          "contourcarpet": [
           {
            "colorbar": {
             "outlinewidth": 0,
             "ticks": ""
            },
            "type": "contourcarpet"
           }
          ],
          "heatmap": [
           {
            "colorbar": {
             "outlinewidth": 0,
             "ticks": ""
            },
            "colorscale": [
             [
              0,
              "#0d0887"
             ],
             [
              0.1111111111111111,
              "#46039f"
             ],
             [
              0.2222222222222222,
              "#7201a8"
             ],
             [
              0.3333333333333333,
              "#9c179e"
             ],
             [
              0.4444444444444444,
              "#bd3786"
             ],
             [
              0.5555555555555556,
              "#d8576b"
             ],
             [
              0.6666666666666666,
              "#ed7953"
             ],
             [
              0.7777777777777778,
              "#fb9f3a"
             ],
             [
              0.8888888888888888,
              "#fdca26"
             ],
             [
              1,
              "#f0f921"
             ]
            ],
            "type": "heatmap"
           }
          ],
          "heatmapgl": [
           {
            "colorbar": {
             "outlinewidth": 0,
             "ticks": ""
            },
            "colorscale": [
             [
              0,
              "#0d0887"
             ],
             [
              0.1111111111111111,
              "#46039f"
             ],
             [
              0.2222222222222222,
              "#7201a8"
             ],
             [
              0.3333333333333333,
              "#9c179e"
             ],
             [
              0.4444444444444444,
              "#bd3786"
             ],
             [
              0.5555555555555556,
              "#d8576b"
             ],
             [
              0.6666666666666666,
              "#ed7953"
             ],
             [
              0.7777777777777778,
              "#fb9f3a"
             ],
             [
              0.8888888888888888,
              "#fdca26"
             ],
             [
              1,
              "#f0f921"
             ]
            ],
            "type": "heatmapgl"
           }
          ],
          "histogram": [
           {
            "marker": {
             "pattern": {
              "fillmode": "overlay",
              "size": 10,
              "solidity": 0.2
             }
            },
            "type": "histogram"
           }
          ],
          "histogram2d": [
           {
            "colorbar": {
             "outlinewidth": 0,
             "ticks": ""
            },
            "colorscale": [
             [
              0,
              "#0d0887"
             ],
             [
              0.1111111111111111,
              "#46039f"
             ],
             [
              0.2222222222222222,
              "#7201a8"
             ],
             [
              0.3333333333333333,
              "#9c179e"
             ],
             [
              0.4444444444444444,
              "#bd3786"
             ],
             [
              0.5555555555555556,
              "#d8576b"
             ],
             [
              0.6666666666666666,
              "#ed7953"
             ],
             [
              0.7777777777777778,
              "#fb9f3a"
             ],
             [
              0.8888888888888888,
              "#fdca26"
             ],
             [
              1,
              "#f0f921"
             ]
            ],
            "type": "histogram2d"
           }
          ],
          "histogram2dcontour": [
           {
            "colorbar": {
             "outlinewidth": 0,
             "ticks": ""
            },
            "colorscale": [
             [
              0,
              "#0d0887"
             ],
             [
              0.1111111111111111,
              "#46039f"
             ],
             [
              0.2222222222222222,
              "#7201a8"
             ],
             [
              0.3333333333333333,
              "#9c179e"
             ],
             [
              0.4444444444444444,
              "#bd3786"
             ],
             [
              0.5555555555555556,
              "#d8576b"
             ],
             [
              0.6666666666666666,
              "#ed7953"
             ],
             [
              0.7777777777777778,
              "#fb9f3a"
             ],
             [
              0.8888888888888888,
              "#fdca26"
             ],
             [
              1,
              "#f0f921"
             ]
            ],
            "type": "histogram2dcontour"
           }
          ],
          "mesh3d": [
           {
            "colorbar": {
             "outlinewidth": 0,
             "ticks": ""
            },
            "type": "mesh3d"
           }
          ],
          "parcoords": [
           {
            "line": {
             "colorbar": {
              "outlinewidth": 0,
              "ticks": ""
             }
            },
            "type": "parcoords"
           }
          ],
          "pie": [
           {
            "automargin": true,
            "type": "pie"
           }
          ],
          "scatter": [
           {
            "fillpattern": {
             "fillmode": "overlay",
             "size": 10,
             "solidity": 0.2
            },
            "type": "scatter"
           }
          ],
          "scatter3d": [
           {
            "line": {
             "colorbar": {
              "outlinewidth": 0,
              "ticks": ""
             }
            },
            "marker": {
             "colorbar": {
              "outlinewidth": 0,
              "ticks": ""
             }
            },
            "type": "scatter3d"
           }
          ],
          "scattercarpet": [
           {
            "marker": {
             "colorbar": {
              "outlinewidth": 0,
              "ticks": ""
             }
            },
            "type": "scattercarpet"
           }
          ],
          "scattergeo": [
           {
            "marker": {
             "colorbar": {
              "outlinewidth": 0,
              "ticks": ""
             }
            },
            "type": "scattergeo"
           }
          ],
          "scattergl": [
           {
            "marker": {
             "colorbar": {
              "outlinewidth": 0,
              "ticks": ""
             }
            },
            "type": "scattergl"
           }
          ],
          "scattermapbox": [
           {
            "marker": {
             "colorbar": {
              "outlinewidth": 0,
              "ticks": ""
             }
            },
            "type": "scattermapbox"
           }
          ],
          "scatterpolar": [
           {
            "marker": {
             "colorbar": {
              "outlinewidth": 0,
              "ticks": ""
             }
            },
            "type": "scatterpolar"
           }
          ],
          "scatterpolargl": [
           {
            "marker": {
             "colorbar": {
              "outlinewidth": 0,
              "ticks": ""
             }
            },
            "type": "scatterpolargl"
           }
          ],
          "scatterternary": [
           {
            "marker": {
             "colorbar": {
              "outlinewidth": 0,
              "ticks": ""
             }
            },
            "type": "scatterternary"
           }
          ],
          "surface": [
           {
            "colorbar": {
             "outlinewidth": 0,
             "ticks": ""
            },
            "colorscale": [
             [
              0,
              "#0d0887"
             ],
             [
              0.1111111111111111,
              "#46039f"
             ],
             [
              0.2222222222222222,
              "#7201a8"
             ],
             [
              0.3333333333333333,
              "#9c179e"
             ],
             [
              0.4444444444444444,
              "#bd3786"
             ],
             [
              0.5555555555555556,
              "#d8576b"
             ],
             [
              0.6666666666666666,
              "#ed7953"
             ],
             [
              0.7777777777777778,
              "#fb9f3a"
             ],
             [
              0.8888888888888888,
              "#fdca26"
             ],
             [
              1,
              "#f0f921"
             ]
            ],
            "type": "surface"
           }
          ],
          "table": [
           {
            "cells": {
             "fill": {
              "color": "#EBF0F8"
             },
             "line": {
              "color": "white"
             }
            },
            "header": {
             "fill": {
              "color": "#C8D4E3"
             },
             "line": {
              "color": "white"
             }
            },
            "type": "table"
           }
          ]
         },
         "layout": {
          "annotationdefaults": {
           "arrowcolor": "#2a3f5f",
           "arrowhead": 0,
           "arrowwidth": 1
          },
          "autotypenumbers": "strict",
          "coloraxis": {
           "colorbar": {
            "outlinewidth": 0,
            "ticks": ""
           }
          },
          "colorscale": {
           "diverging": [
            [
             0,
             "#8e0152"
            ],
            [
             0.1,
             "#c51b7d"
            ],
            [
             0.2,
             "#de77ae"
            ],
            [
             0.3,
             "#f1b6da"
            ],
            [
             0.4,
             "#fde0ef"
            ],
            [
             0.5,
             "#f7f7f7"
            ],
            [
             0.6,
             "#e6f5d0"
            ],
            [
             0.7,
             "#b8e186"
            ],
            [
             0.8,
             "#7fbc41"
            ],
            [
             0.9,
             "#4d9221"
            ],
            [
             1,
             "#276419"
            ]
           ],
           "sequential": [
            [
             0,
             "#0d0887"
            ],
            [
             0.1111111111111111,
             "#46039f"
            ],
            [
             0.2222222222222222,
             "#7201a8"
            ],
            [
             0.3333333333333333,
             "#9c179e"
            ],
            [
             0.4444444444444444,
             "#bd3786"
            ],
            [
             0.5555555555555556,
             "#d8576b"
            ],
            [
             0.6666666666666666,
             "#ed7953"
            ],
            [
             0.7777777777777778,
             "#fb9f3a"
            ],
            [
             0.8888888888888888,
             "#fdca26"
            ],
            [
             1,
             "#f0f921"
            ]
           ],
           "sequentialminus": [
            [
             0,
             "#0d0887"
            ],
            [
             0.1111111111111111,
             "#46039f"
            ],
            [
             0.2222222222222222,
             "#7201a8"
            ],
            [
             0.3333333333333333,
             "#9c179e"
            ],
            [
             0.4444444444444444,
             "#bd3786"
            ],
            [
             0.5555555555555556,
             "#d8576b"
            ],
            [
             0.6666666666666666,
             "#ed7953"
            ],
            [
             0.7777777777777778,
             "#fb9f3a"
            ],
            [
             0.8888888888888888,
             "#fdca26"
            ],
            [
             1,
             "#f0f921"
            ]
           ]
          },
          "colorway": [
           "#636efa",
           "#EF553B",
           "#00cc96",
           "#ab63fa",
           "#FFA15A",
           "#19d3f3",
           "#FF6692",
           "#B6E880",
           "#FF97FF",
           "#FECB52"
          ],
          "font": {
           "color": "#2a3f5f"
          },
          "geo": {
           "bgcolor": "white",
           "lakecolor": "white",
           "landcolor": "#E5ECF6",
           "showlakes": true,
           "showland": true,
           "subunitcolor": "white"
          },
          "hoverlabel": {
           "align": "left"
          },
          "hovermode": "closest",
          "mapbox": {
           "style": "light"
          },
          "paper_bgcolor": "white",
          "plot_bgcolor": "#E5ECF6",
          "polar": {
           "angularaxis": {
            "gridcolor": "white",
            "linecolor": "white",
            "ticks": ""
           },
           "bgcolor": "#E5ECF6",
           "radialaxis": {
            "gridcolor": "white",
            "linecolor": "white",
            "ticks": ""
           }
          },
          "scene": {
           "xaxis": {
            "backgroundcolor": "#E5ECF6",
            "gridcolor": "white",
            "gridwidth": 2,
            "linecolor": "white",
            "showbackground": true,
            "ticks": "",
            "zerolinecolor": "white"
           },
           "yaxis": {
            "backgroundcolor": "#E5ECF6",
            "gridcolor": "white",
            "gridwidth": 2,
            "linecolor": "white",
            "showbackground": true,
            "ticks": "",
            "zerolinecolor": "white"
           },
           "zaxis": {
            "backgroundcolor": "#E5ECF6",
            "gridcolor": "white",
            "gridwidth": 2,
            "linecolor": "white",
            "showbackground": true,
            "ticks": "",
            "zerolinecolor": "white"
           }
          },
          "shapedefaults": {
           "line": {
            "color": "#2a3f5f"
           }
          },
          "ternary": {
           "aaxis": {
            "gridcolor": "white",
            "linecolor": "white",
            "ticks": ""
           },
           "baxis": {
            "gridcolor": "white",
            "linecolor": "white",
            "ticks": ""
           },
           "bgcolor": "#E5ECF6",
           "caxis": {
            "gridcolor": "white",
            "linecolor": "white",
            "ticks": ""
           }
          },
          "title": {
           "x": 0.05
          },
          "xaxis": {
           "automargin": true,
           "gridcolor": "white",
           "linecolor": "white",
           "ticks": "",
           "title": {
            "standoff": 15
           },
           "zerolinecolor": "white",
           "zerolinewidth": 2
          },
          "yaxis": {
           "automargin": true,
           "gridcolor": "white",
           "linecolor": "white",
           "ticks": "",
           "title": {
            "standoff": 15
           },
           "zerolinecolor": "white",
           "zerolinewidth": 2
          }
         }
        },
        "title": {
         "text": "Atlanta, GA, United States"
        },
        "width": 1500,
        "xaxis": {
         "anchor": "y",
         "domain": [
          0,
          0.2125
         ],
         "title": {
          "text": "Year"
         }
        },
        "xaxis10": {
         "anchor": "y10",
         "domain": [
          0.2625,
          0.475
         ],
         "title": {
          "text": "Year"
         }
        },
        "xaxis11": {
         "anchor": "y11",
         "domain": [
          0.525,
          0.7375
         ],
         "title": {
          "text": "Year"
         }
        },
        "xaxis12": {
         "anchor": "y12",
         "domain": [
          0.7875,
          1
         ],
         "title": {
          "text": "Year"
         }
        },
        "xaxis13": {
         "anchor": "y13",
         "domain": [
          0,
          0.2125
         ],
         "title": {
          "text": "Year"
         }
        },
        "xaxis14": {
         "anchor": "y14",
         "domain": [
          0.2625,
          0.475
         ],
         "title": {
          "text": "Year"
         }
        },
        "xaxis15": {
         "anchor": "y15",
         "domain": [
          0.525,
          0.7375
         ],
         "title": {
          "text": "Year"
         }
        },
        "xaxis16": {
         "anchor": "y16",
         "domain": [
          0.7875,
          1
         ]
        },
        "xaxis2": {
         "anchor": "y2",
         "domain": [
          0.2625,
          0.475
         ],
         "title": {
          "text": "Year"
         }
        },
        "xaxis3": {
         "anchor": "y3",
         "domain": [
          0.525,
          0.7375
         ],
         "title": {
          "text": "Year"
         }
        },
        "xaxis4": {
         "anchor": "y4",
         "domain": [
          0.7875,
          1
         ],
         "title": {
          "text": "Year"
         }
        },
        "xaxis5": {
         "anchor": "y5",
         "domain": [
          0,
          0.2125
         ],
         "title": {
          "text": "Year"
         }
        },
        "xaxis6": {
         "anchor": "y6",
         "domain": [
          0.2625,
          0.475
         ],
         "title": {
          "text": "Year"
         }
        },
        "xaxis7": {
         "anchor": "y7",
         "domain": [
          0.525,
          0.7375
         ],
         "title": {
          "text": "Year"
         }
        },
        "xaxis8": {
         "anchor": "y8",
         "domain": [
          0.7875,
          1
         ],
         "title": {
          "text": "Year"
         }
        },
        "xaxis9": {
         "anchor": "y9",
         "domain": [
          0,
          0.2125
         ],
         "title": {
          "text": "Year"
         }
        },
        "yaxis": {
         "anchor": "x",
         "domain": [
          0.84375,
          1
         ],
         "title": {
          "text": "Price to Income Ratio"
         }
        },
        "yaxis10": {
         "anchor": "x10",
         "domain": [
          0.28125,
          0.4375
         ],
         "title": {
          "text": "Cost of Living Index"
         }
        },
        "yaxis11": {
         "anchor": "x11",
         "domain": [
          0.28125,
          0.4375
         ],
         "title": {
          "text": "Rent Index"
         }
        },
        "yaxis12": {
         "anchor": "x12",
         "domain": [
          0.28125,
          0.4375
         ],
         "title": {
          "text": "Cost of Living Plus Rent Index"
         }
        },
        "yaxis13": {
         "anchor": "x13",
         "domain": [
          0,
          0.15625
         ],
         "title": {
          "text": "Groceries Index"
         }
        },
        "yaxis14": {
         "anchor": "x14",
         "domain": [
          0,
          0.15625
         ],
         "title": {
          "text": "Restaurant Index"
         }
        },
        "yaxis15": {
         "anchor": "x15",
         "domain": [
          0,
          0.15625
         ],
         "title": {
          "text": "Local Purchasing Power Index"
         }
        },
        "yaxis16": {
         "anchor": "x16",
         "domain": [
          0,
          0.15625
         ]
        },
        "yaxis2": {
         "anchor": "x2",
         "domain": [
          0.84375,
          1
         ],
         "title": {
          "text": "Gross Rental Yield City Centre"
         }
        },
        "yaxis3": {
         "anchor": "x3",
         "domain": [
          0.84375,
          1
         ],
         "title": {
          "text": "Gross Rental Yield Outside Centre"
         }
        },
        "yaxis4": {
         "anchor": "x4",
         "domain": [
          0.84375,
          1
         ],
         "title": {
          "text": "Price to Rent Ratio City Centre"
         }
        },
        "yaxis5": {
         "anchor": "x5",
         "domain": [
          0.5625,
          0.71875
         ],
         "title": {
          "text": "Price to Rent Ratio Outside City Centre"
         }
        },
        "yaxis6": {
         "anchor": "x6",
         "domain": [
          0.5625,
          0.71875
         ],
         "title": {
          "text": "Mortgage as a Percentage of Income"
         }
        },
        "yaxis7": {
         "anchor": "x7",
         "domain": [
          0.5625,
          0.71875
         ],
         "title": {
          "text": "Affordability Index"
         }
        },
        "yaxis8": {
         "anchor": "x8",
         "domain": [
          0.5625,
          0.71875
         ],
         "title": {
          "text": "Crime Index"
         }
        },
        "yaxis9": {
         "anchor": "x9",
         "domain": [
          0.28125,
          0.4375
         ],
         "title": {
          "text": "Safety Index"
         }
        }
       }
      },
      "text/html": [
       "<div>                            <div id=\"64fa0c91-ad26-4fad-927d-f6d977863988\" class=\"plotly-graph-div\" style=\"height:1500px; width:1500px;\"></div>            <script type=\"text/javascript\">                require([\"plotly\"], function(Plotly) {                    window.PLOTLYENV=window.PLOTLYENV || {};                                    if (document.getElementById(\"64fa0c91-ad26-4fad-927d-f6d977863988\")) {                    Plotly.newPlot(                        \"64fa0c91-ad26-4fad-927d-f6d977863988\",                        [{\"mode\":\"lines+markers\",\"name\":\"Price to Income Ratio\",\"x\":[\"2010\",\"2011\",\"2012\",\"2013\",\"2014\",\"2014-mid\",\"2015\",\"2015-mid\",\"2016\",\"2016-mid\",\"2017\",\"2017-mid\",\"2018\",\"2018-mid\",\"2019\",\"2019-mid\",\"2020\",\"2020-mid\",\"2021\",\"2021-mid\",\"2022\",\"2022-mid\",\"2023\",\"2023-mid\",\"2024\",\"2024-mid\"],\"y\":[3.3,4.1,3.7,1.7,1.5,2.7,2.8,3.1,3.4,3.0,2.7,2.6,2.6,2.8,2.9,2.7,2.9,3.1,3.8,3.8,3.8,3.3,3.3,2.7,5.7,2.4],\"type\":\"scatter\",\"xaxis\":\"x\",\"yaxis\":\"y\"},{\"mode\":\"lines+markers\",\"name\":\"Gross Rental Yield City Centre\",\"x\":[\"2010\",\"2011\",\"2012\",\"2013\",\"2014\",\"2014-mid\",\"2015\",\"2015-mid\",\"2016\",\"2016-mid\",\"2017\",\"2017-mid\",\"2018\",\"2018-mid\",\"2019\",\"2019-mid\",\"2020\",\"2020-mid\",\"2021\",\"2021-mid\",\"2022\",\"2022-mid\",\"2023\",\"2023-mid\",\"2024\",\"2024-mid\"],\"y\":[8.5,6.2,7.0,13.4,13.4,9.9,9.8,11.2,11.2,10.6,10.4,10.4,11.1,11.0,10.4,9.9,9.5,9.2,6.7,6.1,6.1,8.8,10.3,13.1,4.6,12.9],\"type\":\"scatter\",\"xaxis\":\"x2\",\"yaxis\":\"y2\"},{\"mode\":\"lines+markers\",\"name\":\"Gross Rental Yield Outside Centre\",\"x\":[\"2010\",\"2011\",\"2012\",\"2013\",\"2014\",\"2014-mid\",\"2015\",\"2015-mid\",\"2016\",\"2016-mid\",\"2017\",\"2017-mid\",\"2018\",\"2018-mid\",\"2019\",\"2019-mid\",\"2020\",\"2020-mid\",\"2021\",\"2021-mid\",\"2022\",\"2022-mid\",\"2023\",\"2023-mid\",\"2024\",\"2024-mid\"],\"y\":[9.0,14.5,16.7,21.4,20.8,8.1,7.9,10.2,11.6,14.8,15.5,16.5,18.9,16.9,15.0,16.0,13.6,12.0,13.4,12.8,13.6,14.3,13.5,14.0,6.4,12.6],\"type\":\"scatter\",\"xaxis\":\"x3\",\"yaxis\":\"y3\"},{\"mode\":\"lines+markers\",\"name\":\"Price to Rent Ratio City Centre\",\"x\":[\"2010\",\"2011\",\"2012\",\"2013\",\"2014\",\"2014-mid\",\"2015\",\"2015-mid\",\"2016\",\"2016-mid\",\"2017\",\"2017-mid\",\"2018\",\"2018-mid\",\"2019\",\"2019-mid\",\"2020\",\"2020-mid\",\"2021\",\"2021-mid\",\"2022\",\"2022-mid\",\"2023\",\"2023-mid\",\"2024\",\"2024-mid\"],\"y\":[11.8,16.2,14.3,7.5,7.4,10.1,10.2,9.0,8.9,9.4,9.6,9.6,9.0,9.1,9.6,10.1,10.6,10.9,14.9,16.3,16.5,11.3,9.7,7.6,21.5,7.7],\"type\":\"scatter\",\"xaxis\":\"x4\",\"yaxis\":\"y4\"},{\"mode\":\"lines+markers\",\"name\":\"Price to Rent Ratio Outside City Centre\",\"x\":[\"2010\",\"2011\",\"2012\",\"2013\",\"2014\",\"2014-mid\",\"2015\",\"2015-mid\",\"2016\",\"2016-mid\",\"2017\",\"2017-mid\",\"2018\",\"2018-mid\",\"2019\",\"2019-mid\",\"2020\",\"2020-mid\",\"2021\",\"2021-mid\",\"2022\",\"2022-mid\",\"2023\",\"2023-mid\",\"2024\",\"2024-mid\"],\"y\":[11.1,6.9,6.0,4.7,4.8,12.4,12.6,9.8,8.6,6.7,6.5,6.1,5.3,5.9,6.7,6.3,7.3,8.3,7.4,7.8,7.4,7.0,7.4,7.1,15.5,7.9],\"type\":\"scatter\",\"xaxis\":\"x5\",\"yaxis\":\"y5\"},{\"mode\":\"lines+markers\",\"name\":\"Mortgage as a Percentage of Income\",\"x\":[\"2010\",\"2011\",\"2012\",\"2013\",\"2014\",\"2014-mid\",\"2015\",\"2015-mid\",\"2016\",\"2016-mid\",\"2017\",\"2017-mid\",\"2018\",\"2018-mid\",\"2019\",\"2019-mid\",\"2020\",\"2020-mid\",\"2021\",\"2021-mid\",\"2022\",\"2022-mid\",\"2023\",\"2023-mid\",\"2024\",\"2024-mid\"],\"y\":[\"28.8\",\"32.7\",\"28.5\",\"12.5\",\"10.9\",\"19.2\",\"20.1\",\"22.8\",\"24.7\",\"21.7\",\"19.6\",\"18.7\",\"18.4\",\"20.1\",\"21.7\",\"20.3\",\"21.2\",\"22.5\",\"27.5\",\"26.9\",\"26.3\",\"25.1\",\"25.6\",\"23.4\",\"52.3\",\"22.0\"],\"type\":\"scatter\",\"xaxis\":\"x6\",\"yaxis\":\"y6\"},{\"mode\":\"lines+markers\",\"name\":\"Affordability Index\",\"x\":[\"2010\",\"2011\",\"2012\",\"2013\",\"2014\",\"2014-mid\",\"2015\",\"2015-mid\",\"2016\",\"2016-mid\",\"2017\",\"2017-mid\",\"2018\",\"2018-mid\",\"2019\",\"2019-mid\",\"2020\",\"2020-mid\",\"2021\",\"2021-mid\",\"2022\",\"2022-mid\",\"2023\",\"2023-mid\",\"2024\",\"2024-mid\"],\"y\":[\"3.5\",\"3.1\",\"3.5\",\"8.0\",\"9.2\",\"5.2\",\"5.0\",\"4.4\",\"4.0\",\"4.6\",\"5.1\",\"5.3\",\"5.4\",\"5.0\",\"4.6\",\"4.9\",\"4.7\",\"4.5\",\"3.6\",\"3.7\",\"3.8\",\"4.0\",\"3.9\",\"4.3\",\"1.9\",\"4.6\"],\"type\":\"scatter\",\"xaxis\":\"x7\",\"yaxis\":\"y7\"},{\"mode\":\"lines+markers\",\"name\":\"Crime Index\",\"x\":[\"2010\",\"2011\",\"2012\",\"2013\",\"2014\",\"2014-mid\",\"2015\",\"2015-mid\",\"2016\",\"2016-mid\",\"2017\",\"2017-mid\",\"2018\",\"2018-mid\",\"2019\",\"2019-mid\",\"2020\",\"2020-mid\",\"2021\",\"2021-mid\",\"2022\",\"2022-mid\",\"2023\",\"2023-mid\",\"2024\",\"2024-mid\"],\"y\":[null,null,null,null,null,56.5,59.9,64.1,64.0,64.5,64.8,64.7,65.0,66.2,63.6,62.6,62.2,62.6,62.0,62.4,63.0,62.8,63.5,63.9,64.0,64.0],\"type\":\"scatter\",\"xaxis\":\"x8\",\"yaxis\":\"y8\"},{\"mode\":\"lines+markers\",\"name\":\"Safety Index\",\"x\":[\"2010\",\"2011\",\"2012\",\"2013\",\"2014\",\"2014-mid\",\"2015\",\"2015-mid\",\"2016\",\"2016-mid\",\"2017\",\"2017-mid\",\"2018\",\"2018-mid\",\"2019\",\"2019-mid\",\"2020\",\"2020-mid\",\"2021\",\"2021-mid\",\"2022\",\"2022-mid\",\"2023\",\"2023-mid\",\"2024\",\"2024-mid\"],\"y\":[null,null,null,null,null,43.5,40.1,35.9,36.0,35.5,35.2,35.3,35.0,33.8,36.4,37.4,37.8,37.4,38.0,37.6,37.0,37.2,36.5,36.1,36.0,36.0],\"type\":\"scatter\",\"xaxis\":\"x9\",\"yaxis\":\"y9\"},{\"mode\":\"lines+markers\",\"name\":\"Cost of Living Index\",\"x\":[\"2010\",\"2011\",\"2012\",\"2013\",\"2014\",\"2014-mid\",\"2015\",\"2015-mid\",\"2016\",\"2016-mid\",\"2017\",\"2017-mid\",\"2018\",\"2018-mid\",\"2019\",\"2019-mid\",\"2020\",\"2020-mid\",\"2021\",\"2021-mid\",\"2022\",\"2022-mid\",\"2023\",\"2023-mid\",\"2024\",\"2024-mid\"],\"y\":[null,null,null,null,null,null,null,null,null,null,null,null,null,null,null,null,null,null,null,null,null,null,null,null,80.3,null],\"type\":\"scatter\",\"xaxis\":\"x10\",\"yaxis\":\"y10\"},{\"mode\":\"lines+markers\",\"name\":\"Rent Index\",\"x\":[\"2010\",\"2011\",\"2012\",\"2013\",\"2014\",\"2014-mid\",\"2015\",\"2015-mid\",\"2016\",\"2016-mid\",\"2017\",\"2017-mid\",\"2018\",\"2018-mid\",\"2019\",\"2019-mid\",\"2020\",\"2020-mid\",\"2021\",\"2021-mid\",\"2022\",\"2022-mid\",\"2023\",\"2023-mid\",\"2024\",\"2024-mid\"],\"y\":[null,null,null,null,null,null,null,null,null,null,null,null,null,null,null,null,null,null,null,null,null,null,null,null,47.4,null],\"type\":\"scatter\",\"xaxis\":\"x11\",\"yaxis\":\"y11\"},{\"mode\":\"lines+markers\",\"name\":\"Cost of Living Plus Rent Index\",\"x\":[\"2010\",\"2011\",\"2012\",\"2013\",\"2014\",\"2014-mid\",\"2015\",\"2015-mid\",\"2016\",\"2016-mid\",\"2017\",\"2017-mid\",\"2018\",\"2018-mid\",\"2019\",\"2019-mid\",\"2020\",\"2020-mid\",\"2021\",\"2021-mid\",\"2022\",\"2022-mid\",\"2023\",\"2023-mid\",\"2024\",\"2024-mid\"],\"y\":[null,null,null,null,null,null,null,null,null,null,null,null,null,null,null,null,null,null,null,null,null,null,null,null,64.7,null],\"type\":\"scatter\",\"xaxis\":\"x12\",\"yaxis\":\"y12\"},{\"mode\":\"lines+markers\",\"name\":\"Groceries Index\",\"x\":[\"2010\",\"2011\",\"2012\",\"2013\",\"2014\",\"2014-mid\",\"2015\",\"2015-mid\",\"2016\",\"2016-mid\",\"2017\",\"2017-mid\",\"2018\",\"2018-mid\",\"2019\",\"2019-mid\",\"2020\",\"2020-mid\",\"2021\",\"2021-mid\",\"2022\",\"2022-mid\",\"2023\",\"2023-mid\",\"2024\",\"2024-mid\"],\"y\":[null,null,null,null,null,null,null,null,null,null,null,null,null,null,null,null,null,null,null,null,null,null,null,null,81.0,null],\"type\":\"scatter\",\"xaxis\":\"x13\",\"yaxis\":\"y13\"},{\"mode\":\"lines+markers\",\"name\":\"Restaurant Index\",\"x\":[\"2010\",\"2011\",\"2012\",\"2013\",\"2014\",\"2014-mid\",\"2015\",\"2015-mid\",\"2016\",\"2016-mid\",\"2017\",\"2017-mid\",\"2018\",\"2018-mid\",\"2019\",\"2019-mid\",\"2020\",\"2020-mid\",\"2021\",\"2021-mid\",\"2022\",\"2022-mid\",\"2023\",\"2023-mid\",\"2024\",\"2024-mid\"],\"y\":[null,null,null,null,null,null,null,null,null,null,null,null,null,null,null,null,null,null,null,null,null,null,null,null,78.0,null],\"type\":\"scatter\",\"xaxis\":\"x14\",\"yaxis\":\"y14\"},{\"mode\":\"lines+markers\",\"name\":\"Local Purchasing Power Index\",\"x\":[\"2010\",\"2011\",\"2012\",\"2013\",\"2014\",\"2014-mid\",\"2015\",\"2015-mid\",\"2016\",\"2016-mid\",\"2017\",\"2017-mid\",\"2018\",\"2018-mid\",\"2019\",\"2019-mid\",\"2020\",\"2020-mid\",\"2021\",\"2021-mid\",\"2022\",\"2022-mid\",\"2023\",\"2023-mid\",\"2024\",\"2024-mid\"],\"y\":[null,null,null,null,null,null,null,null,null,null,null,null,null,null,null,null,null,null,null,null,null,null,null,null,139.2,null],\"type\":\"scatter\",\"xaxis\":\"x15\",\"yaxis\":\"y15\"}],                        {\"template\":{\"data\":{\"histogram2dcontour\":[{\"type\":\"histogram2dcontour\",\"colorbar\":{\"outlinewidth\":0,\"ticks\":\"\"},\"colorscale\":[[0.0,\"#0d0887\"],[0.1111111111111111,\"#46039f\"],[0.2222222222222222,\"#7201a8\"],[0.3333333333333333,\"#9c179e\"],[0.4444444444444444,\"#bd3786\"],[0.5555555555555556,\"#d8576b\"],[0.6666666666666666,\"#ed7953\"],[0.7777777777777778,\"#fb9f3a\"],[0.8888888888888888,\"#fdca26\"],[1.0,\"#f0f921\"]]}],\"choropleth\":[{\"type\":\"choropleth\",\"colorbar\":{\"outlinewidth\":0,\"ticks\":\"\"}}],\"histogram2d\":[{\"type\":\"histogram2d\",\"colorbar\":{\"outlinewidth\":0,\"ticks\":\"\"},\"colorscale\":[[0.0,\"#0d0887\"],[0.1111111111111111,\"#46039f\"],[0.2222222222222222,\"#7201a8\"],[0.3333333333333333,\"#9c179e\"],[0.4444444444444444,\"#bd3786\"],[0.5555555555555556,\"#d8576b\"],[0.6666666666666666,\"#ed7953\"],[0.7777777777777778,\"#fb9f3a\"],[0.8888888888888888,\"#fdca26\"],[1.0,\"#f0f921\"]]}],\"heatmap\":[{\"type\":\"heatmap\",\"colorbar\":{\"outlinewidth\":0,\"ticks\":\"\"},\"colorscale\":[[0.0,\"#0d0887\"],[0.1111111111111111,\"#46039f\"],[0.2222222222222222,\"#7201a8\"],[0.3333333333333333,\"#9c179e\"],[0.4444444444444444,\"#bd3786\"],[0.5555555555555556,\"#d8576b\"],[0.6666666666666666,\"#ed7953\"],[0.7777777777777778,\"#fb9f3a\"],[0.8888888888888888,\"#fdca26\"],[1.0,\"#f0f921\"]]}],\"heatmapgl\":[{\"type\":\"heatmapgl\",\"colorbar\":{\"outlinewidth\":0,\"ticks\":\"\"},\"colorscale\":[[0.0,\"#0d0887\"],[0.1111111111111111,\"#46039f\"],[0.2222222222222222,\"#7201a8\"],[0.3333333333333333,\"#9c179e\"],[0.4444444444444444,\"#bd3786\"],[0.5555555555555556,\"#d8576b\"],[0.6666666666666666,\"#ed7953\"],[0.7777777777777778,\"#fb9f3a\"],[0.8888888888888888,\"#fdca26\"],[1.0,\"#f0f921\"]]}],\"contourcarpet\":[{\"type\":\"contourcarpet\",\"colorbar\":{\"outlinewidth\":0,\"ticks\":\"\"}}],\"contour\":[{\"type\":\"contour\",\"colorbar\":{\"outlinewidth\":0,\"ticks\":\"\"},\"colorscale\":[[0.0,\"#0d0887\"],[0.1111111111111111,\"#46039f\"],[0.2222222222222222,\"#7201a8\"],[0.3333333333333333,\"#9c179e\"],[0.4444444444444444,\"#bd3786\"],[0.5555555555555556,\"#d8576b\"],[0.6666666666666666,\"#ed7953\"],[0.7777777777777778,\"#fb9f3a\"],[0.8888888888888888,\"#fdca26\"],[1.0,\"#f0f921\"]]}],\"surface\":[{\"type\":\"surface\",\"colorbar\":{\"outlinewidth\":0,\"ticks\":\"\"},\"colorscale\":[[0.0,\"#0d0887\"],[0.1111111111111111,\"#46039f\"],[0.2222222222222222,\"#7201a8\"],[0.3333333333333333,\"#9c179e\"],[0.4444444444444444,\"#bd3786\"],[0.5555555555555556,\"#d8576b\"],[0.6666666666666666,\"#ed7953\"],[0.7777777777777778,\"#fb9f3a\"],[0.8888888888888888,\"#fdca26\"],[1.0,\"#f0f921\"]]}],\"mesh3d\":[{\"type\":\"mesh3d\",\"colorbar\":{\"outlinewidth\":0,\"ticks\":\"\"}}],\"scatter\":[{\"fillpattern\":{\"fillmode\":\"overlay\",\"size\":10,\"solidity\":0.2},\"type\":\"scatter\"}],\"parcoords\":[{\"type\":\"parcoords\",\"line\":{\"colorbar\":{\"outlinewidth\":0,\"ticks\":\"\"}}}],\"scatterpolargl\":[{\"type\":\"scatterpolargl\",\"marker\":{\"colorbar\":{\"outlinewidth\":0,\"ticks\":\"\"}}}],\"bar\":[{\"error_x\":{\"color\":\"#2a3f5f\"},\"error_y\":{\"color\":\"#2a3f5f\"},\"marker\":{\"line\":{\"color\":\"#E5ECF6\",\"width\":0.5},\"pattern\":{\"fillmode\":\"overlay\",\"size\":10,\"solidity\":0.2}},\"type\":\"bar\"}],\"scattergeo\":[{\"type\":\"scattergeo\",\"marker\":{\"colorbar\":{\"outlinewidth\":0,\"ticks\":\"\"}}}],\"scatterpolar\":[{\"type\":\"scatterpolar\",\"marker\":{\"colorbar\":{\"outlinewidth\":0,\"ticks\":\"\"}}}],\"histogram\":[{\"marker\":{\"pattern\":{\"fillmode\":\"overlay\",\"size\":10,\"solidity\":0.2}},\"type\":\"histogram\"}],\"scattergl\":[{\"type\":\"scattergl\",\"marker\":{\"colorbar\":{\"outlinewidth\":0,\"ticks\":\"\"}}}],\"scatter3d\":[{\"type\":\"scatter3d\",\"line\":{\"colorbar\":{\"outlinewidth\":0,\"ticks\":\"\"}},\"marker\":{\"colorbar\":{\"outlinewidth\":0,\"ticks\":\"\"}}}],\"scattermapbox\":[{\"type\":\"scattermapbox\",\"marker\":{\"colorbar\":{\"outlinewidth\":0,\"ticks\":\"\"}}}],\"scatterternary\":[{\"type\":\"scatterternary\",\"marker\":{\"colorbar\":{\"outlinewidth\":0,\"ticks\":\"\"}}}],\"scattercarpet\":[{\"type\":\"scattercarpet\",\"marker\":{\"colorbar\":{\"outlinewidth\":0,\"ticks\":\"\"}}}],\"carpet\":[{\"aaxis\":{\"endlinecolor\":\"#2a3f5f\",\"gridcolor\":\"white\",\"linecolor\":\"white\",\"minorgridcolor\":\"white\",\"startlinecolor\":\"#2a3f5f\"},\"baxis\":{\"endlinecolor\":\"#2a3f5f\",\"gridcolor\":\"white\",\"linecolor\":\"white\",\"minorgridcolor\":\"white\",\"startlinecolor\":\"#2a3f5f\"},\"type\":\"carpet\"}],\"table\":[{\"cells\":{\"fill\":{\"color\":\"#EBF0F8\"},\"line\":{\"color\":\"white\"}},\"header\":{\"fill\":{\"color\":\"#C8D4E3\"},\"line\":{\"color\":\"white\"}},\"type\":\"table\"}],\"barpolar\":[{\"marker\":{\"line\":{\"color\":\"#E5ECF6\",\"width\":0.5},\"pattern\":{\"fillmode\":\"overlay\",\"size\":10,\"solidity\":0.2}},\"type\":\"barpolar\"}],\"pie\":[{\"automargin\":true,\"type\":\"pie\"}]},\"layout\":{\"autotypenumbers\":\"strict\",\"colorway\":[\"#636efa\",\"#EF553B\",\"#00cc96\",\"#ab63fa\",\"#FFA15A\",\"#19d3f3\",\"#FF6692\",\"#B6E880\",\"#FF97FF\",\"#FECB52\"],\"font\":{\"color\":\"#2a3f5f\"},\"hovermode\":\"closest\",\"hoverlabel\":{\"align\":\"left\"},\"paper_bgcolor\":\"white\",\"plot_bgcolor\":\"#E5ECF6\",\"polar\":{\"bgcolor\":\"#E5ECF6\",\"angularaxis\":{\"gridcolor\":\"white\",\"linecolor\":\"white\",\"ticks\":\"\"},\"radialaxis\":{\"gridcolor\":\"white\",\"linecolor\":\"white\",\"ticks\":\"\"}},\"ternary\":{\"bgcolor\":\"#E5ECF6\",\"aaxis\":{\"gridcolor\":\"white\",\"linecolor\":\"white\",\"ticks\":\"\"},\"baxis\":{\"gridcolor\":\"white\",\"linecolor\":\"white\",\"ticks\":\"\"},\"caxis\":{\"gridcolor\":\"white\",\"linecolor\":\"white\",\"ticks\":\"\"}},\"coloraxis\":{\"colorbar\":{\"outlinewidth\":0,\"ticks\":\"\"}},\"colorscale\":{\"sequential\":[[0.0,\"#0d0887\"],[0.1111111111111111,\"#46039f\"],[0.2222222222222222,\"#7201a8\"],[0.3333333333333333,\"#9c179e\"],[0.4444444444444444,\"#bd3786\"],[0.5555555555555556,\"#d8576b\"],[0.6666666666666666,\"#ed7953\"],[0.7777777777777778,\"#fb9f3a\"],[0.8888888888888888,\"#fdca26\"],[1.0,\"#f0f921\"]],\"sequentialminus\":[[0.0,\"#0d0887\"],[0.1111111111111111,\"#46039f\"],[0.2222222222222222,\"#7201a8\"],[0.3333333333333333,\"#9c179e\"],[0.4444444444444444,\"#bd3786\"],[0.5555555555555556,\"#d8576b\"],[0.6666666666666666,\"#ed7953\"],[0.7777777777777778,\"#fb9f3a\"],[0.8888888888888888,\"#fdca26\"],[1.0,\"#f0f921\"]],\"diverging\":[[0,\"#8e0152\"],[0.1,\"#c51b7d\"],[0.2,\"#de77ae\"],[0.3,\"#f1b6da\"],[0.4,\"#fde0ef\"],[0.5,\"#f7f7f7\"],[0.6,\"#e6f5d0\"],[0.7,\"#b8e186\"],[0.8,\"#7fbc41\"],[0.9,\"#4d9221\"],[1,\"#276419\"]]},\"xaxis\":{\"gridcolor\":\"white\",\"linecolor\":\"white\",\"ticks\":\"\",\"title\":{\"standoff\":15},\"zerolinecolor\":\"white\",\"automargin\":true,\"zerolinewidth\":2},\"yaxis\":{\"gridcolor\":\"white\",\"linecolor\":\"white\",\"ticks\":\"\",\"title\":{\"standoff\":15},\"zerolinecolor\":\"white\",\"automargin\":true,\"zerolinewidth\":2},\"scene\":{\"xaxis\":{\"backgroundcolor\":\"#E5ECF6\",\"gridcolor\":\"white\",\"linecolor\":\"white\",\"showbackground\":true,\"ticks\":\"\",\"zerolinecolor\":\"white\",\"gridwidth\":2},\"yaxis\":{\"backgroundcolor\":\"#E5ECF6\",\"gridcolor\":\"white\",\"linecolor\":\"white\",\"showbackground\":true,\"ticks\":\"\",\"zerolinecolor\":\"white\",\"gridwidth\":2},\"zaxis\":{\"backgroundcolor\":\"#E5ECF6\",\"gridcolor\":\"white\",\"linecolor\":\"white\",\"showbackground\":true,\"ticks\":\"\",\"zerolinecolor\":\"white\",\"gridwidth\":2}},\"shapedefaults\":{\"line\":{\"color\":\"#2a3f5f\"}},\"annotationdefaults\":{\"arrowcolor\":\"#2a3f5f\",\"arrowhead\":0,\"arrowwidth\":1},\"geo\":{\"bgcolor\":\"white\",\"landcolor\":\"#E5ECF6\",\"subunitcolor\":\"white\",\"showland\":true,\"showlakes\":true,\"lakecolor\":\"white\"},\"title\":{\"x\":0.05},\"mapbox\":{\"style\":\"light\"}}},\"xaxis\":{\"anchor\":\"y\",\"domain\":[0.0,0.2125],\"title\":{\"text\":\"Year\"}},\"yaxis\":{\"anchor\":\"x\",\"domain\":[0.84375,1.0],\"title\":{\"text\":\"Price to Income Ratio\"}},\"xaxis2\":{\"anchor\":\"y2\",\"domain\":[0.2625,0.475],\"title\":{\"text\":\"Year\"}},\"yaxis2\":{\"anchor\":\"x2\",\"domain\":[0.84375,1.0],\"title\":{\"text\":\"Gross Rental Yield City Centre\"}},\"xaxis3\":{\"anchor\":\"y3\",\"domain\":[0.525,0.7375],\"title\":{\"text\":\"Year\"}},\"yaxis3\":{\"anchor\":\"x3\",\"domain\":[0.84375,1.0],\"title\":{\"text\":\"Gross Rental Yield Outside Centre\"}},\"xaxis4\":{\"anchor\":\"y4\",\"domain\":[0.7875,1.0],\"title\":{\"text\":\"Year\"}},\"yaxis4\":{\"anchor\":\"x4\",\"domain\":[0.84375,1.0],\"title\":{\"text\":\"Price to Rent Ratio City Centre\"}},\"xaxis5\":{\"anchor\":\"y5\",\"domain\":[0.0,0.2125],\"title\":{\"text\":\"Year\"}},\"yaxis5\":{\"anchor\":\"x5\",\"domain\":[0.5625,0.71875],\"title\":{\"text\":\"Price to Rent Ratio Outside City Centre\"}},\"xaxis6\":{\"anchor\":\"y6\",\"domain\":[0.2625,0.475],\"title\":{\"text\":\"Year\"}},\"yaxis6\":{\"anchor\":\"x6\",\"domain\":[0.5625,0.71875],\"title\":{\"text\":\"Mortgage as a Percentage of Income\"}},\"xaxis7\":{\"anchor\":\"y7\",\"domain\":[0.525,0.7375],\"title\":{\"text\":\"Year\"}},\"yaxis7\":{\"anchor\":\"x7\",\"domain\":[0.5625,0.71875],\"title\":{\"text\":\"Affordability Index\"}},\"xaxis8\":{\"anchor\":\"y8\",\"domain\":[0.7875,1.0],\"title\":{\"text\":\"Year\"}},\"yaxis8\":{\"anchor\":\"x8\",\"domain\":[0.5625,0.71875],\"title\":{\"text\":\"Crime Index\"}},\"xaxis9\":{\"anchor\":\"y9\",\"domain\":[0.0,0.2125],\"title\":{\"text\":\"Year\"}},\"yaxis9\":{\"anchor\":\"x9\",\"domain\":[0.28125,0.4375],\"title\":{\"text\":\"Safety Index\"}},\"xaxis10\":{\"anchor\":\"y10\",\"domain\":[0.2625,0.475],\"title\":{\"text\":\"Year\"}},\"yaxis10\":{\"anchor\":\"x10\",\"domain\":[0.28125,0.4375],\"title\":{\"text\":\"Cost of Living Index\"}},\"xaxis11\":{\"anchor\":\"y11\",\"domain\":[0.525,0.7375],\"title\":{\"text\":\"Year\"}},\"yaxis11\":{\"anchor\":\"x11\",\"domain\":[0.28125,0.4375],\"title\":{\"text\":\"Rent Index\"}},\"xaxis12\":{\"anchor\":\"y12\",\"domain\":[0.7875,1.0],\"title\":{\"text\":\"Year\"}},\"yaxis12\":{\"anchor\":\"x12\",\"domain\":[0.28125,0.4375],\"title\":{\"text\":\"Cost of Living Plus Rent Index\"}},\"xaxis13\":{\"anchor\":\"y13\",\"domain\":[0.0,0.2125],\"title\":{\"text\":\"Year\"}},\"yaxis13\":{\"anchor\":\"x13\",\"domain\":[0.0,0.15625],\"title\":{\"text\":\"Groceries Index\"}},\"xaxis14\":{\"anchor\":\"y14\",\"domain\":[0.2625,0.475],\"title\":{\"text\":\"Year\"}},\"yaxis14\":{\"anchor\":\"x14\",\"domain\":[0.0,0.15625],\"title\":{\"text\":\"Restaurant Index\"}},\"xaxis15\":{\"anchor\":\"y15\",\"domain\":[0.525,0.7375],\"title\":{\"text\":\"Year\"}},\"yaxis15\":{\"anchor\":\"x15\",\"domain\":[0.0,0.15625],\"title\":{\"text\":\"Local Purchasing Power Index\"}},\"xaxis16\":{\"anchor\":\"y16\",\"domain\":[0.7875,1.0]},\"yaxis16\":{\"anchor\":\"x16\",\"domain\":[0.0,0.15625]},\"annotations\":[{\"font\":{\"size\":16},\"showarrow\":false,\"text\":\"Price to Income Ratio\",\"x\":0.10625,\"xanchor\":\"center\",\"xref\":\"paper\",\"y\":1.0,\"yanchor\":\"bottom\",\"yref\":\"paper\"},{\"font\":{\"size\":16},\"showarrow\":false,\"text\":\"Gross Rental Yield City Centre\",\"x\":0.36875,\"xanchor\":\"center\",\"xref\":\"paper\",\"y\":1.0,\"yanchor\":\"bottom\",\"yref\":\"paper\"},{\"font\":{\"size\":16},\"showarrow\":false,\"text\":\"Gross Rental Yield Outside Centre\",\"x\":0.6312500000000001,\"xanchor\":\"center\",\"xref\":\"paper\",\"y\":1.0,\"yanchor\":\"bottom\",\"yref\":\"paper\"},{\"font\":{\"size\":16},\"showarrow\":false,\"text\":\"Price to Rent Ratio City Centre\",\"x\":0.89375,\"xanchor\":\"center\",\"xref\":\"paper\",\"y\":1.0,\"yanchor\":\"bottom\",\"yref\":\"paper\"},{\"font\":{\"size\":16},\"showarrow\":false,\"text\":\"Price to Rent Ratio Outside City Centre\",\"x\":0.10625,\"xanchor\":\"center\",\"xref\":\"paper\",\"y\":0.71875,\"yanchor\":\"bottom\",\"yref\":\"paper\"},{\"font\":{\"size\":16},\"showarrow\":false,\"text\":\"Mortgage as a Percentage of Income\",\"x\":0.36875,\"xanchor\":\"center\",\"xref\":\"paper\",\"y\":0.71875,\"yanchor\":\"bottom\",\"yref\":\"paper\"},{\"font\":{\"size\":16},\"showarrow\":false,\"text\":\"Affordability Index\",\"x\":0.6312500000000001,\"xanchor\":\"center\",\"xref\":\"paper\",\"y\":0.71875,\"yanchor\":\"bottom\",\"yref\":\"paper\"},{\"font\":{\"size\":16},\"showarrow\":false,\"text\":\"Crime Index\",\"x\":0.89375,\"xanchor\":\"center\",\"xref\":\"paper\",\"y\":0.71875,\"yanchor\":\"bottom\",\"yref\":\"paper\"},{\"font\":{\"size\":16},\"showarrow\":false,\"text\":\"Safety Index\",\"x\":0.10625,\"xanchor\":\"center\",\"xref\":\"paper\",\"y\":0.4375,\"yanchor\":\"bottom\",\"yref\":\"paper\"},{\"font\":{\"size\":16},\"showarrow\":false,\"text\":\"Cost of Living Index\",\"x\":0.36875,\"xanchor\":\"center\",\"xref\":\"paper\",\"y\":0.4375,\"yanchor\":\"bottom\",\"yref\":\"paper\"},{\"font\":{\"size\":16},\"showarrow\":false,\"text\":\"Rent Index\",\"x\":0.6312500000000001,\"xanchor\":\"center\",\"xref\":\"paper\",\"y\":0.4375,\"yanchor\":\"bottom\",\"yref\":\"paper\"},{\"font\":{\"size\":16},\"showarrow\":false,\"text\":\"Cost of Living Plus Rent Index\",\"x\":0.89375,\"xanchor\":\"center\",\"xref\":\"paper\",\"y\":0.4375,\"yanchor\":\"bottom\",\"yref\":\"paper\"},{\"font\":{\"size\":16},\"showarrow\":false,\"text\":\"Groceries Index\",\"x\":0.10625,\"xanchor\":\"center\",\"xref\":\"paper\",\"y\":0.15625,\"yanchor\":\"bottom\",\"yref\":\"paper\"},{\"font\":{\"size\":16},\"showarrow\":false,\"text\":\"Restaurant Index\",\"x\":0.36875,\"xanchor\":\"center\",\"xref\":\"paper\",\"y\":0.15625,\"yanchor\":\"bottom\",\"yref\":\"paper\"},{\"font\":{\"size\":16},\"showarrow\":false,\"text\":\"Local Purchasing Power Index\",\"x\":0.6312500000000001,\"xanchor\":\"center\",\"xref\":\"paper\",\"y\":0.15625,\"yanchor\":\"bottom\",\"yref\":\"paper\"}],\"title\":{\"text\":\"Atlanta, GA, United States\"},\"height\":1500,\"width\":1500},                        {\"responsive\": true}                    ).then(function(){\n",
       "                            \n",
       "var gd = document.getElementById('64fa0c91-ad26-4fad-927d-f6d977863988');\n",
       "var x = new MutationObserver(function (mutations, observer) {{\n",
       "        var display = window.getComputedStyle(gd).display;\n",
       "        if (!display || display === 'none') {{\n",
       "            console.log([gd, 'removed!']);\n",
       "            Plotly.purge(gd);\n",
       "            observer.disconnect();\n",
       "        }}\n",
       "}});\n",
       "\n",
       "// Listen for the removal of the full notebook cells\n",
       "var notebookContainer = gd.closest('#notebook-container');\n",
       "if (notebookContainer) {{\n",
       "    x.observe(notebookContainer, {childList: true});\n",
       "}}\n",
       "\n",
       "// Listen for the clearing of the current output cell\n",
       "var outputEl = gd.closest('.output');\n",
       "if (outputEl) {{\n",
       "    x.observe(outputEl, {childList: true});\n",
       "}}\n",
       "\n",
       "                        })                };                });            </script>        </div>"
      ]
     },
     "metadata": {},
     "output_type": "display_data"
    },
    {
     "data": {
      "application/vnd.plotly.v1+json": {
       "config": {
        "plotlyServerURL": "https://plot.ly"
       },
       "data": [
        {
         "mode": "lines+markers",
         "name": "Price to Income Ratio",
         "type": "scatter",
         "x": [
          "2011",
          "2012",
          "2013",
          "2014",
          "2014-mid",
          "2015",
          "2015-mid",
          "2016",
          "2016-mid",
          "2017",
          "2017-mid",
          "2018",
          "2018-mid",
          "2019",
          "2019-mid",
          "2020",
          "2020-mid",
          "2021",
          "2021-mid",
          "2022",
          "2022-mid",
          "2023",
          "2023-mid",
          "2024",
          "2024-mid"
         ],
         "xaxis": "x",
         "y": [
          1.6,
          1.7,
          2.1,
          2.6,
          2.7,
          2.7,
          3,
          3.3,
          2.5,
          1.9,
          1.9,
          2.3,
          2.2,
          2.2,
          2.1,
          2.1,
          2.2,
          2.2,
          2.3,
          2,
          2.2,
          2.4,
          2.1,
          4.6,
          2.5
         ],
         "yaxis": "y"
        },
        {
         "mode": "lines+markers",
         "name": "Gross Rental Yield City Centre",
         "type": "scatter",
         "x": [
          "2011",
          "2012",
          "2013",
          "2014",
          "2014-mid",
          "2015",
          "2015-mid",
          "2016",
          "2016-mid",
          "2017",
          "2017-mid",
          "2018",
          "2018-mid",
          "2019",
          "2019-mid",
          "2020",
          "2020-mid",
          "2021",
          "2021-mid",
          "2022",
          "2022-mid",
          "2023",
          "2023-mid",
          "2024",
          "2024-mid"
         ],
         "xaxis": "x2",
         "y": [
          14,
          14.5,
          15.8,
          13.7,
          13.4,
          13.4,
          9.9,
          12.3,
          13.4,
          16.1,
          15.3,
          14.7,
          14.4,
          14.8,
          13.9,
          13.5,
          13.2,
          11.3,
          10.3,
          9.6,
          10.6,
          11.9,
          11.8,
          7.1,
          12.6
         ],
         "yaxis": "y2"
        },
        {
         "mode": "lines+markers",
         "name": "Gross Rental Yield Outside Centre",
         "type": "scatter",
         "x": [
          "2011",
          "2012",
          "2013",
          "2014",
          "2014-mid",
          "2015",
          "2015-mid",
          "2016",
          "2016-mid",
          "2017",
          "2017-mid",
          "2018",
          "2018-mid",
          "2019",
          "2019-mid",
          "2020",
          "2020-mid",
          "2021",
          "2021-mid",
          "2022",
          "2022-mid",
          "2023",
          "2023-mid",
          "2024",
          "2024-mid"
         ],
         "xaxis": "x3",
         "y": [
          15.9,
          17.2,
          16.4,
          13.9,
          13.9,
          13.9,
          12.3,
          14.3,
          17,
          19.2,
          17.8,
          17.7,
          18.7,
          18.6,
          18.2,
          17.6,
          16.7,
          16.2,
          15.1,
          16.4,
          14.9,
          14.7,
          15.7,
          5.9,
          13.7
         ],
         "yaxis": "y3"
        },
        {
         "mode": "lines+markers",
         "name": "Price to Rent Ratio City Centre",
         "type": "scatter",
         "x": [
          "2011",
          "2012",
          "2013",
          "2014",
          "2014-mid",
          "2015",
          "2015-mid",
          "2016",
          "2016-mid",
          "2017",
          "2017-mid",
          "2018",
          "2018-mid",
          "2019",
          "2019-mid",
          "2020",
          "2020-mid",
          "2021",
          "2021-mid",
          "2022",
          "2022-mid",
          "2023",
          "2023-mid",
          "2024",
          "2024-mid"
         ],
         "xaxis": "x4",
         "y": [
          7.1,
          6.9,
          6.3,
          7.3,
          7.5,
          7.5,
          10.1,
          8.2,
          7.5,
          6.2,
          6.5,
          6.8,
          7,
          6.8,
          7.2,
          7.4,
          7.6,
          8.9,
          9.7,
          10.4,
          9.4,
          8.4,
          8.5,
          14.1,
          7.9
         ],
         "yaxis": "y4"
        },
        {
         "mode": "lines+markers",
         "name": "Price to Rent Ratio Outside City Centre",
         "type": "scatter",
         "x": [
          "2011",
          "2012",
          "2013",
          "2014",
          "2014-mid",
          "2015",
          "2015-mid",
          "2016",
          "2016-mid",
          "2017",
          "2017-mid",
          "2018",
          "2018-mid",
          "2019",
          "2019-mid",
          "2020",
          "2020-mid",
          "2021",
          "2021-mid",
          "2022",
          "2022-mid",
          "2023",
          "2023-mid",
          "2024",
          "2024-mid"
         ],
         "xaxis": "x5",
         "y": [
          6.3,
          5.8,
          6.1,
          7.2,
          7.2,
          7.2,
          8.1,
          7,
          5.9,
          5.2,
          5.6,
          5.6,
          5.3,
          5.4,
          5.5,
          5.7,
          6,
          6.2,
          6.6,
          6.1,
          6.7,
          6.8,
          6.4,
          17,
          7.3
         ],
         "yaxis": "y5"
        },
        {
         "mode": "lines+markers",
         "name": "Mortgage as a Percentage of Income",
         "type": "scatter",
         "x": [
          "2011",
          "2012",
          "2013",
          "2014",
          "2014-mid",
          "2015",
          "2015-mid",
          "2016",
          "2016-mid",
          "2017",
          "2017-mid",
          "2018",
          "2018-mid",
          "2019",
          "2019-mid",
          "2020",
          "2020-mid",
          "2021",
          "2021-mid",
          "2022",
          "2022-mid",
          "2023",
          "2023-mid",
          "2024",
          "2024-mid"
         ],
         "xaxis": "x6",
         "y": [
          "13.1",
          "13.4",
          "15.8",
          "19.4",
          "20.3",
          "20.0",
          "22.1",
          "23.8",
          "18.3",
          "13.8",
          "13.4",
          "16.2",
          "16.2",
          "16.2",
          "15.6",
          "15.6",
          "16.0",
          "15.7",
          "15.5",
          "13.6",
          "17.0",
          "18.6",
          "19.2",
          "42.1",
          "22.1"
         ],
         "yaxis": "y6"
        },
        {
         "mode": "lines+markers",
         "name": "Affordability Index",
         "type": "scatter",
         "x": [
          "2011",
          "2012",
          "2013",
          "2014",
          "2014-mid",
          "2015",
          "2015-mid",
          "2016",
          "2016-mid",
          "2017",
          "2017-mid",
          "2018",
          "2018-mid",
          "2019",
          "2019-mid",
          "2020",
          "2020-mid",
          "2021",
          "2021-mid",
          "2022",
          "2022-mid",
          "2023",
          "2023-mid",
          "2024",
          "2024-mid"
         ],
         "xaxis": "x7",
         "y": [
          "7.6",
          "7.4",
          "6.3",
          "5.2",
          "4.9",
          "5.0",
          "4.5",
          "4.2",
          "5.5",
          "7.3",
          "7.5",
          "6.2",
          "6.2",
          "6.2",
          "6.4",
          "6.4",
          "6.2",
          "6.4",
          "6.5",
          "7.4",
          "5.9",
          "5.4",
          "5.2",
          "2.4",
          "4.5"
         ],
         "yaxis": "y7"
        },
        {
         "mode": "lines+markers",
         "name": "Crime Index",
         "type": "scatter",
         "x": [
          "2011",
          "2012",
          "2013",
          "2014",
          "2014-mid",
          "2015",
          "2015-mid",
          "2016",
          "2016-mid",
          "2017",
          "2017-mid",
          "2018",
          "2018-mid",
          "2019",
          "2019-mid",
          "2020",
          "2020-mid",
          "2021",
          "2021-mid",
          "2022",
          "2022-mid",
          "2023",
          "2023-mid",
          "2024",
          "2024-mid"
         ],
         "xaxis": "x8",
         "y": [
          null,
          null,
          null,
          56.8,
          58,
          59.2,
          60.2,
          59.3,
          62.6,
          62.7,
          62.6,
          60.9,
          59.1,
          60.9,
          62.2,
          63.3,
          64.1,
          63.9,
          63.9,
          63.8,
          64.3,
          63.8,
          63.8,
          63.3,
          63.6
         ],
         "yaxis": "y8"
        },
        {
         "mode": "lines+markers",
         "name": "Safety Index",
         "type": "scatter",
         "x": [
          "2011",
          "2012",
          "2013",
          "2014",
          "2014-mid",
          "2015",
          "2015-mid",
          "2016",
          "2016-mid",
          "2017",
          "2017-mid",
          "2018",
          "2018-mid",
          "2019",
          "2019-mid",
          "2020",
          "2020-mid",
          "2021",
          "2021-mid",
          "2022",
          "2022-mid",
          "2023",
          "2023-mid",
          "2024",
          "2024-mid"
         ],
         "xaxis": "x9",
         "y": [
          null,
          null,
          null,
          43.2,
          42,
          40.8,
          39.8,
          40.7,
          37.4,
          37.3,
          37.4,
          39.1,
          40.9,
          39.1,
          37.8,
          36.7,
          35.9,
          36.1,
          36.1,
          36.2,
          35.7,
          36.2,
          36.2,
          36.7,
          36.4
         ],
         "yaxis": "y9"
        },
        {
         "mode": "lines+markers",
         "name": "Cost of Living Index",
         "type": "scatter",
         "x": [
          "2011",
          "2012",
          "2013",
          "2014",
          "2014-mid",
          "2015",
          "2015-mid",
          "2016",
          "2016-mid",
          "2017",
          "2017-mid",
          "2018",
          "2018-mid",
          "2019",
          "2019-mid",
          "2020",
          "2020-mid",
          "2021",
          "2021-mid",
          "2022",
          "2022-mid",
          "2023",
          "2023-mid",
          "2024",
          "2024-mid"
         ],
         "xaxis": "x10",
         "y": [
          null,
          null,
          null,
          null,
          null,
          null,
          null,
          null,
          null,
          null,
          null,
          null,
          null,
          null,
          null,
          null,
          null,
          null,
          null,
          null,
          null,
          null,
          null,
          null,
          65.1
         ],
         "yaxis": "y10"
        },
        {
         "mode": "lines+markers",
         "name": "Rent Index",
         "type": "scatter",
         "x": [
          "2011",
          "2012",
          "2013",
          "2014",
          "2014-mid",
          "2015",
          "2015-mid",
          "2016",
          "2016-mid",
          "2017",
          "2017-mid",
          "2018",
          "2018-mid",
          "2019",
          "2019-mid",
          "2020",
          "2020-mid",
          "2021",
          "2021-mid",
          "2022",
          "2022-mid",
          "2023",
          "2023-mid",
          "2024",
          "2024-mid"
         ],
         "xaxis": "x11",
         "y": [
          null,
          null,
          null,
          null,
          null,
          null,
          null,
          null,
          null,
          null,
          null,
          null,
          null,
          null,
          null,
          null,
          null,
          null,
          null,
          null,
          null,
          null,
          null,
          null,
          39.2
         ],
         "yaxis": "y11"
        },
        {
         "mode": "lines+markers",
         "name": "Cost of Living Plus Rent Index",
         "type": "scatter",
         "x": [
          "2011",
          "2012",
          "2013",
          "2014",
          "2014-mid",
          "2015",
          "2015-mid",
          "2016",
          "2016-mid",
          "2017",
          "2017-mid",
          "2018",
          "2018-mid",
          "2019",
          "2019-mid",
          "2020",
          "2020-mid",
          "2021",
          "2021-mid",
          "2022",
          "2022-mid",
          "2023",
          "2023-mid",
          "2024",
          "2024-mid"
         ],
         "xaxis": "x12",
         "y": [
          null,
          null,
          null,
          null,
          null,
          null,
          null,
          null,
          null,
          null,
          null,
          null,
          null,
          null,
          null,
          null,
          null,
          null,
          null,
          null,
          null,
          null,
          null,
          null,
          52.7
         ],
         "yaxis": "y12"
        },
        {
         "mode": "lines+markers",
         "name": "Groceries Index",
         "type": "scatter",
         "x": [
          "2011",
          "2012",
          "2013",
          "2014",
          "2014-mid",
          "2015",
          "2015-mid",
          "2016",
          "2016-mid",
          "2017",
          "2017-mid",
          "2018",
          "2018-mid",
          "2019",
          "2019-mid",
          "2020",
          "2020-mid",
          "2021",
          "2021-mid",
          "2022",
          "2022-mid",
          "2023",
          "2023-mid",
          "2024",
          "2024-mid"
         ],
         "xaxis": "x13",
         "y": [
          null,
          null,
          null,
          null,
          null,
          null,
          null,
          null,
          null,
          null,
          null,
          null,
          null,
          null,
          null,
          null,
          null,
          null,
          null,
          null,
          null,
          null,
          null,
          null,
          66.8
         ],
         "yaxis": "y13"
        },
        {
         "mode": "lines+markers",
         "name": "Restaurant Index",
         "type": "scatter",
         "x": [
          "2011",
          "2012",
          "2013",
          "2014",
          "2014-mid",
          "2015",
          "2015-mid",
          "2016",
          "2016-mid",
          "2017",
          "2017-mid",
          "2018",
          "2018-mid",
          "2019",
          "2019-mid",
          "2020",
          "2020-mid",
          "2021",
          "2021-mid",
          "2022",
          "2022-mid",
          "2023",
          "2023-mid",
          "2024",
          "2024-mid"
         ],
         "xaxis": "x14",
         "y": [
          null,
          null,
          null,
          null,
          null,
          null,
          null,
          null,
          null,
          null,
          null,
          null,
          null,
          null,
          null,
          null,
          null,
          null,
          null,
          null,
          null,
          null,
          null,
          null,
          60.7
         ],
         "yaxis": "y14"
        },
        {
         "mode": "lines+markers",
         "name": "Local Purchasing Power Index",
         "type": "scatter",
         "x": [
          "2011",
          "2012",
          "2013",
          "2014",
          "2014-mid",
          "2015",
          "2015-mid",
          "2016",
          "2016-mid",
          "2017",
          "2017-mid",
          "2018",
          "2018-mid",
          "2019",
          "2019-mid",
          "2020",
          "2020-mid",
          "2021",
          "2021-mid",
          "2022",
          "2022-mid",
          "2023",
          "2023-mid",
          "2024",
          "2024-mid"
         ],
         "xaxis": "x15",
         "y": [
          null,
          null,
          null,
          null,
          null,
          null,
          null,
          null,
          null,
          null,
          null,
          null,
          null,
          null,
          null,
          null,
          null,
          null,
          null,
          null,
          null,
          null,
          null,
          null,
          162.9
         ],
         "yaxis": "y15"
        }
       ],
       "layout": {
        "annotations": [
         {
          "font": {
           "size": 16
          },
          "showarrow": false,
          "text": "Price to Income Ratio",
          "x": 0.10625,
          "xanchor": "center",
          "xref": "paper",
          "y": 1,
          "yanchor": "bottom",
          "yref": "paper"
         },
         {
          "font": {
           "size": 16
          },
          "showarrow": false,
          "text": "Gross Rental Yield City Centre",
          "x": 0.36875,
          "xanchor": "center",
          "xref": "paper",
          "y": 1,
          "yanchor": "bottom",
          "yref": "paper"
         },
         {
          "font": {
           "size": 16
          },
          "showarrow": false,
          "text": "Gross Rental Yield Outside Centre",
          "x": 0.6312500000000001,
          "xanchor": "center",
          "xref": "paper",
          "y": 1,
          "yanchor": "bottom",
          "yref": "paper"
         },
         {
          "font": {
           "size": 16
          },
          "showarrow": false,
          "text": "Price to Rent Ratio City Centre",
          "x": 0.89375,
          "xanchor": "center",
          "xref": "paper",
          "y": 1,
          "yanchor": "bottom",
          "yref": "paper"
         },
         {
          "font": {
           "size": 16
          },
          "showarrow": false,
          "text": "Price to Rent Ratio Outside City Centre",
          "x": 0.10625,
          "xanchor": "center",
          "xref": "paper",
          "y": 0.71875,
          "yanchor": "bottom",
          "yref": "paper"
         },
         {
          "font": {
           "size": 16
          },
          "showarrow": false,
          "text": "Mortgage as a Percentage of Income",
          "x": 0.36875,
          "xanchor": "center",
          "xref": "paper",
          "y": 0.71875,
          "yanchor": "bottom",
          "yref": "paper"
         },
         {
          "font": {
           "size": 16
          },
          "showarrow": false,
          "text": "Affordability Index",
          "x": 0.6312500000000001,
          "xanchor": "center",
          "xref": "paper",
          "y": 0.71875,
          "yanchor": "bottom",
          "yref": "paper"
         },
         {
          "font": {
           "size": 16
          },
          "showarrow": false,
          "text": "Crime Index",
          "x": 0.89375,
          "xanchor": "center",
          "xref": "paper",
          "y": 0.71875,
          "yanchor": "bottom",
          "yref": "paper"
         },
         {
          "font": {
           "size": 16
          },
          "showarrow": false,
          "text": "Safety Index",
          "x": 0.10625,
          "xanchor": "center",
          "xref": "paper",
          "y": 0.4375,
          "yanchor": "bottom",
          "yref": "paper"
         },
         {
          "font": {
           "size": 16
          },
          "showarrow": false,
          "text": "Cost of Living Index",
          "x": 0.36875,
          "xanchor": "center",
          "xref": "paper",
          "y": 0.4375,
          "yanchor": "bottom",
          "yref": "paper"
         },
         {
          "font": {
           "size": 16
          },
          "showarrow": false,
          "text": "Rent Index",
          "x": 0.6312500000000001,
          "xanchor": "center",
          "xref": "paper",
          "y": 0.4375,
          "yanchor": "bottom",
          "yref": "paper"
         },
         {
          "font": {
           "size": 16
          },
          "showarrow": false,
          "text": "Cost of Living Plus Rent Index",
          "x": 0.89375,
          "xanchor": "center",
          "xref": "paper",
          "y": 0.4375,
          "yanchor": "bottom",
          "yref": "paper"
         },
         {
          "font": {
           "size": 16
          },
          "showarrow": false,
          "text": "Groceries Index",
          "x": 0.10625,
          "xanchor": "center",
          "xref": "paper",
          "y": 0.15625,
          "yanchor": "bottom",
          "yref": "paper"
         },
         {
          "font": {
           "size": 16
          },
          "showarrow": false,
          "text": "Restaurant Index",
          "x": 0.36875,
          "xanchor": "center",
          "xref": "paper",
          "y": 0.15625,
          "yanchor": "bottom",
          "yref": "paper"
         },
         {
          "font": {
           "size": 16
          },
          "showarrow": false,
          "text": "Local Purchasing Power Index",
          "x": 0.6312500000000001,
          "xanchor": "center",
          "xref": "paper",
          "y": 0.15625,
          "yanchor": "bottom",
          "yref": "paper"
         }
        ],
        "height": 1500,
        "template": {
         "data": {
          "bar": [
           {
            "error_x": {
             "color": "#2a3f5f"
            },
            "error_y": {
             "color": "#2a3f5f"
            },
            "marker": {
             "line": {
              "color": "#E5ECF6",
              "width": 0.5
             },
             "pattern": {
              "fillmode": "overlay",
              "size": 10,
              "solidity": 0.2
             }
            },
            "type": "bar"
           }
          ],
          "barpolar": [
           {
            "marker": {
             "line": {
              "color": "#E5ECF6",
              "width": 0.5
             },
             "pattern": {
              "fillmode": "overlay",
              "size": 10,
              "solidity": 0.2
             }
            },
            "type": "barpolar"
           }
          ],
          "carpet": [
           {
            "aaxis": {
             "endlinecolor": "#2a3f5f",
             "gridcolor": "white",
             "linecolor": "white",
             "minorgridcolor": "white",
             "startlinecolor": "#2a3f5f"
            },
            "baxis": {
             "endlinecolor": "#2a3f5f",
             "gridcolor": "white",
             "linecolor": "white",
             "minorgridcolor": "white",
             "startlinecolor": "#2a3f5f"
            },
            "type": "carpet"
           }
          ],
          "choropleth": [
           {
            "colorbar": {
             "outlinewidth": 0,
             "ticks": ""
            },
            "type": "choropleth"
           }
          ],
          "contour": [
           {
            "colorbar": {
             "outlinewidth": 0,
             "ticks": ""
            },
            "colorscale": [
             [
              0,
              "#0d0887"
             ],
             [
              0.1111111111111111,
              "#46039f"
             ],
             [
              0.2222222222222222,
              "#7201a8"
             ],
             [
              0.3333333333333333,
              "#9c179e"
             ],
             [
              0.4444444444444444,
              "#bd3786"
             ],
             [
              0.5555555555555556,
              "#d8576b"
             ],
             [
              0.6666666666666666,
              "#ed7953"
             ],
             [
              0.7777777777777778,
              "#fb9f3a"
             ],
             [
              0.8888888888888888,
              "#fdca26"
             ],
             [
              1,
              "#f0f921"
             ]
            ],
            "type": "contour"
           }
          ],
          "contourcarpet": [
           {
            "colorbar": {
             "outlinewidth": 0,
             "ticks": ""
            },
            "type": "contourcarpet"
           }
          ],
          "heatmap": [
           {
            "colorbar": {
             "outlinewidth": 0,
             "ticks": ""
            },
            "colorscale": [
             [
              0,
              "#0d0887"
             ],
             [
              0.1111111111111111,
              "#46039f"
             ],
             [
              0.2222222222222222,
              "#7201a8"
             ],
             [
              0.3333333333333333,
              "#9c179e"
             ],
             [
              0.4444444444444444,
              "#bd3786"
             ],
             [
              0.5555555555555556,
              "#d8576b"
             ],
             [
              0.6666666666666666,
              "#ed7953"
             ],
             [
              0.7777777777777778,
              "#fb9f3a"
             ],
             [
              0.8888888888888888,
              "#fdca26"
             ],
             [
              1,
              "#f0f921"
             ]
            ],
            "type": "heatmap"
           }
          ],
          "heatmapgl": [
           {
            "colorbar": {
             "outlinewidth": 0,
             "ticks": ""
            },
            "colorscale": [
             [
              0,
              "#0d0887"
             ],
             [
              0.1111111111111111,
              "#46039f"
             ],
             [
              0.2222222222222222,
              "#7201a8"
             ],
             [
              0.3333333333333333,
              "#9c179e"
             ],
             [
              0.4444444444444444,
              "#bd3786"
             ],
             [
              0.5555555555555556,
              "#d8576b"
             ],
             [
              0.6666666666666666,
              "#ed7953"
             ],
             [
              0.7777777777777778,
              "#fb9f3a"
             ],
             [
              0.8888888888888888,
              "#fdca26"
             ],
             [
              1,
              "#f0f921"
             ]
            ],
            "type": "heatmapgl"
           }
          ],
          "histogram": [
           {
            "marker": {
             "pattern": {
              "fillmode": "overlay",
              "size": 10,
              "solidity": 0.2
             }
            },
            "type": "histogram"
           }
          ],
          "histogram2d": [
           {
            "colorbar": {
             "outlinewidth": 0,
             "ticks": ""
            },
            "colorscale": [
             [
              0,
              "#0d0887"
             ],
             [
              0.1111111111111111,
              "#46039f"
             ],
             [
              0.2222222222222222,
              "#7201a8"
             ],
             [
              0.3333333333333333,
              "#9c179e"
             ],
             [
              0.4444444444444444,
              "#bd3786"
             ],
             [
              0.5555555555555556,
              "#d8576b"
             ],
             [
              0.6666666666666666,
              "#ed7953"
             ],
             [
              0.7777777777777778,
              "#fb9f3a"
             ],
             [
              0.8888888888888888,
              "#fdca26"
             ],
             [
              1,
              "#f0f921"
             ]
            ],
            "type": "histogram2d"
           }
          ],
          "histogram2dcontour": [
           {
            "colorbar": {
             "outlinewidth": 0,
             "ticks": ""
            },
            "colorscale": [
             [
              0,
              "#0d0887"
             ],
             [
              0.1111111111111111,
              "#46039f"
             ],
             [
              0.2222222222222222,
              "#7201a8"
             ],
             [
              0.3333333333333333,
              "#9c179e"
             ],
             [
              0.4444444444444444,
              "#bd3786"
             ],
             [
              0.5555555555555556,
              "#d8576b"
             ],
             [
              0.6666666666666666,
              "#ed7953"
             ],
             [
              0.7777777777777778,
              "#fb9f3a"
             ],
             [
              0.8888888888888888,
              "#fdca26"
             ],
             [
              1,
              "#f0f921"
             ]
            ],
            "type": "histogram2dcontour"
           }
          ],
          "mesh3d": [
           {
            "colorbar": {
             "outlinewidth": 0,
             "ticks": ""
            },
            "type": "mesh3d"
           }
          ],
          "parcoords": [
           {
            "line": {
             "colorbar": {
              "outlinewidth": 0,
              "ticks": ""
             }
            },
            "type": "parcoords"
           }
          ],
          "pie": [
           {
            "automargin": true,
            "type": "pie"
           }
          ],
          "scatter": [
           {
            "fillpattern": {
             "fillmode": "overlay",
             "size": 10,
             "solidity": 0.2
            },
            "type": "scatter"
           }
          ],
          "scatter3d": [
           {
            "line": {
             "colorbar": {
              "outlinewidth": 0,
              "ticks": ""
             }
            },
            "marker": {
             "colorbar": {
              "outlinewidth": 0,
              "ticks": ""
             }
            },
            "type": "scatter3d"
           }
          ],
          "scattercarpet": [
           {
            "marker": {
             "colorbar": {
              "outlinewidth": 0,
              "ticks": ""
             }
            },
            "type": "scattercarpet"
           }
          ],
          "scattergeo": [
           {
            "marker": {
             "colorbar": {
              "outlinewidth": 0,
              "ticks": ""
             }
            },
            "type": "scattergeo"
           }
          ],
          "scattergl": [
           {
            "marker": {
             "colorbar": {
              "outlinewidth": 0,
              "ticks": ""
             }
            },
            "type": "scattergl"
           }
          ],
          "scattermapbox": [
           {
            "marker": {
             "colorbar": {
              "outlinewidth": 0,
              "ticks": ""
             }
            },
            "type": "scattermapbox"
           }
          ],
          "scatterpolar": [
           {
            "marker": {
             "colorbar": {
              "outlinewidth": 0,
              "ticks": ""
             }
            },
            "type": "scatterpolar"
           }
          ],
          "scatterpolargl": [
           {
            "marker": {
             "colorbar": {
              "outlinewidth": 0,
              "ticks": ""
             }
            },
            "type": "scatterpolargl"
           }
          ],
          "scatterternary": [
           {
            "marker": {
             "colorbar": {
              "outlinewidth": 0,
              "ticks": ""
             }
            },
            "type": "scatterternary"
           }
          ],
          "surface": [
           {
            "colorbar": {
             "outlinewidth": 0,
             "ticks": ""
            },
            "colorscale": [
             [
              0,
              "#0d0887"
             ],
             [
              0.1111111111111111,
              "#46039f"
             ],
             [
              0.2222222222222222,
              "#7201a8"
             ],
             [
              0.3333333333333333,
              "#9c179e"
             ],
             [
              0.4444444444444444,
              "#bd3786"
             ],
             [
              0.5555555555555556,
              "#d8576b"
             ],
             [
              0.6666666666666666,
              "#ed7953"
             ],
             [
              0.7777777777777778,
              "#fb9f3a"
             ],
             [
              0.8888888888888888,
              "#fdca26"
             ],
             [
              1,
              "#f0f921"
             ]
            ],
            "type": "surface"
           }
          ],
          "table": [
           {
            "cells": {
             "fill": {
              "color": "#EBF0F8"
             },
             "line": {
              "color": "white"
             }
            },
            "header": {
             "fill": {
              "color": "#C8D4E3"
             },
             "line": {
              "color": "white"
             }
            },
            "type": "table"
           }
          ]
         },
         "layout": {
          "annotationdefaults": {
           "arrowcolor": "#2a3f5f",
           "arrowhead": 0,
           "arrowwidth": 1
          },
          "autotypenumbers": "strict",
          "coloraxis": {
           "colorbar": {
            "outlinewidth": 0,
            "ticks": ""
           }
          },
          "colorscale": {
           "diverging": [
            [
             0,
             "#8e0152"
            ],
            [
             0.1,
             "#c51b7d"
            ],
            [
             0.2,
             "#de77ae"
            ],
            [
             0.3,
             "#f1b6da"
            ],
            [
             0.4,
             "#fde0ef"
            ],
            [
             0.5,
             "#f7f7f7"
            ],
            [
             0.6,
             "#e6f5d0"
            ],
            [
             0.7,
             "#b8e186"
            ],
            [
             0.8,
             "#7fbc41"
            ],
            [
             0.9,
             "#4d9221"
            ],
            [
             1,
             "#276419"
            ]
           ],
           "sequential": [
            [
             0,
             "#0d0887"
            ],
            [
             0.1111111111111111,
             "#46039f"
            ],
            [
             0.2222222222222222,
             "#7201a8"
            ],
            [
             0.3333333333333333,
             "#9c179e"
            ],
            [
             0.4444444444444444,
             "#bd3786"
            ],
            [
             0.5555555555555556,
             "#d8576b"
            ],
            [
             0.6666666666666666,
             "#ed7953"
            ],
            [
             0.7777777777777778,
             "#fb9f3a"
            ],
            [
             0.8888888888888888,
             "#fdca26"
            ],
            [
             1,
             "#f0f921"
            ]
           ],
           "sequentialminus": [
            [
             0,
             "#0d0887"
            ],
            [
             0.1111111111111111,
             "#46039f"
            ],
            [
             0.2222222222222222,
             "#7201a8"
            ],
            [
             0.3333333333333333,
             "#9c179e"
            ],
            [
             0.4444444444444444,
             "#bd3786"
            ],
            [
             0.5555555555555556,
             "#d8576b"
            ],
            [
             0.6666666666666666,
             "#ed7953"
            ],
            [
             0.7777777777777778,
             "#fb9f3a"
            ],
            [
             0.8888888888888888,
             "#fdca26"
            ],
            [
             1,
             "#f0f921"
            ]
           ]
          },
          "colorway": [
           "#636efa",
           "#EF553B",
           "#00cc96",
           "#ab63fa",
           "#FFA15A",
           "#19d3f3",
           "#FF6692",
           "#B6E880",
           "#FF97FF",
           "#FECB52"
          ],
          "font": {
           "color": "#2a3f5f"
          },
          "geo": {
           "bgcolor": "white",
           "lakecolor": "white",
           "landcolor": "#E5ECF6",
           "showlakes": true,
           "showland": true,
           "subunitcolor": "white"
          },
          "hoverlabel": {
           "align": "left"
          },
          "hovermode": "closest",
          "mapbox": {
           "style": "light"
          },
          "paper_bgcolor": "white",
          "plot_bgcolor": "#E5ECF6",
          "polar": {
           "angularaxis": {
            "gridcolor": "white",
            "linecolor": "white",
            "ticks": ""
           },
           "bgcolor": "#E5ECF6",
           "radialaxis": {
            "gridcolor": "white",
            "linecolor": "white",
            "ticks": ""
           }
          },
          "scene": {
           "xaxis": {
            "backgroundcolor": "#E5ECF6",
            "gridcolor": "white",
            "gridwidth": 2,
            "linecolor": "white",
            "showbackground": true,
            "ticks": "",
            "zerolinecolor": "white"
           },
           "yaxis": {
            "backgroundcolor": "#E5ECF6",
            "gridcolor": "white",
            "gridwidth": 2,
            "linecolor": "white",
            "showbackground": true,
            "ticks": "",
            "zerolinecolor": "white"
           },
           "zaxis": {
            "backgroundcolor": "#E5ECF6",
            "gridcolor": "white",
            "gridwidth": 2,
            "linecolor": "white",
            "showbackground": true,
            "ticks": "",
            "zerolinecolor": "white"
           }
          },
          "shapedefaults": {
           "line": {
            "color": "#2a3f5f"
           }
          },
          "ternary": {
           "aaxis": {
            "gridcolor": "white",
            "linecolor": "white",
            "ticks": ""
           },
           "baxis": {
            "gridcolor": "white",
            "linecolor": "white",
            "ticks": ""
           },
           "bgcolor": "#E5ECF6",
           "caxis": {
            "gridcolor": "white",
            "linecolor": "white",
            "ticks": ""
           }
          },
          "title": {
           "x": 0.05
          },
          "xaxis": {
           "automargin": true,
           "gridcolor": "white",
           "linecolor": "white",
           "ticks": "",
           "title": {
            "standoff": 15
           },
           "zerolinecolor": "white",
           "zerolinewidth": 2
          },
          "yaxis": {
           "automargin": true,
           "gridcolor": "white",
           "linecolor": "white",
           "ticks": "",
           "title": {
            "standoff": 15
           },
           "zerolinecolor": "white",
           "zerolinewidth": 2
          }
         }
        },
        "title": {
         "text": "Houston, TX, United States"
        },
        "width": 1500,
        "xaxis": {
         "anchor": "y",
         "domain": [
          0,
          0.2125
         ],
         "title": {
          "text": "Year"
         }
        },
        "xaxis10": {
         "anchor": "y10",
         "domain": [
          0.2625,
          0.475
         ],
         "title": {
          "text": "Year"
         }
        },
        "xaxis11": {
         "anchor": "y11",
         "domain": [
          0.525,
          0.7375
         ],
         "title": {
          "text": "Year"
         }
        },
        "xaxis12": {
         "anchor": "y12",
         "domain": [
          0.7875,
          1
         ],
         "title": {
          "text": "Year"
         }
        },
        "xaxis13": {
         "anchor": "y13",
         "domain": [
          0,
          0.2125
         ],
         "title": {
          "text": "Year"
         }
        },
        "xaxis14": {
         "anchor": "y14",
         "domain": [
          0.2625,
          0.475
         ],
         "title": {
          "text": "Year"
         }
        },
        "xaxis15": {
         "anchor": "y15",
         "domain": [
          0.525,
          0.7375
         ],
         "title": {
          "text": "Year"
         }
        },
        "xaxis16": {
         "anchor": "y16",
         "domain": [
          0.7875,
          1
         ]
        },
        "xaxis2": {
         "anchor": "y2",
         "domain": [
          0.2625,
          0.475
         ],
         "title": {
          "text": "Year"
         }
        },
        "xaxis3": {
         "anchor": "y3",
         "domain": [
          0.525,
          0.7375
         ],
         "title": {
          "text": "Year"
         }
        },
        "xaxis4": {
         "anchor": "y4",
         "domain": [
          0.7875,
          1
         ],
         "title": {
          "text": "Year"
         }
        },
        "xaxis5": {
         "anchor": "y5",
         "domain": [
          0,
          0.2125
         ],
         "title": {
          "text": "Year"
         }
        },
        "xaxis6": {
         "anchor": "y6",
         "domain": [
          0.2625,
          0.475
         ],
         "title": {
          "text": "Year"
         }
        },
        "xaxis7": {
         "anchor": "y7",
         "domain": [
          0.525,
          0.7375
         ],
         "title": {
          "text": "Year"
         }
        },
        "xaxis8": {
         "anchor": "y8",
         "domain": [
          0.7875,
          1
         ],
         "title": {
          "text": "Year"
         }
        },
        "xaxis9": {
         "anchor": "y9",
         "domain": [
          0,
          0.2125
         ],
         "title": {
          "text": "Year"
         }
        },
        "yaxis": {
         "anchor": "x",
         "domain": [
          0.84375,
          1
         ],
         "title": {
          "text": "Price to Income Ratio"
         }
        },
        "yaxis10": {
         "anchor": "x10",
         "domain": [
          0.28125,
          0.4375
         ],
         "title": {
          "text": "Cost of Living Index"
         }
        },
        "yaxis11": {
         "anchor": "x11",
         "domain": [
          0.28125,
          0.4375
         ],
         "title": {
          "text": "Rent Index"
         }
        },
        "yaxis12": {
         "anchor": "x12",
         "domain": [
          0.28125,
          0.4375
         ],
         "title": {
          "text": "Cost of Living Plus Rent Index"
         }
        },
        "yaxis13": {
         "anchor": "x13",
         "domain": [
          0,
          0.15625
         ],
         "title": {
          "text": "Groceries Index"
         }
        },
        "yaxis14": {
         "anchor": "x14",
         "domain": [
          0,
          0.15625
         ],
         "title": {
          "text": "Restaurant Index"
         }
        },
        "yaxis15": {
         "anchor": "x15",
         "domain": [
          0,
          0.15625
         ],
         "title": {
          "text": "Local Purchasing Power Index"
         }
        },
        "yaxis16": {
         "anchor": "x16",
         "domain": [
          0,
          0.15625
         ]
        },
        "yaxis2": {
         "anchor": "x2",
         "domain": [
          0.84375,
          1
         ],
         "title": {
          "text": "Gross Rental Yield City Centre"
         }
        },
        "yaxis3": {
         "anchor": "x3",
         "domain": [
          0.84375,
          1
         ],
         "title": {
          "text": "Gross Rental Yield Outside Centre"
         }
        },
        "yaxis4": {
         "anchor": "x4",
         "domain": [
          0.84375,
          1
         ],
         "title": {
          "text": "Price to Rent Ratio City Centre"
         }
        },
        "yaxis5": {
         "anchor": "x5",
         "domain": [
          0.5625,
          0.71875
         ],
         "title": {
          "text": "Price to Rent Ratio Outside City Centre"
         }
        },
        "yaxis6": {
         "anchor": "x6",
         "domain": [
          0.5625,
          0.71875
         ],
         "title": {
          "text": "Mortgage as a Percentage of Income"
         }
        },
        "yaxis7": {
         "anchor": "x7",
         "domain": [
          0.5625,
          0.71875
         ],
         "title": {
          "text": "Affordability Index"
         }
        },
        "yaxis8": {
         "anchor": "x8",
         "domain": [
          0.5625,
          0.71875
         ],
         "title": {
          "text": "Crime Index"
         }
        },
        "yaxis9": {
         "anchor": "x9",
         "domain": [
          0.28125,
          0.4375
         ],
         "title": {
          "text": "Safety Index"
         }
        }
       }
      },
      "text/html": [
       "<div>                            <div id=\"3dc3491e-5ad5-4103-a721-d5cb2ebda0b4\" class=\"plotly-graph-div\" style=\"height:1500px; width:1500px;\"></div>            <script type=\"text/javascript\">                require([\"plotly\"], function(Plotly) {                    window.PLOTLYENV=window.PLOTLYENV || {};                                    if (document.getElementById(\"3dc3491e-5ad5-4103-a721-d5cb2ebda0b4\")) {                    Plotly.newPlot(                        \"3dc3491e-5ad5-4103-a721-d5cb2ebda0b4\",                        [{\"mode\":\"lines+markers\",\"name\":\"Price to Income Ratio\",\"x\":[\"2011\",\"2012\",\"2013\",\"2014\",\"2014-mid\",\"2015\",\"2015-mid\",\"2016\",\"2016-mid\",\"2017\",\"2017-mid\",\"2018\",\"2018-mid\",\"2019\",\"2019-mid\",\"2020\",\"2020-mid\",\"2021\",\"2021-mid\",\"2022\",\"2022-mid\",\"2023\",\"2023-mid\",\"2024\",\"2024-mid\"],\"y\":[1.6,1.7,2.1,2.6,2.7,2.7,3.0,3.3,2.5,1.9,1.9,2.3,2.2,2.2,2.1,2.1,2.2,2.2,2.3,2.0,2.2,2.4,2.1,4.6,2.5],\"type\":\"scatter\",\"xaxis\":\"x\",\"yaxis\":\"y\"},{\"mode\":\"lines+markers\",\"name\":\"Gross Rental Yield City Centre\",\"x\":[\"2011\",\"2012\",\"2013\",\"2014\",\"2014-mid\",\"2015\",\"2015-mid\",\"2016\",\"2016-mid\",\"2017\",\"2017-mid\",\"2018\",\"2018-mid\",\"2019\",\"2019-mid\",\"2020\",\"2020-mid\",\"2021\",\"2021-mid\",\"2022\",\"2022-mid\",\"2023\",\"2023-mid\",\"2024\",\"2024-mid\"],\"y\":[14.0,14.5,15.8,13.7,13.4,13.4,9.9,12.3,13.4,16.1,15.3,14.7,14.4,14.8,13.9,13.5,13.2,11.3,10.3,9.6,10.6,11.9,11.8,7.1,12.6],\"type\":\"scatter\",\"xaxis\":\"x2\",\"yaxis\":\"y2\"},{\"mode\":\"lines+markers\",\"name\":\"Gross Rental Yield Outside Centre\",\"x\":[\"2011\",\"2012\",\"2013\",\"2014\",\"2014-mid\",\"2015\",\"2015-mid\",\"2016\",\"2016-mid\",\"2017\",\"2017-mid\",\"2018\",\"2018-mid\",\"2019\",\"2019-mid\",\"2020\",\"2020-mid\",\"2021\",\"2021-mid\",\"2022\",\"2022-mid\",\"2023\",\"2023-mid\",\"2024\",\"2024-mid\"],\"y\":[15.9,17.2,16.4,13.9,13.9,13.9,12.3,14.3,17.0,19.2,17.8,17.7,18.7,18.6,18.2,17.6,16.7,16.2,15.1,16.4,14.9,14.7,15.7,5.9,13.7],\"type\":\"scatter\",\"xaxis\":\"x3\",\"yaxis\":\"y3\"},{\"mode\":\"lines+markers\",\"name\":\"Price to Rent Ratio City Centre\",\"x\":[\"2011\",\"2012\",\"2013\",\"2014\",\"2014-mid\",\"2015\",\"2015-mid\",\"2016\",\"2016-mid\",\"2017\",\"2017-mid\",\"2018\",\"2018-mid\",\"2019\",\"2019-mid\",\"2020\",\"2020-mid\",\"2021\",\"2021-mid\",\"2022\",\"2022-mid\",\"2023\",\"2023-mid\",\"2024\",\"2024-mid\"],\"y\":[7.1,6.9,6.3,7.3,7.5,7.5,10.1,8.2,7.5,6.2,6.5,6.8,7.0,6.8,7.2,7.4,7.6,8.9,9.7,10.4,9.4,8.4,8.5,14.1,7.9],\"type\":\"scatter\",\"xaxis\":\"x4\",\"yaxis\":\"y4\"},{\"mode\":\"lines+markers\",\"name\":\"Price to Rent Ratio Outside City Centre\",\"x\":[\"2011\",\"2012\",\"2013\",\"2014\",\"2014-mid\",\"2015\",\"2015-mid\",\"2016\",\"2016-mid\",\"2017\",\"2017-mid\",\"2018\",\"2018-mid\",\"2019\",\"2019-mid\",\"2020\",\"2020-mid\",\"2021\",\"2021-mid\",\"2022\",\"2022-mid\",\"2023\",\"2023-mid\",\"2024\",\"2024-mid\"],\"y\":[6.3,5.8,6.1,7.2,7.2,7.2,8.1,7.0,5.9,5.2,5.6,5.6,5.3,5.4,5.5,5.7,6.0,6.2,6.6,6.1,6.7,6.8,6.4,17.0,7.3],\"type\":\"scatter\",\"xaxis\":\"x5\",\"yaxis\":\"y5\"},{\"mode\":\"lines+markers\",\"name\":\"Mortgage as a Percentage of Income\",\"x\":[\"2011\",\"2012\",\"2013\",\"2014\",\"2014-mid\",\"2015\",\"2015-mid\",\"2016\",\"2016-mid\",\"2017\",\"2017-mid\",\"2018\",\"2018-mid\",\"2019\",\"2019-mid\",\"2020\",\"2020-mid\",\"2021\",\"2021-mid\",\"2022\",\"2022-mid\",\"2023\",\"2023-mid\",\"2024\",\"2024-mid\"],\"y\":[\"13.1\",\"13.4\",\"15.8\",\"19.4\",\"20.3\",\"20.0\",\"22.1\",\"23.8\",\"18.3\",\"13.8\",\"13.4\",\"16.2\",\"16.2\",\"16.2\",\"15.6\",\"15.6\",\"16.0\",\"15.7\",\"15.5\",\"13.6\",\"17.0\",\"18.6\",\"19.2\",\"42.1\",\"22.1\"],\"type\":\"scatter\",\"xaxis\":\"x6\",\"yaxis\":\"y6\"},{\"mode\":\"lines+markers\",\"name\":\"Affordability Index\",\"x\":[\"2011\",\"2012\",\"2013\",\"2014\",\"2014-mid\",\"2015\",\"2015-mid\",\"2016\",\"2016-mid\",\"2017\",\"2017-mid\",\"2018\",\"2018-mid\",\"2019\",\"2019-mid\",\"2020\",\"2020-mid\",\"2021\",\"2021-mid\",\"2022\",\"2022-mid\",\"2023\",\"2023-mid\",\"2024\",\"2024-mid\"],\"y\":[\"7.6\",\"7.4\",\"6.3\",\"5.2\",\"4.9\",\"5.0\",\"4.5\",\"4.2\",\"5.5\",\"7.3\",\"7.5\",\"6.2\",\"6.2\",\"6.2\",\"6.4\",\"6.4\",\"6.2\",\"6.4\",\"6.5\",\"7.4\",\"5.9\",\"5.4\",\"5.2\",\"2.4\",\"4.5\"],\"type\":\"scatter\",\"xaxis\":\"x7\",\"yaxis\":\"y7\"},{\"mode\":\"lines+markers\",\"name\":\"Crime Index\",\"x\":[\"2011\",\"2012\",\"2013\",\"2014\",\"2014-mid\",\"2015\",\"2015-mid\",\"2016\",\"2016-mid\",\"2017\",\"2017-mid\",\"2018\",\"2018-mid\",\"2019\",\"2019-mid\",\"2020\",\"2020-mid\",\"2021\",\"2021-mid\",\"2022\",\"2022-mid\",\"2023\",\"2023-mid\",\"2024\",\"2024-mid\"],\"y\":[null,null,null,56.8,58.0,59.2,60.2,59.3,62.6,62.7,62.6,60.9,59.1,60.9,62.2,63.3,64.1,63.9,63.9,63.8,64.3,63.8,63.8,63.3,63.6],\"type\":\"scatter\",\"xaxis\":\"x8\",\"yaxis\":\"y8\"},{\"mode\":\"lines+markers\",\"name\":\"Safety Index\",\"x\":[\"2011\",\"2012\",\"2013\",\"2014\",\"2014-mid\",\"2015\",\"2015-mid\",\"2016\",\"2016-mid\",\"2017\",\"2017-mid\",\"2018\",\"2018-mid\",\"2019\",\"2019-mid\",\"2020\",\"2020-mid\",\"2021\",\"2021-mid\",\"2022\",\"2022-mid\",\"2023\",\"2023-mid\",\"2024\",\"2024-mid\"],\"y\":[null,null,null,43.2,42.0,40.8,39.8,40.7,37.4,37.3,37.4,39.1,40.9,39.1,37.8,36.7,35.9,36.1,36.1,36.2,35.7,36.2,36.2,36.7,36.4],\"type\":\"scatter\",\"xaxis\":\"x9\",\"yaxis\":\"y9\"},{\"mode\":\"lines+markers\",\"name\":\"Cost of Living Index\",\"x\":[\"2011\",\"2012\",\"2013\",\"2014\",\"2014-mid\",\"2015\",\"2015-mid\",\"2016\",\"2016-mid\",\"2017\",\"2017-mid\",\"2018\",\"2018-mid\",\"2019\",\"2019-mid\",\"2020\",\"2020-mid\",\"2021\",\"2021-mid\",\"2022\",\"2022-mid\",\"2023\",\"2023-mid\",\"2024\",\"2024-mid\"],\"y\":[null,null,null,null,null,null,null,null,null,null,null,null,null,null,null,null,null,null,null,null,null,null,null,null,65.1],\"type\":\"scatter\",\"xaxis\":\"x10\",\"yaxis\":\"y10\"},{\"mode\":\"lines+markers\",\"name\":\"Rent Index\",\"x\":[\"2011\",\"2012\",\"2013\",\"2014\",\"2014-mid\",\"2015\",\"2015-mid\",\"2016\",\"2016-mid\",\"2017\",\"2017-mid\",\"2018\",\"2018-mid\",\"2019\",\"2019-mid\",\"2020\",\"2020-mid\",\"2021\",\"2021-mid\",\"2022\",\"2022-mid\",\"2023\",\"2023-mid\",\"2024\",\"2024-mid\"],\"y\":[null,null,null,null,null,null,null,null,null,null,null,null,null,null,null,null,null,null,null,null,null,null,null,null,39.2],\"type\":\"scatter\",\"xaxis\":\"x11\",\"yaxis\":\"y11\"},{\"mode\":\"lines+markers\",\"name\":\"Cost of Living Plus Rent Index\",\"x\":[\"2011\",\"2012\",\"2013\",\"2014\",\"2014-mid\",\"2015\",\"2015-mid\",\"2016\",\"2016-mid\",\"2017\",\"2017-mid\",\"2018\",\"2018-mid\",\"2019\",\"2019-mid\",\"2020\",\"2020-mid\",\"2021\",\"2021-mid\",\"2022\",\"2022-mid\",\"2023\",\"2023-mid\",\"2024\",\"2024-mid\"],\"y\":[null,null,null,null,null,null,null,null,null,null,null,null,null,null,null,null,null,null,null,null,null,null,null,null,52.7],\"type\":\"scatter\",\"xaxis\":\"x12\",\"yaxis\":\"y12\"},{\"mode\":\"lines+markers\",\"name\":\"Groceries Index\",\"x\":[\"2011\",\"2012\",\"2013\",\"2014\",\"2014-mid\",\"2015\",\"2015-mid\",\"2016\",\"2016-mid\",\"2017\",\"2017-mid\",\"2018\",\"2018-mid\",\"2019\",\"2019-mid\",\"2020\",\"2020-mid\",\"2021\",\"2021-mid\",\"2022\",\"2022-mid\",\"2023\",\"2023-mid\",\"2024\",\"2024-mid\"],\"y\":[null,null,null,null,null,null,null,null,null,null,null,null,null,null,null,null,null,null,null,null,null,null,null,null,66.8],\"type\":\"scatter\",\"xaxis\":\"x13\",\"yaxis\":\"y13\"},{\"mode\":\"lines+markers\",\"name\":\"Restaurant Index\",\"x\":[\"2011\",\"2012\",\"2013\",\"2014\",\"2014-mid\",\"2015\",\"2015-mid\",\"2016\",\"2016-mid\",\"2017\",\"2017-mid\",\"2018\",\"2018-mid\",\"2019\",\"2019-mid\",\"2020\",\"2020-mid\",\"2021\",\"2021-mid\",\"2022\",\"2022-mid\",\"2023\",\"2023-mid\",\"2024\",\"2024-mid\"],\"y\":[null,null,null,null,null,null,null,null,null,null,null,null,null,null,null,null,null,null,null,null,null,null,null,null,60.7],\"type\":\"scatter\",\"xaxis\":\"x14\",\"yaxis\":\"y14\"},{\"mode\":\"lines+markers\",\"name\":\"Local Purchasing Power Index\",\"x\":[\"2011\",\"2012\",\"2013\",\"2014\",\"2014-mid\",\"2015\",\"2015-mid\",\"2016\",\"2016-mid\",\"2017\",\"2017-mid\",\"2018\",\"2018-mid\",\"2019\",\"2019-mid\",\"2020\",\"2020-mid\",\"2021\",\"2021-mid\",\"2022\",\"2022-mid\",\"2023\",\"2023-mid\",\"2024\",\"2024-mid\"],\"y\":[null,null,null,null,null,null,null,null,null,null,null,null,null,null,null,null,null,null,null,null,null,null,null,null,162.9],\"type\":\"scatter\",\"xaxis\":\"x15\",\"yaxis\":\"y15\"}],                        {\"template\":{\"data\":{\"histogram2dcontour\":[{\"type\":\"histogram2dcontour\",\"colorbar\":{\"outlinewidth\":0,\"ticks\":\"\"},\"colorscale\":[[0.0,\"#0d0887\"],[0.1111111111111111,\"#46039f\"],[0.2222222222222222,\"#7201a8\"],[0.3333333333333333,\"#9c179e\"],[0.4444444444444444,\"#bd3786\"],[0.5555555555555556,\"#d8576b\"],[0.6666666666666666,\"#ed7953\"],[0.7777777777777778,\"#fb9f3a\"],[0.8888888888888888,\"#fdca26\"],[1.0,\"#f0f921\"]]}],\"choropleth\":[{\"type\":\"choropleth\",\"colorbar\":{\"outlinewidth\":0,\"ticks\":\"\"}}],\"histogram2d\":[{\"type\":\"histogram2d\",\"colorbar\":{\"outlinewidth\":0,\"ticks\":\"\"},\"colorscale\":[[0.0,\"#0d0887\"],[0.1111111111111111,\"#46039f\"],[0.2222222222222222,\"#7201a8\"],[0.3333333333333333,\"#9c179e\"],[0.4444444444444444,\"#bd3786\"],[0.5555555555555556,\"#d8576b\"],[0.6666666666666666,\"#ed7953\"],[0.7777777777777778,\"#fb9f3a\"],[0.8888888888888888,\"#fdca26\"],[1.0,\"#f0f921\"]]}],\"heatmap\":[{\"type\":\"heatmap\",\"colorbar\":{\"outlinewidth\":0,\"ticks\":\"\"},\"colorscale\":[[0.0,\"#0d0887\"],[0.1111111111111111,\"#46039f\"],[0.2222222222222222,\"#7201a8\"],[0.3333333333333333,\"#9c179e\"],[0.4444444444444444,\"#bd3786\"],[0.5555555555555556,\"#d8576b\"],[0.6666666666666666,\"#ed7953\"],[0.7777777777777778,\"#fb9f3a\"],[0.8888888888888888,\"#fdca26\"],[1.0,\"#f0f921\"]]}],\"heatmapgl\":[{\"type\":\"heatmapgl\",\"colorbar\":{\"outlinewidth\":0,\"ticks\":\"\"},\"colorscale\":[[0.0,\"#0d0887\"],[0.1111111111111111,\"#46039f\"],[0.2222222222222222,\"#7201a8\"],[0.3333333333333333,\"#9c179e\"],[0.4444444444444444,\"#bd3786\"],[0.5555555555555556,\"#d8576b\"],[0.6666666666666666,\"#ed7953\"],[0.7777777777777778,\"#fb9f3a\"],[0.8888888888888888,\"#fdca26\"],[1.0,\"#f0f921\"]]}],\"contourcarpet\":[{\"type\":\"contourcarpet\",\"colorbar\":{\"outlinewidth\":0,\"ticks\":\"\"}}],\"contour\":[{\"type\":\"contour\",\"colorbar\":{\"outlinewidth\":0,\"ticks\":\"\"},\"colorscale\":[[0.0,\"#0d0887\"],[0.1111111111111111,\"#46039f\"],[0.2222222222222222,\"#7201a8\"],[0.3333333333333333,\"#9c179e\"],[0.4444444444444444,\"#bd3786\"],[0.5555555555555556,\"#d8576b\"],[0.6666666666666666,\"#ed7953\"],[0.7777777777777778,\"#fb9f3a\"],[0.8888888888888888,\"#fdca26\"],[1.0,\"#f0f921\"]]}],\"surface\":[{\"type\":\"surface\",\"colorbar\":{\"outlinewidth\":0,\"ticks\":\"\"},\"colorscale\":[[0.0,\"#0d0887\"],[0.1111111111111111,\"#46039f\"],[0.2222222222222222,\"#7201a8\"],[0.3333333333333333,\"#9c179e\"],[0.4444444444444444,\"#bd3786\"],[0.5555555555555556,\"#d8576b\"],[0.6666666666666666,\"#ed7953\"],[0.7777777777777778,\"#fb9f3a\"],[0.8888888888888888,\"#fdca26\"],[1.0,\"#f0f921\"]]}],\"mesh3d\":[{\"type\":\"mesh3d\",\"colorbar\":{\"outlinewidth\":0,\"ticks\":\"\"}}],\"scatter\":[{\"fillpattern\":{\"fillmode\":\"overlay\",\"size\":10,\"solidity\":0.2},\"type\":\"scatter\"}],\"parcoords\":[{\"type\":\"parcoords\",\"line\":{\"colorbar\":{\"outlinewidth\":0,\"ticks\":\"\"}}}],\"scatterpolargl\":[{\"type\":\"scatterpolargl\",\"marker\":{\"colorbar\":{\"outlinewidth\":0,\"ticks\":\"\"}}}],\"bar\":[{\"error_x\":{\"color\":\"#2a3f5f\"},\"error_y\":{\"color\":\"#2a3f5f\"},\"marker\":{\"line\":{\"color\":\"#E5ECF6\",\"width\":0.5},\"pattern\":{\"fillmode\":\"overlay\",\"size\":10,\"solidity\":0.2}},\"type\":\"bar\"}],\"scattergeo\":[{\"type\":\"scattergeo\",\"marker\":{\"colorbar\":{\"outlinewidth\":0,\"ticks\":\"\"}}}],\"scatterpolar\":[{\"type\":\"scatterpolar\",\"marker\":{\"colorbar\":{\"outlinewidth\":0,\"ticks\":\"\"}}}],\"histogram\":[{\"marker\":{\"pattern\":{\"fillmode\":\"overlay\",\"size\":10,\"solidity\":0.2}},\"type\":\"histogram\"}],\"scattergl\":[{\"type\":\"scattergl\",\"marker\":{\"colorbar\":{\"outlinewidth\":0,\"ticks\":\"\"}}}],\"scatter3d\":[{\"type\":\"scatter3d\",\"line\":{\"colorbar\":{\"outlinewidth\":0,\"ticks\":\"\"}},\"marker\":{\"colorbar\":{\"outlinewidth\":0,\"ticks\":\"\"}}}],\"scattermapbox\":[{\"type\":\"scattermapbox\",\"marker\":{\"colorbar\":{\"outlinewidth\":0,\"ticks\":\"\"}}}],\"scatterternary\":[{\"type\":\"scatterternary\",\"marker\":{\"colorbar\":{\"outlinewidth\":0,\"ticks\":\"\"}}}],\"scattercarpet\":[{\"type\":\"scattercarpet\",\"marker\":{\"colorbar\":{\"outlinewidth\":0,\"ticks\":\"\"}}}],\"carpet\":[{\"aaxis\":{\"endlinecolor\":\"#2a3f5f\",\"gridcolor\":\"white\",\"linecolor\":\"white\",\"minorgridcolor\":\"white\",\"startlinecolor\":\"#2a3f5f\"},\"baxis\":{\"endlinecolor\":\"#2a3f5f\",\"gridcolor\":\"white\",\"linecolor\":\"white\",\"minorgridcolor\":\"white\",\"startlinecolor\":\"#2a3f5f\"},\"type\":\"carpet\"}],\"table\":[{\"cells\":{\"fill\":{\"color\":\"#EBF0F8\"},\"line\":{\"color\":\"white\"}},\"header\":{\"fill\":{\"color\":\"#C8D4E3\"},\"line\":{\"color\":\"white\"}},\"type\":\"table\"}],\"barpolar\":[{\"marker\":{\"line\":{\"color\":\"#E5ECF6\",\"width\":0.5},\"pattern\":{\"fillmode\":\"overlay\",\"size\":10,\"solidity\":0.2}},\"type\":\"barpolar\"}],\"pie\":[{\"automargin\":true,\"type\":\"pie\"}]},\"layout\":{\"autotypenumbers\":\"strict\",\"colorway\":[\"#636efa\",\"#EF553B\",\"#00cc96\",\"#ab63fa\",\"#FFA15A\",\"#19d3f3\",\"#FF6692\",\"#B6E880\",\"#FF97FF\",\"#FECB52\"],\"font\":{\"color\":\"#2a3f5f\"},\"hovermode\":\"closest\",\"hoverlabel\":{\"align\":\"left\"},\"paper_bgcolor\":\"white\",\"plot_bgcolor\":\"#E5ECF6\",\"polar\":{\"bgcolor\":\"#E5ECF6\",\"angularaxis\":{\"gridcolor\":\"white\",\"linecolor\":\"white\",\"ticks\":\"\"},\"radialaxis\":{\"gridcolor\":\"white\",\"linecolor\":\"white\",\"ticks\":\"\"}},\"ternary\":{\"bgcolor\":\"#E5ECF6\",\"aaxis\":{\"gridcolor\":\"white\",\"linecolor\":\"white\",\"ticks\":\"\"},\"baxis\":{\"gridcolor\":\"white\",\"linecolor\":\"white\",\"ticks\":\"\"},\"caxis\":{\"gridcolor\":\"white\",\"linecolor\":\"white\",\"ticks\":\"\"}},\"coloraxis\":{\"colorbar\":{\"outlinewidth\":0,\"ticks\":\"\"}},\"colorscale\":{\"sequential\":[[0.0,\"#0d0887\"],[0.1111111111111111,\"#46039f\"],[0.2222222222222222,\"#7201a8\"],[0.3333333333333333,\"#9c179e\"],[0.4444444444444444,\"#bd3786\"],[0.5555555555555556,\"#d8576b\"],[0.6666666666666666,\"#ed7953\"],[0.7777777777777778,\"#fb9f3a\"],[0.8888888888888888,\"#fdca26\"],[1.0,\"#f0f921\"]],\"sequentialminus\":[[0.0,\"#0d0887\"],[0.1111111111111111,\"#46039f\"],[0.2222222222222222,\"#7201a8\"],[0.3333333333333333,\"#9c179e\"],[0.4444444444444444,\"#bd3786\"],[0.5555555555555556,\"#d8576b\"],[0.6666666666666666,\"#ed7953\"],[0.7777777777777778,\"#fb9f3a\"],[0.8888888888888888,\"#fdca26\"],[1.0,\"#f0f921\"]],\"diverging\":[[0,\"#8e0152\"],[0.1,\"#c51b7d\"],[0.2,\"#de77ae\"],[0.3,\"#f1b6da\"],[0.4,\"#fde0ef\"],[0.5,\"#f7f7f7\"],[0.6,\"#e6f5d0\"],[0.7,\"#b8e186\"],[0.8,\"#7fbc41\"],[0.9,\"#4d9221\"],[1,\"#276419\"]]},\"xaxis\":{\"gridcolor\":\"white\",\"linecolor\":\"white\",\"ticks\":\"\",\"title\":{\"standoff\":15},\"zerolinecolor\":\"white\",\"automargin\":true,\"zerolinewidth\":2},\"yaxis\":{\"gridcolor\":\"white\",\"linecolor\":\"white\",\"ticks\":\"\",\"title\":{\"standoff\":15},\"zerolinecolor\":\"white\",\"automargin\":true,\"zerolinewidth\":2},\"scene\":{\"xaxis\":{\"backgroundcolor\":\"#E5ECF6\",\"gridcolor\":\"white\",\"linecolor\":\"white\",\"showbackground\":true,\"ticks\":\"\",\"zerolinecolor\":\"white\",\"gridwidth\":2},\"yaxis\":{\"backgroundcolor\":\"#E5ECF6\",\"gridcolor\":\"white\",\"linecolor\":\"white\",\"showbackground\":true,\"ticks\":\"\",\"zerolinecolor\":\"white\",\"gridwidth\":2},\"zaxis\":{\"backgroundcolor\":\"#E5ECF6\",\"gridcolor\":\"white\",\"linecolor\":\"white\",\"showbackground\":true,\"ticks\":\"\",\"zerolinecolor\":\"white\",\"gridwidth\":2}},\"shapedefaults\":{\"line\":{\"color\":\"#2a3f5f\"}},\"annotationdefaults\":{\"arrowcolor\":\"#2a3f5f\",\"arrowhead\":0,\"arrowwidth\":1},\"geo\":{\"bgcolor\":\"white\",\"landcolor\":\"#E5ECF6\",\"subunitcolor\":\"white\",\"showland\":true,\"showlakes\":true,\"lakecolor\":\"white\"},\"title\":{\"x\":0.05},\"mapbox\":{\"style\":\"light\"}}},\"xaxis\":{\"anchor\":\"y\",\"domain\":[0.0,0.2125],\"title\":{\"text\":\"Year\"}},\"yaxis\":{\"anchor\":\"x\",\"domain\":[0.84375,1.0],\"title\":{\"text\":\"Price to Income Ratio\"}},\"xaxis2\":{\"anchor\":\"y2\",\"domain\":[0.2625,0.475],\"title\":{\"text\":\"Year\"}},\"yaxis2\":{\"anchor\":\"x2\",\"domain\":[0.84375,1.0],\"title\":{\"text\":\"Gross Rental Yield City Centre\"}},\"xaxis3\":{\"anchor\":\"y3\",\"domain\":[0.525,0.7375],\"title\":{\"text\":\"Year\"}},\"yaxis3\":{\"anchor\":\"x3\",\"domain\":[0.84375,1.0],\"title\":{\"text\":\"Gross Rental Yield Outside Centre\"}},\"xaxis4\":{\"anchor\":\"y4\",\"domain\":[0.7875,1.0],\"title\":{\"text\":\"Year\"}},\"yaxis4\":{\"anchor\":\"x4\",\"domain\":[0.84375,1.0],\"title\":{\"text\":\"Price to Rent Ratio City Centre\"}},\"xaxis5\":{\"anchor\":\"y5\",\"domain\":[0.0,0.2125],\"title\":{\"text\":\"Year\"}},\"yaxis5\":{\"anchor\":\"x5\",\"domain\":[0.5625,0.71875],\"title\":{\"text\":\"Price to Rent Ratio Outside City Centre\"}},\"xaxis6\":{\"anchor\":\"y6\",\"domain\":[0.2625,0.475],\"title\":{\"text\":\"Year\"}},\"yaxis6\":{\"anchor\":\"x6\",\"domain\":[0.5625,0.71875],\"title\":{\"text\":\"Mortgage as a Percentage of Income\"}},\"xaxis7\":{\"anchor\":\"y7\",\"domain\":[0.525,0.7375],\"title\":{\"text\":\"Year\"}},\"yaxis7\":{\"anchor\":\"x7\",\"domain\":[0.5625,0.71875],\"title\":{\"text\":\"Affordability Index\"}},\"xaxis8\":{\"anchor\":\"y8\",\"domain\":[0.7875,1.0],\"title\":{\"text\":\"Year\"}},\"yaxis8\":{\"anchor\":\"x8\",\"domain\":[0.5625,0.71875],\"title\":{\"text\":\"Crime Index\"}},\"xaxis9\":{\"anchor\":\"y9\",\"domain\":[0.0,0.2125],\"title\":{\"text\":\"Year\"}},\"yaxis9\":{\"anchor\":\"x9\",\"domain\":[0.28125,0.4375],\"title\":{\"text\":\"Safety Index\"}},\"xaxis10\":{\"anchor\":\"y10\",\"domain\":[0.2625,0.475],\"title\":{\"text\":\"Year\"}},\"yaxis10\":{\"anchor\":\"x10\",\"domain\":[0.28125,0.4375],\"title\":{\"text\":\"Cost of Living Index\"}},\"xaxis11\":{\"anchor\":\"y11\",\"domain\":[0.525,0.7375],\"title\":{\"text\":\"Year\"}},\"yaxis11\":{\"anchor\":\"x11\",\"domain\":[0.28125,0.4375],\"title\":{\"text\":\"Rent Index\"}},\"xaxis12\":{\"anchor\":\"y12\",\"domain\":[0.7875,1.0],\"title\":{\"text\":\"Year\"}},\"yaxis12\":{\"anchor\":\"x12\",\"domain\":[0.28125,0.4375],\"title\":{\"text\":\"Cost of Living Plus Rent Index\"}},\"xaxis13\":{\"anchor\":\"y13\",\"domain\":[0.0,0.2125],\"title\":{\"text\":\"Year\"}},\"yaxis13\":{\"anchor\":\"x13\",\"domain\":[0.0,0.15625],\"title\":{\"text\":\"Groceries Index\"}},\"xaxis14\":{\"anchor\":\"y14\",\"domain\":[0.2625,0.475],\"title\":{\"text\":\"Year\"}},\"yaxis14\":{\"anchor\":\"x14\",\"domain\":[0.0,0.15625],\"title\":{\"text\":\"Restaurant Index\"}},\"xaxis15\":{\"anchor\":\"y15\",\"domain\":[0.525,0.7375],\"title\":{\"text\":\"Year\"}},\"yaxis15\":{\"anchor\":\"x15\",\"domain\":[0.0,0.15625],\"title\":{\"text\":\"Local Purchasing Power Index\"}},\"xaxis16\":{\"anchor\":\"y16\",\"domain\":[0.7875,1.0]},\"yaxis16\":{\"anchor\":\"x16\",\"domain\":[0.0,0.15625]},\"annotations\":[{\"font\":{\"size\":16},\"showarrow\":false,\"text\":\"Price to Income Ratio\",\"x\":0.10625,\"xanchor\":\"center\",\"xref\":\"paper\",\"y\":1.0,\"yanchor\":\"bottom\",\"yref\":\"paper\"},{\"font\":{\"size\":16},\"showarrow\":false,\"text\":\"Gross Rental Yield City Centre\",\"x\":0.36875,\"xanchor\":\"center\",\"xref\":\"paper\",\"y\":1.0,\"yanchor\":\"bottom\",\"yref\":\"paper\"},{\"font\":{\"size\":16},\"showarrow\":false,\"text\":\"Gross Rental Yield Outside Centre\",\"x\":0.6312500000000001,\"xanchor\":\"center\",\"xref\":\"paper\",\"y\":1.0,\"yanchor\":\"bottom\",\"yref\":\"paper\"},{\"font\":{\"size\":16},\"showarrow\":false,\"text\":\"Price to Rent Ratio City Centre\",\"x\":0.89375,\"xanchor\":\"center\",\"xref\":\"paper\",\"y\":1.0,\"yanchor\":\"bottom\",\"yref\":\"paper\"},{\"font\":{\"size\":16},\"showarrow\":false,\"text\":\"Price to Rent Ratio Outside City Centre\",\"x\":0.10625,\"xanchor\":\"center\",\"xref\":\"paper\",\"y\":0.71875,\"yanchor\":\"bottom\",\"yref\":\"paper\"},{\"font\":{\"size\":16},\"showarrow\":false,\"text\":\"Mortgage as a Percentage of Income\",\"x\":0.36875,\"xanchor\":\"center\",\"xref\":\"paper\",\"y\":0.71875,\"yanchor\":\"bottom\",\"yref\":\"paper\"},{\"font\":{\"size\":16},\"showarrow\":false,\"text\":\"Affordability Index\",\"x\":0.6312500000000001,\"xanchor\":\"center\",\"xref\":\"paper\",\"y\":0.71875,\"yanchor\":\"bottom\",\"yref\":\"paper\"},{\"font\":{\"size\":16},\"showarrow\":false,\"text\":\"Crime Index\",\"x\":0.89375,\"xanchor\":\"center\",\"xref\":\"paper\",\"y\":0.71875,\"yanchor\":\"bottom\",\"yref\":\"paper\"},{\"font\":{\"size\":16},\"showarrow\":false,\"text\":\"Safety Index\",\"x\":0.10625,\"xanchor\":\"center\",\"xref\":\"paper\",\"y\":0.4375,\"yanchor\":\"bottom\",\"yref\":\"paper\"},{\"font\":{\"size\":16},\"showarrow\":false,\"text\":\"Cost of Living Index\",\"x\":0.36875,\"xanchor\":\"center\",\"xref\":\"paper\",\"y\":0.4375,\"yanchor\":\"bottom\",\"yref\":\"paper\"},{\"font\":{\"size\":16},\"showarrow\":false,\"text\":\"Rent Index\",\"x\":0.6312500000000001,\"xanchor\":\"center\",\"xref\":\"paper\",\"y\":0.4375,\"yanchor\":\"bottom\",\"yref\":\"paper\"},{\"font\":{\"size\":16},\"showarrow\":false,\"text\":\"Cost of Living Plus Rent Index\",\"x\":0.89375,\"xanchor\":\"center\",\"xref\":\"paper\",\"y\":0.4375,\"yanchor\":\"bottom\",\"yref\":\"paper\"},{\"font\":{\"size\":16},\"showarrow\":false,\"text\":\"Groceries Index\",\"x\":0.10625,\"xanchor\":\"center\",\"xref\":\"paper\",\"y\":0.15625,\"yanchor\":\"bottom\",\"yref\":\"paper\"},{\"font\":{\"size\":16},\"showarrow\":false,\"text\":\"Restaurant Index\",\"x\":0.36875,\"xanchor\":\"center\",\"xref\":\"paper\",\"y\":0.15625,\"yanchor\":\"bottom\",\"yref\":\"paper\"},{\"font\":{\"size\":16},\"showarrow\":false,\"text\":\"Local Purchasing Power Index\",\"x\":0.6312500000000001,\"xanchor\":\"center\",\"xref\":\"paper\",\"y\":0.15625,\"yanchor\":\"bottom\",\"yref\":\"paper\"}],\"title\":{\"text\":\"Houston, TX, United States\"},\"height\":1500,\"width\":1500},                        {\"responsive\": true}                    ).then(function(){\n",
       "                            \n",
       "var gd = document.getElementById('3dc3491e-5ad5-4103-a721-d5cb2ebda0b4');\n",
       "var x = new MutationObserver(function (mutations, observer) {{\n",
       "        var display = window.getComputedStyle(gd).display;\n",
       "        if (!display || display === 'none') {{\n",
       "            console.log([gd, 'removed!']);\n",
       "            Plotly.purge(gd);\n",
       "            observer.disconnect();\n",
       "        }}\n",
       "}});\n",
       "\n",
       "// Listen for the removal of the full notebook cells\n",
       "var notebookContainer = gd.closest('#notebook-container');\n",
       "if (notebookContainer) {{\n",
       "    x.observe(notebookContainer, {childList: true});\n",
       "}}\n",
       "\n",
       "// Listen for the clearing of the current output cell\n",
       "var outputEl = gd.closest('.output');\n",
       "if (outputEl) {{\n",
       "    x.observe(outputEl, {childList: true});\n",
       "}}\n",
       "\n",
       "                        })                };                });            </script>        </div>"
      ]
     },
     "metadata": {},
     "output_type": "display_data"
    },
    {
     "data": {
      "application/vnd.plotly.v1+json": {
       "config": {
        "plotlyServerURL": "https://plot.ly"
       },
       "data": [
        {
         "mode": "lines+markers",
         "name": "Price to Income Ratio",
         "type": "scatter",
         "x": [
          "2009",
          "2010",
          "2011",
          "2012",
          "2013",
          "2014",
          "2014-mid",
          "2015",
          "2015-mid",
          "2016",
          "2016-mid",
          "2017",
          "2017-mid",
          "2018",
          "2018-mid",
          "2019",
          "2019-mid",
          "2020",
          "2020-mid",
          "2021",
          "2021-mid",
          "2022",
          "2022-mid",
          "2023",
          "2023-mid",
          "2024",
          "2024-mid"
         ],
         "xaxis": "x",
         "y": [
          8,
          6,
          5.6,
          8.2,
          6.7,
          8,
          8.2,
          9,
          11.2,
          9.8,
          8.6,
          8.5,
          9.1,
          10.7,
          12.1,
          13.1,
          13.8,
          13.9,
          12.8,
          12.4,
          11,
          10.6,
          11.4,
          12.9,
          13.3,
          13.9,
          13.2
         ],
         "yaxis": "y"
        },
        {
         "mode": "lines+markers",
         "name": "Gross Rental Yield City Centre",
         "type": "scatter",
         "x": [
          "2009",
          "2010",
          "2011",
          "2012",
          "2013",
          "2014",
          "2014-mid",
          "2015",
          "2015-mid",
          "2016",
          "2016-mid",
          "2017",
          "2017-mid",
          "2018",
          "2018-mid",
          "2019",
          "2019-mid",
          "2020",
          "2020-mid",
          "2021",
          "2021-mid",
          "2022",
          "2022-mid",
          "2023",
          "2023-mid",
          "2024",
          "2024-mid"
         ],
         "xaxis": "x2",
         "y": [
          4.1,
          4.4,
          6,
          4.2,
          4.9,
          5.2,
          5,
          5.1,
          4.2,
          4.5,
          5,
          5.1,
          4.8,
          4.6,
          4.3,
          4.3,
          4.1,
          4.2,
          4.2,
          3.9,
          3.7,
          3.9,
          3.5,
          3.7,
          4,
          3.9,
          3.9
         ],
         "yaxis": "y2"
        },
        {
         "mode": "lines+markers",
         "name": "Gross Rental Yield Outside Centre",
         "type": "scatter",
         "x": [
          "2009",
          "2010",
          "2011",
          "2012",
          "2013",
          "2014",
          "2014-mid",
          "2015",
          "2015-mid",
          "2016",
          "2016-mid",
          "2017",
          "2017-mid",
          "2018",
          "2018-mid",
          "2019",
          "2019-mid",
          "2020",
          "2020-mid",
          "2021",
          "2021-mid",
          "2022",
          "2022-mid",
          "2023",
          "2023-mid",
          "2024",
          "2024-mid"
         ],
         "xaxis": "x3",
         "y": [
          4.7,
          5.2,
          5.7,
          5.2,
          6.1,
          5.1,
          4.7,
          4.1,
          3.4,
          3.8,
          4.5,
          4.8,
          4.7,
          4.7,
          4.5,
          4.2,
          4,
          4.2,
          4.3,
          3.9,
          3.7,
          3.9,
          3.8,
          4.1,
          4.2,
          4.1,
          4.2
         ],
         "yaxis": "y3"
        },
        {
         "mode": "lines+markers",
         "name": "Price to Rent Ratio City Centre",
         "type": "scatter",
         "x": [
          "2009",
          "2010",
          "2011",
          "2012",
          "2013",
          "2014",
          "2014-mid",
          "2015",
          "2015-mid",
          "2016",
          "2016-mid",
          "2017",
          "2017-mid",
          "2018",
          "2018-mid",
          "2019",
          "2019-mid",
          "2020",
          "2020-mid",
          "2021",
          "2021-mid",
          "2022",
          "2022-mid",
          "2023",
          "2023-mid",
          "2024",
          "2024-mid"
         ],
         "xaxis": "x4",
         "y": [
          24.2,
          22.5,
          16.6,
          23.7,
          20.2,
          19.2,
          19.9,
          19.7,
          23.6,
          22.5,
          20.1,
          19.7,
          20.9,
          21.9,
          23.2,
          23.1,
          24.1,
          24.1,
          24,
          25.8,
          27.1,
          25.7,
          28.9,
          26.8,
          25.1,
          25.6,
          25.8
         ],
         "yaxis": "y4"
        },
        {
         "mode": "lines+markers",
         "name": "Price to Rent Ratio Outside City Centre",
         "type": "scatter",
         "x": [
          "2009",
          "2010",
          "2011",
          "2012",
          "2013",
          "2014",
          "2014-mid",
          "2015",
          "2015-mid",
          "2016",
          "2016-mid",
          "2017",
          "2017-mid",
          "2018",
          "2018-mid",
          "2019",
          "2019-mid",
          "2020",
          "2020-mid",
          "2021",
          "2021-mid",
          "2022",
          "2022-mid",
          "2023",
          "2023-mid",
          "2024",
          "2024-mid"
         ],
         "xaxis": "x5",
         "y": [
          21.3,
          19.1,
          17.6,
          19.3,
          16.3,
          19.6,
          21.2,
          24.1,
          29.8,
          26.6,
          22.3,
          20.7,
          21.2,
          21.3,
          22.3,
          24,
          25.2,
          23.9,
          23.3,
          25.8,
          26.9,
          25.6,
          26.4,
          24.7,
          23.9,
          24.3,
          23.6
         ],
         "yaxis": "y5"
        },
        {
         "mode": "lines+markers",
         "name": "Mortgage as a Percentage of Income",
         "type": "scatter",
         "x": [
          "2009",
          "2010",
          "2011",
          "2012",
          "2013",
          "2014",
          "2014-mid",
          "2015",
          "2015-mid",
          "2016",
          "2016-mid",
          "2017",
          "2017-mid",
          "2018",
          "2018-mid",
          "2019",
          "2019-mid",
          "2020",
          "2020-mid",
          "2021",
          "2021-mid",
          "2022",
          "2022-mid",
          "2023",
          "2023-mid",
          "2024",
          "2024-mid"
         ],
         "xaxis": "x6",
         "y": [
          "66.3",
          "47.7",
          "40.7",
          "59.3",
          "46.8",
          "55.1",
          "56.7",
          "61.9",
          "75.6",
          "63.7",
          "56.2",
          "55.5",
          "59.2",
          "70.2",
          "82.3",
          "92.6",
          "98.7",
          "95.3",
          "88.7",
          "82.3",
          "69.5",
          "67.3",
          "92.3",
          "108.2",
          "113.8",
          "125.0",
          "117.9"
         ],
         "yaxis": "y6"
        },
        {
         "mode": "lines+markers",
         "name": "Affordability Index",
         "type": "scatter",
         "x": [
          "2009",
          "2010",
          "2011",
          "2012",
          "2013",
          "2014",
          "2014-mid",
          "2015",
          "2015-mid",
          "2016",
          "2016-mid",
          "2017",
          "2017-mid",
          "2018",
          "2018-mid",
          "2019",
          "2019-mid",
          "2020",
          "2020-mid",
          "2021",
          "2021-mid",
          "2022",
          "2022-mid",
          "2023",
          "2023-mid",
          "2024",
          "2024-mid"
         ],
         "xaxis": "x7",
         "y": [
          "1.5",
          "2.1",
          "2.5",
          "1.7",
          "2.1",
          "1.8",
          "1.8",
          "1.6",
          "1.3",
          "1.6",
          "1.8",
          "1.8",
          "1.7",
          "1.4",
          "1.2",
          "1.1",
          "1.0",
          "1.0",
          "1.1",
          "1.2",
          "1.4",
          "1.5",
          "1.1",
          "0.9",
          "0.9",
          "0.8",
          "0.8"
         ],
         "yaxis": "y7"
        },
        {
         "mode": "lines+markers",
         "name": "Crime Index",
         "type": "scatter",
         "x": [
          "2009",
          "2010",
          "2011",
          "2012",
          "2013",
          "2014",
          "2014-mid",
          "2015",
          "2015-mid",
          "2016",
          "2016-mid",
          "2017",
          "2017-mid",
          "2018",
          "2018-mid",
          "2019",
          "2019-mid",
          "2020",
          "2020-mid",
          "2021",
          "2021-mid",
          "2022",
          "2022-mid",
          "2023",
          "2023-mid",
          "2024",
          "2024-mid"
         ],
         "xaxis": "x8",
         "y": [
          null,
          null,
          null,
          null,
          null,
          28.7,
          31.3,
          31.7,
          32.4,
          33.6,
          35.8,
          34.9,
          34.9,
          35.4,
          34.9,
          35.6,
          36.7,
          38.4,
          39.2,
          39.8,
          40.5,
          41.1,
          41.5,
          42.2,
          42.7,
          43.1,
          43.3
         ],
         "yaxis": "y8"
        },
        {
         "mode": "lines+markers",
         "name": "Safety Index",
         "type": "scatter",
         "x": [
          "2009",
          "2010",
          "2011",
          "2012",
          "2013",
          "2014",
          "2014-mid",
          "2015",
          "2015-mid",
          "2016",
          "2016-mid",
          "2017",
          "2017-mid",
          "2018",
          "2018-mid",
          "2019",
          "2019-mid",
          "2020",
          "2020-mid",
          "2021",
          "2021-mid",
          "2022",
          "2022-mid",
          "2023",
          "2023-mid",
          "2024",
          "2024-mid"
         ],
         "xaxis": "x9",
         "y": [
          null,
          null,
          null,
          null,
          null,
          71.3,
          68.7,
          68.3,
          67.6,
          66.4,
          64.2,
          65.1,
          65.1,
          64.6,
          65.1,
          64.4,
          63.3,
          61.6,
          60.8,
          60.2,
          59.5,
          58.9,
          58.5,
          57.8,
          57.3,
          56.9,
          56.7
         ],
         "yaxis": "y9"
        },
        {
         "mode": "lines+markers",
         "name": "Cost of Living Index",
         "type": "scatter",
         "x": [
          "2009",
          "2010",
          "2011",
          "2012",
          "2013",
          "2014",
          "2014-mid",
          "2015",
          "2015-mid",
          "2016",
          "2016-mid",
          "2017",
          "2017-mid",
          "2018",
          "2018-mid",
          "2019",
          "2019-mid",
          "2020",
          "2020-mid",
          "2021",
          "2021-mid",
          "2022",
          "2022-mid",
          "2023",
          "2023-mid",
          "2024",
          "2024-mid"
         ],
         "xaxis": "x10",
         "y": [
          null,
          null,
          null,
          null,
          null,
          null,
          null,
          null,
          null,
          null,
          null,
          null,
          null,
          null,
          null,
          null,
          85.2,
          null,
          null,
          null,
          null,
          null,
          null,
          null,
          null,
          null,
          null
         ],
         "yaxis": "y10"
        },
        {
         "mode": "lines+markers",
         "name": "Rent Index",
         "type": "scatter",
         "x": [
          "2009",
          "2010",
          "2011",
          "2012",
          "2013",
          "2014",
          "2014-mid",
          "2015",
          "2015-mid",
          "2016",
          "2016-mid",
          "2017",
          "2017-mid",
          "2018",
          "2018-mid",
          "2019",
          "2019-mid",
          "2020",
          "2020-mid",
          "2021",
          "2021-mid",
          "2022",
          "2022-mid",
          "2023",
          "2023-mid",
          "2024",
          "2024-mid"
         ],
         "xaxis": "x11",
         "y": [
          null,
          null,
          null,
          null,
          null,
          null,
          null,
          null,
          null,
          null,
          null,
          null,
          null,
          null,
          null,
          null,
          50.3,
          null,
          null,
          null,
          null,
          null,
          null,
          null,
          null,
          null,
          null
         ],
         "yaxis": "y11"
        },
        {
         "mode": "lines+markers",
         "name": "Cost of Living Plus Rent Index",
         "type": "scatter",
         "x": [
          "2009",
          "2010",
          "2011",
          "2012",
          "2013",
          "2014",
          "2014-mid",
          "2015",
          "2015-mid",
          "2016",
          "2016-mid",
          "2017",
          "2017-mid",
          "2018",
          "2018-mid",
          "2019",
          "2019-mid",
          "2020",
          "2020-mid",
          "2021",
          "2021-mid",
          "2022",
          "2022-mid",
          "2023",
          "2023-mid",
          "2024",
          "2024-mid"
         ],
         "xaxis": "x12",
         "y": [
          null,
          null,
          null,
          null,
          null,
          null,
          null,
          null,
          null,
          null,
          null,
          null,
          null,
          null,
          null,
          null,
          68.5,
          null,
          null,
          null,
          null,
          null,
          null,
          null,
          null,
          null,
          null
         ],
         "yaxis": "y12"
        },
        {
         "mode": "lines+markers",
         "name": "Groceries Index",
         "type": "scatter",
         "x": [
          "2009",
          "2010",
          "2011",
          "2012",
          "2013",
          "2014",
          "2014-mid",
          "2015",
          "2015-mid",
          "2016",
          "2016-mid",
          "2017",
          "2017-mid",
          "2018",
          "2018-mid",
          "2019",
          "2019-mid",
          "2020",
          "2020-mid",
          "2021",
          "2021-mid",
          "2022",
          "2022-mid",
          "2023",
          "2023-mid",
          "2024",
          "2024-mid"
         ],
         "xaxis": "x13",
         "y": [
          null,
          null,
          null,
          null,
          null,
          null,
          null,
          null,
          null,
          null,
          null,
          null,
          null,
          null,
          null,
          null,
          85.6,
          null,
          null,
          null,
          null,
          null,
          null,
          null,
          null,
          null,
          null
         ],
         "yaxis": "y13"
        },
        {
         "mode": "lines+markers",
         "name": "Restaurant Index",
         "type": "scatter",
         "x": [
          "2009",
          "2010",
          "2011",
          "2012",
          "2013",
          "2014",
          "2014-mid",
          "2015",
          "2015-mid",
          "2016",
          "2016-mid",
          "2017",
          "2017-mid",
          "2018",
          "2018-mid",
          "2019",
          "2019-mid",
          "2020",
          "2020-mid",
          "2021",
          "2021-mid",
          "2022",
          "2022-mid",
          "2023",
          "2023-mid",
          "2024",
          "2024-mid"
         ],
         "xaxis": "x14",
         "y": [
          null,
          null,
          null,
          null,
          null,
          null,
          null,
          null,
          null,
          null,
          null,
          null,
          null,
          null,
          null,
          null,
          78.1,
          null,
          null,
          null,
          null,
          null,
          null,
          null,
          null,
          null,
          null
         ],
         "yaxis": "y14"
        },
        {
         "mode": "lines+markers",
         "name": "Local Purchasing Power Index",
         "type": "scatter",
         "x": [
          "2009",
          "2010",
          "2011",
          "2012",
          "2013",
          "2014",
          "2014-mid",
          "2015",
          "2015-mid",
          "2016",
          "2016-mid",
          "2017",
          "2017-mid",
          "2018",
          "2018-mid",
          "2019",
          "2019-mid",
          "2020",
          "2020-mid",
          "2021",
          "2021-mid",
          "2022",
          "2022-mid",
          "2023",
          "2023-mid",
          "2024",
          "2024-mid"
         ],
         "xaxis": "x15",
         "y": [
          null,
          null,
          null,
          null,
          null,
          null,
          null,
          null,
          null,
          null,
          null,
          null,
          null,
          null,
          null,
          null,
          82.9,
          null,
          null,
          null,
          null,
          null,
          null,
          null,
          null,
          null,
          null
         ],
         "yaxis": "y15"
        }
       ],
       "layout": {
        "annotations": [
         {
          "font": {
           "size": 16
          },
          "showarrow": false,
          "text": "Price to Income Ratio",
          "x": 0.10625,
          "xanchor": "center",
          "xref": "paper",
          "y": 1,
          "yanchor": "bottom",
          "yref": "paper"
         },
         {
          "font": {
           "size": 16
          },
          "showarrow": false,
          "text": "Gross Rental Yield City Centre",
          "x": 0.36875,
          "xanchor": "center",
          "xref": "paper",
          "y": 1,
          "yanchor": "bottom",
          "yref": "paper"
         },
         {
          "font": {
           "size": 16
          },
          "showarrow": false,
          "text": "Gross Rental Yield Outside Centre",
          "x": 0.6312500000000001,
          "xanchor": "center",
          "xref": "paper",
          "y": 1,
          "yanchor": "bottom",
          "yref": "paper"
         },
         {
          "font": {
           "size": 16
          },
          "showarrow": false,
          "text": "Price to Rent Ratio City Centre",
          "x": 0.89375,
          "xanchor": "center",
          "xref": "paper",
          "y": 1,
          "yanchor": "bottom",
          "yref": "paper"
         },
         {
          "font": {
           "size": 16
          },
          "showarrow": false,
          "text": "Price to Rent Ratio Outside City Centre",
          "x": 0.10625,
          "xanchor": "center",
          "xref": "paper",
          "y": 0.71875,
          "yanchor": "bottom",
          "yref": "paper"
         },
         {
          "font": {
           "size": 16
          },
          "showarrow": false,
          "text": "Mortgage as a Percentage of Income",
          "x": 0.36875,
          "xanchor": "center",
          "xref": "paper",
          "y": 0.71875,
          "yanchor": "bottom",
          "yref": "paper"
         },
         {
          "font": {
           "size": 16
          },
          "showarrow": false,
          "text": "Affordability Index",
          "x": 0.6312500000000001,
          "xanchor": "center",
          "xref": "paper",
          "y": 0.71875,
          "yanchor": "bottom",
          "yref": "paper"
         },
         {
          "font": {
           "size": 16
          },
          "showarrow": false,
          "text": "Crime Index",
          "x": 0.89375,
          "xanchor": "center",
          "xref": "paper",
          "y": 0.71875,
          "yanchor": "bottom",
          "yref": "paper"
         },
         {
          "font": {
           "size": 16
          },
          "showarrow": false,
          "text": "Safety Index",
          "x": 0.10625,
          "xanchor": "center",
          "xref": "paper",
          "y": 0.4375,
          "yanchor": "bottom",
          "yref": "paper"
         },
         {
          "font": {
           "size": 16
          },
          "showarrow": false,
          "text": "Cost of Living Index",
          "x": 0.36875,
          "xanchor": "center",
          "xref": "paper",
          "y": 0.4375,
          "yanchor": "bottom",
          "yref": "paper"
         },
         {
          "font": {
           "size": 16
          },
          "showarrow": false,
          "text": "Rent Index",
          "x": 0.6312500000000001,
          "xanchor": "center",
          "xref": "paper",
          "y": 0.4375,
          "yanchor": "bottom",
          "yref": "paper"
         },
         {
          "font": {
           "size": 16
          },
          "showarrow": false,
          "text": "Cost of Living Plus Rent Index",
          "x": 0.89375,
          "xanchor": "center",
          "xref": "paper",
          "y": 0.4375,
          "yanchor": "bottom",
          "yref": "paper"
         },
         {
          "font": {
           "size": 16
          },
          "showarrow": false,
          "text": "Groceries Index",
          "x": 0.10625,
          "xanchor": "center",
          "xref": "paper",
          "y": 0.15625,
          "yanchor": "bottom",
          "yref": "paper"
         },
         {
          "font": {
           "size": 16
          },
          "showarrow": false,
          "text": "Restaurant Index",
          "x": 0.36875,
          "xanchor": "center",
          "xref": "paper",
          "y": 0.15625,
          "yanchor": "bottom",
          "yref": "paper"
         },
         {
          "font": {
           "size": 16
          },
          "showarrow": false,
          "text": "Local Purchasing Power Index",
          "x": 0.6312500000000001,
          "xanchor": "center",
          "xref": "paper",
          "y": 0.15625,
          "yanchor": "bottom",
          "yref": "paper"
         }
        ],
        "height": 1500,
        "template": {
         "data": {
          "bar": [
           {
            "error_x": {
             "color": "#2a3f5f"
            },
            "error_y": {
             "color": "#2a3f5f"
            },
            "marker": {
             "line": {
              "color": "#E5ECF6",
              "width": 0.5
             },
             "pattern": {
              "fillmode": "overlay",
              "size": 10,
              "solidity": 0.2
             }
            },
            "type": "bar"
           }
          ],
          "barpolar": [
           {
            "marker": {
             "line": {
              "color": "#E5ECF6",
              "width": 0.5
             },
             "pattern": {
              "fillmode": "overlay",
              "size": 10,
              "solidity": 0.2
             }
            },
            "type": "barpolar"
           }
          ],
          "carpet": [
           {
            "aaxis": {
             "endlinecolor": "#2a3f5f",
             "gridcolor": "white",
             "linecolor": "white",
             "minorgridcolor": "white",
             "startlinecolor": "#2a3f5f"
            },
            "baxis": {
             "endlinecolor": "#2a3f5f",
             "gridcolor": "white",
             "linecolor": "white",
             "minorgridcolor": "white",
             "startlinecolor": "#2a3f5f"
            },
            "type": "carpet"
           }
          ],
          "choropleth": [
           {
            "colorbar": {
             "outlinewidth": 0,
             "ticks": ""
            },
            "type": "choropleth"
           }
          ],
          "contour": [
           {
            "colorbar": {
             "outlinewidth": 0,
             "ticks": ""
            },
            "colorscale": [
             [
              0,
              "#0d0887"
             ],
             [
              0.1111111111111111,
              "#46039f"
             ],
             [
              0.2222222222222222,
              "#7201a8"
             ],
             [
              0.3333333333333333,
              "#9c179e"
             ],
             [
              0.4444444444444444,
              "#bd3786"
             ],
             [
              0.5555555555555556,
              "#d8576b"
             ],
             [
              0.6666666666666666,
              "#ed7953"
             ],
             [
              0.7777777777777778,
              "#fb9f3a"
             ],
             [
              0.8888888888888888,
              "#fdca26"
             ],
             [
              1,
              "#f0f921"
             ]
            ],
            "type": "contour"
           }
          ],
          "contourcarpet": [
           {
            "colorbar": {
             "outlinewidth": 0,
             "ticks": ""
            },
            "type": "contourcarpet"
           }
          ],
          "heatmap": [
           {
            "colorbar": {
             "outlinewidth": 0,
             "ticks": ""
            },
            "colorscale": [
             [
              0,
              "#0d0887"
             ],
             [
              0.1111111111111111,
              "#46039f"
             ],
             [
              0.2222222222222222,
              "#7201a8"
             ],
             [
              0.3333333333333333,
              "#9c179e"
             ],
             [
              0.4444444444444444,
              "#bd3786"
             ],
             [
              0.5555555555555556,
              "#d8576b"
             ],
             [
              0.6666666666666666,
              "#ed7953"
             ],
             [
              0.7777777777777778,
              "#fb9f3a"
             ],
             [
              0.8888888888888888,
              "#fdca26"
             ],
             [
              1,
              "#f0f921"
             ]
            ],
            "type": "heatmap"
           }
          ],
          "heatmapgl": [
           {
            "colorbar": {
             "outlinewidth": 0,
             "ticks": ""
            },
            "colorscale": [
             [
              0,
              "#0d0887"
             ],
             [
              0.1111111111111111,
              "#46039f"
             ],
             [
              0.2222222222222222,
              "#7201a8"
             ],
             [
              0.3333333333333333,
              "#9c179e"
             ],
             [
              0.4444444444444444,
              "#bd3786"
             ],
             [
              0.5555555555555556,
              "#d8576b"
             ],
             [
              0.6666666666666666,
              "#ed7953"
             ],
             [
              0.7777777777777778,
              "#fb9f3a"
             ],
             [
              0.8888888888888888,
              "#fdca26"
             ],
             [
              1,
              "#f0f921"
             ]
            ],
            "type": "heatmapgl"
           }
          ],
          "histogram": [
           {
            "marker": {
             "pattern": {
              "fillmode": "overlay",
              "size": 10,
              "solidity": 0.2
             }
            },
            "type": "histogram"
           }
          ],
          "histogram2d": [
           {
            "colorbar": {
             "outlinewidth": 0,
             "ticks": ""
            },
            "colorscale": [
             [
              0,
              "#0d0887"
             ],
             [
              0.1111111111111111,
              "#46039f"
             ],
             [
              0.2222222222222222,
              "#7201a8"
             ],
             [
              0.3333333333333333,
              "#9c179e"
             ],
             [
              0.4444444444444444,
              "#bd3786"
             ],
             [
              0.5555555555555556,
              "#d8576b"
             ],
             [
              0.6666666666666666,
              "#ed7953"
             ],
             [
              0.7777777777777778,
              "#fb9f3a"
             ],
             [
              0.8888888888888888,
              "#fdca26"
             ],
             [
              1,
              "#f0f921"
             ]
            ],
            "type": "histogram2d"
           }
          ],
          "histogram2dcontour": [
           {
            "colorbar": {
             "outlinewidth": 0,
             "ticks": ""
            },
            "colorscale": [
             [
              0,
              "#0d0887"
             ],
             [
              0.1111111111111111,
              "#46039f"
             ],
             [
              0.2222222222222222,
              "#7201a8"
             ],
             [
              0.3333333333333333,
              "#9c179e"
             ],
             [
              0.4444444444444444,
              "#bd3786"
             ],
             [
              0.5555555555555556,
              "#d8576b"
             ],
             [
              0.6666666666666666,
              "#ed7953"
             ],
             [
              0.7777777777777778,
              "#fb9f3a"
             ],
             [
              0.8888888888888888,
              "#fdca26"
             ],
             [
              1,
              "#f0f921"
             ]
            ],
            "type": "histogram2dcontour"
           }
          ],
          "mesh3d": [
           {
            "colorbar": {
             "outlinewidth": 0,
             "ticks": ""
            },
            "type": "mesh3d"
           }
          ],
          "parcoords": [
           {
            "line": {
             "colorbar": {
              "outlinewidth": 0,
              "ticks": ""
             }
            },
            "type": "parcoords"
           }
          ],
          "pie": [
           {
            "automargin": true,
            "type": "pie"
           }
          ],
          "scatter": [
           {
            "fillpattern": {
             "fillmode": "overlay",
             "size": 10,
             "solidity": 0.2
            },
            "type": "scatter"
           }
          ],
          "scatter3d": [
           {
            "line": {
             "colorbar": {
              "outlinewidth": 0,
              "ticks": ""
             }
            },
            "marker": {
             "colorbar": {
              "outlinewidth": 0,
              "ticks": ""
             }
            },
            "type": "scatter3d"
           }
          ],
          "scattercarpet": [
           {
            "marker": {
             "colorbar": {
              "outlinewidth": 0,
              "ticks": ""
             }
            },
            "type": "scattercarpet"
           }
          ],
          "scattergeo": [
           {
            "marker": {
             "colorbar": {
              "outlinewidth": 0,
              "ticks": ""
             }
            },
            "type": "scattergeo"
           }
          ],
          "scattergl": [
           {
            "marker": {
             "colorbar": {
              "outlinewidth": 0,
              "ticks": ""
             }
            },
            "type": "scattergl"
           }
          ],
          "scattermapbox": [
           {
            "marker": {
             "colorbar": {
              "outlinewidth": 0,
              "ticks": ""
             }
            },
            "type": "scattermapbox"
           }
          ],
          "scatterpolar": [
           {
            "marker": {
             "colorbar": {
              "outlinewidth": 0,
              "ticks": ""
             }
            },
            "type": "scatterpolar"
           }
          ],
          "scatterpolargl": [
           {
            "marker": {
             "colorbar": {
              "outlinewidth": 0,
              "ticks": ""
             }
            },
            "type": "scatterpolargl"
           }
          ],
          "scatterternary": [
           {
            "marker": {
             "colorbar": {
              "outlinewidth": 0,
              "ticks": ""
             }
            },
            "type": "scatterternary"
           }
          ],
          "surface": [
           {
            "colorbar": {
             "outlinewidth": 0,
             "ticks": ""
            },
            "colorscale": [
             [
              0,
              "#0d0887"
             ],
             [
              0.1111111111111111,
              "#46039f"
             ],
             [
              0.2222222222222222,
              "#7201a8"
             ],
             [
              0.3333333333333333,
              "#9c179e"
             ],
             [
              0.4444444444444444,
              "#bd3786"
             ],
             [
              0.5555555555555556,
              "#d8576b"
             ],
             [
              0.6666666666666666,
              "#ed7953"
             ],
             [
              0.7777777777777778,
              "#fb9f3a"
             ],
             [
              0.8888888888888888,
              "#fdca26"
             ],
             [
              1,
              "#f0f921"
             ]
            ],
            "type": "surface"
           }
          ],
          "table": [
           {
            "cells": {
             "fill": {
              "color": "#EBF0F8"
             },
             "line": {
              "color": "white"
             }
            },
            "header": {
             "fill": {
              "color": "#C8D4E3"
             },
             "line": {
              "color": "white"
             }
            },
            "type": "table"
           }
          ]
         },
         "layout": {
          "annotationdefaults": {
           "arrowcolor": "#2a3f5f",
           "arrowhead": 0,
           "arrowwidth": 1
          },
          "autotypenumbers": "strict",
          "coloraxis": {
           "colorbar": {
            "outlinewidth": 0,
            "ticks": ""
           }
          },
          "colorscale": {
           "diverging": [
            [
             0,
             "#8e0152"
            ],
            [
             0.1,
             "#c51b7d"
            ],
            [
             0.2,
             "#de77ae"
            ],
            [
             0.3,
             "#f1b6da"
            ],
            [
             0.4,
             "#fde0ef"
            ],
            [
             0.5,
             "#f7f7f7"
            ],
            [
             0.6,
             "#e6f5d0"
            ],
            [
             0.7,
             "#b8e186"
            ],
            [
             0.8,
             "#7fbc41"
            ],
            [
             0.9,
             "#4d9221"
            ],
            [
             1,
             "#276419"
            ]
           ],
           "sequential": [
            [
             0,
             "#0d0887"
            ],
            [
             0.1111111111111111,
             "#46039f"
            ],
            [
             0.2222222222222222,
             "#7201a8"
            ],
            [
             0.3333333333333333,
             "#9c179e"
            ],
            [
             0.4444444444444444,
             "#bd3786"
            ],
            [
             0.5555555555555556,
             "#d8576b"
            ],
            [
             0.6666666666666666,
             "#ed7953"
            ],
            [
             0.7777777777777778,
             "#fb9f3a"
            ],
            [
             0.8888888888888888,
             "#fdca26"
            ],
            [
             1,
             "#f0f921"
            ]
           ],
           "sequentialminus": [
            [
             0,
             "#0d0887"
            ],
            [
             0.1111111111111111,
             "#46039f"
            ],
            [
             0.2222222222222222,
             "#7201a8"
            ],
            [
             0.3333333333333333,
             "#9c179e"
            ],
            [
             0.4444444444444444,
             "#bd3786"
            ],
            [
             0.5555555555555556,
             "#d8576b"
            ],
            [
             0.6666666666666666,
             "#ed7953"
            ],
            [
             0.7777777777777778,
             "#fb9f3a"
            ],
            [
             0.8888888888888888,
             "#fdca26"
            ],
            [
             1,
             "#f0f921"
            ]
           ]
          },
          "colorway": [
           "#636efa",
           "#EF553B",
           "#00cc96",
           "#ab63fa",
           "#FFA15A",
           "#19d3f3",
           "#FF6692",
           "#B6E880",
           "#FF97FF",
           "#FECB52"
          ],
          "font": {
           "color": "#2a3f5f"
          },
          "geo": {
           "bgcolor": "white",
           "lakecolor": "white",
           "landcolor": "#E5ECF6",
           "showlakes": true,
           "showland": true,
           "subunitcolor": "white"
          },
          "hoverlabel": {
           "align": "left"
          },
          "hovermode": "closest",
          "mapbox": {
           "style": "light"
          },
          "paper_bgcolor": "white",
          "plot_bgcolor": "#E5ECF6",
          "polar": {
           "angularaxis": {
            "gridcolor": "white",
            "linecolor": "white",
            "ticks": ""
           },
           "bgcolor": "#E5ECF6",
           "radialaxis": {
            "gridcolor": "white",
            "linecolor": "white",
            "ticks": ""
           }
          },
          "scene": {
           "xaxis": {
            "backgroundcolor": "#E5ECF6",
            "gridcolor": "white",
            "gridwidth": 2,
            "linecolor": "white",
            "showbackground": true,
            "ticks": "",
            "zerolinecolor": "white"
           },
           "yaxis": {
            "backgroundcolor": "#E5ECF6",
            "gridcolor": "white",
            "gridwidth": 2,
            "linecolor": "white",
            "showbackground": true,
            "ticks": "",
            "zerolinecolor": "white"
           },
           "zaxis": {
            "backgroundcolor": "#E5ECF6",
            "gridcolor": "white",
            "gridwidth": 2,
            "linecolor": "white",
            "showbackground": true,
            "ticks": "",
            "zerolinecolor": "white"
           }
          },
          "shapedefaults": {
           "line": {
            "color": "#2a3f5f"
           }
          },
          "ternary": {
           "aaxis": {
            "gridcolor": "white",
            "linecolor": "white",
            "ticks": ""
           },
           "baxis": {
            "gridcolor": "white",
            "linecolor": "white",
            "ticks": ""
           },
           "bgcolor": "#E5ECF6",
           "caxis": {
            "gridcolor": "white",
            "linecolor": "white",
            "ticks": ""
           }
          },
          "title": {
           "x": 0.05
          },
          "xaxis": {
           "automargin": true,
           "gridcolor": "white",
           "linecolor": "white",
           "ticks": "",
           "title": {
            "standoff": 15
           },
           "zerolinecolor": "white",
           "zerolinewidth": 2
          },
          "yaxis": {
           "automargin": true,
           "gridcolor": "white",
           "linecolor": "white",
           "ticks": "",
           "title": {
            "standoff": 15
           },
           "zerolinecolor": "white",
           "zerolinewidth": 2
          }
         }
        },
        "title": {
         "text": "Toronto, Canada"
        },
        "width": 1500,
        "xaxis": {
         "anchor": "y",
         "domain": [
          0,
          0.2125
         ],
         "title": {
          "text": "Year"
         }
        },
        "xaxis10": {
         "anchor": "y10",
         "domain": [
          0.2625,
          0.475
         ],
         "title": {
          "text": "Year"
         }
        },
        "xaxis11": {
         "anchor": "y11",
         "domain": [
          0.525,
          0.7375
         ],
         "title": {
          "text": "Year"
         }
        },
        "xaxis12": {
         "anchor": "y12",
         "domain": [
          0.7875,
          1
         ],
         "title": {
          "text": "Year"
         }
        },
        "xaxis13": {
         "anchor": "y13",
         "domain": [
          0,
          0.2125
         ],
         "title": {
          "text": "Year"
         }
        },
        "xaxis14": {
         "anchor": "y14",
         "domain": [
          0.2625,
          0.475
         ],
         "title": {
          "text": "Year"
         }
        },
        "xaxis15": {
         "anchor": "y15",
         "domain": [
          0.525,
          0.7375
         ],
         "title": {
          "text": "Year"
         }
        },
        "xaxis16": {
         "anchor": "y16",
         "domain": [
          0.7875,
          1
         ]
        },
        "xaxis2": {
         "anchor": "y2",
         "domain": [
          0.2625,
          0.475
         ],
         "title": {
          "text": "Year"
         }
        },
        "xaxis3": {
         "anchor": "y3",
         "domain": [
          0.525,
          0.7375
         ],
         "title": {
          "text": "Year"
         }
        },
        "xaxis4": {
         "anchor": "y4",
         "domain": [
          0.7875,
          1
         ],
         "title": {
          "text": "Year"
         }
        },
        "xaxis5": {
         "anchor": "y5",
         "domain": [
          0,
          0.2125
         ],
         "title": {
          "text": "Year"
         }
        },
        "xaxis6": {
         "anchor": "y6",
         "domain": [
          0.2625,
          0.475
         ],
         "title": {
          "text": "Year"
         }
        },
        "xaxis7": {
         "anchor": "y7",
         "domain": [
          0.525,
          0.7375
         ],
         "title": {
          "text": "Year"
         }
        },
        "xaxis8": {
         "anchor": "y8",
         "domain": [
          0.7875,
          1
         ],
         "title": {
          "text": "Year"
         }
        },
        "xaxis9": {
         "anchor": "y9",
         "domain": [
          0,
          0.2125
         ],
         "title": {
          "text": "Year"
         }
        },
        "yaxis": {
         "anchor": "x",
         "domain": [
          0.84375,
          1
         ],
         "title": {
          "text": "Price to Income Ratio"
         }
        },
        "yaxis10": {
         "anchor": "x10",
         "domain": [
          0.28125,
          0.4375
         ],
         "title": {
          "text": "Cost of Living Index"
         }
        },
        "yaxis11": {
         "anchor": "x11",
         "domain": [
          0.28125,
          0.4375
         ],
         "title": {
          "text": "Rent Index"
         }
        },
        "yaxis12": {
         "anchor": "x12",
         "domain": [
          0.28125,
          0.4375
         ],
         "title": {
          "text": "Cost of Living Plus Rent Index"
         }
        },
        "yaxis13": {
         "anchor": "x13",
         "domain": [
          0,
          0.15625
         ],
         "title": {
          "text": "Groceries Index"
         }
        },
        "yaxis14": {
         "anchor": "x14",
         "domain": [
          0,
          0.15625
         ],
         "title": {
          "text": "Restaurant Index"
         }
        },
        "yaxis15": {
         "anchor": "x15",
         "domain": [
          0,
          0.15625
         ],
         "title": {
          "text": "Local Purchasing Power Index"
         }
        },
        "yaxis16": {
         "anchor": "x16",
         "domain": [
          0,
          0.15625
         ]
        },
        "yaxis2": {
         "anchor": "x2",
         "domain": [
          0.84375,
          1
         ],
         "title": {
          "text": "Gross Rental Yield City Centre"
         }
        },
        "yaxis3": {
         "anchor": "x3",
         "domain": [
          0.84375,
          1
         ],
         "title": {
          "text": "Gross Rental Yield Outside Centre"
         }
        },
        "yaxis4": {
         "anchor": "x4",
         "domain": [
          0.84375,
          1
         ],
         "title": {
          "text": "Price to Rent Ratio City Centre"
         }
        },
        "yaxis5": {
         "anchor": "x5",
         "domain": [
          0.5625,
          0.71875
         ],
         "title": {
          "text": "Price to Rent Ratio Outside City Centre"
         }
        },
        "yaxis6": {
         "anchor": "x6",
         "domain": [
          0.5625,
          0.71875
         ],
         "title": {
          "text": "Mortgage as a Percentage of Income"
         }
        },
        "yaxis7": {
         "anchor": "x7",
         "domain": [
          0.5625,
          0.71875
         ],
         "title": {
          "text": "Affordability Index"
         }
        },
        "yaxis8": {
         "anchor": "x8",
         "domain": [
          0.5625,
          0.71875
         ],
         "title": {
          "text": "Crime Index"
         }
        },
        "yaxis9": {
         "anchor": "x9",
         "domain": [
          0.28125,
          0.4375
         ],
         "title": {
          "text": "Safety Index"
         }
        }
       }
      },
      "text/html": [
       "<div>                            <div id=\"adb41d26-d371-4dfd-b6f4-e68b228ed4a2\" class=\"plotly-graph-div\" style=\"height:1500px; width:1500px;\"></div>            <script type=\"text/javascript\">                require([\"plotly\"], function(Plotly) {                    window.PLOTLYENV=window.PLOTLYENV || {};                                    if (document.getElementById(\"adb41d26-d371-4dfd-b6f4-e68b228ed4a2\")) {                    Plotly.newPlot(                        \"adb41d26-d371-4dfd-b6f4-e68b228ed4a2\",                        [{\"mode\":\"lines+markers\",\"name\":\"Price to Income Ratio\",\"x\":[\"2009\",\"2010\",\"2011\",\"2012\",\"2013\",\"2014\",\"2014-mid\",\"2015\",\"2015-mid\",\"2016\",\"2016-mid\",\"2017\",\"2017-mid\",\"2018\",\"2018-mid\",\"2019\",\"2019-mid\",\"2020\",\"2020-mid\",\"2021\",\"2021-mid\",\"2022\",\"2022-mid\",\"2023\",\"2023-mid\",\"2024\",\"2024-mid\"],\"y\":[8.0,6.0,5.6,8.2,6.7,8.0,8.2,9.0,11.2,9.8,8.6,8.5,9.1,10.7,12.1,13.1,13.8,13.9,12.8,12.4,11.0,10.6,11.4,12.9,13.3,13.9,13.2],\"type\":\"scatter\",\"xaxis\":\"x\",\"yaxis\":\"y\"},{\"mode\":\"lines+markers\",\"name\":\"Gross Rental Yield City Centre\",\"x\":[\"2009\",\"2010\",\"2011\",\"2012\",\"2013\",\"2014\",\"2014-mid\",\"2015\",\"2015-mid\",\"2016\",\"2016-mid\",\"2017\",\"2017-mid\",\"2018\",\"2018-mid\",\"2019\",\"2019-mid\",\"2020\",\"2020-mid\",\"2021\",\"2021-mid\",\"2022\",\"2022-mid\",\"2023\",\"2023-mid\",\"2024\",\"2024-mid\"],\"y\":[4.1,4.4,6.0,4.2,4.9,5.2,5.0,5.1,4.2,4.5,5.0,5.1,4.8,4.6,4.3,4.3,4.1,4.2,4.2,3.9,3.7,3.9,3.5,3.7,4.0,3.9,3.9],\"type\":\"scatter\",\"xaxis\":\"x2\",\"yaxis\":\"y2\"},{\"mode\":\"lines+markers\",\"name\":\"Gross Rental Yield Outside Centre\",\"x\":[\"2009\",\"2010\",\"2011\",\"2012\",\"2013\",\"2014\",\"2014-mid\",\"2015\",\"2015-mid\",\"2016\",\"2016-mid\",\"2017\",\"2017-mid\",\"2018\",\"2018-mid\",\"2019\",\"2019-mid\",\"2020\",\"2020-mid\",\"2021\",\"2021-mid\",\"2022\",\"2022-mid\",\"2023\",\"2023-mid\",\"2024\",\"2024-mid\"],\"y\":[4.7,5.2,5.7,5.2,6.1,5.1,4.7,4.1,3.4,3.8,4.5,4.8,4.7,4.7,4.5,4.2,4.0,4.2,4.3,3.9,3.7,3.9,3.8,4.1,4.2,4.1,4.2],\"type\":\"scatter\",\"xaxis\":\"x3\",\"yaxis\":\"y3\"},{\"mode\":\"lines+markers\",\"name\":\"Price to Rent Ratio City Centre\",\"x\":[\"2009\",\"2010\",\"2011\",\"2012\",\"2013\",\"2014\",\"2014-mid\",\"2015\",\"2015-mid\",\"2016\",\"2016-mid\",\"2017\",\"2017-mid\",\"2018\",\"2018-mid\",\"2019\",\"2019-mid\",\"2020\",\"2020-mid\",\"2021\",\"2021-mid\",\"2022\",\"2022-mid\",\"2023\",\"2023-mid\",\"2024\",\"2024-mid\"],\"y\":[24.2,22.5,16.6,23.7,20.2,19.2,19.9,19.7,23.6,22.5,20.1,19.7,20.9,21.9,23.2,23.1,24.1,24.1,24.0,25.8,27.1,25.7,28.9,26.8,25.1,25.6,25.8],\"type\":\"scatter\",\"xaxis\":\"x4\",\"yaxis\":\"y4\"},{\"mode\":\"lines+markers\",\"name\":\"Price to Rent Ratio Outside City Centre\",\"x\":[\"2009\",\"2010\",\"2011\",\"2012\",\"2013\",\"2014\",\"2014-mid\",\"2015\",\"2015-mid\",\"2016\",\"2016-mid\",\"2017\",\"2017-mid\",\"2018\",\"2018-mid\",\"2019\",\"2019-mid\",\"2020\",\"2020-mid\",\"2021\",\"2021-mid\",\"2022\",\"2022-mid\",\"2023\",\"2023-mid\",\"2024\",\"2024-mid\"],\"y\":[21.3,19.1,17.6,19.3,16.3,19.6,21.2,24.1,29.8,26.6,22.3,20.7,21.2,21.3,22.3,24.0,25.2,23.9,23.3,25.8,26.9,25.6,26.4,24.7,23.9,24.3,23.6],\"type\":\"scatter\",\"xaxis\":\"x5\",\"yaxis\":\"y5\"},{\"mode\":\"lines+markers\",\"name\":\"Mortgage as a Percentage of Income\",\"x\":[\"2009\",\"2010\",\"2011\",\"2012\",\"2013\",\"2014\",\"2014-mid\",\"2015\",\"2015-mid\",\"2016\",\"2016-mid\",\"2017\",\"2017-mid\",\"2018\",\"2018-mid\",\"2019\",\"2019-mid\",\"2020\",\"2020-mid\",\"2021\",\"2021-mid\",\"2022\",\"2022-mid\",\"2023\",\"2023-mid\",\"2024\",\"2024-mid\"],\"y\":[\"66.3\",\"47.7\",\"40.7\",\"59.3\",\"46.8\",\"55.1\",\"56.7\",\"61.9\",\"75.6\",\"63.7\",\"56.2\",\"55.5\",\"59.2\",\"70.2\",\"82.3\",\"92.6\",\"98.7\",\"95.3\",\"88.7\",\"82.3\",\"69.5\",\"67.3\",\"92.3\",\"108.2\",\"113.8\",\"125.0\",\"117.9\"],\"type\":\"scatter\",\"xaxis\":\"x6\",\"yaxis\":\"y6\"},{\"mode\":\"lines+markers\",\"name\":\"Affordability Index\",\"x\":[\"2009\",\"2010\",\"2011\",\"2012\",\"2013\",\"2014\",\"2014-mid\",\"2015\",\"2015-mid\",\"2016\",\"2016-mid\",\"2017\",\"2017-mid\",\"2018\",\"2018-mid\",\"2019\",\"2019-mid\",\"2020\",\"2020-mid\",\"2021\",\"2021-mid\",\"2022\",\"2022-mid\",\"2023\",\"2023-mid\",\"2024\",\"2024-mid\"],\"y\":[\"1.5\",\"2.1\",\"2.5\",\"1.7\",\"2.1\",\"1.8\",\"1.8\",\"1.6\",\"1.3\",\"1.6\",\"1.8\",\"1.8\",\"1.7\",\"1.4\",\"1.2\",\"1.1\",\"1.0\",\"1.0\",\"1.1\",\"1.2\",\"1.4\",\"1.5\",\"1.1\",\"0.9\",\"0.9\",\"0.8\",\"0.8\"],\"type\":\"scatter\",\"xaxis\":\"x7\",\"yaxis\":\"y7\"},{\"mode\":\"lines+markers\",\"name\":\"Crime Index\",\"x\":[\"2009\",\"2010\",\"2011\",\"2012\",\"2013\",\"2014\",\"2014-mid\",\"2015\",\"2015-mid\",\"2016\",\"2016-mid\",\"2017\",\"2017-mid\",\"2018\",\"2018-mid\",\"2019\",\"2019-mid\",\"2020\",\"2020-mid\",\"2021\",\"2021-mid\",\"2022\",\"2022-mid\",\"2023\",\"2023-mid\",\"2024\",\"2024-mid\"],\"y\":[null,null,null,null,null,28.7,31.3,31.7,32.4,33.6,35.8,34.9,34.9,35.4,34.9,35.6,36.7,38.4,39.2,39.8,40.5,41.1,41.5,42.2,42.7,43.1,43.3],\"type\":\"scatter\",\"xaxis\":\"x8\",\"yaxis\":\"y8\"},{\"mode\":\"lines+markers\",\"name\":\"Safety Index\",\"x\":[\"2009\",\"2010\",\"2011\",\"2012\",\"2013\",\"2014\",\"2014-mid\",\"2015\",\"2015-mid\",\"2016\",\"2016-mid\",\"2017\",\"2017-mid\",\"2018\",\"2018-mid\",\"2019\",\"2019-mid\",\"2020\",\"2020-mid\",\"2021\",\"2021-mid\",\"2022\",\"2022-mid\",\"2023\",\"2023-mid\",\"2024\",\"2024-mid\"],\"y\":[null,null,null,null,null,71.3,68.7,68.3,67.6,66.4,64.2,65.1,65.1,64.6,65.1,64.4,63.3,61.6,60.8,60.2,59.5,58.9,58.5,57.8,57.3,56.9,56.7],\"type\":\"scatter\",\"xaxis\":\"x9\",\"yaxis\":\"y9\"},{\"mode\":\"lines+markers\",\"name\":\"Cost of Living Index\",\"x\":[\"2009\",\"2010\",\"2011\",\"2012\",\"2013\",\"2014\",\"2014-mid\",\"2015\",\"2015-mid\",\"2016\",\"2016-mid\",\"2017\",\"2017-mid\",\"2018\",\"2018-mid\",\"2019\",\"2019-mid\",\"2020\",\"2020-mid\",\"2021\",\"2021-mid\",\"2022\",\"2022-mid\",\"2023\",\"2023-mid\",\"2024\",\"2024-mid\"],\"y\":[null,null,null,null,null,null,null,null,null,null,null,null,null,null,null,null,85.2,null,null,null,null,null,null,null,null,null,null],\"type\":\"scatter\",\"xaxis\":\"x10\",\"yaxis\":\"y10\"},{\"mode\":\"lines+markers\",\"name\":\"Rent Index\",\"x\":[\"2009\",\"2010\",\"2011\",\"2012\",\"2013\",\"2014\",\"2014-mid\",\"2015\",\"2015-mid\",\"2016\",\"2016-mid\",\"2017\",\"2017-mid\",\"2018\",\"2018-mid\",\"2019\",\"2019-mid\",\"2020\",\"2020-mid\",\"2021\",\"2021-mid\",\"2022\",\"2022-mid\",\"2023\",\"2023-mid\",\"2024\",\"2024-mid\"],\"y\":[null,null,null,null,null,null,null,null,null,null,null,null,null,null,null,null,50.3,null,null,null,null,null,null,null,null,null,null],\"type\":\"scatter\",\"xaxis\":\"x11\",\"yaxis\":\"y11\"},{\"mode\":\"lines+markers\",\"name\":\"Cost of Living Plus Rent Index\",\"x\":[\"2009\",\"2010\",\"2011\",\"2012\",\"2013\",\"2014\",\"2014-mid\",\"2015\",\"2015-mid\",\"2016\",\"2016-mid\",\"2017\",\"2017-mid\",\"2018\",\"2018-mid\",\"2019\",\"2019-mid\",\"2020\",\"2020-mid\",\"2021\",\"2021-mid\",\"2022\",\"2022-mid\",\"2023\",\"2023-mid\",\"2024\",\"2024-mid\"],\"y\":[null,null,null,null,null,null,null,null,null,null,null,null,null,null,null,null,68.5,null,null,null,null,null,null,null,null,null,null],\"type\":\"scatter\",\"xaxis\":\"x12\",\"yaxis\":\"y12\"},{\"mode\":\"lines+markers\",\"name\":\"Groceries Index\",\"x\":[\"2009\",\"2010\",\"2011\",\"2012\",\"2013\",\"2014\",\"2014-mid\",\"2015\",\"2015-mid\",\"2016\",\"2016-mid\",\"2017\",\"2017-mid\",\"2018\",\"2018-mid\",\"2019\",\"2019-mid\",\"2020\",\"2020-mid\",\"2021\",\"2021-mid\",\"2022\",\"2022-mid\",\"2023\",\"2023-mid\",\"2024\",\"2024-mid\"],\"y\":[null,null,null,null,null,null,null,null,null,null,null,null,null,null,null,null,85.6,null,null,null,null,null,null,null,null,null,null],\"type\":\"scatter\",\"xaxis\":\"x13\",\"yaxis\":\"y13\"},{\"mode\":\"lines+markers\",\"name\":\"Restaurant Index\",\"x\":[\"2009\",\"2010\",\"2011\",\"2012\",\"2013\",\"2014\",\"2014-mid\",\"2015\",\"2015-mid\",\"2016\",\"2016-mid\",\"2017\",\"2017-mid\",\"2018\",\"2018-mid\",\"2019\",\"2019-mid\",\"2020\",\"2020-mid\",\"2021\",\"2021-mid\",\"2022\",\"2022-mid\",\"2023\",\"2023-mid\",\"2024\",\"2024-mid\"],\"y\":[null,null,null,null,null,null,null,null,null,null,null,null,null,null,null,null,78.1,null,null,null,null,null,null,null,null,null,null],\"type\":\"scatter\",\"xaxis\":\"x14\",\"yaxis\":\"y14\"},{\"mode\":\"lines+markers\",\"name\":\"Local Purchasing Power Index\",\"x\":[\"2009\",\"2010\",\"2011\",\"2012\",\"2013\",\"2014\",\"2014-mid\",\"2015\",\"2015-mid\",\"2016\",\"2016-mid\",\"2017\",\"2017-mid\",\"2018\",\"2018-mid\",\"2019\",\"2019-mid\",\"2020\",\"2020-mid\",\"2021\",\"2021-mid\",\"2022\",\"2022-mid\",\"2023\",\"2023-mid\",\"2024\",\"2024-mid\"],\"y\":[null,null,null,null,null,null,null,null,null,null,null,null,null,null,null,null,82.9,null,null,null,null,null,null,null,null,null,null],\"type\":\"scatter\",\"xaxis\":\"x15\",\"yaxis\":\"y15\"}],                        {\"template\":{\"data\":{\"histogram2dcontour\":[{\"type\":\"histogram2dcontour\",\"colorbar\":{\"outlinewidth\":0,\"ticks\":\"\"},\"colorscale\":[[0.0,\"#0d0887\"],[0.1111111111111111,\"#46039f\"],[0.2222222222222222,\"#7201a8\"],[0.3333333333333333,\"#9c179e\"],[0.4444444444444444,\"#bd3786\"],[0.5555555555555556,\"#d8576b\"],[0.6666666666666666,\"#ed7953\"],[0.7777777777777778,\"#fb9f3a\"],[0.8888888888888888,\"#fdca26\"],[1.0,\"#f0f921\"]]}],\"choropleth\":[{\"type\":\"choropleth\",\"colorbar\":{\"outlinewidth\":0,\"ticks\":\"\"}}],\"histogram2d\":[{\"type\":\"histogram2d\",\"colorbar\":{\"outlinewidth\":0,\"ticks\":\"\"},\"colorscale\":[[0.0,\"#0d0887\"],[0.1111111111111111,\"#46039f\"],[0.2222222222222222,\"#7201a8\"],[0.3333333333333333,\"#9c179e\"],[0.4444444444444444,\"#bd3786\"],[0.5555555555555556,\"#d8576b\"],[0.6666666666666666,\"#ed7953\"],[0.7777777777777778,\"#fb9f3a\"],[0.8888888888888888,\"#fdca26\"],[1.0,\"#f0f921\"]]}],\"heatmap\":[{\"type\":\"heatmap\",\"colorbar\":{\"outlinewidth\":0,\"ticks\":\"\"},\"colorscale\":[[0.0,\"#0d0887\"],[0.1111111111111111,\"#46039f\"],[0.2222222222222222,\"#7201a8\"],[0.3333333333333333,\"#9c179e\"],[0.4444444444444444,\"#bd3786\"],[0.5555555555555556,\"#d8576b\"],[0.6666666666666666,\"#ed7953\"],[0.7777777777777778,\"#fb9f3a\"],[0.8888888888888888,\"#fdca26\"],[1.0,\"#f0f921\"]]}],\"heatmapgl\":[{\"type\":\"heatmapgl\",\"colorbar\":{\"outlinewidth\":0,\"ticks\":\"\"},\"colorscale\":[[0.0,\"#0d0887\"],[0.1111111111111111,\"#46039f\"],[0.2222222222222222,\"#7201a8\"],[0.3333333333333333,\"#9c179e\"],[0.4444444444444444,\"#bd3786\"],[0.5555555555555556,\"#d8576b\"],[0.6666666666666666,\"#ed7953\"],[0.7777777777777778,\"#fb9f3a\"],[0.8888888888888888,\"#fdca26\"],[1.0,\"#f0f921\"]]}],\"contourcarpet\":[{\"type\":\"contourcarpet\",\"colorbar\":{\"outlinewidth\":0,\"ticks\":\"\"}}],\"contour\":[{\"type\":\"contour\",\"colorbar\":{\"outlinewidth\":0,\"ticks\":\"\"},\"colorscale\":[[0.0,\"#0d0887\"],[0.1111111111111111,\"#46039f\"],[0.2222222222222222,\"#7201a8\"],[0.3333333333333333,\"#9c179e\"],[0.4444444444444444,\"#bd3786\"],[0.5555555555555556,\"#d8576b\"],[0.6666666666666666,\"#ed7953\"],[0.7777777777777778,\"#fb9f3a\"],[0.8888888888888888,\"#fdca26\"],[1.0,\"#f0f921\"]]}],\"surface\":[{\"type\":\"surface\",\"colorbar\":{\"outlinewidth\":0,\"ticks\":\"\"},\"colorscale\":[[0.0,\"#0d0887\"],[0.1111111111111111,\"#46039f\"],[0.2222222222222222,\"#7201a8\"],[0.3333333333333333,\"#9c179e\"],[0.4444444444444444,\"#bd3786\"],[0.5555555555555556,\"#d8576b\"],[0.6666666666666666,\"#ed7953\"],[0.7777777777777778,\"#fb9f3a\"],[0.8888888888888888,\"#fdca26\"],[1.0,\"#f0f921\"]]}],\"mesh3d\":[{\"type\":\"mesh3d\",\"colorbar\":{\"outlinewidth\":0,\"ticks\":\"\"}}],\"scatter\":[{\"fillpattern\":{\"fillmode\":\"overlay\",\"size\":10,\"solidity\":0.2},\"type\":\"scatter\"}],\"parcoords\":[{\"type\":\"parcoords\",\"line\":{\"colorbar\":{\"outlinewidth\":0,\"ticks\":\"\"}}}],\"scatterpolargl\":[{\"type\":\"scatterpolargl\",\"marker\":{\"colorbar\":{\"outlinewidth\":0,\"ticks\":\"\"}}}],\"bar\":[{\"error_x\":{\"color\":\"#2a3f5f\"},\"error_y\":{\"color\":\"#2a3f5f\"},\"marker\":{\"line\":{\"color\":\"#E5ECF6\",\"width\":0.5},\"pattern\":{\"fillmode\":\"overlay\",\"size\":10,\"solidity\":0.2}},\"type\":\"bar\"}],\"scattergeo\":[{\"type\":\"scattergeo\",\"marker\":{\"colorbar\":{\"outlinewidth\":0,\"ticks\":\"\"}}}],\"scatterpolar\":[{\"type\":\"scatterpolar\",\"marker\":{\"colorbar\":{\"outlinewidth\":0,\"ticks\":\"\"}}}],\"histogram\":[{\"marker\":{\"pattern\":{\"fillmode\":\"overlay\",\"size\":10,\"solidity\":0.2}},\"type\":\"histogram\"}],\"scattergl\":[{\"type\":\"scattergl\",\"marker\":{\"colorbar\":{\"outlinewidth\":0,\"ticks\":\"\"}}}],\"scatter3d\":[{\"type\":\"scatter3d\",\"line\":{\"colorbar\":{\"outlinewidth\":0,\"ticks\":\"\"}},\"marker\":{\"colorbar\":{\"outlinewidth\":0,\"ticks\":\"\"}}}],\"scattermapbox\":[{\"type\":\"scattermapbox\",\"marker\":{\"colorbar\":{\"outlinewidth\":0,\"ticks\":\"\"}}}],\"scatterternary\":[{\"type\":\"scatterternary\",\"marker\":{\"colorbar\":{\"outlinewidth\":0,\"ticks\":\"\"}}}],\"scattercarpet\":[{\"type\":\"scattercarpet\",\"marker\":{\"colorbar\":{\"outlinewidth\":0,\"ticks\":\"\"}}}],\"carpet\":[{\"aaxis\":{\"endlinecolor\":\"#2a3f5f\",\"gridcolor\":\"white\",\"linecolor\":\"white\",\"minorgridcolor\":\"white\",\"startlinecolor\":\"#2a3f5f\"},\"baxis\":{\"endlinecolor\":\"#2a3f5f\",\"gridcolor\":\"white\",\"linecolor\":\"white\",\"minorgridcolor\":\"white\",\"startlinecolor\":\"#2a3f5f\"},\"type\":\"carpet\"}],\"table\":[{\"cells\":{\"fill\":{\"color\":\"#EBF0F8\"},\"line\":{\"color\":\"white\"}},\"header\":{\"fill\":{\"color\":\"#C8D4E3\"},\"line\":{\"color\":\"white\"}},\"type\":\"table\"}],\"barpolar\":[{\"marker\":{\"line\":{\"color\":\"#E5ECF6\",\"width\":0.5},\"pattern\":{\"fillmode\":\"overlay\",\"size\":10,\"solidity\":0.2}},\"type\":\"barpolar\"}],\"pie\":[{\"automargin\":true,\"type\":\"pie\"}]},\"layout\":{\"autotypenumbers\":\"strict\",\"colorway\":[\"#636efa\",\"#EF553B\",\"#00cc96\",\"#ab63fa\",\"#FFA15A\",\"#19d3f3\",\"#FF6692\",\"#B6E880\",\"#FF97FF\",\"#FECB52\"],\"font\":{\"color\":\"#2a3f5f\"},\"hovermode\":\"closest\",\"hoverlabel\":{\"align\":\"left\"},\"paper_bgcolor\":\"white\",\"plot_bgcolor\":\"#E5ECF6\",\"polar\":{\"bgcolor\":\"#E5ECF6\",\"angularaxis\":{\"gridcolor\":\"white\",\"linecolor\":\"white\",\"ticks\":\"\"},\"radialaxis\":{\"gridcolor\":\"white\",\"linecolor\":\"white\",\"ticks\":\"\"}},\"ternary\":{\"bgcolor\":\"#E5ECF6\",\"aaxis\":{\"gridcolor\":\"white\",\"linecolor\":\"white\",\"ticks\":\"\"},\"baxis\":{\"gridcolor\":\"white\",\"linecolor\":\"white\",\"ticks\":\"\"},\"caxis\":{\"gridcolor\":\"white\",\"linecolor\":\"white\",\"ticks\":\"\"}},\"coloraxis\":{\"colorbar\":{\"outlinewidth\":0,\"ticks\":\"\"}},\"colorscale\":{\"sequential\":[[0.0,\"#0d0887\"],[0.1111111111111111,\"#46039f\"],[0.2222222222222222,\"#7201a8\"],[0.3333333333333333,\"#9c179e\"],[0.4444444444444444,\"#bd3786\"],[0.5555555555555556,\"#d8576b\"],[0.6666666666666666,\"#ed7953\"],[0.7777777777777778,\"#fb9f3a\"],[0.8888888888888888,\"#fdca26\"],[1.0,\"#f0f921\"]],\"sequentialminus\":[[0.0,\"#0d0887\"],[0.1111111111111111,\"#46039f\"],[0.2222222222222222,\"#7201a8\"],[0.3333333333333333,\"#9c179e\"],[0.4444444444444444,\"#bd3786\"],[0.5555555555555556,\"#d8576b\"],[0.6666666666666666,\"#ed7953\"],[0.7777777777777778,\"#fb9f3a\"],[0.8888888888888888,\"#fdca26\"],[1.0,\"#f0f921\"]],\"diverging\":[[0,\"#8e0152\"],[0.1,\"#c51b7d\"],[0.2,\"#de77ae\"],[0.3,\"#f1b6da\"],[0.4,\"#fde0ef\"],[0.5,\"#f7f7f7\"],[0.6,\"#e6f5d0\"],[0.7,\"#b8e186\"],[0.8,\"#7fbc41\"],[0.9,\"#4d9221\"],[1,\"#276419\"]]},\"xaxis\":{\"gridcolor\":\"white\",\"linecolor\":\"white\",\"ticks\":\"\",\"title\":{\"standoff\":15},\"zerolinecolor\":\"white\",\"automargin\":true,\"zerolinewidth\":2},\"yaxis\":{\"gridcolor\":\"white\",\"linecolor\":\"white\",\"ticks\":\"\",\"title\":{\"standoff\":15},\"zerolinecolor\":\"white\",\"automargin\":true,\"zerolinewidth\":2},\"scene\":{\"xaxis\":{\"backgroundcolor\":\"#E5ECF6\",\"gridcolor\":\"white\",\"linecolor\":\"white\",\"showbackground\":true,\"ticks\":\"\",\"zerolinecolor\":\"white\",\"gridwidth\":2},\"yaxis\":{\"backgroundcolor\":\"#E5ECF6\",\"gridcolor\":\"white\",\"linecolor\":\"white\",\"showbackground\":true,\"ticks\":\"\",\"zerolinecolor\":\"white\",\"gridwidth\":2},\"zaxis\":{\"backgroundcolor\":\"#E5ECF6\",\"gridcolor\":\"white\",\"linecolor\":\"white\",\"showbackground\":true,\"ticks\":\"\",\"zerolinecolor\":\"white\",\"gridwidth\":2}},\"shapedefaults\":{\"line\":{\"color\":\"#2a3f5f\"}},\"annotationdefaults\":{\"arrowcolor\":\"#2a3f5f\",\"arrowhead\":0,\"arrowwidth\":1},\"geo\":{\"bgcolor\":\"white\",\"landcolor\":\"#E5ECF6\",\"subunitcolor\":\"white\",\"showland\":true,\"showlakes\":true,\"lakecolor\":\"white\"},\"title\":{\"x\":0.05},\"mapbox\":{\"style\":\"light\"}}},\"xaxis\":{\"anchor\":\"y\",\"domain\":[0.0,0.2125],\"title\":{\"text\":\"Year\"}},\"yaxis\":{\"anchor\":\"x\",\"domain\":[0.84375,1.0],\"title\":{\"text\":\"Price to Income Ratio\"}},\"xaxis2\":{\"anchor\":\"y2\",\"domain\":[0.2625,0.475],\"title\":{\"text\":\"Year\"}},\"yaxis2\":{\"anchor\":\"x2\",\"domain\":[0.84375,1.0],\"title\":{\"text\":\"Gross Rental Yield City Centre\"}},\"xaxis3\":{\"anchor\":\"y3\",\"domain\":[0.525,0.7375],\"title\":{\"text\":\"Year\"}},\"yaxis3\":{\"anchor\":\"x3\",\"domain\":[0.84375,1.0],\"title\":{\"text\":\"Gross Rental Yield Outside Centre\"}},\"xaxis4\":{\"anchor\":\"y4\",\"domain\":[0.7875,1.0],\"title\":{\"text\":\"Year\"}},\"yaxis4\":{\"anchor\":\"x4\",\"domain\":[0.84375,1.0],\"title\":{\"text\":\"Price to Rent Ratio City Centre\"}},\"xaxis5\":{\"anchor\":\"y5\",\"domain\":[0.0,0.2125],\"title\":{\"text\":\"Year\"}},\"yaxis5\":{\"anchor\":\"x5\",\"domain\":[0.5625,0.71875],\"title\":{\"text\":\"Price to Rent Ratio Outside City Centre\"}},\"xaxis6\":{\"anchor\":\"y6\",\"domain\":[0.2625,0.475],\"title\":{\"text\":\"Year\"}},\"yaxis6\":{\"anchor\":\"x6\",\"domain\":[0.5625,0.71875],\"title\":{\"text\":\"Mortgage as a Percentage of Income\"}},\"xaxis7\":{\"anchor\":\"y7\",\"domain\":[0.525,0.7375],\"title\":{\"text\":\"Year\"}},\"yaxis7\":{\"anchor\":\"x7\",\"domain\":[0.5625,0.71875],\"title\":{\"text\":\"Affordability Index\"}},\"xaxis8\":{\"anchor\":\"y8\",\"domain\":[0.7875,1.0],\"title\":{\"text\":\"Year\"}},\"yaxis8\":{\"anchor\":\"x8\",\"domain\":[0.5625,0.71875],\"title\":{\"text\":\"Crime Index\"}},\"xaxis9\":{\"anchor\":\"y9\",\"domain\":[0.0,0.2125],\"title\":{\"text\":\"Year\"}},\"yaxis9\":{\"anchor\":\"x9\",\"domain\":[0.28125,0.4375],\"title\":{\"text\":\"Safety Index\"}},\"xaxis10\":{\"anchor\":\"y10\",\"domain\":[0.2625,0.475],\"title\":{\"text\":\"Year\"}},\"yaxis10\":{\"anchor\":\"x10\",\"domain\":[0.28125,0.4375],\"title\":{\"text\":\"Cost of Living Index\"}},\"xaxis11\":{\"anchor\":\"y11\",\"domain\":[0.525,0.7375],\"title\":{\"text\":\"Year\"}},\"yaxis11\":{\"anchor\":\"x11\",\"domain\":[0.28125,0.4375],\"title\":{\"text\":\"Rent Index\"}},\"xaxis12\":{\"anchor\":\"y12\",\"domain\":[0.7875,1.0],\"title\":{\"text\":\"Year\"}},\"yaxis12\":{\"anchor\":\"x12\",\"domain\":[0.28125,0.4375],\"title\":{\"text\":\"Cost of Living Plus Rent Index\"}},\"xaxis13\":{\"anchor\":\"y13\",\"domain\":[0.0,0.2125],\"title\":{\"text\":\"Year\"}},\"yaxis13\":{\"anchor\":\"x13\",\"domain\":[0.0,0.15625],\"title\":{\"text\":\"Groceries Index\"}},\"xaxis14\":{\"anchor\":\"y14\",\"domain\":[0.2625,0.475],\"title\":{\"text\":\"Year\"}},\"yaxis14\":{\"anchor\":\"x14\",\"domain\":[0.0,0.15625],\"title\":{\"text\":\"Restaurant Index\"}},\"xaxis15\":{\"anchor\":\"y15\",\"domain\":[0.525,0.7375],\"title\":{\"text\":\"Year\"}},\"yaxis15\":{\"anchor\":\"x15\",\"domain\":[0.0,0.15625],\"title\":{\"text\":\"Local Purchasing Power Index\"}},\"xaxis16\":{\"anchor\":\"y16\",\"domain\":[0.7875,1.0]},\"yaxis16\":{\"anchor\":\"x16\",\"domain\":[0.0,0.15625]},\"annotations\":[{\"font\":{\"size\":16},\"showarrow\":false,\"text\":\"Price to Income Ratio\",\"x\":0.10625,\"xanchor\":\"center\",\"xref\":\"paper\",\"y\":1.0,\"yanchor\":\"bottom\",\"yref\":\"paper\"},{\"font\":{\"size\":16},\"showarrow\":false,\"text\":\"Gross Rental Yield City Centre\",\"x\":0.36875,\"xanchor\":\"center\",\"xref\":\"paper\",\"y\":1.0,\"yanchor\":\"bottom\",\"yref\":\"paper\"},{\"font\":{\"size\":16},\"showarrow\":false,\"text\":\"Gross Rental Yield Outside Centre\",\"x\":0.6312500000000001,\"xanchor\":\"center\",\"xref\":\"paper\",\"y\":1.0,\"yanchor\":\"bottom\",\"yref\":\"paper\"},{\"font\":{\"size\":16},\"showarrow\":false,\"text\":\"Price to Rent Ratio City Centre\",\"x\":0.89375,\"xanchor\":\"center\",\"xref\":\"paper\",\"y\":1.0,\"yanchor\":\"bottom\",\"yref\":\"paper\"},{\"font\":{\"size\":16},\"showarrow\":false,\"text\":\"Price to Rent Ratio Outside City Centre\",\"x\":0.10625,\"xanchor\":\"center\",\"xref\":\"paper\",\"y\":0.71875,\"yanchor\":\"bottom\",\"yref\":\"paper\"},{\"font\":{\"size\":16},\"showarrow\":false,\"text\":\"Mortgage as a Percentage of Income\",\"x\":0.36875,\"xanchor\":\"center\",\"xref\":\"paper\",\"y\":0.71875,\"yanchor\":\"bottom\",\"yref\":\"paper\"},{\"font\":{\"size\":16},\"showarrow\":false,\"text\":\"Affordability Index\",\"x\":0.6312500000000001,\"xanchor\":\"center\",\"xref\":\"paper\",\"y\":0.71875,\"yanchor\":\"bottom\",\"yref\":\"paper\"},{\"font\":{\"size\":16},\"showarrow\":false,\"text\":\"Crime Index\",\"x\":0.89375,\"xanchor\":\"center\",\"xref\":\"paper\",\"y\":0.71875,\"yanchor\":\"bottom\",\"yref\":\"paper\"},{\"font\":{\"size\":16},\"showarrow\":false,\"text\":\"Safety Index\",\"x\":0.10625,\"xanchor\":\"center\",\"xref\":\"paper\",\"y\":0.4375,\"yanchor\":\"bottom\",\"yref\":\"paper\"},{\"font\":{\"size\":16},\"showarrow\":false,\"text\":\"Cost of Living Index\",\"x\":0.36875,\"xanchor\":\"center\",\"xref\":\"paper\",\"y\":0.4375,\"yanchor\":\"bottom\",\"yref\":\"paper\"},{\"font\":{\"size\":16},\"showarrow\":false,\"text\":\"Rent Index\",\"x\":0.6312500000000001,\"xanchor\":\"center\",\"xref\":\"paper\",\"y\":0.4375,\"yanchor\":\"bottom\",\"yref\":\"paper\"},{\"font\":{\"size\":16},\"showarrow\":false,\"text\":\"Cost of Living Plus Rent Index\",\"x\":0.89375,\"xanchor\":\"center\",\"xref\":\"paper\",\"y\":0.4375,\"yanchor\":\"bottom\",\"yref\":\"paper\"},{\"font\":{\"size\":16},\"showarrow\":false,\"text\":\"Groceries Index\",\"x\":0.10625,\"xanchor\":\"center\",\"xref\":\"paper\",\"y\":0.15625,\"yanchor\":\"bottom\",\"yref\":\"paper\"},{\"font\":{\"size\":16},\"showarrow\":false,\"text\":\"Restaurant Index\",\"x\":0.36875,\"xanchor\":\"center\",\"xref\":\"paper\",\"y\":0.15625,\"yanchor\":\"bottom\",\"yref\":\"paper\"},{\"font\":{\"size\":16},\"showarrow\":false,\"text\":\"Local Purchasing Power Index\",\"x\":0.6312500000000001,\"xanchor\":\"center\",\"xref\":\"paper\",\"y\":0.15625,\"yanchor\":\"bottom\",\"yref\":\"paper\"}],\"title\":{\"text\":\"Toronto, Canada\"},\"height\":1500,\"width\":1500},                        {\"responsive\": true}                    ).then(function(){\n",
       "                            \n",
       "var gd = document.getElementById('adb41d26-d371-4dfd-b6f4-e68b228ed4a2');\n",
       "var x = new MutationObserver(function (mutations, observer) {{\n",
       "        var display = window.getComputedStyle(gd).display;\n",
       "        if (!display || display === 'none') {{\n",
       "            console.log([gd, 'removed!']);\n",
       "            Plotly.purge(gd);\n",
       "            observer.disconnect();\n",
       "        }}\n",
       "}});\n",
       "\n",
       "// Listen for the removal of the full notebook cells\n",
       "var notebookContainer = gd.closest('#notebook-container');\n",
       "if (notebookContainer) {{\n",
       "    x.observe(notebookContainer, {childList: true});\n",
       "}}\n",
       "\n",
       "// Listen for the clearing of the current output cell\n",
       "var outputEl = gd.closest('.output');\n",
       "if (outputEl) {{\n",
       "    x.observe(outputEl, {childList: true});\n",
       "}}\n",
       "\n",
       "                        })                };                });            </script>        </div>"
      ]
     },
     "metadata": {},
     "output_type": "display_data"
    },
    {
     "data": {
      "application/vnd.plotly.v1+json": {
       "config": {
        "plotlyServerURL": "https://plot.ly"
       },
       "data": [
        {
         "mode": "lines+markers",
         "name": "Price to Income Ratio",
         "type": "scatter",
         "x": [
          "2009",
          "2010",
          "2011",
          "2012",
          "2013",
          "2014",
          "2014-mid",
          "2015",
          "2015-mid",
          "2016",
          "2016-mid",
          "2017",
          "2017-mid",
          "2018",
          "2018-mid",
          "2019",
          "2019-mid",
          "2020",
          "2020-mid",
          "2021",
          "2021-mid",
          "2022",
          "2022-mid",
          "2023",
          "2023-mid",
          "2024",
          "2024-mid"
         ],
         "xaxis": "x",
         "y": [
          7.9,
          8.4,
          10.4,
          10.7,
          9,
          7.9,
          8.1,
          8.9,
          25,
          21.6,
          16.4,
          12.9,
          10.3,
          12.3,
          11.9,
          11.7,
          11.1,
          10.8,
          10.2,
          10.1,
          8.8,
          9.9,
          9.9,
          10.2,
          10,
          11,
          13
         ],
         "yaxis": "y"
        },
        {
         "mode": "lines+markers",
         "name": "Gross Rental Yield City Centre",
         "type": "scatter",
         "x": [
          "2009",
          "2010",
          "2011",
          "2012",
          "2013",
          "2014",
          "2014-mid",
          "2015",
          "2015-mid",
          "2016",
          "2016-mid",
          "2017",
          "2017-mid",
          "2018",
          "2018-mid",
          "2019",
          "2019-mid",
          "2020",
          "2020-mid",
          "2021",
          "2021-mid",
          "2022",
          "2022-mid",
          "2023",
          "2023-mid",
          "2024",
          "2024-mid"
         ],
         "xaxis": "x2",
         "y": [
          3.8,
          4.7,
          5.3,
          5.7,
          5.3,
          6.9,
          6.2,
          6.5,
          3.2,
          3.6,
          4.5,
          5.1,
          5.6,
          5.3,
          5.3,
          5,
          5,
          4.9,
          5,
          4.7,
          4.7,
          4.6,
          5.1,
          5.6,
          5.5,
          5.9,
          5.8
         ],
         "yaxis": "y2"
        },
        {
         "mode": "lines+markers",
         "name": "Gross Rental Yield Outside Centre",
         "type": "scatter",
         "x": [
          "2009",
          "2010",
          "2011",
          "2012",
          "2013",
          "2014",
          "2014-mid",
          "2015",
          "2015-mid",
          "2016",
          "2016-mid",
          "2017",
          "2017-mid",
          "2018",
          "2018-mid",
          "2019",
          "2019-mid",
          "2020",
          "2020-mid",
          "2021",
          "2021-mid",
          "2022",
          "2022-mid",
          "2023",
          "2023-mid",
          "2024",
          "2024-mid"
         ],
         "xaxis": "x3",
         "y": [
          5,
          4.6,
          6,
          6.3,
          9.8,
          8.7,
          7.9,
          7.2,
          4.1,
          3.7,
          4,
          5,
          6.1,
          5.9,
          6.4,
          6.8,
          6.8,
          5.7,
          5.5,
          5.4,
          5.6,
          5.8,
          5.4,
          5.4,
          5.3,
          4.2,
          4.9
         ],
         "yaxis": "y3"
        },
        {
         "mode": "lines+markers",
         "name": "Price to Rent Ratio City Centre",
         "type": "scatter",
         "x": [
          "2009",
          "2010",
          "2011",
          "2012",
          "2013",
          "2014",
          "2014-mid",
          "2015",
          "2015-mid",
          "2016",
          "2016-mid",
          "2017",
          "2017-mid",
          "2018",
          "2018-mid",
          "2019",
          "2019-mid",
          "2020",
          "2020-mid",
          "2021",
          "2021-mid",
          "2022",
          "2022-mid",
          "2023",
          "2023-mid",
          "2024",
          "2024-mid"
         ],
         "xaxis": "x4",
         "y": [
          26.6,
          21.2,
          18.7,
          17.6,
          18.8,
          14.5,
          16.1,
          15.3,
          31.4,
          27.6,
          22.4,
          19.5,
          17.7,
          19,
          19,
          20.1,
          20.1,
          20.4,
          19.8,
          21.4,
          21.5,
          21.7,
          19.8,
          17.7,
          18.1,
          17,
          17.1
         ],
         "yaxis": "y4"
        },
        {
         "mode": "lines+markers",
         "name": "Price to Rent Ratio Outside City Centre",
         "type": "scatter",
         "x": [
          "2009",
          "2010",
          "2011",
          "2012",
          "2013",
          "2014",
          "2014-mid",
          "2015",
          "2015-mid",
          "2016",
          "2016-mid",
          "2017",
          "2017-mid",
          "2018",
          "2018-mid",
          "2019",
          "2019-mid",
          "2020",
          "2020-mid",
          "2021",
          "2021-mid",
          "2022",
          "2022-mid",
          "2023",
          "2023-mid",
          "2024",
          "2024-mid"
         ],
         "xaxis": "x5",
         "y": [
          20,
          21.9,
          16.7,
          16,
          10.2,
          11.5,
          12.7,
          13.8,
          24.3,
          26.9,
          25,
          19.9,
          16.3,
          16.9,
          15.6,
          14.7,
          14.7,
          17.4,
          18.3,
          18.7,
          17.8,
          17.2,
          18.5,
          18.5,
          18.8,
          23.6,
          20.4
         ],
         "yaxis": "y5"
        },
        {
         "mode": "lines+markers",
         "name": "Mortgage as a Percentage of Income",
         "type": "scatter",
         "x": [
          "2009",
          "2010",
          "2011",
          "2012",
          "2013",
          "2014",
          "2014-mid",
          "2015",
          "2015-mid",
          "2016",
          "2016-mid",
          "2017",
          "2017-mid",
          "2018",
          "2018-mid",
          "2019",
          "2019-mid",
          "2020",
          "2020-mid",
          "2021",
          "2021-mid",
          "2022",
          "2022-mid",
          "2023",
          "2023-mid",
          "2024",
          "2024-mid"
         ],
         "xaxis": "x6",
         "y": [
          "61.4",
          "65.7",
          "82.5",
          "84.7",
          "65.7",
          "57.0",
          "59.0",
          "64.4",
          "182.0",
          "157.0",
          "119.3",
          "93.6",
          "73.9",
          "88.6",
          "87.3",
          "86.2",
          "83.0",
          "79.4",
          "74.8",
          "72.1",
          "61.2",
          "68.1",
          "79.8",
          "84.2",
          "90.0",
          "99.6",
          "118.2"
         ],
         "yaxis": "y6"
        },
        {
         "mode": "lines+markers",
         "name": "Affordability Index",
         "type": "scatter",
         "x": [
          "2009",
          "2010",
          "2011",
          "2012",
          "2013",
          "2014",
          "2014-mid",
          "2015",
          "2015-mid",
          "2016",
          "2016-mid",
          "2017",
          "2017-mid",
          "2018",
          "2018-mid",
          "2019",
          "2019-mid",
          "2020",
          "2020-mid",
          "2021",
          "2021-mid",
          "2022",
          "2022-mid",
          "2023",
          "2023-mid",
          "2024",
          "2024-mid"
         ],
         "xaxis": "x7",
         "y": [
          "1.6",
          "1.5",
          "1.2",
          "1.2",
          "1.5",
          "1.8",
          "1.7",
          "1.6",
          "0.5",
          "0.6",
          "0.8",
          "1.1",
          "1.4",
          "1.1",
          "1.1",
          "1.2",
          "1.2",
          "1.3",
          "1.3",
          "1.4",
          "1.6",
          "1.5",
          "1.3",
          "1.2",
          "1.1",
          "1.0",
          "0.8"
         ],
         "yaxis": "y7"
        },
        {
         "mode": "lines+markers",
         "name": "Crime Index",
         "type": "scatter",
         "x": [
          "2009",
          "2010",
          "2011",
          "2012",
          "2013",
          "2014",
          "2014-mid",
          "2015",
          "2015-mid",
          "2016",
          "2016-mid",
          "2017",
          "2017-mid",
          "2018",
          "2018-mid",
          "2019",
          "2019-mid",
          "2020",
          "2020-mid",
          "2021",
          "2021-mid",
          "2022",
          "2022-mid",
          "2023",
          "2023-mid",
          "2024",
          "2024-mid"
         ],
         "xaxis": "x8",
         "y": [
          null,
          null,
          null,
          null,
          null,
          45.8,
          46.5,
          47.1,
          50.5,
          50.9,
          47.2,
          47.6,
          45.2,
          44.7,
          44.5,
          44.2,
          43.7,
          44.4,
          45.7,
          47,
          47,
          47.1,
          48.1,
          49.1,
          49.5,
          50,
          50.8
         ],
         "yaxis": "y8"
        },
        {
         "mode": "lines+markers",
         "name": "Safety Index",
         "type": "scatter",
         "x": [
          "2009",
          "2010",
          "2011",
          "2012",
          "2013",
          "2014",
          "2014-mid",
          "2015",
          "2015-mid",
          "2016",
          "2016-mid",
          "2017",
          "2017-mid",
          "2018",
          "2018-mid",
          "2019",
          "2019-mid",
          "2020",
          "2020-mid",
          "2021",
          "2021-mid",
          "2022",
          "2022-mid",
          "2023",
          "2023-mid",
          "2024",
          "2024-mid"
         ],
         "xaxis": "x9",
         "y": [
          null,
          null,
          null,
          null,
          null,
          54.2,
          53.5,
          52.9,
          49.5,
          49.1,
          52.8,
          52.4,
          54.8,
          55.3,
          55.5,
          55.8,
          56.3,
          55.6,
          54.3,
          53,
          53,
          52.9,
          51.9,
          50.9,
          50.5,
          50,
          49.2
         ],
         "yaxis": "y9"
        },
        {
         "mode": "lines+markers",
         "name": "Cost of Living Index",
         "type": "scatter",
         "x": [
          "2009",
          "2010",
          "2011",
          "2012",
          "2013",
          "2014",
          "2014-mid",
          "2015",
          "2015-mid",
          "2016",
          "2016-mid",
          "2017",
          "2017-mid",
          "2018",
          "2018-mid",
          "2019",
          "2019-mid",
          "2020",
          "2020-mid",
          "2021",
          "2021-mid",
          "2022",
          "2022-mid",
          "2023",
          "2023-mid",
          "2024",
          "2024-mid"
         ],
         "xaxis": "x10",
         "y": [
          null,
          null,
          null,
          null,
          null,
          null,
          null,
          null,
          null,
          null,
          null,
          null,
          null,
          null,
          null,
          null,
          null,
          null,
          null,
          null,
          null,
          null,
          null,
          null,
          null,
          100,
          null
         ],
         "yaxis": "y10"
        },
        {
         "mode": "lines+markers",
         "name": "Rent Index",
         "type": "scatter",
         "x": [
          "2009",
          "2010",
          "2011",
          "2012",
          "2013",
          "2014",
          "2014-mid",
          "2015",
          "2015-mid",
          "2016",
          "2016-mid",
          "2017",
          "2017-mid",
          "2018",
          "2018-mid",
          "2019",
          "2019-mid",
          "2020",
          "2020-mid",
          "2021",
          "2021-mid",
          "2022",
          "2022-mid",
          "2023",
          "2023-mid",
          "2024",
          "2024-mid"
         ],
         "xaxis": "x11",
         "y": [
          null,
          null,
          null,
          null,
          null,
          null,
          null,
          null,
          null,
          null,
          null,
          null,
          null,
          null,
          null,
          null,
          null,
          null,
          null,
          null,
          null,
          null,
          null,
          null,
          null,
          100,
          null
         ],
         "yaxis": "y11"
        },
        {
         "mode": "lines+markers",
         "name": "Cost of Living Plus Rent Index",
         "type": "scatter",
         "x": [
          "2009",
          "2010",
          "2011",
          "2012",
          "2013",
          "2014",
          "2014-mid",
          "2015",
          "2015-mid",
          "2016",
          "2016-mid",
          "2017",
          "2017-mid",
          "2018",
          "2018-mid",
          "2019",
          "2019-mid",
          "2020",
          "2020-mid",
          "2021",
          "2021-mid",
          "2022",
          "2022-mid",
          "2023",
          "2023-mid",
          "2024",
          "2024-mid"
         ],
         "xaxis": "x12",
         "y": [
          null,
          null,
          null,
          null,
          null,
          null,
          null,
          null,
          null,
          null,
          null,
          null,
          null,
          null,
          null,
          null,
          null,
          null,
          null,
          null,
          null,
          null,
          null,
          null,
          null,
          100,
          null
         ],
         "yaxis": "y12"
        },
        {
         "mode": "lines+markers",
         "name": "Groceries Index",
         "type": "scatter",
         "x": [
          "2009",
          "2010",
          "2011",
          "2012",
          "2013",
          "2014",
          "2014-mid",
          "2015",
          "2015-mid",
          "2016",
          "2016-mid",
          "2017",
          "2017-mid",
          "2018",
          "2018-mid",
          "2019",
          "2019-mid",
          "2020",
          "2020-mid",
          "2021",
          "2021-mid",
          "2022",
          "2022-mid",
          "2023",
          "2023-mid",
          "2024",
          "2024-mid"
         ],
         "xaxis": "x13",
         "y": [
          null,
          null,
          null,
          null,
          null,
          null,
          null,
          null,
          null,
          null,
          null,
          null,
          null,
          null,
          null,
          null,
          null,
          null,
          null,
          null,
          null,
          null,
          null,
          null,
          null,
          100,
          null
         ],
         "yaxis": "y13"
        },
        {
         "mode": "lines+markers",
         "name": "Restaurant Index",
         "type": "scatter",
         "x": [
          "2009",
          "2010",
          "2011",
          "2012",
          "2013",
          "2014",
          "2014-mid",
          "2015",
          "2015-mid",
          "2016",
          "2016-mid",
          "2017",
          "2017-mid",
          "2018",
          "2018-mid",
          "2019",
          "2019-mid",
          "2020",
          "2020-mid",
          "2021",
          "2021-mid",
          "2022",
          "2022-mid",
          "2023",
          "2023-mid",
          "2024",
          "2024-mid"
         ],
         "xaxis": "x14",
         "y": [
          null,
          null,
          null,
          null,
          null,
          null,
          null,
          null,
          null,
          null,
          null,
          null,
          null,
          null,
          null,
          null,
          null,
          null,
          null,
          null,
          null,
          null,
          null,
          null,
          null,
          100,
          null
         ],
         "yaxis": "y14"
        },
        {
         "mode": "lines+markers",
         "name": "Local Purchasing Power Index",
         "type": "scatter",
         "x": [
          "2009",
          "2010",
          "2011",
          "2012",
          "2013",
          "2014",
          "2014-mid",
          "2015",
          "2015-mid",
          "2016",
          "2016-mid",
          "2017",
          "2017-mid",
          "2018",
          "2018-mid",
          "2019",
          "2019-mid",
          "2020",
          "2020-mid",
          "2021",
          "2021-mid",
          "2022",
          "2022-mid",
          "2023",
          "2023-mid",
          "2024",
          "2024-mid"
         ],
         "xaxis": "x15",
         "y": [
          null,
          null,
          null,
          null,
          null,
          null,
          null,
          null,
          null,
          null,
          null,
          null,
          null,
          null,
          null,
          null,
          null,
          null,
          null,
          null,
          null,
          null,
          null,
          null,
          null,
          100,
          null
         ],
         "yaxis": "y15"
        }
       ],
       "layout": {
        "annotations": [
         {
          "font": {
           "size": 16
          },
          "showarrow": false,
          "text": "Price to Income Ratio",
          "x": 0.10625,
          "xanchor": "center",
          "xref": "paper",
          "y": 1,
          "yanchor": "bottom",
          "yref": "paper"
         },
         {
          "font": {
           "size": 16
          },
          "showarrow": false,
          "text": "Gross Rental Yield City Centre",
          "x": 0.36875,
          "xanchor": "center",
          "xref": "paper",
          "y": 1,
          "yanchor": "bottom",
          "yref": "paper"
         },
         {
          "font": {
           "size": 16
          },
          "showarrow": false,
          "text": "Gross Rental Yield Outside Centre",
          "x": 0.6312500000000001,
          "xanchor": "center",
          "xref": "paper",
          "y": 1,
          "yanchor": "bottom",
          "yref": "paper"
         },
         {
          "font": {
           "size": 16
          },
          "showarrow": false,
          "text": "Price to Rent Ratio City Centre",
          "x": 0.89375,
          "xanchor": "center",
          "xref": "paper",
          "y": 1,
          "yanchor": "bottom",
          "yref": "paper"
         },
         {
          "font": {
           "size": 16
          },
          "showarrow": false,
          "text": "Price to Rent Ratio Outside City Centre",
          "x": 0.10625,
          "xanchor": "center",
          "xref": "paper",
          "y": 0.71875,
          "yanchor": "bottom",
          "yref": "paper"
         },
         {
          "font": {
           "size": 16
          },
          "showarrow": false,
          "text": "Mortgage as a Percentage of Income",
          "x": 0.36875,
          "xanchor": "center",
          "xref": "paper",
          "y": 0.71875,
          "yanchor": "bottom",
          "yref": "paper"
         },
         {
          "font": {
           "size": 16
          },
          "showarrow": false,
          "text": "Affordability Index",
          "x": 0.6312500000000001,
          "xanchor": "center",
          "xref": "paper",
          "y": 0.71875,
          "yanchor": "bottom",
          "yref": "paper"
         },
         {
          "font": {
           "size": 16
          },
          "showarrow": false,
          "text": "Crime Index",
          "x": 0.89375,
          "xanchor": "center",
          "xref": "paper",
          "y": 0.71875,
          "yanchor": "bottom",
          "yref": "paper"
         },
         {
          "font": {
           "size": 16
          },
          "showarrow": false,
          "text": "Safety Index",
          "x": 0.10625,
          "xanchor": "center",
          "xref": "paper",
          "y": 0.4375,
          "yanchor": "bottom",
          "yref": "paper"
         },
         {
          "font": {
           "size": 16
          },
          "showarrow": false,
          "text": "Cost of Living Index",
          "x": 0.36875,
          "xanchor": "center",
          "xref": "paper",
          "y": 0.4375,
          "yanchor": "bottom",
          "yref": "paper"
         },
         {
          "font": {
           "size": 16
          },
          "showarrow": false,
          "text": "Rent Index",
          "x": 0.6312500000000001,
          "xanchor": "center",
          "xref": "paper",
          "y": 0.4375,
          "yanchor": "bottom",
          "yref": "paper"
         },
         {
          "font": {
           "size": 16
          },
          "showarrow": false,
          "text": "Cost of Living Plus Rent Index",
          "x": 0.89375,
          "xanchor": "center",
          "xref": "paper",
          "y": 0.4375,
          "yanchor": "bottom",
          "yref": "paper"
         },
         {
          "font": {
           "size": 16
          },
          "showarrow": false,
          "text": "Groceries Index",
          "x": 0.10625,
          "xanchor": "center",
          "xref": "paper",
          "y": 0.15625,
          "yanchor": "bottom",
          "yref": "paper"
         },
         {
          "font": {
           "size": 16
          },
          "showarrow": false,
          "text": "Restaurant Index",
          "x": 0.36875,
          "xanchor": "center",
          "xref": "paper",
          "y": 0.15625,
          "yanchor": "bottom",
          "yref": "paper"
         },
         {
          "font": {
           "size": 16
          },
          "showarrow": false,
          "text": "Local Purchasing Power Index",
          "x": 0.6312500000000001,
          "xanchor": "center",
          "xref": "paper",
          "y": 0.15625,
          "yanchor": "bottom",
          "yref": "paper"
         }
        ],
        "height": 1500,
        "template": {
         "data": {
          "bar": [
           {
            "error_x": {
             "color": "#2a3f5f"
            },
            "error_y": {
             "color": "#2a3f5f"
            },
            "marker": {
             "line": {
              "color": "#E5ECF6",
              "width": 0.5
             },
             "pattern": {
              "fillmode": "overlay",
              "size": 10,
              "solidity": 0.2
             }
            },
            "type": "bar"
           }
          ],
          "barpolar": [
           {
            "marker": {
             "line": {
              "color": "#E5ECF6",
              "width": 0.5
             },
             "pattern": {
              "fillmode": "overlay",
              "size": 10,
              "solidity": 0.2
             }
            },
            "type": "barpolar"
           }
          ],
          "carpet": [
           {
            "aaxis": {
             "endlinecolor": "#2a3f5f",
             "gridcolor": "white",
             "linecolor": "white",
             "minorgridcolor": "white",
             "startlinecolor": "#2a3f5f"
            },
            "baxis": {
             "endlinecolor": "#2a3f5f",
             "gridcolor": "white",
             "linecolor": "white",
             "minorgridcolor": "white",
             "startlinecolor": "#2a3f5f"
            },
            "type": "carpet"
           }
          ],
          "choropleth": [
           {
            "colorbar": {
             "outlinewidth": 0,
             "ticks": ""
            },
            "type": "choropleth"
           }
          ],
          "contour": [
           {
            "colorbar": {
             "outlinewidth": 0,
             "ticks": ""
            },
            "colorscale": [
             [
              0,
              "#0d0887"
             ],
             [
              0.1111111111111111,
              "#46039f"
             ],
             [
              0.2222222222222222,
              "#7201a8"
             ],
             [
              0.3333333333333333,
              "#9c179e"
             ],
             [
              0.4444444444444444,
              "#bd3786"
             ],
             [
              0.5555555555555556,
              "#d8576b"
             ],
             [
              0.6666666666666666,
              "#ed7953"
             ],
             [
              0.7777777777777778,
              "#fb9f3a"
             ],
             [
              0.8888888888888888,
              "#fdca26"
             ],
             [
              1,
              "#f0f921"
             ]
            ],
            "type": "contour"
           }
          ],
          "contourcarpet": [
           {
            "colorbar": {
             "outlinewidth": 0,
             "ticks": ""
            },
            "type": "contourcarpet"
           }
          ],
          "heatmap": [
           {
            "colorbar": {
             "outlinewidth": 0,
             "ticks": ""
            },
            "colorscale": [
             [
              0,
              "#0d0887"
             ],
             [
              0.1111111111111111,
              "#46039f"
             ],
             [
              0.2222222222222222,
              "#7201a8"
             ],
             [
              0.3333333333333333,
              "#9c179e"
             ],
             [
              0.4444444444444444,
              "#bd3786"
             ],
             [
              0.5555555555555556,
              "#d8576b"
             ],
             [
              0.6666666666666666,
              "#ed7953"
             ],
             [
              0.7777777777777778,
              "#fb9f3a"
             ],
             [
              0.8888888888888888,
              "#fdca26"
             ],
             [
              1,
              "#f0f921"
             ]
            ],
            "type": "heatmap"
           }
          ],
          "heatmapgl": [
           {
            "colorbar": {
             "outlinewidth": 0,
             "ticks": ""
            },
            "colorscale": [
             [
              0,
              "#0d0887"
             ],
             [
              0.1111111111111111,
              "#46039f"
             ],
             [
              0.2222222222222222,
              "#7201a8"
             ],
             [
              0.3333333333333333,
              "#9c179e"
             ],
             [
              0.4444444444444444,
              "#bd3786"
             ],
             [
              0.5555555555555556,
              "#d8576b"
             ],
             [
              0.6666666666666666,
              "#ed7953"
             ],
             [
              0.7777777777777778,
              "#fb9f3a"
             ],
             [
              0.8888888888888888,
              "#fdca26"
             ],
             [
              1,
              "#f0f921"
             ]
            ],
            "type": "heatmapgl"
           }
          ],
          "histogram": [
           {
            "marker": {
             "pattern": {
              "fillmode": "overlay",
              "size": 10,
              "solidity": 0.2
             }
            },
            "type": "histogram"
           }
          ],
          "histogram2d": [
           {
            "colorbar": {
             "outlinewidth": 0,
             "ticks": ""
            },
            "colorscale": [
             [
              0,
              "#0d0887"
             ],
             [
              0.1111111111111111,
              "#46039f"
             ],
             [
              0.2222222222222222,
              "#7201a8"
             ],
             [
              0.3333333333333333,
              "#9c179e"
             ],
             [
              0.4444444444444444,
              "#bd3786"
             ],
             [
              0.5555555555555556,
              "#d8576b"
             ],
             [
              0.6666666666666666,
              "#ed7953"
             ],
             [
              0.7777777777777778,
              "#fb9f3a"
             ],
             [
              0.8888888888888888,
              "#fdca26"
             ],
             [
              1,
              "#f0f921"
             ]
            ],
            "type": "histogram2d"
           }
          ],
          "histogram2dcontour": [
           {
            "colorbar": {
             "outlinewidth": 0,
             "ticks": ""
            },
            "colorscale": [
             [
              0,
              "#0d0887"
             ],
             [
              0.1111111111111111,
              "#46039f"
             ],
             [
              0.2222222222222222,
              "#7201a8"
             ],
             [
              0.3333333333333333,
              "#9c179e"
             ],
             [
              0.4444444444444444,
              "#bd3786"
             ],
             [
              0.5555555555555556,
              "#d8576b"
             ],
             [
              0.6666666666666666,
              "#ed7953"
             ],
             [
              0.7777777777777778,
              "#fb9f3a"
             ],
             [
              0.8888888888888888,
              "#fdca26"
             ],
             [
              1,
              "#f0f921"
             ]
            ],
            "type": "histogram2dcontour"
           }
          ],
          "mesh3d": [
           {
            "colorbar": {
             "outlinewidth": 0,
             "ticks": ""
            },
            "type": "mesh3d"
           }
          ],
          "parcoords": [
           {
            "line": {
             "colorbar": {
              "outlinewidth": 0,
              "ticks": ""
             }
            },
            "type": "parcoords"
           }
          ],
          "pie": [
           {
            "automargin": true,
            "type": "pie"
           }
          ],
          "scatter": [
           {
            "fillpattern": {
             "fillmode": "overlay",
             "size": 10,
             "solidity": 0.2
            },
            "type": "scatter"
           }
          ],
          "scatter3d": [
           {
            "line": {
             "colorbar": {
              "outlinewidth": 0,
              "ticks": ""
             }
            },
            "marker": {
             "colorbar": {
              "outlinewidth": 0,
              "ticks": ""
             }
            },
            "type": "scatter3d"
           }
          ],
          "scattercarpet": [
           {
            "marker": {
             "colorbar": {
              "outlinewidth": 0,
              "ticks": ""
             }
            },
            "type": "scattercarpet"
           }
          ],
          "scattergeo": [
           {
            "marker": {
             "colorbar": {
              "outlinewidth": 0,
              "ticks": ""
             }
            },
            "type": "scattergeo"
           }
          ],
          "scattergl": [
           {
            "marker": {
             "colorbar": {
              "outlinewidth": 0,
              "ticks": ""
             }
            },
            "type": "scattergl"
           }
          ],
          "scattermapbox": [
           {
            "marker": {
             "colorbar": {
              "outlinewidth": 0,
              "ticks": ""
             }
            },
            "type": "scattermapbox"
           }
          ],
          "scatterpolar": [
           {
            "marker": {
             "colorbar": {
              "outlinewidth": 0,
              "ticks": ""
             }
            },
            "type": "scatterpolar"
           }
          ],
          "scatterpolargl": [
           {
            "marker": {
             "colorbar": {
              "outlinewidth": 0,
              "ticks": ""
             }
            },
            "type": "scatterpolargl"
           }
          ],
          "scatterternary": [
           {
            "marker": {
             "colorbar": {
              "outlinewidth": 0,
              "ticks": ""
             }
            },
            "type": "scatterternary"
           }
          ],
          "surface": [
           {
            "colorbar": {
             "outlinewidth": 0,
             "ticks": ""
            },
            "colorscale": [
             [
              0,
              "#0d0887"
             ],
             [
              0.1111111111111111,
              "#46039f"
             ],
             [
              0.2222222222222222,
              "#7201a8"
             ],
             [
              0.3333333333333333,
              "#9c179e"
             ],
             [
              0.4444444444444444,
              "#bd3786"
             ],
             [
              0.5555555555555556,
              "#d8576b"
             ],
             [
              0.6666666666666666,
              "#ed7953"
             ],
             [
              0.7777777777777778,
              "#fb9f3a"
             ],
             [
              0.8888888888888888,
              "#fdca26"
             ],
             [
              1,
              "#f0f921"
             ]
            ],
            "type": "surface"
           }
          ],
          "table": [
           {
            "cells": {
             "fill": {
              "color": "#EBF0F8"
             },
             "line": {
              "color": "white"
             }
            },
            "header": {
             "fill": {
              "color": "#C8D4E3"
             },
             "line": {
              "color": "white"
             }
            },
            "type": "table"
           }
          ]
         },
         "layout": {
          "annotationdefaults": {
           "arrowcolor": "#2a3f5f",
           "arrowhead": 0,
           "arrowwidth": 1
          },
          "autotypenumbers": "strict",
          "coloraxis": {
           "colorbar": {
            "outlinewidth": 0,
            "ticks": ""
           }
          },
          "colorscale": {
           "diverging": [
            [
             0,
             "#8e0152"
            ],
            [
             0.1,
             "#c51b7d"
            ],
            [
             0.2,
             "#de77ae"
            ],
            [
             0.3,
             "#f1b6da"
            ],
            [
             0.4,
             "#fde0ef"
            ],
            [
             0.5,
             "#f7f7f7"
            ],
            [
             0.6,
             "#e6f5d0"
            ],
            [
             0.7,
             "#b8e186"
            ],
            [
             0.8,
             "#7fbc41"
            ],
            [
             0.9,
             "#4d9221"
            ],
            [
             1,
             "#276419"
            ]
           ],
           "sequential": [
            [
             0,
             "#0d0887"
            ],
            [
             0.1111111111111111,
             "#46039f"
            ],
            [
             0.2222222222222222,
             "#7201a8"
            ],
            [
             0.3333333333333333,
             "#9c179e"
            ],
            [
             0.4444444444444444,
             "#bd3786"
            ],
            [
             0.5555555555555556,
             "#d8576b"
            ],
            [
             0.6666666666666666,
             "#ed7953"
            ],
            [
             0.7777777777777778,
             "#fb9f3a"
            ],
            [
             0.8888888888888888,
             "#fdca26"
            ],
            [
             1,
             "#f0f921"
            ]
           ],
           "sequentialminus": [
            [
             0,
             "#0d0887"
            ],
            [
             0.1111111111111111,
             "#46039f"
            ],
            [
             0.2222222222222222,
             "#7201a8"
            ],
            [
             0.3333333333333333,
             "#9c179e"
            ],
            [
             0.4444444444444444,
             "#bd3786"
            ],
            [
             0.5555555555555556,
             "#d8576b"
            ],
            [
             0.6666666666666666,
             "#ed7953"
            ],
            [
             0.7777777777777778,
             "#fb9f3a"
            ],
            [
             0.8888888888888888,
             "#fdca26"
            ],
            [
             1,
             "#f0f921"
            ]
           ]
          },
          "colorway": [
           "#636efa",
           "#EF553B",
           "#00cc96",
           "#ab63fa",
           "#FFA15A",
           "#19d3f3",
           "#FF6692",
           "#B6E880",
           "#FF97FF",
           "#FECB52"
          ],
          "font": {
           "color": "#2a3f5f"
          },
          "geo": {
           "bgcolor": "white",
           "lakecolor": "white",
           "landcolor": "#E5ECF6",
           "showlakes": true,
           "showland": true,
           "subunitcolor": "white"
          },
          "hoverlabel": {
           "align": "left"
          },
          "hovermode": "closest",
          "mapbox": {
           "style": "light"
          },
          "paper_bgcolor": "white",
          "plot_bgcolor": "#E5ECF6",
          "polar": {
           "angularaxis": {
            "gridcolor": "white",
            "linecolor": "white",
            "ticks": ""
           },
           "bgcolor": "#E5ECF6",
           "radialaxis": {
            "gridcolor": "white",
            "linecolor": "white",
            "ticks": ""
           }
          },
          "scene": {
           "xaxis": {
            "backgroundcolor": "#E5ECF6",
            "gridcolor": "white",
            "gridwidth": 2,
            "linecolor": "white",
            "showbackground": true,
            "ticks": "",
            "zerolinecolor": "white"
           },
           "yaxis": {
            "backgroundcolor": "#E5ECF6",
            "gridcolor": "white",
            "gridwidth": 2,
            "linecolor": "white",
            "showbackground": true,
            "ticks": "",
            "zerolinecolor": "white"
           },
           "zaxis": {
            "backgroundcolor": "#E5ECF6",
            "gridcolor": "white",
            "gridwidth": 2,
            "linecolor": "white",
            "showbackground": true,
            "ticks": "",
            "zerolinecolor": "white"
           }
          },
          "shapedefaults": {
           "line": {
            "color": "#2a3f5f"
           }
          },
          "ternary": {
           "aaxis": {
            "gridcolor": "white",
            "linecolor": "white",
            "ticks": ""
           },
           "baxis": {
            "gridcolor": "white",
            "linecolor": "white",
            "ticks": ""
           },
           "bgcolor": "#E5ECF6",
           "caxis": {
            "gridcolor": "white",
            "linecolor": "white",
            "ticks": ""
           }
          },
          "title": {
           "x": 0.05
          },
          "xaxis": {
           "automargin": true,
           "gridcolor": "white",
           "linecolor": "white",
           "ticks": "",
           "title": {
            "standoff": 15
           },
           "zerolinecolor": "white",
           "zerolinewidth": 2
          },
          "yaxis": {
           "automargin": true,
           "gridcolor": "white",
           "linecolor": "white",
           "ticks": "",
           "title": {
            "standoff": 15
           },
           "zerolinecolor": "white",
           "zerolinewidth": 2
          }
         }
        },
        "title": {
         "text": "New York, NY, United States"
        },
        "width": 1500,
        "xaxis": {
         "anchor": "y",
         "domain": [
          0,
          0.2125
         ],
         "title": {
          "text": "Year"
         }
        },
        "xaxis10": {
         "anchor": "y10",
         "domain": [
          0.2625,
          0.475
         ],
         "title": {
          "text": "Year"
         }
        },
        "xaxis11": {
         "anchor": "y11",
         "domain": [
          0.525,
          0.7375
         ],
         "title": {
          "text": "Year"
         }
        },
        "xaxis12": {
         "anchor": "y12",
         "domain": [
          0.7875,
          1
         ],
         "title": {
          "text": "Year"
         }
        },
        "xaxis13": {
         "anchor": "y13",
         "domain": [
          0,
          0.2125
         ],
         "title": {
          "text": "Year"
         }
        },
        "xaxis14": {
         "anchor": "y14",
         "domain": [
          0.2625,
          0.475
         ],
         "title": {
          "text": "Year"
         }
        },
        "xaxis15": {
         "anchor": "y15",
         "domain": [
          0.525,
          0.7375
         ],
         "title": {
          "text": "Year"
         }
        },
        "xaxis16": {
         "anchor": "y16",
         "domain": [
          0.7875,
          1
         ]
        },
        "xaxis2": {
         "anchor": "y2",
         "domain": [
          0.2625,
          0.475
         ],
         "title": {
          "text": "Year"
         }
        },
        "xaxis3": {
         "anchor": "y3",
         "domain": [
          0.525,
          0.7375
         ],
         "title": {
          "text": "Year"
         }
        },
        "xaxis4": {
         "anchor": "y4",
         "domain": [
          0.7875,
          1
         ],
         "title": {
          "text": "Year"
         }
        },
        "xaxis5": {
         "anchor": "y5",
         "domain": [
          0,
          0.2125
         ],
         "title": {
          "text": "Year"
         }
        },
        "xaxis6": {
         "anchor": "y6",
         "domain": [
          0.2625,
          0.475
         ],
         "title": {
          "text": "Year"
         }
        },
        "xaxis7": {
         "anchor": "y7",
         "domain": [
          0.525,
          0.7375
         ],
         "title": {
          "text": "Year"
         }
        },
        "xaxis8": {
         "anchor": "y8",
         "domain": [
          0.7875,
          1
         ],
         "title": {
          "text": "Year"
         }
        },
        "xaxis9": {
         "anchor": "y9",
         "domain": [
          0,
          0.2125
         ],
         "title": {
          "text": "Year"
         }
        },
        "yaxis": {
         "anchor": "x",
         "domain": [
          0.84375,
          1
         ],
         "title": {
          "text": "Price to Income Ratio"
         }
        },
        "yaxis10": {
         "anchor": "x10",
         "domain": [
          0.28125,
          0.4375
         ],
         "title": {
          "text": "Cost of Living Index"
         }
        },
        "yaxis11": {
         "anchor": "x11",
         "domain": [
          0.28125,
          0.4375
         ],
         "title": {
          "text": "Rent Index"
         }
        },
        "yaxis12": {
         "anchor": "x12",
         "domain": [
          0.28125,
          0.4375
         ],
         "title": {
          "text": "Cost of Living Plus Rent Index"
         }
        },
        "yaxis13": {
         "anchor": "x13",
         "domain": [
          0,
          0.15625
         ],
         "title": {
          "text": "Groceries Index"
         }
        },
        "yaxis14": {
         "anchor": "x14",
         "domain": [
          0,
          0.15625
         ],
         "title": {
          "text": "Restaurant Index"
         }
        },
        "yaxis15": {
         "anchor": "x15",
         "domain": [
          0,
          0.15625
         ],
         "title": {
          "text": "Local Purchasing Power Index"
         }
        },
        "yaxis16": {
         "anchor": "x16",
         "domain": [
          0,
          0.15625
         ]
        },
        "yaxis2": {
         "anchor": "x2",
         "domain": [
          0.84375,
          1
         ],
         "title": {
          "text": "Gross Rental Yield City Centre"
         }
        },
        "yaxis3": {
         "anchor": "x3",
         "domain": [
          0.84375,
          1
         ],
         "title": {
          "text": "Gross Rental Yield Outside Centre"
         }
        },
        "yaxis4": {
         "anchor": "x4",
         "domain": [
          0.84375,
          1
         ],
         "title": {
          "text": "Price to Rent Ratio City Centre"
         }
        },
        "yaxis5": {
         "anchor": "x5",
         "domain": [
          0.5625,
          0.71875
         ],
         "title": {
          "text": "Price to Rent Ratio Outside City Centre"
         }
        },
        "yaxis6": {
         "anchor": "x6",
         "domain": [
          0.5625,
          0.71875
         ],
         "title": {
          "text": "Mortgage as a Percentage of Income"
         }
        },
        "yaxis7": {
         "anchor": "x7",
         "domain": [
          0.5625,
          0.71875
         ],
         "title": {
          "text": "Affordability Index"
         }
        },
        "yaxis8": {
         "anchor": "x8",
         "domain": [
          0.5625,
          0.71875
         ],
         "title": {
          "text": "Crime Index"
         }
        },
        "yaxis9": {
         "anchor": "x9",
         "domain": [
          0.28125,
          0.4375
         ],
         "title": {
          "text": "Safety Index"
         }
        }
       }
      },
      "text/html": [
       "<div>                            <div id=\"8a0ad580-a1fa-4751-9032-a0767f246fa1\" class=\"plotly-graph-div\" style=\"height:1500px; width:1500px;\"></div>            <script type=\"text/javascript\">                require([\"plotly\"], function(Plotly) {                    window.PLOTLYENV=window.PLOTLYENV || {};                                    if (document.getElementById(\"8a0ad580-a1fa-4751-9032-a0767f246fa1\")) {                    Plotly.newPlot(                        \"8a0ad580-a1fa-4751-9032-a0767f246fa1\",                        [{\"mode\":\"lines+markers\",\"name\":\"Price to Income Ratio\",\"x\":[\"2009\",\"2010\",\"2011\",\"2012\",\"2013\",\"2014\",\"2014-mid\",\"2015\",\"2015-mid\",\"2016\",\"2016-mid\",\"2017\",\"2017-mid\",\"2018\",\"2018-mid\",\"2019\",\"2019-mid\",\"2020\",\"2020-mid\",\"2021\",\"2021-mid\",\"2022\",\"2022-mid\",\"2023\",\"2023-mid\",\"2024\",\"2024-mid\"],\"y\":[7.9,8.4,10.4,10.7,9.0,7.9,8.1,8.9,25.0,21.6,16.4,12.9,10.3,12.3,11.9,11.7,11.1,10.8,10.2,10.1,8.8,9.9,9.9,10.2,10.0,11.0,13.0],\"type\":\"scatter\",\"xaxis\":\"x\",\"yaxis\":\"y\"},{\"mode\":\"lines+markers\",\"name\":\"Gross Rental Yield City Centre\",\"x\":[\"2009\",\"2010\",\"2011\",\"2012\",\"2013\",\"2014\",\"2014-mid\",\"2015\",\"2015-mid\",\"2016\",\"2016-mid\",\"2017\",\"2017-mid\",\"2018\",\"2018-mid\",\"2019\",\"2019-mid\",\"2020\",\"2020-mid\",\"2021\",\"2021-mid\",\"2022\",\"2022-mid\",\"2023\",\"2023-mid\",\"2024\",\"2024-mid\"],\"y\":[3.8,4.7,5.3,5.7,5.3,6.9,6.2,6.5,3.2,3.6,4.5,5.1,5.6,5.3,5.3,5.0,5.0,4.9,5.0,4.7,4.7,4.6,5.1,5.6,5.5,5.9,5.8],\"type\":\"scatter\",\"xaxis\":\"x2\",\"yaxis\":\"y2\"},{\"mode\":\"lines+markers\",\"name\":\"Gross Rental Yield Outside Centre\",\"x\":[\"2009\",\"2010\",\"2011\",\"2012\",\"2013\",\"2014\",\"2014-mid\",\"2015\",\"2015-mid\",\"2016\",\"2016-mid\",\"2017\",\"2017-mid\",\"2018\",\"2018-mid\",\"2019\",\"2019-mid\",\"2020\",\"2020-mid\",\"2021\",\"2021-mid\",\"2022\",\"2022-mid\",\"2023\",\"2023-mid\",\"2024\",\"2024-mid\"],\"y\":[5.0,4.6,6.0,6.3,9.8,8.7,7.9,7.2,4.1,3.7,4.0,5.0,6.1,5.9,6.4,6.8,6.8,5.7,5.5,5.4,5.6,5.8,5.4,5.4,5.3,4.2,4.9],\"type\":\"scatter\",\"xaxis\":\"x3\",\"yaxis\":\"y3\"},{\"mode\":\"lines+markers\",\"name\":\"Price to Rent Ratio City Centre\",\"x\":[\"2009\",\"2010\",\"2011\",\"2012\",\"2013\",\"2014\",\"2014-mid\",\"2015\",\"2015-mid\",\"2016\",\"2016-mid\",\"2017\",\"2017-mid\",\"2018\",\"2018-mid\",\"2019\",\"2019-mid\",\"2020\",\"2020-mid\",\"2021\",\"2021-mid\",\"2022\",\"2022-mid\",\"2023\",\"2023-mid\",\"2024\",\"2024-mid\"],\"y\":[26.6,21.2,18.7,17.6,18.8,14.5,16.1,15.3,31.4,27.6,22.4,19.5,17.7,19.0,19.0,20.1,20.1,20.4,19.8,21.4,21.5,21.7,19.8,17.7,18.1,17.0,17.1],\"type\":\"scatter\",\"xaxis\":\"x4\",\"yaxis\":\"y4\"},{\"mode\":\"lines+markers\",\"name\":\"Price to Rent Ratio Outside City Centre\",\"x\":[\"2009\",\"2010\",\"2011\",\"2012\",\"2013\",\"2014\",\"2014-mid\",\"2015\",\"2015-mid\",\"2016\",\"2016-mid\",\"2017\",\"2017-mid\",\"2018\",\"2018-mid\",\"2019\",\"2019-mid\",\"2020\",\"2020-mid\",\"2021\",\"2021-mid\",\"2022\",\"2022-mid\",\"2023\",\"2023-mid\",\"2024\",\"2024-mid\"],\"y\":[20.0,21.9,16.7,16.0,10.2,11.5,12.7,13.8,24.3,26.9,25.0,19.9,16.3,16.9,15.6,14.7,14.7,17.4,18.3,18.7,17.8,17.2,18.5,18.5,18.8,23.6,20.4],\"type\":\"scatter\",\"xaxis\":\"x5\",\"yaxis\":\"y5\"},{\"mode\":\"lines+markers\",\"name\":\"Mortgage as a Percentage of Income\",\"x\":[\"2009\",\"2010\",\"2011\",\"2012\",\"2013\",\"2014\",\"2014-mid\",\"2015\",\"2015-mid\",\"2016\",\"2016-mid\",\"2017\",\"2017-mid\",\"2018\",\"2018-mid\",\"2019\",\"2019-mid\",\"2020\",\"2020-mid\",\"2021\",\"2021-mid\",\"2022\",\"2022-mid\",\"2023\",\"2023-mid\",\"2024\",\"2024-mid\"],\"y\":[\"61.4\",\"65.7\",\"82.5\",\"84.7\",\"65.7\",\"57.0\",\"59.0\",\"64.4\",\"182.0\",\"157.0\",\"119.3\",\"93.6\",\"73.9\",\"88.6\",\"87.3\",\"86.2\",\"83.0\",\"79.4\",\"74.8\",\"72.1\",\"61.2\",\"68.1\",\"79.8\",\"84.2\",\"90.0\",\"99.6\",\"118.2\"],\"type\":\"scatter\",\"xaxis\":\"x6\",\"yaxis\":\"y6\"},{\"mode\":\"lines+markers\",\"name\":\"Affordability Index\",\"x\":[\"2009\",\"2010\",\"2011\",\"2012\",\"2013\",\"2014\",\"2014-mid\",\"2015\",\"2015-mid\",\"2016\",\"2016-mid\",\"2017\",\"2017-mid\",\"2018\",\"2018-mid\",\"2019\",\"2019-mid\",\"2020\",\"2020-mid\",\"2021\",\"2021-mid\",\"2022\",\"2022-mid\",\"2023\",\"2023-mid\",\"2024\",\"2024-mid\"],\"y\":[\"1.6\",\"1.5\",\"1.2\",\"1.2\",\"1.5\",\"1.8\",\"1.7\",\"1.6\",\"0.5\",\"0.6\",\"0.8\",\"1.1\",\"1.4\",\"1.1\",\"1.1\",\"1.2\",\"1.2\",\"1.3\",\"1.3\",\"1.4\",\"1.6\",\"1.5\",\"1.3\",\"1.2\",\"1.1\",\"1.0\",\"0.8\"],\"type\":\"scatter\",\"xaxis\":\"x7\",\"yaxis\":\"y7\"},{\"mode\":\"lines+markers\",\"name\":\"Crime Index\",\"x\":[\"2009\",\"2010\",\"2011\",\"2012\",\"2013\",\"2014\",\"2014-mid\",\"2015\",\"2015-mid\",\"2016\",\"2016-mid\",\"2017\",\"2017-mid\",\"2018\",\"2018-mid\",\"2019\",\"2019-mid\",\"2020\",\"2020-mid\",\"2021\",\"2021-mid\",\"2022\",\"2022-mid\",\"2023\",\"2023-mid\",\"2024\",\"2024-mid\"],\"y\":[null,null,null,null,null,45.8,46.5,47.1,50.5,50.9,47.2,47.6,45.2,44.7,44.5,44.2,43.7,44.4,45.7,47.0,47.0,47.1,48.1,49.1,49.5,50.0,50.8],\"type\":\"scatter\",\"xaxis\":\"x8\",\"yaxis\":\"y8\"},{\"mode\":\"lines+markers\",\"name\":\"Safety Index\",\"x\":[\"2009\",\"2010\",\"2011\",\"2012\",\"2013\",\"2014\",\"2014-mid\",\"2015\",\"2015-mid\",\"2016\",\"2016-mid\",\"2017\",\"2017-mid\",\"2018\",\"2018-mid\",\"2019\",\"2019-mid\",\"2020\",\"2020-mid\",\"2021\",\"2021-mid\",\"2022\",\"2022-mid\",\"2023\",\"2023-mid\",\"2024\",\"2024-mid\"],\"y\":[null,null,null,null,null,54.2,53.5,52.9,49.5,49.1,52.8,52.4,54.8,55.3,55.5,55.8,56.3,55.6,54.3,53.0,53.0,52.9,51.9,50.9,50.5,50.0,49.2],\"type\":\"scatter\",\"xaxis\":\"x9\",\"yaxis\":\"y9\"},{\"mode\":\"lines+markers\",\"name\":\"Cost of Living Index\",\"x\":[\"2009\",\"2010\",\"2011\",\"2012\",\"2013\",\"2014\",\"2014-mid\",\"2015\",\"2015-mid\",\"2016\",\"2016-mid\",\"2017\",\"2017-mid\",\"2018\",\"2018-mid\",\"2019\",\"2019-mid\",\"2020\",\"2020-mid\",\"2021\",\"2021-mid\",\"2022\",\"2022-mid\",\"2023\",\"2023-mid\",\"2024\",\"2024-mid\"],\"y\":[null,null,null,null,null,null,null,null,null,null,null,null,null,null,null,null,null,null,null,null,null,null,null,null,null,100.0,null],\"type\":\"scatter\",\"xaxis\":\"x10\",\"yaxis\":\"y10\"},{\"mode\":\"lines+markers\",\"name\":\"Rent Index\",\"x\":[\"2009\",\"2010\",\"2011\",\"2012\",\"2013\",\"2014\",\"2014-mid\",\"2015\",\"2015-mid\",\"2016\",\"2016-mid\",\"2017\",\"2017-mid\",\"2018\",\"2018-mid\",\"2019\",\"2019-mid\",\"2020\",\"2020-mid\",\"2021\",\"2021-mid\",\"2022\",\"2022-mid\",\"2023\",\"2023-mid\",\"2024\",\"2024-mid\"],\"y\":[null,null,null,null,null,null,null,null,null,null,null,null,null,null,null,null,null,null,null,null,null,null,null,null,null,100.0,null],\"type\":\"scatter\",\"xaxis\":\"x11\",\"yaxis\":\"y11\"},{\"mode\":\"lines+markers\",\"name\":\"Cost of Living Plus Rent Index\",\"x\":[\"2009\",\"2010\",\"2011\",\"2012\",\"2013\",\"2014\",\"2014-mid\",\"2015\",\"2015-mid\",\"2016\",\"2016-mid\",\"2017\",\"2017-mid\",\"2018\",\"2018-mid\",\"2019\",\"2019-mid\",\"2020\",\"2020-mid\",\"2021\",\"2021-mid\",\"2022\",\"2022-mid\",\"2023\",\"2023-mid\",\"2024\",\"2024-mid\"],\"y\":[null,null,null,null,null,null,null,null,null,null,null,null,null,null,null,null,null,null,null,null,null,null,null,null,null,100.0,null],\"type\":\"scatter\",\"xaxis\":\"x12\",\"yaxis\":\"y12\"},{\"mode\":\"lines+markers\",\"name\":\"Groceries Index\",\"x\":[\"2009\",\"2010\",\"2011\",\"2012\",\"2013\",\"2014\",\"2014-mid\",\"2015\",\"2015-mid\",\"2016\",\"2016-mid\",\"2017\",\"2017-mid\",\"2018\",\"2018-mid\",\"2019\",\"2019-mid\",\"2020\",\"2020-mid\",\"2021\",\"2021-mid\",\"2022\",\"2022-mid\",\"2023\",\"2023-mid\",\"2024\",\"2024-mid\"],\"y\":[null,null,null,null,null,null,null,null,null,null,null,null,null,null,null,null,null,null,null,null,null,null,null,null,null,100.0,null],\"type\":\"scatter\",\"xaxis\":\"x13\",\"yaxis\":\"y13\"},{\"mode\":\"lines+markers\",\"name\":\"Restaurant Index\",\"x\":[\"2009\",\"2010\",\"2011\",\"2012\",\"2013\",\"2014\",\"2014-mid\",\"2015\",\"2015-mid\",\"2016\",\"2016-mid\",\"2017\",\"2017-mid\",\"2018\",\"2018-mid\",\"2019\",\"2019-mid\",\"2020\",\"2020-mid\",\"2021\",\"2021-mid\",\"2022\",\"2022-mid\",\"2023\",\"2023-mid\",\"2024\",\"2024-mid\"],\"y\":[null,null,null,null,null,null,null,null,null,null,null,null,null,null,null,null,null,null,null,null,null,null,null,null,null,100.0,null],\"type\":\"scatter\",\"xaxis\":\"x14\",\"yaxis\":\"y14\"},{\"mode\":\"lines+markers\",\"name\":\"Local Purchasing Power Index\",\"x\":[\"2009\",\"2010\",\"2011\",\"2012\",\"2013\",\"2014\",\"2014-mid\",\"2015\",\"2015-mid\",\"2016\",\"2016-mid\",\"2017\",\"2017-mid\",\"2018\",\"2018-mid\",\"2019\",\"2019-mid\",\"2020\",\"2020-mid\",\"2021\",\"2021-mid\",\"2022\",\"2022-mid\",\"2023\",\"2023-mid\",\"2024\",\"2024-mid\"],\"y\":[null,null,null,null,null,null,null,null,null,null,null,null,null,null,null,null,null,null,null,null,null,null,null,null,null,100.0,null],\"type\":\"scatter\",\"xaxis\":\"x15\",\"yaxis\":\"y15\"}],                        {\"template\":{\"data\":{\"histogram2dcontour\":[{\"type\":\"histogram2dcontour\",\"colorbar\":{\"outlinewidth\":0,\"ticks\":\"\"},\"colorscale\":[[0.0,\"#0d0887\"],[0.1111111111111111,\"#46039f\"],[0.2222222222222222,\"#7201a8\"],[0.3333333333333333,\"#9c179e\"],[0.4444444444444444,\"#bd3786\"],[0.5555555555555556,\"#d8576b\"],[0.6666666666666666,\"#ed7953\"],[0.7777777777777778,\"#fb9f3a\"],[0.8888888888888888,\"#fdca26\"],[1.0,\"#f0f921\"]]}],\"choropleth\":[{\"type\":\"choropleth\",\"colorbar\":{\"outlinewidth\":0,\"ticks\":\"\"}}],\"histogram2d\":[{\"type\":\"histogram2d\",\"colorbar\":{\"outlinewidth\":0,\"ticks\":\"\"},\"colorscale\":[[0.0,\"#0d0887\"],[0.1111111111111111,\"#46039f\"],[0.2222222222222222,\"#7201a8\"],[0.3333333333333333,\"#9c179e\"],[0.4444444444444444,\"#bd3786\"],[0.5555555555555556,\"#d8576b\"],[0.6666666666666666,\"#ed7953\"],[0.7777777777777778,\"#fb9f3a\"],[0.8888888888888888,\"#fdca26\"],[1.0,\"#f0f921\"]]}],\"heatmap\":[{\"type\":\"heatmap\",\"colorbar\":{\"outlinewidth\":0,\"ticks\":\"\"},\"colorscale\":[[0.0,\"#0d0887\"],[0.1111111111111111,\"#46039f\"],[0.2222222222222222,\"#7201a8\"],[0.3333333333333333,\"#9c179e\"],[0.4444444444444444,\"#bd3786\"],[0.5555555555555556,\"#d8576b\"],[0.6666666666666666,\"#ed7953\"],[0.7777777777777778,\"#fb9f3a\"],[0.8888888888888888,\"#fdca26\"],[1.0,\"#f0f921\"]]}],\"heatmapgl\":[{\"type\":\"heatmapgl\",\"colorbar\":{\"outlinewidth\":0,\"ticks\":\"\"},\"colorscale\":[[0.0,\"#0d0887\"],[0.1111111111111111,\"#46039f\"],[0.2222222222222222,\"#7201a8\"],[0.3333333333333333,\"#9c179e\"],[0.4444444444444444,\"#bd3786\"],[0.5555555555555556,\"#d8576b\"],[0.6666666666666666,\"#ed7953\"],[0.7777777777777778,\"#fb9f3a\"],[0.8888888888888888,\"#fdca26\"],[1.0,\"#f0f921\"]]}],\"contourcarpet\":[{\"type\":\"contourcarpet\",\"colorbar\":{\"outlinewidth\":0,\"ticks\":\"\"}}],\"contour\":[{\"type\":\"contour\",\"colorbar\":{\"outlinewidth\":0,\"ticks\":\"\"},\"colorscale\":[[0.0,\"#0d0887\"],[0.1111111111111111,\"#46039f\"],[0.2222222222222222,\"#7201a8\"],[0.3333333333333333,\"#9c179e\"],[0.4444444444444444,\"#bd3786\"],[0.5555555555555556,\"#d8576b\"],[0.6666666666666666,\"#ed7953\"],[0.7777777777777778,\"#fb9f3a\"],[0.8888888888888888,\"#fdca26\"],[1.0,\"#f0f921\"]]}],\"surface\":[{\"type\":\"surface\",\"colorbar\":{\"outlinewidth\":0,\"ticks\":\"\"},\"colorscale\":[[0.0,\"#0d0887\"],[0.1111111111111111,\"#46039f\"],[0.2222222222222222,\"#7201a8\"],[0.3333333333333333,\"#9c179e\"],[0.4444444444444444,\"#bd3786\"],[0.5555555555555556,\"#d8576b\"],[0.6666666666666666,\"#ed7953\"],[0.7777777777777778,\"#fb9f3a\"],[0.8888888888888888,\"#fdca26\"],[1.0,\"#f0f921\"]]}],\"mesh3d\":[{\"type\":\"mesh3d\",\"colorbar\":{\"outlinewidth\":0,\"ticks\":\"\"}}],\"scatter\":[{\"fillpattern\":{\"fillmode\":\"overlay\",\"size\":10,\"solidity\":0.2},\"type\":\"scatter\"}],\"parcoords\":[{\"type\":\"parcoords\",\"line\":{\"colorbar\":{\"outlinewidth\":0,\"ticks\":\"\"}}}],\"scatterpolargl\":[{\"type\":\"scatterpolargl\",\"marker\":{\"colorbar\":{\"outlinewidth\":0,\"ticks\":\"\"}}}],\"bar\":[{\"error_x\":{\"color\":\"#2a3f5f\"},\"error_y\":{\"color\":\"#2a3f5f\"},\"marker\":{\"line\":{\"color\":\"#E5ECF6\",\"width\":0.5},\"pattern\":{\"fillmode\":\"overlay\",\"size\":10,\"solidity\":0.2}},\"type\":\"bar\"}],\"scattergeo\":[{\"type\":\"scattergeo\",\"marker\":{\"colorbar\":{\"outlinewidth\":0,\"ticks\":\"\"}}}],\"scatterpolar\":[{\"type\":\"scatterpolar\",\"marker\":{\"colorbar\":{\"outlinewidth\":0,\"ticks\":\"\"}}}],\"histogram\":[{\"marker\":{\"pattern\":{\"fillmode\":\"overlay\",\"size\":10,\"solidity\":0.2}},\"type\":\"histogram\"}],\"scattergl\":[{\"type\":\"scattergl\",\"marker\":{\"colorbar\":{\"outlinewidth\":0,\"ticks\":\"\"}}}],\"scatter3d\":[{\"type\":\"scatter3d\",\"line\":{\"colorbar\":{\"outlinewidth\":0,\"ticks\":\"\"}},\"marker\":{\"colorbar\":{\"outlinewidth\":0,\"ticks\":\"\"}}}],\"scattermapbox\":[{\"type\":\"scattermapbox\",\"marker\":{\"colorbar\":{\"outlinewidth\":0,\"ticks\":\"\"}}}],\"scatterternary\":[{\"type\":\"scatterternary\",\"marker\":{\"colorbar\":{\"outlinewidth\":0,\"ticks\":\"\"}}}],\"scattercarpet\":[{\"type\":\"scattercarpet\",\"marker\":{\"colorbar\":{\"outlinewidth\":0,\"ticks\":\"\"}}}],\"carpet\":[{\"aaxis\":{\"endlinecolor\":\"#2a3f5f\",\"gridcolor\":\"white\",\"linecolor\":\"white\",\"minorgridcolor\":\"white\",\"startlinecolor\":\"#2a3f5f\"},\"baxis\":{\"endlinecolor\":\"#2a3f5f\",\"gridcolor\":\"white\",\"linecolor\":\"white\",\"minorgridcolor\":\"white\",\"startlinecolor\":\"#2a3f5f\"},\"type\":\"carpet\"}],\"table\":[{\"cells\":{\"fill\":{\"color\":\"#EBF0F8\"},\"line\":{\"color\":\"white\"}},\"header\":{\"fill\":{\"color\":\"#C8D4E3\"},\"line\":{\"color\":\"white\"}},\"type\":\"table\"}],\"barpolar\":[{\"marker\":{\"line\":{\"color\":\"#E5ECF6\",\"width\":0.5},\"pattern\":{\"fillmode\":\"overlay\",\"size\":10,\"solidity\":0.2}},\"type\":\"barpolar\"}],\"pie\":[{\"automargin\":true,\"type\":\"pie\"}]},\"layout\":{\"autotypenumbers\":\"strict\",\"colorway\":[\"#636efa\",\"#EF553B\",\"#00cc96\",\"#ab63fa\",\"#FFA15A\",\"#19d3f3\",\"#FF6692\",\"#B6E880\",\"#FF97FF\",\"#FECB52\"],\"font\":{\"color\":\"#2a3f5f\"},\"hovermode\":\"closest\",\"hoverlabel\":{\"align\":\"left\"},\"paper_bgcolor\":\"white\",\"plot_bgcolor\":\"#E5ECF6\",\"polar\":{\"bgcolor\":\"#E5ECF6\",\"angularaxis\":{\"gridcolor\":\"white\",\"linecolor\":\"white\",\"ticks\":\"\"},\"radialaxis\":{\"gridcolor\":\"white\",\"linecolor\":\"white\",\"ticks\":\"\"}},\"ternary\":{\"bgcolor\":\"#E5ECF6\",\"aaxis\":{\"gridcolor\":\"white\",\"linecolor\":\"white\",\"ticks\":\"\"},\"baxis\":{\"gridcolor\":\"white\",\"linecolor\":\"white\",\"ticks\":\"\"},\"caxis\":{\"gridcolor\":\"white\",\"linecolor\":\"white\",\"ticks\":\"\"}},\"coloraxis\":{\"colorbar\":{\"outlinewidth\":0,\"ticks\":\"\"}},\"colorscale\":{\"sequential\":[[0.0,\"#0d0887\"],[0.1111111111111111,\"#46039f\"],[0.2222222222222222,\"#7201a8\"],[0.3333333333333333,\"#9c179e\"],[0.4444444444444444,\"#bd3786\"],[0.5555555555555556,\"#d8576b\"],[0.6666666666666666,\"#ed7953\"],[0.7777777777777778,\"#fb9f3a\"],[0.8888888888888888,\"#fdca26\"],[1.0,\"#f0f921\"]],\"sequentialminus\":[[0.0,\"#0d0887\"],[0.1111111111111111,\"#46039f\"],[0.2222222222222222,\"#7201a8\"],[0.3333333333333333,\"#9c179e\"],[0.4444444444444444,\"#bd3786\"],[0.5555555555555556,\"#d8576b\"],[0.6666666666666666,\"#ed7953\"],[0.7777777777777778,\"#fb9f3a\"],[0.8888888888888888,\"#fdca26\"],[1.0,\"#f0f921\"]],\"diverging\":[[0,\"#8e0152\"],[0.1,\"#c51b7d\"],[0.2,\"#de77ae\"],[0.3,\"#f1b6da\"],[0.4,\"#fde0ef\"],[0.5,\"#f7f7f7\"],[0.6,\"#e6f5d0\"],[0.7,\"#b8e186\"],[0.8,\"#7fbc41\"],[0.9,\"#4d9221\"],[1,\"#276419\"]]},\"xaxis\":{\"gridcolor\":\"white\",\"linecolor\":\"white\",\"ticks\":\"\",\"title\":{\"standoff\":15},\"zerolinecolor\":\"white\",\"automargin\":true,\"zerolinewidth\":2},\"yaxis\":{\"gridcolor\":\"white\",\"linecolor\":\"white\",\"ticks\":\"\",\"title\":{\"standoff\":15},\"zerolinecolor\":\"white\",\"automargin\":true,\"zerolinewidth\":2},\"scene\":{\"xaxis\":{\"backgroundcolor\":\"#E5ECF6\",\"gridcolor\":\"white\",\"linecolor\":\"white\",\"showbackground\":true,\"ticks\":\"\",\"zerolinecolor\":\"white\",\"gridwidth\":2},\"yaxis\":{\"backgroundcolor\":\"#E5ECF6\",\"gridcolor\":\"white\",\"linecolor\":\"white\",\"showbackground\":true,\"ticks\":\"\",\"zerolinecolor\":\"white\",\"gridwidth\":2},\"zaxis\":{\"backgroundcolor\":\"#E5ECF6\",\"gridcolor\":\"white\",\"linecolor\":\"white\",\"showbackground\":true,\"ticks\":\"\",\"zerolinecolor\":\"white\",\"gridwidth\":2}},\"shapedefaults\":{\"line\":{\"color\":\"#2a3f5f\"}},\"annotationdefaults\":{\"arrowcolor\":\"#2a3f5f\",\"arrowhead\":0,\"arrowwidth\":1},\"geo\":{\"bgcolor\":\"white\",\"landcolor\":\"#E5ECF6\",\"subunitcolor\":\"white\",\"showland\":true,\"showlakes\":true,\"lakecolor\":\"white\"},\"title\":{\"x\":0.05},\"mapbox\":{\"style\":\"light\"}}},\"xaxis\":{\"anchor\":\"y\",\"domain\":[0.0,0.2125],\"title\":{\"text\":\"Year\"}},\"yaxis\":{\"anchor\":\"x\",\"domain\":[0.84375,1.0],\"title\":{\"text\":\"Price to Income Ratio\"}},\"xaxis2\":{\"anchor\":\"y2\",\"domain\":[0.2625,0.475],\"title\":{\"text\":\"Year\"}},\"yaxis2\":{\"anchor\":\"x2\",\"domain\":[0.84375,1.0],\"title\":{\"text\":\"Gross Rental Yield City Centre\"}},\"xaxis3\":{\"anchor\":\"y3\",\"domain\":[0.525,0.7375],\"title\":{\"text\":\"Year\"}},\"yaxis3\":{\"anchor\":\"x3\",\"domain\":[0.84375,1.0],\"title\":{\"text\":\"Gross Rental Yield Outside Centre\"}},\"xaxis4\":{\"anchor\":\"y4\",\"domain\":[0.7875,1.0],\"title\":{\"text\":\"Year\"}},\"yaxis4\":{\"anchor\":\"x4\",\"domain\":[0.84375,1.0],\"title\":{\"text\":\"Price to Rent Ratio City Centre\"}},\"xaxis5\":{\"anchor\":\"y5\",\"domain\":[0.0,0.2125],\"title\":{\"text\":\"Year\"}},\"yaxis5\":{\"anchor\":\"x5\",\"domain\":[0.5625,0.71875],\"title\":{\"text\":\"Price to Rent Ratio Outside City Centre\"}},\"xaxis6\":{\"anchor\":\"y6\",\"domain\":[0.2625,0.475],\"title\":{\"text\":\"Year\"}},\"yaxis6\":{\"anchor\":\"x6\",\"domain\":[0.5625,0.71875],\"title\":{\"text\":\"Mortgage as a Percentage of Income\"}},\"xaxis7\":{\"anchor\":\"y7\",\"domain\":[0.525,0.7375],\"title\":{\"text\":\"Year\"}},\"yaxis7\":{\"anchor\":\"x7\",\"domain\":[0.5625,0.71875],\"title\":{\"text\":\"Affordability Index\"}},\"xaxis8\":{\"anchor\":\"y8\",\"domain\":[0.7875,1.0],\"title\":{\"text\":\"Year\"}},\"yaxis8\":{\"anchor\":\"x8\",\"domain\":[0.5625,0.71875],\"title\":{\"text\":\"Crime Index\"}},\"xaxis9\":{\"anchor\":\"y9\",\"domain\":[0.0,0.2125],\"title\":{\"text\":\"Year\"}},\"yaxis9\":{\"anchor\":\"x9\",\"domain\":[0.28125,0.4375],\"title\":{\"text\":\"Safety Index\"}},\"xaxis10\":{\"anchor\":\"y10\",\"domain\":[0.2625,0.475],\"title\":{\"text\":\"Year\"}},\"yaxis10\":{\"anchor\":\"x10\",\"domain\":[0.28125,0.4375],\"title\":{\"text\":\"Cost of Living Index\"}},\"xaxis11\":{\"anchor\":\"y11\",\"domain\":[0.525,0.7375],\"title\":{\"text\":\"Year\"}},\"yaxis11\":{\"anchor\":\"x11\",\"domain\":[0.28125,0.4375],\"title\":{\"text\":\"Rent Index\"}},\"xaxis12\":{\"anchor\":\"y12\",\"domain\":[0.7875,1.0],\"title\":{\"text\":\"Year\"}},\"yaxis12\":{\"anchor\":\"x12\",\"domain\":[0.28125,0.4375],\"title\":{\"text\":\"Cost of Living Plus Rent Index\"}},\"xaxis13\":{\"anchor\":\"y13\",\"domain\":[0.0,0.2125],\"title\":{\"text\":\"Year\"}},\"yaxis13\":{\"anchor\":\"x13\",\"domain\":[0.0,0.15625],\"title\":{\"text\":\"Groceries Index\"}},\"xaxis14\":{\"anchor\":\"y14\",\"domain\":[0.2625,0.475],\"title\":{\"text\":\"Year\"}},\"yaxis14\":{\"anchor\":\"x14\",\"domain\":[0.0,0.15625],\"title\":{\"text\":\"Restaurant Index\"}},\"xaxis15\":{\"anchor\":\"y15\",\"domain\":[0.525,0.7375],\"title\":{\"text\":\"Year\"}},\"yaxis15\":{\"anchor\":\"x15\",\"domain\":[0.0,0.15625],\"title\":{\"text\":\"Local Purchasing Power Index\"}},\"xaxis16\":{\"anchor\":\"y16\",\"domain\":[0.7875,1.0]},\"yaxis16\":{\"anchor\":\"x16\",\"domain\":[0.0,0.15625]},\"annotations\":[{\"font\":{\"size\":16},\"showarrow\":false,\"text\":\"Price to Income Ratio\",\"x\":0.10625,\"xanchor\":\"center\",\"xref\":\"paper\",\"y\":1.0,\"yanchor\":\"bottom\",\"yref\":\"paper\"},{\"font\":{\"size\":16},\"showarrow\":false,\"text\":\"Gross Rental Yield City Centre\",\"x\":0.36875,\"xanchor\":\"center\",\"xref\":\"paper\",\"y\":1.0,\"yanchor\":\"bottom\",\"yref\":\"paper\"},{\"font\":{\"size\":16},\"showarrow\":false,\"text\":\"Gross Rental Yield Outside Centre\",\"x\":0.6312500000000001,\"xanchor\":\"center\",\"xref\":\"paper\",\"y\":1.0,\"yanchor\":\"bottom\",\"yref\":\"paper\"},{\"font\":{\"size\":16},\"showarrow\":false,\"text\":\"Price to Rent Ratio City Centre\",\"x\":0.89375,\"xanchor\":\"center\",\"xref\":\"paper\",\"y\":1.0,\"yanchor\":\"bottom\",\"yref\":\"paper\"},{\"font\":{\"size\":16},\"showarrow\":false,\"text\":\"Price to Rent Ratio Outside City Centre\",\"x\":0.10625,\"xanchor\":\"center\",\"xref\":\"paper\",\"y\":0.71875,\"yanchor\":\"bottom\",\"yref\":\"paper\"},{\"font\":{\"size\":16},\"showarrow\":false,\"text\":\"Mortgage as a Percentage of Income\",\"x\":0.36875,\"xanchor\":\"center\",\"xref\":\"paper\",\"y\":0.71875,\"yanchor\":\"bottom\",\"yref\":\"paper\"},{\"font\":{\"size\":16},\"showarrow\":false,\"text\":\"Affordability Index\",\"x\":0.6312500000000001,\"xanchor\":\"center\",\"xref\":\"paper\",\"y\":0.71875,\"yanchor\":\"bottom\",\"yref\":\"paper\"},{\"font\":{\"size\":16},\"showarrow\":false,\"text\":\"Crime Index\",\"x\":0.89375,\"xanchor\":\"center\",\"xref\":\"paper\",\"y\":0.71875,\"yanchor\":\"bottom\",\"yref\":\"paper\"},{\"font\":{\"size\":16},\"showarrow\":false,\"text\":\"Safety Index\",\"x\":0.10625,\"xanchor\":\"center\",\"xref\":\"paper\",\"y\":0.4375,\"yanchor\":\"bottom\",\"yref\":\"paper\"},{\"font\":{\"size\":16},\"showarrow\":false,\"text\":\"Cost of Living Index\",\"x\":0.36875,\"xanchor\":\"center\",\"xref\":\"paper\",\"y\":0.4375,\"yanchor\":\"bottom\",\"yref\":\"paper\"},{\"font\":{\"size\":16},\"showarrow\":false,\"text\":\"Rent Index\",\"x\":0.6312500000000001,\"xanchor\":\"center\",\"xref\":\"paper\",\"y\":0.4375,\"yanchor\":\"bottom\",\"yref\":\"paper\"},{\"font\":{\"size\":16},\"showarrow\":false,\"text\":\"Cost of Living Plus Rent Index\",\"x\":0.89375,\"xanchor\":\"center\",\"xref\":\"paper\",\"y\":0.4375,\"yanchor\":\"bottom\",\"yref\":\"paper\"},{\"font\":{\"size\":16},\"showarrow\":false,\"text\":\"Groceries Index\",\"x\":0.10625,\"xanchor\":\"center\",\"xref\":\"paper\",\"y\":0.15625,\"yanchor\":\"bottom\",\"yref\":\"paper\"},{\"font\":{\"size\":16},\"showarrow\":false,\"text\":\"Restaurant Index\",\"x\":0.36875,\"xanchor\":\"center\",\"xref\":\"paper\",\"y\":0.15625,\"yanchor\":\"bottom\",\"yref\":\"paper\"},{\"font\":{\"size\":16},\"showarrow\":false,\"text\":\"Local Purchasing Power Index\",\"x\":0.6312500000000001,\"xanchor\":\"center\",\"xref\":\"paper\",\"y\":0.15625,\"yanchor\":\"bottom\",\"yref\":\"paper\"}],\"title\":{\"text\":\"New York, NY, United States\"},\"height\":1500,\"width\":1500},                        {\"responsive\": true}                    ).then(function(){\n",
       "                            \n",
       "var gd = document.getElementById('8a0ad580-a1fa-4751-9032-a0767f246fa1');\n",
       "var x = new MutationObserver(function (mutations, observer) {{\n",
       "        var display = window.getComputedStyle(gd).display;\n",
       "        if (!display || display === 'none') {{\n",
       "            console.log([gd, 'removed!']);\n",
       "            Plotly.purge(gd);\n",
       "            observer.disconnect();\n",
       "        }}\n",
       "}});\n",
       "\n",
       "// Listen for the removal of the full notebook cells\n",
       "var notebookContainer = gd.closest('#notebook-container');\n",
       "if (notebookContainer) {{\n",
       "    x.observe(notebookContainer, {childList: true});\n",
       "}}\n",
       "\n",
       "// Listen for the clearing of the current output cell\n",
       "var outputEl = gd.closest('.output');\n",
       "if (outputEl) {{\n",
       "    x.observe(outputEl, {childList: true});\n",
       "}}\n",
       "\n",
       "                        })                };                });            </script>        </div>"
      ]
     },
     "metadata": {},
     "output_type": "display_data"
    },
    {
     "data": {
      "application/vnd.plotly.v1+json": {
       "config": {
        "plotlyServerURL": "https://plot.ly"
       },
       "data": [
        {
         "mode": "lines+markers",
         "name": "Price to Income Ratio",
         "type": "scatter",
         "x": [
          "2011",
          "2012",
          "2013",
          "2014",
          "2014-mid",
          "2015",
          "2015-mid",
          "2016",
          "2016-mid",
          "2017",
          "2017-mid",
          "2018",
          "2018-mid",
          "2019",
          "2019-mid",
          "2020",
          "2020-mid",
          "2021",
          "2021-mid",
          "2022",
          "2022-mid",
          "2023",
          "2023-mid",
          "2024",
          "2024-mid"
         ],
         "xaxis": "x",
         "y": [
          9.1,
          9.8,
          10.7,
          9.9,
          9.4,
          9.6,
          10.5,
          11.3,
          11.8,
          13.1,
          14.3,
          16,
          16.9,
          16.2,
          15.3,
          14.3,
          13.3,
          11.4,
          11.6,
          11.9,
          12.2,
          12.9,
          14.4,
          16.5,
          13.7
         ],
         "yaxis": "y"
        },
        {
         "mode": "lines+markers",
         "name": "Gross Rental Yield City Centre",
         "type": "scatter",
         "x": [
          "2011",
          "2012",
          "2013",
          "2014",
          "2014-mid",
          "2015",
          "2015-mid",
          "2016",
          "2016-mid",
          "2017",
          "2017-mid",
          "2018",
          "2018-mid",
          "2019",
          "2019-mid",
          "2020",
          "2020-mid",
          "2021",
          "2021-mid",
          "2022",
          "2022-mid",
          "2023",
          "2023-mid",
          "2024",
          "2024-mid"
         ],
         "xaxis": "x2",
         "y": [
          5.2,
          4.3,
          4.2,
          4.3,
          4.3,
          4.5,
          4.6,
          4.3,
          4.3,
          4,
          3.9,
          3.5,
          3.5,
          3.7,
          3.6,
          3.6,
          3.5,
          3.8,
          3.9,
          4,
          3.8,
          4,
          4,
          3.7,
          4.1
         ],
         "yaxis": "y2"
        },
        {
         "mode": "lines+markers",
         "name": "Gross Rental Yield Outside Centre",
         "type": "scatter",
         "x": [
          "2011",
          "2012",
          "2013",
          "2014",
          "2014-mid",
          "2015",
          "2015-mid",
          "2016",
          "2016-mid",
          "2017",
          "2017-mid",
          "2018",
          "2018-mid",
          "2019",
          "2019-mid",
          "2020",
          "2020-mid",
          "2021",
          "2021-mid",
          "2022",
          "2022-mid",
          "2023",
          "2023-mid",
          "2024",
          "2024-mid"
         ],
         "xaxis": "x3",
         "y": [
          5.7,
          4.4,
          4.3,
          4.3,
          4.3,
          4.6,
          4.6,
          4.3,
          4.7,
          4.6,
          4.2,
          3.7,
          3.5,
          3.5,
          3.7,
          3.7,
          3.8,
          3.8,
          3.9,
          4.1,
          3.9,
          3.9,
          4.2,
          4.6,
          5
         ],
         "yaxis": "y3"
        },
        {
         "mode": "lines+markers",
         "name": "Price to Rent Ratio City Centre",
         "type": "scatter",
         "x": [
          "2011",
          "2012",
          "2013",
          "2014",
          "2014-mid",
          "2015",
          "2015-mid",
          "2016",
          "2016-mid",
          "2017",
          "2017-mid",
          "2018",
          "2018-mid",
          "2019",
          "2019-mid",
          "2020",
          "2020-mid",
          "2021",
          "2021-mid",
          "2022",
          "2022-mid",
          "2023",
          "2023-mid",
          "2024",
          "2024-mid"
         ],
         "xaxis": "x4",
         "y": [
          19.1,
          23.3,
          23.9,
          23.5,
          23.4,
          22.1,
          21.6,
          23.1,
          23.4,
          24.9,
          25.4,
          28.7,
          28.9,
          27.4,
          27.7,
          27.7,
          28.2,
          26.4,
          25.9,
          24.7,
          26.3,
          25.3,
          25,
          27.1,
          24.4
         ],
         "yaxis": "y4"
        },
        {
         "mode": "lines+markers",
         "name": "Price to Rent Ratio Outside City Centre",
         "type": "scatter",
         "x": [
          "2011",
          "2012",
          "2013",
          "2014",
          "2014-mid",
          "2015",
          "2015-mid",
          "2016",
          "2016-mid",
          "2017",
          "2017-mid",
          "2018",
          "2018-mid",
          "2019",
          "2019-mid",
          "2020",
          "2020-mid",
          "2021",
          "2021-mid",
          "2022",
          "2022-mid",
          "2023",
          "2023-mid",
          "2024",
          "2024-mid"
         ],
         "xaxis": "x5",
         "y": [
          17.6,
          22.5,
          23.2,
          23.4,
          23.2,
          21.8,
          21.6,
          23.1,
          21.4,
          21.5,
          24,
          26.9,
          28.7,
          28.7,
          26.7,
          27,
          26.5,
          26.2,
          25.9,
          24.5,
          25.8,
          25.5,
          23.6,
          21.8,
          20.2
         ],
         "yaxis": "y5"
        },
        {
         "mode": "lines+markers",
         "name": "Mortgage as a Percentage of Income",
         "type": "scatter",
         "x": [
          "2011",
          "2012",
          "2013",
          "2014",
          "2014-mid",
          "2015",
          "2015-mid",
          "2016",
          "2016-mid",
          "2017",
          "2017-mid",
          "2018",
          "2018-mid",
          "2019",
          "2019-mid",
          "2020",
          "2020-mid",
          "2021",
          "2021-mid",
          "2022",
          "2022-mid",
          "2023",
          "2023-mid",
          "2024",
          "2024-mid"
         ],
         "xaxis": "x6",
         "y": [
          "71.1",
          "74.3",
          "78.1",
          "69.4",
          "64.9",
          "66.2",
          "71.6",
          "75.1",
          "77.8",
          "85.7",
          "92.1",
          "105.9",
          "116.5",
          "114.9",
          "108.2",
          "102.3",
          "93.8",
          "75.3",
          "73.6",
          "74.1",
          "89.5",
          "97.9",
          "126.8",
          "146.6",
          "123.3"
         ],
         "yaxis": "y6"
        },
        {
         "mode": "lines+markers",
         "name": "Affordability Index",
         "type": "scatter",
         "x": [
          "2011",
          "2012",
          "2013",
          "2014",
          "2014-mid",
          "2015",
          "2015-mid",
          "2016",
          "2016-mid",
          "2017",
          "2017-mid",
          "2018",
          "2018-mid",
          "2019",
          "2019-mid",
          "2020",
          "2020-mid",
          "2021",
          "2021-mid",
          "2022",
          "2022-mid",
          "2023",
          "2023-mid",
          "2024",
          "2024-mid"
         ],
         "xaxis": "x7",
         "y": [
          "1.4",
          "1.3",
          "1.3",
          "1.4",
          "1.5",
          "1.5",
          "1.4",
          "1.3",
          "1.3",
          "1.2",
          "1.1",
          "0.9",
          "0.9",
          "0.9",
          "0.9",
          "1.0",
          "1.1",
          "1.3",
          "1.4",
          "1.3",
          "1.1",
          "1.0",
          "0.8",
          "0.7",
          "0.8"
         ],
         "yaxis": "y7"
        },
        {
         "mode": "lines+markers",
         "name": "Crime Index",
         "type": "scatter",
         "x": [
          "2011",
          "2012",
          "2013",
          "2014",
          "2014-mid",
          "2015",
          "2015-mid",
          "2016",
          "2016-mid",
          "2017",
          "2017-mid",
          "2018",
          "2018-mid",
          "2019",
          "2019-mid",
          "2020",
          "2020-mid",
          "2021",
          "2021-mid",
          "2022",
          "2022-mid",
          "2023",
          "2023-mid",
          "2024",
          "2024-mid"
         ],
         "xaxis": "x8",
         "y": [
          null,
          null,
          null,
          35.3,
          37.1,
          36.6,
          40.3,
          38.9,
          36.5,
          35.8,
          35,
          36,
          36.4,
          36.3,
          35.6,
          36.3,
          36.7,
          36.5,
          37,
          37.2,
          38.3,
          39.6,
          40.9,
          42,
          42.3
         ],
         "yaxis": "y8"
        },
        {
         "mode": "lines+markers",
         "name": "Safety Index",
         "type": "scatter",
         "x": [
          "2011",
          "2012",
          "2013",
          "2014",
          "2014-mid",
          "2015",
          "2015-mid",
          "2016",
          "2016-mid",
          "2017",
          "2017-mid",
          "2018",
          "2018-mid",
          "2019",
          "2019-mid",
          "2020",
          "2020-mid",
          "2021",
          "2021-mid",
          "2022",
          "2022-mid",
          "2023",
          "2023-mid",
          "2024",
          "2024-mid"
         ],
         "xaxis": "x9",
         "y": [
          null,
          null,
          null,
          64.7,
          62.9,
          63.4,
          59.7,
          61.1,
          63.5,
          64.2,
          65,
          64,
          63.6,
          63.7,
          64.4,
          63.7,
          63.3,
          63.5,
          63,
          62.8,
          61.7,
          60.4,
          59.1,
          58,
          57.7
         ],
         "yaxis": "y9"
        },
        {
         "mode": "lines+markers",
         "name": "Cost of Living Index",
         "type": "scatter",
         "x": [
          "2011",
          "2012",
          "2013",
          "2014",
          "2014-mid",
          "2015",
          "2015-mid",
          "2016",
          "2016-mid",
          "2017",
          "2017-mid",
          "2018",
          "2018-mid",
          "2019",
          "2019-mid",
          "2020",
          "2020-mid",
          "2021",
          "2021-mid",
          "2022",
          "2022-mid",
          "2023",
          "2023-mid",
          "2024",
          "2024-mid"
         ],
         "xaxis": "x10",
         "y": [
          null,
          null,
          null,
          null,
          null,
          null,
          null,
          null,
          null,
          null,
          null,
          null,
          null,
          null,
          null,
          null,
          null,
          null,
          null,
          null,
          null,
          null,
          null,
          null,
          69.1
         ],
         "yaxis": "y10"
        },
        {
         "mode": "lines+markers",
         "name": "Rent Index",
         "type": "scatter",
         "x": [
          "2011",
          "2012",
          "2013",
          "2014",
          "2014-mid",
          "2015",
          "2015-mid",
          "2016",
          "2016-mid",
          "2017",
          "2017-mid",
          "2018",
          "2018-mid",
          "2019",
          "2019-mid",
          "2020",
          "2020-mid",
          "2021",
          "2021-mid",
          "2022",
          "2022-mid",
          "2023",
          "2023-mid",
          "2024",
          "2024-mid"
         ],
         "xaxis": "x11",
         "y": [
          null,
          null,
          null,
          null,
          null,
          null,
          null,
          null,
          null,
          null,
          null,
          null,
          null,
          null,
          null,
          null,
          null,
          null,
          null,
          null,
          null,
          null,
          null,
          null,
          50.6
         ],
         "yaxis": "y11"
        },
        {
         "mode": "lines+markers",
         "name": "Cost of Living Plus Rent Index",
         "type": "scatter",
         "x": [
          "2011",
          "2012",
          "2013",
          "2014",
          "2014-mid",
          "2015",
          "2015-mid",
          "2016",
          "2016-mid",
          "2017",
          "2017-mid",
          "2018",
          "2018-mid",
          "2019",
          "2019-mid",
          "2020",
          "2020-mid",
          "2021",
          "2021-mid",
          "2022",
          "2022-mid",
          "2023",
          "2023-mid",
          "2024",
          "2024-mid"
         ],
         "xaxis": "x12",
         "y": [
          null,
          null,
          null,
          null,
          null,
          null,
          null,
          null,
          null,
          null,
          null,
          null,
          null,
          null,
          null,
          null,
          null,
          null,
          null,
          null,
          null,
          null,
          null,
          null,
          60.2
         ],
         "yaxis": "y12"
        },
        {
         "mode": "lines+markers",
         "name": "Groceries Index",
         "type": "scatter",
         "x": [
          "2011",
          "2012",
          "2013",
          "2014",
          "2014-mid",
          "2015",
          "2015-mid",
          "2016",
          "2016-mid",
          "2017",
          "2017-mid",
          "2018",
          "2018-mid",
          "2019",
          "2019-mid",
          "2020",
          "2020-mid",
          "2021",
          "2021-mid",
          "2022",
          "2022-mid",
          "2023",
          "2023-mid",
          "2024",
          "2024-mid"
         ],
         "xaxis": "x13",
         "y": [
          null,
          null,
          null,
          null,
          null,
          null,
          null,
          null,
          null,
          null,
          null,
          null,
          null,
          null,
          null,
          null,
          null,
          null,
          null,
          null,
          null,
          null,
          null,
          null,
          79.7
         ],
         "yaxis": "y13"
        },
        {
         "mode": "lines+markers",
         "name": "Restaurant Index",
         "type": "scatter",
         "x": [
          "2011",
          "2012",
          "2013",
          "2014",
          "2014-mid",
          "2015",
          "2015-mid",
          "2016",
          "2016-mid",
          "2017",
          "2017-mid",
          "2018",
          "2018-mid",
          "2019",
          "2019-mid",
          "2020",
          "2020-mid",
          "2021",
          "2021-mid",
          "2022",
          "2022-mid",
          "2023",
          "2023-mid",
          "2024",
          "2024-mid"
         ],
         "xaxis": "x14",
         "y": [
          null,
          null,
          null,
          null,
          null,
          null,
          null,
          null,
          null,
          null,
          null,
          null,
          null,
          null,
          null,
          null,
          null,
          null,
          null,
          null,
          null,
          null,
          null,
          null,
          66.7
         ],
         "yaxis": "y14"
        },
        {
         "mode": "lines+markers",
         "name": "Local Purchasing Power Index",
         "type": "scatter",
         "x": [
          "2011",
          "2012",
          "2013",
          "2014",
          "2014-mid",
          "2015",
          "2015-mid",
          "2016",
          "2016-mid",
          "2017",
          "2017-mid",
          "2018",
          "2018-mid",
          "2019",
          "2019-mid",
          "2020",
          "2020-mid",
          "2021",
          "2021-mid",
          "2022",
          "2022-mid",
          "2023",
          "2023-mid",
          "2024",
          "2024-mid"
         ],
         "xaxis": "x15",
         "y": [
          null,
          null,
          null,
          null,
          null,
          null,
          null,
          null,
          null,
          null,
          null,
          null,
          null,
          null,
          null,
          null,
          null,
          null,
          null,
          null,
          null,
          null,
          null,
          null,
          98.1
         ],
         "yaxis": "y15"
        }
       ],
       "layout": {
        "annotations": [
         {
          "font": {
           "size": 16
          },
          "showarrow": false,
          "text": "Price to Income Ratio",
          "x": 0.10625,
          "xanchor": "center",
          "xref": "paper",
          "y": 1,
          "yanchor": "bottom",
          "yref": "paper"
         },
         {
          "font": {
           "size": 16
          },
          "showarrow": false,
          "text": "Gross Rental Yield City Centre",
          "x": 0.36875,
          "xanchor": "center",
          "xref": "paper",
          "y": 1,
          "yanchor": "bottom",
          "yref": "paper"
         },
         {
          "font": {
           "size": 16
          },
          "showarrow": false,
          "text": "Gross Rental Yield Outside Centre",
          "x": 0.6312500000000001,
          "xanchor": "center",
          "xref": "paper",
          "y": 1,
          "yanchor": "bottom",
          "yref": "paper"
         },
         {
          "font": {
           "size": 16
          },
          "showarrow": false,
          "text": "Price to Rent Ratio City Centre",
          "x": 0.89375,
          "xanchor": "center",
          "xref": "paper",
          "y": 1,
          "yanchor": "bottom",
          "yref": "paper"
         },
         {
          "font": {
           "size": 16
          },
          "showarrow": false,
          "text": "Price to Rent Ratio Outside City Centre",
          "x": 0.10625,
          "xanchor": "center",
          "xref": "paper",
          "y": 0.71875,
          "yanchor": "bottom",
          "yref": "paper"
         },
         {
          "font": {
           "size": 16
          },
          "showarrow": false,
          "text": "Mortgage as a Percentage of Income",
          "x": 0.36875,
          "xanchor": "center",
          "xref": "paper",
          "y": 0.71875,
          "yanchor": "bottom",
          "yref": "paper"
         },
         {
          "font": {
           "size": 16
          },
          "showarrow": false,
          "text": "Affordability Index",
          "x": 0.6312500000000001,
          "xanchor": "center",
          "xref": "paper",
          "y": 0.71875,
          "yanchor": "bottom",
          "yref": "paper"
         },
         {
          "font": {
           "size": 16
          },
          "showarrow": false,
          "text": "Crime Index",
          "x": 0.89375,
          "xanchor": "center",
          "xref": "paper",
          "y": 0.71875,
          "yanchor": "bottom",
          "yref": "paper"
         },
         {
          "font": {
           "size": 16
          },
          "showarrow": false,
          "text": "Safety Index",
          "x": 0.10625,
          "xanchor": "center",
          "xref": "paper",
          "y": 0.4375,
          "yanchor": "bottom",
          "yref": "paper"
         },
         {
          "font": {
           "size": 16
          },
          "showarrow": false,
          "text": "Cost of Living Index",
          "x": 0.36875,
          "xanchor": "center",
          "xref": "paper",
          "y": 0.4375,
          "yanchor": "bottom",
          "yref": "paper"
         },
         {
          "font": {
           "size": 16
          },
          "showarrow": false,
          "text": "Rent Index",
          "x": 0.6312500000000001,
          "xanchor": "center",
          "xref": "paper",
          "y": 0.4375,
          "yanchor": "bottom",
          "yref": "paper"
         },
         {
          "font": {
           "size": 16
          },
          "showarrow": false,
          "text": "Cost of Living Plus Rent Index",
          "x": 0.89375,
          "xanchor": "center",
          "xref": "paper",
          "y": 0.4375,
          "yanchor": "bottom",
          "yref": "paper"
         },
         {
          "font": {
           "size": 16
          },
          "showarrow": false,
          "text": "Groceries Index",
          "x": 0.10625,
          "xanchor": "center",
          "xref": "paper",
          "y": 0.15625,
          "yanchor": "bottom",
          "yref": "paper"
         },
         {
          "font": {
           "size": 16
          },
          "showarrow": false,
          "text": "Restaurant Index",
          "x": 0.36875,
          "xanchor": "center",
          "xref": "paper",
          "y": 0.15625,
          "yanchor": "bottom",
          "yref": "paper"
         },
         {
          "font": {
           "size": 16
          },
          "showarrow": false,
          "text": "Local Purchasing Power Index",
          "x": 0.6312500000000001,
          "xanchor": "center",
          "xref": "paper",
          "y": 0.15625,
          "yanchor": "bottom",
          "yref": "paper"
         }
        ],
        "height": 1500,
        "template": {
         "data": {
          "bar": [
           {
            "error_x": {
             "color": "#2a3f5f"
            },
            "error_y": {
             "color": "#2a3f5f"
            },
            "marker": {
             "line": {
              "color": "#E5ECF6",
              "width": 0.5
             },
             "pattern": {
              "fillmode": "overlay",
              "size": 10,
              "solidity": 0.2
             }
            },
            "type": "bar"
           }
          ],
          "barpolar": [
           {
            "marker": {
             "line": {
              "color": "#E5ECF6",
              "width": 0.5
             },
             "pattern": {
              "fillmode": "overlay",
              "size": 10,
              "solidity": 0.2
             }
            },
            "type": "barpolar"
           }
          ],
          "carpet": [
           {
            "aaxis": {
             "endlinecolor": "#2a3f5f",
             "gridcolor": "white",
             "linecolor": "white",
             "minorgridcolor": "white",
             "startlinecolor": "#2a3f5f"
            },
            "baxis": {
             "endlinecolor": "#2a3f5f",
             "gridcolor": "white",
             "linecolor": "white",
             "minorgridcolor": "white",
             "startlinecolor": "#2a3f5f"
            },
            "type": "carpet"
           }
          ],
          "choropleth": [
           {
            "colorbar": {
             "outlinewidth": 0,
             "ticks": ""
            },
            "type": "choropleth"
           }
          ],
          "contour": [
           {
            "colorbar": {
             "outlinewidth": 0,
             "ticks": ""
            },
            "colorscale": [
             [
              0,
              "#0d0887"
             ],
             [
              0.1111111111111111,
              "#46039f"
             ],
             [
              0.2222222222222222,
              "#7201a8"
             ],
             [
              0.3333333333333333,
              "#9c179e"
             ],
             [
              0.4444444444444444,
              "#bd3786"
             ],
             [
              0.5555555555555556,
              "#d8576b"
             ],
             [
              0.6666666666666666,
              "#ed7953"
             ],
             [
              0.7777777777777778,
              "#fb9f3a"
             ],
             [
              0.8888888888888888,
              "#fdca26"
             ],
             [
              1,
              "#f0f921"
             ]
            ],
            "type": "contour"
           }
          ],
          "contourcarpet": [
           {
            "colorbar": {
             "outlinewidth": 0,
             "ticks": ""
            },
            "type": "contourcarpet"
           }
          ],
          "heatmap": [
           {
            "colorbar": {
             "outlinewidth": 0,
             "ticks": ""
            },
            "colorscale": [
             [
              0,
              "#0d0887"
             ],
             [
              0.1111111111111111,
              "#46039f"
             ],
             [
              0.2222222222222222,
              "#7201a8"
             ],
             [
              0.3333333333333333,
              "#9c179e"
             ],
             [
              0.4444444444444444,
              "#bd3786"
             ],
             [
              0.5555555555555556,
              "#d8576b"
             ],
             [
              0.6666666666666666,
              "#ed7953"
             ],
             [
              0.7777777777777778,
              "#fb9f3a"
             ],
             [
              0.8888888888888888,
              "#fdca26"
             ],
             [
              1,
              "#f0f921"
             ]
            ],
            "type": "heatmap"
           }
          ],
          "heatmapgl": [
           {
            "colorbar": {
             "outlinewidth": 0,
             "ticks": ""
            },
            "colorscale": [
             [
              0,
              "#0d0887"
             ],
             [
              0.1111111111111111,
              "#46039f"
             ],
             [
              0.2222222222222222,
              "#7201a8"
             ],
             [
              0.3333333333333333,
              "#9c179e"
             ],
             [
              0.4444444444444444,
              "#bd3786"
             ],
             [
              0.5555555555555556,
              "#d8576b"
             ],
             [
              0.6666666666666666,
              "#ed7953"
             ],
             [
              0.7777777777777778,
              "#fb9f3a"
             ],
             [
              0.8888888888888888,
              "#fdca26"
             ],
             [
              1,
              "#f0f921"
             ]
            ],
            "type": "heatmapgl"
           }
          ],
          "histogram": [
           {
            "marker": {
             "pattern": {
              "fillmode": "overlay",
              "size": 10,
              "solidity": 0.2
             }
            },
            "type": "histogram"
           }
          ],
          "histogram2d": [
           {
            "colorbar": {
             "outlinewidth": 0,
             "ticks": ""
            },
            "colorscale": [
             [
              0,
              "#0d0887"
             ],
             [
              0.1111111111111111,
              "#46039f"
             ],
             [
              0.2222222222222222,
              "#7201a8"
             ],
             [
              0.3333333333333333,
              "#9c179e"
             ],
             [
              0.4444444444444444,
              "#bd3786"
             ],
             [
              0.5555555555555556,
              "#d8576b"
             ],
             [
              0.6666666666666666,
              "#ed7953"
             ],
             [
              0.7777777777777778,
              "#fb9f3a"
             ],
             [
              0.8888888888888888,
              "#fdca26"
             ],
             [
              1,
              "#f0f921"
             ]
            ],
            "type": "histogram2d"
           }
          ],
          "histogram2dcontour": [
           {
            "colorbar": {
             "outlinewidth": 0,
             "ticks": ""
            },
            "colorscale": [
             [
              0,
              "#0d0887"
             ],
             [
              0.1111111111111111,
              "#46039f"
             ],
             [
              0.2222222222222222,
              "#7201a8"
             ],
             [
              0.3333333333333333,
              "#9c179e"
             ],
             [
              0.4444444444444444,
              "#bd3786"
             ],
             [
              0.5555555555555556,
              "#d8576b"
             ],
             [
              0.6666666666666666,
              "#ed7953"
             ],
             [
              0.7777777777777778,
              "#fb9f3a"
             ],
             [
              0.8888888888888888,
              "#fdca26"
             ],
             [
              1,
              "#f0f921"
             ]
            ],
            "type": "histogram2dcontour"
           }
          ],
          "mesh3d": [
           {
            "colorbar": {
             "outlinewidth": 0,
             "ticks": ""
            },
            "type": "mesh3d"
           }
          ],
          "parcoords": [
           {
            "line": {
             "colorbar": {
              "outlinewidth": 0,
              "ticks": ""
             }
            },
            "type": "parcoords"
           }
          ],
          "pie": [
           {
            "automargin": true,
            "type": "pie"
           }
          ],
          "scatter": [
           {
            "fillpattern": {
             "fillmode": "overlay",
             "size": 10,
             "solidity": 0.2
            },
            "type": "scatter"
           }
          ],
          "scatter3d": [
           {
            "line": {
             "colorbar": {
              "outlinewidth": 0,
              "ticks": ""
             }
            },
            "marker": {
             "colorbar": {
              "outlinewidth": 0,
              "ticks": ""
             }
            },
            "type": "scatter3d"
           }
          ],
          "scattercarpet": [
           {
            "marker": {
             "colorbar": {
              "outlinewidth": 0,
              "ticks": ""
             }
            },
            "type": "scattercarpet"
           }
          ],
          "scattergeo": [
           {
            "marker": {
             "colorbar": {
              "outlinewidth": 0,
              "ticks": ""
             }
            },
            "type": "scattergeo"
           }
          ],
          "scattergl": [
           {
            "marker": {
             "colorbar": {
              "outlinewidth": 0,
              "ticks": ""
             }
            },
            "type": "scattergl"
           }
          ],
          "scattermapbox": [
           {
            "marker": {
             "colorbar": {
              "outlinewidth": 0,
              "ticks": ""
             }
            },
            "type": "scattermapbox"
           }
          ],
          "scatterpolar": [
           {
            "marker": {
             "colorbar": {
              "outlinewidth": 0,
              "ticks": ""
             }
            },
            "type": "scatterpolar"
           }
          ],
          "scatterpolargl": [
           {
            "marker": {
             "colorbar": {
              "outlinewidth": 0,
              "ticks": ""
             }
            },
            "type": "scatterpolargl"
           }
          ],
          "scatterternary": [
           {
            "marker": {
             "colorbar": {
              "outlinewidth": 0,
              "ticks": ""
             }
            },
            "type": "scatterternary"
           }
          ],
          "surface": [
           {
            "colorbar": {
             "outlinewidth": 0,
             "ticks": ""
            },
            "colorscale": [
             [
              0,
              "#0d0887"
             ],
             [
              0.1111111111111111,
              "#46039f"
             ],
             [
              0.2222222222222222,
              "#7201a8"
             ],
             [
              0.3333333333333333,
              "#9c179e"
             ],
             [
              0.4444444444444444,
              "#bd3786"
             ],
             [
              0.5555555555555556,
              "#d8576b"
             ],
             [
              0.6666666666666666,
              "#ed7953"
             ],
             [
              0.7777777777777778,
              "#fb9f3a"
             ],
             [
              0.8888888888888888,
              "#fdca26"
             ],
             [
              1,
              "#f0f921"
             ]
            ],
            "type": "surface"
           }
          ],
          "table": [
           {
            "cells": {
             "fill": {
              "color": "#EBF0F8"
             },
             "line": {
              "color": "white"
             }
            },
            "header": {
             "fill": {
              "color": "#C8D4E3"
             },
             "line": {
              "color": "white"
             }
            },
            "type": "table"
           }
          ]
         },
         "layout": {
          "annotationdefaults": {
           "arrowcolor": "#2a3f5f",
           "arrowhead": 0,
           "arrowwidth": 1
          },
          "autotypenumbers": "strict",
          "coloraxis": {
           "colorbar": {
            "outlinewidth": 0,
            "ticks": ""
           }
          },
          "colorscale": {
           "diverging": [
            [
             0,
             "#8e0152"
            ],
            [
             0.1,
             "#c51b7d"
            ],
            [
             0.2,
             "#de77ae"
            ],
            [
             0.3,
             "#f1b6da"
            ],
            [
             0.4,
             "#fde0ef"
            ],
            [
             0.5,
             "#f7f7f7"
            ],
            [
             0.6,
             "#e6f5d0"
            ],
            [
             0.7,
             "#b8e186"
            ],
            [
             0.8,
             "#7fbc41"
            ],
            [
             0.9,
             "#4d9221"
            ],
            [
             1,
             "#276419"
            ]
           ],
           "sequential": [
            [
             0,
             "#0d0887"
            ],
            [
             0.1111111111111111,
             "#46039f"
            ],
            [
             0.2222222222222222,
             "#7201a8"
            ],
            [
             0.3333333333333333,
             "#9c179e"
            ],
            [
             0.4444444444444444,
             "#bd3786"
            ],
            [
             0.5555555555555556,
             "#d8576b"
            ],
            [
             0.6666666666666666,
             "#ed7953"
            ],
            [
             0.7777777777777778,
             "#fb9f3a"
            ],
            [
             0.8888888888888888,
             "#fdca26"
            ],
            [
             1,
             "#f0f921"
            ]
           ],
           "sequentialminus": [
            [
             0,
             "#0d0887"
            ],
            [
             0.1111111111111111,
             "#46039f"
            ],
            [
             0.2222222222222222,
             "#7201a8"
            ],
            [
             0.3333333333333333,
             "#9c179e"
            ],
            [
             0.4444444444444444,
             "#bd3786"
            ],
            [
             0.5555555555555556,
             "#d8576b"
            ],
            [
             0.6666666666666666,
             "#ed7953"
            ],
            [
             0.7777777777777778,
             "#fb9f3a"
            ],
            [
             0.8888888888888888,
             "#fdca26"
            ],
            [
             1,
             "#f0f921"
            ]
           ]
          },
          "colorway": [
           "#636efa",
           "#EF553B",
           "#00cc96",
           "#ab63fa",
           "#FFA15A",
           "#19d3f3",
           "#FF6692",
           "#B6E880",
           "#FF97FF",
           "#FECB52"
          ],
          "font": {
           "color": "#2a3f5f"
          },
          "geo": {
           "bgcolor": "white",
           "lakecolor": "white",
           "landcolor": "#E5ECF6",
           "showlakes": true,
           "showland": true,
           "subunitcolor": "white"
          },
          "hoverlabel": {
           "align": "left"
          },
          "hovermode": "closest",
          "mapbox": {
           "style": "light"
          },
          "paper_bgcolor": "white",
          "plot_bgcolor": "#E5ECF6",
          "polar": {
           "angularaxis": {
            "gridcolor": "white",
            "linecolor": "white",
            "ticks": ""
           },
           "bgcolor": "#E5ECF6",
           "radialaxis": {
            "gridcolor": "white",
            "linecolor": "white",
            "ticks": ""
           }
          },
          "scene": {
           "xaxis": {
            "backgroundcolor": "#E5ECF6",
            "gridcolor": "white",
            "gridwidth": 2,
            "linecolor": "white",
            "showbackground": true,
            "ticks": "",
            "zerolinecolor": "white"
           },
           "yaxis": {
            "backgroundcolor": "#E5ECF6",
            "gridcolor": "white",
            "gridwidth": 2,
            "linecolor": "white",
            "showbackground": true,
            "ticks": "",
            "zerolinecolor": "white"
           },
           "zaxis": {
            "backgroundcolor": "#E5ECF6",
            "gridcolor": "white",
            "gridwidth": 2,
            "linecolor": "white",
            "showbackground": true,
            "ticks": "",
            "zerolinecolor": "white"
           }
          },
          "shapedefaults": {
           "line": {
            "color": "#2a3f5f"
           }
          },
          "ternary": {
           "aaxis": {
            "gridcolor": "white",
            "linecolor": "white",
            "ticks": ""
           },
           "baxis": {
            "gridcolor": "white",
            "linecolor": "white",
            "ticks": ""
           },
           "bgcolor": "#E5ECF6",
           "caxis": {
            "gridcolor": "white",
            "linecolor": "white",
            "ticks": ""
           }
          },
          "title": {
           "x": 0.05
          },
          "xaxis": {
           "automargin": true,
           "gridcolor": "white",
           "linecolor": "white",
           "ticks": "",
           "title": {
            "standoff": 15
           },
           "zerolinecolor": "white",
           "zerolinewidth": 2
          },
          "yaxis": {
           "automargin": true,
           "gridcolor": "white",
           "linecolor": "white",
           "ticks": "",
           "title": {
            "standoff": 15
           },
           "zerolinecolor": "white",
           "zerolinewidth": 2
          }
         }
        },
        "title": {
         "text": "Vancouver, Canada"
        },
        "width": 1500,
        "xaxis": {
         "anchor": "y",
         "domain": [
          0,
          0.2125
         ],
         "title": {
          "text": "Year"
         }
        },
        "xaxis10": {
         "anchor": "y10",
         "domain": [
          0.2625,
          0.475
         ],
         "title": {
          "text": "Year"
         }
        },
        "xaxis11": {
         "anchor": "y11",
         "domain": [
          0.525,
          0.7375
         ],
         "title": {
          "text": "Year"
         }
        },
        "xaxis12": {
         "anchor": "y12",
         "domain": [
          0.7875,
          1
         ],
         "title": {
          "text": "Year"
         }
        },
        "xaxis13": {
         "anchor": "y13",
         "domain": [
          0,
          0.2125
         ],
         "title": {
          "text": "Year"
         }
        },
        "xaxis14": {
         "anchor": "y14",
         "domain": [
          0.2625,
          0.475
         ],
         "title": {
          "text": "Year"
         }
        },
        "xaxis15": {
         "anchor": "y15",
         "domain": [
          0.525,
          0.7375
         ],
         "title": {
          "text": "Year"
         }
        },
        "xaxis16": {
         "anchor": "y16",
         "domain": [
          0.7875,
          1
         ]
        },
        "xaxis2": {
         "anchor": "y2",
         "domain": [
          0.2625,
          0.475
         ],
         "title": {
          "text": "Year"
         }
        },
        "xaxis3": {
         "anchor": "y3",
         "domain": [
          0.525,
          0.7375
         ],
         "title": {
          "text": "Year"
         }
        },
        "xaxis4": {
         "anchor": "y4",
         "domain": [
          0.7875,
          1
         ],
         "title": {
          "text": "Year"
         }
        },
        "xaxis5": {
         "anchor": "y5",
         "domain": [
          0,
          0.2125
         ],
         "title": {
          "text": "Year"
         }
        },
        "xaxis6": {
         "anchor": "y6",
         "domain": [
          0.2625,
          0.475
         ],
         "title": {
          "text": "Year"
         }
        },
        "xaxis7": {
         "anchor": "y7",
         "domain": [
          0.525,
          0.7375
         ],
         "title": {
          "text": "Year"
         }
        },
        "xaxis8": {
         "anchor": "y8",
         "domain": [
          0.7875,
          1
         ],
         "title": {
          "text": "Year"
         }
        },
        "xaxis9": {
         "anchor": "y9",
         "domain": [
          0,
          0.2125
         ],
         "title": {
          "text": "Year"
         }
        },
        "yaxis": {
         "anchor": "x",
         "domain": [
          0.84375,
          1
         ],
         "title": {
          "text": "Price to Income Ratio"
         }
        },
        "yaxis10": {
         "anchor": "x10",
         "domain": [
          0.28125,
          0.4375
         ],
         "title": {
          "text": "Cost of Living Index"
         }
        },
        "yaxis11": {
         "anchor": "x11",
         "domain": [
          0.28125,
          0.4375
         ],
         "title": {
          "text": "Rent Index"
         }
        },
        "yaxis12": {
         "anchor": "x12",
         "domain": [
          0.28125,
          0.4375
         ],
         "title": {
          "text": "Cost of Living Plus Rent Index"
         }
        },
        "yaxis13": {
         "anchor": "x13",
         "domain": [
          0,
          0.15625
         ],
         "title": {
          "text": "Groceries Index"
         }
        },
        "yaxis14": {
         "anchor": "x14",
         "domain": [
          0,
          0.15625
         ],
         "title": {
          "text": "Restaurant Index"
         }
        },
        "yaxis15": {
         "anchor": "x15",
         "domain": [
          0,
          0.15625
         ],
         "title": {
          "text": "Local Purchasing Power Index"
         }
        },
        "yaxis16": {
         "anchor": "x16",
         "domain": [
          0,
          0.15625
         ]
        },
        "yaxis2": {
         "anchor": "x2",
         "domain": [
          0.84375,
          1
         ],
         "title": {
          "text": "Gross Rental Yield City Centre"
         }
        },
        "yaxis3": {
         "anchor": "x3",
         "domain": [
          0.84375,
          1
         ],
         "title": {
          "text": "Gross Rental Yield Outside Centre"
         }
        },
        "yaxis4": {
         "anchor": "x4",
         "domain": [
          0.84375,
          1
         ],
         "title": {
          "text": "Price to Rent Ratio City Centre"
         }
        },
        "yaxis5": {
         "anchor": "x5",
         "domain": [
          0.5625,
          0.71875
         ],
         "title": {
          "text": "Price to Rent Ratio Outside City Centre"
         }
        },
        "yaxis6": {
         "anchor": "x6",
         "domain": [
          0.5625,
          0.71875
         ],
         "title": {
          "text": "Mortgage as a Percentage of Income"
         }
        },
        "yaxis7": {
         "anchor": "x7",
         "domain": [
          0.5625,
          0.71875
         ],
         "title": {
          "text": "Affordability Index"
         }
        },
        "yaxis8": {
         "anchor": "x8",
         "domain": [
          0.5625,
          0.71875
         ],
         "title": {
          "text": "Crime Index"
         }
        },
        "yaxis9": {
         "anchor": "x9",
         "domain": [
          0.28125,
          0.4375
         ],
         "title": {
          "text": "Safety Index"
         }
        }
       }
      },
      "text/html": [
       "<div>                            <div id=\"e28bb4ac-b18e-46ef-a1f9-ea13e0e16d7f\" class=\"plotly-graph-div\" style=\"height:1500px; width:1500px;\"></div>            <script type=\"text/javascript\">                require([\"plotly\"], function(Plotly) {                    window.PLOTLYENV=window.PLOTLYENV || {};                                    if (document.getElementById(\"e28bb4ac-b18e-46ef-a1f9-ea13e0e16d7f\")) {                    Plotly.newPlot(                        \"e28bb4ac-b18e-46ef-a1f9-ea13e0e16d7f\",                        [{\"mode\":\"lines+markers\",\"name\":\"Price to Income Ratio\",\"x\":[\"2011\",\"2012\",\"2013\",\"2014\",\"2014-mid\",\"2015\",\"2015-mid\",\"2016\",\"2016-mid\",\"2017\",\"2017-mid\",\"2018\",\"2018-mid\",\"2019\",\"2019-mid\",\"2020\",\"2020-mid\",\"2021\",\"2021-mid\",\"2022\",\"2022-mid\",\"2023\",\"2023-mid\",\"2024\",\"2024-mid\"],\"y\":[9.1,9.8,10.7,9.9,9.4,9.6,10.5,11.3,11.8,13.1,14.3,16.0,16.9,16.2,15.3,14.3,13.3,11.4,11.6,11.9,12.2,12.9,14.4,16.5,13.7],\"type\":\"scatter\",\"xaxis\":\"x\",\"yaxis\":\"y\"},{\"mode\":\"lines+markers\",\"name\":\"Gross Rental Yield City Centre\",\"x\":[\"2011\",\"2012\",\"2013\",\"2014\",\"2014-mid\",\"2015\",\"2015-mid\",\"2016\",\"2016-mid\",\"2017\",\"2017-mid\",\"2018\",\"2018-mid\",\"2019\",\"2019-mid\",\"2020\",\"2020-mid\",\"2021\",\"2021-mid\",\"2022\",\"2022-mid\",\"2023\",\"2023-mid\",\"2024\",\"2024-mid\"],\"y\":[5.2,4.3,4.2,4.3,4.3,4.5,4.6,4.3,4.3,4.0,3.9,3.5,3.5,3.7,3.6,3.6,3.5,3.8,3.9,4.0,3.8,4.0,4.0,3.7,4.1],\"type\":\"scatter\",\"xaxis\":\"x2\",\"yaxis\":\"y2\"},{\"mode\":\"lines+markers\",\"name\":\"Gross Rental Yield Outside Centre\",\"x\":[\"2011\",\"2012\",\"2013\",\"2014\",\"2014-mid\",\"2015\",\"2015-mid\",\"2016\",\"2016-mid\",\"2017\",\"2017-mid\",\"2018\",\"2018-mid\",\"2019\",\"2019-mid\",\"2020\",\"2020-mid\",\"2021\",\"2021-mid\",\"2022\",\"2022-mid\",\"2023\",\"2023-mid\",\"2024\",\"2024-mid\"],\"y\":[5.7,4.4,4.3,4.3,4.3,4.6,4.6,4.3,4.7,4.6,4.2,3.7,3.5,3.5,3.7,3.7,3.8,3.8,3.9,4.1,3.9,3.9,4.2,4.6,5.0],\"type\":\"scatter\",\"xaxis\":\"x3\",\"yaxis\":\"y3\"},{\"mode\":\"lines+markers\",\"name\":\"Price to Rent Ratio City Centre\",\"x\":[\"2011\",\"2012\",\"2013\",\"2014\",\"2014-mid\",\"2015\",\"2015-mid\",\"2016\",\"2016-mid\",\"2017\",\"2017-mid\",\"2018\",\"2018-mid\",\"2019\",\"2019-mid\",\"2020\",\"2020-mid\",\"2021\",\"2021-mid\",\"2022\",\"2022-mid\",\"2023\",\"2023-mid\",\"2024\",\"2024-mid\"],\"y\":[19.1,23.3,23.9,23.5,23.4,22.1,21.6,23.1,23.4,24.9,25.4,28.7,28.9,27.4,27.7,27.7,28.2,26.4,25.9,24.7,26.3,25.3,25.0,27.1,24.4],\"type\":\"scatter\",\"xaxis\":\"x4\",\"yaxis\":\"y4\"},{\"mode\":\"lines+markers\",\"name\":\"Price to Rent Ratio Outside City Centre\",\"x\":[\"2011\",\"2012\",\"2013\",\"2014\",\"2014-mid\",\"2015\",\"2015-mid\",\"2016\",\"2016-mid\",\"2017\",\"2017-mid\",\"2018\",\"2018-mid\",\"2019\",\"2019-mid\",\"2020\",\"2020-mid\",\"2021\",\"2021-mid\",\"2022\",\"2022-mid\",\"2023\",\"2023-mid\",\"2024\",\"2024-mid\"],\"y\":[17.6,22.5,23.2,23.4,23.2,21.8,21.6,23.1,21.4,21.5,24.0,26.9,28.7,28.7,26.7,27.0,26.5,26.2,25.9,24.5,25.8,25.5,23.6,21.8,20.2],\"type\":\"scatter\",\"xaxis\":\"x5\",\"yaxis\":\"y5\"},{\"mode\":\"lines+markers\",\"name\":\"Mortgage as a Percentage of Income\",\"x\":[\"2011\",\"2012\",\"2013\",\"2014\",\"2014-mid\",\"2015\",\"2015-mid\",\"2016\",\"2016-mid\",\"2017\",\"2017-mid\",\"2018\",\"2018-mid\",\"2019\",\"2019-mid\",\"2020\",\"2020-mid\",\"2021\",\"2021-mid\",\"2022\",\"2022-mid\",\"2023\",\"2023-mid\",\"2024\",\"2024-mid\"],\"y\":[\"71.1\",\"74.3\",\"78.1\",\"69.4\",\"64.9\",\"66.2\",\"71.6\",\"75.1\",\"77.8\",\"85.7\",\"92.1\",\"105.9\",\"116.5\",\"114.9\",\"108.2\",\"102.3\",\"93.8\",\"75.3\",\"73.6\",\"74.1\",\"89.5\",\"97.9\",\"126.8\",\"146.6\",\"123.3\"],\"type\":\"scatter\",\"xaxis\":\"x6\",\"yaxis\":\"y6\"},{\"mode\":\"lines+markers\",\"name\":\"Affordability Index\",\"x\":[\"2011\",\"2012\",\"2013\",\"2014\",\"2014-mid\",\"2015\",\"2015-mid\",\"2016\",\"2016-mid\",\"2017\",\"2017-mid\",\"2018\",\"2018-mid\",\"2019\",\"2019-mid\",\"2020\",\"2020-mid\",\"2021\",\"2021-mid\",\"2022\",\"2022-mid\",\"2023\",\"2023-mid\",\"2024\",\"2024-mid\"],\"y\":[\"1.4\",\"1.3\",\"1.3\",\"1.4\",\"1.5\",\"1.5\",\"1.4\",\"1.3\",\"1.3\",\"1.2\",\"1.1\",\"0.9\",\"0.9\",\"0.9\",\"0.9\",\"1.0\",\"1.1\",\"1.3\",\"1.4\",\"1.3\",\"1.1\",\"1.0\",\"0.8\",\"0.7\",\"0.8\"],\"type\":\"scatter\",\"xaxis\":\"x7\",\"yaxis\":\"y7\"},{\"mode\":\"lines+markers\",\"name\":\"Crime Index\",\"x\":[\"2011\",\"2012\",\"2013\",\"2014\",\"2014-mid\",\"2015\",\"2015-mid\",\"2016\",\"2016-mid\",\"2017\",\"2017-mid\",\"2018\",\"2018-mid\",\"2019\",\"2019-mid\",\"2020\",\"2020-mid\",\"2021\",\"2021-mid\",\"2022\",\"2022-mid\",\"2023\",\"2023-mid\",\"2024\",\"2024-mid\"],\"y\":[null,null,null,35.3,37.1,36.6,40.3,38.9,36.5,35.8,35.0,36.0,36.4,36.3,35.6,36.3,36.7,36.5,37.0,37.2,38.3,39.6,40.9,42.0,42.3],\"type\":\"scatter\",\"xaxis\":\"x8\",\"yaxis\":\"y8\"},{\"mode\":\"lines+markers\",\"name\":\"Safety Index\",\"x\":[\"2011\",\"2012\",\"2013\",\"2014\",\"2014-mid\",\"2015\",\"2015-mid\",\"2016\",\"2016-mid\",\"2017\",\"2017-mid\",\"2018\",\"2018-mid\",\"2019\",\"2019-mid\",\"2020\",\"2020-mid\",\"2021\",\"2021-mid\",\"2022\",\"2022-mid\",\"2023\",\"2023-mid\",\"2024\",\"2024-mid\"],\"y\":[null,null,null,64.7,62.9,63.4,59.7,61.1,63.5,64.2,65.0,64.0,63.6,63.7,64.4,63.7,63.3,63.5,63.0,62.8,61.7,60.4,59.1,58.0,57.7],\"type\":\"scatter\",\"xaxis\":\"x9\",\"yaxis\":\"y9\"},{\"mode\":\"lines+markers\",\"name\":\"Cost of Living Index\",\"x\":[\"2011\",\"2012\",\"2013\",\"2014\",\"2014-mid\",\"2015\",\"2015-mid\",\"2016\",\"2016-mid\",\"2017\",\"2017-mid\",\"2018\",\"2018-mid\",\"2019\",\"2019-mid\",\"2020\",\"2020-mid\",\"2021\",\"2021-mid\",\"2022\",\"2022-mid\",\"2023\",\"2023-mid\",\"2024\",\"2024-mid\"],\"y\":[null,null,null,null,null,null,null,null,null,null,null,null,null,null,null,null,null,null,null,null,null,null,null,null,69.1],\"type\":\"scatter\",\"xaxis\":\"x10\",\"yaxis\":\"y10\"},{\"mode\":\"lines+markers\",\"name\":\"Rent Index\",\"x\":[\"2011\",\"2012\",\"2013\",\"2014\",\"2014-mid\",\"2015\",\"2015-mid\",\"2016\",\"2016-mid\",\"2017\",\"2017-mid\",\"2018\",\"2018-mid\",\"2019\",\"2019-mid\",\"2020\",\"2020-mid\",\"2021\",\"2021-mid\",\"2022\",\"2022-mid\",\"2023\",\"2023-mid\",\"2024\",\"2024-mid\"],\"y\":[null,null,null,null,null,null,null,null,null,null,null,null,null,null,null,null,null,null,null,null,null,null,null,null,50.6],\"type\":\"scatter\",\"xaxis\":\"x11\",\"yaxis\":\"y11\"},{\"mode\":\"lines+markers\",\"name\":\"Cost of Living Plus Rent Index\",\"x\":[\"2011\",\"2012\",\"2013\",\"2014\",\"2014-mid\",\"2015\",\"2015-mid\",\"2016\",\"2016-mid\",\"2017\",\"2017-mid\",\"2018\",\"2018-mid\",\"2019\",\"2019-mid\",\"2020\",\"2020-mid\",\"2021\",\"2021-mid\",\"2022\",\"2022-mid\",\"2023\",\"2023-mid\",\"2024\",\"2024-mid\"],\"y\":[null,null,null,null,null,null,null,null,null,null,null,null,null,null,null,null,null,null,null,null,null,null,null,null,60.2],\"type\":\"scatter\",\"xaxis\":\"x12\",\"yaxis\":\"y12\"},{\"mode\":\"lines+markers\",\"name\":\"Groceries Index\",\"x\":[\"2011\",\"2012\",\"2013\",\"2014\",\"2014-mid\",\"2015\",\"2015-mid\",\"2016\",\"2016-mid\",\"2017\",\"2017-mid\",\"2018\",\"2018-mid\",\"2019\",\"2019-mid\",\"2020\",\"2020-mid\",\"2021\",\"2021-mid\",\"2022\",\"2022-mid\",\"2023\",\"2023-mid\",\"2024\",\"2024-mid\"],\"y\":[null,null,null,null,null,null,null,null,null,null,null,null,null,null,null,null,null,null,null,null,null,null,null,null,79.7],\"type\":\"scatter\",\"xaxis\":\"x13\",\"yaxis\":\"y13\"},{\"mode\":\"lines+markers\",\"name\":\"Restaurant Index\",\"x\":[\"2011\",\"2012\",\"2013\",\"2014\",\"2014-mid\",\"2015\",\"2015-mid\",\"2016\",\"2016-mid\",\"2017\",\"2017-mid\",\"2018\",\"2018-mid\",\"2019\",\"2019-mid\",\"2020\",\"2020-mid\",\"2021\",\"2021-mid\",\"2022\",\"2022-mid\",\"2023\",\"2023-mid\",\"2024\",\"2024-mid\"],\"y\":[null,null,null,null,null,null,null,null,null,null,null,null,null,null,null,null,null,null,null,null,null,null,null,null,66.7],\"type\":\"scatter\",\"xaxis\":\"x14\",\"yaxis\":\"y14\"},{\"mode\":\"lines+markers\",\"name\":\"Local Purchasing Power Index\",\"x\":[\"2011\",\"2012\",\"2013\",\"2014\",\"2014-mid\",\"2015\",\"2015-mid\",\"2016\",\"2016-mid\",\"2017\",\"2017-mid\",\"2018\",\"2018-mid\",\"2019\",\"2019-mid\",\"2020\",\"2020-mid\",\"2021\",\"2021-mid\",\"2022\",\"2022-mid\",\"2023\",\"2023-mid\",\"2024\",\"2024-mid\"],\"y\":[null,null,null,null,null,null,null,null,null,null,null,null,null,null,null,null,null,null,null,null,null,null,null,null,98.1],\"type\":\"scatter\",\"xaxis\":\"x15\",\"yaxis\":\"y15\"}],                        {\"template\":{\"data\":{\"histogram2dcontour\":[{\"type\":\"histogram2dcontour\",\"colorbar\":{\"outlinewidth\":0,\"ticks\":\"\"},\"colorscale\":[[0.0,\"#0d0887\"],[0.1111111111111111,\"#46039f\"],[0.2222222222222222,\"#7201a8\"],[0.3333333333333333,\"#9c179e\"],[0.4444444444444444,\"#bd3786\"],[0.5555555555555556,\"#d8576b\"],[0.6666666666666666,\"#ed7953\"],[0.7777777777777778,\"#fb9f3a\"],[0.8888888888888888,\"#fdca26\"],[1.0,\"#f0f921\"]]}],\"choropleth\":[{\"type\":\"choropleth\",\"colorbar\":{\"outlinewidth\":0,\"ticks\":\"\"}}],\"histogram2d\":[{\"type\":\"histogram2d\",\"colorbar\":{\"outlinewidth\":0,\"ticks\":\"\"},\"colorscale\":[[0.0,\"#0d0887\"],[0.1111111111111111,\"#46039f\"],[0.2222222222222222,\"#7201a8\"],[0.3333333333333333,\"#9c179e\"],[0.4444444444444444,\"#bd3786\"],[0.5555555555555556,\"#d8576b\"],[0.6666666666666666,\"#ed7953\"],[0.7777777777777778,\"#fb9f3a\"],[0.8888888888888888,\"#fdca26\"],[1.0,\"#f0f921\"]]}],\"heatmap\":[{\"type\":\"heatmap\",\"colorbar\":{\"outlinewidth\":0,\"ticks\":\"\"},\"colorscale\":[[0.0,\"#0d0887\"],[0.1111111111111111,\"#46039f\"],[0.2222222222222222,\"#7201a8\"],[0.3333333333333333,\"#9c179e\"],[0.4444444444444444,\"#bd3786\"],[0.5555555555555556,\"#d8576b\"],[0.6666666666666666,\"#ed7953\"],[0.7777777777777778,\"#fb9f3a\"],[0.8888888888888888,\"#fdca26\"],[1.0,\"#f0f921\"]]}],\"heatmapgl\":[{\"type\":\"heatmapgl\",\"colorbar\":{\"outlinewidth\":0,\"ticks\":\"\"},\"colorscale\":[[0.0,\"#0d0887\"],[0.1111111111111111,\"#46039f\"],[0.2222222222222222,\"#7201a8\"],[0.3333333333333333,\"#9c179e\"],[0.4444444444444444,\"#bd3786\"],[0.5555555555555556,\"#d8576b\"],[0.6666666666666666,\"#ed7953\"],[0.7777777777777778,\"#fb9f3a\"],[0.8888888888888888,\"#fdca26\"],[1.0,\"#f0f921\"]]}],\"contourcarpet\":[{\"type\":\"contourcarpet\",\"colorbar\":{\"outlinewidth\":0,\"ticks\":\"\"}}],\"contour\":[{\"type\":\"contour\",\"colorbar\":{\"outlinewidth\":0,\"ticks\":\"\"},\"colorscale\":[[0.0,\"#0d0887\"],[0.1111111111111111,\"#46039f\"],[0.2222222222222222,\"#7201a8\"],[0.3333333333333333,\"#9c179e\"],[0.4444444444444444,\"#bd3786\"],[0.5555555555555556,\"#d8576b\"],[0.6666666666666666,\"#ed7953\"],[0.7777777777777778,\"#fb9f3a\"],[0.8888888888888888,\"#fdca26\"],[1.0,\"#f0f921\"]]}],\"surface\":[{\"type\":\"surface\",\"colorbar\":{\"outlinewidth\":0,\"ticks\":\"\"},\"colorscale\":[[0.0,\"#0d0887\"],[0.1111111111111111,\"#46039f\"],[0.2222222222222222,\"#7201a8\"],[0.3333333333333333,\"#9c179e\"],[0.4444444444444444,\"#bd3786\"],[0.5555555555555556,\"#d8576b\"],[0.6666666666666666,\"#ed7953\"],[0.7777777777777778,\"#fb9f3a\"],[0.8888888888888888,\"#fdca26\"],[1.0,\"#f0f921\"]]}],\"mesh3d\":[{\"type\":\"mesh3d\",\"colorbar\":{\"outlinewidth\":0,\"ticks\":\"\"}}],\"scatter\":[{\"fillpattern\":{\"fillmode\":\"overlay\",\"size\":10,\"solidity\":0.2},\"type\":\"scatter\"}],\"parcoords\":[{\"type\":\"parcoords\",\"line\":{\"colorbar\":{\"outlinewidth\":0,\"ticks\":\"\"}}}],\"scatterpolargl\":[{\"type\":\"scatterpolargl\",\"marker\":{\"colorbar\":{\"outlinewidth\":0,\"ticks\":\"\"}}}],\"bar\":[{\"error_x\":{\"color\":\"#2a3f5f\"},\"error_y\":{\"color\":\"#2a3f5f\"},\"marker\":{\"line\":{\"color\":\"#E5ECF6\",\"width\":0.5},\"pattern\":{\"fillmode\":\"overlay\",\"size\":10,\"solidity\":0.2}},\"type\":\"bar\"}],\"scattergeo\":[{\"type\":\"scattergeo\",\"marker\":{\"colorbar\":{\"outlinewidth\":0,\"ticks\":\"\"}}}],\"scatterpolar\":[{\"type\":\"scatterpolar\",\"marker\":{\"colorbar\":{\"outlinewidth\":0,\"ticks\":\"\"}}}],\"histogram\":[{\"marker\":{\"pattern\":{\"fillmode\":\"overlay\",\"size\":10,\"solidity\":0.2}},\"type\":\"histogram\"}],\"scattergl\":[{\"type\":\"scattergl\",\"marker\":{\"colorbar\":{\"outlinewidth\":0,\"ticks\":\"\"}}}],\"scatter3d\":[{\"type\":\"scatter3d\",\"line\":{\"colorbar\":{\"outlinewidth\":0,\"ticks\":\"\"}},\"marker\":{\"colorbar\":{\"outlinewidth\":0,\"ticks\":\"\"}}}],\"scattermapbox\":[{\"type\":\"scattermapbox\",\"marker\":{\"colorbar\":{\"outlinewidth\":0,\"ticks\":\"\"}}}],\"scatterternary\":[{\"type\":\"scatterternary\",\"marker\":{\"colorbar\":{\"outlinewidth\":0,\"ticks\":\"\"}}}],\"scattercarpet\":[{\"type\":\"scattercarpet\",\"marker\":{\"colorbar\":{\"outlinewidth\":0,\"ticks\":\"\"}}}],\"carpet\":[{\"aaxis\":{\"endlinecolor\":\"#2a3f5f\",\"gridcolor\":\"white\",\"linecolor\":\"white\",\"minorgridcolor\":\"white\",\"startlinecolor\":\"#2a3f5f\"},\"baxis\":{\"endlinecolor\":\"#2a3f5f\",\"gridcolor\":\"white\",\"linecolor\":\"white\",\"minorgridcolor\":\"white\",\"startlinecolor\":\"#2a3f5f\"},\"type\":\"carpet\"}],\"table\":[{\"cells\":{\"fill\":{\"color\":\"#EBF0F8\"},\"line\":{\"color\":\"white\"}},\"header\":{\"fill\":{\"color\":\"#C8D4E3\"},\"line\":{\"color\":\"white\"}},\"type\":\"table\"}],\"barpolar\":[{\"marker\":{\"line\":{\"color\":\"#E5ECF6\",\"width\":0.5},\"pattern\":{\"fillmode\":\"overlay\",\"size\":10,\"solidity\":0.2}},\"type\":\"barpolar\"}],\"pie\":[{\"automargin\":true,\"type\":\"pie\"}]},\"layout\":{\"autotypenumbers\":\"strict\",\"colorway\":[\"#636efa\",\"#EF553B\",\"#00cc96\",\"#ab63fa\",\"#FFA15A\",\"#19d3f3\",\"#FF6692\",\"#B6E880\",\"#FF97FF\",\"#FECB52\"],\"font\":{\"color\":\"#2a3f5f\"},\"hovermode\":\"closest\",\"hoverlabel\":{\"align\":\"left\"},\"paper_bgcolor\":\"white\",\"plot_bgcolor\":\"#E5ECF6\",\"polar\":{\"bgcolor\":\"#E5ECF6\",\"angularaxis\":{\"gridcolor\":\"white\",\"linecolor\":\"white\",\"ticks\":\"\"},\"radialaxis\":{\"gridcolor\":\"white\",\"linecolor\":\"white\",\"ticks\":\"\"}},\"ternary\":{\"bgcolor\":\"#E5ECF6\",\"aaxis\":{\"gridcolor\":\"white\",\"linecolor\":\"white\",\"ticks\":\"\"},\"baxis\":{\"gridcolor\":\"white\",\"linecolor\":\"white\",\"ticks\":\"\"},\"caxis\":{\"gridcolor\":\"white\",\"linecolor\":\"white\",\"ticks\":\"\"}},\"coloraxis\":{\"colorbar\":{\"outlinewidth\":0,\"ticks\":\"\"}},\"colorscale\":{\"sequential\":[[0.0,\"#0d0887\"],[0.1111111111111111,\"#46039f\"],[0.2222222222222222,\"#7201a8\"],[0.3333333333333333,\"#9c179e\"],[0.4444444444444444,\"#bd3786\"],[0.5555555555555556,\"#d8576b\"],[0.6666666666666666,\"#ed7953\"],[0.7777777777777778,\"#fb9f3a\"],[0.8888888888888888,\"#fdca26\"],[1.0,\"#f0f921\"]],\"sequentialminus\":[[0.0,\"#0d0887\"],[0.1111111111111111,\"#46039f\"],[0.2222222222222222,\"#7201a8\"],[0.3333333333333333,\"#9c179e\"],[0.4444444444444444,\"#bd3786\"],[0.5555555555555556,\"#d8576b\"],[0.6666666666666666,\"#ed7953\"],[0.7777777777777778,\"#fb9f3a\"],[0.8888888888888888,\"#fdca26\"],[1.0,\"#f0f921\"]],\"diverging\":[[0,\"#8e0152\"],[0.1,\"#c51b7d\"],[0.2,\"#de77ae\"],[0.3,\"#f1b6da\"],[0.4,\"#fde0ef\"],[0.5,\"#f7f7f7\"],[0.6,\"#e6f5d0\"],[0.7,\"#b8e186\"],[0.8,\"#7fbc41\"],[0.9,\"#4d9221\"],[1,\"#276419\"]]},\"xaxis\":{\"gridcolor\":\"white\",\"linecolor\":\"white\",\"ticks\":\"\",\"title\":{\"standoff\":15},\"zerolinecolor\":\"white\",\"automargin\":true,\"zerolinewidth\":2},\"yaxis\":{\"gridcolor\":\"white\",\"linecolor\":\"white\",\"ticks\":\"\",\"title\":{\"standoff\":15},\"zerolinecolor\":\"white\",\"automargin\":true,\"zerolinewidth\":2},\"scene\":{\"xaxis\":{\"backgroundcolor\":\"#E5ECF6\",\"gridcolor\":\"white\",\"linecolor\":\"white\",\"showbackground\":true,\"ticks\":\"\",\"zerolinecolor\":\"white\",\"gridwidth\":2},\"yaxis\":{\"backgroundcolor\":\"#E5ECF6\",\"gridcolor\":\"white\",\"linecolor\":\"white\",\"showbackground\":true,\"ticks\":\"\",\"zerolinecolor\":\"white\",\"gridwidth\":2},\"zaxis\":{\"backgroundcolor\":\"#E5ECF6\",\"gridcolor\":\"white\",\"linecolor\":\"white\",\"showbackground\":true,\"ticks\":\"\",\"zerolinecolor\":\"white\",\"gridwidth\":2}},\"shapedefaults\":{\"line\":{\"color\":\"#2a3f5f\"}},\"annotationdefaults\":{\"arrowcolor\":\"#2a3f5f\",\"arrowhead\":0,\"arrowwidth\":1},\"geo\":{\"bgcolor\":\"white\",\"landcolor\":\"#E5ECF6\",\"subunitcolor\":\"white\",\"showland\":true,\"showlakes\":true,\"lakecolor\":\"white\"},\"title\":{\"x\":0.05},\"mapbox\":{\"style\":\"light\"}}},\"xaxis\":{\"anchor\":\"y\",\"domain\":[0.0,0.2125],\"title\":{\"text\":\"Year\"}},\"yaxis\":{\"anchor\":\"x\",\"domain\":[0.84375,1.0],\"title\":{\"text\":\"Price to Income Ratio\"}},\"xaxis2\":{\"anchor\":\"y2\",\"domain\":[0.2625,0.475],\"title\":{\"text\":\"Year\"}},\"yaxis2\":{\"anchor\":\"x2\",\"domain\":[0.84375,1.0],\"title\":{\"text\":\"Gross Rental Yield City Centre\"}},\"xaxis3\":{\"anchor\":\"y3\",\"domain\":[0.525,0.7375],\"title\":{\"text\":\"Year\"}},\"yaxis3\":{\"anchor\":\"x3\",\"domain\":[0.84375,1.0],\"title\":{\"text\":\"Gross Rental Yield Outside Centre\"}},\"xaxis4\":{\"anchor\":\"y4\",\"domain\":[0.7875,1.0],\"title\":{\"text\":\"Year\"}},\"yaxis4\":{\"anchor\":\"x4\",\"domain\":[0.84375,1.0],\"title\":{\"text\":\"Price to Rent Ratio City Centre\"}},\"xaxis5\":{\"anchor\":\"y5\",\"domain\":[0.0,0.2125],\"title\":{\"text\":\"Year\"}},\"yaxis5\":{\"anchor\":\"x5\",\"domain\":[0.5625,0.71875],\"title\":{\"text\":\"Price to Rent Ratio Outside City Centre\"}},\"xaxis6\":{\"anchor\":\"y6\",\"domain\":[0.2625,0.475],\"title\":{\"text\":\"Year\"}},\"yaxis6\":{\"anchor\":\"x6\",\"domain\":[0.5625,0.71875],\"title\":{\"text\":\"Mortgage as a Percentage of Income\"}},\"xaxis7\":{\"anchor\":\"y7\",\"domain\":[0.525,0.7375],\"title\":{\"text\":\"Year\"}},\"yaxis7\":{\"anchor\":\"x7\",\"domain\":[0.5625,0.71875],\"title\":{\"text\":\"Affordability Index\"}},\"xaxis8\":{\"anchor\":\"y8\",\"domain\":[0.7875,1.0],\"title\":{\"text\":\"Year\"}},\"yaxis8\":{\"anchor\":\"x8\",\"domain\":[0.5625,0.71875],\"title\":{\"text\":\"Crime Index\"}},\"xaxis9\":{\"anchor\":\"y9\",\"domain\":[0.0,0.2125],\"title\":{\"text\":\"Year\"}},\"yaxis9\":{\"anchor\":\"x9\",\"domain\":[0.28125,0.4375],\"title\":{\"text\":\"Safety Index\"}},\"xaxis10\":{\"anchor\":\"y10\",\"domain\":[0.2625,0.475],\"title\":{\"text\":\"Year\"}},\"yaxis10\":{\"anchor\":\"x10\",\"domain\":[0.28125,0.4375],\"title\":{\"text\":\"Cost of Living Index\"}},\"xaxis11\":{\"anchor\":\"y11\",\"domain\":[0.525,0.7375],\"title\":{\"text\":\"Year\"}},\"yaxis11\":{\"anchor\":\"x11\",\"domain\":[0.28125,0.4375],\"title\":{\"text\":\"Rent Index\"}},\"xaxis12\":{\"anchor\":\"y12\",\"domain\":[0.7875,1.0],\"title\":{\"text\":\"Year\"}},\"yaxis12\":{\"anchor\":\"x12\",\"domain\":[0.28125,0.4375],\"title\":{\"text\":\"Cost of Living Plus Rent Index\"}},\"xaxis13\":{\"anchor\":\"y13\",\"domain\":[0.0,0.2125],\"title\":{\"text\":\"Year\"}},\"yaxis13\":{\"anchor\":\"x13\",\"domain\":[0.0,0.15625],\"title\":{\"text\":\"Groceries Index\"}},\"xaxis14\":{\"anchor\":\"y14\",\"domain\":[0.2625,0.475],\"title\":{\"text\":\"Year\"}},\"yaxis14\":{\"anchor\":\"x14\",\"domain\":[0.0,0.15625],\"title\":{\"text\":\"Restaurant Index\"}},\"xaxis15\":{\"anchor\":\"y15\",\"domain\":[0.525,0.7375],\"title\":{\"text\":\"Year\"}},\"yaxis15\":{\"anchor\":\"x15\",\"domain\":[0.0,0.15625],\"title\":{\"text\":\"Local Purchasing Power Index\"}},\"xaxis16\":{\"anchor\":\"y16\",\"domain\":[0.7875,1.0]},\"yaxis16\":{\"anchor\":\"x16\",\"domain\":[0.0,0.15625]},\"annotations\":[{\"font\":{\"size\":16},\"showarrow\":false,\"text\":\"Price to Income Ratio\",\"x\":0.10625,\"xanchor\":\"center\",\"xref\":\"paper\",\"y\":1.0,\"yanchor\":\"bottom\",\"yref\":\"paper\"},{\"font\":{\"size\":16},\"showarrow\":false,\"text\":\"Gross Rental Yield City Centre\",\"x\":0.36875,\"xanchor\":\"center\",\"xref\":\"paper\",\"y\":1.0,\"yanchor\":\"bottom\",\"yref\":\"paper\"},{\"font\":{\"size\":16},\"showarrow\":false,\"text\":\"Gross Rental Yield Outside Centre\",\"x\":0.6312500000000001,\"xanchor\":\"center\",\"xref\":\"paper\",\"y\":1.0,\"yanchor\":\"bottom\",\"yref\":\"paper\"},{\"font\":{\"size\":16},\"showarrow\":false,\"text\":\"Price to Rent Ratio City Centre\",\"x\":0.89375,\"xanchor\":\"center\",\"xref\":\"paper\",\"y\":1.0,\"yanchor\":\"bottom\",\"yref\":\"paper\"},{\"font\":{\"size\":16},\"showarrow\":false,\"text\":\"Price to Rent Ratio Outside City Centre\",\"x\":0.10625,\"xanchor\":\"center\",\"xref\":\"paper\",\"y\":0.71875,\"yanchor\":\"bottom\",\"yref\":\"paper\"},{\"font\":{\"size\":16},\"showarrow\":false,\"text\":\"Mortgage as a Percentage of Income\",\"x\":0.36875,\"xanchor\":\"center\",\"xref\":\"paper\",\"y\":0.71875,\"yanchor\":\"bottom\",\"yref\":\"paper\"},{\"font\":{\"size\":16},\"showarrow\":false,\"text\":\"Affordability Index\",\"x\":0.6312500000000001,\"xanchor\":\"center\",\"xref\":\"paper\",\"y\":0.71875,\"yanchor\":\"bottom\",\"yref\":\"paper\"},{\"font\":{\"size\":16},\"showarrow\":false,\"text\":\"Crime Index\",\"x\":0.89375,\"xanchor\":\"center\",\"xref\":\"paper\",\"y\":0.71875,\"yanchor\":\"bottom\",\"yref\":\"paper\"},{\"font\":{\"size\":16},\"showarrow\":false,\"text\":\"Safety Index\",\"x\":0.10625,\"xanchor\":\"center\",\"xref\":\"paper\",\"y\":0.4375,\"yanchor\":\"bottom\",\"yref\":\"paper\"},{\"font\":{\"size\":16},\"showarrow\":false,\"text\":\"Cost of Living Index\",\"x\":0.36875,\"xanchor\":\"center\",\"xref\":\"paper\",\"y\":0.4375,\"yanchor\":\"bottom\",\"yref\":\"paper\"},{\"font\":{\"size\":16},\"showarrow\":false,\"text\":\"Rent Index\",\"x\":0.6312500000000001,\"xanchor\":\"center\",\"xref\":\"paper\",\"y\":0.4375,\"yanchor\":\"bottom\",\"yref\":\"paper\"},{\"font\":{\"size\":16},\"showarrow\":false,\"text\":\"Cost of Living Plus Rent Index\",\"x\":0.89375,\"xanchor\":\"center\",\"xref\":\"paper\",\"y\":0.4375,\"yanchor\":\"bottom\",\"yref\":\"paper\"},{\"font\":{\"size\":16},\"showarrow\":false,\"text\":\"Groceries Index\",\"x\":0.10625,\"xanchor\":\"center\",\"xref\":\"paper\",\"y\":0.15625,\"yanchor\":\"bottom\",\"yref\":\"paper\"},{\"font\":{\"size\":16},\"showarrow\":false,\"text\":\"Restaurant Index\",\"x\":0.36875,\"xanchor\":\"center\",\"xref\":\"paper\",\"y\":0.15625,\"yanchor\":\"bottom\",\"yref\":\"paper\"},{\"font\":{\"size\":16},\"showarrow\":false,\"text\":\"Local Purchasing Power Index\",\"x\":0.6312500000000001,\"xanchor\":\"center\",\"xref\":\"paper\",\"y\":0.15625,\"yanchor\":\"bottom\",\"yref\":\"paper\"}],\"title\":{\"text\":\"Vancouver, Canada\"},\"height\":1500,\"width\":1500},                        {\"responsive\": true}                    ).then(function(){\n",
       "                            \n",
       "var gd = document.getElementById('e28bb4ac-b18e-46ef-a1f9-ea13e0e16d7f');\n",
       "var x = new MutationObserver(function (mutations, observer) {{\n",
       "        var display = window.getComputedStyle(gd).display;\n",
       "        if (!display || display === 'none') {{\n",
       "            console.log([gd, 'removed!']);\n",
       "            Plotly.purge(gd);\n",
       "            observer.disconnect();\n",
       "        }}\n",
       "}});\n",
       "\n",
       "// Listen for the removal of the full notebook cells\n",
       "var notebookContainer = gd.closest('#notebook-container');\n",
       "if (notebookContainer) {{\n",
       "    x.observe(notebookContainer, {childList: true});\n",
       "}}\n",
       "\n",
       "// Listen for the clearing of the current output cell\n",
       "var outputEl = gd.closest('.output');\n",
       "if (outputEl) {{\n",
       "    x.observe(outputEl, {childList: true});\n",
       "}}\n",
       "\n",
       "                        })                };                });            </script>        </div>"
      ]
     },
     "metadata": {},
     "output_type": "display_data"
    }
   ],
   "source": [
    "for city in cities:\n",
    "    selected_city_df = merged_df[merged_df[\"City\"] == city].sort_values(\n",
    "        \"Year\", ascending=True\n",
    "    )\n",
    "    selected_city_df.drop(columns=[\"City\"], inplace=True)\n",
    "    plot_graph(selected_city_df, city)"
   ]
  },
  {
   "cell_type": "markdown",
   "metadata": {},
   "source": [
    "As an investor:\n",
    "- Price to income ratio:\n",
    "    - Higher the ratio:\n",
    "        - Potential appreciation: High price-to-income ratios often occur in desirable areas with strong demand (e.g., large cities), which could lead to property appreciation over time.\n",
    "        - Limited rental pool: The higher prices may mean fewer local residents can afford to buy homes, increasing the demand for rentals. However, if rents can't rise with property prices, this could limit your rental income.\n",
    "        - Risk of market correction: In extreme cases, a high ratio can signal a housing bubble, increasing the risk of price drops in the future.\n",
    "    - Lower the ratio:\n",
    "        - Limited appreciation: These markets may not see as much property value appreciation compared to high-ratio markets, making it better for investors focused on income rather than capital gains\n",
    "        - Better cash flow: Properties with lower price-to-income ratios might be more affordable to purchase and could still offer strong rental income. This leads to better cash flow.\n",
    "        - Steadier rental demand: In markets with a low ratio, more people may be able to afford to rent or buy, which could keep rental demand steady.\n",
    "- Price to rent ratio:\n",
    "    - The higher the ratio: indicates that property prices are rising faster than rents\n",
    "    - The lower the ratio: Generally more favorable for investors focused on cash flow, as you’re getting more rental income for the price of the property.\n",
    "- Gross rental yield:\n",
    "    - Higher the yield: The better the cash flow\n",
    "    - Lower the yield: The lower the cash flow\n",
    "    - Industry Benchmark: A gross rental yield of 5-8% is often considered reasonable for residential properties, though this can vary widely by market. For example, urban areas with high appreciation potential may have yields under 5%, while properties in more affordable or emerging markets may have yields above 8%.\n",
    "- Mortgage as a percentage of income:\n",
    "    - Low Mortgage-to-Income Ratio:\n",
    "        - More cash flow, less risk, less leverage\n",
    "    - High mortgage-to-income ratio:\n",
    "        - Less cash flow, more risk, more leverage"
   ]
  }
 ],
 "metadata": {
  "kernelspec": {
   "display_name": "numbeo",
   "language": "python",
   "name": "python3"
  },
  "language_info": {
   "codemirror_mode": {
    "name": "ipython",
    "version": 3
   },
   "file_extension": ".py",
   "mimetype": "text/x-python",
   "name": "python",
   "nbconvert_exporter": "python",
   "pygments_lexer": "ipython3",
   "version": "3.10.12"
  }
 },
 "nbformat": 4,
 "nbformat_minor": 2
}
